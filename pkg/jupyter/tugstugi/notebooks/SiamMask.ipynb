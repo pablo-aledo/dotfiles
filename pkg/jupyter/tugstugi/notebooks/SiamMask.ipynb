{
  "nbformat": 4,
  "nbformat_minor": 0,
  "metadata": {
    "colab": {
      "name": "SiamMask.ipynb",
      "version": "0.3.2",
      "provenance": [],
      "collapsed_sections": []
    },
    "kernelspec": {
      "name": "python3",
      "display_name": "Python 3"
    },
    "accelerator": "GPU"
  },
  "cells": [
    {
      "cell_type": "markdown",
      "metadata": {
        "id": "ZMUdgWmTFWEs",
        "colab_type": "text"
      },
      "source": [
        "# Track/Segment Person with SiamMask\n",
        "\n",
        "This notebook uses an open source project [SiamMask](https://github.com/foolwood/SiamMask) to track and to segment a single person on a given youtube video.\n",
        "\n",
        "For other deep-learning Colab notebooks, visit [tugstugi/dl-colab-notebooks](https://github.com/tugstugi/dl-colab-notebooks).\n",
        "\n",
        "\n",
        "## Install SiamMask"
      ]
    },
    {
      "cell_type": "code",
      "metadata": {
        "id": "JQVH0gE47FE9",
        "colab_type": "code",
        "colab": {}
      },
      "source": [
        "import os\n",
        "from os.path import exists, join, basename, splitext\n",
        "\n",
        "git_repo_url = 'https://github.com/foolwood/SiamMask.git'\n",
        "project_name = splitext(basename(git_repo_url))[0]\n",
        "if not exists(project_name):\n",
        "  # clone and install dependencies\n",
        "  !git clone -q --depth 1 {git_repo_url}\n",
        "  !sed -i \"/torch/d\" {project_name}/requirements.txt\n",
        "  !cd {project_name} && pip install -q -r requirements.txt\n",
        "  !cd {project_name} && bash make.sh\n",
        "  !pip install -q youtube-dl\n",
        "  \n",
        "import sys\n",
        "sys.path.append(project_name)\n",
        "sys.path.append(join(project_name, 'experiments', 'siammask_sharp'))\n",
        "import time\n",
        "import matplotlib\n",
        "import matplotlib.pyplot as plt\n",
        "plt.rcParams[\"axes.grid\"] = False\n",
        "\n",
        "from IPython.display import YouTubeVideo\n",
        "\n",
        "import cv2\n",
        "import torchvision\n",
        "import cv2\n",
        "import numpy as np\n",
        "import torch\n",
        "torch.set_grad_enabled(False)\n",
        "\n",
        "from types import SimpleNamespace\n",
        "from custom import Custom\n",
        "from tools.test import *"
      ],
      "execution_count": 0,
      "outputs": []
    },
    {
      "cell_type": "markdown",
      "metadata": {
        "id": "ibzztWRQF3-f",
        "colab_type": "text"
      },
      "source": [
        "## Download pretrained weights and initialize SiamMask "
      ]
    },
    {
      "cell_type": "code",
      "metadata": {
        "id": "FbmT4eNY8ST6",
        "colab_type": "code",
        "colab": {}
      },
      "source": [
        "exp_path = join(project_name, 'experiments/siammask_sharp')\n",
        "pretrained_path1 = join(exp_path, 'SiamMask_DAVIS.pth')\n",
        "pretrained_path2 = join(exp_path, 'SiamMask_VOT.pth')\n",
        "\n",
        "# download pretrained weights\n",
        "if not exists(pretrained_path1):\n",
        "  !cd {exp_path} && wget http://www.robots.ox.ac.uk/~qwang/SiamMask_DAVIS.pth\n",
        "if not exists(pretrained_path2):\n",
        "  !cd {exp_path} && wget http://www.robots.ox.ac.uk/~qwang/SiamMask_VOT.pth\n",
        "    \n",
        "# init SiamMask\n",
        "device = torch.device('cuda' if torch.cuda.is_available() else 'cpu')\n",
        "cfg = load_config(SimpleNamespace(config=join(exp_path, 'config_davis.json')))\n",
        "siammask = Custom(anchors=cfg['anchors'])\n",
        "siammask = load_pretrain(siammask, pretrained_path1)\n",
        "siammask = siammask.eval().to(device)"
      ],
      "execution_count": 0,
      "outputs": []
    },
    {
      "cell_type": "markdown",
      "metadata": {
        "id": "fMJI7RgmF_xO",
        "colab_type": "text"
      },
      "source": [
        "## Track a person on a test video with SiamMask\n",
        "\n",
        "We are going to detect and track/segment a person on the following youtube video:"
      ]
    },
    {
      "cell_type": "code",
      "metadata": {
        "id": "cxFKSe_j9I_f",
        "colab_type": "code",
        "outputId": "3bbcca3b-52b8-4541-e740-786819c46400",
        "colab": {
          "base_uri": "https://localhost:8080/",
          "height": 321
        }
      },
      "source": [
        "YOUTUBE_ID = 'c_6-8kvLFCs'\n",
        "\n",
        "\n",
        "YouTubeVideo(YOUTUBE_ID)"
      ],
      "execution_count": 3,
      "outputs": [
        {
          "output_type": "execute_result",
          "data": {
            "text/html": [
              "\n",
              "        <iframe\n",
              "            width=\"400\"\n",
              "            height=\"300\"\n",
              "            src=\"https://www.youtube.com/embed/c_6-8kvLFCs\"\n",
              "            frameborder=\"0\"\n",
              "            allowfullscreen\n",
              "        ></iframe>\n",
              "        "
            ],
            "text/plain": [
              "<IPython.lib.display.YouTubeVideo at 0x7f9200767748>"
            ],
            "image/jpeg": "[encoded data removed]"
          },
          "metadata": {
            "tags": []
          },
          "execution_count": 3
        }
      ]
    },
    {
      "cell_type": "markdown",
      "metadata": {
        "id": "MJblYRLkGTU2",
        "colab_type": "text"
      },
      "source": [
        "Download the above youtube video and detect/track/segment a single person on the first 100 frames:"
      ]
    },
    {
      "cell_type": "code",
      "metadata": {
        "id": "G9pi9T2t_3fR",
        "colab_type": "code",
        "colab": {}
      },
      "source": [
        "!rm -rf youtube.mp4\n",
        "# download the youtube with the given ID\n",
        "!youtube-dl -f 'bestvideo[ext=mp4]' --output \"youtube.%(ext)s\" https://www.youtube.com/watch?v={YOUTUBE_ID}\n",
        "\n",
        "f = 0\n",
        "video_capture = cv2.VideoCapture()\n",
        "if video_capture.open('youtube.mp4'):\n",
        "  width, height = int(video_capture.get(cv2.CAP_PROP_FRAME_WIDTH)), int(video_capture.get(cv2.CAP_PROP_FRAME_HEIGHT))\n",
        "  fps = video_capture.get(cv2.CAP_PROP_FPS)\n",
        "  \n",
        "  !rm -f output.mp4 output.avi\n",
        "  # can't write out mp4, so try to write into an AVI file\n",
        "  video_writer = cv2.VideoWriter(\"output.avi\", cv2.VideoWriter_fourcc(*'MJPG'), fps, (width, height))\n",
        "  \n",
        "  while video_capture.isOpened():\n",
        "    ret, frame = video_capture.read()\n",
        "    if not ret:\n",
        "      break\n",
        "\n",
        "    if f == 0:\n",
        "      # detect a person on the first frame with Mask R-CNN\n",
        "      maskrcnn = torchvision.models.detection.maskrcnn_resnet50_fpn(pretrained=True)\n",
        "      maskrcnn = maskrcnn.eval()\n",
        "      output = maskrcnn([torchvision.transforms.functional.to_tensor((frame[...,::-1] / 255).astype(np.float32))])[0]\n",
        "\n",
        "      target_pos, target_sz = None, None\n",
        "      for box, label, score in zip(output['boxes'], output['labels'], output['scores']):\n",
        "        # search for a person with atleast 70% probability\n",
        "        if score > 0.7 and label == 1:\n",
        "          box = box.numpy()\n",
        "          x, y = int(box[0]), int(box[1])\n",
        "          w, h = int(box[2]) - x, int(box[3]) - y\n",
        "          target_pos = np.array([x + w / 2, y + h / 2])\n",
        "          target_sz = np.array([w, h])\n",
        "          break\n",
        "      assert target_pos is not None, \"no person found on the first frame!\"\n",
        "      print(\"person found:\", target_pos, target_sz)\n",
        "      \n",
        "      # init tracker\n",
        "      state = siamese_init(frame, target_pos, target_sz, siammask, cfg['hp'], device=device)\n",
        "    else:\n",
        "      # track\n",
        "      state = siamese_track(state, frame, mask_enable=True, refine_enable=True, device=device)\n",
        "      location = state['ploygon'].flatten()\n",
        "      mask = state['mask'] > state['p'].seg_thr\n",
        "      \n",
        "      frame[:, :, 2] = (mask > 0) * 255 + (mask == 0) * frame[:, :, 2]\n",
        "      cv2.polylines(frame, [np.int0(location).reshape((-1, 1, 2))], True, (0, 255, 0), 3)\n",
        "      \n",
        "      video_writer.write(frame)\n",
        "  \n",
        "    f += 1\n",
        "    # only on first 100 frames\n",
        "    if f > 100:\n",
        "      break\n",
        "      \n",
        "  video_capture.release()\n",
        "  video_writer.release()\n",
        "  \n",
        "  # convert AVI to MP4\n",
        "  !ffmpeg -y -loglevel info -i output.avi output.mp4\n",
        "else:\n",
        "  print(\"can't open the given input video file!\")"
      ],
      "execution_count": 0,
      "outputs": []
    },
    {
      "cell_type": "markdown",
      "metadata": {
        "id": "KbqZEYmlGfQT",
        "colab_type": "text"
      },
      "source": [
        "Finally, visualize the result:"
      ]
    },
    {
      "cell_type": "code",
      "metadata": {
        "id": "ZPIkVY3uBqB4",
        "colab_type": "code",
        "colab": {}
      },
      "source": [
        "def show_local_mp4_video(file_name, width=640, height=480):\n",
        "  import io\n",
        "  import base64\n",
        "  from IPython.display import HTML\n",
        "  video_encoded = base64.b64encode(io.open(file_name, 'rb').read())\n",
        "  return HTML(data='''<video width=\"{0}\" height=\"{1}\" alt=\"test\" controls>\n",
        "                        <source src=\"data:video/mp4;base64,{2}\" type=\"video/mp4\" />\n",
        "                      </video>'''.format(width, height, video_encoded.decode('ascii')))\n",
        "\n",
        "show_local_mp4_video('output.mp4', width=960, height=720)"
      ],
      "execution_count": 0,
      "outputs": []
    }
  ]
}