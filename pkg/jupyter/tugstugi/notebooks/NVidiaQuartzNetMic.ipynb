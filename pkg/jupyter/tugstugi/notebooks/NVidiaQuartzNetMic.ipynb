{
  "nbformat": 4,
  "nbformat_minor": 0,
  "metadata": {
    "colab": {
      "name": "NVidiaQuartzNetMic.ipynb",
      "provenance": [],
      "collapsed_sections": [
        "T2vo8WzaYUsv",
        "RnWsQf3tca1s"
      ]
    },
    "kernelspec": {
      "name": "python3",
      "display_name": "Python 3"
    },
    "accelerator": "GPU"
  },
  "cells": [
    {
      "cell_type": "markdown",
      "metadata": {
        "id": "AqbavpcQXAly",
        "colab_type": "text"
      },
      "source": [
        "# Speech Recognition with QuartzNet\n",
        "\n",
        "This notebook uses [QuartzNet](https://arxiv.org/abs/1910.10261) from the open source project [NVIDIA/NeMo](https://github.com/NVIDIA/NeMo) to transcribe a given youtube video.\n",
        "\n",
        "For other deep-learning Colab notebooks, visit [tugstugi/dl-colab-notebooks](https://github.com/tugstugi/dl-colab-notebooks).\n",
        "\n",
        "\n",
        "## Install NVIDIA/QuartzNet"
      ]
    },
    {
      "cell_type": "code",
      "metadata": {
        "id": "gyHl_pAPX8i2",
        "colab_type": "code",
        "cellView": "form",
        "colab": {}
      },
      "source": [
        "#@title\n",
        "import os\n",
        "from os.path import exists, join, basename, splitext\n",
        "\n",
        "!pip -q install wget youtube-dl wget tensorboardX kaldi-io marshmallow num2words ruamel.yaml soundfile sox torch-stft unidecode\n",
        "!pip install -q nemo-toolkit==0.9.0 nemo-asr==0.9.0 #--no-deps\n",
        "\n",
        "# we need also Apex\n",
        "if not exists('apex'):\n",
        "  !git clone -q --depth 1 https://github.com/NVIDIA/apex\n",
        "  !cd apex && pip install -q --no-cache-dir ./\n",
        "  !pip install -q https://github.com/tugstugi/dl-colab-notebooks/archive/colab_utils.zip\n",
        "\n",
        "from IPython.display import Audio, display, clear_output\n",
        "import ipywidgets as widgets\n",
        "import numpy as np\n",
        "from scipy.io import wavfile\n",
        "from dl_colab_notebooks.audio import record_audio, upload_audio"
      ],
      "execution_count": 0,
      "outputs": []
    },
    {
      "cell_type": "markdown",
      "metadata": {
        "id": "T2vo8WzaYUsv",
        "colab_type": "text"
      },
      "source": [
        "## Download pretrained weights"
      ]
    },
    {
      "cell_type": "code",
      "metadata": {
        "id": "ktXeABjLYb70",
        "colab_type": "code",
        "cellView": "form",
        "colab": {}
      },
      "source": [
        "#@title\n",
        "if not exists('quartznet15x5_multidataset'):\n",
        "  # download the pretrained weights\n",
        "  !wget -nc -q --show-progress -O quartznet15x5.zip https://api.ngc.nvidia.com/v2/models/nvidia/multidataset_quartznet15x5/versions/1/zip\n",
        "  !unzip quartznet15x5.zip && mkdir quartznet15x5_multidataset && mv Jasper* quartznet15x5.yaml quartznet15x5_multidataset"
      ],
      "execution_count": 0,
      "outputs": []
    },
    {
      "cell_type": "markdown",
      "metadata": {
        "id": "RnWsQf3tca1s",
        "colab_type": "text"
      },
      "source": [
        "## Initialize QuartzNet"
      ]
    },
    {
      "cell_type": "code",
      "metadata": {
        "id": "zr6MuuWYaZQk",
        "colab_type": "code",
        "cellView": "form",
        "colab": {}
      },
      "source": [
        "#@title\n",
        "#\n",
        "# this code is copied and modified from the NVIDIA/NeMo repo.\n",
        "#\n",
        "\n",
        "import json\n",
        "from ruamel.yaml import YAML\n",
        "import nemo\n",
        "import nemo_asr\n",
        "\n",
        "WORK_DIR = \"/content/quartznet15x5_multidataset\"\n",
        "MODEL_YAML = \"/content/quartznet15x5_multidataset/quartznet15x5.yaml\"\n",
        "CHECKPOINT_ENCODER = \"/content/quartznet15x5_multidataset/JasperEncoder-STEP-243800.pt\"\n",
        "CHECKPOINT_DECODER = \"/content/quartznet15x5_multidataset/JasperDecoderForCTC-STEP-243800.pt\"\n",
        "# Set this to True to enable beam search decoder\n",
        "ENABLE_NGRAM = False\n",
        "# This is only necessary if ENABLE_NGRAM = True. Otherwise, set to empty string\n",
        "LM_PATH = \"<PATH_TO_KENLM_BINARY>\"\n",
        "\n",
        "# Read model YAML\n",
        "yaml = YAML(typ=\"safe\")\n",
        "with open(MODEL_YAML) as f:\n",
        "    jasper_model_definition = yaml.load(f)\n",
        "labels = jasper_model_definition['labels']\n",
        "\n",
        "# Instantiate necessary Neural Modules\n",
        "# Note that data layer is missing from here\n",
        "neural_factory = nemo.core.NeuralModuleFactory(\n",
        "    placement=nemo.core.DeviceType.GPU,\n",
        "    backend=nemo.core.Backend.PyTorch)\n",
        "data_preprocessor = nemo_asr.AudioToMelSpectrogramPreprocessor(factory=neural_factory)\n",
        "jasper_encoder = nemo_asr.JasperEncoder(\n",
        "    jasper=jasper_model_definition['JasperEncoder']['jasper'],\n",
        "    activation=jasper_model_definition['JasperEncoder']['activation'],\n",
        "    feat_in=jasper_model_definition['AudioToMelSpectrogramPreprocessor']['features'])\n",
        "jasper_encoder.restore_from(CHECKPOINT_ENCODER, local_rank=0)\n",
        "jasper_decoder = nemo_asr.JasperDecoderForCTC(\n",
        "    feat_in=1024,\n",
        "    num_classes=len(labels))\n",
        "jasper_decoder.restore_from(CHECKPOINT_DECODER, local_rank=0)\n",
        "greedy_decoder = nemo_asr.GreedyCTCDecoder()\n",
        "\n",
        "def wav_to_text(manifest, greedy=True):\n",
        "    from ruamel.yaml import YAML\n",
        "    yaml = YAML(typ=\"safe\")\n",
        "    with open(MODEL_YAML) as f:\n",
        "        jasper_model_definition = yaml.load(f)\n",
        "    labels = jasper_model_definition['labels']\n",
        "\n",
        "    # Instantiate necessary neural modules\n",
        "    data_layer = nemo_asr.AudioToTextDataLayer(\n",
        "        shuffle=False,\n",
        "        manifest_filepath=manifest,\n",
        "        labels=labels, batch_size=1)\n",
        "\n",
        "    # Define inference DAG\n",
        "    audio_signal, audio_signal_len, _, _ = data_layer()\n",
        "    processed_signal, processed_signal_len = data_preprocessor(\n",
        "        input_signal=audio_signal,\n",
        "        length=audio_signal_len)\n",
        "    encoded, encoded_len = jasper_encoder(audio_signal=processed_signal,\n",
        "                                          length=processed_signal_len)\n",
        "    log_probs = jasper_decoder(encoder_output=encoded)\n",
        "    predictions = greedy_decoder(log_probs=log_probs)\n",
        "\n",
        "    if ENABLE_NGRAM:\n",
        "        print('Running with beam search')\n",
        "        beam_predictions = beam_search_with_lm(\n",
        "            log_probs=log_probs, log_probs_length=encoded_len)\n",
        "        eval_tensors = [beam_predictions]\n",
        "\n",
        "    if greedy:\n",
        "        eval_tensors = [predictions]\n",
        "\n",
        "    tensors = neural_factory.infer(tensors=eval_tensors)\n",
        "    if greedy:\n",
        "        from nemo_asr.helpers import post_process_predictions\n",
        "        prediction = post_process_predictions(tensors[0], labels)\n",
        "    else:\n",
        "        prediction = tensors[0][0][0][0][1]\n",
        "    return prediction\n",
        "\n",
        "def create_manifest(file_path):\n",
        "    # create manifest\n",
        "    manifest = dict()\n",
        "    manifest['audio_filepath'] = file_path\n",
        "    manifest['duration'] = 18000\n",
        "    manifest['text'] = 'todo'\n",
        "    with open(file_path+\".json\", 'w') as fout:\n",
        "        fout.write(json.dumps(manifest))\n",
        "    return file_path+\".json\""
      ],
      "execution_count": 0,
      "outputs": []
    },
    {
      "cell_type": "markdown",
      "metadata": {
        "id": "fwCAY_mbf66e",
        "colab_type": "text"
      },
      "source": [
        "## Record or Upload Speech"
      ]
    },
    {
      "cell_type": "code",
      "metadata": {
        "colab_type": "code",
        "id": "LMp5dQ5ZbtBU",
        "cellView": "form",
        "colab": {}
      },
      "source": [
        "#@markdown * Either record audio from microphone or upload audio from file (.mp3 or .wav) \n",
        "\n",
        "SAMPLE_RATE = 16000\n",
        "record_or_upload = \"Record\" #@param [\"Record\", \"Upload (.mp3 or .wav)\"]\n",
        "record_seconds =   10#@param {type:\"number\", min:1, max:10, step:1}\n",
        "\n",
        "def _recognize(audio):\n",
        "  display(Audio(audio, rate=SAMPLE_RATE, autoplay=True))\n",
        "  wavfile.write('test.wav', SAMPLE_RATE, (32767*audio).astype(np.int16))\n",
        "\n",
        "  print('\\n')\n",
        "  transcription = wav_to_text(create_manifest('test.wav'))\n",
        "  print('\\n\\n')\n",
        "  print(transcription)\n",
        "\n",
        "\n",
        "def _record_audio(b):\n",
        "  clear_output()\n",
        "  audio = record_audio(record_seconds, sample_rate=SAMPLE_RATE)\n",
        "  _recognize(audio)\n",
        "def _upload_audio(b):\n",
        "  clear_output()\n",
        "  audio = upload_audio(sample_rate=SAMPLE_RATE)\n",
        "  _recognize(audio)\n",
        "\n",
        "if record_or_upload == \"Record\":\n",
        "  button = widgets.Button(description=\"Record Speech\")\n",
        "  button.on_click(_record_audio)\n",
        "  display(button)\n",
        "else:\n",
        "  _upload_audio(\"\")"
      ],
      "execution_count": 0,
      "outputs": []
    }
  ]
}