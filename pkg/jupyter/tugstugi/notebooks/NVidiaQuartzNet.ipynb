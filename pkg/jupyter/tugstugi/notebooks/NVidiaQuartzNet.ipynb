{
  "nbformat": 4,
  "nbformat_minor": 0,
  "metadata": {
    "colab": {
      "name": "NVidiaQuartzNet.ipynb",
      "provenance": [],
      "collapsed_sections": [
        "T2vo8WzaYUsv",
        "RnWsQf3tca1s"
      ]
    },
    "kernelspec": {
      "name": "python3",
      "display_name": "Python 3"
    },
    "accelerator": "GPU"
  },
  "cells": [
    {
      "cell_type": "markdown",
      "metadata": {
        "id": "AqbavpcQXAly",
        "colab_type": "text"
      },
      "source": [
        "# Speech Recognition with QuartzNet\n",
        "\n",
        "This notebook uses [QuartzNet](https://arxiv.org/abs/1910.10261) from the open source project [NVIDIA/NeMo](https://github.com/NVIDIA/NeMo) to transcribe a given youtube video.\n",
        "\n",
        "For other deep-learning Colab notebooks, visit [tugstugi/dl-colab-notebooks](https://github.com/tugstugi/dl-colab-notebooks).\n",
        "\n",
        "\n",
        "## Install NVIDIA/QuartzNet"
      ]
    },
    {
      "cell_type": "code",
      "metadata": {
        "id": "gyHl_pAPX8i2",
        "colab_type": "code",
        "cellView": "form",
        "colab": {}
      },
      "source": [
        "#@title\n",
        "import os\n",
        "from os.path import exists, join, basename, splitext\n",
        "from IPython.display import YouTubeVideo\n",
        "\n",
        "!pip -q install wget youtube-dl wget tensorboardX kaldi-io marshmallow num2words ruamel.yaml soundfile sox torch-stft unidecode\n",
        "!pip install -q nemo-toolkit==0.9.0 nemo-asr==0.9.0 #--no-deps\n",
        "\n",
        "# we need also Apex\n",
        "if not exists('apex'):\n",
        "  !git clone -q --depth 1 https://github.com/NVIDIA/apex\n",
        "  !cd apex && pip install -q --no-cache-dir ./"
      ],
      "execution_count": 0,
      "outputs": []
    },
    {
      "cell_type": "markdown",
      "metadata": {
        "id": "T2vo8WzaYUsv",
        "colab_type": "text"
      },
      "source": [
        "## Download pretrained weights"
      ]
    },
    {
      "cell_type": "code",
      "metadata": {
        "id": "ktXeABjLYb70",
        "colab_type": "code",
        "cellView": "form",
        "colab": {}
      },
      "source": [
        "#@title\n",
        "if not exists('quartznet15x5_multidataset'):\n",
        "  # download the pretrained weights\n",
        "  !wget -nc -q --show-progress -O quartznet15x5.zip https://api.ngc.nvidia.com/v2/models/nvidia/multidataset_quartznet15x5/versions/1/zip\n",
        "  !unzip quartznet15x5.zip && mkdir quartznet15x5_multidataset && mv Jasper* quartznet15x5.yaml quartznet15x5_multidataset"
      ],
      "execution_count": 0,
      "outputs": []
    },
    {
      "cell_type": "markdown",
      "metadata": {
        "id": "RnWsQf3tca1s",
        "colab_type": "text"
      },
      "source": [
        "## Initialize QuartzNet"
      ]
    },
    {
      "cell_type": "code",
      "metadata": {
        "id": "zr6MuuWYaZQk",
        "colab_type": "code",
        "cellView": "form",
        "colab": {}
      },
      "source": [
        "#@title\n",
        "#\n",
        "# this code is copied and modified from the NVIDIA/NeMo repo.\n",
        "#\n",
        "\n",
        "import json\n",
        "from ruamel.yaml import YAML\n",
        "import nemo\n",
        "import nemo_asr\n",
        "\n",
        "WORK_DIR = \"/content/quartznet15x5_multidataset\"\n",
        "MODEL_YAML = \"/content/quartznet15x5_multidataset/quartznet15x5.yaml\"\n",
        "CHECKPOINT_ENCODER = \"/content/quartznet15x5_multidataset/JasperEncoder-STEP-243800.pt\"\n",
        "CHECKPOINT_DECODER = \"/content/quartznet15x5_multidataset/JasperDecoderForCTC-STEP-243800.pt\"\n",
        "# Set this to True to enable beam search decoder\n",
        "ENABLE_NGRAM = False\n",
        "# This is only necessary if ENABLE_NGRAM = True. Otherwise, set to empty string\n",
        "LM_PATH = \"<PATH_TO_KENLM_BINARY>\"\n",
        "\n",
        "# Read model YAML\n",
        "yaml = YAML(typ=\"safe\")\n",
        "with open(MODEL_YAML) as f:\n",
        "    jasper_model_definition = yaml.load(f)\n",
        "labels = jasper_model_definition['labels']\n",
        "\n",
        "# Instantiate necessary Neural Modules\n",
        "# Note that data layer is missing from here\n",
        "neural_factory = nemo.core.NeuralModuleFactory(\n",
        "    placement=nemo.core.DeviceType.GPU,\n",
        "    backend=nemo.core.Backend.PyTorch)\n",
        "data_preprocessor = nemo_asr.AudioToMelSpectrogramPreprocessor(factory=neural_factory)\n",
        "jasper_encoder = nemo_asr.JasperEncoder(\n",
        "    jasper=jasper_model_definition['JasperEncoder']['jasper'],\n",
        "    activation=jasper_model_definition['JasperEncoder']['activation'],\n",
        "    feat_in=jasper_model_definition['AudioToMelSpectrogramPreprocessor']['features'])\n",
        "jasper_encoder.restore_from(CHECKPOINT_ENCODER, local_rank=0)\n",
        "jasper_decoder = nemo_asr.JasperDecoderForCTC(\n",
        "    feat_in=1024,\n",
        "    num_classes=len(labels))\n",
        "jasper_decoder.restore_from(CHECKPOINT_DECODER, local_rank=0)\n",
        "greedy_decoder = nemo_asr.GreedyCTCDecoder()\n",
        "\n",
        "def wav_to_text(manifest, greedy=True):\n",
        "    from ruamel.yaml import YAML\n",
        "    yaml = YAML(typ=\"safe\")\n",
        "    with open(MODEL_YAML) as f:\n",
        "        jasper_model_definition = yaml.load(f)\n",
        "    labels = jasper_model_definition['labels']\n",
        "\n",
        "    # Instantiate necessary neural modules\n",
        "    data_layer = nemo_asr.AudioToTextDataLayer(\n",
        "        shuffle=False,\n",
        "        manifest_filepath=manifest,\n",
        "        labels=labels, batch_size=1)\n",
        "\n",
        "    # Define inference DAG\n",
        "    audio_signal, audio_signal_len, _, _ = data_layer()\n",
        "    processed_signal, processed_signal_len = data_preprocessor(\n",
        "        input_signal=audio_signal,\n",
        "        length=audio_signal_len)\n",
        "    encoded, encoded_len = jasper_encoder(audio_signal=processed_signal,\n",
        "                                          length=processed_signal_len)\n",
        "    log_probs = jasper_decoder(encoder_output=encoded)\n",
        "    predictions = greedy_decoder(log_probs=log_probs)\n",
        "\n",
        "    if ENABLE_NGRAM:\n",
        "        print('Running with beam search')\n",
        "        beam_predictions = beam_search_with_lm(\n",
        "            log_probs=log_probs, log_probs_length=encoded_len)\n",
        "        eval_tensors = [beam_predictions]\n",
        "\n",
        "    if greedy:\n",
        "        eval_tensors = [predictions]\n",
        "\n",
        "    tensors = neural_factory.infer(tensors=eval_tensors)\n",
        "    if greedy:\n",
        "        from nemo_asr.helpers import post_process_predictions\n",
        "        prediction = post_process_predictions(tensors[0], labels)\n",
        "    else:\n",
        "        prediction = tensors[0][0][0][0][1]\n",
        "    return prediction\n",
        "\n",
        "def create_manifest(file_path):\n",
        "    # create manifest\n",
        "    manifest = dict()\n",
        "    manifest['audio_filepath'] = file_path\n",
        "    manifest['duration'] = 18000\n",
        "    manifest['text'] = 'todo'\n",
        "    with open(file_path+\".json\", 'w') as fout:\n",
        "        fout.write(json.dumps(manifest))\n",
        "    return file_path+\".json\""
      ],
      "execution_count": 0,
      "outputs": []
    },
    {
      "cell_type": "markdown",
      "metadata": {
        "id": "OuueUP2gd6d3",
        "colab_type": "text"
      },
      "source": [
        "## Transcribe Youtube Video\n",
        "\n",
        "We are going to make speech recognition on the following youtube video:"
      ]
    },
    {
      "cell_type": "code",
      "metadata": {
        "id": "qGa5g-12d7ts",
        "colab_type": "code",
        "outputId": "9540678a-ff27-43e3-d470-efb917752043",
        "cellView": "both",
        "colab": {
          "base_uri": "https://localhost:8080/",
          "height": 321
        }
      },
      "source": [
        "#@title\n",
        "YOUTUBE_ID = '2AFpAATHXtc'\n",
        "\n",
        "\n",
        "YouTubeVideo(YOUTUBE_ID)"
      ],
      "execution_count": 4,
      "outputs": [
        {
          "output_type": "execute_result",
          "data": {
            "text/html": [
              "\n",
              "        <iframe\n",
              "            width=\"400\"\n",
              "            height=\"300\"\n",
              "            src=\"https://www.youtube.com/embed/2AFpAATHXtc\"\n",
              "            frameborder=\"0\"\n",
              "            allowfullscreen\n",
              "        ></iframe>\n",
              "        "
            ],
            "text/plain": [
              "<IPython.lib.display.YouTubeVideo at 0x7f84104784a8>"
            ],
            "image/jpeg": "[encoded data removed]"
          },
          "metadata": {
            "tags": []
          },
          "execution_count": 4
        }
      ]
    },
    {
      "cell_type": "markdown",
      "metadata": {
        "id": "UAGLtXnhegsU",
        "colab_type": "text"
      },
      "source": [
        "Download the above video, convert to a WAV file and do speech recognition with a language model:"
      ]
    },
    {
      "cell_type": "code",
      "metadata": {
        "id": "NTV6dpsdeDN0",
        "colab_type": "code",
        "outputId": "c6ba646a-639a-4c1b-c320-4bff99d94968",
        "cellView": "form",
        "colab": {
          "base_uri": "https://localhost:8080/",
          "height": 139
        }
      },
      "source": [
        "#@title\n",
        "!rm -rf *.wav\n",
        "!youtube-dl --extract-audio --audio-format wav --quiet --output \"downloaded.%(ext)s\" https://www.youtube.com/watch\\?v\\={YOUTUBE_ID}\n",
        "!ffmpeg -loglevel panic -y -i downloaded.wav -acodec pcm_s16le -ac 1 -ar 16000 test.wav\n",
        "\n",
        "transcription = wav_to_text(create_manifest('test.wav'))\n",
        "\n",
        "print('\\n\\n')\n",
        "print(transcription)"
      ],
      "execution_count": 5,
      "outputs": [
        {
          "output_type": "stream",
          "text": [
            "2020-04-13 14:25:08,253 - INFO - Dataset loaded with 5.00 hours. Filtered 0.00 hours.\n",
            "2020-04-13 14:25:08,290 - INFO - Evaluating batch 0 out of 1\n"
          ],
          "name": "stderr"
        },
        {
          "output_type": "stream",
          "text": [
            "\n",
            "\n",
            "\n",
            "[\"hi verybody in our house everybody knows that president is only the third most important job in the family so this week i i'm going to take a little extra time to say thank you to michel for the remarkable way she does the most important job being a mam and am going to give extra thanks to my mother in law for the role model he's always been to michele in the countless selfless ways in which she's helped wi shewing me raise moly ansasha i am incredibly lucky to have these wonderful women help me raise love and look after our girls i hope you'll also take a moment to say thank you to the women in your life who love you in that special way mom's do bi logical moms medoptive moms and foster mops single moms grandmas godmothers aunts mentors whomever you think of when you think of mother's day or take a moment like i will to remember the moms who raised us whose big hearts sustained us and whom we miss every day no matter how old we get giving flowers is always a good idea but i hope that on this mother's day will recommit ourselves to doing more than that through deeds that match our words let's give mothers the respect they desert give all women the equality they deserve and give all parents the support they need in their most important roles that includes paid maternity and paternity leaf sick leaf accommodations for workers who are pregnant good healthcare affordable child care flexibility at work the equal pay and a decent minimum wage we ask our moms to do more than their fair share of just about everything making shure there treated fairly is the least we can do the idea of setting aside a sunday in may for our mothers became an official holiday with a congressional resolution a little more than a hundred years ago they did it on my eighth the same day will celebrate mother's day this year if congress can make a holiday surely they could mack it up with the things they given me after all that's what my mother taught me i couldn't just say i was going to do the right thing or say i agreed with it on principle i'd actually do it so this mother's day say thank you say i love you and let's make sure we show that gratitude and appreciation through acts of respect throughout the year no one deserves that more than our moms happy mother's day and have a great weekend\"]\n"
          ],
          "name": "stdout"
        }
      ]
    }
  ]
}