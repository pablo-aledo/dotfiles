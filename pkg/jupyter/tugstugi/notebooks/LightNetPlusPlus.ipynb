{
  "nbformat": 4,
  "nbformat_minor": 0,
  "metadata": {
    "colab": {
      "name": "LightNetPlusPlus.ipynb",
      "version": "0.3.2",
      "provenance": [],
      "collapsed_sections": []
    },
    "kernelspec": {
      "name": "python3",
      "display_name": "Python 3"
    },
    "accelerator": "GPU"
  },
  "cells": [
    {
      "cell_type": "markdown",
      "metadata": {
        "id": "ZMUdgWmTFWEs",
        "colab_type": "text"
      },
      "source": [
        "# Real Time Semantic Segmentation with LightNet++\n",
        "\n",
        "This notebook uses an open source project [LightNet++](https://github.com/ansleliu/LightNetPlusPlus) to segment cars, streets etc. in YouTube videos.\n",
        "\n",
        "For other deep-learning Colab notebooks, visit [tugstugi/dl-colab-notebooks](https://github.com/tugstugi/dl-colab-notebooks).\n",
        "\n",
        "\n",
        "## Install LightNet++"
      ]
    },
    {
      "cell_type": "code",
      "metadata": {
        "id": "JQVH0gE47FE9",
        "colab_type": "code",
        "colab": {}
      },
      "source": [
        "import os\n",
        "from os.path import exists, join, basename, splitext\n",
        "\n",
        "git_repo_url = 'https://github.com/ansleliu/LightNetPlusPlus.git'\n",
        "project_name = splitext(basename(git_repo_url))[0]\n",
        "if not exists(project_name):\n",
        "  # clone and install dependencies\n",
        "  !git clone -q --depth 1 {git_repo_url}\n",
        "  !pip install -q youtube-dl ninja\n",
        "  \n",
        "  # install NVidia/apex\n",
        "  !git clone -q --depth 1 https://github.com/NVIDIA/apex.git\n",
        "  !cd apex && pip install -v --no-cache-dir --global-option=\"--cpp_ext\" --global-option=\"--cuda_ext\" ./\n",
        "  \n",
        "import sys\n",
        "sys.path.append(project_name)\n",
        "import time\n",
        "import matplotlib\n",
        "import matplotlib.pyplot as plt\n",
        "plt.rcParams[\"axes.grid\"] = False\n",
        "\n",
        "from IPython.display import YouTubeVideo\n",
        "\n",
        "import cv2\n",
        "import numpy as np\n",
        "import torch\n",
        "torch.set_grad_enabled(False)\n",
        "\n",
        "\n",
        "import torchvision.transforms as transforms\n",
        "import torch.backends.cudnn as cudnn\n",
        "import torch.nn.functional as F\n",
        "import torch.nn as nn\n",
        "\n",
        "from modules.inplace_abn.iabn import InPlaceABNSync\n",
        "from functools import partial\n",
        "\n",
        "from apex.fp16_utils import *\n",
        "from apex import amp\n",
        "import apex\n",
        "\n",
        "cudnn.benchmark = True\n",
        "assert torch.backends.cudnn.enabled, \"fp16 mode requires cudnn backend to be enabled.\"\n",
        "amp_handle = amp.init(enabled=True)\n",
        "\n",
        "from models.shufflenetv2plus import ShuffleNetV2Plus"
      ],
      "execution_count": 0,
      "outputs": []
    },
    {
      "cell_type": "markdown",
      "metadata": {
        "id": "ibzztWRQF3-f",
        "colab_type": "text"
      },
      "source": [
        "## Initialize LightNet++ (ShuffleNet based) "
      ]
    },
    {
      "cell_type": "code",
      "metadata": {
        "id": "FbmT4eNY8ST6",
        "colab_type": "code",
        "colab": {}
      },
      "source": [
        "# initialize model\n",
        "model = ShuffleNetV2Plus(num_classes=19, fuse_chns=512, aspp_chns=256, aspp_dilate=(12, 24, 36), width_multi=1.0,\n",
        "                             norm_act=partial(InPlaceABNSync, activation=\"leaky_relu\", slope=0.01))\n",
        "model = apex.parallel.convert_syncbn_model(model)\n",
        "model = nn.DataParallel(model, device_ids=[0]).cuda()\n",
        "pre_weight = torch.load(join(project_name, 'checkpoint/deepdrive_shufflenetv2plus_x1.0.pkl'))\n",
        "pre_weight = pre_weight['model_state']\n",
        "model.load_state_dict(pre_weight)\n",
        "del pre_weight\n",
        "model = model.eval()\n",
        "\n",
        "\n",
        "# utils copied from https://github.com/ansleliu/LightNetPlusPlus/blob/master/deploy/cityscapes/video_demo/video_demo.py\n",
        "def decode_segmap(pred, label_colours, num_classes):\n",
        "    r = pred.copy()\n",
        "    g = pred.copy()\n",
        "    b = pred.copy()\n",
        "    for l in range(0, num_classes):\n",
        "        r[pred == l] = label_colours[l][0]\n",
        "        g[pred == l] = label_colours[l][1]\n",
        "        b[pred == l] = label_colours[l][2]\n",
        "\n",
        "    rgb = np.zeros((pred.shape[0], pred.shape[1], 3))\n",
        "    rgb[:, :, 0] = r\n",
        "    rgb[:, :, 1] = g\n",
        "    rgb[:, :, 2] = b\n",
        "    return rgb\n",
        "  \n",
        "colors = [  # [  0,   0,   0],\n",
        "          [128, 64, 128],\n",
        "          [244, 35, 232],\n",
        "          [70, 70, 70],\n",
        "          [102, 102, 156],\n",
        "          [190, 153, 153],\n",
        "          [153, 153, 153],\n",
        "          [250, 170, 30],\n",
        "          [220, 220, 0],\n",
        "          [107, 142, 35],\n",
        "          [152, 251, 152],\n",
        "          [0, 130, 180],\n",
        "          [220, 20, 60],\n",
        "          [255, 0, 0],\n",
        "          [0, 0, 142],\n",
        "          [0, 0, 70],\n",
        "          [0, 60, 100],\n",
        "          [0, 80, 100],\n",
        "          [0, 0, 230],\n",
        "          [119, 11, 32]]\n",
        "\n",
        "label_colours = dict(zip(range(19), colors))\n",
        "class_names = ['unlabelled', 'road', 'sidewalk', 'building', 'wall', 'fence',\n",
        "               'pole', 'traffic_light', 'traffic_sign', 'vegetation', 'terrain',\n",
        "               'sky', 'person', 'rider', 'car', 'truck', 'bus', 'train',\n",
        "               'motorcycle', 'bicycle']\n",
        "\n",
        "net_h, net_w, color_bar_w = 720, 1280, 120\n",
        "frame_size = (net_w + color_bar_w, net_h)\n",
        "\n",
        "color_map = label_colours\n",
        "num_classes = 19\n",
        "\n",
        "grid_height = int(net_h // num_classes)\n",
        "start_pixel = int((net_h % num_classes) / 2)\n",
        "\n",
        "color_bar = np.ones((net_h, color_bar_w, 3), dtype=np.uint8) * 128\n",
        "for train_id in np.arange(num_classes):\n",
        "    end_pixel = start_pixel + grid_height\n",
        "    color_bar[start_pixel:end_pixel, :, :] = color_map[train_id]\n",
        "\n",
        "    font = cv2.FONT_HERSHEY_TRIPLEX\n",
        "    cv2.putText(color_bar, class_names[train_id + 1],\n",
        "                (2, start_pixel + 5 + int(grid_height // 2)),\n",
        "                font, 0.55, (255, 255, 255), 1, cv2.LINE_AA)\n",
        "\n",
        "    start_pixel = end_pixel\n",
        "color_bar = color_bar[:, :, ::-1]\n",
        "\n",
        "mean = [0.2997, 0.3402, 0.3072]\n",
        "std = [0.1549, 0.1579, 0.1552]\n",
        "trans_norm = transforms.Compose([transforms.ToTensor(), transforms.Normalize(mean=mean, std=std)])"
      ],
      "execution_count": 0,
      "outputs": []
    },
    {
      "cell_type": "markdown",
      "metadata": {
        "id": "fMJI7RgmF_xO",
        "colab_type": "text"
      },
      "source": [
        "## Segment an YouTube video with LightNet++\n",
        "\n",
        "We are going to make semantic segmentions on the following youtube video:"
      ]
    },
    {
      "cell_type": "code",
      "metadata": {
        "id": "cxFKSe_j9I_f",
        "colab_type": "code",
        "outputId": "398cc8fd-d2a0-479f-cfd9-2e8065dd555d",
        "colab": {
          "base_uri": "https://localhost:8080/",
          "height": 321
        }
      },
      "source": [
        "YOUTUBE_ID = 't4cN3JKf0hE'\n",
        "\n",
        "\n",
        "YouTubeVideo(YOUTUBE_ID)"
      ],
      "execution_count": 3,
      "outputs": [
        {
          "output_type": "execute_result",
          "data": {
            "text/html": [
              "\n",
              "        <iframe\n",
              "            width=\"400\"\n",
              "            height=\"300\"\n",
              "            src=\"https://www.youtube.com/embed/t4cN3JKf0hE\"\n",
              "            frameborder=\"0\"\n",
              "            allowfullscreen\n",
              "        ></iframe>\n",
              "        "
            ],
            "text/plain": [
              "<IPython.lib.display.YouTubeVideo at 0x7fa4ded36cf8>"
            ],
            "image/jpeg": "[encoded data removed]"
          },
          "metadata": {
            "tags": []
          },
          "execution_count": 3
        }
      ]
    },
    {
      "cell_type": "markdown",
      "metadata": {
        "id": "MJblYRLkGTU2",
        "colab_type": "text"
      },
      "source": [
        "Download the above youtube video and segment the first 300 frames:"
      ]
    },
    {
      "cell_type": "code",
      "metadata": {
        "id": "4ulIOQ-zilMO",
        "colab_type": "code",
        "colab": {
          "base_uri": "https://localhost:8080/",
          "height": 92
        },
        "outputId": "3d27dbcc-c14c-4ff6-ba50-78463711fb81"
      },
      "source": [
        "!rm -rf youtube.mp4\n",
        "# download the youtube with the given ID\n",
        "!youtube-dl -f 'bestvideo[ext=mp4]' --output \"youtube.%(ext)s\" https://www.youtube.com/watch?v={YOUTUBE_ID}"
      ],
      "execution_count": 4,
      "outputs": [
        {
          "output_type": "stream",
          "text": [
            "[youtube] t4cN3JKf0hE: Downloading webpage\n",
            "[youtube] t4cN3JKf0hE: Downloading video info webpage\n",
            "[download] Destination: youtube.mp4\n",
            "\u001b[K[download] 100% of 185.34MiB in 00:04\n"
          ],
          "name": "stdout"
        }
      ]
    },
    {
      "cell_type": "code",
      "metadata": {
        "id": "G9pi9T2t_3fR",
        "colab_type": "code",
        "colab": {}
      },
      "source": [
        "f = 0\n",
        "video_capture = cv2.VideoCapture()\n",
        "if video_capture.open('youtube.mp4'):\n",
        "  width, height = int(video_capture.get(cv2.CAP_PROP_FRAME_WIDTH)), int(video_capture.get(cv2.CAP_PROP_FRAME_HEIGHT))\n",
        "  fps = video_capture.get(cv2.CAP_PROP_FPS)\n",
        "  \n",
        "  !rm -f output.mp4 output.avi\n",
        "  # can't write out mp4, so try to write into an AVI file\n",
        "  video_writer = cv2.VideoWriter(\"output.avi\", cv2.VideoWriter_fourcc(*'MJPG'), fps, frame_size)\n",
        "  \n",
        "  while video_capture.isOpened():\n",
        "    ret, frame = video_capture.read()\n",
        "    if not ret:\n",
        "      break\n",
        "    frame = cv2.resize(frame, (net_w, net_h))\n",
        "      \n",
        "    image = trans_norm(frame)\n",
        "    image = torch.unsqueeze(image, dim=0).cuda()  # [N, C, H, W]\n",
        "    start_time = time.time()\n",
        "    prediction = F.softmax(model(image), dim=1).argmax(dim=1)\n",
        "    print(\"> Inference Time: {}s\".format(time.time() - start_time))\n",
        "    \n",
        "    prediction = np.squeeze(prediction.cpu().numpy())\n",
        "    prediction = decode_segmap(prediction, label_colours, num_classes)\n",
        "    prediction = prediction.astype(np.uint8)\n",
        "    \n",
        "    img_msk = cv2.addWeighted(frame[:, :, ::-1], 0.55, prediction, 0.45, 0)\n",
        "    img_msk = img_msk[:, :, ::-1]\n",
        "    img_msk_color = np.concatenate((img_msk, color_bar), axis=1)\n",
        "    video_writer.write(img_msk_color)\n",
        "  \n",
        "    f += 1\n",
        "    # only on first 300 frames\n",
        "    if f > 300:\n",
        "      break\n",
        "      \n",
        "  video_capture.release()\n",
        "  video_writer.release()\n",
        "  \n",
        "  # convert AVI to MP4\n",
        "  !ffmpeg -y -loglevel info -i output.avi output.mp4\n",
        "else:\n",
        "  print(\"can't open the given input video file!\")"
      ],
      "execution_count": 0,
      "outputs": []
    },
    {
      "cell_type": "markdown",
      "metadata": {
        "id": "KbqZEYmlGfQT",
        "colab_type": "text"
      },
      "source": [
        "Finally, visualize the result:"
      ]
    },
    {
      "cell_type": "code",
      "metadata": {
        "id": "ZPIkVY3uBqB4",
        "colab_type": "code",
        "colab": {}
      },
      "source": [
        "def show_local_mp4_video(file_name, width=640, height=480):\n",
        "  import io\n",
        "  import base64\n",
        "  from IPython.display import HTML\n",
        "  video_encoded = base64.b64encode(io.open(file_name, 'rb').read())\n",
        "  return HTML(data='''<video width=\"{0}\" height=\"{1}\" alt=\"test\" controls>\n",
        "                        <source src=\"data:video/mp4;base64,{2}\" type=\"video/mp4\" />\n",
        "                      </video>'''.format(width, height, video_encoded.decode('ascii')))\n",
        "\n",
        "show_local_mp4_video('output.mp4', width=960, height=720)"
      ],
      "execution_count": 0,
      "outputs": []
    }
  ]
}