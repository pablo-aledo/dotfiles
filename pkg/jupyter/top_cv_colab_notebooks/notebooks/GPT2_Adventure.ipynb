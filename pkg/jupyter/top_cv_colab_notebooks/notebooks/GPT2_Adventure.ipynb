{
  "nbformat": 4,
  "nbformat_minor": 0,
  "metadata": {
    "colab": {
      "name": "GPT2 Adventure",
      "provenance": [],
      "collapsed_sections": []
    },
    "kernelspec": {
      "name": "python3",
      "display_name": "Python 3"
    },
    "accelerator": "GPU"
  },
  "cells": [
    {
      "cell_type": "markdown",
      "metadata": {
        "id": "H7LoMj4GA4n_"
      },
      "source": [
        "#  GPT Adventure\n",
        "*By Nathan Whitmore, based on a tutorial by [Max Woolf](http://minimaxir.com)*\n",
        "\n",
        "This is the game! Because it takes a fairly large amount of computing power and data storage, it runs on Google's servers through their Colab service. All you need to do to play it is\n",
        "\n",
        "\n",
        "*  File -> Save to save the file on your Google Drive\n",
        "*   Run the \"Setup steps\" code\n",
        "*  Run the \"Play the game\" code\n",
        "\n",
        "\n",
        "\n"
      ]
    },
    {
      "cell_type": "markdown",
      "metadata": {
        "id": "DokdjmMDsIqq"
      },
      "source": [
        "##Setup steps\n",
        "Before playing this must be run to put the needed files on Google's servers. Click the arrow on the top left of the box below to run setup."
      ]
    },
    {
      "cell_type": "code",
      "metadata": {
        "id": "KBkpRgBCBS2_",
        "colab": {
          "base_uri": "https://localhost:8080/",
          "height": 1000
        },
        "outputId": "0e88e66e-9c97-4dfa-e400-679e356745fc"
      },
      "source": [
        "#Click the number or arrow to the left to run\n",
        "\n",
        "!pip install -q gpt-2-simple\n",
        "import gpt_2_simple as gpt2\n",
        "from datetime import datetime\n",
        "from google.colab import files\n",
        "!wget -O checkpoint_run1.tar https://northwestern.box.com/shared/static/8k34b5sfq1ib5e4kmwjehxtpjotfdszl.tar\n",
        "!tar -xvf checkpoint_run1.tar\n",
        "sess = gpt2.start_tf_sess()\n",
        "gpt2.load_gpt2(sess)\n",
        "print(\"Setup complete!\")"
      ],
      "execution_count": null,
      "outputs": [
        {
          "output_type": "stream",
          "text": [
            "  Building wheel for gpt-2-simple (setup.py) ... \u001b[?25l\u001b[?25hdone\n"
          ],
          "name": "stdout"
        },
        {
          "output_type": "display_data",
          "data": {
            "text/html": [
              "<p style=\"color: red;\">\n",
              "The default version of TensorFlow in Colab will soon switch to TensorFlow 2.x.<br>\n",
              "We recommend you <a href=\"https://www.tensorflow.org/guide/migrate\" target=\"_blank\">upgrade</a> now \n",
              "or ensure your notebook will continue to use TensorFlow 1.x via the <code>%tensorflow_version 1.x</code> magic:\n",
              "<a href=\"https://colab.research.google.com/notebooks/tensorflow_version.ipynb\" target=\"_blank\">more info</a>.</p>\n"
            ],
            "text/plain": [
              "<IPython.core.display.HTML object>"
            ]
          },
          "metadata": {
            "tags": []
          }
        },
        {
          "output_type": "stream",
          "text": [
            "WARNING:tensorflow:\n",
            "The TensorFlow contrib module will not be included in TensorFlow 2.0.\n",
            "For more information, please see:\n",
            "  * https://github.com/tensorflow/community/blob/master/rfcs/20180907-contrib-sunset.md\n",
            "  * https://github.com/tensorflow/addons\n",
            "  * https://github.com/tensorflow/io (for I/O related ops)\n",
            "If you depend on functionality not listed there, please file an issue.\n",
            "\n",
            "--2019-12-20 23:38:32--  https://northwestern.box.com/shared/static/8k34b5sfq1ib5e4kmwjehxtpjotfdszl.tar\n",
            "Resolving northwestern.box.com (northwestern.box.com)... 185.235.236.197\n",
            "Connecting to northwestern.box.com (northwestern.box.com)|185.235.236.197|:443... connected.\n",
            "HTTP request sent, awaiting response... 301 Moved Permanently\n",
            "Location: /public/static/8k34b5sfq1ib5e4kmwjehxtpjotfdszl.tar [following]\n",
            "--2019-12-20 23:38:33--  https://northwestern.box.com/public/static/8k34b5sfq1ib5e4kmwjehxtpjotfdszl.tar\n",
            "Reusing existing connection to northwestern.box.com:443.\n",
            "HTTP request sent, awaiting response... 301 Moved Permanently\n",
            "Location: https://northwestern.app.box.com/public/static/8k34b5sfq1ib5e4kmwjehxtpjotfdszl.tar [following]\n",
            "--2019-12-20 23:38:33--  https://northwestern.app.box.com/public/static/8k34b5sfq1ib5e4kmwjehxtpjotfdszl.tar\n",
            "Resolving northwestern.app.box.com (northwestern.app.box.com)... 185.235.236.199\n",
            "Connecting to northwestern.app.box.com (northwestern.app.box.com)|185.235.236.199|:443... connected.\n",
            "HTTP request sent, awaiting response... 302 Found\n",
            "Location: https://public.boxcloud.com/d/1/b1!SPcF84AM4NzI79WQhZ_MYiDOOv3-BXPkkIrHJiQDILgwkjkqz0FcuwzU_s64rGK7BDDoT-xmEet_cljMWzGcBDUwxu6sUoDLdnNLyK_TEilpRduE6A-z3jkKU-26mksvN4jf9rG6zTJy0ubZ0pPxLyi22SjRolRacMoloYqLTzSZ25bMNWKM72KosuXXF5jgW2Bs4OKmWQ211cO9Ohvu4rGuf9aGcyxzqqOnkCSjpCsn56aD6GrB3XL1Ajuwq1BhZIVXTd5owBMj2-sJAodH7Ll2pC_OInXpsgOlQBGm7QOZuF0FukzxC9eqqkUp09X6yRXlUcX3G3lL91gphMpEUSDQyqf9QIfYWZA465YsLbt8p2CCgB_3hFiAaxemh-0kA4NSS8FhY4M2QcIGm17GCOyzTSQBUoq6No6aLA77AbmvajWiQkx204_ex0W9V8FjQLCJ7sbarafTCgHMR9-g6xvHhQHjltvog6pDj7n7RJr56gLcdKjhiPr0v0KTtwIJ1O6CM3KTC1j8hXiRQSO3Yqh1gzOil_G50AhQPDoln1a_lip7pMGXC-3u6kYbATMDNAT8Blb_QsPxa97XW4KvHly0uSBBVioCflfGnwlqCZ1xSPEKJW_7bayX14TFbJXZP6QgGVUKBmbegxcyRCjyYhLW116YtYRdjf4rB5Y8mEm-H5n2lChjtSeWQbMZ64GCVjj2L2wbcZLoXp0Y8LtRsSuBdAgQhCZ6TDlaInRkikjHafRooDBAp8J-m20Kpi-zWG2g8p8b77NwEDtpZSdZBN0n2ChP8x-Dv6xhFAdCX2AK54ALZhxS-vymeKXQSg4CDQsfNUeCfTQVFwl07WF1W32dgZ0eLxheml_swExqJksIFFO96Nv1a8B_0kDyQCwhOYSagurHuaA5RH1vDVh0l8PkJ9ptDJtZpuvjL58FNgIwLPqO9aFLW2qZZI_VYEzJqOKnlbHEZ_4FjiuNIGDBWs3k2EL7MoX3MGrS_9jGjHPjE9taQQ9v91EVDGD49LDSdZKf2dSljzmSTt9odGxTKDh3Fgjun0nuWjpDaTpvCtMzNNJFYg4DPVBG4dYa-SVbTuhIEliS8M_akpicu6s8XeaahzzChqrsFyP0f7kUbokbwWH1U0ibHQ4u25yLJ9vvOOuIEGRr3Ht-hZo2sGsThGORqwocjuTUyxaPs2XP3A4F7nPmJRNHLCSbN_6w_yvukx_MFBGs02meCY4EhAnv1Xb281qZLua2hLDj00nrywb9QqRWQdsquBjh_mWx1Lnd6lrRU4LFpVOGf2xshDS6djpzr4FZyKbXcFt25WzIDlmpwR2bvjxkBousTF1pozcrmAzI2JXthaD_bz-Qn3UMHgLjiejrdb7ry9fmEE0_FoJOWmlZNFuCRqsyb-sMOg../download [following]\n",
            "--2019-12-20 23:38:33--  https://public.boxcloud.com/d/1/b1!SPcF84AM4NzI79WQhZ_MYiDOOv3-BXPkkIrHJiQDILgwkjkqz0FcuwzU_s64rGK7BDDoT-xmEet_cljMWzGcBDUwxu6sUoDLdnNLyK_TEilpRduE6A-z3jkKU-26mksvN4jf9rG6zTJy0ubZ0pPxLyi22SjRolRacMoloYqLTzSZ25bMNWKM72KosuXXF5jgW2Bs4OKmWQ211cO9Ohvu4rGuf9aGcyxzqqOnkCSjpCsn56aD6GrB3XL1Ajuwq1BhZIVXTd5owBMj2-sJAodH7Ll2pC_OInXpsgOlQBGm7QOZuF0FukzxC9eqqkUp09X6yRXlUcX3G3lL91gphMpEUSDQyqf9QIfYWZA465YsLbt8p2CCgB_3hFiAaxemh-0kA4NSS8FhY4M2QcIGm17GCOyzTSQBUoq6No6aLA77AbmvajWiQkx204_ex0W9V8FjQLCJ7sbarafTCgHMR9-g6xvHhQHjltvog6pDj7n7RJr56gLcdKjhiPr0v0KTtwIJ1O6CM3KTC1j8hXiRQSO3Yqh1gzOil_G50AhQPDoln1a_lip7pMGXC-3u6kYbATMDNAT8Blb_QsPxa97XW4KvHly0uSBBVioCflfGnwlqCZ1xSPEKJW_7bayX14TFbJXZP6QgGVUKBmbegxcyRCjyYhLW116YtYRdjf4rB5Y8mEm-H5n2lChjtSeWQbMZ64GCVjj2L2wbcZLoXp0Y8LtRsSuBdAgQhCZ6TDlaInRkikjHafRooDBAp8J-m20Kpi-zWG2g8p8b77NwEDtpZSdZBN0n2ChP8x-Dv6xhFAdCX2AK54ALZhxS-vymeKXQSg4CDQsfNUeCfTQVFwl07WF1W32dgZ0eLxheml_swExqJksIFFO96Nv1a8B_0kDyQCwhOYSagurHuaA5RH1vDVh0l8PkJ9ptDJtZpuvjL58FNgIwLPqO9aFLW2qZZI_VYEzJqOKnlbHEZ_4FjiuNIGDBWs3k2EL7MoX3MGrS_9jGjHPjE9taQQ9v91EVDGD49LDSdZKf2dSljzmSTt9odGxTKDh3Fgjun0nuWjpDaTpvCtMzNNJFYg4DPVBG4dYa-SVbTuhIEliS8M_akpicu6s8XeaahzzChqrsFyP0f7kUbokbwWH1U0ibHQ4u25yLJ9vvOOuIEGRr3Ht-hZo2sGsThGORqwocjuTUyxaPs2XP3A4F7nPmJRNHLCSbN_6w_yvukx_MFBGs02meCY4EhAnv1Xb281qZLua2hLDj00nrywb9QqRWQdsquBjh_mWx1Lnd6lrRU4LFpVOGf2xshDS6djpzr4FZyKbXcFt25WzIDlmpwR2bvjxkBousTF1pozcrmAzI2JXthaD_bz-Qn3UMHgLjiejrdb7ry9fmEE0_FoJOWmlZNFuCRqsyb-sMOg../download\n",
            "Resolving public.boxcloud.com (public.boxcloud.com)... 185.235.236.200\n",
            "Connecting to public.boxcloud.com (public.boxcloud.com)|185.235.236.200|:443... connected.\n",
            "HTTP request sent, awaiting response... 200 OK\n",
            "Length: 2003732480 (1.9G) [application/x-tar]\n",
            "Saving to: ‘checkpoint_run1.tar’\n",
            "\n",
            "checkpoint_run1.tar 100%[===================>]   1.87G  11.3MB/s    in 2m 51s  \n",
            "\n",
            "2019-12-20 23:41:25 (11.1 MB/s) - ‘checkpoint_run1.tar’ saved [2003732480/2003732480]\n",
            "\n",
            "checkpoint/run1/\n",
            "checkpoint/run1/model-496.data-00000-of-00001\n",
            "checkpoint/run1/model-1496.data-00000-of-00001\n",
            "checkpoint/run1/hparams.json\n",
            "checkpoint/run1/model-3068.meta\n",
            "checkpoint/run1/model-791.data-00000-of-00001\n",
            "checkpoint/run1/model-496.index\n",
            "checkpoint/run1/encoder.json\n",
            "checkpoint/run1/checkpoint\n",
            "checkpoint/run1/events.out.tfevents.1567010568.6b66781c2a14\n",
            "checkpoint/run1/model-3068.index\n",
            "checkpoint/run1/model-3068.data-00000-of-00001\n",
            "checkpoint/run1/model-1496.index\n",
            "checkpoint/run1/events.out.tfevents.1567026542.6b66781c2a14\n",
            "checkpoint/run1/events.out.tfevents.1567030299.6b66781c2a14\n",
            "checkpoint/run1/model-1496.meta\n",
            "checkpoint/run1/events.out.tfevents.1567030937.6b66781c2a14\n",
            "checkpoint/run1/counter\n",
            "checkpoint/run1/vocab.bpe\n",
            "checkpoint/run1/model-791.index\n",
            "checkpoint/run1/model-496.meta\n",
            "Loading checkpoint checkpoint/run1/model-3068\n",
            "INFO:tensorflow:Restoring parameters from checkpoint/run1/model-3068\n",
            "Setup complete!\n"
          ],
          "name": "stdout"
        }
      ]
    },
    {
      "cell_type": "markdown",
      "metadata": {
        "id": "ClJwpF_ACONp"
      },
      "source": [
        "## Play the game\n",
        "\n",
        "Once you see \"Setup complete\" in the box above, click the arrow in the box below to start running the game. It will take a couple of seconds for the game to generate the first prompt.\n",
        "\n",
        "**Tips**\n",
        "\n",
        "\n",
        "*   The game works best if you give it simple commmands, i.e. \"go west\" or \"open box\"\n",
        "*   If you're not sure what to do, you can say \"Look around\" or enter nothing at all and the game will continue descriving your current location.\n",
        "* Use to \"go\" command to move. You can say use a direction (\"go west\") or a landmark (\"go to tree\")\n"
      ]
    },
    {
      "cell_type": "code",
      "metadata": {
        "id": "4RNY6RBI9LmL",
        "colab": {
          "base_uri": "https://localhost:8080/",
          "height": 619
        },
        "outputId": "0c2403c0-d9c2-44ff-dd05-7566ee4ae0b5"
      },
      "source": [
        "#Click the number or arrow to the left to run\n",
        "\n",
        "\n",
        "history=\"You are standing in a field. A unicorn grazes peacefully nearby.\" \n",
        "\n",
        "def isContext(text): #is a iece of textthis a context change? (i.e. moving to a new room)\n",
        "  if \"you are\" in text or \"we are\" in text or \"this is\" in text or '''you're''' in text: #context change\n",
        "    return True\n",
        "  else:\n",
        "    return False\n",
        "\n",
        "def isTakeLoop(playerAction,result): #lets us detect a loop condition where the game just replies \"taken\" or \"done\" to everything\n",
        "  if \"done\" in result.lower() or ( \"take\" in result.lower() and \"take\" not in playerAction.lower()):\n",
        "    return True\n",
        "  else:\n",
        "    return False\n",
        "  \n",
        "def isInvalidMove(playerAction,result): #gpt is trying to move the player when they didn't specify they wanted to move\n",
        "  if (\"go \") in playerAction:\n",
        "    return False\n",
        "  else:\n",
        "    if isContext(result):\n",
        "      return True\n",
        "    else:\n",
        "      return False\n",
        "    \n",
        "   \n",
        "\n",
        "#This text defines where your character starts! You can make it anything!\n",
        "\n",
        "STRICT_MODE=True #Change to True to make the game a bit more coherent, but possibly a bit less interesting\n",
        "\n",
        "locContext=\"\"\n",
        "alreadyDone=\"\"\n",
        "prompt=\"\"\n",
        "action=\"\"\n",
        "firstRun=True #for the first response (generating the initial setting) we want to impose less strict restrictions on output\n",
        "while True:\n",
        "  newprompt=\"no response\"\n",
        "  gpo=gpt2.generate(sess, temperature=0.1,prefix=history,run_name='run1',length=100,return_as_list=True,nsamples=3,batch_size=3,top_p=0.99)\n",
        "  for candidate in gpo:\n",
        "    goodCandidate=False\n",
        "    result=candidate\n",
        "    splitup=result.split(\"\\n\")\n",
        "    newprompt=\"\"\n",
        "    hasContext=False\n",
        "    for item in splitup:\n",
        "      words=item.split(\" \")\n",
        "      if (item not in alreadyDone or len(words) <= 2) and item not in newprompt and (isTakeLoop(action,item)==False) and (isInvalidMove(action,item)==False or firstRun):#avoid repeating things we've said in this or previous responses. If a response is very short (i.e. \"taken\" when you pick up an item) it's ok to repeat.\n",
        "        if (\".\" in item or \"?\" in item or \"!\" in item) and (hasContext==False or  isContext(item)==False) : #If it's a next player action, then stop, otherwise keep going\n",
        "          newprompt=newprompt+item\n",
        "          goodCandidate=True\n",
        "          if isContext(item):\n",
        "            hasContext=True\n",
        "        else:\n",
        "          if goodCandidate and STRICT_MODE: #This prevents GPT from taking actions on our behalf. If strict mode is on actions are never taken, if it is off they are taklen but not shown to us. Strict mode on can make the game more playable at the expense of less interesting descriptions \n",
        "            break\n",
        "    if goodCandidate:\n",
        "      break\n",
        "  if len(newprompt) > 3: #this will be blank if GPT couldn't come up with anything\n",
        "    if isContext(newprompt): #This is updating the location context\n",
        "      locContext=newprompt\n",
        "    print(newprompt.replace(\".\",\"\\n\").upper())\n",
        "    prompt=newprompt\n",
        "    action=input()\n",
        "    firstRun=False\n",
        "    history=locContext+\"\\n\"+prompt+\"\\n\"+action\n",
        "    alreadyDone=alreadyDone+prompt+\"\\n\"+action\n",
        "  else:\n",
        "    print(\"I don't know how to do that\".upper())\n",
        "    newaction=input()\n",
        "    history=locContext+\"\\n\"+prompt+\"\\n\"+newaction\n",
        "    alreadyDone=alreadyDone+\"\\n\"+newaction\n",
        "    \n",
        "  "
      ],
      "execution_count": null,
      "outputs": [
        {
          "output_type": "stream",
          "text": [
            "WARNING:tensorflow:From /usr/local/lib/python3.6/dist-packages/gpt_2_simple/src/sample.py:32: where (from tensorflow.python.ops.array_ops) is deprecated and will be removed in a future version.\n",
            "Instructions for updating:\n",
            "Use tf.where in 2.0, which has the same broadcast rule as np.where\n",
            "YOU ARE STANDING IN A FIELD\n",
            " A UNICORN GRAZES PEACEFULLY NEARBY\n",
            "\n",
            "go to the moon\n",
            "YOU ARE ON THE MOON\n",
            " A PATHETICALLY BABBLING TROLL IS STANDING IN THE CORNER, EYEING YOU CLOSELY\n",
            "\n",
            "talk to troll\n",
            " THE TROLL ISN'T MUCH OF A CONVERSATIONALIST\n",
            "THE TROLL, ANGERED AND HUMILIATED, RECOVERS HIS WEAPON\n",
            " HE APPEARS TO HAVE AN AXE TO GRIND WITH YOU\n",
            "THE TROLL, DISARMED, COWERS IN TERROR, PLEADING FOR HIS LIFE IN THE GUTTURAL TONGUE OF THE TROLLS\n",
            "THE TROLL STIRS, QUICKLY RESUMING A FIGHTING STANCE\n",
            "\n",
            "what weapons do i have\n",
            "WHAT WEAPONS DO I HAVE?\n",
            "check inventory\n",
            "I DON'T KNOW HOW TO DO THAT\n",
            "punch troll\n",
            "YOU HAVE PUNCH CARDS, NO DOUBT JESTING TO THEMSELVES\n",
            "\n",
            "escape from the troll\n",
            "THIS ROOM IS A PRIVATE ROOM, WHICH MIGHT BE ACCESSIBLE FROM ANY CORNER OF THE ROOM\n",
            " PERSONS WHO ARE NOT CRIMINALS MAY NOT BE ABLE TO ENTER IT, BUT THERE IS A WAY THROUGH WHICH YOU MAY GET INTO IT\n",
            "\n",
            "get into it\n",
            " YOU SPLASH AROUND IN THE ROOM, OCCASIONALLY PAUSING TO CONSIDER THE PROPRIETY OF DOING SO\n",
            "\n"
          ],
          "name": "stdout"
        }
      ]
    },
    {
      "cell_type": "markdown",
      "metadata": {
        "id": "wmTXWNUygS5E"
      },
      "source": [
        "# LICENSE\n",
        "\n",
        "MIT License\n",
        "\n",
        "Copyright (c) 2019 Nathan Whitmore, Max Woolf\n",
        "\n",
        "Permission is hereby granted, free of charge, to any person obtaining a copy\n",
        "of this software and associated documentation files (the \"Software\"), to deal\n",
        "in the Software without restriction, including without limitation the rights\n",
        "to use, copy, modify, merge, publish, distribute, sublicense, and/or sell\n",
        "copies of the Software, and to permit persons to whom the Software is\n",
        "furnished to do so, subject to the following conditions:\n",
        "\n",
        "The above copyright notice and this permission notice shall be included in all\n",
        "copies or substantial portions of the Software.\n",
        "\n",
        "THE SOFTWARE IS PROVIDED \"AS IS\", WITHOUT WARRANTY OF ANY KIND, EXPRESS OR\n",
        "IMPLIED, INCLUDING BUT NOT LIMITED TO THE WARRANTIES OF MERCHANTABILITY,\n",
        "FITNESS FOR A PARTICULAR PURPOSE AND NONINFRINGEMENT. IN NO EVENT SHALL THE\n",
        "AUTHORS OR COPYRIGHT HOLDERS BE LIABLE FOR ANY CLAIM, DAMAGES OR OTHER\n",
        "LIABILITY, WHETHER IN AN ACTION OF CONTRACT, TORT OR OTHERWISE, ARISING FROM,\n",
        "OUT OF OR IN CONNECTION WITH THE SOFTWARE OR THE USE OR OTHER DEALINGS IN THE\n",
        "SOFTWARE."
      ]
    }
  ]
}