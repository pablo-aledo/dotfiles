{
  "nbformat": 4,
  "nbformat_minor": 0,
  "metadata": {
    "colab": {
      "name": "WebScraping_using_BeautifulSoup.ipynb",
      "provenance": [],
      "collapsed_sections": []
    },
    "kernelspec": {
      "display_name": "Python 3",
      "language": "python",
      "name": "python3"
    },
    "language_info": {
      "codemirror_mode": {
        "name": "ipython",
        "version": 3
      },
      "file_extension": ".py",
      "mimetype": "text/x-python",
      "name": "python",
      "nbconvert_exporter": "python",
      "pygments_lexer": "ipython3",
      "version": "3.7.4"
    }
  },
  "cells": [
    {
      "cell_type": "markdown",
      "metadata": {
        "id": "vh_Bs4XdeRzQ"
      },
      "source": [
        "# In this notebook we show how we can scrap data from webpages using the [Beautiful Soup](https://www.crummy.com/software/BeautifulSoup/bs4/doc/), a python library.\n",
        "<br><br>"
      ]
    },
    {
      "cell_type": "code",
      "metadata": {
        "id": "P610gMZrd8SE"
      },
      "source": [
        "#making the necessary imports\n",
        "from pprint import pprint\n",
        "from bs4 import BeautifulSoup\n",
        "from urllib.request import urlopen "
      ],
      "execution_count": null,
      "outputs": []
    },
    {
      "cell_type": "code",
      "metadata": {
        "id": "jfwgiGjJeBSG"
      },
      "source": [
        "myurl = \"https://stackoverflow.com/questions/415511/how-to-get-the-current-time-in-python\" #specify the url\n",
        "html = urlopen(myurl).read() #query the website so that it returns a html page  \n",
        "soupified = BeautifulSoup(html, 'html.parser') # parse the html in the 'html' variable, and store it in Beautiful Soup format"
      ],
      "execution_count": null,
      "outputs": []
    },
    {
      "cell_type": "markdown",
      "metadata": {
        "id": "K8LXZ5NNVISj"
      },
      "source": [
        "As the size of the HTML webpage (soupified) is large, we are just showing some of its output (only 2000 characters)."
      ]
    },
    {
      "cell_type": "code",
      "metadata": {
        "id": "MtBYwGg_VISk"
      },
      "source": [
        "#pprint(soupified.prettify())      #for printing the full HTML structure of the webpage"
      ],
      "execution_count": null,
      "outputs": []
    },
    {
      "cell_type": "code",
      "metadata": {
        "colab": {
          "base_uri": "https://localhost:8080/",
          "height": 1000
        },
        "id": "7TbFVmpRg6jN",
        "scrolled": false,
        "outputId": "fea34a67-acf5-4fa0-c88a-e604146689e4"
      },
      "source": [
        "pprint(soupified.prettify()[:2000])#to get an idea of the html structure of the webpage "
      ],
      "execution_count": null,
      "outputs": [
        {
          "output_type": "stream",
          "text": [
            "('<!DOCTYPE html>\\n'\n",
            " '<html class=\"html__responsive\" itemscope=\"\" '\n",
            " 'itemtype=\"https://schema.org/QAPage\">\\n'\n",
            " ' <head>\\n'\n",
            " '  <title>\\n'\n",
            " '   datetime - How to get the current time in Python - Stack Overflow\\n'\n",
            " '  </title>\\n'\n",
            " '  <link '\n",
            " 'href=\"https://cdn.sstatic.net/Sites/stackoverflow/Img/favicon.ico?v=ec617d715196\" '\n",
            " 'rel=\"shortcut icon\"/>\\n'\n",
            " '  <link '\n",
            " 'href=\"https://cdn.sstatic.net/Sites/stackoverflow/Img/apple-touch-icon.png?v=c78bd457575a\" '\n",
            " 'rel=\"apple-touch-icon\"/>\\n'\n",
            " '  <link '\n",
            " 'href=\"https://cdn.sstatic.net/Sites/stackoverflow/Img/apple-touch-icon.png?v=c78bd457575a\" '\n",
            " 'rel=\"image_src\"/>\\n'\n",
            " '  <link href=\"/opensearch.xml\" rel=\"search\" title=\"Stack Overflow\" '\n",
            " 'type=\"application/opensearchdescription+xml\"/>\\n'\n",
            " '  <link '\n",
            " 'href=\"https://stackoverflow.com/questions/415511/how-to-get-the-current-time-in-python\" '\n",
            " 'rel=\"canonical\">\\n'\n",
            " '   <meta content=\"width=device-width, height=device-height, '\n",
            " 'initial-scale=1.0, minimum-scale=1.0\" name=\"viewport\"/>\\n'\n",
            " '   <meta content=\"website\" property=\"og:type\">\\n'\n",
            " '    <meta '\n",
            " 'content=\"https://stackoverflow.com/questions/415511/how-to-get-the-current-time-in-python\" '\n",
            " 'property=\"og:url\"/>\\n'\n",
            " '    <meta content=\"Stack Overflow\" property=\"og:site_name\"/>\\n'\n",
            " '    <meta '\n",
            " 'content=\"https://cdn.sstatic.net/Sites/stackoverflow/Img/apple-touch-icon@2.png?v=73d79a89bded\" '\n",
            " 'itemprop=\"image primaryImageOfPage\" property=\"og:image\"/>\\n'\n",
            " '    <meta content=\"summary\" name=\"twitter:card\"/>\\n'\n",
            " '    <meta content=\"stackoverflow.com\" name=\"twitter:domain\"/>\\n'\n",
            " '    <meta content=\"How to get the current time in Python\" itemprop=\"name\" '\n",
            " 'name=\"twitter:title\" property=\"og:title\"/>\\n'\n",
            " '    <meta content=\"What is the module/method used to get the current time?\" '\n",
            " 'itemprop=\"description\" name=\"twitter:description\" '\n",
            " 'property=\"og:description\"/>\\n'\n",
            " '    <script '\n",
            " 'src=\"https://ajax.googleapis.com/ajax/libs/jquery/1.12.4/jquery.min.js\">\\n'\n",
            " '    </script>\\n'\n",
            " '    <script src=\"https://cdn.sstatic.net/Js/stub.en.js?v=b8a86b92f383\">\\n'\n",
            " '    </script>\\n'\n",
            " '    <link href=\"https://cdn.sstatic.net/Shared/stacks.css?v=f0ad20c3c35c\" '\n",
            " 'rel=\"stylesheet\" type=\"text/css\"/>\\n'\n",
            " '    <link href=\"https://cdn.sstatic.ne')\n"
          ],
          "name": "stdout"
        }
      ]
    },
    {
      "cell_type": "code",
      "metadata": {
        "colab": {
          "base_uri": "https://localhost:8080/",
          "height": 35
        },
        "id": "GDHVujprhLJZ",
        "outputId": "69e7067a-e9ca-4f9e-f1ff-08ce96ec408e"
      },
      "source": [
        "soupified.title #to get the title of the web page "
      ],
      "execution_count": null,
      "outputs": [
        {
          "output_type": "execute_result",
          "data": {
            "text/plain": [
              "<title>datetime - How to get the current time in Python - Stack Overflow</title>"
            ]
          },
          "metadata": {
            "tags": []
          },
          "execution_count": 5
        }
      ]
    },
    {
      "cell_type": "code",
      "metadata": {
        "colab": {
          "base_uri": "https://localhost:8080/",
          "height": 435
        },
        "id": "lSpsxVXkeDf0",
        "outputId": "e727c109-5c54-495a-9791-e0982fd1f0a2"
      },
      "source": [
        "question = soupified.find(\"div\", {\"class\": \"question\"}) #find the nevessary tag and class which it belongs to\n",
        "questiontext = question.find(\"div\", {\"class\": \"s-prose js-post-body\"})\n",
        "print(\"Question: \\n\", questiontext.get_text().strip())\n",
        "\n",
        "answer = soupified.find(\"div\", {\"class\": \"answer\"}) #find the nevessary tag and class which it belongs to\n",
        "answertext = answer.find(\"div\", {\"class\": \"s-prose js-post-body\"})\n",
        "print(\"Best answer: \\n\", answertext.get_text().strip())"
      ],
      "execution_count": null,
      "outputs": [
        {
          "output_type": "stream",
          "text": [
            "Question: \n",
            " What is the module/method used to get the current time?\n",
            "Best answer: \n",
            " Use:\n",
            ">>> import datetime\n",
            ">>> datetime.datetime.now()\n",
            "datetime.datetime(2009, 1, 6, 15, 8, 24, 78915)\n",
            "\n",
            ">>> print(datetime.datetime.now())\n",
            "2009-01-06 15:08:24.789150\n",
            "\n",
            "And just the time:\n",
            ">>> datetime.datetime.now().time()\n",
            "datetime.time(15, 8, 24, 78915)\n",
            "\n",
            ">>> print(datetime.datetime.now().time())\n",
            "15:08:24.789150\n",
            "\n",
            "See the documentation for more information.\n",
            "To save typing, you can import the datetime object from the datetime module:\n",
            ">>> from datetime import datetime\n",
            "\n",
            "Then remove the leading datetime. from all of the above.\n"
          ],
          "name": "stdout"
        }
      ]
    },
    {
      "cell_type": "markdown",
      "metadata": {
        "id": "j1jgT85dlcow"
      },
      "source": [
        "BeautifulSoup is one of the many libraries which allow us to scrape web pages. Depending on your needs you can choose between the many available choices like beautifulsoup, scrapy, selenium, etc"
      ]
    }
  ]
}