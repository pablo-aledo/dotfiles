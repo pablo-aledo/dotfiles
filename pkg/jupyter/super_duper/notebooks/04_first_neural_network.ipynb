{
  "nbformat": 4,
  "nbformat_minor": 0,
  "metadata": {
    "colab": {
      "name": "04.first-neural-network.ipynb",
      "provenance": [],
      "collapsed_sections": []
    },
    "kernelspec": {
      "name": "python3",
      "display_name": "Python 3"
    },
    "accelerator": "GPU"
  },
  "cells": [
    {
      "cell_type": "markdown",
      "metadata": {
        "id": "Fz7Xygqo3s3b"
      },
      "source": [
        "# Build Your First Neural Network with PyTorch\n",
        "\n",
        "In this tutorial, you'll build your first Neural Network using PyTorch. You'll use it to predict whether or not is going to rain tomorrow using real weather information.\n",
        "\n",
        "- [Run the complete notebook in your browser (Google Colab)](https://colab.research.google.com/drive/1lDXVkdt7GC8jK_nGmOMKeDywXse-DY-u)\n",
        "- [Read the Getting Things Done with Pytorch book](https://github.com/curiousily/Getting-Things-Done-with-Pytorch)\n",
        "\n",
        "You'll learn how to:\n",
        "\n",
        "- Preprocess CSV files and convert the data to Tensors\n",
        "- Build your own Neural Network model with PyTorch\n",
        "- Use a loss function and an optimizer to train your model\n",
        "- Evaluate your model and learn about the perils of imbalanced classification"
      ]
    },
    {
      "cell_type": "code",
      "metadata": {
        "id": "izq6eneDG4LP"
      },
      "source": [
        "!pip install -q -U watermark"
      ],
      "execution_count": null,
      "outputs": []
    },
    {
      "cell_type": "code",
      "metadata": {
        "id": "pDQQni6tG5G3",
        "colab": {
          "base_uri": "https://localhost:8080/",
          "height": 119
        },
        "outputId": "00b6611b-476e-475c-c7a4-d2b38b5ee44c"
      },
      "source": [
        "%reload_ext watermark\n",
        "%watermark -v -p numpy,pandas,torch"
      ],
      "execution_count": null,
      "outputs": [
        {
          "output_type": "stream",
          "text": [
            "CPython 3.6.9\n",
            "IPython 5.5.0\n",
            "\n",
            "numpy 1.17.5\n",
            "pandas 0.25.3\n",
            "torch 1.4.0\n"
          ],
          "name": "stdout"
        }
      ]
    },
    {
      "cell_type": "code",
      "metadata": {
        "id": "AePREfpPkH2b"
      },
      "source": [
        "# Heavily based on https://github.com/Prodicode/ann-visualizer\n",
        "\n",
        "def ann_viz(model, view=True, filename=\"network.gv\"):\n",
        "    \"\"\"Vizualizez a Sequential model.\n",
        "\n",
        "    # Arguments\n",
        "        model: A Keras model instance.\n",
        "\n",
        "        view: whether to display the model after generation.\n",
        "\n",
        "        filename: where to save the vizualization. (a .gv file)\n",
        "\n",
        "        title: A title for the graph\n",
        "    \"\"\"\n",
        "    from graphviz import Digraph\n",
        "\n",
        "    input_layer = 0\n",
        "    hidden_layers_nr = 0\n",
        "    layer_types = []\n",
        "    hidden_layers = []\n",
        "    output_layer = 0\n",
        "    layers = [layer for layer in model.modules() if type(layer) == torch.nn.Linear]\n",
        "\n",
        "    for layer in layers:\n",
        "        if layer == layers[0]:\n",
        "            input_layer = layer.in_features\n",
        "            hidden_layers_nr += 1\n",
        "            if type(layer) == torch.nn.Linear:                \n",
        "                hidden_layers.append(layer.out_features)\n",
        "                layer_types.append(\"Dense\")\n",
        "            else:\n",
        "                raise Exception(\"Input error\")\n",
        "\n",
        "        else:\n",
        "            if layer == layers[-1]:\n",
        "                output_layer = layer.out_features\n",
        "            else:\n",
        "                hidden_layers_nr += 1\n",
        "                if type(layer) == torch.nn.Linear:\n",
        "\n",
        "                    hidden_layers.append(layer.out_features)\n",
        "                    layer_types.append(\"Dense\")\n",
        "                else:\n",
        "                    raise Exception(\"Hidden error\")\n",
        "        last_layer_nodes = input_layer\n",
        "        nodes_up = input_layer\n",
        "\n",
        "    g = Digraph(\"g\", filename=filename)\n",
        "    n = 0\n",
        "    g.graph_attr.update(splines=\"false\", nodesep=\"0.5\", ranksep=\"0\", rankdir='LR')\n",
        "    # Input Layer\n",
        "    with g.subgraph(name=\"cluster_input\") as c:\n",
        "        if type(layers[0]) == torch.nn.Linear:\n",
        "            the_label = \"Input Layer\"\n",
        "            if layers[0].in_features > 10:\n",
        "                the_label += \" (+\" + str(layers[0].in_features - 10) + \")\"\n",
        "                input_layer = 10\n",
        "            c.attr(color=\"white\")\n",
        "            for i in range(0, input_layer):\n",
        "                n += 1\n",
        "                c.node(str(n))\n",
        "                c.attr(labeljust=\"1\")\n",
        "                c.attr(label=the_label, labelloc=\"bottom\")\n",
        "                c.attr(rank=\"same\")                \n",
        "                c.node_attr.update(\n",
        "                    width=\"0.65\",\n",
        "                    style=\"filled\",                    \n",
        "                    shape=\"circle\",\n",
        "                    color=HAPPY_COLORS_PALETTE[3],\n",
        "                    fontcolor=HAPPY_COLORS_PALETTE[3],\n",
        "                )\n",
        "    for i in range(0, hidden_layers_nr):\n",
        "        with g.subgraph(name=\"cluster_\" + str(i + 1)) as c:\n",
        "            if layer_types[i] == \"Dense\":\n",
        "                c.attr(color=\"white\")\n",
        "                c.attr(rank=\"same\")\n",
        "                the_label = f'Hidden Layer {i + 1}'\n",
        "                if layers[i].out_features > 10:\n",
        "                    the_label += \" (+\" + str(layers[i].out_features - 10) + \")\"\n",
        "                    hidden_layers[i] = 10\n",
        "                c.attr(labeljust=\"right\", labelloc=\"b\", label=the_label)\n",
        "                for j in range(0, hidden_layers[i]):\n",
        "                    n += 1\n",
        "                    c.node(\n",
        "                        str(n),\n",
        "                        width=\"0.65\",\n",
        "                        shape=\"circle\",\n",
        "                        style=\"filled\",\n",
        "                        color=HAPPY_COLORS_PALETTE[0],\n",
        "                        fontcolor=HAPPY_COLORS_PALETTE[0],\n",
        "                    )\n",
        "                    for h in range(nodes_up - last_layer_nodes + 1, nodes_up + 1):\n",
        "                        g.edge(str(h), str(n))\n",
        "                last_layer_nodes = hidden_layers[i]\n",
        "                nodes_up += hidden_layers[i]\n",
        "            else:\n",
        "                raise Exception(\"Hidden layer type not supported\")\n",
        "\n",
        "    with g.subgraph(name=\"cluster_output\") as c:\n",
        "        if type(layers[-1]) == torch.nn.Linear:\n",
        "            c.attr(color=\"white\")\n",
        "            c.attr(rank=\"same\")\n",
        "            c.attr(labeljust=\"1\")\n",
        "            for i in range(1, output_layer + 1):\n",
        "                n += 1\n",
        "                c.node(\n",
        "                    str(n),\n",
        "                    width=\"0.65\",\n",
        "                    shape=\"circle\",\n",
        "                    style=\"filled\",\n",
        "                    color=HAPPY_COLORS_PALETTE[4],\n",
        "                    fontcolor=HAPPY_COLORS_PALETTE[4],\n",
        "                    \n",
        "                )\n",
        "                for h in range(nodes_up - last_layer_nodes + 1, nodes_up + 1):\n",
        "                    g.edge(str(h), str(n))\n",
        "            c.attr(label=\"Output Layer\", labelloc=\"bottom\")\n",
        "            c.node_attr.update(\n",
        "                color=\"#2ecc71\", style=\"filled\", fontcolor=\"#2ecc71\", shape=\"circle\"\n",
        "            )\n",
        "\n",
        "    g.attr(arrowShape=\"none\")\n",
        "    g.edge_attr.update(arrowhead=\"none\", color=\"#707070\", penwidth=\"2\")\n",
        "    if view is True:\n",
        "        g.view()\n",
        "\n",
        "    return g\n"
      ],
      "execution_count": null,
      "outputs": []
    },
    {
      "cell_type": "code",
      "metadata": {
        "id": "tLB23K0eGrIm",
        "colab": {
          "base_uri": "https://localhost:8080/",
          "height": 34
        },
        "outputId": "8e68bc2d-c917-47b2-fb2a-cc5fb82ecf3e"
      },
      "source": [
        "import torch\n",
        "\n",
        "import os\n",
        "import numpy as np\n",
        "import pandas as pd\n",
        "from tqdm import tqdm\n",
        "import seaborn as sns\n",
        "from pylab import rcParams\n",
        "import matplotlib.pyplot as plt\n",
        "from matplotlib import rc\n",
        "from sklearn.model_selection import train_test_split\n",
        "from sklearn.metrics import confusion_matrix, classification_report\n",
        "\n",
        "from torch import nn, optim\n",
        "\n",
        "import torch.nn.functional as F\n",
        "\n",
        "%matplotlib inline\n",
        "%config InlineBackend.figure_format='retina'\n",
        "\n",
        "sns.set(style='whitegrid', palette='muted', font_scale=1.2)\n",
        "\n",
        "HAPPY_COLORS_PALETTE = [\"#01BEFE\", \"#FFDD00\", \"#FF7D00\", \"#FF006D\", \"#93D30C\", \"#8F00FF\"]\n",
        "\n",
        "sns.set_palette(sns.color_palette(HAPPY_COLORS_PALETTE))\n",
        "\n",
        "rcParams['figure.figsize'] = 12, 8\n",
        "\n",
        "RANDOM_SEED = 42\n",
        "np.random.seed(RANDOM_SEED)\n",
        "torch.manual_seed(RANDOM_SEED)"
      ],
      "execution_count": null,
      "outputs": [
        {
          "output_type": "execute_result",
          "data": {
            "text/plain": [
              "<torch._C.Generator at 0x7f33b7e8ddf0>"
            ]
          },
          "metadata": {
            "tags": []
          },
          "execution_count": 4
        }
      ]
    },
    {
      "cell_type": "markdown",
      "metadata": {
        "id": "I67ain8jB3bP"
      },
      "source": [
        "## Data\n",
        "\n",
        "Our dataset contains daily weather information from multiple Australian weather stations. We're about to answer a simple question. *Will it rain tomorrow?*\n",
        "\n",
        "The data is hosted on [Kaggle](https://www.kaggle.com/jsphyg/weather-dataset-rattle-package) and created by [Joe Young](https://www.kaggle.com/jsphyg). I've uploaded the dataset to Google Drive. Let's get it:"
      ]
    },
    {
      "cell_type": "code",
      "metadata": {
        "id": "wMB_XqAqG05R",
        "colab": {
          "base_uri": "https://localhost:8080/",
          "height": 85
        },
        "outputId": "8f5953e1-d9ce-443f-8a1d-da8e5f62916f"
      },
      "source": [
        "!gdown --id 1Q1wUptbNDYdfizk5abhmoFxIQiX19Tn7"
      ],
      "execution_count": null,
      "outputs": [
        {
          "output_type": "stream",
          "text": [
            "Downloading...\n",
            "From: https://drive.google.com/uc?id=1Q1wUptbNDYdfizk5abhmoFxIQiX19Tn7\n",
            "To: /content/weatherAUS.csv\n",
            "14.2MB [00:00, 38.9MB/s]\n"
          ],
          "name": "stdout"
        }
      ]
    },
    {
      "cell_type": "markdown",
      "metadata": {
        "id": "6GxdXyHRGlp2"
      },
      "source": [
        "And load it into a data frame:"
      ]
    },
    {
      "cell_type": "code",
      "metadata": {
        "id": "pb7qBnsKIb_4",
        "colab": {
          "base_uri": "https://localhost:8080/",
          "height": 309
        },
        "outputId": "27869fa4-59ef-41e9-87ee-1311a2f62a53"
      },
      "source": [
        "df = pd.read_csv('weatherAUS.csv')\n",
        "df.head()"
      ],
      "execution_count": null,
      "outputs": [
        {
          "output_type": "execute_result",
          "data": {
            "text/html": [
              "<div>\n",
              "<style scoped>\n",
              "    .dataframe tbody tr th:only-of-type {\n",
              "        vertical-align: middle;\n",
              "    }\n",
              "\n",
              "    .dataframe tbody tr th {\n",
              "        vertical-align: top;\n",
              "    }\n",
              "\n",
              "    .dataframe thead th {\n",
              "        text-align: right;\n",
              "    }\n",
              "</style>\n",
              "<table border=\"1\" class=\"dataframe\">\n",
              "  <thead>\n",
              "    <tr style=\"text-align: right;\">\n",
              "      <th></th>\n",
              "      <th>Date</th>\n",
              "      <th>Location</th>\n",
              "      <th>MinTemp</th>\n",
              "      <th>MaxTemp</th>\n",
              "      <th>Rainfall</th>\n",
              "      <th>Evaporation</th>\n",
              "      <th>Sunshine</th>\n",
              "      <th>WindGustDir</th>\n",
              "      <th>WindGustSpeed</th>\n",
              "      <th>WindDir9am</th>\n",
              "      <th>WindDir3pm</th>\n",
              "      <th>WindSpeed9am</th>\n",
              "      <th>WindSpeed3pm</th>\n",
              "      <th>Humidity9am</th>\n",
              "      <th>Humidity3pm</th>\n",
              "      <th>Pressure9am</th>\n",
              "      <th>Pressure3pm</th>\n",
              "      <th>Cloud9am</th>\n",
              "      <th>Cloud3pm</th>\n",
              "      <th>Temp9am</th>\n",
              "      <th>Temp3pm</th>\n",
              "      <th>RainToday</th>\n",
              "      <th>RISK_MM</th>\n",
              "      <th>RainTomorrow</th>\n",
              "    </tr>\n",
              "  </thead>\n",
              "  <tbody>\n",
              "    <tr>\n",
              "      <th>0</th>\n",
              "      <td>2008-12-01</td>\n",
              "      <td>Albury</td>\n",
              "      <td>13.4</td>\n",
              "      <td>22.9</td>\n",
              "      <td>0.6</td>\n",
              "      <td>NaN</td>\n",
              "      <td>NaN</td>\n",
              "      <td>W</td>\n",
              "      <td>44.0</td>\n",
              "      <td>W</td>\n",
              "      <td>WNW</td>\n",
              "      <td>20.0</td>\n",
              "      <td>24.0</td>\n",
              "      <td>71.0</td>\n",
              "      <td>22.0</td>\n",
              "      <td>1007.7</td>\n",
              "      <td>1007.1</td>\n",
              "      <td>8.0</td>\n",
              "      <td>NaN</td>\n",
              "      <td>16.9</td>\n",
              "      <td>21.8</td>\n",
              "      <td>No</td>\n",
              "      <td>0.0</td>\n",
              "      <td>No</td>\n",
              "    </tr>\n",
              "    <tr>\n",
              "      <th>1</th>\n",
              "      <td>2008-12-02</td>\n",
              "      <td>Albury</td>\n",
              "      <td>7.4</td>\n",
              "      <td>25.1</td>\n",
              "      <td>0.0</td>\n",
              "      <td>NaN</td>\n",
              "      <td>NaN</td>\n",
              "      <td>WNW</td>\n",
              "      <td>44.0</td>\n",
              "      <td>NNW</td>\n",
              "      <td>WSW</td>\n",
              "      <td>4.0</td>\n",
              "      <td>22.0</td>\n",
              "      <td>44.0</td>\n",
              "      <td>25.0</td>\n",
              "      <td>1010.6</td>\n",
              "      <td>1007.8</td>\n",
              "      <td>NaN</td>\n",
              "      <td>NaN</td>\n",
              "      <td>17.2</td>\n",
              "      <td>24.3</td>\n",
              "      <td>No</td>\n",
              "      <td>0.0</td>\n",
              "      <td>No</td>\n",
              "    </tr>\n",
              "    <tr>\n",
              "      <th>2</th>\n",
              "      <td>2008-12-03</td>\n",
              "      <td>Albury</td>\n",
              "      <td>12.9</td>\n",
              "      <td>25.7</td>\n",
              "      <td>0.0</td>\n",
              "      <td>NaN</td>\n",
              "      <td>NaN</td>\n",
              "      <td>WSW</td>\n",
              "      <td>46.0</td>\n",
              "      <td>W</td>\n",
              "      <td>WSW</td>\n",
              "      <td>19.0</td>\n",
              "      <td>26.0</td>\n",
              "      <td>38.0</td>\n",
              "      <td>30.0</td>\n",
              "      <td>1007.6</td>\n",
              "      <td>1008.7</td>\n",
              "      <td>NaN</td>\n",
              "      <td>2.0</td>\n",
              "      <td>21.0</td>\n",
              "      <td>23.2</td>\n",
              "      <td>No</td>\n",
              "      <td>0.0</td>\n",
              "      <td>No</td>\n",
              "    </tr>\n",
              "    <tr>\n",
              "      <th>3</th>\n",
              "      <td>2008-12-04</td>\n",
              "      <td>Albury</td>\n",
              "      <td>9.2</td>\n",
              "      <td>28.0</td>\n",
              "      <td>0.0</td>\n",
              "      <td>NaN</td>\n",
              "      <td>NaN</td>\n",
              "      <td>NE</td>\n",
              "      <td>24.0</td>\n",
              "      <td>SE</td>\n",
              "      <td>E</td>\n",
              "      <td>11.0</td>\n",
              "      <td>9.0</td>\n",
              "      <td>45.0</td>\n",
              "      <td>16.0</td>\n",
              "      <td>1017.6</td>\n",
              "      <td>1012.8</td>\n",
              "      <td>NaN</td>\n",
              "      <td>NaN</td>\n",
              "      <td>18.1</td>\n",
              "      <td>26.5</td>\n",
              "      <td>No</td>\n",
              "      <td>1.0</td>\n",
              "      <td>No</td>\n",
              "    </tr>\n",
              "    <tr>\n",
              "      <th>4</th>\n",
              "      <td>2008-12-05</td>\n",
              "      <td>Albury</td>\n",
              "      <td>17.5</td>\n",
              "      <td>32.3</td>\n",
              "      <td>1.0</td>\n",
              "      <td>NaN</td>\n",
              "      <td>NaN</td>\n",
              "      <td>W</td>\n",
              "      <td>41.0</td>\n",
              "      <td>ENE</td>\n",
              "      <td>NW</td>\n",
              "      <td>7.0</td>\n",
              "      <td>20.0</td>\n",
              "      <td>82.0</td>\n",
              "      <td>33.0</td>\n",
              "      <td>1010.8</td>\n",
              "      <td>1006.0</td>\n",
              "      <td>7.0</td>\n",
              "      <td>8.0</td>\n",
              "      <td>17.8</td>\n",
              "      <td>29.7</td>\n",
              "      <td>No</td>\n",
              "      <td>0.2</td>\n",
              "      <td>No</td>\n",
              "    </tr>\n",
              "  </tbody>\n",
              "</table>\n",
              "</div>"
            ],
            "text/plain": [
              "         Date Location  MinTemp  ...  RainToday  RISK_MM  RainTomorrow\n",
              "0  2008-12-01   Albury     13.4  ...         No      0.0            No\n",
              "1  2008-12-02   Albury      7.4  ...         No      0.0            No\n",
              "2  2008-12-03   Albury     12.9  ...         No      0.0            No\n",
              "3  2008-12-04   Albury      9.2  ...         No      1.0            No\n",
              "4  2008-12-05   Albury     17.5  ...         No      0.2            No\n",
              "\n",
              "[5 rows x 24 columns]"
            ]
          },
          "metadata": {
            "tags": []
          },
          "execution_count": 6
        }
      ]
    },
    {
      "cell_type": "markdown",
      "metadata": {
        "id": "OW1qUXeYH2ME"
      },
      "source": [
        "We have a large set of features/columns here. You might also notice some *NaN*s. Let's have a look at the overall dataset size:"
      ]
    },
    {
      "cell_type": "code",
      "metadata": {
        "id": "VYs-oeNAH23q",
        "colab": {
          "base_uri": "https://localhost:8080/",
          "height": 34
        },
        "outputId": "b44a8c0b-81fc-4ebf-f0d9-a9a5db6f2901"
      },
      "source": [
        "df.shape"
      ],
      "execution_count": null,
      "outputs": [
        {
          "output_type": "execute_result",
          "data": {
            "text/plain": [
              "(142193, 24)"
            ]
          },
          "metadata": {
            "tags": []
          },
          "execution_count": 7
        }
      ]
    },
    {
      "cell_type": "markdown",
      "metadata": {
        "id": "CgZZj38qJSSs"
      },
      "source": [
        "Looks like we have plenty of data. But we got to do something about those missing values."
      ]
    },
    {
      "cell_type": "markdown",
      "metadata": {
        "id": "3x-gF4Y83Ycm"
      },
      "source": [
        "## Data Preprocessing\n",
        "\n",
        "We'll start by simplifying the problem by removing most of the data. We'll use only 4 columns for predicting whether or not is going to rain tomorrow:"
      ]
    },
    {
      "cell_type": "code",
      "metadata": {
        "id": "TMozkylDI1uY"
      },
      "source": [
        "cols = ['Rainfall', 'Humidity3pm', 'Pressure9am', 'RainToday', 'RainTomorrow']\n",
        "\n",
        "df = df[cols]"
      ],
      "execution_count": null,
      "outputs": []
    },
    {
      "cell_type": "markdown",
      "metadata": {
        "id": "EKO3kWwDNUoy"
      },
      "source": [
        "Neural Networks don't work with much else than numbers. We'll convert *yes* and *no* to 1 and 0, respectively:"
      ]
    },
    {
      "cell_type": "code",
      "metadata": {
        "id": "BZxTNJu2J5C5"
      },
      "source": [
        "df['RainToday'].replace({'No': 0, 'Yes': 1}, inplace = True)\n",
        "df['RainTomorrow'].replace({'No': 0, 'Yes': 1}, inplace = True)"
      ],
      "execution_count": null,
      "outputs": []
    },
    {
      "cell_type": "markdown",
      "metadata": {
        "id": "58hXrACBNfw9"
      },
      "source": [
        "Let's drop the rows with missing values. There are better ways to do this, but we'll keep it simple:"
      ]
    },
    {
      "cell_type": "code",
      "metadata": {
        "id": "sd4eBNn4NTUD",
        "colab": {
          "base_uri": "https://localhost:8080/",
          "height": 204
        },
        "outputId": "81da2d18-0021-4e3b-9e13-ddd047114605"
      },
      "source": [
        "df = df.dropna(how='any')\n",
        "df.head()"
      ],
      "execution_count": null,
      "outputs": [
        {
          "output_type": "execute_result",
          "data": {
            "text/html": [
              "<div>\n",
              "<style scoped>\n",
              "    .dataframe tbody tr th:only-of-type {\n",
              "        vertical-align: middle;\n",
              "    }\n",
              "\n",
              "    .dataframe tbody tr th {\n",
              "        vertical-align: top;\n",
              "    }\n",
              "\n",
              "    .dataframe thead th {\n",
              "        text-align: right;\n",
              "    }\n",
              "</style>\n",
              "<table border=\"1\" class=\"dataframe\">\n",
              "  <thead>\n",
              "    <tr style=\"text-align: right;\">\n",
              "      <th></th>\n",
              "      <th>Rainfall</th>\n",
              "      <th>Humidity3pm</th>\n",
              "      <th>Pressure9am</th>\n",
              "      <th>RainToday</th>\n",
              "      <th>RainTomorrow</th>\n",
              "    </tr>\n",
              "  </thead>\n",
              "  <tbody>\n",
              "    <tr>\n",
              "      <th>0</th>\n",
              "      <td>0.6</td>\n",
              "      <td>22.0</td>\n",
              "      <td>1007.7</td>\n",
              "      <td>0.0</td>\n",
              "      <td>0</td>\n",
              "    </tr>\n",
              "    <tr>\n",
              "      <th>1</th>\n",
              "      <td>0.0</td>\n",
              "      <td>25.0</td>\n",
              "      <td>1010.6</td>\n",
              "      <td>0.0</td>\n",
              "      <td>0</td>\n",
              "    </tr>\n",
              "    <tr>\n",
              "      <th>2</th>\n",
              "      <td>0.0</td>\n",
              "      <td>30.0</td>\n",
              "      <td>1007.6</td>\n",
              "      <td>0.0</td>\n",
              "      <td>0</td>\n",
              "    </tr>\n",
              "    <tr>\n",
              "      <th>3</th>\n",
              "      <td>0.0</td>\n",
              "      <td>16.0</td>\n",
              "      <td>1017.6</td>\n",
              "      <td>0.0</td>\n",
              "      <td>0</td>\n",
              "    </tr>\n",
              "    <tr>\n",
              "      <th>4</th>\n",
              "      <td>1.0</td>\n",
              "      <td>33.0</td>\n",
              "      <td>1010.8</td>\n",
              "      <td>0.0</td>\n",
              "      <td>0</td>\n",
              "    </tr>\n",
              "  </tbody>\n",
              "</table>\n",
              "</div>"
            ],
            "text/plain": [
              "   Rainfall  Humidity3pm  Pressure9am  RainToday  RainTomorrow\n",
              "0       0.6         22.0       1007.7        0.0             0\n",
              "1       0.0         25.0       1010.6        0.0             0\n",
              "2       0.0         30.0       1007.6        0.0             0\n",
              "3       0.0         16.0       1017.6        0.0             0\n",
              "4       1.0         33.0       1010.8        0.0             0"
            ]
          },
          "metadata": {
            "tags": []
          },
          "execution_count": 10
        }
      ]
    },
    {
      "cell_type": "markdown",
      "metadata": {
        "id": "otjB4q_NRZCh"
      },
      "source": [
        "Finally, we have a dataset we can work with. \n",
        "\n",
        "One important question we should answer is - *How balanced is our dataset?*. Or *How many times did it rain or not rain tomorrow?*:"
      ]
    },
    {
      "cell_type": "code",
      "metadata": {
        "id": "A66FQPqEOydL",
        "colab": {
          "base_uri": "https://localhost:8080/",
          "height": 506
        },
        "outputId": "83f8aefd-0dc5-4dc0-b0ff-a7e1ad0ef9dd"
      },
      "source": [
        "sns.countplot(df.RainTomorrow);"
      ],
      "execution_count": null,
      "outputs": [
        {
          "output_type": "display_data",
          "data": {
            "image/png": "[encoded data removed]",
            "text/plain": [
              "<Figure size 864x576 with 1 Axes>"
            ]
          },
          "metadata": {
            "tags": [],
            "image/png": {
              "width": 761,
              "height": 489
            }
          }
        }
      ]
    },
    {
      "cell_type": "code",
      "metadata": {
        "id": "ME9fnVlg0m3F",
        "colab": {
          "base_uri": "https://localhost:8080/",
          "height": 68
        },
        "outputId": "7e64a992-c4ed-4bb0-faa6-434fb353b76e"
      },
      "source": [
        "df.RainTomorrow.value_counts() / df.shape[0]"
      ],
      "execution_count": null,
      "outputs": [
        {
          "output_type": "execute_result",
          "data": {
            "text/plain": [
              "0    0.778762\n",
              "1    0.221238\n",
              "Name: RainTomorrow, dtype: float64"
            ]
          },
          "metadata": {
            "tags": []
          },
          "execution_count": 12
        }
      ]
    },
    {
      "cell_type": "markdown",
      "metadata": {
        "id": "NnJbP0QMUU_h"
      },
      "source": [
        "Things are not looking good. About 78% of the data points have a non-rainy day for tomorrow. This means that a model that predicts there will be no rain tomorrow will be correct about 78% of the time.\n",
        "\n",
        "You can read and apply the [Practical Guide to Handling Imbalanced Datasets](https://www.curiousily.com/posts/practical-guide-to-handling-imbalanced-datasets/) if you want to mitigate this issue. Here, we'll just hope for the best.\n",
        "\n",
        "The final step is to split the data into train and test sets:"
      ]
    },
    {
      "cell_type": "code",
      "metadata": {
        "id": "RdI7qBpgNTr7"
      },
      "source": [
        "X = df[['Rainfall', 'Humidity3pm', 'RainToday', 'Pressure9am']]\n",
        "y = df[['RainTomorrow']]\n",
        "\n",
        "X_train, X_test, y_train, y_test = train_test_split(X, y, test_size=0.2, random_state=RANDOM_SEED)"
      ],
      "execution_count": null,
      "outputs": []
    },
    {
      "cell_type": "markdown",
      "metadata": {
        "id": "LwFOIU-KWt8b"
      },
      "source": [
        "And convert all of it to Tensors (so we can use it with PyTorch):"
      ]
    },
    {
      "cell_type": "code",
      "metadata": {
        "id": "GGOBFwarzrts",
        "colab": {
          "base_uri": "https://localhost:8080/",
          "height": 51
        },
        "outputId": "5918e82d-77f9-4fc8-fa95-b1e2b1997a91"
      },
      "source": [
        "X_train = torch.from_numpy(X_train.to_numpy()).float()\n",
        "y_train = torch.squeeze(torch.from_numpy(y_train.to_numpy()).float())\n",
        "\n",
        "X_test = torch.from_numpy(X_test.to_numpy()).float()\n",
        "y_test = torch.squeeze(torch.from_numpy(y_test.to_numpy()).float())\n",
        "\n",
        "print(X_train.shape, y_train.shape)\n",
        "print(X_test.shape, y_test.shape)"
      ],
      "execution_count": null,
      "outputs": [
        {
          "output_type": "stream",
          "text": [
            "torch.Size([99751, 4]) torch.Size([99751])\n",
            "torch.Size([24938, 4]) torch.Size([24938])\n"
          ],
          "name": "stdout"
        }
      ]
    },
    {
      "cell_type": "markdown",
      "metadata": {
        "id": "WS3p73do3T4X"
      },
      "source": [
        "## Building a Neural Network\n",
        "\n",
        "We'll build a simple Neural Network (NN) that tries to predicts will it rain tomorrow. \n",
        "\n",
        "Our input contains data from the four columns: `Rainfall, Humidity3pm, RainToday, Pressure9am`. We'll create an appropriate input layer for that.\n",
        "\n",
        "The output will be a number between 0 and 1, representing how likely (our model thinks) it is going to rain tomorrow. The prediction will be given to us by the final (output) layer of the network. \n",
        "\n",
        "We'll two (hidden) layers between the input and output layers. The parameters (neurons) of those layer will decide the final output. All layers will be fully-connected.\n",
        "\n",
        "One easy way to build the NN with PyTorch is to create a class that inherits from `torch.nn.Module`:\n"
      ]
    },
    {
      "cell_type": "code",
      "metadata": {
        "id": "h1XNn_zmN7C_"
      },
      "source": [
        "class Net(nn.Module):\n",
        "\n",
        "  def __init__(self, n_features):\n",
        "    super(Net, self).__init__()\n",
        "    self.fc1 = nn.Linear(n_features, 5)\n",
        "    self.fc2 = nn.Linear(5, 3)\n",
        "    self.fc3 = nn.Linear(3, 1)\n",
        "\n",
        "  def forward(self, x):\n",
        "    x = F.relu(self.fc1(x))\n",
        "    x = F.relu(self.fc2(x))\n",
        "    return torch.sigmoid(self.fc3(x))"
      ],
      "execution_count": null,
      "outputs": []
    },
    {
      "cell_type": "code",
      "metadata": {
        "id": "iVF6WoxRl6bT",
        "colab": {
          "base_uri": "https://localhost:8080/",
          "height": 612
        },
        "outputId": "90b6a80e-e088-4dc7-b730-ea1ff4e28833"
      },
      "source": [
        "net = Net(X_train.shape[1])\n",
        "\n",
        "ann_viz(net, view=False)"
      ],
      "execution_count": null,
      "outputs": [
        {
          "output_type": "execute_result",
          "data": {
            "text/plain": [
              "<graphviz.dot.Digraph at 0x7f33aafda048>"
            ],
            "image/svg+xml": "<?xml version=\"1.0\" encoding=\"UTF-8\" standalone=\"no\"?>\n<!DOCTYPE svg PUBLIC \"-//W3C//DTD SVG 1.1//EN\"\n \"http://www.w3.org/Graphics/SVG/1.1/DTD/svg11.dtd\">\n<!-- Generated by graphviz version 2.40.1 (20161225.0304)\n -->\n<!-- Title: g Pages: 1 -->\n<svg width=\"424pt\" height=\"443pt\"\n viewBox=\"0.00 0.00 424.00 443.00\" xmlns=\"http://www.w3.org/2000/svg\" xmlns:xlink=\"http://www.w3.org/1999/xlink\">\n<g id=\"graph0\" class=\"graph\" transform=\"scale(1 1) rotate(0) translate(4 439)\">\n<title>g</title>\n<polygon fill=\"#ffffff\" stroke=\"transparent\" points=\"-4,4 -4,-439 420,-439 420,4 -4,4\"/>\n<g id=\"clust1\" class=\"cluster\">\n<title>cluster_input</title>\n<polygon fill=\"none\" stroke=\"#ffffff\" points=\"0,-49 0,-385 84,-385 84,-49 0,-49\"/>\n<text text-anchor=\"middle\" x=\"42\" y=\"-56.8\" font-family=\"Times,serif\" font-size=\"14.00\" fill=\"#000000\">Input Layer</text>\n</g>\n<g id=\"clust2\" class=\"cluster\">\n<title>cluster_1</title>\n<polygon fill=\"none\" stroke=\"#ffffff\" points=\"92,-8 92,-427 199,-427 199,-8 92,-8\"/>\n<text text-anchor=\"middle\" x=\"145.5\" y=\"-15.8\" font-family=\"Times,serif\" font-size=\"14.00\" fill=\"#000000\">Hidden Layer 1</text>\n</g>\n<g id=\"clust3\" class=\"cluster\">\n<title>cluster_2</title>\n<polygon fill=\"none\" stroke=\"#ffffff\" points=\"207,-91 207,-344 314,-344 314,-91 207,-91\"/>\n<text text-anchor=\"middle\" x=\"260.5\" y=\"-98.8\" font-family=\"Times,serif\" font-size=\"14.00\" fill=\"#000000\">Hidden Layer 2</text>\n</g>\n<g id=\"clust4\" class=\"cluster\">\n<title>cluster_output</title>\n<polygon fill=\"none\" stroke=\"#ffffff\" points=\"322,-174 322,-261 416,-261 416,-174 322,-174\"/>\n<text text-anchor=\"middle\" x=\"369\" y=\"-181.8\" font-family=\"Times,serif\" font-size=\"14.00\" fill=\"#000000\">Output Layer</text>\n</g>\n<!-- 1 -->\n<g id=\"node1\" class=\"node\">\n<title>1</title>\n<ellipse fill=\"#ff006d\" stroke=\"#ff006d\" cx=\"41.5\" cy=\"-353\" rx=\"23.5\" ry=\"23.5\"/>\n<text text-anchor=\"middle\" x=\"41.5\" y=\"-349.3\" font-family=\"Times,serif\" font-size=\"14.00\" fill=\"#ff006d\">1</text>\n</g>\n<!-- 5 -->\n<g id=\"node5\" class=\"node\">\n<title>5</title>\n<ellipse fill=\"#01befe\" stroke=\"#01befe\" cx=\"145.5\" cy=\"-146\" rx=\"23.5\" ry=\"23.5\"/>\n<text text-anchor=\"middle\" x=\"145.5\" y=\"-142.3\" font-family=\"Times,serif\" font-size=\"14.00\" fill=\"#01befe\">5</text>\n</g>\n<!-- 1&#45;&gt;5 -->\n<g id=\"edge1\" class=\"edge\">\n<title>1&#45;&gt;5</title>\n<path fill=\"none\" stroke=\"#707070\" stroke-width=\"2\" d=\"M52.2381,-331.627C72.2189,-291.8576 114.8838,-206.9379 134.8203,-167.2567\"/>\n</g>\n<!-- 6 -->\n<g id=\"node6\" class=\"node\">\n<title>6</title>\n<ellipse fill=\"#01befe\" stroke=\"#01befe\" cx=\"145.5\" cy=\"-63\" rx=\"23.5\" ry=\"23.5\"/>\n<text text-anchor=\"middle\" x=\"145.5\" y=\"-59.3\" font-family=\"Times,serif\" font-size=\"14.00\" fill=\"#01befe\">6</text>\n</g>\n<!-- 1&#45;&gt;6 -->\n<g id=\"edge5\" class=\"edge\">\n<title>1&#45;&gt;6</title>\n<path fill=\"none\" stroke=\"#707070\" stroke-width=\"2\" d=\"M49.488,-330.7257C68.8467,-276.7449 118.0981,-139.409 137.4848,-85.3502\"/>\n</g>\n<!-- 7 -->\n<g id=\"node7\" class=\"node\">\n<title>7</title>\n<ellipse fill=\"#01befe\" stroke=\"#01befe\" cx=\"145.5\" cy=\"-395\" rx=\"23.5\" ry=\"23.5\"/>\n<text text-anchor=\"middle\" x=\"145.5\" y=\"-391.3\" font-family=\"Times,serif\" font-size=\"14.00\" fill=\"#01befe\">7</text>\n</g>\n<!-- 1&#45;&gt;7 -->\n<g id=\"edge9\" class=\"edge\">\n<title>1&#45;&gt;7</title>\n<path fill=\"none\" stroke=\"#707070\" stroke-width=\"2\" d=\"M63.3018,-361.8046C80.9324,-368.9246 105.6506,-378.907 123.3687,-386.0624\"/>\n</g>\n<!-- 8 -->\n<g id=\"node8\" class=\"node\">\n<title>8</title>\n<ellipse fill=\"#01befe\" stroke=\"#01befe\" cx=\"145.5\" cy=\"-312\" rx=\"23.5\" ry=\"23.5\"/>\n<text text-anchor=\"middle\" x=\"145.5\" y=\"-308.3\" font-family=\"Times,serif\" font-size=\"14.00\" fill=\"#01befe\">8</text>\n</g>\n<!-- 1&#45;&gt;8 -->\n<g id=\"edge13\" class=\"edge\">\n<title>1&#45;&gt;8</title>\n<path fill=\"none\" stroke=\"#707070\" stroke-width=\"2\" d=\"M63.5557,-344.305C81.2049,-337.3471 105.8353,-327.637 123.4761,-320.6825\"/>\n</g>\n<!-- 9 -->\n<g id=\"node9\" class=\"node\">\n<title>9</title>\n<ellipse fill=\"#01befe\" stroke=\"#01befe\" cx=\"145.5\" cy=\"-229\" rx=\"23.5\" ry=\"23.5\"/>\n<text text-anchor=\"middle\" x=\"145.5\" y=\"-225.3\" font-family=\"Times,serif\" font-size=\"14.00\" fill=\"#01befe\">9</text>\n</g>\n<!-- 1&#45;&gt;9 -->\n<g id=\"edge17\" class=\"edge\">\n<title>1&#45;&gt;9</title>\n<path fill=\"none\" stroke=\"#707070\" stroke-width=\"2\" d=\"M56.6225,-334.9693C76.3402,-311.4598 110.6326,-270.5727 130.3593,-247.0524\"/>\n</g>\n<!-- 2 -->\n<g id=\"node2\" class=\"node\">\n<title>2</title>\n<ellipse fill=\"#ff006d\" stroke=\"#ff006d\" cx=\"41.5\" cy=\"-270\" rx=\"23.5\" ry=\"23.5\"/>\n<text text-anchor=\"middle\" x=\"41.5\" y=\"-266.3\" font-family=\"Times,serif\" font-size=\"14.00\" fill=\"#ff006d\">2</text>\n</g>\n<!-- 2&#45;&gt;5 -->\n<g id=\"edge2\" class=\"edge\">\n<title>2&#45;&gt;5</title>\n<path fill=\"none\" stroke=\"#707070\" stroke-width=\"2\" d=\"M56.6225,-251.9693C76.3402,-228.4598 110.6326,-187.5727 130.3593,-164.0524\"/>\n</g>\n<!-- 2&#45;&gt;6 -->\n<g id=\"edge6\" class=\"edge\">\n<title>2&#45;&gt;6</title>\n<path fill=\"none\" stroke=\"#707070\" stroke-width=\"2\" d=\"M52.2381,-248.627C72.2189,-208.8576 114.8838,-123.9379 134.8203,-84.2567\"/>\n</g>\n<!-- 2&#45;&gt;7 -->\n<g id=\"edge10\" class=\"edge\">\n<title>2&#45;&gt;7</title>\n<path fill=\"none\" stroke=\"#707070\" stroke-width=\"2\" d=\"M56.6225,-288.1761C76.3402,-311.8752 110.6326,-353.092 130.3593,-376.802\"/>\n</g>\n<!-- 2&#45;&gt;8 -->\n<g id=\"edge14\" class=\"edge\">\n<title>2&#45;&gt;8</title>\n<path fill=\"none\" stroke=\"#707070\" stroke-width=\"2\" d=\"M63.3018,-278.8046C80.9324,-285.9246 105.6506,-295.907 123.3687,-303.0624\"/>\n</g>\n<!-- 2&#45;&gt;9 -->\n<g id=\"edge18\" class=\"edge\">\n<title>2&#45;&gt;9</title>\n<path fill=\"none\" stroke=\"#707070\" stroke-width=\"2\" d=\"M63.5557,-261.305C81.2049,-254.3471 105.8353,-244.637 123.4761,-237.6825\"/>\n</g>\n<!-- 3 -->\n<g id=\"node3\" class=\"node\">\n<title>3</title>\n<ellipse fill=\"#ff006d\" stroke=\"#ff006d\" cx=\"41.5\" cy=\"-187\" rx=\"23.5\" ry=\"23.5\"/>\n<text text-anchor=\"middle\" x=\"41.5\" y=\"-183.3\" font-family=\"Times,serif\" font-size=\"14.00\" fill=\"#ff006d\">3</text>\n</g>\n<!-- 3&#45;&gt;5 -->\n<g id=\"edge3\" class=\"edge\">\n<title>3&#45;&gt;5</title>\n<path fill=\"none\" stroke=\"#707070\" stroke-width=\"2\" d=\"M63.5557,-178.305C81.2049,-171.3471 105.8353,-161.637 123.4761,-154.6825\"/>\n</g>\n<!-- 3&#45;&gt;6 -->\n<g id=\"edge7\" class=\"edge\">\n<title>3&#45;&gt;6</title>\n<path fill=\"none\" stroke=\"#707070\" stroke-width=\"2\" d=\"M56.6225,-168.9693C76.3402,-145.4598 110.6326,-104.5727 130.3593,-81.0524\"/>\n</g>\n<!-- 3&#45;&gt;7 -->\n<g id=\"edge11\" class=\"edge\">\n<title>3&#45;&gt;7</title>\n<path fill=\"none\" stroke=\"#707070\" stroke-width=\"2\" d=\"M52.0444,-208.0888C71.9775,-247.9551 114.973,-333.9461 134.9277,-373.8554\"/>\n</g>\n<!-- 3&#45;&gt;8 -->\n<g id=\"edge15\" class=\"edge\">\n<title>3&#45;&gt;8</title>\n<path fill=\"none\" stroke=\"#707070\" stroke-width=\"2\" d=\"M56.6225,-205.1761C76.3402,-228.8752 110.6326,-270.092 130.3593,-293.802\"/>\n</g>\n<!-- 3&#45;&gt;9 -->\n<g id=\"edge19\" class=\"edge\">\n<title>3&#45;&gt;9</title>\n<path fill=\"none\" stroke=\"#707070\" stroke-width=\"2\" d=\"M63.3018,-195.8046C80.9324,-202.9246 105.6506,-212.907 123.3687,-220.0624\"/>\n</g>\n<!-- 4 -->\n<g id=\"node4\" class=\"node\">\n<title>4</title>\n<ellipse fill=\"#ff006d\" stroke=\"#ff006d\" cx=\"41.5\" cy=\"-104\" rx=\"23.5\" ry=\"23.5\"/>\n<text text-anchor=\"middle\" x=\"41.5\" y=\"-100.3\" font-family=\"Times,serif\" font-size=\"14.00\" fill=\"#ff006d\">4</text>\n</g>\n<!-- 4&#45;&gt;5 -->\n<g id=\"edge4\" class=\"edge\">\n<title>4&#45;&gt;5</title>\n<path fill=\"none\" stroke=\"#707070\" stroke-width=\"2\" d=\"M63.3018,-112.8046C80.9324,-119.9246 105.6506,-129.907 123.3687,-137.0624\"/>\n</g>\n<!-- 4&#45;&gt;6 -->\n<g id=\"edge8\" class=\"edge\">\n<title>4&#45;&gt;6</title>\n<path fill=\"none\" stroke=\"#707070\" stroke-width=\"2\" d=\"M63.5557,-95.305C81.2049,-88.3471 105.8353,-78.637 123.4761,-71.6825\"/>\n</g>\n<!-- 4&#45;&gt;7 -->\n<g id=\"edge12\" class=\"edge\">\n<title>4&#45;&gt;7</title>\n<path fill=\"none\" stroke=\"#707070\" stroke-width=\"2\" d=\"M49.488,-126.3511C68.8467,-180.5181 118.0981,-318.3275 137.4848,-372.5728\"/>\n</g>\n<!-- 4&#45;&gt;8 -->\n<g id=\"edge16\" class=\"edge\">\n<title>4&#45;&gt;8</title>\n<path fill=\"none\" stroke=\"#707070\" stroke-width=\"2\" d=\"M52.0444,-125.0888C71.9775,-164.9551 114.973,-250.9461 134.9277,-290.8554\"/>\n</g>\n<!-- 4&#45;&gt;9 -->\n<g id=\"edge20\" class=\"edge\">\n<title>4&#45;&gt;9</title>\n<path fill=\"none\" stroke=\"#707070\" stroke-width=\"2\" d=\"M56.6225,-122.1761C76.3402,-145.8752 110.6326,-187.092 130.3593,-210.802\"/>\n</g>\n<!-- 10 -->\n<g id=\"node10\" class=\"node\">\n<title>10</title>\n<ellipse fill=\"#01befe\" stroke=\"#01befe\" cx=\"260.5\" cy=\"-146\" rx=\"23.5\" ry=\"23.5\"/>\n<text text-anchor=\"middle\" x=\"260.5\" y=\"-142.3\" font-family=\"Times,serif\" font-size=\"14.00\" fill=\"#01befe\">10</text>\n</g>\n<!-- 5&#45;&gt;10 -->\n<g id=\"edge21\" class=\"edge\">\n<title>5&#45;&gt;10</title>\n<path fill=\"none\" stroke=\"#707070\" stroke-width=\"2\" d=\"M169.0495,-146C188.8946,-146 217.1458,-146 236.982,-146\"/>\n</g>\n<!-- 11 -->\n<g id=\"node11\" class=\"node\">\n<title>11</title>\n<ellipse fill=\"#01befe\" stroke=\"#01befe\" cx=\"260.5\" cy=\"-312\" rx=\"23.5\" ry=\"23.5\"/>\n<text text-anchor=\"middle\" x=\"260.5\" y=\"-308.3\" font-family=\"Times,serif\" font-size=\"14.00\" fill=\"#01befe\">11</text>\n</g>\n<!-- 5&#45;&gt;11 -->\n<g id=\"edge26\" class=\"edge\">\n<title>5&#45;&gt;11</title>\n<path fill=\"none\" stroke=\"#707070\" stroke-width=\"2\" d=\"M158.917,-165.3672C181.0171,-197.2681 224.8303,-260.5116 246.9907,-292.4996\"/>\n</g>\n<!-- 12 -->\n<g id=\"node12\" class=\"node\">\n<title>12</title>\n<ellipse fill=\"#01befe\" stroke=\"#01befe\" cx=\"260.5\" cy=\"-229\" rx=\"23.5\" ry=\"23.5\"/>\n<text text-anchor=\"middle\" x=\"260.5\" y=\"-225.3\" font-family=\"Times,serif\" font-size=\"14.00\" fill=\"#01befe\">12</text>\n</g>\n<!-- 5&#45;&gt;12 -->\n<g id=\"edge31\" class=\"edge\">\n<title>5&#45;&gt;12</title>\n<path fill=\"none\" stroke=\"#707070\" stroke-width=\"2\" d=\"M164.7484,-159.8923C185.9768,-175.2137 219.9354,-199.7229 241.1888,-215.0623\"/>\n</g>\n<!-- 6&#45;&gt;10 -->\n<g id=\"edge22\" class=\"edge\">\n<title>6&#45;&gt;10</title>\n<path fill=\"none\" stroke=\"#707070\" stroke-width=\"2\" d=\"M164.7484,-76.8923C185.9768,-92.2137 219.9354,-116.7229 241.1888,-132.0623\"/>\n</g>\n<!-- 6&#45;&gt;11 -->\n<g id=\"edge27\" class=\"edge\">\n<title>6&#45;&gt;11</title>\n<path fill=\"none\" stroke=\"#707070\" stroke-width=\"2\" d=\"M155.5043,-84.6615C177.3081,-131.8715 228.8929,-243.5638 250.6007,-290.5659\"/>\n</g>\n<!-- 6&#45;&gt;12 -->\n<g id=\"edge32\" class=\"edge\">\n<title>6&#45;&gt;12</title>\n<path fill=\"none\" stroke=\"#707070\" stroke-width=\"2\" d=\"M158.917,-82.3672C181.0171,-114.2681 224.8303,-177.5116 246.9907,-209.4996\"/>\n</g>\n<!-- 7&#45;&gt;10 -->\n<g id=\"edge23\" class=\"edge\">\n<title>7&#45;&gt;10</title>\n<path fill=\"none\" stroke=\"#707070\" stroke-width=\"2\" d=\"M155.5043,-373.3385C177.3081,-326.1285 228.8929,-214.4362 250.6007,-167.4341\"/>\n</g>\n<!-- 7&#45;&gt;11 -->\n<g id=\"edge28\" class=\"edge\">\n<title>7&#45;&gt;11</title>\n<path fill=\"none\" stroke=\"#707070\" stroke-width=\"2\" d=\"M164.7484,-381.1077C185.9768,-365.7863 219.9354,-341.2771 241.1888,-325.9377\"/>\n</g>\n<!-- 7&#45;&gt;12 -->\n<g id=\"edge33\" class=\"edge\">\n<title>7&#45;&gt;12</title>\n<path fill=\"none\" stroke=\"#707070\" stroke-width=\"2\" d=\"M158.917,-375.6328C181.0171,-343.7319 224.8303,-280.4884 246.9907,-248.5004\"/>\n</g>\n<!-- 8&#45;&gt;10 -->\n<g id=\"edge24\" class=\"edge\">\n<title>8&#45;&gt;10</title>\n<path fill=\"none\" stroke=\"#707070\" stroke-width=\"2\" d=\"M158.917,-292.6328C181.0171,-260.7319 224.8303,-197.4884 246.9907,-165.5004\"/>\n</g>\n<!-- 8&#45;&gt;11 -->\n<g id=\"edge29\" class=\"edge\">\n<title>8&#45;&gt;11</title>\n<path fill=\"none\" stroke=\"#707070\" stroke-width=\"2\" d=\"M169.0495,-312C188.8946,-312 217.1458,-312 236.982,-312\"/>\n</g>\n<!-- 8&#45;&gt;12 -->\n<g id=\"edge34\" class=\"edge\">\n<title>8&#45;&gt;12</title>\n<path fill=\"none\" stroke=\"#707070\" stroke-width=\"2\" d=\"M164.7484,-298.1077C185.9768,-282.7863 219.9354,-258.2771 241.1888,-242.9377\"/>\n</g>\n<!-- 9&#45;&gt;10 -->\n<g id=\"edge25\" class=\"edge\">\n<title>9&#45;&gt;10</title>\n<path fill=\"none\" stroke=\"#707070\" stroke-width=\"2\" d=\"M164.7484,-215.1077C185.9768,-199.7863 219.9354,-175.2771 241.1888,-159.9377\"/>\n</g>\n<!-- 9&#45;&gt;11 -->\n<g id=\"edge30\" class=\"edge\">\n<title>9&#45;&gt;11</title>\n<path fill=\"none\" stroke=\"#707070\" stroke-width=\"2\" d=\"M164.7484,-242.8923C185.9768,-258.2137 219.9354,-282.7229 241.1888,-298.0623\"/>\n</g>\n<!-- 9&#45;&gt;12 -->\n<g id=\"edge35\" class=\"edge\">\n<title>9&#45;&gt;12</title>\n<path fill=\"none\" stroke=\"#707070\" stroke-width=\"2\" d=\"M169.0495,-229C188.8946,-229 217.1458,-229 236.982,-229\"/>\n</g>\n<!-- 13 -->\n<g id=\"node13\" class=\"node\">\n<title>13</title>\n<ellipse fill=\"#93d30c\" stroke=\"#93d30c\" cx=\"368.5\" cy=\"-229\" rx=\"23.5\" ry=\"23.5\"/>\n<text text-anchor=\"middle\" x=\"368.5\" y=\"-225.3\" font-family=\"Times,serif\" font-size=\"14.00\" fill=\"#93d30c\">13</text>\n</g>\n<!-- 10&#45;&gt;13 -->\n<g id=\"edge36\" class=\"edge\">\n<title>10&#45;&gt;13</title>\n<path fill=\"none\" stroke=\"#707070\" stroke-width=\"2\" d=\"M279.3122,-160.4575C299.014,-175.5987 329.7845,-199.2464 349.541,-214.4297\"/>\n</g>\n<!-- 11&#45;&gt;13 -->\n<g id=\"edge37\" class=\"edge\">\n<title>11&#45;&gt;13</title>\n<path fill=\"none\" stroke=\"#707070\" stroke-width=\"2\" d=\"M279.3122,-297.5425C299.014,-282.4013 329.7845,-258.7536 349.541,-243.5703\"/>\n</g>\n<!-- 12&#45;&gt;13 -->\n<g id=\"edge38\" class=\"edge\">\n<title>12&#45;&gt;13</title>\n<path fill=\"none\" stroke=\"#707070\" stroke-width=\"2\" d=\"M284.2011,-229C302.208,-229 326.8609,-229 344.8542,-229\"/>\n</g>\n</g>\n</svg>\n"
          },
          "metadata": {
            "tags": []
          },
          "execution_count": 16
        }
      ]
    },
    {
      "cell_type": "markdown",
      "metadata": {
        "id": "MJpO95ILXasL"
      },
      "source": [
        "We start by creating the layers of our model in the constructor. The `forward()` method is where the magic happens. It accepts the input `x` and allows it to flow through each layer.\n",
        "\n",
        "There is a corresponding backward pass (defined for you by PyTorch) that allows the model to learn from the errors that is currently making.\n",
        "\n",
        "### Activation Functions\n",
        "\n",
        "You might notice the calls to `F.relu` and `torch.sigmoid`. Why do we need those?\n",
        "\n",
        "One of the cool *features* of Neural Networks is that they can approximate non-linear functions. In fact, [it is proven that they can approximate any function](https://en.wikipedia.org/wiki/Universal_approximation_theorem).\n",
        "\n",
        "Good luck approximating non-linear functions by stacking linear layers. Activation functions allow you to break from the linear world and learn (hopefully) more. You'll usually find them applied to an output of some layer. \n",
        "\n",
        "Those functions must be hard to define, right?\n",
        "\n",
        "#### ReLU\n",
        "\n",
        "Not at all, let start with the ReLU definition (one of the most widely used activation function):\n",
        "\n",
        "$$\n",
        "\\text{ReLU}(x) = \\max({0, x})\n",
        "$$\n",
        "\n",
        "Easy peasy, the result is the maximum value of zero and the input."
      ]
    },
    {
      "cell_type": "code",
      "metadata": {
        "id": "X8dFMwTrhmKv",
        "colab": {
          "base_uri": "https://localhost:8080/",
          "height": 493
        },
        "outputId": "bbe157d8-2d6f-4455-cca7-2d1e6e211fc8"
      },
      "source": [
        "ax = plt.gca()\n",
        "\n",
        "plt.plot(\n",
        "  np.linspace(-1, 1, 5), \n",
        "  F.relu(torch.linspace(-1, 1, steps=5)).numpy()\n",
        ")\n",
        "ax.set_ylim([-1.5, 1.5]);"
      ],
      "execution_count": null,
      "outputs": [
        {
          "output_type": "display_data",
          "data": {
            "image/png": "[encoded data removed]",
            "text/plain": [
              "<Figure size 864x576 with 1 Axes>"
            ]
          },
          "metadata": {
            "tags": [],
            "image/png": {
              "width": 725,
              "height": 476
            }
          }
        }
      ]
    },
    {
      "cell_type": "markdown",
      "metadata": {
        "id": "ngpYTzfUCQF2"
      },
      "source": [
        "#### Sigmoid\n",
        "\n",
        "The sigmoid is useful when you need to make a binary decision/classification (answering with a *yes* or a *no*). \n",
        "\n",
        "It is defined as:\n",
        "\n",
        "$$\\text{Sigmoid}(x) = \\frac{1}{1+e^{-x}}$$\n",
        "\n",
        "The sigmoid squishes the input values between 0 and 1. But in a super kind of way:"
      ]
    },
    {
      "cell_type": "code",
      "metadata": {
        "id": "35giPZUfAgV6",
        "colab": {
          "base_uri": "https://localhost:8080/",
          "height": 493
        },
        "outputId": "618568ab-f71a-4936-9eec-532c564040e4"
      },
      "source": [
        "ax = plt.gca()\n",
        "\n",
        "plt.plot(\n",
        "  np.linspace(-10, 10, 100), \n",
        "  torch.sigmoid(torch.linspace(-10, 10, steps=100)).numpy()\n",
        ")\n",
        "ax.set_ylim([-1.5, 1.5]);"
      ],
      "execution_count": null,
      "outputs": [
        {
          "output_type": "display_data",
          "data": {
            "image/png": "[encoded data removed]",
            "text/plain": [
              "<Figure size 864x576 with 1 Axes>"
            ]
          },
          "metadata": {
            "tags": [],
            "image/png": {
              "width": 725,
              "height": 476
            }
          }
        }
      ]
    },
    {
      "cell_type": "markdown",
      "metadata": {
        "id": "Hj_KFvzl3SsA"
      },
      "source": [
        "## Training\n",
        "\n",
        "With the model in place, we need to find parameters that predict will it rain tomorrow. First, we need something to tell us how good we're currently doing:"
      ]
    },
    {
      "cell_type": "code",
      "metadata": {
        "id": "MhL1DT_MQIIf"
      },
      "source": [
        "criterion = nn.BCELoss()"
      ],
      "execution_count": null,
      "outputs": []
    },
    {
      "cell_type": "markdown",
      "metadata": {
        "id": "byOLim3xSElu"
      },
      "source": [
        "The [BCELoss](https://pytorch.org/docs/stable/nn.html#bceloss) is a loss function that measures the difference between the two binary vectors. In our case, the predictions of our model and the real values. It expects the values to be outputed by the sigmoid function. The closer this value gets to 0, the better your model should be.\n",
        "\n",
        "But how do we find parameters that minimize the loss function?\n",
        "\n",
        "### Optimization\n",
        "\n",
        "Imagine that each parameter of our NN is a knob. The optimizer's job is to find the perfect positions for each knob so that the loss gets close to 0. \n",
        "\n",
        "Real-world models can contain millions or even billions of parameters. With so many knobs to turn, it would be nice to have an efficient optimizer that quickly finds solutions.\n",
        "\n",
        "Contrary to what you might believe, optimization in Deep Learning is just satisfying. In practice, you're content with good enough parameter values.\n",
        "\n",
        "While there are tons of optimizers you can choose from, [Adam](https://pytorch.org/docs/stable/optim.html#torch.optim.Adam) is a safe first choice. PyTorch has a well-debugged implementation you can use:"
      ]
    },
    {
      "cell_type": "code",
      "metadata": {
        "id": "Q2rXijYXUEjJ"
      },
      "source": [
        "optimizer = optim.Adam(net.parameters(), lr=0.001)"
      ],
      "execution_count": null,
      "outputs": []
    },
    {
      "cell_type": "markdown",
      "metadata": {
        "id": "S5eNPERFXEC-"
      },
      "source": [
        "Naturally, the optimizer requires the parameters. The second argument `lr` is *learning rate*. It is a tradeoff between how good parameters you're going to find and how fast you'll get there. Finding good values for this can be black magic and a lot of brute-force \"experimentation\".\n",
        "\n",
        "### Doing it on the GPU\n",
        "\n",
        "Doing massively parallel computations on GPUs is one of the enablers for modern Deep Learning. You'll need nVIDIA GPU for that.\n",
        "\n",
        "PyTorch makes it really easy to transfer all the computation to your GPU:"
      ]
    },
    {
      "cell_type": "code",
      "metadata": {
        "id": "OHX2pDdkuzvo"
      },
      "source": [
        "device = torch.device(\"cuda:0\" if torch.cuda.is_available() else \"cpu\")"
      ],
      "execution_count": null,
      "outputs": []
    },
    {
      "cell_type": "code",
      "metadata": {
        "id": "6fHaY9Owvb6s"
      },
      "source": [
        "X_train = X_train.to(device)\n",
        "y_train = y_train.to(device)\n",
        "\n",
        "X_test = X_test.to(device)\n",
        "y_test = y_test.to(device)"
      ],
      "execution_count": null,
      "outputs": []
    },
    {
      "cell_type": "code",
      "metadata": {
        "id": "32SucCs6vXCp"
      },
      "source": [
        "net = net.to(device)\n",
        "\n",
        "criterion = criterion.to(device)"
      ],
      "execution_count": null,
      "outputs": []
    },
    {
      "cell_type": "markdown",
      "metadata": {
        "id": "UbSU2TBkYfO2"
      },
      "source": [
        "We start by checking whether or not a CUDA device is available. Then, we transfer all training and test data to that device. Finally, we move our model and loss function.\n",
        "\n",
        "### Finding Good Parameters\n",
        "\n",
        "Having a loss function is great, but tracking the accuracy of our model is something easier to understand, for us mere mortals. Here's the definition for our accuracy:"
      ]
    },
    {
      "cell_type": "code",
      "metadata": {
        "id": "4AWiqHzlt59W"
      },
      "source": [
        "def calculate_accuracy(y_true, y_pred):\n",
        "  predicted = y_pred.ge(.5).view(-1)\n",
        "  return (y_true == predicted).sum().float() / len(y_true)"
      ],
      "execution_count": null,
      "outputs": []
    },
    {
      "cell_type": "markdown",
      "metadata": {
        "id": "LwyrFDedbU-B"
      },
      "source": [
        "We convert every value below 0.5 to 0. Otherwise, we set it to 1. Finally, we calculate the percentage of correct values.\n",
        "\n",
        "With all the pieces of the puzzle in place, we can start training our model:"
      ]
    },
    {
      "cell_type": "code",
      "metadata": {
        "id": "D6hnlmt1ciGo",
        "colab": {
          "base_uri": "https://localhost:8080/",
          "height": 697
        },
        "outputId": "563a7506-d51c-4b76-960f-da47e36745dc"
      },
      "source": [
        "def round_tensor(t, decimal_places=3):\n",
        "  return round(t.item(), decimal_places)\n",
        "\n",
        "for epoch in range(1000):\n",
        "    \n",
        "    y_pred = net(X_train)\n",
        "    \n",
        "    y_pred = torch.squeeze(y_pred)\n",
        "    train_loss = criterion(y_pred, y_train)\n",
        "    \n",
        "    if epoch % 100 == 0:\n",
        "      train_acc = calculate_accuracy(y_train, y_pred)\n",
        "\n",
        "      y_test_pred = net(X_test)\n",
        "      y_test_pred = torch.squeeze(y_test_pred)\n",
        "\n",
        "      test_loss = criterion(y_test_pred, y_test)\n",
        "\n",
        "      test_acc = calculate_accuracy(y_test, y_test_pred)\n",
        "      print(\n",
        "f'''epoch {epoch}\n",
        "Train set - loss: {round_tensor(train_loss)}, accuracy: {round_tensor(train_acc)}\n",
        "Test  set - loss: {round_tensor(test_loss)}, accuracy: {round_tensor(test_acc)}\n",
        "''')\n",
        "    \n",
        "    optimizer.zero_grad()\n",
        "    \n",
        "    train_loss.backward()\n",
        "    \n",
        "    optimizer.step()"
      ],
      "execution_count": null,
      "outputs": [
        {
          "output_type": "stream",
          "text": [
            "epoch 0\n",
            "Train set - loss: 2.513, accuracy: 0.779\n",
            "Test  set - loss: 2.517, accuracy: 0.778\n",
            "\n",
            "epoch 100\n",
            "Train set - loss: 0.457, accuracy: 0.792\n",
            "Test  set - loss: 0.458, accuracy: 0.793\n",
            "\n",
            "epoch 200\n",
            "Train set - loss: 0.435, accuracy: 0.801\n",
            "Test  set - loss: 0.436, accuracy: 0.8\n",
            "\n",
            "epoch 300\n",
            "Train set - loss: 0.421, accuracy: 0.814\n",
            "Test  set - loss: 0.421, accuracy: 0.815\n",
            "\n",
            "epoch 400\n",
            "Train set - loss: 0.412, accuracy: 0.826\n",
            "Test  set - loss: 0.413, accuracy: 0.827\n",
            "\n",
            "epoch 500\n",
            "Train set - loss: 0.408, accuracy: 0.831\n",
            "Test  set - loss: 0.408, accuracy: 0.832\n",
            "\n",
            "epoch 600\n",
            "Train set - loss: 0.406, accuracy: 0.833\n",
            "Test  set - loss: 0.406, accuracy: 0.835\n",
            "\n",
            "epoch 700\n",
            "Train set - loss: 0.405, accuracy: 0.834\n",
            "Test  set - loss: 0.405, accuracy: 0.835\n",
            "\n",
            "epoch 800\n",
            "Train set - loss: 0.404, accuracy: 0.834\n",
            "Test  set - loss: 0.404, accuracy: 0.835\n",
            "\n",
            "epoch 900\n",
            "Train set - loss: 0.404, accuracy: 0.834\n",
            "Test  set - loss: 0.404, accuracy: 0.836\n",
            "\n"
          ],
          "name": "stdout"
        }
      ]
    },
    {
      "cell_type": "markdown",
      "metadata": {
        "id": "Fb4WPtLjfn7m"
      },
      "source": [
        "During the training, we show our model the data for `10,000` times. Each time we measure the loss, propagate the errors trough our model and asking the optimizer to find better parameters.\n",
        "\n",
        "The `zero_grad()` method clears up the accumulated gradients, which the optimizer uses to find better parameters.\n",
        "\n",
        "What about that accuracy? 83.6% accuracy on the test set sounds reasonable, right? Well, I am about to disappoint you. But first, let's learn how to save and load our trained models."
      ]
    },
    {
      "cell_type": "markdown",
      "metadata": {
        "id": "KIRPLYNnu3my"
      },
      "source": [
        "## Saving the model\n",
        "\n",
        "Training a good model can take a lot of time. And I mean weeks, months or even years. So, let's make sure that you know how you can save your precious work. Saving is easy:"
      ]
    },
    {
      "cell_type": "code",
      "metadata": {
        "id": "EKVMkwgMxGZB",
        "colab": {
          "base_uri": "https://localhost:8080/",
          "height": 71
        },
        "outputId": "a7c21c43-72f0-4980-c0ad-1847bb7b7fcf"
      },
      "source": [
        "MODEL_PATH = 'model.pth'\n",
        "\n",
        "torch.save(net, MODEL_PATH)"
      ],
      "execution_count": null,
      "outputs": [
        {
          "output_type": "stream",
          "text": [
            "/usr/local/lib/python3.6/dist-packages/torch/serialization.py:360: UserWarning: Couldn't retrieve source code for container of type Net. It won't be checked for correctness upon loading.\n",
            "  \"type \" + obj.__name__ + \". It won't be checked \"\n"
          ],
          "name": "stderr"
        }
      ]
    },
    {
      "cell_type": "markdown",
      "metadata": {
        "id": "-61Wk5E0gqWY"
      },
      "source": [
        "Restoring your model is easy too:"
      ]
    },
    {
      "cell_type": "code",
      "metadata": {
        "id": "9ckrjxYPxZ4w"
      },
      "source": [
        "net = torch.load(MODEL_PATH)"
      ],
      "execution_count": null,
      "outputs": []
    },
    {
      "cell_type": "markdown",
      "metadata": {
        "id": "5CobNIWq3OQc"
      },
      "source": [
        "## Evaluation\n",
        "\n",
        "Wouldn't it be perfect to know what kinds of errors your model makes? Of course, that's impossible. But you can get an estimate.\n",
        "\n",
        "Using just accuracy wouldn't be a good way to do it. Recall that our data contains mostly no rain examples.\n",
        "\n",
        "One way to delve a bit deeper into your model performance is to assess the precision and recall for each class. In our case, that will be *no rain* and *rain*:"
      ]
    },
    {
      "cell_type": "code",
      "metadata": {
        "id": "kvaK-sVE1Xmy",
        "colab": {
          "base_uri": "https://localhost:8080/",
          "height": 170
        },
        "outputId": "031e2faf-1d2b-47da-8bfa-ad9df02c899c"
      },
      "source": [
        "classes = ['No rain', 'Raining']\n",
        "\n",
        "y_pred = net(X_test)\n",
        "\n",
        "y_pred = y_pred.ge(.5).view(-1).cpu()\n",
        "y_test = y_test.cpu()\n",
        "\n",
        "print(classification_report(y_test, y_pred, target_names=classes))"
      ],
      "execution_count": null,
      "outputs": [
        {
          "output_type": "stream",
          "text": [
            "              precision    recall  f1-score   support\n",
            "\n",
            "     No rain       0.85      0.96      0.90     19413\n",
            "     Raining       0.74      0.40      0.52      5525\n",
            "\n",
            "    accuracy                           0.84     24938\n",
            "   macro avg       0.80      0.68      0.71     24938\n",
            "weighted avg       0.83      0.84      0.82     24938\n",
            "\n"
          ],
          "name": "stdout"
        }
      ]
    },
    {
      "cell_type": "markdown",
      "metadata": {
        "id": "RGHvrs7CkNOe"
      },
      "source": [
        " A maximum precision of 1 indicates that the model is perfect at identifying only relevant examples. A maximum recall of 1 indicates that our model can find all relevant examples in the dataset for this class.\n",
        "\n",
        " You can see that our model is doing good when it comes to the *No rain* class. We have so many examples. Unfortunately, we can't really trust predictions of the *Raining* class.\n",
        "\n",
        " One of the best things about binary classification is that you can have a good look at a simple confusion matrix:"
      ]
    },
    {
      "cell_type": "code",
      "metadata": {
        "id": "d6g_WirP1iMz",
        "colab": {
          "base_uri": "https://localhost:8080/",
          "height": 529
        },
        "outputId": "556adc5f-8da3-482a-ab56-99fa1163be5a"
      },
      "source": [
        "cm = confusion_matrix(y_test, y_pred)\n",
        "df_cm = pd.DataFrame(cm, index=classes, columns=classes)\n",
        "\n",
        "hmap = sns.heatmap(df_cm, annot=True, fmt=\"d\")\n",
        "hmap.yaxis.set_ticklabels(hmap.yaxis.get_ticklabels(), rotation=0, ha='right')\n",
        "hmap.xaxis.set_ticklabels(hmap.xaxis.get_ticklabels(), rotation=30, ha='right')\n",
        "plt.ylabel('True label')\n",
        "plt.xlabel('Predicted label');"
      ],
      "execution_count": null,
      "outputs": [
        {
          "output_type": "display_data",
          "data": {
            "image/png": "[encoded data removed]",
            "text/plain": [
              "<Figure size 864x576 with 2 Axes>"
            ]
          },
          "metadata": {
            "tags": [],
            "image/png": {
              "width": 733,
              "height": 512
            }
          }
        }
      ]
    },
    {
      "cell_type": "markdown",
      "metadata": {
        "id": "781wID8HlD5u"
      },
      "source": [
        "You can clearly see that our model shouldn't be trusted when it says it's going to rain."
      ]
    },
    {
      "cell_type": "markdown",
      "metadata": {
        "id": "HogiB9ZomRJ0"
      },
      "source": [
        "## Conclusion\n",
        "\n",
        "Well done! You now have a Neural Network that can predict the weather. Well, sort of. Building well-performing models is hard, really hard. But there are tricks you'll pick up along the way and (hopefully) get better at your craft!\n",
        "\n",
        "- [Run the complete notebook in your browser (Google Colab)](https://colab.research.google.com/drive/1lDXVkdt7GC8jK_nGmOMKeDywXse-DY-u)\n",
        "- [Read the Getting Things Done with Pytorch book](https://github.com/curiousily/Getting-Things-Done-with-Pytorch)\n",
        "\n",
        "You learned how to:\n",
        "\n",
        "- Preprocess CSV files and convert the data to Tensors\n",
        "- Build your own Neural Network model with PyTorch\n",
        "- Use a loss function and an optimizer to train your model\n",
        "- Evaluate your model and learn about the perils of imbalanced classification"
      ]
    },
    {
      "cell_type": "markdown",
      "metadata": {
        "id": "SY47i7y_lFXE"
      },
      "source": [
        "## References\n",
        "\n",
        "- [Precision and Recall](https://en.wikipedia.org/wiki/Precision_and_recall)\n",
        "- [Beyond Accuracy: Precision and Recall](https://towardsdatascience.com/beyond-accuracy-precision-and-recall-3da06bea9f6c)"
      ]
    }
  ]
}