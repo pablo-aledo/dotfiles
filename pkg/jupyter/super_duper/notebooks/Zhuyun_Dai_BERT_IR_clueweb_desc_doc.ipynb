{
  "nbformat": 4,
  "nbformat_minor": 0,
  "metadata": {
    "colab": {
      "name": "Zhuyun-Dai BERT IR clueweb desc-doc",
      "provenance": [],
      "collapsed_sections": [],
      "toc_visible": true
    },
    "kernelspec": {
      "name": "python3",
      "display_name": "Python 3"
    },
    "accelerator": "TPU"
  },
  "cells": [
    {
      "cell_type": "markdown",
      "metadata": {
        "id": "rkTLZ3I4_7c_"
      },
      "source": [
        "# BERT finetuning tasks in 5 minutes with Cloud TPU\n",
        "\n",
        "<table class=\"tfo-notebook-buttons\" align=\"left\" >\n",
        " <td>\n",
        "    <a target=\"_blank\" href=\"https://colab.research.google.com/github/tensorflow/tpu/blob/master/tools/colab/bert_finetuning_with_cloud_tpus.ipynb\"><img src=\"https://www.tensorflow.org/images/colab_logo_32px.png\" />Run in Google Colab</a>\n",
        "  </td>\n",
        "  <td>\n",
        "    <a target=\"_blank\" href=\"https://github.com/tensorflow/tpu/blob/master/tools/colab/bert_finetuning_with_cloud_tpus.ipynb\"><img src=\"https://www.tensorflow.org/images/GitHub-Mark-32px.png\" />View source on GitHub</a>\n",
        "  </td>\n",
        "</table>\n"
      ]
    },
    {
      "cell_type": "markdown",
      "metadata": {
        "id": "1wtjs1QDb3DX"
      },
      "source": [
        "**BERT**, or **B**idirectional **E**mbedding **R**epresentations from **T**ransformers, is a new method of pre-training language representations which obtains state-of-the-art results on a wide array of Natural Language Processing (NLP) tasks. The academic paper can be found here: https://arxiv.org/abs/1810.04805.\n",
        "\n",
        "This Colab demonstates using a free Colab Cloud TPU to fine-tune sentence and sentence-pair classification tasks built on top of pretrained BERT models.\n",
        "\n",
        "**Note:**  You will need a GCP (Google Compute Engine) account and a GCS (Google Cloud \n",
        "Storage) bucket for this Colab to run.\n",
        "\n",
        "Please follow the [Google Cloud TPU quickstart](https://cloud.google.com/tpu/docs/quickstart) for how to create GCP account and GCS bucket. You have [$300 free credit](https://cloud.google.com/free/) to get started with any GCP product. You can learn more about Cloud TPU at https://cloud.google.com/tpu/docs.\n",
        "\n",
        "Once you finish the setup, let's start!"
      ]
    },
    {
      "cell_type": "markdown",
      "metadata": {
        "id": "ycHMh-bhC-vX"
      },
      "source": [
        "**Firstly**, we need to set up Colab TPU running environment, verify a TPU device is succesfully connected and upload credentials to TPU for GCS bucket usage."
      ]
    },
    {
      "cell_type": "code",
      "metadata": {
        "id": "191zq3ZErihP",
        "colab": {
          "base_uri": "https://localhost:8080/",
          "height": 391
        },
        "outputId": "ee0c6e98-fd9c-4f73-aa06-af60983a732d"
      },
      "source": [
        "import datetime\n",
        "import json\n",
        "import os\n",
        "import pprint\n",
        "import random\n",
        "import string\n",
        "import sys\n",
        "\n",
        "%tensorflow_version 1.x\n",
        "import tensorflow as tf\n",
        "\n",
        "assert 'COLAB_TPU_ADDR' in os.environ, 'ERROR: Not connected to a TPU runtime; please see the first cell in this notebook for instructions!'\n",
        "TPU_ADDRESS = 'grpc://' + os.environ['COLAB_TPU_ADDR']\n",
        "print('TPU address is', TPU_ADDRESS)\n",
        "\n",
        "from google.colab import auth\n",
        "auth.authenticate_user()\n",
        "with tf.Session(TPU_ADDRESS) as session:\n",
        "  print('TPU devices:')\n",
        "  pprint.pprint(session.list_devices())\n",
        "\n",
        "  # Upload credentials to TPU.\n",
        "  with open('/content/adc.json', 'r') as f:\n",
        "    auth_info = json.load(f)\n",
        "  tf.contrib.cloud.configure_gcs(session, credentials=auth_info)\n",
        "  # Now credentials are set for all future sessions on this TPU."
      ],
      "execution_count": null,
      "outputs": [
        {
          "output_type": "stream",
          "text": [
            "TensorFlow 1.x selected.\n",
            "TPU address is grpc://10.1.181.170:8470\n",
            "TPU devices:\n",
            "[_DeviceAttributes(/job:tpu_worker/replica:0/task:0/device:CPU:0, CPU, -1, 6664397363455324686),\n",
            " _DeviceAttributes(/job:tpu_worker/replica:0/task:0/device:XLA_CPU:0, XLA_CPU, 17179869184, 16788073122837000344),\n",
            " _DeviceAttributes(/job:tpu_worker/replica:0/task:0/device:TPU:0, TPU, 17179869184, 1903484303307337696),\n",
            " _DeviceAttributes(/job:tpu_worker/replica:0/task:0/device:TPU:1, TPU, 17179869184, 15451089682091094059),\n",
            " _DeviceAttributes(/job:tpu_worker/replica:0/task:0/device:TPU:2, TPU, 17179869184, 17712571090995915926),\n",
            " _DeviceAttributes(/job:tpu_worker/replica:0/task:0/device:TPU:3, TPU, 17179869184, 3790129473032030317),\n",
            " _DeviceAttributes(/job:tpu_worker/replica:0/task:0/device:TPU:4, TPU, 17179869184, 18417493745187398433),\n",
            " _DeviceAttributes(/job:tpu_worker/replica:0/task:0/device:TPU:5, TPU, 17179869184, 11194780545641338139),\n",
            " _DeviceAttributes(/job:tpu_worker/replica:0/task:0/device:TPU:6, TPU, 17179869184, 13558211566681317107),\n",
            " _DeviceAttributes(/job:tpu_worker/replica:0/task:0/device:TPU:7, TPU, 17179869184, 17942181697851298116),\n",
            " _DeviceAttributes(/job:tpu_worker/replica:0/task:0/device:TPU_SYSTEM:0, TPU_SYSTEM, 8589934592, 4571482716363572112)]\n",
            "WARNING:tensorflow:\n",
            "The TensorFlow contrib module will not be included in TensorFlow 2.0.\n",
            "For more information, please see:\n",
            "  * https://github.com/tensorflow/community/blob/master/rfcs/20180907-contrib-sunset.md\n",
            "  * https://github.com/tensorflow/addons\n",
            "  * https://github.com/tensorflow/io (for I/O related ops)\n",
            "If you depend on functionality not listed there, please file an issue.\n",
            "\n"
          ],
          "name": "stdout"
        }
      ]
    },
    {
      "cell_type": "markdown",
      "metadata": {
        "id": "jFJrTvzMw6tf"
      },
      "source": [
        "#Data Loader, Model Preperation"
      ]
    },
    {
      "cell_type": "markdown",
      "metadata": {
        "id": "HUBP35oCDmbF"
      },
      "source": [
        "**Secondly**, prepare and import BERT modules."
      ]
    },
    {
      "cell_type": "code",
      "metadata": {
        "id": "7wzwke0sxS6W",
        "colab": {
          "base_uri": "https://localhost:8080/",
          "height": 102
        },
        "outputId": "df371979-68e8-43f4-9532-9a3976027735"
      },
      "source": [
        "import sys\n",
        "!rm -r bert_repo6\n",
        "!test -d bert_repo6 || git clone https://github.com/AdeDZY/SIGIR19-BERT-IR bert_repo6\n",
        "if not 'bert_repo6' in sys.path:\n",
        "  sys.path += ['bert_repo6']\n",
        "if not '.' in sys.path:\n",
        "  sys.path += ['.']"
      ],
      "execution_count": null,
      "outputs": [
        {
          "output_type": "stream",
          "text": [
            "rm: cannot remove 'bert_repo6': No such file or directory\n",
            "Cloning into 'bert_repo6'...\n",
            "remote: Enumerating objects: 87, done.\u001b[K\n",
            "remote: Total 87 (delta 0), reused 0 (delta 0), pack-reused 87\u001b[K\n",
            "Unpacking objects: 100% (87/87), done.\n"
          ],
          "name": "stdout"
        }
      ]
    },
    {
      "cell_type": "code",
      "metadata": {
        "id": "pRhM1Zc3uurM"
      },
      "source": [
        "sys.path = ['',\n",
        " '/env/python',\n",
        " '/usr/lib/python36.zip',\n",
        " '/usr/lib/python3.6',\n",
        " '/usr/lib/python3.6/lib-dynload',\n",
        " '/usr/local/lib/python3.6/dist-packages',\n",
        " '/usr/lib/python3/dist-packages',\n",
        " '/usr/local/lib/python3.6/dist-packages/IPython/extensions',\n",
        " '/root/.ipython',\n",
        " '.',\n",
        " 'bert_repo6']"
      ],
      "execution_count": null,
      "outputs": []
    },
    {
      "cell_type": "code",
      "metadata": {
        "id": "_G1me7e7wBCR",
        "colab": {
          "base_uri": "https://localhost:8080/",
          "height": 204
        },
        "outputId": "36250290-14a8-4495-f782-25b91c90f8a9"
      },
      "source": [
        "sys.path"
      ],
      "execution_count": null,
      "outputs": [
        {
          "output_type": "execute_result",
          "data": {
            "text/plain": [
              "['',\n",
              " '/env/python',\n",
              " '/usr/lib/python36.zip',\n",
              " '/usr/lib/python3.6',\n",
              " '/usr/lib/python3.6/lib-dynload',\n",
              " '/usr/local/lib/python3.6/dist-packages',\n",
              " '/usr/lib/python3/dist-packages',\n",
              " '/usr/local/lib/python3.6/dist-packages/IPython/extensions',\n",
              " '/root/.ipython',\n",
              " '.',\n",
              " 'bert_repo6']"
            ]
          },
          "metadata": {
            "tags": []
          },
          "execution_count": 4
        }
      ]
    },
    {
      "cell_type": "code",
      "metadata": {
        "id": "bDFZNHKk2ksX",
        "colab": {
          "base_uri": "https://localhost:8080/",
          "height": 351
        },
        "outputId": "35d945dd-2f4a-4143-bd13-da9bf633fd69"
      },
      "source": [
        "\n",
        "from __future__ import absolute_import\n",
        "from __future__ import division\n",
        "from __future__ import print_function\n",
        "\n",
        "import collections\n",
        "import csv\n",
        "import os\n",
        "import modeling\n",
        "import optimization\n",
        "import tokenization\n",
        "import tensorflow as tf\n",
        "import random\n",
        "import json\n",
        "from run_qe_classifier import *\n",
        "import random\n"
      ],
      "execution_count": null,
      "outputs": [
        {
          "output_type": "error",
          "ename": "AttributeError",
          "evalue": "ignored",
          "traceback": [
            "\u001b[0;31m---------------------------------------------------------------------------\u001b[0m",
            "\u001b[0;31mAttributeError\u001b[0m                            Traceback (most recent call last)",
            "\u001b[0;32m<ipython-input-5-1148621866d7>\u001b[0m in \u001b[0;36m<module>\u001b[0;34m()\u001b[0m\n\u001b[1;32m      8\u001b[0m \u001b[0;32mimport\u001b[0m \u001b[0mos\u001b[0m\u001b[0;34m\u001b[0m\u001b[0;34m\u001b[0m\u001b[0m\n\u001b[1;32m      9\u001b[0m \u001b[0;32mimport\u001b[0m \u001b[0mmodeling\u001b[0m\u001b[0;34m\u001b[0m\u001b[0;34m\u001b[0m\u001b[0m\n\u001b[0;32m---> 10\u001b[0;31m \u001b[0;32mimport\u001b[0m \u001b[0moptimization\u001b[0m\u001b[0;34m\u001b[0m\u001b[0;34m\u001b[0m\u001b[0m\n\u001b[0m\u001b[1;32m     11\u001b[0m \u001b[0;32mimport\u001b[0m \u001b[0mtokenization\u001b[0m\u001b[0;34m\u001b[0m\u001b[0;34m\u001b[0m\u001b[0m\n\u001b[1;32m     12\u001b[0m \u001b[0;32mimport\u001b[0m \u001b[0mtensorflow\u001b[0m \u001b[0;32mas\u001b[0m \u001b[0mtf\u001b[0m\u001b[0;34m\u001b[0m\u001b[0;34m\u001b[0m\u001b[0m\n",
            "\u001b[0;32m/content/bert_repo6/optimization.py\u001b[0m in \u001b[0;36m<module>\u001b[0;34m()\u001b[0m\n\u001b[1;32m     85\u001b[0m \u001b[0;34m\u001b[0m\u001b[0m\n\u001b[1;32m     86\u001b[0m \u001b[0;34m\u001b[0m\u001b[0m\n\u001b[0;32m---> 87\u001b[0;31m \u001b[0;32mclass\u001b[0m \u001b[0mAdamWeightDecayOptimizer\u001b[0m\u001b[0;34m(\u001b[0m\u001b[0mtf\u001b[0m\u001b[0;34m.\u001b[0m\u001b[0mtrain\u001b[0m\u001b[0;34m.\u001b[0m\u001b[0mOptimizer\u001b[0m\u001b[0;34m)\u001b[0m\u001b[0;34m:\u001b[0m\u001b[0;34m\u001b[0m\u001b[0;34m\u001b[0m\u001b[0m\n\u001b[0m\u001b[1;32m     88\u001b[0m   \u001b[0;34m\"\"\"A basic Adam optimizer that includes \"correct\" L2 weight decay.\"\"\"\u001b[0m\u001b[0;34m\u001b[0m\u001b[0;34m\u001b[0m\u001b[0m\n\u001b[1;32m     89\u001b[0m \u001b[0;34m\u001b[0m\u001b[0m\n",
            "\u001b[0;31mAttributeError\u001b[0m: module 'tensorflow._api.v2.train' has no attribute 'Optimizer'"
          ]
        }
      ]
    },
    {
      "cell_type": "code",
      "metadata": {
        "id": "nfr2rQ3e3cZl"
      },
      "source": [
        "# FOLD: 1, 2, 3, 4, 5\n",
        "# QUERY_FIELD: desc, title\n",
        "FOLD=5 #@param {type:\"integer\"}\n",
        "QUERY_FIELD=\"desc\" #@param {type:\"string\"}"
      ],
      "execution_count": null,
      "outputs": []
    },
    {
      "cell_type": "code",
      "metadata": {
        "id": "vl4yhhXMZHXa",
        "colab": {
          "base_uri": "https://localhost:8080/",
          "height": 232
        },
        "outputId": "0bc5a1bf-609c-4c32-cb34-2f3a5c60084f"
      },
      "source": [
        "class MyClueWebProcessor(DataProcessor):\n",
        "\n",
        "    def __init__(self):\n",
        "        self.max_test_depth = 100\n",
        "        self.max_train_depth = 100\n",
        "        self.n_folds = 5\n",
        "        self.fold = FOLD\n",
        "        self.q_fields = QUERY_FIELD.split(' ')\n",
        "        tf.logging.info(\"Using query fields {}\".format(' '.join(self.q_fields)))\n",
        "\n",
        "        self.train_folds = [(self.fold + i) % self.n_folds + 1 for i in range(self.n_folds - 1)]\n",
        "        self.test_folds = (self.fold + self.n_folds - 1) % self.n_folds + 1\n",
        "        tf.logging.info(\"Train Folds: {}\".format(str(self.train_folds)))\n",
        "        tf.logging.info(\"Test Fold: {}\".format(str(self.test_folds)))\n",
        "\n",
        "    def get_train_examples(self, data_dir):\n",
        "        examples = []\n",
        "        train_files = [\"{}.trec.with_json\".format(i) for i in self.train_folds]\n",
        "\n",
        "        qrel_file = tf.gfile.Open(os.path.join(data_dir, \"qrels\"))\n",
        "        qrels = self._read_qrel(qrel_file)\n",
        "        tf.logging.info(\"Qrel size: {}\".format(len(qrels)))\n",
        "\n",
        "        query_file = tf.gfile.Open(os.path.join(data_dir, \"queries.json\"))\n",
        "        qid2queries = self._read_queries(query_file)\n",
        "        tf.logging.info(\"Loaded {} queries.\".format(len(qid2queries)))\n",
        "\n",
        "        for file_name in train_files:\n",
        "            train_file = tf.gfile.Open(os.path.join(data_dir, file_name))\n",
        "            for i, line in enumerate(train_file):\n",
        "                items = line.strip().split('#')\n",
        "                trec_line = items[0]\n",
        "\n",
        "                qid, _, docid, r, _, _ = trec_line.strip().split(' ')\n",
        "                assert qid in qid2queries, \"QID {} not found\".format(qid)\n",
        "                q_json_dict = qid2queries[qid]\n",
        "                q_text_list = [tokenization.convert_to_unicode(q_json_dict[field]) for field in self.q_fields]\n",
        "\n",
        "                json_dict = json.loads('#'.join(items[1:]))\n",
        "                body_words = json_dict[\"doc\"][\"body\"].split(' ')\n",
        "                truncated_body = ' '.join(body_words[0: min(200, len(body_words))])\n",
        "                d = tokenization.convert_to_unicode(json_dict[\"doc\"].get(\"title\", \"\") + \". \" + truncated_body)\n",
        "\n",
        "                r = int(r)\n",
        "                if r > self.max_train_depth:\n",
        "                    continue\n",
        "                label = tokenization.convert_to_unicode(\"0\")\n",
        "                if (qid, docid) in qrels or (qid, docid.split('_')[0]) in qrels:\n",
        "                    label = tokenization.convert_to_unicode(\"1\")\n",
        "                guid = \"train-%s-%s\" % (qid, docid)\n",
        "                examples.append(\n",
        "                    InputExample(guid=guid, text_a_list=q_text_list, text_b=d, label=label)\n",
        "                )\n",
        "            train_file.close()\n",
        "        random.shuffle(examples)\n",
        "        return examples\n",
        "\n",
        "\n",
        "    def get_test_examples(self, data_dir):\n",
        "        examples = []\n",
        "        dev_file = tf.gfile.Open(os.path.join(data_dir, \"{}.trec.with_json\".format(self.test_folds)))\n",
        "        qrel_file = tf.gfile.Open(os.path.join(data_dir, \"qrels\"))\n",
        "        qrels = self._read_qrel(qrel_file)\n",
        "        tf.logging.info(\"Qrel size: {}\".format(len(qrels)))\n",
        "\n",
        "        query_file = tf.gfile.Open(os.path.join(data_dir, \"queries.json\"))\n",
        "        qid2queries = self._read_queries(query_file)\n",
        "        tf.logging.info(\"Loaded {} queries.\".format(len(qid2queries)))\n",
        "\n",
        "        for i, line in enumerate(dev_file):\n",
        "            items = line.strip().split('#')\n",
        "            trec_line = items[0]\n",
        "\n",
        "            qid, _, docid, r, _, _ = trec_line.strip().split(' ')\n",
        "            assert qid in qid2queries, \"QID {} not found\".format(qid)\n",
        "            q_json_dict = qid2queries[qid]\n",
        "            q_text_list = [tokenization.convert_to_unicode(q_json_dict[field]) for field in self.q_fields]\n",
        "\n",
        "            json_dict = json.loads('#'.join(items[1:]))\n",
        "            body_words = json_dict[\"doc\"][\"body\"].split(' ')\n",
        "            truncated_body =  ' '.join(body_words[0: min(200, len(body_words))])\n",
        "            \n",
        "            # we use the concatentation of title and document first 200 tokens\n",
        "            d = tokenization.convert_to_unicode(json_dict[\"doc\"].get(\"title\", \"\") + \". \" + truncated_body)\n",
        "\n",
        "            r = int(r)\n",
        "            if r > self.max_test_depth:\n",
        "                continue\n",
        "            label = tokenization.convert_to_unicode(\"0\")\n",
        "            if (qid, docid) in qrels or (qid, docid.split('_')[0]) in qrels:\n",
        "                label = tokenization.convert_to_unicode(\"1\")\n",
        "            guid = \"test-%s-%s\" % (qid, docid)\n",
        "            examples.append(\n",
        "                InputExample(guid=guid, text_a_list=q_text_list, text_b=d, label=label)\n",
        "            )\n",
        "        dev_file.close()\n",
        "        return examples\n",
        "\n",
        "    def _read_qrel(self, qrel_file):\n",
        "        qrels = set()\n",
        "        for line in qrel_file:\n",
        "            qid, _, docid, rel = line.strip().split(' ')\n",
        "            rel = int(rel)\n",
        "            if rel > 0:\n",
        "                qrels.add((qid, docid))\n",
        "        return qrels\n",
        "\n",
        "    def _read_queries(self, query_file):\n",
        "        qid2queries = {}\n",
        "        for i, line in enumerate(query_file):\n",
        "            json_dict = json.loads(line)\n",
        "            qid = json_dict['qid']\n",
        "            qid2queries[qid] = json_dict\n",
        "            if i < 3:\n",
        "              tf.logging.info(\"Example Q: {}\".format(json_dict))\n",
        "        return qid2queries\n",
        "   \n",
        "    def get_labels(self):\n",
        "        return [\"0\", \"1\"]\n"
      ],
      "execution_count": null,
      "outputs": [
        {
          "output_type": "error",
          "ename": "NameError",
          "evalue": "ignored",
          "traceback": [
            "\u001b[0;31m---------------------------------------------------------------------------\u001b[0m",
            "\u001b[0;31mNameError\u001b[0m                                 Traceback (most recent call last)",
            "\u001b[0;32m<ipython-input-7-e2cdc21254c3>\u001b[0m in \u001b[0;36m<module>\u001b[0;34m()\u001b[0m\n\u001b[0;32m----> 1\u001b[0;31m \u001b[0;32mclass\u001b[0m \u001b[0mMyClueWebProcessor\u001b[0m\u001b[0;34m(\u001b[0m\u001b[0mDataProcessor\u001b[0m\u001b[0;34m)\u001b[0m\u001b[0;34m:\u001b[0m\u001b[0;34m\u001b[0m\u001b[0;34m\u001b[0m\u001b[0m\n\u001b[0m\u001b[1;32m      2\u001b[0m \u001b[0;34m\u001b[0m\u001b[0m\n\u001b[1;32m      3\u001b[0m     \u001b[0;32mdef\u001b[0m \u001b[0m__init__\u001b[0m\u001b[0;34m(\u001b[0m\u001b[0mself\u001b[0m\u001b[0;34m)\u001b[0m\u001b[0;34m:\u001b[0m\u001b[0;34m\u001b[0m\u001b[0;34m\u001b[0m\u001b[0m\n\u001b[1;32m      4\u001b[0m         \u001b[0mself\u001b[0m\u001b[0;34m.\u001b[0m\u001b[0mmax_test_depth\u001b[0m \u001b[0;34m=\u001b[0m \u001b[0;36m100\u001b[0m\u001b[0;34m\u001b[0m\u001b[0;34m\u001b[0m\u001b[0m\n\u001b[1;32m      5\u001b[0m         \u001b[0mself\u001b[0m\u001b[0;34m.\u001b[0m\u001b[0mmax_train_depth\u001b[0m \u001b[0;34m=\u001b[0m \u001b[0;36m100\u001b[0m\u001b[0;34m\u001b[0m\u001b[0;34m\u001b[0m\u001b[0m\n",
            "\u001b[0;31mNameError\u001b[0m: name 'DataProcessor' is not defined"
          ]
        }
      ]
    },
    {
      "cell_type": "markdown",
      "metadata": {
        "id": "RRu1aKO1D7-Z"
      },
      "source": [
        "**Thirdly**, prepare for training:\n",
        "\n",
        "*  Specify task and download training data.\n",
        "*  Specify BERT pretrained model\n",
        "*  Specify GS bucket, create output directory for model checkpoints and eval results.\n",
        "\n"
      ]
    },
    {
      "cell_type": "code",
      "metadata": {
        "id": "tYkaAlJNfhul",
        "colab": {
          "base_uri": "https://localhost:8080/",
          "height": 272
        },
        "outputId": "302b0f3d-f8b6-4318-d493-ffee8542bfdf"
      },
      "source": [
        "TASK = 'cw-descinit-firstp' #@param {type:\"string\"}\n",
        "\n",
        "# Available pretrained model checkpoints:\n",
        "#   uncased_L-12_H-768_A-12: uncased BERT base model\n",
        "#   uncased_L-24_H-1024_A-16: uncased BERT large model\n",
        "#   cased_L-12_H-768_A-12: cased BERT large model\n",
        "BERT_MODEL = 'uncased_L-12_H-768_A-12' #@param {type:\"string\"}\n",
        "BERT_PRETRAINED_DIR = 'gs://cloud-tpu-checkpoints/bert/' + BERT_MODEL\n",
        "print('***** BERT pretrained directory: {} *****'.format(BERT_PRETRAINED_DIR))\n",
        "!gsutil ls $BERT_PRETRAINED_DIR\n",
        "\n",
        "BUCKET = 'bertir' #@param {type:\"string\"}\n",
        "assert BUCKET, 'Must specify an existing GCS bucket name'\n",
        "OUTPUT_DIR = 'gs://{}/bert/models/{}-fold{}'.format(BUCKET, TASK, FOLD)\n",
        "tf.gfile.MakeDirs(OUTPUT_DIR)\n",
        "print('***** Model output directory: {} *****'.format(OUTPUT_DIR))\n",
        "\n",
        "DATA_DIR = \"clueweb09/cv_descinit/\" #@param {type:\"string\"}\n",
        "TASK_DATA_DIR = 'gs://{}/{}'.format(BUCKET, DATA_DIR) \n",
        "\n",
        "!gsutil ls $TASK_DATA_DIR\n"
      ],
      "execution_count": null,
      "outputs": [
        {
          "output_type": "stream",
          "text": [
            "***** BERT pretrained directory: gs://cloud-tpu-checkpoints/bert/uncased_L-12_H-768_A-12 *****\n",
            "gs://cloud-tpu-checkpoints/bert/uncased_L-12_H-768_A-12/bert_config.json\n",
            "gs://cloud-tpu-checkpoints/bert/uncased_L-12_H-768_A-12/bert_model.ckpt.data-00000-of-00001\n",
            "gs://cloud-tpu-checkpoints/bert/uncased_L-12_H-768_A-12/bert_model.ckpt.index\n",
            "gs://cloud-tpu-checkpoints/bert/uncased_L-12_H-768_A-12/bert_model.ckpt.meta\n",
            "gs://cloud-tpu-checkpoints/bert/uncased_L-12_H-768_A-12/checkpoint\n",
            "gs://cloud-tpu-checkpoints/bert/uncased_L-12_H-768_A-12/vocab.txt\n",
            "***** Model output directory: gs://bertir/bert/models/cw-descinit-first200-fold5 *****\n",
            "gs://bertir/clueweb09/cv_descinit/1.trec.with_json\n",
            "gs://bertir/clueweb09/cv_descinit/2.trec.with_json\n",
            "gs://bertir/clueweb09/cv_descinit/3.trec.with_json\n",
            "gs://bertir/clueweb09/cv_descinit/4.trec.with_json\n",
            "gs://bertir/clueweb09/cv_descinit/5.trec.with_json\n",
            "gs://bertir/clueweb09/cv_descinit/qrels\n",
            "gs://bertir/clueweb09/cv_descinit/queries.json\n"
          ],
          "name": "stdout"
        }
      ]
    },
    {
      "cell_type": "markdown",
      "metadata": {
        "id": "Hcpfl4N2EdOk"
      },
      "source": [
        "# Train"
      ]
    },
    {
      "cell_type": "code",
      "metadata": {
        "id": "uu2dQ_TId-uH",
        "colab": {
          "base_uri": "https://localhost:8080/",
          "height": 85
        },
        "outputId": "04abb183-94f6-4952-f5e0-ffdf505bf944"
      },
      "source": [
        "# Setup task specific model and TPU running config.\n",
        "\n",
        "import modeling\n",
        "import optimization\n",
        "import tokenization\n",
        "\n",
        "import os\n",
        "os.environ['TF_CPP_MIN_LOG_LEVEL'] = '0' \n",
        "\n",
        "tf.logging.set_verbosity(tf.logging.INFO)\n",
        "\n",
        "\n",
        "# Model Hyper Parameters\n",
        "TRAIN_BATCH_SIZE = 16\n",
        "EVAL_BATCH_SIZE = 32\n",
        "PREDICT_BATCH_SIZE = 32\n",
        "\n",
        "LEARNING_RATE = 1e-5\n",
        "NUM_TRAIN_EPOCHS = 1.0\n",
        "WARMUP_PROPORTION = 0.1\n",
        "MAX_SEQCONCAT_LENGTH = 200\n",
        "\n",
        "# Model configs\n",
        "SAVE_CHECKPOINTS_STEPS = 20000\n",
        "ITERATIONS_PER_LOOP = 1000\n",
        "NUM_TPU_CORES = 8\n",
        "VOCAB_FILE = os.path.join(BERT_PRETRAINED_DIR, 'vocab.txt')\n",
        "CONFIG_FILE = os.path.join(BERT_PRETRAINED_DIR, 'bert_config.json')\n",
        "INIT_CHECKPOINT = os.path.join(BERT_PRETRAINED_DIR, 'bert_model.ckpt')\n",
        "DO_LOWER_CASE = BERT_MODEL.startswith('uncased')\n",
        "\n",
        "\n",
        "processor = MyClueWebProcessor()\n",
        "label_list = processor.get_labels()\n",
        "tokenizer = tokenization.FullTokenizer(vocab_file=VOCAB_FILE, do_lower_case=DO_LOWER_CASE)\n",
        "\n",
        "tpu_cluster_resolver = tf.contrib.cluster_resolver.TPUClusterResolver(TPU_ADDRESS)\n",
        "run_config = tf.contrib.tpu.RunConfig(\n",
        "    cluster=tpu_cluster_resolver,\n",
        "    model_dir=OUTPUT_DIR,\n",
        "    save_checkpoints_steps=SAVE_CHECKPOINTS_STEPS,\n",
        "    tpu_config=tf.contrib.tpu.TPUConfig(\n",
        "        iterations_per_loop=ITERATIONS_PER_LOOP,\n",
        "        num_shards=NUM_TPU_CORES,\n",
        "        per_host_input_for_training=tf.contrib.tpu.InputPipelineConfig.PER_HOST_V2))\n",
        "\n",
        "#\n"
      ],
      "execution_count": null,
      "outputs": [
        {
          "output_type": "stream",
          "text": [
            "INFO:tensorflow:Using query fields desc\n",
            "INFO:tensorflow:Train Folds: [1, 2, 3, 4]\n",
            "INFO:tensorflow:Dev Fold: 4\n",
            "INFO:tensorflow:Test Fold: 5\n"
          ],
          "name": "stdout"
        }
      ]
    },
    {
      "cell_type": "code",
      "metadata": {
        "id": "VQl1UDtRMcZM",
        "colab": {
          "base_uri": "https://localhost:8080/",
          "height": 326
        },
        "outputId": "80b8e1b9-25ac-4988-b5af-aff50aa0e2c7"
      },
      "source": [
        "train_examples = processor.get_train_examples(TASK_DATA_DIR)\n",
        "num_train_steps = int(len(train_examples) / TRAIN_BATCH_SIZE * NUM_TRAIN_EPOCHS)\n",
        "num_warmup_steps = int(num_train_steps * WARMUP_PROPORTION)\n",
        "\n",
        "model_fn = model_fn_builder(\n",
        "    bert_config=modeling.BertConfig.from_json_file(CONFIG_FILE),\n",
        "    num_labels=len(label_list),\n",
        "    init_checkpoint=INIT_CHECKPOINT,\n",
        "    learning_rate=LEARNING_RATE,\n",
        "    num_train_steps=num_train_steps,\n",
        "    num_warmup_steps=num_warmup_steps,\n",
        "    use_tpu=True,\n",
        "    use_one_hot_embeddings=True)\n",
        "\n",
        "estimator = tf.contrib.tpu.TPUEstimator(\n",
        "    use_tpu=True,\n",
        "    model_fn=model_fn,\n",
        "    config=run_config,\n",
        "    train_batch_size=TRAIN_BATCH_SIZE,\n",
        "    eval_batch_size=EVAL_BATCH_SIZE,\n",
        "    predict_batch_size=PREDICT_BATCH_SIZE)"
      ],
      "execution_count": null,
      "outputs": [
        {
          "output_type": "stream",
          "text": [
            "INFO:tensorflow:Qrel size: 9863\n",
            "INFO:tensorflow:Example Q: {'qid': '1', 'desc': \"Find information on President Barack Obama's family history, including genealogy, national origins, places and dates of birth, etc.\", 'subtopics': ['Find the TIME magazine photo essay \"Barack Obama\\'s Family Tree\".', \"Where did Barack Obama's parents and grandparents come from?\", \"Find biographical information on Barack Obama's mother.\"], 'title': 'obama family tree'}\n",
            "INFO:tensorflow:Example Q: {'qid': '2', 'desc': 'Find information on French Lick Resort and Casino in Indiana.', 'subtopics': ['Find the homepage for French Lick Resort and Casino.', \"What casinos are located within a day's drive of French Lick Resort and Casino?\", 'What jobs are available at French Lick Casino and Resort?', 'Are there discounted packages for staying at French Lick Resort and Casino?'], 'title': 'french lick resort and casino'}\n",
            "INFO:tensorflow:Example Q: {'qid': '3', 'desc': 'Find tips, resources, supplies for getting organized and reducing clutter.', 'subtopics': ['Find tips on getting organized, both reducing clutter and managing time.', 'Take me to the Container Store homepage.', 'Find catalogs of office supplies for organization and decluttering.'], 'title': 'getting organized'}\n",
            "INFO:tensorflow:Loaded 200 queries.\n",
            "WARNING:tensorflow:Estimator's model_fn (<function model_fn_builder.<locals>.model_fn at 0x7fd4c3710488>) includes params argument, but params are not passed to Estimator.\n",
            "INFO:tensorflow:Using config: {'_model_dir': 'gs://bertir/bert/models/cw-descinit-first200-fold5', '_tf_random_seed': None, '_save_summary_steps': 100, '_save_checkpoints_steps': 20000, '_save_checkpoints_secs': None, '_session_config': allow_soft_placement: true\n",
            "cluster_def {\n",
            "  job {\n",
            "    name: \"worker\"\n",
            "    tasks {\n",
            "      value: \"10.110.95.26:8470\"\n",
            "    }\n",
            "  }\n",
            "}\n",
            ", '_keep_checkpoint_max': 5, '_keep_checkpoint_every_n_hours': 10000, '_log_step_count_steps': None, '_train_distribute': None, '_device_fn': None, '_protocol': None, '_eval_distribute': None, '_experimental_distribute': None, '_service': None, '_cluster_spec': <tensorflow.python.training.server_lib.ClusterSpec object at 0x7fd4c2c43f28>, '_task_type': 'worker', '_task_id': 0, '_global_id_in_cluster': 0, '_master': 'grpc://10.110.95.26:8470', '_evaluation_master': 'grpc://10.110.95.26:8470', '_is_chief': True, '_num_ps_replicas': 0, '_num_worker_replicas': 1, '_tpu_config': TPUConfig(iterations_per_loop=1000, num_shards=8, num_cores_per_replica=None, per_host_input_for_training=3, tpu_job_name=None, initial_infeed_sleep_secs=None, input_partition_dims=None), '_cluster': <tensorflow.python.distribute.cluster_resolver.tpu_cluster_resolver.TPUClusterResolver object at 0x7fd4c2e18b70>}\n",
            "INFO:tensorflow:_TPUContext: eval_on_tpu True\n"
          ],
          "name": "stdout"
        }
      ]
    },
    {
      "cell_type": "code",
      "metadata": {
        "id": "5U_c8s2AvhgL",
        "colab": {
          "base_uri": "https://localhost:8080/",
          "height": 666
        },
        "outputId": "e26f7b7d-935a-4707-faba-66252830240d"
      },
      "source": [
        "# Train the model.\n",
        "train_file = os.path.join(OUTPUT_DIR, \"train.tf_record\")\n",
        "train_features = file_based_convert_examples_to_features(\n",
        "    train_examples, label_list, MAX_SEQCONCAT_LENGTH, tokenizer, train_file)\n",
        "\n"
      ],
      "execution_count": null,
      "outputs": [
        {
          "output_type": "stream",
          "text": [
            "INFO:tensorflow:Writing example 0 of 15769\n",
            "INFO:tensorflow:*** Example ***\n",
            "INFO:tensorflow:guid: train-154-clueweb09-en0006-52-16869\n",
            "INFO:tensorflow:tokens: [CLS] find information on nutritional or health benefits of fig ##s . [SEP] nutritional supplements . web buzz ##le . com home world news latest articles escape hatch topics free ec ##ards endless buzz topics amino acid supplement anti ##ox ##ida ##nt supplement anti ##ox ##ida ##nts free radicals healthy eating healthy recipes minerals nutrition facts sports nutrition vitamin ##s nutritional supplements causes of magnesium deficiency and treatment magnesium is one of the essential minerals required by the body . magnesium deficiency can lead to various disorders . here is a discussion about the causes of magnesium deficiency and how it can be treated with dietary intake and magnesium supplements . side effects of fl ##ax ##see ##d oil fl ##ax ##see ##d oil has been h ##ype ##d as great nutritional supplement over the years without understanding its adverse side effects . one has to be cautious of the side effects of fl ##ax ##see ##d oil before taking it as there is no substantial proof of its so called medicinal wonders . rising prices of supplements and food ! with the rise of supplements and foods , it can be hard to live a healthy lifestyle . [SEP]\n",
            "INFO:tensorflow:input_ids: 101 2424 2592 2006 28268 2030 2740 6666 1997 20965 2015 1012 102 28268 25654 1012 4773 12610 2571 1012 4012 2188 2088 2739 6745 4790 4019 11300 7832 2489 14925 18117 10866 12610 7832 13096 5648 12448 3424 11636 8524 3372 12448 3424 11636 8524 7666 2489 23618 7965 5983 7965 19328 13246 14266 8866 2998 14266 17663 2015 28268 25654 5320 1997 24983 18888 1998 3949 24983 2003 2028 1997 1996 6827 13246 3223 2011 1996 2303 1012 24983 18888 2064 2599 2000 2536 10840 1012 2182 2003 1037 6594 2055 1996 5320 1997 24983 18888 1998 2129 2009 2064 2022 5845 2007 23444 13822 1998 24983 25654 1012 2217 3896 1997 13109 8528 19763 2094 3514 13109 8528 19763 2094 3514 2038 2042 1044 18863 2094 2004 2307 28268 12448 2058 1996 2086 2302 4824 2049 15316 2217 3896 1012 2028 2038 2000 2022 17145 1997 1996 2217 3896 1997 13109 8528 19763 2094 3514 2077 2635 2009 2004 2045 2003 2053 6937 6947 1997 2049 2061 2170 20632 16278 1012 4803 7597 1997 25654 1998 2833 999 2007 1996 4125 1997 25654 1998 9440 1010 2009 2064 2022 2524 2000 2444 1037 7965 9580 1012 102\n",
            "INFO:tensorflow:input_mask: 1 1 1 1 1 1 1 1 1 1 1 1 1 1 1 1 1 1 1 1 1 1 1 1 1 1 1 1 1 1 1 1 1 1 1 1 1 1 1 1 1 1 1 1 1 1 1 1 1 1 1 1 1 1 1 1 1 1 1 1 1 1 1 1 1 1 1 1 1 1 1 1 1 1 1 1 1 1 1 1 1 1 1 1 1 1 1 1 1 1 1 1 1 1 1 1 1 1 1 1 1 1 1 1 1 1 1 1 1 1 1 1 1 1 1 1 1 1 1 1 1 1 1 1 1 1 1 1 1 1 1 1 1 1 1 1 1 1 1 1 1 1 1 1 1 1 1 1 1 1 1 1 1 1 1 1 1 1 1 1 1 1 1 1 1 1 1 1 1 1 1 1 1 1 1 1 1 1 1 1 1 1 1 1 1 1 1 1 1 1 1 1 1 1 1 1 1 1 1 1\n",
            "INFO:tensorflow:segment_ids: 0 0 0 0 0 0 0 0 0 0 0 0 0 1 1 1 1 1 1 1 1 1 1 1 1 1 1 1 1 1 1 1 1 1 1 1 1 1 1 1 1 1 1 1 1 1 1 1 1 1 1 1 1 1 1 1 1 1 1 1 1 1 1 1 1 1 1 1 1 1 1 1 1 1 1 1 1 1 1 1 1 1 1 1 1 1 1 1 1 1 1 1 1 1 1 1 1 1 1 1 1 1 1 1 1 1 1 1 1 1 1 1 1 1 1 1 1 1 1 1 1 1 1 1 1 1 1 1 1 1 1 1 1 1 1 1 1 1 1 1 1 1 1 1 1 1 1 1 1 1 1 1 1 1 1 1 1 1 1 1 1 1 1 1 1 1 1 1 1 1 1 1 1 1 1 1 1 1 1 1 1 1 1 1 1 1 1 1 1 1 1 1 1 1 1 1 1 1 1 1\n",
            "INFO:tensorflow:label: 0 (id = 0)\n",
            "INFO:tensorflow:*** Example ***\n",
            "INFO:tensorflow:guid: train-150-clueweb09-enwp01-30-20339\n",
            "INFO:tensorflow:tokens: [CLS] what are the requirements to become a tennessee highway patrol state trooper ? [SEP] minnesota state patrol - wikipedia , the free encyclopedia . minnesota state patrol from wikipedia , the free encyclopedia jump to : navigation , search please help improve this article or section by expanding it . further information might be found on the talk page . ( january 2007 ) minnesota state patrol abbreviation ms ##p patch of the minnesota state patrol . agency overview formed 1929 employees 82 ##1 ( as of 2004 ) [ 1 ] legal personality governmental agency jurisdiction ##al structure divisional agency state of minnesota , usa minnesota state patrol districts size 87 , 01 ##4 square miles population 5 , 197 , 62 ##1 ( 2007 est . ) [ 2 ] general nature civilian police operational structure headquarters st . paul , minnesota troopers 54 ##4 ( as of 2004 ) [ 3 ] civilians 277 ( as of 2004 ) [ 4 ] agency executive mark dun ##ask ##i , chief parent agency minnesota department of public safety patrol districts 11 facilities stations 61 website http : / / www . d ##ps . state . [SEP]\n",
            "INFO:tensorflow:input_ids: 101 2054 2024 1996 5918 2000 2468 1037 5298 3307 6477 2110 28224 1029 102 5135 2110 6477 1011 16948 1010 1996 2489 12204 1012 5135 2110 6477 2013 16948 1010 1996 2489 12204 5376 2000 1024 9163 1010 3945 3531 2393 5335 2023 3720 2030 2930 2011 9186 2009 1012 2582 2592 2453 2022 2179 2006 1996 2831 3931 1012 1006 2254 2289 1007 5135 2110 6477 22498 5796 2361 8983 1997 1996 5135 2110 6477 1012 4034 19184 2719 4612 5126 6445 2487 1006 2004 1997 2432 1007 1031 1015 1033 3423 6180 10605 4034 7360 2389 3252 14167 4034 2110 1997 5135 1010 3915 5135 2110 6477 4733 2946 6584 1010 5890 2549 2675 2661 2313 1019 1010 19975 1010 5786 2487 1006 2289 9765 1012 1007 1031 1016 1033 2236 3267 6831 2610 6515 3252 4075 2358 1012 2703 1010 5135 26246 5139 2549 1006 2004 1997 2432 1007 1031 1017 1033 9272 25578 1006 2004 1997 2432 1007 1031 1018 1033 4034 3237 2928 24654 19895 2072 1010 2708 6687 4034 5135 2533 1997 2270 3808 6477 4733 2340 4128 3703 6079 4037 8299 1024 1013 1013 7479 1012 1040 4523 1012 2110 1012 102\n",
            "INFO:tensorflow:input_mask: 1 1 1 1 1 1 1 1 1 1 1 1 1 1 1 1 1 1 1 1 1 1 1 1 1 1 1 1 1 1 1 1 1 1 1 1 1 1 1 1 1 1 1 1 1 1 1 1 1 1 1 1 1 1 1 1 1 1 1 1 1 1 1 1 1 1 1 1 1 1 1 1 1 1 1 1 1 1 1 1 1 1 1 1 1 1 1 1 1 1 1 1 1 1 1 1 1 1 1 1 1 1 1 1 1 1 1 1 1 1 1 1 1 1 1 1 1 1 1 1 1 1 1 1 1 1 1 1 1 1 1 1 1 1 1 1 1 1 1 1 1 1 1 1 1 1 1 1 1 1 1 1 1 1 1 1 1 1 1 1 1 1 1 1 1 1 1 1 1 1 1 1 1 1 1 1 1 1 1 1 1 1 1 1 1 1 1 1 1 1 1 1 1 1 1 1 1 1 1 1\n",
            "INFO:tensorflow:segment_ids: 0 0 0 0 0 0 0 0 0 0 0 0 0 0 0 1 1 1 1 1 1 1 1 1 1 1 1 1 1 1 1 1 1 1 1 1 1 1 1 1 1 1 1 1 1 1 1 1 1 1 1 1 1 1 1 1 1 1 1 1 1 1 1 1 1 1 1 1 1 1 1 1 1 1 1 1 1 1 1 1 1 1 1 1 1 1 1 1 1 1 1 1 1 1 1 1 1 1 1 1 1 1 1 1 1 1 1 1 1 1 1 1 1 1 1 1 1 1 1 1 1 1 1 1 1 1 1 1 1 1 1 1 1 1 1 1 1 1 1 1 1 1 1 1 1 1 1 1 1 1 1 1 1 1 1 1 1 1 1 1 1 1 1 1 1 1 1 1 1 1 1 1 1 1 1 1 1 1 1 1 1 1 1 1 1 1 1 1 1 1 1 1 1 1 1 1 1 1 1 1\n",
            "INFO:tensorflow:label: 0 (id = 0)\n",
            "INFO:tensorflow:*** Example ***\n",
            "INFO:tensorflow:guid: train-191-clueweb09-en0004-03-39972\n",
            "INFO:tensorflow:tokens: [CLS] find information on the racing schedule at churchill downs . [SEP] kentucky downs - casino city . kentucky downs kentucky downs \" places i ' ve played \" ratings check out \" places i ' ve played \" - the first facebook application created for ranking horse tracks - to see how other people rate kentucky downs . currently , 1 \" places i ' ve played \" users have visited kentucky downs . rate kentucky downs casino coup ##ons ? the american casino guide has over $ 1 , 000 in money - saving coup ##ons from all over the country ! kentucky downs is a one mile horse track in franklin , kentucky that features thoroughbred racing . the property has two restaurants . book a room in franklin check in : check out : kentucky downs address 56 ##29 nashville road franklin , kentucky 421 ##34 - 69 ##9 ##5 united states kentucky downs in the news churchill downs sells stake in kentucky downs 20 october 2004 churchill downs has sold a 19 - percent stake in kentucky downs , including debt owed to cd ##i , to kelley farms racing . kentucky downs former [SEP]\n",
            "INFO:tensorflow:input_ids: 101 2424 2592 2006 1996 3868 6134 2012 10888 12482 1012 102 5612 12482 1011 9270 2103 1012 5612 12482 5612 12482 1000 3182 1045 1005 2310 2209 1000 8599 4638 2041 1000 3182 1045 1005 2310 2209 1000 1011 1996 2034 9130 4646 2580 2005 5464 3586 3162 1011 2000 2156 2129 2060 2111 3446 5612 12482 1012 2747 1010 1015 1000 3182 1045 1005 2310 2209 1000 5198 2031 4716 5612 12482 1012 3446 5612 12482 9270 8648 5644 1029 1996 2137 9270 5009 2038 2058 1002 1015 1010 2199 1999 2769 1011 7494 8648 5644 2013 2035 2058 1996 2406 999 5612 12482 2003 1037 2028 3542 3586 2650 1999 5951 1010 5612 2008 2838 18359 3868 1012 1996 3200 2038 2048 7884 1012 2338 1037 2282 1999 5951 4638 1999 1024 4638 2041 1024 5612 12482 4769 5179 24594 8423 2346 5951 1010 5612 29403 22022 1011 6353 2683 2629 2142 2163 5612 12482 1999 1996 2739 10888 12482 15187 8406 1999 5612 12482 2322 2255 2432 10888 12482 2038 2853 1037 2539 1011 3867 8406 1999 5612 12482 1010 2164 7016 12232 2000 3729 2072 1010 2000 19543 8623 3868 1012 5612 12482 2280 102\n",
            "INFO:tensorflow:input_mask: 1 1 1 1 1 1 1 1 1 1 1 1 1 1 1 1 1 1 1 1 1 1 1 1 1 1 1 1 1 1 1 1 1 1 1 1 1 1 1 1 1 1 1 1 1 1 1 1 1 1 1 1 1 1 1 1 1 1 1 1 1 1 1 1 1 1 1 1 1 1 1 1 1 1 1 1 1 1 1 1 1 1 1 1 1 1 1 1 1 1 1 1 1 1 1 1 1 1 1 1 1 1 1 1 1 1 1 1 1 1 1 1 1 1 1 1 1 1 1 1 1 1 1 1 1 1 1 1 1 1 1 1 1 1 1 1 1 1 1 1 1 1 1 1 1 1 1 1 1 1 1 1 1 1 1 1 1 1 1 1 1 1 1 1 1 1 1 1 1 1 1 1 1 1 1 1 1 1 1 1 1 1 1 1 1 1 1 1 1 1 1 1 1 1 1 1 1 1 1 1\n",
            "INFO:tensorflow:segment_ids: 0 0 0 0 0 0 0 0 0 0 0 0 1 1 1 1 1 1 1 1 1 1 1 1 1 1 1 1 1 1 1 1 1 1 1 1 1 1 1 1 1 1 1 1 1 1 1 1 1 1 1 1 1 1 1 1 1 1 1 1 1 1 1 1 1 1 1 1 1 1 1 1 1 1 1 1 1 1 1 1 1 1 1 1 1 1 1 1 1 1 1 1 1 1 1 1 1 1 1 1 1 1 1 1 1 1 1 1 1 1 1 1 1 1 1 1 1 1 1 1 1 1 1 1 1 1 1 1 1 1 1 1 1 1 1 1 1 1 1 1 1 1 1 1 1 1 1 1 1 1 1 1 1 1 1 1 1 1 1 1 1 1 1 1 1 1 1 1 1 1 1 1 1 1 1 1 1 1 1 1 1 1 1 1 1 1 1 1 1 1 1 1 1 1 1 1 1 1 1 1\n",
            "INFO:tensorflow:label: 0 (id = 0)\n",
            "INFO:tensorflow:*** Example ***\n",
            "INFO:tensorflow:guid: train-111-clueweb09-en0011-28-20838\n",
            "INFO:tensorflow:tokens: [CLS] what treatments are available for dogs diagnosed with l ##ym ##ph ##oma ? [SEP] canine round cell tumors . veterinary clinical pathology clerks ##hip program canine round cell tumors elizabeth a . nes ##bit , d ##v ##m ; perry j . bain , d ##v ##m , phd ; nicole c . north ##rup , d ##v ##m , and kenneth s . la ##time ##r , d ##v ##m , phd class of 2002 ( nes ##bit ) , department of pathology ( bain , la ##time ##r ) , and on ##cology service , department of small animal medicine ( north ##rup ) , college of veterinary medicine , the university of georgia , athens , ga 306 ##0 ##2 - 73 ##8 ##8 introduction cut ##aneous and sub ##cut ##aneous masses account for a large percentage of chief complaints of animals presenting to small animal clinics . while many of these masses are abs ##ces ##ses , cy ##sts , hem ##ato ##mas , or gran ##ulo ##mas , the skin and sub ##cut ##is are common locations for neo ##pl ##asia in dogs . common tumor types include ep ##ith ##elial neo ##pl [SEP]\n",
            "INFO:tensorflow:input_ids: 101 2054 13441 2024 2800 2005 6077 11441 2007 1048 24335 8458 9626 1029 102 28735 2461 3526 21434 1012 15651 6612 19314 26706 5605 2565 28735 2461 3526 21434 3870 1037 1012 24524 16313 1010 1040 2615 2213 1025 6890 1046 1012 28477 1010 1040 2615 2213 1010 8065 1025 9851 1039 1012 2167 21531 1010 1040 2615 2213 1010 1998 8856 1055 1012 2474 7292 2099 1010 1040 2615 2213 1010 8065 2465 1997 2526 1006 24524 16313 1007 1010 2533 1997 19314 1006 28477 1010 2474 7292 2099 1007 1010 1998 2006 19824 2326 1010 2533 1997 2235 4111 4200 1006 2167 21531 1007 1010 2267 1997 15651 4200 1010 1996 2118 1997 4108 1010 7571 1010 11721 24622 2692 2475 1011 6421 2620 2620 4955 3013 17191 1998 4942 12690 17191 11678 4070 2005 1037 2312 7017 1997 2708 10821 1997 4176 10886 2000 2235 4111 17865 1012 2096 2116 1997 2122 11678 2024 14689 9623 8583 1010 22330 12837 1010 19610 10610 9335 1010 2030 12604 18845 9335 1010 1996 3096 1998 4942 12690 2483 2024 2691 5269 2005 9253 24759 15396 1999 6077 1012 2691 13656 4127 2421 4958 8939 24587 9253 24759 102\n",
            "INFO:tensorflow:input_mask: 1 1 1 1 1 1 1 1 1 1 1 1 1 1 1 1 1 1 1 1 1 1 1 1 1 1 1 1 1 1 1 1 1 1 1 1 1 1 1 1 1 1 1 1 1 1 1 1 1 1 1 1 1 1 1 1 1 1 1 1 1 1 1 1 1 1 1 1 1 1 1 1 1 1 1 1 1 1 1 1 1 1 1 1 1 1 1 1 1 1 1 1 1 1 1 1 1 1 1 1 1 1 1 1 1 1 1 1 1 1 1 1 1 1 1 1 1 1 1 1 1 1 1 1 1 1 1 1 1 1 1 1 1 1 1 1 1 1 1 1 1 1 1 1 1 1 1 1 1 1 1 1 1 1 1 1 1 1 1 1 1 1 1 1 1 1 1 1 1 1 1 1 1 1 1 1 1 1 1 1 1 1 1 1 1 1 1 1 1 1 1 1 1 1 1 1 1 1 1 1\n",
            "INFO:tensorflow:segment_ids: 0 0 0 0 0 0 0 0 0 0 0 0 0 0 0 1 1 1 1 1 1 1 1 1 1 1 1 1 1 1 1 1 1 1 1 1 1 1 1 1 1 1 1 1 1 1 1 1 1 1 1 1 1 1 1 1 1 1 1 1 1 1 1 1 1 1 1 1 1 1 1 1 1 1 1 1 1 1 1 1 1 1 1 1 1 1 1 1 1 1 1 1 1 1 1 1 1 1 1 1 1 1 1 1 1 1 1 1 1 1 1 1 1 1 1 1 1 1 1 1 1 1 1 1 1 1 1 1 1 1 1 1 1 1 1 1 1 1 1 1 1 1 1 1 1 1 1 1 1 1 1 1 1 1 1 1 1 1 1 1 1 1 1 1 1 1 1 1 1 1 1 1 1 1 1 1 1 1 1 1 1 1 1 1 1 1 1 1 1 1 1 1 1 1 1 1 1 1 1 1\n",
            "INFO:tensorflow:label: 1 (id = 1)\n",
            "INFO:tensorflow:*** Example ***\n",
            "INFO:tensorflow:guid: train-13-clueweb09-en0011-84-32464\n",
            "INFO:tensorflow:tokens: [CLS] i ' m looking for online mapping sites . [SEP] microsoft virtual earth : case studies about real estate companies . worldwide product families office windows servers windows mobile developer tools business solutions games & xbox ms ##n resources microsoft update office update download center help & support security volume licensing about microsoft company information investor relations press ##pass for journalists popular places ms ##d ##n ( developers ) tech ##net ( it pro ##s ) microsoft at home microsoft at work business & industry microsoft partners microsoft hardware product catalog mac ##top ##ia microsoft . com site map popular searches windows vista internet explorer template ##s popular downloads windows defender windows malicious software removal tool more popular downloads overview how it works solutions map ##point web service gallery overview features & functionality geographic coverage system requirements licensing fa ##q tools & add - ins overview financial services hospitality & travel manufacturing media & entertainment oil & gas public sector real estate retail utilities overview news events case studies - hospitality & travel - media & entertainment - oil & gas - public sector - real estate - retail - telecommunications - other find a partner engage as [SEP]\n",
            "INFO:tensorflow:input_ids: 101 1045 1005 1049 2559 2005 3784 12375 4573 1012 102 7513 7484 3011 1024 2553 2913 2055 2613 3776 3316 1012 4969 4031 2945 2436 3645 14903 3645 4684 9722 5906 2449 7300 2399 1004 12202 5796 2078 4219 7513 10651 2436 10651 8816 2415 2393 1004 2490 3036 3872 13202 2055 7513 2194 2592 14316 4262 2811 15194 2005 8845 2759 3182 5796 2094 2078 1006 9797 1007 6627 7159 1006 2009 4013 2015 1007 7513 2012 2188 7513 2012 2147 2449 1004 3068 7513 5826 7513 8051 4031 12105 6097 14399 2401 7513 1012 4012 2609 4949 2759 17193 3645 13005 4274 10566 23561 2015 2759 22956 3645 8291 3645 24391 4007 8208 6994 2062 2759 22956 19184 2129 2009 2573 7300 4949 8400 4773 2326 3916 19184 2838 1004 15380 9183 6325 2291 5918 13202 6904 4160 5906 1004 5587 1011 16021 19184 3361 2578 15961 1004 3604 5814 2865 1004 4024 3514 1004 3806 2270 4753 2613 3776 7027 16548 19184 2739 2824 2553 2913 1011 15961 1004 3604 1011 2865 1004 4024 1011 3514 1004 3806 1011 2270 4753 1011 2613 3776 1011 7027 1011 12108 1011 2060 2424 1037 4256 8526 2004 102\n",
            "INFO:tensorflow:input_mask: 1 1 1 1 1 1 1 1 1 1 1 1 1 1 1 1 1 1 1 1 1 1 1 1 1 1 1 1 1 1 1 1 1 1 1 1 1 1 1 1 1 1 1 1 1 1 1 1 1 1 1 1 1 1 1 1 1 1 1 1 1 1 1 1 1 1 1 1 1 1 1 1 1 1 1 1 1 1 1 1 1 1 1 1 1 1 1 1 1 1 1 1 1 1 1 1 1 1 1 1 1 1 1 1 1 1 1 1 1 1 1 1 1 1 1 1 1 1 1 1 1 1 1 1 1 1 1 1 1 1 1 1 1 1 1 1 1 1 1 1 1 1 1 1 1 1 1 1 1 1 1 1 1 1 1 1 1 1 1 1 1 1 1 1 1 1 1 1 1 1 1 1 1 1 1 1 1 1 1 1 1 1 1 1 1 1 1 1 1 1 1 1 1 1 1 1 1 1 1 1\n",
            "INFO:tensorflow:segment_ids: 0 0 0 0 0 0 0 0 0 0 0 1 1 1 1 1 1 1 1 1 1 1 1 1 1 1 1 1 1 1 1 1 1 1 1 1 1 1 1 1 1 1 1 1 1 1 1 1 1 1 1 1 1 1 1 1 1 1 1 1 1 1 1 1 1 1 1 1 1 1 1 1 1 1 1 1 1 1 1 1 1 1 1 1 1 1 1 1 1 1 1 1 1 1 1 1 1 1 1 1 1 1 1 1 1 1 1 1 1 1 1 1 1 1 1 1 1 1 1 1 1 1 1 1 1 1 1 1 1 1 1 1 1 1 1 1 1 1 1 1 1 1 1 1 1 1 1 1 1 1 1 1 1 1 1 1 1 1 1 1 1 1 1 1 1 1 1 1 1 1 1 1 1 1 1 1 1 1 1 1 1 1 1 1 1 1 1 1 1 1 1 1 1 1 1 1 1 1 1 1\n",
            "INFO:tensorflow:label: 0 (id = 0)\n",
            "INFO:tensorflow:Writing example 10000 of 15769\n"
          ],
          "name": "stdout"
        }
      ]
    },
    {
      "cell_type": "code",
      "metadata": {
        "id": "cBotBeY2SmOF",
        "colab": {
          "base_uri": "https://localhost:8080/",
          "height": 4848
        },
        "outputId": "7266bbb5-6dfd-4bda-fc92-3fcb13611385"
      },
      "source": [
        "train_file = os.path.join(OUTPUT_DIR, \"train.tf_record\")\n",
        "\n",
        "print('***** Started training at {} *****'.format(datetime.datetime.now()))\n",
        "print('  Batch size = {}'.format(TRAIN_BATCH_SIZE))\n",
        "tf.logging.info(\"  Num steps = %d\", num_train_steps)\n",
        "train_input_fn = file_based_input_fn_builder(\n",
        "    input_file=train_file,\n",
        "    seq_length=MAX_SEQCONCAT_LENGTH,\n",
        "    is_training=True,\n",
        "    drop_remainder=True)\n",
        "estimator.train(input_fn=train_input_fn, max_steps=num_train_steps)\n",
        "print('***** Finished training at {} *****'.format(datetime.datetime.now()))"
      ],
      "execution_count": null,
      "outputs": [
        {
          "output_type": "stream",
          "text": [
            "***** Started training at 2019-02-10 21:56:46.205307 *****\n",
            "  Batch size = 16\n",
            "INFO:tensorflow:  Num steps = 985\n",
            "INFO:tensorflow:Querying Tensorflow master (grpc://10.110.95.26:8470) for TPU system metadata.\n",
            "INFO:tensorflow:Found TPU system:\n",
            "INFO:tensorflow:*** Num TPU Cores: 8\n",
            "INFO:tensorflow:*** Num TPU Workers: 1\n",
            "INFO:tensorflow:*** Num TPU Cores Per Worker: 8\n",
            "INFO:tensorflow:*** Available Device: _DeviceAttributes(/job:worker/replica:0/task:0/device:CPU:0, CPU, -1, 17357500703184256678)\n",
            "INFO:tensorflow:*** Available Device: _DeviceAttributes(/job:worker/replica:0/task:0/device:XLA_CPU:0, XLA_CPU, 17179869184, 18095123436672065651)\n",
            "INFO:tensorflow:*** Available Device: _DeviceAttributes(/job:worker/replica:0/task:0/device:TPU:0, TPU, 17179869184, 4425371603390326467)\n",
            "INFO:tensorflow:*** Available Device: _DeviceAttributes(/job:worker/replica:0/task:0/device:TPU:1, TPU, 17179869184, 16432993633361050829)\n",
            "INFO:tensorflow:*** Available Device: _DeviceAttributes(/job:worker/replica:0/task:0/device:TPU:2, TPU, 17179869184, 17996723180552967148)\n",
            "INFO:tensorflow:*** Available Device: _DeviceAttributes(/job:worker/replica:0/task:0/device:TPU:3, TPU, 17179869184, 12971529934316541102)\n",
            "INFO:tensorflow:*** Available Device: _DeviceAttributes(/job:worker/replica:0/task:0/device:TPU:4, TPU, 17179869184, 14685669102934600712)\n",
            "INFO:tensorflow:*** Available Device: _DeviceAttributes(/job:worker/replica:0/task:0/device:TPU:5, TPU, 17179869184, 6879872093103234591)\n",
            "INFO:tensorflow:*** Available Device: _DeviceAttributes(/job:worker/replica:0/task:0/device:TPU:6, TPU, 17179869184, 10378530326928481609)\n",
            "INFO:tensorflow:*** Available Device: _DeviceAttributes(/job:worker/replica:0/task:0/device:TPU:7, TPU, 17179869184, 1264862377186564240)\n",
            "INFO:tensorflow:*** Available Device: _DeviceAttributes(/job:worker/replica:0/task:0/device:TPU_SYSTEM:0, TPU_SYSTEM, 17179869184, 14997112060148485252)\n",
            "WARNING:tensorflow:From /usr/local/lib/python3.6/dist-packages/tensorflow/python/ops/resource_variable_ops.py:435: colocate_with (from tensorflow.python.framework.ops) is deprecated and will be removed in a future version.\n",
            "Instructions for updating:\n",
            "Colocations handled automatically by placer.\n",
            "INFO:tensorflow:Calling model_fn.\n",
            "WARNING:tensorflow:From bert_repo6/run_qe_classifier.py:671: map_and_batch (from tensorflow.contrib.data.python.ops.batching) is deprecated and will be removed in a future version.\n",
            "Instructions for updating:\n",
            "Use `tf.data.experimental.map_and_batch(...)`.\n",
            "WARNING:tensorflow:From bert_repo6/run_qe_classifier.py:651: to_int32 (from tensorflow.python.ops.math_ops) is deprecated and will be removed in a future version.\n",
            "Instructions for updating:\n",
            "Use tf.cast instead.\n",
            "WARNING:tensorflow:From /usr/local/lib/python3.6/dist-packages/tensorflow/python/data/ops/dataset_ops.py:1720: DatasetV1.make_initializable_iterator (from tensorflow.python.data.ops.dataset_ops) is deprecated and will be removed in a future version.\n",
            "Instructions for updating:\n",
            "Use `for ... in dataset:` to iterate over a dataset. If using `tf.estimator`, return the `Dataset` object directly from your input function. As a last resort, you can use `tf.compat.v1.data.make_initializable_iterator(dataset)`.\n",
            "INFO:tensorflow:*** Features ***\n",
            "INFO:tensorflow:  name = input_ids, shape = (2, 200)\n",
            "INFO:tensorflow:  name = input_mask, shape = (2, 200)\n",
            "INFO:tensorflow:  name = is_real_example, shape = (2,)\n",
            "INFO:tensorflow:  name = label_ids, shape = (2,)\n",
            "INFO:tensorflow:  name = segment_ids, shape = (2, 200)\n",
            "WARNING:tensorflow:From bert_repo6/modeling.py:359: calling dropout (from tensorflow.python.ops.nn_ops) with keep_prob is deprecated and will be removed in a future version.\n",
            "Instructions for updating:\n",
            "Please use `rate` instead of `keep_prob`. Rate should be set to `rate = 1 - keep_prob`.\n",
            "WARNING:tensorflow:From bert_repo6/modeling.py:673: dense (from tensorflow.python.layers.core) is deprecated and will be removed in a future version.\n",
            "Instructions for updating:\n",
            "Use keras.layers.dense instead.\n",
            "INFO:tensorflow:**** Trainable Variables ****\n",
            "INFO:tensorflow:  name = bert/embeddings/word_embeddings:0, shape = (30522, 768), *INIT_FROM_CKPT*\n",
            "INFO:tensorflow:  name = bert/embeddings/token_type_embeddings:0, shape = (2, 768), *INIT_FROM_CKPT*\n",
            "INFO:tensorflow:  name = bert/embeddings/position_embeddings:0, shape = (512, 768), *INIT_FROM_CKPT*\n",
            "INFO:tensorflow:  name = bert/embeddings/LayerNorm/beta:0, shape = (768,), *INIT_FROM_CKPT*\n",
            "INFO:tensorflow:  name = bert/embeddings/LayerNorm/gamma:0, shape = (768,), *INIT_FROM_CKPT*\n",
            "INFO:tensorflow:  name = bert/encoder/layer_0/attention/self/query/kernel:0, shape = (768, 768), *INIT_FROM_CKPT*\n",
            "INFO:tensorflow:  name = bert/encoder/layer_0/attention/self/query/bias:0, shape = (768,), *INIT_FROM_CKPT*\n",
            "INFO:tensorflow:  name = bert/encoder/layer_0/attention/self/key/kernel:0, shape = (768, 768), *INIT_FROM_CKPT*\n",
            "INFO:tensorflow:  name = bert/encoder/layer_0/attention/self/key/bias:0, shape = (768,), *INIT_FROM_CKPT*\n",
            "INFO:tensorflow:  name = bert/encoder/layer_0/attention/self/value/kernel:0, shape = (768, 768), *INIT_FROM_CKPT*\n",
            "INFO:tensorflow:  name = bert/encoder/layer_0/attention/self/value/bias:0, shape = (768,), *INIT_FROM_CKPT*\n",
            "INFO:tensorflow:  name = bert/encoder/layer_0/attention/output/dense/kernel:0, shape = (768, 768), *INIT_FROM_CKPT*\n",
            "INFO:tensorflow:  name = bert/encoder/layer_0/attention/output/dense/bias:0, shape = (768,), *INIT_FROM_CKPT*\n",
            "INFO:tensorflow:  name = bert/encoder/layer_0/attention/output/LayerNorm/beta:0, shape = (768,), *INIT_FROM_CKPT*\n",
            "INFO:tensorflow:  name = bert/encoder/layer_0/attention/output/LayerNorm/gamma:0, shape = (768,), *INIT_FROM_CKPT*\n",
            "INFO:tensorflow:  name = bert/encoder/layer_0/intermediate/dense/kernel:0, shape = (768, 3072), *INIT_FROM_CKPT*\n",
            "INFO:tensorflow:  name = bert/encoder/layer_0/intermediate/dense/bias:0, shape = (3072,), *INIT_FROM_CKPT*\n",
            "INFO:tensorflow:  name = bert/encoder/layer_0/output/dense/kernel:0, shape = (3072, 768), *INIT_FROM_CKPT*\n",
            "INFO:tensorflow:  name = bert/encoder/layer_0/output/dense/bias:0, shape = (768,), *INIT_FROM_CKPT*\n",
            "INFO:tensorflow:  name = bert/encoder/layer_0/output/LayerNorm/beta:0, shape = (768,), *INIT_FROM_CKPT*\n",
            "INFO:tensorflow:  name = bert/encoder/layer_0/output/LayerNorm/gamma:0, shape = (768,), *INIT_FROM_CKPT*\n",
            "INFO:tensorflow:  name = bert/encoder/layer_1/attention/self/query/kernel:0, shape = (768, 768), *INIT_FROM_CKPT*\n",
            "INFO:tensorflow:  name = bert/encoder/layer_1/attention/self/query/bias:0, shape = (768,), *INIT_FROM_CKPT*\n",
            "INFO:tensorflow:  name = bert/encoder/layer_1/attention/self/key/kernel:0, shape = (768, 768), *INIT_FROM_CKPT*\n",
            "INFO:tensorflow:  name = bert/encoder/layer_1/attention/self/key/bias:0, shape = (768,), *INIT_FROM_CKPT*\n",
            "INFO:tensorflow:  name = bert/encoder/layer_1/attention/self/value/kernel:0, shape = (768, 768), *INIT_FROM_CKPT*\n",
            "INFO:tensorflow:  name = bert/encoder/layer_1/attention/self/value/bias:0, shape = (768,), *INIT_FROM_CKPT*\n",
            "INFO:tensorflow:  name = bert/encoder/layer_1/attention/output/dense/kernel:0, shape = (768, 768), *INIT_FROM_CKPT*\n",
            "INFO:tensorflow:  name = bert/encoder/layer_1/attention/output/dense/bias:0, shape = (768,), *INIT_FROM_CKPT*\n",
            "INFO:tensorflow:  name = bert/encoder/layer_1/attention/output/LayerNorm/beta:0, shape = (768,), *INIT_FROM_CKPT*\n",
            "INFO:tensorflow:  name = bert/encoder/layer_1/attention/output/LayerNorm/gamma:0, shape = (768,), *INIT_FROM_CKPT*\n",
            "INFO:tensorflow:  name = bert/encoder/layer_1/intermediate/dense/kernel:0, shape = (768, 3072), *INIT_FROM_CKPT*\n",
            "INFO:tensorflow:  name = bert/encoder/layer_1/intermediate/dense/bias:0, shape = (3072,), *INIT_FROM_CKPT*\n",
            "INFO:tensorflow:  name = bert/encoder/layer_1/output/dense/kernel:0, shape = (3072, 768), *INIT_FROM_CKPT*\n",
            "INFO:tensorflow:  name = bert/encoder/layer_1/output/dense/bias:0, shape = (768,), *INIT_FROM_CKPT*\n",
            "INFO:tensorflow:  name = bert/encoder/layer_1/output/LayerNorm/beta:0, shape = (768,), *INIT_FROM_CKPT*\n",
            "INFO:tensorflow:  name = bert/encoder/layer_1/output/LayerNorm/gamma:0, shape = (768,), *INIT_FROM_CKPT*\n",
            "INFO:tensorflow:  name = bert/encoder/layer_2/attention/self/query/kernel:0, shape = (768, 768), *INIT_FROM_CKPT*\n",
            "INFO:tensorflow:  name = bert/encoder/layer_2/attention/self/query/bias:0, shape = (768,), *INIT_FROM_CKPT*\n",
            "INFO:tensorflow:  name = bert/encoder/layer_2/attention/self/key/kernel:0, shape = (768, 768), *INIT_FROM_CKPT*\n",
            "INFO:tensorflow:  name = bert/encoder/layer_2/attention/self/key/bias:0, shape = (768,), *INIT_FROM_CKPT*\n",
            "INFO:tensorflow:  name = bert/encoder/layer_2/attention/self/value/kernel:0, shape = (768, 768), *INIT_FROM_CKPT*\n",
            "INFO:tensorflow:  name = bert/encoder/layer_2/attention/self/value/bias:0, shape = (768,), *INIT_FROM_CKPT*\n",
            "INFO:tensorflow:  name = bert/encoder/layer_2/attention/output/dense/kernel:0, shape = (768, 768), *INIT_FROM_CKPT*\n",
            "INFO:tensorflow:  name = bert/encoder/layer_2/attention/output/dense/bias:0, shape = (768,), *INIT_FROM_CKPT*\n",
            "INFO:tensorflow:  name = bert/encoder/layer_2/attention/output/LayerNorm/beta:0, shape = (768,), *INIT_FROM_CKPT*\n",
            "INFO:tensorflow:  name = bert/encoder/layer_2/attention/output/LayerNorm/gamma:0, shape = (768,), *INIT_FROM_CKPT*\n",
            "INFO:tensorflow:  name = bert/encoder/layer_2/intermediate/dense/kernel:0, shape = (768, 3072), *INIT_FROM_CKPT*\n",
            "INFO:tensorflow:  name = bert/encoder/layer_2/intermediate/dense/bias:0, shape = (3072,), *INIT_FROM_CKPT*\n",
            "INFO:tensorflow:  name = bert/encoder/layer_2/output/dense/kernel:0, shape = (3072, 768), *INIT_FROM_CKPT*\n",
            "INFO:tensorflow:  name = bert/encoder/layer_2/output/dense/bias:0, shape = (768,), *INIT_FROM_CKPT*\n",
            "INFO:tensorflow:  name = bert/encoder/layer_2/output/LayerNorm/beta:0, shape = (768,), *INIT_FROM_CKPT*\n",
            "INFO:tensorflow:  name = bert/encoder/layer_2/output/LayerNorm/gamma:0, shape = (768,), *INIT_FROM_CKPT*\n",
            "INFO:tensorflow:  name = bert/encoder/layer_3/attention/self/query/kernel:0, shape = (768, 768), *INIT_FROM_CKPT*\n",
            "INFO:tensorflow:  name = bert/encoder/layer_3/attention/self/query/bias:0, shape = (768,), *INIT_FROM_CKPT*\n",
            "INFO:tensorflow:  name = bert/encoder/layer_3/attention/self/key/kernel:0, shape = (768, 768), *INIT_FROM_CKPT*\n",
            "INFO:tensorflow:  name = bert/encoder/layer_3/attention/self/key/bias:0, shape = (768,), *INIT_FROM_CKPT*\n",
            "INFO:tensorflow:  name = bert/encoder/layer_3/attention/self/value/kernel:0, shape = (768, 768), *INIT_FROM_CKPT*\n",
            "INFO:tensorflow:  name = bert/encoder/layer_3/attention/self/value/bias:0, shape = (768,), *INIT_FROM_CKPT*\n",
            "INFO:tensorflow:  name = bert/encoder/layer_3/attention/output/dense/kernel:0, shape = (768, 768), *INIT_FROM_CKPT*\n",
            "INFO:tensorflow:  name = bert/encoder/layer_3/attention/output/dense/bias:0, shape = (768,), *INIT_FROM_CKPT*\n",
            "INFO:tensorflow:  name = bert/encoder/layer_3/attention/output/LayerNorm/beta:0, shape = (768,), *INIT_FROM_CKPT*\n",
            "INFO:tensorflow:  name = bert/encoder/layer_3/attention/output/LayerNorm/gamma:0, shape = (768,), *INIT_FROM_CKPT*\n",
            "INFO:tensorflow:  name = bert/encoder/layer_3/intermediate/dense/kernel:0, shape = (768, 3072), *INIT_FROM_CKPT*\n",
            "INFO:tensorflow:  name = bert/encoder/layer_3/intermediate/dense/bias:0, shape = (3072,), *INIT_FROM_CKPT*\n",
            "INFO:tensorflow:  name = bert/encoder/layer_3/output/dense/kernel:0, shape = (3072, 768), *INIT_FROM_CKPT*\n",
            "INFO:tensorflow:  name = bert/encoder/layer_3/output/dense/bias:0, shape = (768,), *INIT_FROM_CKPT*\n",
            "INFO:tensorflow:  name = bert/encoder/layer_3/output/LayerNorm/beta:0, shape = (768,), *INIT_FROM_CKPT*\n",
            "INFO:tensorflow:  name = bert/encoder/layer_3/output/LayerNorm/gamma:0, shape = (768,), *INIT_FROM_CKPT*\n",
            "INFO:tensorflow:  name = bert/encoder/layer_4/attention/self/query/kernel:0, shape = (768, 768), *INIT_FROM_CKPT*\n",
            "INFO:tensorflow:  name = bert/encoder/layer_4/attention/self/query/bias:0, shape = (768,), *INIT_FROM_CKPT*\n",
            "INFO:tensorflow:  name = bert/encoder/layer_4/attention/self/key/kernel:0, shape = (768, 768), *INIT_FROM_CKPT*\n",
            "INFO:tensorflow:  name = bert/encoder/layer_4/attention/self/key/bias:0, shape = (768,), *INIT_FROM_CKPT*\n",
            "INFO:tensorflow:  name = bert/encoder/layer_4/attention/self/value/kernel:0, shape = (768, 768), *INIT_FROM_CKPT*\n",
            "INFO:tensorflow:  name = bert/encoder/layer_4/attention/self/value/bias:0, shape = (768,), *INIT_FROM_CKPT*\n",
            "INFO:tensorflow:  name = bert/encoder/layer_4/attention/output/dense/kernel:0, shape = (768, 768), *INIT_FROM_CKPT*\n",
            "INFO:tensorflow:  name = bert/encoder/layer_4/attention/output/dense/bias:0, shape = (768,), *INIT_FROM_CKPT*\n",
            "INFO:tensorflow:  name = bert/encoder/layer_4/attention/output/LayerNorm/beta:0, shape = (768,), *INIT_FROM_CKPT*\n",
            "INFO:tensorflow:  name = bert/encoder/layer_4/attention/output/LayerNorm/gamma:0, shape = (768,), *INIT_FROM_CKPT*\n",
            "INFO:tensorflow:  name = bert/encoder/layer_4/intermediate/dense/kernel:0, shape = (768, 3072), *INIT_FROM_CKPT*\n",
            "INFO:tensorflow:  name = bert/encoder/layer_4/intermediate/dense/bias:0, shape = (3072,), *INIT_FROM_CKPT*\n",
            "INFO:tensorflow:  name = bert/encoder/layer_4/output/dense/kernel:0, shape = (3072, 768), *INIT_FROM_CKPT*\n",
            "INFO:tensorflow:  name = bert/encoder/layer_4/output/dense/bias:0, shape = (768,), *INIT_FROM_CKPT*\n",
            "INFO:tensorflow:  name = bert/encoder/layer_4/output/LayerNorm/beta:0, shape = (768,), *INIT_FROM_CKPT*\n",
            "INFO:tensorflow:  name = bert/encoder/layer_4/output/LayerNorm/gamma:0, shape = (768,), *INIT_FROM_CKPT*\n",
            "INFO:tensorflow:  name = bert/encoder/layer_5/attention/self/query/kernel:0, shape = (768, 768), *INIT_FROM_CKPT*\n",
            "INFO:tensorflow:  name = bert/encoder/layer_5/attention/self/query/bias:0, shape = (768,), *INIT_FROM_CKPT*\n",
            "INFO:tensorflow:  name = bert/encoder/layer_5/attention/self/key/kernel:0, shape = (768, 768), *INIT_FROM_CKPT*\n",
            "INFO:tensorflow:  name = bert/encoder/layer_5/attention/self/key/bias:0, shape = (768,), *INIT_FROM_CKPT*\n",
            "INFO:tensorflow:  name = bert/encoder/layer_5/attention/self/value/kernel:0, shape = (768, 768), *INIT_FROM_CKPT*\n",
            "INFO:tensorflow:  name = bert/encoder/layer_5/attention/self/value/bias:0, shape = (768,), *INIT_FROM_CKPT*\n",
            "INFO:tensorflow:  name = bert/encoder/layer_5/attention/output/dense/kernel:0, shape = (768, 768), *INIT_FROM_CKPT*\n",
            "INFO:tensorflow:  name = bert/encoder/layer_5/attention/output/dense/bias:0, shape = (768,), *INIT_FROM_CKPT*\n",
            "INFO:tensorflow:  name = bert/encoder/layer_5/attention/output/LayerNorm/beta:0, shape = (768,), *INIT_FROM_CKPT*\n",
            "INFO:tensorflow:  name = bert/encoder/layer_5/attention/output/LayerNorm/gamma:0, shape = (768,), *INIT_FROM_CKPT*\n",
            "INFO:tensorflow:  name = bert/encoder/layer_5/intermediate/dense/kernel:0, shape = (768, 3072), *INIT_FROM_CKPT*\n",
            "INFO:tensorflow:  name = bert/encoder/layer_5/intermediate/dense/bias:0, shape = (3072,), *INIT_FROM_CKPT*\n",
            "INFO:tensorflow:  name = bert/encoder/layer_5/output/dense/kernel:0, shape = (3072, 768), *INIT_FROM_CKPT*\n",
            "INFO:tensorflow:  name = bert/encoder/layer_5/output/dense/bias:0, shape = (768,), *INIT_FROM_CKPT*\n",
            "INFO:tensorflow:  name = bert/encoder/layer_5/output/LayerNorm/beta:0, shape = (768,), *INIT_FROM_CKPT*\n",
            "INFO:tensorflow:  name = bert/encoder/layer_5/output/LayerNorm/gamma:0, shape = (768,), *INIT_FROM_CKPT*\n",
            "INFO:tensorflow:  name = bert/encoder/layer_6/attention/self/query/kernel:0, shape = (768, 768), *INIT_FROM_CKPT*\n",
            "INFO:tensorflow:  name = bert/encoder/layer_6/attention/self/query/bias:0, shape = (768,), *INIT_FROM_CKPT*\n",
            "INFO:tensorflow:  name = bert/encoder/layer_6/attention/self/key/kernel:0, shape = (768, 768), *INIT_FROM_CKPT*\n",
            "INFO:tensorflow:  name = bert/encoder/layer_6/attention/self/key/bias:0, shape = (768,), *INIT_FROM_CKPT*\n",
            "INFO:tensorflow:  name = bert/encoder/layer_6/attention/self/value/kernel:0, shape = (768, 768), *INIT_FROM_CKPT*\n",
            "INFO:tensorflow:  name = bert/encoder/layer_6/attention/self/value/bias:0, shape = (768,), *INIT_FROM_CKPT*\n",
            "INFO:tensorflow:  name = bert/encoder/layer_6/attention/output/dense/kernel:0, shape = (768, 768), *INIT_FROM_CKPT*\n",
            "INFO:tensorflow:  name = bert/encoder/layer_6/attention/output/dense/bias:0, shape = (768,), *INIT_FROM_CKPT*\n",
            "INFO:tensorflow:  name = bert/encoder/layer_6/attention/output/LayerNorm/beta:0, shape = (768,), *INIT_FROM_CKPT*\n",
            "INFO:tensorflow:  name = bert/encoder/layer_6/attention/output/LayerNorm/gamma:0, shape = (768,), *INIT_FROM_CKPT*\n",
            "INFO:tensorflow:  name = bert/encoder/layer_6/intermediate/dense/kernel:0, shape = (768, 3072), *INIT_FROM_CKPT*\n",
            "INFO:tensorflow:  name = bert/encoder/layer_6/intermediate/dense/bias:0, shape = (3072,), *INIT_FROM_CKPT*\n",
            "INFO:tensorflow:  name = bert/encoder/layer_6/output/dense/kernel:0, shape = (3072, 768), *INIT_FROM_CKPT*\n",
            "INFO:tensorflow:  name = bert/encoder/layer_6/output/dense/bias:0, shape = (768,), *INIT_FROM_CKPT*\n",
            "INFO:tensorflow:  name = bert/encoder/layer_6/output/LayerNorm/beta:0, shape = (768,), *INIT_FROM_CKPT*\n",
            "INFO:tensorflow:  name = bert/encoder/layer_6/output/LayerNorm/gamma:0, shape = (768,), *INIT_FROM_CKPT*\n",
            "INFO:tensorflow:  name = bert/encoder/layer_7/attention/self/query/kernel:0, shape = (768, 768), *INIT_FROM_CKPT*\n",
            "INFO:tensorflow:  name = bert/encoder/layer_7/attention/self/query/bias:0, shape = (768,), *INIT_FROM_CKPT*\n",
            "INFO:tensorflow:  name = bert/encoder/layer_7/attention/self/key/kernel:0, shape = (768, 768), *INIT_FROM_CKPT*\n",
            "INFO:tensorflow:  name = bert/encoder/layer_7/attention/self/key/bias:0, shape = (768,), *INIT_FROM_CKPT*\n",
            "INFO:tensorflow:  name = bert/encoder/layer_7/attention/self/value/kernel:0, shape = (768, 768), *INIT_FROM_CKPT*\n",
            "INFO:tensorflow:  name = bert/encoder/layer_7/attention/self/value/bias:0, shape = (768,), *INIT_FROM_CKPT*\n",
            "INFO:tensorflow:  name = bert/encoder/layer_7/attention/output/dense/kernel:0, shape = (768, 768), *INIT_FROM_CKPT*\n",
            "INFO:tensorflow:  name = bert/encoder/layer_7/attention/output/dense/bias:0, shape = (768,), *INIT_FROM_CKPT*\n",
            "INFO:tensorflow:  name = bert/encoder/layer_7/attention/output/LayerNorm/beta:0, shape = (768,), *INIT_FROM_CKPT*\n",
            "INFO:tensorflow:  name = bert/encoder/layer_7/attention/output/LayerNorm/gamma:0, shape = (768,), *INIT_FROM_CKPT*\n",
            "INFO:tensorflow:  name = bert/encoder/layer_7/intermediate/dense/kernel:0, shape = (768, 3072), *INIT_FROM_CKPT*\n",
            "INFO:tensorflow:  name = bert/encoder/layer_7/intermediate/dense/bias:0, shape = (3072,), *INIT_FROM_CKPT*\n",
            "INFO:tensorflow:  name = bert/encoder/layer_7/output/dense/kernel:0, shape = (3072, 768), *INIT_FROM_CKPT*\n",
            "INFO:tensorflow:  name = bert/encoder/layer_7/output/dense/bias:0, shape = (768,), *INIT_FROM_CKPT*\n",
            "INFO:tensorflow:  name = bert/encoder/layer_7/output/LayerNorm/beta:0, shape = (768,), *INIT_FROM_CKPT*\n",
            "INFO:tensorflow:  name = bert/encoder/layer_7/output/LayerNorm/gamma:0, shape = (768,), *INIT_FROM_CKPT*\n",
            "INFO:tensorflow:  name = bert/encoder/layer_8/attention/self/query/kernel:0, shape = (768, 768), *INIT_FROM_CKPT*\n",
            "INFO:tensorflow:  name = bert/encoder/layer_8/attention/self/query/bias:0, shape = (768,), *INIT_FROM_CKPT*\n",
            "INFO:tensorflow:  name = bert/encoder/layer_8/attention/self/key/kernel:0, shape = (768, 768), *INIT_FROM_CKPT*\n",
            "INFO:tensorflow:  name = bert/encoder/layer_8/attention/self/key/bias:0, shape = (768,), *INIT_FROM_CKPT*\n",
            "INFO:tensorflow:  name = bert/encoder/layer_8/attention/self/value/kernel:0, shape = (768, 768), *INIT_FROM_CKPT*\n",
            "INFO:tensorflow:  name = bert/encoder/layer_8/attention/self/value/bias:0, shape = (768,), *INIT_FROM_CKPT*\n",
            "INFO:tensorflow:  name = bert/encoder/layer_8/attention/output/dense/kernel:0, shape = (768, 768), *INIT_FROM_CKPT*\n",
            "INFO:tensorflow:  name = bert/encoder/layer_8/attention/output/dense/bias:0, shape = (768,), *INIT_FROM_CKPT*\n",
            "INFO:tensorflow:  name = bert/encoder/layer_8/attention/output/LayerNorm/beta:0, shape = (768,), *INIT_FROM_CKPT*\n",
            "INFO:tensorflow:  name = bert/encoder/layer_8/attention/output/LayerNorm/gamma:0, shape = (768,), *INIT_FROM_CKPT*\n",
            "INFO:tensorflow:  name = bert/encoder/layer_8/intermediate/dense/kernel:0, shape = (768, 3072), *INIT_FROM_CKPT*\n",
            "INFO:tensorflow:  name = bert/encoder/layer_8/intermediate/dense/bias:0, shape = (3072,), *INIT_FROM_CKPT*\n",
            "INFO:tensorflow:  name = bert/encoder/layer_8/output/dense/kernel:0, shape = (3072, 768), *INIT_FROM_CKPT*\n",
            "INFO:tensorflow:  name = bert/encoder/layer_8/output/dense/bias:0, shape = (768,), *INIT_FROM_CKPT*\n",
            "INFO:tensorflow:  name = bert/encoder/layer_8/output/LayerNorm/beta:0, shape = (768,), *INIT_FROM_CKPT*\n",
            "INFO:tensorflow:  name = bert/encoder/layer_8/output/LayerNorm/gamma:0, shape = (768,), *INIT_FROM_CKPT*\n",
            "INFO:tensorflow:  name = bert/encoder/layer_9/attention/self/query/kernel:0, shape = (768, 768), *INIT_FROM_CKPT*\n",
            "INFO:tensorflow:  name = bert/encoder/layer_9/attention/self/query/bias:0, shape = (768,), *INIT_FROM_CKPT*\n",
            "INFO:tensorflow:  name = bert/encoder/layer_9/attention/self/key/kernel:0, shape = (768, 768), *INIT_FROM_CKPT*\n",
            "INFO:tensorflow:  name = bert/encoder/layer_9/attention/self/key/bias:0, shape = (768,), *INIT_FROM_CKPT*\n",
            "INFO:tensorflow:  name = bert/encoder/layer_9/attention/self/value/kernel:0, shape = (768, 768), *INIT_FROM_CKPT*\n",
            "INFO:tensorflow:  name = bert/encoder/layer_9/attention/self/value/bias:0, shape = (768,), *INIT_FROM_CKPT*\n",
            "INFO:tensorflow:  name = bert/encoder/layer_9/attention/output/dense/kernel:0, shape = (768, 768), *INIT_FROM_CKPT*\n",
            "INFO:tensorflow:  name = bert/encoder/layer_9/attention/output/dense/bias:0, shape = (768,), *INIT_FROM_CKPT*\n",
            "INFO:tensorflow:  name = bert/encoder/layer_9/attention/output/LayerNorm/beta:0, shape = (768,), *INIT_FROM_CKPT*\n",
            "INFO:tensorflow:  name = bert/encoder/layer_9/attention/output/LayerNorm/gamma:0, shape = (768,), *INIT_FROM_CKPT*\n",
            "INFO:tensorflow:  name = bert/encoder/layer_9/intermediate/dense/kernel:0, shape = (768, 3072), *INIT_FROM_CKPT*\n",
            "INFO:tensorflow:  name = bert/encoder/layer_9/intermediate/dense/bias:0, shape = (3072,), *INIT_FROM_CKPT*\n",
            "INFO:tensorflow:  name = bert/encoder/layer_9/output/dense/kernel:0, shape = (3072, 768), *INIT_FROM_CKPT*\n",
            "INFO:tensorflow:  name = bert/encoder/layer_9/output/dense/bias:0, shape = (768,), *INIT_FROM_CKPT*\n",
            "INFO:tensorflow:  name = bert/encoder/layer_9/output/LayerNorm/beta:0, shape = (768,), *INIT_FROM_CKPT*\n",
            "INFO:tensorflow:  name = bert/encoder/layer_9/output/LayerNorm/gamma:0, shape = (768,), *INIT_FROM_CKPT*\n",
            "INFO:tensorflow:  name = bert/encoder/layer_10/attention/self/query/kernel:0, shape = (768, 768), *INIT_FROM_CKPT*\n",
            "INFO:tensorflow:  name = bert/encoder/layer_10/attention/self/query/bias:0, shape = (768,), *INIT_FROM_CKPT*\n",
            "INFO:tensorflow:  name = bert/encoder/layer_10/attention/self/key/kernel:0, shape = (768, 768), *INIT_FROM_CKPT*\n",
            "INFO:tensorflow:  name = bert/encoder/layer_10/attention/self/key/bias:0, shape = (768,), *INIT_FROM_CKPT*\n",
            "INFO:tensorflow:  name = bert/encoder/layer_10/attention/self/value/kernel:0, shape = (768, 768), *INIT_FROM_CKPT*\n",
            "INFO:tensorflow:  name = bert/encoder/layer_10/attention/self/value/bias:0, shape = (768,), *INIT_FROM_CKPT*\n",
            "INFO:tensorflow:  name = bert/encoder/layer_10/attention/output/dense/kernel:0, shape = (768, 768), *INIT_FROM_CKPT*\n",
            "INFO:tensorflow:  name = bert/encoder/layer_10/attention/output/dense/bias:0, shape = (768,), *INIT_FROM_CKPT*\n",
            "INFO:tensorflow:  name = bert/encoder/layer_10/attention/output/LayerNorm/beta:0, shape = (768,), *INIT_FROM_CKPT*\n",
            "INFO:tensorflow:  name = bert/encoder/layer_10/attention/output/LayerNorm/gamma:0, shape = (768,), *INIT_FROM_CKPT*\n",
            "INFO:tensorflow:  name = bert/encoder/layer_10/intermediate/dense/kernel:0, shape = (768, 3072), *INIT_FROM_CKPT*\n",
            "INFO:tensorflow:  name = bert/encoder/layer_10/intermediate/dense/bias:0, shape = (3072,), *INIT_FROM_CKPT*\n",
            "INFO:tensorflow:  name = bert/encoder/layer_10/output/dense/kernel:0, shape = (3072, 768), *INIT_FROM_CKPT*\n",
            "INFO:tensorflow:  name = bert/encoder/layer_10/output/dense/bias:0, shape = (768,), *INIT_FROM_CKPT*\n",
            "INFO:tensorflow:  name = bert/encoder/layer_10/output/LayerNorm/beta:0, shape = (768,), *INIT_FROM_CKPT*\n",
            "INFO:tensorflow:  name = bert/encoder/layer_10/output/LayerNorm/gamma:0, shape = (768,), *INIT_FROM_CKPT*\n",
            "INFO:tensorflow:  name = bert/encoder/layer_11/attention/self/query/kernel:0, shape = (768, 768), *INIT_FROM_CKPT*\n",
            "INFO:tensorflow:  name = bert/encoder/layer_11/attention/self/query/bias:0, shape = (768,), *INIT_FROM_CKPT*\n",
            "INFO:tensorflow:  name = bert/encoder/layer_11/attention/self/key/kernel:0, shape = (768, 768), *INIT_FROM_CKPT*\n",
            "INFO:tensorflow:  name = bert/encoder/layer_11/attention/self/key/bias:0, shape = (768,), *INIT_FROM_CKPT*\n",
            "INFO:tensorflow:  name = bert/encoder/layer_11/attention/self/value/kernel:0, shape = (768, 768), *INIT_FROM_CKPT*\n",
            "INFO:tensorflow:  name = bert/encoder/layer_11/attention/self/value/bias:0, shape = (768,), *INIT_FROM_CKPT*\n",
            "INFO:tensorflow:  name = bert/encoder/layer_11/attention/output/dense/kernel:0, shape = (768, 768), *INIT_FROM_CKPT*\n",
            "INFO:tensorflow:  name = bert/encoder/layer_11/attention/output/dense/bias:0, shape = (768,), *INIT_FROM_CKPT*\n",
            "INFO:tensorflow:  name = bert/encoder/layer_11/attention/output/LayerNorm/beta:0, shape = (768,), *INIT_FROM_CKPT*\n",
            "INFO:tensorflow:  name = bert/encoder/layer_11/attention/output/LayerNorm/gamma:0, shape = (768,), *INIT_FROM_CKPT*\n",
            "INFO:tensorflow:  name = bert/encoder/layer_11/intermediate/dense/kernel:0, shape = (768, 3072), *INIT_FROM_CKPT*\n",
            "INFO:tensorflow:  name = bert/encoder/layer_11/intermediate/dense/bias:0, shape = (3072,), *INIT_FROM_CKPT*\n",
            "INFO:tensorflow:  name = bert/encoder/layer_11/output/dense/kernel:0, shape = (3072, 768), *INIT_FROM_CKPT*\n",
            "INFO:tensorflow:  name = bert/encoder/layer_11/output/dense/bias:0, shape = (768,), *INIT_FROM_CKPT*\n",
            "INFO:tensorflow:  name = bert/encoder/layer_11/output/LayerNorm/beta:0, shape = (768,), *INIT_FROM_CKPT*\n",
            "INFO:tensorflow:  name = bert/encoder/layer_11/output/LayerNorm/gamma:0, shape = (768,), *INIT_FROM_CKPT*\n",
            "INFO:tensorflow:  name = bert/pooler/dense/kernel:0, shape = (768, 768), *INIT_FROM_CKPT*\n",
            "INFO:tensorflow:  name = bert/pooler/dense/bias:0, shape = (768,), *INIT_FROM_CKPT*\n",
            "INFO:tensorflow:  name = output_weights:0, shape = (2, 768)\n",
            "INFO:tensorflow:  name = output_bias:0, shape = (2,)\n",
            "WARNING:tensorflow:From /usr/local/lib/python3.6/dist-packages/tensorflow/python/training/learning_rate_decay_v2.py:321: div (from tensorflow.python.ops.math_ops) is deprecated and will be removed in a future version.\n",
            "Instructions for updating:\n",
            "Deprecated in favor of operator or tf.math.divide.\n",
            "INFO:tensorflow:Create CheckpointSaverHook.\n",
            "INFO:tensorflow:Done calling model_fn.\n",
            "INFO:tensorflow:TPU job name worker\n",
            "INFO:tensorflow:Graph was finalized.\n",
            "INFO:tensorflow:Running local_init_op.\n",
            "INFO:tensorflow:Done running local_init_op.\n",
            "INFO:tensorflow:Saving checkpoints for 0 into gs://bertir/bert/models/cw-descinit-first200-fold5/model.ckpt.\n",
            "INFO:tensorflow:Initialized dataset iterators in 0 seconds\n",
            "INFO:tensorflow:Installing graceful shutdown hook.\n",
            "INFO:tensorflow:Creating heartbeat manager for ['/job:worker/replica:0/task:0/device:CPU:0']\n",
            "INFO:tensorflow:Configuring worker heartbeat: shutdown_mode: WAIT_FOR_COORDINATOR\n",
            "\n",
            "INFO:tensorflow:Init TPU system\n",
            "INFO:tensorflow:Initialized TPU in 5 seconds\n",
            "INFO:tensorflow:Starting infeed thread controller.\n",
            "INFO:tensorflow:Starting outfeed thread controller.\n",
            "INFO:tensorflow:Enqueue next (985) batch(es) of data to infeed.\n",
            "INFO:tensorflow:Dequeue next (985) batch(es) of data from outfeed.\n",
            "INFO:tensorflow:loss = 0.017694188, step = 985\n",
            "INFO:tensorflow:Saving checkpoints for 985 into gs://bertir/bert/models/cw-descinit-first200-fold5/model.ckpt.\n",
            "INFO:tensorflow:Stop infeed thread controller\n",
            "INFO:tensorflow:Shutting down InfeedController thread.\n",
            "INFO:tensorflow:InfeedController received shutdown signal, stopping.\n",
            "INFO:tensorflow:Infeed thread finished, shutting down.\n",
            "INFO:tensorflow:infeed marked as finished\n",
            "INFO:tensorflow:Stop output thread controller\n",
            "INFO:tensorflow:Shutting down OutfeedController thread.\n",
            "INFO:tensorflow:OutfeedController received shutdown signal, stopping.\n",
            "INFO:tensorflow:Outfeed thread finished, shutting down.\n",
            "INFO:tensorflow:outfeed marked as finished\n",
            "INFO:tensorflow:Shutdown TPU system.\n",
            "INFO:tensorflow:Loss for final step: 0.017694188.\n",
            "INFO:tensorflow:training_loop marked as finished\n",
            "***** Finished training at 2019-02-10 22:00:06.325103 *****\n"
          ],
          "name": "stdout"
        }
      ]
    },
    {
      "cell_type": "markdown",
      "metadata": {
        "id": "XMoAi_LYLBRm"
      },
      "source": [
        "# Inference"
      ]
    },
    {
      "cell_type": "code",
      "metadata": {
        "id": "RDgZbmLnUaLf",
        "colab": {
          "base_uri": "https://localhost:8080/",
          "height": 734
        },
        "outputId": "bf8445db-196c-48ec-ab1c-994d0d02a14c"
      },
      "source": [
        "import os\n",
        "os.environ['TF_CPP_MIN_LOG_LEVEL'] = '3' \n",
        "tf.logging.set_verbosity(tf.logging.INFO)\n",
        "\n",
        "predict_examples = processor.get_test_examples(TASK_DATA_DIR)\n",
        "num_actual_predict_examples = len(predict_examples)\n",
        "assert num_actual_predict_examples > 0\n",
        "predict_batch_size = 32\n",
        "while len(predict_examples) % predict_batch_size != 0:\n",
        "  predict_examples.append(PaddingInputExample())\n",
        "\n",
        "predict_file = os.path.join(OUTPUT_DIR, \"predict.tf_record\")\n",
        "file_based_convert_examples_to_features(predict_examples, label_list,\n",
        "                                        MAX_SEQCONCAT_LENGTH, tokenizer,\n",
        "                                        predict_file)"
      ],
      "execution_count": null,
      "outputs": [
        {
          "output_type": "stream",
          "text": [
            "INFO:tensorflow:Qrel size: 9863\n",
            "INFO:tensorflow:Example Q: {'qid': '1', 'desc': \"Find information on President Barack Obama's family history, including genealogy, national origins, places and dates of birth, etc.\", 'subtopics': ['Find the TIME magazine photo essay \"Barack Obama\\'s Family Tree\".', \"Where did Barack Obama's parents and grandparents come from?\", \"Find biographical information on Barack Obama's mother.\"], 'title': 'obama family tree'}\n",
            "INFO:tensorflow:Example Q: {'qid': '2', 'desc': 'Find information on French Lick Resort and Casino in Indiana.', 'subtopics': ['Find the homepage for French Lick Resort and Casino.', \"What casinos are located within a day's drive of French Lick Resort and Casino?\", 'What jobs are available at French Lick Casino and Resort?', 'Are there discounted packages for staying at French Lick Resort and Casino?'], 'title': 'french lick resort and casino'}\n",
            "INFO:tensorflow:Example Q: {'qid': '3', 'desc': 'Find tips, resources, supplies for getting organized and reducing clutter.', 'subtopics': ['Find tips on getting organized, both reducing clutter and managing time.', 'Take me to the Container Store homepage.', 'Find catalogs of office supplies for organization and decluttering.'], 'title': 'getting organized'}\n",
            "INFO:tensorflow:Loaded 200 queries.\n",
            "INFO:tensorflow:Writing example 0 of 3840\n",
            "INFO:tensorflow:*** Example ***\n",
            "INFO:tensorflow:guid: test-156-clueweb09-en0003-14-31366\n",
            "INFO:tensorflow:tokens: [CLS] what online programs are offered by the university of phoenix ? [SEP] doctorate degree schools - vocational , technical , trade schools & colleges . quick select : featured school or brows ##e : by subject by degree by location resource library online schools business schools information technology visual communications animation culinary schools photography schools legal schools medical schools broadcast schools fashion design schools interior design schools web design schools graphic design schools nursing schools h ##vac schools human resources schools mechanics schools criminal justice schools more . . . alternate search school type : campus online show all zip / postal code : ( advanced search ) doctorate degree schools - vocational , technical , trade schools & colleges [ view doctorate degree schools by location / by subject ] schools that offer official doctorate programs are listed on this page ar ##gos ##y online - online school , web programs whether you ' re interested in pursuing your undergraduate , master ' s , or doctoral degree , you ' ll find an ar ##gos ##y university education is relevant , accessible , and flexible . ar ##gos ##y university has campuses and extension sites across [SEP]\n",
            "INFO:tensorflow:input_ids: 101 2054 3784 3454 2024 3253 2011 1996 2118 1997 6708 1029 102 8972 3014 2816 1011 13099 1010 4087 1010 3119 2816 1004 6667 1012 4248 7276 1024 2956 2082 2030 11347 2063 1024 2011 3395 2011 3014 2011 3295 7692 3075 3784 2816 2449 2816 2592 2974 5107 4806 7284 20560 2816 5855 2816 3423 2816 2966 2816 3743 2816 4827 2640 2816 4592 2640 2816 4773 2640 2816 8425 2640 2816 8329 2816 1044 24887 2816 2529 4219 2816 9760 2816 4735 3425 2816 2062 1012 1012 1012 6585 3945 2082 2828 1024 3721 3784 2265 2035 14101 1013 10690 3642 1024 1006 3935 3945 1007 8972 3014 2816 1011 13099 1010 4087 1010 3119 2816 1004 6667 1031 3193 8972 3014 2816 2011 3295 1013 2011 3395 1033 2816 2008 3749 2880 8972 3454 2024 3205 2006 2023 3931 12098 12333 2100 3784 1011 3784 2082 1010 4773 3454 3251 2017 1005 2128 4699 1999 11828 2115 8324 1010 3040 1005 1055 1010 2030 11316 3014 1010 2017 1005 2222 2424 2019 12098 12333 2100 2118 2495 2003 7882 1010 7801 1010 1998 12379 1012 12098 12333 2100 2118 2038 13696 1998 5331 4573 2408 102\n",
            "INFO:tensorflow:input_mask: 1 1 1 1 1 1 1 1 1 1 1 1 1 1 1 1 1 1 1 1 1 1 1 1 1 1 1 1 1 1 1 1 1 1 1 1 1 1 1 1 1 1 1 1 1 1 1 1 1 1 1 1 1 1 1 1 1 1 1 1 1 1 1 1 1 1 1 1 1 1 1 1 1 1 1 1 1 1 1 1 1 1 1 1 1 1 1 1 1 1 1 1 1 1 1 1 1 1 1 1 1 1 1 1 1 1 1 1 1 1 1 1 1 1 1 1 1 1 1 1 1 1 1 1 1 1 1 1 1 1 1 1 1 1 1 1 1 1 1 1 1 1 1 1 1 1 1 1 1 1 1 1 1 1 1 1 1 1 1 1 1 1 1 1 1 1 1 1 1 1 1 1 1 1 1 1 1 1 1 1 1 1 1 1 1 1 1 1 1 1 1 1 1 1 1 1 1 1 1 1\n",
            "INFO:tensorflow:segment_ids: 0 0 0 0 0 0 0 0 0 0 0 0 0 1 1 1 1 1 1 1 1 1 1 1 1 1 1 1 1 1 1 1 1 1 1 1 1 1 1 1 1 1 1 1 1 1 1 1 1 1 1 1 1 1 1 1 1 1 1 1 1 1 1 1 1 1 1 1 1 1 1 1 1 1 1 1 1 1 1 1 1 1 1 1 1 1 1 1 1 1 1 1 1 1 1 1 1 1 1 1 1 1 1 1 1 1 1 1 1 1 1 1 1 1 1 1 1 1 1 1 1 1 1 1 1 1 1 1 1 1 1 1 1 1 1 1 1 1 1 1 1 1 1 1 1 1 1 1 1 1 1 1 1 1 1 1 1 1 1 1 1 1 1 1 1 1 1 1 1 1 1 1 1 1 1 1 1 1 1 1 1 1 1 1 1 1 1 1 1 1 1 1 1 1 1 1 1 1 1 1\n",
            "INFO:tensorflow:label: 0 (id = 0)\n",
            "INFO:tensorflow:*** Example ***\n",
            "INFO:tensorflow:guid: test-156-clueweb09-en0006-88-31633\n",
            "INFO:tensorflow:tokens: [CLS] what online programs are offered by the university of phoenix ? [SEP] education colleges by career school guide . continuing teacher education colleges curriculum colleges early childhood education colleges educational leadership colleges e - education ; teaching with the internet colleges elementary education colleges es ##l and bilingual education colleges history education colleges lead teacher colleges mae ##d colleges mathematics education colleges reading education colleges secondary education colleges special education colleges vocational education colleges related sites : learn the techniques to becoming a chef schools offering teacher continuing education continuing teacher education teaching certification programs online fashion mer ##chan ##dis ##ing basics residential french doors interior decor ##ating programs criminal justice schools debt management online education & teaching degrees getting an mba online mc ##sa certification computer animation programs arizona - web design schools education colleges do you want to take your educator career to the next level ? would you like to begin a career in education ? the first step is to get the right education training . use this website to learn about schools offering all levels of degrees in education , with special ##ties including school administration , english as a second language , [SEP]\n",
            "INFO:tensorflow:input_ids: 101 2054 3784 3454 2024 3253 2011 1996 2118 1997 6708 1029 102 2495 6667 2011 2476 2082 5009 1012 5719 3836 2495 6667 8882 6667 2220 5593 2495 6667 4547 4105 6667 1041 1011 2495 1025 4252 2007 1996 4274 6667 4732 2495 6667 9686 2140 1998 17636 2495 6667 2381 2495 6667 2599 3836 6667 11530 2094 6667 5597 2495 6667 3752 2495 6667 3905 2495 6667 2569 2495 6667 13099 2495 6667 3141 4573 1024 4553 1996 5461 2000 3352 1037 10026 2816 5378 3836 5719 2495 5719 3836 2495 4252 10618 3454 3784 4827 21442 14856 10521 2075 24078 5647 2413 4303 4592 25545 5844 3454 4735 3425 2816 7016 2968 3784 2495 1004 4252 5445 2893 2019 15038 3784 11338 3736 10618 3274 7284 3454 5334 1011 4773 2640 2816 2495 6667 2079 2017 2215 2000 2202 2115 11490 2476 2000 1996 2279 2504 1029 2052 2017 2066 2000 4088 1037 2476 1999 2495 1029 1996 2034 3357 2003 2000 2131 1996 2157 2495 2731 1012 2224 2023 4037 2000 4553 2055 2816 5378 2035 3798 1997 5445 1999 2495 1010 2007 2569 7368 2164 2082 3447 1010 2394 2004 1037 2117 2653 1010 102\n",
            "INFO:tensorflow:input_mask: 1 1 1 1 1 1 1 1 1 1 1 1 1 1 1 1 1 1 1 1 1 1 1 1 1 1 1 1 1 1 1 1 1 1 1 1 1 1 1 1 1 1 1 1 1 1 1 1 1 1 1 1 1 1 1 1 1 1 1 1 1 1 1 1 1 1 1 1 1 1 1 1 1 1 1 1 1 1 1 1 1 1 1 1 1 1 1 1 1 1 1 1 1 1 1 1 1 1 1 1 1 1 1 1 1 1 1 1 1 1 1 1 1 1 1 1 1 1 1 1 1 1 1 1 1 1 1 1 1 1 1 1 1 1 1 1 1 1 1 1 1 1 1 1 1 1 1 1 1 1 1 1 1 1 1 1 1 1 1 1 1 1 1 1 1 1 1 1 1 1 1 1 1 1 1 1 1 1 1 1 1 1 1 1 1 1 1 1 1 1 1 1 1 1 1 1 1 1 1 1\n",
            "INFO:tensorflow:segment_ids: 0 0 0 0 0 0 0 0 0 0 0 0 0 1 1 1 1 1 1 1 1 1 1 1 1 1 1 1 1 1 1 1 1 1 1 1 1 1 1 1 1 1 1 1 1 1 1 1 1 1 1 1 1 1 1 1 1 1 1 1 1 1 1 1 1 1 1 1 1 1 1 1 1 1 1 1 1 1 1 1 1 1 1 1 1 1 1 1 1 1 1 1 1 1 1 1 1 1 1 1 1 1 1 1 1 1 1 1 1 1 1 1 1 1 1 1 1 1 1 1 1 1 1 1 1 1 1 1 1 1 1 1 1 1 1 1 1 1 1 1 1 1 1 1 1 1 1 1 1 1 1 1 1 1 1 1 1 1 1 1 1 1 1 1 1 1 1 1 1 1 1 1 1 1 1 1 1 1 1 1 1 1 1 1 1 1 1 1 1 1 1 1 1 1 1 1 1 1 1 1\n",
            "INFO:tensorflow:label: 0 (id = 0)\n",
            "INFO:tensorflow:*** Example ***\n",
            "INFO:tensorflow:guid: test-156-clueweb09-en0006-88-31634\n",
            "INFO:tensorflow:tokens: [CLS] what online programs are offered by the university of phoenix ? [SEP] early childhood education colleges by career school guide . continuing teacher education colleges curriculum colleges early childhood education colleges educational leadership colleges e - education ; teaching with the internet colleges elementary education colleges es ##l and bilingual education colleges history education colleges lead teacher colleges mae ##d colleges mathematics education colleges reading education colleges secondary education colleges special education colleges vocational education colleges early childhood education colleges are you the caring and nur ##turing type who loves working with children ? then take a look at the schools and colleges below that offer programs and degrees in early childhood education . get trained to be a teacher or care ##gi ##ver . related article : inspire others - become an educator featured schools university of phoenix develop the skills you need to be successful with university of phoenix . more professionals choose university of phoenix for their education than any other university in the country . university of phoenix offers degree programs in fields such as business , technology , criminal justice , nursing , and education . qualifying students are eligible for financial aid [SEP]\n",
            "INFO:tensorflow:input_ids: 101 2054 3784 3454 2024 3253 2011 1996 2118 1997 6708 1029 102 2220 5593 2495 6667 2011 2476 2082 5009 1012 5719 3836 2495 6667 8882 6667 2220 5593 2495 6667 4547 4105 6667 1041 1011 2495 1025 4252 2007 1996 4274 6667 4732 2495 6667 9686 2140 1998 17636 2495 6667 2381 2495 6667 2599 3836 6667 11530 2094 6667 5597 2495 6667 3752 2495 6667 3905 2495 6667 2569 2495 6667 13099 2495 6667 2220 5593 2495 6667 2024 2017 1996 11922 1998 27617 16037 2828 2040 7459 2551 2007 2336 1029 2059 2202 1037 2298 2012 1996 2816 1998 6667 2917 2008 3749 3454 1998 5445 1999 2220 5593 2495 1012 2131 4738 2000 2022 1037 3836 2030 2729 5856 6299 1012 3141 3720 1024 18708 2500 1011 2468 2019 11490 2956 2816 2118 1997 6708 4503 1996 4813 2017 2342 2000 2022 3144 2007 2118 1997 6708 1012 2062 8390 5454 2118 1997 6708 2005 2037 2495 2084 2151 2060 2118 1999 1996 2406 1012 2118 1997 6708 4107 3014 3454 1999 4249 2107 2004 2449 1010 2974 1010 4735 3425 1010 8329 1010 1998 2495 1012 6042 2493 2024 7792 2005 3361 4681 102\n",
            "INFO:tensorflow:input_mask: 1 1 1 1 1 1 1 1 1 1 1 1 1 1 1 1 1 1 1 1 1 1 1 1 1 1 1 1 1 1 1 1 1 1 1 1 1 1 1 1 1 1 1 1 1 1 1 1 1 1 1 1 1 1 1 1 1 1 1 1 1 1 1 1 1 1 1 1 1 1 1 1 1 1 1 1 1 1 1 1 1 1 1 1 1 1 1 1 1 1 1 1 1 1 1 1 1 1 1 1 1 1 1 1 1 1 1 1 1 1 1 1 1 1 1 1 1 1 1 1 1 1 1 1 1 1 1 1 1 1 1 1 1 1 1 1 1 1 1 1 1 1 1 1 1 1 1 1 1 1 1 1 1 1 1 1 1 1 1 1 1 1 1 1 1 1 1 1 1 1 1 1 1 1 1 1 1 1 1 1 1 1 1 1 1 1 1 1 1 1 1 1 1 1 1 1 1 1 1 1\n",
            "INFO:tensorflow:segment_ids: 0 0 0 0 0 0 0 0 0 0 0 0 0 1 1 1 1 1 1 1 1 1 1 1 1 1 1 1 1 1 1 1 1 1 1 1 1 1 1 1 1 1 1 1 1 1 1 1 1 1 1 1 1 1 1 1 1 1 1 1 1 1 1 1 1 1 1 1 1 1 1 1 1 1 1 1 1 1 1 1 1 1 1 1 1 1 1 1 1 1 1 1 1 1 1 1 1 1 1 1 1 1 1 1 1 1 1 1 1 1 1 1 1 1 1 1 1 1 1 1 1 1 1 1 1 1 1 1 1 1 1 1 1 1 1 1 1 1 1 1 1 1 1 1 1 1 1 1 1 1 1 1 1 1 1 1 1 1 1 1 1 1 1 1 1 1 1 1 1 1 1 1 1 1 1 1 1 1 1 1 1 1 1 1 1 1 1 1 1 1 1 1 1 1 1 1 1 1 1 1\n",
            "INFO:tensorflow:label: 0 (id = 0)\n",
            "INFO:tensorflow:*** Example ***\n",
            "INFO:tensorflow:guid: test-156-clueweb09-en0006-88-31635\n",
            "INFO:tensorflow:tokens: [CLS] what online programs are offered by the university of phoenix ? [SEP] special education colleges by career school guide . continuing teacher education colleges curriculum colleges early childhood education colleges educational leadership colleges e - education ; teaching with the internet colleges elementary education colleges es ##l and bilingual education colleges history education colleges lead teacher colleges mae ##d colleges mathematics education colleges reading education colleges secondary education colleges special education colleges vocational education colleges special education colleges are you a caring teacher who wants to learn more about teaching and nur ##turing special needs children ? this page lists schools and colleges that offer special education diploma , degree and certification programs . make a difference in the life of a child . related article : inspire others - become an educator featured schools university of phoenix develop the skills you need to be successful with university of phoenix . more professionals choose university of phoenix for their education than any other university in the country . university of phoenix offers degree programs in fields such as business , technology , criminal justice , nursing , and education . qualifying students are eligible for financial aid . [SEP]\n",
            "INFO:tensorflow:input_ids: 101 2054 3784 3454 2024 3253 2011 1996 2118 1997 6708 1029 102 2569 2495 6667 2011 2476 2082 5009 1012 5719 3836 2495 6667 8882 6667 2220 5593 2495 6667 4547 4105 6667 1041 1011 2495 1025 4252 2007 1996 4274 6667 4732 2495 6667 9686 2140 1998 17636 2495 6667 2381 2495 6667 2599 3836 6667 11530 2094 6667 5597 2495 6667 3752 2495 6667 3905 2495 6667 2569 2495 6667 13099 2495 6667 2569 2495 6667 2024 2017 1037 11922 3836 2040 4122 2000 4553 2062 2055 4252 1998 27617 16037 2569 3791 2336 1029 2023 3931 7201 2816 1998 6667 2008 3749 2569 2495 9827 1010 3014 1998 10618 3454 1012 2191 1037 4489 1999 1996 2166 1997 1037 2775 1012 3141 3720 1024 18708 2500 1011 2468 2019 11490 2956 2816 2118 1997 6708 4503 1996 4813 2017 2342 2000 2022 3144 2007 2118 1997 6708 1012 2062 8390 5454 2118 1997 6708 2005 2037 2495 2084 2151 2060 2118 1999 1996 2406 1012 2118 1997 6708 4107 3014 3454 1999 4249 2107 2004 2449 1010 2974 1010 4735 3425 1010 8329 1010 1998 2495 1012 6042 2493 2024 7792 2005 3361 4681 1012 102\n",
            "INFO:tensorflow:input_mask: 1 1 1 1 1 1 1 1 1 1 1 1 1 1 1 1 1 1 1 1 1 1 1 1 1 1 1 1 1 1 1 1 1 1 1 1 1 1 1 1 1 1 1 1 1 1 1 1 1 1 1 1 1 1 1 1 1 1 1 1 1 1 1 1 1 1 1 1 1 1 1 1 1 1 1 1 1 1 1 1 1 1 1 1 1 1 1 1 1 1 1 1 1 1 1 1 1 1 1 1 1 1 1 1 1 1 1 1 1 1 1 1 1 1 1 1 1 1 1 1 1 1 1 1 1 1 1 1 1 1 1 1 1 1 1 1 1 1 1 1 1 1 1 1 1 1 1 1 1 1 1 1 1 1 1 1 1 1 1 1 1 1 1 1 1 1 1 1 1 1 1 1 1 1 1 1 1 1 1 1 1 1 1 1 1 1 1 1 1 1 1 1 1 1 1 1 1 1 1 1\n",
            "INFO:tensorflow:segment_ids: 0 0 0 0 0 0 0 0 0 0 0 0 0 1 1 1 1 1 1 1 1 1 1 1 1 1 1 1 1 1 1 1 1 1 1 1 1 1 1 1 1 1 1 1 1 1 1 1 1 1 1 1 1 1 1 1 1 1 1 1 1 1 1 1 1 1 1 1 1 1 1 1 1 1 1 1 1 1 1 1 1 1 1 1 1 1 1 1 1 1 1 1 1 1 1 1 1 1 1 1 1 1 1 1 1 1 1 1 1 1 1 1 1 1 1 1 1 1 1 1 1 1 1 1 1 1 1 1 1 1 1 1 1 1 1 1 1 1 1 1 1 1 1 1 1 1 1 1 1 1 1 1 1 1 1 1 1 1 1 1 1 1 1 1 1 1 1 1 1 1 1 1 1 1 1 1 1 1 1 1 1 1 1 1 1 1 1 1 1 1 1 1 1 1 1 1 1 1 1 1\n",
            "INFO:tensorflow:label: 0 (id = 0)\n",
            "INFO:tensorflow:*** Example ***\n",
            "INFO:tensorflow:guid: test-156-clueweb09-en0006-88-31636\n",
            "INFO:tensorflow:tokens: [CLS] what online programs are offered by the university of phoenix ? [SEP] vocational education colleges by career school guide . continuing teacher education colleges curriculum colleges early childhood education colleges educational leadership colleges e - education ; teaching with the internet colleges elementary education colleges es ##l and bilingual education colleges history education colleges lead teacher colleges mae ##d colleges mathematics education colleges reading education colleges secondary education colleges special education colleges vocational education colleges vocational education colleges get the degree that will get you a career . this page lists schools and colleges that offer vocational education training programs . earn your high school diploma or earn a degree in technology or business . related article : inspire others - become an educator featured schools university of phoenix develop the skills you need to be successful with university of phoenix . more professionals choose university of phoenix for their education than any other university in the country . university of phoenix offers degree programs in fields such as business , technology , criminal justice , nursing , and education . qualifying students are eligible for financial aid . westwood college online you don ' t ever have [SEP]\n",
            "INFO:tensorflow:input_ids: 101 2054 3784 3454 2024 3253 2011 1996 2118 1997 6708 1029 102 13099 2495 6667 2011 2476 2082 5009 1012 5719 3836 2495 6667 8882 6667 2220 5593 2495 6667 4547 4105 6667 1041 1011 2495 1025 4252 2007 1996 4274 6667 4732 2495 6667 9686 2140 1998 17636 2495 6667 2381 2495 6667 2599 3836 6667 11530 2094 6667 5597 2495 6667 3752 2495 6667 3905 2495 6667 2569 2495 6667 13099 2495 6667 13099 2495 6667 2131 1996 3014 2008 2097 2131 2017 1037 2476 1012 2023 3931 7201 2816 1998 6667 2008 3749 13099 2495 2731 3454 1012 7796 2115 2152 2082 9827 2030 7796 1037 3014 1999 2974 2030 2449 1012 3141 3720 1024 18708 2500 1011 2468 2019 11490 2956 2816 2118 1997 6708 4503 1996 4813 2017 2342 2000 2022 3144 2007 2118 1997 6708 1012 2062 8390 5454 2118 1997 6708 2005 2037 2495 2084 2151 2060 2118 1999 1996 2406 1012 2118 1997 6708 4107 3014 3454 1999 4249 2107 2004 2449 1010 2974 1010 4735 3425 1010 8329 1010 1998 2495 1012 6042 2493 2024 7792 2005 3361 4681 1012 21730 2267 3784 2017 2123 1005 1056 2412 2031 102\n",
            "INFO:tensorflow:input_mask: 1 1 1 1 1 1 1 1 1 1 1 1 1 1 1 1 1 1 1 1 1 1 1 1 1 1 1 1 1 1 1 1 1 1 1 1 1 1 1 1 1 1 1 1 1 1 1 1 1 1 1 1 1 1 1 1 1 1 1 1 1 1 1 1 1 1 1 1 1 1 1 1 1 1 1 1 1 1 1 1 1 1 1 1 1 1 1 1 1 1 1 1 1 1 1 1 1 1 1 1 1 1 1 1 1 1 1 1 1 1 1 1 1 1 1 1 1 1 1 1 1 1 1 1 1 1 1 1 1 1 1 1 1 1 1 1 1 1 1 1 1 1 1 1 1 1 1 1 1 1 1 1 1 1 1 1 1 1 1 1 1 1 1 1 1 1 1 1 1 1 1 1 1 1 1 1 1 1 1 1 1 1 1 1 1 1 1 1 1 1 1 1 1 1 1 1 1 1 1 1\n",
            "INFO:tensorflow:segment_ids: 0 0 0 0 0 0 0 0 0 0 0 0 0 1 1 1 1 1 1 1 1 1 1 1 1 1 1 1 1 1 1 1 1 1 1 1 1 1 1 1 1 1 1 1 1 1 1 1 1 1 1 1 1 1 1 1 1 1 1 1 1 1 1 1 1 1 1 1 1 1 1 1 1 1 1 1 1 1 1 1 1 1 1 1 1 1 1 1 1 1 1 1 1 1 1 1 1 1 1 1 1 1 1 1 1 1 1 1 1 1 1 1 1 1 1 1 1 1 1 1 1 1 1 1 1 1 1 1 1 1 1 1 1 1 1 1 1 1 1 1 1 1 1 1 1 1 1 1 1 1 1 1 1 1 1 1 1 1 1 1 1 1 1 1 1 1 1 1 1 1 1 1 1 1 1 1 1 1 1 1 1 1 1 1 1 1 1 1 1 1 1 1 1 1 1 1 1 1 1 1\n",
            "INFO:tensorflow:label: 0 (id = 0)\n"
          ],
          "name": "stdout"
        }
      ]
    },
    {
      "cell_type": "code",
      "metadata": {
        "id": "mRC2z8LcKxNv"
      },
      "source": [
        "\n",
        "tf.logging.set_verbosity(tf.logging.ERROR)\n",
        "predict_file = os.path.join(OUTPUT_DIR, \"predict.tf_record\")\n",
        "\n",
        "tf.logging.info(\"***** Running prediction*****\")\n",
        "tf.logging.info(\"  Batch size = %d\", PREDICT_BATCH_SIZE)\n",
        "\n",
        "predict_drop_remainder = True \n",
        "predict_input_fn = file_based_input_fn_builder(\n",
        "        input_file=predict_file,\n",
        "        seq_length=MAX_SEQCONCAT_LENGTH,\n",
        "        is_training=False,\n",
        "        drop_remainder=predict_drop_remainder)\n",
        "\n",
        "result = estimator.predict(input_fn=predict_input_fn)\n",
        "\n",
        "output_predict_file = os.path.join(OUTPUT_DIR, \"test_results.tsv\")\n",
        "with tf.gfile.GFile(output_predict_file, \"w\") as writer:\n",
        "  num_written_lines = 0\n",
        "  tf.logging.info(\"***** Predict results *****\")\n",
        "  for (i, prediction) in enumerate(result):\n",
        "    probabilities = prediction[\"probabilities\"]\n",
        "    if i >= num_actual_predict_examples:\n",
        "      break\n",
        "    output_line = \"\\t\".join(\n",
        "            str(class_probability)\n",
        "            for class_probability in probabilities) + \"\\n\"\n",
        "    writer.write(output_line)\n",
        "    num_written_lines += 1\n",
        "    if num_written_lines % 100000 == 0:\n",
        "      print(num_written_lines)\n",
        "assert num_written_lines == num_actual_predict_examples"
      ],
      "execution_count": null,
      "outputs": []
    }
  ]
}