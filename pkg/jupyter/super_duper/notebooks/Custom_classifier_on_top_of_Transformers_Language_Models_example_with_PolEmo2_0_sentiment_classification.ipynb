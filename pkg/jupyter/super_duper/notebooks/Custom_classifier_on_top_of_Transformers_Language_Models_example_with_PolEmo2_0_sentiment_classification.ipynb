{
  "nbformat": 4,
  "nbformat_minor": 0,
  "metadata": {
    "kernelspec": {
      "display_name": "Python 3",
      "language": "python",
      "name": "python3"
    },
    "language_info": {
      "codemirror_mode": {
        "name": "ipython",
        "version": 3
      },
      "file_extension": ".py",
      "mimetype": "text/x-python",
      "name": "python",
      "nbconvert_exporter": "python",
      "pygments_lexer": "ipython3",
      "version": "3.7.6"
    },
    "colab": {
      "name": "Custom classifier on top of Transformers Language Models - example with PolEmo2.0 sentiment classification.ipynb",
      "provenance": []
    }
  },
  "cells": [
    {
      "cell_type": "markdown",
      "metadata": {
        "id": "ZxQFlXbomk_0"
      },
      "source": [
        "Last time I wrote about training the language models from scratch, you can find this post <a href=\"https://zablo.net/blog/post/training-roberta-from-scratch-the-missing-guide-polish-language-model/?utm_source=blog&utm_medium=link&utm_campaign=roberta_from_scratch\">here</a>. Now it's time to take your pre-trained lamnguage model at put it into good use by fine-tuning it for real world problem, i.e text classification or sentiment analysis. In this post I will show how to take pre-trained language model and build **custom** classifier on top of it. As in the previous post - I cover all of the important parts in details and I point out possible mistakes.\n",
        "\n",
        "Why custom model? There are two answers. First is that the fun in deep learning begins only when you can do something custom with your model. Experiments, experiments and more experiments! Second thing is that by implmenting some parts on your own, you gain better understaing of different parts of the modeling itself, but also the whole training/fine-tuning process.\n",
        "\n",
        "## TL;DR\n",
        "This post covers:\n",
        "1. taking existing pre-trained language model and understanding it's output - here I use PolBERTa trained for Polish language\n",
        "1. building **custom classification head** on top of the LM\n",
        "1. using fast tokenizers to efficiently tokenize and pad input text as well as prepare attention masks \n",
        "1. preparing reproducible training code with PyTorch Lightning\n",
        "1. finding good starting learning rate for the model\n",
        "1. validating the trained model on PolEmo 2.0 dataset (benchmark for Polish language sentiment analysis with 4 classes)\n",
        "\n",
        "The whole post is available as a Colab Notebook, linked below in *Additional links and resources* section.\n",
        "\n",
        "## Libraries and preparation\n",
        "In this post I will use pretty standard set of ML-related libraries, including: transformers & tokenizers from HuggingFace, PyTorch Lightning, pandas, scikit-learn and LR Finder."
      ]
    },
    {
      "cell_type": "code",
      "metadata": {
        "id": "M42o768Hmk_4",
        "outputId": "2250bf36-3562-4e09-fe2d-d7e3c659c758"
      },
      "source": [
        "!pip install transformers tokenizers pytorch-lightning"
      ],
      "execution_count": null,
      "outputs": [
        {
          "output_type": "stream",
          "text": [
            "Requirement already satisfied: transformers in ./.conda/envs/pytorch/lib/python3.7/site-packages (2.5.1)\n",
            "Requirement already satisfied: tokenizers in ./.conda/envs/pytorch/lib/python3.7/site-packages (0.6.0)\n",
            "Requirement already satisfied: pytorch-lightning in ./.conda/envs/pytorch/lib/python3.7/site-packages (0.7.1)\n",
            "Requirement already satisfied: filelock in ./.conda/envs/pytorch/lib/python3.7/site-packages (from transformers) (3.0.12)\n",
            "Requirement already satisfied: requests in ./.conda/envs/pytorch/lib/python3.7/site-packages (from transformers) (2.23.0)\n",
            "Requirement already satisfied: regex!=2019.12.17 in ./.conda/envs/pytorch/lib/python3.7/site-packages (from transformers) (2020.2.20)\n",
            "Requirement already satisfied: sacremoses in ./.conda/envs/pytorch/lib/python3.7/site-packages (from transformers) (0.0.38)\n",
            "Requirement already satisfied: boto3 in ./.conda/envs/pytorch/lib/python3.7/site-packages (from transformers) (1.12.26)\n",
            "Requirement already satisfied: tqdm>=4.27 in ./.conda/envs/pytorch/lib/python3.7/site-packages (from transformers) (4.43.0)\n",
            "Requirement already satisfied: numpy in ./.conda/envs/pytorch/lib/python3.7/site-packages (from transformers) (1.18.1)\n",
            "Requirement already satisfied: sentencepiece in ./.conda/envs/pytorch/lib/python3.7/site-packages (from transformers) (0.1.85)\n",
            "Requirement already satisfied: future>=0.17.1 in ./.conda/envs/pytorch/lib/python3.7/site-packages (from pytorch-lightning) (0.18.2)\n",
            "Requirement already satisfied: torch>=1.1 in ./.conda/envs/pytorch/lib/python3.7/site-packages (from pytorch-lightning) (1.4.0)\n",
            "Requirement already satisfied: tensorboard>=1.14 in ./.conda/envs/pytorch/lib/python3.7/site-packages (from pytorch-lightning) (2.1.1)\n",
            "Requirement already satisfied: chardet<4,>=3.0.2 in ./.conda/envs/pytorch/lib/python3.7/site-packages (from requests->transformers) (3.0.4)\n",
            "Requirement already satisfied: urllib3!=1.25.0,!=1.25.1,<1.26,>=1.21.1 in ./.conda/envs/pytorch/lib/python3.7/site-packages (from requests->transformers) (1.25.8)\n",
            "Requirement already satisfied: idna<3,>=2.5 in ./.conda/envs/pytorch/lib/python3.7/site-packages (from requests->transformers) (2.9)\n",
            "Requirement already satisfied: certifi>=2017.4.17 in ./.conda/envs/pytorch/lib/python3.7/site-packages (from requests->transformers) (2019.11.28)\n",
            "Requirement already satisfied: joblib in ./.conda/envs/pytorch/lib/python3.7/site-packages (from sacremoses->transformers) (0.14.1)\n",
            "Requirement already satisfied: six in ./.conda/envs/pytorch/lib/python3.7/site-packages (from sacremoses->transformers) (1.14.0)\n",
            "Requirement already satisfied: click in ./.conda/envs/pytorch/lib/python3.7/site-packages (from sacremoses->transformers) (7.1.1)\n",
            "Requirement already satisfied: s3transfer<0.4.0,>=0.3.0 in ./.conda/envs/pytorch/lib/python3.7/site-packages (from boto3->transformers) (0.3.3)\n",
            "Requirement already satisfied: jmespath<1.0.0,>=0.7.1 in ./.conda/envs/pytorch/lib/python3.7/site-packages (from boto3->transformers) (0.9.5)\n",
            "Requirement already satisfied: botocore<1.16.0,>=1.15.26 in ./.conda/envs/pytorch/lib/python3.7/site-packages (from boto3->transformers) (1.15.26)\n",
            "Requirement already satisfied: protobuf>=3.6.0 in ./.conda/envs/pytorch/lib/python3.7/site-packages (from tensorboard>=1.14->pytorch-lightning) (3.11.3)\n",
            "Requirement already satisfied: wheel>=0.26; python_version >= \"3\" in ./.conda/envs/pytorch/lib/python3.7/site-packages (from tensorboard>=1.14->pytorch-lightning) (0.34.2)\n",
            "Requirement already satisfied: google-auth-oauthlib<0.5,>=0.4.1 in ./.conda/envs/pytorch/lib/python3.7/site-packages (from tensorboard>=1.14->pytorch-lightning) (0.4.1)\n",
            "Requirement already satisfied: werkzeug>=0.11.15 in ./.conda/envs/pytorch/lib/python3.7/site-packages (from tensorboard>=1.14->pytorch-lightning) (1.0.0)\n",
            "Requirement already satisfied: markdown>=2.6.8 in ./.conda/envs/pytorch/lib/python3.7/site-packages (from tensorboard>=1.14->pytorch-lightning) (3.2.1)\n",
            "Requirement already satisfied: google-auth<2,>=1.6.3 in ./.conda/envs/pytorch/lib/python3.7/site-packages (from tensorboard>=1.14->pytorch-lightning) (1.11.3)\n",
            "Requirement already satisfied: absl-py>=0.4 in ./.conda/envs/pytorch/lib/python3.7/site-packages (from tensorboard>=1.14->pytorch-lightning) (0.9.0)\n",
            "Requirement already satisfied: setuptools>=41.0.0 in ./.conda/envs/pytorch/lib/python3.7/site-packages (from tensorboard>=1.14->pytorch-lightning) (46.0.0.post20200309)\n",
            "Requirement already satisfied: grpcio>=1.24.3 in ./.conda/envs/pytorch/lib/python3.7/site-packages (from tensorboard>=1.14->pytorch-lightning) (1.27.2)\n",
            "Requirement already satisfied: python-dateutil<3.0.0,>=2.1 in ./.conda/envs/pytorch/lib/python3.7/site-packages (from botocore<1.16.0,>=1.15.26->boto3->transformers) (2.8.1)\n",
            "Requirement already satisfied: docutils<0.16,>=0.10 in ./.conda/envs/pytorch/lib/python3.7/site-packages (from botocore<1.16.0,>=1.15.26->boto3->transformers) (0.15.2)\n",
            "Requirement already satisfied: requests-oauthlib>=0.7.0 in ./.conda/envs/pytorch/lib/python3.7/site-packages (from google-auth-oauthlib<0.5,>=0.4.1->tensorboard>=1.14->pytorch-lightning) (1.3.0)\n",
            "Requirement already satisfied: rsa<4.1,>=3.1.4 in ./.conda/envs/pytorch/lib/python3.7/site-packages (from google-auth<2,>=1.6.3->tensorboard>=1.14->pytorch-lightning) (4.0)\n",
            "Requirement already satisfied: cachetools<5.0,>=2.0.0 in ./.conda/envs/pytorch/lib/python3.7/site-packages (from google-auth<2,>=1.6.3->tensorboard>=1.14->pytorch-lightning) (4.0.0)\n",
            "Requirement already satisfied: pyasn1-modules>=0.2.1 in ./.conda/envs/pytorch/lib/python3.7/site-packages (from google-auth<2,>=1.6.3->tensorboard>=1.14->pytorch-lightning) (0.2.8)\n",
            "Requirement already satisfied: oauthlib>=3.0.0 in ./.conda/envs/pytorch/lib/python3.7/site-packages (from requests-oauthlib>=0.7.0->google-auth-oauthlib<0.5,>=0.4.1->tensorboard>=1.14->pytorch-lightning) (3.1.0)\n",
            "Requirement already satisfied: pyasn1>=0.1.3 in ./.conda/envs/pytorch/lib/python3.7/site-packages (from rsa<4.1,>=3.1.4->google-auth<2,>=1.6.3->tensorboard>=1.14->pytorch-lightning) (0.4.8)\n"
          ],
          "name": "stdout"
        }
      ]
    },
    {
      "cell_type": "markdown",
      "metadata": {
        "id": "e2rNCC-wmk_-"
      },
      "source": [
        "After running the cell below, you will probably have to restart the notebook (one time only)."
      ]
    },
    {
      "cell_type": "code",
      "metadata": {
        "id": "y2OlAXXwmk__"
      },
      "source": [
        "!git clone https://github.com/davidtvs/pytorch-lr-finder.git && cd pytorch-lr-finder && python setup.py install"
      ],
      "execution_count": null,
      "outputs": []
    },
    {
      "cell_type": "code",
      "metadata": {
        "id": "ZH3-uQbomlAC",
        "outputId": "0041aa7a-ecca-4ae9-c167-99f7adbcd09a"
      },
      "source": [
        "import torch\n",
        "from torch import nn\n",
        "from typing import List\n",
        "import torch.nn.functional as F\n",
        "from transformers import AutoTokenizer, AutoModelWithLMHead, pipeline, AdamW, get_linear_schedule_with_warmup\n",
        "import logging\n",
        "import os\n",
        "from functools import lru_cache\n",
        "from tokenizers import ByteLevelBPETokenizer\n",
        "from tokenizers.processors import BertProcessing\n",
        "import pytorch_lightning as pl\n",
        "from torch.utils.data import DataLoader, Dataset\n",
        "import pandas as pd\n",
        "from argparse import Namespace\n",
        "from sklearn.metrics import classification_report\n",
        "torch.__version__"
      ],
      "execution_count": null,
      "outputs": [
        {
          "output_type": "execute_result",
          "data": {
            "text/plain": [
              "'1.4.0'"
            ]
          },
          "metadata": {
            "tags": []
          },
          "execution_count": 104
        }
      ]
    },
    {
      "cell_type": "markdown",
      "metadata": {
        "id": "rZrAsMZGmlAG"
      },
      "source": [
        "## Understanding pre-trained language model input / outputs\n",
        "In order to build your classifier on top of pre-trained language model you must first understand it outputs. Usually it requries reading the related paper or (if possible) reading the documentation / github code. Fortunately, it's easy for Transformers library - as the models are documented and the return value is described well. For my case (RoBERTa) the docs are here: https://huggingface.co/transformers/model_doc/roberta.html#robertamodel. \n",
        "\n",
        "We're interested what `RobertaForMaskedLM` returns. It this case, output format is the following:\n",
        "\n",
        "```python\n",
        "sequence_output, pooled_output, (hidden_states), (attentions)\n",
        "```\n",
        "\n",
        "Let's take a look at it ourselves:"
      ]
    },
    {
      "cell_type": "code",
      "metadata": {
        "id": "H4rKSuc0mlAH"
      },
      "source": [
        "tokenizer = AutoTokenizer.from_pretrained(\"marrrcin/PolBERTa-base-polish-cased-v1\")\n",
        "model = AutoModelWithLMHead.from_pretrained(\"marrrcin/PolBERTa-base-polish-cased-v1\")"
      ],
      "execution_count": null,
      "outputs": []
    },
    {
      "cell_type": "markdown",
      "metadata": {
        "id": "G3BHdT-mmlAL"
      },
      "source": [
        "We are actually interested only in base model, without the LM head which is:"
      ]
    },
    {
      "cell_type": "code",
      "metadata": {
        "id": "SB1V-ZIhmlAM"
      },
      "source": [
        "base_model = model.roberta"
      ],
      "execution_count": null,
      "outputs": []
    },
    {
      "cell_type": "markdown",
      "metadata": {
        "id": "MSLbmL8HmlAQ"
      },
      "source": [
        "Let's see what does output look like by running the model forward pass with some input. We need to tokenize the input first:"
      ]
    },
    {
      "cell_type": "code",
      "metadata": {
        "id": "owPFe6QBmlAR",
        "outputId": "de2bed15-fd67-4b49-9f97-1e960a041eab"
      },
      "source": [
        "text = \"Mówiąc otwarcie jesteście reliktami. Ilu wiedźminów jeszcze żyje? Kilku? Góra kilkunastu. Nie stanowicie k<mask>. Poza tym, Zakon nie każe sobie płacić za ratowanie ludzi od złego.\"\n",
        "enc = tokenizer.encode_plus(text)\n",
        "enc.keys()"
      ],
      "execution_count": null,
      "outputs": [
        {
          "output_type": "execute_result",
          "data": {
            "text/plain": [
              "dict_keys(['input_ids', 'token_type_ids', 'attention_mask'])"
            ]
          },
          "metadata": {
            "tags": []
          },
          "execution_count": 156
        }
      ]
    },
    {
      "cell_type": "markdown",
      "metadata": {
        "id": "TAB4lA9zmlAU"
      },
      "source": [
        "Tokenizer returns `input_ids` which are the tokens of your input text. Then `token_type_ids` and `attention_mask` - first one is used when you use LM for next-sentence prediction task, second one is to tell the model which tokens are from your input text and which are just padding tokens.\n",
        "\n",
        "For classification, you only need `input_ids` and `attention_mask` as token types are created on the fly by the internal model's forward function (<a href=\"https://github.com/huggingface/transformers/blob/f7dcf8fcea4d486544f221032625a97ad7dc5405/src/transformers/modeling_bert.py#L701\" target=\"blank\">source</a>).\n",
        "\n",
        "Let's run the model. The `.unsqueeze(0)` is just to simulate batch processing (in this case, it will be batch size of 1)."
      ]
    },
    {
      "cell_type": "code",
      "metadata": {
        "id": "y2XE5wxdmlAV",
        "outputId": "61214b36-d616-4dbf-ec8c-ab198f077d90"
      },
      "source": [
        "# sequence_output, pooled_output, (hidden_states), (attentions)\n",
        "out = base_model(torch.tensor(enc[\"input_ids\"]).unsqueeze(0), torch.tensor(enc[\"attention_mask\"]).unsqueeze(0))\n",
        "out[0].shape, out[1].shape"
      ],
      "execution_count": null,
      "outputs": [
        {
          "output_type": "execute_result",
          "data": {
            "text/plain": [
              "(torch.Size([1, 12, 768]), torch.Size([1, 768]))"
            ]
          },
          "metadata": {
            "tags": []
          },
          "execution_count": 228
        }
      ]
    },
    {
      "cell_type": "markdown",
      "metadata": {
        "id": "wWeld9D7mlAZ"
      },
      "source": [
        "We are interested only in first element of the tuple while building classifier as the second element is used for next-sentence prediction task and **it is literally said in the Transformers docs not to use it**:\n",
        "> This output is usually *not* a good summary\n",
        "of the semantic content of the input, you're often better with averaging or pooling\n",
        "the sequence of hidden-states for the whole input sequence. [<a href=\"https://github.com/huggingface/transformers/blob/f7dcf8fcea4d486544f221032625a97ad7dc5405/src/transformers/modeling_bert.py#L658\" target=\"blank\">source</a>]\n",
        "\n",
        "Output shape description:\n",
        "<img src=\"./model-output.png\"/>\n",
        "\n",
        "Keep in mind that for bigger batch sizes you have to pad to either longest text's lenght or to model's max supported length (which usually for BERT-like models is `512`).\n",
        "\n",
        "The second dimension contains internal representation of each of the input tokens, so for properly tokenized data, i.e:"
      ]
    },
    {
      "cell_type": "code",
      "metadata": {
        "id": "xOwyBlfmmlAa",
        "outputId": "b8ae8461-940f-49c6-b08a-a4cd351e492d"
      },
      "source": [
        "t = \"Mówiąc otwarcie jesteście reliktami.\"\n",
        "enc = tokenizer.encode_plus(t)\n",
        "token_representations = base_model(torch.tensor(enc[\"input_ids\"]).unsqueeze(0))[0][0]\n",
        "print(enc[\"input_ids\"])\n",
        "print(tokenizer.decode(enc[\"input_ids\"]))\n",
        "print(f\"Length: {len(enc['input_ids'])}\")\n",
        "print(token_representations.shape)"
      ],
      "execution_count": null,
      "outputs": [
        {
          "output_type": "stream",
          "text": [
            "[0, 355, 304, 1748, 71, 12029, 28398, 807, 2578, 19022, 18, 2]\n",
            "<s> Mówiąc otwarcie jesteście reliktami.</s>\n",
            "Length: 12\n",
            "torch.Size([12, 768])\n"
          ],
          "name": "stdout"
        }
      ]
    },
    {
      "cell_type": "markdown",
      "metadata": {
        "id": "TOq6yEVymlAe"
      },
      "source": [
        "Representation for each token is as follows:\n",
        "* `0` = \"&lt;s&gt;\" token is represented by `token_representations[0]`\n",
        "* `355` = \" M\" token is represented by `token_representations[1]`\n",
        "\n",
        "and so on..."
      ]
    },
    {
      "cell_type": "markdown",
      "metadata": {
        "id": "oOF-IAq5mlAf"
      },
      "source": [
        "## Build custom classification head on top of LM\n",
        "OK, we understand the model's output and sizes, now we can build custom classification head on top of it.\n",
        "Have you found new awesome activation function? Or maybe you want to try-out different pooling methods to better fit your case? You're free to experiment. In this example, I will try out custom `Mish` activation function on top of straightforward classification head inspired by RoBERTa's original one (<a href=\"https://github.com/huggingface/transformers/blob/f7dcf8fcea4d486544f221032625a97ad7dc5405/src/transformers/modeling_roberta.py#L563\" target=\"blank\">source</a>) and DistilBERT's custom initialization. Because why not!"
      ]
    },
    {
      "cell_type": "code",
      "metadata": {
        "id": "ZsLz1oo8mlAg"
      },
      "source": [
        "# from https://github.com/digantamisra98/Mish/blob/b5f006660ac0b4c46e2c6958ad0301d7f9c59651/Mish/Torch/mish.py\n",
        "@torch.jit.script\n",
        "def mish(input):\n",
        "    return input * torch.tanh(F.softplus(input))\n",
        "  \n",
        "class Mish(nn.Module):\n",
        "    def forward(self, input):\n",
        "        return mish(input)"
      ],
      "execution_count": null,
      "outputs": []
    },
    {
      "cell_type": "code",
      "metadata": {
        "id": "yCepGeMPmlAk"
      },
      "source": [
        "class PolBERTaSentimentModel(nn.Module):\n",
        "    def __init__(self, base_model, n_classes, base_model_output_size=768, dropout=0.05):\n",
        "        super().__init__()\n",
        "        self.base_model = base_model\n",
        "        \n",
        "        self.classifier = nn.Sequential(\n",
        "            nn.Dropout(dropout),\n",
        "            nn.Linear(base_model_output_size, base_model_output_size),\n",
        "            Mish(),\n",
        "            nn.Dropout(dropout),\n",
        "            nn.Linear(base_model_output_size, n_classes)\n",
        "        )\n",
        "        \n",
        "        for layer in self.classifier:\n",
        "            if isinstance(layer, nn.Linear):\n",
        "                layer.weight.data.normal_(mean=0.0, std=0.02)\n",
        "                if layer.bias is not None:\n",
        "                    layer.bias.data.zero_()\n",
        "\n",
        "    def forward(self, input_, *args):\n",
        "        X, attention_mask = input_\n",
        "        hidden_states, _ = self.base_model(X, attention_mask=attention_mask)\n",
        "        \n",
        "        # here I use only representation of <s> token, but you can easily use more tokens,\n",
        "        # maybe do some pooling / RNNs... go crazy here!\n",
        "        return self.classifier(hidden_states[:, 0, :])"
      ],
      "execution_count": null,
      "outputs": []
    },
    {
      "cell_type": "markdown",
      "metadata": {
        "id": "S9cUflDbmlAn"
      },
      "source": [
        "<span style=\"color:red;font-weight:bold;\">Hint</span>\n",
        "> As a sanity check, I encourage you to run forward pass of the model on dummy data to validate the code. It also better to do this on CPU, as the stack traces of potential exceptions will be more meaningful. Mysterious CUDA erros very often are caused by simple Python-level errors."
      ]
    },
    {
      "cell_type": "code",
      "metadata": {
        "id": "t2442pYnmlAo",
        "outputId": "e94118ba-f6ca-4433-934f-a0ee5dbc2065"
      },
      "source": [
        "classifier = PolBERTaSentimentModel(AutoModelWithLMHead.from_pretrained(\"marrrcin/PolBERTa-base-polish-cased-v1\").roberta, 3)"
      ],
      "execution_count": null,
      "outputs": [
        {
          "output_type": "display_data",
          "data": {
            "application/vnd.jupyter.widget-view+json": {
              "model_id": "3206ede66de644e9aae8c267d44605ec",
              "version_major": 2,
              "version_minor": 0
            },
            "text/plain": [
              "HBox(children=(FloatProgress(value=0.0, description='Downloading', max=955.0, style=ProgressStyle(description_…"
            ]
          },
          "metadata": {
            "tags": []
          }
        },
        {
          "output_type": "stream",
          "text": [
            "\n"
          ],
          "name": "stdout"
        }
      ]
    },
    {
      "cell_type": "code",
      "metadata": {
        "id": "r9ZFeuGqmlAr"
      },
      "source": [
        "X = torch.tensor(enc[\"input_ids\"]).unsqueeze(0)\n",
        "attn = torch.tensor(enc[\"attention_mask\"]).unsqueeze(0)"
      ],
      "execution_count": null,
      "outputs": []
    },
    {
      "cell_type": "code",
      "metadata": {
        "id": "b46bNRVAmlAu",
        "outputId": "4c59c14c-423b-4c19-d026-4ae9f83173af"
      },
      "source": [
        "classifier((X, attn))"
      ],
      "execution_count": null,
      "outputs": [
        {
          "output_type": "execute_result",
          "data": {
            "text/plain": [
              "tensor([[0.5643, 0.2237, 0.1142]], grad_fn=<AddmmBackward>)"
            ]
          },
          "metadata": {
            "tags": []
          },
          "execution_count": 256
        }
      ]
    },
    {
      "cell_type": "markdown",
      "metadata": {
        "id": "g71UvZqcmlAx"
      },
      "source": [
        "The output is correct - we've run the model with batch size and expected 3 classes output (for CrossEntropyLoss)."
      ]
    },
    {
      "cell_type": "markdown",
      "metadata": {
        "id": "Dd53ujsDmlAy"
      },
      "source": [
        "## Preparing fast tokenizers to use with text dataset\n",
        "When you prepare your dataset you have two options while implementing `Dataset` class: \n",
        "\n",
        "* return tokenized text and class in `__getitem__` function\n",
        "* return just text and class in `__getitem__` function and implement `Collate` function - this function will be used by PyTorch DataLoader to prepare batches\n",
        "\n",
        "Here I've chosen the second approach.\n",
        "\n",
        "Default tokenizer loaded above (as for Transformers v2.5.1) uses Python implementation. In order to leverage full potential of parallel Rust tokenizers, we need to save the tokenizer's internal data and then create instance of fast tokenizer with it."
      ]
    },
    {
      "cell_type": "code",
      "metadata": {
        "id": "Nc-qjcgCmlAz"
      },
      "source": [
        "!mkdir -p tokenizer"
      ],
      "execution_count": null,
      "outputs": []
    },
    {
      "cell_type": "code",
      "metadata": {
        "id": "j8wCQHssmlA1",
        "outputId": "bd869f70-fe65-4451-e1f5-a9d7a6ef27b9"
      },
      "source": [
        "tokenizer.save_pretrained(\"tokenizer\")"
      ],
      "execution_count": null,
      "outputs": [
        {
          "output_type": "execute_result",
          "data": {
            "text/plain": [
              "('tokenizer/vocab.json',\n",
              " 'tokenizer/merges.txt',\n",
              " 'tokenizer/special_tokens_map.json',\n",
              " 'tokenizer/added_tokens.json')"
            ]
          },
          "metadata": {
            "tags": []
          },
          "execution_count": 275
        }
      ]
    },
    {
      "cell_type": "code",
      "metadata": {
        "id": "z3EYQMjpmlA4",
        "outputId": "6ca2ab9e-0ddc-4485-cc84-27c61e239076"
      },
      "source": [
        "!ls tokenizer"
      ],
      "execution_count": null,
      "outputs": [
        {
          "output_type": "stream",
          "text": [
            "merges.txt  special_tokens_map.json  tokenizer_config.json  vocab.json\r\n"
          ],
          "name": "stdout"
        }
      ]
    },
    {
      "cell_type": "markdown",
      "metadata": {
        "id": "fmDK5EJQmlA6"
      },
      "source": [
        "Once saved, implement `CollateFn` using fast tokenizers. As you can see, the whole batch can be tokenized in parallel and the tokenizer will also automatically return attention mask and pad input to max length of 512.\n",
        "\n",
        "<span style=\"color:red;font-weight:bold;\">Important!</span>\n",
        "> Ensure that all of the special tokens are in appropriate places and their IDs come from the actual tokenizer you're using - they should not be hardcoded, as different models will have different IDs for padding, BOS, EOS and so on."
      ]
    },
    {
      "cell_type": "code",
      "metadata": {
        "id": "oz0xO_7cmlA7"
      },
      "source": [
        "class TokenizersCollateFn:\n",
        "    def __init__(self, max_tokens=512):\n",
        "        t = ByteLevelBPETokenizer(\n",
        "            \"tokenizer/vocab.json\",\n",
        "            \"tokenizer/merges.txt\"\n",
        "        )\n",
        "        t._tokenizer.post_processor = BertProcessing(\n",
        "            (\"</s>\", t.token_to_id(\"</s>\")),\n",
        "            (\"<s>\", t.token_to_id(\"<s>\")),\n",
        "        )\n",
        "        t.enable_truncation(max_tokens)\n",
        "        t.enable_padding(max_length=max_tokens, pad_id=t.token_to_id(\"<pad>\"))\n",
        "        self.tokenizer = t\n",
        "\n",
        "    def __call__(self, batch):\n",
        "        encoded = self.tokenizer.encode_batch([x[0] for x in batch])\n",
        "        sequences_padded = torch.tensor([enc.ids for enc in encoded])\n",
        "        attention_masks_padded = torch.tensor([enc.attention_mask for enc in encoded])\n",
        "        labels = torch.tensor([x[1] for x in batch])\n",
        "        \n",
        "        return (sequences_padded, attention_masks_padded), labels\n"
      ],
      "execution_count": null,
      "outputs": []
    },
    {
      "cell_type": "markdown",
      "metadata": {
        "id": "RN_RLWOzmlA9"
      },
      "source": [
        "## Getting data for classification\n",
        "Here I use PolEmo 2.0 dataset, which is a benchmark for sentiment analysis task in Polish language."
      ]
    },
    {
      "cell_type": "code",
      "metadata": {
        "id": "jIMgJW32mlA-"
      },
      "source": [
        "!wget -O dataset_conll.zip https://clarin-pl.eu/dspace/bitstream/handle/11321/710/dataset_conll.zip?sequence=1&isAllowed=y "
      ],
      "execution_count": null,
      "outputs": []
    },
    {
      "cell_type": "code",
      "metadata": {
        "id": "pn8gFkEXmlBA",
        "outputId": "15ee9cbc-2c8c-4e35-f723-2693a3091101"
      },
      "source": [
        "!unzip -n dataset_conll.zip"
      ],
      "execution_count": null,
      "outputs": [
        {
          "output_type": "stream",
          "text": [
            "Archive:  dataset_conll.zip\r\n"
          ],
          "name": "stdout"
        }
      ]
    },
    {
      "cell_type": "code",
      "metadata": {
        "id": "Ea2S3v6SmlBC",
        "outputId": "2552f176-b9a0-4f10-8c88-54ff053b816c"
      },
      "source": [
        "train_path, val_path, test_path = [f\"dataset_conll/all.text.{d}.txt\" for d in (\"train\", \"dev\", \"test\")]\n",
        "train_path, val_path, test_path"
      ],
      "execution_count": null,
      "outputs": [
        {
          "output_type": "execute_result",
          "data": {
            "text/plain": [
              "('dataset_conll/all.text.train.txt',\n",
              " 'dataset_conll/all.text.dev.txt',\n",
              " 'dataset_conll/all.text.test.txt')"
            ]
          },
          "metadata": {
            "tags": []
          },
          "execution_count": 278
        }
      ]
    },
    {
      "cell_type": "markdown",
      "metadata": {
        "id": "u9fA20nMmlBE"
      },
      "source": [
        "This dataset has CSV-like format with `__label__` text being the separator. Don't ask.\n",
        "Let's take a quick look at the data:"
      ]
    },
    {
      "cell_type": "code",
      "metadata": {
        "id": "MK6--OgOmlBF",
        "outputId": "92c60f0b-ba8f-4031-a1b3-f9adbe4437b5"
      },
      "source": [
        "df = pd.read_csv(train_path, sep=\"__label__\", header=None, names=[\"text\", \"label\"], engine=\"python\")\n",
        "df.head()"
      ],
      "execution_count": null,
      "outputs": [
        {
          "output_type": "execute_result",
          "data": {
            "text/html": [
              "<div>\n",
              "<style scoped>\n",
              "    .dataframe tbody tr th:only-of-type {\n",
              "        vertical-align: middle;\n",
              "    }\n",
              "\n",
              "    .dataframe tbody tr th {\n",
              "        vertical-align: top;\n",
              "    }\n",
              "\n",
              "    .dataframe thead th {\n",
              "        text-align: right;\n",
              "    }\n",
              "</style>\n",
              "<table border=\"1\" class=\"dataframe\">\n",
              "  <thead>\n",
              "    <tr style=\"text-align: right;\">\n",
              "      <th></th>\n",
              "      <th>text</th>\n",
              "      <th>label</th>\n",
              "    </tr>\n",
              "  </thead>\n",
              "  <tbody>\n",
              "    <tr>\n",
              "      <th>0</th>\n",
              "      <td>Na samym wejściu hotel śmierdzi . W pokojach j...</td>\n",
              "      <td>meta_minus_m</td>\n",
              "    </tr>\n",
              "    <tr>\n",
              "      <th>1</th>\n",
              "      <td>Ze swoimi dziećmi ( 10 lat i 2 latka ) chodzę ...</td>\n",
              "      <td>meta_plus_m</td>\n",
              "    </tr>\n",
              "    <tr>\n",
              "      <th>2</th>\n",
              "      <td>Chciał em zestaw do podstawowych prac coś przy...</td>\n",
              "      <td>meta_minus_m</td>\n",
              "    </tr>\n",
              "    <tr>\n",
              "      <th>3</th>\n",
              "      <td>Drogie Mamy . Mam o tym laktatorze takie same ...</td>\n",
              "      <td>meta_minus_m</td>\n",
              "    </tr>\n",
              "    <tr>\n",
              "      <th>4</th>\n",
              "      <td>własciwie nic się nie dowidział em , podczas b...</td>\n",
              "      <td>meta_minus_m</td>\n",
              "    </tr>\n",
              "  </tbody>\n",
              "</table>\n",
              "</div>"
            ],
            "text/plain": [
              "                                                text         label\n",
              "0  Na samym wejściu hotel śmierdzi . W pokojach j...  meta_minus_m\n",
              "1  Ze swoimi dziećmi ( 10 lat i 2 latka ) chodzę ...   meta_plus_m\n",
              "2  Chciał em zestaw do podstawowych prac coś przy...  meta_minus_m\n",
              "3  Drogie Mamy . Mam o tym laktatorze takie same ...  meta_minus_m\n",
              "4  własciwie nic się nie dowidział em , podczas b...  meta_minus_m"
            ]
          },
          "metadata": {
            "tags": []
          },
          "execution_count": 282
        }
      ]
    },
    {
      "cell_type": "code",
      "metadata": {
        "id": "edkG0sItmlBI",
        "outputId": "a4ff782a-5b1c-446c-a8c3-4feec877928e"
      },
      "source": [
        "df.label.unique()"
      ],
      "execution_count": null,
      "outputs": [
        {
          "output_type": "execute_result",
          "data": {
            "text/plain": [
              "array(['meta_minus_m', 'meta_plus_m', 'meta_zero', 'meta_amb'],\n",
              "      dtype=object)"
            ]
          },
          "metadata": {
            "tags": []
          },
          "execution_count": 283
        }
      ]
    },
    {
      "cell_type": "markdown",
      "metadata": {
        "id": "t0i-YVVtmlBK"
      },
      "source": [
        "You will need mapping between text label and integer:"
      ]
    },
    {
      "cell_type": "code",
      "metadata": {
        "id": "ZayNBaCQmlBL"
      },
      "source": [
        "label2int = {\n",
        "  \"meta_minus_m\": 0,\n",
        "  \"meta_plus_m\": 1,\n",
        "  \"meta_zero\": 2,\n",
        "  \"meta_amb\": 3\n",
        "}"
      ],
      "execution_count": null,
      "outputs": []
    },
    {
      "cell_type": "markdown",
      "metadata": {
        "id": "OhC0mCwImlBN"
      },
      "source": [
        "As you can see below, the Dataset itself is really simple as it returns only the text and label. The rest is handled by the `TokenizersCollateFn` above."
      ]
    },
    {
      "cell_type": "code",
      "metadata": {
        "id": "njN9QGy2mlBO"
      },
      "source": [
        "class PolEmo2Dataset(Dataset):\n",
        "    def __init__(self, path):\n",
        "        super().__init__()\n",
        "        self.data_column = \"text\"\n",
        "        self.class_column = \"class\"\n",
        "        self.data = pd.read_csv(path, sep=\"__label__\", header=None, names=[self.data_column, self.class_column],\n",
        "                               engine=\"python\")\n",
        "\n",
        "    def __getitem__(self, idx):\n",
        "        return self.data.loc[idx, self.data_column], label2int[self.data.loc[idx, self.class_column]]\n",
        "\n",
        "    def __len__(self):\n",
        "        return self.data.shape[0]"
      ],
      "execution_count": null,
      "outputs": []
    },
    {
      "cell_type": "markdown",
      "metadata": {
        "id": "nt4sttgomlBR"
      },
      "source": [
        "Sanity check:"
      ]
    },
    {
      "cell_type": "code",
      "metadata": {
        "id": "tQyWdtwcmlBS",
        "outputId": "89f87c44-c902-4000-be3b-fffcd4c8e89d"
      },
      "source": [
        "ds = PolEmo2Dataset(train_path)\n",
        "ds[13]"
      ],
      "execution_count": null,
      "outputs": [
        {
          "output_type": "execute_result",
          "data": {
            "text/plain": [
              "('Była m przekonana , że w Sopocie jest jeden hotel , który może zapewnić najlepszą jakość , tym większe było moje zaskoczenie krótkim pobytem służbowym w Małej Anglii . Miała m okazję mieszkać w pięknym i wygodnym pokoju o bardzo wysokim standardzie . Przemiła obsługa , co jest kluczowe i często niesieciowe hotele nie potrafią sobie z tym poradzić , tutaj nie było takiego problemu . Bardzo przyjemna strefa wellness oraz spa . Doskonała restauracja śniadaniowa , przepięknie urządzona , śniadanie bez zarzutu i kawa . . doskonała , każdy kawosz zrozumie . Brak widoku na morze został zupełnie zrekompensowany . Polecam i mam nadzieję , że taki poziom już pozostanie . Dziękuję za miłe wspomnienia . ',\n",
              " 1)"
            ]
          },
          "metadata": {
            "tags": []
          },
          "execution_count": 292
        }
      ]
    },
    {
      "cell_type": "markdown",
      "metadata": {
        "id": "jWxhu1aSmlBU"
      },
      "source": [
        "## Preparing reproducible training code with PyTorch Lightning\n",
        "Most recently, PyTorch Lightning is my *go to* library for quick prototyping with PyTorch. You have clear API that is actually extension of the original PyTorch `nn.Module` one with all of the repeatable parts like training loop, validation loop, using GPUs, learning rate schedulers, gradient accumulation, tensorboard, checkpointing and many others handled for you.\n",
        "\n",
        "There is only a thin API you have to implement, which is `pl.LightningModule`. Required parts are:\n",
        "1. `__init__` to initialize custom variables in your model\n",
        "1. `forward` same as you would do in `nn.Module` - here I wrap my model inside of the `pl.LightningModule` but you could as well implement it directly here\n",
        "1. `training_step` - take care of the forward pass for the model and return loss\n",
        "1. `validation_step` and `test_step` - same as above but for the different learning phases\n",
        "1. `train_dataloader` - `DataLoader` for your training dataset\n",
        "1. `val_dataloader` and `test_dataloader` - same as above but for the different learning phases\n",
        "1. `configure_optimizers` - prepare optimizer and (optionally) LR scheudles"
      ]
    },
    {
      "cell_type": "code",
      "metadata": {
        "id": "F8E3qWmDmlBV"
      },
      "source": [
        "class TrainingModule(pl.LightningModule):\n",
        "    def __init__(self, hparams):\n",
        "        super().__init__()\n",
        "        self.model = PolBERTaSentimentModel(AutoModelWithLMHead.from_pretrained(\"marrrcin/PolBERTa-base-polish-cased-v1\").roberta, 4)\n",
        "        self.loss = nn.CrossEntropyLoss()\n",
        "        self.hparams = hparams\n",
        "\n",
        "    def step(self, batch, step_name=\"train\"):\n",
        "        X, y = batch\n",
        "        loss = self.loss(self.forward(X), y)\n",
        "        loss_key = f\"{step_name}_loss\"\n",
        "        tensorboard_logs = {loss_key: loss}\n",
        "\n",
        "        return { (\"loss\" if step_name == \"train\" else loss_key): loss, 'log': tensorboard_logs,\n",
        "               \"progress_bar\": {loss_key: loss}}\n",
        "\n",
        "    def forward(self, X, *args):\n",
        "        return self.model(X, *args)\n",
        "\n",
        "    def training_step(self, batch, batch_idx):\n",
        "        return self.step(batch, \"train\")\n",
        "    \n",
        "    def validation_step(self, batch, batch_idx):\n",
        "        return self.step(batch, \"val\")\n",
        "\n",
        "    def validation_end(self, outputs: List[dict]):\n",
        "        loss = torch.stack([x[\"val_loss\"] for x in outputs]).mean()\n",
        "        return {\"val_loss\": loss}\n",
        "        \n",
        "    def test_step(self, batch, batch_idx):\n",
        "        return self.step(batch, \"test\")\n",
        "    \n",
        "    def train_dataloader(self):\n",
        "        return self.create_data_loader(self.hparams.train_path, shuffle=True)\n",
        "\n",
        "    def val_dataloader(self):\n",
        "        return self.create_data_loader(self.hparams.val_path)\n",
        "\n",
        "    def test_dataloader(self):\n",
        "        return self.create_data_loader(self.hparams.test_path)\n",
        "                \n",
        "    def create_data_loader(self, ds_path: str, shuffle=False):\n",
        "        return DataLoader(\n",
        "                    PolEmo2Dataset(ds_path),\n",
        "                    batch_size=self.hparams.batch_size,\n",
        "                    shuffle=shuffle,\n",
        "                    collate_fn=TokenizersCollateFn()\n",
        "        )\n",
        "        \n",
        "    @lru_cache()\n",
        "    def total_steps(self):\n",
        "        return len(self.train_dataloader()) // self.hparams.accumulate_grad_batches * self.hparams.epochs\n",
        "\n",
        "    def configure_optimizers(self):\n",
        "        optimizer = AdamW(self.model.parameters(), lr=self.hparams.lr)\n",
        "        lr_scheduler = get_linear_schedule_with_warmup(\n",
        "                    optimizer,\n",
        "                    num_warmup_steps=self.hparams.warmup_steps,\n",
        "                    num_training_steps=self.total_steps(),\n",
        "        )\n",
        "        return [optimizer], [{\"scheduler\": lr_scheduler, \"interval\": \"step\"}]\n"
      ],
      "execution_count": null,
      "outputs": []
    },
    {
      "cell_type": "markdown",
      "metadata": {
        "id": "Za7eXst2mlBa"
      },
      "source": [
        "### Hints and comments\n",
        "* `hparams` from `__init__` is a `Namespace`-type object, which holds all of the models hyperparameters; PyTorch Lightning takes good care of them when checkpointing the model\n",
        "* `*_step` functions can be implemented with the same method with argument\n",
        "* `*_dataloader` functions can also be implemented in this way\n",
        "* in `configure_optimizers` the line: `[{\"scheduler\": lr_scheduler, \"interval\": \"step\"}]` takes care of the step-based LR scheduler - it does LR warmup and then linear decay, implementation comes from Transformers library\n",
        "\n",
        "The code above is fairly simple and we don't need anything more here. For more robust examples I send you to PyTorch Lightning docs."
      ]
    },
    {
      "cell_type": "markdown",
      "metadata": {
        "id": "l_D9evoFmlBa"
      },
      "source": [
        "## Finding good starting learning rate for the model\n",
        "There is a method of approximating \"good\" learning rate for the training. I first encountered it in Fast.ai Deep Learning course. This approach is called `LR-Finder` and boils down to plotting loss of the training batch (starting from really small LR) while increasing learning rate up to the poit where the loss blows up. Then, the \"good\" LR is one of the values that appears when the Loss/Learning Rate curve is decreasing.\n",
        "\n",
        "<span style=\"color:red;font-weight:bold;\">Important!</span>\n",
        "> Keep in mind that this method does not guarantee to provide good learning rate for every dataset. It's just a method discovered to often work in practice.\n",
        "\n",
        "Here I use implementation for PyTorch from <a href=\"https://github.com/davidtvs/pytorch-lr-finder\" target=\"blank\">here</a> (installed at the top of this notebook).\n",
        "\n",
        "You need to specify initial learning rate and number of steps. Other parameters are optional."
      ]
    },
    {
      "cell_type": "code",
      "metadata": {
        "id": "CvcIVa_WmlBb",
        "outputId": "a608e226-34a6-4536-c645-61e04248c76f"
      },
      "source": [
        "from torch_lr_finder import LRFinder\n",
        "hparams_tmp = Namespace(\n",
        "    train_path=train_path,\n",
        "    val_path=val_path,\n",
        "    test_path=test_path,\n",
        "    batch_size=8,\n",
        "    warmup_steps=100,\n",
        "    epochs=3,\n",
        "    lr=lr,\n",
        "    accumulate_grad_batches=1,\n",
        ")\n",
        "module = TrainingModule(hparams_tmp)\n",
        "criterion = nn.CrossEntropyLoss()\n",
        "optimizer = AdamW(module.parameters(), lr=5e-7)\n",
        "lr_finder = LRFinder(module, optimizer, criterion, device=\"cuda\")\n",
        "lr_finder.range_test(module.train_dataloader(), end_lr=100, num_iter=100, accumulation_steps=hparams_tmp.accumulate_grad_batches)\n",
        "lr_finder.plot()\n",
        "lr_finder.reset()"
      ],
      "execution_count": null,
      "outputs": [
        {
          "output_type": "display_data",
          "data": {
            "application/vnd.jupyter.widget-view+json": {
              "model_id": "633b4b6e0d96462a8c0a4fec24de3dc1",
              "version_major": 2,
              "version_minor": 0
            },
            "text/plain": [
              "HBox(children=(FloatProgress(value=0.0), HTML(value='')))"
            ]
          },
          "metadata": {
            "tags": []
          }
        },
        {
          "output_type": "stream",
          "text": [
            "Stopping early, the loss has diverged\n",
            "Learning rate search finished. See the graph with {finder_name}.plot()\n"
          ],
          "name": "stdout"
        },
        {
          "output_type": "display_data",
          "data": {
            "image/png": "[encoded data removed]",
            "text/plain": [
              "<Figure size 432x288 with 1 Axes>"
            ]
          },
          "metadata": {
            "tags": [],
            "needs_background": "light"
          }
        }
      ]
    },
    {
      "cell_type": "markdown",
      "metadata": {
        "id": "X0a7Wp7lmlBd"
      },
      "source": [
        "From the plot above we can guess that something between 1e-5 and 1e-4 would be a good learning rate, as everyhing higher results in increased loss.\n",
        "\n",
        "To ensure the right spot was chosen, you can plot it:"
      ]
    },
    {
      "cell_type": "code",
      "metadata": {
        "id": "yB7uvFwsmlBe",
        "outputId": "f55daa37-822d-460d-a218-d34aed8957d8"
      },
      "source": [
        "lr = 4e-5\n",
        "lr"
      ],
      "execution_count": null,
      "outputs": [
        {
          "output_type": "execute_result",
          "data": {
            "text/plain": [
              "4e-05"
            ]
          },
          "metadata": {
            "tags": []
          },
          "execution_count": 307
        }
      ]
    },
    {
      "cell_type": "code",
      "metadata": {
        "id": "Hd6JO7PmmlBg",
        "outputId": "3c0607a5-ef96-4b3d-9dd8-0051e1d9307b"
      },
      "source": [
        "lr_finder.plot(show_lr=lr)"
      ],
      "execution_count": null,
      "outputs": [
        {
          "output_type": "display_data",
          "data": {
            "image/png": "[encoded data removed]",
            "text/plain": [
              "<Figure size 432x288 with 1 Axes>"
            ]
          },
          "metadata": {
            "tags": [],
            "needs_background": "light"
          }
        },
        {
          "output_type": "execute_result",
          "data": {
            "text/plain": [
              "<matplotlib.axes._subplots.AxesSubplot at 0x7efb82597650>"
            ]
          },
          "metadata": {
            "tags": []
          },
          "execution_count": 308
        }
      ]
    },
    {
      "cell_type": "markdown",
      "metadata": {
        "id": "jqCaP8sxmlBi"
      },
      "source": [
        "## Training the sentiment analysis classifier on PolEmo2.0\n",
        "We know the learning rate, we have the code for the model. Now it's time to run it."
      ]
    },
    {
      "cell_type": "code",
      "metadata": {
        "id": "WrabBnYymlBj"
      },
      "source": [
        "hparams = Namespace(\n",
        "    train_path=train_path,\n",
        "    val_path=val_path,\n",
        "    test_path=test_path,\n",
        "    batch_size=8,\n",
        "    warmup_steps=100,\n",
        "    epochs=3,\n",
        "    lr=lr,\n",
        "    accumulate_grad_batches=1\n",
        ")\n",
        "module = TrainingModule(hparams)"
      ],
      "execution_count": null,
      "outputs": []
    },
    {
      "cell_type": "code",
      "metadata": {
        "id": "FMSWB44YmlBl"
      },
      "source": [
        "# just to get rid of any leftovers before the training - useful when you run different cells multiple times\n",
        "import gc; gc.collect()\n",
        "torch.cuda.empty_cache()"
      ],
      "execution_count": null,
      "outputs": []
    },
    {
      "cell_type": "markdown",
      "metadata": {
        "id": "LKohIVjAmlBo"
      },
      "source": [
        "### Using Trainer from PyTorch Lightning\n",
        "The `pl.Trainer` provides all-in-one solution for training, validation and testing. There is a lot of useful parameters for almost every aspect of training you can think of, everything is well documented <a href=\"https://pytorch-lightning.readthedocs.io/en/0.7.1/trainer.html\" target=\"blank\">here</a>."
      ]
    },
    {
      "cell_type": "code",
      "metadata": {
        "id": "YJYIZfXwmlBo"
      },
      "source": [
        "trainer = pl.Trainer(gpus=1, max_epochs=hparams.epochs, progress_bar_refresh_rate=10,\n",
        "                     accumulate_grad_batches=hparams.accumulate_grad_batches)"
      ],
      "execution_count": null,
      "outputs": []
    },
    {
      "cell_type": "code",
      "metadata": {
        "id": "jq0uIxD8mlBq",
        "outputId": "0bee7be0-b3e8-40c4-a3b6-003e74d24f00"
      },
      "source": [
        "trainer.fit(module)"
      ],
      "execution_count": null,
      "outputs": [
        {
          "output_type": "display_data",
          "data": {
            "application/vnd.jupyter.widget-view+json": {
              "model_id": "",
              "version_major": 2,
              "version_minor": 0
            },
            "text/plain": [
              "HBox(children=(FloatProgress(value=0.0, description='Validation sanity check', layout=Layout(flex='2'), max=5.…"
            ]
          },
          "metadata": {
            "tags": []
          }
        },
        {
          "output_type": "stream",
          "text": [
            "\r"
          ],
          "name": "stdout"
        },
        {
          "output_type": "display_data",
          "data": {
            "application/vnd.jupyter.widget-view+json": {
              "model_id": "ebb127a15de44656b58d35697f0de282",
              "version_major": 2,
              "version_minor": 0
            },
            "text/plain": [
              "HBox(children=(FloatProgress(value=1.0, bar_style='info', layout=Layout(flex='2'), max=1.0), HTML(value='')), …"
            ]
          },
          "metadata": {
            "tags": []
          }
        },
        {
          "output_type": "display_data",
          "data": {
            "application/vnd.jupyter.widget-view+json": {
              "model_id": "",
              "version_major": 2,
              "version_minor": 0
            },
            "text/plain": [
              "HBox(children=(FloatProgress(value=0.0, description='Validating', layout=Layout(flex='2'), max=103.0, style=Pr…"
            ]
          },
          "metadata": {
            "tags": []
          }
        },
        {
          "output_type": "display_data",
          "data": {
            "application/vnd.jupyter.widget-view+json": {
              "model_id": "",
              "version_major": 2,
              "version_minor": 0
            },
            "text/plain": [
              "HBox(children=(FloatProgress(value=0.0, description='Validating', layout=Layout(flex='2'), max=103.0, style=Pr…"
            ]
          },
          "metadata": {
            "tags": []
          }
        },
        {
          "output_type": "display_data",
          "data": {
            "application/vnd.jupyter.widget-view+json": {
              "model_id": "",
              "version_major": 2,
              "version_minor": 0
            },
            "text/plain": [
              "HBox(children=(FloatProgress(value=0.0, description='Validating', layout=Layout(flex='2'), max=103.0, style=Pr…"
            ]
          },
          "metadata": {
            "tags": []
          }
        },
        {
          "output_type": "stream",
          "text": [
            "\n"
          ],
          "name": "stdout"
        },
        {
          "output_type": "execute_result",
          "data": {
            "text/plain": [
              "1"
            ]
          },
          "metadata": {
            "tags": []
          },
          "execution_count": 313
        }
      ]
    },
    {
      "cell_type": "markdown",
      "metadata": {
        "id": "BNvRlkNDmlBs"
      },
      "source": [
        "## Evaluating the trained model\n",
        "As this dataset is small, I've used scikit-learn to get the overall classification report from the model.\n",
        "\n",
        "<span style=\"color:red;font-weight:bold;\">Important!</span>\n",
        "> Be aware that for big datasets this approach might not be optimal as it transfers the data from GPU to CPU for the whole dataset and puts every prediction in memory. For big datasets it's better to implement metrics inside of the `pl.LightningModule` when the dataset is processed in batches.\n",
        "\n",
        "> Ensure that you disable gradients and put model into evaluation state (`module.eval()`) to disable dropouts during prediction."
      ]
    },
    {
      "cell_type": "code",
      "metadata": {
        "id": "XRbNPBdFmlBt",
        "outputId": "e56bcaf5-5245-4109-bcf3-784c62f15768"
      },
      "source": [
        "with torch.no_grad():\n",
        "    progress = [\"/\", \"-\", \"\\\\\", \"|\", \"/\", \"-\", \"\\\\\", \"|\"]\n",
        "    module.eval()\n",
        "    true_y, pred_y = [], []\n",
        "    for i, batch_ in enumerate(module.test_dataloader()):\n",
        "        (X, attn), y = batch_\n",
        "        batch = (X.cuda(), attn.cuda())\n",
        "        print(progress[i % len(progress)], end=\"\\r\")\n",
        "        y_pred = torch.argmax(module(batch), dim=1)\n",
        "        true_y.extend(y.cpu())\n",
        "        pred_y.extend(y_pred.cpu())\n",
        "print(\"\\n\" + \"_\" * 80)\n",
        "print(classification_report(true_y, pred_y, target_names=label2int.keys(), digits=6))\n"
      ],
      "execution_count": null,
      "outputs": [
        {
          "output_type": "stream",
          "text": [
            "\\\n",
            "________________________________________________________________________________\n",
            "              precision    recall  f1-score   support\n",
            "\n",
            "meta_minus_m   0.880878  0.828909  0.854103       339\n",
            " meta_plus_m   0.867521  0.894273  0.880694       227\n",
            "   meta_zero   0.957983  0.966102  0.962025       118\n",
            "    meta_amb   0.574324  0.625000  0.598592       136\n",
            "\n",
            "    accuracy                       0.832927       820\n",
            "   macro avg   0.820177  0.828571  0.823854       820\n",
            "weighted avg   0.837433  0.832927  0.834617       820\n",
            "\n"
          ],
          "name": "stdout"
        }
      ]
    },
    {
      "cell_type": "markdown",
      "metadata": {
        "id": "Hixs_RUomlBx"
      },
      "source": [
        "## Additional links and resources\n",
        "* this notebook in Google Colab - \n",
        "* this notebook on GitHub - \n",
        "* PyTorch Lightning documentation - <a href=\"https://pytorch-lightning.readthedocs.io/en/0.7.1/\" target=\"blank\">https://pytorch-lightning.readthedocs.io/en/0.7.1/</a>"
      ]
    },
    {
      "cell_type": "code",
      "metadata": {
        "id": "bcdv7wQQmlBy"
      },
      "source": [
        ""
      ],
      "execution_count": null,
      "outputs": []
    }
  ]
}