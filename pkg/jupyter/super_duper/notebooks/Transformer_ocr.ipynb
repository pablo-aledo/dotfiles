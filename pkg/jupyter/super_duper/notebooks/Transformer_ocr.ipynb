{
  "nbformat": 4,
  "nbformat_minor": 0,
  "metadata": {
    "colab": {
      "name": "Transformer-ocr.ipynb",
      "provenance": [],
      "collapsed_sections": []
    },
    "kernelspec": {
      "name": "python3",
      "display_name": "Python 3"
    },
    "accelerator": "GPU"
  },
  "cells": [
    {
      "cell_type": "code",
      "metadata": {
        "id": "hf2W_Jl98l1c",
        "colab": {
          "base_uri": "https://localhost:8080/",
          "height": 118
        },
        "outputId": "3b6d2771-23ff-44d3-fe2a-c96d1f62c347"
      },
      "source": [
        "!git clone https://github.com/him4318/Transformer-ocr.git"
      ],
      "execution_count": null,
      "outputs": [
        {
          "output_type": "stream",
          "text": [
            "Cloning into 'Transformer_ocr'...\n",
            "remote: Enumerating objects: 16, done.\u001b[K\n",
            "remote: Counting objects:   6% (1/16)\u001b[K\rremote: Counting objects:  12% (2/16)\u001b[K\rremote: Counting objects:  18% (3/16)\u001b[K\rremote: Counting objects:  25% (4/16)\u001b[K\rremote: Counting objects:  31% (5/16)\u001b[K\rremote: Counting objects:  37% (6/16)\u001b[K\rremote: Counting objects:  43% (7/16)\u001b[K\rremote: Counting objects:  50% (8/16)\u001b[K\rremote: Counting objects:  56% (9/16)\u001b[K\rremote: Counting objects:  62% (10/16)\u001b[K\rremote: Counting objects:  68% (11/16)\u001b[K\rremote: Counting objects:  75% (12/16)\u001b[K\rremote: Counting objects:  81% (13/16)\u001b[K\rremote: Counting objects:  87% (14/16)\u001b[K\rremote: Counting objects:  93% (15/16)\u001b[K\rremote: Counting objects: 100% (16/16)\u001b[K\rremote: Counting objects: 100% (16/16), done.\u001b[K\n",
            "remote: Compressing objects:   7% (1/13)\u001b[K\rremote: Compressing objects:  15% (2/13)\u001b[K\rremote: Compressing objects:  23% (3/13)\u001b[K\rremote: Compressing objects:  30% (4/13)\u001b[K\rremote: Compressing objects:  38% (5/13)\u001b[K\rremote: Compressing objects:  46% (6/13)\u001b[K\rremote: Compressing objects:  53% (7/13)\u001b[K\rremote: Compressing objects:  61% (8/13)\u001b[K\rremote: Compressing objects:  69% (9/13)\u001b[K\rremote: Compressing objects:  76% (10/13)\u001b[K\rremote: Compressing objects:  84% (11/13)\u001b[K\rremote: Compressing objects:  92% (12/13)\u001b[K\rremote: Compressing objects: 100% (13/13)\u001b[K\rremote: Compressing objects: 100% (13/13), done.\u001b[K\n",
            "Unpacking objects:   6% (1/16)   \rUnpacking objects:  12% (2/16)   \rUnpacking objects:  18% (3/16)   \rUnpacking objects:  25% (4/16)   \rUnpacking objects:  31% (5/16)   \rUnpacking objects:  37% (6/16)   \rUnpacking objects:  43% (7/16)   \rUnpacking objects:  50% (8/16)   \rUnpacking objects:  56% (9/16)   \rremote: Total 16 (delta 0), reused 16 (delta 0), pack-reused 0\u001b[K\n",
            "Unpacking objects:  62% (10/16)   \rUnpacking objects:  68% (11/16)   \rUnpacking objects:  75% (12/16)   \rUnpacking objects:  81% (13/16)   \rUnpacking objects:  87% (14/16)   \rUnpacking objects:  93% (15/16)   \rUnpacking objects: 100% (16/16)   \rUnpacking objects: 100% (16/16), done.\n"
          ],
          "name": "stdout"
        }
      ]
    },
    {
      "cell_type": "code",
      "metadata": {
        "id": "L65LWWi3U14a",
        "colab": {
          "base_uri": "https://localhost:8080/",
          "height": 34
        },
        "outputId": "1044706a-b1a6-4be2-f6d8-15f670f31a3a"
      },
      "source": [
        "%cd Transformer-ocr/src/"
      ],
      "execution_count": null,
      "outputs": [
        {
          "output_type": "stream",
          "text": [
            "/content/Transformer_ocr/src\n"
          ],
          "name": "stdout"
        }
      ]
    },
    {
      "cell_type": "markdown",
      "metadata": {
        "id": "404feqxTWAoR"
      },
      "source": [
        "### 1.3 HDF5 files\n",
        "\n",
        "Now, you'll run the *transform* function from **main.py**. For this, execute on **src** folder:\n",
        "\n",
        "> ```python main.py --source=<DATASET_NAME> --transform```\n",
        "\n",
        "Your data will be preprocess and encode, creating and saving in the **data** folder. Now your project directory will be like this:\n",
        "\n",
        "\n",
        "```\n",
        ".\n",
        "├── data\n",
        "│   ├── bentham.hdf5\n",
        "│   ├── iam.hdf5\n",
        "│   ├── rimes.hdf5\n",
        "│   ├── saintgall.hdf5\n",
        "│   └── washington.hdf5\n",
        "├── raw\n",
        "│   ├── bentham\n",
        "│   │   ├── BenthamDatasetR0-GT\n",
        "│   │   └── BenthamDatasetR0-Images\n",
        "│   ├── iam\n",
        "│   │   ├── ascii\n",
        "│   │   ├── forms\n",
        "│   │   ├── largeWriterIndependentTextLineRecognitionTask\n",
        "│   │   ├── lines\n",
        "│   │   └── xml\n",
        "│   ├── rimes\n",
        "│   │   ├── eval_2011\n",
        "│   │   ├── eval_2011_annotated.xml\n",
        "│   │   ├── training_2011\n",
        "│   │   └── training_2011.xml\n",
        "│   ├── saintgall\n",
        "│   │   ├── data\n",
        "│   │   ├── ground_truth\n",
        "│   │   ├── README.txt\n",
        "│   │   └── sets\n",
        "│   └── washington\n",
        "│       ├── data\n",
        "│       ├── ground_truth\n",
        "│       ├── README.txt\n",
        "│       └── sets\n",
        "└── src\n",
        "    ├── data\n",
        "    │   ├── evaluation.py\n",
        "    │   ├── generator.py\n",
        "    │   ├── preproc.py\n",
        "    │   ├── reader.py\n",
        "    ├── main.py\n",
        "    ├── engine.py\n",
        "    ├── network\n",
        "    │   ├── model.py\n",
        "    └── tutorial.ipynb\n",
        "\n",
        "```\n",
        "\n",
        "Then upload the **data** and **src** folders in the same directory in your Google Drive."
      ]
    },
    {
      "cell_type": "code",
      "metadata": {
        "id": "plN24uSYJxlq"
      },
      "source": [
        "from pathlib import Path\n",
        "import numpy as np\n",
        "import math\n",
        "from itertools import groupby\n",
        "import h5py\n",
        "import numpy as np\n",
        "import unicodedata\n",
        "import cv2\n",
        "import torch\n",
        "from torch import nn\n",
        "from torchvision.models import resnet50, resnet101\n",
        "from torch.autograd import Variable\n",
        "import torchvision\n",
        "from data import preproc as pp\n",
        "from data import evaluation\n",
        "from torch.utils.data import Dataset\n"
      ],
      "execution_count": null,
      "outputs": []
    },
    {
      "cell_type": "code",
      "metadata": {
        "id": "j9q2nn8lVTz_"
      },
      "source": [
        "\n",
        "class PositionalEncoding(nn.Module):\n",
        "    def __init__(self, d_model, dropout=0.1, max_len=128):\n",
        "        super(PositionalEncoding, self).__init__()\n",
        "        self.dropout = nn.Dropout(p=dropout)\n",
        "\n",
        "        pe = torch.zeros(max_len, d_model)\n",
        "        position = torch.arange(0, max_len, dtype=torch.float).unsqueeze(1)\n",
        "        div_term = torch.exp(torch.arange(0, d_model, 2).float() * (-math.log(10000.0) / d_model))\n",
        "        pe[:, 0::2] = torch.sin(position * div_term)\n",
        "        pe[:, 1::2] = torch.cos(position * div_term)\n",
        "        pe = pe.unsqueeze(0).transpose(0, 1)\n",
        "        self.register_buffer('pe', pe)\n",
        "\n",
        "    def forward(self, x):\n",
        "        x = x + self.pe[:x.size(0), :]\n",
        "        return self.dropout(x)\n",
        "\n",
        "\n",
        "class OCR(nn.Module):\n",
        "\n",
        "    def __init__(self, vocab_len, hidden_dim, nheads,\n",
        "                 num_encoder_layers, num_decoder_layers):\n",
        "        super().__init__()\n",
        "\n",
        "        # create ResNet-101 backbone\n",
        "        self.backbone = resnet101()\n",
        "        del self.backbone.fc\n",
        "\n",
        "        # create conversion layer\n",
        "        self.conv = nn.Conv2d(2048, hidden_dim, 1)\n",
        "\n",
        "        # create a default PyTorch transformer\n",
        "        self.transformer = nn.Transformer(\n",
        "            hidden_dim, nheads, num_encoder_layers, num_decoder_layers)\n",
        "\n",
        "        # prediction heads with length of vocab\n",
        "        # DETR used basic 3 layer MLP for output\n",
        "        self.vocab = nn.Linear(hidden_dim,vocab_len)\n",
        "\n",
        "        # output positional encodings (object queries)\n",
        "        self.decoder = nn.Embedding(vocab_len, hidden_dim)\n",
        "        self.query_pos = PositionalEncoding(hidden_dim, .2)\n",
        "\n",
        "        # spatial positional encodings, sine positional encoding can be used.\n",
        "        # Detr baseline uses sine positional encoding.\n",
        "        self.row_embed = nn.Parameter(torch.rand(50, hidden_dim // 2))\n",
        "        self.col_embed = nn.Parameter(torch.rand(50, hidden_dim // 2))\n",
        "        self.trg_mask = None\n",
        "  \n",
        "    def generate_square_subsequent_mask(self, sz):\n",
        "        mask = torch.triu(torch.ones(sz, sz), 1)\n",
        "        mask = mask.masked_fill(mask==1, float('-inf'))\n",
        "        return mask\n",
        "\n",
        "    def get_feature(self,x):\n",
        "        x = self.backbone.conv1(x)\n",
        "        x = self.backbone.bn1(x)   \n",
        "        x = self.backbone.relu(x)\n",
        "        x = self.backbone.maxpool(x)\n",
        "\n",
        "        x = self.backbone.layer1(x)\n",
        "        x = self.backbone.layer2(x)\n",
        "        x = self.backbone.layer3(x)\n",
        "        x = self.backbone.layer4(x)\n",
        "        return x\n",
        "\n",
        "\n",
        "    def make_len_mask(self, inp):\n",
        "        return (inp == 0).transpose(0, 1)\n",
        "\n",
        "\n",
        "    def forward(self, inputs, trg):\n",
        "        # propagate inputs through ResNet-101 up to avg-pool layer\n",
        "        x = self.get_feature(inputs)\n",
        "\n",
        "        # convert from 2048 to 256 feature planes for the transformer\n",
        "        h = self.conv(x)\n",
        "\n",
        "        # construct positional encodings\n",
        "        bs,_,H, W = h.shape\n",
        "        pos = torch.cat([\n",
        "            self.col_embed[:W].unsqueeze(0).repeat(H, 1, 1),\n",
        "            self.row_embed[:H].unsqueeze(1).repeat(1, W, 1),\n",
        "        ], dim=-1).flatten(0, 1).unsqueeze(1)\n",
        "\n",
        "        # generating subsequent mask for target\n",
        "        if self.trg_mask is None or self.trg_mask.size(0) != len(trg):\n",
        "            self.trg_mask = self.generate_square_subsequent_mask(trg.shape[1]).to(trg.device)\n",
        "\n",
        "        # Padding mask\n",
        "        trg_pad_mask = self.make_len_mask(trg)\n",
        "\n",
        "        # Getting postional encoding for target\n",
        "        trg = self.decoder(trg)\n",
        "        trg = self.query_pos(trg)\n",
        "        \n",
        "        output = self.transformer(pos + 0.1 * h.flatten(2).permute(2, 0, 1), trg.permute(1,0,2), tgt_mask=self.trg_mask, \n",
        "                                  tgt_key_padding_mask=trg_pad_mask.permute(1,0))\n",
        "\n",
        "        return self.vocab(output.transpose(0,1))\n",
        "\n",
        "\n",
        "def make_model(vocab_len, hidden_dim=256, nheads=4,\n",
        "                 num_encoder_layers=4, num_decoder_layers=4):\n",
        "    \n",
        "    return OCR(vocab_len, hidden_dim, nheads,\n",
        "                 num_encoder_layers, num_decoder_layers)"
      ],
      "execution_count": null,
      "outputs": []
    },
    {
      "cell_type": "code",
      "metadata": {
        "id": "XaQVki4lVTu2"
      },
      "source": [
        "\"\"\"\n",
        "Uses generator functions to supply train/test with data.\n",
        "Image renderings and text are created on the fly each time.\n",
        "\"\"\"\n",
        "\n",
        "class DataGenerator(Dataset):\n",
        "    \"\"\"Generator class with data streaming\"\"\"\n",
        "\n",
        "    def __init__(self, source,charset, max_text_length, split, transform):\n",
        "        self.tokenizer = Tokenizer(charset, max_text_length)\n",
        "        self.transform = transform\n",
        "        \n",
        "        self.split = split\n",
        "        self.dataset = dict()\n",
        "\n",
        "        with h5py.File(source, \"r\") as f:\n",
        "            self.dataset[self.split] = dict()\n",
        "\n",
        "            self.dataset[self.split]['dt'] = np.array(f[self.split]['dt'])\n",
        "            self.dataset[self.split]['gt'] = np.array(f[self.split]['gt'])\n",
        "          \n",
        "            randomize = np.arange(len(self.dataset[self.split]['gt']))\n",
        "            np.random.seed(42)\n",
        "            np.random.shuffle(randomize)\n",
        "\n",
        "            self.dataset[self.split]['dt'] = self.dataset[self.split]['dt'][randomize]\n",
        "            self.dataset[self.split]['gt'] = self.dataset[self.split]['gt'][randomize]\n",
        "\n",
        "            # decode sentences from byte\n",
        "            self.dataset[self.split]['gt'] = [x.decode() for x in self.dataset[self.split]['gt']]\n",
        "            \n",
        "        self.size = len(self.dataset[self.split]['gt'])\n",
        "\n",
        "\n",
        "    def __getitem__(self, i):\n",
        "        img = self.dataset[self.split]['dt'][i]\n",
        "        \n",
        "        #making image compatible with resnet\n",
        "        img = np.repeat(img[..., np.newaxis],3, -1)    \n",
        "        img = pp.normalization(img)\n",
        "        \n",
        "        if self.transform is not None:\n",
        "            img = self.transform(img)\n",
        "\n",
        "        y_train = self.tokenizer.encode(self.dataset[self.split]['gt'][i]) \n",
        "        \n",
        "        #padding till max length\n",
        "        y_train = np.pad(y_train, (0, self.tokenizer.maxlen - len(y_train)))\n",
        "\n",
        "        gt = torch.Tensor(y_train)\n",
        "\n",
        "        return img, gt          \n",
        "\n",
        "    def __len__(self):\n",
        "      return self.size\n",
        "\n",
        "\n",
        "\n",
        "class Tokenizer():\n",
        "    \"\"\"Manager tokens functions and charset/dictionary properties\"\"\"\n",
        "\n",
        "    def __init__(self, chars, max_text_length=128):\n",
        "        self.PAD_TK, self.UNK_TK,self.SOS,self.EOS = \"¶\", \"¤\", \"SOS\", \"EOS\"\n",
        "        self.chars = [self.PAD_TK] + [self.UNK_TK ]+ [self.SOS] + [self.EOS] +list(chars)\n",
        "        self.PAD = self.chars.index(self.PAD_TK)\n",
        "        self.UNK = self.chars.index(self.UNK_TK)\n",
        "\n",
        "        self.vocab_size = len(self.chars)\n",
        "        self.maxlen = max_text_length\n",
        "\n",
        "    def encode(self, text):\n",
        "        \"\"\"Encode text to vector\"\"\"\n",
        "\n",
        "        text = unicodedata.normalize(\"NFKD\", text).encode(\"ASCII\", \"ignore\").decode(\"ASCII\")\n",
        "        text = \" \".join(text.split())\n",
        "\n",
        "        groups = [\"\".join(group) for _, group in groupby(text)]\n",
        "        text = \"\".join([self.UNK_TK.join(list(x)) if len(x) > 1 else x for x in groups])\n",
        "        encoded = []\n",
        "\n",
        "        text = ['SOS'] + list(text) + ['EOS']\n",
        "        for item in text:\n",
        "            index = self.chars.index(item)\n",
        "            index = self.UNK if index == -1 else index\n",
        "            encoded.append(index)\n",
        "\n",
        "        return np.asarray(encoded)\n",
        "\n",
        "    def decode(self, text):\n",
        "        \"\"\"Decode vector to text\"\"\"\n",
        "        \n",
        "        decoded = \"\".join([self.chars[int(x)] for x in text if x > -1])\n",
        "        decoded = self.remove_tokens(decoded)\n",
        "        decoded = pp.text_standardize(decoded)\n",
        "\n",
        "        return decoded\n",
        "\n",
        "    def remove_tokens(self, text):\n",
        "        \"\"\"Remove tokens (PAD) from text\"\"\"\n",
        "\n",
        "        return text.replace(self.PAD_TK, \"\").replace(self.UNK_TK, \"\")\n",
        "\n"
      ],
      "execution_count": null,
      "outputs": []
    },
    {
      "cell_type": "code",
      "metadata": {
        "id": "7Q8dFFAGGzCC",
        "colab": {
          "base_uri": "https://localhost:8080/",
          "height": 440
        },
        "outputId": "a494bafc-2b71-4647-882d-dc9724135e72"
      },
      "source": [
        "#bentham data set download link\n",
        "\n",
        "#!wget --load-cookies /tmp/cookies.txt \"https://docs.google.com/uc?export=download&confirm=$(wget --quiet --save-cookies /tmp/cookies.txt --keep-session-cookies --no-check-certificate 'https://docs.google.com/uc?export=download&id=1-PqlAml3vKzWknITlC3jaoFNu5rKyFbr' -O- | sed -rn 's/.*confirm=([0-9A-Za-z_]+).*/\\1\\n/p')&id=1-PqlAml3vKzWknITlC3jaoFNu5rKyFbr\" -O bentham.hdf5 && rm -rf /tmp/cookies.txt\n"
      ],
      "execution_count": null,
      "outputs": [
        {
          "output_type": "stream",
          "text": [
            "--2020-06-21 13:43:37--  https://docs.google.com/uc?export=download&confirm=tcWk&id=1-PqlAml3vKzWknITlC3jaoFNu5rKyFbr\n",
            "Resolving docs.google.com (docs.google.com)... 74.125.133.102, 74.125.133.101, 74.125.133.100, ...\n",
            "Connecting to docs.google.com (docs.google.com)|74.125.133.102|:443... connected.\n",
            "HTTP request sent, awaiting response... 302 Moved Temporarily\n",
            "Location: https://doc-08-7g-docs.googleusercontent.com/docs/securesc/vuv21v5jgdj7k8mpv2ac4fiq1qcaveat/2grodk2ochcj6q1h2tkhfjg48qagggma/1592746950000/11488128581626754426/08796100045038332580Z/1-PqlAml3vKzWknITlC3jaoFNu5rKyFbr?e=download [following]\n",
            "--2020-06-21 13:43:37--  https://doc-08-7g-docs.googleusercontent.com/docs/securesc/vuv21v5jgdj7k8mpv2ac4fiq1qcaveat/2grodk2ochcj6q1h2tkhfjg48qagggma/1592746950000/11488128581626754426/08796100045038332580Z/1-PqlAml3vKzWknITlC3jaoFNu5rKyFbr?e=download\n",
            "Resolving doc-08-7g-docs.googleusercontent.com (doc-08-7g-docs.googleusercontent.com)... 108.177.15.132, 2a00:1450:400c:c0c::84\n",
            "Connecting to doc-08-7g-docs.googleusercontent.com (doc-08-7g-docs.googleusercontent.com)|108.177.15.132|:443... connected.\n",
            "HTTP request sent, awaiting response... 302 Found\n",
            "Location: https://docs.google.com/nonceSigner?nonce=085bv3llt0fu8&continue=https://doc-08-7g-docs.googleusercontent.com/docs/securesc/vuv21v5jgdj7k8mpv2ac4fiq1qcaveat/2grodk2ochcj6q1h2tkhfjg48qagggma/1592746950000/11488128581626754426/08796100045038332580Z/1-PqlAml3vKzWknITlC3jaoFNu5rKyFbr?e%3Ddownload&hash=8fdjstu8cu7mf6kv5raj4kpfb56vvgvs [following]\n",
            "--2020-06-21 13:43:37--  https://docs.google.com/nonceSigner?nonce=085bv3llt0fu8&continue=https://doc-08-7g-docs.googleusercontent.com/docs/securesc/vuv21v5jgdj7k8mpv2ac4fiq1qcaveat/2grodk2ochcj6q1h2tkhfjg48qagggma/1592746950000/11488128581626754426/08796100045038332580Z/1-PqlAml3vKzWknITlC3jaoFNu5rKyFbr?e%3Ddownload&hash=8fdjstu8cu7mf6kv5raj4kpfb56vvgvs\n",
            "Connecting to docs.google.com (docs.google.com)|74.125.133.102|:443... connected.\n",
            "HTTP request sent, awaiting response... 302 Found\n",
            "Location: https://doc-08-7g-docs.googleusercontent.com/docs/securesc/vuv21v5jgdj7k8mpv2ac4fiq1qcaveat/2grodk2ochcj6q1h2tkhfjg48qagggma/1592746950000/11488128581626754426/08796100045038332580Z/1-PqlAml3vKzWknITlC3jaoFNu5rKyFbr?e=download&nonce=085bv3llt0fu8&user=08796100045038332580Z&hash=q5tpmh5moprd8udnck98qfouhgkaqi1q [following]\n",
            "--2020-06-21 13:43:37--  https://doc-08-7g-docs.googleusercontent.com/docs/securesc/vuv21v5jgdj7k8mpv2ac4fiq1qcaveat/2grodk2ochcj6q1h2tkhfjg48qagggma/1592746950000/11488128581626754426/08796100045038332580Z/1-PqlAml3vKzWknITlC3jaoFNu5rKyFbr?e=download&nonce=085bv3llt0fu8&user=08796100045038332580Z&hash=q5tpmh5moprd8udnck98qfouhgkaqi1q\n",
            "Connecting to doc-08-7g-docs.googleusercontent.com (doc-08-7g-docs.googleusercontent.com)|108.177.15.132|:443... connected.\n",
            "HTTP request sent, awaiting response... 200 OK\n",
            "Length: unspecified [application/octet-stream]\n",
            "Saving to: ‘bentham.hdf5’\n",
            "\n",
            "bentham.hdf5            [          <=>       ] 171.92M  63.1MB/s    in 2.7s    \n",
            "\n",
            "2020-06-21 13:43:41 (63.1 MB/s) - ‘bentham.hdf5’ saved [180272217]\n",
            "\n"
          ],
          "name": "stdout"
        }
      ]
    },
    {
      "cell_type": "code",
      "metadata": {
        "id": "LtAejdzcVTq6",
        "colab": {
          "base_uri": "https://localhost:8080/",
          "height": 84
        },
        "outputId": "e0613156-88cd-4676-e0ba-9ecbdb49103f"
      },
      "source": [
        "import os\n",
        "import datetime\n",
        "import string\n",
        "\n",
        "batch_size = 16\n",
        "epochs = 200\n",
        "\n",
        "# define paths\n",
        "#change paths accordingly\n",
        "source = 'bentham'\n",
        "source_path = '/content/drive/{}.hdf5'.format(source)\n",
        "output_path = os.path.join(\"..\", \"output\", source)\n",
        "target_path = os.path.join(output_path, \"checkpoint_weights_iam.hdf5\")\n",
        "os.makedirs(output_path, exist_ok=True)\n",
        "\n",
        "# define input size, number max of chars per line and list of valid chars\n",
        "input_size = (1024, 128, 1)\n",
        "max_text_length = 128\n",
        "charset_base = string.printable[:95]\n",
        "\n",
        "print(\"source:\", source_path)\n",
        "print(\"output\", output_path)\n",
        "print(\"target\", target_path)\n",
        "print(\"charset:\", charset_base)"
      ],
      "execution_count": null,
      "outputs": [
        {
          "output_type": "stream",
          "text": [
            "source: /content/drive/My Drive/handwriting/handwritten-text-recognition/data/bentham.hdf5\n",
            "output ../output/bentham\n",
            "target ../output/bentham/checkpoint_weights_iam.hdf5\n",
            "charset: 0123456789abcdefghijklmnopqrstuvwxyzABCDEFGHIJKLMNOPQRSTUVWXYZ!\"#$%&'()*+,-./:;<=>?@[\\]^_`{|}~ \n"
          ],
          "name": "stdout"
        }
      ]
    },
    {
      "cell_type": "code",
      "metadata": {
        "id": "RjpY7taeXFo3"
      },
      "source": [
        "import torchvision.transforms as T\n",
        "\n",
        "device = torch.device(\"cuda\")\n",
        "transform = T.Compose([\n",
        "    T.ToTensor()])\n",
        "tokenizer = Tokenizer(charset_base)\n",
        "\n",
        "train_loader = torch.utils.data.DataLoader(DataGenerator(source_path,charset_base,max_text_length,'train',transform), batch_size=batch_size, shuffle=False, num_workers=2)\n",
        "val_loader = torch.utils.data.DataLoader(DataGenerator(source_path,charset_base,max_text_length,'valid',transform), batch_size=batch_size, shuffle=False, num_workers=2)\n"
      ],
      "execution_count": null,
      "outputs": []
    },
    {
      "cell_type": "code",
      "metadata": {
        "id": "e-JpqDAGXFyN"
      },
      "source": [
        "model = make_model(vocab_len=tokenizer.vocab_size)\n",
        "_=model.to(device)"
      ],
      "execution_count": null,
      "outputs": []
    },
    {
      "cell_type": "code",
      "metadata": {
        "id": "YsZBpkAlXF4i"
      },
      "source": [
        "class LabelSmoothing(nn.Module):\n",
        "    \"Implement label smoothing.\"\n",
        "    def __init__(self, size, padding_idx=0, smoothing=0.0):\n",
        "        super(LabelSmoothing, self).__init__()\n",
        "        self.criterion = nn.KLDivLoss(size_average=False)\n",
        "        self.padding_idx = padding_idx\n",
        "        self.confidence = 1.0 - smoothing\n",
        "        self.smoothing = smoothing\n",
        "        self.size = size\n",
        "        self.true_dist = None\n",
        "        \n",
        "    def forward(self, x, target):\n",
        "        assert x.size(1) == self.size\n",
        "        true_dist = x.data.clone()\n",
        "        true_dist.fill_(self.smoothing / (self.size - 2))\n",
        "        true_dist.scatter_(1, target.data.unsqueeze(1), self.confidence)\n",
        "        true_dist[:, self.padding_idx] = 0\n",
        "        mask = torch.nonzero(target.data == self.padding_idx)\n",
        "        if mask.dim() > 0:\n",
        "            true_dist.index_fill_(0, mask.squeeze(), 0.0)\n",
        "        self.true_dist = true_dist\n",
        "        return self.criterion(x, Variable(true_dist, requires_grad=False))\n"
      ],
      "execution_count": null,
      "outputs": []
    },
    {
      "cell_type": "code",
      "metadata": {
        "id": "ZnUtbtBzaapw",
        "colab": {
          "base_uri": "https://localhost:8080/",
          "height": 70
        },
        "outputId": "0197ba5f-e333-4f6c-86c0-b8549ecdfd54"
      },
      "source": [
        "criterion = LabelSmoothing(size=tokenizer.vocab_size, padding_idx=0, smoothing=0.1)\n",
        "criterion.to(device)\n",
        "lr = .0001 # learning rate\n",
        "optimizer = torch.optim.AdamW(model.parameters(), lr=lr,weight_decay=.0004)\n",
        "scheduler = torch.optim.lr_scheduler.StepLR(optimizer, 1, gamma=0.95)\n"
      ],
      "execution_count": null,
      "outputs": [
        {
          "output_type": "stream",
          "text": [
            "/usr/local/lib/python3.6/dist-packages/torch/nn/_reduction.py:43: UserWarning: size_average and reduce args will be deprecated, please use reduction='sum' instead.\n",
            "  warnings.warn(warning.format(ret))\n"
          ],
          "name": "stderr"
        }
      ]
    },
    {
      "cell_type": "code",
      "metadata": {
        "id": "1sMUbO8oabUd"
      },
      "source": [
        "def train(model, criterion, optimiser, scheduler,dataloader):\n",
        "\n",
        "    model.train()\n",
        "    total_loss = 0\n",
        "    for batch, (imgs, labels_y,) in enumerate(dataloader):\n",
        "          imgs = imgs.to(device)\n",
        "          labels_y = labels_y.to(device)\n",
        "    \n",
        "          optimizer.zero_grad()\n",
        "          output = model(imgs.float(),labels_y.long()[:,:-1])\n",
        "\n",
        "          norm = (labels_y != 0).sum()\n",
        "          loss = criterion(output.log_softmax(-1).contiguous().view(-1, tokenizer.vocab_size), labels_y[:,1:].contiguous().view(-1).long()) / norm\n",
        "\n",
        "          loss.backward()\n",
        "          torch.nn.utils.clip_grad_norm_(model.parameters(), 0.2)\n",
        "          optimizer.step()\n",
        "          total_loss += loss.item() * norm\n",
        "\n",
        "    return total_loss / len(dataloader)\n",
        "\n",
        "def evaluate(model, criterion, dataloader,):\n",
        "\n",
        "    model.eval()\n",
        "    epoch_loss = 0\n",
        "\n",
        "    with torch.no_grad():\n",
        "      for batch, (imgs, labels_y,) in enumerate(dataloader):\n",
        "            imgs = imgs.to(device)\n",
        "            labels_y = labels_y.to(device)\n",
        "\n",
        "            output = model(imgs.float(),labels_y.long()[:,:-1])\n",
        "              \n",
        "            norm = (labels_y != 0).sum()\n",
        "            loss = criterion(output.log_softmax(-1).contiguous().view(-1, tokenizer.vocab_size), labels_y[:,1:].contiguous().view(-1).long()) / norm\n",
        "  \n",
        "            epoch_loss += loss.item() * norm\n",
        "\n",
        "    return epoch_loss / len(dataloader)\n"
      ],
      "execution_count": null,
      "outputs": []
    },
    {
      "cell_type": "code",
      "metadata": {
        "id": "Tr85q5Q6abfY"
      },
      "source": [
        "#train model\n",
        "\n",
        "def epoch_time(start_time, end_time):\n",
        "    elapsed_time = end_time - start_time\n",
        "    elapsed_mins = int(elapsed_time / 60)\n",
        "    elapsed_secs = int(elapsed_time - (elapsed_mins * 60))\n",
        "    return elapsed_mins, elapsed_secs\n",
        "\n",
        "best_valid_loss = np.inf\n",
        "c = 0\n",
        "for epoch in range(200):\n",
        " \n",
        "    print(f'Epoch: {epoch+1:02}','learning rate{}'.format(scheduler.get_last_lr()))\n",
        "    \n",
        "    start_time = time.time()\n",
        "\n",
        "    train_loss,outputs = train(model,  criterion, optimizer, scheduler, train_loader)\n",
        "    valid_loss = evaluate(model, criterion, val_loader)\n",
        "\n",
        "    epoch_mins, epoch_secs = epoch_time(start_time, time.time())\n",
        " \n",
        "    c+=1\n",
        "    if valid_loss < best_valid_loss:\n",
        "        best_valid_loss = valid_loss\n",
        "        torch.save(model.state_dict(), target_path)\n",
        "        c=0\n",
        " \n",
        "    if c>4:\n",
        "        #decrease lr if loss does not deacrease after 5 steps\n",
        "        scheduler.step()\n",
        "        c=0\n",
        "\n",
        "    print(f'Time: {epoch_mins}m {epoch_secs}s') \n",
        "    print(f'Train Loss: {train_loss:.3f}')\n",
        "    print(f'Val   Loss: {valid_loss:.3f}')"
      ],
      "execution_count": null,
      "outputs": []
    },
    {
      "cell_type": "markdown",
      "metadata": {
        "id": "idexEgfnhEqu"
      },
      "source": [
        "You can download the trained model and run inference on it.\n",
        "Below link downloads the model. Once model is downloaded you can move it to your google storage."
      ]
    },
    {
      "cell_type": "code",
      "metadata": {
        "id": "UAByhRnfbZ1P",
        "colab": {
          "base_uri": "https://localhost:8080/",
          "height": 440
        },
        "outputId": "be30adbf-8074-4273-918c-8b783b3088c8"
      },
      "source": [
        "!wget --load-cookies /tmp/cookies.txt \"https://docs.google.com/uc?export=download&confirm=$(wget --quiet --save-cookies /tmp/cookies.txt --keep-session-cookies --no-check-certificate 'https://docs.google.com/uc?export=download&id=1rypn6NxxbYcBA8Nv2bv8lsyNe3AUSTCE' -O- | sed -rn 's/.*confirm=([0-9A-Za-z_]+).*/\\1\\n/p')&id=1rypn6NxxbYcBA8Nv2bv8lsyNe3AUSTCE\" -O resnet_best.pt && rm -rf /tmp/cookies.txt\n"
      ],
      "execution_count": null,
      "outputs": [
        {
          "output_type": "stream",
          "text": [
            "--2020-06-21 11:54:15--  https://docs.google.com/uc?export=download&confirm=WvBe&id=1rypn6NxxbYcBA8Nv2bv8lsyNe3AUSTCE\n",
            "Resolving docs.google.com (docs.google.com)... 173.194.216.102, 173.194.216.113, 173.194.216.101, ...\n",
            "Connecting to docs.google.com (docs.google.com)|173.194.216.102|:443... connected.\n",
            "HTTP request sent, awaiting response... 302 Moved Temporarily\n",
            "Location: https://doc-0o-0g-docs.googleusercontent.com/docs/securesc/l2rn7lfpoqt3k39fmdq4jear5dpbn6fj/385vtu02oatlr5ji0jaaod8fupol8t9i/1592740425000/11488128581626754426/05090935087800176943Z/1rypn6NxxbYcBA8Nv2bv8lsyNe3AUSTCE?e=download [following]\n",
            "--2020-06-21 11:54:15--  https://doc-0o-0g-docs.googleusercontent.com/docs/securesc/l2rn7lfpoqt3k39fmdq4jear5dpbn6fj/385vtu02oatlr5ji0jaaod8fupol8t9i/1592740425000/11488128581626754426/05090935087800176943Z/1rypn6NxxbYcBA8Nv2bv8lsyNe3AUSTCE?e=download\n",
            "Resolving doc-0o-0g-docs.googleusercontent.com (doc-0o-0g-docs.googleusercontent.com)... 74.125.31.132, 2607:f8b0:400c:c02::84\n",
            "Connecting to doc-0o-0g-docs.googleusercontent.com (doc-0o-0g-docs.googleusercontent.com)|74.125.31.132|:443... connected.\n",
            "HTTP request sent, awaiting response... 302 Found\n",
            "Location: https://docs.google.com/nonceSigner?nonce=03n4vs209fg9a&continue=https://doc-0o-0g-docs.googleusercontent.com/docs/securesc/l2rn7lfpoqt3k39fmdq4jear5dpbn6fj/385vtu02oatlr5ji0jaaod8fupol8t9i/1592740425000/11488128581626754426/05090935087800176943Z/1rypn6NxxbYcBA8Nv2bv8lsyNe3AUSTCE?e%3Ddownload&hash=al1bpakciu6l7s7b38gju5s83h7vdcin [following]\n",
            "--2020-06-21 11:54:15--  https://docs.google.com/nonceSigner?nonce=03n4vs209fg9a&continue=https://doc-0o-0g-docs.googleusercontent.com/docs/securesc/l2rn7lfpoqt3k39fmdq4jear5dpbn6fj/385vtu02oatlr5ji0jaaod8fupol8t9i/1592740425000/11488128581626754426/05090935087800176943Z/1rypn6NxxbYcBA8Nv2bv8lsyNe3AUSTCE?e%3Ddownload&hash=al1bpakciu6l7s7b38gju5s83h7vdcin\n",
            "Connecting to docs.google.com (docs.google.com)|173.194.216.102|:443... connected.\n",
            "HTTP request sent, awaiting response... 302 Found\n",
            "Location: https://doc-0o-0g-docs.googleusercontent.com/docs/securesc/l2rn7lfpoqt3k39fmdq4jear5dpbn6fj/385vtu02oatlr5ji0jaaod8fupol8t9i/1592740425000/11488128581626754426/05090935087800176943Z/1rypn6NxxbYcBA8Nv2bv8lsyNe3AUSTCE?e=download&nonce=03n4vs209fg9a&user=05090935087800176943Z&hash=1tcu8jnco91e1919d64emorkkrbhf6ah [following]\n",
            "--2020-06-21 11:54:15--  https://doc-0o-0g-docs.googleusercontent.com/docs/securesc/l2rn7lfpoqt3k39fmdq4jear5dpbn6fj/385vtu02oatlr5ji0jaaod8fupol8t9i/1592740425000/11488128581626754426/05090935087800176943Z/1rypn6NxxbYcBA8Nv2bv8lsyNe3AUSTCE?e=download&nonce=03n4vs209fg9a&user=05090935087800176943Z&hash=1tcu8jnco91e1919d64emorkkrbhf6ah\n",
            "Connecting to doc-0o-0g-docs.googleusercontent.com (doc-0o-0g-docs.googleusercontent.com)|74.125.31.132|:443... connected.\n",
            "HTTP request sent, awaiting response... 200 OK\n",
            "Length: unspecified [application/octet-stream]\n",
            "Saving to: ‘resnet_best.pt’\n",
            "\n",
            "resnet_best.pt          [          <=>       ] 209.20M   108MB/s    in 1.9s    \n",
            "\n",
            "2020-06-21 11:54:18 (108 MB/s) - ‘resnet_best.pt’ saved [219359315]\n",
            "\n"
          ],
          "name": "stdout"
        }
      ]
    },
    {
      "cell_type": "code",
      "metadata": {
        "id": "CB08FlcZbZq3",
        "colab": {
          "base_uri": "https://localhost:8080/",
          "height": 34
        },
        "outputId": "dc7ab638-335e-4d92-b43b-de2e0ec84f54"
      },
      "source": [
        "#I trained my model with vocab length equal to 100\n",
        "model = make_model(vocab_len=100)\n",
        "_=model.to(device)\n",
        "\n",
        "model.load_state_dict(torch.load('/content/Transformer_ocr/src/resnet_best.pt'))"
      ],
      "execution_count": null,
      "outputs": [
        {
          "output_type": "execute_result",
          "data": {
            "text/plain": [
              "<All keys matched successfully>"
            ]
          },
          "metadata": {
            "tags": []
          },
          "execution_count": 11
        }
      ]
    },
    {
      "cell_type": "code",
      "metadata": {
        "id": "wLO1cpXubZlA"
      },
      "source": [
        "def get_memory(model,imgs):\n",
        "    x = model.conv(model.get_feature(imgs))\n",
        "    bs,_,H, W = x.shape\n",
        "    pos = torch.cat([\n",
        "            model.col_embed[:W].unsqueeze(0).repeat(H, 1, 1),\n",
        "            model.row_embed[:H].unsqueeze(1).repeat(1, W, 1),\n",
        "        ], dim=-1).flatten(0, 1).unsqueeze(1)\n",
        "\n",
        "    return model.transformer.encoder(pos +  0.1 * x.flatten(2).permute(2, 0, 1))\n",
        "    "
      ],
      "execution_count": null,
      "outputs": []
    },
    {
      "cell_type": "code",
      "metadata": {
        "id": "mOXEHch5iATb"
      },
      "source": [
        "def test(model, test_loader, max_text_length):\n",
        "    model.eval()\n",
        "    predicts = []\n",
        "    gt = []\n",
        "    imgs = []\n",
        "    with torch.no_grad():\n",
        "        for batch in test_loader:\n",
        "            src, trg = batch\n",
        "            imgs.append(src.flatten(0,1))\n",
        "            src, trg = src.cuda(), trg.cuda()            \n",
        "            memory = get_memory(model,src.float())\n",
        "            out_indexes = [tokenizer.chars.index('SOS'), ]\n",
        "            for i in range(max_text_length):\n",
        "                mask = model.generate_square_subsequent_mask(i+1).to('cuda')\n",
        "                trg_tensor = torch.LongTensor(out_indexes).unsqueeze(1).to(device)\n",
        "                output = model.vocab(model.transformer.decoder(model.query_pos(model.decoder(trg_tensor)), memory,tgt_mask=mask))\n",
        "                out_token = output.argmax(2)[-1].item()\n",
        "                out_indexes.append(out_token)\n",
        "                if out_token == tokenizer.chars.index('EOS'):\n",
        "                    break\n",
        "            predicts.append(tokenizer.decode(out_indexes))\n",
        "            gt.append(tokenizer.decode(trg.flatten(0,1)))\n",
        "    return predicts, gt, imgs\n"
      ],
      "execution_count": null,
      "outputs": []
    },
    {
      "cell_type": "code",
      "metadata": {
        "id": "LHEnhenuiAnb"
      },
      "source": [
        "test_loader = torch.utils.data.DataLoader(DataGenerator(source_path,charset_base,max_text_length,'test',transform), batch_size=1, shuffle=False, num_workers=2)\n",
        "predicts, gt, imgs = test(model, test_loader, max_text_length)\n",
        "\n",
        "predicts = list(map(lambda x : x.replace('SOS','').replace('EOS',''),predicts))\n",
        "gt = list(map(lambda x : x.replace('SOS','').replace('EOS',''),gt))"
      ],
      "execution_count": null,
      "outputs": []
    },
    {
      "cell_type": "code",
      "metadata": {
        "id": "_TdHQzuxVX4B"
      },
      "source": [
        "evaluate = evaluation.ocr_metrics(predicts=predicts,\n",
        "                                  ground_truth=gt,)\n",
        " \n",
        "print(\"Calculate Character Error Rate {}, Word Error Rate {} and Sequence Error Rate {}\".format(evaluate[0],evaluate[1],evaluate[2]))"
      ],
      "execution_count": null,
      "outputs": []
    },
    {
      "cell_type": "code",
      "metadata": {
        "id": "rQew0_CkacDU",
        "colab": {
          "base_uri": "https://localhost:8080/",
          "height": 1000
        },
        "outputId": "81198aac-90e6-4f49-8204-31a1cac9e1d9"
      },
      "source": [
        "from data import preproc as pp\n",
        "from google.colab.patches import cv2_imshow\n",
        " \n",
        "for i, item in enumerate(imgs[:10]):\n",
        "    print(\"=\" * 1024, \"\\n\")\n",
        "    img = item.permute(1,2,0).cpu().numpy().astype(np.uint8) \n",
        "    img = cv2.cvtColor(img, cv2.COLOR_BGR2GRAY)\n",
        " \n",
        "    cv2_imshow(pp.adjust_to_see(img))\n",
        "    print(\"Ground truth:\",gt[i])\n",
        "    print(\"Prediction :\", predicts[i], \"\\n\")"
      ],
      "execution_count": null,
      "outputs": [
        {
          "output_type": "stream",
          "text": [
            "================================================================================================================================================================================================================================================================================================================================================================================================================================================================================================================================================================================================================================================================================================================================================================================================================================================================================================================================================================================================================================================================ \n",
            "\n"
          ],
          "name": "stdout"
        },
        {
          "output_type": "display_data",
          "data": {
            "image/png": "[encoded data removed]",
            "text/plain": [
              "<PIL.Image.Image image mode=L size=1024x128 at 0x7FBC1AED6080>"
            ]
          },
          "metadata": {
            "tags": []
          }
        },
        {
          "output_type": "stream",
          "text": [
            "Ground truth: This faith , his hope , his charity , do they not all\n",
            "Prediction : Hir faith , his hope , his chanty , do they not al \n",
            "\n",
            "================================================================================================================================================================================================================================================================================================================================================================================================================================================================================================================================================================================================================================================================================================================================================================================================================================================================================================================================================================================================================================================================ \n",
            "\n"
          ],
          "name": "stdout"
        },
        {
          "output_type": "display_data",
          "data": {
            "image/png": "[encoded data removed]",
            "text/plain": [
              "<PIL.Image.Image image mode=L size=1024x128 at 0x7FBC1AED6400>"
            ]
          },
          "metadata": {
            "tags": []
          }
        },
        {
          "output_type": "stream",
          "text": [
            "Ground truth: obstacle might till then have been opposed as such to his escape . \n",
            "Prediction : obstacle might tell then have bein opposed as such to his ceape \n",
            "\n",
            "================================================================================================================================================================================================================================================================================================================================================================================================================================================================================================================================================================================================================================================================================================================================================================================================================================================================================================================================================================================================================================================================ \n",
            "\n"
          ],
          "name": "stdout"
        },
        {
          "output_type": "display_data",
          "data": {
            "image/png": "[encoded data removed]",
            "text/plain": [
              "<PIL.Image.Image image mode=L size=1024x128 at 0x7FBC1AED6080>"
            ]
          },
          "metadata": {
            "tags": []
          }
        },
        {
          "output_type": "stream",
          "text": [
            "Ground truth: liminary Acts which a man has occasion to perform , and\n",
            "Prediction : liminary Exterter which a man has occasion to perform , and \n",
            "\n",
            "================================================================================================================================================================================================================================================================================================================================================================================================================================================================================================================================================================================================================================================================================================================================================================================================================================================================================================================================================================================================================================================================ \n",
            "\n"
          ],
          "name": "stdout"
        },
        {
          "output_type": "display_data",
          "data": {
            "image/png": "[encoded data removed]",
            "text/plain": [
              "<PIL.Image.Image image mode=L size=1024x128 at 0x7FBC1AED6400>"
            ]
          },
          "metadata": {
            "tags": []
          }
        },
        {
          "output_type": "stream",
          "text": [
            "Ground truth: power that the state of which the party injured is a\n",
            "Prediction : power that the state of which the party ingred is a \n",
            "\n",
            "================================================================================================================================================================================================================================================================================================================================================================================================================================================================================================================================================================================================================================================================================================================================================================================================================================================================================================================================================================================================================================================================ \n",
            "\n"
          ],
          "name": "stdout"
        },
        {
          "output_type": "display_data",
          "data": {
            "image/png": "[encoded data removed]",
            "text/plain": [
              "<PIL.Image.Image image mode=L size=1024x128 at 0x7FBC1AED6080>"
            ]
          },
          "metadata": {
            "tags": []
          }
        },
        {
          "output_type": "stream",
          "text": [
            "Ground truth: operations\n",
            "Prediction : ofsera tion \n",
            "\n",
            "================================================================================================================================================================================================================================================================================================================================================================================================================================================================================================================================================================================================================================================================================================================================================================================================================================================================================================================================================================================================================================================================ \n",
            "\n"
          ],
          "name": "stdout"
        },
        {
          "output_type": "display_data",
          "data": {
            "image/png": "[encoded data removed]",
            "text/plain": [
              "<PIL.Image.Image image mode=L size=1024x128 at 0x7FBC1AED6400>"
            ]
          },
          "metadata": {
            "tags": []
          }
        },
        {
          "output_type": "stream",
          "text": [
            "Ground truth: more than adequately\n",
            "Prediction : morethan adeguately \n",
            "\n",
            "================================================================================================================================================================================================================================================================================================================================================================================================================================================================================================================================================================================================================================================================================================================================================================================================================================================================================================================================================================================================================================================================ \n",
            "\n"
          ],
          "name": "stdout"
        },
        {
          "output_type": "display_data",
          "data": {
            "image/png": "[encoded data removed]",
            "text/plain": [
              "<PIL.Image.Image image mode=L size=1024x128 at 0x7FBC1AED6080>"
            ]
          },
          "metadata": {
            "tags": []
          }
        },
        {
          "output_type": "stream",
          "text": [
            "Ground truth: privit of Government and at the recommendation of\n",
            "Prediction : privity of Government and at the recommendation of \n",
            "\n",
            "================================================================================================================================================================================================================================================================================================================================================================================================================================================================================================================================================================================================================================================================================================================================================================================================================================================================================================================================================================================================================================================================ \n",
            "\n"
          ],
          "name": "stdout"
        },
        {
          "output_type": "display_data",
          "data": {
            "image/png": "[encoded data removed]",
            "text/plain": [
              "<PIL.Image.Image image mode=L size=1024x128 at 0x7FBC1AED6400>"
            ]
          },
          "metadata": {
            "tags": []
          }
        },
        {
          "output_type": "stream",
          "text": [
            "Ground truth: of obtaining compleat compensation than they would other\n",
            "Prediction : of Lawning comptat componsation they wuld then \n",
            "\n",
            "================================================================================================================================================================================================================================================================================================================================================================================================================================================================================================================================================================================================================================================================================================================================================================================================================================================================================================================================================================================================================================================================ \n",
            "\n"
          ],
          "name": "stdout"
        },
        {
          "output_type": "display_data",
          "data": {
            "image/png": "[encoded data removed]",
            "text/plain": [
              "<PIL.Image.Image image mode=L size=1024x128 at 0x7FBC1AED6080>"
            ]
          },
          "metadata": {
            "tags": []
          }
        },
        {
          "output_type": "stream",
          "text": [
            "Ground truth: 7 8\n",
            "Prediction : No .  \n",
            "\n",
            "================================================================================================================================================================================================================================================================================================================================================================================================================================================================================================================================================================================================================================================================================================================================================================================================================================================================================================================================================================================================================================================================ \n",
            "\n"
          ],
          "name": "stdout"
        },
        {
          "output_type": "display_data",
          "data": {
            "image/png": "[encoded data removed]",
            "text/plain": [
              "<PIL.Image.Image image mode=L size=1024x128 at 0x7FBC1AED6400>"
            ]
          },
          "metadata": {
            "tags": []
          }
        },
        {
          "output_type": "stream",
          "text": [
            "Ground truth: an Article of so small a value as the Copper Coin should be\n",
            "Prediction : an Article of so small a value as the Copper Coin should be \n",
            "\n"
          ],
          "name": "stdout"
        }
      ]
    },
    {
      "cell_type": "markdown",
      "metadata": {
        "id": "wAcm0q8MjlM8"
      },
      "source": [
        "For the best results I used the ensemble of two checkpoints of model."
      ]
    },
    {
      "cell_type": "code",
      "metadata": {
        "id": "96WiTgmxjkHR",
        "colab": {
          "base_uri": "https://localhost:8080/",
          "height": 440
        },
        "outputId": "0890ccd2-1c65-4b2b-9041-183d183a8a71"
      },
      "source": [
        "!wget --load-cookies /tmp/cookies.txt \"https://docs.google.com/uc?export=download&confirm=$(wget --quiet --save-cookies /tmp/cookies.txt --keep-session-cookies --no-check-certificate 'https://docs.google.com/uc?export=download&id=11em8U-TpNgQZwLDGR9B5U3cfV859lSaI' -O- | sed -rn 's/.*confirm=([0-9A-Za-z_]+).*/\\1\\n/p')&id=11em8U-TpNgQZwLDGR9B5U3cfV859lSaI\" -O resnet_second_best.pt && rm -rf /tmp/cookies.txt"
      ],
      "execution_count": null,
      "outputs": [
        {
          "output_type": "stream",
          "text": [
            "--2020-06-21 12:06:29--  https://docs.google.com/uc?export=download&confirm=N0BG&id=11em8U-TpNgQZwLDGR9B5U3cfV859lSaI\n",
            "Resolving docs.google.com (docs.google.com)... 173.194.215.113, 173.194.215.138, 173.194.215.101, ...\n",
            "Connecting to docs.google.com (docs.google.com)|173.194.215.113|:443... connected.\n",
            "HTTP request sent, awaiting response... 302 Moved Temporarily\n",
            "Location: https://doc-04-3k-docs.googleusercontent.com/docs/securesc/utm5ajtmk5fnl5mh6koat3oci3ts50vv/3ecv7v9firsdkf1hm54b4c7kuje7ff4g/1592741175000/09178631081748859974/06124067857407649856Z/11em8U-TpNgQZwLDGR9B5U3cfV859lSaI?e=download [following]\n",
            "--2020-06-21 12:06:29--  https://doc-04-3k-docs.googleusercontent.com/docs/securesc/utm5ajtmk5fnl5mh6koat3oci3ts50vv/3ecv7v9firsdkf1hm54b4c7kuje7ff4g/1592741175000/09178631081748859974/06124067857407649856Z/11em8U-TpNgQZwLDGR9B5U3cfV859lSaI?e=download\n",
            "Resolving doc-04-3k-docs.googleusercontent.com (doc-04-3k-docs.googleusercontent.com)... 74.125.31.132, 2607:f8b0:400c:c02::84\n",
            "Connecting to doc-04-3k-docs.googleusercontent.com (doc-04-3k-docs.googleusercontent.com)|74.125.31.132|:443... connected.\n",
            "HTTP request sent, awaiting response... 302 Found\n",
            "Location: https://docs.google.com/nonceSigner?nonce=vs8b0vv87vako&continue=https://doc-04-3k-docs.googleusercontent.com/docs/securesc/utm5ajtmk5fnl5mh6koat3oci3ts50vv/3ecv7v9firsdkf1hm54b4c7kuje7ff4g/1592741175000/09178631081748859974/06124067857407649856Z/11em8U-TpNgQZwLDGR9B5U3cfV859lSaI?e%3Ddownload&hash=kjufpbtcrein4embo57153mjjqjnnogn [following]\n",
            "--2020-06-21 12:06:29--  https://docs.google.com/nonceSigner?nonce=vs8b0vv87vako&continue=https://doc-04-3k-docs.googleusercontent.com/docs/securesc/utm5ajtmk5fnl5mh6koat3oci3ts50vv/3ecv7v9firsdkf1hm54b4c7kuje7ff4g/1592741175000/09178631081748859974/06124067857407649856Z/11em8U-TpNgQZwLDGR9B5U3cfV859lSaI?e%3Ddownload&hash=kjufpbtcrein4embo57153mjjqjnnogn\n",
            "Connecting to docs.google.com (docs.google.com)|173.194.215.113|:443... connected.\n",
            "HTTP request sent, awaiting response... 302 Found\n",
            "Location: https://doc-04-3k-docs.googleusercontent.com/docs/securesc/utm5ajtmk5fnl5mh6koat3oci3ts50vv/3ecv7v9firsdkf1hm54b4c7kuje7ff4g/1592741175000/09178631081748859974/06124067857407649856Z/11em8U-TpNgQZwLDGR9B5U3cfV859lSaI?e=download&nonce=vs8b0vv87vako&user=06124067857407649856Z&hash=g64pu7jb144066h45t9km1l5tckfgqgb [following]\n",
            "--2020-06-21 12:06:29--  https://doc-04-3k-docs.googleusercontent.com/docs/securesc/utm5ajtmk5fnl5mh6koat3oci3ts50vv/3ecv7v9firsdkf1hm54b4c7kuje7ff4g/1592741175000/09178631081748859974/06124067857407649856Z/11em8U-TpNgQZwLDGR9B5U3cfV859lSaI?e=download&nonce=vs8b0vv87vako&user=06124067857407649856Z&hash=g64pu7jb144066h45t9km1l5tckfgqgb\n",
            "Connecting to doc-04-3k-docs.googleusercontent.com (doc-04-3k-docs.googleusercontent.com)|74.125.31.132|:443... connected.\n",
            "HTTP request sent, awaiting response... 200 OK\n",
            "Length: unspecified [application/octet-stream]\n",
            "Saving to: ‘resnet_second_best.pt’\n",
            "\n",
            "resnet_second_best.     [           <=>      ] 209.20M  76.6MB/s    in 2.7s    \n",
            "\n",
            "2020-06-21 12:06:32 (76.6 MB/s) - ‘resnet_second_best.pt’ saved [219358787]\n",
            "\n"
          ],
          "name": "stdout"
        }
      ]
    },
    {
      "cell_type": "code",
      "metadata": {
        "id": "AdRJdfDlkOLw"
      },
      "source": [
        "second_model = make_model(100) #I used the vocab size of 100\n",
        "second_model.load_state_dict(torch.load('resnet_second_best.pt'))\n",
        "_=second_model.to(device)\n"
      ],
      "execution_count": null,
      "outputs": []
    },
    {
      "cell_type": "code",
      "metadata": {
        "id": "21n6ThYRkOYo",
        "colab": {
          "base_uri": "https://localhost:8080/",
          "height": 34
        },
        "outputId": "818926f8-878e-48a9-9fdf-695283a488da"
      },
      "source": [
        "beta = 0.5 #The interpolation parameter    \n",
        "params1 = model.state_dict()\n",
        "params2 = second_model.state_dict()\n",
        " \n",
        "dict_params2 = params2\n",
        " \n",
        "for name1, param1 in params1.items():\n",
        "    if name1 in dict_params2:\n",
        "        dict_params2[name1].data.copy_(beta*param1.data + (1-beta)*dict_params2[name1].data)\n",
        " \n",
        "model.load_state_dict(dict_params2)"
      ],
      "execution_count": null,
      "outputs": [
        {
          "output_type": "execute_result",
          "data": {
            "text/plain": [
              "<All keys matched successfully>"
            ]
          },
          "metadata": {
            "tags": []
          },
          "execution_count": 21
        }
      ]
    },
    {
      "cell_type": "code",
      "metadata": {
        "id": "1jbvmqdEkOjM"
      },
      "source": [
        "predicts, gt, imgs = test(model, test_loader, max_text_length)\n",
        " \n",
        "predicts = list(map(lambda x : x.replace('SOS','').replace('EOS',''),predicts))\n",
        "gt = list(map(lambda x : x.replace('SOS','').replace('EOS',''),gt))"
      ],
      "execution_count": null,
      "outputs": []
    },
    {
      "cell_type": "code",
      "metadata": {
        "id": "o7cwF5SrkOr6"
      },
      "source": [
        "evaluate = evaluation.ocr_metrics(predicts=predicts,\n",
        "                                  ground_truth=gt,)\n"
      ],
      "execution_count": null,
      "outputs": []
    },
    {
      "cell_type": "code",
      "metadata": {
        "id": "WDNSuMqZkOzy",
        "colab": {
          "base_uri": "https://localhost:8080/",
          "height": 34
        },
        "outputId": "98f64f3a-0be7-4570-b4e3-22c16686566b"
      },
      "source": [
        "print(\"Calculate Character Error Rate {}, Word Error Rate {} and Sequence Error Rate {}\".format(evaluate[0],evaluate[1],evaluate[2]))\n"
      ],
      "execution_count": null,
      "outputs": [
        {
          "output_type": "stream",
          "text": [
            "Calculate Character Error Rate 0.10120963226356437, Word Error Rate 0.23776842527002964 and Sequence Error Rate 0.757537688442211\n"
          ],
          "name": "stdout"
        }
      ]
    },
    {
      "cell_type": "code",
      "metadata": {
        "id": "Q10h_eFikO6c"
      },
      "source": [
        "l"
      ],
      "execution_count": null,
      "outputs": []
    }
  ]
}