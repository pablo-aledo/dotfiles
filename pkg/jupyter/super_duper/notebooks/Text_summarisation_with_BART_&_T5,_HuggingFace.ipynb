{
  "nbformat": 4,
  "nbformat_minor": 0,
  "metadata": {
    "colab": {
      "name": "Text summarisation with BART & T5, @HuggingFace.ipynb",
      "provenance": [],
      "collapsed_sections": []
    },
    "kernelspec": {
      "name": "python3",
      "display_name": "Python 3"
    },
    "accelerator": "TPU"
  },
  "cells": [
    {
      "cell_type": "markdown",
      "metadata": {
        "id": "3Qiu5ApLOxeG"
      },
      "source": [
        "# Summarise classical books with state-of-the-art machine learning models\n",
        "BART and T5 are state-of-the-art machine learning models developed by [Lewis et al. 2019 (Facebook Research)](https://arxiv.org/abs/1910.13461) and [Raffel et al. 2019 (Google Research)](https://arxiv.org/abs/1910.10683). They have been trained to summarize text and are made available for easy use by [@HuggingFace](https://twitter.com/huggingface)'s [Transformers library](https://huggingface.co/transformers/). This notebook shows how to summarise history's most influential books like the Communist Manifesto or Orwell's 1984 in a few lines of code in a few minutes with these two models. You can copy the notebook, run and change it yourself and compare the two models. Notebook by [@MoritzLaurer](https://twitter.com/MoritzLaurer)\n",
        "\n",
        "\n",
        "\n"
      ]
    },
    {
      "cell_type": "code",
      "metadata": {
        "id": "N4DSFAVExnOS"
      },
      "source": [
        "## installation\n",
        "# see https://twitter.com/huggingface/status/1242512382800400384\n",
        "# details https://github.com/huggingface/transformers/releases/tag/v2.6.0\n",
        "!pip install transformers --upgrade"
      ],
      "execution_count": null,
      "outputs": []
    },
    {
      "cell_type": "code",
      "metadata": {
        "id": "GYsqgk9nxUPc"
      },
      "source": [
        "from transformers import pipeline\n",
        "import requests\n",
        "import pprint\n",
        "import time\n",
        "pp = pprint.PrettyPrinter(indent=14)"
      ],
      "execution_count": null,
      "outputs": []
    },
    {
      "cell_type": "code",
      "metadata": {
        "id": "NWzDuuEmICBM"
      },
      "source": [
        "## documentation for summarizer: https://huggingface.co/transformers/main_classes/pipelines.html#summarizationpipeline\n",
        "# summarize with BART\n",
        "summarizer_bart = pipeline(task='summarization', model=\"bart-large-cnn\")\n",
        "# summarize with T5\n",
        "summarizer_t5 = pipeline(task='summarization', model=\"t5-large\") # options: ‘t5-small’, ‘t5-base’, ‘t5-large’, ‘t5-3b’, ‘t5-11b’\n",
        "#for T5 you can chose the size of the model. Everything above t5-base is very slow, even on GPU or TPU."
      ],
      "execution_count": null,
      "outputs": []
    },
    {
      "cell_type": "markdown",
      "metadata": {
        "id": "LB-rU6H8D2Pu"
      },
      "source": [
        "## 1. Karl Marx, Friedrich Engels - Manifesto of the Communist Party"
      ]
    },
    {
      "cell_type": "code",
      "metadata": {
        "id": "dlhrWHkex4An"
      },
      "source": [
        "## download book\n",
        "book_raw = requests.get(\"http://www.gutenberg.org/cache/epub/61/pg61.txt\")\n",
        "communist_manifesto = book_raw.text\n",
        "# cleaning\n",
        "delimiter = \"[From the English edition of 1888, edited by Friedrich Engels]\"\n",
        "communist_manifesto_cl = communist_manifesto.split(delimiter, 1)[1]\n",
        "delimiter2 = \"WORKING MEN OF ALL COUNTRIES, UNITE!\"\n",
        "communist_manifesto_cl =  communist_manifesto_cl.split(delimiter2, 1)[0] + delimiter2\n",
        "#print(communist_manifesto_cl)"
      ],
      "execution_count": null,
      "outputs": []
    },
    {
      "cell_type": "markdown",
      "metadata": {
        "id": "oq-STYpSitT6"
      },
      "source": [
        "#### 1.1 - BART model, machine-generated summary  - Communist Manifesto"
      ]
    },
    {
      "cell_type": "code",
      "metadata": {
        "id": "a94yDQC2zxT5",
        "colab": {
          "base_uri": "https://localhost:8080/",
          "height": 34
        },
        "outputId": "ca286704-97ef-4c08-af27-96c559f90cfd"
      },
      "source": [
        "## summarize book with BART model\n",
        "t0 = time.time() # timer\n",
        "summary_manifesto_bart = summarizer_bart(communist_manifesto_cl, min_length=150, max_length=500) # change min_ and max_length for different output\n",
        "print(\"Summarization took \" + str(round((time.time() - t0) / 60, 2)) + \" minutes.\")"
      ],
      "execution_count": null,
      "outputs": [
        {
          "output_type": "stream",
          "text": [
            "Summarization took 1.27 minutes.\n"
          ],
          "name": "stdout"
        }
      ]
    },
    {
      "cell_type": "code",
      "metadata": {
        "id": "99JXDTe_zpVN",
        "colab": {
          "base_uri": "https://localhost:8080/",
          "height": 208
        },
        "outputId": "59356009-12f3-430f-d6b9-2af328e0d8a1"
      },
      "source": [
        "pp.pprint(summary_manifesto_bart[0]['summary_text'])"
      ],
      "execution_count": null,
      "outputs": [
        {
          "output_type": "stream",
          "text": [
            "('Communism is already acknowledged by all European Powers as a Power. It is '\n",
            " 'high time that Communists should openly publish their views, their aims, '\n",
            " 'their.endencies, and meet this nursery tale of the Spectre of.Communism with '\n",
            " 'a Manifesto of the party itself. Society as a.whole is more and more '\n",
            " 'splitting up into two great hostile camps, directly facing. each other: '\n",
            " 'Bourgeoisie and Proletariat. The modern bourgeois society that has sprouted '\n",
            " 'from the ruins. of feudal society has not done away with class antagonisms. '\n",
            " 'It has but established new classes, new conditions of oppression, new forms '\n",
            " 'of struggle in place of the old ones. The history of all hitherto existing '\n",
            " 'societies is the history. of class struggles. The discovery of America, the '\n",
            " 'rounding of the Cape, opened up fresh ground for the rising bourgeoisie.')\n"
          ],
          "name": "stdout"
        }
      ]
    },
    {
      "cell_type": "markdown",
      "metadata": {
        "id": "tR8XdhOgkJzw"
      },
      "source": [
        "#### 1.2 - T5 model, machine-generated summary - Communist Manifesto"
      ]
    },
    {
      "cell_type": "code",
      "metadata": {
        "id": "BaZIDnEikEc-",
        "colab": {
          "base_uri": "https://localhost:8080/",
          "height": 34
        },
        "outputId": "ccdb7f49-a5d4-4f77-b86f-ea580a5027a6"
      },
      "source": [
        "## summarize book with T5 model\n",
        "t0 = time.time() # timer\n",
        "summary_manifesto_t5 = summarizer_t5(communist_manifesto_cl, min_length=150, max_length=500) # change min_ and max_length for different output\n",
        "print(\"Summarization took \" + str(round((time.time() - t0) / 60, 2)) + \" minutes.\") # timer"
      ],
      "execution_count": null,
      "outputs": [
        {
          "output_type": "stream",
          "text": [
            "Summarization took 21.18 minutes.\n"
          ],
          "name": "stdout"
        }
      ]
    },
    {
      "cell_type": "code",
      "metadata": {
        "id": "HoopAFnE1EhA",
        "colab": {
          "base_uri": "https://localhost:8080/",
          "height": 121
        },
        "outputId": "4fd0e4e4-8667-4bfd-d326-77d172167054"
      },
      "source": [
        "pp.pprint(summary_manifesto_t5[0]['summary_text'])"
      ],
      "execution_count": null,
      "outputs": [
        {
          "output_type": "stream",
          "text": [
            "('a spectre is haunting old europe--the threat of communism . john avlon: the '\n",
            " 'party in opposition has been decried as communist by its opponents . but he '\n",
            " \"says it's high time for communists to openly publish their views, aims, \"\n",
            " 'tendencies . the Manifesto will be published in the english, french, german, '\n",
            " 'italian, flemish and danish languages . \"communism is already acknowledged '\n",
            " 'by all european powers to a. a \" a- na aa en -a n a, n, if en, ena')\n"
          ],
          "name": "stdout"
        }
      ]
    },
    {
      "cell_type": "markdown",
      "metadata": {
        "id": "Gf_ptyCMCQDF"
      },
      "source": [
        "## 2. George Orwell - 1984"
      ]
    },
    {
      "cell_type": "code",
      "metadata": {
        "id": "xzQJQCkACOeH"
      },
      "source": [
        "## download book\n",
        "book_raw = requests.get(\"http://gutenberg.net.au/ebooks01/0100021.txt\")\n",
        "orwell_1984 = book_raw.text\n",
        "# cleaning\n",
        "delimiter = 'PART ONE'\n",
        "orwell_1984_cl = delimiter + orwell_1984.split(delimiter, 1)[1]\n",
        "delimiter2 = \"THE END\"\n",
        "orwell_1984_cl = orwell_1984_cl.split(delimiter2, 1)[0] + delimiter2\n",
        "#print(orwell_1984_cl)"
      ],
      "execution_count": null,
      "outputs": []
    },
    {
      "cell_type": "markdown",
      "metadata": {
        "id": "yOCnkYB9kphf"
      },
      "source": [
        "#### 2.1 - BART model, machine-generated summary  - Orwell 1984"
      ]
    },
    {
      "cell_type": "code",
      "metadata": {
        "id": "dFhP42aXCa-B",
        "colab": {
          "base_uri": "https://localhost:8080/",
          "height": 34
        },
        "outputId": "4b35cd88-fbc8-420b-dd03-bbf7dd98c608"
      },
      "source": [
        "## summarize book with BART model\n",
        "t0 = time.time() # timer\n",
        "summary_orwell_bart = summarizer_bart(orwell_1984_cl, min_length=150, max_length=500) # change min_ and max_length for different output\n",
        "print(\"Summarization took \" + str(round((time.time() - t0) / 60, 2)) + \" minutes.\") # timer"
      ],
      "execution_count": null,
      "outputs": [
        {
          "output_type": "stream",
          "text": [
            "Summarization took 2.36 minutes.\n"
          ],
          "name": "stdout"
        }
      ]
    },
    {
      "cell_type": "code",
      "metadata": {
        "id": "NM-8vl_tkp_w",
        "colab": {
          "base_uri": "https://localhost:8080/",
          "height": 191
        },
        "outputId": "7bfd31eb-f877-4805-e978-f9230a109e34"
      },
      "source": [
        "pp.pprint(summary_orwell_bart[0]['summary_text'])"
      ],
      "execution_count": null,
      "outputs": [
        {
          "output_type": "stream",
          "text": [
            "('Winston Smith lived in Victory Mansions, a flat seven flights up from the '\n",
            " 'city centre. He heard a voice on a telescreen reading out a list of figures '\n",
            " 'about pig-iron. The voice came from an oblong metal plaque like a dulled '\n",
            " 'mirror which formed part of the surface of the right-hand wall. Winston '\n",
            " 'turned a switch and the voice sank. It was the police patrol, snooping into '\n",
            " \"people'swindows, but it didn't matter. You had to live from the instinct \"\n",
            " 'that became instinctive, except in darkness, when every movement was '\n",
            " 'scrutinized, every sound made, every movement scrutinized. The thought '\n",
            " 'police watched everybody all the time, and at any rate they could plug in '\n",
            " 'your wire in any time they wanted.')\n"
          ],
          "name": "stdout"
        }
      ]
    },
    {
      "cell_type": "markdown",
      "metadata": {
        "id": "FX03J_1JmMRo"
      },
      "source": [
        "#### 2.2 - T5 model, machine-generated summary - Orwell 1984\n",
        "\n"
      ]
    },
    {
      "cell_type": "code",
      "metadata": {
        "id": "o2iLwgiGmMxO",
        "colab": {
          "base_uri": "https://localhost:8080/",
          "height": 34
        },
        "outputId": "84a989d5-963e-4146-dd92-d79d1c445942"
      },
      "source": [
        "## summarize book with T5 model\n",
        "t0 = time.time() # timer\n",
        "summary_orwell_t5 = summarizer_t5(orwell_1984_cl, min_length=150, max_length=500) # change min_ and max_length for different output\n",
        "print(\"Summarization took \" + str(round((time.time() - t0) / 60, 2)) + \" minutes.\") # timer"
      ],
      "execution_count": null,
      "outputs": [
        {
          "output_type": "stream",
          "text": [
            "Summarization took 23.14 minutes.\n"
          ],
          "name": "stdout"
        }
      ]
    },
    {
      "cell_type": "code",
      "metadata": {
        "id": "gr3aQAu7mNEn",
        "colab": {
          "base_uri": "https://localhost:8080/",
          "height": 139
        },
        "outputId": "39887b16-136e-4f20-eca9-52f445c536a1"
      },
      "source": [
        "pp.pprint(summary_orwell_t5[0]['summary_text'])"
      ],
      "execution_count": null,
      "outputs": [
        {
          "output_type": "stream",
          "text": [
            "(\"'big brother is watching you' was the caption beneath a poster . a fruity \"\n",
            " 'voice was reading out a list of figures which had something to do with the '\n",
            " 'production of pig-iron . the flat was seven flights up, and Winston, who was '\n",
            " 'thirty-nine, went slowly, resting several times on the way . on each '\n",
            " 'landing, opposite the lift-shaft, the poster with the enormous face gazed '\n",
            " 'from the wall . Winston turned a switch and the voice sank somewhat, though '\n",
            " 'the. .. en a aa ena .- a. s aen enenaaao asa')\n"
          ],
          "name": "stdout"
        }
      ]
    },
    {
      "cell_type": "markdown",
      "metadata": {
        "id": "iFlKWQAUDfe3"
      },
      "source": [
        "## 3. Charles Darwin - The Origin of Species by Means of Natural Selection"
      ]
    },
    {
      "cell_type": "code",
      "metadata": {
        "id": "SHeu2zJp0xBi"
      },
      "source": [
        "## download book\n",
        "book_raw = requests.get(\"http://www.gutenberg.org/cache/epub/2009/pg2009.txt\")\n",
        "darwin_origin_of_species = book_raw.text\n",
        "# cleaning\n",
        "delimiter = 'INTRODUCTION.'\n",
        "darwin_origin_of_species_cl = \"ORIGIN OF SPECIES.\" + delimiter + darwin_origin_of_species.split(delimiter, 1)[1]\n",
        "delimiter2 = \"GLOSSARY OF THE PRINCIPAL SCIENTIFIC TERMS USED IN THE PRESENT VOLUME.\"\n",
        "darwin_origin_of_species_cl =  darwin_origin_of_species_cl.split(delimiter2, 1)[0] \n",
        "print(darwin_origin_of_species_cl)"
      ],
      "execution_count": null,
      "outputs": []
    },
    {
      "cell_type": "markdown",
      "metadata": {
        "id": "ciA_9N8jkJ2C"
      },
      "source": [
        "#### 3.1 - BART model, machine-generated summary - Darwin, Origin of Species"
      ]
    },
    {
      "cell_type": "code",
      "metadata": {
        "id": "pLnfRQqS1QFk",
        "colab": {
          "base_uri": "https://localhost:8080/",
          "height": 34
        },
        "outputId": "ad6f5631-06c8-4233-833e-fcc5b3f5534e"
      },
      "source": [
        "## summarize book with BART model\n",
        "t0 = time.time() # timer\n",
        "summary_darwin_bart = summarizer_bart(darwin_origin_of_species_cl, min_length=150, max_length=500) # change min_ and max_length for different output\n",
        "print(\"Summarization took \" + str(round((time.time() - t0) / 60, 2)) + \" minutes.\") # timer"
      ],
      "execution_count": null,
      "outputs": [
        {
          "output_type": "stream",
          "text": [
            "Summarization took 6.52 minutes.\n"
          ],
          "name": "stdout"
        }
      ]
    },
    {
      "cell_type": "code",
      "metadata": {
        "id": "_usRy_ErkJX3",
        "colab": {
          "base_uri": "https://localhost:8080/",
          "height": 208
        },
        "outputId": "297dd500-462f-4263-eb9b-682c3e0b1487"
      },
      "source": [
        "pp.pprint(summary_darwin_bart[0]['summary_text'])"
      ],
      "execution_count": null,
      "outputs": [
        {
          "output_type": "stream",
          "text": [
            "('The origin of species is the mystery of mysteries, as it has been called by '\n",
            " 'one of our greatest philosophers. A naturalist, Sir C. Lyell and Dr. Hooker '\n",
            " 'have helped him in every possible way by his large stores of knowledge and '\n",
            " 'his excellentjudgment. Mr. Wallace, who is now studying the natural history '\n",
            " 'of the Malay Archipelago, has arrived at almost exactly the same '\n",
            " 'generalconclusions that I have on the origin of Species. I can here give '\n",
            " 'only the general conclusions at which I have arrived, with a few facts in '\n",
            " 'most cases, but which, I hope, will suffice. I am well aware that scarcely a '\n",
            " 'single point is discussed in this volume on which facts cannot be adduced. A '\n",
            " 'fair result can be obtained only by fully stating and balancing the facts '\n",
            " 'and arguments on both sides of each question.')\n"
          ],
          "name": "stdout"
        }
      ]
    },
    {
      "cell_type": "markdown",
      "metadata": {
        "id": "doK7RPRzmyG-"
      },
      "source": [
        "#### 3.2 - T5 model, machine-generated summary  - Darwin, Origin of Species"
      ]
    },
    {
      "cell_type": "code",
      "metadata": {
        "id": "PXqy0eNAmyl8",
        "colab": {
          "base_uri": "https://localhost:8080/",
          "height": 34
        },
        "outputId": "c0b99dba-2b46-46aa-fd4b-ffef5cc76f3a"
      },
      "source": [
        "## summarize book with T5 model\n",
        "t0 = time.time() # timer\n",
        "summary_darwin_t5 = summarizer_t5(darwin_origin_of_species_cl, min_length=150, max_length=500) # change min_ and max_length for different output\n",
        "print(\"Summarization took \" + str(round((time.time() - t0) / 60, 2)) + \" minutes.\") # timer"
      ],
      "execution_count": null,
      "outputs": [
        {
          "output_type": "stream",
          "text": [
            "Summarization took 25.43 minutes.\n"
          ],
          "name": "stdout"
        }
      ]
    },
    {
      "cell_type": "code",
      "metadata": {
        "id": "r0ft2KMHmzSv",
        "colab": {
          "base_uri": "https://localhost:8080/",
          "height": 139
        },
        "outputId": "1c0a0378-e118-4027-d598-bd54bd97c2b5"
      },
      "source": [
        "pp.pprint(summary_darwin_t5[0]['summary_text'])"
      ],
      "execution_count": null,
      "outputs": [
        {
          "output_type": "stream",
          "text": [
            "('the origin of species is a mystery, as it has been called by one of our '\n",
            " \"greatest philosophers . the author's work is now (1859) nearly finished; but \"\n",
            " 'as it will take years to complete it, he publishes abstract . author: \"i '\n",
            " 'hope that I may enter on these personal details, as I give them to show that '\n",
            " 'i have not been hasty in coming to a decision\" he says he has been urged to '\n",
            " 'publish this abstract, which must necessarily be imperfect . a na a- '\n",
            " 'n--n-a-na-aa--a  aa --- aena-on')\n"
          ],
          "name": "stdout"
        }
      ]
    },
    {
      "cell_type": "markdown",
      "metadata": {
        "id": "MuST_wCqC-vE"
      },
      "source": [
        "## 4. Mary Wollstonecraft - A Vindication of the Rights of Woman"
      ]
    },
    {
      "cell_type": "code",
      "metadata": {
        "id": "57Ff6suE72O3"
      },
      "source": [
        "## download book\n",
        "book_raw = requests.get(\"http://www.gutenberg.org/cache/epub/3420/pg3420.txt\")\n",
        "rights_woman = book_raw.text\n",
        "# cleaning\n",
        "delimiter = 'A VINDICATION OF THE RIGHTS OF WOMAN,'\n",
        "rights_woman_cl = delimiter + rights_woman.split(delimiter, 1)[1]\n",
        "#print(rights_woman_cl)"
      ],
      "execution_count": null,
      "outputs": []
    },
    {
      "cell_type": "markdown",
      "metadata": {
        "id": "FoB0Jrp0kYRi"
      },
      "source": [
        "#### 4.1 - BART model, machine-generated summary - Rights of Woman"
      ]
    },
    {
      "cell_type": "code",
      "metadata": {
        "id": "2NPcSlIY8JMo",
        "colab": {
          "base_uri": "https://localhost:8080/",
          "height": 34
        },
        "outputId": "84555c7e-93ab-4dbe-e20c-12b508739aa3"
      },
      "source": [
        "## summarize book\n",
        "t0 = time.time() # timer\n",
        "summary_rights_woman_bart = summarizer_bart(rights_woman_cl, min_length=150, max_length=500) # change min_ and max_length for different output\n",
        "print(\"Summarization took \" + str(round((time.time() - t0) / 60, 2)) + \" minutes.\") # timer"
      ],
      "execution_count": null,
      "outputs": [
        {
          "output_type": "stream",
          "text": [
            "Summarization took 2.36 minutes.\n"
          ],
          "name": "stdout"
        }
      ]
    },
    {
      "cell_type": "code",
      "metadata": {
        "id": "H_BN_wuRkYBl",
        "colab": {
          "base_uri": "https://localhost:8080/",
          "height": 191
        },
        "outputId": "656d5607-18af-425a-b59c-346c8d64a29f"
      },
      "source": [
        "pp.pprint(summary_rights_woman_bart[0]['summary_text'])"
      ],
      "execution_count": null,
      "outputs": [
        {
          "output_type": "stream",
          "text": [
            "('M. Wollstonecraft was born in 1759. She became a teacher from motives of '\n",
            " 'benevolence, rather than philanthropy. Her father was so great that the '\n",
            " 'place of her birth is uncertain. She left her parents at the age of '\n",
            " 'nineteen, and resided with a Mrs. Dawson for two years. Her friend and '\n",
            " 'colleague, Dr. Price, died of a pulmonary disease. She gave proof of the '\n",
            " 'superior qualification of superior qualification for the superior role of a '\n",
            " 'woman. She wrote a book called The Rights of the Woman, published in 2001. '\n",
            " 'The book is published by Simon & Schuster, London, priced £16.99. For more '\n",
            " 'information on the book, or to order a copy, visit: '\n",
            " 'http://www.simonandschuster.com/ The-Rights-of-the-Woman.html.')\n"
          ],
          "name": "stdout"
        }
      ]
    },
    {
      "cell_type": "markdown",
      "metadata": {
        "id": "u9DMMY3dnQ5P"
      },
      "source": [
        "#### 4.2 - T5 model, machine-generated summary - Rights of Woman"
      ]
    },
    {
      "cell_type": "code",
      "metadata": {
        "id": "I8GzBp-1nRcS",
        "colab": {
          "base_uri": "https://localhost:8080/",
          "height": 34
        },
        "outputId": "dbd144a5-6acd-47d5-ff73-4a73f07202b1"
      },
      "source": [
        "## summarize book\n",
        "t0 = time.time() # timer\n",
        "summary_rights_woman_t5 = summarizer_t5(rights_woman_cl, min_length=150, max_length=500) # change min_ and max_length for different output\n",
        "print(\"Summarization took \" + str(round((time.time() - t0) / 60, 2)) + \" minutes.\") # timer"
      ],
      "execution_count": null,
      "outputs": [
        {
          "output_type": "stream",
          "text": [
            "Summarization took 21.9 minutes.\n"
          ],
          "name": "stdout"
        }
      ]
    },
    {
      "cell_type": "code",
      "metadata": {
        "id": "rjxc_lv5nRyN",
        "colab": {
          "base_uri": "https://localhost:8080/",
          "height": 104
        },
        "outputId": "73f46314-d719-414d-eeaf-7c3da67a1169"
      },
      "source": [
        "pp.pprint(summary_rights_woman_t5[0]['summary_text'])"
      ],
      "execution_count": null,
      "outputs": [
        {
          "output_type": "stream",
          "text": [
            "('a VINDICATION OF THE RIGHTS OF WOMAN, WITH STRICTURES ON POLITICAL AND MORAL '\n",
            " 'SUBJECTS, BY MARY WOLLSTONECRAFT . 8 April, 2001 A BRIEF SKETCH OF THE LIFE '\n",
            " 'OF m. w. wollstonecraft . ms wollstonecraft was born in suffolk, england, in '\n",
            " '1913 . she was educated at the a ., n .na - enaa na, . in a,aa- '\n",
            " '.\\xaden\\xad\\xad')\n"
          ],
          "name": "stdout"
        }
      ]
    }
  ]
}