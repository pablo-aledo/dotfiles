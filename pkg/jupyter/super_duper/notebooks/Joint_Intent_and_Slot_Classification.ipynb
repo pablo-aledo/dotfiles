{
  "nbformat": 4,
  "nbformat_minor": 0,
  "metadata": {
    "kernelspec": {
      "display_name": "Python 3",
      "language": "python",
      "name": "python3"
    },
    "language_info": {
      "codemirror_mode": {
        "name": "ipython",
        "version": 3
      },
      "file_extension": ".py",
      "mimetype": "text/x-python",
      "name": "python",
      "nbconvert_exporter": "python",
      "pygments_lexer": "ipython3",
      "version": "3.7.6"
    },
    "colab": {
      "name": "Joint_Intent_and_Slot_Classification.ipynb",
      "provenance": []
    }
  },
  "cells": [
    {
      "cell_type": "code",
      "metadata": {
        "pycharm": {
          "name": "#%%\n"
        },
        "id": "nwv6PJG6R7te"
      },
      "source": [
        "\"\"\"\n",
        "You can run either this notebook locally (if you have all the dependencies and a GPU) or on Google Colab.\n",
        "\n",
        "Instructions for setting up Colab are as follows:\n",
        "1. Open a new Python 3 notebook.\n",
        "2. Import this notebook from GitHub (File -> Upload Notebook -> \"GITHUB\" tab -> copy/paste GitHub URL)\n",
        "3. Connect to an instance with a GPU (Runtime -> Change runtime type -> select \"GPU\" for hardware accelerator)\n",
        "4. Run this cell to set up dependencies.\n",
        "\"\"\"\n",
        "# If you're using Google Colab and not running locally, run this cell\n",
        "\n",
        "# install NeMo\n",
        "BRANCH = 'v1.0.0b2'\n",
        "!python -m pip install git+https://github.com/NVIDIA/NeMo.git@$BRANCH#egg=nemo_toolkit[nlp]"
      ],
      "execution_count": null,
      "outputs": []
    },
    {
      "cell_type": "code",
      "metadata": {
        "pycharm": {
          "name": "#%%\n"
        },
        "id": "rg7UnppvR7vO"
      },
      "source": [
        "from nemo.collections import nlp as nemo_nlp\n",
        "from nemo.utils.exp_manager import exp_manager\n",
        "from nemo.utils import logging\n",
        "\n",
        "import os\n",
        "import wget\n",
        "import torch\n",
        "import pytorch_lightning as pl\n",
        "from omegaconf import OmegaConf"
      ],
      "execution_count": null,
      "outputs": []
    },
    {
      "cell_type": "markdown",
      "metadata": {
        "id": "rodPcWkvR7vO"
      },
      "source": [
        "# Task Description\n",
        "**Joint Intent and Slot classification** - is a task of classifying an Intent and detecting all relevant Slots (Entities)\n",
        "for this Intent in a query.\n",
        "For example, in the query:  `What is the weather in Santa Clara tomorrow morning?`, we would like to classify the query\n",
        "as a `weather` Intent, and detect `Santa Clara` as a `location` slot and `tomorrow morning` as a `date_time` slot.\n",
        "Intents and Slots names are usually task specific and defined as labels in the training data.\n",
        "This is a fundamental step that is executed in any task-driven Conversational Assistant.\n",
        "\n",
        "Our Bert based model implementation enables to train and then detect both of these tasks together.\n"
      ]
    },
    {
      "cell_type": "markdown",
      "metadata": {
        "id": "JTORsoLzR7wT"
      },
      "source": [
        "# Dataset and NeMo data format\n",
        "\n",
        "In this tutorial we are going to use a virtual assistant interaction data set that can be downloaded from here: https://github.com/xliuhw/NLU-Evaluation-Data.\n",
        "There are about 10K training and 1K testing queries which cover 64 various Intents and 55 Slots. \n",
        "\n",
        "To work with NeMo NLP classification model, this dataset should be first converted to the NeMo format, which requires next files:\n",
        "- **dict.intents.csv** - list of all intent names in the data. One line per an intent name.\n",
        "- **dict.slots.csv** - list of all slot names in the data. One line per a slot name. It is possible to use both: B- I- notations, for separating between first and intermediate tokens for multi token slots. Or just use one slot type for each token of multi token slot. Our recommendation is to use later one, since it is simpler and there is no visible degradation in performance.\n",
        "- **train.tsv/test.tsv** - contain original queries, one per line, and intent number separated by tab. For example: `what alarms do i have set right now\t0`. Intent numbers are according to the intent line in the intent dictionary file (dict.intents.csv) starting from 0. First line of these files contains a header line: `sentence \\tab label`.\n",
        "- **train_slot.tvs/test_slot.tsv** - contain one line per a query, where instead each token there is a number of the token from the slots dictionary file (dict.slots.csv), starting from 0. Last 'out-of scope' token is usually located in the last line of the dictionary. Example: `54 0 0 54 54 12 12` (numbers separated by space). No header line in these files.\n",
        "\n",
        "NeMo provides **import_dataset.py** converter for few reference datasets (Assistant / Atis / Snips) which converts them to the NeMo data format for the Intent and Slot classification model. If you have your own annotated dataset in a different format, you will need to write a data converter. Possible recommended format for your own annotation, is to have one text file per all examples of one intent. With one line per query in a form like: `did i set an alarm to [alarm_type : wake up] in the [timeofday : morning]`, using brackets to define slot names. This is very similar to the assistant format from this example and you can use its converter to NeMo format with small changes. \n",
        "\n",
        "You can run this utility as follows:\n",
        "\n",
        "**python examples/nlp/intent_slot_classification/data/import_datasets.py --dataset_name=assistant --source_data_dir=source_dir_name --target_data_dir=target_dir_name**\n"
      ]
    },
    {
      "cell_type": "markdown",
      "metadata": {
        "id": "k-PZOPu4R7wq"
      },
      "source": [
        "# Download, preprocess and explore the dataset\n",
        "## Download the dataset and convert it to the NeMo format"
      ]
    },
    {
      "cell_type": "code",
      "metadata": {
        "id": "wLIv4irQR7w8"
      },
      "source": [
        "# you can replace DATA_DIR and NEMO_DIR with your own locations\n",
        "DATA_DIR = \".\"\n",
        "NEMO_DIR = '.'\n",
        "\n",
        "# download the converter files from github for the purpose of this tutorial\n",
        "wget.download(f'https://raw.githubusercontent.com/NVIDIA/NeMo/{BRANCH}/examples/nlp/intent_slot_classification/data/import_datasets.py', NEMO_DIR)\n",
        "wget.download(f'https://raw.githubusercontent.com/NVIDIA/NeMo/{BRANCH}/examples/nlp/intent_slot_classification/data/assistant_utils.py', NEMO_DIR)"
      ],
      "execution_count": null,
      "outputs": []
    },
    {
      "cell_type": "code",
      "metadata": {
        "pycharm": {
          "name": "#%%\n"
        },
        "id": "-2jS6S47R7yF"
      },
      "source": [
        "# download and unzip the example dataset from github\n",
        "print('Downloading dataset...')\n",
        "wget.download('https://github.com/xliuhw/NLU-Evaluation-Data/archive/master.zip', DATA_DIR)\n",
        "! unzip {DATA_DIR}/NLU-Evaluation-Data-master.zip -d {DATA_DIR}"
      ],
      "execution_count": null,
      "outputs": []
    },
    {
      "cell_type": "code",
      "metadata": {
        "id": "Nur85zNJR7yN"
      },
      "source": [
        "# convert the dataset to the NeMo format\n",
        "!python {NEMO_DIR}/import_datasets.py --dataset_name=assistant --source_data_dir={DATA_DIR}/NLU-Evaluation-Data-master --target_data_dir={DATA_DIR}/nemo_format\n"
      ],
      "execution_count": null,
      "outputs": []
    },
    {
      "cell_type": "markdown",
      "metadata": {
        "id": "q9gzMbfrR7yw"
      },
      "source": [
        "## Data exploration\n",
        "You can see the dataset in both the original and NeMo's formats. We have here 65 different Intents and 55 Slots, which could be typical commands for virtual assistants. Out of scope slot has the name 'O' and is the last in the dictionary of Slots. And we can see examples of queries and also format of training intent and slot files. "
      ]
    },
    {
      "cell_type": "code",
      "metadata": {
        "id": "WSzDe4IuR7yx"
      },
      "source": [
        "# list of queries divided by intent files in the original training dataset\n",
        "! ls -l {DATA_DIR}/NLU-Evaluation-Data-master/dataset/trainset"
      ],
      "execution_count": null,
      "outputs": []
    },
    {
      "cell_type": "code",
      "metadata": {
        "id": "P3FdwQacR7yy"
      },
      "source": [
        "# print all intents from the NeMo format intent dictionary\n",
        "!echo 'Intents: ' $(wc -l < {DATA_DIR}/nemo_format/dict.intents.csv)\n",
        "! cat {DATA_DIR}/nemo_format/dict.intents.csv"
      ],
      "execution_count": null,
      "outputs": []
    },
    {
      "cell_type": "code",
      "metadata": {
        "id": "RktI19oxR7yy"
      },
      "source": [
        "# print all slots from the NeMo format slot dictionary\n",
        "!echo 'Slots: ' $(wc -l < {DATA_DIR}/nemo_format/dict.slots.csv)\n",
        "! cat {DATA_DIR}/nemo_format/dict.slots.csv"
      ],
      "execution_count": null,
      "outputs": []
    },
    {
      "cell_type": "code",
      "metadata": {
        "id": "Hj6lPmdwR7yy"
      },
      "source": [
        "# examples from the intent training file\n",
        "! head -n 10 {DATA_DIR}/nemo_format/train.tsv"
      ],
      "execution_count": null,
      "outputs": []
    },
    {
      "cell_type": "code",
      "metadata": {
        "id": "cxaJrosHR7yz"
      },
      "source": [
        "# examples from the slot training file\n",
        "! head -n 10 {DATA_DIR}/nemo_format/train_slots.tsv"
      ],
      "execution_count": null,
      "outputs": []
    },
    {
      "cell_type": "markdown",
      "metadata": {
        "id": "lqNUOIMIR7yz"
      },
      "source": [
        "# Training model"
      ]
    },
    {
      "cell_type": "markdown",
      "metadata": {
        "id": "mokzIm8OR7ze"
      },
      "source": [
        "## Model configuration\n",
        "\n",
        "Our Joint Intent and Slot classification model is comprised of the pretrained [BERT](https://arxiv.org/pdf/1810.04805.pdf) model with an Intent and Slot Classification layer on top of it.\n",
        "\n",
        "All model and training parameters are defined in the **intent_slot_classification_config.yaml** config file. This file is located in the folder **examples/nlp/intent_slot_classification/conf/**. It contains 2 main sections:\n",
        "- **model**: All arguments that are related to the Model - language model, token classifier, optimizer and schedulers, datasets and any other related information\n",
        "\n",
        "- **trainer**: Any argument to be passed to PyTorch Lightning\n",
        "\n",
        "We will download the config file from repository for the purpose of the tutorial. If you have a version of NeMo installed locally, you can use it from the above folder."
      ]
    },
    {
      "cell_type": "code",
      "metadata": {
        "id": "dtDewKiRR7zh"
      },
      "source": [
        "# download the model config file from repository for the purpose of this example\n",
        "wget.download(f'https://raw.githubusercontent.com/NVIDIA/NeMo/{BRANCH}/examples/nlp/intent_slot_classification/conf/intent_slot_classification_config.yaml', NEMO_DIR)\n",
        "\n",
        "# print content of the config file\n",
        "config_file = \"intent_slot_classification_config.yaml\"\n",
        "print(config_file)\n",
        "config = OmegaConf.load(config_file)\n",
        "print(OmegaConf.to_yaml(config))"
      ],
      "execution_count": null,
      "outputs": []
    },
    {
      "cell_type": "markdown",
      "metadata": {
        "id": "x-CYaVgzR7zo"
      },
      "source": [
        "## Setting up Data within the config\n",
        "\n",
        "Among other things, the config file contains dictionaries called train_ds and validation_ds. These are configurations used to setup the Dataset and DataLoaders of the corresponding config.\n",
        "\n",
        "The converter utility creates both training and evaluation files in the same directory, so we need to specify `model.data_dir` parameter to this directory. Also notice that some config lines, including `model.data_dir`, have `???` in place of paths, this means that values for these fields are required to be specified by the user.\n",
        "\n",
        "`config.model.intent_loss_weight` parameter - is a balance of training loss between Intent and Slot losses, a number between 0 to 1. Its default value is 0.6 which gives slightly higher priority to the Intent loss and it empirically works quite well. You can experiment with this value if you like.\n",
        "Also you can try to change `config.model.class_balancing` parameter to `weighted_loss` and see if you get better accuracy.\n",
        "\n",
        "Let's now add the data directory path to the config."
      ]
    },
    {
      "cell_type": "code",
      "metadata": {
        "id": "lFvA6aMFR7zs"
      },
      "source": [
        "config.model.data_dir = f'{DATA_DIR}/nemo_format'"
      ],
      "execution_count": null,
      "outputs": []
    },
    {
      "cell_type": "markdown",
      "metadata": {
        "id": "TS5nm3mfR7zu"
      },
      "source": [
        "## Building the PyTorch Lightning Trainer\n",
        "\n",
        "NeMo models are primarily PyTorch Lightning modules - and therefore are entirely compatible with the PyTorch Lightning ecosystem. `config.trainer.max_epochs` - param defines number of training epochs. Usually 50-100 epochs or less should be enough to train on your data. Let's instantiate the Trainer object."
      ]
    },
    {
      "cell_type": "code",
      "metadata": {
        "id": "TYvS1fSnR7zw"
      },
      "source": [
        "# lets modify some trainer configs\n",
        "# checks if we have GPU available and uses it\n",
        "cuda = 1 if torch.cuda.is_available() else 0\n",
        "config.trainer.gpus = cuda\n",
        "\n",
        "config.trainer.precision = 16 if torch.cuda.is_available() else 32\n",
        "\n",
        "# for mixed precision training, uncomment the line below (precision should be set to 16 and amp_level to O1):\n",
        "# config.trainer.amp_level = O1\n",
        "\n",
        "# remove distributed training flags\n",
        "config.trainer.accelerator = None\n",
        "\n",
        "# setup a small number of epochs for demonstration purposes of this tutorial\n",
        "config.trainer.max_epochs = 5\n",
        "\n",
        "trainer = pl.Trainer(**config.trainer)"
      ],
      "execution_count": null,
      "outputs": []
    },
    {
      "cell_type": "markdown",
      "metadata": {
        "id": "U9XM82uER7zw"
      },
      "source": [
        "## Setting up a NeMo Experiment\n",
        "\n",
        "NeMo has an experiment manager that handles logging and checkpointing for us, so let's use it. Model check points during training will be saved in this directory. "
      ]
    },
    {
      "cell_type": "code",
      "metadata": {
        "id": "Gs6jPEBOR7zx"
      },
      "source": [
        "exp_dir = exp_manager(trainer, config.get(\"exp_manager\", None))\n",
        "# the exp_dir provides a path to the current experiment for easy access\n",
        "print(str(exp_dir))"
      ],
      "execution_count": null,
      "outputs": []
    },
    {
      "cell_type": "markdown",
      "metadata": {
        "id": "iH8JyyrMR7zx"
      },
      "source": [
        "## Initializing the model and Training\n",
        "\n",
        "Initial statistics of the dataset will be displayed at the beginning of the training and then Intent and Slot classification report will be displayed after each training epoch."
      ]
    },
    {
      "cell_type": "code",
      "metadata": {
        "id": "674FQGOHR7zy"
      },
      "source": [
        "# initialize the model\n",
        "model = nemo_nlp.models.IntentSlotClassificationModel(config.model, trainer=trainer)\n",
        "\n",
        "# train\n",
        "trainer.fit(model)"
      ],
      "execution_count": null,
      "outputs": []
    },
    {
      "cell_type": "markdown",
      "metadata": {
        "id": "AL8mmCZ3R7zy"
      },
      "source": [
        "After training for 5 epochs, which should take no more than few minutes, you can expect training precision for this data set to be around these numbers (the accuracy will gradually continue to improve for this dataset up to about 50 epochs of training): \n",
        "```\n",
        "Intents:\n",
        "    label                                                precision    recall       f1           support   \n",
        "    alarm_query (label_id: 0)                               94.74      94.74      94.74         19\n",
        "    alarm_remove (label_id: 1)                             100.00     100.00     100.00         11\n",
        "    alarm_set (label_id: 2)                                 85.71      94.74      90.00         19\n",
        "    audio_volume_down (label_id: 3)                          0.00       0.00       0.00          8\n",
        "    audio_volume_mute (label_id: 4)                        100.00      86.67      92.86         15\n",
        "    audio_volume_up (label_id: 5)                           56.52     100.00      72.22         13\n",
        "    calendar_query (label_id: 6)                            55.00      57.89      56.41         19\n",
        "    calendar_remove (label_id: 7)                           88.89      84.21      86.49         19\n",
        "    calendar_set (label_id: 8)                              81.25      68.42      74.29         19\n",
        "    cooking_recipe (label_id: 9)                            86.36     100.00      92.68         19\n",
        "    datetime_convert (label_id: 10)                          0.00       0.00       0.00          8\n",
        "    datetime_query (label_id: 11)                           65.52     100.00      79.17         19\n",
        "    email_addcontact (label_id: 12)                        100.00      12.50      22.22          8\n",
        "    email_query (label_id: 13)                              83.33      78.95      81.08         19\n",
        "    email_querycontact (label_id: 14)                       62.50      78.95      69.77         19\n",
        "    email_sendemail (label_id: 15)                          70.83      89.47      79.07         19\n",
        "    general_affirm (label_id: 16)                           95.00     100.00      97.44         19\n",
        "    general_commandstop (label_id: 17)                     100.00     100.00     100.00         19\n",
        "    general_confirm (label_id: 18)                         100.00     100.00     100.00         19\n",
        "    general_dontcare (label_id: 19)                        100.00     100.00     100.00         19\n",
        "    general_explain (label_id: 20)                         100.00      94.74      97.30         19\n",
        "    general_joke (label_id: 21)                            100.00     100.00     100.00         12\n",
        "    general_negate (label_id: 22)                           95.00     100.00      97.44         19\n",
        "    general_praise (label_id: 23)                          100.00      94.74      97.30         19\n",
        "    general_quirky (label_id: 24)                           40.00      10.53      16.67         19\n",
        "    general_repeat (label_id: 25)                          100.00     100.00     100.00         19\n",
        "    iot_cleaning (label_id: 26)                             84.21     100.00      91.43         16\n",
        "    iot_coffee (label_id: 27)                               94.74      94.74      94.74         19\n",
        "    iot_hue_lightchange (label_id: 28)                      94.44      89.47      91.89         19\n",
        "    iot_hue_lightdim (label_id: 29)                        100.00      83.33      90.91         12\n",
        "    iot_hue_lightoff (label_id: 30)                         89.47      89.47      89.47         19\n",
        "    iot_hue_lighton (label_id: 31)                           0.00       0.00       0.00          3\n",
        "    iot_hue_lightup (label_id: 32)                          81.25      92.86      86.67         14\n",
        "    iot_wemo_off (label_id: 33)                             60.00     100.00      75.00          9\n",
        "    iot_wemo_on (label_id: 34)                             100.00      14.29      25.00          7\n",
        "    lists_createoradd (label_id: 35)                        78.95      78.95      78.95         19\n",
        "    lists_query (label_id: 36)                              78.95      78.95      78.95         19\n",
        "    lists_remove (label_id: 37)                             90.00      94.74      92.31         19\n",
        "    music_likeness (label_id: 38)                           70.59      66.67      68.57         18\n",
        "    music_query (label_id: 39)                              77.78      73.68      75.68         19\n",
        "    music_settings (label_id: 40)                            0.00       0.00       0.00          7\n",
        "    news_query (label_id: 41)                               77.78      73.68      75.68         19\n",
        "    play_audiobook (label_id: 42)                           90.00      94.74      92.31         19\n",
        "    play_game (label_id: 43)                                80.00      84.21      82.05         19\n",
        "    play_music (label_id: 44)                               53.85      73.68      62.22         19\n",
        "    play_podcasts (label_id: 45)                            89.47      89.47      89.47         19\n",
        "    play_radio (label_id: 46)                               93.75      78.95      85.71         19\n",
        "    qa_currency (label_id: 47)                              95.00     100.00      97.44         19\n",
        "    qa_definition (label_id: 48)                            85.00      89.47      87.18         19\n",
        "    qa_factoid (label_id: 49)                               45.16      73.68      56.00         19\n",
        "    qa_maths (label_id: 50)                                100.00     100.00     100.00         14\n",
        "    qa_stock (label_id: 51)                                 95.00     100.00      97.44         19\n",
        "    recommendation_events (label_id: 52)                    94.44      89.47      91.89         19\n",
        "    recommendation_locations (label_id: 53)                 94.74      94.74      94.74         19\n",
        "    recommendation_movies (label_id: 54)                   100.00     100.00     100.00         10\n",
        "    social_post (label_id: 55)                              90.00      94.74      92.31         19\n",
        "    social_query (label_id: 56)                             94.74     100.00      97.30         18\n",
        "    takeaway_order (label_id: 57)                           93.75      78.95      85.71         19\n",
        "    takeaway_query (label_id: 58)                           85.71      94.74      90.00         19\n",
        "    transport_query (label_id: 59)                          83.33      78.95      81.08         19\n",
        "    transport_taxi (label_id: 60)                          100.00     100.00     100.00         18\n",
        "    transport_ticket (label_id: 61)                         89.47      89.47      89.47         19\n",
        "    transport_traffic (label_id: 62)                       100.00     100.00     100.00         19\n",
        "    weather_query (label_id: 63)                           100.00      89.47      94.44         19\n",
        "    -------------------\n",
        "    micro avg                                               85.04      85.04      85.04       1076\n",
        "    macro avg                                               81.13      80.81      79.36       1076\n",
        "    weighted avg                                            84.10      85.04      83.54       1076\n",
        "    \n",
        "Slots:\n",
        "    label                                                precision    recall       f1           support   \n",
        "    alarm_type (label_id: 0)                                 0.00       0.00       0.00          0\n",
        "    app_name (label_id: 1)                                   0.00       0.00       0.00          6\n",
        "    artist_name (label_id: 2)                                0.00       0.00       0.00         21\n",
        "    audiobook_author (label_id: 3)                           0.00       0.00       0.00          1\n",
        "    audiobook_name (label_id: 4)                             0.00       0.00       0.00         18\n",
        "    business_name (label_id: 5)                             60.00      56.60      58.25         53\n",
        "    business_type (label_id: 6)                              0.00       0.00       0.00         24\n",
        "    change_amount (label_id: 7)                              0.00       0.00       0.00         25\n",
        "    coffee_type (label_id: 8)                                0.00       0.00       0.00          4\n",
        "    color_type (label_id: 9)                                 0.00       0.00       0.00         12\n",
        "    cooking_type (label_id: 10)                              0.00       0.00       0.00          0\n",
        "    currency_name (label_id: 11)                            84.09      75.51      79.57         49\n",
        "    date (label_id: 12)                                     57.95      91.07      70.83        112\n",
        "    definition_word (label_id: 13)                           0.00       0.00       0.00         20\n",
        "    device_type (label_id: 14)                              74.55      51.25      60.74         80\n",
        "    drink_type (label_id: 15)                                0.00       0.00       0.00          0\n",
        "    email_address (label_id: 16)                             0.00       0.00       0.00         14\n",
        "    email_folder (label_id: 17)                              0.00       0.00       0.00          1\n",
        "    event_name (label_id: 18)                              100.00      13.24      23.38         68\n",
        "    food_type (label_id: 19)                                51.72      69.77      59.41         43\n",
        "    game_name (label_id: 20)                                60.00      14.29      23.08         21\n",
        "    game_type (label_id: 21)                                 0.00       0.00       0.00          0\n",
        "    general_frequency (label_id: 22)                         0.00       0.00       0.00          9\n",
        "    house_place (label_id: 23)                              93.33      42.42      58.33         33\n",
        "    ingredient (label_id: 24)                                0.00       0.00       0.00          6\n",
        "    joke_type (label_id: 25)                                 0.00       0.00       0.00          4\n",
        "    list_name (label_id: 26)                                 0.00       0.00       0.00         21\n",
        "    meal_type (label_id: 27)                                 0.00       0.00       0.00          0\n",
        "    media_type (label_id: 28)                                0.00       0.00       0.00         37\n",
        "    movie_name (label_id: 29)                                0.00       0.00       0.00          0\n",
        "    movie_type (label_id: 30)                                0.00       0.00       0.00          0\n",
        "    music_album (label_id: 31)                               0.00       0.00       0.00          0\n",
        "    music_descriptor (label_id: 32)                          0.00       0.00       0.00          3\n",
        "    music_genre (label_id: 33)                               0.00       0.00       0.00          9\n",
        "    news_topic (label_id: 34)                                0.00       0.00       0.00         17\n",
        "    order_type (label_id: 35)                                0.00       0.00       0.00         17\n",
        "    person (label_id: 36)                                   44.86      92.31      60.38         52\n",
        "    personal_info (label_id: 37)                             0.00       0.00       0.00         20\n",
        "    place_name (label_id: 38)                               71.25      77.03      74.03        148\n",
        "    player_setting (label_id: 39)                            0.00       0.00       0.00          1\n",
        "    playlist_name (label_id: 40)                             0.00       0.00       0.00          1\n",
        "    podcast_descriptor (label_id: 41)                        0.00       0.00       0.00         13\n",
        "    podcast_name (label_id: 42)                              0.00       0.00       0.00          4\n",
        "    radio_name (label_id: 43)                               66.67      10.53      18.18         38\n",
        "    relation (label_id: 44)                                  0.00       0.00       0.00         17\n",
        "    song_name (label_id: 45)                                 0.00       0.00       0.00         22\n",
        "    time (label_id: 46)                                     70.27      78.20      74.02        133\n",
        "    time_zone (label_id: 47)                                 0.00       0.00       0.00          9\n",
        "    timeofday (label_id: 48)                                 0.00       0.00       0.00         28\n",
        "    transport_agency (label_id: 49)                          0.00       0.00       0.00          9\n",
        "    transport_descriptor (label_id: 50)                      0.00       0.00       0.00          0\n",
        "    transport_name (label_id: 51)                            0.00       0.00       0.00          4\n",
        "    transport_type (label_id: 52)                           78.38      82.86      80.56         35\n",
        "    weather_descriptor (label_id: 53)                        0.00       0.00       0.00         17\n",
        "    O (label_id: 54)                                        92.42      98.80      95.50       5920\n",
        "    -------------------\n",
        "    micro avg                                               89.10      89.10      89.10       7199\n",
        "    macro avg                                               21.86      18.56      18.18       7199\n",
        "    weighted avg                                            84.42      89.10      86.01       7199\n",
        "```"
      ]
    },
    {
      "cell_type": "markdown",
      "metadata": {
        "id": "T8Lt_0pFR7zz"
      },
      "source": [
        "## Evaluation\n",
        "To see how the model performs, we can evaluate the performance of the trained model on a test data file. Here we would load the best checkpoint (the one with the lowest validation loss) and create a model (eval_model) from the checkpoint. We will use the same trainer for testing."
      ]
    },
    {
      "cell_type": "code",
      "metadata": {
        "id": "Aytgs3RaR70A"
      },
      "source": [
        "# extract the path of the best checkpoint from the training, you may update it to any other saved checkpoint file\n",
        "checkpoint_path = trainer.checkpoint_callback.best_model_path\n",
        "\n",
        "# load the model from this checkpoint\n",
        "eval_model = nemo_nlp.models.IntentSlotClassificationModel.load_from_checkpoint(checkpoint_path=checkpoint_path)"
      ],
      "execution_count": null,
      "outputs": []
    },
    {
      "cell_type": "code",
      "metadata": {
        "id": "iuO8Ms5vR70A"
      },
      "source": [
        "# we will setup testing data reusing the same config (test section)\n",
        "eval_model.setup_test_data(test_data_config=config.model.test_ds)\n",
        "\n",
        "# run the evaluation on the test dataset\n",
        "trainer.test(model=model, ckpt_path=None, verbose=False)"
      ],
      "execution_count": null,
      "outputs": []
    },
    {
      "cell_type": "markdown",
      "metadata": {
        "id": "Pmq11i0QR70B"
      },
      "source": [
        "## Inference from Examples\n",
        "Next step to see how the trained model will classify Intents and Slots for given queries from this domain. To improve the predictions you may need to train the model for more than 5 epochs.\n"
      ]
    },
    {
      "cell_type": "code",
      "metadata": {
        "id": "O3fv4iMqR70B"
      },
      "source": [
        "queries = [\n",
        "    'set alarm for seven thirty am',\n",
        "    'lower volume by fifty percent',\n",
        "    'what is my schedule for tomorrow',\n",
        "]\n",
        "\n",
        "pred_intents, pred_slots = eval_model.predict_from_examples(queries)\n",
        "\n",
        "logging.info('The prediction results of some sample queries with the trained model:')\n",
        "for query, intent, slots in zip(queries, pred_intents, pred_slots):\n",
        "    logging.info(f'Query : {query}')\n",
        "    logging.info(f'Predicted Intent: {intent}')\n",
        "    logging.info(f'Predicted Slots: {slots}')"
      ],
      "execution_count": null,
      "outputs": []
    },
    {
      "cell_type": "markdown",
      "metadata": {
        "id": "CyUFwl2jR70B"
      },
      "source": [
        "## Training Script\n",
        "\n",
        "If you have NeMo installed locally (eg. cloned from the Github), you can also train the model with the example script: `examples/nlp/intent_slot_classification/intent_slot_classification.py.`\n",
        "This script contains an example on how to train, evaluate and perform inference with the IntentSlotClassificationModel.\n",
        "\n",
        "To run a training script, use:\n",
        "\n",
        "`cd examples/nlp/intent_slot_classification`\n",
        "\n",
        "`python intent_slot_classification.py model.data_dir=PATH_TO_DATA_DIR`\n",
        "\n",
        "By default, this script uses examples/nlp/intent_slot_classification/conf/intent_slot_classification_config.py config file, and you may update all the params inside of this config file or alternatively providing them in the command line."
      ]
    },
    {
      "cell_type": "code",
      "metadata": {
        "id": "Kp3kdnV1R70F"
      },
      "source": [
        ""
      ],
      "execution_count": null,
      "outputs": []
    }
  ]
}