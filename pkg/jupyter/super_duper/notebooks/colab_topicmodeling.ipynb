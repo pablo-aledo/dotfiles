{
  "nbformat": 4,
  "nbformat_minor": 0,
  "metadata": {
    "colab": {
      "name": "colab_topicmodeling.ipynb",
      "provenance": [],
      "toc_visible": true
    },
    "kernelspec": {
      "name": "python3",
      "display_name": "Python 3"
    }
  },
  "cells": [
    {
      "cell_type": "markdown",
      "metadata": {
        "id": "Clgok1W6xqx7"
      },
      "source": [
        "# Topic Modeling for Everybody with Google Colab"
      ]
    },
    {
      "cell_type": "markdown",
      "metadata": {
        "id": "Jeqk9Wu2yFmz"
      },
      "source": [
        "**Super simple topic modeling using both the Non Negative Matrix Factorization (NMF) and Latent Dirichlet Allocation (LDA) algorithms.**\n",
        "\n",
        "This Google Colab Notebook makes topic modeling accessible to everybody. Textual data can be loaded from a Google Sheet and topics derived from NMF and LDA can be generated. Only simple form entry is required to set:\n",
        "\n",
        "* the name of the google sheet\n",
        "* the number of topics to be generated\n",
        "* the number of top words and documents that must be printed out for each topic\n",
        "\n",
        "\n",
        "\n"
      ]
    },
    {
      "cell_type": "code",
      "metadata": {
        "id": "nrFRQ3tlN2Xw"
      },
      "source": [
        "#@title Install gspread, authenticate and load data from a Google Sheet\n",
        "!pip install --upgrade -q gspread\n",
        "\n",
        "from google.colab import auth\n",
        "auth.authenticate_user()\n",
        "\n",
        "import gspread\n",
        "from oauth2client.client import GoogleCredentials\n",
        "\n",
        "# Default data from\n",
        "# http://web.eecs.utk.edu/~berry/order/node4.html#SECTION00022000000000000000\n",
        "\n",
        "googlesheet_filename = 'mydata' #@param {type:\"string\"}\n",
        "data_rows_to_preview = 10 #@param {type:\"integer\"}\n"
      ],
      "execution_count": null,
      "outputs": []
    },
    {
      "cell_type": "code",
      "metadata": {
        "id": "80FDsXYg4Gpd",
        "colab": {
          "base_uri": "https://localhost:8080/",
          "height": 359
        },
        "outputId": "030d5210-cf7b-4529-cb44-94ba79b7e198"
      },
      "source": [
        "#@title Load and preview data from a Google Sheet\n",
        "\n",
        "gc = gspread.authorize(GoogleCredentials.get_application_default())\n",
        "\n",
        "worksheet = gc.open(googlesheet_filename).sheet1\n",
        "\n",
        "# get_all_values gives a list of rows.\n",
        "rows = worksheet.get_all_values()\n",
        "\n",
        "# convert the 2nd column values to a list\n",
        "documents = []\n",
        "for row in rows[1:]:\n",
        "  documents.append(row[1])\n",
        "  \n",
        "#print(documents)\n",
        "\n",
        "# Convert to a DataFrame and render.\n",
        "import pandas as pd\n",
        "dataset_df = pd.DataFrame.from_records(rows)\n",
        "dataset_df.head(n=data_rows_to_preview)\n"
      ],
      "execution_count": null,
      "outputs": [
        {
          "output_type": "execute_result",
          "data": {
            "text/html": [
              "<div>\n",
              "<style scoped>\n",
              "    .dataframe tbody tr th:only-of-type {\n",
              "        vertical-align: middle;\n",
              "    }\n",
              "\n",
              "    .dataframe tbody tr th {\n",
              "        vertical-align: top;\n",
              "    }\n",
              "\n",
              "    .dataframe thead th {\n",
              "        text-align: right;\n",
              "    }\n",
              "</style>\n",
              "<table border=\"1\" class=\"dataframe\">\n",
              "  <thead>\n",
              "    <tr style=\"text-align: right;\">\n",
              "      <th></th>\n",
              "      <th>0</th>\n",
              "      <th>1</th>\n",
              "    </tr>\n",
              "  </thead>\n",
              "  <tbody>\n",
              "    <tr>\n",
              "      <th>0</th>\n",
              "      <td>id</td>\n",
              "      <td>text</td>\n",
              "    </tr>\n",
              "    <tr>\n",
              "      <th>1</th>\n",
              "      <td>1</td>\n",
              "      <td>Human machine interface for Lab ABC computer a...</td>\n",
              "    </tr>\n",
              "    <tr>\n",
              "      <th>2</th>\n",
              "      <td>2</td>\n",
              "      <td>A survey of user opinion of computer system re...</td>\n",
              "    </tr>\n",
              "    <tr>\n",
              "      <th>3</th>\n",
              "      <td>3</td>\n",
              "      <td>The EPS user interface management system</td>\n",
              "    </tr>\n",
              "    <tr>\n",
              "      <th>4</th>\n",
              "      <td>4</td>\n",
              "      <td>System and human system engineering testing of...</td>\n",
              "    </tr>\n",
              "    <tr>\n",
              "      <th>5</th>\n",
              "      <td>5</td>\n",
              "      <td>Relation of user-perceived response time to er...</td>\n",
              "    </tr>\n",
              "    <tr>\n",
              "      <th>6</th>\n",
              "      <td>6</td>\n",
              "      <td>The generation of random, binary, unordered trees</td>\n",
              "    </tr>\n",
              "    <tr>\n",
              "      <th>7</th>\n",
              "      <td>7</td>\n",
              "      <td>The intersection graph of paths in trees</td>\n",
              "    </tr>\n",
              "    <tr>\n",
              "      <th>8</th>\n",
              "      <td>8</td>\n",
              "      <td>Graph minors IV: Widths of trees and quasi-ord...</td>\n",
              "    </tr>\n",
              "    <tr>\n",
              "      <th>9</th>\n",
              "      <td>9</td>\n",
              "      <td>Graph minors: A survey</td>\n",
              "    </tr>\n",
              "  </tbody>\n",
              "</table>\n",
              "</div>"
            ],
            "text/plain": [
              "    0                                                  1\n",
              "0  id                                               text\n",
              "1   1  Human machine interface for Lab ABC computer a...\n",
              "2   2  A survey of user opinion of computer system re...\n",
              "3   3           The EPS user interface management system\n",
              "4   4  System and human system engineering testing of...\n",
              "5   5  Relation of user-perceived response time to er...\n",
              "6   6  The generation of random, binary, unordered trees\n",
              "7   7           The intersection graph of paths in trees\n",
              "8   8  Graph minors IV: Widths of trees and quasi-ord...\n",
              "9   9                             Graph minors: A survey"
            ]
          },
          "metadata": {
            "tags": []
          },
          "execution_count": 2
        }
      ]
    },
    {
      "cell_type": "markdown",
      "metadata": {
        "id": "NdEbsHFSxiQE"
      },
      "source": [
        "\n",
        "\n",
        "---\n",
        "\n",
        "\n",
        "\n",
        "---\n",
        "\n"
      ]
    },
    {
      "cell_type": "code",
      "metadata": {
        "id": "W8aR4hci9D8e"
      },
      "source": [
        "#@title Set topic modeling algorithm arguments\n",
        "\n",
        "no_topics = 3 #@param {type:\"integer\"}\n",
        "\n",
        "no_top_words = 4 #@param {type:\"integer\"}\n",
        "\n",
        "no_top_documents = 3 #@param {type:\"integer\"}\n",
        "\n",
        "from sklearn.feature_extraction.text import TfidfVectorizer, CountVectorizer\n",
        "from sklearn.decomposition import NMF, LatentDirichletAllocation\n",
        "import numpy as np"
      ],
      "execution_count": null,
      "outputs": []
    },
    {
      "cell_type": "code",
      "metadata": {
        "id": "1-iV64YMqATQ",
        "colab": {
          "base_uri": "https://localhost:8080/",
          "height": 306
        },
        "outputId": "eacfa21c-1241-4630-9d4a-0b34779ef1f1"
      },
      "source": [
        "#@title Run NMF\n",
        "\n",
        "def display_topics(H, W, feature_names, documents, no_top_words, no_top_documents):\n",
        "    for topic_idx, topic in enumerate(H):\n",
        "        print(\"Topic %d:\" % (topic_idx))\n",
        "        print(\" \".join([feature_names[i]\n",
        "                        for i in topic.argsort()[:-no_top_words - 1:-1]]))\n",
        "        top_doc_indices = np.argsort( W[:,topic_idx] )[::-1][0:no_top_documents]\n",
        "        for doc_index in top_doc_indices:\n",
        "            print(documents[doc_index])\n",
        "\n",
        "# NMF is able to use tf-idf\n",
        "tfidf_vectorizer = TfidfVectorizer(max_df=0.95, min_df=2, stop_words='english')\n",
        "tfidf = tfidf_vectorizer.fit_transform(documents)\n",
        "tfidf_feature_names = tfidf_vectorizer.get_feature_names()\n",
        "\n",
        "# Run NMF\n",
        "nmf_model = NMF(n_components=no_topics, random_state=1, alpha=.1, l1_ratio=.5, init='nndsvd').fit(tfidf)\n",
        "nmf_W = nmf_model.transform(tfidf)\n",
        "nmf_H = nmf_model.components_\n",
        "\n",
        "print(\"NMF Topics\")\n",
        "display_topics(nmf_H, nmf_W, tfidf_feature_names, documents, no_top_words, no_top_documents)\n",
        "print(\"--------------\")\n",
        "\n"
      ],
      "execution_count": null,
      "outputs": [
        {
          "output_type": "stream",
          "text": [
            "NMF Topics\n",
            "Topic 0:\n",
            "trees graph minors survey\n",
            "Graph minors IV: Widths of trees and quasi-ordering\n",
            "The intersection graph of paths in trees\n",
            "The generation of random, binary, unordered trees\n",
            "Topic 1:\n",
            "time response user survey\n",
            "Relation of user-perceived response time to error measurement\n",
            "A survey of user opinion of computer system response time\n",
            "The EPS user interface management system\n",
            "Topic 2:\n",
            "human eps interface computer\n",
            "System and human system engineering testing of EPS\n",
            "Human machine interface for Lab ABC computer applications\n",
            "The EPS user interface management system\n",
            "--------------\n"
          ],
          "name": "stdout"
        }
      ]
    },
    {
      "cell_type": "code",
      "metadata": {
        "id": "onfGom6U9oSq",
        "colab": {
          "base_uri": "https://localhost:8080/",
          "height": 289
        },
        "outputId": "1cc1ffb7-e0ff-4c31-e604-597ee293f83a"
      },
      "source": [
        "#@title Run LDA\n",
        "\n",
        "# LDA can only use raw term counts for LDA because it is a probabilistic graphical model\n",
        "tf_vectorizer = CountVectorizer(max_df=0.95, min_df=2, stop_words='english')\n",
        "tf = tf_vectorizer.fit_transform(documents)\n",
        "tf_feature_names = tf_vectorizer.get_feature_names()\n",
        "\n",
        "# Run LDA\n",
        "lda_model = LatentDirichletAllocation(n_components=no_topics, max_iter=5, learning_method='online', learning_offset=50.,random_state=0).fit(tf)\n",
        "lda_W = lda_model.transform(tf)\n",
        "lda_H = lda_model.components_\n",
        "\n",
        "print(\"LDA Topics\")\n",
        "display_topics(lda_H, lda_W, tf_feature_names, documents, no_top_words, no_top_documents)"
      ],
      "execution_count": null,
      "outputs": [
        {
          "output_type": "stream",
          "text": [
            "LDA Topics\n",
            "Topic 0:\n",
            "user response time survey\n",
            "A survey of user opinion of computer system response time\n",
            "Relation of user-perceived response time to error measurement\n",
            "The EPS user interface management system\n",
            "Topic 1:\n",
            "trees human graph minors\n",
            "Graph minors IV: Widths of trees and quasi-ordering\n",
            "Human machine interface for Lab ABC computer applications\n",
            "The intersection graph of paths in trees\n",
            "Topic 2:\n",
            "trees survey time minors\n",
            "The generation of random, binary, unordered trees\n",
            "System and human system engineering testing of EPS\n",
            "The intersection graph of paths in trees\n"
          ],
          "name": "stdout"
        }
      ]
    }
  ]
}