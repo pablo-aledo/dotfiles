{
  "nbformat": 4,
  "nbformat_minor": 0,
  "metadata": {
    "colab": {
      "name": "workshop_gobot.ipynb",
      "provenance": []
    },
    "language_info": {
      "codemirror_mode": {
        "name": "ipython",
        "version": 3
      },
      "file_extension": ".py",
      "mimetype": "text/x-python",
      "name": "python",
      "nbconvert_exporter": "python",
      "pygments_lexer": "ipython3",
      "version": "3.6.6"
    },
    "kernelspec": {
      "display_name": "Python 3",
      "language": "python",
      "name": "python3"
    }
  },
  "cells": [
    {
      "cell_type": "code",
      "metadata": {
        "id": "xdG7JifQrg67",
        "colab": {
          "base_uri": "https://localhost:8080/",
          "height": 802
        },
        "outputId": "81638dc6-afef-4253-bc0b-e74574ea4341"
      },
      "source": [
        "!pip install deeppavlov"
      ],
      "execution_count": null,
      "outputs": [
        {
          "output_type": "stream",
          "text": [
            "Requirement already satisfied: deeppavlov in /usr/local/lib/python3.6/dist-packages (0.4.0)\n",
            "Requirement already satisfied: tqdm==4.23.4 in /usr/local/lib/python3.6/dist-packages (from deeppavlov) (4.23.4)\n",
            "Requirement already satisfied: pymorphy2==0.8 in /usr/local/lib/python3.6/dist-packages (from deeppavlov) (0.8)\n",
            "Requirement already satisfied: flask-cors==3.0.6 in /usr/local/lib/python3.6/dist-packages (from deeppavlov) (3.0.6)\n",
            "Requirement already satisfied: rusenttokenize==0.0.4 in /usr/local/lib/python3.6/dist-packages (from deeppavlov) (0.0.4)\n",
            "Requirement already satisfied: pyopenssl==18.0.0 in /usr/local/lib/python3.6/dist-packages (from deeppavlov) (18.0.0)\n",
            "Requirement already satisfied: flasgger==0.9.1 in /usr/local/lib/python3.6/dist-packages (from deeppavlov) (0.9.1)\n",
            "Requirement already satisfied: numpy==1.14.5 in /usr/local/lib/python3.6/dist-packages (from deeppavlov) (1.14.5)\n",
            "Requirement already satisfied: flask==1.0.2 in /usr/local/lib/python3.6/dist-packages (from deeppavlov) (1.0.2)\n",
            "Requirement already satisfied: pymorphy2-dicts-ru in /usr/local/lib/python3.6/dist-packages (from deeppavlov) (2.4.404381.4453942)\n",
            "Requirement already satisfied: keras==2.2.0 in /usr/local/lib/python3.6/dist-packages (from deeppavlov) (2.2.0)\n",
            "Requirement already satisfied: scikit-learn==0.19.1 in /usr/local/lib/python3.6/dist-packages (from deeppavlov) (0.19.1)\n",
            "Requirement already satisfied: h5py==2.8.0 in /usr/local/lib/python3.6/dist-packages (from deeppavlov) (2.8.0)\n",
            "Requirement already satisfied: pytelegrambotapi==3.5.2 in /usr/local/lib/python3.6/dist-packages (from deeppavlov) (3.5.2)\n",
            "Requirement already satisfied: scipy==1.1.0 in /usr/local/lib/python3.6/dist-packages (from deeppavlov) (1.1.0)\n",
            "Requirement already satisfied: pandas==0.23.1 in /usr/local/lib/python3.6/dist-packages (from deeppavlov) (0.23.1)\n",
            "Requirement already satisfied: overrides==1.9 in /usr/local/lib/python3.6/dist-packages (from deeppavlov) (1.9)\n",
            "Requirement already satisfied: requests==2.19.1 in /usr/local/lib/python3.6/dist-packages (from deeppavlov) (2.19.1)\n",
            "Requirement already satisfied: fuzzywuzzy==0.16.0 in /usr/local/lib/python3.6/dist-packages (from deeppavlov) (0.16.0)\n",
            "Requirement already satisfied: Cython==0.28.5 in /usr/local/lib/python3.6/dist-packages (from deeppavlov) (0.28.5)\n",
            "Requirement already satisfied: nltk==3.2.5 in /usr/local/lib/python3.6/dist-packages (from deeppavlov) (3.2.5)\n",
            "Requirement already satisfied: pymorphy2-dicts<3.0,>=2.4 in /usr/local/lib/python3.6/dist-packages (from pymorphy2==0.8->deeppavlov) (2.4.393442.3710985)\n",
            "Requirement already satisfied: docopt>=0.6 in /usr/local/lib/python3.6/dist-packages (from pymorphy2==0.8->deeppavlov) (0.6.2)\n",
            "Requirement already satisfied: dawg-python>=0.7 in /usr/local/lib/python3.6/dist-packages (from pymorphy2==0.8->deeppavlov) (0.7.2)\n",
            "Requirement already satisfied: Six in /usr/local/lib/python3.6/dist-packages (from flask-cors==3.0.6->deeppavlov) (1.12.0)\n",
            "Requirement already satisfied: cryptography>=2.2.1 in /usr/local/lib/python3.6/dist-packages (from pyopenssl==18.0.0->deeppavlov) (2.7)\n",
            "Requirement already satisfied: jsonschema>=2.5.1 in /usr/local/lib/python3.6/dist-packages (from flasgger==0.9.1->deeppavlov) (2.6.0)\n",
            "Requirement already satisfied: mistune in /usr/local/lib/python3.6/dist-packages (from flasgger==0.9.1->deeppavlov) (0.8.4)\n",
            "Requirement already satisfied: PyYAML>=3.0 in /usr/local/lib/python3.6/dist-packages (from flasgger==0.9.1->deeppavlov) (3.13)\n",
            "Requirement already satisfied: Werkzeug>=0.14 in /usr/local/lib/python3.6/dist-packages (from flask==1.0.2->deeppavlov) (0.15.4)\n",
            "Requirement already satisfied: itsdangerous>=0.24 in /usr/local/lib/python3.6/dist-packages (from flask==1.0.2->deeppavlov) (1.1.0)\n",
            "Requirement already satisfied: click>=5.1 in /usr/local/lib/python3.6/dist-packages (from flask==1.0.2->deeppavlov) (7.0)\n",
            "Requirement already satisfied: Jinja2>=2.10 in /usr/local/lib/python3.6/dist-packages (from flask==1.0.2->deeppavlov) (2.10.1)\n",
            "Requirement already satisfied: keras-preprocessing==1.0.1 in /usr/local/lib/python3.6/dist-packages (from keras==2.2.0->deeppavlov) (1.0.1)\n",
            "Requirement already satisfied: keras-applications==1.0.2 in /usr/local/lib/python3.6/dist-packages (from keras==2.2.0->deeppavlov) (1.0.2)\n",
            "Requirement already satisfied: pytz>=2011k in /usr/local/lib/python3.6/dist-packages (from pandas==0.23.1->deeppavlov) (2018.9)\n",
            "Requirement already satisfied: python-dateutil>=2.5.0 in /usr/local/lib/python3.6/dist-packages (from pandas==0.23.1->deeppavlov) (2.5.3)\n",
            "Requirement already satisfied: chardet<3.1.0,>=3.0.2 in /usr/local/lib/python3.6/dist-packages (from requests==2.19.1->deeppavlov) (3.0.4)\n",
            "Requirement already satisfied: idna<2.8,>=2.5 in /usr/local/lib/python3.6/dist-packages (from requests==2.19.1->deeppavlov) (2.7)\n",
            "Requirement already satisfied: certifi>=2017.4.17 in /usr/local/lib/python3.6/dist-packages (from requests==2.19.1->deeppavlov) (2019.6.16)\n",
            "Requirement already satisfied: urllib3<1.24,>=1.21.1 in /usr/local/lib/python3.6/dist-packages (from requests==2.19.1->deeppavlov) (1.23)\n",
            "Requirement already satisfied: asn1crypto>=0.21.0 in /usr/local/lib/python3.6/dist-packages (from cryptography>=2.2.1->pyopenssl==18.0.0->deeppavlov) (0.24.0)\n",
            "Requirement already satisfied: cffi!=1.11.3,>=1.8 in /usr/local/lib/python3.6/dist-packages (from cryptography>=2.2.1->pyopenssl==18.0.0->deeppavlov) (1.12.3)\n",
            "Requirement already satisfied: MarkupSafe>=0.23 in /usr/local/lib/python3.6/dist-packages (from Jinja2>=2.10->flask==1.0.2->deeppavlov) (1.1.1)\n",
            "Requirement already satisfied: pycparser in /usr/local/lib/python3.6/dist-packages (from cffi!=1.11.3,>=1.8->cryptography>=2.2.1->pyopenssl==18.0.0->deeppavlov) (2.19)\n"
          ],
          "name": "stdout"
        }
      ]
    },
    {
      "cell_type": "code",
      "metadata": {
        "id": "zixRr_bIrg7D"
      },
      "source": [
        "import deeppavlov"
      ],
      "execution_count": null,
      "outputs": []
    },
    {
      "cell_type": "markdown",
      "metadata": {
        "id": "Fpr0j7hunvjn"
      },
      "source": [
        "# Hybrid goal-oriented bot"
      ]
    },
    {
      "cell_type": "markdown",
      "metadata": {
        "id": "zhr1WBeTnx9v"
      },
      "source": [
        "## General architecture"
      ]
    },
    {
      "cell_type": "markdown",
      "metadata": {
        "id": "RNQxthSyZXF2"
      },
      "source": [
        "<img src=\"https://github.com/deepmipt/dp_tutorials/blob/master/img/bot_architecture.png?raw=1\" width=\"100%\" />\n",
        "\n",
        "Typical goal-oriented dialog system consists of three modules:"
      ]
    },
    {
      "cell_type": "markdown",
      "metadata": {
        "id": "_VEbJugHn4Is"
      },
      "source": [
        "\n",
        "### 1. Natural Language Understanding\n",
        "\n",
        "is responsible \n",
        "* for detecting the whole dialogue **domain**\n",
        "  * _is it the restaurant reservation?_\n",
        "  * _is it the weather forecasting?_,\n",
        "* for detecting current user **intention**\n",
        "  * _does user say hello?_\n",
        "  * _is he/she asking the telephone number?_ and\n",
        "* for extracting **named entities** in the last user utterane \n",
        "  * _did user specify type of food?_\n",
        "  * _what date did he/she mention?_\n",
        "    \n",
        "Therefore, NLU may consist of three separate models: domain classifier, intent classifier and named entity recogniser (NER).\n",
        "  \n",
        "The NER model is also called a slot filler model. Because every output of NER can be converted to a semantic frame with slots. For example, suppose the output of the NER was the following:\n",
        "  \n",
        "  \n",
        "      Is it windy     on weekends ?\n",
        "     \n",
        "      O  O  B-SUBTYPE O  B-DATE   O\n",
        "    \n",
        "then we can also convert it to a semantic frame:\n",
        " \n",
        "     {\n",
        "        \"subtype\": \"windy\",\n",
        "        \"date\": \"weekends\"\n",
        "      }"
      ]
    },
    {
      "cell_type": "markdown",
      "metadata": {
        "id": "49nDlj1En6eD"
      },
      "source": [
        "\n",
        "      \n",
        "### 2. Dialogue Manager\n",
        "\n",
        "is responsible\n",
        " * for deciding of the next **system action**.\n",
        "   \n",
        "It is often call a dialogue policy manager module. Suppose there are  four possible system actions:\n",
        "  \n",
        "  \n",
        "    [welcome, request_place, inform_restaurant, bye]\n",
        "    \n",
        "Then on the current turn of the dialogue, the task of dialogue policy manager is to choose one of the four actions to do."
      ]
    },
    {
      "cell_type": "markdown",
      "metadata": {
        "id": "POI6xYmOn8Dd"
      },
      "source": [
        "### 3. Natural Language Generation\n",
        "\n",
        "\n",
        "is responsible for converting system action to a textual response to the user. The module can contain simple templates as well as generative models.\n",
        "\n",
        "     welcome -> \"Hello, how are you?\""
      ]
    },
    {
      "cell_type": "markdown",
      "metadata": {
        "id": "PXT_sBIXn-Nb"
      },
      "source": [
        "## Our implementation"
      ]
    },
    {
      "cell_type": "markdown",
      "metadata": {
        "id": "dQwadTQwjU9z"
      },
      "source": [
        "<img src=\"https://github.com/deepmipt/dp_tutorials/blob/master/img/bot_architecture2.png?raw=1\" width=\"100%\" />\n",
        "\n",
        "The bot we'll use will consist of the following modules. \n",
        "\n",
        "**NLU** will contain\n",
        "* a **NER model** (no domain or intent classifiers). The used NLU model is neural network based model introduced in the previous tutorial. \n",
        "\n",
        "The **Dialogue Manager** will consist of\n",
        "* **a neural network** that takes input text representation and semantic frame and classifies over all possible system actions\n",
        "\n",
        "The **NLG** module is\n",
        "* **a template-based** module that maps actions to texts\n",
        "\n",
        "<img src=\"https://github.com/deepmipt/dp_tutorials/blob/master/img/bot_architecture3.png?raw=1\" width=\"70%\" />"
      ]
    },
    {
      "cell_type": "markdown",
      "metadata": {
        "id": "O6YOmT48lfXS"
      },
      "source": [
        "## Dataset"
      ]
    },
    {
      "cell_type": "markdown",
      "metadata": {
        "id": "Uw6_w2drlrcu"
      },
      "source": [
        "**DatasetReader** is responsible for downloading dataset"
      ]
    },
    {
      "cell_type": "code",
      "metadata": {
        "id": "emH-vjpXrg7K",
        "colab": {
          "base_uri": "https://localhost:8080/",
          "height": 139
        },
        "outputId": "03a66680-0785-4a3d-f33f-4d03b31bad52"
      },
      "source": [
        "from deeppavlov.dataset_readers.dstc2_reader import DSTC2DatasetReader\n",
        "\n",
        "data = DSTC2DatasetReader().read('./dstc2')"
      ],
      "execution_count": null,
      "outputs": [
        {
          "output_type": "stream",
          "text": [
            "2019-07-03 11:59:11.757 INFO in 'deeppavlov.dataset_readers.dstc2_reader'['dstc2_reader'] at line 112: [loading dialogs from dstc2/dstc2-trn.jsonlist]\n",
            "I0703 11:59:11.757528 140715737319296 dstc2_reader.py:112] [loading dialogs from dstc2/dstc2-trn.jsonlist]\n",
            "2019-07-03 11:59:12.12 INFO in 'deeppavlov.dataset_readers.dstc2_reader'['dstc2_reader'] at line 112: [loading dialogs from dstc2/dstc2-val.jsonlist]\n",
            "I0703 11:59:12.012632 140715737319296 dstc2_reader.py:112] [loading dialogs from dstc2/dstc2-val.jsonlist]\n",
            "2019-07-03 11:59:12.181 INFO in 'deeppavlov.dataset_readers.dstc2_reader'['dstc2_reader'] at line 112: [loading dialogs from dstc2/dstc2-tst.jsonlist]\n",
            "I0703 11:59:12.181758 140715737319296 dstc2_reader.py:112] [loading dialogs from dstc2/dstc2-tst.jsonlist]\n"
          ],
          "name": "stderr"
        }
      ]
    },
    {
      "cell_type": "markdown",
      "metadata": {
        "id": "xTwdYT8yl13C"
      },
      "source": [
        "DSTC2 (Dialogue State Tracking Challenge 2) data is now\n",
        "\n",
        "* downloaded from web\n",
        "* saved to ./dstc2"
      ]
    },
    {
      "cell_type": "code",
      "metadata": {
        "id": "4BQR2SC9rg7Y",
        "colab": {
          "base_uri": "https://localhost:8080/",
          "height": 68
        },
        "outputId": "54c451ae-2507-4c88-fe40-1110a1ca071e"
      },
      "source": [
        "data['train'][1]"
      ],
      "execution_count": null,
      "outputs": [
        {
          "output_type": "execute_result",
          "data": {
            "text/plain": [
              "({'intents': [{'act': 'inform', 'slots': [['pricerange', 'cheap']]}],\n",
              "  'text': 'cheap restaurant'},\n",
              " {'act': 'request_food', 'text': 'What kind of food would you like?'})"
            ]
          },
          "metadata": {
            "tags": []
          },
          "execution_count": 51
        }
      ]
    },
    {
      "cell_type": "markdown",
      "metadata": {
        "id": "ZPyo3tJxmJGJ"
      },
      "source": [
        "**DatasetIterator** is responsible for generating batches \n",
        "\n"
      ]
    },
    {
      "cell_type": "code",
      "metadata": {
        "id": "B10WQMwNrg7i"
      },
      "source": [
        "from overrides import overrides\n",
        "\n",
        "from deeppavlov.core.common.registry import register\n",
        "from deeppavlov.core.data.data_learning_iterator import DataLearningIterator\n",
        "\n",
        "\n",
        "@register('my_dialog_iterator')\n",
        "class MyDialogDatasetIterator(DataLearningIterator):\n",
        "\n",
        "    @staticmethod\n",
        "    def _dialogs(data):\n",
        "        dialogs = []\n",
        "        prev_resp_act = None\n",
        "        for x, y in data:\n",
        "            if x.get('episode_done'):\n",
        "                del x['episode_done']\n",
        "                prev_resp_act = None\n",
        "                dialogs.append(([], []))\n",
        "            x['prev_resp_act'] = prev_resp_act\n",
        "            prev_resp_act = y['act']\n",
        "            dialogs[-1][0].append(x)\n",
        "            dialogs[-1][1].append(y)\n",
        "        return dialogs\n",
        "\n",
        "    @overrides\n",
        "    def split(self, *args, **kwargs):\n",
        "        self.train = self._dialogs(self.train)\n",
        "        self.valid = self._dialogs(self.valid)\n",
        "        self.test = self._dialogs(self.test)"
      ],
      "execution_count": null,
      "outputs": []
    },
    {
      "cell_type": "code",
      "metadata": {
        "id": "0UUq1N5lrg7w",
        "colab": {
          "base_uri": "https://localhost:8080/",
          "height": 510
        },
        "outputId": "7ab673ec-3dd5-4ec9-deb9-81b9203e3f59"
      },
      "source": [
        "iterator = MyDialogDatasetIterator(data)\n",
        "\n",
        "x_dialog, y_dialog = iterator.train[0]\n",
        "x_dialog"
      ],
      "execution_count": null,
      "outputs": [
        {
          "output_type": "execute_result",
          "data": {
            "text/plain": [
              "[{'intents': [], 'prev_resp_act': None, 'text': ''},\n",
              " {'intents': [{'act': 'inform', 'slots': [['pricerange', 'cheap']]}],\n",
              "  'prev_resp_act': 'welcomemsg',\n",
              "  'text': 'cheap restaurant'},\n",
              " {'intents': [{'act': 'inform', 'slots': [['this', 'dontcare']]}],\n",
              "  'prev_resp_act': 'request_food',\n",
              "  'text': 'any'},\n",
              " {'intents': [{'act': 'inform', 'slots': [['area', 'south']]}],\n",
              "  'prev_resp_act': 'request_area',\n",
              "  'text': 'south'},\n",
              " {'db_result': {'addr': 'cambridge leisure park clifton way cherry hinton',\n",
              "   'area': 'south',\n",
              "   'food': 'chinese',\n",
              "   'name': 'the lucky star',\n",
              "   'phone': '01223 244277',\n",
              "   'postcode': 'c.b 1, 7 d.y',\n",
              "   'pricerange': 'cheap'},\n",
              "  'intents': [{'act': 'inform', 'slots': [['area', 'south']]}],\n",
              "  'prev_resp_act': 'api_call',\n",
              "  'text': 'south'},\n",
              " {'intents': [{'act': 'request', 'slots': [['slot', 'addr']]}],\n",
              "  'prev_resp_act': 'inform_area+inform_food+offer_name',\n",
              "  'text': 'address'},\n",
              " {'intents': [{'act': 'request', 'slots': [['slot', 'phone']]}],\n",
              "  'prev_resp_act': 'inform_addr+offer_name',\n",
              "  'text': 'phone number'},\n",
              " {'intents': [{'act': 'thankyou', 'slots': []}, {'act': 'bye', 'slots': []}],\n",
              "  'prev_resp_act': 'inform_phone+offer_name',\n",
              "  'text': 'thank you good bye'}]"
            ]
          },
          "metadata": {
            "tags": []
          },
          "execution_count": 53
        }
      ]
    },
    {
      "cell_type": "code",
      "metadata": {
        "id": "0XgDJgbxrg79",
        "colab": {
          "base_uri": "https://localhost:8080/",
          "height": 68
        },
        "outputId": "f27b4c08-828b-4a44-cf81-74a49b2ff999"
      },
      "source": [
        "x_dialog[1]"
      ],
      "execution_count": null,
      "outputs": [
        {
          "output_type": "execute_result",
          "data": {
            "text/plain": [
              "{'intents': [{'act': 'inform', 'slots': [['pricerange', 'cheap']]}],\n",
              " 'prev_resp_act': 'welcomemsg',\n",
              " 'text': 'cheap restaurant'}"
            ]
          },
          "metadata": {
            "tags": []
          },
          "execution_count": 54
        }
      ]
    },
    {
      "cell_type": "code",
      "metadata": {
        "id": "C3C6XNUErg8F",
        "colab": {
          "base_uri": "https://localhost:8080/",
          "height": 34
        },
        "outputId": "9abf33bf-c4e3-40d9-a3b9-cd0445d507ee"
      },
      "source": [
        "y_dialog[1]"
      ],
      "execution_count": null,
      "outputs": [
        {
          "output_type": "execute_result",
          "data": {
            "text/plain": [
              "{'act': 'request_food', 'text': 'What kind of food would you like?'}"
            ]
          },
          "metadata": {
            "tags": []
          },
          "execution_count": 55
        }
      ]
    },
    {
      "cell_type": "markdown",
      "metadata": {
        "id": "o75ecmkEoDFf"
      },
      "source": [
        "## Using pretrained bot from deeppavlov"
      ]
    },
    {
      "cell_type": "code",
      "metadata": {
        "id": "AYWO8s67oIs9",
        "colab": {
          "base_uri": "https://localhost:8080/",
          "height": 649
        },
        "outputId": "fd18fb85-6c17-442e-8f4e-0f5d7b5202d2"
      },
      "source": [
        "from deeppavlov import configs, build_model\n",
        "\n",
        "\n",
        "bot = build_model(configs.go_bot.gobot_dstc2, download=True)"
      ],
      "execution_count": null,
      "outputs": [
        {
          "output_type": "stream",
          "text": [
            "2019-07-03 11:59:14.173 INFO in 'deeppavlov.download'['download'] at line 116: Skipped http://files.deeppavlov.ai/datasets/dstc2_v2.tar.gz download because of matching hashes\n",
            "I0703 11:59:14.173046 140715737319296 download.py:116] Skipped http://files.deeppavlov.ai/datasets/dstc2_v2.tar.gz download because of matching hashes\n",
            "2019-07-03 11:59:14.453 INFO in 'deeppavlov.download'['download'] at line 116: Skipped http://files.deeppavlov.ai/deeppavlov_data/gobot_dstc2_v7.tar.gz download because of matching hashes\n",
            "I0703 11:59:14.453521 140715737319296 download.py:116] Skipped http://files.deeppavlov.ai/deeppavlov_data/gobot_dstc2_v7.tar.gz download because of matching hashes\n",
            "2019-07-03 11:59:14.732 INFO in 'deeppavlov.download'['download'] at line 116: Skipped http://files.deeppavlov.ai/deeppavlov_data/slotfill_dstc2.tar.gz download because of matching hashes\n",
            "I0703 11:59:14.732654 140715737319296 download.py:116] Skipped http://files.deeppavlov.ai/deeppavlov_data/slotfill_dstc2.tar.gz download because of matching hashes\n",
            "2019-07-03 11:59:15.745 INFO in 'deeppavlov.download'['download'] at line 116: Skipped http://files.deeppavlov.ai/embeddings/glove.6B.100d.txt download because of matching hashes\n",
            "I0703 11:59:15.745451 140715737319296 download.py:116] Skipped http://files.deeppavlov.ai/embeddings/glove.6B.100d.txt download because of matching hashes\n",
            "2019-07-03 11:59:15.748 INFO in 'deeppavlov.core.data.simple_vocab'['simple_vocab'] at line 103: [loading vocabulary from /root/.deeppavlov/models/gobot_dstc2/word.dict]\n",
            "I0703 11:59:15.748665 140715737319296 simple_vocab.py:103] [loading vocabulary from /root/.deeppavlov/models/gobot_dstc2/word.dict]\n",
            "2019-07-03 11:59:15.760 WARNING in 'deeppavlov.core.models.serializable'['serializable'] at line 47: No load path is set for Sqlite3Database in 'infer' mode. Using save path instead\n",
            "W0703 11:59:15.760544 140715737319296 serializable.py:47] No load path is set for Sqlite3Database in 'infer' mode. Using save path instead\n",
            "2019-07-03 11:59:15.777 INFO in 'deeppavlov.core.data.sqlite_database'['sqlite_database'] at line 63: Loading database from /root/.deeppavlov/downloads/dstc2/resto.sqlite.\n",
            "I0703 11:59:15.777377 140715737319296 sqlite_database.py:63] Loading database from /root/.deeppavlov/downloads/dstc2/resto.sqlite.\n",
            "2019-07-03 11:59:15.788 INFO in 'deeppavlov.core.data.simple_vocab'['simple_vocab'] at line 103: [loading vocabulary from /root/.deeppavlov/models/slotfill_dstc2/word.dict]\n",
            "I0703 11:59:15.788120 140715737319296 simple_vocab.py:103] [loading vocabulary from /root/.deeppavlov/models/slotfill_dstc2/word.dict]\n",
            "2019-07-03 11:59:15.798 INFO in 'deeppavlov.core.data.simple_vocab'['simple_vocab'] at line 103: [loading vocabulary from /root/.deeppavlov/models/slotfill_dstc2/tag.dict]\n",
            "I0703 11:59:15.798918 140715737319296 simple_vocab.py:103] [loading vocabulary from /root/.deeppavlov/models/slotfill_dstc2/tag.dict]\n",
            "2019-07-03 11:59:16.857 INFO in 'deeppavlov.core.models.tf_model'['tf_model'] at line 52: [loading model from /root/.deeppavlov/models/slotfill_dstc2/model]\n",
            "I0703 11:59:16.857742 140715737319296 tf_model.py:52] [loading model from /root/.deeppavlov/models/slotfill_dstc2/model]\n",
            "2019-07-03 11:59:16.949 INFO in 'deeppavlov.models.embedders.glove_embedder'['glove_embedder'] at line 52: [loading GloVe embeddings from `/root/.deeppavlov/downloads/embeddings/glove.6B.100d.txt`]\n",
            "I0703 11:59:16.949145 140715737319296 glove_embedder.py:52] [loading GloVe embeddings from `/root/.deeppavlov/downloads/embeddings/glove.6B.100d.txt`]\n",
            "/usr/local/lib/python3.6/dist-packages/smart_open/smart_open_lib.py:398: UserWarning: This function is deprecated, use smart_open.open instead. See the migration notes for details: https://github.com/RaRe-Technologies/smart_open/blob/master/README.rst#migrating-to-the-new-open-function\n",
            "  'See the migration notes for details: %s' % _MIGRATION_NOTES_URL\n",
            "2019-07-03 11:59:58.863 INFO in 'deeppavlov.models.go_bot.network'['network'] at line 160: [loading templates from /root/.deeppavlov/downloads/dstc2/dstc2-templates.txt]\n",
            "I0703 11:59:58.863335 140715737319296 network.py:160] [loading templates from /root/.deeppavlov/downloads/dstc2/dstc2-templates.txt]\n",
            "2019-07-03 11:59:58.865 INFO in 'deeppavlov.models.go_bot.network'['network'] at line 163: 46 templates loaded\n",
            "I0703 11:59:58.865740 140715737319296 network.py:163] 46 templates loaded\n",
            "2019-07-03 11:59:58.872 INFO in 'deeppavlov.models.go_bot.network'['network'] at line 202: Calculated input size for `GoalOrientedBotNetwork` is 611\n",
            "I0703 11:59:58.872120 140715737319296 network.py:202] Calculated input size for `GoalOrientedBotNetwork` is 611\n",
            "2019-07-03 11:59:59.792 INFO in 'deeppavlov.models.go_bot.network'['network'] at line 240: [initializing `GoalOrientedBot` from saved]\n",
            "I0703 11:59:59.792879 140715737319296 network.py:240] [initializing `GoalOrientedBot` from saved]\n",
            "2019-07-03 11:59:59.795 INFO in 'deeppavlov.models.go_bot.network'['network'] at line 707: [loading parameters from /root/.deeppavlov/models/gobot_dstc2/model.json]\n",
            "I0703 11:59:59.795361 140715737319296 network.py:707] [loading parameters from /root/.deeppavlov/models/gobot_dstc2/model.json]\n",
            "2019-07-03 11:59:59.817 INFO in 'deeppavlov.core.models.tf_model'['tf_model'] at line 52: [loading model from /root/.deeppavlov/models/gobot_dstc2/model]\n",
            "I0703 11:59:59.817157 140715737319296 tf_model.py:52] [loading model from /root/.deeppavlov/models/gobot_dstc2/model]\n"
          ],
          "name": "stderr"
        }
      ]
    },
    {
      "cell_type": "code",
      "metadata": {
        "id": "aaj-OxZdoUWZ",
        "colab": {
          "base_uri": "https://localhost:8080/",
          "height": 68
        },
        "outputId": "2777a8df-35d4-4804-b333-364d2555efd3"
      },
      "source": [
        "bot(['hi, i want some food'])"
      ],
      "execution_count": null,
      "outputs": [
        {
          "output_type": "stream",
          "text": [
            "2019-07-03 12:00:00.25 INFO in 'deeppavlov.models.go_bot.network'['network'] at line 472: Made api_call with {}, got 109 results.\n",
            "I0703 12:00:00.025747 140715737319296 network.py:472] Made api_call with {}, got 109 results.\n"
          ],
          "name": "stderr"
        },
        {
          "output_type": "execute_result",
          "data": {
            "text/plain": [
              "['The lucky star serves chinese food.']"
            ]
          },
          "metadata": {
            "tags": []
          },
          "execution_count": 57
        }
      ]
    },
    {
      "cell_type": "code",
      "metadata": {
        "id": "mihR2UVpoYxU",
        "colab": {
          "base_uri": "https://localhost:8080/",
          "height": 88
        },
        "outputId": "d9de26e9-4c89-4760-ca35-99675af7dabb"
      },
      "source": [
        "bot(['I would like indian food instead'])"
      ],
      "execution_count": null,
      "outputs": [
        {
          "output_type": "stream",
          "text": [
            "2019-07-03 12:00:00.108 INFO in 'deeppavlov.models.go_bot.network'['network'] at line 472: Made api_call with {'food': 'indian'}, got 22 results.\n",
            "I0703 12:00:00.108196 140715737319296 network.py:472] Made api_call with {'food': 'indian'}, got 22 results.\n"
          ],
          "name": "stderr"
        },
        {
          "output_type": "execute_result",
          "data": {
            "text/plain": [
              "['Cocum serves indian food.']"
            ]
          },
          "metadata": {
            "tags": []
          },
          "execution_count": 58
        }
      ]
    },
    {
      "cell_type": "code",
      "metadata": {
        "id": "tORB_wbLob9x"
      },
      "source": [
        "# reset dialogue context\n",
        "bot.reset()"
      ],
      "execution_count": null,
      "outputs": []
    },
    {
      "cell_type": "markdown",
      "metadata": {
        "id": "6t8JVsPlrg8S"
      },
      "source": [
        "## Training bot"
      ]
    },
    {
      "cell_type": "markdown",
      "metadata": {
        "id": "KgpW06VkqaOR"
      },
      "source": [
        "To train a model in the deeppavlov library, you have to create it' **config file**.\n",
        "\n",
        "Main section of the file are:\n",
        "\n",
        "* dataset_reader\n",
        " * configuration of dataset reader component \n",
        "* data\n",
        " * download and saving to disk\n",
        "* dataset_iterator\n",
        " * configuration of dataset iterator component generator of batches\n",
        "* metadata\n",
        " * extra info \n",
        " * urls for extra data download\n",
        " * telegram configuration\n",
        "*train\n",
        " * training process configuration\n",
        " * size of batches\n",
        " * number of training epochs\n",
        "*chainer\n",
        " * specifies data flow\n",
        " * which components are run and in what order\n"
      ]
    },
    {
      "cell_type": "markdown",
      "metadata": {
        "id": "m0U20bi6rj-h"
      },
      "source": [
        "**chainer** consists of separate **Components**, which are independent classes that perform independent chunks of a model pipeline.\n",
        "\n",
        "Our Components will be:\n",
        "  \n",
        "* a tokenizer that splits texts to separate words (or tokens)"
      ]
    },
    {
      "cell_type": "code",
      "metadata": {
        "id": "XCJDUFRxrMCF"
      },
      "source": [
        "tokenizer = {\n",
        "    \"class_name\": \"deeppavlov.models.go_bot.wrapper:DialogComponentWrapper\",\n",
        "    \"component\": { \"class_name\": \"split_tokenizer\" },\n",
        "    \"in\": [\"x\"],\n",
        "    \"out\": [\"x_tokens\"]\n",
        "}"
      ],
      "execution_count": null,
      "outputs": []
    },
    {
      "cell_type": "markdown",
      "metadata": {
        "id": "lo1X2s31ro8p"
      },
      "source": [
        "* a vocabulary of all words from the dataset (it's main goal is to convert tokens to indeces)"
      ]
    },
    {
      "cell_type": "code",
      "metadata": {
        "id": "kEdrdc1arw5K"
      },
      "source": [
        "token_vocabulary = {\n",
        "    \"id\": \"token_vocab\",\n",
        "    \"class_name\": \"simple_vocab\",\n",
        "    \"fit_on\": [\"x_tokens\"],\n",
        "    \"save_path\": \"{MODELS_PATH}/my_gobot/token.dict\",\n",
        "    \"load_path\": \"{MODELS_PATH}/my_gobot/token.dict\"\n",
        "}"
      ],
      "execution_count": null,
      "outputs": []
    },
    {
      "cell_type": "markdown",
      "metadata": {
        "id": "8eGYbFDssdgp"
      },
      "source": [
        "* a dialogue policy neural network with templates"
      ]
    },
    {
      "cell_type": "code",
      "metadata": {
        "id": "kI3X0lnOrg8V",
        "colab": {
          "base_uri": "https://localhost:8080/",
          "height": 130
        },
        "outputId": "60792887-b2eb-477f-b471-eeeaca98e1c6"
      },
      "source": [
        "network = {\n",
        "    \"in\": [\"x\"],\n",
        "    \"in_y\": [\"y\"],\n",
        "    \"out\": [\"y_predicted\"],\n",
        "    \"main\": True,\n",
        "    \"class_name\": \"go_bot\",\n",
        "    \"load_path\": \"{MODELS_PATH}/my_gobot/model\",\n",
        "    \"save_path\": \"{MODELS_PATH}/my_gobot/model\",\n",
        "    \"debug\": False,\n",
        "    \"word_vocab\": \"#token_vocab\",\n",
        "    \"template_path\": \"{DOWNLOADS_PATH}/dstc2/dstc2-templates.txt\",\n",
        "    \"template_type\": \"DualTemplate\",\n",
        "    \"api_call_action\": \"api_call\",\n",
        "    \"use_action_mask\": False,\n",
        "    \"network_parameters\": {\n",
        "      \"learning_rate\": 0.005,\n",
        "      \"dropout_rate\": 0.5,\n",
        "      \"l2_reg_coef\": 7e-4,\n",
        "      \"hidden_size\": 128,\n",
        "      \"dense_size\": 160\n",
        "    },\n",
        "    \"slot_filler\": None,\n",
        "    \"intent_classifier\": None,\n",
        "    \"embedder\": None,\n",
        "    \"bow_embedder\": {\n",
        "      \"class_name\": \"bow\",\n",
        "      \"depth\": \"#token_vocab.__len__()\",\n",
        "      \"with_counts\": True\n",
        "    },\n",
        "    \"slot_filler\": {\n",
        "      \"config_path\": \"{DEEPPAVLOV_PATH}/configs/ner/slotfill_dstc2.json\"\n",
        "    }\n",
        "    \"tokenizer\": {\n",
        "      \"class_name\": \"stream_spacy_tokenizer\",\n",
        "      \"lowercase\": False\n",
        "    },\n",
        "    \"tracker\": {\n",
        "      \"class_name\": \"featurized_tracker\",\n",
        "      \"slot_names\": [\"pricerange\", \"this\", \"area\", \"food\", \"name\"]\n",
        "    }\n",
        "}"
      ],
      "execution_count": null,
      "outputs": [
        {
          "output_type": "error",
          "ename": "SyntaxError",
          "evalue": "ignored",
          "traceback": [
            "\u001b[0;36m  File \u001b[0;32m\"<ipython-input-67-646414bd87df>\"\u001b[0;36m, line \u001b[0;32m33\u001b[0m\n\u001b[0;31m    \"tokenizer\": {\u001b[0m\n\u001b[0m              ^\u001b[0m\n\u001b[0;31mSyntaxError\u001b[0m\u001b[0;31m:\u001b[0m invalid syntax\n"
          ]
        }
      ]
    },
    {
      "cell_type": "markdown",
      "metadata": {
        "id": "Pv46C3r-r5aa"
      },
      "source": [
        "As you can see important parameters of a **Component** are:\n",
        "\n",
        "* name\n",
        " * registered name of the component\n",
        " * *it is a link to python component implementation*\n",
        "* save_path\n",
        " * path to save the component\n",
        " * *sometimes is optional, for example, for tokenizers*\n",
        "* load_path\n",
        " * path to load the component \n",
        " * *sometimes is optional, for example, for tokenizers*"
      ]
    },
    {
      "cell_type": "markdown",
      "metadata": {
        "id": "vh5a9y35tj9c"
      },
      "source": [
        "#### NER model\n",
        "\n",
        "We will also use a pretrained NER model:"
      ]
    },
    {
      "cell_type": "code",
      "metadata": {
        "id": "LY42pedgtHGS",
        "colab": {
          "base_uri": "https://localhost:8080/",
          "height": 190
        },
        "outputId": "6ee0bbbe-6787-4fd8-e894-2b7a67798e0e"
      },
      "source": [
        "ner_model = build_model(deeppavlov.configs.ner.slotfill_dstc2, download=True)\n",
        "\n",
        "ner_model(['i want cheap food in chinese reastaurant in the south of town'])"
      ],
      "execution_count": null,
      "outputs": [
        {
          "output_type": "stream",
          "text": [
            "2019-07-03 12:03:30.527 INFO in 'deeppavlov.download'['download'] at line 116: Skipped http://files.deeppavlov.ai/deeppavlov_data/slotfill_dstc2.tar.gz download because of matching hashes\n",
            "I0703 12:03:30.527128 140715737319296 download.py:116] Skipped http://files.deeppavlov.ai/deeppavlov_data/slotfill_dstc2.tar.gz download because of matching hashes\n",
            "2019-07-03 12:03:30.535 INFO in 'deeppavlov.core.data.simple_vocab'['simple_vocab'] at line 103: [loading vocabulary from /root/.deeppavlov/models/slotfill_dstc2/word.dict]\n",
            "I0703 12:03:30.535531 140715737319296 simple_vocab.py:103] [loading vocabulary from /root/.deeppavlov/models/slotfill_dstc2/word.dict]\n",
            "2019-07-03 12:03:30.544 INFO in 'deeppavlov.core.data.simple_vocab'['simple_vocab'] at line 103: [loading vocabulary from /root/.deeppavlov/models/slotfill_dstc2/tag.dict]\n",
            "I0703 12:03:30.544561 140715737319296 simple_vocab.py:103] [loading vocabulary from /root/.deeppavlov/models/slotfill_dstc2/tag.dict]\n",
            "2019-07-03 12:03:31.583 INFO in 'deeppavlov.core.models.tf_model'['tf_model'] at line 52: [loading model from /root/.deeppavlov/models/slotfill_dstc2/model]\n",
            "I0703 12:03:31.583487 140715737319296 tf_model.py:52] [loading model from /root/.deeppavlov/models/slotfill_dstc2/model]\n"
          ],
          "name": "stderr"
        },
        {
          "output_type": "execute_result",
          "data": {
            "text/plain": [
              "[{'area': 'south', 'food': 'chinese', 'pricerange': 'cheap'}]"
            ]
          },
          "metadata": {
            "tags": []
          },
          "execution_count": 68
        }
      ]
    },
    {
      "cell_type": "code",
      "metadata": {
        "id": "j22g1mL-rhAE"
      },
      "source": [
        "# free memory\n",
        "del ner_model"
      ],
      "execution_count": null,
      "outputs": []
    },
    {
      "cell_type": "markdown",
      "metadata": {
        "id": "OzX5kwn2tnlg"
      },
      "source": [
        "### Full pipeline config"
      ]
    },
    {
      "cell_type": "code",
      "metadata": {
        "id": "l4dRcSeLso5k"
      },
      "source": [
        "basic_config = {\n",
        "  \"dataset_reader\": {\n",
        "    \"class_name\": \"dstc2_reader\",\n",
        "    \"data_path\": \"{DOWNLOADS_PATH}/dstc2\"\n",
        "  },\n",
        "  \"dataset_iterator\": {\n",
        "    \"class_name\": \"my_dialog_iterator\"\n",
        "  },\n",
        "  \"chainer\": {\n",
        "    \"in\": [\"x\"],\n",
        "    \"in_y\": [\"y\"],\n",
        "    \"out\": [\"y_predicted\"],\n",
        "    \"pipe\": [\n",
        "        tokenizer,\n",
        "        token_vocabulary,\n",
        "        network\n",
        "    ]\n",
        "  },\n",
        "  \"train\": {\n",
        "    \"epochs\": 200,\n",
        "    \"batch_size\": 4,\n",
        "\n",
        "    \"metrics\": [\"per_item_dialog_accuracy\"],\n",
        "    \"validation_patience\": 10,\n",
        "    \n",
        "    \"val_every_n_batches\": 15,\n",
        "    \"val_every_n_epochs\": -1,\n",
        "\n",
        "    \"log_every_n_batches\": 15,\n",
        "    \"log_every_n_epochs\": -1,\n",
        "    \"show_examples\": False,\n",
        "    \"validate_best\": True,\n",
        "    \"test_best\": True\n",
        "  },\n",
        "  \"metadata\": {\n",
        "    \"variables\": {\n",
        "      \"ROOT_PATH\": \"~/.deeppavlov\",\n",
        "      \"DOWNLOADS_PATH\": \"{ROOT_PATH}/downloads\",\n",
        "      \"MODELS_PATH\": \"./models\",\n",
        "      \"CONFIGS_PATH\": \"./configs\"\n",
        "    },\n",
        "    \"requirements\": [\n",
        "      \"{DEEPPAVLOV_PATH}/requirements/tf.txt\",\n",
        "      \"{DEEPPAVLOV_PATH}/requirements/fasttext.txt\",\n",
        "      \"{DEEPPAVLOV_PATH}/requirements/spacy.txt\",\n",
        "      \"{DEEPPAVLOV_PATH}/requirements/en_core_web_sm.txt\"\n",
        "    ],\n",
        "    \"labels\": {\n",
        "      \"telegram_utils\": \"GoalOrientedBot\",\n",
        "      \"server_utils\": \"GoalOrientedBot\"\n",
        "    },\n",
        "    \"download\": [\n",
        "      {\n",
        "        \"url\": \"http://files.deeppavlov.ai/datasets/dstc2_v2.tar.gz\",\n",
        "        \"subdir\": \"{DOWNLOADS_PATH}/dstc2\"\n",
        "      }\n",
        "    ]\n",
        "  }\n",
        "}"
      ],
      "execution_count": null,
      "outputs": []
    },
    {
      "cell_type": "code",
      "metadata": {
        "id": "H-urFF10rg8e"
      },
      "source": [
        "from deeppavlov import train_model, build_model"
      ],
      "execution_count": null,
      "outputs": []
    },
    {
      "cell_type": "code",
      "metadata": {
        "id": "jQAJR7Pfrg8k",
        "colab": {
          "base_uri": "https://localhost:8080/",
          "height": 1000
        },
        "outputId": "7da6734a-2e9e-4d91-affb-cfdc5470ff16"
      },
      "source": [
        "bot = train_model(basic_config, download=True)"
      ],
      "execution_count": null,
      "outputs": [
        {
          "output_type": "stream",
          "text": [
            "2019-07-03 12:03:42.928 INFO in 'deeppavlov.download'['download'] at line 116: Skipped http://files.deeppavlov.ai/datasets/dstc2_v2.tar.gz download because of matching hashes\n",
            "I0703 12:03:42.928655 140715737319296 download.py:116] Skipped http://files.deeppavlov.ai/datasets/dstc2_v2.tar.gz download because of matching hashes\n",
            "2019-07-03 12:03:42.932 INFO in 'deeppavlov.dataset_readers.dstc2_reader'['dstc2_reader'] at line 112: [loading dialogs from /root/.deeppavlov/downloads/dstc2/dstc2-trn.jsonlist]\n",
            "I0703 12:03:42.932081 140715737319296 dstc2_reader.py:112] [loading dialogs from /root/.deeppavlov/downloads/dstc2/dstc2-trn.jsonlist]\n",
            "2019-07-03 12:03:43.193 INFO in 'deeppavlov.dataset_readers.dstc2_reader'['dstc2_reader'] at line 112: [loading dialogs from /root/.deeppavlov/downloads/dstc2/dstc2-val.jsonlist]\n",
            "I0703 12:03:43.193427 140715737319296 dstc2_reader.py:112] [loading dialogs from /root/.deeppavlov/downloads/dstc2/dstc2-val.jsonlist]\n",
            "2019-07-03 12:03:43.375 INFO in 'deeppavlov.dataset_readers.dstc2_reader'['dstc2_reader'] at line 112: [loading dialogs from /root/.deeppavlov/downloads/dstc2/dstc2-tst.jsonlist]\n",
            "I0703 12:03:43.375933 140715737319296 dstc2_reader.py:112] [loading dialogs from /root/.deeppavlov/downloads/dstc2/dstc2-tst.jsonlist]\n",
            "2019-07-03 12:03:43.598 WARNING in 'deeppavlov.core.commands.train'['train'] at line 108: \"validate_best\" and \"test_best\" parameters are deprecated. Please, use \"evaluation_targets\" list instead\n",
            "W0703 12:03:43.598298 140715737319296 train.py:108] \"validate_best\" and \"test_best\" parameters are deprecated. Please, use \"evaluation_targets\" list instead\n",
            "2019-07-03 12:03:44.831 INFO in 'deeppavlov.core.data.simple_vocab'['simple_vocab'] at line 89: [saving vocabulary to /content/models/my_gobot/token.dict]\n",
            "I0703 12:03:44.831736 140715737319296 simple_vocab.py:89] [saving vocabulary to /content/models/my_gobot/token.dict]\n",
            "2019-07-03 12:03:45.7 INFO in 'deeppavlov.models.go_bot.network'['network'] at line 160: [loading templates from /root/.deeppavlov/downloads/dstc2/dstc2-templates.txt]\n",
            "I0703 12:03:45.007610 140715737319296 network.py:160] [loading templates from /root/.deeppavlov/downloads/dstc2/dstc2-templates.txt]\n",
            "2019-07-03 12:03:45.10 INFO in 'deeppavlov.models.go_bot.network'['network'] at line 163: 46 templates loaded\n",
            "I0703 12:03:45.010494 140715737319296 network.py:163] 46 templates loaded\n",
            "2019-07-03 12:03:45.12 INFO in 'deeppavlov.models.go_bot.network'['network'] at line 202: Calculated input size for `GoalOrientedBotNetwork` is 496\n",
            "I0703 12:03:45.012572 140715737319296 network.py:202] Calculated input size for `GoalOrientedBotNetwork` is 496\n",
            "2019-07-03 12:03:45.865 INFO in 'deeppavlov.models.go_bot.network'['network'] at line 243: [initializing `GoalOrientedBot` from scratch]\n",
            "I0703 12:03:45.865493 140715737319296 network.py:243] [initializing `GoalOrientedBot` from scratch]\n",
            "2019-07-03 12:03:57.948 INFO in 'deeppavlov.core.trainers.nn_trainer'['nn_trainer'] at line 164: New best per_item_dialog_accuracy of 0.0035\n",
            "I0703 12:03:57.948848 140715737319296 nn_trainer.py:164] New best per_item_dialog_accuracy of 0.0035\n",
            "2019-07-03 12:03:57.951 INFO in 'deeppavlov.core.trainers.nn_trainer'['nn_trainer'] at line 166: Saving model\n",
            "I0703 12:03:57.951138 140715737319296 nn_trainer.py:166] Saving model\n",
            "2019-07-03 12:03:57.956 INFO in 'deeppavlov.core.models.tf_model'['tf_model'] at line 76: [saving model to /content/models/my_gobot/model]\n",
            "I0703 12:03:57.956223 140715737319296 tf_model.py:76] [saving model to /content/models/my_gobot/model]\n",
            "2019-07-03 12:03:58.115 INFO in 'deeppavlov.models.go_bot.network'['network'] at line 701: [saving parameters to /content/models/my_gobot/model.json]\n",
            "I0703 12:03:58.115572 140715737319296 network.py:701] [saving parameters to /content/models/my_gobot/model.json]\n"
          ],
          "name": "stderr"
        },
        {
          "output_type": "stream",
          "text": [
            "{\"valid\": {\"eval_examples_count\": 575, \"metrics\": {\"per_item_dialog_accuracy\": 0.0035}, \"time_spent\": \"0:00:13\", \"epochs_done\": 0, \"batches_seen\": 0, \"train_examples_seen\": 0, \"impatience\": 0, \"patience_limit\": 10}}\n",
            "{\"train\": {\"eval_examples_count\": 4, \"metrics\": {\"per_item_dialog_accuracy\": 0.1935}, \"time_spent\": \"0:00:14\", \"epochs_done\": 0, \"batches_seen\": 15, \"train_examples_seen\": 60, \"learning_rate\": 0.005, \"momentum\": null, \"loss\": 2.0850544850031536}}\n"
          ],
          "name": "stdout"
        },
        {
          "output_type": "stream",
          "text": [
            "2019-07-03 12:04:11.327 INFO in 'deeppavlov.core.trainers.nn_trainer'['nn_trainer'] at line 164: New best per_item_dialog_accuracy of 0.1643\n",
            "I0703 12:04:11.327934 140715737319296 nn_trainer.py:164] New best per_item_dialog_accuracy of 0.1643\n",
            "2019-07-03 12:04:11.330 INFO in 'deeppavlov.core.trainers.nn_trainer'['nn_trainer'] at line 166: Saving model\n",
            "I0703 12:04:11.330149 140715737319296 nn_trainer.py:166] Saving model\n",
            "2019-07-03 12:04:11.336 INFO in 'deeppavlov.core.models.tf_model'['tf_model'] at line 76: [saving model to /content/models/my_gobot/model]\n",
            "I0703 12:04:11.336540 140715737319296 tf_model.py:76] [saving model to /content/models/my_gobot/model]\n",
            "2019-07-03 12:04:11.496 INFO in 'deeppavlov.models.go_bot.network'['network'] at line 701: [saving parameters to /content/models/my_gobot/model.json]\n",
            "I0703 12:04:11.496610 140715737319296 network.py:701] [saving parameters to /content/models/my_gobot/model.json]\n"
          ],
          "name": "stderr"
        },
        {
          "output_type": "stream",
          "text": [
            "{\"valid\": {\"eval_examples_count\": 575, \"metrics\": {\"per_item_dialog_accuracy\": 0.1643}, \"time_spent\": \"0:00:26\", \"epochs_done\": 0, \"batches_seen\": 15, \"train_examples_seen\": 60, \"impatience\": 0, \"patience_limit\": 10}}\n",
            "{\"train\": {\"eval_examples_count\": 4, \"metrics\": {\"per_item_dialog_accuracy\": 0.4516}, \"time_spent\": \"0:00:27\", \"epochs_done\": 0, \"batches_seen\": 30, \"train_examples_seen\": 120, \"learning_rate\": 0.005, \"momentum\": null, \"loss\": 1.52786705493927}}\n"
          ],
          "name": "stdout"
        },
        {
          "output_type": "stream",
          "text": [
            "2019-07-03 12:04:24.191 INFO in 'deeppavlov.core.trainers.nn_trainer'['nn_trainer'] at line 164: New best per_item_dialog_accuracy of 0.3105\n",
            "I0703 12:04:24.191653 140715737319296 nn_trainer.py:164] New best per_item_dialog_accuracy of 0.3105\n",
            "2019-07-03 12:04:24.193 INFO in 'deeppavlov.core.trainers.nn_trainer'['nn_trainer'] at line 166: Saving model\n",
            "I0703 12:04:24.193655 140715737319296 nn_trainer.py:166] Saving model\n",
            "2019-07-03 12:04:24.196 INFO in 'deeppavlov.core.models.tf_model'['tf_model'] at line 76: [saving model to /content/models/my_gobot/model]\n",
            "I0703 12:04:24.196473 140715737319296 tf_model.py:76] [saving model to /content/models/my_gobot/model]\n",
            "2019-07-03 12:04:24.359 INFO in 'deeppavlov.models.go_bot.network'['network'] at line 701: [saving parameters to /content/models/my_gobot/model.json]\n",
            "I0703 12:04:24.359417 140715737319296 network.py:701] [saving parameters to /content/models/my_gobot/model.json]\n"
          ],
          "name": "stderr"
        },
        {
          "output_type": "stream",
          "text": [
            "{\"valid\": {\"eval_examples_count\": 575, \"metrics\": {\"per_item_dialog_accuracy\": 0.3105}, \"time_spent\": \"0:00:39\", \"epochs_done\": 0, \"batches_seen\": 30, \"train_examples_seen\": 120, \"impatience\": 0, \"patience_limit\": 10}}\n",
            "{\"train\": {\"eval_examples_count\": 4, \"metrics\": {\"per_item_dialog_accuracy\": 0.4412}, \"time_spent\": \"0:00:40\", \"epochs_done\": 0, \"batches_seen\": 45, \"train_examples_seen\": 180, \"learning_rate\": 0.005, \"momentum\": null, \"loss\": 1.138824737071991}}\n"
          ],
          "name": "stdout"
        },
        {
          "output_type": "stream",
          "text": [
            "2019-07-03 12:04:37.109 INFO in 'deeppavlov.core.trainers.nn_trainer'['nn_trainer'] at line 164: New best per_item_dialog_accuracy of 0.325\n",
            "I0703 12:04:37.109192 140715737319296 nn_trainer.py:164] New best per_item_dialog_accuracy of 0.325\n",
            "2019-07-03 12:04:37.111 INFO in 'deeppavlov.core.trainers.nn_trainer'['nn_trainer'] at line 166: Saving model\n",
            "I0703 12:04:37.111557 140715737319296 nn_trainer.py:166] Saving model\n",
            "2019-07-03 12:04:37.115 INFO in 'deeppavlov.core.models.tf_model'['tf_model'] at line 76: [saving model to /content/models/my_gobot/model]\n",
            "I0703 12:04:37.115328 140715737319296 tf_model.py:76] [saving model to /content/models/my_gobot/model]\n",
            "2019-07-03 12:04:37.285 INFO in 'deeppavlov.models.go_bot.network'['network'] at line 701: [saving parameters to /content/models/my_gobot/model.json]\n",
            "I0703 12:04:37.285230 140715737319296 network.py:701] [saving parameters to /content/models/my_gobot/model.json]\n"
          ],
          "name": "stderr"
        },
        {
          "output_type": "stream",
          "text": [
            "{\"valid\": {\"eval_examples_count\": 575, \"metrics\": {\"per_item_dialog_accuracy\": 0.325}, \"time_spent\": \"0:00:52\", \"epochs_done\": 0, \"batches_seen\": 45, \"train_examples_seen\": 180, \"impatience\": 0, \"patience_limit\": 10}}\n",
            "{\"train\": {\"eval_examples_count\": 4, \"metrics\": {\"per_item_dialog_accuracy\": 0.4048}, \"time_spent\": \"0:00:53\", \"epochs_done\": 0, \"batches_seen\": 60, \"train_examples_seen\": 240, \"learning_rate\": 0.005, \"momentum\": null, \"loss\": 0.986410895983378}}\n"
          ],
          "name": "stdout"
        },
        {
          "output_type": "stream",
          "text": [
            "2019-07-03 12:04:50.16 INFO in 'deeppavlov.core.trainers.nn_trainer'['nn_trainer'] at line 170: Did not improve on the per_item_dialog_accuracy of 0.325\n",
            "I0703 12:04:50.016344 140715737319296 nn_trainer.py:170] Did not improve on the per_item_dialog_accuracy of 0.325\n"
          ],
          "name": "stderr"
        },
        {
          "output_type": "stream",
          "text": [
            "{\"valid\": {\"eval_examples_count\": 575, \"metrics\": {\"per_item_dialog_accuracy\": 0.3089}, \"time_spent\": \"0:01:05\", \"epochs_done\": 0, \"batches_seen\": 60, \"train_examples_seen\": 240, \"impatience\": 1, \"patience_limit\": 10}}\n",
            "{\"train\": {\"eval_examples_count\": 4, \"metrics\": {\"per_item_dialog_accuracy\": 0.4762}, \"time_spent\": \"0:01:05\", \"epochs_done\": 0, \"batches_seen\": 75, \"train_examples_seen\": 300, \"learning_rate\": 0.005, \"momentum\": null, \"loss\": 0.7896679917971293}}\n"
          ],
          "name": "stdout"
        },
        {
          "output_type": "stream",
          "text": [
            "2019-07-03 12:05:02.771 INFO in 'deeppavlov.core.trainers.nn_trainer'['nn_trainer'] at line 164: New best per_item_dialog_accuracy of 0.345\n",
            "I0703 12:05:02.771304 140715737319296 nn_trainer.py:164] New best per_item_dialog_accuracy of 0.345\n",
            "2019-07-03 12:05:02.773 INFO in 'deeppavlov.core.trainers.nn_trainer'['nn_trainer'] at line 166: Saving model\n",
            "I0703 12:05:02.773590 140715737319296 nn_trainer.py:166] Saving model\n",
            "2019-07-03 12:05:02.776 INFO in 'deeppavlov.core.models.tf_model'['tf_model'] at line 76: [saving model to /content/models/my_gobot/model]\n",
            "I0703 12:05:02.776058 140715737319296 tf_model.py:76] [saving model to /content/models/my_gobot/model]\n",
            "2019-07-03 12:05:02.951 INFO in 'deeppavlov.models.go_bot.network'['network'] at line 701: [saving parameters to /content/models/my_gobot/model.json]\n",
            "I0703 12:05:02.951615 140715737319296 network.py:701] [saving parameters to /content/models/my_gobot/model.json]\n"
          ],
          "name": "stderr"
        },
        {
          "output_type": "stream",
          "text": [
            "{\"valid\": {\"eval_examples_count\": 575, \"metrics\": {\"per_item_dialog_accuracy\": 0.345}, \"time_spent\": \"0:01:17\", \"epochs_done\": 0, \"batches_seen\": 75, \"train_examples_seen\": 300, \"impatience\": 0, \"patience_limit\": 10}}\n",
            "{\"train\": {\"eval_examples_count\": 4, \"metrics\": {\"per_item_dialog_accuracy\": 0.5333}, \"time_spent\": \"0:01:18\", \"epochs_done\": 0, \"batches_seen\": 90, \"train_examples_seen\": 360, \"learning_rate\": 0.005, \"momentum\": null, \"loss\": 0.7591273923714955}}\n"
          ],
          "name": "stdout"
        },
        {
          "output_type": "stream",
          "text": [
            "2019-07-03 12:05:15.792 INFO in 'deeppavlov.core.trainers.nn_trainer'['nn_trainer'] at line 170: Did not improve on the per_item_dialog_accuracy of 0.345\n",
            "I0703 12:05:15.792395 140715737319296 nn_trainer.py:170] Did not improve on the per_item_dialog_accuracy of 0.345\n"
          ],
          "name": "stderr"
        },
        {
          "output_type": "stream",
          "text": [
            "{\"valid\": {\"eval_examples_count\": 575, \"metrics\": {\"per_item_dialog_accuracy\": 0.3447}, \"time_spent\": \"0:01:30\", \"epochs_done\": 0, \"batches_seen\": 90, \"train_examples_seen\": 360, \"impatience\": 1, \"patience_limit\": 10}}\n",
            "{\"train\": {\"eval_examples_count\": 4, \"metrics\": {\"per_item_dialog_accuracy\": 0.4545}, \"time_spent\": \"0:01:31\", \"epochs_done\": 0, \"batches_seen\": 105, \"train_examples_seen\": 420, \"learning_rate\": 0.005, \"momentum\": null, \"loss\": 0.758029576142629}}\n"
          ],
          "name": "stdout"
        },
        {
          "output_type": "stream",
          "text": [
            "2019-07-03 12:05:28.657 INFO in 'deeppavlov.core.trainers.nn_trainer'['nn_trainer'] at line 170: Did not improve on the per_item_dialog_accuracy of 0.345\n",
            "I0703 12:05:28.657877 140715737319296 nn_trainer.py:170] Did not improve on the per_item_dialog_accuracy of 0.345\n"
          ],
          "name": "stderr"
        },
        {
          "output_type": "stream",
          "text": [
            "{\"valid\": {\"eval_examples_count\": 575, \"metrics\": {\"per_item_dialog_accuracy\": 0.3343}, \"time_spent\": \"0:01:43\", \"epochs_done\": 0, \"batches_seen\": 105, \"train_examples_seen\": 420, \"impatience\": 2, \"patience_limit\": 10}}\n",
            "{\"train\": {\"eval_examples_count\": 4, \"metrics\": {\"per_item_dialog_accuracy\": 0.4146}, \"time_spent\": \"0:01:44\", \"epochs_done\": 0, \"batches_seen\": 120, \"train_examples_seen\": 480, \"learning_rate\": 0.005, \"momentum\": null, \"loss\": 0.7925081888834635}}\n"
          ],
          "name": "stdout"
        },
        {
          "output_type": "stream",
          "text": [
            "2019-07-03 12:05:41.918 INFO in 'deeppavlov.core.trainers.nn_trainer'['nn_trainer'] at line 170: Did not improve on the per_item_dialog_accuracy of 0.345\n",
            "I0703 12:05:41.918949 140715737319296 nn_trainer.py:170] Did not improve on the per_item_dialog_accuracy of 0.345\n"
          ],
          "name": "stderr"
        },
        {
          "output_type": "stream",
          "text": [
            "{\"valid\": {\"eval_examples_count\": 575, \"metrics\": {\"per_item_dialog_accuracy\": 0.3381}, \"time_spent\": \"0:01:57\", \"epochs_done\": 0, \"batches_seen\": 120, \"train_examples_seen\": 480, \"impatience\": 3, \"patience_limit\": 10}}\n",
            "{\"train\": {\"eval_examples_count\": 4, \"metrics\": {\"per_item_dialog_accuracy\": 0.5366}, \"time_spent\": \"0:01:57\", \"epochs_done\": 0, \"batches_seen\": 135, \"train_examples_seen\": 540, \"learning_rate\": 0.005, \"momentum\": null, \"loss\": 0.7539818942546844}}\n"
          ],
          "name": "stdout"
        },
        {
          "output_type": "stream",
          "text": [
            "2019-07-03 12:05:55.124 INFO in 'deeppavlov.core.trainers.nn_trainer'['nn_trainer'] at line 164: New best per_item_dialog_accuracy of 0.354\n",
            "I0703 12:05:55.124637 140715737319296 nn_trainer.py:164] New best per_item_dialog_accuracy of 0.354\n",
            "2019-07-03 12:05:55.126 INFO in 'deeppavlov.core.trainers.nn_trainer'['nn_trainer'] at line 166: Saving model\n",
            "I0703 12:05:55.126977 140715737319296 nn_trainer.py:166] Saving model\n",
            "2019-07-03 12:05:55.130 INFO in 'deeppavlov.core.models.tf_model'['tf_model'] at line 76: [saving model to /content/models/my_gobot/model]\n",
            "I0703 12:05:55.130615 140715737319296 tf_model.py:76] [saving model to /content/models/my_gobot/model]\n",
            "2019-07-03 12:05:55.313 INFO in 'deeppavlov.models.go_bot.network'['network'] at line 701: [saving parameters to /content/models/my_gobot/model.json]\n",
            "I0703 12:05:55.313072 140715737319296 network.py:701] [saving parameters to /content/models/my_gobot/model.json]\n"
          ],
          "name": "stderr"
        },
        {
          "output_type": "stream",
          "text": [
            "{\"valid\": {\"eval_examples_count\": 575, \"metrics\": {\"per_item_dialog_accuracy\": 0.354}, \"time_spent\": \"0:02:10\", \"epochs_done\": 0, \"batches_seen\": 135, \"train_examples_seen\": 540, \"impatience\": 0, \"patience_limit\": 10}}\n",
            "{\"train\": {\"eval_examples_count\": 4, \"metrics\": {\"per_item_dialog_accuracy\": 0.475}, \"time_spent\": \"0:02:11\", \"epochs_done\": 0, \"batches_seen\": 150, \"train_examples_seen\": 600, \"learning_rate\": 0.005, \"momentum\": null, \"loss\": 0.7377433180809021}}\n"
          ],
          "name": "stdout"
        },
        {
          "output_type": "stream",
          "text": [
            "2019-07-03 12:06:08.166 INFO in 'deeppavlov.core.trainers.nn_trainer'['nn_trainer'] at line 170: Did not improve on the per_item_dialog_accuracy of 0.354\n",
            "I0703 12:06:08.166792 140715737319296 nn_trainer.py:170] Did not improve on the per_item_dialog_accuracy of 0.354\n"
          ],
          "name": "stderr"
        },
        {
          "output_type": "stream",
          "text": [
            "{\"valid\": {\"eval_examples_count\": 575, \"metrics\": {\"per_item_dialog_accuracy\": 0.346}, \"time_spent\": \"0:02:23\", \"epochs_done\": 0, \"batches_seen\": 150, \"train_examples_seen\": 600, \"impatience\": 1, \"patience_limit\": 10}}\n",
            "{\"train\": {\"eval_examples_count\": 4, \"metrics\": {\"per_item_dialog_accuracy\": 0.6053}, \"time_spent\": \"0:02:24\", \"epochs_done\": 0, \"batches_seen\": 165, \"train_examples_seen\": 660, \"learning_rate\": 0.005, \"momentum\": null, \"loss\": 0.7794452508290609}}\n"
          ],
          "name": "stdout"
        },
        {
          "output_type": "stream",
          "text": [
            "2019-07-03 12:06:21.116 INFO in 'deeppavlov.core.trainers.nn_trainer'['nn_trainer'] at line 170: Did not improve on the per_item_dialog_accuracy of 0.354\n",
            "I0703 12:06:21.116607 140715737319296 nn_trainer.py:170] Did not improve on the per_item_dialog_accuracy of 0.354\n"
          ],
          "name": "stderr"
        },
        {
          "output_type": "stream",
          "text": [
            "{\"valid\": {\"eval_examples_count\": 575, \"metrics\": {\"per_item_dialog_accuracy\": 0.347}, \"time_spent\": \"0:02:36\", \"epochs_done\": 0, \"batches_seen\": 165, \"train_examples_seen\": 660, \"impatience\": 2, \"patience_limit\": 10}}\n",
            "{\"train\": {\"eval_examples_count\": 4, \"metrics\": {\"per_item_dialog_accuracy\": 0.5484}, \"time_spent\": \"0:02:36\", \"epochs_done\": 0, \"batches_seen\": 180, \"train_examples_seen\": 720, \"learning_rate\": 0.005, \"momentum\": null, \"loss\": 0.7591924786567688}}\n"
          ],
          "name": "stdout"
        },
        {
          "output_type": "stream",
          "text": [
            "2019-07-03 12:06:34.52 INFO in 'deeppavlov.core.trainers.nn_trainer'['nn_trainer'] at line 170: Did not improve on the per_item_dialog_accuracy of 0.354\n",
            "I0703 12:06:34.052094 140715737319296 nn_trainer.py:170] Did not improve on the per_item_dialog_accuracy of 0.354\n"
          ],
          "name": "stderr"
        },
        {
          "output_type": "stream",
          "text": [
            "{\"valid\": {\"eval_examples_count\": 575, \"metrics\": {\"per_item_dialog_accuracy\": 0.3391}, \"time_spent\": \"0:02:49\", \"epochs_done\": 0, \"batches_seen\": 180, \"train_examples_seen\": 720, \"impatience\": 3, \"patience_limit\": 10}}\n",
            "{\"train\": {\"eval_examples_count\": 4, \"metrics\": {\"per_item_dialog_accuracy\": 0.3864}, \"time_spent\": \"0:02:49\", \"epochs_done\": 0, \"batches_seen\": 195, \"train_examples_seen\": 780, \"learning_rate\": 0.005, \"momentum\": null, \"loss\": 0.6870489994684855}}\n"
          ],
          "name": "stdout"
        },
        {
          "output_type": "stream",
          "text": [
            "2019-07-03 12:06:44.255 INFO in 'deeppavlov.core.trainers.nn_trainer'['nn_trainer'] at line 296: Stopped training\n",
            "I0703 12:06:44.255145 140715737319296 nn_trainer.py:296] Stopped training\n",
            "2019-07-03 12:06:44.285 INFO in 'deeppavlov.core.data.simple_vocab'['simple_vocab'] at line 103: [loading vocabulary from /content/models/my_gobot/token.dict]\n",
            "I0703 12:06:44.285104 140715737319296 simple_vocab.py:103] [loading vocabulary from /content/models/my_gobot/token.dict]\n",
            "2019-07-03 12:06:44.469 INFO in 'deeppavlov.models.go_bot.network'['network'] at line 160: [loading templates from /root/.deeppavlov/downloads/dstc2/dstc2-templates.txt]\n",
            "I0703 12:06:44.469833 140715737319296 network.py:160] [loading templates from /root/.deeppavlov/downloads/dstc2/dstc2-templates.txt]\n",
            "2019-07-03 12:06:44.472 INFO in 'deeppavlov.models.go_bot.network'['network'] at line 163: 46 templates loaded\n",
            "I0703 12:06:44.472605 140715737319296 network.py:163] 46 templates loaded\n",
            "2019-07-03 12:06:44.475 INFO in 'deeppavlov.models.go_bot.network'['network'] at line 202: Calculated input size for `GoalOrientedBotNetwork` is 496\n",
            "I0703 12:06:44.475009 140715737319296 network.py:202] Calculated input size for `GoalOrientedBotNetwork` is 496\n",
            "2019-07-03 12:06:45.339 INFO in 'deeppavlov.models.go_bot.network'['network'] at line 240: [initializing `GoalOrientedBot` from saved]\n",
            "I0703 12:06:45.339258 140715737319296 network.py:240] [initializing `GoalOrientedBot` from saved]\n",
            "2019-07-03 12:06:45.341 INFO in 'deeppavlov.models.go_bot.network'['network'] at line 707: [loading parameters from /content/models/my_gobot/model.json]\n",
            "I0703 12:06:45.341762 140715737319296 network.py:707] [loading parameters from /content/models/my_gobot/model.json]\n",
            "2019-07-03 12:06:45.368 INFO in 'deeppavlov.core.models.tf_model'['tf_model'] at line 52: [loading model from /content/models/my_gobot/model]\n",
            "I0703 12:06:45.368836 140715737319296 tf_model.py:52] [loading model from /content/models/my_gobot/model]\n"
          ],
          "name": "stderr"
        },
        {
          "output_type": "stream",
          "text": [
            "{\"valid\": {\"eval_examples_count\": 575, \"metrics\": {\"per_item_dialog_accuracy\": 0.354}, \"time_spent\": \"0:00:13\"}}\n"
          ],
          "name": "stdout"
        },
        {
          "output_type": "stream",
          "text": [
            "2019-07-03 12:07:09.892 INFO in 'deeppavlov.core.data.simple_vocab'['simple_vocab'] at line 103: [loading vocabulary from /content/models/my_gobot/token.dict]\n",
            "I0703 12:07:09.892742 140715737319296 simple_vocab.py:103] [loading vocabulary from /content/models/my_gobot/token.dict]\n"
          ],
          "name": "stderr"
        },
        {
          "output_type": "stream",
          "text": [
            "{\"test\": {\"eval_examples_count\": 576, \"metrics\": {\"per_item_dialog_accuracy\": 0.3615}, \"time_spent\": \"0:00:13\"}}\n"
          ],
          "name": "stdout"
        },
        {
          "output_type": "stream",
          "text": [
            "2019-07-03 12:07:10.79 INFO in 'deeppavlov.models.go_bot.network'['network'] at line 160: [loading templates from /root/.deeppavlov/downloads/dstc2/dstc2-templates.txt]\n",
            "I0703 12:07:10.079777 140715737319296 network.py:160] [loading templates from /root/.deeppavlov/downloads/dstc2/dstc2-templates.txt]\n",
            "2019-07-03 12:07:10.83 INFO in 'deeppavlov.models.go_bot.network'['network'] at line 163: 46 templates loaded\n",
            "I0703 12:07:10.083157 140715737319296 network.py:163] 46 templates loaded\n",
            "2019-07-03 12:07:10.85 INFO in 'deeppavlov.models.go_bot.network'['network'] at line 202: Calculated input size for `GoalOrientedBotNetwork` is 496\n",
            "I0703 12:07:10.085436 140715737319296 network.py:202] Calculated input size for `GoalOrientedBotNetwork` is 496\n",
            "2019-07-03 12:07:10.947 INFO in 'deeppavlov.models.go_bot.network'['network'] at line 240: [initializing `GoalOrientedBot` from saved]\n",
            "I0703 12:07:10.947948 140715737319296 network.py:240] [initializing `GoalOrientedBot` from saved]\n",
            "2019-07-03 12:07:10.952 INFO in 'deeppavlov.models.go_bot.network'['network'] at line 707: [loading parameters from /content/models/my_gobot/model.json]\n",
            "I0703 12:07:10.952185 140715737319296 network.py:707] [loading parameters from /content/models/my_gobot/model.json]\n",
            "2019-07-03 12:07:10.962 INFO in 'deeppavlov.core.models.tf_model'['tf_model'] at line 52: [loading model from /content/models/my_gobot/model]\n",
            "I0703 12:07:10.962721 140715737319296 tf_model.py:52] [loading model from /content/models/my_gobot/model]\n"
          ],
          "name": "stderr"
        }
      ]
    },
    {
      "cell_type": "code",
      "metadata": {
        "id": "sn1qLuKorg8t",
        "colab": {
          "base_uri": "https://localhost:8080/",
          "height": 275
        },
        "outputId": "96816a84-74b1-4eab-8b4a-0244ddfbbf8b"
      },
      "source": [
        "# or load trained bot from disk\n",
        "bot = build_model(basic_config)"
      ],
      "execution_count": null,
      "outputs": [
        {
          "output_type": "stream",
          "text": [
            "2019-07-03 12:07:11.56 INFO in 'deeppavlov.core.data.simple_vocab'['simple_vocab'] at line 103: [loading vocabulary from /content/models/my_gobot/token.dict]\n",
            "I0703 12:07:11.056625 140715737319296 simple_vocab.py:103] [loading vocabulary from /content/models/my_gobot/token.dict]\n",
            "2019-07-03 12:07:11.241 INFO in 'deeppavlov.models.go_bot.network'['network'] at line 160: [loading templates from /root/.deeppavlov/downloads/dstc2/dstc2-templates.txt]\n",
            "I0703 12:07:11.241874 140715737319296 network.py:160] [loading templates from /root/.deeppavlov/downloads/dstc2/dstc2-templates.txt]\n",
            "2019-07-03 12:07:11.244 INFO in 'deeppavlov.models.go_bot.network'['network'] at line 163: 46 templates loaded\n",
            "I0703 12:07:11.244478 140715737319296 network.py:163] 46 templates loaded\n",
            "2019-07-03 12:07:11.246 INFO in 'deeppavlov.models.go_bot.network'['network'] at line 202: Calculated input size for `GoalOrientedBotNetwork` is 496\n",
            "I0703 12:07:11.246770 140715737319296 network.py:202] Calculated input size for `GoalOrientedBotNetwork` is 496\n",
            "2019-07-03 12:07:12.127 INFO in 'deeppavlov.models.go_bot.network'['network'] at line 240: [initializing `GoalOrientedBot` from saved]\n",
            "I0703 12:07:12.127084 140715737319296 network.py:240] [initializing `GoalOrientedBot` from saved]\n",
            "2019-07-03 12:07:12.129 INFO in 'deeppavlov.models.go_bot.network'['network'] at line 707: [loading parameters from /content/models/my_gobot/model.json]\n",
            "I0703 12:07:12.129549 140715737319296 network.py:707] [loading parameters from /content/models/my_gobot/model.json]\n",
            "2019-07-03 12:07:12.150 INFO in 'deeppavlov.core.models.tf_model'['tf_model'] at line 52: [loading model from /content/models/my_gobot/model]\n",
            "I0703 12:07:12.150934 140715737319296 tf_model.py:52] [loading model from /content/models/my_gobot/model]\n"
          ],
          "name": "stderr"
        }
      ]
    },
    {
      "cell_type": "code",
      "metadata": {
        "id": "XwENaEq1rg8z"
      },
      "source": [
        "bot(['hi, i want some cheap food'])"
      ],
      "execution_count": null,
      "outputs": []
    },
    {
      "cell_type": "code",
      "metadata": {
        "id": "-qwIiH6Brg88",
        "colab": {
          "base_uri": "https://localhost:8080/",
          "height": 34
        },
        "outputId": "953f43a9-b6b5-4313-a558-d55de12f796b"
      },
      "source": [
        "bot(['bye'])"
      ],
      "execution_count": null,
      "outputs": [
        {
          "output_type": "execute_result",
          "data": {
            "text/plain": [
              "['Hello, welcome to the Cambridge restaurant system. You can ask for restaurants by area, price range or food type. How may I help you?']"
            ]
          },
          "metadata": {
            "tags": []
          },
          "execution_count": 75
        }
      ]
    },
    {
      "cell_type": "code",
      "metadata": {
        "id": "KxZcVfLhrg9K"
      },
      "source": [
        "# free memory\n",
        "del bot"
      ],
      "execution_count": null,
      "outputs": []
    },
    {
      "cell_type": "code",
      "metadata": {
        "id": "ej-tbQKsrhBx"
      },
      "source": [
        ""
      ],
      "execution_count": null,
      "outputs": []
    }
  ]
}