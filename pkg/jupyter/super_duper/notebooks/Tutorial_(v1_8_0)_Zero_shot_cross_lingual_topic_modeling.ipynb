{
  "nbformat": 4,
  "nbformat_minor": 0,
  "metadata": {
    "accelerator": "GPU",
    "colab": {
      "name": "Tutorial (v1.8.0): Zero-shot cross-lingual topic modeling",
      "provenance": [],
      "collapsed_sections": [],
      "toc_visible": true
    },
    "kernelspec": {
      "display_name": "Python 3",
      "name": "python3"
    },
    "widgets": {
      "application/vnd.jupyter.widget-state+json": {
        "255c3c97f88b4d0c91e1d2f81aaa9bf5": {
          "model_module": "@jupyter-widgets/controls",
          "model_name": "HBoxModel",
          "state": {
            "_view_name": "HBoxView",
            "_dom_classes": [],
            "_model_name": "HBoxModel",
            "_view_module": "@jupyter-widgets/controls",
            "_model_module_version": "1.5.0",
            "_view_count": null,
            "_view_module_version": "1.5.0",
            "box_style": "",
            "layout": "IPY_MODEL_5c31d1bdd8474b4ca13a583b6b0439e9",
            "_model_module": "@jupyter-widgets/controls",
            "children": [
              "IPY_MODEL_e0737fc705084ed0b9678e7fd9fc0416",
              "IPY_MODEL_0afd803ac59544c1a156ebf54928d0be",
              "IPY_MODEL_877a6b3638cc4f15bb694aafa7817cf9"
            ]
          }
        },
        "5c31d1bdd8474b4ca13a583b6b0439e9": {
          "model_module": "@jupyter-widgets/base",
          "model_name": "LayoutModel",
          "state": {
            "_view_name": "LayoutView",
            "grid_template_rows": null,
            "right": null,
            "justify_content": null,
            "_view_module": "@jupyter-widgets/base",
            "overflow": null,
            "_model_module_version": "1.2.0",
            "_view_count": null,
            "flex_flow": null,
            "width": null,
            "min_width": null,
            "border": null,
            "align_items": null,
            "bottom": null,
            "_model_module": "@jupyter-widgets/base",
            "top": null,
            "grid_column": null,
            "overflow_y": null,
            "overflow_x": null,
            "grid_auto_flow": null,
            "grid_area": null,
            "grid_template_columns": null,
            "flex": null,
            "_model_name": "LayoutModel",
            "justify_items": null,
            "grid_row": null,
            "max_height": null,
            "align_content": null,
            "visibility": null,
            "align_self": null,
            "height": null,
            "min_height": null,
            "padding": null,
            "grid_auto_rows": null,
            "grid_gap": null,
            "max_width": null,
            "order": null,
            "_view_module_version": "1.2.0",
            "grid_template_areas": null,
            "object_position": null,
            "object_fit": null,
            "grid_auto_columns": null,
            "margin": null,
            "display": null,
            "left": null
          }
        },
        "e0737fc705084ed0b9678e7fd9fc0416": {
          "model_module": "@jupyter-widgets/controls",
          "model_name": "HTMLModel",
          "state": {
            "_view_name": "HTMLView",
            "style": "IPY_MODEL_cfad01ca80a341dd988ed111a23fea39",
            "_dom_classes": [],
            "description": "",
            "_model_name": "HTMLModel",
            "placeholder": "​",
            "_view_module": "@jupyter-widgets/controls",
            "_model_module_version": "1.5.0",
            "value": "Batches: 100%",
            "_view_count": null,
            "_view_module_version": "1.5.0",
            "description_tooltip": null,
            "_model_module": "@jupyter-widgets/controls",
            "layout": "IPY_MODEL_96d9e2e6eeef482ea1010f9999b0fdd7"
          }
        },
        "0afd803ac59544c1a156ebf54928d0be": {
          "model_module": "@jupyter-widgets/controls",
          "model_name": "FloatProgressModel",
          "state": {
            "_view_name": "ProgressView",
            "style": "IPY_MODEL_13661b004e16466ca423d022dfbca434",
            "_dom_classes": [],
            "description": "",
            "_model_name": "FloatProgressModel",
            "bar_style": "success",
            "max": 100,
            "_view_module": "@jupyter-widgets/controls",
            "_model_module_version": "1.5.0",
            "value": 100,
            "_view_count": null,
            "_view_module_version": "1.5.0",
            "orientation": "horizontal",
            "min": 0,
            "description_tooltip": null,
            "_model_module": "@jupyter-widgets/controls",
            "layout": "IPY_MODEL_32eb03953cc64465977356f851764cd7"
          }
        },
        "877a6b3638cc4f15bb694aafa7817cf9": {
          "model_module": "@jupyter-widgets/controls",
          "model_name": "HTMLModel",
          "state": {
            "_view_name": "HTMLView",
            "style": "IPY_MODEL_192daac668514f25b9607ea5c165bf6f",
            "_dom_classes": [],
            "description": "",
            "_model_name": "HTMLModel",
            "placeholder": "​",
            "_view_module": "@jupyter-widgets/controls",
            "_model_module_version": "1.5.0",
            "value": " 100/100 [00:57&lt;00:00,  1.31it/s]",
            "_view_count": null,
            "_view_module_version": "1.5.0",
            "description_tooltip": null,
            "_model_module": "@jupyter-widgets/controls",
            "layout": "IPY_MODEL_8a6593cdc60c458fb51ee9ac7ed0a7fa"
          }
        },
        "cfad01ca80a341dd988ed111a23fea39": {
          "model_module": "@jupyter-widgets/controls",
          "model_name": "DescriptionStyleModel",
          "state": {
            "_view_name": "StyleView",
            "_model_name": "DescriptionStyleModel",
            "description_width": "",
            "_view_module": "@jupyter-widgets/base",
            "_model_module_version": "1.5.0",
            "_view_count": null,
            "_view_module_version": "1.2.0",
            "_model_module": "@jupyter-widgets/controls"
          }
        },
        "96d9e2e6eeef482ea1010f9999b0fdd7": {
          "model_module": "@jupyter-widgets/base",
          "model_name": "LayoutModel",
          "state": {
            "_view_name": "LayoutView",
            "grid_template_rows": null,
            "right": null,
            "justify_content": null,
            "_view_module": "@jupyter-widgets/base",
            "overflow": null,
            "_model_module_version": "1.2.0",
            "_view_count": null,
            "flex_flow": null,
            "width": null,
            "min_width": null,
            "border": null,
            "align_items": null,
            "bottom": null,
            "_model_module": "@jupyter-widgets/base",
            "top": null,
            "grid_column": null,
            "overflow_y": null,
            "overflow_x": null,
            "grid_auto_flow": null,
            "grid_area": null,
            "grid_template_columns": null,
            "flex": null,
            "_model_name": "LayoutModel",
            "justify_items": null,
            "grid_row": null,
            "max_height": null,
            "align_content": null,
            "visibility": null,
            "align_self": null,
            "height": null,
            "min_height": null,
            "padding": null,
            "grid_auto_rows": null,
            "grid_gap": null,
            "max_width": null,
            "order": null,
            "_view_module_version": "1.2.0",
            "grid_template_areas": null,
            "object_position": null,
            "object_fit": null,
            "grid_auto_columns": null,
            "margin": null,
            "display": null,
            "left": null
          }
        },
        "13661b004e16466ca423d022dfbca434": {
          "model_module": "@jupyter-widgets/controls",
          "model_name": "ProgressStyleModel",
          "state": {
            "_view_name": "StyleView",
            "_model_name": "ProgressStyleModel",
            "description_width": "",
            "_view_module": "@jupyter-widgets/base",
            "_model_module_version": "1.5.0",
            "_view_count": null,
            "_view_module_version": "1.2.0",
            "bar_color": null,
            "_model_module": "@jupyter-widgets/controls"
          }
        },
        "32eb03953cc64465977356f851764cd7": {
          "model_module": "@jupyter-widgets/base",
          "model_name": "LayoutModel",
          "state": {
            "_view_name": "LayoutView",
            "grid_template_rows": null,
            "right": null,
            "justify_content": null,
            "_view_module": "@jupyter-widgets/base",
            "overflow": null,
            "_model_module_version": "1.2.0",
            "_view_count": null,
            "flex_flow": null,
            "width": null,
            "min_width": null,
            "border": null,
            "align_items": null,
            "bottom": null,
            "_model_module": "@jupyter-widgets/base",
            "top": null,
            "grid_column": null,
            "overflow_y": null,
            "overflow_x": null,
            "grid_auto_flow": null,
            "grid_area": null,
            "grid_template_columns": null,
            "flex": null,
            "_model_name": "LayoutModel",
            "justify_items": null,
            "grid_row": null,
            "max_height": null,
            "align_content": null,
            "visibility": null,
            "align_self": null,
            "height": null,
            "min_height": null,
            "padding": null,
            "grid_auto_rows": null,
            "grid_gap": null,
            "max_width": null,
            "order": null,
            "_view_module_version": "1.2.0",
            "grid_template_areas": null,
            "object_position": null,
            "object_fit": null,
            "grid_auto_columns": null,
            "margin": null,
            "display": null,
            "left": null
          }
        },
        "192daac668514f25b9607ea5c165bf6f": {
          "model_module": "@jupyter-widgets/controls",
          "model_name": "DescriptionStyleModel",
          "state": {
            "_view_name": "StyleView",
            "_model_name": "DescriptionStyleModel",
            "description_width": "",
            "_view_module": "@jupyter-widgets/base",
            "_model_module_version": "1.5.0",
            "_view_count": null,
            "_view_module_version": "1.2.0",
            "_model_module": "@jupyter-widgets/controls"
          }
        },
        "8a6593cdc60c458fb51ee9ac7ed0a7fa": {
          "model_module": "@jupyter-widgets/base",
          "model_name": "LayoutModel",
          "state": {
            "_view_name": "LayoutView",
            "grid_template_rows": null,
            "right": null,
            "justify_content": null,
            "_view_module": "@jupyter-widgets/base",
            "overflow": null,
            "_model_module_version": "1.2.0",
            "_view_count": null,
            "flex_flow": null,
            "width": null,
            "min_width": null,
            "border": null,
            "align_items": null,
            "bottom": null,
            "_model_module": "@jupyter-widgets/base",
            "top": null,
            "grid_column": null,
            "overflow_y": null,
            "overflow_x": null,
            "grid_auto_flow": null,
            "grid_area": null,
            "grid_template_columns": null,
            "flex": null,
            "_model_name": "LayoutModel",
            "justify_items": null,
            "grid_row": null,
            "max_height": null,
            "align_content": null,
            "visibility": null,
            "align_self": null,
            "height": null,
            "min_height": null,
            "padding": null,
            "grid_auto_rows": null,
            "grid_gap": null,
            "max_width": null,
            "order": null,
            "_view_module_version": "1.2.0",
            "grid_template_areas": null,
            "object_position": null,
            "object_fit": null,
            "grid_auto_columns": null,
            "margin": null,
            "display": null,
            "left": null
          }
        },
        "5b6f62f7e61b4ecfbeec609e8d984c91": {
          "model_module": "@jupyter-widgets/controls",
          "model_name": "HBoxModel",
          "state": {
            "_view_name": "HBoxView",
            "_dom_classes": [],
            "_model_name": "HBoxModel",
            "_view_module": "@jupyter-widgets/controls",
            "_model_module_version": "1.5.0",
            "_view_count": null,
            "_view_module_version": "1.5.0",
            "box_style": "",
            "layout": "IPY_MODEL_85dabeb5bcb047db95a96061ee92841e",
            "_model_module": "@jupyter-widgets/controls",
            "children": [
              "IPY_MODEL_b3896efb1d094b4596a5d620ddb78512",
              "IPY_MODEL_73d5914d4c9a480284a81c7e597c8f24",
              "IPY_MODEL_44813a3e5c8348318cbfd811c5289e51"
            ]
          }
        },
        "85dabeb5bcb047db95a96061ee92841e": {
          "model_module": "@jupyter-widgets/base",
          "model_name": "LayoutModel",
          "state": {
            "_view_name": "LayoutView",
            "grid_template_rows": null,
            "right": null,
            "justify_content": null,
            "_view_module": "@jupyter-widgets/base",
            "overflow": null,
            "_model_module_version": "1.2.0",
            "_view_count": null,
            "flex_flow": null,
            "width": null,
            "min_width": null,
            "border": null,
            "align_items": null,
            "bottom": null,
            "_model_module": "@jupyter-widgets/base",
            "top": null,
            "grid_column": null,
            "overflow_y": null,
            "overflow_x": null,
            "grid_auto_flow": null,
            "grid_area": null,
            "grid_template_columns": null,
            "flex": null,
            "_model_name": "LayoutModel",
            "justify_items": null,
            "grid_row": null,
            "max_height": null,
            "align_content": null,
            "visibility": null,
            "align_self": null,
            "height": null,
            "min_height": null,
            "padding": null,
            "grid_auto_rows": null,
            "grid_gap": null,
            "max_width": null,
            "order": null,
            "_view_module_version": "1.2.0",
            "grid_template_areas": null,
            "object_position": null,
            "object_fit": null,
            "grid_auto_columns": null,
            "margin": null,
            "display": null,
            "left": null
          }
        },
        "b3896efb1d094b4596a5d620ddb78512": {
          "model_module": "@jupyter-widgets/controls",
          "model_name": "HTMLModel",
          "state": {
            "_view_name": "HTMLView",
            "style": "IPY_MODEL_120b0cc01bbb473a9371dd068e00e7d8",
            "_dom_classes": [],
            "description": "",
            "_model_name": "HTMLModel",
            "placeholder": "​",
            "_view_module": "@jupyter-widgets/controls",
            "_model_module_version": "1.5.0",
            "value": "Batches: 100%",
            "_view_count": null,
            "_view_module_version": "1.5.0",
            "description_tooltip": null,
            "_model_module": "@jupyter-widgets/controls",
            "layout": "IPY_MODEL_ad4c59f2370b4d62b75daf0d8f85a960"
          }
        },
        "73d5914d4c9a480284a81c7e597c8f24": {
          "model_module": "@jupyter-widgets/controls",
          "model_name": "FloatProgressModel",
          "state": {
            "_view_name": "ProgressView",
            "style": "IPY_MODEL_e974280879554fa9a6bdecb08e20f432",
            "_dom_classes": [],
            "description": "",
            "_model_name": "FloatProgressModel",
            "bar_style": "success",
            "max": 1,
            "_view_module": "@jupyter-widgets/controls",
            "_model_module_version": "1.5.0",
            "value": 1,
            "_view_count": null,
            "_view_module_version": "1.5.0",
            "orientation": "horizontal",
            "min": 0,
            "description_tooltip": null,
            "_model_module": "@jupyter-widgets/controls",
            "layout": "IPY_MODEL_bab9afa90a1e472cb630729ac73f4e06"
          }
        },
        "44813a3e5c8348318cbfd811c5289e51": {
          "model_module": "@jupyter-widgets/controls",
          "model_name": "HTMLModel",
          "state": {
            "_view_name": "HTMLView",
            "style": "IPY_MODEL_559cb9cdc5b141cf8348ce59e51101c0",
            "_dom_classes": [],
            "description": "",
            "_model_name": "HTMLModel",
            "placeholder": "​",
            "_view_module": "@jupyter-widgets/controls",
            "_model_module_version": "1.5.0",
            "value": " 1/1 [00:00&lt;00:00, 11.26it/s]",
            "_view_count": null,
            "_view_module_version": "1.5.0",
            "description_tooltip": null,
            "_model_module": "@jupyter-widgets/controls",
            "layout": "IPY_MODEL_98b5ddc97a1647049388ca475dcabf52"
          }
        },
        "120b0cc01bbb473a9371dd068e00e7d8": {
          "model_module": "@jupyter-widgets/controls",
          "model_name": "DescriptionStyleModel",
          "state": {
            "_view_name": "StyleView",
            "_model_name": "DescriptionStyleModel",
            "description_width": "",
            "_view_module": "@jupyter-widgets/base",
            "_model_module_version": "1.5.0",
            "_view_count": null,
            "_view_module_version": "1.2.0",
            "_model_module": "@jupyter-widgets/controls"
          }
        },
        "ad4c59f2370b4d62b75daf0d8f85a960": {
          "model_module": "@jupyter-widgets/base",
          "model_name": "LayoutModel",
          "state": {
            "_view_name": "LayoutView",
            "grid_template_rows": null,
            "right": null,
            "justify_content": null,
            "_view_module": "@jupyter-widgets/base",
            "overflow": null,
            "_model_module_version": "1.2.0",
            "_view_count": null,
            "flex_flow": null,
            "width": null,
            "min_width": null,
            "border": null,
            "align_items": null,
            "bottom": null,
            "_model_module": "@jupyter-widgets/base",
            "top": null,
            "grid_column": null,
            "overflow_y": null,
            "overflow_x": null,
            "grid_auto_flow": null,
            "grid_area": null,
            "grid_template_columns": null,
            "flex": null,
            "_model_name": "LayoutModel",
            "justify_items": null,
            "grid_row": null,
            "max_height": null,
            "align_content": null,
            "visibility": null,
            "align_self": null,
            "height": null,
            "min_height": null,
            "padding": null,
            "grid_auto_rows": null,
            "grid_gap": null,
            "max_width": null,
            "order": null,
            "_view_module_version": "1.2.0",
            "grid_template_areas": null,
            "object_position": null,
            "object_fit": null,
            "grid_auto_columns": null,
            "margin": null,
            "display": null,
            "left": null
          }
        },
        "e974280879554fa9a6bdecb08e20f432": {
          "model_module": "@jupyter-widgets/controls",
          "model_name": "ProgressStyleModel",
          "state": {
            "_view_name": "StyleView",
            "_model_name": "ProgressStyleModel",
            "description_width": "",
            "_view_module": "@jupyter-widgets/base",
            "_model_module_version": "1.5.0",
            "_view_count": null,
            "_view_module_version": "1.2.0",
            "bar_color": null,
            "_model_module": "@jupyter-widgets/controls"
          }
        },
        "bab9afa90a1e472cb630729ac73f4e06": {
          "model_module": "@jupyter-widgets/base",
          "model_name": "LayoutModel",
          "state": {
            "_view_name": "LayoutView",
            "grid_template_rows": null,
            "right": null,
            "justify_content": null,
            "_view_module": "@jupyter-widgets/base",
            "overflow": null,
            "_model_module_version": "1.2.0",
            "_view_count": null,
            "flex_flow": null,
            "width": null,
            "min_width": null,
            "border": null,
            "align_items": null,
            "bottom": null,
            "_model_module": "@jupyter-widgets/base",
            "top": null,
            "grid_column": null,
            "overflow_y": null,
            "overflow_x": null,
            "grid_auto_flow": null,
            "grid_area": null,
            "grid_template_columns": null,
            "flex": null,
            "_model_name": "LayoutModel",
            "justify_items": null,
            "grid_row": null,
            "max_height": null,
            "align_content": null,
            "visibility": null,
            "align_self": null,
            "height": null,
            "min_height": null,
            "padding": null,
            "grid_auto_rows": null,
            "grid_gap": null,
            "max_width": null,
            "order": null,
            "_view_module_version": "1.2.0",
            "grid_template_areas": null,
            "object_position": null,
            "object_fit": null,
            "grid_auto_columns": null,
            "margin": null,
            "display": null,
            "left": null
          }
        },
        "559cb9cdc5b141cf8348ce59e51101c0": {
          "model_module": "@jupyter-widgets/controls",
          "model_name": "DescriptionStyleModel",
          "state": {
            "_view_name": "StyleView",
            "_model_name": "DescriptionStyleModel",
            "description_width": "",
            "_view_module": "@jupyter-widgets/base",
            "_model_module_version": "1.5.0",
            "_view_count": null,
            "_view_module_version": "1.2.0",
            "_model_module": "@jupyter-widgets/controls"
          }
        },
        "98b5ddc97a1647049388ca475dcabf52": {
          "model_module": "@jupyter-widgets/base",
          "model_name": "LayoutModel",
          "state": {
            "_view_name": "LayoutView",
            "grid_template_rows": null,
            "right": null,
            "justify_content": null,
            "_view_module": "@jupyter-widgets/base",
            "overflow": null,
            "_model_module_version": "1.2.0",
            "_view_count": null,
            "flex_flow": null,
            "width": null,
            "min_width": null,
            "border": null,
            "align_items": null,
            "bottom": null,
            "_model_module": "@jupyter-widgets/base",
            "top": null,
            "grid_column": null,
            "overflow_y": null,
            "overflow_x": null,
            "grid_auto_flow": null,
            "grid_area": null,
            "grid_template_columns": null,
            "flex": null,
            "_model_name": "LayoutModel",
            "justify_items": null,
            "grid_row": null,
            "max_height": null,
            "align_content": null,
            "visibility": null,
            "align_self": null,
            "height": null,
            "min_height": null,
            "padding": null,
            "grid_auto_rows": null,
            "grid_gap": null,
            "max_width": null,
            "order": null,
            "_view_module_version": "1.2.0",
            "grid_template_areas": null,
            "object_position": null,
            "object_fit": null,
            "grid_auto_columns": null,
            "margin": null,
            "display": null,
            "left": null
          }
        }
      }
    }
  },
  "cells": [
    {
      "cell_type": "markdown",
      "metadata": {
        "id": "qmZ1uZecv7qW"
      },
      "source": [
        "# Tutorial: Zero-shot cross-lingual topic modeling with ZeroShotTM\n",
        "\n",
        "(last updated 11-01-2021)\n",
        "\n",
        "In this tutorial, we are going to use our **Zero-Shot Topic Model** to get the topics out of a collections of articles you will upload here. Then, we are going to predict the topics of unseen documents in an unseen language exploiting the multilingual capabilities of Multilingual BERT. \n",
        "\n",
        "## Topic Models \n",
        "\n",
        "Topic models allow you to discover latent topics in your documents in a completely unsupervised way. Just use your documents and get topics out.\n",
        "\n",
        "## Contextualized Topic Models\n",
        "\n",
        "![](https://raw.githubusercontent.com/MilaNLProc/contextualized-topic-models/master/img/logo.png)\n",
        "\n",
        "What are Contextualized Topic Models? **CTMs** are a family of topic models that combine the expressive power of BERT embeddings with the unsupervised capabilities of topic models to get topics out of documents. In this tutorial, we are going to use the **Zero-Shot Topic Model** version of the Contextualized Topic Models because we want to tackle the problem of cross-lingual topic prediction. \n",
        "\n",
        "## Python Package\n",
        "\n",
        "You can find our package [here](https://github.com/MilaNLProc/contextualized-topic-models).\n",
        "\n",
        "![https://travis-ci.com/MilaNLProc/contextualized-topic-models](https://travis-ci.com/MilaNLProc/contextualized-topic-models.svg) ![https://pypi.python.org/pypi/contextualized_topic_models](https://img.shields.io/pypi/v/contextualized_topic_models.svg) ![https://pepy.tech/badge/contextualized-topic-models](https://pepy.tech/badge/contextualized-topic-models)\n",
        "\n",
        "\n"
      ]
    },
    {
      "cell_type": "markdown",
      "metadata": {
        "id": "ln23-soXeQk3"
      },
      "source": [
        "# Enabling the GPU\n",
        "\n",
        "First, you'll need to enable GPUs for the notebook:\n",
        "\n",
        "- Navigate to Edit→Notebook Settings\n",
        "- select GPU from the Hardware Accelerator drop-down\n",
        "\n",
        "[Reference](https://colab.research.google.com/notebooks/gpu.ipynb)"
      ]
    },
    {
      "cell_type": "markdown",
      "metadata": {
        "id": "QsNRo8I8Yem2"
      },
      "source": [
        "# Installing Contextualized Topic Models\n",
        "\n",
        "First, we install the contextualized topic model library"
      ]
    },
    {
      "cell_type": "code",
      "metadata": {
        "id": "BUw5EQi8v9r1"
      },
      "source": [
        "%%capture\n",
        "!pip install contextualized-topic-models\n",
        "!pip install torch==1.6.0+cu101 torchvision==0.7.0+cu101 -f https://download.pytorch.org/whl/torch_stable.html\n",
        "!pip install -U tqdm"
      ],
      "execution_count": null,
      "outputs": []
    },
    {
      "cell_type": "markdown",
      "metadata": {
        "id": "9AzfVSJfZE2f"
      },
      "source": [
        "## Restart the Notebook\n",
        "\n",
        "For the changes to take effect, we now need to restart the notebook.\n",
        "\n",
        "From the Menu:\n",
        "\n",
        "Runtime → Restart Runtime"
      ]
    },
    {
      "cell_type": "markdown",
      "metadata": {
        "id": "sgxRbgSZ9MsB"
      },
      "source": [
        "# Data\n",
        "\n",
        "We are going to need some data. You should upload a file with one document per line. We assume you haven't run any preprocessing script.\n",
        "\n",
        "However, if you want to first test the model without uploading your data, you can simply use the test file I'm putting here"
      ]
    },
    {
      "cell_type": "code",
      "metadata": {
        "id": "iZEPr_QFJdBz",
        "colab": {
          "base_uri": "https://localhost:8080/"
        },
        "outputId": "d6a1c313-2ae7-4116-b560-e119cf805eec"
      },
      "source": [
        "!wget https://raw.githubusercontent.com/vinid/data/master/dbpedia_sample_abstract_20k_unprep.txt"
      ],
      "execution_count": null,
      "outputs": [
        {
          "output_type": "stream",
          "text": [
            "--2021-01-11 21:49:35--  https://raw.githubusercontent.com/vinid/data/master/dbpedia_sample_abstract_20k_unprep.txt\n",
            "Resolving raw.githubusercontent.com (raw.githubusercontent.com)... 151.101.0.133, 151.101.64.133, 151.101.128.133, ...\n",
            "Connecting to raw.githubusercontent.com (raw.githubusercontent.com)|151.101.0.133|:443... connected.\n",
            "HTTP request sent, awaiting response... 200 OK\n",
            "Length: 6208417 (5.9M) [text/plain]\n",
            "Saving to: ‘dbpedia_sample_abstract_20k_unprep.txt.1’\n",
            "\n",
            "dbpedia_sample_abst 100%[===================>]   5.92M  --.-KB/s    in 0.05s   \n",
            "\n",
            "2021-01-11 21:49:35 (113 MB/s) - ‘dbpedia_sample_abstract_20k_unprep.txt.1’ saved [6208417/6208417]\n",
            "\n"
          ],
          "name": "stdout"
        }
      ]
    },
    {
      "cell_type": "code",
      "metadata": {
        "id": "pKZ9Yk0qJvxd",
        "colab": {
          "base_uri": "https://localhost:8080/"
        },
        "outputId": "d8bebc8a-01d2-4e27-cd32-a34a44a08734"
      },
      "source": [
        "!head -n 1 dbpedia_sample_abstract_20k_unprep.txt"
      ],
      "execution_count": null,
      "outputs": [
        {
          "output_type": "stream",
          "text": [
            "The Mid-Peninsula Highway is a proposed freeway across the Niagara Peninsula in the Canadian province of Ontario. Although plans for a highway connecting Hamilton to Fort Erie south of the Niagara Escarpment have surfaced for decades,it was not until The Niagara Frontier International Gateway Study was published by the Ministry\n"
          ],
          "name": "stdout"
        }
      ]
    },
    {
      "cell_type": "code",
      "metadata": {
        "id": "WXZ8fOdYwdWO"
      },
      "source": [
        "text_file = \"dbpedia_sample_abstract_20k_unprep.txt\" # EDIT THIS WITH THE FILE YOU UPLOAD"
      ],
      "execution_count": null,
      "outputs": []
    },
    {
      "cell_type": "markdown",
      "metadata": {
        "id": "M0c_ftxjxY_H"
      },
      "source": [
        "# Importing what we need"
      ]
    },
    {
      "cell_type": "code",
      "metadata": {
        "id": "SZmTpQUov8y8"
      },
      "source": [
        "from contextualized_topic_models.models.ctm import ZeroShotTM\n",
        "from contextualized_topic_models.utils.data_preparation import TopicModelDataPreparation\n",
        "from contextualized_topic_models.utils.preprocessing import WhiteSpacePreprocessing\n",
        "import nltk"
      ],
      "execution_count": null,
      "outputs": []
    },
    {
      "cell_type": "markdown",
      "metadata": {
        "id": "CQkeIrdWLU2m"
      },
      "source": [
        "## Preprocessing"
      ]
    },
    {
      "cell_type": "markdown",
      "metadata": {
        "id": "V-AM070Ez6lW"
      },
      "source": [
        "Why do we use the **preprocessed text** here? We need text without punctuation to build the bag of word. Also, we might want only to have the most frequent words inside the BoW. Too many words might not help."
      ]
    },
    {
      "cell_type": "code",
      "metadata": {
        "id": "HoKrSIkxaNBt",
        "colab": {
          "base_uri": "https://localhost:8080/"
        },
        "outputId": "966562b9-e8f2-4938-ce76-1b438f0c1bc7"
      },
      "source": [
        "nltk.download('stopwords')\n",
        "\n",
        "documents = [line.strip() for line in open(text_file, encoding=\"utf-8\").readlines()]\n",
        "sp = WhiteSpacePreprocessing(documents, stopwords_language='english')\n",
        "preprocessed_documents, unpreprocessed_corpus, vocab = sp.preprocess()"
      ],
      "execution_count": null,
      "outputs": [
        {
          "output_type": "stream",
          "text": [
            "[nltk_data] Downloading package stopwords to /root/nltk_data...\n",
            "[nltk_data]   Unzipping corpora/stopwords.zip.\n"
          ],
          "name": "stdout"
        }
      ]
    },
    {
      "cell_type": "code",
      "metadata": {
        "colab": {
          "base_uri": "https://localhost:8080/"
        },
        "id": "IDxo_ERVonRE",
        "outputId": "a45e039d-310a-43e5-c476-d84f55cac2fa"
      },
      "source": [
        "preprocessed_documents[:2]"
      ],
      "execution_count": null,
      "outputs": [
        {
          "output_type": "execute_result",
          "data": {
            "text/plain": [
              "['mid peninsula highway proposed across peninsula canadian province ontario although highway connecting hamilton fort south international study published ministry',\n",
              " 'died march american photographer specialized photography operated studio silver spring maryland later lived florida magazine photographer year']"
            ]
          },
          "metadata": {
            "tags": []
          },
          "execution_count": 7
        }
      ]
    },
    {
      "cell_type": "markdown",
      "metadata": {
        "id": "stAb2Q4eBB3W"
      },
      "source": [
        "We don't discard the non-preprocessed texts, because we are going to use them as input for obtaining the contextualized document representations. \n",
        "\n",
        "Let's pass our files with preprocess and unpreprocessed data to our `TopicModelDataPreparation` object. This object takes care of creating the bag of words for you and of obtaining the contextualized BERT representations of documents. This operation allows us to create our training dataset.\n",
        "\n",
        "Note: Here we use the contextualized model \"distiluse-base-multilingual-cased\", because we need a multilingual model for performing cross-lingual predictions later.  "
      ]
    },
    {
      "cell_type": "code",
      "metadata": {
        "id": "KhLt6VA3wvCB",
        "colab": {
          "base_uri": "https://localhost:8080/",
          "height": 66,
          "referenced_widgets": [
            "255c3c97f88b4d0c91e1d2f81aaa9bf5",
            "5c31d1bdd8474b4ca13a583b6b0439e9",
            "e0737fc705084ed0b9678e7fd9fc0416",
            "0afd803ac59544c1a156ebf54928d0be",
            "877a6b3638cc4f15bb694aafa7817cf9",
            "cfad01ca80a341dd988ed111a23fea39",
            "96d9e2e6eeef482ea1010f9999b0fdd7",
            "13661b004e16466ca423d022dfbca434",
            "32eb03953cc64465977356f851764cd7",
            "192daac668514f25b9607ea5c165bf6f",
            "8a6593cdc60c458fb51ee9ac7ed0a7fa"
          ]
        },
        "outputId": "e8381aab-ecfd-4ac2-bc35-a27f9a0eda11"
      },
      "source": [
        "tp = TopicModelDataPreparation(\"distiluse-base-multilingual-cased\")\n",
        "\n",
        "training_dataset = tp.create_training_set(text_for_contextual=unpreprocessed_corpus, text_for_bow=preprocessed_documents)"
      ],
      "execution_count": null,
      "outputs": [
        {
          "output_type": "stream",
          "text": [
            "100%|██████████| 504M/504M [00:28<00:00, 17.8MB/s]\n"
          ],
          "name": "stderr"
        },
        {
          "output_type": "display_data",
          "data": {
            "application/vnd.jupyter.widget-view+json": {
              "model_id": "255c3c97f88b4d0c91e1d2f81aaa9bf5",
              "version_minor": 0,
              "version_major": 2
            },
            "text/plain": [
              "Batches:   0%|          | 0/100 [00:00<?, ?it/s]"
            ]
          },
          "metadata": {
            "tags": []
          }
        }
      ]
    },
    {
      "cell_type": "markdown",
      "metadata": {
        "id": "-aevSxSBbYZG"
      },
      "source": [
        "Let's check the first ten words of the vocabulary "
      ]
    },
    {
      "cell_type": "code",
      "metadata": {
        "colab": {
          "base_uri": "https://localhost:8080/"
        },
        "id": "evwSKgdyyhWq",
        "outputId": "ccf15c84-4844-44c3-a785-1dedc49cccfc"
      },
      "source": [
        "tp.vocab[:10]"
      ],
      "execution_count": null,
      "outputs": [
        {
          "output_type": "execute_result",
          "data": {
            "text/plain": [
              "['abbreviated',\n",
              " 'academic',\n",
              " 'academy',\n",
              " 'access',\n",
              " 'according',\n",
              " 'achieved',\n",
              " 'acquired',\n",
              " 'acre',\n",
              " 'acres',\n",
              " 'across']"
            ]
          },
          "metadata": {
            "tags": []
          },
          "execution_count": 9
        }
      ]
    },
    {
      "cell_type": "markdown",
      "metadata": {
        "id": "4x-esnySk7uO"
      },
      "source": [
        "## Training our Zero-Shot Contextualized Topic Model\n",
        "\n",
        "Finally, we can fit our new topic model. We will ask the model to find 50 topics in our collection (n_component parameter of the CTM object)."
      ]
    },
    {
      "cell_type": "code",
      "metadata": {
        "id": "9I3ThmBf0BcK",
        "colab": {
          "base_uri": "https://localhost:8080/"
        },
        "outputId": "acf18397-e816-4cb6-bbce-4231477583d2"
      },
      "source": [
        "ctm = ZeroShotTM(input_size=len(tp.vocab), bert_input_size=512, n_components=50, num_epochs=15)\n",
        "ctm.fit(training_dataset) # run the model\n"
      ],
      "execution_count": null,
      "outputs": [
        {
          "output_type": "stream",
          "text": [
            "Epoch: [15/15]\t Seen Samples: [300000/300000]\tTrain Loss: 138.64411013183593\tTime: 0:00:05.424988: : 15it [01:21,  5.46s/it]\n"
          ],
          "name": "stderr"
        }
      ]
    },
    {
      "cell_type": "markdown",
      "metadata": {
        "id": "-SEBG6wj9Zdu"
      },
      "source": [
        "# Topics\n",
        "\n",
        "After training, now it is the time to look at our topics: we can use the \n",
        "\n",
        "```\n",
        "get_topic_lists\n",
        "```\n",
        "\n",
        "function to get the topics. It also accepts a parameter that allows you to select how many words you want to see for each topic.\n",
        "\n",
        "If you look at the topics, you will see that they all make sense and are representative of a collection of documents that comes from Wikipedia (general knowledge). Notice that the topics are in English, because we trained the model on English documents."
      ]
    },
    {
      "cell_type": "code",
      "metadata": {
        "id": "lxcKgjbx3V2o",
        "colab": {
          "base_uri": "https://localhost:8080/"
        },
        "outputId": "bc106796-483b-49a6-cedb-baf155322d33"
      },
      "source": [
        "ctm.get_topic_lists(5)"
      ],
      "execution_count": null,
      "outputs": [
        {
          "output_type": "execute_result",
          "data": {
            "text/plain": [
              "[['house', 'built', 'located', 'national', 'historic'],\n",
              " ['family', 'found', 'species', 'mm', 'moth'],\n",
              " ['district', 'village', 'km', 'county', 'west'],\n",
              " ['station', 'line', 'railway', 'river', 'near'],\n",
              " ['member', 'politician', 'party', 'general', 'political'],\n",
              " ['series', 'game', 'film', 'directed', 'written'],\n",
              " ['county', 'located', 'united', 'states', 'city'],\n",
              " ['university', 'american', 'professor', 'born', 'law'],\n",
              " ['war', 'army', 'french', 'professor', 'british'],\n",
              " ['century', 'ii', 'war', 'king', 'greek'],\n",
              " ['company', 'software', 'based', 'information', 'developed'],\n",
              " ['built', 'house', 'building', 'church', 'story'],\n",
              " ['province', 'population', 'district', 'municipality', 'region'],\n",
              " ['team', 'football', 'league', 'season', 'games'],\n",
              " ['school', 'high', 'university', 'college', 'state'],\n",
              " ['television', 'film', 'directed', 'published', 'series'],\n",
              " ['county', 'states', 'city', 'united', 'located'],\n",
              " ['family', 'genus', 'found', 'plant', 'species'],\n",
              " ['american', 'football', 'played', 'player', 'former'],\n",
              " ['river', 'island', 'located', 'region', 'range'],\n",
              " ['born', 'world', 'competed', 'olympics', 'best'],\n",
              " ['navy', 'war', 'royal', 'built', 'ship'],\n",
              " ['film', 'television', 'directed', 'written', 'series'],\n",
              " ['league', 'cup', 'season', 'final', 'teams'],\n",
              " ['album', 'released', 'film', 'produced', 'group'],\n",
              " ['band', 'album', 'released', 'rock', 'music'],\n",
              " ['born', 'american', 'known', 'best', 'writer'],\n",
              " ['mi', 'km', 'village', 'east', 'west'],\n",
              " ['film', 'best', 'released', 'directed', 'album'],\n",
              " ['american', 'released', 'album', 'band', 'music'],\n",
              " ['form', 'theory', 'either', 'process', 'different'],\n",
              " ['played', 'born', 'former', 'made', 'league'],\n",
              " ['company', 'international', 'services', 'based', 'research'],\n",
              " ['album', 'released', 'band', 'singer', 'best'],\n",
              " ['season', 'team', 'league', 'football', 'stadium'],\n",
              " ['family', 'species', 'found', 'native', 'australia'],\n",
              " ['published', 'game', 'book', 'developed', 'written'],\n",
              " ['became', 'studied', 'french', 'writer', 'political'],\n",
              " ['born', 'played', 'former', 'member', 'politician'],\n",
              " ['son', 'war', 'de', 'century', 'french'],\n",
              " ['station', 'railway', 'line', 'located', 'street'],\n",
              " ['party', 'member', 'election', 'council', 'held'],\n",
              " ['computer', 'systems', 'use', 'theory', 'used'],\n",
              " ['world', 'player', 'event', 'championships', 'born'],\n",
              " ['enzyme', 'gene', 'chemical', 'humans', 'protein'],\n",
              " ['located', 'town', 'area', 'river', 'miles'],\n",
              " ['mi', 'east', 'village', 'km', 'west'],\n",
              " ['school', 'college', 'university', 'education', 'high'],\n",
              " ['research', 'organization', 'government', 'founded', 'non'],\n",
              " ['world', 'held', 'tour', 'championships', 'event']]"
            ]
          },
          "metadata": {
            "tags": []
          },
          "execution_count": 11
        }
      ]
    },
    {
      "cell_type": "markdown",
      "metadata": {
        "id": "jeNJfHvzjD2R"
      },
      "source": [
        "### Let's predict the topics of the training documents \n",
        "\n",
        "Ok now we can take a document and see which topic has been assigned to it. Results will obviously change with respect to the documents you are using. For example, let's predict the topic of the first preprocessed document that is talking about a peninsula."
      ]
    },
    {
      "cell_type": "code",
      "metadata": {
        "id": "Zl5O1HExjI0e",
        "colab": {
          "base_uri": "https://localhost:8080/"
        },
        "outputId": "a34197bc-00ef-4c49-9203-c6012c86ac72"
      },
      "source": [
        "topics_predictions = ctm.get_thetas(training_dataset, n_samples=5) # get all the topic predictions"
      ],
      "execution_count": null,
      "outputs": [
        {
          "output_type": "stream",
          "text": [
            "/usr/local/lib/python3.6/dist-packages/contextualized_topic_models/models/ctm.py:257: DeprecationWarning: Call to `get_thetas` is deprecated and will be removed in version 2, use `get_doc_topic_distribution` instead\n",
            "  DeprecationWarning)\n",
            "Sampling: [5/5]: : 5it [00:23,  4.72s/it]\n"
          ],
          "name": "stderr"
        }
      ]
    },
    {
      "cell_type": "code",
      "metadata": {
        "id": "fFWsIxDYj0pC",
        "colab": {
          "base_uri": "https://localhost:8080/",
          "height": 53
        },
        "outputId": "b3c80f8b-9be7-4cd4-a5af-6097fcdc35fb"
      },
      "source": [
        "preprocessed_documents[0] # see the text of our preprocessed document"
      ],
      "execution_count": null,
      "outputs": [
        {
          "output_type": "execute_result",
          "data": {
            "application/vnd.google.colaboratory.intrinsic+json": {
              "type": "string"
            },
            "text/plain": [
              "'mid peninsula highway proposed across peninsula canadian province ontario although highway connecting hamilton fort south international study published ministry'"
            ]
          },
          "metadata": {
            "tags": []
          },
          "execution_count": 13
        }
      ]
    },
    {
      "cell_type": "code",
      "metadata": {
        "id": "kJf1bP5PjqOQ"
      },
      "source": [
        "import numpy as np\n",
        "topic_number = np.argmax(topics_predictions[0]) # get the topic id of the first document"
      ],
      "execution_count": null,
      "outputs": []
    },
    {
      "cell_type": "code",
      "metadata": {
        "id": "yMA9vUsgjwOi",
        "colab": {
          "base_uri": "https://localhost:8080/"
        },
        "outputId": "690e1caa-0380-4298-9b25-7dbd802ceede"
      },
      "source": [
        "ctm.get_topic_lists(5)[topic_number] #and the topic should be about natural location related things"
      ],
      "execution_count": null,
      "outputs": [
        {
          "output_type": "execute_result",
          "data": {
            "text/plain": [
              "['station', 'railway', 'line', 'located', 'street']"
            ]
          },
          "metadata": {
            "tags": []
          },
          "execution_count": 15
        }
      ]
    },
    {
      "cell_type": "markdown",
      "metadata": {
        "id": "W8Je_kudwYqE"
      },
      "source": [
        "### Let's predict the topics of the documents in unseen languages \n",
        "\n",
        "It's time to take advantage of the power of multilingual BERT. Let's predict the topics of some Italian documents. First, we download the data as before."
      ]
    },
    {
      "cell_type": "code",
      "metadata": {
        "id": "7nPrdOguP7yq",
        "colab": {
          "base_uri": "https://localhost:8080/"
        },
        "outputId": "0826042a-ba2c-4f27-9e49-6fd780539f6c"
      },
      "source": [
        "!wget https://raw.githubusercontent.com/vinid/data/master/italian_documents.txt"
      ],
      "execution_count": null,
      "outputs": [
        {
          "output_type": "stream",
          "text": [
            "--2021-01-11 21:53:28--  https://raw.githubusercontent.com/vinid/data/master/italian_documents.txt\n",
            "Resolving raw.githubusercontent.com (raw.githubusercontent.com)... 151.101.0.133, 151.101.64.133, 151.101.128.133, ...\n",
            "Connecting to raw.githubusercontent.com (raw.githubusercontent.com)|151.101.0.133|:443... connected.\n",
            "HTTP request sent, awaiting response... 200 OK\n",
            "Length: 7122 (7.0K) [text/plain]\n",
            "Saving to: ‘italian_documents.txt’\n",
            "\n",
            "\ritalian_documents.t   0%[                    ]       0  --.-KB/s               \ritalian_documents.t 100%[===================>]   6.96K  --.-KB/s    in 0s      \n",
            "\n",
            "2021-01-11 21:53:28 (33.1 MB/s) - ‘italian_documents.txt’ saved [7122/7122]\n",
            "\n"
          ],
          "name": "stdout"
        }
      ]
    },
    {
      "cell_type": "code",
      "metadata": {
        "id": "-X56pyC-Athr",
        "colab": {
          "base_uri": "https://localhost:8080/"
        },
        "outputId": "15036052-5a9f-4a7f-8d1d-35ffc342746d"
      },
      "source": [
        "italian_documents = [line.strip() for line in open(\"italian_documents.txt\", 'r').readlines()]\n",
        "italian_documents"
      ],
      "execution_count": null,
      "outputs": [
        {
          "output_type": "execute_result",
          "data": {
            "text/plain": [
              "['Fu l\\'ispiratore e uno dei fondatori della rivista \"Dau al Set\" e dell\\'omonimo gruppo artistico ed intellettuale catalano (1948). È ritenuto il massimo esponente della poesia visiva non solo della letteratura catalana, ma il pioniere di questo genere in Spagna e uno dei grandi riferimenti internazionali. La totalità della sua opera creativa lo segnala come uno degli autori più prolifici della cultura occidentale contemporanea. Sebbene schierato nell\\'avanguardia della poesia della prima metà del XX secolo (esplorò validamente l\\'ipnagogia, il surrealismo e il dadaismo), si esercitò alla scrittura di centinaia di sonetti, odi saffiche e sestine liriche dalla totale perfezione formale alla sperimentazione più estrema, nonché migliaia di poemi in forma libera. In vita pubblicò un\\'ottantina di libri lasciandone parecchi d\\'inediti. Il suo lavoro letterario comprendeva tutti i generi: poesia, prosa, teatro (la sua cosiddetta \"poesia scenica\", oltre 350 opere), cinema, musica, cabaret, performance, arti parateatrali, prestidigitazione, circo. Le sue opere sono state scritte senza eccezioni in lingua catalana. Secondo lui, la forma era prioritaria nei confronti del contenuto, quindi la sua poesia prese spesso l\\'aspetto di gioco con le parole, anzi con le singole lettere, sempre con acuto senso dell\\'umorismo. Ciò non escludeva, però, il forte impegno politico e sociale del suo messaggio artistico nonché il testimonio patriottico catalano. L\\'opera di Brossa, sia lirica che plastica, è sempre collegata alla visualità. La sua letteratura è imbevuta di uno spirito visivo, quasi fotografico, della realtà che deve essere scoperto e rielaborato dal lettore/spettatore secondo i propri atteggiamenti. La comunicazione è quindi contrapposta alla semplice espressione dell\\'artista, il quale deve assumere un ruolo di esca per le potenzialità di ciascuno. A tale scopo le armi brossiane sono la satira, la seccatura, l\\'ironia, la critica e addirittura l\\'irriverenza. Nel corso della sua carriera letteraria Brossa collaborò spesso con importanti artisti di altre discipline, tali i pittori Joan Miró e Antoni Tàpies, i musicisti Josep M. Mestres Quadreny e Carles Santos, lo scultore Eduardo Chillida, il regista Pere Portabella, il fotografo Chema Madoz. Brossa non voleva essere chiamato altro che \"poeta\". Comunque è stato il suo lavoro plastico (poemi visuali, poemi oggetto, installazioni, poster, poemi urbani, ecc.), il quale ovviamente varca ogni confine linguistico, ad ottenere un riconoscimento mondiale anche in circoli spesso altresì disconoscenti riguardo alla sua, pur immensa, produzione letteraria. Fedele ai parametri futuristici, già nel 1941 abbozzò i suoi primi «poemi sperimentali» in cui venivano oltrepassate le norme della letteratura strictu senso con una tecnica non lontana dal calligramma. L\\'esordio di Brossa nella plastica vera e propria è un objet trouvé datato 1943. Nel 1953 concepisce il suo primo poema-oggetto (un accoppiamento di due oggetti dispari) e tre anni dopo realizza la prima installazione in un negozio di Barcellona. È comunque negli anni sessanta che la sua sperimentazione nella poesia visiva e nella poesia oggettuale raggiunge la pienezza sia in numero che in profondità. È del 1960 il poema oggetto Cerilla (Fiammifero), probabilmente la prima opera europea d\\'arte concettuale, e del 1965 il libro di artista Novel·la (Romanzo) -creato in collaborazione con Antoni Tàpies- che è ritenuto un capolavoro di detto genere. Brossa creava i poemi visuali (oltre milletrecento) in serie regolate allo scopo di presentarli in formato libro. Alcune decine di essi vennero poi pubblicati in singole serigrafie, ma la maggioranza resta tuttora inedita. Dopo il ripristino della democrazia in Spagna (1978), la poesia di Brossa si spiega nei poster, spesso dedicati alla cultura popolare ormai esplosa in piena libertà. Contemporaneamente i suoi libri di poesia letteraria vengono pubblicati non più censurati, né idiomaticamente né ideologicamente. Ben presto Brossa riceve incarichi dalle nuove autorità democratiche, e quindi nel 1984 la sua poesia raggiunge gli spazi pubblici con il monumentale Poema visuale transitabile in tre parti del Parc del Laberint d\\'Horta di Barcellona: è il suo primo «poema urbano», un nuovo concetto di poesia che, pari al letterario, al drammatico, al visuale e all\\'oggettuale, il poeta non abbandonerà più. Dopo la prima retrospettiva alla Fundació Joan Miró di Barcellona nel 1986, l\\'opera plastica di Brossa viene subito esibita individualmente all\\'estero: Monaco di Baviera (1988), New York e Basilea (1989), Houston e Minneapolis (1990), Céret-Collioure (1991)... Proprio quest\\'anno una grande mostra antologica al Museo Nacional Centro de Arte Reina Sofia di Madrid ribadì il riconoscimento internazionale del poeta, la cui opera venne presentata nei padiglioni ufficiali delle Biennali di São Paulo (1994) e di Venezia (1997) ed esposta singolarmente a Londra e Chicago (1992), Marsiglia e Malmö (1993), Parigi (1995), Francoforte (1997), Città del Messico, Monterrey, Cassel e Göteborg (1998). Dopo la morte del poeta, una nuova antologica alla Fundació Joan Miró di Barcellona (2001) situò Brossa tra i più importanti nomi della creazione artistica della seconda metà del XX secolo. Dal 2005 in poi altre retrospettive sono state presentate in parecchie città del Cile, dell\\'Argentina, del Brasile, del Portogallo, della Spagna, dell\\'Austria, della Repubblica Ceca, della Svezia, della Francia, della Germania, della Polonia, del Messico ed ancora della Francia. Nel frattempo l\\'opera plastica di Brossa arrivava a musei e collezioni private di tutto il mondo, la sua poesia scenica veniva rappresentata ovunque e le traduzioni della sua poesia letteraria raggiungevano la quindicina di lingue. Nel 1988 Joan Brossa era stato decorato dall\\'UNESCO con la medaglia Picasso. Il 1999 nella circostanza dell\\'ottantesimo anniversario del poeta, l\\'Università Autonoma di Barcellona intendeva conferirgli la laurea honoris causa, ma Brossa morì venti giorni prima a causa di un incidente domestico. Dal 2012 l\\'enorme lascito di Joan Brossa -oltre 64.000 capi- è custodito dal Museo di Arte Contemporanea di Barcellona con impegno di classifica, studio ed esibizione.',\n",
              " 'Bound - Torbido inganno (Bound) è un film del 1996 scritto e diretto da Lana e Lilly Wachowski. È il primo film diretto dalle sorelle Wachowski, prima del grande successo cinematografico e mediatico di Matrix, che avverrà quasi quattro anni dopo.',\n",
              " \"Enrico VIII è un dramma storico di William Shakespeare composto nel 1612 - 1613 alla cui stesura del testo collaborò probabilmente, come già ne I due nobili cugini, il drammaturgo John Fletcher. È ispirato alla figura di Enrico VIII d'Inghilterra.\",\n",
              " 'La provincia di Ratchaburi si trova in Thailandia, nella regione della Thailandia Centrale. Si estende per 5.196,5 km², ha 847.695 abitanti ed il capoluogo è il distretto di Mueang Ratchaburi. La città principale è Ratchaburi.',\n",
              " 'La lingua pemon è una lingua caribe parlata in Venezuela, Brasile e Guyana.']"
            ]
          },
          "metadata": {
            "tags": []
          },
          "execution_count": 17
        }
      ]
    },
    {
      "cell_type": "markdown",
      "metadata": {
        "id": "_EFph7SymSMZ"
      },
      "source": [
        "There's no need to do preprocess the documents if you want to do zero-shot topic modeling! (The vocabulary obtained from the Italian documents wouldn't match our English vocabulary!) Let's just pass the italian documents as they are (without preprocessing) to our `TopicModelDataPreparation` object and create the testing dataset. "
      ]
    },
    {
      "cell_type": "code",
      "metadata": {
        "id": "e1TWWcFjwOgk",
        "colab": {
          "base_uri": "https://localhost:8080/",
          "height": 48,
          "referenced_widgets": [
            "5b6f62f7e61b4ecfbeec609e8d984c91",
            "85dabeb5bcb047db95a96061ee92841e",
            "b3896efb1d094b4596a5d620ddb78512",
            "73d5914d4c9a480284a81c7e597c8f24",
            "44813a3e5c8348318cbfd811c5289e51",
            "120b0cc01bbb473a9371dd068e00e7d8",
            "ad4c59f2370b4d62b75daf0d8f85a960",
            "e974280879554fa9a6bdecb08e20f432",
            "bab9afa90a1e472cb630729ac73f4e06",
            "559cb9cdc5b141cf8348ce59e51101c0",
            "98b5ddc97a1647049388ca475dcabf52"
          ]
        },
        "outputId": "9e4cc04d-1b5b-4737-ec20-e0c4681f60d8"
      },
      "source": [
        "testing_dataset = tp.create_test_set(italian_documents) # create dataset for the testset\n"
      ],
      "execution_count": null,
      "outputs": [
        {
          "output_type": "display_data",
          "data": {
            "application/vnd.jupyter.widget-view+json": {
              "model_id": "5b6f62f7e61b4ecfbeec609e8d984c91",
              "version_minor": 0,
              "version_major": 2
            },
            "text/plain": [
              "Batches:   0%|          | 0/1 [00:00<?, ?it/s]"
            ]
          },
          "metadata": {
            "tags": []
          }
        }
      ]
    },
    {
      "cell_type": "markdown",
      "metadata": {
        "id": "M6sWnYF8wXp8"
      },
      "source": [
        "Now we are ready to compute the topic predictions for each document. \n"
      ]
    },
    {
      "cell_type": "code",
      "metadata": {
        "id": "By9S7UIVz4Zr",
        "colab": {
          "base_uri": "https://localhost:8080/"
        },
        "outputId": "7ede0ef4-1d53-4b72-f71d-7546d967de16"
      },
      "source": [
        "# n_sample how many times to sample the distribution (see the documentation)\n",
        "italian_topics_predictions = ctm.get_thetas(testing_dataset, n_samples=5) # get all the topic predictions\n"
      ],
      "execution_count": null,
      "outputs": [
        {
          "output_type": "stream",
          "text": [
            "/usr/local/lib/python3.6/dist-packages/contextualized_topic_models/models/ctm.py:257: DeprecationWarning: Call to `get_thetas` is deprecated and will be removed in version 2, use `get_doc_topic_distribution` instead\n",
            "  DeprecationWarning)\n",
            "Sampling: [5/5]: : 5it [00:01,  4.90it/s]\n"
          ],
          "name": "stderr"
        }
      ]
    },
    {
      "cell_type": "markdown",
      "metadata": {
        "id": "cXj0xNJLnofD"
      },
      "source": [
        "Let's consider the first one that talks about an artist"
      ]
    },
    {
      "cell_type": "code",
      "metadata": {
        "colab": {
          "base_uri": "https://localhost:8080/",
          "height": 160
        },
        "id": "bNE673rNnucR",
        "outputId": "fe348884-3286-41eb-ff65-72ae089aa0da"
      },
      "source": [
        "italian_documents[0]"
      ],
      "execution_count": null,
      "outputs": [
        {
          "output_type": "execute_result",
          "data": {
            "application/vnd.google.colaboratory.intrinsic+json": {
              "type": "string"
            },
            "text/plain": [
              "'Fu l\\'ispiratore e uno dei fondatori della rivista \"Dau al Set\" e dell\\'omonimo gruppo artistico ed intellettuale catalano (1948). È ritenuto il massimo esponente della poesia visiva non solo della letteratura catalana, ma il pioniere di questo genere in Spagna e uno dei grandi riferimenti internazionali. La totalità della sua opera creativa lo segnala come uno degli autori più prolifici della cultura occidentale contemporanea. Sebbene schierato nell\\'avanguardia della poesia della prima metà del XX secolo (esplorò validamente l\\'ipnagogia, il surrealismo e il dadaismo), si esercitò alla scrittura di centinaia di sonetti, odi saffiche e sestine liriche dalla totale perfezione formale alla sperimentazione più estrema, nonché migliaia di poemi in forma libera. In vita pubblicò un\\'ottantina di libri lasciandone parecchi d\\'inediti. Il suo lavoro letterario comprendeva tutti i generi: poesia, prosa, teatro (la sua cosiddetta \"poesia scenica\", oltre 350 opere), cinema, musica, cabaret, performance, arti parateatrali, prestidigitazione, circo. Le sue opere sono state scritte senza eccezioni in lingua catalana. Secondo lui, la forma era prioritaria nei confronti del contenuto, quindi la sua poesia prese spesso l\\'aspetto di gioco con le parole, anzi con le singole lettere, sempre con acuto senso dell\\'umorismo. Ciò non escludeva, però, il forte impegno politico e sociale del suo messaggio artistico nonché il testimonio patriottico catalano. L\\'opera di Brossa, sia lirica che plastica, è sempre collegata alla visualità. La sua letteratura è imbevuta di uno spirito visivo, quasi fotografico, della realtà che deve essere scoperto e rielaborato dal lettore/spettatore secondo i propri atteggiamenti. La comunicazione è quindi contrapposta alla semplice espressione dell\\'artista, il quale deve assumere un ruolo di esca per le potenzialità di ciascuno. A tale scopo le armi brossiane sono la satira, la seccatura, l\\'ironia, la critica e addirittura l\\'irriverenza. Nel corso della sua carriera letteraria Brossa collaborò spesso con importanti artisti di altre discipline, tali i pittori Joan Miró e Antoni Tàpies, i musicisti Josep M. Mestres Quadreny e Carles Santos, lo scultore Eduardo Chillida, il regista Pere Portabella, il fotografo Chema Madoz. Brossa non voleva essere chiamato altro che \"poeta\". Comunque è stato il suo lavoro plastico (poemi visuali, poemi oggetto, installazioni, poster, poemi urbani, ecc.), il quale ovviamente varca ogni confine linguistico, ad ottenere un riconoscimento mondiale anche in circoli spesso altresì disconoscenti riguardo alla sua, pur immensa, produzione letteraria. Fedele ai parametri futuristici, già nel 1941 abbozzò i suoi primi «poemi sperimentali» in cui venivano oltrepassate le norme della letteratura strictu senso con una tecnica non lontana dal calligramma. L\\'esordio di Brossa nella plastica vera e propria è un objet trouvé datato 1943. Nel 1953 concepisce il suo primo poema-oggetto (un accoppiamento di due oggetti dispari) e tre anni dopo realizza la prima installazione in un negozio di Barcellona. È comunque negli anni sessanta che la sua sperimentazione nella poesia visiva e nella poesia oggettuale raggiunge la pienezza sia in numero che in profondità. È del 1960 il poema oggetto Cerilla (Fiammifero), probabilmente la prima opera europea d\\'arte concettuale, e del 1965 il libro di artista Novel·la (Romanzo) -creato in collaborazione con Antoni Tàpies- che è ritenuto un capolavoro di detto genere. Brossa creava i poemi visuali (oltre milletrecento) in serie regolate allo scopo di presentarli in formato libro. Alcune decine di essi vennero poi pubblicati in singole serigrafie, ma la maggioranza resta tuttora inedita. Dopo il ripristino della democrazia in Spagna (1978), la poesia di Brossa si spiega nei poster, spesso dedicati alla cultura popolare ormai esplosa in piena libertà. Contemporaneamente i suoi libri di poesia letteraria vengono pubblicati non più censurati, né idiomaticamente né ideologicamente. Ben presto Brossa riceve incarichi dalle nuove autorità democratiche, e quindi nel 1984 la sua poesia raggiunge gli spazi pubblici con il monumentale Poema visuale transitabile in tre parti del Parc del Laberint d\\'Horta di Barcellona: è il suo primo «poema urbano», un nuovo concetto di poesia che, pari al letterario, al drammatico, al visuale e all\\'oggettuale, il poeta non abbandonerà più. Dopo la prima retrospettiva alla Fundació Joan Miró di Barcellona nel 1986, l\\'opera plastica di Brossa viene subito esibita individualmente all\\'estero: Monaco di Baviera (1988), New York e Basilea (1989), Houston e Minneapolis (1990), Céret-Collioure (1991)... Proprio quest\\'anno una grande mostra antologica al Museo Nacional Centro de Arte Reina Sofia di Madrid ribadì il riconoscimento internazionale del poeta, la cui opera venne presentata nei padiglioni ufficiali delle Biennali di São Paulo (1994) e di Venezia (1997) ed esposta singolarmente a Londra e Chicago (1992), Marsiglia e Malmö (1993), Parigi (1995), Francoforte (1997), Città del Messico, Monterrey, Cassel e Göteborg (1998). Dopo la morte del poeta, una nuova antologica alla Fundació Joan Miró di Barcellona (2001) situò Brossa tra i più importanti nomi della creazione artistica della seconda metà del XX secolo. Dal 2005 in poi altre retrospettive sono state presentate in parecchie città del Cile, dell\\'Argentina, del Brasile, del Portogallo, della Spagna, dell\\'Austria, della Repubblica Ceca, della Svezia, della Francia, della Germania, della Polonia, del Messico ed ancora della Francia. Nel frattempo l\\'opera plastica di Brossa arrivava a musei e collezioni private di tutto il mondo, la sua poesia scenica veniva rappresentata ovunque e le traduzioni della sua poesia letteraria raggiungevano la quindicina di lingue. Nel 1988 Joan Brossa era stato decorato dall\\'UNESCO con la medaglia Picasso. Il 1999 nella circostanza dell\\'ottantesimo anniversario del poeta, l\\'Università Autonoma di Barcellona intendeva conferirgli la laurea honoris causa, ma Brossa morì venti giorni prima a causa di un incidente domestico. Dal 2012 l\\'enorme lascito di Joan Brossa -oltre 64.000 capi- è custodito dal Museo di Arte Contemporanea di Barcellona con impegno di classifica, studio ed esibizione.'"
            ]
          },
          "metadata": {
            "tags": []
          },
          "execution_count": 20
        }
      ]
    },
    {
      "cell_type": "markdown",
      "metadata": {
        "id": "AKvxyzJqQXZN"
      },
      "source": [
        "As we did before, let's get the index of most likely topic of the first document and then show the topic words to see if the topic's prediction is accurate"
      ]
    },
    {
      "cell_type": "code",
      "metadata": {
        "id": "7eMysrnZQWjj",
        "colab": {
          "base_uri": "https://localhost:8080/"
        },
        "outputId": "d1da7218-02a3-457f-e4f8-b8d24dc9df96"
      },
      "source": [
        "topic_number = np.argmax(italian_topics_predictions[0]) # get the topic id of the first document\n",
        "ctm.get_topic_lists(10)[topic_number] "
      ],
      "execution_count": null,
      "outputs": [
        {
          "output_type": "execute_result",
          "data": {
            "text/plain": [
              "['son',\n",
              " 'war',\n",
              " 'de',\n",
              " 'century',\n",
              " 'french',\n",
              " 'ii',\n",
              " 'daughter',\n",
              " 'king',\n",
              " 'father',\n",
              " 'cross']"
            ]
          },
          "metadata": {
            "tags": []
          },
          "execution_count": 21
        }
      ]
    },
    {
      "cell_type": "code",
      "metadata": {
        "id": "71CWic5ZWxJg"
      },
      "source": [
        ""
      ],
      "execution_count": null,
      "outputs": []
    }
  ]
}