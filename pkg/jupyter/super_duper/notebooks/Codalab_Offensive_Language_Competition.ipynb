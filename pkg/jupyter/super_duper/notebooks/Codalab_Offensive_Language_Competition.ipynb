{
  "nbformat": 4,
  "nbformat_minor": 0,
  "metadata": {
    "colab": {
      "name": "Codalab Offensive Language Competition.ipynb",
      "provenance": [],
      "collapsed_sections": [],
      "machine_shape": "hm"
    },
    "kernelspec": {
      "name": "python3",
      "display_name": "Python 3"
    },
    "accelerator": "GPU"
  },
  "cells": [
    {
      "cell_type": "markdown",
      "metadata": {
        "id": "p_PTaklxgTzA"
      },
      "source": [
        "#Codalab Offensive Language Competition.ipynb\n",
        "\n",
        "Trains a model for the [Codalab Offensitve Language Competition](https://competitions.codalab.org/competitions/20011) that simply uses the pre-trained BERT model with an appended classification layer.\n",
        "\n",
        "F1-score achieved = 0.9 which would have easily won the competition at the time (the competition was won with a score of 0.83).\n",
        " "
      ]
    },
    {
      "cell_type": "code",
      "metadata": {
        "id": "sOaCpe6keHze",
        "colab": {
          "base_uri": "https://localhost:8080/",
          "height": 700
        },
        "outputId": "d4a70d80-7c48-49e0-8956-230840bdf84a"
      },
      "source": [
        "!pip install tensorflow==2.0 -q\n",
        "!pip install tensorflow-gpu==2.0 -q\n",
        "!pip install transformers"
      ],
      "execution_count": null,
      "outputs": [
        {
          "output_type": "stream",
          "text": [
            "\u001b[K     |████████████████████████████████| 86.3MB 103kB/s \n",
            "\u001b[K     |████████████████████████████████| 3.8MB 36.2MB/s \n",
            "\u001b[K     |████████████████████████████████| 450kB 48.2MB/s \n",
            "\u001b[K     |████████████████████████████████| 380.8MB 39kB/s \n",
            "\u001b[?25hCollecting transformers\n",
            "\u001b[?25l  Downloading https://files.pythonhosted.org/packages/fd/f9/51824e40f0a23a49eab4fcaa45c1c797cbf9761adedd0b558dab7c958b34/transformers-2.1.1-py3-none-any.whl (311kB)\n",
            "\u001b[K     |████████████████████████████████| 317kB 2.8MB/s \n",
            "\u001b[?25hCollecting regex\n",
            "\u001b[?25l  Downloading https://files.pythonhosted.org/packages/ff/60/d9782c56ceefa76033a00e1f84cd8c586c75e6e7fea2cd45ee8b46a386c5/regex-2019.08.19-cp36-cp36m-manylinux1_x86_64.whl (643kB)\n",
            "\u001b[K     |████████████████████████████████| 645kB 46.0MB/s \n",
            "\u001b[?25hRequirement already satisfied: boto3 in /usr/local/lib/python3.6/dist-packages (from transformers) (1.9.253)\n",
            "Collecting sentencepiece\n",
            "\u001b[?25l  Downloading https://files.pythonhosted.org/packages/14/3d/efb655a670b98f62ec32d66954e1109f403db4d937c50d779a75b9763a29/sentencepiece-0.1.83-cp36-cp36m-manylinux1_x86_64.whl (1.0MB)\n",
            "\u001b[K     |████████████████████████████████| 1.0MB 53.5MB/s \n",
            "\u001b[?25hRequirement already satisfied: requests in /usr/local/lib/python3.6/dist-packages (from transformers) (2.21.0)\n",
            "Requirement already satisfied: numpy in /usr/local/lib/python3.6/dist-packages (from transformers) (1.16.5)\n",
            "Collecting sacremoses\n",
            "\u001b[?25l  Downloading https://files.pythonhosted.org/packages/1f/8e/ed5364a06a9ba720fddd9820155cc57300d28f5f43a6fd7b7e817177e642/sacremoses-0.0.35.tar.gz (859kB)\n",
            "\u001b[K     |████████████████████████████████| 860kB 46.5MB/s \n",
            "\u001b[?25hRequirement already satisfied: tqdm in /usr/local/lib/python3.6/dist-packages (from transformers) (4.28.1)\n",
            "Requirement already satisfied: jmespath<1.0.0,>=0.7.1 in /usr/local/lib/python3.6/dist-packages (from boto3->transformers) (0.9.4)\n",
            "Requirement already satisfied: s3transfer<0.3.0,>=0.2.0 in /usr/local/lib/python3.6/dist-packages (from boto3->transformers) (0.2.1)\n",
            "Requirement already satisfied: botocore<1.13.0,>=1.12.253 in /usr/local/lib/python3.6/dist-packages (from boto3->transformers) (1.12.253)\n",
            "Requirement already satisfied: urllib3<1.25,>=1.21.1 in /usr/local/lib/python3.6/dist-packages (from requests->transformers) (1.24.3)\n",
            "Requirement already satisfied: idna<2.9,>=2.5 in /usr/local/lib/python3.6/dist-packages (from requests->transformers) (2.8)\n",
            "Requirement already satisfied: certifi>=2017.4.17 in /usr/local/lib/python3.6/dist-packages (from requests->transformers) (2019.9.11)\n",
            "Requirement already satisfied: chardet<3.1.0,>=3.0.2 in /usr/local/lib/python3.6/dist-packages (from requests->transformers) (3.0.4)\n",
            "Requirement already satisfied: six in /usr/local/lib/python3.6/dist-packages (from sacremoses->transformers) (1.12.0)\n",
            "Requirement already satisfied: click in /usr/local/lib/python3.6/dist-packages (from sacremoses->transformers) (7.0)\n",
            "Requirement already satisfied: joblib in /usr/local/lib/python3.6/dist-packages (from sacremoses->transformers) (0.14.0)\n",
            "Requirement already satisfied: docutils<0.16,>=0.10 in /usr/local/lib/python3.6/dist-packages (from botocore<1.13.0,>=1.12.253->boto3->transformers) (0.15.2)\n",
            "Requirement already satisfied: python-dateutil<3.0.0,>=2.1; python_version >= \"2.7\" in /usr/local/lib/python3.6/dist-packages (from botocore<1.13.0,>=1.12.253->boto3->transformers) (2.5.3)\n",
            "Building wheels for collected packages: sacremoses\n",
            "  Building wheel for sacremoses (setup.py) ... \u001b[?25l\u001b[?25hdone\n",
            "  Created wheel for sacremoses: filename=sacremoses-0.0.35-cp36-none-any.whl size=883999 sha256=357155c6aff0c97252603b965c1f6f934054723579ab3b334c3690df2ade6e7e\n",
            "  Stored in directory: /root/.cache/pip/wheels/63/2a/db/63e2909042c634ef551d0d9ac825b2b0b32dede4a6d87ddc94\n",
            "Successfully built sacremoses\n",
            "Installing collected packages: regex, sentencepiece, sacremoses, transformers\n",
            "Successfully installed regex-2019.8.19 sacremoses-0.0.35 sentencepiece-0.1.83 transformers-2.1.1\n"
          ],
          "name": "stdout"
        }
      ]
    },
    {
      "cell_type": "code",
      "metadata": {
        "id": "PtSMpWrdeDdX",
        "colab": {
          "base_uri": "https://localhost:8080/",
          "height": 122
        },
        "outputId": "01bf0d0e-3425-428a-97f3-c6e6598d9eb1"
      },
      "source": [
        "import pandas as pd\n",
        "import tensorflow as tf\n",
        "import numpy as np\n",
        "import random\n",
        "from google.colab import drive \n",
        "from sklearn.model_selection import train_test_split\n",
        "\n",
        "SEED = 0\n",
        "tf.random.set_seed(SEED)\n",
        "np.random.seed(SEED)\n",
        "random.seed(SEED)\n",
        "\n",
        "drive.mount('/content/drive')"
      ],
      "execution_count": null,
      "outputs": [
        {
          "output_type": "stream",
          "text": [
            "Go to this URL in a browser: https://accounts.google.com/o/oauth2/auth?client_id=947318989803-6bn6qk8qdgf4n4g3pfee6491hc0brc4i.apps.googleusercontent.com&redirect_uri=urn%3Aietf%3Awg%3Aoauth%3A2.0%3Aoob&scope=email%20https%3A%2F%2Fwww.googleapis.com%2Fauth%2Fdocs.test%20https%3A%2F%2Fwww.googleapis.com%2Fauth%2Fdrive%20https%3A%2F%2Fwww.googleapis.com%2Fauth%2Fdrive.photos.readonly%20https%3A%2F%2Fwww.googleapis.com%2Fauth%2Fpeopleapi.readonly&response_type=code\n",
            "\n",
            "Enter your authorization code:\n",
            "··········\n",
            "Mounted at /content/drive\n"
          ],
          "name": "stdout"
        }
      ]
    },
    {
      "cell_type": "markdown",
      "metadata": {
        "id": "uOkCkR0PZNSo"
      },
      "source": [
        "#1. Download and Prepare the Data"
      ]
    },
    {
      "cell_type": "code",
      "metadata": {
        "id": "2M3OMMCHRyLl",
        "colab": {
          "base_uri": "https://localhost:8080/",
          "height": 408
        },
        "outputId": "a6498bd8-4fab-4d5d-af97-24d187f9eab8"
      },
      "source": [
        "#Download the data\n",
        "#Replace these lines with paths to the data for the competition which can be found here: https://competitions.codalab.org/competitions/20011\n",
        "DRIVE_FOLDER = '/content/drive/My Drive/NLP_Offensive_Language_Coursework/'\n",
        "\n",
        "train = pd.read_csv(DRIVE_FOLDER + 'offenseval-training-v1.tsv', delimiter='\\t',encoding='utf-8')\n",
        "test = pd.read_csv(DRIVE_FOLDER + 'testset-taska.tsv', delimiter='\\t',encoding='utf-8')\n",
        "\n",
        "#We are only going to predict for task A\n",
        "train = train.iloc[:, :3]\n",
        "\n",
        "print(\"Loaded training data, shape: \", train.shape)\n",
        "print(train.head().to_string())\n",
        "print(\" \")\n",
        "\n",
        "print(\"Loaded test set A, shape: \", test.shape)\n",
        "print(test.head().to_string())\n",
        "print(\" \")\n",
        "\n",
        "#Check for null values\n",
        "print(train.isnull().any())\n",
        "print(test.isnull().any())\n",
        "\n",
        "#Split into features and dependent variables \n",
        "train_X = train[\"tweet\"].values\n",
        "test_X = test[\"tweet\"].values\n",
        "train_y = train.iloc[:, 2].values"
      ],
      "execution_count": null,
      "outputs": [
        {
          "output_type": "stream",
          "text": [
            "Loaded training data, shape:  (13240, 3)\n",
            "      id                                              tweet subtask_a\n",
            "0  86426  @USER She should ask a few native Americans wh...       OFF\n",
            "1  90194  @USER @USER Go home you’re drunk!!! @USER #MAG...       OFF\n",
            "2  16820  Amazon is investigating Chinese employees who ...       NOT\n",
            "3  62688  @USER Someone should'veTaken\" this piece of sh...       OFF\n",
            "4  43605  @USER @USER Obama wanted liberals &amp; illega...       NOT\n",
            " \n",
            "Loaded test set A, shape:  (860, 2)\n",
            "      id                                              tweet\n",
            "0  15923  #WhoIsQ #WheresTheServer #DumpNike #DECLASFISA...\n",
            "1  27014  #ConstitutionDay is revered by Conservatives, ...\n",
            "2  30530  #FOXNews #NRA #MAGA #POTUS #TRUMP #2ndAmendmen...\n",
            "3  13876  #Watching #Boomer getting the news that she is...\n",
            "4  60133  #NoPasaran: Unity demo to oppose the far-right...\n",
            " \n",
            "id           False\n",
            "tweet        False\n",
            "subtask_a    False\n",
            "dtype: bool\n",
            "id       False\n",
            "tweet    False\n",
            "dtype: bool\n"
          ],
          "name": "stdout"
        }
      ]
    },
    {
      "cell_type": "markdown",
      "metadata": {
        "id": "hSrPGGpdfdx9"
      },
      "source": [
        "Now we explore the distribution of sentence lengths so we can understand what max sentence length to set and therefore how much padding to do"
      ]
    },
    {
      "cell_type": "code",
      "metadata": {
        "id": "Lkfdm27KfcVX",
        "colab": {
          "base_uri": "https://localhost:8080/",
          "height": 269
        },
        "outputId": "c393ab9f-dda1-49b6-dbc9-f08520676776"
      },
      "source": [
        "import seaborn as sns\n",
        "sentence_lengths = [len(sentence) for sentence in train_X]\n",
        "sns.distplot(sentence_lengths);\n",
        "max_length = 320"
      ],
      "execution_count": null,
      "outputs": [
        {
          "output_type": "display_data",
          "data": {
            "image/png": "[encoded data removed]",
            "text/plain": [
              "<Figure size 432x288 with 1 Axes>"
            ]
          },
          "metadata": {
            "tags": []
          }
        }
      ]
    },
    {
      "cell_type": "code",
      "metadata": {
        "id": "zxN6MvxWTSxt",
        "colab": {
          "base_uri": "https://localhost:8080/",
          "height": 34
        },
        "outputId": "1ae87766-72c9-4040-b47e-0a805ce0774c"
      },
      "source": [
        "import tensorflow as tf\n",
        "import tensorflow_datasets\n",
        "from transformers import *\n",
        "\n",
        "# Load dataset, tokenizer, model from pretrained model/vocabulary\n",
        "tokenizer = BertTokenizer.from_pretrained('bert-base-cased')\n",
        "\n",
        "# create list of input examples so we can get the data in the correct format for BERT\n",
        "import json\n",
        "import copy\n",
        "class InputExample(object):\n",
        "    \"\"\"\n",
        "    A single training/test example for simple sequence classification.\n",
        "    Args:\n",
        "        guid: Unique id for the example.\n",
        "        text_a: string. The untokenized text of the first sequence. For single\n",
        "        sequence tasks, only this sequence must be specified.\n",
        "        text_b: (Optional) string. The untokenized text of the second sequence.\n",
        "        Only must be specified for sequence pair tasks.\n",
        "        label: (Optional) string. The label of the example. This should be\n",
        "        specified for train and dev examples, but not for test examples.\n",
        "    \"\"\"\n",
        "    def __init__(self, guid, text_a, text_b=None, label=None):\n",
        "        self.guid = guid\n",
        "        self.text_a = text_a\n",
        "        self.text_b = text_b\n",
        "        self.label = label\n",
        "\n",
        "    def __repr__(self):\n",
        "        return str(self.to_json_string())\n",
        "\n",
        "    def to_dict(self):\n",
        "        \"\"\"Serializes this instance to a Python dictionary.\"\"\"\n",
        "        output = copy.deepcopy(self.__dict__)\n",
        "        return output\n",
        "\n",
        "    def to_json_string(self):\n",
        "        \"\"\"Serializes this instance to a JSON string.\"\"\"\n",
        "        return json.dumps(self.to_dict(), indent=2, sort_keys=True) + \"\\n\"\n",
        "\n",
        "input_examples = []\n",
        "\n",
        "for ix, sentence in enumerate(train_X):\n",
        "  #We replace the many instances of '@USER' in the tweets with a typical name e.g. 'Adam'\n",
        "  #so that the pre-trained embedder can provide a more appropriate embedding for this word\n",
        "  sentence = sentence.replace(\"@USER\", \"Adam\")\n",
        "  example = InputExample(guid=ix, text_a=sentence, label=train_y[ix])\n",
        "  input_examples.append(example)\n",
        "\n",
        "examples = glue_convert_examples_to_features(input_examples, tokenizer, max_length=max_length, label_list=list(set(train_y)), output_mode = \"classification\") # task='mrpc')\n",
        "\n",
        "def gen():\n",
        "    for ex in examples:\n",
        "        yield  ({'input_ids': ex.input_ids,\n",
        "                  'attention_mask': ex.attention_mask,\n",
        "                  'token_type_ids': ex.token_type_ids},\n",
        "                ex.label)\n",
        "\n",
        "full_dataset = tf.data.Dataset.from_generator(gen,\n",
        "    ({'input_ids': tf.int32,\n",
        "      'attention_mask': tf.int32,\n",
        "      'token_type_ids': tf.int32},\n",
        "      tf.int64),\n",
        "    ({'input_ids': tf.TensorShape([None]),\n",
        "      'attention_mask': tf.TensorShape([None]),\n",
        "      'token_type_ids': tf.TensorShape([None])},\n",
        "      tf.TensorShape([])))\n"
      ],
      "execution_count": null,
      "outputs": [
        {
          "output_type": "stream",
          "text": [
            "100%|██████████| 213450/213450 [00:00<00:00, 5479973.24B/s]\n"
          ],
          "name": "stderr"
        }
      ]
    },
    {
      "cell_type": "code",
      "metadata": {
        "id": "7NBjQ442lYJ_",
        "colab": {
          "base_uri": "https://localhost:8080/",
          "height": 34
        },
        "outputId": "b0a6c204-0c20-4c86-8532-459c2a741a38"
      },
      "source": [
        "#We create an F1 callback because the competition is judged on our F1 score\n",
        "from keras.callbacks import Callback\n",
        "from sklearn.metrics import f1_score\n",
        "                                          \n",
        "class F1Evaluation(Callback):\n",
        "    def __init__(self, validation_data=()):\n",
        "        super(Callback, self).__init__()\n",
        "\n",
        "    def on_epoch_end(self, epoch, logs={}):\n",
        "        predictions = np.array([])\n",
        "        truth = np.array([])\n",
        "        for _ in range(28):\n",
        "          x, y = next(iter(val_dataset))\n",
        "          y_pred = self.model.predict(x) > 0\n",
        "          y_pred = y_pred.argmax(axis=1)\n",
        "          y = y.numpy()\n",
        "          predictions = np.append(predictions, y_pred)\n",
        "          truth = np.append(truth, y)\n",
        "        score = f1_score(truth, predictions)\n",
        "        print(\"\\n F1-score - epoch: %d - score: %.6f \\n\" % (epoch+1, score))"
      ],
      "execution_count": null,
      "outputs": [
        {
          "output_type": "stream",
          "text": [
            "Using TensorFlow backend.\n"
          ],
          "name": "stderr"
        }
      ]
    },
    {
      "cell_type": "markdown",
      "metadata": {
        "id": "SjBOLsIdZSe0"
      },
      "source": [
        "#2. Modelling"
      ]
    },
    {
      "cell_type": "markdown",
      "metadata": {
        "id": "Btw7SJaWYIVH"
      },
      "source": [
        "Now we load a pre-trained BERT model with a classification layer appended to the end of the model and train it for 2 epochs"
      ]
    },
    {
      "cell_type": "code",
      "metadata": {
        "id": "zTGoXVTAFK8Q",
        "colab": {
          "base_uri": "https://localhost:8080/",
          "height": 119
        },
        "outputId": "c3f9b500-9c1b-4938-9141-f62a9267dbf1"
      },
      "source": [
        "model = TFBertForSequenceClassification.from_pretrained('bert-base-cased')\n",
        "batch_size = 16\n",
        "val_size = 1000\n",
        "\n",
        "full_dataset = full_dataset.shuffle(len(train_X))\n",
        "val_dataset = full_dataset.take(val_size).batch(batch_size)\n",
        "train_dataset = full_dataset.skip(val_size).batch(batch_size)\n",
        "\n",
        "train_steps_per_epoch = int((len(train_X) - val_size) / batch_size)\n",
        "optimizer = tf.keras.optimizers.Adam(learning_rate=3e-5, epsilon=1e-08, clipnorm=1.0)\n",
        "loss = tf.keras.losses.SparseCategoricalCrossentropy(from_logits=True)\n",
        "metric = tf.keras.metrics.SparseCategoricalAccuracy('accuracy')\n",
        "model.compile(optimizer=optimizer, loss=loss, metrics=[metric])\n",
        "f1 = F1Evaluation()\n",
        "\n",
        "model.fit(train_dataset, epochs=2, steps_per_epoch=train_steps_per_epoch,  \n",
        "          validation_data=val_dataset, validation_steps=5, \n",
        "          callbacks=[f1]) \n"
      ],
      "execution_count": null,
      "outputs": [
        {
          "output_type": "stream",
          "text": [
            "Train for 765 steps, validate for 5 steps\n",
            "764/765 [============================>.] - ETA: 2s - loss: 0.3388 - accuracy: 0.8591\n",
            " F1-score - epoch: 1 - score: 0.900344 \n",
            "\n",
            "765/765 [==============================] - 1678s 2s/step - loss: 0.3388 - accuracy: 0.8592 - val_loss: 0.2484 - val_accuracy: 0.9000\n"
          ],
          "name": "stdout"
        },
        {
          "output_type": "execute_result",
          "data": {
            "text/plain": [
              "<tensorflow.python.keras.callbacks.History at 0x7f76cc289278>"
            ]
          },
          "metadata": {
            "tags": []
          },
          "execution_count": 8
        }
      ]
    },
    {
      "cell_type": "markdown",
      "metadata": {
        "id": "DN6vuziL_ksN"
      },
      "source": [
        "**Our validation set F1 after only 2 epochs is 0.9. A similar score on the test set would have been enough to win the competition.**"
      ]
    }
  ]
}