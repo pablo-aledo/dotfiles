{
  "nbformat": 4,
  "nbformat_minor": 0,
  "metadata": {
    "accelerator": "GPU",
    "colab": {
      "name": "05_Data_Augmentation_Using_NLPaug.ipynb",
      "provenance": [],
      "collapsed_sections": [],
      "machine_shape": "hm"
    },
    "kernelspec": {
      "display_name": "Python 3",
      "language": "python",
      "name": "python3"
    },
    "language_info": {
      "codemirror_mode": {
        "name": "ipython",
        "version": 3
      },
      "file_extension": ".py",
      "mimetype": "text/x-python",
      "name": "python",
      "nbconvert_exporter": "python",
      "pygments_lexer": "ipython3",
      "version": "3.7.4"
    }
  },
  "cells": [
    {
      "cell_type": "markdown",
      "metadata": {
        "id": "yavI9mt4gayF"
      },
      "source": [
        "## Data Augmentation using NLPaug\n",
        "\n",
        "This notebook demostrate the usage of a character augmenter, word augmenter. There are other types such as augmentation for sentences, audio, spectrogram inputs etc. All of the types many before mentioned types and many more can be found at the [github repo](https://github.com/makcedward/nlpaug) and [docs](https://nlpaug.readthedocs.io/en/latest/) of nlpaug."
      ]
    },
    {
      "cell_type": "code",
      "metadata": {
        "ExecuteTime": {
          "end_time": "2021-04-03T11:15:03.818048Z",
          "start_time": "2021-04-03T11:15:01.468101Z"
        },
        "colab": {
          "base_uri": "https://localhost:8080/"
        },
        "id": "cF5zJdr-kAPY",
        "outputId": "ffc73813-05cf-425b-c990-06437f18572e"
      },
      "source": [
        "# Installing the nlpaug package\n",
        "!pip install nlpaug==0.0.14"
      ],
      "execution_count": null,
      "outputs": [
        {
          "output_type": "stream",
          "text": [
            "Collecting nlpaug==0.0.14\n",
            "\u001b[?25l  Downloading https://files.pythonhosted.org/packages/1f/6c/ca85b6bd29926561229e8c9f677c36c65db9ef1947bfc175e6641bc82ace/nlpaug-0.0.14-py3-none-any.whl (101kB)\n",
            "\r\u001b[K     |███▎                            | 10kB 11.3MB/s eta 0:00:01\r\u001b[K     |██████▌                         | 20kB 16.9MB/s eta 0:00:01\r\u001b[K     |█████████▊                      | 30kB 21.2MB/s eta 0:00:01\r\u001b[K     |█████████████                   | 40kB 23.5MB/s eta 0:00:01\r\u001b[K     |████████████████▏               | 51kB 16.6MB/s eta 0:00:01\r\u001b[K     |███████████████████▍            | 61kB 18.7MB/s eta 0:00:01\r\u001b[K     |██████████████████████▋         | 71kB 12.7MB/s eta 0:00:01\r\u001b[K     |█████████████████████████▉      | 81kB 13.5MB/s eta 0:00:01\r\u001b[K     |█████████████████████████████   | 92kB 13.3MB/s eta 0:00:01\r\u001b[K     |████████████████████████████████| 102kB 7.3MB/s \n",
            "\u001b[?25hInstalling collected packages: nlpaug\n",
            "Successfully installed nlpaug-0.0.14\n"
          ],
          "name": "stdout"
        }
      ]
    },
    {
      "cell_type": "code",
      "metadata": {
        "ExecuteTime": {
          "end_time": "2021-04-03T11:15:11.595619Z",
          "start_time": "2021-04-03T11:15:11.593618Z"
        },
        "id": "8yhkOl3cgZ28"
      },
      "source": [
        "# This will be the base text which we will be using throughout this notebook\n",
        "text=\"The quick brown fox jumps over the lazy dog .\""
      ],
      "execution_count": null,
      "outputs": []
    },
    {
      "cell_type": "code",
      "metadata": {
        "ExecuteTime": {
          "end_time": "2021-04-03T11:15:15.458928Z",
          "start_time": "2021-04-03T11:15:12.067195Z"
        },
        "colab": {
          "base_uri": "https://localhost:8080/"
        },
        "id": "ekFhzIWHUmoj",
        "outputId": "c0864316-cb76-4be7-d2c2-961a6e526b0c"
      },
      "source": [
        "import nlpaug.augmenter.char as nac\n",
        "import nlpaug.augmenter.word as naw\n",
        "import nlpaug.augmenter.sentence as nas\n",
        "import nlpaug.flow as nafc\n",
        "\n",
        "from nlpaug.util import Action\n",
        "import os\n",
        "!git clone https://github.com/makcedward/nlpaug.git\n",
        "os.environ[\"MODEL_DIR\"] = 'nlpaug/model/'"
      ],
      "execution_count": null,
      "outputs": [
        {
          "output_type": "stream",
          "text": [
            "Cloning into 'nlpaug'...\n",
            "remote: Enumerating objects: 4843, done.\u001b[K\n",
            "remote: Counting objects: 100% (370/370), done.\u001b[K\n",
            "remote: Compressing objects: 100% (244/244), done.\u001b[K\n",
            "remote: Total 4843 (delta 257), reused 209 (delta 126), pack-reused 4473\u001b[K\n",
            "Receiving objects: 100% (4843/4843), 3.01 MiB | 15.26 MiB/s, done.\n",
            "Resolving deltas: 100% (3419/3419), done.\n"
          ],
          "name": "stdout"
        }
      ]
    },
    {
      "cell_type": "markdown",
      "metadata": {
        "id": "-Xo3CzNhh-zU"
      },
      "source": [
        "### Augmentation at the Character Level\n",
        "\n",
        "\n",
        "1.   OCR Augmenter: To read textual data from on image, we need an OCR(optical character recognition) model. Once the text is extracted from the image, there may be errors like; '0' instead of an 'o', '2' instead of 'z' and other such similar errors.  \n",
        "2.   Keyboard Augmenter: While typing/texting typos are fairly common this augmenter simulates the errors by substituting characters in words with ones at a similar distance on a keyboard.\n",
        "\n"
      ]
    },
    {
      "cell_type": "code",
      "metadata": {
        "ExecuteTime": {
          "end_time": "2021-04-03T11:15:15.474943Z",
          "start_time": "2021-04-03T11:15:15.459929Z"
        },
        "colab": {
          "base_uri": "https://localhost:8080/"
        },
        "id": "lfAaokTmjzak",
        "outputId": "1828ed1c-b088-43a2-d6a5-77a57970691f"
      },
      "source": [
        "# OCR augmenter\n",
        "# import nlpaug.augmenter.char as nac\n",
        "\n",
        "aug = nac.OcrAug()  \n",
        "augmented_texts = aug.augment(text, n=3) # specifying n=3 gives us only 3 augmented versions of the sentence.\n",
        "\n",
        "print(\"Original:\")\n",
        "print(text)\n",
        "\n",
        "print(\"Augmented Texts:\")\n",
        "print(augmented_texts)"
      ],
      "execution_count": null,
      "outputs": [
        {
          "output_type": "stream",
          "text": [
            "Original:\n",
            "The quick brown fox jumps over the lazy dog .\n",
            "Augmented Texts:\n",
            "['The quicr brown fox jumps over the 1azy dog .', 'The quick brown fux jump8 over the lazy dog .', 'The quick brown f0x jumps ovek the lazy dog .']\n"
          ],
          "name": "stdout"
        }
      ]
    },
    {
      "cell_type": "code",
      "metadata": {
        "ExecuteTime": {
          "end_time": "2021-04-03T11:15:16.903143Z",
          "start_time": "2021-04-03T11:15:16.880652Z"
        },
        "colab": {
          "base_uri": "https://localhost:8080/"
        },
        "id": "fKQCpS35j9Ie",
        "outputId": "a158e332-24bb-4e13-e8c4-a97ffcae3d65"
      },
      "source": [
        "# Keyboard Augmenter\n",
        "# import nlpaug.augmenter.word as naw\n",
        "\n",
        "\n",
        "aug = nac.KeyboardAug()\n",
        "augmented_text = aug.augment(text, n=3) # specifying n=3 gives us only 3 augmented versions of the sentence.\n",
        "\n",
        "print(\"Original:\")\n",
        "print(text)\n",
        "\n",
        "print(\"Augmented Text:\")\n",
        "print(augmented_text)"
      ],
      "execution_count": null,
      "outputs": [
        {
          "output_type": "stream",
          "text": [
            "Original:\n",
            "The quick brown fox jumps over the lazy dog .\n",
            "Augmented Text:\n",
            "['The quick browj fox jumps over the lazy dog .', 'The Wuick brown fox jumps over the lazy dog .', 'The qu*ck brown fox jumps ovfr the lazy dog .']\n"
          ],
          "name": "stdout"
        }
      ]
    },
    {
      "cell_type": "markdown",
      "metadata": {
        "id": "XbfPMwZWmper"
      },
      "source": [
        "There are other types of character augmenters too. Their details are avaiable in the links mentioned at the beginning of this notebook."
      ]
    },
    {
      "cell_type": "markdown",
      "metadata": {
        "id": "MufLJXsQm4i1"
      },
      "source": [
        "### Augmentation at the Word Level\n",
        "\n",
        "Augmentation is important at the word level as well , here we use word2vec to insert or substitute a similar word."
      ]
    },
    {
      "cell_type": "markdown",
      "metadata": {
        "id": "Tc_K1-niTGFP"
      },
      "source": [
        "**Spelling** **augmentor**\n"
      ]
    },
    {
      "cell_type": "code",
      "metadata": {
        "colab": {
          "base_uri": "https://localhost:8080/"
        },
        "id": "3QzwzH2dKam_",
        "outputId": "7a345dd5-971d-412f-aa62-d6c21de36ee2"
      },
      "source": [
        "!pip install wget"
      ],
      "execution_count": null,
      "outputs": [
        {
          "output_type": "stream",
          "text": [
            "Collecting wget\n",
            "  Downloading https://files.pythonhosted.org/packages/47/6a/62e288da7bcda82b935ff0c6cfe542970f04e29c756b0e147251b2fb251f/wget-3.2.zip\n",
            "Building wheels for collected packages: wget\n",
            "  Building wheel for wget (setup.py) ... \u001b[?25l\u001b[?25hdone\n",
            "  Created wheel for wget: filename=wget-3.2-cp37-none-any.whl size=9675 sha256=d15acba18a51c7f3c52521a590b6a1770e658c4c37445f6236e10cfb45d35159\n",
            "  Stored in directory: /root/.cache/pip/wheels/40/15/30/7d8f7cea2902b4db79e3fea550d7d7b85ecb27ef992b618f3f\n",
            "Successfully built wget\n",
            "Installing collected packages: wget\n",
            "Successfully installed wget-3.2\n"
          ],
          "name": "stdout"
        }
      ]
    },
    {
      "cell_type": "code",
      "metadata": {
        "ExecuteTime": {
          "end_time": "2021-04-03T11:16:58.980739Z",
          "start_time": "2021-04-03T11:16:58.532879Z"
        },
        "id": "2Qzmv4QCYrJe"
      },
      "source": [
        "# Downloading the required txt file\n",
        "import wget\n",
        "\n",
        "if not os.path.exists(\"spelling_en.txt\"):\n",
        "    wget.download(\"https://raw.githubusercontent.com/makcedward/nlpaug/5238e0be734841b69651d2043df535d78a8cc594/nlpaug/res/word/spelling/spelling_en.txt\")\n",
        "else:\n",
        "    print(\"File already exists\")"
      ],
      "execution_count": null,
      "outputs": []
    },
    {
      "cell_type": "code",
      "metadata": {
        "ExecuteTime": {
          "end_time": "2021-04-03T11:17:00.723918Z",
          "start_time": "2021-04-03T11:17:00.619823Z"
        },
        "colab": {
          "base_uri": "https://localhost:8080/"
        },
        "id": "gOHrgDIill2F",
        "outputId": "856f34aa-cdab-49a3-fd5c-f6de0928bd87"
      },
      "source": [
        "# Substitute word by spelling mistake words dictionary\n",
        "aug = naw.SpellingAug('spelling_en.txt')\n",
        "augmented_texts = aug.augment(text)\n",
        "print(\"Original:\")\n",
        "print(text)\n",
        "print(\"Augmented Texts:\")\n",
        "print(augmented_texts)"
      ],
      "execution_count": null,
      "outputs": [
        {
          "output_type": "stream",
          "text": [
            "Original:\n",
            "The quick brown fox jumps over the lazy dog .\n",
            "Augmented Texts:\n",
            "The quick browne fox jumps over th laizy dog .\n"
          ],
          "name": "stdout"
        }
      ]
    },
    {
      "cell_type": "markdown",
      "metadata": {
        "id": "eaeQOtVqTQKG"
      },
      "source": [
        "**Word embeddings augmentor**"
      ]
    },
    {
      "cell_type": "code",
      "metadata": {
        "ExecuteTime": {
          "end_time": "2021-04-03T11:42:53.178843Z",
          "start_time": "2021-04-03T11:42:53.163829Z"
        },
        "colab": {
          "base_uri": "https://localhost:8080/"
        },
        "id": "jIB9bMi5KWZ5",
        "outputId": "62929df1-47f5-4273-965b-18e7f04793e1"
      },
      "source": [
        "import gzip\n",
        "import shutil\n",
        "\n",
        "gn_vec_path = \"GoogleNews-vectors-negative300.bin\"\n",
        "if not os.path.exists(\"GoogleNews-vectors-negative300.bin\"):\n",
        "    if not os.path.exists(\"../Ch3/GoogleNews-vectors-negative300.bin\"):\n",
        "        # Downloading the reqired model\n",
        "        if not os.path.exists(\"../Ch3/GoogleNews-vectors-negative300.bin.gz\"):\n",
        "            if not os.path.exists(\"GoogleNews-vectors-negative300.bin.gz\"):\n",
        "                wget.download(\"https://s3.amazonaws.com/dl4j-distribution/GoogleNews-vectors-negative300.bin.gz\")\n",
        "            gn_vec_zip_path = \"GoogleNews-vectors-negative300.bin.gz\"\n",
        "        else:\n",
        "            gn_vec_zip_path = \"../Ch3/GoogleNews-vectors-negative300.bin.gz\"\n",
        "        # Extracting the required model\n",
        "        with gzip.open(gn_vec_zip_path, 'rb') as f_in:\n",
        "            with open(gn_vec_path, 'wb') as f_out:\n",
        "                shutil.copyfileobj(f_in, f_out)\n",
        "    else:\n",
        "        gn_vec_path = \"../Ch3/\" + gn_vec_path\n",
        "\n",
        "print(f\"Model at {gn_vec_path}\")"
      ],
      "execution_count": null,
      "outputs": [
        {
          "output_type": "stream",
          "text": [
            "Model at GoogleNews-vectors-negative300.bin\n"
          ],
          "name": "stdout"
        }
      ]
    },
    {
      "cell_type": "markdown",
      "metadata": {
        "id": "Jf_QHk-SgegN"
      },
      "source": [
        "Insert word randomly by word embeddings similarity"
      ]
    },
    {
      "cell_type": "code",
      "metadata": {
        "ExecuteTime": {
          "end_time": "2021-04-03T11:44:12.444755Z",
          "start_time": "2021-04-03T11:43:07.255745Z"
        },
        "colab": {
          "base_uri": "https://localhost:8080/"
        },
        "id": "ffUb6s-XTOsQ",
        "outputId": "353c43d9-f804-4c1b-de5e-cee6f28cb7f4"
      },
      "source": [
        "# model_type: word2vec, glove or fasttext\n",
        "aug = naw.WordEmbsAug(\n",
        "    model_type='word2vec', model_path=gn_vec_path,\n",
        "    action=\"insert\")\n",
        "augmented_text = aug.augment(text)\n",
        "print(\"Original:\")\n",
        "print(text)\n",
        "print(\"Augmented Text:\")\n",
        "print(augmented_text)"
      ],
      "execution_count": null,
      "outputs": [
        {
          "output_type": "stream",
          "text": [
            "Original:\n",
            "The quick brown fox jumps over the lazy dog .\n",
            "Augmented Text:\n",
            "borne The quick obiter brown fox jumps Ahmed over the lazy dog .\n"
          ],
          "name": "stdout"
        }
      ]
    },
    {
      "cell_type": "markdown",
      "metadata": {
        "id": "kUB3Nd4Wghd0"
      },
      "source": [
        "Substitute word by word2vec similarity\n"
      ]
    },
    {
      "cell_type": "code",
      "metadata": {
        "ExecuteTime": {
          "end_time": "2021-04-03T11:44:12.948639Z",
          "start_time": "2021-04-03T11:44:12.446757Z"
        },
        "colab": {
          "base_uri": "https://localhost:8080/"
        },
        "id": "pSeZNfQRfy2l",
        "outputId": "52a3eeea-c179-4de5-bb0a-9acf85de16e1"
      },
      "source": [
        "aug = naw.WordEmbsAug(\n",
        "    model_type='word2vec', model_path=gn_vec_path,\n",
        "    action=\"substitute\")\n",
        "augmented_text = aug.augment(text)\n",
        "print(\"Original:\")\n",
        "print(text)\n",
        "print(\"Augmented Text:\")\n",
        "print(augmented_text)"
      ],
      "execution_count": null,
      "outputs": [
        {
          "output_type": "stream",
          "text": [
            "Original:\n",
            "The quick brown fox jumps over the lazy dog .\n",
            "Augmented Text:\n",
            "The perfectly_timed brown fox jumps Within the lazy basset_hound .\n"
          ],
          "name": "stdout"
        }
      ]
    },
    {
      "cell_type": "markdown",
      "metadata": {
        "id": "reALNlOuDI9u"
      },
      "source": [
        "There are many more features which nlpaug offers you can visit the github repo and documentation for further details"
      ]
    }
  ]
}