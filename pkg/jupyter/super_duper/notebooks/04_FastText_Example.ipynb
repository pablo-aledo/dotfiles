{
  "nbformat": 4,
  "nbformat_minor": 0,
  "metadata": {
    "accelerator": "GPU",
    "colab": {
      "name": "04_FastText_Example.ipynb",
      "provenance": []
    },
    "kernelspec": {
      "display_name": "Python 3",
      "language": "python",
      "name": "python3"
    },
    "language_info": {
      "codemirror_mode": {
        "name": "ipython",
        "version": 3
      },
      "file_extension": ".py",
      "mimetype": "text/x-python",
      "name": "python",
      "nbconvert_exporter": "python",
      "pygments_lexer": "ipython3",
      "version": "3.7.4"
    }
  },
  "cells": [
    {
      "cell_type": "markdown",
      "metadata": {
        "id": "6FIToZHAhz2O"
      },
      "source": [
        "In this notebook we will demonstrate using the fastText library to perform text classificatoin on the dbpedie data which can we downloaded from [here](https://github.com/le-scientifique/torchDatasets/raw/master/dbpedia_csv.tar.gz). <br>fastText is a library for learning of word embeddings and text classification created by Facebook's AI Research (FAIR) lab. The model allows to create an unsupervised learning or supervised learning algorithm for obtaining vector representations for words. Facebook makes available pretrained models for 294 languages(source: [wiki](https://en.wikipedia.org/wiki/FastText)).<br>\n",
        "**Note**: This notebook uses an older version of fasttext."
      ]
    },
    {
      "cell_type": "code",
      "metadata": {
        "colab": {
          "base_uri": "https://localhost:8080/"
        },
        "id": "xC9f1uA-OX8J",
        "outputId": "8596b211-ad7c-4efd-8fc1-bbbc4babd2e2"
      },
      "source": [
        "!pip install fasttext==0.9.2"
      ],
      "execution_count": null,
      "outputs": [
        {
          "output_type": "stream",
          "text": [
            "Requirement already satisfied: fasttext==0.9.2 in /usr/local/lib/python3.7/dist-packages (0.9.2)\n",
            "Requirement already satisfied: setuptools>=0.7.0 in /usr/local/lib/python3.7/dist-packages (from fasttext==0.9.2) (56.1.0)\n",
            "Requirement already satisfied: pybind11>=2.2 in /usr/local/lib/python3.7/dist-packages (from fasttext==0.9.2) (2.6.2)\n",
            "Requirement already satisfied: numpy in /usr/local/lib/python3.7/dist-packages (from fasttext==0.9.2) (1.19.5)\n"
          ],
          "name": "stdout"
        }
      ]
    },
    {
      "cell_type": "code",
      "metadata": {
        "id": "YKgZXvTGb61z"
      },
      "source": [
        "#necessary imports\n",
        "import os\n",
        "import pandas as pd\n",
        "import wget\n",
        "import tarfile"
      ],
      "execution_count": null,
      "outputs": []
    },
    {
      "cell_type": "code",
      "metadata": {
        "colab": {
          "base_uri": "https://localhost:8080/"
        },
        "id": "l6CfW7C3L4EB",
        "outputId": "53b9c39f-41fb-4a51-af80-9abc1deb89a8"
      },
      "source": [
        "try :\n",
        "    \n",
        "    from google.colab import files\n",
        "    \n",
        "    # downloading the data\n",
        "    !wget -P DATAPATH https://github.com/le-scientifique/torchDatasets/raw/master/dbpedia_csv.tar.gz\n",
        "\n",
        "    # untaring the required file\n",
        "    !tar -xvf DATAPATH/dbpedia_csv.tar.gz -C DATAPATH\n",
        "\n",
        "    # sneek peek in the folder structure\n",
        "    !ls -lah DATAPATH\n",
        "    \n",
        "    # specifying the data_path\n",
        "    data_path = 'DATAPATH'\n",
        "    \n",
        "except ModuleNotFoundError:\n",
        "    \n",
        "    if not os.path.exists(os.getcwd()+'\\\\Data\\\\dbpedia_csv') :\n",
        "        # downloading the data\n",
        "        url=\"https://github.com/le-scientifique/torchDatasets/raw/master/dbpedia_csv.tar.gz\"\n",
        "        path=os.getcwd()+'\\Data'\n",
        "        wget.download(url,path)\n",
        "\n",
        "        # untaring the required file\n",
        "        temp=path+'\\dbpedia_csv.tar.gz'\n",
        "        tar = tarfile.open(temp, \"r:gz\")\n",
        "        tar.extractall(path)     \n",
        "        tar.close()\n",
        "    \n",
        "    # specifying the data_path\n",
        "    data_path='Data'"
      ],
      "execution_count": null,
      "outputs": [
        {
          "output_type": "stream",
          "text": [
            "--2021-05-31 06:44:37--  https://github.com/le-scientifique/torchDatasets/raw/master/dbpedia_csv.tar.gz\n",
            "Resolving github.com (github.com)... 192.30.255.113\n",
            "Connecting to github.com (github.com)|192.30.255.113|:443... connected.\n",
            "HTTP request sent, awaiting response... 301 Moved Permanently\n",
            "Location: https://github.com/srhrshr/torchDatasets/raw/master/dbpedia_csv.tar.gz [following]\n",
            "--2021-05-31 06:44:37--  https://github.com/srhrshr/torchDatasets/raw/master/dbpedia_csv.tar.gz\n",
            "Reusing existing connection to github.com:443.\n",
            "HTTP request sent, awaiting response... 302 Found\n",
            "Location: https://raw.githubusercontent.com/srhrshr/torchDatasets/master/dbpedia_csv.tar.gz [following]\n",
            "--2021-05-31 06:44:37--  https://raw.githubusercontent.com/srhrshr/torchDatasets/master/dbpedia_csv.tar.gz\n",
            "Resolving raw.githubusercontent.com (raw.githubusercontent.com)... 185.199.108.133, 185.199.109.133, 185.199.110.133, ...\n",
            "Connecting to raw.githubusercontent.com (raw.githubusercontent.com)|185.199.108.133|:443... connected.\n",
            "HTTP request sent, awaiting response... 200 OK\n",
            "Length: 68431223 (65M) [application/octet-stream]\n",
            "Saving to: ‘DATAPATH/dbpedia_csv.tar.gz.1’\n",
            "\n",
            "dbpedia_csv.tar.gz. 100%[===================>]  65.26M   124MB/s    in 0.5s    \n",
            "\n",
            "2021-05-31 06:44:38 (124 MB/s) - ‘DATAPATH/dbpedia_csv.tar.gz.1’ saved [68431223/68431223]\n",
            "\n",
            "dbpedia_csv/\n",
            "dbpedia_csv/test.csv\n",
            "dbpedia_csv/classes.txt\n",
            "dbpedia_csv/train.csv\n",
            "dbpedia_csv/readme.txt\n",
            "total 328M\n",
            "drwxr-xr-x 3 root root 4.0K May 31 06:44 .\n",
            "drwxr-xr-x 1 root root 4.0K May 31 06:40 ..\n",
            "drwxrwxr-x 2 1000 1000 4.0K Mar 29  2015 dbpedia_csv\n",
            "-rw-r--r-- 1 root root  66M May 31 06:40 dbpedia_csv.tar.gz\n",
            "-rw-r--r-- 1 root root  66M May 31 06:44 dbpedia_csv.tar.gz.1\n",
            "-rw-r--r-- 1 root root  22M May 31 06:41 dbpedia_test.csv\n",
            "-rw-r--r-- 1 root root 175M May 31 06:41 dbpedia_train.csv\n"
          ],
          "name": "stdout"
        }
      ]
    },
    {
      "cell_type": "code",
      "metadata": {
        "colab": {
          "base_uri": "https://localhost:8080/"
        },
        "id": "lMoRw3oQb62I",
        "outputId": "3a263fa1-1940-42d3-d1e6-aa59c5fb6f09"
      },
      "source": [
        "# Loading train data\n",
        "train_file = data_path + '/dbpedia_csv/train.csv'\n",
        "df = pd.read_csv(train_file, header=None, names=['class','name','description'])\n",
        "# Loading test data\n",
        "test_file = data_path + '/dbpedia_csv/test.csv'\n",
        "df_test = pd.read_csv(test_file, header=None, names=['class','name','description'])\n",
        "# Data we have\n",
        "print(\"Train:{} Test:{}\".format(df.shape,df_test.shape))\n"
      ],
      "execution_count": null,
      "outputs": [
        {
          "output_type": "stream",
          "text": [
            "Train:(560000, 3) Test:(70000, 3)\n"
          ],
          "name": "stdout"
        }
      ]
    },
    {
      "cell_type": "code",
      "metadata": {
        "colab": {
          "base_uri": "https://localhost:8080/",
          "height": 195
        },
        "id": "gaz226vXb62W",
        "outputId": "d1877377-b282-4038-9f87-3589f6621597"
      },
      "source": [
        "# Since we have no clue about the classes lets build one\n",
        "# Mapping from class number to class name\n",
        "class_dict={\n",
        "            1:'Company',\n",
        "            2:'EducationalInstitution',\n",
        "            3:'Artist',\n",
        "            4:'Athlete',\n",
        "            5:'OfficeHolder',\n",
        "            6:'MeanOfTransportation',\n",
        "            7:'Building',\n",
        "            8:'NaturalPlace',\n",
        "            9:'Village',\n",
        "            10:'Animal',\n",
        "            11:'Plant',\n",
        "            12:'Album',\n",
        "            13:'Film',\n",
        "            14:'WrittenWork'\n",
        "        }\n",
        "\n",
        "# Mapping the classes\n",
        "df['class_name'] = df['class'].map(class_dict)\n",
        "df.head()"
      ],
      "execution_count": null,
      "outputs": [
        {
          "output_type": "execute_result",
          "data": {
            "text/html": [
              "<div>\n",
              "<style scoped>\n",
              "    .dataframe tbody tr th:only-of-type {\n",
              "        vertical-align: middle;\n",
              "    }\n",
              "\n",
              "    .dataframe tbody tr th {\n",
              "        vertical-align: top;\n",
              "    }\n",
              "\n",
              "    .dataframe thead th {\n",
              "        text-align: right;\n",
              "    }\n",
              "</style>\n",
              "<table border=\"1\" class=\"dataframe\">\n",
              "  <thead>\n",
              "    <tr style=\"text-align: right;\">\n",
              "      <th></th>\n",
              "      <th>class</th>\n",
              "      <th>name</th>\n",
              "      <th>description</th>\n",
              "      <th>class_name</th>\n",
              "    </tr>\n",
              "  </thead>\n",
              "  <tbody>\n",
              "    <tr>\n",
              "      <th>0</th>\n",
              "      <td>1</td>\n",
              "      <td>E. D. Abbott Ltd</td>\n",
              "      <td>Abbott of Farnham E D Abbott Limited was a Br...</td>\n",
              "      <td>Company</td>\n",
              "    </tr>\n",
              "    <tr>\n",
              "      <th>1</th>\n",
              "      <td>1</td>\n",
              "      <td>Schwan-Stabilo</td>\n",
              "      <td>Schwan-STABILO is a German maker of pens for ...</td>\n",
              "      <td>Company</td>\n",
              "    </tr>\n",
              "    <tr>\n",
              "      <th>2</th>\n",
              "      <td>1</td>\n",
              "      <td>Q-workshop</td>\n",
              "      <td>Q-workshop is a Polish company located in Poz...</td>\n",
              "      <td>Company</td>\n",
              "    </tr>\n",
              "    <tr>\n",
              "      <th>3</th>\n",
              "      <td>1</td>\n",
              "      <td>Marvell Software Solutions Israel</td>\n",
              "      <td>Marvell Software Solutions Israel known as RA...</td>\n",
              "      <td>Company</td>\n",
              "    </tr>\n",
              "    <tr>\n",
              "      <th>4</th>\n",
              "      <td>1</td>\n",
              "      <td>Bergan Mercy Medical Center</td>\n",
              "      <td>Bergan Mercy Medical Center is a hospital loc...</td>\n",
              "      <td>Company</td>\n",
              "    </tr>\n",
              "  </tbody>\n",
              "</table>\n",
              "</div>"
            ],
            "text/plain": [
              "   class  ... class_name\n",
              "0      1  ...    Company\n",
              "1      1  ...    Company\n",
              "2      1  ...    Company\n",
              "3      1  ...    Company\n",
              "4      1  ...    Company\n",
              "\n",
              "[5 rows x 4 columns]"
            ]
          },
          "metadata": {
            "tags": []
          },
          "execution_count": 5
        }
      ]
    },
    {
      "cell_type": "code",
      "metadata": {
        "colab": {
          "base_uri": "https://localhost:8080/"
        },
        "id": "si7VC_Rub62a",
        "outputId": "9acc53e2-c417-478f-e0a2-61b9ee57cadc"
      },
      "source": [
        "df[\"class_name\"].value_counts()"
      ],
      "execution_count": null,
      "outputs": [
        {
          "output_type": "execute_result",
          "data": {
            "text/plain": [
              "Building                  40000\n",
              "Animal                    40000\n",
              "Village                   40000\n",
              "OfficeHolder              40000\n",
              "MeanOfTransportation      40000\n",
              "Company                   40000\n",
              "Athlete                   40000\n",
              "NaturalPlace              40000\n",
              "Plant                     40000\n",
              "EducationalInstitution    40000\n",
              "WrittenWork               40000\n",
              "Album                     40000\n",
              "Artist                    40000\n",
              "Film                      40000\n",
              "Name: class_name, dtype: int64"
            ]
          },
          "metadata": {
            "tags": []
          },
          "execution_count": 6
        }
      ]
    },
    {
      "cell_type": "code",
      "metadata": {
        "id": "Sn-3kIqMb62d"
      },
      "source": [
        "# Lets do some cleaning of this text\n",
        "def clean_it(text,normalize=True):\n",
        "    # Replacing possible issues with data. We can add or reduce the replacemtent in this chain\n",
        "    s = str(text).replace(',',' ').replace('\"','').replace('\\'',' \\' ').replace('.',' . ').replace('(',' ( ').\\\n",
        "            replace(')',' ) ').replace('!',' ! ').replace('?',' ? ').replace(':',' ').replace(';',' ').lower()\n",
        "    \n",
        "    # normalizing / encoding the text\n",
        "    if normalize:\n",
        "        s = s.normalize('NFKD').str.encode('ascii','ignore').str.decode('utf-8')\n",
        "    \n",
        "    return s\n",
        "\n",
        "# Now lets define a small function where we can use above cleaning on datasets\n",
        "def clean_df(data, cleanit= False, shuffleit=False, encodeit=False, label_prefix='__class__'):\n",
        "    # Defining the new data\n",
        "    df = data[['name','description']].copy(deep=True)\n",
        "    df['class'] = label_prefix + data['class'].astype(str) + ' '\n",
        "    \n",
        "    # cleaning it\n",
        "    if cleanit:\n",
        "        df['name'] = df['name'].apply(lambda x: clean_it(x,encodeit))\n",
        "        df['description'] = df['description'].apply(lambda x: clean_it(x,encodeit))\n",
        "    \n",
        "    # shuffling it\n",
        "    if shuffleit:\n",
        "        df.sample(frac=1).reset_index(drop=True)\n",
        "            \n",
        "    return df"
      ],
      "execution_count": null,
      "outputs": []
    },
    {
      "cell_type": "code",
      "metadata": {
        "colab": {
          "base_uri": "https://localhost:8080/"
        },
        "id": "r_DRvdFcb62m",
        "outputId": "59a687ed-359a-4c95-b26f-77fcc084ad8b"
      },
      "source": [
        "%%time\n",
        "# Transform the datasets using the above clean functions\n",
        "df_train_cleaned = clean_df(df, True, True)\n",
        "df_test_cleaned = clean_df(df_test, True, True)"
      ],
      "execution_count": null,
      "outputs": [
        {
          "output_type": "stream",
          "text": [
            "CPU times: user 4.31 s, sys: 196 ms, total: 4.5 s\n",
            "Wall time: 4.5 s\n"
          ],
          "name": "stdout"
        }
      ]
    },
    {
      "cell_type": "code",
      "metadata": {
        "id": "imMZ9-Bkb62t"
      },
      "source": [
        "# Write files to disk as fastText classifier API reads files from disk.\n",
        "train_file = data_path + '/dbpedia_train.csv'\n",
        "df_train_cleaned.to_csv(train_file, header=None, index=False, columns=['class','name','description'] )\n",
        "\n",
        "test_file = data_path + '/dbpedia_test.csv'\n",
        "df_test_cleaned.to_csv(test_file, header=None, index=False, columns=['class','name','description'] )\n"
      ],
      "execution_count": null,
      "outputs": []
    },
    {
      "cell_type": "markdown",
      "metadata": {
        "id": "bWZTSzd9b62x"
      },
      "source": [
        "Now that we have the train and test files written into disk in a format fastText wants, we are ready to use it for text classification!"
      ]
    },
    {
      "cell_type": "code",
      "metadata": {
        "colab": {
          "base_uri": "https://localhost:8080/"
        },
        "id": "a-H1wouCb62x",
        "outputId": "1d4d5272-adc8-4ed9-e6a1-002e79b4d147"
      },
      "source": [
        "%%time\n",
        "## Using fastText for feature extraction and training\n",
        "from fasttext import train_supervised \n",
        "\"\"\"fastText expects and training file (csv), a model name as input arguments.\n",
        "label_prefix refers to the prefix before label string in the dataset.\n",
        "default is __label__. In our dataset, it is __class__. \n",
        "There are several other parameters which can be seen in: \n",
        "https://pypi.org/project/fasttext/\n",
        "\"\"\"\n",
        "model = train_supervised(input=train_file, label=\"__class__\", lr=1.0, epoch=75, loss='ova', wordNgrams=2, dim=200, thread=2, verbose=100)"
      ],
      "execution_count": null,
      "outputs": [
        {
          "output_type": "stream",
          "text": [
            "CPU times: user 1h 4s, sys: 13.6 s, total: 1h 18s\n",
            "Wall time: 30min 41s\n"
          ],
          "name": "stdout"
        }
      ]
    },
    {
      "cell_type": "code",
      "metadata": {
        "colab": {
          "base_uri": "https://localhost:8080/"
        },
        "id": "sAyN3ZDbQFq-",
        "outputId": "6f861f1f-a174-495c-97eb-db149fa73766"
      },
      "source": [
        "for k in range(1,6):\n",
        "    results = model.test(test_file,k=k)\n",
        "    print(f\"Test Samples: {results[0]} Precision@{k} : {results[1]*100:2.4f} Recall@{k} : {results[2]*100:2.4f}\")"
      ],
      "execution_count": null,
      "outputs": [
        {
          "output_type": "stream",
          "text": [
            "Test Samples: 70000 Precision@1 : 94.0343 Recall@1 : 94.0343\n",
            "Test Samples: 70000 Precision@2 : 48.4336 Recall@2 : 96.8671\n",
            "Test Samples: 70000 Precision@3 : 32.3905 Recall@3 : 97.1714\n",
            "Test Samples: 70000 Precision@4 : 24.6318 Recall@4 : 98.5271\n",
            "Test Samples: 70000 Precision@5 : 19.8137 Recall@5 : 99.0686\n"
          ],
          "name": "stdout"
        }
      ]
    },
    {
      "cell_type": "markdown",
      "metadata": {
        "id": "nrxSYRs3b621"
      },
      "source": [
        "Try training a classifier on this dataset with, say, LogisticRegression to realize how fast fastText is! 93% Precision and Recall are hard numbers to beat, too!"
      ]
    }
  ]
}