{
  "nbformat": 4,
  "nbformat_minor": 0,
  "metadata": {
    "colab": {
      "name": "How to evaluate Longformer on TriviaQA using NLP",
      "provenance": [],
      "collapsed_sections": [],
      "toc_visible": true
    },
    "kernelspec": {
      "name": "python3",
      "display_name": "Python 3"
    },
    "accelerator": "GPU",
    "widgets": {
      "application/vnd.jupyter.widget-state+json": {
        "590550466c6c4992b5aa5ebc370fc02b": {
          "model_module": "@jupyter-widgets/controls",
          "model_name": "HBoxModel",
          "state": {
            "_view_name": "HBoxView",
            "_dom_classes": [],
            "_model_name": "HBoxModel",
            "_view_module": "@jupyter-widgets/controls",
            "_model_module_version": "1.5.0",
            "_view_count": null,
            "_view_module_version": "1.5.0",
            "box_style": "",
            "layout": "IPY_MODEL_9735b4482beb4e029cbde083a39a0853",
            "_model_module": "@jupyter-widgets/controls",
            "children": [
              "IPY_MODEL_ddb031d442364742b2c0b0bee574c779",
              "IPY_MODEL_d9288283e804453fa283a51f7f0915c0"
            ]
          }
        },
        "9735b4482beb4e029cbde083a39a0853": {
          "model_module": "@jupyter-widgets/base",
          "model_name": "LayoutModel",
          "state": {
            "_view_name": "LayoutView",
            "grid_template_rows": null,
            "right": null,
            "justify_content": null,
            "_view_module": "@jupyter-widgets/base",
            "overflow": null,
            "_model_module_version": "1.2.0",
            "_view_count": null,
            "flex_flow": null,
            "width": null,
            "min_width": null,
            "border": null,
            "align_items": null,
            "bottom": null,
            "_model_module": "@jupyter-widgets/base",
            "top": null,
            "grid_column": null,
            "overflow_y": null,
            "overflow_x": null,
            "grid_auto_flow": null,
            "grid_area": null,
            "grid_template_columns": null,
            "flex": null,
            "_model_name": "LayoutModel",
            "justify_items": null,
            "grid_row": null,
            "max_height": null,
            "align_content": null,
            "visibility": null,
            "align_self": null,
            "height": null,
            "min_height": null,
            "padding": null,
            "grid_auto_rows": null,
            "grid_gap": null,
            "max_width": null,
            "order": null,
            "_view_module_version": "1.2.0",
            "grid_template_areas": null,
            "object_position": null,
            "object_fit": null,
            "grid_auto_columns": null,
            "margin": null,
            "display": null,
            "left": null
          }
        },
        "ddb031d442364742b2c0b0bee574c779": {
          "model_module": "@jupyter-widgets/controls",
          "model_name": "FloatProgressModel",
          "state": {
            "_view_name": "ProgressView",
            "style": "IPY_MODEL_7ac1ce1ff5014b64b7675b993865e33c",
            "_dom_classes": [],
            "description": "Downloading: 100%",
            "_model_name": "FloatProgressModel",
            "bar_style": "success",
            "max": 12294,
            "_view_module": "@jupyter-widgets/controls",
            "_model_module_version": "1.5.0",
            "value": 12294,
            "_view_count": null,
            "_view_module_version": "1.5.0",
            "orientation": "horizontal",
            "min": 0,
            "description_tooltip": null,
            "_model_module": "@jupyter-widgets/controls",
            "layout": "IPY_MODEL_3afba49a572f4ea1ab729c6d81b4539f"
          }
        },
        "d9288283e804453fa283a51f7f0915c0": {
          "model_module": "@jupyter-widgets/controls",
          "model_name": "HTMLModel",
          "state": {
            "_view_name": "HTMLView",
            "style": "IPY_MODEL_81e16aec967e4fc5b944da59977716c4",
            "_dom_classes": [],
            "description": "",
            "_model_name": "HTMLModel",
            "placeholder": "​",
            "_view_module": "@jupyter-widgets/controls",
            "_model_module_version": "1.5.0",
            "value": " 12.3k/12.3k [03:26&lt;00:00, 59.4B/s]",
            "_view_count": null,
            "_view_module_version": "1.5.0",
            "description_tooltip": null,
            "_model_module": "@jupyter-widgets/controls",
            "layout": "IPY_MODEL_92efad23ebaf46bcae43fd37bcbff7b7"
          }
        },
        "7ac1ce1ff5014b64b7675b993865e33c": {
          "model_module": "@jupyter-widgets/controls",
          "model_name": "ProgressStyleModel",
          "state": {
            "_view_name": "StyleView",
            "_model_name": "ProgressStyleModel",
            "description_width": "initial",
            "_view_module": "@jupyter-widgets/base",
            "_model_module_version": "1.5.0",
            "_view_count": null,
            "_view_module_version": "1.2.0",
            "bar_color": null,
            "_model_module": "@jupyter-widgets/controls"
          }
        },
        "3afba49a572f4ea1ab729c6d81b4539f": {
          "model_module": "@jupyter-widgets/base",
          "model_name": "LayoutModel",
          "state": {
            "_view_name": "LayoutView",
            "grid_template_rows": null,
            "right": null,
            "justify_content": null,
            "_view_module": "@jupyter-widgets/base",
            "overflow": null,
            "_model_module_version": "1.2.0",
            "_view_count": null,
            "flex_flow": null,
            "width": null,
            "min_width": null,
            "border": null,
            "align_items": null,
            "bottom": null,
            "_model_module": "@jupyter-widgets/base",
            "top": null,
            "grid_column": null,
            "overflow_y": null,
            "overflow_x": null,
            "grid_auto_flow": null,
            "grid_area": null,
            "grid_template_columns": null,
            "flex": null,
            "_model_name": "LayoutModel",
            "justify_items": null,
            "grid_row": null,
            "max_height": null,
            "align_content": null,
            "visibility": null,
            "align_self": null,
            "height": null,
            "min_height": null,
            "padding": null,
            "grid_auto_rows": null,
            "grid_gap": null,
            "max_width": null,
            "order": null,
            "_view_module_version": "1.2.0",
            "grid_template_areas": null,
            "object_position": null,
            "object_fit": null,
            "grid_auto_columns": null,
            "margin": null,
            "display": null,
            "left": null
          }
        },
        "81e16aec967e4fc5b944da59977716c4": {
          "model_module": "@jupyter-widgets/controls",
          "model_name": "DescriptionStyleModel",
          "state": {
            "_view_name": "StyleView",
            "_model_name": "DescriptionStyleModel",
            "description_width": "",
            "_view_module": "@jupyter-widgets/base",
            "_model_module_version": "1.5.0",
            "_view_count": null,
            "_view_module_version": "1.2.0",
            "_model_module": "@jupyter-widgets/controls"
          }
        },
        "92efad23ebaf46bcae43fd37bcbff7b7": {
          "model_module": "@jupyter-widgets/base",
          "model_name": "LayoutModel",
          "state": {
            "_view_name": "LayoutView",
            "grid_template_rows": null,
            "right": null,
            "justify_content": null,
            "_view_module": "@jupyter-widgets/base",
            "overflow": null,
            "_model_module_version": "1.2.0",
            "_view_count": null,
            "flex_flow": null,
            "width": null,
            "min_width": null,
            "border": null,
            "align_items": null,
            "bottom": null,
            "_model_module": "@jupyter-widgets/base",
            "top": null,
            "grid_column": null,
            "overflow_y": null,
            "overflow_x": null,
            "grid_auto_flow": null,
            "grid_area": null,
            "grid_template_columns": null,
            "flex": null,
            "_model_name": "LayoutModel",
            "justify_items": null,
            "grid_row": null,
            "max_height": null,
            "align_content": null,
            "visibility": null,
            "align_self": null,
            "height": null,
            "min_height": null,
            "padding": null,
            "grid_auto_rows": null,
            "grid_gap": null,
            "max_width": null,
            "order": null,
            "_view_module_version": "1.2.0",
            "grid_template_areas": null,
            "object_position": null,
            "object_fit": null,
            "grid_auto_columns": null,
            "margin": null,
            "display": null,
            "left": null
          }
        },
        "93a7301e94b54d398f1073c2f191a3f7": {
          "model_module": "@jupyter-widgets/controls",
          "model_name": "HBoxModel",
          "state": {
            "_view_name": "HBoxView",
            "_dom_classes": [],
            "_model_name": "HBoxModel",
            "_view_module": "@jupyter-widgets/controls",
            "_model_module_version": "1.5.0",
            "_view_count": null,
            "_view_module_version": "1.5.0",
            "box_style": "",
            "layout": "IPY_MODEL_c0c427706f1443bba38fc1e352b91dd0",
            "_model_module": "@jupyter-widgets/controls",
            "children": [
              "IPY_MODEL_6104e6b54a874fc29eee3140eb92abbf",
              "IPY_MODEL_8d3c2476a4cf4895b60b51d6ace67e19"
            ]
          }
        },
        "c0c427706f1443bba38fc1e352b91dd0": {
          "model_module": "@jupyter-widgets/base",
          "model_name": "LayoutModel",
          "state": {
            "_view_name": "LayoutView",
            "grid_template_rows": null,
            "right": null,
            "justify_content": null,
            "_view_module": "@jupyter-widgets/base",
            "overflow": null,
            "_model_module_version": "1.2.0",
            "_view_count": null,
            "flex_flow": null,
            "width": null,
            "min_width": null,
            "border": null,
            "align_items": null,
            "bottom": null,
            "_model_module": "@jupyter-widgets/base",
            "top": null,
            "grid_column": null,
            "overflow_y": null,
            "overflow_x": null,
            "grid_auto_flow": null,
            "grid_area": null,
            "grid_template_columns": null,
            "flex": null,
            "_model_name": "LayoutModel",
            "justify_items": null,
            "grid_row": null,
            "max_height": null,
            "align_content": null,
            "visibility": null,
            "align_self": null,
            "height": null,
            "min_height": null,
            "padding": null,
            "grid_auto_rows": null,
            "grid_gap": null,
            "max_width": null,
            "order": null,
            "_view_module_version": "1.2.0",
            "grid_template_areas": null,
            "object_position": null,
            "object_fit": null,
            "grid_auto_columns": null,
            "margin": null,
            "display": null,
            "left": null
          }
        },
        "6104e6b54a874fc29eee3140eb92abbf": {
          "model_module": "@jupyter-widgets/controls",
          "model_name": "FloatProgressModel",
          "state": {
            "_view_name": "ProgressView",
            "style": "IPY_MODEL_d45f8cddc56c442fb9999b29e5cf17a6",
            "_dom_classes": [],
            "description": "Downloading: 100%",
            "_model_name": "FloatProgressModel",
            "bar_style": "success",
            "max": 13607,
            "_view_module": "@jupyter-widgets/controls",
            "_model_module_version": "1.5.0",
            "value": 13607,
            "_view_count": null,
            "_view_module_version": "1.5.0",
            "orientation": "horizontal",
            "min": 0,
            "description_tooltip": null,
            "_model_module": "@jupyter-widgets/controls",
            "layout": "IPY_MODEL_b812e337dc254680b7e4422deecea3b2"
          }
        },
        "8d3c2476a4cf4895b60b51d6ace67e19": {
          "model_module": "@jupyter-widgets/controls",
          "model_name": "HTMLModel",
          "state": {
            "_view_name": "HTMLView",
            "style": "IPY_MODEL_59352324d5ee4f30a650e7bc8f5ce1fc",
            "_dom_classes": [],
            "description": "",
            "_model_name": "HTMLModel",
            "placeholder": "​",
            "_view_module": "@jupyter-widgets/controls",
            "_model_module_version": "1.5.0",
            "value": " 13.6k/13.6k [00:00&lt;00:00, 211kB/s]",
            "_view_count": null,
            "_view_module_version": "1.5.0",
            "description_tooltip": null,
            "_model_module": "@jupyter-widgets/controls",
            "layout": "IPY_MODEL_c146d56980c445f6bea43d5bed0d6e7d"
          }
        },
        "d45f8cddc56c442fb9999b29e5cf17a6": {
          "model_module": "@jupyter-widgets/controls",
          "model_name": "ProgressStyleModel",
          "state": {
            "_view_name": "StyleView",
            "_model_name": "ProgressStyleModel",
            "description_width": "initial",
            "_view_module": "@jupyter-widgets/base",
            "_model_module_version": "1.5.0",
            "_view_count": null,
            "_view_module_version": "1.2.0",
            "bar_color": null,
            "_model_module": "@jupyter-widgets/controls"
          }
        },
        "b812e337dc254680b7e4422deecea3b2": {
          "model_module": "@jupyter-widgets/base",
          "model_name": "LayoutModel",
          "state": {
            "_view_name": "LayoutView",
            "grid_template_rows": null,
            "right": null,
            "justify_content": null,
            "_view_module": "@jupyter-widgets/base",
            "overflow": null,
            "_model_module_version": "1.2.0",
            "_view_count": null,
            "flex_flow": null,
            "width": null,
            "min_width": null,
            "border": null,
            "align_items": null,
            "bottom": null,
            "_model_module": "@jupyter-widgets/base",
            "top": null,
            "grid_column": null,
            "overflow_y": null,
            "overflow_x": null,
            "grid_auto_flow": null,
            "grid_area": null,
            "grid_template_columns": null,
            "flex": null,
            "_model_name": "LayoutModel",
            "justify_items": null,
            "grid_row": null,
            "max_height": null,
            "align_content": null,
            "visibility": null,
            "align_self": null,
            "height": null,
            "min_height": null,
            "padding": null,
            "grid_auto_rows": null,
            "grid_gap": null,
            "max_width": null,
            "order": null,
            "_view_module_version": "1.2.0",
            "grid_template_areas": null,
            "object_position": null,
            "object_fit": null,
            "grid_auto_columns": null,
            "margin": null,
            "display": null,
            "left": null
          }
        },
        "59352324d5ee4f30a650e7bc8f5ce1fc": {
          "model_module": "@jupyter-widgets/controls",
          "model_name": "DescriptionStyleModel",
          "state": {
            "_view_name": "StyleView",
            "_model_name": "DescriptionStyleModel",
            "description_width": "",
            "_view_module": "@jupyter-widgets/base",
            "_model_module_version": "1.5.0",
            "_view_count": null,
            "_view_module_version": "1.2.0",
            "_model_module": "@jupyter-widgets/controls"
          }
        },
        "c146d56980c445f6bea43d5bed0d6e7d": {
          "model_module": "@jupyter-widgets/base",
          "model_name": "LayoutModel",
          "state": {
            "_view_name": "LayoutView",
            "grid_template_rows": null,
            "right": null,
            "justify_content": null,
            "_view_module": "@jupyter-widgets/base",
            "overflow": null,
            "_model_module_version": "1.2.0",
            "_view_count": null,
            "flex_flow": null,
            "width": null,
            "min_width": null,
            "border": null,
            "align_items": null,
            "bottom": null,
            "_model_module": "@jupyter-widgets/base",
            "top": null,
            "grid_column": null,
            "overflow_y": null,
            "overflow_x": null,
            "grid_auto_flow": null,
            "grid_area": null,
            "grid_template_columns": null,
            "flex": null,
            "_model_name": "LayoutModel",
            "justify_items": null,
            "grid_row": null,
            "max_height": null,
            "align_content": null,
            "visibility": null,
            "align_self": null,
            "height": null,
            "min_height": null,
            "padding": null,
            "grid_auto_rows": null,
            "grid_gap": null,
            "max_width": null,
            "order": null,
            "_view_module_version": "1.2.0",
            "grid_template_areas": null,
            "object_position": null,
            "object_fit": null,
            "grid_auto_columns": null,
            "margin": null,
            "display": null,
            "left": null
          }
        },
        "ca794461e4f44240a442c23414dc5a52": {
          "model_module": "@jupyter-widgets/controls",
          "model_name": "HBoxModel",
          "state": {
            "_view_name": "HBoxView",
            "_dom_classes": [],
            "_model_name": "HBoxModel",
            "_view_module": "@jupyter-widgets/controls",
            "_model_module_version": "1.5.0",
            "_view_count": null,
            "_view_module_version": "1.5.0",
            "box_style": "",
            "layout": "IPY_MODEL_fd98e2fc6875495283e4d444e6f3c48a",
            "_model_module": "@jupyter-widgets/controls",
            "children": [
              "IPY_MODEL_20ba3d2a587f48d2b7c6d042897199b2",
              "IPY_MODEL_0c1c36d682d74ab2b06dab8e20ba7af4"
            ]
          }
        },
        "fd98e2fc6875495283e4d444e6f3c48a": {
          "model_module": "@jupyter-widgets/base",
          "model_name": "LayoutModel",
          "state": {
            "_view_name": "LayoutView",
            "grid_template_rows": null,
            "right": null,
            "justify_content": null,
            "_view_module": "@jupyter-widgets/base",
            "overflow": null,
            "_model_module_version": "1.2.0",
            "_view_count": null,
            "flex_flow": null,
            "width": null,
            "min_width": null,
            "border": null,
            "align_items": null,
            "bottom": null,
            "_model_module": "@jupyter-widgets/base",
            "top": null,
            "grid_column": null,
            "overflow_y": null,
            "overflow_x": null,
            "grid_auto_flow": null,
            "grid_area": null,
            "grid_template_columns": null,
            "flex": null,
            "_model_name": "LayoutModel",
            "justify_items": null,
            "grid_row": null,
            "max_height": null,
            "align_content": null,
            "visibility": null,
            "align_self": null,
            "height": null,
            "min_height": null,
            "padding": null,
            "grid_auto_rows": null,
            "grid_gap": null,
            "max_width": null,
            "order": null,
            "_view_module_version": "1.2.0",
            "grid_template_areas": null,
            "object_position": null,
            "object_fit": null,
            "grid_auto_columns": null,
            "margin": null,
            "display": null,
            "left": null
          }
        },
        "20ba3d2a587f48d2b7c6d042897199b2": {
          "model_module": "@jupyter-widgets/controls",
          "model_name": "FloatProgressModel",
          "state": {
            "_view_name": "ProgressView",
            "style": "IPY_MODEL_31e93452176840dab8ecfc0d4bb7098a",
            "_dom_classes": [],
            "description": "Downloading: 100%",
            "_model_name": "FloatProgressModel",
            "bar_style": "success",
            "max": 2665779500,
            "_view_module": "@jupyter-widgets/controls",
            "_model_module_version": "1.5.0",
            "value": 2665779500,
            "_view_count": null,
            "_view_module_version": "1.5.0",
            "orientation": "horizontal",
            "min": 0,
            "description_tooltip": null,
            "_model_module": "@jupyter-widgets/controls",
            "layout": "IPY_MODEL_ba27f699b8644df887c6e1da63bbc564"
          }
        },
        "0c1c36d682d74ab2b06dab8e20ba7af4": {
          "model_module": "@jupyter-widgets/controls",
          "model_name": "HTMLModel",
          "state": {
            "_view_name": "HTMLView",
            "style": "IPY_MODEL_188e5906d94c4dceafe8bd897719104e",
            "_dom_classes": [],
            "description": "",
            "_model_name": "HTMLModel",
            "placeholder": "​",
            "_view_module": "@jupyter-widgets/controls",
            "_model_module_version": "1.5.0",
            "value": " 2.67G/2.67G [03:23&lt;00:00, 13.1MB/s]",
            "_view_count": null,
            "_view_module_version": "1.5.0",
            "description_tooltip": null,
            "_model_module": "@jupyter-widgets/controls",
            "layout": "IPY_MODEL_6784976497164e978b714c4efc3a4b61"
          }
        },
        "31e93452176840dab8ecfc0d4bb7098a": {
          "model_module": "@jupyter-widgets/controls",
          "model_name": "ProgressStyleModel",
          "state": {
            "_view_name": "StyleView",
            "_model_name": "ProgressStyleModel",
            "description_width": "initial",
            "_view_module": "@jupyter-widgets/base",
            "_model_module_version": "1.5.0",
            "_view_count": null,
            "_view_module_version": "1.2.0",
            "bar_color": null,
            "_model_module": "@jupyter-widgets/controls"
          }
        },
        "ba27f699b8644df887c6e1da63bbc564": {
          "model_module": "@jupyter-widgets/base",
          "model_name": "LayoutModel",
          "state": {
            "_view_name": "LayoutView",
            "grid_template_rows": null,
            "right": null,
            "justify_content": null,
            "_view_module": "@jupyter-widgets/base",
            "overflow": null,
            "_model_module_version": "1.2.0",
            "_view_count": null,
            "flex_flow": null,
            "width": null,
            "min_width": null,
            "border": null,
            "align_items": null,
            "bottom": null,
            "_model_module": "@jupyter-widgets/base",
            "top": null,
            "grid_column": null,
            "overflow_y": null,
            "overflow_x": null,
            "grid_auto_flow": null,
            "grid_area": null,
            "grid_template_columns": null,
            "flex": null,
            "_model_name": "LayoutModel",
            "justify_items": null,
            "grid_row": null,
            "max_height": null,
            "align_content": null,
            "visibility": null,
            "align_self": null,
            "height": null,
            "min_height": null,
            "padding": null,
            "grid_auto_rows": null,
            "grid_gap": null,
            "max_width": null,
            "order": null,
            "_view_module_version": "1.2.0",
            "grid_template_areas": null,
            "object_position": null,
            "object_fit": null,
            "grid_auto_columns": null,
            "margin": null,
            "display": null,
            "left": null
          }
        },
        "188e5906d94c4dceafe8bd897719104e": {
          "model_module": "@jupyter-widgets/controls",
          "model_name": "DescriptionStyleModel",
          "state": {
            "_view_name": "StyleView",
            "_model_name": "DescriptionStyleModel",
            "description_width": "",
            "_view_module": "@jupyter-widgets/base",
            "_model_module_version": "1.5.0",
            "_view_count": null,
            "_view_module_version": "1.2.0",
            "_model_module": "@jupyter-widgets/controls"
          }
        },
        "6784976497164e978b714c4efc3a4b61": {
          "model_module": "@jupyter-widgets/base",
          "model_name": "LayoutModel",
          "state": {
            "_view_name": "LayoutView",
            "grid_template_rows": null,
            "right": null,
            "justify_content": null,
            "_view_module": "@jupyter-widgets/base",
            "overflow": null,
            "_model_module_version": "1.2.0",
            "_view_count": null,
            "flex_flow": null,
            "width": null,
            "min_width": null,
            "border": null,
            "align_items": null,
            "bottom": null,
            "_model_module": "@jupyter-widgets/base",
            "top": null,
            "grid_column": null,
            "overflow_y": null,
            "overflow_x": null,
            "grid_auto_flow": null,
            "grid_area": null,
            "grid_template_columns": null,
            "flex": null,
            "_model_name": "LayoutModel",
            "justify_items": null,
            "grid_row": null,
            "max_height": null,
            "align_content": null,
            "visibility": null,
            "align_self": null,
            "height": null,
            "min_height": null,
            "padding": null,
            "grid_auto_rows": null,
            "grid_gap": null,
            "max_width": null,
            "order": null,
            "_view_module_version": "1.2.0",
            "grid_template_areas": null,
            "object_position": null,
            "object_fit": null,
            "grid_auto_columns": null,
            "margin": null,
            "display": null,
            "left": null
          }
        },
        "9fe73ab9bd594f2fac97f63523e8ab2d": {
          "model_module": "@jupyter-widgets/controls",
          "model_name": "HBoxModel",
          "state": {
            "_view_name": "HBoxView",
            "_dom_classes": [],
            "_model_name": "HBoxModel",
            "_view_module": "@jupyter-widgets/controls",
            "_model_module_version": "1.5.0",
            "_view_count": null,
            "_view_module_version": "1.5.0",
            "box_style": "",
            "layout": "IPY_MODEL_3a22fe08a5964493a68098eaeb551a20",
            "_model_module": "@jupyter-widgets/controls",
            "children": [
              "IPY_MODEL_ee7fc0f6bb9c4643b4d281e8f962a181",
              "IPY_MODEL_59a334c6c8974f02b465c99ba2adb085"
            ]
          }
        },
        "3a22fe08a5964493a68098eaeb551a20": {
          "model_module": "@jupyter-widgets/base",
          "model_name": "LayoutModel",
          "state": {
            "_view_name": "LayoutView",
            "grid_template_rows": null,
            "right": null,
            "justify_content": null,
            "_view_module": "@jupyter-widgets/base",
            "overflow": null,
            "_model_module_version": "1.2.0",
            "_view_count": null,
            "flex_flow": null,
            "width": null,
            "min_width": null,
            "border": null,
            "align_items": null,
            "bottom": null,
            "_model_module": "@jupyter-widgets/base",
            "top": null,
            "grid_column": null,
            "overflow_y": null,
            "overflow_x": null,
            "grid_auto_flow": null,
            "grid_area": null,
            "grid_template_columns": null,
            "flex": null,
            "_model_name": "LayoutModel",
            "justify_items": null,
            "grid_row": null,
            "max_height": null,
            "align_content": null,
            "visibility": null,
            "align_self": null,
            "height": null,
            "min_height": null,
            "padding": null,
            "grid_auto_rows": null,
            "grid_gap": null,
            "max_width": null,
            "order": null,
            "_view_module_version": "1.2.0",
            "grid_template_areas": null,
            "object_position": null,
            "object_fit": null,
            "grid_auto_columns": null,
            "margin": null,
            "display": null,
            "left": null
          }
        },
        "ee7fc0f6bb9c4643b4d281e8f962a181": {
          "model_module": "@jupyter-widgets/controls",
          "model_name": "FloatProgressModel",
          "state": {
            "_view_name": "ProgressView",
            "style": "IPY_MODEL_773701d1d875423b9ceec1961775d0d1",
            "_dom_classes": [],
            "description": "",
            "_model_name": "FloatProgressModel",
            "bar_style": "info",
            "max": 1,
            "_view_module": "@jupyter-widgets/controls",
            "_model_module_version": "1.5.0",
            "value": 1,
            "_view_count": null,
            "_view_module_version": "1.5.0",
            "orientation": "horizontal",
            "min": 0,
            "description_tooltip": null,
            "_model_module": "@jupyter-widgets/controls",
            "layout": "IPY_MODEL_77e1b8bb6e0043378aa0dfa9dfba45aa"
          }
        },
        "59a334c6c8974f02b465c99ba2adb085": {
          "model_module": "@jupyter-widgets/controls",
          "model_name": "HTMLModel",
          "state": {
            "_view_name": "HTMLView",
            "style": "IPY_MODEL_d62cb1f672fb42589d748a054e619f8d",
            "_dom_classes": [],
            "description": "",
            "_model_name": "HTMLModel",
            "placeholder": "​",
            "_view_module": "@jupyter-widgets/controls",
            "_model_module_version": "1.5.0",
            "value": " 138384/0 [13:35&lt;00:00, 861.85 examples/s]",
            "_view_count": null,
            "_view_module_version": "1.5.0",
            "description_tooltip": null,
            "_model_module": "@jupyter-widgets/controls",
            "layout": "IPY_MODEL_d1c95c79a49047d59ffa836ae4ba99f6"
          }
        },
        "773701d1d875423b9ceec1961775d0d1": {
          "model_module": "@jupyter-widgets/controls",
          "model_name": "ProgressStyleModel",
          "state": {
            "_view_name": "StyleView",
            "_model_name": "ProgressStyleModel",
            "description_width": "initial",
            "_view_module": "@jupyter-widgets/base",
            "_model_module_version": "1.5.0",
            "_view_count": null,
            "_view_module_version": "1.2.0",
            "bar_color": null,
            "_model_module": "@jupyter-widgets/controls"
          }
        },
        "77e1b8bb6e0043378aa0dfa9dfba45aa": {
          "model_module": "@jupyter-widgets/base",
          "model_name": "LayoutModel",
          "state": {
            "_view_name": "LayoutView",
            "grid_template_rows": null,
            "right": null,
            "justify_content": null,
            "_view_module": "@jupyter-widgets/base",
            "overflow": null,
            "_model_module_version": "1.2.0",
            "_view_count": null,
            "flex_flow": null,
            "width": null,
            "min_width": null,
            "border": null,
            "align_items": null,
            "bottom": null,
            "_model_module": "@jupyter-widgets/base",
            "top": null,
            "grid_column": null,
            "overflow_y": null,
            "overflow_x": null,
            "grid_auto_flow": null,
            "grid_area": null,
            "grid_template_columns": null,
            "flex": null,
            "_model_name": "LayoutModel",
            "justify_items": null,
            "grid_row": null,
            "max_height": null,
            "align_content": null,
            "visibility": null,
            "align_self": null,
            "height": null,
            "min_height": null,
            "padding": null,
            "grid_auto_rows": null,
            "grid_gap": null,
            "max_width": null,
            "order": null,
            "_view_module_version": "1.2.0",
            "grid_template_areas": null,
            "object_position": null,
            "object_fit": null,
            "grid_auto_columns": null,
            "margin": null,
            "display": null,
            "left": null
          }
        },
        "d62cb1f672fb42589d748a054e619f8d": {
          "model_module": "@jupyter-widgets/controls",
          "model_name": "DescriptionStyleModel",
          "state": {
            "_view_name": "StyleView",
            "_model_name": "DescriptionStyleModel",
            "description_width": "",
            "_view_module": "@jupyter-widgets/base",
            "_model_module_version": "1.5.0",
            "_view_count": null,
            "_view_module_version": "1.2.0",
            "_model_module": "@jupyter-widgets/controls"
          }
        },
        "d1c95c79a49047d59ffa836ae4ba99f6": {
          "model_module": "@jupyter-widgets/base",
          "model_name": "LayoutModel",
          "state": {
            "_view_name": "LayoutView",
            "grid_template_rows": null,
            "right": null,
            "justify_content": null,
            "_view_module": "@jupyter-widgets/base",
            "overflow": null,
            "_model_module_version": "1.2.0",
            "_view_count": null,
            "flex_flow": null,
            "width": null,
            "min_width": null,
            "border": null,
            "align_items": null,
            "bottom": null,
            "_model_module": "@jupyter-widgets/base",
            "top": null,
            "grid_column": null,
            "overflow_y": null,
            "overflow_x": null,
            "grid_auto_flow": null,
            "grid_area": null,
            "grid_template_columns": null,
            "flex": null,
            "_model_name": "LayoutModel",
            "justify_items": null,
            "grid_row": null,
            "max_height": null,
            "align_content": null,
            "visibility": null,
            "align_self": null,
            "height": null,
            "min_height": null,
            "padding": null,
            "grid_auto_rows": null,
            "grid_gap": null,
            "max_width": null,
            "order": null,
            "_view_module_version": "1.2.0",
            "grid_template_areas": null,
            "object_position": null,
            "object_fit": null,
            "grid_auto_columns": null,
            "margin": null,
            "display": null,
            "left": null
          }
        },
        "4237c2a5c58043548e78d2ef2459db3e": {
          "model_module": "@jupyter-widgets/controls",
          "model_name": "HBoxModel",
          "state": {
            "_view_name": "HBoxView",
            "_dom_classes": [],
            "_model_name": "HBoxModel",
            "_view_module": "@jupyter-widgets/controls",
            "_model_module_version": "1.5.0",
            "_view_count": null,
            "_view_module_version": "1.5.0",
            "box_style": "",
            "layout": "IPY_MODEL_17a6965bdd1d4cc6b2b721f935943562",
            "_model_module": "@jupyter-widgets/controls",
            "children": [
              "IPY_MODEL_5088265e0caa466bb7ae10b13eeab637",
              "IPY_MODEL_cc431e76868549ebba2ac2de500a801a"
            ]
          }
        },
        "17a6965bdd1d4cc6b2b721f935943562": {
          "model_module": "@jupyter-widgets/base",
          "model_name": "LayoutModel",
          "state": {
            "_view_name": "LayoutView",
            "grid_template_rows": null,
            "right": null,
            "justify_content": null,
            "_view_module": "@jupyter-widgets/base",
            "overflow": null,
            "_model_module_version": "1.2.0",
            "_view_count": null,
            "flex_flow": null,
            "width": null,
            "min_width": null,
            "border": null,
            "align_items": null,
            "bottom": null,
            "_model_module": "@jupyter-widgets/base",
            "top": null,
            "grid_column": null,
            "overflow_y": null,
            "overflow_x": null,
            "grid_auto_flow": null,
            "grid_area": null,
            "grid_template_columns": null,
            "flex": null,
            "_model_name": "LayoutModel",
            "justify_items": null,
            "grid_row": null,
            "max_height": null,
            "align_content": null,
            "visibility": null,
            "align_self": null,
            "height": null,
            "min_height": null,
            "padding": null,
            "grid_auto_rows": null,
            "grid_gap": null,
            "max_width": null,
            "order": null,
            "_view_module_version": "1.2.0",
            "grid_template_areas": null,
            "object_position": null,
            "object_fit": null,
            "grid_auto_columns": null,
            "margin": null,
            "display": null,
            "left": null
          }
        },
        "5088265e0caa466bb7ae10b13eeab637": {
          "model_module": "@jupyter-widgets/controls",
          "model_name": "FloatProgressModel",
          "state": {
            "_view_name": "ProgressView",
            "style": "IPY_MODEL_028a9f7c5e984e42951ec121ba16a8ce",
            "_dom_classes": [],
            "description": "",
            "_model_name": "FloatProgressModel",
            "bar_style": "info",
            "max": 1,
            "_view_module": "@jupyter-widgets/controls",
            "_model_module_version": "1.5.0",
            "value": 1,
            "_view_count": null,
            "_view_module_version": "1.5.0",
            "orientation": "horizontal",
            "min": 0,
            "description_tooltip": null,
            "_model_module": "@jupyter-widgets/controls",
            "layout": "IPY_MODEL_68dca266f0634cee87bbe2341f7cb8f2"
          }
        },
        "cc431e76868549ebba2ac2de500a801a": {
          "model_module": "@jupyter-widgets/controls",
          "model_name": "HTMLModel",
          "state": {
            "_view_name": "HTMLView",
            "style": "IPY_MODEL_df48be741c8d404a932249d1dd0a5416",
            "_dom_classes": [],
            "description": "",
            "_model_name": "HTMLModel",
            "placeholder": "​",
            "_view_module": "@jupyter-widgets/controls",
            "_model_module_version": "1.5.0",
            "value": " 18669/0 [01:47&lt;00:00, 2000.55 examples/s]",
            "_view_count": null,
            "_view_module_version": "1.5.0",
            "description_tooltip": null,
            "_model_module": "@jupyter-widgets/controls",
            "layout": "IPY_MODEL_b117fffeeada44ed9d9e7a1da88c20a2"
          }
        },
        "028a9f7c5e984e42951ec121ba16a8ce": {
          "model_module": "@jupyter-widgets/controls",
          "model_name": "ProgressStyleModel",
          "state": {
            "_view_name": "StyleView",
            "_model_name": "ProgressStyleModel",
            "description_width": "initial",
            "_view_module": "@jupyter-widgets/base",
            "_model_module_version": "1.5.0",
            "_view_count": null,
            "_view_module_version": "1.2.0",
            "bar_color": null,
            "_model_module": "@jupyter-widgets/controls"
          }
        },
        "68dca266f0634cee87bbe2341f7cb8f2": {
          "model_module": "@jupyter-widgets/base",
          "model_name": "LayoutModel",
          "state": {
            "_view_name": "LayoutView",
            "grid_template_rows": null,
            "right": null,
            "justify_content": null,
            "_view_module": "@jupyter-widgets/base",
            "overflow": null,
            "_model_module_version": "1.2.0",
            "_view_count": null,
            "flex_flow": null,
            "width": null,
            "min_width": null,
            "border": null,
            "align_items": null,
            "bottom": null,
            "_model_module": "@jupyter-widgets/base",
            "top": null,
            "grid_column": null,
            "overflow_y": null,
            "overflow_x": null,
            "grid_auto_flow": null,
            "grid_area": null,
            "grid_template_columns": null,
            "flex": null,
            "_model_name": "LayoutModel",
            "justify_items": null,
            "grid_row": null,
            "max_height": null,
            "align_content": null,
            "visibility": null,
            "align_self": null,
            "height": null,
            "min_height": null,
            "padding": null,
            "grid_auto_rows": null,
            "grid_gap": null,
            "max_width": null,
            "order": null,
            "_view_module_version": "1.2.0",
            "grid_template_areas": null,
            "object_position": null,
            "object_fit": null,
            "grid_auto_columns": null,
            "margin": null,
            "display": null,
            "left": null
          }
        },
        "df48be741c8d404a932249d1dd0a5416": {
          "model_module": "@jupyter-widgets/controls",
          "model_name": "DescriptionStyleModel",
          "state": {
            "_view_name": "StyleView",
            "_model_name": "DescriptionStyleModel",
            "description_width": "",
            "_view_module": "@jupyter-widgets/base",
            "_model_module_version": "1.5.0",
            "_view_count": null,
            "_view_module_version": "1.2.0",
            "_model_module": "@jupyter-widgets/controls"
          }
        },
        "b117fffeeada44ed9d9e7a1da88c20a2": {
          "model_module": "@jupyter-widgets/base",
          "model_name": "LayoutModel",
          "state": {
            "_view_name": "LayoutView",
            "grid_template_rows": null,
            "right": null,
            "justify_content": null,
            "_view_module": "@jupyter-widgets/base",
            "overflow": null,
            "_model_module_version": "1.2.0",
            "_view_count": null,
            "flex_flow": null,
            "width": null,
            "min_width": null,
            "border": null,
            "align_items": null,
            "bottom": null,
            "_model_module": "@jupyter-widgets/base",
            "top": null,
            "grid_column": null,
            "overflow_y": null,
            "overflow_x": null,
            "grid_auto_flow": null,
            "grid_area": null,
            "grid_template_columns": null,
            "flex": null,
            "_model_name": "LayoutModel",
            "justify_items": null,
            "grid_row": null,
            "max_height": null,
            "align_content": null,
            "visibility": null,
            "align_self": null,
            "height": null,
            "min_height": null,
            "padding": null,
            "grid_auto_rows": null,
            "grid_gap": null,
            "max_width": null,
            "order": null,
            "_view_module_version": "1.2.0",
            "grid_template_areas": null,
            "object_position": null,
            "object_fit": null,
            "grid_auto_columns": null,
            "margin": null,
            "display": null,
            "left": null
          }
        },
        "8624e099ef0441e59047575aa9f0901e": {
          "model_module": "@jupyter-widgets/controls",
          "model_name": "HBoxModel",
          "state": {
            "_view_name": "HBoxView",
            "_dom_classes": [],
            "_model_name": "HBoxModel",
            "_view_module": "@jupyter-widgets/controls",
            "_model_module_version": "1.5.0",
            "_view_count": null,
            "_view_module_version": "1.5.0",
            "box_style": "",
            "layout": "IPY_MODEL_ec8c4c6b367d4c1b84548f784818d74a",
            "_model_module": "@jupyter-widgets/controls",
            "children": [
              "IPY_MODEL_8380a0df78fa4f29af05aee80610576f",
              "IPY_MODEL_029467bb63b04d71a3433f87f0b8d508"
            ]
          }
        },
        "ec8c4c6b367d4c1b84548f784818d74a": {
          "model_module": "@jupyter-widgets/base",
          "model_name": "LayoutModel",
          "state": {
            "_view_name": "LayoutView",
            "grid_template_rows": null,
            "right": null,
            "justify_content": null,
            "_view_module": "@jupyter-widgets/base",
            "overflow": null,
            "_model_module_version": "1.2.0",
            "_view_count": null,
            "flex_flow": null,
            "width": null,
            "min_width": null,
            "border": null,
            "align_items": null,
            "bottom": null,
            "_model_module": "@jupyter-widgets/base",
            "top": null,
            "grid_column": null,
            "overflow_y": null,
            "overflow_x": null,
            "grid_auto_flow": null,
            "grid_area": null,
            "grid_template_columns": null,
            "flex": null,
            "_model_name": "LayoutModel",
            "justify_items": null,
            "grid_row": null,
            "max_height": null,
            "align_content": null,
            "visibility": null,
            "align_self": null,
            "height": null,
            "min_height": null,
            "padding": null,
            "grid_auto_rows": null,
            "grid_gap": null,
            "max_width": null,
            "order": null,
            "_view_module_version": "1.2.0",
            "grid_template_areas": null,
            "object_position": null,
            "object_fit": null,
            "grid_auto_columns": null,
            "margin": null,
            "display": null,
            "left": null
          }
        },
        "8380a0df78fa4f29af05aee80610576f": {
          "model_module": "@jupyter-widgets/controls",
          "model_name": "FloatProgressModel",
          "state": {
            "_view_name": "ProgressView",
            "style": "IPY_MODEL_c5165103f9234b93ac8813f0988d0b1b",
            "_dom_classes": [],
            "description": "",
            "_model_name": "FloatProgressModel",
            "bar_style": "info",
            "max": 1,
            "_view_module": "@jupyter-widgets/controls",
            "_model_module_version": "1.5.0",
            "value": 1,
            "_view_count": null,
            "_view_module_version": "1.5.0",
            "orientation": "horizontal",
            "min": 0,
            "description_tooltip": null,
            "_model_module": "@jupyter-widgets/controls",
            "layout": "IPY_MODEL_14d16daa0f434d5fa93600cfd2d02115"
          }
        },
        "029467bb63b04d71a3433f87f0b8d508": {
          "model_module": "@jupyter-widgets/controls",
          "model_name": "HTMLModel",
          "state": {
            "_view_name": "HTMLView",
            "style": "IPY_MODEL_4e580d017a08448d94cf81538738f423",
            "_dom_classes": [],
            "description": "",
            "_model_name": "HTMLModel",
            "placeholder": "​",
            "_view_module": "@jupyter-widgets/controls",
            "_model_module_version": "1.5.0",
            "value": " 17210/0 [01:28&lt;00:00, 2582.01 examples/s]",
            "_view_count": null,
            "_view_module_version": "1.5.0",
            "description_tooltip": null,
            "_model_module": "@jupyter-widgets/controls",
            "layout": "IPY_MODEL_86df83fcf5534c6a82e8583fbe52e306"
          }
        },
        "c5165103f9234b93ac8813f0988d0b1b": {
          "model_module": "@jupyter-widgets/controls",
          "model_name": "ProgressStyleModel",
          "state": {
            "_view_name": "StyleView",
            "_model_name": "ProgressStyleModel",
            "description_width": "initial",
            "_view_module": "@jupyter-widgets/base",
            "_model_module_version": "1.5.0",
            "_view_count": null,
            "_view_module_version": "1.2.0",
            "bar_color": null,
            "_model_module": "@jupyter-widgets/controls"
          }
        },
        "14d16daa0f434d5fa93600cfd2d02115": {
          "model_module": "@jupyter-widgets/base",
          "model_name": "LayoutModel",
          "state": {
            "_view_name": "LayoutView",
            "grid_template_rows": null,
            "right": null,
            "justify_content": null,
            "_view_module": "@jupyter-widgets/base",
            "overflow": null,
            "_model_module_version": "1.2.0",
            "_view_count": null,
            "flex_flow": null,
            "width": null,
            "min_width": null,
            "border": null,
            "align_items": null,
            "bottom": null,
            "_model_module": "@jupyter-widgets/base",
            "top": null,
            "grid_column": null,
            "overflow_y": null,
            "overflow_x": null,
            "grid_auto_flow": null,
            "grid_area": null,
            "grid_template_columns": null,
            "flex": null,
            "_model_name": "LayoutModel",
            "justify_items": null,
            "grid_row": null,
            "max_height": null,
            "align_content": null,
            "visibility": null,
            "align_self": null,
            "height": null,
            "min_height": null,
            "padding": null,
            "grid_auto_rows": null,
            "grid_gap": null,
            "max_width": null,
            "order": null,
            "_view_module_version": "1.2.0",
            "grid_template_areas": null,
            "object_position": null,
            "object_fit": null,
            "grid_auto_columns": null,
            "margin": null,
            "display": null,
            "left": null
          }
        },
        "4e580d017a08448d94cf81538738f423": {
          "model_module": "@jupyter-widgets/controls",
          "model_name": "DescriptionStyleModel",
          "state": {
            "_view_name": "StyleView",
            "_model_name": "DescriptionStyleModel",
            "description_width": "",
            "_view_module": "@jupyter-widgets/base",
            "_model_module_version": "1.5.0",
            "_view_count": null,
            "_view_module_version": "1.2.0",
            "_model_module": "@jupyter-widgets/controls"
          }
        },
        "86df83fcf5534c6a82e8583fbe52e306": {
          "model_module": "@jupyter-widgets/base",
          "model_name": "LayoutModel",
          "state": {
            "_view_name": "LayoutView",
            "grid_template_rows": null,
            "right": null,
            "justify_content": null,
            "_view_module": "@jupyter-widgets/base",
            "overflow": null,
            "_model_module_version": "1.2.0",
            "_view_count": null,
            "flex_flow": null,
            "width": null,
            "min_width": null,
            "border": null,
            "align_items": null,
            "bottom": null,
            "_model_module": "@jupyter-widgets/base",
            "top": null,
            "grid_column": null,
            "overflow_y": null,
            "overflow_x": null,
            "grid_auto_flow": null,
            "grid_area": null,
            "grid_template_columns": null,
            "flex": null,
            "_model_name": "LayoutModel",
            "justify_items": null,
            "grid_row": null,
            "max_height": null,
            "align_content": null,
            "visibility": null,
            "align_self": null,
            "height": null,
            "min_height": null,
            "padding": null,
            "grid_auto_rows": null,
            "grid_gap": null,
            "max_width": null,
            "order": null,
            "_view_module_version": "1.2.0",
            "grid_template_areas": null,
            "object_position": null,
            "object_fit": null,
            "grid_auto_columns": null,
            "margin": null,
            "display": null,
            "left": null
          }
        },
        "a47ae952bbcc47ab9546139e4d5763ca": {
          "model_module": "@jupyter-widgets/controls",
          "model_name": "HBoxModel",
          "state": {
            "_view_name": "HBoxView",
            "_dom_classes": [],
            "_model_name": "HBoxModel",
            "_view_module": "@jupyter-widgets/controls",
            "_model_module_version": "1.5.0",
            "_view_count": null,
            "_view_module_version": "1.5.0",
            "box_style": "",
            "layout": "IPY_MODEL_154ce03cb3ce41878e86b9405acc72c1",
            "_model_module": "@jupyter-widgets/controls",
            "children": [
              "IPY_MODEL_a1cc8d6d531c4cc5ad52368f143275b7",
              "IPY_MODEL_b7b6b55fec334b70b941f43e8790ff8f"
            ]
          }
        },
        "154ce03cb3ce41878e86b9405acc72c1": {
          "model_module": "@jupyter-widgets/base",
          "model_name": "LayoutModel",
          "state": {
            "_view_name": "LayoutView",
            "grid_template_rows": null,
            "right": null,
            "justify_content": null,
            "_view_module": "@jupyter-widgets/base",
            "overflow": null,
            "_model_module_version": "1.2.0",
            "_view_count": null,
            "flex_flow": null,
            "width": null,
            "min_width": null,
            "border": null,
            "align_items": null,
            "bottom": null,
            "_model_module": "@jupyter-widgets/base",
            "top": null,
            "grid_column": null,
            "overflow_y": null,
            "overflow_x": null,
            "grid_auto_flow": null,
            "grid_area": null,
            "grid_template_columns": null,
            "flex": null,
            "_model_name": "LayoutModel",
            "justify_items": null,
            "grid_row": null,
            "max_height": null,
            "align_content": null,
            "visibility": null,
            "align_self": null,
            "height": null,
            "min_height": null,
            "padding": null,
            "grid_auto_rows": null,
            "grid_gap": null,
            "max_width": null,
            "order": null,
            "_view_module_version": "1.2.0",
            "grid_template_areas": null,
            "object_position": null,
            "object_fit": null,
            "grid_auto_columns": null,
            "margin": null,
            "display": null,
            "left": null
          }
        },
        "a1cc8d6d531c4cc5ad52368f143275b7": {
          "model_module": "@jupyter-widgets/controls",
          "model_name": "FloatProgressModel",
          "state": {
            "_view_name": "ProgressView",
            "style": "IPY_MODEL_c985485ebd6b4386822ce6ce3496549c",
            "_dom_classes": [],
            "description": "Downloading: 100%",
            "_model_name": "FloatProgressModel",
            "bar_style": "success",
            "max": 898823,
            "_view_module": "@jupyter-widgets/controls",
            "_model_module_version": "1.5.0",
            "value": 898823,
            "_view_count": null,
            "_view_module_version": "1.5.0",
            "orientation": "horizontal",
            "min": 0,
            "description_tooltip": null,
            "_model_module": "@jupyter-widgets/controls",
            "layout": "IPY_MODEL_ff3389e6768541599665daa2f47bd2b6"
          }
        },
        "b7b6b55fec334b70b941f43e8790ff8f": {
          "model_module": "@jupyter-widgets/controls",
          "model_name": "HTMLModel",
          "state": {
            "_view_name": "HTMLView",
            "style": "IPY_MODEL_3c75fb86d20c49a0ba49c10bcd9ff590",
            "_dom_classes": [],
            "description": "",
            "_model_name": "HTMLModel",
            "placeholder": "​",
            "_view_module": "@jupyter-widgets/controls",
            "_model_module_version": "1.5.0",
            "value": " 899k/899k [00:01&lt;00:00, 601kB/s]",
            "_view_count": null,
            "_view_module_version": "1.5.0",
            "description_tooltip": null,
            "_model_module": "@jupyter-widgets/controls",
            "layout": "IPY_MODEL_d61697ee8cb34283b16d6890c847314d"
          }
        },
        "c985485ebd6b4386822ce6ce3496549c": {
          "model_module": "@jupyter-widgets/controls",
          "model_name": "ProgressStyleModel",
          "state": {
            "_view_name": "StyleView",
            "_model_name": "ProgressStyleModel",
            "description_width": "initial",
            "_view_module": "@jupyter-widgets/base",
            "_model_module_version": "1.5.0",
            "_view_count": null,
            "_view_module_version": "1.2.0",
            "bar_color": null,
            "_model_module": "@jupyter-widgets/controls"
          }
        },
        "ff3389e6768541599665daa2f47bd2b6": {
          "model_module": "@jupyter-widgets/base",
          "model_name": "LayoutModel",
          "state": {
            "_view_name": "LayoutView",
            "grid_template_rows": null,
            "right": null,
            "justify_content": null,
            "_view_module": "@jupyter-widgets/base",
            "overflow": null,
            "_model_module_version": "1.2.0",
            "_view_count": null,
            "flex_flow": null,
            "width": null,
            "min_width": null,
            "border": null,
            "align_items": null,
            "bottom": null,
            "_model_module": "@jupyter-widgets/base",
            "top": null,
            "grid_column": null,
            "overflow_y": null,
            "overflow_x": null,
            "grid_auto_flow": null,
            "grid_area": null,
            "grid_template_columns": null,
            "flex": null,
            "_model_name": "LayoutModel",
            "justify_items": null,
            "grid_row": null,
            "max_height": null,
            "align_content": null,
            "visibility": null,
            "align_self": null,
            "height": null,
            "min_height": null,
            "padding": null,
            "grid_auto_rows": null,
            "grid_gap": null,
            "max_width": null,
            "order": null,
            "_view_module_version": "1.2.0",
            "grid_template_areas": null,
            "object_position": null,
            "object_fit": null,
            "grid_auto_columns": null,
            "margin": null,
            "display": null,
            "left": null
          }
        },
        "3c75fb86d20c49a0ba49c10bcd9ff590": {
          "model_module": "@jupyter-widgets/controls",
          "model_name": "DescriptionStyleModel",
          "state": {
            "_view_name": "StyleView",
            "_model_name": "DescriptionStyleModel",
            "description_width": "",
            "_view_module": "@jupyter-widgets/base",
            "_model_module_version": "1.5.0",
            "_view_count": null,
            "_view_module_version": "1.2.0",
            "_model_module": "@jupyter-widgets/controls"
          }
        },
        "d61697ee8cb34283b16d6890c847314d": {
          "model_module": "@jupyter-widgets/base",
          "model_name": "LayoutModel",
          "state": {
            "_view_name": "LayoutView",
            "grid_template_rows": null,
            "right": null,
            "justify_content": null,
            "_view_module": "@jupyter-widgets/base",
            "overflow": null,
            "_model_module_version": "1.2.0",
            "_view_count": null,
            "flex_flow": null,
            "width": null,
            "min_width": null,
            "border": null,
            "align_items": null,
            "bottom": null,
            "_model_module": "@jupyter-widgets/base",
            "top": null,
            "grid_column": null,
            "overflow_y": null,
            "overflow_x": null,
            "grid_auto_flow": null,
            "grid_area": null,
            "grid_template_columns": null,
            "flex": null,
            "_model_name": "LayoutModel",
            "justify_items": null,
            "grid_row": null,
            "max_height": null,
            "align_content": null,
            "visibility": null,
            "align_self": null,
            "height": null,
            "min_height": null,
            "padding": null,
            "grid_auto_rows": null,
            "grid_gap": null,
            "max_width": null,
            "order": null,
            "_view_module_version": "1.2.0",
            "grid_template_areas": null,
            "object_position": null,
            "object_fit": null,
            "grid_auto_columns": null,
            "margin": null,
            "display": null,
            "left": null
          }
        },
        "e796a26a00d34826ad0c55b8fb5db38f": {
          "model_module": "@jupyter-widgets/controls",
          "model_name": "HBoxModel",
          "state": {
            "_view_name": "HBoxView",
            "_dom_classes": [],
            "_model_name": "HBoxModel",
            "_view_module": "@jupyter-widgets/controls",
            "_model_module_version": "1.5.0",
            "_view_count": null,
            "_view_module_version": "1.5.0",
            "box_style": "",
            "layout": "IPY_MODEL_3ea46857dae940698c468147b5bb8faf",
            "_model_module": "@jupyter-widgets/controls",
            "children": [
              "IPY_MODEL_96408bd96dc04cafb4cd70ec494347e6",
              "IPY_MODEL_800e761adb1b43eba2360783e410d93c"
            ]
          }
        },
        "3ea46857dae940698c468147b5bb8faf": {
          "model_module": "@jupyter-widgets/base",
          "model_name": "LayoutModel",
          "state": {
            "_view_name": "LayoutView",
            "grid_template_rows": null,
            "right": null,
            "justify_content": null,
            "_view_module": "@jupyter-widgets/base",
            "overflow": null,
            "_model_module_version": "1.2.0",
            "_view_count": null,
            "flex_flow": null,
            "width": null,
            "min_width": null,
            "border": null,
            "align_items": null,
            "bottom": null,
            "_model_module": "@jupyter-widgets/base",
            "top": null,
            "grid_column": null,
            "overflow_y": null,
            "overflow_x": null,
            "grid_auto_flow": null,
            "grid_area": null,
            "grid_template_columns": null,
            "flex": null,
            "_model_name": "LayoutModel",
            "justify_items": null,
            "grid_row": null,
            "max_height": null,
            "align_content": null,
            "visibility": null,
            "align_self": null,
            "height": null,
            "min_height": null,
            "padding": null,
            "grid_auto_rows": null,
            "grid_gap": null,
            "max_width": null,
            "order": null,
            "_view_module_version": "1.2.0",
            "grid_template_areas": null,
            "object_position": null,
            "object_fit": null,
            "grid_auto_columns": null,
            "margin": null,
            "display": null,
            "left": null
          }
        },
        "96408bd96dc04cafb4cd70ec494347e6": {
          "model_module": "@jupyter-widgets/controls",
          "model_name": "FloatProgressModel",
          "state": {
            "_view_name": "ProgressView",
            "style": "IPY_MODEL_144c8b7d90044222afbd2ce97fb4f48c",
            "_dom_classes": [],
            "description": "Downloading: 100%",
            "_model_name": "FloatProgressModel",
            "bar_style": "success",
            "max": 456318,
            "_view_module": "@jupyter-widgets/controls",
            "_model_module_version": "1.5.0",
            "value": 456318,
            "_view_count": null,
            "_view_module_version": "1.5.0",
            "orientation": "horizontal",
            "min": 0,
            "description_tooltip": null,
            "_model_module": "@jupyter-widgets/controls",
            "layout": "IPY_MODEL_4e6f546c10d14f9792f05b3480aaae97"
          }
        },
        "800e761adb1b43eba2360783e410d93c": {
          "model_module": "@jupyter-widgets/controls",
          "model_name": "HTMLModel",
          "state": {
            "_view_name": "HTMLView",
            "style": "IPY_MODEL_b55e596c62d843a9b42e9252d25b7ca3",
            "_dom_classes": [],
            "description": "",
            "_model_name": "HTMLModel",
            "placeholder": "​",
            "_view_module": "@jupyter-widgets/controls",
            "_model_module_version": "1.5.0",
            "value": " 456k/456k [00:42&lt;00:00, 10.7kB/s]",
            "_view_count": null,
            "_view_module_version": "1.5.0",
            "description_tooltip": null,
            "_model_module": "@jupyter-widgets/controls",
            "layout": "IPY_MODEL_a6568a6c4b0546688b2518a70a05fe5a"
          }
        },
        "144c8b7d90044222afbd2ce97fb4f48c": {
          "model_module": "@jupyter-widgets/controls",
          "model_name": "ProgressStyleModel",
          "state": {
            "_view_name": "StyleView",
            "_model_name": "ProgressStyleModel",
            "description_width": "initial",
            "_view_module": "@jupyter-widgets/base",
            "_model_module_version": "1.5.0",
            "_view_count": null,
            "_view_module_version": "1.2.0",
            "bar_color": null,
            "_model_module": "@jupyter-widgets/controls"
          }
        },
        "4e6f546c10d14f9792f05b3480aaae97": {
          "model_module": "@jupyter-widgets/base",
          "model_name": "LayoutModel",
          "state": {
            "_view_name": "LayoutView",
            "grid_template_rows": null,
            "right": null,
            "justify_content": null,
            "_view_module": "@jupyter-widgets/base",
            "overflow": null,
            "_model_module_version": "1.2.0",
            "_view_count": null,
            "flex_flow": null,
            "width": null,
            "min_width": null,
            "border": null,
            "align_items": null,
            "bottom": null,
            "_model_module": "@jupyter-widgets/base",
            "top": null,
            "grid_column": null,
            "overflow_y": null,
            "overflow_x": null,
            "grid_auto_flow": null,
            "grid_area": null,
            "grid_template_columns": null,
            "flex": null,
            "_model_name": "LayoutModel",
            "justify_items": null,
            "grid_row": null,
            "max_height": null,
            "align_content": null,
            "visibility": null,
            "align_self": null,
            "height": null,
            "min_height": null,
            "padding": null,
            "grid_auto_rows": null,
            "grid_gap": null,
            "max_width": null,
            "order": null,
            "_view_module_version": "1.2.0",
            "grid_template_areas": null,
            "object_position": null,
            "object_fit": null,
            "grid_auto_columns": null,
            "margin": null,
            "display": null,
            "left": null
          }
        },
        "b55e596c62d843a9b42e9252d25b7ca3": {
          "model_module": "@jupyter-widgets/controls",
          "model_name": "DescriptionStyleModel",
          "state": {
            "_view_name": "StyleView",
            "_model_name": "DescriptionStyleModel",
            "description_width": "",
            "_view_module": "@jupyter-widgets/base",
            "_model_module_version": "1.5.0",
            "_view_count": null,
            "_view_module_version": "1.2.0",
            "_model_module": "@jupyter-widgets/controls"
          }
        },
        "a6568a6c4b0546688b2518a70a05fe5a": {
          "model_module": "@jupyter-widgets/base",
          "model_name": "LayoutModel",
          "state": {
            "_view_name": "LayoutView",
            "grid_template_rows": null,
            "right": null,
            "justify_content": null,
            "_view_module": "@jupyter-widgets/base",
            "overflow": null,
            "_model_module_version": "1.2.0",
            "_view_count": null,
            "flex_flow": null,
            "width": null,
            "min_width": null,
            "border": null,
            "align_items": null,
            "bottom": null,
            "_model_module": "@jupyter-widgets/base",
            "top": null,
            "grid_column": null,
            "overflow_y": null,
            "overflow_x": null,
            "grid_auto_flow": null,
            "grid_area": null,
            "grid_template_columns": null,
            "flex": null,
            "_model_name": "LayoutModel",
            "justify_items": null,
            "grid_row": null,
            "max_height": null,
            "align_content": null,
            "visibility": null,
            "align_self": null,
            "height": null,
            "min_height": null,
            "padding": null,
            "grid_auto_rows": null,
            "grid_gap": null,
            "max_width": null,
            "order": null,
            "_view_module_version": "1.2.0",
            "grid_template_areas": null,
            "object_position": null,
            "object_fit": null,
            "grid_auto_columns": null,
            "margin": null,
            "display": null,
            "left": null
          }
        },
        "63d9f80719994ba0aa5b7b40cf4383ee": {
          "model_module": "@jupyter-widgets/controls",
          "model_name": "HBoxModel",
          "state": {
            "_view_name": "HBoxView",
            "_dom_classes": [],
            "_model_name": "HBoxModel",
            "_view_module": "@jupyter-widgets/controls",
            "_model_module_version": "1.5.0",
            "_view_count": null,
            "_view_module_version": "1.5.0",
            "box_style": "",
            "layout": "IPY_MODEL_d8904814a0b6417b98ee3eab2112b1cc",
            "_model_module": "@jupyter-widgets/controls",
            "children": [
              "IPY_MODEL_156feace087843ddbb75895e6c0a350a",
              "IPY_MODEL_414cea21612c47daa77d13b6e3b08095"
            ]
          }
        },
        "d8904814a0b6417b98ee3eab2112b1cc": {
          "model_module": "@jupyter-widgets/base",
          "model_name": "LayoutModel",
          "state": {
            "_view_name": "LayoutView",
            "grid_template_rows": null,
            "right": null,
            "justify_content": null,
            "_view_module": "@jupyter-widgets/base",
            "overflow": null,
            "_model_module_version": "1.2.0",
            "_view_count": null,
            "flex_flow": null,
            "width": null,
            "min_width": null,
            "border": null,
            "align_items": null,
            "bottom": null,
            "_model_module": "@jupyter-widgets/base",
            "top": null,
            "grid_column": null,
            "overflow_y": null,
            "overflow_x": null,
            "grid_auto_flow": null,
            "grid_area": null,
            "grid_template_columns": null,
            "flex": null,
            "_model_name": "LayoutModel",
            "justify_items": null,
            "grid_row": null,
            "max_height": null,
            "align_content": null,
            "visibility": null,
            "align_self": null,
            "height": null,
            "min_height": null,
            "padding": null,
            "grid_auto_rows": null,
            "grid_gap": null,
            "max_width": null,
            "order": null,
            "_view_module_version": "1.2.0",
            "grid_template_areas": null,
            "object_position": null,
            "object_fit": null,
            "grid_auto_columns": null,
            "margin": null,
            "display": null,
            "left": null
          }
        },
        "156feace087843ddbb75895e6c0a350a": {
          "model_module": "@jupyter-widgets/controls",
          "model_name": "FloatProgressModel",
          "state": {
            "_view_name": "ProgressView",
            "style": "IPY_MODEL_7f036150e9064954b15441b09aea5a47",
            "_dom_classes": [],
            "description": "Downloading: 100%",
            "_model_name": "FloatProgressModel",
            "bar_style": "success",
            "max": 831,
            "_view_module": "@jupyter-widgets/controls",
            "_model_module_version": "1.5.0",
            "value": 831,
            "_view_count": null,
            "_view_module_version": "1.5.0",
            "orientation": "horizontal",
            "min": 0,
            "description_tooltip": null,
            "_model_module": "@jupyter-widgets/controls",
            "layout": "IPY_MODEL_3f09040af7da494ba25f5c12e9285ce6"
          }
        },
        "414cea21612c47daa77d13b6e3b08095": {
          "model_module": "@jupyter-widgets/controls",
          "model_name": "HTMLModel",
          "state": {
            "_view_name": "HTMLView",
            "style": "IPY_MODEL_b94dea909b8f46cc8b839ea2752f7a84",
            "_dom_classes": [],
            "description": "",
            "_model_name": "HTMLModel",
            "placeholder": "​",
            "_view_module": "@jupyter-widgets/controls",
            "_model_module_version": "1.5.0",
            "value": " 831/831 [00:40&lt;00:00, 20.4B/s]",
            "_view_count": null,
            "_view_module_version": "1.5.0",
            "description_tooltip": null,
            "_model_module": "@jupyter-widgets/controls",
            "layout": "IPY_MODEL_08553efcef354ae8a9a9dc66ba918749"
          }
        },
        "7f036150e9064954b15441b09aea5a47": {
          "model_module": "@jupyter-widgets/controls",
          "model_name": "ProgressStyleModel",
          "state": {
            "_view_name": "StyleView",
            "_model_name": "ProgressStyleModel",
            "description_width": "initial",
            "_view_module": "@jupyter-widgets/base",
            "_model_module_version": "1.5.0",
            "_view_count": null,
            "_view_module_version": "1.2.0",
            "bar_color": null,
            "_model_module": "@jupyter-widgets/controls"
          }
        },
        "3f09040af7da494ba25f5c12e9285ce6": {
          "model_module": "@jupyter-widgets/base",
          "model_name": "LayoutModel",
          "state": {
            "_view_name": "LayoutView",
            "grid_template_rows": null,
            "right": null,
            "justify_content": null,
            "_view_module": "@jupyter-widgets/base",
            "overflow": null,
            "_model_module_version": "1.2.0",
            "_view_count": null,
            "flex_flow": null,
            "width": null,
            "min_width": null,
            "border": null,
            "align_items": null,
            "bottom": null,
            "_model_module": "@jupyter-widgets/base",
            "top": null,
            "grid_column": null,
            "overflow_y": null,
            "overflow_x": null,
            "grid_auto_flow": null,
            "grid_area": null,
            "grid_template_columns": null,
            "flex": null,
            "_model_name": "LayoutModel",
            "justify_items": null,
            "grid_row": null,
            "max_height": null,
            "align_content": null,
            "visibility": null,
            "align_self": null,
            "height": null,
            "min_height": null,
            "padding": null,
            "grid_auto_rows": null,
            "grid_gap": null,
            "max_width": null,
            "order": null,
            "_view_module_version": "1.2.0",
            "grid_template_areas": null,
            "object_position": null,
            "object_fit": null,
            "grid_auto_columns": null,
            "margin": null,
            "display": null,
            "left": null
          }
        },
        "b94dea909b8f46cc8b839ea2752f7a84": {
          "model_module": "@jupyter-widgets/controls",
          "model_name": "DescriptionStyleModel",
          "state": {
            "_view_name": "StyleView",
            "_model_name": "DescriptionStyleModel",
            "description_width": "",
            "_view_module": "@jupyter-widgets/base",
            "_model_module_version": "1.5.0",
            "_view_count": null,
            "_view_module_version": "1.2.0",
            "_model_module": "@jupyter-widgets/controls"
          }
        },
        "08553efcef354ae8a9a9dc66ba918749": {
          "model_module": "@jupyter-widgets/base",
          "model_name": "LayoutModel",
          "state": {
            "_view_name": "LayoutView",
            "grid_template_rows": null,
            "right": null,
            "justify_content": null,
            "_view_module": "@jupyter-widgets/base",
            "overflow": null,
            "_model_module_version": "1.2.0",
            "_view_count": null,
            "flex_flow": null,
            "width": null,
            "min_width": null,
            "border": null,
            "align_items": null,
            "bottom": null,
            "_model_module": "@jupyter-widgets/base",
            "top": null,
            "grid_column": null,
            "overflow_y": null,
            "overflow_x": null,
            "grid_auto_flow": null,
            "grid_area": null,
            "grid_template_columns": null,
            "flex": null,
            "_model_name": "LayoutModel",
            "justify_items": null,
            "grid_row": null,
            "max_height": null,
            "align_content": null,
            "visibility": null,
            "align_self": null,
            "height": null,
            "min_height": null,
            "padding": null,
            "grid_auto_rows": null,
            "grid_gap": null,
            "max_width": null,
            "order": null,
            "_view_module_version": "1.2.0",
            "grid_template_areas": null,
            "object_position": null,
            "object_fit": null,
            "grid_auto_columns": null,
            "margin": null,
            "display": null,
            "left": null
          }
        },
        "2992e51bb6c841ffadc1f29401da2975": {
          "model_module": "@jupyter-widgets/controls",
          "model_name": "HBoxModel",
          "state": {
            "_view_name": "HBoxView",
            "_dom_classes": [],
            "_model_name": "HBoxModel",
            "_view_module": "@jupyter-widgets/controls",
            "_model_module_version": "1.5.0",
            "_view_count": null,
            "_view_module_version": "1.5.0",
            "box_style": "",
            "layout": "IPY_MODEL_eec549b52cf94b4ab00cd7d051b246ef",
            "_model_module": "@jupyter-widgets/controls",
            "children": [
              "IPY_MODEL_64da528bb1a24fecb89c203fb776e6e7",
              "IPY_MODEL_ff86aece67c44f02b057d28a7664cb6a"
            ]
          }
        },
        "eec549b52cf94b4ab00cd7d051b246ef": {
          "model_module": "@jupyter-widgets/base",
          "model_name": "LayoutModel",
          "state": {
            "_view_name": "LayoutView",
            "grid_template_rows": null,
            "right": null,
            "justify_content": null,
            "_view_module": "@jupyter-widgets/base",
            "overflow": null,
            "_model_module_version": "1.2.0",
            "_view_count": null,
            "flex_flow": null,
            "width": null,
            "min_width": null,
            "border": null,
            "align_items": null,
            "bottom": null,
            "_model_module": "@jupyter-widgets/base",
            "top": null,
            "grid_column": null,
            "overflow_y": null,
            "overflow_x": null,
            "grid_auto_flow": null,
            "grid_area": null,
            "grid_template_columns": null,
            "flex": null,
            "_model_name": "LayoutModel",
            "justify_items": null,
            "grid_row": null,
            "max_height": null,
            "align_content": null,
            "visibility": null,
            "align_self": null,
            "height": null,
            "min_height": null,
            "padding": null,
            "grid_auto_rows": null,
            "grid_gap": null,
            "max_width": null,
            "order": null,
            "_view_module_version": "1.2.0",
            "grid_template_areas": null,
            "object_position": null,
            "object_fit": null,
            "grid_auto_columns": null,
            "margin": null,
            "display": null,
            "left": null
          }
        },
        "64da528bb1a24fecb89c203fb776e6e7": {
          "model_module": "@jupyter-widgets/controls",
          "model_name": "FloatProgressModel",
          "state": {
            "_view_name": "ProgressView",
            "style": "IPY_MODEL_843eec494f064368ba40cc39cd45b207",
            "_dom_classes": [],
            "description": "Downloading: 100%",
            "_model_name": "FloatProgressModel",
            "bar_style": "success",
            "max": 1738538029,
            "_view_module": "@jupyter-widgets/controls",
            "_model_module_version": "1.5.0",
            "value": 1738538029,
            "_view_count": null,
            "_view_module_version": "1.5.0",
            "orientation": "horizontal",
            "min": 0,
            "description_tooltip": null,
            "_model_module": "@jupyter-widgets/controls",
            "layout": "IPY_MODEL_5a4decb16b6a4f51884b1e8060e6fa87"
          }
        },
        "ff86aece67c44f02b057d28a7664cb6a": {
          "model_module": "@jupyter-widgets/controls",
          "model_name": "HTMLModel",
          "state": {
            "_view_name": "HTMLView",
            "style": "IPY_MODEL_3501ab64b95f46cebe7ee13b6cac9fc3",
            "_dom_classes": [],
            "description": "",
            "_model_name": "HTMLModel",
            "placeholder": "​",
            "_view_module": "@jupyter-widgets/controls",
            "_model_module_version": "1.5.0",
            "value": " 1.74G/1.74G [00:39&lt;00:00, 43.7MB/s]",
            "_view_count": null,
            "_view_module_version": "1.5.0",
            "description_tooltip": null,
            "_model_module": "@jupyter-widgets/controls",
            "layout": "IPY_MODEL_47d835e6374c4c7cbb7ab10e2a6dc31c"
          }
        },
        "843eec494f064368ba40cc39cd45b207": {
          "model_module": "@jupyter-widgets/controls",
          "model_name": "ProgressStyleModel",
          "state": {
            "_view_name": "StyleView",
            "_model_name": "ProgressStyleModel",
            "description_width": "initial",
            "_view_module": "@jupyter-widgets/base",
            "_model_module_version": "1.5.0",
            "_view_count": null,
            "_view_module_version": "1.2.0",
            "bar_color": null,
            "_model_module": "@jupyter-widgets/controls"
          }
        },
        "5a4decb16b6a4f51884b1e8060e6fa87": {
          "model_module": "@jupyter-widgets/base",
          "model_name": "LayoutModel",
          "state": {
            "_view_name": "LayoutView",
            "grid_template_rows": null,
            "right": null,
            "justify_content": null,
            "_view_module": "@jupyter-widgets/base",
            "overflow": null,
            "_model_module_version": "1.2.0",
            "_view_count": null,
            "flex_flow": null,
            "width": null,
            "min_width": null,
            "border": null,
            "align_items": null,
            "bottom": null,
            "_model_module": "@jupyter-widgets/base",
            "top": null,
            "grid_column": null,
            "overflow_y": null,
            "overflow_x": null,
            "grid_auto_flow": null,
            "grid_area": null,
            "grid_template_columns": null,
            "flex": null,
            "_model_name": "LayoutModel",
            "justify_items": null,
            "grid_row": null,
            "max_height": null,
            "align_content": null,
            "visibility": null,
            "align_self": null,
            "height": null,
            "min_height": null,
            "padding": null,
            "grid_auto_rows": null,
            "grid_gap": null,
            "max_width": null,
            "order": null,
            "_view_module_version": "1.2.0",
            "grid_template_areas": null,
            "object_position": null,
            "object_fit": null,
            "grid_auto_columns": null,
            "margin": null,
            "display": null,
            "left": null
          }
        },
        "3501ab64b95f46cebe7ee13b6cac9fc3": {
          "model_module": "@jupyter-widgets/controls",
          "model_name": "DescriptionStyleModel",
          "state": {
            "_view_name": "StyleView",
            "_model_name": "DescriptionStyleModel",
            "description_width": "",
            "_view_module": "@jupyter-widgets/base",
            "_model_module_version": "1.5.0",
            "_view_count": null,
            "_view_module_version": "1.2.0",
            "_model_module": "@jupyter-widgets/controls"
          }
        },
        "47d835e6374c4c7cbb7ab10e2a6dc31c": {
          "model_module": "@jupyter-widgets/base",
          "model_name": "LayoutModel",
          "state": {
            "_view_name": "LayoutView",
            "grid_template_rows": null,
            "right": null,
            "justify_content": null,
            "_view_module": "@jupyter-widgets/base",
            "overflow": null,
            "_model_module_version": "1.2.0",
            "_view_count": null,
            "flex_flow": null,
            "width": null,
            "min_width": null,
            "border": null,
            "align_items": null,
            "bottom": null,
            "_model_module": "@jupyter-widgets/base",
            "top": null,
            "grid_column": null,
            "overflow_y": null,
            "overflow_x": null,
            "grid_auto_flow": null,
            "grid_area": null,
            "grid_template_columns": null,
            "flex": null,
            "_model_name": "LayoutModel",
            "justify_items": null,
            "grid_row": null,
            "max_height": null,
            "align_content": null,
            "visibility": null,
            "align_self": null,
            "height": null,
            "min_height": null,
            "padding": null,
            "grid_auto_rows": null,
            "grid_gap": null,
            "max_width": null,
            "order": null,
            "_view_module_version": "1.2.0",
            "grid_template_areas": null,
            "object_position": null,
            "object_fit": null,
            "grid_auto_columns": null,
            "margin": null,
            "display": null,
            "left": null
          }
        }
      }
    }
  },
  "cells": [
    {
      "cell_type": "markdown",
      "metadata": {
        "id": "lbNZdYkugq7-"
      },
      "source": [
        "# Evaluation of a model using 🤗nlp\n",
        "\n",
        "*This notebook shows how `nlp` can be leveraged to evaluate **Longformer** on **TriviaQA** .*\n",
        "\n",
        "- The [`nlp`](https://github.com/huggingface/nlp) library allows simple and intuitive access to nlp datasets and metrics.\n",
        "\n",
        "- **Longformer** is transformer-based model for long-range sequence modeling introduced by *Iz Beltagy, Matthew E. Peters, Arman Cohan* (see paper [here](https://arxiv.org/abs/2004.05150)) and can now be accessed via Transformers via the [docs](https://huggingface.co/transformers/model_doc/longformer.html).\n",
        "\n",
        "- **TriviaQA** is a reading comprehension dataset containing question-answer-evidence triplets (see paper here [here](https://homes.cs.washington.edu/~eunsol/papers/acl17jcwz.pdf))."
      ]
    },
    {
      "cell_type": "markdown",
      "metadata": {
        "id": "ckDfoClXj-mm"
      },
      "source": [
        "We will evaluate a pretrained `LongformerForQuestionAnswering` model on the *validation* dataset of **TriviaQA**. Along the way, this notebook will show you how `nlp` can be used for effortless preprocessing of data and analysis of the results."
      ]
    },
    {
      "cell_type": "markdown",
      "metadata": {
        "id": "PGg2btE2mY0v"
      },
      "source": [
        "Alright! Let's start by installing the `nlp` library and loading *TriviaQA*. "
      ]
    },
    {
      "cell_type": "markdown",
      "metadata": {
        "id": "KLb6vCflSqcI"
      },
      "source": [
        "### Installs and Imports"
      ]
    },
    {
      "cell_type": "code",
      "metadata": {
        "id": "FXHkpUVuft4o",
        "colab": {
          "base_uri": "https://localhost:8080/",
          "height": 34
        },
        "outputId": "b6205c36-a33f-4104-a15e-1b36ff0ffd06"
      },
      "source": [
        "# install nlp\n",
        "!pip install -qq nlp==0.2.1\n",
        "\n",
        "# Make sure that we have a recent version of pyarrow in the session before we continue - otherwise reboot Colab to activate it\n",
        "import pyarrow\n",
        "if int(pyarrow.__version__.split('.')[1]) < 16:\n",
        "    import os\n",
        "    os.kill(os.getpid(), 9)\n",
        "\n",
        "!pip install -qq transformers==2.11.0\n",
        "\n",
        "import nlp\n",
        "import torch"
      ],
      "execution_count": null,
      "outputs": [
        {
          "output_type": "stream",
          "text": [
            "  Building wheel for nlp (setup.py) ... \u001b[?25l\u001b[?25hdone\n"
          ],
          "name": "stdout"
        }
      ]
    },
    {
      "cell_type": "code",
      "metadata": {
        "id": "P3mV2lN2fe3u"
      },
      "source": [
        "# ATTENTION. Rerunning this command remove the cached trivia qa dataset completely \n",
        "!rm -rf /root/.cache/"
      ],
      "execution_count": null,
      "outputs": []
    },
    {
      "cell_type": "markdown",
      "metadata": {
        "id": "TVQCLkYbS0Nm"
      },
      "source": [
        "### Data cleaning and preprocessing "
      ]
    },
    {
      "cell_type": "markdown",
      "metadata": {
        "id": "gpOqRdcjnaBT"
      },
      "source": [
        "The total *TriviaQA* dataset has a size of 17 GB once processed.\n",
        "Downloading and preprocessing the dataset will take around *15 minutes*. ☕\n",
        "Afterwards the data is serialized in *Arrow* format for quick reloading.\n",
        "\n"
      ]
    },
    {
      "cell_type": "code",
      "metadata": {
        "id": "YusOKo5FgkYH",
        "colab": {
          "base_uri": "https://localhost:8080/",
          "height": 198,
          "referenced_widgets": [
            "590550466c6c4992b5aa5ebc370fc02b",
            "9735b4482beb4e029cbde083a39a0853",
            "ddb031d442364742b2c0b0bee574c779",
            "d9288283e804453fa283a51f7f0915c0",
            "7ac1ce1ff5014b64b7675b993865e33c",
            "3afba49a572f4ea1ab729c6d81b4539f",
            "81e16aec967e4fc5b944da59977716c4",
            "92efad23ebaf46bcae43fd37bcbff7b7",
            "93a7301e94b54d398f1073c2f191a3f7",
            "c0c427706f1443bba38fc1e352b91dd0",
            "6104e6b54a874fc29eee3140eb92abbf",
            "8d3c2476a4cf4895b60b51d6ace67e19",
            "d45f8cddc56c442fb9999b29e5cf17a6",
            "b812e337dc254680b7e4422deecea3b2",
            "59352324d5ee4f30a650e7bc8f5ce1fc",
            "c146d56980c445f6bea43d5bed0d6e7d",
            "ca794461e4f44240a442c23414dc5a52",
            "fd98e2fc6875495283e4d444e6f3c48a",
            "20ba3d2a587f48d2b7c6d042897199b2",
            "0c1c36d682d74ab2b06dab8e20ba7af4",
            "31e93452176840dab8ecfc0d4bb7098a",
            "ba27f699b8644df887c6e1da63bbc564",
            "188e5906d94c4dceafe8bd897719104e",
            "6784976497164e978b714c4efc3a4b61",
            "9fe73ab9bd594f2fac97f63523e8ab2d",
            "3a22fe08a5964493a68098eaeb551a20",
            "ee7fc0f6bb9c4643b4d281e8f962a181",
            "59a334c6c8974f02b465c99ba2adb085",
            "773701d1d875423b9ceec1961775d0d1",
            "77e1b8bb6e0043378aa0dfa9dfba45aa",
            "d62cb1f672fb42589d748a054e619f8d",
            "d1c95c79a49047d59ffa836ae4ba99f6",
            "4237c2a5c58043548e78d2ef2459db3e",
            "17a6965bdd1d4cc6b2b721f935943562",
            "5088265e0caa466bb7ae10b13eeab637",
            "cc431e76868549ebba2ac2de500a801a",
            "028a9f7c5e984e42951ec121ba16a8ce",
            "68dca266f0634cee87bbe2341f7cb8f2",
            "df48be741c8d404a932249d1dd0a5416",
            "b117fffeeada44ed9d9e7a1da88c20a2",
            "8624e099ef0441e59047575aa9f0901e",
            "ec8c4c6b367d4c1b84548f784818d74a",
            "8380a0df78fa4f29af05aee80610576f",
            "029467bb63b04d71a3433f87f0b8d508",
            "c5165103f9234b93ac8813f0988d0b1b",
            "14d16daa0f434d5fa93600cfd2d02115",
            "4e580d017a08448d94cf81538738f423",
            "86df83fcf5534c6a82e8583fbe52e306"
          ]
        },
        "outputId": "83d2e031-d919-47b0-e05e-d80709057115"
      },
      "source": [
        "validation_dataset = nlp.load_dataset(\"trivia_qa\", \"rc\", split=\"validation[:5%]\")"
      ],
      "execution_count": null,
      "outputs": [
        {
          "output_type": "display_data",
          "data": {
            "application/vnd.jupyter.widget-view+json": {
              "model_id": "590550466c6c4992b5aa5ebc370fc02b",
              "version_minor": 0,
              "version_major": 2
            },
            "text/plain": [
              "HBox(children=(FloatProgress(value=0.0, description='Downloading', max=12294.0, style=ProgressStyle(descriptio…"
            ]
          },
          "metadata": {
            "tags": []
          }
        },
        {
          "output_type": "stream",
          "text": [
            "\n"
          ],
          "name": "stdout"
        },
        {
          "output_type": "display_data",
          "data": {
            "application/vnd.jupyter.widget-view+json": {
              "model_id": "93a7301e94b54d398f1073c2f191a3f7",
              "version_minor": 0,
              "version_major": 2
            },
            "text/plain": [
              "HBox(children=(FloatProgress(value=0.0, description='Downloading', max=13607.0, style=ProgressStyle(descriptio…"
            ]
          },
          "metadata": {
            "tags": []
          }
        },
        {
          "output_type": "stream",
          "text": [
            "\n",
            "Downloading and preparing dataset trivia_qa/rc (download: 2.48 GiB, generated: 14.92 GiB, total: 17.40 GiB) to /root/.cache/huggingface/datasets/trivia_qa/rc/1.1.0...\n"
          ],
          "name": "stdout"
        },
        {
          "output_type": "display_data",
          "data": {
            "application/vnd.jupyter.widget-view+json": {
              "model_id": "ca794461e4f44240a442c23414dc5a52",
              "version_minor": 0,
              "version_major": 2
            },
            "text/plain": [
              "HBox(children=(FloatProgress(value=0.0, description='Downloading', max=2665779500.0, style=ProgressStyle(descr…"
            ]
          },
          "metadata": {
            "tags": []
          }
        },
        {
          "output_type": "stream",
          "text": [
            "\n"
          ],
          "name": "stdout"
        },
        {
          "output_type": "display_data",
          "data": {
            "application/vnd.jupyter.widget-view+json": {
              "model_id": "9fe73ab9bd594f2fac97f63523e8ab2d",
              "version_minor": 0,
              "version_major": 2
            },
            "text/plain": [
              "HBox(children=(FloatProgress(value=1.0, bar_style='info', max=1.0), HTML(value='')))"
            ]
          },
          "metadata": {
            "tags": []
          }
        },
        {
          "output_type": "stream",
          "text": [
            "\r"
          ],
          "name": "stdout"
        },
        {
          "output_type": "display_data",
          "data": {
            "application/vnd.jupyter.widget-view+json": {
              "model_id": "4237c2a5c58043548e78d2ef2459db3e",
              "version_minor": 0,
              "version_major": 2
            },
            "text/plain": [
              "HBox(children=(FloatProgress(value=1.0, bar_style='info', max=1.0), HTML(value='')))"
            ]
          },
          "metadata": {
            "tags": []
          }
        },
        {
          "output_type": "stream",
          "text": [
            "\r"
          ],
          "name": "stdout"
        },
        {
          "output_type": "display_data",
          "data": {
            "application/vnd.jupyter.widget-view+json": {
              "model_id": "8624e099ef0441e59047575aa9f0901e",
              "version_minor": 0,
              "version_major": 2
            },
            "text/plain": [
              "HBox(children=(FloatProgress(value=1.0, bar_style='info', max=1.0), HTML(value='')))"
            ]
          },
          "metadata": {
            "tags": []
          }
        },
        {
          "output_type": "stream",
          "text": [
            "\rDataset trivia_qa downloaded and prepared to /root/.cache/huggingface/datasets/trivia_qa/rc/1.1.0. Subsequent calls will reuse this data.\n"
          ],
          "name": "stdout"
        }
      ]
    },
    {
      "cell_type": "markdown",
      "metadata": {
        "id": "G_LFkvD_sx9H"
      },
      "source": [
        "First, let's get an overview of the dataset 🧐"
      ]
    },
    {
      "cell_type": "code",
      "metadata": {
        "id": "mJTko97rwQGF",
        "colab": {
          "base_uri": "https://localhost:8080/",
          "height": 54
        },
        "outputId": "6716a5b4-e518-4789-bd38-7681508712af"
      },
      "source": [
        "validation_dataset"
      ],
      "execution_count": null,
      "outputs": [
        {
          "output_type": "execute_result",
          "data": {
            "text/plain": [
              "Dataset(schema: {'question': 'string', 'question_id': 'string', 'question_source': 'string', 'entity_pages': 'struct<doc_source: list<item: string>, filename: list<item: string>, title: list<item: string>, wiki_context: list<item: string>>', 'search_results': 'struct<description: list<item: string>, filename: list<item: string>, rank: list<item: int32>, title: list<item: string>, url: list<item: string>, search_context: list<item: string>>', 'answer': 'struct<aliases: list<item: string>, normalized_aliases: list<item: string>, matched_wiki_entity_name: string, normalized_matched_wiki_entity_name: string, normalized_value: string, type: string, value: string>'}, num_rows: 933)"
            ]
          },
          "metadata": {
            "tags": []
          },
          "execution_count": 6
        }
      ]
    },
    {
      "cell_type": "markdown",
      "metadata": {
        "id": "QHsmt1ULwTug"
      },
      "source": [
        "5% of the validation data corresponds to 933 examples, which we can use as a good snapshot of the actual dataset and get be used to get familiar with the dataset.\n",
        "\n",
        "Let's check out the datatset's structure."
      ]
    },
    {
      "cell_type": "code",
      "metadata": {
        "id": "DjAVcrAitsU5",
        "colab": {
          "base_uri": "https://localhost:8080/",
          "height": 632
        },
        "outputId": "afc15447-4d30-49f7-a7e1-2b90824579cd"
      },
      "source": [
        "# check out schema\n",
        "validation_dataset.schema"
      ],
      "execution_count": null,
      "outputs": [
        {
          "output_type": "execute_result",
          "data": {
            "text/plain": [
              "question: string not null\n",
              "question_id: string not null\n",
              "question_source: string not null\n",
              "entity_pages: struct<doc_source: list<item: string>, filename: list<item: string>, title: list<item: string>, wiki_context: list<item: string>> not null\n",
              "  child 0, doc_source: list<item: string>\n",
              "      child 0, item: string\n",
              "  child 1, filename: list<item: string>\n",
              "      child 0, item: string\n",
              "  child 2, title: list<item: string>\n",
              "      child 0, item: string\n",
              "  child 3, wiki_context: list<item: string>\n",
              "      child 0, item: string\n",
              "search_results: struct<description: list<item: string>, filename: list<item: string>, rank: list<item: int32>, title: list<item: string>, url: list<item: string>, search_context: list<item: string>> not null\n",
              "  child 0, description: list<item: string>\n",
              "      child 0, item: string\n",
              "  child 1, filename: list<item: string>\n",
              "      child 0, item: string\n",
              "  child 2, rank: list<item: int32>\n",
              "      child 0, item: int32\n",
              "  child 3, title: list<item: string>\n",
              "      child 0, item: string\n",
              "  child 4, url: list<item: string>\n",
              "      child 0, item: string\n",
              "  child 5, search_context: list<item: string>\n",
              "      child 0, item: string\n",
              "answer: struct<aliases: list<item: string>, normalized_aliases: list<item: string>, matched_wiki_entity_name: string, normalized_matched_wiki_entity_name: string, normalized_value: string, type: string, value: string> not null\n",
              "  child 0, aliases: list<item: string>\n",
              "      child 0, item: string\n",
              "  child 1, normalized_aliases: list<item: string>\n",
              "      child 0, item: string\n",
              "  child 2, matched_wiki_entity_name: string\n",
              "  child 3, normalized_matched_wiki_entity_name: string\n",
              "  child 4, normalized_value: string\n",
              "  child 5, type: string\n",
              "  child 6, value: string"
            ]
          },
          "metadata": {
            "tags": []
          },
          "execution_count": 7
        }
      ]
    },
    {
      "cell_type": "markdown",
      "metadata": {
        "id": "7XqHiM5mt5t-"
      },
      "source": [
        "Alright, quite a lot of entries here! For Questions Answering, all we need is the *question*, the *context* and the *answer*. \n",
        "\n",
        "The **question** is a single entry, so we keep it.\n",
        "\n",
        "Because *Longformer* was trained on the Wikipedia part of *TriviaQA*, we will use `validation_dataset[\"entity_pages\"][\"search_context\"]` as our **context**. \n",
        "\n",
        "We can also see that there are multiple entries for the **answer**. In this use case, we define a correct output of the model as one that is one of the answer aliases `validation_dataset[\"answer\"][\"aliases\"]`. Lastly, we also keep `validation_dataset[\"answer\"][\"normalized_value\"]`. All other columns can be disregarded. \n",
        "\n",
        "We apply the `.map()` function to map the dataset into the format as defined above."
      ]
    },
    {
      "cell_type": "code",
      "metadata": {
        "id": "GpEkZy_LvhEX",
        "colab": {
          "base_uri": "https://localhost:8080/",
          "height": 34
        },
        "outputId": "f3fe29d7-0bcd-44f7-b658-517c07533903"
      },
      "source": [
        "# define the mapping function\n",
        "def format_dataset(example):\n",
        "    # the context might be comprised of multiple contexts => me merge them here\n",
        "    example[\"context\"] = \" \".join((\"\\n\".join(example[\"entity_pages\"][\"wiki_context\"])).split(\"\\n\"))\n",
        "    example[\"targets\"] = example[\"answer\"][\"aliases\"]\n",
        "    example[\"norm_target\"] = example[\"answer\"][\"normalized_value\"]\n",
        "    return example\n",
        "\n",
        "# map the dataset and throw out all unnecessary columns\n",
        "validation_dataset = validation_dataset.map(format_dataset, remove_columns=[\"search_results\", \"question_source\", \"entity_pages\", \"answer\", \"question_id\"])"
      ],
      "execution_count": null,
      "outputs": [
        {
          "output_type": "stream",
          "text": [
            "933it [00:01, 777.09it/s]\n"
          ],
          "name": "stderr"
        }
      ]
    },
    {
      "cell_type": "markdown",
      "metadata": {
        "id": "jRhh7AJrw3fM"
      },
      "source": [
        "Now, we can check out a first example of the dataset."
      ]
    },
    {
      "cell_type": "code",
      "metadata": {
        "id": "7I730mW9wNeo",
        "colab": {
          "base_uri": "https://localhost:8080/",
          "height": 612
        },
        "outputId": "3868da36-c647-4941-9ea3-f5e645b535e0"
      },
      "source": [
        "validation_dataset[8]"
      ],
      "execution_count": null,
      "outputs": [
        {
          "output_type": "execute_result",
          "data": {
            "text/plain": [
              "{'context': '',\n",
              " 'norm_target': 'basket ball',\n",
              " 'question': 'The Naismith Award is presented in which sport?',\n",
              " 'targets': ['Basketball',\n",
              "  'Basketball gear',\n",
              "  'Bball',\n",
              "  \"Boy's Basketball\",\n",
              "  'B Ball',\n",
              "  'Shoot hoops',\n",
              "  'Basketball parity worldwide',\n",
              "  \"Men's Basketball\",\n",
              "  'High school basketball',\n",
              "  'Basketball Worldwide',\n",
              "  'Basketball club',\n",
              "  'B-ball',\n",
              "  'Basket-ball',\n",
              "  'Basketball team',\n",
              "  '🏀',\n",
              "  'Basketball rim',\n",
              "  'Basketballer',\n",
              "  'Rim (basketball)',\n",
              "  'Basket ball',\n",
              "  'Basketball net',\n",
              "  'Baksetball',\n",
              "  'Basketball player',\n",
              "  'Basket-Ball',\n",
              "  \"Women's hoops\",\n",
              "  \"Men's basketball\",\n",
              "  'BasketBall',\n",
              "  'Basketball Parity Worldwide',\n",
              "  'Basket Ball',\n",
              "  'Baketball',\n",
              "  'Basketball Player',\n",
              "  'B ball',\n",
              "  'Unicycle basketball']}"
            ]
          },
          "metadata": {
            "tags": []
          },
          "execution_count": 9
        }
      ]
    },
    {
      "cell_type": "markdown",
      "metadata": {
        "id": "dqcviRfJw-3M"
      },
      "source": [
        "Great 🙂. That's exactly, the structure we wanted! Some examples might have an empty context so we will filter those examples out.\n",
        "For this we can use the convenient `.filter()` function of `nlp`."
      ]
    },
    {
      "cell_type": "code",
      "metadata": {
        "id": "j0vSycFKxc0O",
        "colab": {
          "base_uri": "https://localhost:8080/",
          "height": 51
        },
        "outputId": "2b42fa1f-c463-4a7d-a8ea-21123f503b36"
      },
      "source": [
        "validation_dataset = validation_dataset.filter(lambda x: len(x[\"context\"]) > 0)\n",
        "# check out how many samples are left\n",
        "validation_dataset"
      ],
      "execution_count": null,
      "outputs": [
        {
          "output_type": "stream",
          "text": [
            "100%|██████████| 1/1 [00:00<00:00,  8.11it/s]\n"
          ],
          "name": "stderr"
        },
        {
          "output_type": "execute_result",
          "data": {
            "text/plain": [
              "Dataset(schema: {'question': 'string', 'context': 'string', 'targets': 'list<item: string>', 'norm_target': 'string'}, num_rows: 531)"
            ]
          },
          "metadata": {
            "tags": []
          },
          "execution_count": 10
        }
      ]
    },
    {
      "cell_type": "markdown",
      "metadata": {
        "id": "IMh8EvQoxsrF"
      },
      "source": [
        "Looks like more or less half of our examples have no context and are now filtered out. Let's think about the evaluation on *Longformer* now. \n",
        "\n",
        "*Longformer* is able to process inputs of up to a length of **4096** tokens. As a rule of thumb, 4 is the average number of characters per word piece. Therefore, it is a good idea to check for how many examples, the *question* + *context* exceeds 4 * 4096 characters.\n",
        "Again we can apply the convenient `.map()` function."
      ]
    },
    {
      "cell_type": "code",
      "metadata": {
        "id": "4ebRyrOmy4br",
        "colab": {
          "base_uri": "https://localhost:8080/",
          "height": 1000
        },
        "outputId": "2608a128-89f2-443e-e906-5b7da968e080"
      },
      "source": [
        "print(\"\\n\\nLength for each example\")\n",
        "print(30 * \"=\")\n",
        "\n",
        "# length for each example\n",
        "validation_dataset.map(lambda x, i: print(f\"Id: {i} - Question Length: {len(x['question'])} - context Length: {len(x['context'])}\"), with_indices=True)\n",
        "print(30 * \"=\")\n",
        "\n",
        "print(\"\\n\")\n",
        "print(\"Num examples larger than 4 * 4096 characters: \")\n",
        "# filter out examples smaller than 4 * 4096\n",
        "short_validation_dataset = validation_dataset.filter(lambda x: (len(x['question']) + len(x['context'])) < 4 * 4096)\n",
        "short_validation_dataset\n"
      ],
      "execution_count": null,
      "outputs": [
        {
          "output_type": "stream",
          "text": [
            "531it [00:00, 3139.12it/s]\n",
            "  0%|          | 0/1 [00:00<?, ?it/s]"
          ],
          "name": "stderr"
        },
        {
          "output_type": "stream",
          "text": [
            "\n",
            "\n",
            "Length for each example\n",
            "==============================\n",
            "Id: 0 - Question Length: 48 - context Length: 87872\n",
            "Id: 0 - Question Length: 48 - context Length: 87872\n",
            "Id: 0 - Question Length: 48 - context Length: 87872\n",
            "Id: 1 - Question Length: 85 - context Length: 39997\n",
            "Id: 2 - Question Length: 146 - context Length: 22353\n",
            "Id: 3 - Question Length: 114 - context Length: 73891\n",
            "Id: 4 - Question Length: 58 - context Length: 345\n",
            "Id: 5 - Question Length: 80 - context Length: 36373\n",
            "Id: 6 - Question Length: 68 - context Length: 1410\n",
            "Id: 7 - Question Length: 68 - context Length: 115858\n",
            "Id: 8 - Question Length: 81 - context Length: 1404\n",
            "Id: 9 - Question Length: 83 - context Length: 65529\n",
            "Id: 10 - Question Length: 75 - context Length: 32034\n",
            "Id: 11 - Question Length: 59 - context Length: 24511\n",
            "Id: 12 - Question Length: 111 - context Length: 46362\n",
            "Id: 13 - Question Length: 79 - context Length: 26408\n",
            "Id: 14 - Question Length: 190 - context Length: 52829\n",
            "Id: 15 - Question Length: 130 - context Length: 28293\n",
            "Id: 16 - Question Length: 70 - context Length: 56746\n",
            "Id: 17 - Question Length: 226 - context Length: 40032\n",
            "Id: 18 - Question Length: 225 - context Length: 57970\n",
            "Id: 19 - Question Length: 192 - context Length: 59116\n",
            "Id: 20 - Question Length: 135 - context Length: 51053\n",
            "Id: 21 - Question Length: 54 - context Length: 7853\n",
            "Id: 22 - Question Length: 38 - context Length: 26477\n",
            "Id: 23 - Question Length: 44 - context Length: 30986\n",
            "Id: 24 - Question Length: 39 - context Length: 33277\n",
            "Id: 25 - Question Length: 77 - context Length: 76046\n",
            "Id: 26 - Question Length: 43 - context Length: 55292\n",
            "Id: 27 - Question Length: 40 - context Length: 38445\n",
            "Id: 28 - Question Length: 84 - context Length: 49376\n",
            "Id: 29 - Question Length: 54 - context Length: 57495\n",
            "Id: 30 - Question Length: 63 - context Length: 14856\n",
            "Id: 31 - Question Length: 30 - context Length: 4253\n",
            "Id: 32 - Question Length: 41 - context Length: 49851\n",
            "Id: 33 - Question Length: 57 - context Length: 59303\n",
            "Id: 34 - Question Length: 97 - context Length: 12432\n",
            "Id: 35 - Question Length: 44 - context Length: 22585\n",
            "Id: 36 - Question Length: 135 - context Length: 14071\n",
            "Id: 37 - Question Length: 145 - context Length: 36834\n",
            "Id: 38 - Question Length: 81 - context Length: 100868\n",
            "Id: 39 - Question Length: 66 - context Length: 68597\n",
            "Id: 40 - Question Length: 100 - context Length: 39631\n",
            "Id: 41 - Question Length: 89 - context Length: 127757\n",
            "Id: 42 - Question Length: 139 - context Length: 7546\n",
            "Id: 43 - Question Length: 83 - context Length: 58060\n",
            "Id: 44 - Question Length: 55 - context Length: 21885\n",
            "Id: 45 - Question Length: 80 - context Length: 29993\n",
            "Id: 46 - Question Length: 24 - context Length: 9425\n",
            "Id: 47 - Question Length: 187 - context Length: 63535\n",
            "Id: 48 - Question Length: 80 - context Length: 7274\n",
            "Id: 49 - Question Length: 54 - context Length: 56746\n",
            "Id: 50 - Question Length: 93 - context Length: 2280\n",
            "Id: 51 - Question Length: 66 - context Length: 91607\n",
            "Id: 52 - Question Length: 72 - context Length: 79295\n",
            "Id: 53 - Question Length: 38 - context Length: 22880\n",
            "Id: 54 - Question Length: 22 - context Length: 48062\n",
            "Id: 55 - Question Length: 54 - context Length: 63463\n",
            "Id: 56 - Question Length: 58 - context Length: 49186\n",
            "Id: 57 - Question Length: 50 - context Length: 138102\n",
            "Id: 58 - Question Length: 60 - context Length: 15446\n",
            "Id: 59 - Question Length: 54 - context Length: 50452\n",
            "Id: 60 - Question Length: 129 - context Length: 64248\n",
            "Id: 61 - Question Length: 130 - context Length: 25430\n",
            "Id: 62 - Question Length: 50 - context Length: 16650\n",
            "Id: 63 - Question Length: 78 - context Length: 23411\n",
            "Id: 64 - Question Length: 67 - context Length: 27813\n",
            "Id: 65 - Question Length: 125 - context Length: 109064\n",
            "Id: 66 - Question Length: 39 - context Length: 22368\n",
            "Id: 67 - Question Length: 80 - context Length: 57896\n",
            "Id: 68 - Question Length: 114 - context Length: 5022\n",
            "Id: 69 - Question Length: 55 - context Length: 6126\n",
            "Id: 70 - Question Length: 95 - context Length: 15695\n",
            "Id: 71 - Question Length: 66 - context Length: 63689\n",
            "Id: 72 - Question Length: 66 - context Length: 53466\n",
            "Id: 73 - Question Length: 41 - context Length: 160199\n",
            "Id: 74 - Question Length: 61 - context Length: 14740\n",
            "Id: 75 - Question Length: 98 - context Length: 15323\n",
            "Id: 76 - Question Length: 61 - context Length: 6226\n",
            "Id: 77 - Question Length: 44 - context Length: 2697\n",
            "Id: 78 - Question Length: 79 - context Length: 80892\n",
            "Id: 79 - Question Length: 36 - context Length: 73711\n",
            "Id: 80 - Question Length: 52 - context Length: 11833\n",
            "Id: 81 - Question Length: 43 - context Length: 55383\n",
            "Id: 82 - Question Length: 41 - context Length: 77869\n",
            "Id: 83 - Question Length: 62 - context Length: 186125\n",
            "Id: 84 - Question Length: 34 - context Length: 18129\n",
            "Id: 85 - Question Length: 87 - context Length: 51476\n",
            "Id: 86 - Question Length: 89 - context Length: 59211\n",
            "Id: 87 - Question Length: 92 - context Length: 121366\n",
            "Id: 88 - Question Length: 61 - context Length: 104071\n",
            "Id: 89 - Question Length: 104 - context Length: 130836\n",
            "Id: 90 - Question Length: 47 - context Length: 3129\n",
            "Id: 91 - Question Length: 65 - context Length: 91337\n",
            "Id: 92 - Question Length: 116 - context Length: 167210\n",
            "Id: 93 - Question Length: 129 - context Length: 25315\n",
            "Id: 94 - Question Length: 75 - context Length: 26160\n",
            "Id: 95 - Question Length: 62 - context Length: 23363\n",
            "Id: 96 - Question Length: 71 - context Length: 107447\n",
            "Id: 97 - Question Length: 71 - context Length: 6609\n",
            "Id: 98 - Question Length: 46 - context Length: 63182\n",
            "Id: 99 - Question Length: 45 - context Length: 56427\n",
            "Id: 100 - Question Length: 38 - context Length: 15819\n",
            "Id: 101 - Question Length: 74 - context Length: 23501\n",
            "Id: 102 - Question Length: 39 - context Length: 102462\n",
            "Id: 103 - Question Length: 81 - context Length: 3879\n",
            "Id: 104 - Question Length: 49 - context Length: 16855\n",
            "Id: 105 - Question Length: 77 - context Length: 4083\n",
            "Id: 106 - Question Length: 80 - context Length: 40867\n",
            "Id: 107 - Question Length: 60 - context Length: 46147\n",
            "Id: 108 - Question Length: 60 - context Length: 4975\n",
            "Id: 109 - Question Length: 55 - context Length: 20543\n",
            "Id: 110 - Question Length: 63 - context Length: 151836\n",
            "Id: 111 - Question Length: 80 - context Length: 29977\n",
            "Id: 112 - Question Length: 69 - context Length: 5485\n",
            "Id: 113 - Question Length: 46 - context Length: 28666\n",
            "Id: 114 - Question Length: 35 - context Length: 95993\n",
            "Id: 115 - Question Length: 82 - context Length: 99440\n",
            "Id: 116 - Question Length: 83 - context Length: 68087\n",
            "Id: 117 - Question Length: 55 - context Length: 10430\n",
            "Id: 118 - Question Length: 177 - context Length: 25113\n",
            "Id: 119 - Question Length: 130 - context Length: 92957\n",
            "Id: 120 - Question Length: 163 - context Length: 142672\n",
            "Id: 121 - Question Length: 70 - context Length: 136707\n",
            "Id: 122 - Question Length: 110 - context Length: 17514\n",
            "Id: 123 - Question Length: 81 - context Length: 108217\n",
            "Id: 124 - Question Length: 90 - context Length: 92715\n",
            "Id: 125 - Question Length: 74 - context Length: 131831\n",
            "Id: 126 - Question Length: 35 - context Length: 6740\n",
            "Id: 127 - Question Length: 233 - context Length: 37638\n",
            "Id: 128 - Question Length: 40 - context Length: 13982\n",
            "Id: 129 - Question Length: 38 - context Length: 47905\n",
            "Id: 130 - Question Length: 50 - context Length: 113342\n",
            "Id: 131 - Question Length: 37 - context Length: 16425\n",
            "Id: 132 - Question Length: 77 - context Length: 20370\n",
            "Id: 133 - Question Length: 53 - context Length: 18923\n",
            "Id: 134 - Question Length: 177 - context Length: 87637\n",
            "Id: 135 - Question Length: 45 - context Length: 104119\n",
            "Id: 136 - Question Length: 115 - context Length: 55354\n",
            "Id: 137 - Question Length: 50 - context Length: 23860\n",
            "Id: 138 - Question Length: 123 - context Length: 27540\n",
            "Id: 139 - Question Length: 102 - context Length: 151587\n",
            "Id: 140 - Question Length: 47 - context Length: 30150\n",
            "Id: 141 - Question Length: 87 - context Length: 142552\n",
            "Id: 142 - Question Length: 102 - context Length: 81966\n",
            "Id: 143 - Question Length: 59 - context Length: 10166\n",
            "Id: 144 - Question Length: 81 - context Length: 86873\n",
            "Id: 145 - Question Length: 97 - context Length: 7942\n",
            "Id: 146 - Question Length: 57 - context Length: 95500\n",
            "Id: 147 - Question Length: 60 - context Length: 10248\n",
            "Id: 148 - Question Length: 157 - context Length: 88224\n",
            "Id: 149 - Question Length: 90 - context Length: 37069\n",
            "Id: 150 - Question Length: 190 - context Length: 151855\n",
            "Id: 151 - Question Length: 56 - context Length: 69142\n",
            "Id: 152 - Question Length: 114 - context Length: 147668\n",
            "Id: 153 - Question Length: 66 - context Length: 18081\n",
            "Id: 154 - Question Length: 76 - context Length: 49180\n",
            "Id: 155 - Question Length: 57 - context Length: 85975\n",
            "Id: 156 - Question Length: 132 - context Length: 63131\n",
            "Id: 157 - Question Length: 90 - context Length: 223939\n",
            "Id: 158 - Question Length: 49 - context Length: 43390\n",
            "Id: 159 - Question Length: 121 - context Length: 91129\n",
            "Id: 160 - Question Length: 78 - context Length: 37383\n",
            "Id: 161 - Question Length: 87 - context Length: 119036\n",
            "Id: 162 - Question Length: 62 - context Length: 51268\n",
            "Id: 163 - Question Length: 140 - context Length: 23577\n",
            "Id: 164 - Question Length: 80 - context Length: 82307\n",
            "Id: 165 - Question Length: 86 - context Length: 48878\n",
            "Id: 166 - Question Length: 59 - context Length: 31606\n",
            "Id: 167 - Question Length: 171 - context Length: 2675\n",
            "Id: 168 - Question Length: 78 - context Length: 224618\n",
            "Id: 169 - Question Length: 86 - context Length: 54977\n",
            "Id: 170 - Question Length: 47 - context Length: 81215\n",
            "Id: 171 - Question Length: 74 - context Length: 42043\n",
            "Id: 172 - Question Length: 96 - context Length: 15055\n",
            "Id: 173 - Question Length: 87 - context Length: 74008\n",
            "Id: 174 - Question Length: 68 - context Length: 115421\n",
            "Id: 175 - Question Length: 159 - context Length: 85010\n",
            "Id: 176 - Question Length: 81 - context Length: 56969\n",
            "Id: 177 - Question Length: 37 - context Length: 109218\n",
            "Id: 178 - Question Length: 76 - context Length: 134238\n",
            "Id: 179 - Question Length: 48 - context Length: 16473\n",
            "Id: 180 - Question Length: 33 - context Length: 2124\n",
            "Id: 181 - Question Length: 137 - context Length: 160464\n",
            "Id: 182 - Question Length: 119 - context Length: 59638\n",
            "Id: 183 - Question Length: 49 - context Length: 59882\n",
            "Id: 184 - Question Length: 261 - context Length: 80617\n",
            "Id: 185 - Question Length: 163 - context Length: 7126\n",
            "Id: 186 - Question Length: 74 - context Length: 70345\n",
            "Id: 187 - Question Length: 84 - context Length: 115416\n",
            "Id: 188 - Question Length: 63 - context Length: 3984\n",
            "Id: 189 - Question Length: 100 - context Length: 90638\n",
            "Id: 190 - Question Length: 109 - context Length: 32278\n",
            "Id: 191 - Question Length: 69 - context Length: 95782\n",
            "Id: 192 - Question Length: 72 - context Length: 43463\n",
            "Id: 193 - Question Length: 87 - context Length: 53751\n",
            "Id: 194 - Question Length: 178 - context Length: 66959\n",
            "Id: 195 - Question Length: 92 - context Length: 96963\n",
            "Id: 196 - Question Length: 78 - context Length: 27243\n",
            "Id: 197 - Question Length: 57 - context Length: 42799\n",
            "Id: 198 - Question Length: 75 - context Length: 106150\n",
            "Id: 199 - Question Length: 101 - context Length: 47426\n",
            "Id: 200 - Question Length: 56 - context Length: 91777\n",
            "Id: 201 - Question Length: 27 - context Length: 73418\n",
            "Id: 202 - Question Length: 53 - context Length: 19634\n",
            "Id: 203 - Question Length: 32 - context Length: 7550\n",
            "Id: 204 - Question Length: 43 - context Length: 125688\n",
            "Id: 205 - Question Length: 41 - context Length: 6051\n",
            "Id: 206 - Question Length: 66 - context Length: 51944\n",
            "Id: 207 - Question Length: 63 - context Length: 6341\n",
            "Id: 208 - Question Length: 52 - context Length: 34569\n",
            "Id: 209 - Question Length: 81 - context Length: 42334\n",
            "Id: 210 - Question Length: 38 - context Length: 18864\n",
            "Id: 211 - Question Length: 69 - context Length: 121989\n",
            "Id: 212 - Question Length: 72 - context Length: 12076\n",
            "Id: 213 - Question Length: 127 - context Length: 110712\n",
            "Id: 214 - Question Length: 46 - context Length: 40602\n",
            "Id: 215 - Question Length: 35 - context Length: 117136\n",
            "Id: 216 - Question Length: 97 - context Length: 94843\n",
            "Id: 217 - Question Length: 45 - context Length: 85725\n",
            "Id: 218 - Question Length: 43 - context Length: 35896\n",
            "Id: 219 - Question Length: 42 - context Length: 31600\n",
            "Id: 220 - Question Length: 52 - context Length: 8601\n",
            "Id: 221 - Question Length: 68 - context Length: 73273\n",
            "Id: 222 - Question Length: 44 - context Length: 67372\n",
            "Id: 223 - Question Length: 64 - context Length: 32210\n",
            "Id: 224 - Question Length: 49 - context Length: 73105\n",
            "Id: 225 - Question Length: 42 - context Length: 1192\n",
            "Id: 226 - Question Length: 55 - context Length: 41746\n",
            "Id: 227 - Question Length: 85 - context Length: 78006\n",
            "Id: 228 - Question Length: 31 - context Length: 11784\n",
            "Id: 229 - Question Length: 52 - context Length: 43081\n",
            "Id: 230 - Question Length: 53 - context Length: 26684\n",
            "Id: 231 - Question Length: 244 - context Length: 118395\n",
            "Id: 232 - Question Length: 165 - context Length: 98045\n",
            "Id: 233 - Question Length: 88 - context Length: 70956\n",
            "Id: 234 - Question Length: 47 - context Length: 11447\n",
            "Id: 235 - Question Length: 47 - context Length: 16899\n",
            "Id: 236 - Question Length: 109 - context Length: 20868\n",
            "Id: 237 - Question Length: 69 - context Length: 48370\n",
            "Id: 238 - Question Length: 114 - context Length: 46951\n",
            "Id: 239 - Question Length: 116 - context Length: 70629\n",
            "Id: 240 - Question Length: 106 - context Length: 36669\n",
            "Id: 241 - Question Length: 74 - context Length: 1972\n",
            "Id: 242 - Question Length: 61 - context Length: 9810\n",
            "Id: 243 - Question Length: 147 - context Length: 92492\n",
            "Id: 244 - Question Length: 61 - context Length: 51150\n",
            "Id: 245 - Question Length: 85 - context Length: 76071\n",
            "Id: 246 - Question Length: 129 - context Length: 53364\n",
            "Id: 247 - Question Length: 62 - context Length: 4906\n",
            "Id: 248 - Question Length: 49 - context Length: 19795\n",
            "Id: 249 - Question Length: 54 - context Length: 44593\n",
            "Id: 250 - Question Length: 143 - context Length: 61728\n",
            "Id: 251 - Question Length: 39 - context Length: 24504\n",
            "Id: 252 - Question Length: 56 - context Length: 90130\n",
            "Id: 253 - Question Length: 57 - context Length: 19221\n",
            "Id: 254 - Question Length: 57 - context Length: 25971\n",
            "Id: 255 - Question Length: 89 - context Length: 46706\n",
            "Id: 256 - Question Length: 110 - context Length: 111744\n",
            "Id: 257 - Question Length: 70 - context Length: 4406\n",
            "Id: 258 - Question Length: 73 - context Length: 11755\n",
            "Id: 259 - Question Length: 40 - context Length: 24396\n",
            "Id: 260 - Question Length: 47 - context Length: 6186\n",
            "Id: 261 - Question Length: 38 - context Length: 26481\n",
            "Id: 262 - Question Length: 107 - context Length: 57310\n",
            "Id: 263 - Question Length: 30 - context Length: 4253\n",
            "Id: 264 - Question Length: 50 - context Length: 7414\n",
            "Id: 265 - Question Length: 60 - context Length: 26551\n",
            "Id: 266 - Question Length: 53 - context Length: 23442\n",
            "Id: 267 - Question Length: 86 - context Length: 78529\n",
            "Id: 268 - Question Length: 69 - context Length: 73343\n",
            "Id: 269 - Question Length: 88 - context Length: 3196\n",
            "Id: 270 - Question Length: 113 - context Length: 128416\n",
            "Id: 271 - Question Length: 76 - context Length: 124902\n",
            "Id: 272 - Question Length: 62 - context Length: 89450\n",
            "Id: 273 - Question Length: 101 - context Length: 166853\n",
            "Id: 274 - Question Length: 67 - context Length: 5821\n",
            "Id: 275 - Question Length: 57 - context Length: 17185\n",
            "Id: 276 - Question Length: 42 - context Length: 91814\n",
            "Id: 277 - Question Length: 94 - context Length: 37450\n",
            "Id: 278 - Question Length: 57 - context Length: 16589\n",
            "Id: 279 - Question Length: 107 - context Length: 20229\n",
            "Id: 280 - Question Length: 45 - context Length: 10524\n",
            "Id: 281 - Question Length: 117 - context Length: 43569\n",
            "Id: 282 - Question Length: 65 - context Length: 134776\n",
            "Id: 283 - Question Length: 78 - context Length: 26283\n",
            "Id: 284 - Question Length: 99 - context Length: 6898\n",
            "Id: 285 - Question Length: 54 - context Length: 73044\n",
            "Id: 286 - Question Length: 70 - context Length: 100743\n",
            "Id: 287 - Question Length: 182 - context Length: 3534\n",
            "Id: 288 - Question Length: 251 - context Length: 436\n",
            "Id: 289 - Question Length: 238 - context Length: 54781\n",
            "Id: 290 - Question Length: 151 - context Length: 42438\n",
            "Id: 291 - Question Length: 165 - context Length: 84500\n",
            "Id: 292 - Question Length: 220 - context Length: 98690\n",
            "Id: 293 - Question Length: 121 - context Length: 56067\n",
            "Id: 294 - Question Length: 156 - context Length: 99450\n",
            "Id: 295 - Question Length: 115 - context Length: 112435\n",
            "Id: 296 - Question Length: 94 - context Length: 99199\n",
            "Id: 297 - Question Length: 66 - context Length: 64731\n",
            "Id: 298 - Question Length: 89 - context Length: 131257\n",
            "Id: 299 - Question Length: 65 - context Length: 46732\n",
            "Id: 300 - Question Length: 158 - context Length: 16653\n",
            "Id: 301 - Question Length: 115 - context Length: 46650\n",
            "Id: 302 - Question Length: 70 - context Length: 1023\n",
            "Id: 303 - Question Length: 79 - context Length: 61916\n",
            "Id: 304 - Question Length: 94 - context Length: 60211\n",
            "Id: 305 - Question Length: 118 - context Length: 114049\n",
            "Id: 306 - Question Length: 49 - context Length: 26750\n",
            "Id: 307 - Question Length: 199 - context Length: 114127\n",
            "Id: 308 - Question Length: 68 - context Length: 9145\n",
            "Id: 309 - Question Length: 60 - context Length: 33667\n",
            "Id: 310 - Question Length: 89 - context Length: 115740\n",
            "Id: 311 - Question Length: 58 - context Length: 103288\n",
            "Id: 312 - Question Length: 55 - context Length: 57046\n",
            "Id: 313 - Question Length: 70 - context Length: 201655\n",
            "Id: 314 - Question Length: 80 - context Length: 6054\n",
            "Id: 315 - Question Length: 101 - context Length: 38790\n",
            "Id: 316 - Question Length: 101 - context Length: 95318\n",
            "Id: 317 - Question Length: 47 - context Length: 22273\n",
            "Id: 318 - Question Length: 65 - context Length: 98466\n",
            "Id: 319 - Question Length: 43 - context Length: 74588\n",
            "Id: 320 - Question Length: 63 - context Length: 144169\n",
            "Id: 321 - Question Length: 109 - context Length: 21737\n",
            "Id: 322 - Question Length: 116 - context Length: 97571\n",
            "Id: 323 - Question Length: 99 - context Length: 157670\n",
            "Id: 324 - Question Length: 78 - context Length: 21017\n",
            "Id: 325 - Question Length: 94 - context Length: 135421\n",
            "Id: 326 - Question Length: 61 - context Length: 82096\n",
            "Id: 327 - Question Length: 172 - context Length: 80097\n",
            "Id: 328 - Question Length: 90 - context Length: 120135\n",
            "Id: 329 - Question Length: 34 - context Length: 13348\n",
            "Id: 330 - Question Length: 65 - context Length: 55957\n",
            "Id: 331 - Question Length: 134 - context Length: 87889\n",
            "Id: 332 - Question Length: 96 - context Length: 50283\n",
            "Id: 333 - Question Length: 105 - context Length: 27732\n",
            "Id: 334 - Question Length: 88 - context Length: 35380\n",
            "Id: 335 - Question Length: 100 - context Length: 10414\n",
            "Id: 336 - Question Length: 52 - context Length: 122573\n",
            "Id: 337 - Question Length: 75 - context Length: 34119\n",
            "Id: 338 - Question Length: 159 - context Length: 119003\n",
            "Id: 339 - Question Length: 123 - context Length: 51023\n",
            "Id: 340 - Question Length: 64 - context Length: 45264\n",
            "Id: 341 - Question Length: 80 - context Length: 9367\n",
            "Id: 342 - Question Length: 61 - context Length: 94916\n",
            "Id: 343 - Question Length: 79 - context Length: 125050\n",
            "Id: 344 - Question Length: 78 - context Length: 13924\n",
            "Id: 345 - Question Length: 54 - context Length: 120045\n",
            "Id: 346 - Question Length: 64 - context Length: 5169\n",
            "Id: 347 - Question Length: 43 - context Length: 172671\n",
            "Id: 348 - Question Length: 52 - context Length: 12642\n",
            "Id: 349 - Question Length: 47 - context Length: 16403\n",
            "Id: 350 - Question Length: 48 - context Length: 154375\n",
            "Id: 351 - Question Length: 35 - context Length: 10204\n",
            "Id: 352 - Question Length: 64 - context Length: 26700\n",
            "Id: 353 - Question Length: 85 - context Length: 55039\n",
            "Id: 354 - Question Length: 62 - context Length: 13244\n",
            "Id: 355 - Question Length: 66 - context Length: 2116\n",
            "Id: 356 - Question Length: 71 - context Length: 25781\n",
            "Id: 357 - Question Length: 54 - context Length: 14159\n",
            "Id: 358 - Question Length: 49 - context Length: 37765\n",
            "Id: 359 - Question Length: 115 - context Length: 47955\n",
            "Id: 360 - Question Length: 82 - context Length: 130735\n",
            "Id: 361 - Question Length: 126 - context Length: 100064\n",
            "Id: 362 - Question Length: 51 - context Length: 1345\n",
            "Id: 363 - Question Length: 31 - context Length: 34547\n",
            "Id: 364 - Question Length: 67 - context Length: 10128\n",
            "Id: 365 - Question Length: 105 - context Length: 100941\n",
            "Id: 366 - Question Length: 98 - context Length: 12149\n",
            "Id: 367 - Question Length: 69 - context Length: 31886\n",
            "Id: 368 - Question Length: 61 - context Length: 92734\n",
            "Id: 369 - Question Length: 46 - context Length: 2458\n",
            "Id: 370 - Question Length: 49 - context Length: 33175\n",
            "Id: 371 - Question Length: 55 - context Length: 27460\n",
            "Id: 372 - Question Length: 69 - context Length: 95689\n",
            "Id: 373 - Question Length: 60 - context Length: 80213\n",
            "Id: 374 - Question Length: 54 - context Length: 40965\n",
            "Id: 375 - Question Length: 47 - context Length: 8346\n",
            "Id: 376 - Question Length: 58 - context Length: 66514\n",
            "Id: 377 - Question Length: 57 - context Length: 43083\n",
            "Id: 378 - Question Length: 51 - context Length: 823\n",
            "Id: 379 - Question Length: 48 - context Length: 14555\n",
            "Id: 380 - Question Length: 55 - context Length: 137066\n",
            "Id: 381 - Question Length: 64 - context Length: 91380\n",
            "Id: 382 - Question Length: 79 - context Length: 115129\n",
            "Id: 383 - Question Length: 100 - context Length: 34736\n",
            "Id: 384 - Question Length: 57 - context Length: 11291\n",
            "Id: 385 - Question Length: 80 - context Length: 2339\n",
            "Id: 386 - Question Length: 75 - context Length: 49982\n",
            "Id: 387 - Question Length: 116 - context Length: 16115\n",
            "Id: 388 - Question Length: 81 - context Length: 62202\n",
            "Id: 389 - Question Length: 45 - context Length: 71824\n",
            "Id: 390 - Question Length: 70 - context Length: 23077\n",
            "Id: 391 - Question Length: 50 - context Length: 19289\n",
            "Id: 392 - Question Length: 49 - context Length: 15348\n",
            "Id: 393 - Question Length: 52 - context Length: 40966\n",
            "Id: 394 - Question Length: 52 - context Length: 92451\n",
            "Id: 395 - Question Length: 96 - context Length: 5310\n",
            "Id: 396 - Question Length: 42 - context Length: 66143\n",
            "Id: 397 - Question Length: 38 - context Length: 9151\n",
            "Id: 398 - Question Length: 48 - context Length: 95128\n",
            "Id: 399 - Question Length: 57 - context Length: 67669\n",
            "Id: 400 - Question Length: 43 - context Length: 3521\n",
            "Id: 401 - Question Length: 47 - context Length: 27681\n",
            "Id: 402 - Question Length: 38 - context Length: 72219\n",
            "Id: 403 - Question Length: 59 - context Length: 5469\n",
            "Id: 404 - Question Length: 37 - context Length: 18247\n",
            "Id: 405 - Question Length: 71 - context Length: 57522\n",
            "Id: 406 - Question Length: 50 - context Length: 49267\n",
            "Id: 407 - Question Length: 46 - context Length: 1017\n",
            "Id: 408 - Question Length: 33 - context Length: 8851\n",
            "Id: 409 - Question Length: 46 - context Length: 18591\n",
            "Id: 410 - Question Length: 65 - context Length: 42637\n",
            "Id: 411 - Question Length: 52 - context Length: 32864\n",
            "Id: 412 - Question Length: 43 - context Length: 23118\n",
            "Id: 413 - Question Length: 33 - context Length: 44691\n",
            "Id: 414 - Question Length: 51 - context Length: 42435\n",
            "Id: 415 - Question Length: 55 - context Length: 38324\n",
            "Id: 416 - Question Length: 50 - context Length: 4771\n",
            "Id: 417 - Question Length: 84 - context Length: 45955\n",
            "Id: 418 - Question Length: 56 - context Length: 30291\n",
            "Id: 419 - Question Length: 54 - context Length: 45300\n",
            "Id: 420 - Question Length: 70 - context Length: 12214\n",
            "Id: 421 - Question Length: 64 - context Length: 55067\n",
            "Id: 422 - Question Length: 68 - context Length: 1849\n",
            "Id: 423 - Question Length: 40 - context Length: 51632\n",
            "Id: 424 - Question Length: 47 - context Length: 87972\n",
            "Id: 425 - Question Length: 29 - context Length: 22272\n",
            "Id: 426 - Question Length: 48 - context Length: 23099\n",
            "Id: 427 - Question Length: 67 - context Length: 15243\n",
            "Id: 428 - Question Length: 67 - context Length: 54203\n",
            "Id: 429 - Question Length: 62 - context Length: 5865\n",
            "Id: 430 - Question Length: 53 - context Length: 4787\n",
            "Id: 431 - Question Length: 58 - context Length: 25293\n",
            "Id: 432 - Question Length: 76 - context Length: 112048\n",
            "Id: 433 - Question Length: 26 - context Length: 99217\n",
            "Id: 434 - Question Length: 65 - context Length: 73779\n",
            "Id: 435 - Question Length: 33 - context Length: 3724\n",
            "Id: 436 - Question Length: 51 - context Length: 414\n",
            "Id: 437 - Question Length: 51 - context Length: 22596\n",
            "Id: 438 - Question Length: 69 - context Length: 28220\n",
            "Id: 439 - Question Length: 63 - context Length: 12467\n",
            "Id: 440 - Question Length: 49 - context Length: 3008\n",
            "Id: 441 - Question Length: 69 - context Length: 22600\n",
            "Id: 442 - Question Length: 51 - context Length: 50618\n",
            "Id: 443 - Question Length: 75 - context Length: 15492\n",
            "Id: 444 - Question Length: 70 - context Length: 36803\n",
            "Id: 445 - Question Length: 86 - context Length: 183133\n",
            "Id: 446 - Question Length: 58 - context Length: 6897\n",
            "Id: 447 - Question Length: 76 - context Length: 43265\n",
            "Id: 448 - Question Length: 65 - context Length: 137325\n",
            "Id: 449 - Question Length: 66 - context Length: 7255\n",
            "Id: 450 - Question Length: 93 - context Length: 124858\n",
            "Id: 451 - Question Length: 64 - context Length: 4308\n",
            "Id: 452 - Question Length: 62 - context Length: 11893\n",
            "Id: 453 - Question Length: 75 - context Length: 12055\n",
            "Id: 454 - Question Length: 68 - context Length: 13871\n",
            "Id: 455 - Question Length: 72 - context Length: 4270\n",
            "Id: 456 - Question Length: 56 - context Length: 40063\n",
            "Id: 457 - Question Length: 53 - context Length: 24092\n",
            "Id: 458 - Question Length: 54 - context Length: 56746\n",
            "Id: 459 - Question Length: 74 - context Length: 15914\n",
            "Id: 460 - Question Length: 65 - context Length: 91609\n",
            "Id: 461 - Question Length: 34 - context Length: 43813\n",
            "Id: 462 - Question Length: 70 - context Length: 49361\n",
            "Id: 463 - Question Length: 59 - context Length: 15933\n",
            "Id: 464 - Question Length: 59 - context Length: 64074\n",
            "Id: 465 - Question Length: 46 - context Length: 2510\n",
            "Id: 466 - Question Length: 119 - context Length: 105341\n",
            "Id: 467 - Question Length: 70 - context Length: 12929\n",
            "Id: 468 - Question Length: 41 - context Length: 126298\n",
            "Id: 469 - Question Length: 93 - context Length: 2280\n",
            "Id: 470 - Question Length: 34 - context Length: 25084\n",
            "Id: 471 - Question Length: 65 - context Length: 85861\n",
            "Id: 472 - Question Length: 49 - context Length: 70974\n",
            "Id: 473 - Question Length: 59 - context Length: 48810\n",
            "Id: 474 - Question Length: 47 - context Length: 3175\n",
            "Id: 475 - Question Length: 66 - context Length: 84436\n",
            "Id: 476 - Question Length: 37 - context Length: 16375\n",
            "Id: 477 - Question Length: 89 - context Length: 5393\n",
            "Id: 478 - Question Length: 49 - context Length: 17210\n",
            "Id: 479 - Question Length: 88 - context Length: 20128\n",
            "Id: 480 - Question Length: 95 - context Length: 11473\n",
            "Id: 481 - Question Length: 61 - context Length: 77619\n",
            "Id: 482 - Question Length: 59 - context Length: 79722\n",
            "Id: 483 - Question Length: 62 - context Length: 64718\n",
            "Id: 484 - Question Length: 65 - context Length: 1119\n",
            "Id: 485 - Question Length: 98 - context Length: 97798\n",
            "Id: 486 - Question Length: 29 - context Length: 40250\n",
            "Id: 487 - Question Length: 40 - context Length: 148208\n",
            "Id: 488 - Question Length: 59 - context Length: 13763\n",
            "Id: 489 - Question Length: 65 - context Length: 3338\n",
            "Id: 490 - Question Length: 43 - context Length: 27856\n",
            "Id: 491 - Question Length: 65 - context Length: 54483\n",
            "Id: 492 - Question Length: 60 - context Length: 11299\n",
            "Id: 493 - Question Length: 109 - context Length: 331078\n",
            "Id: 494 - Question Length: 46 - context Length: 114523\n",
            "Id: 495 - Question Length: 104 - context Length: 33933\n",
            "Id: 496 - Question Length: 60 - context Length: 48869\n",
            "Id: 497 - Question Length: 96 - context Length: 32569\n",
            "Id: 498 - Question Length: 51 - context Length: 29176\n",
            "Id: 499 - Question Length: 39 - context Length: 4004\n",
            "Id: 500 - Question Length: 60 - context Length: 114038\n",
            "Id: 501 - Question Length: 93 - context Length: 127480\n",
            "Id: 502 - Question Length: 66 - context Length: 91607\n",
            "Id: 503 - Question Length: 72 - context Length: 2196\n",
            "Id: 504 - Question Length: 86 - context Length: 14021\n",
            "Id: 505 - Question Length: 71 - context Length: 17171\n",
            "Id: 506 - Question Length: 61 - context Length: 51173\n",
            "Id: 507 - Question Length: 51 - context Length: 95689\n",
            "Id: 508 - Question Length: 55 - context Length: 67449\n",
            "Id: 509 - Question Length: 51 - context Length: 1837\n",
            "Id: 510 - Question Length: 74 - context Length: 80462\n",
            "Id: 511 - Question Length: 53 - context Length: 46131\n",
            "Id: 512 - Question Length: 82 - context Length: 20357\n",
            "Id: 513 - Question Length: 63 - context Length: 79823\n",
            "Id: 514 - Question Length: 55 - context Length: 43998\n",
            "Id: 515 - Question Length: 68 - context Length: 66836\n",
            "Id: 516 - Question Length: 69 - context Length: 27240\n",
            "Id: 517 - Question Length: 55 - context Length: 7452\n",
            "Id: 518 - Question Length: 45 - context Length: 52445\n",
            "Id: 519 - Question Length: 27 - context Length: 13281\n",
            "Id: 520 - Question Length: 86 - context Length: 144346\n",
            "Id: 521 - Question Length: 39 - context Length: 64464\n",
            "Id: 522 - Question Length: 39 - context Length: 150230\n",
            "Id: 523 - Question Length: 45 - context Length: 126888\n",
            "Id: 524 - Question Length: 41 - context Length: 28775\n",
            "Id: 525 - Question Length: 59 - context Length: 39631\n",
            "Id: 526 - Question Length: 93 - context Length: 23574\n",
            "Id: 527 - Question Length: 51 - context Length: 22489\n",
            "Id: 528 - Question Length: 50 - context Length: 78665\n",
            "Id: 529 - Question Length: 59 - context Length: 25629\n",
            "Id: 530 - Question Length: 82 - context Length: 174487\n",
            "==============================\n",
            "\n",
            "\n",
            "Num examples larger than 4 * 4096 characters: \n"
          ],
          "name": "stdout"
        },
        {
          "output_type": "stream",
          "text": [
            "\r100%|██████████| 1/1 [00:00<00:00, 19.04it/s]\n"
          ],
          "name": "stderr"
        },
        {
          "output_type": "execute_result",
          "data": {
            "text/plain": [
              "Dataset(schema: {'question': 'string', 'context': 'string', 'targets': 'list<item: string>', 'norm_target': 'string'}, num_rows: 127)"
            ]
          },
          "metadata": {
            "tags": []
          },
          "execution_count": 11
        }
      ]
    },
    {
      "cell_type": "markdown",
      "metadata": {
        "id": "m5MyFEZqzwZ-"
      },
      "source": [
        "Interesting! We can see that only 127 examples have less than 4 * 4096 = 16384 characters...\n",
        "\n",
        "Most examples seem to have a very long context which will have to be cut to Longformer's maximum length."
      ]
    },
    {
      "cell_type": "markdown",
      "metadata": {
        "id": "WDPrsXOTV6R2"
      },
      "source": [
        "### Evaluation\n",
        "\n",
        "It's time to evaluate *Longformer* on *TriviaQA* 🚀.\n",
        "\n",
        "Let's write our evaluation function and import the pretrained `LongformerForQuestionAnswering` model. For more details on `LongformerForQuestionAnswering`, see [here](https://huggingface.co/transformers/model_doc/longformer.html?highlight=longformerforquestionanswering#transformers.LongformerForQuestionAnswering)."
      ]
    },
    {
      "cell_type": "code",
      "metadata": {
        "id": "sHgcdBt41gby",
        "colab": {
          "base_uri": "https://localhost:8080/",
          "height": 213,
          "referenced_widgets": [
            "a47ae952bbcc47ab9546139e4d5763ca",
            "154ce03cb3ce41878e86b9405acc72c1",
            "a1cc8d6d531c4cc5ad52368f143275b7",
            "b7b6b55fec334b70b941f43e8790ff8f",
            "c985485ebd6b4386822ce6ce3496549c",
            "ff3389e6768541599665daa2f47bd2b6",
            "3c75fb86d20c49a0ba49c10bcd9ff590",
            "d61697ee8cb34283b16d6890c847314d",
            "e796a26a00d34826ad0c55b8fb5db38f",
            "3ea46857dae940698c468147b5bb8faf",
            "96408bd96dc04cafb4cd70ec494347e6",
            "800e761adb1b43eba2360783e410d93c",
            "144c8b7d90044222afbd2ce97fb4f48c",
            "4e6f546c10d14f9792f05b3480aaae97",
            "b55e596c62d843a9b42e9252d25b7ca3",
            "a6568a6c4b0546688b2518a70a05fe5a",
            "63d9f80719994ba0aa5b7b40cf4383ee",
            "d8904814a0b6417b98ee3eab2112b1cc",
            "156feace087843ddbb75895e6c0a350a",
            "414cea21612c47daa77d13b6e3b08095",
            "7f036150e9064954b15441b09aea5a47",
            "3f09040af7da494ba25f5c12e9285ce6",
            "b94dea909b8f46cc8b839ea2752f7a84",
            "08553efcef354ae8a9a9dc66ba918749",
            "2992e51bb6c841ffadc1f29401da2975",
            "eec549b52cf94b4ab00cd7d051b246ef",
            "64da528bb1a24fecb89c203fb776e6e7",
            "ff86aece67c44f02b057d28a7664cb6a",
            "843eec494f064368ba40cc39cd45b207",
            "5a4decb16b6a4f51884b1e8060e6fa87",
            "3501ab64b95f46cebe7ee13b6cac9fc3",
            "47d835e6374c4c7cbb7ab10e2a6dc31c"
          ]
        },
        "outputId": "9e96f272-670f-4abb-f65d-af0650262465"
      },
      "source": [
        "from transformers import LongformerTokenizerFast, LongformerForQuestionAnswering\n",
        "\n",
        "tokenizer = LongformerTokenizerFast.from_pretrained(\"allenai/longformer-large-4096-finetuned-triviaqa\")\n",
        "\n",
        "# download the 1.7 GB pretrained model. It might take ~1min\n",
        "model = LongformerForQuestionAnswering.from_pretrained(\"allenai/longformer-large-4096-finetuned-triviaqa\")\n",
        "model.to(\"cuda\")\n",
        "\n",
        "def evaluate(example):\n",
        "    def get_answer(question, context):\n",
        "        # encode question and context so that they are seperated by a tokenizer.sep_token and cut at max_length\n",
        "        encoding = tokenizer.encode_plus(question, context, return_tensors=\"pt\", max_length=4096)\n",
        "        input_ids = encoding[\"input_ids\"].to(\"cuda\")\n",
        "        attention_mask = encoding[\"attention_mask\"].to(\"cuda\")\n",
        "\n",
        "        # the forward method will automatically set global attention on question tokens\n",
        "        # The scores for the possible start token and end token of the answer are retrived\n",
        "        # wrap the function in torch.no_grad() to save memory\n",
        "        with torch.no_grad():\n",
        "            start_scores, end_scores = model(input_ids=input_ids, attention_mask=attention_mask)\n",
        "\n",
        "        # Let's take the most likely token using `argmax` and retrieve the answer\n",
        "        all_tokens = tokenizer.convert_ids_to_tokens(encoding[\"input_ids\"][0].tolist())\n",
        "        answer_tokens = all_tokens[torch.argmax(start_scores): torch.argmax(end_scores)+1]\n",
        "        answer = tokenizer.decode(tokenizer.convert_tokens_to_ids(answer_tokens))[1:].replace('\"', '')  # remove space prepending space token and remove unnecessary '\"'\n",
        "        \n",
        "        return answer\n",
        "\n",
        "    # save the model's output here\n",
        "    example[\"output\"] = get_answer(example[\"question\"], example[\"context\"])\n",
        "\n",
        "    # save if it's a match or not\n",
        "    example[\"match\"] = (example[\"output\"] in example[\"targets\"]) or (example[\"output\"] == example[\"norm_target\"])\n",
        "\n",
        "    return example\n"
      ],
      "execution_count": null,
      "outputs": [
        {
          "output_type": "display_data",
          "data": {
            "application/vnd.jupyter.widget-view+json": {
              "model_id": "a47ae952bbcc47ab9546139e4d5763ca",
              "version_minor": 0,
              "version_major": 2
            },
            "text/plain": [
              "HBox(children=(FloatProgress(value=0.0, description='Downloading', max=898823.0, style=ProgressStyle(descripti…"
            ]
          },
          "metadata": {
            "tags": []
          }
        },
        {
          "output_type": "stream",
          "text": [
            "\n"
          ],
          "name": "stdout"
        },
        {
          "output_type": "display_data",
          "data": {
            "application/vnd.jupyter.widget-view+json": {
              "model_id": "e796a26a00d34826ad0c55b8fb5db38f",
              "version_minor": 0,
              "version_major": 2
            },
            "text/plain": [
              "HBox(children=(FloatProgress(value=0.0, description='Downloading', max=456318.0, style=ProgressStyle(descripti…"
            ]
          },
          "metadata": {
            "tags": []
          }
        },
        {
          "output_type": "stream",
          "text": [
            "\n"
          ],
          "name": "stdout"
        },
        {
          "output_type": "display_data",
          "data": {
            "application/vnd.jupyter.widget-view+json": {
              "model_id": "63d9f80719994ba0aa5b7b40cf4383ee",
              "version_minor": 0,
              "version_major": 2
            },
            "text/plain": [
              "HBox(children=(FloatProgress(value=0.0, description='Downloading', max=831.0, style=ProgressStyle(description_…"
            ]
          },
          "metadata": {
            "tags": []
          }
        },
        {
          "output_type": "stream",
          "text": [
            "\n"
          ],
          "name": "stdout"
        },
        {
          "output_type": "display_data",
          "data": {
            "application/vnd.jupyter.widget-view+json": {
              "model_id": "2992e51bb6c841ffadc1f29401da2975",
              "version_minor": 0,
              "version_major": 2
            },
            "text/plain": [
              "HBox(children=(FloatProgress(value=0.0, description='Downloading', max=1738538029.0, style=ProgressStyle(descr…"
            ]
          },
          "metadata": {
            "tags": []
          }
        },
        {
          "output_type": "stream",
          "text": [
            "\n"
          ],
          "name": "stdout"
        }
      ]
    },
    {
      "cell_type": "markdown",
      "metadata": {
        "id": "bh65UMh8WP2I"
      },
      "source": [
        "We are interested in the performance of the model on short and long samples.\n",
        "First we evaluate the model on `short_validation_dataset`, which comprises only the samples that are shorter than 4 * 4096 characters."
      ]
    },
    {
      "cell_type": "code",
      "metadata": {
        "id": "R2REN9qH4HR2",
        "colab": {
          "base_uri": "https://localhost:8080/",
          "height": 34
        },
        "outputId": "7d2ad4c3-0fbf-496a-a760-f357cf8bb7e1"
      },
      "source": [
        "results_short = short_validation_dataset.map(evaluate)"
      ],
      "execution_count": null,
      "outputs": [
        {
          "output_type": "stream",
          "text": [
            "127it [02:49,  1.33s/it]\n"
          ],
          "name": "stderr"
        }
      ]
    },
    {
      "cell_type": "markdown",
      "metadata": {
        "id": "ULyIPLZIbtIP"
      },
      "source": [
        "Now let's check for how many questions we were correct!"
      ]
    },
    {
      "cell_type": "code",
      "metadata": {
        "id": "kavPCIWKWzua",
        "colab": {
          "base_uri": "https://localhost:8080/",
          "height": 1000
        },
        "outputId": "25fda02f-2140-42e1-b072-1ac74df78b2d"
      },
      "source": [
        "print(f\"\\nNum Correct examples: {sum(results_short['match'])}/{len(results_short)}\")\n",
        "wrong_results = results_short.filter(lambda x: x['match'] is False)\n",
        "print(f\"\\nWrong examples: \")\n",
        "wrong_results.map(lambda x, i: print(f\"{i} - Output: {x['output']} - Target: {x['norm_target']}\"), with_indices=True)"
      ],
      "execution_count": null,
      "outputs": [
        {
          "output_type": "stream",
          "text": [
            "100%|██████████| 1/1 [00:00<00:00, 134.97it/s]\n",
            "48it [00:00, 2939.25it/s]"
          ],
          "name": "stderr"
        },
        {
          "output_type": "stream",
          "text": [
            "\n",
            "Num Correct examples: 79/127\n",
            "\n",
            "Wrong examples: \n",
            "0 - Output: Doctor Finlay - Target: dr finlay\n",
            "0 - Output: Doctor Finlay - Target: dr finlay\n",
            "0 - Output: Doctor Finlay - Target: dr finlay\n",
            "1 - Output: film industry - Target: film making\n",
            "2 - Output: kaleidoscopes - Target: kaleidoscope\n",
            "3 - Output: fruit and vegetables - Target: fruit\n",
            "4 - Output:  - Target: motel 6\n",
            "5 - Output: Collapsible baby buggy - Target: baby buggy\n",
            "6 - Output: 2012–13 - Target: 3\n",
            "7 - Output: Chymosin - Target: rennet\n",
            "8 - Output: *Baby It's Cold Outside (Rainbow City Recordings − 2012) *Hullabaloo (Rainbow City Recordings – 2013) *Dylan Thomas : A Child's Christmas, Poems and Tiger Eggs (Marvels of the Universe – 2014)  Compilation albums  *Brand New Boots and Panties!! (2001) – contributed If I Was With a Woman *Listen to Bob Dylan: A Tribute (2005) – contributed I Believe in You, a Bob Dylan song from Slow Train Coming *Hands Across the Water (2006) – contributed An Occasional Song *Songs for the Young at Heart (2007) – contributed White Horses, the theme song to The White Horses *Over the Rainbow (2007) – contributed Secret Love  Singles  * 1998 The Ballad of Tom Jones (with Space) UK No. 4 * 1999 Baby, It's Cold Outside * 2003 Caught in the Middle UK No. 47 * 2005 1-2-3 * 2006 Open Roads UK No. 53 * 2007 Some Kind of Wonderful (with Aled Jones) (Universal Records) * 2009 Arlington Way   (Rainbow City Records) * 2010 Into The Blue/Mae Angen Llong Ar Gapten  (Rainbow City Records) * 2011 Sweet Magnolia (Rainbow City Records)  Appearances on other original recordings  * 1998 Space – Tin Planet, duetting on The Ballad of Tom Jones * 1999 Tom Jones – Reload, on Baby, It's Cold Outside - Target: baby it s cold outside\n",
            "9 - Output: beetroots - Target: beetroot\n",
            "10 - Output: SMERSH. Strogov is able to run, jump, crouch, crawl and climb over obstacles, and he is also able to drive vehicles. Taking place in World War II, the player is required to complete various tasks in enemy territory, such as killing targets and stealing documents. Emphasis is placed on stealth, as the player is greatly outnumbered by enemy personnel, and some missions will be failed if the alarm is raised.   The game's missions are connected by cutscenes, taking place in 1951. After the arrest of the head of SMERSH - Target: smersh\n",
            "11 - Output: cat - Target: wild cat\n",
            "12 - Output: rainfall, temperature and atmospheric composition. Knowledge of the atmosphere and its dynamics is also embodied in models, either statistical or mathematical, which help by integrating different observations and testing how they fit together. Modeling is used for understanding past, present and potential future climates. Historical climatology is the study of climate as related to human history and thus focuses only on the last few thousand years.  Climate research is made difficult by the large scale, long time periods, and complex processes which govern climate. Climate is governed by physical laws which can be expressed as differential equations. These equations are coupled and nonlinear, so that approximate solutions are obtained by using numerical methods to create global climate models.  Climate is sometimes modeled as a stochastic process but this is generally accepted as an approximation to processes that are otherwise too complicated to analyze.  Indices   Scientists use climate indices based on several climate patterns (known as modes of variability) in their attempt to characterize and understand the various climate mechanisms that culminate in our daily weather. Much in the way the Dow Jones Industrial Average, which is based on the stock prices of 30 companies, is used to represent the fluctuations in the stock market as a whole, climate indices are used to represent the essential elements of climate. Climate indices are generally devised with the twin objectives of simplicity and completeness, and each index typically represents the status and timing of the climate factor it represents. By their very nature, indices are simple, and combine many details into a generalized, overall description of the atmosphere or ocean which can be used to characterize the factors which impact the global climate system.  El Niño–Southern Oscillation   El Niño–Southern Oscillation (ENSO) is a global coupled ocean-atmosphere phenomenon.  The Pacific ocean signatures, El Niño and La Niña are important temperature fluctuations in surface waters of the tropical Eastern Pacific Ocean. The name El Niño, from the Spanish for the little boy, refers to the Christ child, because the phenomenon is usually noticed around Christmas time in the Pacific Ocean off the west coast of South America.  La Niña means the little girl.   Their effect on climate in the subtropics and the tropics are profound. The atmospheric signature, the Southern Oscillation (SO) reflects the monthly or seasonal fluctuations in the air pressure difference between Tahiti and Darwin. The most recent occurrence of El Niño started in September 2006   and lasted until early 2007.      ENSO is a set of interacting parts of a single global system of coupled ocean-atmosphere climate fluctuations that come about as a consequence of oceanic and atmospheric circulation. ENSO is the most prominent known source of inter-annual variability in weather and climate around the world.  The cycle occurs every two to seven years, with El Niño lasting nine months to two years within the longer term cycle,  though not all areas globally are affected. ENSO has signatures in the Pacific, Atlantic and Indian Oceans.  In the Pacific, during major warm events, El Niño warming extends over much of the tropical Pacific and becomes clearly linked to the SO intensity. While ENSO events are basically in phase between the Pacific and Indian Oceans, ENSO events in the Atlantic Ocean lag behind those in the Pacific by 12–18 months. Many of the countries most affected by ENSO events are developing countries within tropical sections of continents with economies that are largely dependent upon their agricultural and fishery sectors as a major source of food supply, employment, and foreign exchange.   New capabilities to predict the onset of ENSO events in the three oceans can have global socio-economic impacts. While ENSO is a global and natural part of the Earth's climate, whether its intensity or frequency may change as a result of global warming is an important concern. Low-frequency variability has been evidenced: the quasi-decadal oscillation (QDO). Inter-decadal (ID) modulation of ENSO (from PDO or IPO) might exist. This could explain the so-called protracted ENSO of the early 1990s.  Madden–Julian oscillation   The Madden–Julian oscillation (MJO) is an equatorial traveling pattern of anomalous rainfall that is planetary in scale.  It is characterized by an eastward progression of large regions of both enhanced and suppressed tropical rainfall, observed mainly over the Indian and Pacific Oceans.  The anomalous rainfall is usually first evident over the western Indian Ocean, and remains evident as it propagates over the very warm ocean waters of the western and central tropical Pacific. This pattern of tropical rainfall then generally becomes very nondescript as it moves over the cooler ocean waters of the eastern Pacific but reappears over the tropical Atlantic and Indian Oceans. The wet phase of enhanced convection and precipitation is followed by a dry phase where convection is suppressed. Each cycle lasts approximately 30–60 days.  The MJO is also known as the 30–60 day oscillation, 30–60 day wave, or the intraseasonal oscillation.  North Atlantic oscillation (NAO)   Indices of the NAO are based on the difference of normalized sea level pressure (SLP) between Ponta Delgada, Azores and Stykkisholmur/Reykjavik, Iceland.  The SLP anomalies at each station were normalized by division of each seasonal mean pressure by the long-term mean (1865–1984) standard deviation.  Normalization is done to avoid the series of being dominated by the greater variability of the northern of the two stations.  Positive values of the index indicate stronger-than-average westerlies over the middle latitudes.   Northern Annular Mode (NAM) or Arctic oscillation (AO)   The NAM, or AO, is defined as the first EOF of northern hemisphere winter SLP data from the tropics and subtropics. It explains 23% of the average winter (December–March) variance, and it is dominated by the NAO structure in the Atlantic.  Although there are some subtle differences from the regional pattern over the Atlantic and Arctic, the main difference is larger amplitude anomalies over the North Pacific of the same sign as those over the Atlantic.  This feature gives the NAM a more annular (or zonally symmetric) structure.  Northern Pacific (NP) Index   The NP Index is the area-weighted sea level pressure over the region 30N–65N, 160E–140W.  Pacific decadal oscillation (PDO)   The PDO is a pattern of Pacific climate variability that shifts phases on at least inter-decadal time scale, usually about 20 to 30 years. The PDO is detected as warm or cool surface waters in the Pacific Ocean, north of 20° N.  During a warm, or positive, phase, the west Pacific becomes cool and part of the eastern ocean warms; during a cool or negative phase, the opposite pattern occurs.  The mechanism by which the pattern lasts over several years has not been identified; one suggestion is that a thin layer of warm water during summer may shield deeper cold waters. A PDO signal has been reconstructed to 1661 through tree-ring chronologies in the Baja California area.  Interdecadal Pacific oscillation (IPO)   The Interdecadal Pacific oscillation (IPO or ID) display similar sea surface temperature (SST) and sea level pressure patterns to the PDO, with a cycle of 15–30 years, but affects both the north and south Pacific. In the tropical Pacific, maximum SST anomalies are found away from the equator. This is quite different from the quasi-decadal oscillation (QDO) with a period of 8–12 years and maximum SST anomalies straddling the equator, thus resembling ENSO.  Models   Climate models use quantitative methods to simulate the interactions of the atmosphere, oceans, land surface, and ice.  They are used for a variety of purposes from study of the dynamics of the weather and climate system to projections of future climate.  All climate models balance, or very nearly balance, incoming energy as short wave (including visible) electromagnetic radiation to the earth with outgoing energy as long wave (infrared) electromagnetic radiation from the earth. Any unbalance results in a change in the average temperature of the earth.  The most talked-about models of recent years have been those relating temperature to emissions of carbon dioxide (see greenhouse gas). These models predict an upward trend in the surface temperature record, as well as a more rapid increase in temperature at higher latitudes.  Models can range from relatively simple to quite complex: * A simple radiant heat transfer model that treats the earth as a single point and averages outgoing energy * this can be expanded vertically (radiative-convective models), or horizontally * finally, (coupled) atmosphere–ocean–sea ice global climate models discretise and solve the full equations for mass and energy transfer and radiant exchange.  Differences with meteorology   In contrast to meteorology, which focuses on short term weather systems lasting up to a few weeks, climatology studies the frequency and trends of those systems. It studies the periodicity of weather events over years to millennia, as well as changes in long-term average weather patterns, in relation to atmospheric conditions. Climatologists study both the nature of climates – local, regional or global – and the natural or human-induced factors that cause climates to change. Climatology considers the past and can help predict future climate change.  Phenomena of climatological interest include the atmospheric boundary layer, circulation patterns, heat transfer (radiative, convective and latent), interactions between the atmosphere and the oceans and land surface (particularly vegetation, land use and topography), and the chemical and physical composition of the atmosphere.  Use in weather forecasting   A more complicated way of making a forecast, the analog technique requires remembering a previous weather event which is expected to be mimicked by an upcoming event.  What makes it a difficult technique to use is that there is rarely a perfect analog for an event in the future.   Some call this type of forecasting pattern recognition, which remains a useful method of observing rainfall over data voids such as oceans with knowledge of how satellite imagery relates to precipitation rates over land,  as well as the forecasting of precipitation amounts and distribution in the future.  A variation on this theme is used in Medium Range forecasting, which is known as teleconnections, when you use systems in other locations to help pin down the location of another system within the surrounding regime.   One method of using teleconnections are by using climate indices such as ENSO-related phenomena. In geology and climatology, a pluvial is either a modern climate characterized by relatively high precipitation or an interval of time of variable length, decades to thousands of years, during which a climate characterized by either relatively high precipitation or humidity. Subdivisions of a pluvial, which characterized by relatively high precipitation, is known as a subpluvials. Formally, pluvials were equated with glacial stages of the Quaternary. However, pluvials, as in equatorial regions, can also occur during interglacial stages. Lower latitudes have even experienced major pluvials in early to mid-Holocene times. In geomorphology, pluvial refers to a geologic episode, change, process, deposit, or feature that is the result of the action or effects of rain. Sometimes, it also refers to the fluvial action of rainwater - Target: rainfall\n",
            "13 - Output: Four Weddings and - Target: four weddings and funeral\n",
            "14 - Output:  - Target: 8\n",
            "15 - Output: Willy Lott's Cottage, also the subject of an eponymous painting by Constable, is visible on the far left. The scene takes place near Flatford Mill in Suffolk, though since the Stour forms the border of two counties, the left bank is in Suffolk and the landscape on the right bank is in Essex.  The Hay Wain is one of a series of paintings by Constable called the six-footers, large-scale canvasses which he painted for the annual summer exhibitions at the Royal Academy. As with all of the paintings in this series Constable produced a full-scale oil sketch for the work; this is now in the Victoria and Albert Museum in London. Constable originally exhibited the finished work with the title Landscape: Noon, suggesting that he envisaged it as belonging to the classical landscape tradition of representing the cycles of nature.  History  Flatford Mill was owned by Constable's father. The house on the left side of the painting belonged to a neighbour, Willy Lott - Target: willy lott\n",
            "16 - Output: hypertension - Target: high blood pressure\n",
            "17 - Output:  - Target: almond\n",
            "18 - Output: fruit and vegetables - Target: fruit\n",
            "19 - Output: onion, mushrooms and herbs * Matignon - minced carrots - Target: onions\n",
            "20 - Output: Aviva plc is a British multinational insurance company headquartered in London, United Kingdom. It has around 33 million customers across 16 countries. In the UK, Aviva is the largest general insurer and a leading life and pensions provider. In addition, Aviva has a focus on five markets in Europe and, in Asia, the company is focused on the growth markets of China and South East Asia. Aviva is also the second largest general insurer in Canada.  Aviva has a primary listing on the London Stock Exchange and is a constituent of the FTSE 100 Index. It has a secondary listing on the New York Stock Exchange.  Name  The name of the company upon its formation in May 2000 was CGNU plc.  In April 2002 the company's shareholders voted to change the company name to Aviva plc, an invented word derived from viva, the Latin for 'alive' and designed to be short, memorable and work worldwide.  In April 2008 Aviva announced that it would adopt the Aviva name as its worldwide consumer-facing brand, and that the Norwich Union brand would be phased out in the United Kingdom.   History  Aviva can trace its history back to the establishment of the Hand in Hand Fire & Life Insurance Society in London in 1696.    It was created by a merger of two British insurance firms, Norwich Union and CGU plc  (itself created by the 1998 merger of Commercial Union and General Accident ) as CGNU in 2000. The Aviva name was adopted in July 2002.  Thereafter, most of the group operations, except for some strong local brands, were carried out under the uniform brand Aviva.   During March 2005 Aviva acquired the RAC plc breakdown recovery operation for around £1.1 billion.   In July 2006, Aviva greatly increased its presence in the United States by acquiring AmerUs Group, a Des Moines-based financial services company founded in 1896 in a $2.9 billion (£1.6 billion) deal.  AmerUs Group was rebranded as Aviva USA when the acquisition was completed.  The Company continued to use the Norwich Union name as a trading name in the UK until 1 June 2009 when it became formally known as Aviva - Target: aviva\n",
            "21 - Output: badminton - Target: volleyball\n",
            "22 - Output: Meet Me in - Target: meet me in st louis\n",
            "23 - Output:  - Target: tartaric acid\n",
            "24 - Output: leg - Target: legs\n",
            "25 - Output: Gondorff - Target: henry gondorf\n",
            "26 - Output: (Ralph Waite - Target: ralph waite\n",
            "27 - Output: too long, didn't read - Target: too long didn t read\n",
            "28 - Output:  - Target: brown\n",
            "29 - Output:  - Target: fiddler on roof\n",
            "30 - Output:  - Target: mutiny on bounty\n",
            "31 - Output: Tom Stoppard - Target: j g ballard\n",
            "32 - Output: Kentuckian - Target: kentuckian\n",
            "33 - Output: Roald Amundsen and his party on December 14, 1911. Amundsen named his camp Polheim and the entire plateau surrounding the Pole King Haakon VII Vidde in honour of King Haakon VII of Norway. Robert Falcon Scott returned to Antarctica with his second expedition, the Terra Nova Expedition, initially unaware of Amundsen's secretive expedition. Scott and four other men reached the South Pole on January 17, 1912, thirty-four days after Amundsen. On the return trip, Scott and his four companions all died of starvation and extreme cold.  In 1914 Ernest Shackleton's Imperial Trans-Antarctic Expedition set out with the goal of crossing Antarctica via the South Pole, but his ship, the Endurance, was frozen in pack ice and sank 11 months later. The overland journey was never made.  US Admiral Richard Evelyn Byrd, with the assistance of his first pilot Bernt Balchen, became the first person to fly over the South Pole on November 29, 1928.  1950–present  It was not until 31 October 1956 that humans once again set foot at the South Pole, when a party led by Admiral George J. Dufek of the US Navy landed there in an R4D-5L Skytrain (C-47 Skytrain) aircraft. The US Amundsen-Scott South Pole Station was established by air over 1956–1957 for the International Geophysical Year and has been continuously staffed since then by research and support personnel.  After Amundsen and Scott, the next people to reach the South Pole overland (albeit with some air support) were Edmund Hillary - Target: edmond hillary\n",
            "34 - Output:  - Target: all in family\n",
            "35 - Output: Roy Orbison - Target: donny osmond\n",
            "36 - Output: Lisa Kudrow - Target: jennifer aniston\n",
            "37 - Output:  - Target: george\n",
            "38 - Output: Bette Davis and Joan Crawford - Target: crawford\n",
            "39 - Output: La Grange - Target: chicken ranch\n",
            "40 - Output:  - Target: belgium\n",
            "41 - Output: 1936–46 - Target: 13\n",
            "42 - Output: Gary Lewis - Target: gary lewis and playboys\n",
            "43 - Output: Collapsible baby buggy - Target: baby buggy\n",
            "44 - Output:  - Target: basket ball\n",
            "45 - Output: sprint canoeist - Target: canoeing\n",
            "46 - Output: Jon Bon Jovi - Target: presley\n",
            "47 - Output: Cora Crippen - Target: his wife\n"
          ],
          "name": "stdout"
        },
        {
          "output_type": "stream",
          "text": [
            "\n"
          ],
          "name": "stderr"
        },
        {
          "output_type": "execute_result",
          "data": {
            "text/plain": [
              "Dataset(schema: {'question': 'string', 'context': 'string', 'targets': 'list<item: string>', 'norm_target': 'string', 'output': 'string', 'match': 'bool'}, num_rows: 48)"
            ]
          },
          "metadata": {
            "tags": []
          },
          "execution_count": 15
        }
      ]
    },
    {
      "cell_type": "markdown",
      "metadata": {
        "id": "ViCCSxzPc2Gk"
      },
      "source": [
        "79/127 - not bad 🔥. Also we can see that many of the wrong outputs are very close to the correct solution or are the correct solution, but just written differently (Number 0,9, ...). One could obviously make a better post processing script that makes sure solutions like 0 and 9 are counted as correct solutions by adding a couple of lines to the `evaluate` function. "
      ]
    },
    {
      "cell_type": "markdown",
      "metadata": {
        "id": "2Si1eo3tYBR_"
      },
      "source": [
        "**Note**: *Longformer reached a new SOTA on TriviaQA - see Table 9 in [paper](https://arxiv.org/abs/2004.05150). In order to reproduce the exact results, please refer to the following [instructions](https://github.com/allenai/longformer/blob/master/scripts/cheatsheet.txt).*"
      ]
    },
    {
      "cell_type": "markdown",
      "metadata": {
        "id": "Q5CtQILEVMay"
      },
      "source": [
        "Second, we evaluate `LongformerForQuestionAnswering` on the all of the examples."
      ]
    },
    {
      "cell_type": "code",
      "metadata": {
        "id": "jWNtljj3Wr9h",
        "colab": {
          "base_uri": "https://localhost:8080/",
          "height": 34
        },
        "outputId": "c487bdb7-f59e-4665-f8d3-042f9b371599"
      },
      "source": [
        "results = validation_dataset.map(evaluate)"
      ],
      "execution_count": null,
      "outputs": [
        {
          "output_type": "stream",
          "text": [
            "531it [19:46,  2.23s/it]\n"
          ],
          "name": "stderr"
        }
      ]
    },
    {
      "cell_type": "code",
      "metadata": {
        "id": "wyDYG4YDXFV7",
        "colab": {
          "base_uri": "https://localhost:8080/",
          "height": 34
        },
        "outputId": "c48ecfc2-c3e4-4a43-c86c-58db2634dc61"
      },
      "source": [
        "print(f\"Correct examples: {sum(results['match'])}/{len(results)}\")"
      ],
      "execution_count": null,
      "outputs": [
        {
          "output_type": "stream",
          "text": [
            "Correct examples: 269/531\n"
          ],
          "name": "stdout"
        }
      ]
    },
    {
      "cell_type": "markdown",
      "metadata": {
        "id": "e80MqFyP4JIj"
      },
      "source": [
        "Here, we now see a slight degradation. Only a bit more than half the samples are correct. It is still a very good score though."
      ]
    },
    {
      "cell_type": "markdown",
      "metadata": {
        "id": "suv6-Rb5Xe9X"
      },
      "source": [
        "Now you should have all the tools necessary to preprocess your data and evaluate your model with 🤗nlp in no time!\n",
        "\n",
        "🤗 🤗 **Finish** 🤗🤗\n",
        "\n",
        "Thanks goes out to Iz Beltagy for proof reading the notebook!"
      ]
    }
  ]
}