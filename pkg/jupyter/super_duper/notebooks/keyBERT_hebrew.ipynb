{
  "nbformat": 4,
  "nbformat_minor": 0,
  "metadata": {
    "colab": {
      "name": "keyBERT-hebrew.ipynb",
      "provenance": []
    },
    "kernelspec": {
      "name": "python3",
      "display_name": "Python 3"
    }
  },
  "cells": [
    {
      "cell_type": "code",
      "metadata": {
        "id": "lX7Jc3kPIhYl",
        "colab": {
          "base_uri": "https://localhost:8080/"
        },
        "outputId": "5db9fabb-b590-4a1c-ffd0-d0b018e6fe9c"
      },
      "source": [
        "pip install keybert"
      ],
      "execution_count": null,
      "outputs": [
        {
          "output_type": "stream",
          "text": [
            "Collecting keybert\n",
            "  Downloading https://files.pythonhosted.org/packages/e3/43/ba9b9be17d1831a112e63625ed328b292f57ace0c570062df9a5e6fea87c/keybert-0.1.2.tar.gz\n",
            "Collecting sentence-transformers>=0.3.8\n",
            "\u001b[?25l  Downloading https://files.pythonhosted.org/packages/f5/5a/6e41e8383913dd2ba923cdcd02be2e03911595f4d2f9de559ecbed80d2d3/sentence-transformers-0.3.9.tar.gz (64kB)\n",
            "\u001b[K     |████████████████████████████████| 71kB 4.5MB/s \n",
            "\u001b[?25hRequirement already satisfied: scikit-learn>=0.22.2 in /usr/local/lib/python3.6/dist-packages (from keybert) (0.22.2.post1)\n",
            "Requirement already satisfied: numpy>=1.18.5 in /usr/local/lib/python3.6/dist-packages (from keybert) (1.18.5)\n",
            "Collecting transformers<3.6.0,>=3.1.0\n",
            "\u001b[?25l  Downloading https://files.pythonhosted.org/packages/3a/83/e74092e7f24a08d751aa59b37a9fc572b2e4af3918cb66f7766c3affb1b4/transformers-3.5.1-py3-none-any.whl (1.3MB)\n",
            "\u001b[K     |████████████████████████████████| 1.3MB 7.4MB/s \n",
            "\u001b[?25hRequirement already satisfied: tqdm in /usr/local/lib/python3.6/dist-packages (from sentence-transformers>=0.3.8->keybert) (4.41.1)\n",
            "Requirement already satisfied: torch>=1.6.0 in /usr/local/lib/python3.6/dist-packages (from sentence-transformers>=0.3.8->keybert) (1.7.0+cu101)\n",
            "Requirement already satisfied: scipy in /usr/local/lib/python3.6/dist-packages (from sentence-transformers>=0.3.8->keybert) (1.4.1)\n",
            "Requirement already satisfied: nltk in /usr/local/lib/python3.6/dist-packages (from sentence-transformers>=0.3.8->keybert) (3.2.5)\n",
            "Requirement already satisfied: joblib>=0.11 in /usr/local/lib/python3.6/dist-packages (from scikit-learn>=0.22.2->keybert) (0.17.0)\n",
            "Requirement already satisfied: packaging in /usr/local/lib/python3.6/dist-packages (from transformers<3.6.0,>=3.1.0->sentence-transformers>=0.3.8->keybert) (20.4)\n",
            "Requirement already satisfied: filelock in /usr/local/lib/python3.6/dist-packages (from transformers<3.6.0,>=3.1.0->sentence-transformers>=0.3.8->keybert) (3.0.12)\n",
            "Requirement already satisfied: regex!=2019.12.17 in /usr/local/lib/python3.6/dist-packages (from transformers<3.6.0,>=3.1.0->sentence-transformers>=0.3.8->keybert) (2019.12.20)\n",
            "Requirement already satisfied: protobuf in /usr/local/lib/python3.6/dist-packages (from transformers<3.6.0,>=3.1.0->sentence-transformers>=0.3.8->keybert) (3.12.4)\n",
            "Requirement already satisfied: dataclasses; python_version < \"3.7\" in /usr/local/lib/python3.6/dist-packages (from transformers<3.6.0,>=3.1.0->sentence-transformers>=0.3.8->keybert) (0.7)\n",
            "Collecting sentencepiece==0.1.91\n",
            "\u001b[?25l  Downloading https://files.pythonhosted.org/packages/d4/a4/d0a884c4300004a78cca907a6ff9a5e9fe4f090f5d95ab341c53d28cbc58/sentencepiece-0.1.91-cp36-cp36m-manylinux1_x86_64.whl (1.1MB)\n",
            "\u001b[K     |████████████████████████████████| 1.1MB 19.4MB/s \n",
            "\u001b[?25hRequirement already satisfied: requests in /usr/local/lib/python3.6/dist-packages (from transformers<3.6.0,>=3.1.0->sentence-transformers>=0.3.8->keybert) (2.23.0)\n",
            "Collecting tokenizers==0.9.3\n",
            "\u001b[?25l  Downloading https://files.pythonhosted.org/packages/4c/34/b39eb9994bc3c999270b69c9eea40ecc6f0e97991dba28282b9fd32d44ee/tokenizers-0.9.3-cp36-cp36m-manylinux1_x86_64.whl (2.9MB)\n",
            "\u001b[K     |████████████████████████████████| 2.9MB 34.2MB/s \n",
            "\u001b[?25hCollecting sacremoses\n",
            "\u001b[?25l  Downloading https://files.pythonhosted.org/packages/7d/34/09d19aff26edcc8eb2a01bed8e98f13a1537005d31e95233fd48216eed10/sacremoses-0.0.43.tar.gz (883kB)\n",
            "\u001b[K     |████████████████████████████████| 890kB 28.5MB/s \n",
            "\u001b[?25hRequirement already satisfied: future in /usr/local/lib/python3.6/dist-packages (from torch>=1.6.0->sentence-transformers>=0.3.8->keybert) (0.16.0)\n",
            "Requirement already satisfied: typing-extensions in /usr/local/lib/python3.6/dist-packages (from torch>=1.6.0->sentence-transformers>=0.3.8->keybert) (3.7.4.3)\n",
            "Requirement already satisfied: six in /usr/local/lib/python3.6/dist-packages (from nltk->sentence-transformers>=0.3.8->keybert) (1.15.0)\n",
            "Requirement already satisfied: pyparsing>=2.0.2 in /usr/local/lib/python3.6/dist-packages (from packaging->transformers<3.6.0,>=3.1.0->sentence-transformers>=0.3.8->keybert) (2.4.7)\n",
            "Requirement already satisfied: setuptools in /usr/local/lib/python3.6/dist-packages (from protobuf->transformers<3.6.0,>=3.1.0->sentence-transformers>=0.3.8->keybert) (50.3.2)\n",
            "Requirement already satisfied: certifi>=2017.4.17 in /usr/local/lib/python3.6/dist-packages (from requests->transformers<3.6.0,>=3.1.0->sentence-transformers>=0.3.8->keybert) (2020.6.20)\n",
            "Requirement already satisfied: chardet<4,>=3.0.2 in /usr/local/lib/python3.6/dist-packages (from requests->transformers<3.6.0,>=3.1.0->sentence-transformers>=0.3.8->keybert) (3.0.4)\n",
            "Requirement already satisfied: idna<3,>=2.5 in /usr/local/lib/python3.6/dist-packages (from requests->transformers<3.6.0,>=3.1.0->sentence-transformers>=0.3.8->keybert) (2.10)\n",
            "Requirement already satisfied: urllib3!=1.25.0,!=1.25.1,<1.26,>=1.21.1 in /usr/local/lib/python3.6/dist-packages (from requests->transformers<3.6.0,>=3.1.0->sentence-transformers>=0.3.8->keybert) (1.24.3)\n",
            "Requirement already satisfied: click in /usr/local/lib/python3.6/dist-packages (from sacremoses->transformers<3.6.0,>=3.1.0->sentence-transformers>=0.3.8->keybert) (7.1.2)\n",
            "Building wheels for collected packages: keybert, sentence-transformers, sacremoses\n",
            "  Building wheel for keybert (setup.py) ... \u001b[?25l\u001b[?25hdone\n",
            "  Created wheel for keybert: filename=keybert-0.1.2-cp36-none-any.whl size=8786 sha256=1f248bc473333465395a82ccf7379e021b906235453ce2771148196d5aeef271\n",
            "  Stored in directory: /root/.cache/pip/wheels/a8/a5/0c/27c2831e6f2a90be6c714b21d8d40d201134a69d806583df62\n",
            "  Building wheel for sentence-transformers (setup.py) ... \u001b[?25l\u001b[?25hdone\n",
            "  Created wheel for sentence-transformers: filename=sentence_transformers-0.3.9-cp36-none-any.whl size=101036 sha256=7b271de7381913567cd7877b69aaca9d18f6fb6cd0f8be62b27e5041823b8024\n",
            "  Stored in directory: /root/.cache/pip/wheels/fc/89/43/f2f5bc00b03ef9724b0f6254a97eaf159a4c4ddc024b33e07a\n",
            "  Building wheel for sacremoses (setup.py) ... \u001b[?25l\u001b[?25hdone\n",
            "  Created wheel for sacremoses: filename=sacremoses-0.0.43-cp36-none-any.whl size=893257 sha256=e1795c43a7edadbc7184f4ea645e9046753c50c941adf8e303dd0c9ff32a8720\n",
            "  Stored in directory: /root/.cache/pip/wheels/29/3c/fd/7ce5c3f0666dab31a50123635e6fb5e19ceb42ce38d4e58f45\n",
            "Successfully built keybert sentence-transformers sacremoses\n",
            "Installing collected packages: sentencepiece, tokenizers, sacremoses, transformers, sentence-transformers, keybert\n",
            "Successfully installed keybert-0.1.2 sacremoses-0.0.43 sentence-transformers-0.3.9 sentencepiece-0.1.91 tokenizers-0.9.3 transformers-3.5.1\n"
          ],
          "name": "stdout"
        }
      ]
    },
    {
      "cell_type": "code",
      "metadata": {
        "id": "c4I6d_yuLUwD",
        "colab": {
          "base_uri": "https://localhost:8080/"
        },
        "outputId": "531a2bc8-0b1e-48e8-c183-2c6ca47d18b9"
      },
      "source": [
        "from keybert import KeyBERT\n",
        "model = KeyBERT('xlm-r-bert-base-nli-stsb-mean-tokens')"
      ],
      "execution_count": null,
      "outputs": [
        {
          "output_type": "stream",
          "text": [
            "100%|██████████| 1.01G/1.01G [02:27<00:00, 6.88MB/s]\n"
          ],
          "name": "stderr"
        }
      ]
    },
    {
      "cell_type": "code",
      "metadata": {
        "id": "yvIElmpaImxu"
      },
      "source": [
        "from keybert import KeyBERT\n",
        "\n",
        "doc = \"\"\"\n",
        "בזמן שהלקוחות במתחם הפתוח בבאר שבע התקהלו בתורים הארוכים לחנויות, בעלי העסקים בשוק התל אביבי מחו על כך שנותרו סגורים למרות שהם פועלים במקום פתוח. פקחי עיריית תל אביב לא חיכו ונתנו דו\"ח של 5,000 שקלים לנסאן בכר שהוציא ירקות לדוכן: \"לא אשלם ואערער לבית המשפט. לא הייתה לי ברירה, חייבים להתפרנס - נגמר הכסף\"\n",
        "בזמן שהתורים במרכזי הביג שנפתחו הבוקר (שלישי) השתרכו מחוץ לחנויות, הפגינו עשרות סוחרים משוק הכרמל בתל אביב נגד הממשלה שעדיין לא מאשרת להם לחזור לעבודה. כמה מהם פתחו את הדוכנים למורת רוחם של פקחי עיריית תל אביב שרשמו דו\"ח לאחד מהם. בעלי העסקים נשאו שלטים שבהם נכתב \"תנו לנשום באוויר הפתוח\", \"פתוח=בטוח\" ו\"מתי פותחים כי אין חיים\".\n",
        "\n",
        "  \"\"\"\n",
        "\n",
        "keywords = model.extract_keywords(doc)"
      ],
      "execution_count": null,
      "outputs": []
    },
    {
      "cell_type": "code",
      "metadata": {
        "id": "0uABIdxsIqdR",
        "colab": {
          "base_uri": "https://localhost:8080/"
        },
        "outputId": "30aab699-3b95-418e-9b4b-4859b9c95164"
      },
      "source": [
        "model.extract_keywords(doc, keyphrase_length=1, stop_words=None)"
      ],
      "execution_count": null,
      "outputs": [
        {
          "output_type": "execute_result",
          "data": {
            "text/plain": [
              "['העסקים', 'בשוק', 'לחנויות', 'משוק', 'סוחרים']"
            ]
          },
          "metadata": {
            "tags": []
          },
          "execution_count": 4
        }
      ]
    },
    {
      "cell_type": "code",
      "metadata": {
        "id": "vfoVGba8I3D1",
        "colab": {
          "base_uri": "https://localhost:8080/"
        },
        "outputId": "f861dcc0-06cc-4338-9d6e-6cb5b5b3b754"
      },
      "source": [
        "model.extract_keywords(doc, keyphrase_length=2, stop_words=None)"
      ],
      "execution_count": null,
      "outputs": [
        {
          "output_type": "execute_result",
          "data": {
            "text/plain": [
              "['לחנויות הפגינו',\n",
              " 'העסקים בשוק',\n",
              " 'עשרות סוחרים',\n",
              " 'סוחרים משוק',\n",
              " 'הארוכים לחנויות']"
            ]
          },
          "metadata": {
            "tags": []
          },
          "execution_count": 5
        }
      ]
    },
    {
      "cell_type": "code",
      "metadata": {
        "id": "oriEarB2I8Y4",
        "colab": {
          "base_uri": "https://localhost:8080/"
        },
        "outputId": "bf71b7bb-cd5c-497d-cf4f-f90af18bbbc4"
      },
      "source": [
        "model.extract_keywords(doc, keyphrase_length=3,use_maxsum=True, nr_candidates=20, top_n=5)"
      ],
      "execution_count": null,
      "outputs": [
        {
          "output_type": "execute_result",
          "data": {
            "text/plain": [
              "['אביב נגד הממשלה',\n",
              " 'סוחרים משוק הכרמל',\n",
              " 'העסקים נשאו שלטים',\n",
              " 'להתפרנס נגמר הכסף',\n",
              " 'התקהלו בתורים הארוכים']"
            ]
          },
          "metadata": {
            "tags": []
          },
          "execution_count": 6
        }
      ]
    },
    {
      "cell_type": "code",
      "metadata": {
        "id": "zICeFMo9JO0D",
        "colab": {
          "base_uri": "https://localhost:8080/"
        },
        "outputId": "8d6ec371-8c75-4487-f245-924780cf87c5"
      },
      "source": [
        "model.extract_keywords(doc, keyphrase_length=3, use_mmr=True, diversity=0.7)"
      ],
      "execution_count": null,
      "outputs": [
        {
          "output_type": "execute_result",
          "data": {
            "text/plain": [
              "['בתורים הארוכים לחנויות',\n",
              " 'ירקות לדוכן לא',\n",
              " 'אביב נגד הממשלה',\n",
              " 'להתפרנס נגמר הכסף',\n",
              " 'סוחרים משוק הכרמל']"
            ]
          },
          "metadata": {
            "tags": []
          },
          "execution_count": 7
        }
      ]
    },
    {
      "cell_type": "code",
      "metadata": {
        "id": "RQb4alzqJQqX",
        "colab": {
          "base_uri": "https://localhost:8080/"
        },
        "outputId": "d3e0a378-ee8d-4ad2-d588-c683b1c79d4b"
      },
      "source": [
        "model.extract_keywords(doc, keyphrase_length=3, use_mmr=True, diversity=0.2)"
      ],
      "execution_count": null,
      "outputs": [
        {
          "output_type": "execute_result",
          "data": {
            "text/plain": [
              "['בתורים הארוכים לחנויות',\n",
              " 'מחוץ לחנויות הפגינו',\n",
              " 'עשרות סוחרים משוק',\n",
              " 'להתפרנס נגמר הכסף',\n",
              " 'לחנויות הפגינו עשרות']"
            ]
          },
          "metadata": {
            "tags": []
          },
          "execution_count": 8
        }
      ]
    }
  ]
}