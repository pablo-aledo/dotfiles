{
  "nbformat": 4,
  "nbformat_minor": 0,
  "metadata": {
    "kernelspec": {
      "display_name": "Python 3",
      "language": "python",
      "name": "python3"
    },
    "language_info": {
      "codemirror_mode": {
        "name": "ipython",
        "version": 3
      },
      "file_extension": ".py",
      "mimetype": "text/x-python",
      "name": "python",
      "nbconvert_exporter": "python",
      "pygments_lexer": "ipython3",
      "version": "3.6.8"
    },
    "colab": {
      "name": "REWatson.ipynb",
      "provenance": []
    }
  },
  "cells": [
    {
      "cell_type": "markdown",
      "metadata": {
        "id": "h1LvyMCvcnft"
      },
      "source": [
        "This notebook shows an example of Relation Extraction with IBM Watson. They have a [free tier](https://www.ibm.com/cloud/free) which you can use to try it out using the API key obtained by registering for it."
      ]
    },
    {
      "cell_type": "code",
      "metadata": {
        "id": "Tgo_X-o4cnfv",
        "outputId": "11e679b2-ff24-47f5-909e-a9ae8d297aaf"
      },
      "source": [
        "import json\n",
        "from watson_developer_cloud import NaturalLanguageUnderstandingV1\n",
        "from watson_developer_cloud.natural_language_understanding_v1 import Features, RelationsOptions\n",
        "\n",
        "natural_language_understanding = NaturalLanguageUnderstandingV1(\n",
        "    version='2018-11-16',\n",
        "    iam_apikey='XXXXX',\n",
        "    url='https://gateway-wdc.watsonplatform.net/natural-language-understanding/api'\n",
        ")\n",
        "\n",
        "response = natural_language_understanding.analyze(\n",
        "    text='Leonardo DiCaprio won Best Actor in a Leading Role for his performance.',\n",
        "    features=Features(relations=RelationsOptions())).get_result()\n",
        "\n",
        "print(json.dumps(response, indent=2))"
      ],
      "execution_count": null,
      "outputs": [
        {
          "output_type": "stream",
          "text": [
            "/usr/local/lib/python3.6/dist-packages/ipykernel_launcher.py:8: DeprecationWarning: watson-developer-cloud moved to ibm-watson. To get updates, use the new package.\n",
            "  \n"
          ],
          "name": "stderr"
        },
        {
          "output_type": "stream",
          "text": [
            "{\n",
            "  \"usage\": {\n",
            "    \"text_units\": 1,\n",
            "    \"text_characters\": 71,\n",
            "    \"features\": 1\n",
            "  },\n",
            "  \"relations\": [\n",
            "    {\n",
            "      \"type\": \"awardedTo\",\n",
            "      \"sentence\": \"Leonardo DiCaprio won Best Actor in a Leading Role for his performance.\",\n",
            "      \"score\": 0.680715,\n",
            "      \"arguments\": [\n",
            "        {\n",
            "          \"text\": \"Best Actor\",\n",
            "          \"location\": [\n",
            "            22,\n",
            "            32\n",
            "          ],\n",
            "          \"entities\": [\n",
            "            {\n",
            "              \"type\": \"EntertainmentAward\",\n",
            "              \"text\": \"Best Actor\"\n",
            "            }\n",
            "          ]\n",
            "        },\n",
            "        {\n",
            "          \"text\": \"Leonardo DiCaprio\",\n",
            "          \"location\": [\n",
            "            0,\n",
            "            17\n",
            "          ],\n",
            "          \"entities\": [\n",
            "            {\n",
            "              \"type\": \"Person\",\n",
            "              \"text\": \"Leonardo DiCaprio\"\n",
            "            }\n",
            "          ]\n",
            "        }\n",
            "      ]\n",
            "    }\n",
            "  ],\n",
            "  \"language\": \"en\"\n",
            "}\n"
          ],
          "name": "stdout"
        }
      ]
    },
    {
      "cell_type": "code",
      "metadata": {
        "id": "W0C7khY9cnf0"
      },
      "source": [
        "mytext = \"Satya Narayana Nadella currently serves as the Chief Executive Officer (CEO) of Microsoft.\""
      ],
      "execution_count": null,
      "outputs": []
    },
    {
      "cell_type": "code",
      "metadata": {
        "id": "ok9whBoIcnf7"
      },
      "source": [
        "response = natural_language_understanding.analyze(\n",
        "    text=mytext,\n",
        "    features=Features(relations=RelationsOptions())).get_result()\n",
        "\n",
        "#print(json.dumps(response, indent=2))"
      ],
      "execution_count": null,
      "outputs": []
    },
    {
      "cell_type": "code",
      "metadata": {
        "id": "h3SLsI8Mcnf-"
      },
      "source": [
        "result = json.dumps(response)\n"
      ],
      "execution_count": null,
      "outputs": []
    },
    {
      "cell_type": "code",
      "metadata": {
        "id": "MVZXkl3gcngF",
        "outputId": "262d4877-d2a1-4caa-a6a3-2afea85a5c32"
      },
      "source": [
        "result"
      ],
      "execution_count": null,
      "outputs": [
        {
          "output_type": "execute_result",
          "data": {
            "text/plain": [
              "'{\"usage\": {\"text_units\": 1, \"text_characters\": 90, \"features\": 1}, \"relations\": [{\"type\": \"employedBy\", \"sentence\": \"Satya Narayana Nadella currently serves as the Chief Executive Officer (CEO) of Microsoft.\", \"score\": 0.48706, \"arguments\": [{\"text\": \"CEO\", \"location\": [72, 75], \"entities\": [{\"type\": \"Person\", \"text\": \"Satya Narayana Nadella\"}]}, {\"text\": \"Microsoft\", \"location\": [80, 89], \"entities\": [{\"type\": \"Organization\", \"text\": \"Microsoft\", \"disambiguation\": {\"subtype\": [\"Commercial\"]}}]}]}], \"language\": \"en\"}'"
            ]
          },
          "metadata": {
            "tags": []
          },
          "execution_count": 42
        }
      ]
    },
    {
      "cell_type": "code",
      "metadata": {
        "id": "KhxRifcYcngM",
        "outputId": "3893966f-b1bb-489a-8df6-727a9a260059"
      },
      "source": [
        "for item in response['relations']:\n",
        "        print(item['type'])\n",
        "        for subitem in item['arguments']:\n",
        "            print(subitem['entities'])\n",
        "print()"
      ],
      "execution_count": null,
      "outputs": [
        {
          "output_type": "stream",
          "text": [
            "employedBy\n",
            "[{'type': 'Person', 'text': 'Satya Narayana Nadella'}]\n",
            "[{'type': 'Organization', 'text': 'Microsoft', 'disambiguation': {'subtype': ['Commercial']}}]\n",
            "\n"
          ],
          "name": "stdout"
        }
      ]
    },
    {
      "cell_type": "code",
      "metadata": {
        "id": "LPOOAWyzcngP",
        "outputId": "b2ca6263-70a2-42c7-8cce-9a976645b040"
      },
      "source": [
        "mytext2 = \"Nadella was born in Hyderabad. His father, Bukkapuram Nadella Yugandher, was a civil servant who worked for the Indian Administrative Service of the Government of India. His mother was a Sanskrit scholar. \"\n",
        "response = natural_language_understanding.analyze(\n",
        "    text=mytext2,\n",
        "    features=Features(relations=RelationsOptions())).get_result()\n",
        "for item in response['relations']:\n",
        "        print(item['type'])\n",
        "        for subitem in item['arguments']:\n",
        "            print(subitem['entities'])\n",
        "print()"
      ],
      "execution_count": null,
      "outputs": [
        {
          "output_type": "stream",
          "text": [
            "bornAt\n",
            "[{'type': 'Person', 'text': 'Nadella'}]\n",
            "[{'type': 'GeopoliticalEntity', 'text': 'Hyderabad'}]\n",
            "parentOf\n",
            "[{'type': 'Person', 'text': 'Bukkapuram Nadella Yugandher'}]\n",
            "[{'type': 'Person', 'text': 'Nadella'}]\n",
            "employedBy\n",
            "[{'type': 'Person', 'text': 'Administrative'}]\n",
            "[{'type': 'GeopoliticalEntity', 'text': 'Indian', 'disambiguation': {'subtype': ['Country']}}]\n",
            "managerOf\n",
            "[{'type': 'Person', 'text': 'Administrative'}]\n",
            "[{'type': 'Organization', 'text': 'Service', 'disambiguation': {'subtype': ['Government']}}]\n",
            "parentOf\n",
            "[{'type': 'Person', 'text': 'scholar'}]\n",
            "[{'type': 'Person', 'text': 'Nadella'}]\n",
            "locatedAt\n",
            "[{'type': 'Person', 'text': 'scholar'}]\n",
            "[{'type': 'Facility', 'text': 'Sanskrit'}]\n",
            "locatedAt\n",
            "[{'type': 'Person', 'text': 'scholar'}]\n",
            "[{'type': 'Facility', 'text': 'Sanskrit'}]\n",
            "\n"
          ],
          "name": "stdout"
        }
      ]
    },
    {
      "cell_type": "code",
      "metadata": {
        "id": "e2zb76UAcngh",
        "outputId": "ece2717a-e839-4b95-ae4e-cc7eb17ab4a5"
      },
      "source": [
        "mytext3 = \"\"\"Nadella attended the Hyderabad Public School, Begumpet [12] before receiving\n",
        "a bachelor's in electrical engineering[13] from the Manipal Institute of Technology \n",
        "(then part of Mangalore University) in Karnataka in 1988.\"\"\"\n",
        "response = natural_language_understanding.analyze(\n",
        "    text=mytext3,\n",
        "    features=Features(relations=RelationsOptions())).get_result()\n",
        "for item in response['relations']:\n",
        "        print(item['type'])\n",
        "        for subitem in item['arguments']:\n",
        "            print(subitem['entities'])"
      ],
      "execution_count": null,
      "outputs": [
        {
          "output_type": "stream",
          "text": [
            "employedBy\n",
            "[{'type': 'Person', 'text': 'Nadella'}]\n",
            "[{'type': 'Organization', 'text': 'Hyderabad Public School', 'disambiguation': {'subtype': ['Commercial']}}]\n",
            "awardedTo\n",
            "[{'type': 'Degree', 'text': 'bachelor'}]\n",
            "[{'type': 'Person', 'text': 'Nadella'}]\n",
            "educatedAt\n",
            "[{'type': 'Person', 'text': 'Nadella'}]\n",
            "[{'type': 'Organization', 'text': 'Manipal Institute of Technology', 'disambiguation': {'subtype': ['Educational']}}]\n",
            "educatedAt\n",
            "[{'type': 'Person', 'text': 'Nadella'}]\n",
            "[{'type': 'Organization', 'text': 'Mangalore University', 'disambiguation': {'subtype': ['Educational']}}]\n",
            "awardedBy\n",
            "[{'type': 'Degree', 'text': 'bachelor'}]\n",
            "[{'type': 'Organization', 'text': 'Manipal Institute of Technology', 'disambiguation': {'subtype': ['Educational']}}]\n",
            "basedIn\n",
            "[{'type': 'Organization', 'text': 'Mangalore University', 'disambiguation': {'subtype': ['Educational']}}]\n",
            "[{'type': 'GeopoliticalEntity', 'text': 'Karnataka'}]\n"
          ],
          "name": "stdout"
        }
      ]
    },
    {
      "cell_type": "code",
      "metadata": {
        "id": "5gwqG63Rcngk"
      },
      "source": [
        ""
      ],
      "execution_count": null,
      "outputs": []
    }
  ]
}