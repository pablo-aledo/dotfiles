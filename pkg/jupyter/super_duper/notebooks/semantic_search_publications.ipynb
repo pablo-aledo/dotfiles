{
  "nbformat": 4,
  "nbformat_minor": 0,
  "metadata": {
    "colab": {
      "name": "semantic_search_publications.ipynb",
      "provenance": []
    },
    "kernelspec": {
      "name": "python3",
      "display_name": "Python 3"
    },
    "accelerator": "GPU",
    "widgets": {
      "application/vnd.jupyter.widget-state+json": {
        "a451d11dedf44e77ace0900c237de87b": {
          "model_module": "@jupyter-widgets/controls",
          "model_name": "HBoxModel",
          "state": {
            "_view_name": "HBoxView",
            "_dom_classes": [],
            "_model_name": "HBoxModel",
            "_view_module": "@jupyter-widgets/controls",
            "_model_module_version": "1.5.0",
            "_view_count": null,
            "_view_module_version": "1.5.0",
            "box_style": "",
            "layout": "IPY_MODEL_8e7a6288de43440d9d7e43b0e1a69061",
            "_model_module": "@jupyter-widgets/controls",
            "children": [
              "IPY_MODEL_552b4ad218954dada27026cd398619b3",
              "IPY_MODEL_b4777152fd3044639fa913c33b22b9a8"
            ]
          }
        },
        "8e7a6288de43440d9d7e43b0e1a69061": {
          "model_module": "@jupyter-widgets/base",
          "model_name": "LayoutModel",
          "state": {
            "_view_name": "LayoutView",
            "grid_template_rows": null,
            "right": null,
            "justify_content": null,
            "_view_module": "@jupyter-widgets/base",
            "overflow": null,
            "_model_module_version": "1.2.0",
            "_view_count": null,
            "flex_flow": null,
            "width": null,
            "min_width": null,
            "border": null,
            "align_items": null,
            "bottom": null,
            "_model_module": "@jupyter-widgets/base",
            "top": null,
            "grid_column": null,
            "overflow_y": null,
            "overflow_x": null,
            "grid_auto_flow": null,
            "grid_area": null,
            "grid_template_columns": null,
            "flex": null,
            "_model_name": "LayoutModel",
            "justify_items": null,
            "grid_row": null,
            "max_height": null,
            "align_content": null,
            "visibility": null,
            "align_self": null,
            "height": null,
            "min_height": null,
            "padding": null,
            "grid_auto_rows": null,
            "grid_gap": null,
            "max_width": null,
            "order": null,
            "_view_module_version": "1.2.0",
            "grid_template_areas": null,
            "object_position": null,
            "object_fit": null,
            "grid_auto_columns": null,
            "margin": null,
            "display": null,
            "left": null
          }
        },
        "552b4ad218954dada27026cd398619b3": {
          "model_module": "@jupyter-widgets/controls",
          "model_name": "FloatProgressModel",
          "state": {
            "_view_name": "ProgressView",
            "style": "IPY_MODEL_2d13b2b2a75448cc8874e894d1fe6fe6",
            "_dom_classes": [],
            "description": "100%",
            "_model_name": "FloatProgressModel",
            "bar_style": "success",
            "max": 1104641,
            "_view_module": "@jupyter-widgets/controls",
            "_model_module_version": "1.5.0",
            "value": 1104641,
            "_view_count": null,
            "_view_module_version": "1.5.0",
            "orientation": "horizontal",
            "min": 0,
            "description_tooltip": null,
            "_model_module": "@jupyter-widgets/controls",
            "layout": "IPY_MODEL_42e1eda0790042ce933552cf77bbe357"
          }
        },
        "b4777152fd3044639fa913c33b22b9a8": {
          "model_module": "@jupyter-widgets/controls",
          "model_name": "HTMLModel",
          "state": {
            "_view_name": "HTMLView",
            "style": "IPY_MODEL_fe830bfa28e1403a8bd1021bdf34c082",
            "_dom_classes": [],
            "description": "",
            "_model_name": "HTMLModel",
            "placeholder": "​",
            "_view_module": "@jupyter-widgets/controls",
            "_model_module_version": "1.5.0",
            "value": " 1.10M/1.10M [00:00&lt;00:00, 4.74MB/s]",
            "_view_count": null,
            "_view_module_version": "1.5.0",
            "description_tooltip": null,
            "_model_module": "@jupyter-widgets/controls",
            "layout": "IPY_MODEL_16f238a9a4064e7e9d478c9bf24a552d"
          }
        },
        "2d13b2b2a75448cc8874e894d1fe6fe6": {
          "model_module": "@jupyter-widgets/controls",
          "model_name": "ProgressStyleModel",
          "state": {
            "_view_name": "StyleView",
            "_model_name": "ProgressStyleModel",
            "description_width": "initial",
            "_view_module": "@jupyter-widgets/base",
            "_model_module_version": "1.5.0",
            "_view_count": null,
            "_view_module_version": "1.2.0",
            "bar_color": null,
            "_model_module": "@jupyter-widgets/controls"
          }
        },
        "42e1eda0790042ce933552cf77bbe357": {
          "model_module": "@jupyter-widgets/base",
          "model_name": "LayoutModel",
          "state": {
            "_view_name": "LayoutView",
            "grid_template_rows": null,
            "right": null,
            "justify_content": null,
            "_view_module": "@jupyter-widgets/base",
            "overflow": null,
            "_model_module_version": "1.2.0",
            "_view_count": null,
            "flex_flow": null,
            "width": null,
            "min_width": null,
            "border": null,
            "align_items": null,
            "bottom": null,
            "_model_module": "@jupyter-widgets/base",
            "top": null,
            "grid_column": null,
            "overflow_y": null,
            "overflow_x": null,
            "grid_auto_flow": null,
            "grid_area": null,
            "grid_template_columns": null,
            "flex": null,
            "_model_name": "LayoutModel",
            "justify_items": null,
            "grid_row": null,
            "max_height": null,
            "align_content": null,
            "visibility": null,
            "align_self": null,
            "height": null,
            "min_height": null,
            "padding": null,
            "grid_auto_rows": null,
            "grid_gap": null,
            "max_width": null,
            "order": null,
            "_view_module_version": "1.2.0",
            "grid_template_areas": null,
            "object_position": null,
            "object_fit": null,
            "grid_auto_columns": null,
            "margin": null,
            "display": null,
            "left": null
          }
        },
        "fe830bfa28e1403a8bd1021bdf34c082": {
          "model_module": "@jupyter-widgets/controls",
          "model_name": "DescriptionStyleModel",
          "state": {
            "_view_name": "StyleView",
            "_model_name": "DescriptionStyleModel",
            "description_width": "",
            "_view_module": "@jupyter-widgets/base",
            "_model_module_version": "1.5.0",
            "_view_count": null,
            "_view_module_version": "1.2.0",
            "_model_module": "@jupyter-widgets/controls"
          }
        },
        "16f238a9a4064e7e9d478c9bf24a552d": {
          "model_module": "@jupyter-widgets/base",
          "model_name": "LayoutModel",
          "state": {
            "_view_name": "LayoutView",
            "grid_template_rows": null,
            "right": null,
            "justify_content": null,
            "_view_module": "@jupyter-widgets/base",
            "overflow": null,
            "_model_module_version": "1.2.0",
            "_view_count": null,
            "flex_flow": null,
            "width": null,
            "min_width": null,
            "border": null,
            "align_items": null,
            "bottom": null,
            "_model_module": "@jupyter-widgets/base",
            "top": null,
            "grid_column": null,
            "overflow_y": null,
            "overflow_x": null,
            "grid_auto_flow": null,
            "grid_area": null,
            "grid_template_columns": null,
            "flex": null,
            "_model_name": "LayoutModel",
            "justify_items": null,
            "grid_row": null,
            "max_height": null,
            "align_content": null,
            "visibility": null,
            "align_self": null,
            "height": null,
            "min_height": null,
            "padding": null,
            "grid_auto_rows": null,
            "grid_gap": null,
            "max_width": null,
            "order": null,
            "_view_module_version": "1.2.0",
            "grid_template_areas": null,
            "object_position": null,
            "object_fit": null,
            "grid_auto_columns": null,
            "margin": null,
            "display": null,
            "left": null
          }
        },
        "deed5f15b32e4869853de8bb5fddcf80": {
          "model_module": "@jupyter-widgets/controls",
          "model_name": "HBoxModel",
          "state": {
            "_view_name": "HBoxView",
            "_dom_classes": [],
            "_model_name": "HBoxModel",
            "_view_module": "@jupyter-widgets/controls",
            "_model_module_version": "1.5.0",
            "_view_count": null,
            "_view_module_version": "1.5.0",
            "box_style": "",
            "layout": "IPY_MODEL_f2ea806beded4b18ba1a07691df9e44a",
            "_model_module": "@jupyter-widgets/controls",
            "children": [
              "IPY_MODEL_5970b0bdcf014f88b3a012be05500855",
              "IPY_MODEL_0d570ca6c78a45da8726183091fd5ae2"
            ]
          }
        },
        "f2ea806beded4b18ba1a07691df9e44a": {
          "model_module": "@jupyter-widgets/base",
          "model_name": "LayoutModel",
          "state": {
            "_view_name": "LayoutView",
            "grid_template_rows": null,
            "right": null,
            "justify_content": null,
            "_view_module": "@jupyter-widgets/base",
            "overflow": null,
            "_model_module_version": "1.2.0",
            "_view_count": null,
            "flex_flow": null,
            "width": null,
            "min_width": null,
            "border": null,
            "align_items": null,
            "bottom": null,
            "_model_module": "@jupyter-widgets/base",
            "top": null,
            "grid_column": null,
            "overflow_y": null,
            "overflow_x": null,
            "grid_auto_flow": null,
            "grid_area": null,
            "grid_template_columns": null,
            "flex": null,
            "_model_name": "LayoutModel",
            "justify_items": null,
            "grid_row": null,
            "max_height": null,
            "align_content": null,
            "visibility": null,
            "align_self": null,
            "height": null,
            "min_height": null,
            "padding": null,
            "grid_auto_rows": null,
            "grid_gap": null,
            "max_width": null,
            "order": null,
            "_view_module_version": "1.2.0",
            "grid_template_areas": null,
            "object_position": null,
            "object_fit": null,
            "grid_auto_columns": null,
            "margin": null,
            "display": null,
            "left": null
          }
        },
        "5970b0bdcf014f88b3a012be05500855": {
          "model_module": "@jupyter-widgets/controls",
          "model_name": "FloatProgressModel",
          "state": {
            "_view_name": "ProgressView",
            "style": "IPY_MODEL_def4f2a27f8d4809a5948e5cdaf299e2",
            "_dom_classes": [],
            "description": "100%",
            "_model_name": "FloatProgressModel",
            "bar_style": "success",
            "max": 408146277,
            "_view_module": "@jupyter-widgets/controls",
            "_model_module_version": "1.5.0",
            "value": 408146277,
            "_view_count": null,
            "_view_module_version": "1.5.0",
            "orientation": "horizontal",
            "min": 0,
            "description_tooltip": null,
            "_model_module": "@jupyter-widgets/controls",
            "layout": "IPY_MODEL_282ec926d6c64aafb3ee507c0657b41b"
          }
        },
        "0d570ca6c78a45da8726183091fd5ae2": {
          "model_module": "@jupyter-widgets/controls",
          "model_name": "HTMLModel",
          "state": {
            "_view_name": "HTMLView",
            "style": "IPY_MODEL_3e7b331ae74546f4b528ff637d62be06",
            "_dom_classes": [],
            "description": "",
            "_model_name": "HTMLModel",
            "placeholder": "​",
            "_view_module": "@jupyter-widgets/controls",
            "_model_module_version": "1.5.0",
            "value": " 408M/408M [00:16&lt;00:00, 24.7MB/s]",
            "_view_count": null,
            "_view_module_version": "1.5.0",
            "description_tooltip": null,
            "_model_module": "@jupyter-widgets/controls",
            "layout": "IPY_MODEL_e4e43b24891e40dda2241bb396436c0e"
          }
        },
        "def4f2a27f8d4809a5948e5cdaf299e2": {
          "model_module": "@jupyter-widgets/controls",
          "model_name": "ProgressStyleModel",
          "state": {
            "_view_name": "StyleView",
            "_model_name": "ProgressStyleModel",
            "description_width": "initial",
            "_view_module": "@jupyter-widgets/base",
            "_model_module_version": "1.5.0",
            "_view_count": null,
            "_view_module_version": "1.2.0",
            "bar_color": null,
            "_model_module": "@jupyter-widgets/controls"
          }
        },
        "282ec926d6c64aafb3ee507c0657b41b": {
          "model_module": "@jupyter-widgets/base",
          "model_name": "LayoutModel",
          "state": {
            "_view_name": "LayoutView",
            "grid_template_rows": null,
            "right": null,
            "justify_content": null,
            "_view_module": "@jupyter-widgets/base",
            "overflow": null,
            "_model_module_version": "1.2.0",
            "_view_count": null,
            "flex_flow": null,
            "width": null,
            "min_width": null,
            "border": null,
            "align_items": null,
            "bottom": null,
            "_model_module": "@jupyter-widgets/base",
            "top": null,
            "grid_column": null,
            "overflow_y": null,
            "overflow_x": null,
            "grid_auto_flow": null,
            "grid_area": null,
            "grid_template_columns": null,
            "flex": null,
            "_model_name": "LayoutModel",
            "justify_items": null,
            "grid_row": null,
            "max_height": null,
            "align_content": null,
            "visibility": null,
            "align_self": null,
            "height": null,
            "min_height": null,
            "padding": null,
            "grid_auto_rows": null,
            "grid_gap": null,
            "max_width": null,
            "order": null,
            "_view_module_version": "1.2.0",
            "grid_template_areas": null,
            "object_position": null,
            "object_fit": null,
            "grid_auto_columns": null,
            "margin": null,
            "display": null,
            "left": null
          }
        },
        "3e7b331ae74546f4b528ff637d62be06": {
          "model_module": "@jupyter-widgets/controls",
          "model_name": "DescriptionStyleModel",
          "state": {
            "_view_name": "StyleView",
            "_model_name": "DescriptionStyleModel",
            "description_width": "",
            "_view_module": "@jupyter-widgets/base",
            "_model_module_version": "1.5.0",
            "_view_count": null,
            "_view_module_version": "1.2.0",
            "_model_module": "@jupyter-widgets/controls"
          }
        },
        "e4e43b24891e40dda2241bb396436c0e": {
          "model_module": "@jupyter-widgets/base",
          "model_name": "LayoutModel",
          "state": {
            "_view_name": "LayoutView",
            "grid_template_rows": null,
            "right": null,
            "justify_content": null,
            "_view_module": "@jupyter-widgets/base",
            "overflow": null,
            "_model_module_version": "1.2.0",
            "_view_count": null,
            "flex_flow": null,
            "width": null,
            "min_width": null,
            "border": null,
            "align_items": null,
            "bottom": null,
            "_model_module": "@jupyter-widgets/base",
            "top": null,
            "grid_column": null,
            "overflow_y": null,
            "overflow_x": null,
            "grid_auto_flow": null,
            "grid_area": null,
            "grid_template_columns": null,
            "flex": null,
            "_model_name": "LayoutModel",
            "justify_items": null,
            "grid_row": null,
            "max_height": null,
            "align_content": null,
            "visibility": null,
            "align_self": null,
            "height": null,
            "min_height": null,
            "padding": null,
            "grid_auto_rows": null,
            "grid_gap": null,
            "max_width": null,
            "order": null,
            "_view_module_version": "1.2.0",
            "grid_template_areas": null,
            "object_position": null,
            "object_fit": null,
            "grid_auto_columns": null,
            "margin": null,
            "display": null,
            "left": null
          }
        }
      }
    }
  },
  "cells": [
    {
      "cell_type": "markdown",
      "metadata": {
        "id": "5PmytdgGNU5w"
      },
      "source": [
        "# Semantic Search in Publications\n",
        "\n",
        "This notebook demonstrates how [sentence-transformers](https://www.sbert.net) and the [SPECTER](https://github.com/allenai/specter) model can be used to find similar publications.\n",
        "\n",
        "As corpus, we use all EMNLP publications from 2016 - 2018.\n",
        "\n",
        "We then search for similar papers using papers that have been presented at EMNLP 2019 / 2020.\n"
      ]
    },
    {
      "cell_type": "code",
      "metadata": {
        "id": "lVftsxZXEgsH",
        "colab": {
          "base_uri": "https://localhost:8080/"
        },
        "outputId": "93b74c78-97b6-4fc9-c242-5c1d671c842d"
      },
      "source": [
        "!pip install sentence-transformers"
      ],
      "execution_count": null,
      "outputs": [
        {
          "output_type": "stream",
          "text": [
            "Collecting sentence-transformers\n",
            "\u001b[?25l  Downloading https://files.pythonhosted.org/packages/c4/87/49dc49e13ac107ce912c2f3f3fd92252c6d4221e88d1e6c16747044a11d8/sentence-transformers-1.1.0.tar.gz (78kB)\n",
            "\u001b[K     |████████████████████████████████| 81kB 5.7MB/s \n",
            "\u001b[?25hCollecting transformers<5.0.0,>=3.1.0\n",
            "\u001b[?25l  Downloading https://files.pythonhosted.org/packages/d8/b2/57495b5309f09fa501866e225c84532d1fd89536ea62406b2181933fb418/transformers-4.5.1-py3-none-any.whl (2.1MB)\n",
            "\u001b[K     |████████████████████████████████| 2.1MB 16.1MB/s \n",
            "\u001b[?25hRequirement already satisfied: tqdm in /usr/local/lib/python3.7/dist-packages (from sentence-transformers) (4.41.1)\n",
            "Requirement already satisfied: torch>=1.6.0 in /usr/local/lib/python3.7/dist-packages (from sentence-transformers) (1.8.1+cu101)\n",
            "Requirement already satisfied: numpy in /usr/local/lib/python3.7/dist-packages (from sentence-transformers) (1.19.5)\n",
            "Requirement already satisfied: scikit-learn in /usr/local/lib/python3.7/dist-packages (from sentence-transformers) (0.22.2.post1)\n",
            "Requirement already satisfied: scipy in /usr/local/lib/python3.7/dist-packages (from sentence-transformers) (1.4.1)\n",
            "Requirement already satisfied: nltk in /usr/local/lib/python3.7/dist-packages (from sentence-transformers) (3.2.5)\n",
            "Collecting sentencepiece\n",
            "\u001b[?25l  Downloading https://files.pythonhosted.org/packages/f5/99/e0808cb947ba10f575839c43e8fafc9cc44e4a7a2c8f79c60db48220a577/sentencepiece-0.1.95-cp37-cp37m-manylinux2014_x86_64.whl (1.2MB)\n",
            "\u001b[K     |████████████████████████████████| 1.2MB 35.6MB/s \n",
            "\u001b[?25hRequirement already satisfied: requests in /usr/local/lib/python3.7/dist-packages (from transformers<5.0.0,>=3.1.0->sentence-transformers) (2.23.0)\n",
            "Requirement already satisfied: packaging in /usr/local/lib/python3.7/dist-packages (from transformers<5.0.0,>=3.1.0->sentence-transformers) (20.9)\n",
            "Requirement already satisfied: importlib-metadata; python_version < \"3.8\" in /usr/local/lib/python3.7/dist-packages (from transformers<5.0.0,>=3.1.0->sentence-transformers) (3.10.1)\n",
            "Requirement already satisfied: filelock in /usr/local/lib/python3.7/dist-packages (from transformers<5.0.0,>=3.1.0->sentence-transformers) (3.0.12)\n",
            "Collecting tokenizers<0.11,>=0.10.1\n",
            "\u001b[?25l  Downloading https://files.pythonhosted.org/packages/ae/04/5b870f26a858552025a62f1649c20d29d2672c02ff3c3fb4c688ca46467a/tokenizers-0.10.2-cp37-cp37m-manylinux2010_x86_64.whl (3.3MB)\n",
            "\u001b[K     |████████████████████████████████| 3.3MB 40.1MB/s \n",
            "\u001b[?25hRequirement already satisfied: regex!=2019.12.17 in /usr/local/lib/python3.7/dist-packages (from transformers<5.0.0,>=3.1.0->sentence-transformers) (2019.12.20)\n",
            "Collecting sacremoses\n",
            "\u001b[?25l  Downloading https://files.pythonhosted.org/packages/75/ee/67241dc87f266093c533a2d4d3d69438e57d7a90abb216fa076e7d475d4a/sacremoses-0.0.45-py3-none-any.whl (895kB)\n",
            "\u001b[K     |████████████████████████████████| 901kB 33.9MB/s \n",
            "\u001b[?25hRequirement already satisfied: typing-extensions in /usr/local/lib/python3.7/dist-packages (from torch>=1.6.0->sentence-transformers) (3.7.4.3)\n",
            "Requirement already satisfied: joblib>=0.11 in /usr/local/lib/python3.7/dist-packages (from scikit-learn->sentence-transformers) (1.0.1)\n",
            "Requirement already satisfied: six in /usr/local/lib/python3.7/dist-packages (from nltk->sentence-transformers) (1.15.0)\n",
            "Requirement already satisfied: idna<3,>=2.5 in /usr/local/lib/python3.7/dist-packages (from requests->transformers<5.0.0,>=3.1.0->sentence-transformers) (2.10)\n",
            "Requirement already satisfied: urllib3!=1.25.0,!=1.25.1,<1.26,>=1.21.1 in /usr/local/lib/python3.7/dist-packages (from requests->transformers<5.0.0,>=3.1.0->sentence-transformers) (1.24.3)\n",
            "Requirement already satisfied: certifi>=2017.4.17 in /usr/local/lib/python3.7/dist-packages (from requests->transformers<5.0.0,>=3.1.0->sentence-transformers) (2020.12.5)\n",
            "Requirement already satisfied: chardet<4,>=3.0.2 in /usr/local/lib/python3.7/dist-packages (from requests->transformers<5.0.0,>=3.1.0->sentence-transformers) (3.0.4)\n",
            "Requirement already satisfied: pyparsing>=2.0.2 in /usr/local/lib/python3.7/dist-packages (from packaging->transformers<5.0.0,>=3.1.0->sentence-transformers) (2.4.7)\n",
            "Requirement already satisfied: zipp>=0.5 in /usr/local/lib/python3.7/dist-packages (from importlib-metadata; python_version < \"3.8\"->transformers<5.0.0,>=3.1.0->sentence-transformers) (3.4.1)\n",
            "Requirement already satisfied: click in /usr/local/lib/python3.7/dist-packages (from sacremoses->transformers<5.0.0,>=3.1.0->sentence-transformers) (7.1.2)\n",
            "Building wheels for collected packages: sentence-transformers\n",
            "  Building wheel for sentence-transformers (setup.py) ... \u001b[?25l\u001b[?25hdone\n",
            "  Created wheel for sentence-transformers: filename=sentence_transformers-1.1.0-cp37-none-any.whl size=119615 sha256=466b9c73bfd4a82aa16feb6d1c706cc7f5f90696b1fb507e0aabeab574ca6938\n",
            "  Stored in directory: /root/.cache/pip/wheels/84/cb/21/1066bff3027215c760ca14a198f698bca8fccb92e33e2327eb\n",
            "Successfully built sentence-transformers\n",
            "Installing collected packages: tokenizers, sacremoses, transformers, sentencepiece, sentence-transformers\n",
            "Successfully installed sacremoses-0.0.45 sentence-transformers-1.1.0 sentencepiece-0.1.95 tokenizers-0.10.2 transformers-4.5.1\n"
          ],
          "name": "stdout"
        }
      ]
    },
    {
      "cell_type": "code",
      "metadata": {
        "colab": {
          "base_uri": "https://localhost:8080/",
          "height": 84,
          "referenced_widgets": [
            "a451d11dedf44e77ace0900c237de87b",
            "8e7a6288de43440d9d7e43b0e1a69061",
            "552b4ad218954dada27026cd398619b3",
            "b4777152fd3044639fa913c33b22b9a8",
            "2d13b2b2a75448cc8874e894d1fe6fe6",
            "42e1eda0790042ce933552cf77bbe357",
            "fe830bfa28e1403a8bd1021bdf34c082",
            "16f238a9a4064e7e9d478c9bf24a552d"
          ]
        },
        "id": "W8o7tQg4G2rg",
        "outputId": "e5d8a8d1-8488-422c-a516-3f17d073f34a"
      },
      "source": [
        "import json\n",
        "import os\n",
        "from sentence_transformers import SentenceTransformer, util\n",
        "\n",
        "#First, we load the papers dataset (with title and abstract information)\n",
        "dataset_file = 'emnlp2016-2018.json'\n",
        "\n",
        "if not os.path.exists(dataset_file):\n",
        "  util.http_get(\"https://sbert.net/datasets/emnlp2016-2018.json\", dataset_file)\n",
        "\n",
        "with open(dataset_file) as fIn:\n",
        "  papers = json.load(fIn)\n",
        "\n",
        "print(len(papers), \"papers loaded\")"
      ],
      "execution_count": null,
      "outputs": [
        {
          "output_type": "display_data",
          "data": {
            "application/vnd.jupyter.widget-view+json": {
              "model_id": "a451d11dedf44e77ace0900c237de87b",
              "version_minor": 0,
              "version_major": 2
            },
            "text/plain": [
              "HBox(children=(FloatProgress(value=0.0, max=1104641.0), HTML(value='')))"
            ]
          },
          "metadata": {
            "tags": []
          }
        },
        {
          "output_type": "stream",
          "text": [
            "\n",
            "974 papers loaded\n"
          ],
          "name": "stdout"
        }
      ]
    },
    {
      "cell_type": "code",
      "metadata": {
        "id": "14qsqKZ2HfVy",
        "colab": {
          "base_uri": "https://localhost:8080/",
          "height": 66,
          "referenced_widgets": [
            "deed5f15b32e4869853de8bb5fddcf80",
            "f2ea806beded4b18ba1a07691df9e44a",
            "5970b0bdcf014f88b3a012be05500855",
            "0d570ca6c78a45da8726183091fd5ae2",
            "def4f2a27f8d4809a5948e5cdaf299e2",
            "282ec926d6c64aafb3ee507c0657b41b",
            "3e7b331ae74546f4b528ff637d62be06",
            "e4e43b24891e40dda2241bb396436c0e"
          ]
        },
        "outputId": "6674d7be-5b21-4b02-d60c-dc013b953527"
      },
      "source": [
        "#We then load the allenai-specter model with SentenceTransformers\n",
        "model = SentenceTransformer('allenai-specter')\n",
        "\n",
        "#To encode the papers, we must combine the title and the abstracts to a single string\n",
        "paper_texts = [paper['title'] + '[SEP]' + paper['abstract'] for paper in papers]\n",
        "\n",
        "#Compute embeddings for all papers\n",
        "corpus_embeddings = model.encode(paper_texts, convert_to_tensor=True)\n"
      ],
      "execution_count": null,
      "outputs": [
        {
          "output_type": "display_data",
          "data": {
            "application/vnd.jupyter.widget-view+json": {
              "model_id": "deed5f15b32e4869853de8bb5fddcf80",
              "version_minor": 0,
              "version_major": 2
            },
            "text/plain": [
              "HBox(children=(FloatProgress(value=0.0, max=408146277.0), HTML(value='')))"
            ]
          },
          "metadata": {
            "tags": []
          }
        },
        {
          "output_type": "stream",
          "text": [
            "\n"
          ],
          "name": "stdout"
        }
      ]
    },
    {
      "cell_type": "code",
      "metadata": {
        "id": "2bbfpKMwJG9Q"
      },
      "source": [
        "#We define a function, given title & abstract, searches our corpus for relevant (similar) papers\n",
        "def search_papers(title, abstract):\n",
        "  query_embedding = model.encode(title+'[SEP]'+abstract, convert_to_tensor=True)\n",
        "\n",
        "  search_hits = util.semantic_search(query_embedding, corpus_embeddings)\n",
        "  search_hits = search_hits[0]  #Get the hits for the first query\n",
        "\n",
        "  print(\"Paper:\", title)\n",
        "  print(\"Most similar papers:\")\n",
        "  for hit in search_hits:\n",
        "    related_paper = papers[hit['corpus_id']]\n",
        "    print(\"{:.2f}\\t{}\\t{} {}\".format(hit['score'], related_paper['title'], related_paper['venue'], related_paper['year']))"
      ],
      "execution_count": null,
      "outputs": []
    },
    {
      "cell_type": "markdown",
      "metadata": {
        "id": "R3tGTzylOMqp"
      },
      "source": [
        "## Search\n",
        "Now we search for some papers that have been presented at EMNLP 2019 and 2020."
      ]
    },
    {
      "cell_type": "code",
      "metadata": {
        "colab": {
          "base_uri": "https://localhost:8080/"
        },
        "id": "wzByWa1AH3J8",
        "outputId": "96befeea-bf02-4f60-c1bd-3c7c12929401"
      },
      "source": [
        "# This paper was the EMNLP 2019 Best Paper\n",
        "search_papers(title='Specializing Word Embeddings (for Parsing) by Information Bottleneck', \n",
        "              abstract='Pre-trained word embeddings like ELMo and BERT contain rich syntactic and semantic information, resulting in state-of-the-art performance on various tasks. We propose a very fast variational information bottleneck (VIB) method to nonlinearly compress these embeddings, keeping only the information that helps a discriminative parser. We compress each word embedding to either a discrete tag or a continuous vector. In the discrete version, our automatically compressed tags form an alternative tag set: we show experimentally that our tags capture most of the information in traditional POS tag annotations, but our tag sequences can be parsed more accurately at the same level of tag granularity. In the continuous version, we show experimentally that moderately compressing the word embeddings by our method yields a more accurate parser in 8 of 9 languages, unlike simple dimensionality reduction.')\n"
      ],
      "execution_count": null,
      "outputs": [
        {
          "output_type": "stream",
          "text": [
            "Paper: Specializing Word Embeddings (for Parsing) by Information Bottleneck\n",
            "Most similar papers:\n",
            "0.88\tAn Investigation of the Interactions Between Pre-Trained Word Embeddings, Character Models and POS Tags in Dependency Parsing\tEMNLP 2018\n",
            "0.87\tNORMA: Neighborhood Sensitive Maps for Multilingual Word Embeddings\tEMNLP 2018\n",
            "0.87\tGeneralizing Word Embeddings using Bag of Subwords\tEMNLP 2018\n",
            "0.87\tWord Embeddings for Code-Mixed Language Processing\tEMNLP 2018\n",
            "0.87\tLAMB: A Good Shepherd of Morphologically Rich Languages\tEMNLP 2016\n",
            "0.87\tWord Mover's Embedding: From Word2Vec to Document Embedding\tEMNLP 2018\n",
            "0.87\tCharagram: Embedding Words and Sentences via Character n-grams\tEMNLP 2016\n",
            "0.87\tSegmentation-Free Word Embedding for Unsegmented Languages\tEMNLP 2017\n",
            "0.86\tAddressing Troublesome Words in Neural Machine Translation\tEMNLP 2018\n",
            "0.86\tConditional Word Embedding and Hypothesis Testing via Bayes-by-Backprop\tEMNLP 2018\n"
          ],
          "name": "stdout"
        }
      ]
    },
    {
      "cell_type": "code",
      "metadata": {
        "colab": {
          "base_uri": "https://localhost:8080/"
        },
        "id": "yRpOAhhNI58L",
        "outputId": "3eb08e26-146b-433b-a77c-17ce492171dc"
      },
      "source": [
        "# This paper was the EMNLP 2020 Best Paper\n",
        "search_papers(title='Digital Voicing of Silent Speech',\n",
        "              abstract='In this paper, we consider the task of digitally voicing silent speech, where silently mouthed words are converted to audible speech based on electromyography (EMG) sensor measurements that capture muscle impulses. While prior work has focused on training speech synthesis models from EMG collected during vocalized speech, we are the first to train from EMG collected during silently articulated speech. We introduce a method of training on silent EMG by transferring audio targets from vocalized to silent signals. Our method greatly improves intelligibility of audio generated from silent EMG compared to a baseline that only trains with vocalized data, decreasing transcription word error rate from 64% to 4% in one data condition and 88% to 68% in another. To spur further development on this task, we share our new dataset of silent and vocalized facial EMG measurements.')\n"
      ],
      "execution_count": null,
      "outputs": [
        {
          "output_type": "stream",
          "text": [
            "Paper: Digital Voicing of Silent Speech\n",
            "Most similar papers:\n",
            "0.82\tSession-level Language Modeling for Conversational Speech\tEMNLP 2018\n",
            "0.79\tNeural Multitask Learning for Simile Recognition\tEMNLP 2018\n",
            "0.78\tSpeech segmentation with a neural encoder model of working memory\tEMNLP 2017\n",
            "0.77\tMSMO: Multimodal Summarization with Multimodal Output\tEMNLP 2018\n",
            "0.77\tEstimating Marginal Probabilities of n-grams for Recurrent Neural Language Models\tEMNLP 2018\n",
            "0.76\tA Co-Attention Neural Network Model for Emotion Cause Analysis with Emotional Context Awareness\tEMNLP 2018\n",
            "0.76\tLearning Unsupervised Word Translations Without Adversaries\tEMNLP 2018\n",
            "0.75\tLarge Margin Neural Language Model\tEMNLP 2018\n",
            "0.75\tPhrase-Based & Neural Unsupervised Machine Translation\tEMNLP 2018\n",
            "0.75\tMultimodal Language Analysis with Recurrent Multistage Fusion\tEMNLP 2018\n"
          ],
          "name": "stdout"
        }
      ]
    },
    {
      "cell_type": "code",
      "metadata": {
        "colab": {
          "base_uri": "https://localhost:8080/"
        },
        "id": "4idfE76lJvXZ",
        "outputId": "201cd42e-2ac0-4f8d-b700-79f9360628d2"
      },
      "source": [
        "# This paper was a EMNLP 2020 Honourable Mention Papers\n",
        "search_papers(title='If beam search is the answer, what was the question?',\n",
        "              abstract='Quite surprisingly, exact maximum a posteriori (MAP) decoding of neural language generators frequently leads to low-quality results. Rather, most state-of-the-art results on language generation tasks are attained using beam search despite its overwhelmingly high search error rate. This implies that the MAP objective alone does not express the properties we desire in text, which merits the question: if beam search is the answer, what was the question? We frame beam search as the exact solution to a different decoding objective in order to gain insights into why high probability under a model alone may not indicate adequacy. We find that beam search enforces uniform information density in text, a property motivated by cognitive science. We suggest a set of decoding objectives that explicitly enforce this property and find that exact decoding with these objectives alleviates the problems encountered when decoding poorly calibrated language generation models. Additionally, we analyze the text produced using various decoding strategies and see that, in our neural machine translation experiments, the extent to which this property is adhered to strongly correlates with BLEU.')\n"
      ],
      "execution_count": null,
      "outputs": [
        {
          "output_type": "stream",
          "text": [
            "Paper: If beam search is the answer, what was the question?\n",
            "Most similar papers:\n",
            "0.91\tA Stable and Effective Learning Strategy for Trainable Greedy Decoding\tEMNLP 2018\n",
            "0.90\tBreaking the Beam Search Curse: A Study of (Re-)Scoring Methods and Stopping Criteria for Neural Machine Translation\tEMNLP 2018\n",
            "0.90\tWhy Neural Translations are the Right Length\tEMNLP 2016\n",
            "0.88\tLearning Neural Templates for Text Generation\tEMNLP 2018\n",
            "0.87\tTowards Decoding as Continuous Optimisation in Neural Machine Translation\tEMNLP 2017\n",
            "0.86\tA Tree-based Decoder for Neural Machine Translation\tEMNLP 2018\n",
            "0.86\tMemory-enhanced Decoder for Neural Machine Translation\tEMNLP 2016\n",
            "0.86\tTrainable Greedy Decoding for Neural Machine Translation\tEMNLP 2017\n",
            "0.86\tMulti-Reference Training with Pseudo-References for Neural Translation and Text Generation\tEMNLP 2018\n",
            "0.86\tAddressing Troublesome Words in Neural Machine Translation\tEMNLP 2018\n"
          ],
          "name": "stdout"
        }
      ]
    },
    {
      "cell_type": "code",
      "metadata": {
        "colab": {
          "base_uri": "https://localhost:8080/"
        },
        "id": "8IwC7wSqKE7_",
        "outputId": "6c747cad-7c9f-4c8b-9fea-95a82694faf6"
      },
      "source": [
        "# This paper was a EMNLP 2020 Honourable Mention Papers\n",
        "search_papers(title='Spot The Bot: A Robust and Efficient Framework for the Evaluation of Conversational Dialogue Systems',\n",
        "              abstract='The lack of time efficient and reliable evalu-ation methods is hampering the development of conversational dialogue systems (chat bots). Evaluations that require humans to converse with chat bots are time and cost intensive, put high cognitive demands on the human judges, and tend to yield low quality results. In this work, we introduce Spot The Bot, a cost-efficient and robust evaluation framework that replaces human-bot conversations with conversations between bots. Human judges then only annotate for each entity in a conversation whether they think it is human or not (assuming there are humans participants in these conversations). These annotations then allow us to rank chat bots regarding their ability to mimic conversational behaviour of humans. Since we expect that all bots are eventually recognized as such, we incorporate a metric that measures which chat bot is able to uphold human-like be-havior the longest, i.e.Survival Analysis. This metric has the ability to correlate a bot’s performance to certain of its characteristics (e.g.fluency or sensibleness), yielding interpretable results. The comparably low cost of our frame-work allows for frequent evaluations of chatbots during their evaluation cycle. We empirically validate our claims by applying Spot The Bot to three domains, evaluating several state-of-the-art chat bots, and drawing comparisonsto related work. The framework is released asa ready-to-use tool.')\n"
      ],
      "execution_count": null,
      "outputs": [
        {
          "output_type": "stream",
          "text": [
            "Paper: Spot The Bot: A Robust and Efficient Framework for the Evaluation of Conversational Dialogue Systems\n",
            "Most similar papers:\n",
            "0.86\tMulti-view Response Selection for Human-Computer Conversation\tEMNLP 2016\n",
            "0.84\tPatterns of Argumentation Strategies across Topics\tEMNLP 2017\n",
            "0.84\tNatural Language Does Not Emerge ‘Naturally’ in Multi-Agent Dialog\tEMNLP 2017\n",
            "0.83\tTowards Exploiting Background Knowledge for Building Conversation Systems\tEMNLP 2018\n",
            "0.83\tAirDialogue: An Environment for Goal-Oriented Dialogue Research\tEMNLP 2018\n",
            "0.82\tWikiConv: A Corpus of the Complete Conversational History of a Large Online Collaborative Community\tEMNLP 2018\n",
            "0.82\tSpider: A Large-Scale Human-Labeled Dataset for Complex and Cross-Domain Semantic Parsing and Text-to-SQL Task\tEMNLP 2018\n",
            "0.82\tThe Teams Corpus and Entrainment in Multi-Party Spoken Dialogues\tEMNLP 2016\n",
            "0.81\tDeal or No Deal? End-to-End Learning of Negotiation Dialogues\tEMNLP 2017\n",
            "0.81\tMultiWOZ - A Large-Scale Multi-Domain Wizard-of-Oz Dataset for Task-Oriented Dialogue Modelling\tEMNLP 2018\n"
          ],
          "name": "stdout"
        }
      ]
    },
    {
      "cell_type": "code",
      "metadata": {
        "colab": {
          "base_uri": "https://localhost:8080/"
        },
        "id": "ePnbJYKSO4gE",
        "outputId": "a92eecfc-2418-4a62-8dfd-462853af4896"
      },
      "source": [
        "# EMNLP 2020 paper on making Sentence-BERT multilingual\n",
        "search_papers(title='Making Monolingual Sentence Embeddings Multilingual using Knowledge Distillation',\n",
        "              abstract='We present an easy and efficient method to extend existing sentence embedding models to new languages. This allows to create multilingual versions from previously monolingual models. The training is based on the idea that a translated sentence should be mapped to the same location in the vector space as the original sentence. We use the original (monolingual) model to generate sentence embeddings for the source language and then train a new system on translated sentences to mimic the original model. Compared to other methods for training multilingual sentence embeddings, this approach has several advantages: It is easy to extend existing models with relatively few samples to new languages, it is easier to ensure desired properties for the vector space, and the hardware requirements for training is lower. We demonstrate the effectiveness of our approach for 50+ languages from various language families. Code to extend sentence embeddings models to more than 400 languages is publicly available.')\n"
      ],
      "execution_count": null,
      "outputs": [
        {
          "output_type": "stream",
          "text": [
            "Paper: Making Monolingual Sentence Embeddings Multilingual using Knowledge Distillation\n",
            "Most similar papers:\n",
            "0.90\tSentence Compression for Arbitrary Languages via Multilingual Pivoting\tEMNLP 2018\n",
            "0.90\tLearning Crosslingual Word Embeddings without Bilingual Corpora\tEMNLP 2016\n",
            "0.89\tUnsupervised Multilingual Word Embeddings\tEMNLP 2018\n",
            "0.89\tInferLite: Simple Universal Sentence Representations from Natural Language Inference Data\tEMNLP 2018\n",
            "0.88\tImproving Cross-Lingual Word Embeddings by Meeting in the Middle\tEMNLP 2018\n",
            "0.88\tDynamic Meta-Embeddings for Improved Sentence Representations\tEMNLP 2018\n",
            "0.88\tPorting an Open Information Extraction System from English to German\tEMNLP 2016\n",
            "0.88\tUnsupervised Statistical Machine Translation\tEMNLP 2018\n",
            "0.87\tContextual Parameter Generation for Universal Neural Machine Translation\tEMNLP 2018\n",
            "0.87\tAdapting Word Embeddings to New Languages with Morphological and Phonological Subword Representations\tEMNLP 2018\n"
          ],
          "name": "stdout"
        }
      ]
    }
  ]
}