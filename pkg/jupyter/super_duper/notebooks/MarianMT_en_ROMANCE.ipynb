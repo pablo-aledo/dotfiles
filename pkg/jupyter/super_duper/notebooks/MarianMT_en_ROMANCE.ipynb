{
  "nbformat": 4,
  "nbformat_minor": 0,
  "metadata": {
    "colab": {
      "name": "MarianMT en-ROMANCE",
      "provenance": [],
      "collapsed_sections": []
    },
    "kernelspec": {
      "name": "python3",
      "display_name": "Python 3"
    }
  },
  "cells": [
    {
      "cell_type": "code",
      "metadata": {
        "id": "9r7sebADc1Ok"
      },
      "source": [
        "%%capture\n",
        "!pip install transformers --upgrade\n",
        "!pip install mosestokenizer"
      ],
      "execution_count": null,
      "outputs": []
    },
    {
      "cell_type": "markdown",
      "metadata": {
        "id": "JuGzUcOrkx5M"
      },
      "source": [
        "### Translating with Transformers\n",
        "Thanks to everyone who helped with this, especially: \n",
        "\n",
        "\n",
        "*   [Jörg Tiedemann](https://researchportal.helsinki.fi/en/persons/j%C3%B6rg-tiedemann) from the [OPUS project](http://opus.nlpl.eu/)\n",
        "*  [Marcin Junczys-Dowmunt](https://twitter.com/marian_nmt) from Microsoft's [Marian NMT](https://t.co/IuL994N6nQ?amp=1) library\n",
        "\n"
      ]
    },
    {
      "cell_type": "code",
      "metadata": {
        "id": "XdXEh9zudCc-"
      },
      "source": [
        "%%capture\n",
        "from transformers import MarianMTModel, MarianTokenizer\n",
        "src_text = [\n",
        "    '>>fr<< This is a sentence in english that we want to translate to french.',\n",
        "    '>>pt<< This should go to portuguese.',\n",
        "    '>>es<< And this to Spanish.'\n",
        "]\n",
        "\n",
        "model_name = 'Helsinki-NLP/opus-mt-en-ROMANCE'\n",
        "tokenizer = MarianTokenizer.from_pretrained(model_name)\n",
        "# see tokenizer.supported_language_codes for choices\n",
        "model = MarianMTModel.from_pretrained(model_name)"
      ],
      "execution_count": null,
      "outputs": []
    },
    {
      "cell_type": "code",
      "metadata": {
        "id": "Daq50BqvdmW3",
        "colab": {
          "base_uri": "https://localhost:8080/",
          "height": 35
        },
        "outputId": "3e70e221-3e69-48de-edef-9729f0fb4b58"
      },
      "source": [
        "#@title Translate with Transformers\n",
        "english_text = \"Good morning, young lad\" #@param {type:\"string\"}\n",
        "tgt_language = \"fr\" #@param [\"fr\", \"es\", \"it\", \"pt\", \"pt_br\", \"ro\", \"ca\", \"gl\", \"pt_BR\", \"la\", \"wa\", \"fur\", \"oc\", \"fr_CA\", \"sc\", \"es_ES\", \"es_MX\", \"es_AR\", \"es_PR\", \"es_UY\", \"es_CL\", \"es_CO\", \"es_CR\", \"es_GT\", \"es_HN\", \"es_NI\", \"es_PA\", \"es_PE\", \"es_VE\", \"es_DO\", \"es_EC\", \"es_SV\", \"an\", \"pt_PT\", \"frp\", \"lad\", \"vec\", \"fr_FR\", \"co\", \"it_IT\", \"lld\", \"lij\", \"lmo\", \"nap\", \"rm\", \"scn\", \"mwl\"] {allow-input: true}\n",
        "\n",
        "src_txt = f'>>{tgt_language}<< {english_text}'\n",
        "translated = model.generate(**tokenizer.prepare_translation_batch([src_txt]))\n",
        "print([tokenizer.decode(t, skip_special_tokens=True) for t in translated])\n"
      ],
      "execution_count": null,
      "outputs": [
        {
          "output_type": "stream",
          "text": [
            "['Bonjour, jeune garçon.']\n"
          ],
          "name": "stdout"
        }
      ]
    },
    {
      "cell_type": "code",
      "metadata": {
        "id": "uvkdHNMbpByO"
      },
      "source": [
        ""
      ],
      "execution_count": null,
      "outputs": []
    },
    {
      "cell_type": "code",
      "metadata": {
        "id": "v151mdpypB0l"
      },
      "source": [
        ""
      ],
      "execution_count": null,
      "outputs": []
    }
  ]
}