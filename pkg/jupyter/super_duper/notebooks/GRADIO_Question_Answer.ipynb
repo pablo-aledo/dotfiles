{
  "nbformat": 4,
  "nbformat_minor": 0,
  "metadata": {
    "colab": {
      "name": "GRADIO: Question Answer.ipynb",
      "provenance": [],
      "collapsed_sections": [],
      "toc_visible": true
    },
    "kernelspec": {
      "name": "python3",
      "display_name": "Python 3"
    }
  },
  "cells": [
    {
      "cell_type": "markdown",
      "metadata": {
        "id": "qdnTLRG-_VUR"
      },
      "source": [
        "# Question Answer Model\n",
        "\n",
        "In this notebook, we use multiple inputs for a question answer model."
      ]
    },
    {
      "cell_type": "code",
      "metadata": {
        "id": "SuWz2eII4N0V",
        "colab": {
          "base_uri": "https://localhost:8080/"
        },
        "outputId": "4ecb884e-2ea9-412b-aff2-6ab8ed96e7a3"
      },
      "source": [
        "!git clone https://github.com/kamalkraj/BERT-SQuAD.git\n",
        "!pip install -q -r \"BERT-SQuAD/requirements.txt\"\n",
        "!pip install -q gradio wget"
      ],
      "execution_count": null,
      "outputs": [
        {
          "output_type": "stream",
          "text": [
            "Cloning into 'BERT-SQuAD'...\n",
            "remote: Enumerating objects: 35, done.\u001b[K\n",
            "remote: Total 35 (delta 0), reused 0 (delta 0), pack-reused 35\u001b[K\n",
            "Unpacking objects: 100% (35/35), done.\n",
            "\u001b[K     |████████████████████████████████| 184kB 5.6MB/s \n",
            "\u001b[K     |████████████████████████████████| 890kB 13.7MB/s \n",
            "\u001b[K     |████████████████████████████████| 133kB 15.1MB/s \n",
            "\u001b[K     |████████████████████████████████| 1.1MB 14.8MB/s \n",
            "\u001b[K     |████████████████████████████████| 7.2MB 22.0MB/s \n",
            "\u001b[K     |████████████████████████████████| 71kB 9.4MB/s \n",
            "\u001b[?25h  Building wheel for sacremoses (setup.py) ... \u001b[?25l\u001b[?25hdone\n",
            "\u001b[31mERROR: botocore 1.19.47 has requirement urllib3<1.27,>=1.25.4; python_version != \"3.4\", but you'll have urllib3 1.24.3 which is incompatible.\u001b[0m\n",
            "\u001b[K     |████████████████████████████████| 1.1MB 5.6MB/s \n",
            "\u001b[K     |████████████████████████████████| 215kB 11.0MB/s \n",
            "\u001b[K     |████████████████████████████████| 71kB 8.0MB/s \n",
            "\u001b[K     |████████████████████████████████| 2.6MB 12.6MB/s \n",
            "\u001b[K     |████████████████████████████████| 962kB 35.9MB/s \n",
            "\u001b[?25h  Building wheel for wget (setup.py) ... \u001b[?25l\u001b[?25hdone\n",
            "  Building wheel for flask-cachebuster (setup.py) ... \u001b[?25l\u001b[?25hdone\n"
          ],
          "name": "stdout"
        }
      ]
    },
    {
      "cell_type": "code",
      "metadata": {
        "id": "5-_YLTU7vJOl"
      },
      "source": [
        "import wget\n",
        "from zipfile import ZipFile\n",
        "\n",
        "wget.download(\"https://uc1bd563645351aec844ac2e2f8a.dl.dropboxusercontent.com/cd/0/get/BGapMChM4e66lpwV3Bg_FGbZEC5Gs6r9W_vIwOtceVQPzcr9PreR3la9fNxOhDW8ikOr44OZkdWwBpnsVt-1Ok_f3BjAx2bcn1PPGNTDmUqFH4gzU7AyDWNr16AOH7_BF6Y/file?_download_id=76372827685666492254710034999718421880850299281046128317850401133&_notify_domain=www.dropbox.com&dl=1\", \"model.zip\")\n",
        "\n",
        "with ZipFile(\"model.zip\", \"r\") as z:\n",
        "  z.extractall(\"BERT-SQuAD/\")"
      ],
      "execution_count": null,
      "outputs": []
    },
    {
      "cell_type": "code",
      "metadata": {
        "id": "Mn066ECB5p14"
      },
      "source": [
        "import gradio as gr\n",
        "import sys\n",
        "sys.path.append(\"BERT-SQuAD\")\n",
        "from bert import QA\n",
        "\n",
        "model = QA('BERT-SQuAD/model')\n",
        "\n",
        "def qa_func(context, question):\n",
        "    return model.predict(context, question)[\"answer\"]"
      ],
      "execution_count": null,
      "outputs": []
    },
    {
      "cell_type": "code",
      "metadata": {
        "id": "SDyjoZfg6pRd",
        "colab": {
          "base_uri": "https://localhost:8080/",
          "height": 640
        },
        "outputId": "d1755e61-fbb3-438e-b7bc-16a0dd6b51cb"
      },
      "source": [
        "gr.Interface(qa_func, \n",
        "    [\n",
        "        gr.inputs.Textbox(lines=7, label=\"Context\"), \n",
        "        gr.inputs.Textbox(label=\"Question\"), \n",
        "    ], \n",
        "    gr.outputs.Textbox(label=\"Answer\"),\n",
        "    title=\"Question Answer\",\n",
        "    description=\"BERT-SQuAD is a question answering model that takes 2 inputs: a paragraph that provides context and a question that should be answered. Takes around 6s to run.\").launch()"
      ],
      "execution_count": null,
      "outputs": [
        {
          "output_type": "stream",
          "text": [
            "Colab notebook detected. To show errors in colab notebook, set debug=True in launch()\n",
            "This share link will expire in 24 hours. If you need a permanent link, email support@gradio.app\n",
            "Running on External URL: https://38493.gradio.app\n",
            "Interface loading below...\n"
          ],
          "name": "stdout"
        },
        {
          "output_type": "display_data",
          "data": {
            "text/html": [
              "\n",
              "        <iframe\n",
              "            width=\"1000\"\n",
              "            height=\"500\"\n",
              "            src=\"https://38493.gradio.app\"\n",
              "            frameborder=\"0\"\n",
              "            allowfullscreen\n",
              "        ></iframe>\n",
              "        "
            ],
            "text/plain": [
              "<IPython.lib.display.IFrame at 0x7f6623ed1390>"
            ]
          },
          "metadata": {
            "tags": []
          }
        },
        {
          "output_type": "execute_result",
          "data": {
            "text/plain": [
              "(<Flask 'gradio.networking'>,\n",
              " 'http://127.0.0.1:7860/',\n",
              " 'https://38493.gradio.app')"
            ]
          },
          "metadata": {
            "tags": []
          },
          "execution_count": 4
        }
      ]
    },
    {
      "cell_type": "markdown",
      "metadata": {
        "id": "5ZnoOhLImRH8"
      },
      "source": [
        "#### Your model is now live on the gradio.app link shown above. Go ahead and open that in a new tab!"
      ]
    },
    {
      "cell_type": "markdown",
      "metadata": {
        "id": "RFi225G1mdah"
      },
      "source": [
        "Please contact us [here](mailto:team@gradio.app) if you have any questions, or [open an issue](https://github.com/gradio-app/gradio-UI/issues/new/choose) at our github repo."
      ]
    }
  ]
}