{
  "nbformat": 4,
  "nbformat_minor": 0,
  "metadata": {
    "accelerator": "GPU",
    "colab": {
      "name": "recipe_generation_rnn.ipynb",
      "provenance": [],
      "collapsed_sections": [],
      "toc_visible": true
    },
    "kernelspec": {
      "display_name": "Python 3",
      "language": "python",
      "name": "python3"
    },
    "language_info": {
      "codemirror_mode": {
        "name": "ipython",
        "version": 3
      },
      "file_extension": ".py",
      "mimetype": "text/x-python",
      "name": "python",
      "nbconvert_exporter": "python",
      "pygments_lexer": "ipython3",
      "version": "3.7.6"
    }
  },
  "cells": [
    {
      "cell_type": "markdown",
      "metadata": {
        "id": "RXmkmYf6zn_u"
      },
      "source": [
        "# Recipe Generation using Recurrent Neural Network (RNN)"
      ]
    },
    {
      "cell_type": "markdown",
      "metadata": {
        "id": "djpA7GmdBwIW"
      },
      "source": [
        "> - 🤖 See [full list of Machine Learning Experiments](https://github.com/trekhleb/machine-learning-experiments) on **GitHub**<br/><br/>\n",
        "> - ▶️ **Interactive Demo**: [try this model and other machine learning experiments in action](https://trekhleb.github.io/machine-learning-experiments/)"
      ]
    },
    {
      "cell_type": "markdown",
      "metadata": {
        "id": "dwEfGi3mB2vM"
      },
      "source": [
        "## Experiment overview\n",
        "\n",
        "In this experiment we will use character-based [Recurrent Neural Network](https://en.wikipedia.org/wiki/Recurrent_neural_network) (RNN) to generate cooking recipes. We will try to teach our RNN to generate recipe _name_, _ingredients_ and _cooking instructions_ for us.\n",
        "\n",
        "I don't expect the RNN to do a strong connection between list of ingredients and cooking instructions but I do expect RNN to learn English grammar and punctuation in couple of hours and to generate some meaningful recipe names along with real food ingredients and cooking instructions.\n",
        "\n",
        "For this experiment we will use [Tensorflow v2](https://www.tensorflow.org/) with its [Keras API](https://www.tensorflow.org/guide/keras).\n",
        "\n",
        "⚠️ _The recipes in this notebook are generated just for fun and for learning purposes. The recipes are **not** for actual cooking!_\n",
        "\n",
        "![recipe_generation_rnn.jpg](https://github.com/trekhleb/machine-learning-experiments/blob/master/demos/src/images/recipe_generation_rnn.jpg?raw=1)"
      ]
    },
    {
      "cell_type": "markdown",
      "metadata": {
        "id": "ZZ1o0Um7c0Ax"
      },
      "source": [
        "Photo source: 🥦[home_full_of_recipes](https://www.instagram.com/home_full_of_recipes/)"
      ]
    },
    {
      "cell_type": "markdown",
      "metadata": {
        "id": "94dQZx62zn_v"
      },
      "source": [
        "## Importing dependencies"
      ]
    },
    {
      "cell_type": "code",
      "metadata": {
        "colab": {
          "base_uri": "https://localhost:8080/",
          "height": 68
        },
        "id": "aSXRhOp1zn_v",
        "outputId": "6edbfbf4-49b0-49bc-ba84-0a2dabb53e1b"
      },
      "source": [
        "import tensorflow as tf\n",
        "import matplotlib.pyplot as plt\n",
        "import numpy as np\n",
        "import platform\n",
        "import time\n",
        "import pathlib\n",
        "import os\n",
        "import json\n",
        "import zipfile\n",
        "\n",
        "# from google.colab import files\n",
        "\n",
        "print('Python version:', platform.python_version())\n",
        "print('Tensorflow version:', tf.__version__)\n",
        "print('Keras version:', tf.keras.__version__)"
      ],
      "execution_count": null,
      "outputs": [
        {
          "output_type": "stream",
          "text": [
            "Python version: 3.7.6\n",
            "Tensorflow version: 2.1.0\n",
            "Keras version: 2.2.4-tf\n"
          ],
          "name": "stdout"
        }
      ]
    },
    {
      "cell_type": "markdown",
      "metadata": {
        "id": "xRuJU_duzn_1"
      },
      "source": [
        "## Exploring datasets\n",
        "\n",
        "Let's go through several available dataset and explore their pros and cons. One of the requirement I want the dataset to meet is that it should have not only a list of ingredients but also a cooking instructions. I also want it to have a measures and quantities of each ingredient.\n",
        "\n",
        "- 🤷 [Recipe Ingredients Dataset](https://www.kaggle.com/kaggle/recipe-ingredients-dataset/home) _(doesn't have ingredients proportions)_\n",
        "- 🤷 [Recipe1M+](http://pic2recipe.csail.mit.edu/) _(requires registration to download)_\n",
        "- 🤷 [Epicurious - Recipes with Rating and Nutrition](https://www.kaggle.com/hugodarwood/epirecipes?select=full_format_recipes.json) _(~20k recipes only, it would be nice to find more)_\n",
        "- 👍🏻 [**Recipe box**](https://eightportions.com/datasets/Recipes/) _(~125,000 recipes with ingredients proportions, good)_"
      ]
    },
    {
      "cell_type": "markdown",
      "metadata": {
        "id": "AeWNECYszn_1"
      },
      "source": [
        "## Loading the dataset"
      ]
    },
    {
      "cell_type": "markdown",
      "metadata": {
        "id": "0ygamDSsc0A2"
      },
      "source": [
        "Let's load the dataset using [tf.keras.utils.get_file](https://www.tensorflow.org/api_docs/python/tf/keras/utils/get_file). Using `get_file()` utility is convenient because it handles caching for you out of the box. It means that you will download the dataset files only once and then even if you launch the same code block once again it will use cache and the download code will be executed faster."
      ]
    },
    {
      "cell_type": "code",
      "metadata": {
        "id": "7ahpGfPXKcoh"
      },
      "source": [
        "DEBUG = False\n",
        "DEBUG_EXAMPLES = 10"
      ],
      "execution_count": null,
      "outputs": []
    },
    {
      "cell_type": "code",
      "metadata": {
        "id": "csOAhA7gzn_2"
      },
      "source": [
        "# Create cache folder.\n",
        "cache_dir = './tmp'\n",
        "pathlib.Path(cache_dir).mkdir(exist_ok=True)"
      ],
      "execution_count": null,
      "outputs": []
    },
    {
      "cell_type": "code",
      "metadata": {
        "colab": {
          "base_uri": "https://localhost:8080/",
          "height": 34
        },
        "id": "IcF4OJL6zn_4",
        "outputId": "cfa6ea62-5db1-4990-b486-4ffbbfce7780"
      },
      "source": [
        "# Download and unpack the dataset.\n",
        "dataset_file_name = 'recipes_raw.zip'\n",
        "dataset_file_origin = 'https://storage.googleapis.com/recipe-box/recipes_raw.zip'\n",
        "\n",
        "dataset_file_path = tf.keras.utils.get_file(\n",
        "    fname=dataset_file_name,\n",
        "    origin=dataset_file_origin,\n",
        "    cache_dir=cache_dir,\n",
        "    extract=True,\n",
        "    archive_format='zip'\n",
        ")\n",
        "\n",
        "print(dataset_file_path)"
      ],
      "execution_count": null,
      "outputs": [
        {
          "output_type": "stream",
          "text": [
            "./tmp/datasets/recipes_raw.zip\n"
          ],
          "name": "stdout"
        }
      ]
    },
    {
      "cell_type": "markdown",
      "metadata": {
        "id": "6sk54PiQc0A4"
      },
      "source": [
        "As you may see, the dataset consists of 3 files. We need to merge information from those 3 files into one dataset later."
      ]
    },
    {
      "cell_type": "code",
      "metadata": {
        "colab": {
          "base_uri": "https://localhost:8080/",
          "height": 153
        },
        "id": "cwNvb-BAzn_7",
        "outputId": "023dd0d4-9398-4404-88c5-a2ed98612f8c"
      },
      "source": [
        "!ls -la ./tmp/datasets/"
      ],
      "execution_count": null,
      "outputs": [
        {
          "output_type": "stream",
          "text": [
            "total 521128\r\n",
            "drwxr-xr-x  7 trekhleb  staff       224 May 13 18:10 \u001b[34m.\u001b[m\u001b[m\r\n",
            "drwxr-xr-x  4 trekhleb  staff       128 May 18 18:00 \u001b[34m..\u001b[m\u001b[m\r\n",
            "-rw-r--r--  1 trekhleb  staff     20437 May 20 06:46 LICENSE\r\n",
            "-rw-r--r--  1 trekhleb  staff  53355492 May 13 18:10 recipes_raw.zip\r\n",
            "-rw-r--r--  1 trekhleb  staff  49784325 May 20 06:46 recipes_raw_nosource_ar.json\r\n",
            "-rw-r--r--  1 trekhleb  staff  61133971 May 20 06:46 recipes_raw_nosource_epi.json\r\n",
            "-rw-r--r--  1 trekhleb  staff  93702755 May 20 06:46 recipes_raw_nosource_fn.json\r\n"
          ],
          "name": "stdout"
        }
      ]
    },
    {
      "cell_type": "code",
      "metadata": {
        "id": "TvD1n4vzzn_-"
      },
      "source": [
        "def load_dataset(silent=False):\n",
        "    dataset_file_names = [\n",
        "        'recipes_raw_nosource_ar.json',\n",
        "        'recipes_raw_nosource_epi.json',\n",
        "        'recipes_raw_nosource_fn.json',\n",
        "    ]\n",
        "    \n",
        "    dataset = []\n",
        "\n",
        "    for dataset_file_name in dataset_file_names:\n",
        "        dataset_file_path = f'{cache_dir}/datasets/{dataset_file_name}'\n",
        "\n",
        "        with open(dataset_file_path) as dataset_file:\n",
        "            json_data_dict = json.load(dataset_file)\n",
        "            json_data_list = list(json_data_dict.values())\n",
        "            dict_keys = [key for key in json_data_list[0]]\n",
        "            dict_keys.sort()\n",
        "            dataset += json_data_list\n",
        "\n",
        "            if silent == False:\n",
        "                print(dataset_file_path)\n",
        "                print('===========================================')\n",
        "                print('Number of examples: ', len(json_data_list), '\\n')\n",
        "                print('Example object keys:\\n', dict_keys, '\\n')\n",
        "                print('Example object:\\n', json_data_list[0], '\\n')\n",
        "                print('Required keys:\\n')\n",
        "                print('  title: ', json_data_list[0]['title'], '\\n')\n",
        "                print('  ingredients: ', json_data_list[0]['ingredients'], '\\n')\n",
        "                print('  instructions: ', json_data_list[0]['instructions'])\n",
        "                print('\\n\\n')\n",
        "\n",
        "    return dataset  "
      ],
      "execution_count": null,
      "outputs": []
    },
    {
      "cell_type": "markdown",
      "metadata": {
        "id": "EN7kLvyxc0A6"
      },
      "source": [
        "Let's download a datasets and preview examples from them."
      ]
    },
    {
      "cell_type": "code",
      "metadata": {
        "colab": {
          "base_uri": "https://localhost:8080/",
          "height": 1000
        },
        "id": "sFyy_tRDzoAA",
        "outputId": "a79f5572-29c4-453e-e969-77843e52326d"
      },
      "source": [
        "dataset_raw = load_dataset()  "
      ],
      "execution_count": null,
      "outputs": [
        {
          "output_type": "stream",
          "text": [
            "./tmp/datasets/recipes_raw_nosource_ar.json\n",
            "===========================================\n",
            "Number of examples:  39802 \n",
            "\n",
            "Example object keys:\n",
            " ['ingredients', 'instructions', 'picture_link', 'title'] \n",
            "\n",
            "Example object:\n",
            " {'title': 'Slow Cooker Chicken and Dumplings', 'ingredients': ['4 skinless, boneless chicken breast halves ADVERTISEMENT', '2 tablespoons butter ADVERTISEMENT', '2 (10.75 ounce) cans condensed cream of chicken soup ADVERTISEMENT', '1 onion, finely diced ADVERTISEMENT', '2 (10 ounce) packages refrigerated biscuit dough, torn into pieces ADVERTISEMENT', 'ADVERTISEMENT'], 'instructions': 'Place the chicken, butter, soup, and onion in a slow cooker, and fill with enough water to cover.\\nCover, and cook for 5 to 6 hours on High. About 30 minutes before serving, place the torn biscuit dough in the slow cooker. Cook until the dough is no longer raw in the center.\\n', 'picture_link': '55lznCYBbs2mT8BTx6BTkLhynGHzM.S'} \n",
            "\n",
            "Required keys:\n",
            "\n",
            "  title:  Slow Cooker Chicken and Dumplings \n",
            "\n",
            "  ingredients:  ['4 skinless, boneless chicken breast halves ADVERTISEMENT', '2 tablespoons butter ADVERTISEMENT', '2 (10.75 ounce) cans condensed cream of chicken soup ADVERTISEMENT', '1 onion, finely diced ADVERTISEMENT', '2 (10 ounce) packages refrigerated biscuit dough, torn into pieces ADVERTISEMENT', 'ADVERTISEMENT'] \n",
            "\n",
            "  instructions:  Place the chicken, butter, soup, and onion in a slow cooker, and fill with enough water to cover.\n",
            "Cover, and cook for 5 to 6 hours on High. About 30 minutes before serving, place the torn biscuit dough in the slow cooker. Cook until the dough is no longer raw in the center.\n",
            "\n",
            "\n",
            "\n",
            "\n",
            "./tmp/datasets/recipes_raw_nosource_epi.json\n",
            "===========================================\n",
            "Number of examples:  25323 \n",
            "\n",
            "Example object keys:\n",
            " ['ingredients', 'instructions', 'picture_link', 'title'] \n",
            "\n",
            "Example object:\n",
            " {'ingredients': ['12 egg whites', '12 egg yolks', '1 1/2 cups sugar', '3/4 cup rye whiskey', '12 egg whites', '3/4 cup brandy', '1/2 cup rum', '1 to 2 cups heavy cream, lightly whipped', 'Garnish: ground nutmeg'], 'picture_link': None, 'instructions': 'Beat the egg whites until stiff, gradually adding in 3/4 cup sugar. Set aside. Beat the egg yolks until they are thick and pale and add the other 3/4 cup sugar and stir in rye whiskey. Blend well. Fold the egg white mixture into the yolk mixture and add the brandy and the rum. Beat the mixture well. To serve, fold the lightly whipped heavy cream into the eggnog. (If a thinner mixture is desired, add the heavy cream unwhipped.) Sprinkle the top of the eggnog with the nutmeg to taste.\\nBeat the egg whites until stiff, gradually adding in 3/4 cup sugar. Set aside. Beat the egg yolks until they are thick and pale and add the other 3/4 cup sugar and stir in rye whiskey. Blend well. Fold the egg white mixture into the yolk mixture and add the brandy and the rum. Beat the mixture well. To serve, fold the lightly whipped heavy cream into the eggnog. (If a thinner mixture is desired, add the heavy cream unwhipped.) Sprinkle the top of the eggnog with the nutmeg to taste.', 'title': 'Christmas Eggnog '} \n",
            "\n",
            "Required keys:\n",
            "\n",
            "  title:  Christmas Eggnog  \n",
            "\n",
            "  ingredients:  ['12 egg whites', '12 egg yolks', '1 1/2 cups sugar', '3/4 cup rye whiskey', '12 egg whites', '3/4 cup brandy', '1/2 cup rum', '1 to 2 cups heavy cream, lightly whipped', 'Garnish: ground nutmeg'] \n",
            "\n",
            "  instructions:  Beat the egg whites until stiff, gradually adding in 3/4 cup sugar. Set aside. Beat the egg yolks until they are thick and pale and add the other 3/4 cup sugar and stir in rye whiskey. Blend well. Fold the egg white mixture into the yolk mixture and add the brandy and the rum. Beat the mixture well. To serve, fold the lightly whipped heavy cream into the eggnog. (If a thinner mixture is desired, add the heavy cream unwhipped.) Sprinkle the top of the eggnog with the nutmeg to taste.\n",
            "Beat the egg whites until stiff, gradually adding in 3/4 cup sugar. Set aside. Beat the egg yolks until they are thick and pale and add the other 3/4 cup sugar and stir in rye whiskey. Blend well. Fold the egg white mixture into the yolk mixture and add the brandy and the rum. Beat the mixture well. To serve, fold the lightly whipped heavy cream into the eggnog. (If a thinner mixture is desired, add the heavy cream unwhipped.) Sprinkle the top of the eggnog with the nutmeg to taste.\n",
            "\n",
            "\n",
            "\n",
            "./tmp/datasets/recipes_raw_nosource_fn.json\n",
            "===========================================\n",
            "Number of examples:  60039 \n",
            "\n",
            "Example object keys:\n",
            " ['ingredients', 'instructions', 'picture_link', 'title'] \n",
            "\n",
            "Example object:\n",
            " {'instructions': 'Toss ingredients lightly and spoon into a buttered baking dish. Top with additional crushed cracker crumbs, and brush with melted butter. Bake in a preheated at 350 degrees oven for 25 to 30 minutes or until delicately browned.', 'ingredients': ['1/2 cup celery, finely chopped', '1 small green pepper finely chopped', '1/2 cup finely sliced green onions', '1/4 cup chopped parsley', '1 pound crabmeat', '1 1/4 cups coarsely crushed cracker crumbs', '1/2 teaspoon salt', '3/4 teaspoons dry mustard', 'Dash hot sauce', '1/4 cup heavy cream', '1/2 cup melted butter'], 'title': \"Grammie Hamblet's Deviled Crab\", 'picture_link': None} \n",
            "\n",
            "Required keys:\n",
            "\n",
            "  title:  Grammie Hamblet's Deviled Crab \n",
            "\n",
            "  ingredients:  ['1/2 cup celery, finely chopped', '1 small green pepper finely chopped', '1/2 cup finely sliced green onions', '1/4 cup chopped parsley', '1 pound crabmeat', '1 1/4 cups coarsely crushed cracker crumbs', '1/2 teaspoon salt', '3/4 teaspoons dry mustard', 'Dash hot sauce', '1/4 cup heavy cream', '1/2 cup melted butter'] \n",
            "\n",
            "  instructions:  Toss ingredients lightly and spoon into a buttered baking dish. Top with additional crushed cracker crumbs, and brush with melted butter. Bake in a preheated at 350 degrees oven for 25 to 30 minutes or until delicately browned.\n",
            "\n",
            "\n",
            "\n"
          ],
          "name": "stdout"
        }
      ]
    },
    {
      "cell_type": "code",
      "metadata": {
        "colab": {
          "base_uri": "https://localhost:8080/",
          "height": 34
        },
        "id": "k33eFMSszoAD",
        "outputId": "bd360d5f-ec53-45f6-e5c4-b74b68a69c2a"
      },
      "source": [
        "print('Total number of raw examples: ', len(dataset_raw))"
      ],
      "execution_count": null,
      "outputs": [
        {
          "output_type": "stream",
          "text": [
            "Total number of raw examples:  125164\n"
          ],
          "name": "stdout"
        }
      ]
    },
    {
      "cell_type": "markdown",
      "metadata": {
        "id": "bADjU5RFzoAG"
      },
      "source": [
        "## Preprocessing the dataset"
      ]
    },
    {
      "cell_type": "markdown",
      "metadata": {
        "id": "2lbyio6J4iyh"
      },
      "source": [
        "### Filtering out incomplete examples"
      ]
    },
    {
      "cell_type": "code",
      "metadata": {
        "id": "fCAT0GXBzoAJ"
      },
      "source": [
        "# Filters out recipes which don't have either title or ingredients or instructions.\n",
        "def recipe_validate_required_fields(recipe):\n",
        "    required_keys = ['title', 'ingredients', 'instructions']\n",
        "    \n",
        "    if not recipe:\n",
        "        return False\n",
        "    \n",
        "    for required_key in required_keys:\n",
        "        if not recipe[required_key]:\n",
        "            return False\n",
        "        \n",
        "        if type(recipe[required_key]) == list and len(recipe[required_key]) == 0:\n",
        "            return False\n",
        "    \n",
        "    return True"
      ],
      "execution_count": null,
      "outputs": []
    },
    {
      "cell_type": "code",
      "metadata": {
        "colab": {
          "base_uri": "https://localhost:8080/",
          "height": 68
        },
        "id": "DoQ7_isjzoAP",
        "outputId": "bf80b3dc-6670-420f-f569-5d0ea0bfb021"
      },
      "source": [
        "dataset_validated = [recipe for recipe in dataset_raw if recipe_validate_required_fields(recipe)]\n",
        "\n",
        "print('Dataset size BEFORE validation', len(dataset_raw))\n",
        "print('Dataset size AFTER validation', len(dataset_validated))\n",
        "print('Number of invalide recipes', len(dataset_raw) - len(dataset_validated))"
      ],
      "execution_count": null,
      "outputs": [
        {
          "output_type": "stream",
          "text": [
            "Dataset size BEFORE validation 125164\n",
            "Dataset size AFTER validation 122938\n",
            "Number of invalide recipes 2226\n"
          ],
          "name": "stdout"
        }
      ]
    },
    {
      "cell_type": "markdown",
      "metadata": {
        "id": "VtIobQaKzoAG"
      },
      "source": [
        "### Converting recipes objects into strings"
      ]
    },
    {
      "cell_type": "markdown",
      "metadata": {
        "id": "PdbXLyQGc0A_"
      },
      "source": [
        "To help our RNN learn the structure of the text let's add 3 \"landmarks\" to it. We will use these unique \"title\", \"ingredients\" and \"instruction\" landmarks to separate a logic sections of each recipe."
      ]
    },
    {
      "cell_type": "code",
      "metadata": {
        "id": "U9jp2srl_R_Q"
      },
      "source": [
        "STOP_WORD_TITLE = '📗 '\n",
        "STOP_WORD_INGREDIENTS = '\\n🥕\\n\\n'\n",
        "STOP_WORD_INSTRUCTIONS = '\\n📝\\n\\n'"
      ],
      "execution_count": null,
      "outputs": []
    },
    {
      "cell_type": "code",
      "metadata": {
        "id": "PWzarwn7zoAM"
      },
      "source": [
        "# Converts recipe object to string (sequence of characters) for later usage in RNN input.\n",
        "def recipe_to_string(recipe):\n",
        "    # This string is presented as a part of recipes so we need to clean it up.\n",
        "    noize_string = 'ADVERTISEMENT'\n",
        "    \n",
        "    title = recipe['title']\n",
        "    ingredients = recipe['ingredients']\n",
        "    instructions = recipe['instructions'].split('\\n')\n",
        "    \n",
        "    ingredients_string = ''\n",
        "    for ingredient in ingredients:\n",
        "        ingredient = ingredient.replace(noize_string, '')\n",
        "        if ingredient:\n",
        "            ingredients_string += f'• {ingredient}\\n'\n",
        "    \n",
        "    instructions_string = ''\n",
        "    for instruction in instructions:\n",
        "        instruction = instruction.replace(noize_string, '')\n",
        "        if instruction:\n",
        "            instructions_string += f'▪︎ {instruction}\\n'\n",
        "    \n",
        "    return f'{STOP_WORD_TITLE}{title}\\n{STOP_WORD_INGREDIENTS}{ingredients_string}{STOP_WORD_INSTRUCTIONS}{instructions_string}'"
      ],
      "execution_count": null,
      "outputs": []
    },
    {
      "cell_type": "code",
      "metadata": {
        "colab": {
          "base_uri": "https://localhost:8080/",
          "height": 34
        },
        "id": "WQvmIJxtzoAT",
        "outputId": "89b4fffb-cdeb-41a5-a6de-b1587a78a955"
      },
      "source": [
        "dataset_stringified = [recipe_to_string(recipe) for recipe in dataset_validated]\n",
        "\n",
        "print('Stringified dataset size: ', len(dataset_stringified))"
      ],
      "execution_count": null,
      "outputs": [
        {
          "output_type": "stream",
          "text": [
            "Stringified dataset size:  122938\n"
          ],
          "name": "stdout"
        }
      ]
    },
    {
      "cell_type": "code",
      "metadata": {
        "colab": {
          "base_uri": "https://localhost:8080/",
          "height": 1000
        },
        "id": "7u9Ggok4zoAW",
        "outputId": "6b5dc64f-3496-4184-83fa-879e682dfd4b"
      },
      "source": [
        "for recipe_index, recipe_string in enumerate(dataset_stringified[:10]):\n",
        "    print('Recipe #{}\\n---------'.format(recipe_index + 1))\n",
        "    print(recipe_string)\n",
        "    print('\\n')"
      ],
      "execution_count": null,
      "outputs": [
        {
          "output_type": "stream",
          "text": [
            "Recipe #1\n",
            "---------\n",
            "📗 Slow Cooker Chicken and Dumplings\n",
            "\n",
            "🥕\n",
            "\n",
            "• 4 skinless, boneless chicken breast halves \n",
            "• 2 tablespoons butter \n",
            "• 2 (10.75 ounce) cans condensed cream of chicken soup \n",
            "• 1 onion, finely diced \n",
            "• 2 (10 ounce) packages refrigerated biscuit dough, torn into pieces \n",
            "\n",
            "📝\n",
            "\n",
            "▪︎ Place the chicken, butter, soup, and onion in a slow cooker, and fill with enough water to cover.\n",
            "▪︎ Cover, and cook for 5 to 6 hours on High. About 30 minutes before serving, place the torn biscuit dough in the slow cooker. Cook until the dough is no longer raw in the center.\n",
            "\n",
            "\n",
            "\n",
            "Recipe #2\n",
            "---------\n",
            "📗 Awesome Slow Cooker Pot Roast\n",
            "\n",
            "🥕\n",
            "\n",
            "• 2 (10.75 ounce) cans condensed cream of mushroom soup \n",
            "• 1 (1 ounce) package dry onion soup mix \n",
            "• 1 1/4 cups water \n",
            "• 5 1/2 pounds pot roast \n",
            "\n",
            "📝\n",
            "\n",
            "▪︎ In a slow cooker, mix cream of mushroom soup, dry onion soup mix and water. Place pot roast in slow cooker and coat with soup mixture.\n",
            "▪︎ Cook on High setting for 3 to 4 hours, or on Low setting for 8 to 9 hours.\n",
            "\n",
            "\n",
            "\n",
            "Recipe #3\n",
            "---------\n",
            "📗 Brown Sugar Meatloaf\n",
            "\n",
            "🥕\n",
            "\n",
            "• 1/2 cup packed brown sugar \n",
            "• 1/2 cup ketchup \n",
            "• 1 1/2 pounds lean ground beef \n",
            "• 3/4 cup milk \n",
            "• 2 eggs \n",
            "• 1 1/2 teaspoons salt \n",
            "• 1/4 teaspoon ground black pepper \n",
            "• 1 small onion, chopped \n",
            "• 1/4 teaspoon ground ginger \n",
            "• 3/4 cup finely crushed saltine cracker crumbs \n",
            "\n",
            "📝\n",
            "\n",
            "▪︎ Preheat oven to 350 degrees F (175 degrees C). Lightly grease a 5x9 inch loaf pan.\n",
            "▪︎ Press the brown sugar in the bottom of the prepared loaf pan and spread the ketchup over the sugar.\n",
            "▪︎ In a mixing bowl, mix thoroughly all remaining ingredients and shape into a loaf. Place on top of the ketchup.\n",
            "▪︎ Bake in preheated oven for 1 hour or until juices are clear.\n",
            "\n",
            "\n",
            "\n",
            "Recipe #4\n",
            "---------\n",
            "📗 Best Chocolate Chip Cookies\n",
            "\n",
            "🥕\n",
            "\n",
            "• 1 cup butter, softened \n",
            "• 1 cup white sugar \n",
            "• 1 cup packed brown sugar \n",
            "• 2 eggs \n",
            "• 2 teaspoons vanilla extract \n",
            "• 3 cups all-purpose flour \n",
            "• 1 teaspoon baking soda \n",
            "• 2 teaspoons hot water \n",
            "• 1/2 teaspoon salt \n",
            "• 2 cups semisweet chocolate chips \n",
            "• 1 cup chopped walnuts \n",
            "\n",
            "📝\n",
            "\n",
            "▪︎ Preheat oven to 350 degrees F (175 degrees C).\n",
            "▪︎ Cream together the butter, white sugar, and brown sugar until smooth. Beat in the eggs one at a time, then stir in the vanilla. Dissolve baking soda in hot water. Add to batter along with salt. Stir in flour, chocolate chips, and nuts. Drop by large spoonfuls onto ungreased pans.\n",
            "▪︎ Bake for about 10 minutes in the preheated oven, or until edges are nicely browned.\n",
            "\n",
            "\n",
            "\n",
            "Recipe #5\n",
            "---------\n",
            "📗 Homemade Mac and Cheese Casserole\n",
            "\n",
            "🥕\n",
            "\n",
            "• 8 ounces whole wheat rotini pasta \n",
            "• 3 cups fresh broccoli florets \n",
            "• 1 medium onion, chopped \n",
            "• 3 cloves garlic, minced \n",
            "• 4 tablespoons butter, divided \n",
            "• 2 tablespoons all-purpose flour \n",
            "• 1/4 teaspoon salt \n",
            "• 1/8 teaspoon ground black pepper \n",
            "• 2 1/2 cups milk \n",
            "• 8 ounces Cheddar cheese, shredded \n",
            "• 4 ounces reduced-fat cream cheese, cubed and softened \n",
            "• 1/2 cup fine dry Italian-seasoned bread crumbs \n",
            "• Reynolds Wrap® Non Stick Aluminum Foil \n",
            "\n",
            "📝\n",
            "\n",
            "▪︎ Preheat oven to 350 degrees F. Line a 2-quart casserole dish with Reynolds Wrap(R) Pan Lining Paper, parchment side up. No need to grease dish.\n",
            "▪︎ Cook the pasta in a large saucepan according to the package directions, adding the broccoli for the last 3 minutes of cooking. Drain. Return to the saucepan and set aside.\n",
            "▪︎ Cook the onion and garlic in 2 tablespoons hot butter in a large skillet 5 to 7 minutes or until tender. Stir in flour, salt, and black pepper. Add the milk all at once. Cook and stir over medium heat until slightly thickened and bubbly. Add cheddar cheese and cream cheese, stirring until melted. Pour cheese sauce over the pasta and broccoli and stir until well combined.\n",
            "▪︎ Melt the remaining 2 tablespoons butter and mix with the bread crumbs in a small bowl. Transfer the pasta mixture to the prepared casserole dish. Top with the buttery bread crumbs.\n",
            "▪︎ Bake, uncovered, about 25 minutes or until bubbly and internal temperature is 165 degrees F. Let stand for 10 minutes before serving.\n",
            "\n",
            "\n",
            "\n",
            "Recipe #6\n",
            "---------\n",
            "📗 Banana Banana Bread\n",
            "\n",
            "🥕\n",
            "\n",
            "• 2 cups all-purpose flour \n",
            "• 1 teaspoon baking soda \n",
            "• 1/4 teaspoon salt \n",
            "• 1/2 cup butter \n",
            "• 3/4 cup brown sugar \n",
            "• 2 eggs, beaten \n",
            "• 2 1/3 cups mashed overripe bananas \n",
            "\n",
            "📝\n",
            "\n",
            "▪︎ Preheat oven to 350 degrees F (175 degrees C). Lightly grease a 9x5 inch loaf pan.\n",
            "▪︎ In a large bowl, combine flour, baking soda and salt. In a separate bowl, cream together butter and brown sugar. Stir in eggs and mashed bananas until well blended. Stir banana mixture into flour mixture; stir just to moisten. Pour batter into prepared loaf pan.\n",
            "▪︎ Bake in preheated oven for 60 to 65 minutes, until a toothpick inserted into center of the loaf comes out clean. Let bread cool in pan for 10 minutes, then turn out onto a wire rack.\n",
            "\n",
            "\n",
            "\n",
            "Recipe #7\n",
            "---------\n",
            "📗 Chef John's Fisherman's Pie\n",
            "\n",
            "🥕\n",
            "\n",
            "• For potato crust: \n",
            "• 3 russet potatoes, peeled and cut into chunks \n",
            "• 3 tablespoons butter \n",
            "• 1 pinch freshly grated nutmeg \n",
            "• salt and ground black pepper to taste \n",
            "• 1 pinch cayenne pepper, or to taste \n",
            "• 1/2 cup milk \n",
            "• For the spinach: \n",
            "• 2 teaspoons olive oil \n",
            "• 12 ounces baby spinach leaves \n",
            "• For the sauce: \n",
            "• 3 tablespoons butter \n",
            "• 3 tablespoons all-purpose flour \n",
            "• 2 cloves garlic, minced \n",
            "• 2 cups cold milk, divided \n",
            "• 2 teaspoons lemon zest \n",
            "• For the rest: \n",
            "• 1 tablespoon butter \n",
            "• salt and ground black pepper to taste \n",
            "• 1 pinch cayenne pepper, or to taste \n",
            "• 2 pounds boneless cod fillets \n",
            "• 1/2 lemon, juiced \n",
            "• 1 tablespoon chopped fresh chives for garnish \n",
            "\n",
            "📝\n",
            "\n",
            "▪︎ Bring a large saucepan of salted water and to a boil; add russet potatoes to boiling water and cook until very tender, about 20 minutes. Drain well. Mash in 3 tablespoons butter until thoroughly combined. Season with nutmeg, salt, black pepper, and cayenne pepper to taste. Mash 1/2 cup milk into potato mixture until smooth.\n",
            "▪︎ Drizzle olive oil in a large Dutch oven over medium-high heat, add spinach, and season with a big pinch of salt. Cook, stirring occasionally, until spinach has wilted, about 1 minute. Transfer to a bowl lined with paper towels to wick away excess moisture.\n",
            "▪︎ Heat 3 tablespoons butter and flour in a saucepan over medium heat; whisk mixture to a smooth paste. Cook, stirring constantly, until mixture has a nutty smell and is slightly browned, about 2 minutes. Add chopped garlic; whisk until fragrant, 10 to 20 seconds.\n",
            "▪︎ Whisk 1 cup cold milk into flour mixture; cook until thickened. Whisk in remaining 1 cup milk and lemon zest. Bring white sauce to a gentle simmer, whisking constantly; season with salt. Turn heat to very low and keep sauce warm.\n",
            "▪︎ Preheat oven to 375 degrees F (190 degrees C). Grease an 8x12-inch casserole dish with 1 tablespoon butter.\n",
            "▪︎ Season buttered pan with salt, black pepper, and cayenne pepper. Lay boneless cod fillets into the pan in a single layer. Season tops of fillets with more salt, black pepper, and cayenne pepper. Spread spinach evenly over fish and drizzle with lemon juice. Spoon white sauce over spinach; give casserole dish several taps and shakes to eliminate bubbles.\n",
            "▪︎ Drop mashed potatoes by heaping spoonfuls over the casserole and spread smoothly to cover. Place dish onto a rimmed baking sheet to catch spills.\n",
            "▪︎ Bake in the preheated oven until bubbling, about 40 minutes. Turn on oven's broiler and broil until potato crust has a golden brown top, about 2 minutes. Fish should flake easily. Let stand 10 minutes before serving. Garnish with a sprinkle of chives.\n",
            "\n",
            "\n",
            "\n",
            "Recipe #8\n",
            "---------\n",
            "📗 Mom's Zucchini Bread\n",
            "\n",
            "🥕\n",
            "\n",
            "• 3 cups all-purpose flour \n",
            "• 1 teaspoon salt \n",
            "• 1 teaspoon baking soda \n",
            "• 1 teaspoon baking powder \n",
            "• 1 tablespoon ground cinnamon \n",
            "• 3 eggs \n",
            "• 1 cup vegetable oil \n",
            "• 2 1/4 cups white sugar \n",
            "• 3 teaspoons vanilla extract \n",
            "• 2 cups grated zucchini \n",
            "• 1 cup chopped walnuts \n",
            "\n",
            "📝\n",
            "\n",
            "▪︎ Grease and flour two 8 x 4 inch pans. Preheat oven to 325 degrees F (165 degrees C).\n",
            "▪︎ Sift flour, salt, baking powder, soda, and cinnamon together in a bowl.\n",
            "▪︎ Beat eggs, oil, vanilla, and sugar together in a large bowl. Add sifted ingredients to the creamed mixture, and beat well. Stir in zucchini and nuts until well combined. Pour batter into prepared pans.\n",
            "▪︎ Bake for 40 to 60 minutes, or until tester inserted in the center comes out clean. Cool in pan on rack for 20 minutes. Remove bread from pan, and completely cool.\n",
            "\n",
            "\n",
            "\n",
            "Recipe #9\n",
            "---------\n",
            "📗 The Best Rolled Sugar Cookies\n",
            "\n",
            "🥕\n",
            "\n",
            "• 1 1/2 cups butter, softened \n",
            "• 2 cups white sugar \n",
            "• 4 eggs \n",
            "• 1 teaspoon vanilla extract \n",
            "• 5 cups all-purpose flour \n",
            "• 2 teaspoons baking powder \n",
            "• 1 teaspoon salt \n",
            "\n",
            "📝\n",
            "\n",
            "▪︎ In a large bowl, cream together butter and sugar until smooth. Beat in eggs and vanilla. Stir in the flour, baking powder, and salt. Cover, and chill dough for at least one hour (or overnight).\n",
            "▪︎ Preheat oven to 400 degrees F (200 degrees C). Roll out dough on floured surface 1/4 to 1/2 inch thick. Cut into shapes with any cookie cutter. Place cookies 1 inch apart on ungreased cookie sheets.\n",
            "▪︎ Bake 6 to 8 minutes in preheated oven. Cool completely.\n",
            "\n",
            "\n",
            "\n",
            "Recipe #10\n",
            "---------\n",
            "📗 Singapore Chili Crabs\n",
            "\n",
            "🥕\n",
            "\n",
            "• Sauce: \n",
            "• 1/2 cup ketchup \n",
            "• 1/2 cup chicken broth \n",
            "• 1 large egg \n",
            "• 2 tablespoons soy sauce \n",
            "• 2 tablespoons chile-garlic sauce (such as sambal oelek) \n",
            "• 1 tablespoon oyster sauce \n",
            "• 1 tablespoon tamarind paste \n",
            "• 2 teaspoons fish sauce \n",
            "• 2 teaspoons palm sugar \n",
            "• 1/4 cup minced shallot \n",
            "• 6 cloves garlic, minced \n",
            "• 2 tablespoons vegetable oil, or more as needed \n",
            "• 2 tablespoons minced fresh ginger root \n",
            "• 1 tablespoon minced serrano pepper \n",
            "• 2 cooked Dungeness crabs, cleaned and cracked \n",
            "• 2 tablespoons chopped fresh cilantro \n",
            "• 2 tablespoons sliced green onion (green part only) \n",
            "\n",
            "📝\n",
            "\n",
            "▪︎ Whisk ketchup, chicken broth, egg, soy sauce, chile-garlic sauce, oyster sauce, tamarind paste, fish sauce, and palm sugar together in a bowl.\n",
            "▪︎ Stir shallots, garlic, oil, ginger, and serrano pepper together in a pot over medium-high heat. Saute until sizzling, about 2 minutes. Add crab to pot, cover the pot with a lid, and shake until crab is completely coated in shallot mixture. Remove lid and cook and stir until heated through, about 3 minutes.\n",
            "▪︎ Pour ketchup mixture into pot, reduce heat to medium, and cook and stir until sauce thickens and crab is hot about 5 minutes. Remove from heat; stir in cilantro and green onions.\n",
            "\n",
            "\n",
            "\n"
          ],
          "name": "stdout"
        }
      ]
    },
    {
      "cell_type": "code",
      "metadata": {
        "colab": {
          "base_uri": "https://localhost:8080/",
          "height": 547
        },
        "id": "mUr4F-HU8PLx",
        "outputId": "8c4e4622-2cec-4878-de77-f0cc81207a9e"
      },
      "source": [
        "print(dataset_stringified[50000])"
      ],
      "execution_count": null,
      "outputs": [
        {
          "output_type": "stream",
          "text": [
            "📗 Herbed Bean Ragoût \n",
            "\n",
            "🥕\n",
            "\n",
            "• 6 ounces haricots verts (French thin green beans), trimmed and halved crosswise\n",
            "• 1 (1-pound) bag frozen edamame (soybeans in the pod) or 1 1/4 cups frozen shelled edamame, not thawed\n",
            "• 2/3 cup finely chopped onion\n",
            "• 2 garlic cloves, minced\n",
            "• 1 Turkish bay leaf or 1/2 California bay leaf\n",
            "• 2 (3-inch) fresh rosemary sprigs\n",
            "• 1/2 teaspoon salt\n",
            "• 1/4 teaspoon black pepper\n",
            "• 1 tablespoon olive oil\n",
            "• 1 medium carrot, cut into 1/8-inch dice\n",
            "• 1 medium celery rib, cut into 1/8-inch dice\n",
            "• 1 (15- to 16-ounces) can small white beans, rinsed and drained\n",
            "• 1 1/2 cups chicken stock or low-sodium broth\n",
            "• 2 tablespoons unsalted butter\n",
            "• 2 tablespoons finely chopped fresh flat-leaf parsley\n",
            "• 1 tablespoon finely chopped fresh chervil (optional)\n",
            "• Garnish: fresh chervil sprigs\n",
            "\n",
            "📝\n",
            "\n",
            "▪︎ Cook haricots verts in a large pot of boiling salted water until just tender, 3 to 4 minutes. Transfer with a slotted spoon to a bowl of ice and cold water, then drain. Add edamame to boiling water and cook 4 minutes. Drain in a colander, then rinse under cold water. If using edamame in pods, shell them and discard pods. Cook onion, garlic, bay leaf, rosemary, salt, and pepper in oil in a 2- to 4-quart heavy saucepan over moderately low heat, stirring, until softened, about 3 minutes. Add carrot and celery and cook, stirring, until softened, about 3 minutes. Add white beans and stock and simmer, covered, stirring occasionally, 10 minutes. Add haricots verts and edamame and simmer, uncovered, until heated through, 2 to 3 minutes. Add butter, parsley, and chervil (if using) and stir gently until butter is melted. Discard bay leaf and rosemary sprigs.\n",
            "▪︎ Cook haricots verts in a large pot of boiling salted water until just tender, 3 to 4 minutes. Transfer with a slotted spoon to a bowl of ice and cold water, then drain.\n",
            "▪︎ Add edamame to boiling water and cook 4 minutes. Drain in a colander, then rinse under cold water. If using edamame in pods, shell them and discard pods.\n",
            "▪︎ Cook onion, garlic, bay leaf, rosemary, salt, and pepper in oil in a 2- to 4-quart heavy saucepan over moderately low heat, stirring, until softened, about 3 minutes. Add carrot and celery and cook, stirring, until softened, about 3 minutes.\n",
            "▪︎ Add white beans and stock and simmer, covered, stirring occasionally, 10 minutes. Add haricots verts and edamame and simmer, uncovered, until heated through, 2 to 3 minutes. Add butter, parsley, and chervil (if using) and stir gently until butter is melted. Discard bay leaf and rosemary sprigs.\n",
            "\n"
          ],
          "name": "stdout"
        }
      ]
    },
    {
      "cell_type": "markdown",
      "metadata": {
        "id": "5n7eyJwx444E"
      },
      "source": [
        "### Filtering out large receipts"
      ]
    },
    {
      "cell_type": "markdown",
      "metadata": {
        "id": "zBtVlAOTc0BB"
      },
      "source": [
        "Recipes have different lengths. We need to have one hard-coded sequence length limit before feeding recipes sequences to RNN. We need to find out what recipe length will cover most of recipe use-cases and at the same time we want to keep it as small as possible for training performance."
      ]
    },
    {
      "cell_type": "code",
      "metadata": {
        "id": "7V7tjWoi3IT6"
      },
      "source": [
        "recipes_lengths = []\n",
        "for recipe_text in dataset_stringified:\n",
        "    recipes_lengths.append(len(recipe_text))"
      ],
      "execution_count": null,
      "outputs": []
    },
    {
      "cell_type": "code",
      "metadata": {
        "colab": {
          "base_uri": "https://localhost:8080/",
          "height": 265
        },
        "id": "rx-dWuzP3XTJ",
        "outputId": "1ab93e63-a3e9-4d18-a6d6-74950d7d3e6e"
      },
      "source": [
        "plt.hist(recipes_lengths, bins=50)\n",
        "plt.show()"
      ],
      "execution_count": null,
      "outputs": [
        {
          "output_type": "display_data",
          "data": {
            "image/png": "[encoded data removed]",
            "text/plain": [
              "<Figure size 432x288 with 1 Axes>"
            ]
          },
          "metadata": {
            "tags": [],
            "needs_background": "light"
          }
        }
      ]
    },
    {
      "cell_type": "code",
      "metadata": {
        "colab": {
          "base_uri": "https://localhost:8080/",
          "height": 268
        },
        "id": "G390Tk9P3b_g",
        "outputId": "503486a6-2c58-4ae7-d259-e947c898381f"
      },
      "source": [
        "plt.hist(recipes_lengths, range=(0, 8000), bins=50)\n",
        "plt.show()"
      ],
      "execution_count": null,
      "outputs": [
        {
          "output_type": "display_data",
          "data": {
            "image/png": "[encoded data removed]",
            "text/plain": [
              "<Figure size 432x288 with 1 Axes>"
            ]
          },
          "metadata": {
            "tags": [],
            "needs_background": "light"
          }
        }
      ]
    },
    {
      "cell_type": "code",
      "metadata": {
        "id": "AEawkkFU3wt9"
      },
      "source": [
        "# Looks like a limit of 2000 characters for the recipes will cover 80+% cases.\n",
        "# We may try to train RNN with this maximum recipe length limit.\n",
        "MAX_RECIPE_LENGTH = 2000\n",
        "\n",
        "if DEBUG:\n",
        "    MAX_RECIPE_LENGTH = 500"
      ],
      "execution_count": null,
      "outputs": []
    },
    {
      "cell_type": "code",
      "metadata": {
        "id": "w5Zc0daK5Ljf"
      },
      "source": [
        "def filter_recipes_by_length(recipe_test):\n",
        "    return len(recipe_test) <= MAX_RECIPE_LENGTH "
      ],
      "execution_count": null,
      "outputs": []
    },
    {
      "cell_type": "code",
      "metadata": {
        "colab": {
          "base_uri": "https://localhost:8080/",
          "height": 68
        },
        "id": "rATzmrAs5U6J",
        "outputId": "695416c7-29ea-4f46-dd62-34d50eafbb8c"
      },
      "source": [
        "dataset_filtered = [recipe_text for recipe_text in dataset_stringified if filter_recipes_by_length(recipe_text)]\n",
        "\n",
        "print('Dataset size BEFORE filtering: ', len(dataset_stringified))\n",
        "print('Dataset size AFTER filtering: ', len(dataset_filtered))\n",
        "print('Number of etiminated recipes: ', len(dataset_stringified) - len(dataset_filtered))"
      ],
      "execution_count": null,
      "outputs": [
        {
          "output_type": "stream",
          "text": [
            "Dataset size BEFORE filtering:  122938\n",
            "Dataset size AFTER filtering:  100212\n",
            "Number of etiminated recipes:  22726\n"
          ],
          "name": "stdout"
        }
      ]
    },
    {
      "cell_type": "code",
      "metadata": {
        "id": "9nllzMwYLYu9"
      },
      "source": [
        "if DEBUG:\n",
        "    dataset_filtered = dataset_filtered[:DEBUG_EXAMPLES]\n",
        "    print('dataset_filtered.shape, ', len(dataset_filtered))"
      ],
      "execution_count": null,
      "outputs": []
    },
    {
      "cell_type": "markdown",
      "metadata": {
        "id": "Kg1i-epD5Civ"
      },
      "source": [
        "### Summarizing dataset parameters"
      ]
    },
    {
      "cell_type": "code",
      "metadata": {
        "colab": {
          "base_uri": "https://localhost:8080/",
          "height": 51
        },
        "id": "Isb8xx8hzoAR",
        "outputId": "b7605783-1a9a-4e9a-acdb-9ba05158dca4"
      },
      "source": [
        "TOTAL_RECIPES_NUM = len(dataset_filtered)\n",
        "\n",
        "print('MAX_RECIPE_LENGTH: ', MAX_RECIPE_LENGTH)\n",
        "print('TOTAL_RECIPES_NUM: ', TOTAL_RECIPES_NUM)"
      ],
      "execution_count": null,
      "outputs": [
        {
          "output_type": "stream",
          "text": [
            "MAX_RECIPE_LENGTH:  2000\n",
            "TOTAL_RECIPES_NUM:  100212\n"
          ],
          "name": "stdout"
        }
      ]
    },
    {
      "cell_type": "markdown",
      "metadata": {
        "id": "KBDPcd9rzoAZ"
      },
      "source": [
        "## Creating vocabulary"
      ]
    },
    {
      "cell_type": "markdown",
      "metadata": {
        "id": "BpscFAk3c0BF"
      },
      "source": [
        "To create a vocabulary out of recipes texts we will use [tf.keras.preprocessing.text.Tokenizer](https://www.tensorflow.org/api_docs/python/tf/keras/preprocessing/text/Tokenizer)"
      ]
    },
    {
      "cell_type": "code",
      "metadata": {
        "id": "yKM3S1zi4U--"
      },
      "source": [
        "# Indicator of the end of the recipe.\n",
        "STOP_SIGN = '␣'"
      ],
      "execution_count": null,
      "outputs": []
    },
    {
      "cell_type": "code",
      "metadata": {
        "id": "PKLG9DzRzoAZ"
      },
      "source": [
        "tokenizer = tf.keras.preprocessing.text.Tokenizer(\n",
        "    char_level=True,\n",
        "    filters='',\n",
        "    lower=False,\n",
        "    split=''\n",
        ")"
      ],
      "execution_count": null,
      "outputs": []
    },
    {
      "cell_type": "code",
      "metadata": {
        "id": "9tX6k-Z6BteV"
      },
      "source": [
        "# Stop word is not a part of recipes, but tokenizer must know about it as well.\n",
        "tokenizer.fit_on_texts([STOP_SIGN])"
      ],
      "execution_count": null,
      "outputs": []
    },
    {
      "cell_type": "code",
      "metadata": {
        "id": "XAK-qwg0zoAb"
      },
      "source": [
        "tokenizer.fit_on_texts(dataset_filtered)"
      ],
      "execution_count": null,
      "outputs": []
    },
    {
      "cell_type": "code",
      "metadata": {
        "colab": {
          "base_uri": "https://localhost:8080/",
          "height": 241
        },
        "id": "aiy2DspqzoAg",
        "outputId": "21ca7ac8-cbb9-4b1f-a981-a1496dfd78a7"
      },
      "source": [
        "tokenizer.get_config()"
      ],
      "execution_count": null,
      "outputs": [
        {
          "output_type": "execute_result",
          "data": {
            "text/plain": [
              "{'num_words': None,\n",
              " 'filters': '',\n",
              " 'lower': False,\n",
              " 'split': '',\n",
              " 'char_level': True,\n",
              " 'oov_token': None,\n",
              " 'document_count': 100213,\n",
              " 'word_counts': '{\"\\\\u2423\": 1, \"\\\\ud83d\\\\udcd7\": 100212, \" \": 17527888, \"S\": 270259, \"l\": 3815150, \"o\": 5987496, \"w\": 964459, \"C\": 222831, \"k\": 890982, \"e\": 9296022, \"r\": 4760887, \"h\": 2922100, \"i\": 4911812, \"c\": 2883507, \"n\": 5304396, \"a\": 6067157, \"d\": 3099679, \"D\": 63999, \"u\": 2717050, \"m\": 1794411, \"p\": 2679164, \"g\": 1698670, \"s\": 4704222, \"\\\\n\": 1955281, \"\\\\ud83e\\\\udd55\": 100212, \"\\\\u2022\": 922813, \"4\": 232607, \",\": 1130487, \"b\": 1394803, \"t\": 5997722, \"v\": 746785, \"2\": 493933, \"(\": 144985, \"1\": 853931, \"0\": 145119, \".\": 1052548, \"7\": 31098, \"5\": 154071, \")\": 144977, \"f\": 1042981, \"y\": 666553, \"\\\\ud83d\\\\udcdd\": 100212, \"\\\\u25aa\": 331058, \"\\\\ufe0e\": 331058, \"P\": 200597, \"6\": 51398, \"H\": 43936, \"A\": 134274, \"3\": 213519, \"R\": 101253, \"x\": 201286, \"/\": 345257, \"I\": 81591, \"L\": 46138, \"8\": 55352, \"9\": 17697, \"B\": 123813, \"M\": 78684, \"F\": 104359, \"j\": 110008, \"-\": 219160, \"W\": 61616, \"\\\\u00ae\": 10159, \"N\": 12808, \"q\": 69654, \"T\": 101371, \";\": 72045, \"\\'\": 26831, \"Z\": 2428, \"z\": 115883, \"G\": 52043, \":\": 31318, \"E\": 18582, \"K\": 18421, \"X\": 385, \"\\\\\"\": 6445, \"O\": 28971, \"Y\": 6064, \"\\\\u2122\": 538, \"Q\": 3904, \"J\": 10269, \"!\": 3014, \"U\": 14132, \"V\": 12172, \"&\": 1039, \"+\": 87, \"=\": 113, \"%\": 993, \"*\": 3243, \"\\\\u00a9\": 99, \"[\": 30, \"]\": 31, \"\\\\u00e9\": 6727, \"<\": 76, \">\": 86, \"\\\\u00bd\": 166, \"#\": 168, \"\\\\u00f1\": 891, \"?\": 327, \"\\\\u2019\": 111, \"\\\\u00b0\": 6808, \"\\\\u201d\": 6, \"$\": 84, \"@\": 5, \"{\": 8, \"}\": 9, \"\\\\u2013\": 1228, \"\\\\u0096\": 7, \"\\\\u00e0\": 26, \"\\\\u00e2\": 106, \"\\\\u00e8\": 846, \"\\\\u00e1\": 74, \"\\\\u2014\": 215, \"\\\\u2044\": 16, \"\\\\u00ee\": 415, \"\\\\u00e7\": 171, \"_\": 26, \"\\\\u00fa\": 48, \"\\\\u00ef\": 43, \"\\\\u201a\": 20, \"\\\\u00fb\": 36, \"\\\\u00f3\": 74, \"\\\\u00ed\": 130, \"\\\\u25ca\": 4, \"\\\\u00f9\": 12, \"\\\\u00d7\": 6, \"\\\\u00ec\": 8, \"\\\\u00fc\": 29, \"\\\\u2031\": 4, \"\\\\u00ba\": 19, \"\\\\u201c\": 4, \"\\\\u00ad\": 25, \"\\\\u00ea\": 27, \"\\\\u00f6\": 9, \"\\\\u0301\": 11, \"\\\\u00f4\": 8, \"\\\\u00c1\": 2, \"\\\\u00be\": 23, \"\\\\u00bc\": 95, \"\\\\u00eb\": 2, \"\\\\u0097\": 2, \"\\\\u215b\": 3, \"\\\\u2027\": 4, \"\\\\u00e4\": 15, \"\\\\u001a\": 2, \"\\\\u00f8\": 2, \"\\\\ufffd\": 20, \"\\\\u02da\": 6, \"\\\\u00bf\": 264, \"\\\\u2153\": 2, \"|\": 2, \"\\\\u00e5\": 3, \"\\\\u00a4\": 1, \"\\\\u201f\": 1, \"\\\\u00a7\": 5, \"\\\\ufb02\": 3, \"\\\\u00a0\": 1, \"\\\\u01b0\": 2, \"\\\\u01a1\": 1, \"\\\\u0103\": 1, \"\\\\u0300\": 1, \"\\\\u00bb\": 6, \"`\": 3, \"\\\\u0092\": 2, \"\\\\u215e\": 1, \"\\\\u202d\": 4, \"\\\\u00b4\": 2, \"\\\\u2012\": 2, \"\\\\u00c9\": 40, \"\\\\u00da\": 14, \"\\\\u20ac\": 1, \"\\\\\\\\\": 5, \"~\": 1, \"\\\\u0095\": 1, \"\\\\u00c2\": 2}',\n",
              " 'word_docs': '{\"\\\\u2423\": 1, \"k\": 97316, \"0\": 61954, \"o\": 100205, \"r\": 100207, \"d\": 100194, \"u\": 100161, \"S\": 89250, \"\\\\u25aa\": 100212, \"D\": 40870, \"1\": 99320, \"g\": 99975, \"n\": 100198, \"b\": 99702, \"t\": 100202, \".\": 100163, \" \": 100212, \"7\": 24377, \"3\": 79135, \"\\\\ud83d\\\\udcd7\": 100212, \"i\": 100207, \"5\": 65486, \"f\": 98331, \"c\": 100190, \"4\": 82453, \"a\": 100205, \"2\": 96743, \"v\": 97848, \"C\": 83328, \"s\": 100204, \"\\\\n\": 100212, \"6\": 35206, \"\\\\ud83d\\\\udcdd\": 100212, \",\": 98524, \"\\\\ufe0e\": 100212, \"l\": 100206, \"e\": 100212, \"y\": 96387, \")\": 67614, \"p\": 100046, \"H\": 31908, \"\\\\ud83e\\\\udd55\": 100212, \"m\": 99988, \"w\": 99227, \"(\": 67627, \"A\": 60900, \"h\": 100161, \"\\\\u2022\": 100212, \"P\": 79364, \"R\": 54040, \"9\": 14114, \"8\": 37000, \"L\": 32101, \"x\": 72133, \"I\": 46675, \"/\": 89051, \"j\": 47438, \"F\": 57940, \"B\": 64278, \"M\": 48332, \"-\": 74711, \"T\": 53758, \"\\\\u00ae\": 5819, \"N\": 9981, \"W\": 38981, \"q\": 36538, \";\": 33863, \"G\": 35355, \"\\'\": 18120, \"z\": 42430, \"Z\": 2184, \":\": 18214, \"E\": 12161, \"K\": 14834, \"X\": 321, \"\\\\\"\": 2617, \"O\": 20103, \"Y\": 5148, \"\\\\u2122\": 448, \"Q\": 3142, \"J\": 8225, \"!\": 2428, \"U\": 10621, \"V\": 9710, \"&\": 749, \"+\": 32, \"=\": 48, \"%\": 717, \"*\": 1780, \"\\\\u00a9\": 91, \"]\": 26, \"[\": 25, \"\\\\u00e9\": 2462, \">\": 33, \"<\": 27, \"\\\\u00bd\": 81, \"#\": 139, \"\\\\u00f1\": 423, \"?\": 207, \"\\\\u2019\": 64, \"\\\\u00b0\": 3062, \"\\\\u201d\": 3, \"@\": 4, \"$\": 49, \"{\": 7, \"}\": 8, \"\\\\u2013\": 491, \"\\\\u0096\": 7, \"\\\\u00e0\": 22, \"\\\\u00e2\": 45, \"\\\\u00e8\": 335, \"\\\\u00e1\": 38, \"\\\\u2014\": 95, \"\\\\u2044\": 9, \"\\\\u00ee\": 122, \"\\\\u00e7\": 120, \"_\": 8, \"\\\\u00fa\": 25, \"\\\\u00ef\": 24, \"\\\\u201a\": 10, \"\\\\u00fb\": 29, \"\\\\u00f3\": 40, \"\\\\u00ed\": 52, \"\\\\u25ca\": 2, \"\\\\u00f9\": 6, \"\\\\u00d7\": 4, \"\\\\u00ec\": 4, \"\\\\u00fc\": 19, \"\\\\u2031\": 2, \"\\\\u00ba\": 9, \"\\\\u201c\": 2, \"\\\\u00ad\": 11, \"\\\\u00ea\": 4, \"\\\\u00f6\": 4, \"\\\\u0301\": 6, \"\\\\u00f4\": 5, \"\\\\u00c1\": 2, \"\\\\u00be\": 18, \"\\\\u00bc\": 55, \"\\\\u00eb\": 2, \"\\\\u0097\": 1, \"\\\\u215b\": 2, \"\\\\u2027\": 3, \"\\\\u00e4\": 8, \"\\\\u001a\": 1, \"\\\\u00f8\": 1, \"\\\\ufffd\": 4, \"\\\\u02da\": 3, \"\\\\u00bf\": 191, \"\\\\u2153\": 1, \"|\": 2, \"\\\\u00e5\": 1, \"\\\\u00a4\": 1, \"\\\\u201f\": 1, \"\\\\u00a7\": 3, \"\\\\ufb02\": 1, \"\\\\u0300\": 1, \"\\\\u01a1\": 1, \"\\\\u00a0\": 1, \"\\\\u01b0\": 1, \"\\\\u0103\": 1, \"\\\\u00bb\": 2, \"`\": 3, \"\\\\u0092\": 2, \"\\\\u215e\": 1, \"\\\\u202d\": 1, \"\\\\u00b4\": 1, \"\\\\u2012\": 1, \"\\\\u00c9\": 15, \"\\\\u00da\": 5, \"\\\\u20ac\": 1, \"\\\\\\\\\": 5, \"~\": 1, \"\\\\u0095\": 1, \"\\\\u00c2\": 1}',\n",
              " 'index_docs': '{\"1\": 100212, \"165\": 1, \"25\": 97316, \"41\": 61954, \"5\": 100205, \"8\": 100207, \"11\": 100194, \"14\": 100161, \"33\": 89250, \"31\": 100212, \"58\": 40870, \"26\": 99320, \"18\": 99975, \"6\": 100198, \"19\": 99702, \"4\": 100202, \"21\": 100163, \"66\": 24377, \"37\": 79135, \"51\": 100212, \"7\": 100207, \"40\": 65486, \"22\": 98331, \"13\": 100190, \"34\": 82453, \"3\": 100205, \"29\": 96743, \"27\": 97848, \"35\": 83328, \"9\": 100204, \"16\": 100212, \"62\": 35206, \"53\": 100212, \"20\": 98524, \"32\": 100212, \"10\": 100206, \"2\": 100212, \"28\": 96387, \"43\": 67614, \"15\": 100046, \"64\": 31908, \"52\": 100212, \"17\": 99988, \"23\": 99227, \"42\": 67627, \"44\": 60900, \"12\": 100161, \"24\": 100212, \"39\": 79364, \"50\": 54040, \"71\": 14114, \"60\": 37000, \"63\": 32101, \"38\": 72133, \"54\": 46675, \"30\": 89051, \"47\": 47438, \"48\": 57940, \"45\": 64278, \"55\": 48332, \"36\": 74711, \"49\": 53758, \"76\": 5819, \"73\": 9981, \"59\": 38981, \"57\": 36538, \"56\": 33863, \"61\": 35355, \"68\": 18120, \"46\": 42430, \"84\": 2184, \"65\": 18214, \"69\": 12161, \"70\": 14834, \"92\": 321, \"79\": 2617, \"67\": 20103, \"80\": 5148, \"90\": 448, \"81\": 3142, \"75\": 8225, \"83\": 2428, \"72\": 10621, \"74\": 9710, \"86\": 749, \"105\": 32, \"100\": 48, \"87\": 717, \"82\": 1780, \"103\": 91, \"115\": 26, \"116\": 25, \"78\": 2462, \"106\": 33, \"108\": 27, \"98\": 81, \"97\": 139, \"88\": 423, \"93\": 207, \"101\": 64, \"77\": 3062, \"137\": 3, \"141\": 4, \"107\": 49, \"133\": 7, \"131\": 8, \"85\": 491, \"136\": 7, \"119\": 22, \"102\": 45, \"89\": 335, \"109\": 38, \"95\": 95, \"126\": 9, \"91\": 122, \"96\": 120, \"120\": 8, \"111\": 25, \"112\": 24, \"123\": 10, \"114\": 29, \"110\": 40, \"99\": 52, \"144\": 2, \"129\": 6, \"138\": 4, \"134\": 4, \"117\": 19, \"145\": 2, \"125\": 9, \"146\": 2, \"121\": 11, \"118\": 4, \"132\": 4, \"130\": 6, \"135\": 5, \"153\": 2, \"122\": 18, \"104\": 55, \"154\": 2, \"155\": 1, \"149\": 2, \"147\": 3, \"127\": 8, \"156\": 1, \"157\": 1, \"124\": 4, \"139\": 3, \"94\": 191, \"158\": 1, \"159\": 2, \"150\": 1, \"166\": 1, \"167\": 1, \"142\": 3, \"151\": 1, \"171\": 1, \"169\": 1, \"168\": 1, \"160\": 1, \"170\": 1, \"140\": 2, \"152\": 3, \"161\": 2, \"172\": 1, \"148\": 1, \"162\": 1, \"163\": 1, \"113\": 15, \"128\": 5, \"173\": 1, \"143\": 5, \"174\": 1, \"175\": 1, \"164\": 1}',\n",
              " 'index_word': '{\"1\": \" \", \"2\": \"e\", \"3\": \"a\", \"4\": \"t\", \"5\": \"o\", \"6\": \"n\", \"7\": \"i\", \"8\": \"r\", \"9\": \"s\", \"10\": \"l\", \"11\": \"d\", \"12\": \"h\", \"13\": \"c\", \"14\": \"u\", \"15\": \"p\", \"16\": \"\\\\n\", \"17\": \"m\", \"18\": \"g\", \"19\": \"b\", \"20\": \",\", \"21\": \".\", \"22\": \"f\", \"23\": \"w\", \"24\": \"\\\\u2022\", \"25\": \"k\", \"26\": \"1\", \"27\": \"v\", \"28\": \"y\", \"29\": \"2\", \"30\": \"/\", \"31\": \"\\\\u25aa\", \"32\": \"\\\\ufe0e\", \"33\": \"S\", \"34\": \"4\", \"35\": \"C\", \"36\": \"-\", \"37\": \"3\", \"38\": \"x\", \"39\": \"P\", \"40\": \"5\", \"41\": \"0\", \"42\": \"(\", \"43\": \")\", \"44\": \"A\", \"45\": \"B\", \"46\": \"z\", \"47\": \"j\", \"48\": \"F\", \"49\": \"T\", \"50\": \"R\", \"51\": \"\\\\ud83d\\\\udcd7\", \"52\": \"\\\\ud83e\\\\udd55\", \"53\": \"\\\\ud83d\\\\udcdd\", \"54\": \"I\", \"55\": \"M\", \"56\": \";\", \"57\": \"q\", \"58\": \"D\", \"59\": \"W\", \"60\": \"8\", \"61\": \"G\", \"62\": \"6\", \"63\": \"L\", \"64\": \"H\", \"65\": \":\", \"66\": \"7\", \"67\": \"O\", \"68\": \"\\'\", \"69\": \"E\", \"70\": \"K\", \"71\": \"9\", \"72\": \"U\", \"73\": \"N\", \"74\": \"V\", \"75\": \"J\", \"76\": \"\\\\u00ae\", \"77\": \"\\\\u00b0\", \"78\": \"\\\\u00e9\", \"79\": \"\\\\\"\", \"80\": \"Y\", \"81\": \"Q\", \"82\": \"*\", \"83\": \"!\", \"84\": \"Z\", \"85\": \"\\\\u2013\", \"86\": \"&\", \"87\": \"%\", \"88\": \"\\\\u00f1\", \"89\": \"\\\\u00e8\", \"90\": \"\\\\u2122\", \"91\": \"\\\\u00ee\", \"92\": \"X\", \"93\": \"?\", \"94\": \"\\\\u00bf\", \"95\": \"\\\\u2014\", \"96\": \"\\\\u00e7\", \"97\": \"#\", \"98\": \"\\\\u00bd\", \"99\": \"\\\\u00ed\", \"100\": \"=\", \"101\": \"\\\\u2019\", \"102\": \"\\\\u00e2\", \"103\": \"\\\\u00a9\", \"104\": \"\\\\u00bc\", \"105\": \"+\", \"106\": \">\", \"107\": \"$\", \"108\": \"<\", \"109\": \"\\\\u00e1\", \"110\": \"\\\\u00f3\", \"111\": \"\\\\u00fa\", \"112\": \"\\\\u00ef\", \"113\": \"\\\\u00c9\", \"114\": \"\\\\u00fb\", \"115\": \"]\", \"116\": \"[\", \"117\": \"\\\\u00fc\", \"118\": \"\\\\u00ea\", \"119\": \"\\\\u00e0\", \"120\": \"_\", \"121\": \"\\\\u00ad\", \"122\": \"\\\\u00be\", \"123\": \"\\\\u201a\", \"124\": \"\\\\ufffd\", \"125\": \"\\\\u00ba\", \"126\": \"\\\\u2044\", \"127\": \"\\\\u00e4\", \"128\": \"\\\\u00da\", \"129\": \"\\\\u00f9\", \"130\": \"\\\\u0301\", \"131\": \"}\", \"132\": \"\\\\u00f6\", \"133\": \"{\", \"134\": \"\\\\u00ec\", \"135\": \"\\\\u00f4\", \"136\": \"\\\\u0096\", \"137\": \"\\\\u201d\", \"138\": \"\\\\u00d7\", \"139\": \"\\\\u02da\", \"140\": \"\\\\u00bb\", \"141\": \"@\", \"142\": \"\\\\u00a7\", \"143\": \"\\\\\\\\\", \"144\": \"\\\\u25ca\", \"145\": \"\\\\u2031\", \"146\": \"\\\\u201c\", \"147\": \"\\\\u2027\", \"148\": \"\\\\u202d\", \"149\": \"\\\\u215b\", \"150\": \"\\\\u00e5\", \"151\": \"\\\\ufb02\", \"152\": \"`\", \"153\": \"\\\\u00c1\", \"154\": \"\\\\u00eb\", \"155\": \"\\\\u0097\", \"156\": \"\\\\u001a\", \"157\": \"\\\\u00f8\", \"158\": \"\\\\u2153\", \"159\": \"|\", \"160\": \"\\\\u01b0\", \"161\": \"\\\\u0092\", \"162\": \"\\\\u00b4\", \"163\": \"\\\\u2012\", \"164\": \"\\\\u00c2\", \"165\": \"\\\\u2423\", \"166\": \"\\\\u00a4\", \"167\": \"\\\\u201f\", \"168\": \"\\\\u00a0\", \"169\": \"\\\\u01a1\", \"170\": \"\\\\u0103\", \"171\": \"\\\\u0300\", \"172\": \"\\\\u215e\", \"173\": \"\\\\u20ac\", \"174\": \"~\", \"175\": \"\\\\u0095\"}',\n",
              " 'word_index': '{\" \": 1, \"e\": 2, \"a\": 3, \"t\": 4, \"o\": 5, \"n\": 6, \"i\": 7, \"r\": 8, \"s\": 9, \"l\": 10, \"d\": 11, \"h\": 12, \"c\": 13, \"u\": 14, \"p\": 15, \"\\\\n\": 16, \"m\": 17, \"g\": 18, \"b\": 19, \",\": 20, \".\": 21, \"f\": 22, \"w\": 23, \"\\\\u2022\": 24, \"k\": 25, \"1\": 26, \"v\": 27, \"y\": 28, \"2\": 29, \"/\": 30, \"\\\\u25aa\": 31, \"\\\\ufe0e\": 32, \"S\": 33, \"4\": 34, \"C\": 35, \"-\": 36, \"3\": 37, \"x\": 38, \"P\": 39, \"5\": 40, \"0\": 41, \"(\": 42, \")\": 43, \"A\": 44, \"B\": 45, \"z\": 46, \"j\": 47, \"F\": 48, \"T\": 49, \"R\": 50, \"\\\\ud83d\\\\udcd7\": 51, \"\\\\ud83e\\\\udd55\": 52, \"\\\\ud83d\\\\udcdd\": 53, \"I\": 54, \"M\": 55, \";\": 56, \"q\": 57, \"D\": 58, \"W\": 59, \"8\": 60, \"G\": 61, \"6\": 62, \"L\": 63, \"H\": 64, \":\": 65, \"7\": 66, \"O\": 67, \"\\'\": 68, \"E\": 69, \"K\": 70, \"9\": 71, \"U\": 72, \"N\": 73, \"V\": 74, \"J\": 75, \"\\\\u00ae\": 76, \"\\\\u00b0\": 77, \"\\\\u00e9\": 78, \"\\\\\"\": 79, \"Y\": 80, \"Q\": 81, \"*\": 82, \"!\": 83, \"Z\": 84, \"\\\\u2013\": 85, \"&\": 86, \"%\": 87, \"\\\\u00f1\": 88, \"\\\\u00e8\": 89, \"\\\\u2122\": 90, \"\\\\u00ee\": 91, \"X\": 92, \"?\": 93, \"\\\\u00bf\": 94, \"\\\\u2014\": 95, \"\\\\u00e7\": 96, \"#\": 97, \"\\\\u00bd\": 98, \"\\\\u00ed\": 99, \"=\": 100, \"\\\\u2019\": 101, \"\\\\u00e2\": 102, \"\\\\u00a9\": 103, \"\\\\u00bc\": 104, \"+\": 105, \">\": 106, \"$\": 107, \"<\": 108, \"\\\\u00e1\": 109, \"\\\\u00f3\": 110, \"\\\\u00fa\": 111, \"\\\\u00ef\": 112, \"\\\\u00c9\": 113, \"\\\\u00fb\": 114, \"]\": 115, \"[\": 116, \"\\\\u00fc\": 117, \"\\\\u00ea\": 118, \"\\\\u00e0\": 119, \"_\": 120, \"\\\\u00ad\": 121, \"\\\\u00be\": 122, \"\\\\u201a\": 123, \"\\\\ufffd\": 124, \"\\\\u00ba\": 125, \"\\\\u2044\": 126, \"\\\\u00e4\": 127, \"\\\\u00da\": 128, \"\\\\u00f9\": 129, \"\\\\u0301\": 130, \"}\": 131, \"\\\\u00f6\": 132, \"{\": 133, \"\\\\u00ec\": 134, \"\\\\u00f4\": 135, \"\\\\u0096\": 136, \"\\\\u201d\": 137, \"\\\\u00d7\": 138, \"\\\\u02da\": 139, \"\\\\u00bb\": 140, \"@\": 141, \"\\\\u00a7\": 142, \"\\\\\\\\\": 143, \"\\\\u25ca\": 144, \"\\\\u2031\": 145, \"\\\\u201c\": 146, \"\\\\u2027\": 147, \"\\\\u202d\": 148, \"\\\\u215b\": 149, \"\\\\u00e5\": 150, \"\\\\ufb02\": 151, \"`\": 152, \"\\\\u00c1\": 153, \"\\\\u00eb\": 154, \"\\\\u0097\": 155, \"\\\\u001a\": 156, \"\\\\u00f8\": 157, \"\\\\u2153\": 158, \"|\": 159, \"\\\\u01b0\": 160, \"\\\\u0092\": 161, \"\\\\u00b4\": 162, \"\\\\u2012\": 163, \"\\\\u00c2\": 164, \"\\\\u2423\": 165, \"\\\\u00a4\": 166, \"\\\\u201f\": 167, \"\\\\u00a0\": 168, \"\\\\u01a1\": 169, \"\\\\u0103\": 170, \"\\\\u0300\": 171, \"\\\\u215e\": 172, \"\\\\u20ac\": 173, \"~\": 174, \"\\\\u0095\": 175}'}"
            ]
          },
          "metadata": {
            "tags": []
          },
          "execution_count": 363
        }
      ]
    },
    {
      "cell_type": "code",
      "metadata": {
        "colab": {
          "base_uri": "https://localhost:8080/",
          "height": 34
        },
        "id": "W0SJy42MzoAe",
        "outputId": "5cc465ad-25e2-47b8-8aed-eac624886e3f"
      },
      "source": [
        "# Adding +1 to take into account a special unassigned 0 index.\n",
        "# @see: https://www.tensorflow.org/api_docs/python/tf/keras/preprocessing/text/Tokenizer\n",
        "VOCABULARY_SIZE = len(tokenizer.word_counts) + 1\n",
        "\n",
        "print('VOCABULARY_SIZE: ', VOCABULARY_SIZE)"
      ],
      "execution_count": null,
      "outputs": [
        {
          "output_type": "stream",
          "text": [
            "VOCABULARY_SIZE:  176\n"
          ],
          "name": "stdout"
        }
      ]
    },
    {
      "cell_type": "code",
      "metadata": {
        "colab": {
          "base_uri": "https://localhost:8080/",
          "height": 51
        },
        "id": "U9njDnXczoAl",
        "outputId": "971ec892-9b4c-480a-ec82-a1bcd0597c42"
      },
      "source": [
        "print(tokenizer.index_word[5])\n",
        "print(tokenizer.index_word[20])"
      ],
      "execution_count": null,
      "outputs": [
        {
          "output_type": "stream",
          "text": [
            "o\n",
            ",\n"
          ],
          "name": "stdout"
        }
      ]
    },
    {
      "cell_type": "code",
      "metadata": {
        "colab": {
          "base_uri": "https://localhost:8080/",
          "height": 34
        },
        "id": "gMQeZbdd75ZJ",
        "outputId": "cb98c83e-9344-4a8c-8c3e-aab0e874737f"
      },
      "source": [
        "tokenizer.word_index['r']"
      ],
      "execution_count": null,
      "outputs": [
        {
          "output_type": "execute_result",
          "data": {
            "text/plain": [
              "8"
            ]
          },
          "metadata": {
            "tags": []
          },
          "execution_count": 366
        }
      ]
    },
    {
      "cell_type": "code",
      "metadata": {
        "id": "Lv9wC-Ecc0BJ",
        "outputId": "1c144de4-9cc9-4703-efa0-37a2aaf99507"
      },
      "source": [
        "# For demo application we need to have an array of characters as vocabulary.\n",
        "js_vocabulary = tokenizer.sequences_to_texts([[word_index] for word_index in range(VOCABULARY_SIZE)])\n",
        "print([char for char in js_vocabulary])"
      ],
      "execution_count": null,
      "outputs": [
        {
          "output_type": "stream",
          "text": [
            "['', ' ', 'e', 'a', 't', 'o', 'n', 'i', 'r', 's', 'l', 'd', 'h', 'c', 'u', 'p', '\\n', 'm', 'g', 'b', ',', '.', 'f', 'w', '•', 'k', '1', 'v', 'y', '2', '/', '▪', '︎', 'S', '4', 'C', '-', '3', 'x', 'P', '5', '0', '(', ')', 'A', 'B', 'z', 'j', 'F', 'T', 'R', '📗', '🥕', '📝', 'I', 'M', ';', 'q', 'D', 'W', '8', 'G', '6', 'L', 'H', ':', '7', 'O', \"'\", 'E', 'K', '9', 'U', 'N', 'V', 'J', '®', '°', 'é', '\"', 'Y', 'Q', '*', '!', 'Z', '–', '&', '%', 'ñ', 'è', '™', 'î', 'X', '?', '¿', '—', 'ç', '#', '½', 'í', '=', '’', 'â', '©', '¼', '+', '>', '$', '<', 'á', 'ó', 'ú', 'ï', 'É', 'û', ']', '[', 'ü', 'ê', 'à', '_', '\\xad', '¾', '‚', '�', 'º', '⁄', 'ä', 'Ú', 'ù', '́', '}', 'ö', '{', 'ì', 'ô', '\\x96', '”', '×', '˚', '»', '@', '§', '\\\\', '◊', '‱', '“', '‧', '\\u202d', '⅛', 'å', 'ﬂ', '`', 'Á', 'ë', '\\x97', '\\x1a', 'ø', '⅓', '|', 'ư', '\\x92', '´', '‒', 'Â', '␣', '¤', '‟', '\\xa0', 'ơ', 'ă', '̀', '⅞', '€', '~', '\\x95']\n"
          ],
          "name": "stdout"
        }
      ]
    },
    {
      "cell_type": "code",
      "metadata": {
        "id": "t4gzRFfAc0BJ",
        "outputId": "f348b4af-34cd-4902-92ec-cad090a6a8d7"
      },
      "source": [
        "# Test proper conversion from text to indices.\n",
        "# This is needed for debugging a demo app.\n",
        "tokenizer.texts_to_sequences(['📗 yes'])"
      ],
      "execution_count": null,
      "outputs": [
        {
          "output_type": "execute_result",
          "data": {
            "text/plain": [
              "[[51, 1, 28, 2, 9]]"
            ]
          },
          "metadata": {
            "tags": []
          },
          "execution_count": 368
        }
      ]
    },
    {
      "cell_type": "markdown",
      "metadata": {
        "id": "DctJLdjMzoAn"
      },
      "source": [
        "## Vectorizing the dataset"
      ]
    },
    {
      "cell_type": "markdown",
      "metadata": {
        "id": "KNeSwRWGc0BK"
      },
      "source": [
        "Now, once we have a vocabulary (`character --> code` and `code --> character` relations) we may convert the set of recipes from text to numbers (RNN works with numbers as an input and not with the texts)."
      ]
    },
    {
      "cell_type": "code",
      "metadata": {
        "id": "Dai0OfBjzoAn"
      },
      "source": [
        "def recipe_sequence_to_string(recipe_sequence):\n",
        "    recipe_stringified = tokenizer.sequences_to_texts([recipe_sequence])[0]\n",
        "    recipe_stringified = recipe_stringified.replace('   ', '_').replace(' ', '').replace('_', ' ')\n",
        "    print(recipe_stringified)"
      ],
      "execution_count": null,
      "outputs": []
    },
    {
      "cell_type": "code",
      "metadata": {
        "id": "P1efPWArzoAp"
      },
      "source": [
        "dataset_vectorized = tokenizer.texts_to_sequences(dataset_filtered)"
      ],
      "execution_count": null,
      "outputs": []
    },
    {
      "cell_type": "code",
      "metadata": {
        "colab": {
          "base_uri": "https://localhost:8080/",
          "height": 34
        },
        "id": "VUaKUrefzoAr",
        "outputId": "00de88ce-43f8-4171-aac7-fcc6d24a86d4"
      },
      "source": [
        "print('Vectorized dataset size', len(dataset_vectorized))"
      ],
      "execution_count": null,
      "outputs": [
        {
          "output_type": "stream",
          "text": [
            "Vectorized dataset size 100212\n"
          ],
          "name": "stdout"
        }
      ]
    },
    {
      "cell_type": "code",
      "metadata": {
        "colab": {
          "base_uri": "https://localhost:8080/",
          "height": 34
        },
        "id": "WexryHNUzoAu",
        "outputId": "a6ef3bc0-c6d1-4775-efa1-e040068de11d"
      },
      "source": [
        "print(dataset_vectorized[0][:10], '...')"
      ],
      "execution_count": null,
      "outputs": [
        {
          "output_type": "stream",
          "text": [
            "[51, 1, 33, 10, 5, 23, 1, 35, 5, 5] ...\n"
          ],
          "name": "stdout"
        }
      ]
    },
    {
      "cell_type": "code",
      "metadata": {
        "colab": {
          "base_uri": "https://localhost:8080/",
          "height": 54
        },
        "id": "0kBu8keNUHp-",
        "outputId": "d807a568-4265-4d41-e3a3-cc121b5489d9"
      },
      "source": [
        "max_index_example = np.max(dataset_vectorized)\n",
        "\n",
        "print('max_index_example: ', max_index_example)"
      ],
      "execution_count": null,
      "outputs": [
        {
          "output_type": "stream",
          "text": [
            "max_index_example:  [51, 1, 97, 26, 1, 39, 2, 3, 1, 33, 3, 10, 3, 11, 1, 55, 5, 9, 4, 1, 50, 2, 57, 14, 2, 9, 4, 2, 11, 83, 16, 16, 52, 16, 16, 24, 1, 29, 1, 42, 26, 62, 1, 5, 14, 6, 13, 2, 43, 1, 15, 3, 13, 25, 3, 18, 2, 9, 1, 22, 8, 5, 46, 2, 6, 1, 15, 2, 4, 7, 4, 2, 1, 15, 2, 3, 9, 1, 16, 24, 1, 62, 1, 5, 14, 6, 13, 2, 9, 1, 9, 17, 5, 25, 2, 36, 22, 10, 3, 27, 5, 8, 2, 11, 1, 3, 10, 17, 5, 6, 11, 9, 20, 1, 22, 7, 6, 2, 10, 28, 1, 13, 12, 5, 15, 15, 2, 11, 1, 16, 24, 1, 26, 1, 5, 6, 7, 5, 6, 20, 1, 22, 7, 6, 2, 10, 28, 1, 13, 12, 5, 15, 15, 2, 11, 1, 16, 24, 1, 26, 1, 13, 14, 15, 1, 17, 3, 28, 5, 6, 6, 3, 7, 9, 2, 20, 1, 5, 8, 1, 17, 5, 8, 2, 1, 4, 5, 1, 4, 3, 9, 4, 2, 1, 16, 24, 1, 18, 8, 5, 14, 6, 11, 1, 19, 10, 3, 13, 25, 1, 15, 2, 15, 15, 2, 8, 1, 4, 5, 1, 4, 3, 9, 4, 2, 1, 16, 16, 53, 16, 16, 31, 32, 1, 39, 10, 3, 13, 2, 1, 22, 8, 5, 46, 2, 6, 1, 15, 2, 3, 9, 1, 7, 6, 1, 3, 1, 13, 5, 10, 3, 6, 11, 2, 8, 56, 1, 8, 7, 6, 9, 2, 1, 14, 6, 11, 2, 8, 1, 13, 5, 10, 11, 1, 23, 3, 4, 2, 8, 1, 14, 6, 4, 7, 10, 1, 4, 12, 3, 23, 2, 11, 21, 1, 58, 8, 3, 7, 6, 1, 3, 6, 11, 1, 4, 8, 3, 6, 9, 22, 2, 8, 1, 4, 5, 1, 3, 1, 10, 3, 8, 18, 2, 1, 19, 5, 23, 10, 21, 1, 44, 11, 11, 1, 3, 10, 17, 5, 6, 11, 9, 1, 3, 6, 11, 1, 5, 6, 7, 5, 6, 9, 56, 1, 17, 7, 38, 1, 23, 2, 10, 10, 21, 1, 48, 5, 10, 11, 1, 17, 3, 28, 5, 6, 6, 3, 7, 9, 2, 1, 3, 6, 11, 1, 19, 10, 3, 13, 25, 1, 15, 2, 15, 15, 2, 8, 1, 7, 6, 4, 5, 1, 15, 2, 3, 1, 17, 7, 38, 4, 14, 8, 2, 1, 14, 6, 4, 7, 10, 1, 2, 27, 2, 6, 10, 28, 1, 13, 5, 3, 4, 2, 11, 21, 1, 35, 5, 27, 2, 8, 1, 3, 6, 11, 1, 8, 2, 22, 8, 7, 18, 2, 8, 3, 4, 2, 1, 14, 6, 4, 7, 10, 1, 9, 2, 8, 27, 7, 6, 18, 21, 16]\n"
          ],
          "name": "stdout"
        }
      ]
    },
    {
      "cell_type": "code",
      "metadata": {
        "colab": {
          "base_uri": "https://localhost:8080/",
          "height": 292
        },
        "id": "RL1zM3GGzoAy",
        "outputId": "c5523bcb-a047-4bc1-e251-f2b6231bc6e6"
      },
      "source": [
        "recipe_sequence_to_string(dataset_vectorized[0])"
      ],
      "execution_count": null,
      "outputs": [
        {
          "output_type": "stream",
          "text": [
            "📗 Slow Cooker Chicken and Dumplings\n",
            "\n",
            "🥕\n",
            "\n",
            "• 4 skinless, boneless chicken breast halves \n",
            "• 2 tablespoons butter \n",
            "• 2 (10.75 ounce) cans condensed cream of chicken soup \n",
            "• 1 onion, finely diced \n",
            "• 2 (10 ounce) packages refrigerated biscuit dough, torn into pieces \n",
            "\n",
            "📝\n",
            "\n",
            "▪︎ Place the chicken, butter, soup, and onion in a slow cooker, and fill with enough water to cover.\n",
            "▪︎ Cover, and cook for 5 to 6 hours on High. About 30 minutes before serving, place the torn biscuit dough in the slow cooker. Cook until the dough is no longer raw in the center.\n",
            "\n"
          ],
          "name": "stdout"
        }
      ]
    },
    {
      "cell_type": "markdown",
      "metadata": {
        "id": "-Jka4jyNzoA0"
      },
      "source": [
        "### Add padding to sequences"
      ]
    },
    {
      "cell_type": "markdown",
      "metadata": {
        "id": "jvSEkmWec0BO"
      },
      "source": [
        "We need all recipes to have the same length for training. To do that we'll use [tf.keras.preprocessing.sequence.pad_sequences](https://www.tensorflow.org/api_docs/python/tf/keras/preprocessing/sequence/pad_sequences) utility to add a stop word to the end of each recipe and to make them have the same length."
      ]
    },
    {
      "cell_type": "code",
      "metadata": {
        "colab": {
          "base_uri": "https://localhost:8080/",
          "height": 187
        },
        "id": "m6tq1NQczoA9",
        "outputId": "4928dfa7-ef86-432b-fd14-82f606cc5cdf"
      },
      "source": [
        "for recipe_index, recipe in enumerate(dataset_vectorized[:10]):\n",
        "    print('Recipe #{} length: {}'.format(recipe_index + 1, len(recipe)))"
      ],
      "execution_count": null,
      "outputs": [
        {
          "output_type": "stream",
          "text": [
            "Recipe #1 length: 546\n",
            "Recipe #2 length: 401\n",
            "Recipe #3 length: 671\n",
            "Recipe #4 length: 736\n",
            "Recipe #5 length: 1518\n",
            "Recipe #6 length: 740\n",
            "Recipe #7 length: 839\n",
            "Recipe #8 length: 667\n",
            "Recipe #9 length: 1264\n",
            "Recipe #10 length: 854\n"
          ],
          "name": "stdout"
        }
      ]
    },
    {
      "cell_type": "code",
      "metadata": {
        "id": "tnIt-X1zzoA_"
      },
      "source": [
        "dataset_vectorized_padded_without_stops = tf.keras.preprocessing.sequence.pad_sequences(\n",
        "    dataset_vectorized,\n",
        "    padding='post',\n",
        "    truncating='post',\n",
        "    # We use -1 here and +1 in the next step to make sure that all recipes will have at least 1 stops\n",
        "    # sign at the end, since each sequence will be shifted and truncated afterwards (to generate X and Y sequences).\n",
        "    maxlen=MAX_RECIPE_LENGTH-1,\n",
        "    value=tokenizer.texts_to_sequences([STOP_SIGN])[0]\n",
        ")"
      ],
      "execution_count": null,
      "outputs": []
    },
    {
      "cell_type": "code",
      "metadata": {
        "id": "8y5KbZcezoBB"
      },
      "source": [
        "dataset_vectorized_padded = tf.keras.preprocessing.sequence.pad_sequences(\n",
        "    dataset_vectorized_padded_without_stops,\n",
        "    padding='post',\n",
        "    truncating='post',\n",
        "    maxlen=MAX_RECIPE_LENGTH+1,\n",
        "    value=tokenizer.texts_to_sequences([STOP_SIGN])[0]\n",
        ")"
      ],
      "execution_count": null,
      "outputs": []
    },
    {
      "cell_type": "code",
      "metadata": {
        "colab": {
          "base_uri": "https://localhost:8080/",
          "height": 187
        },
        "id": "FNfalISfzoBD",
        "outputId": "5fb0aa80-eaaa-4140-e491-f1fec5695132"
      },
      "source": [
        "for recipe_index, recipe in enumerate(dataset_vectorized_padded[:10]):\n",
        "    print('Recipe #{} length: {}'.format(recipe_index, len(recipe)))"
      ],
      "execution_count": null,
      "outputs": [
        {
          "output_type": "stream",
          "text": [
            "Recipe #0 length: 2001\n",
            "Recipe #1 length: 2001\n",
            "Recipe #2 length: 2001\n",
            "Recipe #3 length: 2001\n",
            "Recipe #4 length: 2001\n",
            "Recipe #5 length: 2001\n",
            "Recipe #6 length: 2001\n",
            "Recipe #7 length: 2001\n",
            "Recipe #8 length: 2001\n",
            "Recipe #9 length: 2001\n"
          ],
          "name": "stdout"
        }
      ]
    },
    {
      "cell_type": "code",
      "metadata": {
        "colab": {
          "base_uri": "https://localhost:8080/",
          "height": 292
        },
        "id": "QTA-Dy1bzoBF",
        "outputId": "0615d034-cb92-4f8c-dfb5-dc999bf504bc"
      },
      "source": [
        "recipe_sequence_to_string(dataset_vectorized_padded[0])"
      ],
      "execution_count": null,
      "outputs": [
        {
          "output_type": "stream",
          "text": [
            "📗 Slow Cooker Chicken and Dumplings\n",
            "\n",
            "🥕\n",
            "\n",
            "• 4 skinless, boneless chicken breast halves \n",
            "• 2 tablespoons butter \n",
            "• 2 (10.75 ounce) cans condensed cream of chicken soup \n",
            "• 1 onion, finely diced \n",
            "• 2 (10 ounce) packages refrigerated biscuit dough, torn into pieces \n",
            "\n",
            "📝\n",
            "\n",
            "▪︎ Place the chicken, butter, soup, and onion in a slow cooker, and fill with enough water to cover.\n",
            "▪︎ Cover, and cook for 5 to 6 hours on High. About 30 minutes before serving, place the torn biscuit dough in the slow cooker. Cook until the dough is no longer raw in the center.\n",
            "␣␣␣␣␣␣␣␣␣␣␣␣␣␣␣␣␣␣␣␣␣␣␣␣␣␣␣␣␣␣␣␣␣␣␣␣␣␣␣␣␣␣␣␣␣␣␣␣␣␣␣␣␣␣␣␣␣␣␣␣␣␣␣␣␣␣␣␣␣␣␣␣␣␣␣␣␣␣␣␣␣␣␣␣␣␣␣␣␣␣␣␣␣␣␣␣␣␣␣␣␣␣␣␣␣␣␣␣␣␣␣␣␣␣␣␣␣␣␣␣␣␣␣␣␣␣␣␣␣␣␣␣␣␣␣␣␣␣␣␣␣␣␣␣␣␣␣␣␣␣␣␣␣␣␣␣␣␣␣␣␣␣␣␣␣␣␣␣␣␣␣␣␣␣␣␣␣␣␣␣␣␣␣␣␣␣␣␣␣␣␣␣␣␣␣␣␣␣␣␣␣␣␣␣␣␣␣␣␣␣␣␣␣␣␣␣␣␣␣␣␣␣␣␣␣␣␣␣␣␣␣␣␣␣␣␣␣␣␣␣␣␣␣␣␣␣␣␣␣␣␣␣␣␣␣␣␣␣␣␣␣␣␣␣␣␣␣␣␣␣␣␣␣␣␣␣␣␣␣␣␣␣␣␣␣␣␣␣␣␣␣␣␣␣␣␣␣␣␣␣␣␣␣␣␣␣␣␣␣␣␣␣␣␣␣␣␣␣␣␣␣␣␣␣␣␣␣␣␣␣␣␣␣␣␣␣␣␣␣␣␣␣␣␣␣␣␣␣␣␣␣␣␣␣␣␣␣␣␣␣␣␣␣␣␣␣␣␣␣␣␣␣␣␣␣␣␣␣␣␣␣␣␣␣␣␣␣␣␣␣␣␣␣␣␣␣␣␣␣␣␣␣␣␣␣␣␣␣␣␣␣␣␣␣␣␣␣␣␣␣␣␣␣␣␣␣␣␣␣␣␣␣␣␣␣␣␣␣␣␣␣␣␣␣␣␣␣␣␣␣␣␣␣␣␣␣␣␣␣␣␣␣␣␣␣␣␣␣␣␣␣␣␣␣␣␣␣␣␣␣␣␣␣␣␣␣␣␣␣␣␣␣␣␣␣␣␣␣␣␣␣␣␣␣␣␣␣␣␣␣␣␣␣␣␣␣␣␣␣␣␣␣␣␣␣␣␣␣␣␣␣␣␣␣␣␣␣␣␣␣␣␣␣␣␣␣␣␣␣␣␣␣␣␣␣␣␣␣␣␣␣␣␣␣␣␣␣␣␣␣␣␣␣␣␣␣␣␣␣␣␣␣␣␣␣␣␣␣␣␣␣␣␣␣␣␣␣␣␣␣␣␣␣␣␣␣␣␣␣␣␣␣␣␣␣␣␣␣␣␣␣␣␣␣␣␣␣␣␣␣␣␣␣␣␣␣␣␣␣␣␣␣␣␣␣␣␣␣␣␣␣␣␣␣␣␣␣␣␣␣␣␣␣␣␣␣␣␣␣␣␣␣␣␣␣␣␣␣␣␣␣␣␣␣␣␣␣␣␣␣␣␣␣␣␣␣␣␣␣␣␣␣␣␣␣␣␣␣␣␣␣␣␣␣␣␣␣␣␣␣␣␣␣␣␣␣␣␣␣␣␣␣␣␣␣␣␣␣␣␣␣␣␣␣␣␣␣␣␣␣␣␣␣␣␣␣␣␣␣␣␣␣␣␣␣␣␣␣␣␣␣␣␣␣␣␣␣␣␣␣␣␣␣␣␣␣␣␣␣␣␣␣␣␣␣␣␣␣␣␣␣␣␣␣␣␣␣␣␣␣␣␣␣␣␣␣␣␣␣␣␣␣␣␣␣␣␣␣␣␣␣␣␣␣␣␣␣␣␣␣␣␣␣␣␣␣␣␣␣␣␣␣␣␣␣␣␣␣␣␣␣␣␣␣␣␣␣␣␣␣␣␣␣␣␣␣␣␣␣␣␣␣␣␣␣␣␣␣␣␣␣␣␣␣␣␣␣␣␣␣␣␣␣␣␣␣␣␣␣␣␣␣␣␣␣␣␣␣␣␣␣␣␣␣␣␣␣␣␣␣␣␣␣␣␣␣␣␣␣␣␣␣␣␣␣␣␣␣␣␣␣␣␣␣␣␣␣␣␣␣␣␣␣␣␣␣␣␣␣␣␣␣␣␣␣␣␣␣␣␣␣␣␣␣␣␣␣␣␣␣␣␣␣␣␣␣␣␣␣␣␣␣␣␣␣␣␣␣␣␣␣␣␣␣␣␣␣␣␣␣␣␣␣␣␣␣␣␣␣␣␣␣␣␣␣␣␣␣␣␣␣␣␣␣␣␣␣␣␣␣␣␣␣␣␣␣␣␣␣␣␣␣␣␣␣␣␣␣␣␣␣␣␣␣␣␣␣␣␣␣␣␣␣␣␣␣␣␣␣␣␣␣␣␣␣␣␣␣␣␣␣␣␣␣␣␣␣␣␣␣␣␣␣␣␣␣␣␣␣␣␣␣␣␣␣␣␣␣␣␣␣␣␣␣␣␣␣␣␣␣␣␣␣␣␣␣␣␣␣␣␣␣␣␣␣␣␣␣␣␣␣␣␣␣␣␣␣␣␣␣␣␣␣␣␣␣␣␣␣␣␣␣␣␣␣␣␣␣␣␣␣␣␣␣␣␣␣␣␣␣␣␣␣␣␣␣␣␣␣␣␣␣␣␣␣␣␣␣␣␣␣␣␣␣␣␣␣␣␣␣␣␣␣␣␣␣␣␣␣␣␣␣␣␣␣␣␣␣␣␣␣␣␣␣␣␣␣␣␣␣␣␣␣␣␣␣␣␣␣␣␣␣␣␣␣␣␣␣␣␣␣␣␣␣␣␣␣␣␣␣␣␣␣␣␣␣␣␣␣␣␣␣␣␣␣␣␣␣␣␣␣␣␣␣␣␣␣␣␣␣␣␣␣␣␣␣␣␣␣␣␣␣␣␣␣␣␣␣␣␣␣␣␣␣␣␣␣␣␣␣␣␣␣␣␣␣␣␣␣␣␣␣␣␣␣␣␣␣␣␣␣␣␣␣␣␣␣␣␣␣␣␣␣␣␣␣␣␣␣␣␣␣␣␣␣␣␣␣␣␣␣␣␣␣␣␣␣␣␣␣␣␣␣␣␣␣␣␣␣␣␣␣␣␣␣␣␣␣␣␣␣␣␣␣␣␣␣␣␣␣␣␣␣␣␣␣␣␣␣␣␣␣␣␣␣\n"
          ],
          "name": "stdout"
        }
      ]
    },
    {
      "cell_type": "code",
      "metadata": {
        "colab": {
          "base_uri": "https://localhost:8080/",
          "height": 34
        },
        "id": "H51-PGMMUguv",
        "outputId": "7516377c-4800-4017-c3c8-1407c707ff52"
      },
      "source": [
        "max_index_example = np.max(dataset_vectorized_padded)\n",
        "\n",
        "print('max_index_example: ', max_index_example)"
      ],
      "execution_count": null,
      "outputs": [
        {
          "output_type": "stream",
          "text": [
            "max_index_example:  175\n"
          ],
          "name": "stdout"
        }
      ]
    },
    {
      "cell_type": "markdown",
      "metadata": {
        "id": "ZoZqCOjRzoBH"
      },
      "source": [
        "### Create TensorFlow dataset "
      ]
    },
    {
      "cell_type": "code",
      "metadata": {
        "colab": {
          "base_uri": "https://localhost:8080/",
          "height": 34
        },
        "id": "yVznKnhVzoBI",
        "outputId": "13e4adcc-8776-478a-f115-d3cc71af1e77"
      },
      "source": [
        "dataset = tf.data.Dataset.from_tensor_slices(dataset_vectorized_padded)\n",
        "\n",
        "print(dataset)"
      ],
      "execution_count": null,
      "outputs": [
        {
          "output_type": "stream",
          "text": [
            "<TensorSliceDataset shapes: (2001,), types: tf.int32>\n"
          ],
          "name": "stdout"
        }
      ]
    },
    {
      "cell_type": "code",
      "metadata": {
        "colab": {
          "base_uri": "https://localhost:8080/",
          "height": 411
        },
        "id": "vXotghNqzoBL",
        "outputId": "a8531c7b-fa9b-4a8f-993c-bcadf6046878"
      },
      "source": [
        "for recipe in dataset.take(1):\n",
        "    print('Raw recipe:\\n', recipe.numpy(), '\\n\\n\\n')\n",
        "    print('Stringified recipe:\\n')\n",
        "    recipe_sequence_to_string(recipe.numpy())"
      ],
      "execution_count": null,
      "outputs": [
        {
          "output_type": "stream",
          "text": [
            "Raw recipe:\n",
            " [ 51   1  33 ... 165 165 165] \n",
            "\n",
            "\n",
            "\n",
            "Stringified recipe:\n",
            "\n",
            "📗 Slow Cooker Chicken and Dumplings\n",
            "\n",
            "🥕\n",
            "\n",
            "• 4 skinless, boneless chicken breast halves \n",
            "• 2 tablespoons butter \n",
            "• 2 (10.75 ounce) cans condensed cream of chicken soup \n",
            "• 1 onion, finely diced \n",
            "• 2 (10 ounce) packages refrigerated biscuit dough, torn into pieces \n",
            "\n",
            "📝\n",
            "\n",
            "▪︎ Place the chicken, butter, soup, and onion in a slow cooker, and fill with enough water to cover.\n",
            "▪︎ Cover, and cook for 5 to 6 hours on High. About 30 minutes before serving, place the torn biscuit dough in the slow cooker. Cook until the dough is no longer raw in the center.\n",
            "␣␣␣␣␣␣␣␣␣␣␣␣␣␣␣␣␣␣␣␣␣␣␣␣␣␣␣␣␣␣␣␣␣␣␣␣␣␣␣␣␣␣␣␣␣␣␣␣␣␣␣␣␣␣␣␣␣␣␣␣␣␣␣␣␣␣␣␣␣␣␣␣␣␣␣␣␣␣␣␣␣␣␣␣␣␣␣␣␣␣␣␣␣␣␣␣␣␣␣␣␣␣␣␣␣␣␣␣␣␣␣␣␣␣␣␣␣␣␣␣␣␣␣␣␣␣␣␣␣␣␣␣␣␣␣␣␣␣␣␣␣␣␣␣␣␣␣␣␣␣␣␣␣␣␣␣␣␣␣␣␣␣␣␣␣␣␣␣␣␣␣␣␣␣␣␣␣␣␣␣␣␣␣␣␣␣␣␣␣␣␣␣␣␣␣␣␣␣␣␣␣␣␣␣␣␣␣␣␣␣␣␣␣␣␣␣␣␣␣␣␣␣␣␣␣␣␣␣␣␣␣␣␣␣␣␣␣␣␣␣␣␣␣␣␣␣␣␣␣␣␣␣␣␣␣␣␣␣␣␣␣␣␣␣␣␣␣␣␣␣␣␣␣␣␣␣␣␣␣␣␣␣␣␣␣␣␣␣␣␣␣␣␣␣␣␣␣␣␣␣␣␣␣␣␣␣␣␣␣␣␣␣␣␣␣␣␣␣␣␣␣␣␣␣␣␣␣␣␣␣␣␣␣␣␣␣␣␣␣␣␣␣␣␣␣␣␣␣␣␣␣␣␣␣␣␣␣␣␣␣␣␣␣␣␣␣␣␣␣␣␣␣␣␣␣␣␣␣␣␣␣␣␣␣␣␣␣␣␣␣␣␣␣␣␣␣␣␣␣␣␣␣␣␣␣␣␣␣␣␣␣␣␣␣␣␣␣␣␣␣␣␣␣␣␣␣␣␣␣␣␣␣␣␣␣␣␣␣␣␣␣␣␣␣␣␣␣␣␣␣␣␣␣␣␣␣␣␣␣␣␣␣␣␣␣␣␣␣␣␣␣␣␣␣␣␣␣␣␣␣␣␣␣␣␣␣␣␣␣␣␣␣␣␣␣␣␣␣␣␣␣␣␣␣␣␣␣␣␣␣␣␣␣␣␣␣␣␣␣␣␣␣␣␣␣␣␣␣␣␣␣␣␣␣␣␣␣␣␣␣␣␣␣␣␣␣␣␣␣␣␣␣␣␣␣␣␣␣␣␣␣␣␣␣␣␣␣␣␣␣␣␣␣␣␣␣␣␣␣␣␣␣␣␣␣␣␣␣␣␣␣␣␣␣␣␣␣␣␣␣␣␣␣␣␣␣␣␣␣␣␣␣␣␣␣␣␣␣␣␣␣␣␣␣␣␣␣␣␣␣␣␣␣␣␣␣␣␣␣␣␣␣␣␣␣␣␣␣␣␣␣␣␣␣␣␣␣␣␣␣␣␣␣␣␣␣␣␣␣␣␣␣␣␣␣␣␣␣␣␣␣␣␣␣␣␣␣␣␣␣␣␣␣␣␣␣␣␣␣␣␣␣␣␣␣␣␣␣␣␣␣␣␣␣␣␣␣␣␣␣␣␣␣␣␣␣␣␣␣␣␣␣␣␣␣␣␣␣␣␣␣␣␣␣␣␣␣␣␣␣␣␣␣␣␣␣␣␣␣␣␣␣␣␣␣␣␣␣␣␣␣␣␣␣␣␣␣␣␣␣␣␣␣␣␣␣␣␣␣␣␣␣␣␣␣␣␣␣␣␣␣␣␣␣␣␣␣␣␣␣␣␣␣␣␣␣␣␣␣␣␣␣␣␣␣␣␣␣␣␣␣␣␣␣␣␣␣␣␣␣␣␣␣␣␣␣␣␣␣␣␣␣␣␣␣␣␣␣␣␣␣␣␣␣␣␣␣␣␣␣␣␣␣␣␣␣␣␣␣␣␣␣␣␣␣␣␣␣␣␣␣␣␣␣␣␣␣␣␣␣␣␣␣␣␣␣␣␣␣␣␣␣␣␣␣␣␣␣␣␣␣␣␣␣␣␣␣␣␣␣␣␣␣␣␣␣␣␣␣␣␣␣␣␣␣␣␣␣␣␣␣␣␣␣␣␣␣␣␣␣␣␣␣␣␣␣␣␣␣␣␣␣␣␣␣␣␣␣␣␣␣␣␣␣␣␣␣␣␣␣␣␣␣␣␣␣␣␣␣␣␣␣␣␣␣␣␣␣␣␣␣␣␣␣␣␣␣␣␣␣␣␣␣␣␣␣␣␣␣␣␣␣␣␣␣␣␣␣␣␣␣␣␣␣␣␣␣␣␣␣␣␣␣␣␣␣␣␣␣␣␣␣␣␣␣␣␣␣␣␣␣␣␣␣␣␣␣␣␣␣␣␣␣␣␣␣␣␣␣␣␣␣␣␣␣␣␣␣␣␣␣␣␣␣␣␣␣␣␣␣␣␣␣␣␣␣␣␣␣␣␣␣␣␣␣␣␣␣␣␣␣␣␣␣␣␣␣␣␣␣␣␣␣␣␣␣␣␣␣␣␣␣␣␣␣␣␣␣␣␣␣␣␣␣␣␣␣␣␣␣␣␣␣␣␣␣␣␣␣␣␣␣␣␣␣␣␣␣␣␣␣␣␣␣␣␣␣␣␣␣␣␣␣␣␣␣␣␣␣␣␣␣␣␣␣␣␣␣␣␣␣␣␣␣␣␣␣␣␣␣␣␣␣␣␣␣␣␣␣␣␣␣␣␣␣␣␣␣␣␣␣␣␣␣␣␣␣␣␣␣␣␣␣␣␣␣␣␣␣␣␣␣␣␣␣␣␣␣␣␣␣␣␣␣␣␣␣␣␣␣␣␣␣␣␣␣␣␣␣␣␣␣␣␣␣␣␣␣␣␣␣␣␣␣␣␣␣␣␣␣␣␣␣␣␣␣␣␣␣␣␣␣␣␣␣␣␣␣␣␣␣␣␣␣␣␣␣␣␣␣␣␣␣␣␣␣␣␣␣␣␣␣␣␣␣␣␣␣␣␣␣␣␣␣␣␣␣␣␣␣␣␣␣␣␣␣␣␣␣␣␣␣␣␣␣␣␣␣␣␣␣␣␣␣␣␣␣␣␣␣␣␣␣␣␣␣␣␣␣␣␣␣␣␣␣␣␣␣␣␣␣␣␣␣␣␣␣␣␣␣␣␣␣␣␣␣␣␣␣␣␣␣␣␣␣\n"
          ],
          "name": "stdout"
        }
      ]
    },
    {
      "cell_type": "markdown",
      "metadata": {
        "id": "EjfoLORXzoBO"
      },
      "source": [
        "### Split examples on `input` and `target` texts"
      ]
    },
    {
      "cell_type": "markdown",
      "metadata": {
        "id": "2zQqdBIGzoBP"
      },
      "source": [
        "For each sequence, duplicate and shift it to form the input and target text. For example, say sequence_length is 4 and our text is `Hello`. The input sequence would be `Hell`, and the target sequence `ello`."
      ]
    },
    {
      "cell_type": "code",
      "metadata": {
        "id": "WEwF6FYUzoBP"
      },
      "source": [
        "def split_input_target(recipe):\n",
        "    input_text = recipe[:-1]\n",
        "    target_text = recipe[1:]\n",
        "    \n",
        "    return input_text, target_text"
      ],
      "execution_count": null,
      "outputs": []
    },
    {
      "cell_type": "code",
      "metadata": {
        "colab": {
          "base_uri": "https://localhost:8080/",
          "height": 34
        },
        "id": "IBRyH2_0zoBU",
        "outputId": "67294bec-bcd4-4d2f-cf56-2bf12acff747"
      },
      "source": [
        "dataset_targeted = dataset.map(split_input_target)\n",
        "\n",
        "print(dataset_targeted)"
      ],
      "execution_count": null,
      "outputs": [
        {
          "output_type": "stream",
          "text": [
            "<MapDataset shapes: ((2000,), (2000,)), types: (tf.int32, tf.int32)>\n"
          ],
          "name": "stdout"
        }
      ]
    },
    {
      "cell_type": "code",
      "metadata": {
        "colab": {
          "base_uri": "https://localhost:8080/",
          "height": 122
        },
        "id": "LlYun70NzoBc",
        "outputId": "2d10b7a2-e353-410a-c3a7-b888175652ea"
      },
      "source": [
        "for input_example, target_example in dataset_targeted.take(1):\n",
        "    print('Input sequence size:', repr(len(input_example.numpy())))\n",
        "    print('Target sequence size:', repr(len(target_example.numpy())))\n",
        "    print()\n",
        "    \n",
        "    input_stringified = tokenizer.sequences_to_texts([input_example.numpy()[:50]])[0]\n",
        "    target_stringified = tokenizer.sequences_to_texts([target_example.numpy()[:50]])[0]\n",
        "    \n",
        "    print('Input:  ', repr(''.join(input_stringified)))\n",
        "    print('Target: ', repr(''.join(target_stringified)))"
      ],
      "execution_count": null,
      "outputs": [
        {
          "output_type": "stream",
          "text": [
            "Input sequence size: 2000\n",
            "Target sequence size: 2000\n",
            "\n",
            "Input:   '📗   S l o w   C o o k e r   C h i c k e n   a n d   D u m p l i n g s \\n \\n 🥕 \\n \\n •   4   s k i n l e'\n",
            "Target:  '  S l o w   C o o k e r   C h i c k e n   a n d   D u m p l i n g s \\n \\n 🥕 \\n \\n •   4   s k i n l e s'\n"
          ],
          "name": "stdout"
        }
      ]
    },
    {
      "cell_type": "markdown",
      "metadata": {
        "id": "citnIqmDzoBe"
      },
      "source": [
        "Each index of these vectors are processed as one time step. For the input at time step 0, the model receives the index for `[` and tries to predict the index for `T` as the next character. At the next time-step, it does the same thing but the RNN considers the previous step context in addition to the current input character."
      ]
    },
    {
      "cell_type": "code",
      "metadata": {
        "colab": {
          "base_uri": "https://localhost:8080/",
          "height": 527
        },
        "id": "MEjjnxFZzoBe",
        "outputId": "2c9b15c7-0ffe-4662-d810-96a1e753353c"
      },
      "source": [
        "for i, (input_idx, target_idx) in enumerate(zip(input_example[:10], target_example[:10])):\n",
        "    print('Step {:2d}'.format(i + 1))\n",
        "    print('  input: {} ({:s})'.format(input_idx, repr(tokenizer.sequences_to_texts([[input_idx.numpy()]])[0])))\n",
        "    print('  expected output: {} ({:s})'.format(target_idx, repr(tokenizer.sequences_to_texts([[target_idx.numpy()]])[0])))"
      ],
      "execution_count": null,
      "outputs": [
        {
          "output_type": "stream",
          "text": [
            "Step  1\n",
            "  input: 51 ('📗')\n",
            "  expected output: 1 (' ')\n",
            "Step  2\n",
            "  input: 1 (' ')\n",
            "  expected output: 33 ('S')\n",
            "Step  3\n",
            "  input: 33 ('S')\n",
            "  expected output: 10 ('l')\n",
            "Step  4\n",
            "  input: 10 ('l')\n",
            "  expected output: 5 ('o')\n",
            "Step  5\n",
            "  input: 5 ('o')\n",
            "  expected output: 23 ('w')\n",
            "Step  6\n",
            "  input: 23 ('w')\n",
            "  expected output: 1 (' ')\n",
            "Step  7\n",
            "  input: 1 (' ')\n",
            "  expected output: 35 ('C')\n",
            "Step  8\n",
            "  input: 35 ('C')\n",
            "  expected output: 5 ('o')\n",
            "Step  9\n",
            "  input: 5 ('o')\n",
            "  expected output: 5 ('o')\n",
            "Step 10\n",
            "  input: 5 ('o')\n",
            "  expected output: 25 ('k')\n"
          ],
          "name": "stdout"
        }
      ]
    },
    {
      "cell_type": "markdown",
      "metadata": {
        "id": "JRe4AIFczoBi"
      },
      "source": [
        "### Split up the dataset into batches"
      ]
    },
    {
      "cell_type": "code",
      "metadata": {
        "colab": {
          "base_uri": "https://localhost:8080/",
          "height": 34
        },
        "id": "Q6ivTD7PzoBk",
        "outputId": "76f0e43a-af90-4f9e-dd71-cf1b76991867"
      },
      "source": [
        "print(dataset_targeted)"
      ],
      "execution_count": null,
      "outputs": [
        {
          "output_type": "stream",
          "text": [
            "<MapDataset shapes: ((2000,), (2000,)), types: (tf.int32, tf.int32)>\n"
          ],
          "name": "stdout"
        }
      ]
    },
    {
      "cell_type": "code",
      "metadata": {
        "colab": {
          "base_uri": "https://localhost:8080/",
          "height": 68
        },
        "id": "S0C0eb5jzoBi",
        "outputId": "98cc46d5-3de4-42a0-9e2d-2cb1f116f26a"
      },
      "source": [
        "print('TOTAL_RECIPES_NUM: ', TOTAL_RECIPES_NUM)\n",
        "print('MAX_RECIPE_LENGTH: ', MAX_RECIPE_LENGTH)\n",
        "print('VOCABULARY_SIZE: ', VOCABULARY_SIZE)"
      ],
      "execution_count": null,
      "outputs": [
        {
          "output_type": "stream",
          "text": [
            "TOTAL_RECIPES_NUM:  100212\n",
            "MAX_RECIPE_LENGTH:  2000\n",
            "VOCABULARY_SIZE:  176\n"
          ],
          "name": "stdout"
        }
      ]
    },
    {
      "cell_type": "code",
      "metadata": {
        "id": "KM6sImcezoBp"
      },
      "source": [
        "# Batch size.\n",
        "BATCH_SIZE = 64\n",
        "\n",
        "if DEBUG:\n",
        "    BATCH_SIZE = DEBUG_EXAMPLES\n",
        "\n",
        "# Buffer size to shuffle the dataset (TF data is designed to work\n",
        "# with possibly infinite sequences, so it doesn't attempt to shuffle\n",
        "# the entire sequence in memory. Instead, it maintains a buffer in\n",
        "# which it shuffles elements).\n",
        "SHUFFLE_BUFFER_SIZE = 1000\n",
        "\n",
        "if DEBUG:\n",
        "    SHUFFLE_BUFFER_SIZE = 1"
      ],
      "execution_count": null,
      "outputs": []
    },
    {
      "cell_type": "code",
      "metadata": {
        "colab": {
          "base_uri": "https://localhost:8080/",
          "height": 34
        },
        "id": "Crhdr5gwzoBs",
        "outputId": "7ed1f827-f16f-48c3-f643-f6e4636bc2b5"
      },
      "source": [
        "if DEBUG:\n",
        "    dataset_train = dataset_targeted \\\n",
        "        .repeat() \\\n",
        "        .batch(BATCH_SIZE, drop_remainder=True)\n",
        "else:\n",
        "    dataset_train = dataset_targeted \\\n",
        "      .shuffle(SHUFFLE_BUFFER_SIZE) \\\n",
        "      .batch(BATCH_SIZE, drop_remainder=True) \\\n",
        "      .repeat()\n",
        "\n",
        "print(dataset_train)"
      ],
      "execution_count": null,
      "outputs": [
        {
          "output_type": "stream",
          "text": [
            "<RepeatDataset shapes: ((64, 2000), (64, 2000)), types: (tf.int32, tf.int32)>\n"
          ],
          "name": "stdout"
        }
      ]
    },
    {
      "cell_type": "code",
      "metadata": {
        "colab": {
          "base_uri": "https://localhost:8080/",
          "height": 306
        },
        "id": "eQvSzn_QzoBu",
        "outputId": "faf9f773-e203-4e33-fdea-c6c06d701042"
      },
      "source": [
        "for input_text, target_text in dataset_train.take(1):\n",
        "    print('1st batch: input_text:', input_text)\n",
        "    print()\n",
        "    print('1st batch: target_text:', target_text)"
      ],
      "execution_count": null,
      "outputs": [
        {
          "output_type": "stream",
          "text": [
            "1st batch: input_text: tf.Tensor(\n",
            "[[ 51   1  54 ... 165 165 165]\n",
            " [ 51   1  64 ... 165 165 165]\n",
            " [ 51   1  44 ... 165 165 165]\n",
            " ...\n",
            " [ 51   1  69 ... 165 165 165]\n",
            " [ 51   1  55 ... 165 165 165]\n",
            " [ 51   1  70 ... 165 165 165]], shape=(64, 2000), dtype=int32)\n",
            "\n",
            "1st batch: target_text: tf.Tensor(\n",
            "[[  1  54   4 ... 165 165 165]\n",
            " [  1  64   5 ... 165 165 165]\n",
            " [  1  44   6 ... 165 165 165]\n",
            " ...\n",
            " [  1  69   3 ... 165 165 165]\n",
            " [  1  55   3 ... 165 165 165]\n",
            " [  1  70   2 ... 165 165 165]], shape=(64, 2000), dtype=int32)\n"
          ],
          "name": "stdout"
        }
      ]
    },
    {
      "cell_type": "markdown",
      "metadata": {
        "id": "I1Cb5DwhzoB0"
      },
      "source": [
        "## Build the model"
      ]
    },
    {
      "cell_type": "markdown",
      "metadata": {
        "id": "il6FFdWGzoB0"
      },
      "source": [
        "Use [tf.keras.Sequential](https://www.tensorflow.org/api_docs/python/tf/keras/Sequential) to define the model. For this experiment we will use the following layer types:\n",
        "\n",
        "- [tf.keras.layers.Embedding](https://www.tensorflow.org/api_docs/python/tf/keras/layers/Embedding): The input layer. A trainable lookup table that will map the numbers of each character to a vector with `embedding_dim` dimensions;\n",
        "- [tf.keras.layers.LSTM](https://www.tensorflow.org/api_docs/python/tf/keras/layers/LSTM): A type of RNN with size units=rnn_units (You can also use a GRU layer here.)\n",
        "- [tf.keras.layers.Dense](https://www.tensorflow.org/api_docs/python/tf/keras/layers/Dense): The output layer, with vocab_size outputs."
      ]
    },
    {
      "cell_type": "code",
      "metadata": {
        "colab": {
          "base_uri": "https://localhost:8080/",
          "height": 425
        },
        "id": "WI7drW1azoB0",
        "outputId": "48b1af60-43de-4f3f-807c-ed3fc3b3b0a9"
      },
      "source": [
        "# Let's do a quick detour and see how Embeding layer works.\n",
        "# It takes several char indices sequences (batch) as an input.\n",
        "# It encodes every character of every sequence to a vector of tmp_embeding_size length.\n",
        "tmp_vocab_size = 10\n",
        "tmp_embeding_size = 5\n",
        "tmp_input_length = 8\n",
        "tmp_batch_size = 2\n",
        "\n",
        "tmp_model = tf.keras.models.Sequential()\n",
        "tmp_model.add(tf.keras.layers.Embedding(\n",
        "  input_dim=tmp_vocab_size,\n",
        "  output_dim=tmp_embeding_size,\n",
        "  input_length=tmp_input_length\n",
        "))\n",
        "# The model will take as input an integer matrix of size (batch, input_length).\n",
        "# The largest integer (i.e. word index) in the input should be no larger than 9 (tmp_vocab_size).\n",
        "# Now model.output_shape == (None, 10, 64), where None is the batch dimension.\n",
        "tmp_input_array = np.random.randint(\n",
        "  low=0,\n",
        "  high=tmp_vocab_size,\n",
        "  size=(tmp_batch_size, tmp_input_length)\n",
        ")\n",
        "tmp_model.compile('rmsprop', 'mse')\n",
        "tmp_output_array = tmp_model.predict(tmp_input_array)\n",
        "\n",
        "print('tmp_input_array shape:', tmp_input_array.shape)\n",
        "print('tmp_input_array:')\n",
        "print(tmp_input_array)\n",
        "print()\n",
        "print('tmp_output_array shape:', tmp_output_array.shape)\n",
        "print('tmp_output_array:')\n",
        "print(tmp_output_array)"
      ],
      "execution_count": null,
      "outputs": [
        {
          "output_type": "stream",
          "text": [
            "tmp_input_array shape: (2, 8)\n",
            "tmp_input_array:\n",
            "[[2 4 7 5 1 6 9 7]\n",
            " [3 6 8 1 4 0 1 2]]\n",
            "\n",
            "tmp_output_array shape: (2, 8, 5)\n",
            "tmp_output_array:\n",
            "[[[-0.02229502 -0.02800617 -0.0120693  -0.01681594 -0.00650246]\n",
            "  [-0.03046973 -0.03920818  0.04956308  0.04417323 -0.00446874]\n",
            "  [-0.0215276   0.01532575 -0.02229529  0.02834387  0.02725342]\n",
            "  [ 0.04567988  0.0141306   0.00877035 -0.02601192  0.00380837]\n",
            "  [ 0.02969306  0.02994296 -0.00233263  0.00716375 -0.00847433]\n",
            "  [ 0.04598364 -0.00704358 -0.01386416  0.01195388 -0.00309662]\n",
            "  [-0.00137572  0.01275543 -0.02348721 -0.04825885  0.00527108]\n",
            "  [-0.0215276   0.01532575 -0.02229529  0.02834387  0.02725342]]\n",
            "\n",
            " [[ 0.01082945  0.03824175 -0.00450991 -0.02865709  0.02502238]\n",
            "  [ 0.04598364 -0.00704358 -0.01386416  0.01195388 -0.00309662]\n",
            "  [ 0.02275398  0.03806095 -0.03491788  0.04705564  0.00167596]\n",
            "  [ 0.02969306  0.02994296 -0.00233263  0.00716375 -0.00847433]\n",
            "  [-0.03046973 -0.03920818  0.04956308  0.04417323 -0.00446874]\n",
            "  [-0.02909902  0.04426369  0.00150937  0.04579213  0.02559013]\n",
            "  [ 0.02969306  0.02994296 -0.00233263  0.00716375 -0.00847433]\n",
            "  [-0.02229502 -0.02800617 -0.0120693  -0.01681594 -0.00650246]]]\n"
          ],
          "name": "stdout"
        }
      ]
    },
    {
      "cell_type": "markdown",
      "metadata": {
        "id": "21tT2UDbzoB2"
      },
      "source": [
        "### Model 1"
      ]
    },
    {
      "cell_type": "code",
      "metadata": {
        "id": "TFcbI5ZpzoB2"
      },
      "source": [
        "# Length of the vocabulary in chars.\n",
        "vocab_size = VOCABULARY_SIZE\n",
        "\n",
        "# The embedding dimension.\n",
        "embedding_dim = 256\n",
        "\n",
        "# Number of RNN units.\n",
        "rnn_units = 1024"
      ],
      "execution_count": null,
      "outputs": []
    },
    {
      "cell_type": "code",
      "metadata": {
        "id": "4TFPtjbGzoB4"
      },
      "source": [
        "def build_model_1(vocab_size, embedding_dim, rnn_units, batch_size):\n",
        "    model = tf.keras.models.Sequential()\n",
        "\n",
        "    model.add(tf.keras.layers.Embedding(\n",
        "        input_dim=vocab_size,\n",
        "        output_dim=embedding_dim,\n",
        "        batch_input_shape=[batch_size, None]\n",
        "    ))\n",
        "\n",
        "    model.add(tf.keras.layers.LSTM(\n",
        "        units=rnn_units,\n",
        "        return_sequences=True,\n",
        "        stateful=True,\n",
        "        recurrent_initializer=tf.keras.initializers.GlorotNormal()\n",
        "    ))\n",
        "\n",
        "    model.add(tf.keras.layers.Dense(vocab_size))\n",
        "    \n",
        "    return model"
      ],
      "execution_count": null,
      "outputs": []
    },
    {
      "cell_type": "code",
      "metadata": {
        "colab": {
          "base_uri": "https://localhost:8080/",
          "height": 255
        },
        "id": "bj3gdYjvzoB6",
        "outputId": "4a01a795-3a3f-4e38-9120-06e7a91890e6"
      },
      "source": [
        "model_1 = build_model_1(vocab_size, embedding_dim, rnn_units, BATCH_SIZE)\n",
        "\n",
        "model_1.summary()"
      ],
      "execution_count": null,
      "outputs": [
        {
          "output_type": "stream",
          "text": [
            "Model: \"sequential_13\"\n",
            "_________________________________________________________________\n",
            "Layer (type)                 Output Shape              Param #   \n",
            "=================================================================\n",
            "embedding_13 (Embedding)     (64, None, 256)           45056     \n",
            "_________________________________________________________________\n",
            "lstm_9 (LSTM)                (64, None, 1024)          5246976   \n",
            "_________________________________________________________________\n",
            "dense_8 (Dense)              (64, None, 176)           180400    \n",
            "=================================================================\n",
            "Total params: 5,472,432\n",
            "Trainable params: 5,472,432\n",
            "Non-trainable params: 0\n",
            "_________________________________________________________________\n"
          ],
          "name": "stdout"
        }
      ]
    },
    {
      "cell_type": "code",
      "metadata": {
        "colab": {
          "base_uri": "https://localhost:8080/",
          "height": 422
        },
        "id": "p3Nl1EbAzoB_",
        "outputId": "a3af2620-1a5b-4363-a578-33da9888c97b"
      },
      "source": [
        "tf.keras.utils.plot_model(\n",
        "    model_1,\n",
        "    show_shapes=True,\n",
        "    show_layer_names=True,\n",
        "    to_file='model_1.png'\n",
        ")"
      ],
      "execution_count": null,
      "outputs": [
        {
          "output_type": "execute_result",
          "data": {
            "image/png": "[encoded data removed]",
            "text/plain": [
              "<IPython.core.display.Image object>"
            ]
          },
          "metadata": {
            "tags": []
          },
          "execution_count": 396
        }
      ]
    },
    {
      "cell_type": "markdown",
      "metadata": {
        "id": "7wxf1BwOzoCE"
      },
      "source": [
        "For each character the model looks up the embedding, runs the LSTM one time-step with the embedding as input, and applies the dense layer to generate logits predicting the log-likelihood of the next character:\n",
        "\n",
        "![Model architecture](https://www.tensorflow.org/tutorials/text/images/text_generation_training.png)\n",
        "\n",
        "Image source: [Text generation with an RNN](https://www.tensorflow.org/tutorials/text/text_generation) notebook."
      ]
    },
    {
      "cell_type": "markdown",
      "metadata": {
        "id": "wsDx0bOwzoCE"
      },
      "source": [
        "## Trying the model"
      ]
    },
    {
      "cell_type": "code",
      "metadata": {
        "colab": {
          "base_uri": "https://localhost:8080/",
          "height": 34
        },
        "id": "T8zTYoupzoCF",
        "outputId": "94614316-7c39-4022-e7cc-0eb3b7c60727"
      },
      "source": [
        "for input_example_batch, target_example_batch in dataset_train.take(1):\n",
        "    example_batch_predictions = model_1(input_example_batch)\n",
        "    print(example_batch_predictions.shape, \"# (batch_size, sequence_length, vocab_size)\")"
      ],
      "execution_count": null,
      "outputs": [
        {
          "output_type": "stream",
          "text": [
            "(64, 2000, 176) # (batch_size, sequence_length, vocab_size)\n"
          ],
          "name": "stdout"
        }
      ]
    },
    {
      "cell_type": "markdown",
      "metadata": {
        "id": "N6A-n8AczoCH"
      },
      "source": [
        "To get actual predictions from the model we need to sample from the output distribution, to get actual character indices. This distribution is defined by the logits over the character vocabulary."
      ]
    },
    {
      "cell_type": "code",
      "metadata": {
        "colab": {
          "base_uri": "https://localhost:8080/",
          "height": 799
        },
        "id": "dkxYzEeBzoCH",
        "outputId": "788c3f4a-ee2c-421e-950d-140c184c956d"
      },
      "source": [
        "print('Prediction for the 1st letter of the batch 1st sequense:')\n",
        "print(example_batch_predictions[0, 0])"
      ],
      "execution_count": null,
      "outputs": [
        {
          "output_type": "stream",
          "text": [
            "Prediction for the 1st letter of the batch 1st sequense:\n",
            "tf.Tensor(\n",
            "[-9.0643829e-03 -1.9503604e-03  9.3381782e-04  3.7442446e-03\n",
            " -2.0541784e-03 -7.4054599e-03 -7.1884273e-03  2.6014952e-03\n",
            "  4.8721582e-03  3.0045470e-04  2.6016519e-04 -4.1374690e-03\n",
            "  5.3856964e-03  2.6284808e-03 -5.6002503e-03  2.6019611e-03\n",
            " -1.9491187e-03 -3.1097094e-04  6.3465843e-03  1.4640498e-03\n",
            "  2.4560774e-03 -3.1256995e-03  1.4104056e-03  2.5478401e-04\n",
            "  5.4266443e-03 -4.1188141e-03  3.6904984e-03 -5.8337618e-03\n",
            "  3.6372752e-03 -3.1899021e-05  3.2178329e-03  1.5033322e-04\n",
            "  5.2770867e-04 -8.1920059e-04 -2.2364906e-03 -2.3271297e-03\n",
            "  4.4109682e-03  4.2381673e-04  1.0532180e-03 -1.4208974e-03\n",
            " -3.2446394e-03 -4.5869066e-03  4.3250201e-04 -4.3490473e-03\n",
            "  3.7889536e-03 -9.2122913e-04  7.8936084e-04 -9.7079907e-04\n",
            "  1.7070504e-03 -2.5260956e-03  6.7904620e-03  1.5470090e-03\n",
            " -9.4337866e-04 -1.5072266e-03  6.8939931e-04 -1.0795534e-03\n",
            " -3.1912089e-03  2.3665284e-03  1.7737487e-03 -2.3504677e-03\n",
            " -6.8649277e-04  9.6421910e-04 -4.1204207e-03 -3.8750230e-03\n",
            "  1.9077851e-03  4.7145790e-05 -2.9846188e-03  5.8050319e-03\n",
            " -5.6210475e-04 -2.5910907e-04  5.2890396e-03 -5.8653783e-03\n",
            " -6.0040038e-06  2.3905798e-03 -2.9405006e-03  2.0132761e-03\n",
            " -3.5594390e-03  4.0282350e-04  4.7719614e-03 -2.4438011e-03\n",
            " -1.1028582e-03  2.0007135e-03 -1.6961874e-03 -4.2196750e-03\n",
            " -3.5689408e-03 -4.1934610e-03 -8.5307617e-04  1.5773368e-04\n",
            " -1.4612130e-03  9.5826073e-04  4.0543079e-04 -2.3562380e-04\n",
            " -1.5394683e-03  3.6650903e-03  3.5997448e-03  2.2390878e-03\n",
            " -6.8982318e-04  1.4068574e-03 -2.0531749e-03 -1.5443334e-03\n",
            " -1.8235333e-03 -3.2099178e-03  1.6660831e-03  1.2230751e-03\n",
            "  3.8084832e-03  6.9559496e-03  5.7684043e-03  3.1751506e-03\n",
            "  7.4234616e-04  1.1971325e-04 -2.7798198e-03  2.1485630e-03\n",
            "  4.0362971e-03  6.4410735e-05  1.7432809e-03  3.2334479e-03\n",
            " -6.1469898e-03 -2.2205685e-03 -1.0864032e-03 -2.0876178e-07\n",
            "  2.3065242e-03 -1.5816523e-03 -2.1492387e-03 -4.4033155e-03\n",
            "  1.1003019e-03 -9.7132073e-04 -6.3941808e-04  3.0277157e-03\n",
            "  2.9096641e-03 -2.4778468e-03 -2.9532036e-03  7.7463314e-04\n",
            "  2.7473709e-03 -7.6333171e-04 -8.1811845e-03 -1.3959130e-03\n",
            "  3.2840301e-03  6.0461317e-03 -1.3022404e-04 -9.4000692e-04\n",
            " -2.0096730e-04  3.3895797e-03  2.9710699e-03  1.9046264e-03\n",
            "  2.5092331e-03 -2.0799250e-04 -2.2211851e-04 -3.4621451e-05\n",
            "  1.9962704e-03 -2.3159904e-03  2.9832027e-03  3.3852295e-03\n",
            "  3.4411502e-04 -1.9019389e-03 -3.6734296e-04 -1.4232489e-03\n",
            "  2.6938838e-03 -2.8015859e-03 -5.7366290e-03  8.0239226e-04\n",
            " -6.2909431e-04  1.1508183e-03 -1.5899434e-04 -5.9326587e-04\n",
            " -4.1618512e-04  5.2454891e-03  1.2823739e-03 -1.7550631e-03\n",
            " -3.0120560e-03 -3.8433261e-03 -9.6873334e-04  1.9963509e-03\n",
            "  1.8154597e-03  4.7434499e-03  1.7146189e-03  1.1544267e-03], shape=(176,), dtype=float32)\n"
          ],
          "name": "stdout"
        }
      ]
    },
    {
      "cell_type": "code",
      "metadata": {
        "colab": {
          "base_uri": "https://localhost:8080/",
          "height": 34
        },
        "id": "eAzyA7N6zoCL",
        "outputId": "e3e7ef27-694c-4434-92d8-83871c5a1cd6"
      },
      "source": [
        "# Quick overview of how tf.random.categorical() works.\n",
        "\n",
        "# logits is 2-D Tensor with shape [batch_size, num_classes].\n",
        "# Each slice [i, :] represents the unnormalized log-probabilities for all classes.\n",
        "# In the example below we say that the probability for class \"0\" is low but the\n",
        "# probability for class \"2\" is much higher.\n",
        "tmp_logits = [\n",
        "  [-0.95, 0, 0.95],\n",
        "];\n",
        "\n",
        "# Let's generate 5 samples. Each sample is a class index. Class probabilities \n",
        "# are being taken into account (we expect to see more samples of class \"2\").\n",
        "tmp_samples = tf.random.categorical(\n",
        "    logits=tmp_logits,\n",
        "    num_samples=5\n",
        ")\n",
        "\n",
        "print(tmp_samples)"
      ],
      "execution_count": null,
      "outputs": [
        {
          "output_type": "stream",
          "text": [
            "tf.Tensor([[2 1 2 2 1]], shape=(1, 5), dtype=int64)\n"
          ],
          "name": "stdout"
        }
      ]
    },
    {
      "cell_type": "code",
      "metadata": {
        "colab": {
          "base_uri": "https://localhost:8080/",
          "height": 34
        },
        "id": "iY463opZzoCQ",
        "outputId": "e4e9fadf-9989-40e5-ef74-6eeaed77d6a7"
      },
      "source": [
        "sampled_indices = tf.random.categorical(\n",
        "    logits=example_batch_predictions[0],\n",
        "    num_samples=1\n",
        ")\n",
        "\n",
        "sampled_indices.shape"
      ],
      "execution_count": null,
      "outputs": [
        {
          "output_type": "execute_result",
          "data": {
            "text/plain": [
              "TensorShape([2000, 1])"
            ]
          },
          "metadata": {
            "tags": []
          },
          "execution_count": 400
        }
      ]
    },
    {
      "cell_type": "code",
      "metadata": {
        "colab": {
          "base_uri": "https://localhost:8080/",
          "height": 34
        },
        "id": "wW7SdhmpzoCR",
        "outputId": "14231093-dbdd-4330-e1ad-c94a19c2fd1f"
      },
      "source": [
        "sampled_indices = tf.squeeze(\n",
        "    input=sampled_indices,\n",
        "    axis=-1\n",
        ").numpy()\n",
        "\n",
        "sampled_indices.shape"
      ],
      "execution_count": null,
      "outputs": [
        {
          "output_type": "execute_result",
          "data": {
            "text/plain": [
              "(2000,)"
            ]
          },
          "metadata": {
            "tags": []
          },
          "execution_count": 401
        }
      ]
    },
    {
      "cell_type": "code",
      "metadata": {
        "colab": {
          "base_uri": "https://localhost:8080/",
          "height": 153
        },
        "id": "GNCb0mCVzoCV",
        "outputId": "aa13b871-1196-4bb8-e9fd-511a6bb86a60"
      },
      "source": [
        "sampled_indices[:100]"
      ],
      "execution_count": null,
      "outputs": [
        {
          "output_type": "execute_result",
          "data": {
            "text/plain": [
              "array([ 64,  21,  91, 126, 170,  42, 146,  54, 125, 164,  60, 171,   9,\n",
              "        87, 129,  28, 146, 103,  41, 101, 147,   3, 134, 171,   8, 170,\n",
              "       105,   5,  44, 173,   5, 105,  17, 138, 165,  32,  88,  96, 145,\n",
              "        83,  33,  65, 172, 162,   8,  29, 147,  58,  81, 153, 150,  56,\n",
              "       156,  38, 144, 134,  13,  40,  17,  50,  27,  35,  39, 112,  63,\n",
              "       139, 151, 133,  68,  29,  91,   2,  70, 112, 135,  31,  26, 156,\n",
              "       118,  71,  49, 104,  75,  27, 164,  41, 117, 124,  18, 137,  59,\n",
              "       160, 158, 119, 173,  50,  78,  45, 121, 118])"
            ]
          },
          "metadata": {
            "tags": []
          },
          "execution_count": 402
        }
      ]
    },
    {
      "cell_type": "code",
      "metadata": {
        "colab": {
          "base_uri": "https://localhost:8080/",
          "height": 122
        },
        "id": "H9rPAT0yzoCX",
        "outputId": "69be55b7-70c9-4ac8-a350-a425b53272b8"
      },
      "source": [
        "print('Input:\\n', repr(''.join(tokenizer.sequences_to_texts([input_example_batch[0].numpy()[:50]]))))\n",
        "print()\n",
        "print('Next char prediction:\\n', repr(''.join(tokenizer.sequences_to_texts([sampled_indices[:50]]))))"
      ],
      "execution_count": null,
      "outputs": [
        {
          "output_type": "stream",
          "text": [
            "Input:\n",
            " '📗   R e s t a u r a n t - S t y l e   C o l e s l a w   I \\n \\n 🥕 \\n \\n •   1   ( 1 6   o u n c e )   p'\n",
            "\n",
            "Next char prediction:\n",
            " 'H . î ⁄ ă ( “ I º Â 8 ̀ s % ù y “ © 0 ’ ‧ a ì ̀ r ă + o A € o + m × ␣ ︎ ñ ç ‱ ! S : ⅞ ´ r 2 ‧ D Q Á'\n"
          ],
          "name": "stdout"
        }
      ]
    },
    {
      "cell_type": "markdown",
      "metadata": {
        "id": "POP-yeyfzoCb"
      },
      "source": [
        "### Trying the model with variable input"
      ]
    },
    {
      "cell_type": "code",
      "metadata": {
        "colab": {
          "base_uri": "https://localhost:8080/",
          "height": 1000
        },
        "id": "k4IpQpepzoCc",
        "outputId": "e66a382d-3f82-4f8b-a492-9d552bc6fb64"
      },
      "source": [
        "for input_example_batch_custom, target_example_batch_custom in dataset_train.take(1):\n",
        "    random_input = np.zeros(shape=(BATCH_SIZE, 10))\n",
        "    example_batch_predictions_custom = model_1(random_input)\n",
        "    print('Prediction shape: ', example_batch_predictions_custom.shape, \"# (batch_size, sequence_length, vocab_size)\\n\")\n",
        "    print('Custom length input: ')\n",
        "    print(random_input)"
      ],
      "execution_count": null,
      "outputs": [
        {
          "output_type": "stream",
          "text": [
            "Prediction shape:  (64, 10, 176) # (batch_size, sequence_length, vocab_size)\n",
            "\n",
            "Custom length input: \n",
            "[[0. 0. 0. 0. 0. 0. 0. 0. 0. 0.]\n",
            " [0. 0. 0. 0. 0. 0. 0. 0. 0. 0.]\n",
            " [0. 0. 0. 0. 0. 0. 0. 0. 0. 0.]\n",
            " [0. 0. 0. 0. 0. 0. 0. 0. 0. 0.]\n",
            " [0. 0. 0. 0. 0. 0. 0. 0. 0. 0.]\n",
            " [0. 0. 0. 0. 0. 0. 0. 0. 0. 0.]\n",
            " [0. 0. 0. 0. 0. 0. 0. 0. 0. 0.]\n",
            " [0. 0. 0. 0. 0. 0. 0. 0. 0. 0.]\n",
            " [0. 0. 0. 0. 0. 0. 0. 0. 0. 0.]\n",
            " [0. 0. 0. 0. 0. 0. 0. 0. 0. 0.]\n",
            " [0. 0. 0. 0. 0. 0. 0. 0. 0. 0.]\n",
            " [0. 0. 0. 0. 0. 0. 0. 0. 0. 0.]\n",
            " [0. 0. 0. 0. 0. 0. 0. 0. 0. 0.]\n",
            " [0. 0. 0. 0. 0. 0. 0. 0. 0. 0.]\n",
            " [0. 0. 0. 0. 0. 0. 0. 0. 0. 0.]\n",
            " [0. 0. 0. 0. 0. 0. 0. 0. 0. 0.]\n",
            " [0. 0. 0. 0. 0. 0. 0. 0. 0. 0.]\n",
            " [0. 0. 0. 0. 0. 0. 0. 0. 0. 0.]\n",
            " [0. 0. 0. 0. 0. 0. 0. 0. 0. 0.]\n",
            " [0. 0. 0. 0. 0. 0. 0. 0. 0. 0.]\n",
            " [0. 0. 0. 0. 0. 0. 0. 0. 0. 0.]\n",
            " [0. 0. 0. 0. 0. 0. 0. 0. 0. 0.]\n",
            " [0. 0. 0. 0. 0. 0. 0. 0. 0. 0.]\n",
            " [0. 0. 0. 0. 0. 0. 0. 0. 0. 0.]\n",
            " [0. 0. 0. 0. 0. 0. 0. 0. 0. 0.]\n",
            " [0. 0. 0. 0. 0. 0. 0. 0. 0. 0.]\n",
            " [0. 0. 0. 0. 0. 0. 0. 0. 0. 0.]\n",
            " [0. 0. 0. 0. 0. 0. 0. 0. 0. 0.]\n",
            " [0. 0. 0. 0. 0. 0. 0. 0. 0. 0.]\n",
            " [0. 0. 0. 0. 0. 0. 0. 0. 0. 0.]\n",
            " [0. 0. 0. 0. 0. 0. 0. 0. 0. 0.]\n",
            " [0. 0. 0. 0. 0. 0. 0. 0. 0. 0.]\n",
            " [0. 0. 0. 0. 0. 0. 0. 0. 0. 0.]\n",
            " [0. 0. 0. 0. 0. 0. 0. 0. 0. 0.]\n",
            " [0. 0. 0. 0. 0. 0. 0. 0. 0. 0.]\n",
            " [0. 0. 0. 0. 0. 0. 0. 0. 0. 0.]\n",
            " [0. 0. 0. 0. 0. 0. 0. 0. 0. 0.]\n",
            " [0. 0. 0. 0. 0. 0. 0. 0. 0. 0.]\n",
            " [0. 0. 0. 0. 0. 0. 0. 0. 0. 0.]\n",
            " [0. 0. 0. 0. 0. 0. 0. 0. 0. 0.]\n",
            " [0. 0. 0. 0. 0. 0. 0. 0. 0. 0.]\n",
            " [0. 0. 0. 0. 0. 0. 0. 0. 0. 0.]\n",
            " [0. 0. 0. 0. 0. 0. 0. 0. 0. 0.]\n",
            " [0. 0. 0. 0. 0. 0. 0. 0. 0. 0.]\n",
            " [0. 0. 0. 0. 0. 0. 0. 0. 0. 0.]\n",
            " [0. 0. 0. 0. 0. 0. 0. 0. 0. 0.]\n",
            " [0. 0. 0. 0. 0. 0. 0. 0. 0. 0.]\n",
            " [0. 0. 0. 0. 0. 0. 0. 0. 0. 0.]\n",
            " [0. 0. 0. 0. 0. 0. 0. 0. 0. 0.]\n",
            " [0. 0. 0. 0. 0. 0. 0. 0. 0. 0.]\n",
            " [0. 0. 0. 0. 0. 0. 0. 0. 0. 0.]\n",
            " [0. 0. 0. 0. 0. 0. 0. 0. 0. 0.]\n",
            " [0. 0. 0. 0. 0. 0. 0. 0. 0. 0.]\n",
            " [0. 0. 0. 0. 0. 0. 0. 0. 0. 0.]\n",
            " [0. 0. 0. 0. 0. 0. 0. 0. 0. 0.]\n",
            " [0. 0. 0. 0. 0. 0. 0. 0. 0. 0.]\n",
            " [0. 0. 0. 0. 0. 0. 0. 0. 0. 0.]\n",
            " [0. 0. 0. 0. 0. 0. 0. 0. 0. 0.]\n",
            " [0. 0. 0. 0. 0. 0. 0. 0. 0. 0.]\n",
            " [0. 0. 0. 0. 0. 0. 0. 0. 0. 0.]\n",
            " [0. 0. 0. 0. 0. 0. 0. 0. 0. 0.]\n",
            " [0. 0. 0. 0. 0. 0. 0. 0. 0. 0.]\n",
            " [0. 0. 0. 0. 0. 0. 0. 0. 0. 0.]\n",
            " [0. 0. 0. 0. 0. 0. 0. 0. 0. 0.]]\n"
          ],
          "name": "stdout"
        }
      ]
    },
    {
      "cell_type": "markdown",
      "metadata": {
        "id": "CY1eRp0hzoCe"
      },
      "source": [
        "## Training the model"
      ]
    },
    {
      "cell_type": "markdown",
      "metadata": {
        "id": "djfrr46QzoCe"
      },
      "source": [
        "### Attach an optimizer, and a loss function"
      ]
    },
    {
      "cell_type": "code",
      "metadata": {
        "colab": {
          "base_uri": "https://localhost:8080/",
          "height": 68
        },
        "id": "Hf6GcydqzoCe",
        "outputId": "cbf390d7-df53-425e-c8ec-be00f9a622d5"
      },
      "source": [
        "# An objective function.\n",
        "# The function is any callable with the signature scalar_loss = fn(y_true, y_pred).\n",
        "def loss(labels, logits):\n",
        "    entropy = tf.keras.losses.sparse_categorical_crossentropy(\n",
        "      y_true=labels,\n",
        "      y_pred=logits,\n",
        "      from_logits=True\n",
        "    )\n",
        "    \n",
        "    return entropy\n",
        "\n",
        "example_batch_loss = loss(target_example_batch, example_batch_predictions)\n",
        "\n",
        "print(\"Prediction shape: \", example_batch_predictions.shape, \" # (batch_size, sequence_length, vocab_size)\")\n",
        "print(\"scalar_loss.shape:      \", example_batch_loss.shape)\n",
        "print(\"scalar_loss:      \", example_batch_loss.numpy().mean())"
      ],
      "execution_count": null,
      "outputs": [
        {
          "output_type": "stream",
          "text": [
            "Prediction shape:  (64, 2000, 176)  # (batch_size, sequence_length, vocab_size)\n",
            "scalar_loss.shape:       (64, 2000)\n",
            "scalar_loss:       5.1618285\n"
          ],
          "name": "stdout"
        }
      ]
    },
    {
      "cell_type": "code",
      "metadata": {
        "id": "SkE4pzI2zoCg"
      },
      "source": [
        "adam_optimizer = tf.keras.optimizers.Adam(learning_rate=0.001)\n",
        "\n",
        "model_1.compile(\n",
        "    optimizer=adam_optimizer,\n",
        "    loss=loss\n",
        ")"
      ],
      "execution_count": null,
      "outputs": []
    },
    {
      "cell_type": "markdown",
      "metadata": {
        "id": "b1a4WFZ6zoCh"
      },
      "source": [
        "### Configuring checkpoints"
      ]
    },
    {
      "cell_type": "code",
      "metadata": {
        "id": "VFO07RWmXjHt"
      },
      "source": [
        "# !rm -rf './tmp/checkpoints'"
      ],
      "execution_count": null,
      "outputs": []
    },
    {
      "cell_type": "code",
      "metadata": {
        "id": "WrZQWe6jupqr"
      },
      "source": [
        "# Directory where the checkpoints will be saved.\n",
        "checkpoint_dir = 'tmp/checkpoints'\n",
        "os.makedirs(checkpoint_dir, exist_ok=True)"
      ],
      "execution_count": null,
      "outputs": []
    },
    {
      "cell_type": "code",
      "metadata": {
        "id": "nndQcZd1m6Gw"
      },
      "source": [
        "def download_latest_checkpoint(zip_only=True):\n",
        "    latest_checkpoint_path = tf.train.latest_checkpoint(checkpoint_dir)\n",
        "    latest_checkpoint_name = os.path.split(latest_checkpoint_path)[-1]\n",
        "    latest_checkpoint_zip_name = latest_checkpoint_name + '.zip'\n",
        "    \n",
        "    print('latest_checkpoint_path: ', latest_checkpoint_path)\n",
        "    print('latest_checkpoint_name: ', latest_checkpoint_name)\n",
        "    print('---\\n')\n",
        "\n",
        "    print('Checkpoint files:')\n",
        "    with zipfile.ZipFile(latest_checkpoint_zip_name, mode='w') as zip_obj:\n",
        "        for folder_name, subfolders, filenames in os.walk(checkpoint_dir):\n",
        "            for filename in filenames:\n",
        "                if filename.startswith(latest_checkpoint_name):\n",
        "                        print('  - ' + filename)\n",
        "                        file_path = os.path.join(folder_name, filename)\n",
        "                        zip_obj.write(file_path, os.path.basename(file_path))\n",
        "    print('---\\n')\n",
        "    print('Zipped to: ', latest_checkpoint_zip_name)\n",
        "\n",
        "    if not zip_only:\n",
        "        files.download(latest_checkpoint_zip_name)"
      ],
      "execution_count": null,
      "outputs": []
    },
    {
      "cell_type": "code",
      "metadata": {
        "id": "XydjzBW4w5W1"
      },
      "source": [
        "def model_weights_from_latest_checkpoint(model):\n",
        "    latest_checkpoint_path = tf.train.latest_checkpoint(checkpoint_dir)\n",
        "\n",
        "    if not latest_checkpoint_path:\n",
        "        print('Latest checkpoint was not found. Using model as is.')\n",
        "        return model\n",
        "\n",
        "    print('latest_checkpoint_path: ', latest_checkpoint_path)\n",
        "\n",
        "    model.load_weights(latest_checkpoint_path)\n",
        "\n",
        "    return model"
      ],
      "execution_count": null,
      "outputs": []
    },
    {
      "cell_type": "code",
      "metadata": {
        "id": "HZ2y09eUxfbx"
      },
      "source": [
        "def initial_epoch_from_latest_checkpoint():\n",
        "    latest_checkpoint_path = tf.train.latest_checkpoint(checkpoint_dir)\n",
        "\n",
        "    if not latest_checkpoint_path:\n",
        "        print('Latest checkpoint was not found. Starting from epoch #0')\n",
        "        return 0\n",
        "\n",
        "    print('latest_checkpoint_path: ', latest_checkpoint_path)\n",
        "\n",
        "    latest_checkpoint_name = os.path.split(latest_checkpoint_path)[-1]\n",
        "    print('latest_checkpoint_name: ', latest_checkpoint_name)\n",
        "\n",
        "    latest_checkpoint_num = latest_checkpoint_name.split('_')[-1]\n",
        "    print('latest_checkpoint_num: ', latest_checkpoint_num)\n",
        "\n",
        "    return int(latest_checkpoint_num)"
      ],
      "execution_count": null,
      "outputs": []
    },
    {
      "cell_type": "code",
      "metadata": {
        "id": "IqA68b4kWvrf"
      },
      "source": [
        "def unzip_checkpoint(checkpoint_zip_path):\n",
        "    if not os.path.exists(checkpoint_zip_path):\n",
        "        print('Cannot find a specified file')\n",
        "        return\n",
        "\n",
        "    os.makedirs(checkpoint_dir, exist_ok=True)\n",
        "    with zipfile.ZipFile(checkpoint_zip_path, 'r') as zip_obj:\n",
        "        zip_obj.extractall(checkpoint_dir)\n",
        "\n",
        "    %ls -la ./tmp/checkpoints"
      ],
      "execution_count": null,
      "outputs": []
    },
    {
      "cell_type": "code",
      "metadata": {
        "id": "Jr9c0LIJYSHw"
      },
      "source": [
        "# Unzip uploaded checkpoint to checkpoints folder if needed\n",
        "# unzip_checkpoint('ckpt_10.zip')"
      ],
      "execution_count": null,
      "outputs": []
    },
    {
      "cell_type": "code",
      "metadata": {
        "id": "FKKgN7WDxMHa"
      },
      "source": [
        "# Loading the latest training data from checkpoints if needed.\n",
        "# model_1 = model_weights_from_latest_checkpoint(model_1)"
      ],
      "execution_count": null,
      "outputs": []
    },
    {
      "cell_type": "code",
      "metadata": {
        "id": "qwA_TrCNqswX"
      },
      "source": [
        "# Loading weights from H5 file if needed.\n",
        "# model_1.load_weights('recipe_generation_rnn_batch_64.h5')"
      ],
      "execution_count": null,
      "outputs": []
    },
    {
      "cell_type": "markdown",
      "metadata": {
        "id": "oXxa7dv-ueNk"
      },
      "source": [
        "### Configuring callbacks"
      ]
    },
    {
      "cell_type": "code",
      "metadata": {
        "id": "bKN1feQCzoCh"
      },
      "source": [
        "early_stopping_callback = tf.keras.callbacks.EarlyStopping(\n",
        "    patience=5,\n",
        "    monitor='loss',\n",
        "    restore_best_weights=True,\n",
        "    verbose=1\n",
        ")"
      ],
      "execution_count": null,
      "outputs": []
    },
    {
      "cell_type": "code",
      "metadata": {
        "id": "4Dq9jH75zoCj"
      },
      "source": [
        "checkpoint_prefix = os.path.join(checkpoint_dir, 'ckpt_{epoch}')\n",
        "checkpoint_callback=tf.keras.callbacks.ModelCheckpoint(\n",
        "    filepath=checkpoint_prefix,\n",
        "    save_weights_only=True\n",
        ")"
      ],
      "execution_count": null,
      "outputs": []
    },
    {
      "cell_type": "markdown",
      "metadata": {
        "id": "0nr_ODbxzoCk"
      },
      "source": [
        "### Execute the training"
      ]
    },
    {
      "cell_type": "code",
      "metadata": {
        "colab": {
          "base_uri": "https://localhost:8080/",
          "height": 170
        },
        "id": "8h-tnhwTxr0H",
        "outputId": "d5f288dd-221a-4f21-80fb-2ee88bc10447"
      },
      "source": [
        "INITIAL_EPOCH  = initial_epoch_from_latest_checkpoint()\n",
        "EPOCHS_DELTA = 1\n",
        "EPOCHS = INITIAL_EPOCH + EPOCHS_DELTA\n",
        "STEPS_PER_EPOCH = 1500\n",
        "\n",
        "print('\\n')\n",
        "print('INITIAL_EPOCH:   ', INITIAL_EPOCH)\n",
        "print('EPOCHS_DELTA:    ', EPOCHS_DELTA)\n",
        "print('EPOCHS:          ', EPOCHS)\n",
        "print('STEPS_PER_EPOCH: ', STEPS_PER_EPOCH)"
      ],
      "execution_count": null,
      "outputs": [
        {
          "output_type": "stream",
          "text": [
            "latest_checkpoint_path:  tmp/checkpoints/ckpt_1\n",
            "latest_checkpoint_name:  ckpt_1\n",
            "latest_checkpoint_num:  1\n",
            "\n",
            "\n",
            "INITIAL_EPOCH:    1\n",
            "EPOCHS_DELTA:     1\n",
            "EPOCHS:           2\n",
            "STEPS_PER_EPOCH:  1500\n"
          ],
          "name": "stdout"
        }
      ]
    },
    {
      "cell_type": "code",
      "metadata": {
        "colab": {
          "base_uri": "https://localhost:8080/",
          "height": 54
        },
        "id": "j7nJW1z-VpAo",
        "outputId": "15fb94c0-9cc9-4cb3-fbfd-e187394e9e55"
      },
      "source": [
        "history_1 = {}\n",
        "# history_1 = {} if not history_1 else history_1\n",
        "print(history_1)"
      ],
      "execution_count": null,
      "outputs": [
        {
          "output_type": "stream",
          "text": [
            "{1: <tensorflow.python.keras.callbacks.History object at 0x1487ab690>}\n"
          ],
          "name": "stdout"
        }
      ]
    },
    {
      "cell_type": "code",
      "metadata": {
        "colab": {
          "base_uri": "https://localhost:8080/",
          "height": 238
        },
        "id": "KelDEXJozoCk",
        "outputId": "c3a97b95-2b49-4d6b-b8b9-121f6ee09027"
      },
      "source": [
        "history_1[INITIAL_EPOCH] = model_1.fit(\n",
        "    x=dataset_train,\n",
        "    epochs=EPOCHS,\n",
        "    steps_per_epoch=STEPS_PER_EPOCH,\n",
        "    initial_epoch=INITIAL_EPOCH,\n",
        "    callbacks=[\n",
        "        checkpoint_callback,\n",
        "        early_stopping_callback\n",
        "    ]\n",
        ")\n",
        "\n",
        "model_name = 'recipe_generation_rnn_raw_' + str(INITIAL_EPOCH) + '.h5'\n",
        "model_1.save(model_name, save_format='h5')\n",
        "\n",
        "download_latest_checkpoint(zip_only=True)"
      ],
      "execution_count": null,
      "outputs": [
        {
          "output_type": "stream",
          "text": [
            "Epoch 13/13\n",
            "1500/1500 [==============================] - 2443s 2s/step - loss: 0.2481\n",
            "latest_checkpoint_path:  tmp/checkpoints/ckpt_13\n",
            "latest_checkpoint_name:  ckpt_13\n",
            "---\n",
            "\n",
            "Checkpoint files:\n",
            "  - ckpt_13.data-00000-of-00002\n",
            "  - ckpt_13.index\n",
            "  - ckpt_13.data-00001-of-00002\n",
            "---\n",
            "\n",
            "Zipped to:  ckpt_13.zip\n"
          ],
          "name": "stdout"
        }
      ]
    },
    {
      "cell_type": "code",
      "metadata": {
        "colab": {
          "base_uri": "https://localhost:8080/",
          "height": 54
        },
        "id": "XA2dH-ZzRPV0",
        "outputId": "51ad275f-e949-45c6-c4c9-b1a9b4a5e819"
      },
      "source": [
        "print(history_1)"
      ],
      "execution_count": null,
      "outputs": [
        {
          "output_type": "stream",
          "text": [
            "{1: <tensorflow.python.keras.callbacks.History object at 0x7f3180071080>, 2: <tensorflow.python.keras.callbacks.History object at 0x7f3172717f60>, 4: <tensorflow.python.keras.callbacks.History object at 0x7f3172712240>, 6: <tensorflow.python.keras.callbacks.History object at 0x7f317264aba8>, 8: <tensorflow.python.keras.callbacks.History object at 0x7f3172eeb400>, 10: <tensorflow.python.keras.callbacks.History object at 0x7f3172e596d8>, 11: <tensorflow.python.keras.callbacks.History object at 0x7f3172bdd438>, 12: <tensorflow.python.keras.callbacks.History object at 0x7f3172a86128>}\n"
          ],
          "name": "stdout"
        }
      ]
    },
    {
      "cell_type": "markdown",
      "metadata": {
        "id": "sPuqfDFEwl4t"
      },
      "source": [
        "### Downloading latest checkpoint"
      ]
    },
    {
      "cell_type": "code",
      "metadata": {
        "id": "_YXA7kufvOfm"
      },
      "source": [
        "# Download zipped latest checkpoint to local drive.\n",
        "# download_latest_checkpoint(zip_only=True)"
      ],
      "execution_count": null,
      "outputs": []
    },
    {
      "cell_type": "code",
      "metadata": {
        "id": "ghoH6MRWuY_h"
      },
      "source": [
        "# model_name = 'recipe_generation_rnn_raw_' + INITIAL_EPOCH + '.h5'\n",
        "# model_1.save(model_name, save_format='h5')"
      ],
      "execution_count": null,
      "outputs": []
    },
    {
      "cell_type": "markdown",
      "metadata": {
        "id": "VMlmeuJuwqMo"
      },
      "source": [
        "### Visualizing training progress"
      ]
    },
    {
      "cell_type": "code",
      "metadata": {
        "id": "SquldfXSzoCm"
      },
      "source": [
        "def render_training_history(training_history):\n",
        "    if 'history' in training_history:\n",
        "        loss = training_history.history['loss']\n",
        "    else:\n",
        "        loss = []\n",
        "        for initial_epoch in training_history:\n",
        "            loss += training_history[initial_epoch].history['loss']\n",
        "\n",
        "    plt.title('Loss')\n",
        "    plt.xlabel('Epoch')\n",
        "    plt.ylabel('Loss')\n",
        "    plt.plot(loss, label='Training set')\n",
        "    plt.legend()\n",
        "    plt.grid(linestyle='--', linewidth=1, alpha=0.5)\n",
        "    plt.show()"
      ],
      "execution_count": null,
      "outputs": []
    },
    {
      "cell_type": "code",
      "metadata": {
        "colab": {
          "base_uri": "https://localhost:8080/",
          "height": 295
        },
        "id": "SmLoIbZdzoCn",
        "outputId": "d0788b22-0a14-4a54-f803-728d09319505"
      },
      "source": [
        "render_training_history(history_1)"
      ],
      "execution_count": null,
      "outputs": [
        {
          "output_type": "display_data",
          "data": {
            "image/png": "[encoded data removed]",
            "text/plain": [
              "<Figure size 432x288 with 1 Axes>"
            ]
          },
          "metadata": {
            "tags": [],
            "needs_background": "light"
          }
        }
      ]
    },
    {
      "cell_type": "markdown",
      "metadata": {
        "id": "p4lRBe9NzoCp"
      },
      "source": [
        "## Generating text"
      ]
    },
    {
      "cell_type": "markdown",
      "metadata": {
        "id": "UcuZH0YizoCr"
      },
      "source": [
        "### Restore the latest checkpoint\n",
        "\n",
        "To keep this prediction step simple, use a batch size of 1.\n",
        "\n",
        "Because of the way the RNN state is passed from timestep to timestep, the model only accepts a fixed batch size once built.\n",
        "\n",
        "To run the model with a different `batch_size`, we need to rebuild the model and restore the weights from the checkpoint."
      ]
    },
    {
      "cell_type": "code",
      "metadata": {
        "colab": {
          "base_uri": "https://localhost:8080/",
          "height": 34
        },
        "id": "1WGna7G0zoCs",
        "outputId": "4b5aa8c6-b29b-4bd7-9dae-ff16661b6c6a"
      },
      "source": [
        "tf.train.latest_checkpoint(checkpoint_dir)"
      ],
      "execution_count": null,
      "outputs": [
        {
          "output_type": "execute_result",
          "data": {
            "text/plain": [
              "'tmp/checkpoints/ckpt_13'"
            ]
          },
          "metadata": {
            "tags": []
          },
          "execution_count": 199
        }
      ]
    },
    {
      "cell_type": "code",
      "metadata": {
        "id": "n5_n7IDQc0Bl"
      },
      "source": [
        "# simplified_batch_size = 1\n",
        "# model_1_simplified = build_model_1(vocab_size, embedding_dim, rnn_units, simplified_batch_size)\n",
        "# model_1_simplified.load_weights('recipe_generation_rnn.h5')"
      ],
      "execution_count": null,
      "outputs": []
    },
    {
      "cell_type": "code",
      "metadata": {
        "id": "jHiuE22gzoCt"
      },
      "source": [
        "simplified_batch_size = 1\n",
        "\n",
        "model_1_simplified = build_model_1(vocab_size, embedding_dim, rnn_units, simplified_batch_size)\n",
        "\n",
        "model_1_simplified.load_weights(tf.train.latest_checkpoint(checkpoint_dir))\n",
        "\n",
        "model_1_simplified.build(tf.TensorShape([simplified_batch_size, None]))"
      ],
      "execution_count": null,
      "outputs": []
    },
    {
      "cell_type": "code",
      "metadata": {
        "colab": {
          "base_uri": "https://localhost:8080/",
          "height": 255
        },
        "id": "0jUFeh0vzoCv",
        "outputId": "6383d1a9-722f-48c5-bb32-6de7a041116a"
      },
      "source": [
        "model_1_simplified.summary()"
      ],
      "execution_count": null,
      "outputs": [
        {
          "output_type": "stream",
          "text": [
            "Model: \"sequential_6\"\n",
            "_________________________________________________________________\n",
            "Layer (type)                 Output Shape              Param #   \n",
            "=================================================================\n",
            "embedding_6 (Embedding)      (1, None, 256)            45056     \n",
            "_________________________________________________________________\n",
            "lstm_5 (LSTM)                (1, None, 1024)           5246976   \n",
            "_________________________________________________________________\n",
            "dense_5 (Dense)              (1, None, 176)            180400    \n",
            "=================================================================\n",
            "Total params: 5,472,432\n",
            "Trainable params: 5,472,432\n",
            "Non-trainable params: 0\n",
            "_________________________________________________________________\n"
          ],
          "name": "stdout"
        }
      ]
    },
    {
      "cell_type": "code",
      "metadata": {
        "colab": {
          "base_uri": "https://localhost:8080/",
          "height": 34
        },
        "id": "3-B16rkSzoCx",
        "outputId": "33016b05-4510-428c-b236-ec1d8090bf11"
      },
      "source": [
        "model_1_simplified.input_shape"
      ],
      "execution_count": null,
      "outputs": [
        {
          "output_type": "execute_result",
          "data": {
            "text/plain": [
              "(1, None)"
            ]
          },
          "metadata": {
            "tags": []
          },
          "execution_count": 202
        }
      ]
    },
    {
      "cell_type": "markdown",
      "metadata": {
        "id": "i6EYC8fBzoC0"
      },
      "source": [
        "### The prediction loop\n",
        "\n",
        "The following code block generates the text:\n",
        "\n",
        "- It Starts by choosing a start string, initializing the RNN state and setting the number of characters to generate.\n",
        "\n",
        "- Get the prediction distribution of the next character using the start string and the RNN state.\n",
        "\n",
        "- Then, use a categorical distribution to calculate the index of the predicted character. Use this predicted character as our next input to the model.\n",
        "\n",
        "- The RNN state returned by the model is fed back into the model so that it now has more context, instead than only one character. After predicting the next character, the modified RNN states are again fed back into the model, which is how it learns as it gets more context from the previously predicted characters.\n",
        "\n",
        "![Prediction loop](https://www.tensorflow.org/tutorials/text/images/text_generation_sampling.png)\n",
        "\n",
        "Image source: [Text generation with an RNN](https://www.tensorflow.org/tutorials/text/text_generation) notebook."
      ]
    },
    {
      "cell_type": "code",
      "metadata": {
        "id": "Ea9GKIaqzoC0"
      },
      "source": [
        "# num_generate\n",
        "# - number of characters to generate.\n",
        "#\n",
        "# temperature\n",
        "# - Low temperatures results in more predictable text.\n",
        "# - Higher temperatures results in more surprising text.\n",
        "# - Experiment to find the best setting.\n",
        "def generate_text(model, start_string, num_generate = 1000, temperature=1.0):\n",
        "    # Evaluation step (generating text using the learned model)\n",
        "    \n",
        "    padded_start_string = STOP_WORD_TITLE + start_string\n",
        "\n",
        "    # Converting our start string to numbers (vectorizing).\n",
        "    input_indices = np.array(tokenizer.texts_to_sequences([padded_start_string]))\n",
        "\n",
        "    # Empty string to store our results.\n",
        "    text_generated = []\n",
        "\n",
        "    # Here batch size == 1.\n",
        "    model.reset_states()\n",
        "    for char_index in range(num_generate):\n",
        "        predictions = model(input_indices)\n",
        "        # remove the batch dimension\n",
        "        predictions = tf.squeeze(predictions, 0)\n",
        "\n",
        "        # Using a categorical distribution to predict the character returned by the model.\n",
        "        predictions = predictions / temperature\n",
        "        predicted_id = tf.random.categorical(\n",
        "            predictions,\n",
        "            num_samples=1\n",
        "        )[-1,0].numpy()\n",
        "\n",
        "        # We pass the predicted character as the next input to the model\n",
        "        # along with the previous hidden state.\n",
        "        input_indices = tf.expand_dims([predicted_id], 0)\n",
        "        \n",
        "        next_character = tokenizer.sequences_to_texts(input_indices.numpy())[0]\n",
        "\n",
        "        text_generated.append(next_character)\n",
        "\n",
        "    return (padded_start_string + ''.join(text_generated))"
      ],
      "execution_count": null,
      "outputs": []
    },
    {
      "cell_type": "code",
      "metadata": {
        "id": "gVIIt8hnxs-5"
      },
      "source": [
        "def generate_combinations(model):\n",
        "    recipe_length = 1000\n",
        "    try_letters = ['', '\\n', 'A', 'B', 'C', 'O', 'L', 'Mushroom', 'Apple', 'Slow', 'Christmass', 'The', 'Banana', 'Homemade']\n",
        "    try_temperature = [1.0, 0.8, 0.4, 0.2]\n",
        "\n",
        "    for letter in try_letters:\n",
        "        for temperature in try_temperature:\n",
        "            generated_text = generate_text(\n",
        "                model,\n",
        "                start_string=letter,\n",
        "                num_generate = recipe_length,\n",
        "                temperature=temperature\n",
        "            )\n",
        "            print(f'Attempt: \"{letter}\" + {temperature}')\n",
        "            print('-----------------------------------')\n",
        "            print(generated_text)\n",
        "            print('\\n\\n')\n"
      ],
      "execution_count": null,
      "outputs": []
    },
    {
      "cell_type": "code",
      "metadata": {
        "colab": {
          "base_uri": "https://localhost:8080/",
          "height": 1000
        },
        "id": "xp7Q59iJzA5k",
        "outputId": "6bca94b7-669e-4362-f75c-6585451251e0"
      },
      "source": [
        "generate_combinations(model_1_simplified)"
      ],
      "execution_count": null,
      "outputs": [
        {
          "output_type": "stream",
          "text": [
            "Attempt: \"\" + 1.0\n",
            "-----------------------------------\n",
            "📗 fresh whole potatoes\n",
            "• 3 cubes in lemon dum total whole pod for icing; would dried fruits and barbecued mixture, recipe follows\n",
            "• 1 pinch kosher salt\n",
            "• Pinch ground ginger\n",
            "\n",
            "📝\n",
            "\n",
            "▪︎ In large colander pour olive oil to just curdley. Tear liquid from clumps of sherry.\n",
            "▪︎ In a saucepan combine sugar and cook until fruit is soft, break up clumps with your hands until smooth. Boil 1 minute, then transfer wheat to a bowl. Whisk egg yolks into crab.\n",
            "▪︎ In ice cream machine reserving by rounding the cooled carrots. Return to pan large. Fry flakes until potatoes are glossydally and reduced to 1 1/4 cups, about 10 minutes. Tilt with a fish spatula, add shaped lemon zest and stir to combine; add sugar and return to warm place on hot griddle. Cook gold bread rotating balls fat over medium-hot (about 6 to 8 minutes more as needed). Transfer leaf jus wings to paper towels to drain, sprinkle with grated orange rind and serve.;\n",
            "␣␣␣␣␣␣␣␣␣␣␣␣␣␣␣␣␣␣␣␣␣␣␣␣␣␣␣␣␣␣␣␣␣␣␣␣␣␣␣␣␣␣␣␣␣␣␣␣␣␣␣␣␣␣␣␣␣␣␣␣␣␣␣␣␣␣␣␣␣␣␣␣␣␣␣␣␣\n",
            "\n",
            "\n",
            "\n",
            "Attempt: \"\" + 0.8\n",
            "-----------------------------------\n",
            "📗 fresh sage-type of thinly shaved green onions with a spoon.\n",
            "▪︎ Saute:\n",
            "▪︎ Combine all the ingredients in a saucepan and bring to a boil over medium heat. Reduce the heat and simmer for 10 to 12 minutes, stirring occasionally. Keep warm.\n",
            "▪︎ Serve immediately or store in timer and then add more curry powder and serve.\n",
            "␣␣␣␣␣␣␣␣␣␣␣␣␣␣␣␣␣␣␣␣␣␣␣␣␣␣␣␣␣␣␣␣␣␣␣␣␣␣␣␣␣␣␣␣␣␣␣␣␣␣␣␣␣␣␣␣␣␣␣␣␣␣␣␣␣␣␣␣␣␣␣␣␣␣␣␣␣␣␣␣␣␣␣␣␣␣␣␣␣␣␣␣␣␣␣␣␣␣␣␣␣␣␣␣␣␣␣␣␣␣␣␣␣␣␣␣␣␣␣␣␣␣␣␣␣␣␣␣␣␣␣␣␣␣␣␣␣␣␣␣␣␣␣␣␣␣␣␣␣␣␣␣␣␣␣␣␣␣␣␣␣␣␣␣␣␣␣␣␣␣␣␣␣␣␣␣␣␣␣␣␣␣␣␣␣␣␣␣␣␣␣␣␣␣␣␣␣␣␣␣␣␣␣␣␣␣␣␣␣␣␣␣␣␣␣␣␣␣␣␣␣␣␣␣␣␣␣␣␣␣␣␣␣␣␣␣␣␣␣␣␣␣␣␣␣␣␣␣␣␣␣␣␣␣␣␣␣␣␣␣␣␣␣␣␣␣␣␣␣␣␣␣␣␣␣␣␣␣␣␣␣␣␣␣␣␣␣␣␣␣␣␣␣␣␣␣␣␣␣␣␣␣␣␣␣␣␣␣␣␣␣␣␣␣␣␣␣␣␣␣␣␣␣␣␣␣␣␣␣␣␣␣␣␣␣␣␣␣␣␣␣␣␣␣␣␣␣␣␣␣␣␣␣␣␣␣␣␣␣␣␣␣␣␣␣␣␣␣␣␣␣␣␣␣␣␣␣␣␣␣␣␣␣␣␣␣␣␣␣␣␣␣␣␣␣␣␣␣␣␣␣␣␣␣␣␣␣␣␣␣␣␣␣␣␣␣␣␣␣␣␣␣␣␣␣␣␣␣␣␣␣␣␣␣␣␣␣␣␣␣␣␣␣␣␣␣␣␣␣␣␣␣␣␣␣␣␣␣␣␣␣␣␣␣␣␣␣␣␣␣␣␣␣␣␣␣␣␣␣␣␣␣␣␣␣␣␣␣␣␣␣␣␣␣␣␣␣␣␣␣␣␣␣␣␣␣␣␣␣␣␣␣␣␣␣␣␣␣␣␣␣␣␣␣␣␣␣␣␣␣␣␣␣␣␣␣␣␣␣␣␣␣␣␣␣␣␣␣␣␣␣␣␣␣␣␣␣␣␣␣␣␣␣␣␣␣␣␣␣␣␣␣␣␣␣␣␣␣␣␣␣␣␣␣␣␣␣␣␣␣␣␣␣␣␣␣␣␣␣␣␣␣␣␣␣␣␣␣␣␣␣␣␣␣␣␣␣␣␣␣␣␣␣␣␣␣␣␣␣␣␣␣␣␣␣␣␣␣␣␣␣␣␣␣␣␣␣␣␣␣␣␣␣␣␣␣␣␣␣␣␣␣␣␣␣␣␣␣␣␣␣␣␣␣␣␣␣␣␣␣␣␣␣\n",
            "\n",
            "\n",
            "\n",
            "Attempt: \"\" + 0.4\n",
            "-----------------------------------\n",
            "📗 using asparagus spears and 2 to 3 cups cooked and cut into 1-inch pieces (about 1 1/2 cups)\n",
            "• 1/2 cup sugar\n",
            "• 1 tablespoon brandy\n",
            "• 1 teaspoon ground cinnamon\n",
            "• 1/2 teaspoon ground nutmeg\n",
            "• 1 teaspoon ground cloves\n",
            "• 1 teaspoon ground cloves\n",
            "• 1/2 teaspoon ground nutmeg\n",
            "\n",
            "📝\n",
            "\n",
            "▪︎ Cook spices in water until tender but still crisp then stir in all of the ingredients and set aside until thick.\n",
            "▪︎ Place the potatoes in a large bowl. Add the cooled syrup and stir to combine. Serve immediately.\n",
            "␣␣␣␣␣␣␣␣␣␣␣␣␣␣␣␣␣␣␣␣␣␣␣␣␣␣␣␣␣␣␣␣␣␣␣␣␣␣␣␣␣␣␣␣␣␣␣␣␣␣␣␣␣␣␣␣␣␣␣␣␣␣␣␣␣␣␣␣␣␣␣␣␣␣␣␣␣␣␣␣␣␣␣␣␣␣␣␣␣␣␣␣␣␣␣␣␣␣␣␣␣␣␣␣␣␣␣␣␣␣␣␣␣␣␣␣␣␣␣␣␣␣␣␣␣␣␣␣␣␣␣␣␣␣␣␣␣␣␣␣␣␣␣␣␣␣␣␣␣␣␣␣␣␣␣␣␣␣␣␣␣␣␣␣␣␣␣␣␣␣␣␣␣␣␣␣␣␣␣␣␣␣␣␣␣␣␣␣␣␣␣␣␣␣␣␣␣␣␣␣␣␣␣␣␣␣␣␣␣␣␣␣␣␣␣␣␣␣␣␣␣␣␣␣␣␣␣␣␣␣␣␣␣␣␣␣␣␣␣␣␣␣␣␣␣␣␣␣␣␣␣␣␣␣␣␣␣␣␣␣␣␣␣␣␣␣␣␣␣␣␣␣␣␣␣␣␣␣␣␣␣␣␣␣␣␣␣␣␣␣␣␣␣␣␣␣␣␣␣␣␣␣␣␣␣␣␣␣␣␣␣␣␣␣␣␣␣␣␣␣␣␣␣␣␣␣␣␣␣␣␣␣␣␣␣␣␣␣␣␣␣␣␣␣␣␣␣␣␣␣␣␣␣␣␣␣␣␣␣␣␣␣␣␣␣␣␣␣␣␣␣␣␣␣␣␣␣␣␣␣␣␣␣␣␣␣␣␣␣␣␣␣␣␣␣␣␣␣␣␣␣␣␣␣␣␣␣␣␣␣␣␣␣␣␣␣␣␣␣␣␣␣␣␣␣␣␣␣␣␣␣␣␣␣␣␣␣␣␣␣␣␣␣␣␣␣␣␣␣␣␣␣␣␣␣␣␣␣␣␣␣␣␣␣␣␣␣␣␣␣␣␣␣␣␣␣␣␣␣␣␣␣␣␣␣␣␣␣␣␣␣␣␣␣␣␣␣␣␣␣␣␣␣␣␣␣␣␣␣\n",
            "\n",
            "\n",
            "\n",
            "Attempt: \"\" + 0.2\n",
            "-----------------------------------\n",
            "📗 interbany sweet potato puree (recommended: Betty Crocker)\n",
            "• 2 teaspoons ground cinnamon\n",
            "• 1 teaspoon ground ginger\n",
            "• 1 teaspoon ground ginger\n",
            "• 1 teaspoon ground nutmeg\n",
            "• 1 teaspoon ground nutmeg\n",
            "• 1 teaspoon ground ginger\n",
            "• 1/2 teaspoon ground ginger\n",
            "• 1/2 teaspoon ground nutmeg\n",
            "• 1/2 teaspoon ground ginger\n",
            "• 1/2 teaspoon ground nutmeg\n",
            "• 1/2 teaspoon ground ginger\n",
            "• 1/2 teaspoon ground ginger\n",
            "• 1/2 teaspoon ground ginger\n",
            "• 1/2 cup chopped pecans\n",
            "\n",
            "📝\n",
            "\n",
            "▪︎ Combine the sugar, cornstarch, and salt in a medium saucepan and bring to a boil. Reduce the heat to medium-low and simmer for 15 minutes. Remove from the heat and stir in the cream. Set aside to cool slightly.\n",
            "▪︎ In a bowl, combine the mascarpone, cream, sugar, vanilla and salt. Stir until smooth. Stir in the sugar and cinnamon. Stir in the vanilla and almond extract and stir until the chocolate is completely melted. Stir in the vanilla and cinnamon. Set aside.\n",
            "▪︎ Preheat the oven to 350 degrees F.\n",
            "▪︎ To assemble: Place the strawberrie\n",
            "\n",
            "\n",
            "\n",
            "Attempt: \"\n",
            "\" + 1.0\n",
            "-----------------------------------\n",
            "📗 \n",
            "\n",
            "🥕\n",
            "\n",
            "• Peanut oil, for frying\n",
            "• 10 whole cardamom pods\n",
            "• 5 cups hot\n",
            "• 6 ounces bittersweet or semisweet chocolate, chopped\n",
            "• 5 teaspoons brown sugar (Ketugreas)\n",
            "• 1/2 teaspoon cayenne pepper\n",
            "• 4 cups sugar\n",
            "• 1 egg yolk\n",
            "\n",
            "📝\n",
            "\n",
            "▪︎ In a blender combine flour, brown sugar, sugar, almond extract and eggs. Beat the egg mixture until it is emulsified. Add in the ice cream until dough coats the base, and carefully added. Cover and chill for at least 1 hour or overnight.\n",
            "▪︎ Special equipment: a pastry board\n",
            "▪︎ For the frosting: Mix almond butter and sugar together until the cream registers hard before adding the vanilla. Let set for about 2 to 3 minutes, stirring firmly until smooth. Stir well until desired color removes. Fold in chocolate covered walnuts.\n",
            "▪︎ For a candy dessert, frost wormbles by putting them on the orange peel to cover. Reheat in the same manufacturer's inster cooking - about halfway through the much because the decoration assemble the top half. Let cool and serve souffles at roo\n",
            "\n",
            "\n",
            "\n",
            "Attempt: \"\n",
            "\" + 0.8\n",
            "-----------------------------------\n",
            "📗 \n",
            "\n",
            "🥕\n",
            "\n",
            "• 1 cup water\n",
            "• 1/3 cup sugar\n",
            "• 1 teaspoon pure vanilla extract\n",
            "• 1 cup heavy cream\n",
            "• 4 teaspoons vanilla extract\n",
            "• 3 eggs, chilled and cut into cubes\n",
            "\n",
            "📝\n",
            "\n",
            "▪︎ Preheat oven to 325 degrees F.\n",
            "▪︎ In a bowl, mix together flour, sugar, baking powder, sugar and salt and mix well. Add the egg yolks with a fork, add to dry ingredients. Pour into a 9-inch springform pan. Bake for 25 to 30 minutes or until the top is golden. Serve hot with a dollop of whipped cream or ice cream.\n",
            "▪︎ Prepare a charcoal grill for indirect cooking. Drain all the sugar, raisins and papaya into a small saucepan and place over high heat. Add a dark chocolate and everyone thin to eat. The sauce will be cool down and return the bowl to the hot pan to desire. Add the remaining 1/2 cup sugar and return to the heat and cook for 2 more minutes.\n",
            "▪︎ Add the coconut milk to the saucepan and stir to combine and cook for another 3 minutes. Turn off the heat and stir in the remaining 1/2 cup of water. Serve immediately.\n",
            "␣␣␣␣␣␣␣\n",
            "\n",
            "\n",
            "\n",
            "Attempt: \"\n",
            "\" + 0.4\n",
            "-----------------------------------\n",
            "📗 \n",
            "\n",
            "🥕\n",
            "\n",
            "• 1 cup heavy cream\n",
            "• 1/2 cup sugar\n",
            "• 1 teaspoon vanilla extract\n",
            "• 1/4 teaspoon salt\n",
            "• 1 tablespoon cornstarch\n",
            "• 1/2 cup fresh cranberries\n",
            "• 1/2 cup heavy cream\n",
            "• 1 cup heavy cream\n",
            "\n",
            "📝\n",
            "\n",
            "▪︎ In a large bowl, combine the corn syrup, sugar, and salt. Slowly whisk in the egg yolks and the remaining 1/2 cup sugar until smooth and thick. Stir in the vanilla and the remaining cup of sugar and mix thoroughly. Add the chopped chocolate chips and stir to combine. Set aside.\n",
            "▪︎ Preheat the oven to 350 degrees F.\n",
            "▪︎ To assemble: Put the chocolate chips in a bowl. Spread the chocolate mixture over the crust and top with the remaining crumbs. Sprinkle with the remaining 1/4 cup sugar and sprinkle with the remaining 1/2 cup chopped pecans. Bake until the crust is golden brown, about 15 to 20 minutes. Remove from the oven and cool on a rack. Serve warm or cold.\n",
            "␣␣␣␣␣␣␣␣␣␣␣␣␣␣␣␣␣␣␣␣␣␣␣␣␣␣␣␣␣␣␣␣␣␣␣␣␣␣␣␣␣␣␣␣␣␣␣␣␣␣␣␣␣␣␣␣␣␣␣␣␣␣␣␣␣␣␣␣␣␣␣␣␣␣␣␣␣␣␣␣␣␣␣␣␣␣␣␣␣␣␣␣␣␣␣␣␣␣␣␣␣␣␣␣␣␣␣␣␣␣␣␣␣␣␣␣␣␣␣␣␣␣␣␣␣␣␣␣␣␣␣␣␣␣␣␣␣␣␣␣\n",
            "\n",
            "\n",
            "\n",
            "Attempt: \"\n",
            "\" + 0.2\n",
            "-----------------------------------\n",
            "📗 \n",
            "\n",
            "🥕\n",
            "\n",
            "• 1 cup sugar\n",
            "• 1 cup water\n",
            "• 1 teaspoon vanilla extract\n",
            "• 1 cup heavy cream\n",
            "• 1/2 cup sugar\n",
            "• 1 cup heavy cream\n",
            "• 1/2 cup sugar\n",
            "• 1 teaspoon vanilla extract\n",
            "• 1 teaspoon ground cinnamon\n",
            "• 1 cup chopped pecans\n",
            "\n",
            "📝\n",
            "\n",
            "▪︎ Special equipment: a 12-cup muffin tin with 18 little butter\n",
            "▪︎ Preheat the oven to 350 degrees F.\n",
            "▪︎ Melt the butter in a large saucepan over medium heat. Add the sugar and stir until the sugar is dissolved. Add the brown sugar and stir until the sugar is dissolved. Add the brown sugar and cook until the sugar is dissolved. Remove from the heat and set aside.\n",
            "▪︎ In a large bowl, whisk together the eggs, sugar, and vanilla. Add the flour and salt and mix well. Add the flour and stir until the dough comes together. Turn the dough out onto a floured surface and knead until smooth and elastic, about 10 to 12 minutes. Place the dough on a floured surface and knead until smooth and elastic, about 10 to 12 minutes. Transfer the dough to a baking sheet and flatten slightly. B\n",
            "\n",
            "\n",
            "\n"
          ],
          "name": "stdout"
        },
        {
          "output_type": "stream",
          "text": [
            "Attempt: \"A\" + 1.0\n",
            "-----------------------------------\n",
            "📗 Azzeric Sweet Potato Puree\n",
            "\n",
            "🥕\n",
            "\n",
            "• 24 large baking potatoes, such as Carn or Marinara or 1 (14-ounce) can pot wine\n",
            "• 1/4 pound unsalted butter, cut into small pieces\n",
            "• 1/2 cup coarsely chopped scallions\n",
            "\n",
            "📝\n",
            "\n",
            "▪︎ Bring a large pot of water to a boil, place a large nonstick skillet over medium-high heat, add All Naucocal Volves. Reduce heat to medium and cook the potatoes until just cooked through, bubbles before adding the next layer, about 10 to 12 minutes. Remove ground beans and reserve. Reserve the crumb mixture for about 6 greased. Let cool 2 minutes. Strain soak into a glass pitcher. Let cool in ice. Add short-goodfish to the batter and stir to dissolve. Pour in the cheese mixture and whisk until smooth. Set aside for 20 seconds more. Remove dumplings and cheese curds. Spread 1/3 cup of the mixture on each circle for seal ballo. Transfer mixture into a greased 9-by-11-inch baking dish and chill for 20 minutes.\n",
            "▪︎ Bake, covered, for 30 minutes. Serve warm.\n",
            "␣␣␣␣␣␣␣␣␣␣␣␣␣␣␣␣␣␣␣␣␣␣␣␣␣␣␣␣␣␣\n",
            "\n",
            "\n",
            "\n",
            "Attempt: \"A\" + 0.8\n",
            "-----------------------------------\n",
            "📗 Alth's Perfect Pork Roast\n",
            "\n",
            "🥕\n",
            "\n",
            "• 2 tablespoons oil\n",
            "• 1 pound ground beef\n",
            "• 1 1/2 teaspoons kosher salt\n",
            "• 1/2 teaspoon freshly ground black pepper\n",
            "• 1 1/2 pounds ground beef\n",
            "• 1 large onion, finely chopped\n",
            "• 3 cloves garlic, finely diced\n",
            "• 2 teaspoons dried oregano\n",
            "• 1 1/2 teaspoons ground cumin\n",
            "• 2 cups sheets peal or peanuts (about 7 cups roots)\n",
            "• 2 tablespoons chopped fresh sage\n",
            "• 2 teaspoons coarse sea salt or kosher salt\n",
            "• 3/4 teaspoon ground black pepper\n",
            "\n",
            "📝\n",
            "\n",
            "▪︎ Watch how to make this recipe.\n",
            "▪︎ Special equipment: a deep-fat fryer\n",
            "▪︎ Preheat the oven to 375 degrees F.\n",
            "▪︎ Place the potatoes in a single layer on a rimmed baking sheet. Pat the squash halves dry. Season with the salt and pepper. Put the potatoes back on the grill and cook about 1 1/2 to 2 inches on an indi half baking sheet, about 45 minutes.\n",
            "▪︎ Remove from the oven and add the butter, hot sauce, Worcestershire sauce, pepper and milk to the skillet, and boil over medium-high heat for about 20 seconds. Remove from the hea\n",
            "\n",
            "\n",
            "\n",
            "Attempt: \"A\" + 0.4\n",
            "-----------------------------------\n",
            "📗 Apricot \"Cookie\" Cakes\n",
            "\n",
            "🥕\n",
            "\n",
            "• 1 cup all-purpose flour\n",
            "• 1 cup corn flour\n",
            "• 1 cup sugar\n",
            "• 1 tablespoon baking powder\n",
            "• 1 teaspoon salt\n",
            "• 1 teaspoon ground cinnamon\n",
            "• 1 cup grated Parmesan\n",
            "• 1 cup pecans, chopped\n",
            "• 1/2 cup chopped pecans\n",
            "• 1/2 cup raisins\n",
            "\n",
            "📝\n",
            "\n",
            "▪︎ Preheat oven to 350 degrees F.\n",
            "▪︎ Butter and flour a 9 by 13-inch baking dish. In a medium bowl, whisk together the flour, sugar, baking powder, baking soda and salt. In a small bowl, whisk together the eggs, sugar, and eggs. Add the flour mixture to the butter mixture and mix until just combined. Stir in the raisins and pecans and transfer to the prepared pan. Spread the batter over the top of the crust. Bake for 15 minutes. Reduce the oven temperature to 350 degrees F, and bake until the cupcakes are set and the top is golden brown, about 20 minutes more. Transfer the cake to a wire rack to cool to room temperature. Refrigerate until ready to serve.\n",
            "␣␣␣␣␣␣␣␣␣␣␣␣␣␣␣␣␣␣␣␣␣␣␣␣␣␣␣␣␣␣␣␣␣␣␣␣␣␣␣␣␣␣␣␣␣␣␣␣␣␣␣␣␣␣␣␣␣␣␣␣␣␣␣␣␣␣␣␣␣␣␣␣␣␣␣␣␣␣␣␣␣\n",
            "\n",
            "\n",
            "\n",
            "Attempt: \"A\" + 0.2\n",
            "-----------------------------------\n",
            "📗 Alternative to the Fondant\n",
            "\n",
            "🥕\n",
            "\n",
            "• 1 cup sugar\n",
            "• 1 cup water\n",
            "• 1 cup heavy cream\n",
            "• 1 teaspoon vanilla extract\n",
            "• 1/2 cup heavy cream\n",
            "• 1/2 cup heavy cream\n",
            "• 1 teaspoon vanilla extract\n",
            "• 1/2 cup chopped pecans\n",
            "\n",
            "📝\n",
            "\n",
            "▪︎ In a saucepan over medium heat, combine the sugar, sugar, and corn syrup. Cook over medium heat until the sugar is dissolved. Remove from the heat and stir in the vanilla. Refrigerate until cold. Stir in the chocolate chips and the chocolate chips. Serve immediately.\n",
            "␣␣␣␣␣␣␣␣␣␣␣␣␣␣␣␣␣␣␣␣␣␣␣␣␣␣␣␣␣␣␣␣␣␣␣␣␣␣␣␣␣␣␣␣␣␣␣␣␣␣␣␣␣␣␣␣␣␣␣␣␣␣␣␣␣␣␣␣␣␣␣␣␣␣␣␣␣␣␣␣␣␣␣␣␣␣␣␣␣␣␣␣␣␣␣␣␣␣␣␣␣␣␣␣␣␣␣␣␣␣␣␣␣␣␣␣␣␣␣␣␣␣␣␣␣␣␣␣␣␣␣␣␣␣␣␣␣␣␣␣␣␣␣␣␣␣␣␣␣␣␣␣␣␣␣␣␣␣␣␣␣␣␣␣␣␣␣␣␣␣␣␣␣␣␣␣␣␣␣␣␣␣␣␣␣␣␣␣␣␣␣␣␣␣␣␣␣␣␣␣␣␣␣␣␣␣␣␣␣␣␣␣␣␣␣␣␣␣␣␣␣␣␣␣␣␣␣␣␣␣␣␣␣␣␣␣␣␣␣␣␣␣␣␣␣␣␣␣␣␣␣␣␣␣␣␣␣␣␣␣␣␣␣␣␣␣␣␣␣␣␣␣␣␣␣␣␣␣␣␣␣␣␣␣␣␣␣␣␣␣␣␣␣␣␣␣␣␣␣␣␣␣␣␣␣␣␣␣␣␣␣␣␣␣␣␣␣␣␣␣␣␣␣␣␣␣␣␣␣␣␣␣␣␣␣␣␣␣␣␣␣␣␣␣␣␣␣␣␣␣␣␣␣␣␣␣␣␣␣␣␣␣␣␣␣␣␣␣␣␣␣␣␣␣␣␣␣␣␣␣␣␣␣␣␣␣␣␣␣␣␣␣␣␣␣␣␣␣␣␣␣␣␣␣␣␣␣␣␣␣␣␣␣␣␣␣␣␣␣␣␣␣␣␣␣␣␣␣␣␣␣␣␣␣␣␣␣␣␣␣␣␣␣␣␣␣␣␣␣␣␣␣␣␣␣␣␣␣␣␣␣␣␣␣␣␣␣␣␣␣␣␣␣␣␣␣␣␣␣␣␣␣␣␣␣␣␣␣␣␣␣␣␣␣␣␣␣␣␣␣␣␣␣␣␣␣␣␣␣␣␣␣␣␣␣␣␣␣␣␣\n",
            "\n",
            "\n",
            "\n",
            "Attempt: \"B\" + 1.0\n",
            "-----------------------------------\n",
            "📗 Be-Whe if you leave foam doneness you don't want to do it the center wok.\n",
            "▪︎ Place the mashed eggs in a food processor, using a potato masher. Drizzle in the milk until the flour is moist but not you center pink, adding water a teaspoon at a time. Mix for an additional 5 to 6 minutes. When it's blinter, add a little of the remaining sugar glass Juice texture. Drang the tapenade into a bowl. Place in a pastry bag fitted with a large-waxed paper that works briefly and pat dry. Check the shells, but don't stick to it. Divide the mixture into small squares and then dip them in oil. To serve, bring chips a cloth to a curl stirring and turn them over low to cook over hot coals to cook about 45 seconds on each side. Allow to cool for another 10 minutes or placed on a platter.\n",
            "␣␣␣␣␣␣␣␣␣␣␣␣␣␣␣␣␣␣␣␣␣␣␣␣␣␣␣␣␣␣␣␣␣␣␣␣␣␣␣␣␣␣␣␣␣␣␣␣␣␣␣␣␣␣␣␣␣␣␣␣␣␣␣␣␣␣␣␣␣␣␣␣␣␣␣␣␣␣␣␣␣␣␣␣␣␣␣␣␣␣␣␣␣␣␣␣␣␣␣␣␣␣␣␣␣␣␣␣␣␣␣␣␣␣␣␣␣␣␣␣␣␣␣␣␣␣␣␣␣␣␣␣␣␣␣␣␣␣␣␣␣␣␣␣␣␣␣␣␣␣␣␣␣␣␣␣␣␣␣␣␣␣␣␣␣␣␣␣␣␣␣␣␣␣␣␣␣␣␣␣␣␣␣␣␣␣␣␣␣␣␣␣␣␣␣␣␣␣␣␣␣␣␣␣␣␣␣␣␣␣␣␣␣␣␣␣␣␣␣␣␣\n",
            "\n",
            "\n",
            "\n",
            "Attempt: \"B\" + 0.8\n",
            "-----------------------------------\n",
            "📗 Breakfast and Sauteed Korean Mayonnaise\n",
            "\n",
            "🥕\n",
            "\n",
            "• 1 avocado, peeled, pitted and diced into 1/4-inch dice\n",
            "• 1 teaspoon freshly grated ginger\n",
            "• 1 teaspoon sherry vinegar\n",
            "• 1 tablespoon chopped fresh cilantro\n",
            "• 3 teaspoons chopped chives\n",
            "• 1/2 cup diced yellow onion\n",
            "• 1/2 cup roasted, salted soda water\n",
            "• 3 tablespoons vegetable oil\n",
            "• 1/2 cup mayonnaise\n",
            "• 6 to 10 ounces mixed minced ginger root (about 1 medium carrot cereal)\n",
            "• 1/4 cup chopped red onion\n",
            "• 3/4 cup chopped seeded diced peppers\n",
            "• Salt and freshly ground black pepper\n",
            "\n",
            "📝\n",
            "\n",
            "▪︎ In a blender, combine all ingredients and blend until smooth. Season with salt and pepper, to taste.\n",
            "▪︎ Mix the spiced cups together with 1 cup of the soba noodles, tomatoes, green onions, cilantro, and boiling water. Serve immediately or keep in the refrigerator for up to 2 weeks.\n",
            "␣␣␣␣␣␣␣␣␣␣␣␣␣␣␣␣␣␣␣␣␣␣␣␣␣␣␣␣␣␣␣␣␣␣␣␣␣␣␣␣␣␣␣␣␣␣␣␣␣␣␣␣␣␣␣␣␣␣␣␣␣␣␣␣␣␣␣␣␣␣␣␣␣␣␣␣␣␣␣␣␣␣␣␣␣␣␣␣␣␣␣␣␣␣␣␣␣␣␣␣␣␣␣␣␣␣␣␣␣␣␣␣␣␣␣␣␣␣␣␣␣␣␣␣␣␣␣␣␣␣␣␣␣␣␣␣␣␣␣␣␣␣␣␣␣␣␣␣␣␣␣␣␣␣␣␣␣␣␣␣␣␣␣␣␣␣␣␣␣␣␣␣␣␣␣␣␣␣␣␣␣␣␣␣\n",
            "\n",
            "\n",
            "\n",
            "Attempt: \"B\" + 0.4\n",
            "-----------------------------------\n",
            "📗 Battered French Toast with Bacon, Bacon, and Caramelized Onions and Pecorino\n",
            "\n",
            "🥕\n",
            "\n",
            "• 1/2 pound squid (shredded carrots)\n",
            "• 1 small onion, diced\n",
            "• 1 small green pepper, seeded and cut into strips\n",
            "• 1 red bell pepper, stemmed, seeded and cut into 1/4-inch dice\n",
            "• 1 small onion, chopped\n",
            "• 1 green bell pepper, chopped\n",
            "• 1 cup chicken stock\n",
            "• 1 cup heavy cream\n",
            "• 1/2 cup shredded sharp Cheddar\n",
            "• 1 teaspoon ground cumin\n",
            "• 1 teaspoon salt\n",
            "• 1 teaspoon freshly ground black pepper\n",
            "\n",
            "📝\n",
            "\n",
            "▪︎ Preheat the oven to 350 degrees F.\n",
            "▪︎ For the bacon mixture: In a large bowl, combine the cheese, sour cream, mustard, salt, pepper, and hot sauce. Stir together and mix well. Fold in the milk and set aside.\n",
            "▪︎ For the filling: In a large bowl, mix the flour and salt and pepper, to taste. Add the beaten eggs and mix to combine. Set aside.\n",
            "▪︎ For the topping: Mix the cream cheese with the mayonnaise, salt and pepper in a medium bowl. Add the chicken and toss to coat the other side. Transfer the mixture to the prepared\n",
            "\n",
            "\n",
            "\n",
            "Attempt: \"B\" + 0.2\n",
            "-----------------------------------\n",
            "📗 Breakfast feracher with Chocolate Chips\n",
            "\n",
            "🥕\n",
            "\n",
            "• 1 cup sugar\n",
            "• 1 cup water\n",
            "• 1 tablespoon vanilla extract\n",
            "• 1/2 cup chopped pecans\n",
            "• 1 cup chopped pecans\n",
            "• 1 cup chopped pecans\n",
            "• 1 cup almonds, toasted\n",
            "• 1 cup chopped pecans\n",
            "• 1 cup chopped pecans\n",
            "• 1 cup chopped pecans\n",
            "• 1 cup chopped pecans\n",
            "• 1 cup sugar\n",
            "• 1 cup chopped pecans\n",
            "• 1 cup chopped pecans\n",
            "\n",
            "📝\n",
            "\n",
            "▪︎ Preheat the oven to 350 degrees F.\n",
            "▪︎ In a large bowl, mix together the flour, sugar, and salt. Add the butter and mix until combined. Add the butter and mix well. Add the butter and mix until the dough comes together. Divide the dough into 4 equal parts. Place the dough on a floured surface and place it on a floured surface. Cut the dough into 1/2-inch rounds. Place the cookies on a baking sheet and bake until the cookies are golden brown, about 12 to 14 minutes. Remove the cookies from the oven and let cool on a wire rack.\n",
            "▪︎ For the filling: In a large bowl, whisk together the egg yolks, sugar, and vanilla until smooth. Stir in the \n",
            "\n",
            "\n",
            "\n"
          ],
          "name": "stdout"
        },
        {
          "output_type": "stream",
          "text": [
            "Attempt: \"C\" + 1.0\n",
            "-----------------------------------\n",
            "📗 Crema battered Salmon\n",
            "\n",
            "🥕\n",
            "\n",
            "• 1 cup fresh cranberries (from 4 tablespoons left of 4 egg whites)\n",
            "• 3 teaspoons sugar\n",
            "• 1 tablespoon unsalted butter\n",
            "• 2 tablespoons truffle oil\n",
            "• Coarse salt\n",
            "• Freshly ground black pepper\n",
            "\n",
            "📝\n",
            "\n",
            "▪︎ Place cornmeal in a small serving bowl, and combine it. Drizzle milk over the plums and season with salt and pepper. Let stand for about 5 minutes, until firm. Serve immediately.\n",
            "␣␣␣␣␣␣␣␣␣␣␣␣␣␣␣␣␣␣␣␣␣␣␣␣␣␣␣␣␣␣␣␣␣␣␣␣␣␣␣␣␣␣␣␣␣␣␣␣␣␣␣␣␣␣␣␣␣␣␣␣␣␣␣␣␣␣␣␣␣␣␣␣␣␣␣␣␣␣␣␣␣␣␣␣␣␣␣␣␣␣␣␣␣␣␣␣␣␣␣␣␣␣␣␣␣␣␣␣␣␣␣␣␣␣␣␣␣␣␣␣␣␣␣␣␣␣␣␣␣␣␣␣␣␣␣␣␣␣␣␣␣␣␣␣␣␣␣␣␣␣␣␣␣␣␣␣␣␣␣␣␣␣␣␣␣␣␣␣␣␣␣␣␣␣␣␣␣␣␣␣␣␣␣␣␣␣␣␣␣␣␣␣␣␣␣␣␣␣␣␣␣␣␣␣␣␣␣␣␣␣␣␣␣␣␣␣␣␣␣␣␣␣␣␣␣␣␣␣␣␣␣␣␣␣␣␣␣␣␣␣␣␣␣␣␣␣␣␣␣␣␣␣␣␣␣␣␣␣␣␣␣␣␣␣␣␣␣␣␣␣␣␣␣␣␣␣␣␣␣␣␣␣␣␣␣␣␣␣␣␣␣␣␣␣␣␣␣␣␣␣␣␣␣␣␣␣␣␣␣␣␣␣␣␣␣␣␣␣␣␣␣␣␣␣␣␣␣␣␣␣␣␣␣␣␣␣␣␣␣␣␣␣␣␣␣␣␣␣␣␣␣␣␣␣␣␣␣␣␣␣␣␣␣␣␣␣␣␣␣␣␣␣␣␣␣␣␣␣␣␣␣␣␣␣␣␣␣␣␣␣␣␣␣␣␣␣␣␣␣␣␣␣␣␣␣␣␣␣␣␣␣␣␣␣␣␣␣␣␣␣␣␣␣␣␣␣␣␣␣␣␣␣␣␣␣␣␣␣␣␣␣␣␣␣␣␣␣␣␣␣␣␣␣␣␣␣␣␣␣␣␣␣␣␣␣␣␣␣␣␣␣␣␣␣␣␣␣␣␣␣␣␣␣␣␣␣␣␣␣␣␣␣␣␣␣␣␣␣␣␣␣␣␣␣␣␣␣␣␣␣␣␣␣␣␣␣␣␣␣␣␣␣␣␣␣␣␣␣␣␣␣␣␣␣␣␣␣␣␣␣␣␣␣␣␣␣␣␣␣␣␣␣␣␣␣␣␣␣␣␣␣␣␣␣␣␣␣␣␣␣␣␣␣␣␣␣␣␣␣␣␣␣␣␣␣␣␣␣␣␣␣␣␣␣␣␣␣␣\n",
            "\n",
            "\n",
            "\n",
            "Attempt: \"C\" + 0.8\n",
            "-----------------------------------\n",
            "📗 Classic Iseasteroles\n",
            "\n",
            "🥕\n",
            "\n",
            "• 3 cups milk\n",
            "• 3/4 cup coconut milk\n",
            "• 1/2 cup malted maple syrup\n",
            "• 1/2 teaspoon salt\n",
            "• 3 cups sugar\n",
            "• 4 1-inch strawberries, sliced into 1/4-inch pieces\n",
            "• 1/2 teaspoon ground cinnamon\n",
            "\n",
            "📝\n",
            "\n",
            "▪︎ Place the cherries in a small saucepan; sprinkle with the sugar. Bring to a simmer over medium-low heat, then remove from the heat. Let stand until the coconut fluffy, about 15 to 20 minutes. Drain the coconut oil in a stream, whisking until combined. Add the cream, espresso and cocoa powder and stir to combine. Cover and refrigerate until ready to serve. Makes 10 to 12 small springs in the same fat from the surface of the bowl, which using paper colors, and freeze overnight.\n",
            "▪︎ Meanwhile, combine the cream, sugar, vanilla and salt in a medium saucepan. Cook over medium heat until the sugar dissolves and the sugar melts and begins to boil, about 5 minutes. Remove from the heat and stir in the vanilla.\n",
            "▪︎ To serve, carefully remove the pops from the casserole and put them in\n",
            "\n",
            "\n",
            "\n",
            "Attempt: \"C\" + 0.4\n",
            "-----------------------------------\n",
            "📗 Cinnamon Corn Cakes with Coconut Flour and Saffron Sauce\n",
            "\n",
            "🥕\n",
            "\n",
            "• 3 cups shredded sharp Cheddar\n",
            "• 1 cup grated Parmesan\n",
            "• 2 cups shredded sharp Cheddar\n",
            "• 1 cup grated Parmesan\n",
            "• 1 cup shredded part-skim mozzarella cheese\n",
            "• 1 cup grated Parmesan\n",
            "• 1 cup grated Parmesan\n",
            "• 1 cup grated Parmesan\n",
            "• 1 teaspoon kosher salt\n",
            "• 1/2 teaspoon freshly ground black pepper\n",
            "\n",
            "📝\n",
            "\n",
            "▪︎ Preheat the oven to 400 degrees F. Line a baking sheet with a silpat and preheat the oven to 350 degrees F.\n",
            "▪︎ In a large bowl, combine the masa harina, cumin, cayenne, and salt and pepper. Dredge the pasta in the flour and then dip in the egg mixture, then dip in the eggs, then dip in the egg mixture and then dredge in the breadcrumbs. Place the breaded cheese on a sheet tray. Bake until the crust is golden brown and the filling is bubbling, about 25 to 30 minutes. Remove from the oven and serve hot.\n",
            "␣␣␣␣␣␣␣␣␣␣␣␣␣␣␣␣␣␣␣␣␣␣␣␣␣␣␣␣␣␣␣␣␣␣␣␣␣␣␣␣␣␣␣␣␣␣␣␣␣␣␣␣␣␣␣␣␣␣␣␣␣␣␣␣␣␣␣␣␣␣␣␣␣␣␣␣␣␣␣␣␣␣␣␣␣␣␣␣␣␣␣␣␣␣␣␣␣␣␣␣␣␣␣␣␣␣␣␣␣␣␣␣␣␣␣␣␣␣␣␣␣␣␣␣␣␣␣␣␣\n",
            "\n",
            "\n",
            "\n",
            "Attempt: \"C\" + 0.2\n",
            "-----------------------------------\n",
            "📗 Cinnamon Collard Greens with Coconut and Pears\n",
            "\n",
            "🥕\n",
            "\n",
            "• 1 tablespoon olive oil\n",
            "• 1 tablespoon chopped garlic\n",
            "• 1 tablespoon minced fresh ginger\n",
            "• 1 tablespoon minced ginger\n",
            "• 1 tablespoon chopped garlic\n",
            "• 1 tablespoon minced fresh ginger\n",
            "• 1 teaspoon curry powder\n",
            "• 1 teaspoon ground cumin\n",
            "• 1/2 teaspoon ground cumin\n",
            "• 1/2 teaspoon ground cinnamon\n",
            "• 1/2 teaspoon ground cinnamon\n",
            "• 1/2 teaspoon ground cumin\n",
            "• 1/2 teaspoon ground cloves\n",
            "• 1/2 teaspoon ground coriander\n",
            "• 1/2 teaspoon ground cinnamon\n",
            "• 1/2 teaspoon ground cumin\n",
            "• 1/2 teaspoon ground cumin\n",
            "• 1/2 teaspoon ground cinnamon\n",
            "• 1/2 teaspoon ground cloves\n",
            "• 1/2 teaspoon ground cinnamon\n",
            "• 1/2 teaspoon ground cinnamon\n",
            "• 1/2 teaspoon ground cloves\n",
            "• 1/2 teaspoon ground cinnamon\n",
            "• 1/2 teaspoon ground cloves\n",
            "• 1/2 teaspoon ground cinnamon\n",
            "• 1/2 teaspoon ground cloves\n",
            "• 1/2 teaspoon ground cinnamon\n",
            "• 1/2 teaspoon ground cinnamon\n",
            "• 1/2 teaspoon ground cinnamon\n",
            "• 1 teaspoon ground coriander\n",
            "• 1 teaspoon ground coriander\n",
            "• 1 teaspoon ground cumi\n",
            "\n",
            "\n",
            "\n",
            "Attempt: \"O\" + 1.0\n",
            "-----------------------------------\n",
            "📗 Oft apricot to 7-qt. Salad, and Vermouth\n",
            "\n",
            "🥕\n",
            "\n",
            "• 1/4 cup light brown sugar\n",
            "• 1/2 cup orange flower water\n",
            "• 4 tablespoons sour cream, or good olive oil\n",
            "• 1 teaspoon mustard\n",
            "• 1/4 teaspoon lemon zest (from 1 lemon)\n",
            "• 1/4 teaspoon kosher salt\n",
            "• 1/2 teaspoon black pepper\n",
            "• Vanilla infused whipped cream, for serving (optional)\n",
            "\n",
            "📝\n",
            "\n",
            "▪︎ Place the grapes, apples and oranges into a saucepan over medium heat and toss the mixture until it has completely integred, about 10 minutes.\n",
            "▪︎ Make the texture with the lime cheese. Whisk the hot milk into the hot and reduced sugar, whisking until blended. Add the sugar and wiltogers to instant-ready soupy consistency.\n",
            "▪︎ Set a sieve timbale in the hot bran and egg white, getting the spider than the surface of the saucepan. Add the hot milk and stir to combine. Whisk in the zest, including back of a spoon as it cools. Pat the pine nuts into the grape mixture and stir well and allow it to full rest in the spillet. Before serving, stir in the chives, cilantro and\n",
            "\n",
            "\n",
            "\n",
            "Attempt: \"O\" + 0.8\n",
            "-----------------------------------\n",
            "📗 Oat Sweet Potato Biscotti Tri Tirox Cheesecake\n",
            "\n",
            "🥕\n",
            "\n",
            "• 3 tablespoons unsalted butter, softened\n",
            "• 2 tablespoons sugar\n",
            "• 2 sticks unsalted butter, melted\n",
            "• 1 teaspoon ground ginger\n",
            "• 1 teaspoon ground cinnamon\n",
            "• 1/2 teaspoon ground nutmeg\n",
            "• 1/2 teaspoon ground ginger\n",
            "• 1/2 teaspoon ground allspice\n",
            "• 1/2 teaspoon ground ginger\n",
            "• 1/2 teaspoon ground nutmeg\n",
            "• 1 1/2 cups chopped almonds\n",
            "• 1/2 cup shelled pumpkin seeds\n",
            "• 2 large eggs\n",
            "• 1/4 cup granulated sugar\n",
            "• 1 small shallot, finely chopped\n",
            "• 1 teaspoon vanilla extract\n",
            "• 2 cups coconut flakes\n",
            "• 2 teaspoons ground cinnamon\n",
            "• Pinch of kosher salt\n",
            "• 1 small head romaine lettuce, shredded or a combination\n",
            "\n",
            "📝\n",
            "\n",
            "▪︎ Special equipment: Six 3-cup golden picks\n",
            "▪︎ Preheat the oven to 400 degrees F.\n",
            "▪︎ Combine the butter, star anise, maple syrup, butter and orange juice in a small saucepan and cook over medium heat, stirring, until the sugar dissolves. Cook until the sugar and salt are dissolved. Remove from the heat, stir in the vanilla, and sugar, to ta\n",
            "\n",
            "\n",
            "\n",
            "Attempt: \"O\" + 0.4\n",
            "-----------------------------------\n",
            "📗 Oysters and Peanut Butter Pie with Marshmallows and Granola\n",
            "\n",
            "🥕\n",
            "\n",
            "• 1 1/2 cups all-purpose flour\n",
            "• 1 1/2 teaspoons baking powder\n",
            "• 1/2 teaspoon salt\n",
            "• 1 cup sugar\n",
            "• 1 cup sugar\n",
            "• 1 cup water\n",
            "• 1 teaspoon ground cinnamon\n",
            "• 1/2 teaspoon ground ginger\n",
            "• 1 cup chopped walnuts\n",
            "• 1 cup chopped pecans\n",
            "• 1/2 cup chocolate chips\n",
            "• 1 cup chopped pecans\n",
            "\n",
            "📝\n",
            "\n",
            "▪︎ Make the crust: Preheat the oven to 350 degrees F. Line baking sheets with parchment paper.\n",
            "▪︎ In a medium bowl, whisk together the flour, baking powder, baking soda, and salt. In a small bowl, mix the flour, baking powder, baking soda and salt together. In a small bowl, combine the butter and sugar and mix until well combined. Add the butter and mix until the mixture resembles coarse meal. Add the flour and stir until combined. Divide the dough in half. Shape each portion into a ball and place on a baking sheet. Bake until golden brown, about 15 minutes. Remove the cookies from the oven and transfer the cookies to a wire rack to cool complete\n",
            "\n",
            "\n",
            "\n",
            "Attempt: \"O\" + 0.2\n",
            "-----------------------------------\n",
            "📗 Orange Streusel Cookies\n",
            "\n",
            "🥕\n",
            "\n",
            "• 1 cup sugar\n",
            "• 1 cup all-purpose flour\n",
            "• 1 teaspoon baking powder\n",
            "• 1/2 teaspoon salt\n",
            "• 1 cup butter, softened\n",
            "• 1 cup confectioners' sugar\n",
            "• 1 teaspoon vanilla extract\n",
            "• 1 cup semisweet chocolate chips\n",
            "\n",
            "📝\n",
            "\n",
            "▪︎ Preheat oven to 350 degrees F.\n",
            "▪︎ Combine flour, baking powder, salt and sugar in a large bowl. Add eggs, one at a time, beating well after each addition. Add flour mixture and mix until smooth. Stir in chocolate chips and chocolate chips.\n",
            "▪︎ Drop by teaspoonfuls onto prepared baking sheets, about 2 inches apart. Bake for 10 to 12 minutes or until golden brown. Cool on wire racks.\n",
            "␣␣␣␣␣␣␣␣␣␣␣␣␣␣␣␣␣␣␣␣␣␣␣␣␣␣␣␣␣␣␣␣␣␣␣␣␣␣␣␣␣␣␣␣␣␣␣␣␣␣␣␣␣␣␣␣␣␣␣␣␣␣␣␣␣␣␣␣␣␣␣␣␣␣␣␣␣␣␣␣␣␣␣␣␣␣␣␣␣␣␣␣␣␣␣␣␣␣␣␣␣␣␣␣␣␣␣␣␣␣␣␣␣␣␣␣␣␣␣␣␣␣␣␣␣␣␣␣␣␣␣␣␣␣␣␣␣␣␣␣␣␣␣␣␣␣␣␣␣␣␣␣␣␣␣␣␣␣␣␣␣␣␣␣␣␣␣␣␣␣␣␣␣␣␣␣␣␣␣␣␣␣␣␣␣␣␣␣␣␣␣␣␣␣␣␣␣␣␣␣␣␣␣␣␣␣␣␣␣␣␣␣␣␣␣␣␣␣␣␣␣␣␣␣␣␣␣␣␣␣␣␣␣␣␣␣␣␣␣␣␣␣␣␣␣␣␣␣␣␣␣␣␣␣␣␣␣␣␣␣␣␣␣␣␣␣␣␣␣␣␣␣␣␣␣␣␣␣␣␣␣␣␣␣␣␣␣␣␣␣␣␣␣␣␣␣␣␣␣␣␣␣␣␣␣␣␣␣␣␣␣␣␣␣␣␣␣␣␣␣␣␣␣␣␣␣␣␣␣␣␣␣␣␣␣␣␣␣␣␣␣␣␣␣␣␣␣␣␣␣␣␣␣␣␣␣␣␣␣␣␣␣␣␣␣␣␣␣␣␣␣␣␣␣␣␣␣␣\n",
            "\n",
            "\n",
            "\n"
          ],
          "name": "stdout"
        },
        {
          "output_type": "stream",
          "text": [
            "Attempt: \"L\" + 1.0\n",
            "-----------------------------------\n",
            "📗 Little Houche Recipe of Chipotle Cheese Beignet with Parsley-Mint and Cheese Salad for Twisted Double of Freezer Pot with Bacon\n",
            "\n",
            "🥕\n",
            "\n",
            "• About 3 dried kidney Sausages (from 1-gallon pot)\n",
            "• 1 cup chopped onions\n",
            "• 5 cups chopped sweet potato (about 10 ounces)\n",
            "• 1 large bay leaf\n",
            "• 2 bay leaves, blanched\n",
            "• 1 medium onion, cut into 1/2-inch dice\n",
            "• 3 cups chicken broth, homemade or low-sodium canned\n",
            "• 1 cup fish stock\n",
            "• Kosher salt and freshly ground pepper\n",
            "• 1 container 100-percent cherry tomatoes, halved\n",
            "\n",
            "📝\n",
            "\n",
            "▪︎ Special equipment Value racks bottom shells\n",
            "▪︎ Preheat the oven to 300 degrees.\n",
            "▪︎ Bring a large saucepan of salted water to a boil. Add the potatoes and simmer. Cover the package to release the pasta, and keep an hour. Drain that arepass and pour off all but 2 tablespoons of salt to a bowl of ice and cold water. Peel the cloves and scrape the seeds (over a medium!) with the garlic, bruising in a large bowl. Return the beans to the pot, then add 1/4 cup of the extra virgin olive oil and\n",
            "\n",
            "\n",
            "\n",
            "Attempt: \"L\" + 0.8\n",
            "-----------------------------------\n",
            "📗 Light and Switz Stuffed Chicken and Meatballs\n",
            "\n",
            "🥕\n",
            "\n",
            "• 1 cup stone ground ground cornmont\n",
            "• 2 tablespoons chopped fresh herbs, such as parsley, oregano, mint, and parsley leaves\n",
            "• Kosher salt and freshly ground black pepper\n",
            "• 1 tablespoon olive oil\n",
            "• 8 ounces medium shrimp, peeled and deveined\n",
            "• 1 tablespoon canola oil\n",
            "• 1/2 cup diced onions\n",
            "• 1 cup diced cucumber\n",
            "• 1/4 cup thinly sliced Spanish olive oil\n",
            "• Salt and freshly ground black pepper\n",
            "• 4 boneless and skinless chicken breasts (about 1 1/2 pounds)\n",
            "• 1 cup shredded Cheddar\n",
            "• 1/2 cup grated Parmesan, plus more for garnish\n",
            "• Salt and freshly ground black pepper\n",
            "• 2 tablespoons chopped fresh parsley\n",
            "• 3 cups shredded Italian canned beans\n",
            "• 1/2 cup sliced scallions\n",
            "\n",
            "📝\n",
            "\n",
            "▪︎ Watch how to make this recipe.\n",
            "▪︎ For the beef stock: add 2 tablespoons salt and the extra-virgin olive oil to a 7-quart pot over medium heat. Add the garlic and onions, cook the meat and sweat for 10 minutes, until golden brown. Return the chicken to the skillet. Stir\n",
            "\n",
            "\n",
            "\n",
            "Attempt: \"L\" + 0.4\n",
            "-----------------------------------\n",
            "📗 Lighted Flan with Chocolate and Pecans\n",
            "\n",
            "🥕\n",
            "\n",
            "• 2 cups milk\n",
            "• 1 cup sugar\n",
            "• 1 teaspoon vanilla extract\n",
            "• 1 cup heavy cream\n",
            "• 1/2 cup heavy cream\n",
            "• 1 tablespoon powdered sugar\n",
            "• 1 teaspoon vanilla extract\n",
            "• 1/2 cup heavy cream\n",
            "• 1/2 teaspoon ground cinnamon\n",
            "• 1/2 teaspoon ground nutmeg\n",
            "• 1/2 cup chopped pecans\n",
            "\n",
            "📝\n",
            "\n",
            "▪︎ Watch how to make this recipe.\n",
            "▪︎ In a small saucepan, combine the sugar, salt, and a pinch of salt. Cook over medium heat, stirring occasionally, until the sugar has dissolved. Remove from the heat and set aside to cool. Remove the cherries from the refrigerator and place in the freezer for 1 hour.\n",
            "▪︎ In a blender, combine the milk, sugar, vanilla, salt and water. Blend until smooth. Pour the mixture into a 9-by-13-inch glass baking dish and set aside.\n",
            "▪︎ In a small saucepan, combine the remaining 2 cups sugar, the vanilla, and 2 cups water. Bring the mixture to a boil, and then reduce the heat to low. Cook until the sugar is dissolved, about 5 minutes. Remove from the heat an\n",
            "\n",
            "\n",
            "\n",
            "Attempt: \"L\" + 0.2\n",
            "-----------------------------------\n",
            "📗 Lighted Fondanta with Chocolate and Cream Cheese Frosting\n",
            "\n",
            "🥕\n",
            "\n",
            "• 1 cup heavy cream\n",
            "• 1 tablespoon sugar\n",
            "• 1 tablespoon vanilla extract\n",
            "• 1 teaspoon vanilla extract\n",
            "• 1 cup heavy cream\n",
            "• 1 cup heavy cream\n",
            "• 1/2 cup sugar\n",
            "• 1 teaspoon vanilla extract\n",
            "• 1 teaspoon vanilla extract\n",
            "• 1/2 cup chopped pistachios\n",
            "\n",
            "📝\n",
            "\n",
            "▪︎ Preheat the oven to 350 degrees F.\n",
            "▪︎ In a large bowl, combine the cream cheese, sugar, eggs, vanilla, and salt. Stir until smooth. Pour the mixture into the prepared baking dish. Sprinkle with the remaining 1/2 cup sugar and bake for 15 minutes. Reduce the heat to 350 degrees F and bake until the crust is golden brown, about 15 minutes more. Remove from the oven and let cool completely. Spread the chocolate chips on the parchment paper and bake until the chocolate is melted and the top is golden brown, about 10 minutes. Set aside to cool.\n",
            "▪︎ In a medium bowl, whisk together the egg yolks, sugar, and vanilla until smooth. Stir in the cream and continue to beat until the chocolate\n",
            "\n",
            "\n",
            "\n",
            "Attempt: \"Mushroom\" + 1.0\n",
            "-----------------------------------\n",
            "📗 Mushroom and Bacon Soup with Jumbo Sugar Coating\n",
            "\n",
            "🥕\n",
            "\n",
            "• 2 tablespoons vegetable oil\n",
            "• 1 2/3 pounds red cabbage, shredded, about 4 cups of excess pasted dark ends of fat, and pocked or firm\n",
            "• 2 red bell peppers, cored, seeded and diced\n",
            "• 1 poblano pepper, chopped\n",
            "• 3 medium carrots, finely chopped\n",
            "• 1/2 medium pinch saffron\n",
            "• 4 cups water\n",
            "• 2 cups mushrooms or 1/2 cup frozen Sojo Bean red\n",
            "• Salt and freshly ground black pepper\n",
            "• 1 pound andouille sausage\n",
            "• 1 gallon vegetable broth\n",
            "• Chopped fresh parsley, cilantro leaves, for garnish\n",
            "\n",
            "📝\n",
            "\n",
            "▪︎ In a large Dutch oven for gas burner, heat oil over moderate heat. Add the leeks to the pot, scraping the bottom of the skillet. Add the beans and sausage and sprinkle the reserved potatoes with some orange juice cooked sausage (such as The Sauce.) Add roasted vegetables and pinto beans, mozzarella, basil and bamboo shoots. Simmer rice until soup is absorbed, 15 to 20 minutes.\n",
            "▪︎ Bring another pan of water to a boil and cook shrimp for 5 minutes. While onions\n",
            "\n",
            "\n",
            "\n",
            "Attempt: \"Mushroom\" + 0.8\n",
            "-----------------------------------\n",
            "📗 Mushrooms with Lentil Stewed Shallots and Tomatoes\n",
            "\n",
            "🥕\n",
            "\n",
            "• 1 tablespoon olive oil\n",
            "• 3 cloves garlic, smashed\n",
            "• Kosher salt\n",
            "• 1 1/2 pounds lean ground turkey\n",
            "• 1 cup coarsely peeled tart apples\n",
            "• 2 tablespoons chopped garlic\n",
            "• 1 teaspoon ground cumin\n",
            "• 1/2 teaspoon cayenne pepper\n",
            "• 1 teaspoon chopped fresh thyme\n",
            "• 3/4 cup chopped fresh basil\n",
            "• 1/2 small carrot, halved lengthwise and cut into 1/2-inch pieces\n",
            "• 1 roasted red pepper, halved and sliced vertically diced and separated into rough chops\n",
            "• 3 tablespoons unsalted butter\n",
            "• 2 cups shredded mozzarella\n",
            "• 1/4 cup grated parmesan cheese\n",
            "• 1/4 cup prepared basil pesto\n",
            "\n",
            "📝\n",
            "\n",
            "▪︎ Stir the olive oil, garlic, thyme and 1 teaspoon salt in a saucepan; bring to a simmer over medium heat. Remove from the heat. Add the basil and toast the soup for 2 minutes.\n",
            "▪︎ Meanwhile, heat 4 to 4 inches vegetable oil in the skillet over medium-high heat. Add the olive oil, garlic, 1/2 teaspoon salt and 1/2 teaspoon pepper and cook, stirring often, until cooked through, a\n",
            "\n",
            "\n",
            "\n",
            "Attempt: \"Mushroom\" + 0.4\n",
            "-----------------------------------\n",
            "📗 Mushroom Ravioli with Chickpeas and Shiitake Mushrooms and Sun-Dried Tomatoes\n",
            "\n",
            "🥕\n",
            "\n",
            "• 1 pound zucchini\n",
            "• 1 cup chicken broth\n",
            "• 1 cup fresh basil leaves\n",
            "• 1/2 cup chopped fresh basil leaves\n",
            "• 1/2 cup grated Parmesan\n",
            "• 1 teaspoon salt\n",
            "• 1/2 teaspoon freshly ground black pepper\n",
            "• 1 teaspoon chopped fresh thyme\n",
            "• 1 teaspoon fresh lemon juice\n",
            "• 2 cups chicken broth\n",
            "• 1/2 cup grated Parmesan\n",
            "• 1/2 cup grated Parmigiano-Reggiano\n",
            "\n",
            "📝\n",
            "\n",
            "▪︎ Preheat oven to 450 degrees F.\n",
            "▪︎ Place the bread cubes in a large bowl. Add the basil, parsley, olive oil, parsley, thyme, basil, salt and pepper and toss to coat. Spread the mixture out on a baking sheet and bake until the sausages are cooked through, about 20 minutes. Serve immediately.\n",
            "▪︎ In a small saucepan, bring the chicken stock to a boil. Reduce the heat to low and cook the soup until the liquid is absorbed. Remove from the heat and stir in the parsley, shallots and season with salt and pepper. Serve immediately.\n",
            "␣␣␣␣␣␣␣␣␣␣␣␣␣␣␣␣␣␣␣␣␣␣␣␣␣␣␣␣␣␣␣␣␣␣␣␣␣␣␣␣␣␣␣␣␣␣␣␣␣\n",
            "\n",
            "\n",
            "\n",
            "Attempt: \"Mushroom\" + 0.2\n",
            "-----------------------------------\n",
            "📗 Mushroom and Spicy Sausage Stuffing\n",
            "\n",
            "🥕\n",
            "\n",
            "• 1 tablespoon olive oil\n",
            "• 1 medium onion, chopped\n",
            "• 2 cloves garlic, minced\n",
            "• 1 cup frozen peas\n",
            "• 1 cup frozen peas\n",
            "• 1/2 cup chopped fresh parsley\n",
            "• 1/2 cup grated Parmesan\n",
            "• 1/2 cup grated Parmesan\n",
            "• 1 teaspoon salt\n",
            "• 1/2 teaspoon freshly ground black pepper\n",
            "• 1 cup shredded mozzarella\n",
            "• 1/2 cup grated Parmesan\n",
            "• 1 cup shredded mozzarella\n",
            "• 1 cup shredded mozzarella cheese\n",
            "\n",
            "📝\n",
            "\n",
            "▪︎ Preheat the oven to 350 degrees F.\n",
            "▪︎ Bring a large pot of salted water to a boil. Add the pasta and cook until al dente, about 6 minutes. Drain and reserve.\n",
            "▪︎ Meanwhile, heat the olive oil in a large skillet over medium-high heat. Add the shallots and saute until tender, about 3 minutes. Add the garlic and cook for 1 minute. Add the sausage and cook until the shallots are tender, about 3 minutes. Add the sausage and cook until tender, about 2 minutes. Add the garlic and cook, stirring, until the garlic is lightly browned, about 1 minute. Add the sausage and cook until the s\n",
            "\n",
            "\n",
            "\n"
          ],
          "name": "stdout"
        },
        {
          "output_type": "stream",
          "text": [
            "Attempt: \"Apple\" + 1.0\n",
            "-----------------------------------\n",
            "📗 Apple \"Diamonds\" With Pecans and Herb Recipe in a Blanched Bagels\n",
            "\n",
            "🥕\n",
            "\n",
            "• 3/4 cup cold heavy cream\n",
            "• 1/4 cup toasted pecans, chopped\n",
            "• 3 tablespoons fresh lemon juice\n",
            "• 1/2 cup coarsely grated frozen organic pulled pears\n",
            "• 1/2 cup sugar\n",
            "• 6 tablespoons unsalted butter, melted\n",
            "• 2 tablespoons pecans, for garnish\n",
            "\n",
            "📝\n",
            "\n",
            "▪︎ Special equipment: Strawberry Caramel Collavornit spray suce using so of toasted hazelnuts.\n",
            "▪︎ Stir the by halves to club side to blend. Let the ice cream stand at room temperature for approximately 10 minutes. Cut the corn into favorite rolls. Pat the prune mixture from the skillet and brown the other side.\n",
            "▪︎ In a mixing bowl, whisk together the pumpkin, sugar, and vanilla. Pour the bowl over the cream. Add the half of the arugula, pepper jam, vodka, hot sauce, and lime zest.\n",
            "▪︎ In 8-ounce ceramic mold in the oven to almost heating. Repeat the drizzling on the remaining tablespoon of vegetable oil and the back of the pan making sure there is of moist and covers the bottom of t\n",
            "\n",
            "\n",
            "\n",
            "Attempt: \"Apple\" + 0.8\n",
            "-----------------------------------\n",
            "📗 Apple Studderbrade with Crisp and Grilled Shaped Sausage\n",
            "\n",
            "🥕\n",
            "\n",
            "• 1 pound sliced potato, peeled and cut into 1/2-inch pieces\n",
            "• 2 cups spaghetti squash, cut into 1/2-inch pieces\n",
            "• 2 teaspoons salt\n",
            "• 1 teaspoon ground black pepper\n",
            "• 2 teaspoons grated or smoked sweet paprika\n",
            "• 1 1/2 teaspoons dried mustard\n",
            "• 1/2 cup bread crumbs\n",
            "• 1/3 cup good olive oil\n",
            "• 1/4 cup chopped fresh basil leaves\n",
            "\n",
            "📝\n",
            "\n",
            "▪︎ Position a rack in the upper third of the oven and preheat to 425 degrees F. Place the buttery in cheesecloth in the pans and put in the oven as the broccoli stays until they are set but the yolks are still runny, about 10 minutes. Let cool slightly.\n",
            "▪︎ Put the pecans, garlic butter, shallots, olive oil, salt and pepper in a blender or food processor and pulse. Add the egg yolks.\n",
            "▪︎ Add the sour cream to the bowl with the pancetta. Stir to combine, then return the sauce to a medium bowl. Spread the mixture into a baking dish. Sprinkle the cheese over the top of the sauce back into the reserved cooking l\n",
            "\n",
            "\n",
            "\n",
            "Attempt: \"Apple\" + 0.4\n",
            "-----------------------------------\n",
            "📗 Apple Strudel Cake with Caramel Sauce\n",
            "\n",
            "🥕\n",
            "\n",
            "• 1 1/2 cups sugar\n",
            "• 1/4 cup all-purpose flour\n",
            "• 1 teaspoon ground cinnamon\n",
            "• 1/2 teaspoon ground ginger\n",
            "• 1/4 teaspoon ground nutmeg\n",
            "• 1/2 teaspoon ground ginger\n",
            "• 1/2 teaspoon ground ginger\n",
            "• 1/2 teaspoon ground allspice\n",
            "• 1/2 teaspoon ground ginger\n",
            "• 1/2 teaspoon ground ginger\n",
            "• 1/2 teaspoon ground ginger\n",
            "• 1/2 teaspoon ground cloves\n",
            "• 1/2 teaspoon ground ginger\n",
            "• 1 cup caramel sauce\n",
            "• 1 cup all-purpose flour\n",
            "• 1/2 cup sugar\n",
            "• 1/2 teaspoon ground cinnamon\n",
            "• 1/2 teaspoon ground ginger\n",
            "• 1/2 teaspoon ground ginger\n",
            "• 1/2 teaspoon ground nutmeg\n",
            "• 1/4 teaspoon ground ginger\n",
            "• 1/2 teaspoon ground ginger\n",
            "• 1/2 teaspoon ground ginger\n",
            "• 1/4 teaspoon ground ginger\n",
            "• 1/2 teaspoon ground nutmeg\n",
            "• 1/2 teaspoon ground ginger\n",
            "• 1/2 teaspoon ground allspice\n",
            "• 1/2 cup heavy cream\n",
            "\n",
            "📝\n",
            "\n",
            "▪︎ Watch how to make this recipe.\n",
            "▪︎ Preheat the oven to 350 degrees F.\n",
            "▪︎ In a small saucepan, heat the milk and sugar to a simmer. Cook over low heat, stirring occasionally, until \n",
            "\n",
            "\n",
            "\n",
            "Attempt: \"Apple\" + 0.2\n",
            "-----------------------------------\n",
            "📗 Apple Pie with Orange and Lemon Vinaigrette\n",
            "\n",
            "🥕\n",
            "\n",
            "• 1 cup sugar\n",
            "• 1/2 cup water\n",
            "• 1/2 cup sugar\n",
            "• 1 teaspoon ground cinnamon\n",
            "• 1 teaspoon ground cloves\n",
            "• 1/2 teaspoon ground ginger\n",
            "• 1/2 teaspoon ground ginger\n",
            "• 1/2 teaspoon ground ginger\n",
            "• 1/2 teaspoon ground nutmeg\n",
            "• 1/2 teaspoon ground ginger\n",
            "• 1/2 teaspoon ground ginger\n",
            "• 1/2 cup chopped pecans\n",
            "• 1 cup chopped pecans\n",
            "\n",
            "📝\n",
            "\n",
            "▪︎ In a small saucepan combine the sugar, water, and salt and bring to a boil. Remove from the heat and let cool slightly. Pour the mixture into a blender and blend until smooth. Pour into a bowl and cool to room temperature. Stir in the chocolate chips and the sugar. Set aside for 10 minutes. Stir in the chocolate chips and the remaining 1/2 cup sugar. Set aside to cool slightly.\n",
            "▪︎ In a large bowl, whisk together the egg yolks, sugar, and vanilla until smooth. Stir in the cream and vanilla and stir until smooth. Stir in the remaining 1/2 cup sugar and salt and pepper to taste. Serve immediately.\n",
            "␣␣␣␣␣␣␣␣␣␣␣␣␣␣␣␣␣␣␣␣␣␣␣␣\n",
            "\n",
            "\n",
            "\n",
            "Attempt: \"Slow\" + 1.0\n",
            "-----------------------------------\n",
            "📗 Slowly to a Freezer Stewed Chicken Wings on The sea Salad and Chips and Squash Stuffed with Tomatoes, Lemon, Citrus and Soy Sauce\n",
            "\n",
            "🥕\n",
            "\n",
            "• 2 pounds large leaves breast (about 10 ounces)\n",
            "• 2 teaspoons minced garlic\n",
            "• 2 eggs\n",
            "• 8 tablespoons sweet butter\n",
            "• Lemon juice or 2 tablespoons becous fried greens and bread if used for the kind of olive bread\n",
            "• 1 loaf French or green.\n",
            "• Kosher salt and freshly ground black pepper\n",
            "• 4 tomatoes, cut into chunks\n",
            "• 1 Vidalia onion, cut into 1/2-inch dice\n",
            "• 2 tomatoes, chopped\n",
            "• 2 tablespoons chopped green onion\n",
            "\n",
            "📝\n",
            "\n",
            "▪︎ Watch how to make this recipe.\n",
            "▪︎ Place fresh sage leaves in food processor and pulse until chopped.\n",
            "▪︎ Preheat grill to high.\n",
            "▪︎ Lightly season chicken breasts with salt. Grill over high heat.\n",
            "▪︎ Assemble wraps: Spread 4 hamburger sponge slices on each board towel or bread. Spread chips mixture on the 2 burgers. Place chicken roll from the warm sandwich mixture on top and form into bowls, keeping the tray. Fold together with scissors to adhere \n",
            "\n",
            "\n",
            "\n",
            "Attempt: \"Slow\" + 0.8\n",
            "-----------------------------------\n",
            "📗 Slow-Roasted Leg of Lamb\n",
            "\n",
            "🥕\n",
            "\n",
            "• 1 small green pepper, stemmed and cut in half lengthwise\n",
            "• 1/2 cup white wine\n",
            "• 2 tablespoons pine nuts, toasted\n",
            "• 3 sprigs fresh thyme, leaves chopped\n",
            "• 1/2 cup frozen green beans\n",
            "• 1/2 cup red wine\n",
            "• 1/2 teaspoon five-spice powder\n",
            "• 2 cups low-sodium chicken stock\n",
            "\n",
            "📝\n",
            "\n",
            "▪︎ Preheat oven to 450 degrees F.\n",
            "▪︎ Drizzle bread slices with olive oil and season with salt and pepper, to taste. Grill for 3 minutes on each side. Transfer to a baking sheet and bake for 15 minutes longer until just cooked through. Remove from oven and transfer to a cutting board and slice into strips. Place apples on a plate pouring on a plate. Remove salmon from baking sheet and place on top of potatoes. Set aside to drain before serving.\n",
            "▪︎ In a small saute pan, heat the butter and sugar. When the garlic is caramelized, stir in the balsamic vinegar and the juice. Season with salt and pepper. Add the cilantro, jalapenos and cumin and cook for 2 minutes on the stove.\n",
            "▪︎ Remove the soft fla\n",
            "\n",
            "\n",
            "\n",
            "Attempt: \"Slow\" + 0.4\n",
            "-----------------------------------\n",
            "📗 Slow-Cooker Crepes\n",
            "\n",
            "🥕\n",
            "\n",
            "• 1 cup whole milk\n",
            "• 1 cup sugar\n",
            "• 1 tablespoon vanilla extract\n",
            "• 1/2 teaspoon salt\n",
            "• 1 cup sugar\n",
            "• 1 cup heavy cream\n",
            "• 1/2 cup chopped pecans\n",
            "\n",
            "📝\n",
            "\n",
            "▪︎ Preheat oven to 350 degrees F.\n",
            "▪︎ Bring a large pot of water to a boil. Cook the pasta until al dente, about 8 minutes. Drain and return the pan to the heat. Stir in the cheddar cheese, stirring to combine. Add the sugar, vanilla, cinnamon, and nutmeg and mix well. Stir in the cheese and set aside.\n",
            "▪︎ Place the chocolate chips in a small bowl and pour it over the batter. Spread the mixture into the prepared baking dish. Top with the chocolate chips and dot with butter. Bake until the crust is golden brown, about 30 minutes. Remove the pan from the oven and let cool completely. Sprinkle with confectioners' sugar and serve.\n",
            "␣␣␣␣␣␣␣␣␣␣␣␣␣␣␣␣␣␣␣␣␣␣␣␣␣␣␣␣␣␣␣␣␣␣␣␣␣␣␣␣␣␣␣␣␣␣␣␣␣␣␣␣␣␣␣␣␣␣␣␣␣␣␣␣␣␣␣␣␣␣␣␣␣␣␣␣␣␣␣␣␣␣␣␣␣␣␣␣␣␣␣␣␣␣␣␣␣␣␣␣␣␣␣␣␣␣␣␣␣␣␣␣␣␣␣␣␣␣␣␣␣␣␣␣␣␣␣␣␣␣␣␣␣␣␣␣␣␣␣␣␣␣␣␣␣␣␣␣␣␣␣␣␣␣␣␣␣␣␣␣␣␣␣␣␣␣␣␣␣␣␣␣␣␣␣␣␣␣␣␣␣␣␣␣␣␣␣␣␣␣␣␣␣␣␣␣␣␣␣␣␣\n",
            "\n",
            "\n",
            "\n",
            "Attempt: \"Slow\" + 0.2\n",
            "-----------------------------------\n",
            "📗 Slow-too-fry Scrambled Eggs with Fried Eggs\n",
            "\n",
            "🥕\n",
            "\n",
            "• 1 cup shredded sharp Cheddar\n",
            "• 1/2 cup shredded sharp Cheddar\n",
            "• 1/2 cup fresh basil leaves\n",
            "• 1/2 cup shredded sharp Cheddar\n",
            "• 1/2 cup shredded sharp Cheddar\n",
            "• 1/2 cup sour cream\n",
            "• 1/2 cup sour cream\n",
            "• 1/4 cup sour cream\n",
            "• 1 tablespoon chopped fresh chives\n",
            "• 1 tablespoon chopped fresh thyme leaves\n",
            "• 1 tablespoon chopped fresh chives\n",
            "• Salt and freshly ground black pepper\n",
            "\n",
            "📝\n",
            "\n",
            "▪︎ Watch how to make this recipe.\n",
            "▪︎ Place the eggs in a small saucepan and cover with cold water. Bring to a boil and cook until tender, about 15 minutes. Drain and set aside.\n",
            "▪︎ In a large saucepan, heat the olive oil over medium heat. Add the onions and cook, stirring occasionally, until soft, about 5 minutes. Add the garlic and cook for 1 minute more. Add the spinach, salt and pepper and cook until the spinach is wilted, about 2 minutes. Add the cream and bring to a boil. Reduce the heat to low and simmer for 10 minutes. Stir in the cheese and season with salt and pe\n",
            "\n",
            "\n",
            "\n"
          ],
          "name": "stdout"
        },
        {
          "output_type": "stream",
          "text": [
            "Attempt: \"Christmass\" + 1.0\n",
            "-----------------------------------\n",
            "📗 Christmasse Roasted Sacheon\n",
            "\n",
            "🥕\n",
            "\n",
            "• Canola oil for exasts\n",
            "• 4 eggs\n",
            "• 1 1/4 cups water\n",
            "• 3 tablespoons butter\n",
            "• 1 tablespoon honey\n",
            "• 1/3 cup grated fresh ginger\n",
            "• 1 cup chopped Kale-ahead for serving\n",
            "• 2 tablespoons unsalted butter\n",
            "\n",
            "📝\n",
            "\n",
            "▪︎ Heat the butter and oil in a large saucepan. When it smokes, add the flour and cook, stirring, until the mixture is a deep ambect, and thickens, 3 to 5 minutes. Remove from heat and whisk in the granulated sugar, masled salt and rosemary. Fold in the chives, stirring until the sauce thickens. Add the infused flour mixture and whisk together well to incorporate. Stir in sour cream and serve over refrigerated pasta water.\n",
            "␣␣␣␣␣␣␣␣␣␣␣␣␣␣␣␣␣␣␣␣␣␣␣␣␣␣␣␣␣␣␣␣␣␣␣␣␣␣␣␣␣␣␣␣␣␣␣␣␣␣␣␣␣␣␣␣␣␣␣␣␣␣␣␣␣␣␣␣␣␣␣␣␣␣␣␣␣␣␣␣␣␣␣␣␣␣␣␣␣␣␣␣␣␣␣␣␣␣␣␣␣␣␣␣␣␣␣␣␣␣␣␣␣␣␣␣␣␣␣␣␣␣␣␣␣␣␣␣␣␣␣␣␣␣␣␣␣␣␣␣␣␣␣␣␣␣␣␣␣␣␣␣␣␣␣␣␣␣␣␣␣␣␣␣␣␣␣␣␣␣␣␣␣␣␣␣␣␣␣␣␣␣␣␣␣␣␣␣␣␣␣␣␣␣␣␣␣␣␣␣␣␣␣␣␣␣␣␣␣␣␣␣␣␣␣␣␣␣␣␣␣␣␣␣␣␣␣␣␣␣␣␣␣␣␣␣␣␣␣␣␣␣␣␣␣␣␣␣␣␣␣␣␣␣␣␣␣␣␣␣␣␣␣␣␣␣␣␣␣␣␣␣␣␣␣␣␣␣␣␣␣␣␣␣␣␣␣␣␣␣␣␣␣␣␣␣␣␣␣␣␣␣␣␣␣␣␣␣␣␣␣␣␣␣␣␣␣␣␣␣␣␣␣␣␣␣␣␣␣␣␣␣␣␣␣␣␣␣␣␣␣␣␣␣␣␣␣␣␣␣\n",
            "\n",
            "\n",
            "\n",
            "Attempt: \"Christmass\" + 0.8\n",
            "-----------------------------------\n",
            "📗 Christmasses Morglot Lollops\n",
            "\n",
            "🥕\n",
            "\n",
            "• 2 cups flour\n",
            "• 2 cups yellow cornmeal\n",
            "• 1 teaspoon salt\n",
            "• 2 teaspoons baking powder\n",
            "• 8 tablespoons (1 stick) unsalted butter\n",
            "• 4 tablespoons unsalted butter\n",
            "• 1 cup shredded sharp Cheddar cheese\n",
            "• 1 tablespoon milk\n",
            "• 2 to 3 tablespoons unsalted butter\n",
            "• 1 teaspoon curry powder, or to taste\n",
            "• 1/4 cup all-purpose flour\n",
            "• 1/2 cup French bread, cut into chunks\n",
            "• Kosher salt and freshly ground black pepper\n",
            "• 8 thin slices prosciutto or Swiss cheese, julienned\n",
            "\n",
            "📝\n",
            "\n",
            "▪︎ Watch how to make this recipe.\n",
            "▪︎ Coat a large skillet with olive oil and bring the pan to a medium heat. Saute the green pepper flakes and shallots in 1 tablespoon of the butter until they start to brown, about 4 minutes. Season with salt and pepper. Remove from the heat and stir in the vinegar and lemon juice. Set aside.\n",
            "▪︎ In a medium bowl, mix the eggs, heavy cream, cheese, egg, and salt. Add the milk mixture and stir until thoroughly mixed. Stir in the mascarpone cheese, cappornip mixture, and the \n",
            "\n",
            "\n",
            "\n",
            "Attempt: \"Christmass\" + 0.4\n",
            "-----------------------------------\n",
            "📗 Christmasse Cheese Spread Not Sugar Free Fresco® Cheese Spread\n",
            "\n",
            "📝\n",
            "\n",
            "▪︎ Preheat oven to 350 degrees F.\n",
            "▪︎ Combine filling ingredients in a large bowl. Stir in remaining egg whites. Spoon into prepared muffin cups. Bake for 30 minutes or until golden brown.\n",
            "␣␣␣␣␣␣␣␣␣␣␣␣␣␣␣␣␣␣␣␣␣␣␣␣␣␣␣␣␣␣␣␣␣␣␣␣␣␣␣␣␣␣␣␣␣␣␣␣␣␣␣␣␣␣␣␣␣␣␣␣␣␣␣␣␣␣␣␣␣␣␣␣␣␣␣␣␣␣␣␣␣␣␣␣␣␣␣␣␣␣␣␣␣␣␣␣␣␣␣␣␣␣␣␣␣␣␣␣␣␣␣␣␣␣␣␣␣␣␣␣␣␣␣␣␣␣␣␣␣␣␣␣␣␣␣␣␣␣␣␣␣␣␣␣␣␣␣␣␣␣␣␣␣␣␣␣␣␣␣␣␣␣␣␣␣␣␣␣␣␣␣␣␣␣␣␣␣␣␣␣␣␣␣␣␣␣␣␣␣␣␣␣␣␣␣␣␣␣␣␣␣␣␣␣␣␣␣␣␣␣␣␣␣␣␣␣␣␣␣␣␣␣␣␣␣␣␣␣␣␣␣␣␣␣␣␣␣␣␣␣␣␣␣␣␣␣␣␣␣␣␣␣␣␣␣␣␣␣␣␣␣␣␣␣␣␣␣␣␣␣␣␣␣␣␣␣␣␣␣␣␣␣␣␣␣␣␣␣␣␣␣␣␣␣␣␣␣␣␣␣␣␣␣␣␣␣␣␣␣␣␣␣␣␣␣␣␣␣␣␣␣␣␣␣␣␣␣␣␣␣␣␣␣␣␣␣␣␣␣␣␣␣␣␣␣␣␣␣␣␣␣␣␣␣␣␣␣␣␣␣␣␣␣␣␣␣␣␣␣␣␣␣␣␣␣␣␣␣␣␣␣␣␣␣␣␣␣␣␣␣␣␣␣␣␣␣␣␣␣␣␣␣␣␣␣␣␣␣␣␣␣␣␣␣␣␣␣␣␣␣␣␣␣␣␣␣␣␣␣␣␣␣␣␣␣␣␣␣␣␣␣␣␣␣␣␣␣␣␣␣␣␣␣␣␣␣␣␣␣␣␣␣␣␣␣␣␣␣␣␣␣␣␣␣␣␣␣␣␣␣␣␣␣␣␣␣␣␣␣␣␣␣␣␣␣␣␣␣␣␣␣␣␣␣␣␣␣␣␣␣␣␣␣␣␣␣␣␣␣␣␣␣␣␣␣␣␣␣␣␣␣␣␣␣␣␣␣␣␣␣␣␣␣␣␣␣␣␣␣␣␣␣␣␣␣␣␣␣␣␣␣␣␣␣␣␣␣␣␣␣␣␣␣␣␣␣␣␣␣␣␣␣␣␣␣␣␣␣␣␣␣␣␣␣␣␣␣␣␣␣␣␣␣␣␣␣␣␣␣␣␣␣␣␣␣␣␣␣␣␣␣␣␣␣␣␣␣␣␣␣␣␣␣␣␣␣␣␣␣␣␣␣␣␣␣␣␣␣␣␣␣␣␣␣␣␣␣␣␣␣␣␣␣␣␣␣␣␣␣␣␣␣␣␣␣␣␣␣␣␣␣␣␣␣␣␣␣␣␣␣␣␣␣␣␣␣␣␣␣␣␣␣␣␣␣␣␣␣␣␣␣␣␣␣␣␣␣␣␣␣␣␣␣␣␣␣␣␣␣␣␣␣␣␣␣␣␣␣␣␣␣␣␣␣␣␣␣␣␣␣␣␣␣␣␣\n",
            "\n",
            "\n",
            "\n",
            "Attempt: \"Christmass\" + 0.2\n",
            "-----------------------------------\n",
            "📗 Christmasse Chef's Notes™ Chocolate Spread\n",
            "\n",
            "📝\n",
            "\n",
            "▪︎ 1. Prepare barbecue (medium heat). Brush both sides of bread with butter. Place buns on grill and cook until golden brown on both sides. Remove from grill and serve with sugared raisins and salt.\n",
            "␣␣␣␣␣␣␣␣␣␣␣␣␣␣␣␣␣␣␣␣␣␣␣␣␣␣␣␣␣␣␣␣␣␣␣␣␣␣␣␣␣␣␣␣␣␣␣␣␣␣␣␣␣␣␣␣␣␣␣␣␣␣␣␣␣␣␣␣␣␣␣␣␣␣␣␣␣␣␣␣␣␣␣␣␣␣␣␣␣␣␣␣␣␣␣␣␣␣␣␣␣␣␣␣␣␣␣␣␣␣␣␣␣␣␣␣␣␣␣␣␣␣␣␣␣␣␣␣␣␣␣␣␣␣␣␣␣␣␣␣␣␣␣␣␣␣␣␣␣␣␣␣␣␣␣␣␣␣␣␣␣␣␣␣␣␣␣␣␣␣␣␣␣␣␣␣␣␣␣␣␣␣␣␣␣␣␣␣␣␣␣␣␣␣␣␣␣␣␣␣␣␣␣␣␣␣␣␣␣␣␣␣␣␣␣␣␣␣␣␣␣␣␣␣␣␣␣␣␣␣␣␣␣␣␣␣␣␣␣␣␣␣␣␣␣␣␣␣␣␣␣␣␣␣␣␣␣␣␣␣␣␣␣␣␣␣␣␣␣␣␣␣␣␣␣␣␣␣␣␣␣␣␣␣␣␣␣␣␣␣␣␣␣␣␣␣␣␣␣␣␣␣␣␣␣␣␣␣␣␣␣␣␣␣␣␣␣␣␣␣␣␣␣␣␣␣␣␣␣␣␣␣␣␣␣␣␣␣␣␣␣␣␣␣␣␣␣␣␣␣␣␣␣␣␣␣␣␣␣␣␣␣␣␣␣␣␣␣␣␣␣␣␣␣␣␣␣␣␣␣␣␣␣␣␣␣␣␣␣␣␣␣␣␣␣␣␣␣␣␣␣␣␣␣␣␣␣␣␣␣␣␣␣␣␣␣␣␣␣␣␣␣␣␣␣␣␣␣␣␣␣␣␣␣␣␣␣␣␣␣␣␣␣␣␣␣␣␣␣␣␣␣␣␣␣␣␣␣␣␣␣␣␣␣␣␣␣␣␣␣␣␣␣␣␣␣␣␣␣␣␣␣␣␣␣␣␣␣␣␣␣␣␣␣␣␣␣␣␣␣␣␣␣␣␣␣␣␣␣␣␣␣␣␣␣␣␣␣␣␣␣␣␣␣␣␣␣␣␣␣␣␣␣␣␣␣␣␣␣␣␣␣␣␣␣␣␣␣␣␣␣␣␣␣␣␣␣␣␣␣␣␣␣␣␣␣␣␣␣␣␣␣␣␣␣␣␣␣␣␣␣␣␣␣␣␣␣␣␣␣␣␣␣␣␣␣␣␣␣␣␣␣␣␣␣␣␣␣␣␣␣␣␣␣␣␣␣␣␣␣␣␣␣␣␣␣␣␣␣␣␣␣␣␣␣␣␣␣␣␣␣␣␣␣␣␣␣␣␣␣␣␣␣␣␣␣␣␣␣␣␣␣␣␣␣␣␣␣␣␣␣␣␣␣␣␣␣␣␣␣␣␣␣␣␣␣␣␣␣␣␣␣␣␣␣␣␣␣␣␣␣␣␣␣␣␣␣␣␣␣␣␣␣␣␣␣␣␣␣␣␣␣␣␣␣␣␣␣␣␣␣␣␣␣␣␣␣␣␣␣␣␣␣␣␣␣␣␣␣␣␣␣␣␣␣␣␣␣␣␣␣␣␣␣\n",
            "\n",
            "\n",
            "\n",
            "Attempt: \"The\" + 1.0\n",
            "-----------------------------------\n",
            "📗 The Chicken Soup with Tarragon Vinaigrette and Lemongrass Salt (Special)\n",
            "\n",
            "🥕\n",
            "\n",
            "• 18 cups low\n",
            "• 1 pound shiitake mushrooms, stems removed\n",
            "• 6 carrots, peeled and halved crosswise\n",
            "• 1 pound garlic, sliced\n",
            "• 1/2 cup extra-virgin olive oil\n",
            "• 1/4 cup sliced green onions\n",
            "• 1 1go freeze pitted medium or oyster large concinnal fine\n",
            "• 1 teaspoon coarse salt\n",
            "• Dash cayenne pepper\n",
            "\n",
            "📝\n",
            "\n",
            "▪︎ In a medium saucepan, combine vegetable stock, ginger, curry powder, salt, pepper, and vinegar and bring to a boil. Reduce heat and simmer for 20 minutes or until a potato breast starts to approat easily.\n",
            "␣␣␣␣␣␣␣␣␣␣␣␣␣␣␣␣␣␣␣␣␣␣␣␣␣␣␣␣␣␣␣␣␣␣␣␣␣␣␣␣␣␣␣␣␣␣␣␣␣␣␣␣␣␣␣␣␣␣␣␣␣␣␣␣␣␣␣␣␣␣␣␣␣␣␣␣␣␣␣␣␣␣␣␣␣␣␣␣␣␣␣␣␣␣␣␣␣␣␣␣␣␣␣␣␣␣␣␣␣␣␣␣␣␣␣␣␣␣␣␣␣␣␣␣␣␣␣␣␣␣␣␣␣␣␣␣␣␣␣␣␣␣␣␣␣␣␣␣␣␣␣␣␣␣␣␣␣␣␣␣␣␣␣␣␣␣␣␣␣␣␣␣␣␣␣␣␣␣␣␣␣␣␣␣␣␣␣␣␣␣␣␣␣␣␣␣␣␣␣␣␣␣␣␣␣␣␣␣␣␣␣␣␣␣␣␣␣␣␣␣␣␣␣␣␣␣␣␣␣␣␣␣␣␣␣␣␣␣␣␣␣␣␣␣␣␣␣␣␣␣␣␣␣␣␣␣␣␣␣␣␣␣␣␣␣␣␣␣␣␣␣␣␣␣␣␣␣␣␣␣␣␣␣␣␣␣␣␣␣␣␣␣␣␣␣␣␣␣␣␣␣␣␣␣␣␣␣␣␣␣␣␣␣␣␣␣␣␣␣␣␣␣␣␣␣␣␣␣␣␣␣␣␣␣␣␣␣␣␣␣␣␣␣␣␣␣␣␣␣␣␣␣␣␣␣␣␣␣␣␣␣␣␣␣␣␣␣␣␣␣␣␣␣␣␣␣␣␣␣␣␣␣␣␣␣␣␣␣␣␣␣␣␣␣␣␣␣␣␣␣␣␣␣␣␣␣␣␣␣␣␣␣␣␣␣␣␣␣␣␣\n",
            "\n",
            "\n",
            "\n",
            "Attempt: \"The\" + 0.8\n",
            "-----------------------------------\n",
            "📗 The desired also called good quality with the bacon without the bottom of the bowl of a food processor. Leave stored for another use.\n",
            "▪︎ To prepare vegetables, loosely press a platter off the side of the shell. Remove the butter from the side and put it on the heat for 3 minutes. Heat the scallions and potatoes in a pot setting until they settle and puffy. Serve over a bed of the sprouts.\n",
            "␣␣␣␣␣␣␣␣␣␣␣␣␣␣␣␣␣␣␣␣␣␣␣␣␣␣␣␣␣␣␣␣␣␣␣␣␣␣␣␣␣␣␣␣␣␣␣␣␣␣␣␣␣␣␣␣␣␣␣␣␣␣␣␣␣␣␣␣␣␣␣␣␣␣␣␣␣␣␣␣␣␣␣␣␣␣␣␣␣␣␣␣␣␣␣␣␣␣␣␣␣␣␣␣␣␣␣␣␣␣␣␣␣␣␣␣␣␣␣␣␣␣␣␣␣␣␣␣␣␣␣␣␣␣␣␣␣␣␣␣␣␣␣␣␣␣␣␣␣␣␣␣␣␣␣␣␣␣␣␣␣␣␣␣␣␣␣␣␣␣␣␣␣␣␣␣␣␣␣␣␣␣␣␣␣␣␣␣␣␣␣␣␣␣␣␣␣␣␣␣␣␣␣␣␣␣␣␣␣␣␣␣␣␣␣␣␣␣␣␣␣␣␣␣␣␣␣␣␣␣␣␣␣␣␣␣␣␣␣␣␣␣␣␣␣␣␣␣␣␣␣␣␣␣␣␣␣␣␣␣␣␣␣␣␣␣␣␣␣␣␣␣␣␣␣␣␣␣␣␣␣␣␣␣␣␣␣␣␣␣␣␣␣␣␣␣␣␣␣␣␣␣␣␣␣␣␣␣␣␣␣␣␣␣␣␣␣␣␣␣␣␣␣␣␣␣␣␣␣␣␣␣␣␣␣␣␣␣␣␣␣␣␣␣␣␣␣␣␣␣␣␣␣␣␣␣␣␣␣␣␣␣␣␣␣␣␣␣␣␣␣␣␣␣␣␣␣␣␣␣␣␣␣␣␣␣␣␣␣␣␣␣␣␣␣␣␣␣␣␣␣␣␣␣␣␣␣␣␣␣␣␣␣␣␣␣␣␣␣␣␣␣␣␣␣␣␣␣␣␣␣␣␣␣␣␣␣␣␣␣␣␣␣␣␣␣␣␣␣␣␣␣␣␣␣␣␣␣␣␣␣␣␣␣␣␣␣␣␣␣␣␣␣␣␣␣␣␣␣␣␣␣␣␣␣␣␣␣␣␣␣␣␣␣␣␣␣␣␣␣␣␣␣␣␣␣␣␣␣␣␣␣␣␣␣␣␣␣␣␣␣␣␣␣␣␣␣␣␣␣␣␣␣␣␣␣␣␣␣␣␣␣␣␣␣␣␣␣␣␣␣␣␣␣␣␣␣␣␣␣␣␣␣␣␣␣␣␣␣␣␣␣␣␣␣␣␣␣␣␣␣␣␣␣␣␣␣␣␣␣␣␣␣␣␣␣␣␣␣␣␣␣␣␣␣␣␣␣␣␣␣\n",
            "\n",
            "\n",
            "\n",
            "Attempt: \"The\" + 0.4\n",
            "-----------------------------------\n",
            "📗 The Meat Sauce\" Checken\n",
            "\n",
            "🥕\n",
            "\n",
            "• 1 cup chicken stock\n",
            "• 1 cup water\n",
            "• 1 cup heavy cream\n",
            "• 1 tablespoon chopped fresh thyme\n",
            "• 1 tablespoon Dijon mustard\n",
            "• 1 tablespoon chopped fresh parsley\n",
            "• 1 tablespoon chopped fresh thyme leaves\n",
            "• 1 tablespoon chopped fresh thyme\n",
            "• 1 tablespoon finely chopped fresh rosemary leaves\n",
            "• 1 tablespoon chopped fresh thyme\n",
            "• 1 tablespoon finely chopped fresh thyme\n",
            "• 1 tablespoon chopped fresh sage\n",
            "• 1 tablespoon chopped fresh thyme\n",
            "• 1 tablespoon chopped fresh thyme\n",
            "• 1 tablespoon chopped fresh rosemary\n",
            "• 1 teaspoon salt\n",
            "• 1 teaspoon freshly ground black pepper\n",
            "• 1 teaspoon dried oregano\n",
            "• 1/2 teaspoon cayenne pepper\n",
            "• 1 teaspoon ground nutmeg\n",
            "• 1/4 cup chopped fresh parsley\n",
            "• 2 tablespoons chopped fresh parsley\n",
            "\n",
            "📝\n",
            "\n",
            "▪︎ Preheat oven to 350 degrees F.\n",
            "▪︎ In a small saucepan over medium heat, combine the olive oil, garlic, and shallots and cook until tender. Add the garlic and saute for another minute. Add the garlic and stir until golden brown. Add the sugar, salt, a\n",
            "\n",
            "\n",
            "\n",
            "Attempt: \"The\" + 0.2\n",
            "-----------------------------------\n",
            "📗 The Beach Chef Recipe Recipe Recipe Recipe Recipe Recipe Recipe Recipe Really Sing: Martini Margarita Miller Milled Orange Margarita Margarita Company Salsa Verde; available in the spice section of some supermarkets.\n",
            "␣␣␣␣␣␣␣␣␣␣␣␣␣␣␣␣␣␣␣␣␣␣␣␣␣␣␣␣␣␣␣␣␣␣␣␣␣␣␣␣␣␣␣␣␣␣␣␣␣␣␣␣␣␣␣␣␣␣␣␣␣␣␣␣␣␣␣␣␣␣␣␣␣␣␣␣␣␣␣␣␣␣␣␣␣␣␣␣␣␣␣␣␣␣␣␣␣␣␣␣␣␣␣␣␣␣␣␣␣␣␣␣␣␣␣␣␣␣␣␣␣␣␣␣␣␣␣␣␣␣␣␣␣␣␣␣␣␣␣␣␣␣␣␣␣␣␣␣␣␣␣␣␣␣␣␣␣␣␣␣␣␣␣␣␣␣␣␣␣␣␣␣␣␣␣␣␣␣␣␣␣␣␣␣␣␣␣␣␣␣␣␣␣␣␣␣␣␣␣␣␣␣␣␣␣␣␣␣␣␣␣␣␣␣␣␣␣␣␣␣␣␣␣␣␣␣␣␣␣␣␣␣␣␣␣␣␣␣␣␣␣␣␣␣␣␣␣␣␣␣␣␣␣␣␣␣␣␣␣␣␣␣␣␣␣␣␣␣␣␣␣␣␣␣␣␣␣␣␣␣␣␣␣␣␣␣␣␣␣␣␣␣␣␣␣␣␣␣␣␣␣␣␣␣␣␣␣␣␣␣␣␣␣␣␣␣␣␣␣␣␣␣␣␣␣␣␣␣␣␣␣␣␣␣␣␣␣␣␣␣␣␣␣␣␣␣␣␣␣␣␣␣␣␣␣␣␣␣␣␣␣␣␣␣␣␣␣␣␣␣␣␣␣␣␣␣␣␣␣␣␣␣␣␣␣␣␣␣␣␣␣␣␣␣␣␣␣␣␣␣␣␣␣␣␣␣␣␣␣␣␣␣␣␣␣␣␣␣␣␣␣␣␣␣␣␣␣␣␣␣␣␣␣␣␣␣␣␣␣␣␣␣␣␣␣␣␣␣␣␣␣␣␣␣␣␣␣␣␣␣␣␣␣␣␣␣␣␣␣␣␣␣␣␣␣␣␣␣␣␣␣␣␣␣␣␣␣␣␣␣␣␣␣␣␣␣␣␣␣␣␣␣␣␣␣␣␣␣␣␣␣␣␣␣␣␣␣␣␣␣␣␣␣␣␣␣␣␣␣␣␣␣␣␣␣␣␣␣␣␣␣␣␣␣␣␣␣␣␣␣␣␣␣␣␣␣␣␣␣␣␣␣␣␣␣␣␣␣␣␣␣␣␣␣␣␣␣␣␣␣␣␣␣␣␣␣␣␣␣␣␣␣␣␣␣␣␣␣␣␣␣␣␣␣␣␣␣␣␣␣␣␣␣␣␣␣␣␣␣␣␣␣␣␣␣␣␣␣␣␣␣␣␣␣␣␣␣␣␣␣␣␣␣␣␣␣␣␣␣␣␣␣␣␣␣␣␣␣␣␣␣␣␣␣␣␣␣␣␣␣␣␣␣␣␣␣␣␣␣␣␣␣␣␣␣␣␣␣␣␣␣␣␣␣␣␣␣␣␣␣␣␣␣␣␣␣␣␣␣␣␣␣␣␣␣␣␣␣␣␣␣␣␣␣␣␣␣␣␣␣␣␣␣␣␣␣␣␣␣␣␣␣␣␣␣␣␣␣␣␣␣␣␣␣␣␣␣␣␣␣␣␣␣␣␣␣␣␣␣␣␣␣␣␣␣␣␣␣␣␣␣␣␣␣␣␣\n",
            "\n",
            "\n",
            "\n"
          ],
          "name": "stdout"
        },
        {
          "output_type": "stream",
          "text": [
            "Attempt: \"Banana\" + 1.0\n",
            "-----------------------------------\n",
            "📗 Banana Rubbal lyches or Puree and Chocolate E.KSach See Cock Vermouth of Smoked Salmon\n",
            "\n",
            "🥕\n",
            "\n",
            "• 2 packages canned pepperoni, or snake ramekin (preferably Anaheim pehs)\n",
            "• 1 tablespoon Italian seasoning, about 3-4 tablespoons\n",
            "• 1 tablespoon butter, softened\n",
            "• 3 Granny Smith apples, peeled and cut into 3/4-inch squares about 1/2-inch thick, cut into 24 pieces (spring roll wrapped by letting the stem \"craise\" carefully and family vents)\n",
            "• 2 cups mascarpone cheese, to softened\n",
            "• 1/2 cup pitted store-bought jam\n",
            "• 1/3 cup whole milk\n",
            "• 2 tablespoons coarse Kosher salt\n",
            "\n",
            "📝\n",
            "\n",
            "▪︎ Mix together cream, sugar, and cinnamon and mix well.\n",
            "▪︎ Heat the oil in a large cast iron frying pan and coat with all 3/4 cups flour. Fry in cast-iron skillet over medium heat, turning several times and cooking times, 6 to 8 minutes on each side. Remove from oven 250 degrees F in, and continue with remaining pancakes.\n",
            "▪︎ Serve immediately.\n",
            "␣␣␣␣␣␣␣␣␣␣␣␣␣␣␣␣␣␣␣␣␣␣␣␣␣␣␣␣␣␣␣␣␣␣␣␣␣␣␣␣␣␣␣␣␣␣␣␣␣␣␣␣␣␣␣␣␣␣␣␣␣␣␣␣␣␣␣␣␣␣␣␣␣␣␣␣␣␣␣␣␣␣␣␣␣␣␣␣␣␣␣\n",
            "\n",
            "\n",
            "\n",
            "Attempt: \"Banana\" + 0.8\n",
            "-----------------------------------\n",
            "📗 Banana Pudding with Vanilla Syrup\n",
            "\n",
            "🥕\n",
            "\n",
            "• 1 1/2 ounces sweet coconut milk\n",
            "• 1 teaspoon salt\n",
            "• 1 1/2 cups heavy cream\n",
            "• 1 tablespoon orange marmalade to give it's an accompaniment\n",
            "• 2 sticks cold butter\n",
            "• 1 1/2 cups strong coffee (about 4 ounces)\n",
            "• 1 cup heavy cream\n",
            "• 1 cup sugar\n",
            "• 1/2 cup water\n",
            "\n",
            "📝\n",
            "\n",
            "▪︎ In a saucepan of boiling water, beat the butter and sugar until very light and fluffy, about 3 minutes more the ingredients completely. Add remaining 2 tablespoons sugar or coffee and cook for about 5 minutes, stirring constantly. Add strawberries to the saucepan and stir constantly until thick, about 5 minutes. Remove from heat and let cool slightly. In a food processor or blender, combine egg yolks and beat just to churn. Add vanilla and beat for 2 minutes until completely smooth. Set aside.\n",
            "▪︎ Hold an oven rack to bottom of pan. Set over a low flame and heat with remaining sugar. Stir until incorporated and cool slightly. Spoon out peaches in a large bowl. Cover with plastic wrap and refrigera\n",
            "\n",
            "\n",
            "\n",
            "Attempt: \"Banana\" + 0.4\n",
            "-----------------------------------\n",
            "📗 Banana Pudding with Sweet and Spice Rum Sauce\n",
            "\n",
            "🥕\n",
            "\n",
            "• 1 cup sugar\n",
            "• 1 cup water\n",
            "• 1 teaspoon vanilla extract\n",
            "• 1 cup heavy cream\n",
            "• 1 cup heavy cream\n",
            "• 1 cup heavy cream\n",
            "• 1 teaspoon vanilla extract\n",
            "• 1 cup chopped pecans\n",
            "\n",
            "📝\n",
            "\n",
            "▪︎ In a small saucepan combine sugar, cornstarch, and cream of tartar. Cook, stirring, until chocolate has melted. Remove from heat and stir in vanilla and almond extract. Set aside to cool.\n",
            "▪︎ In a bowl whisk together egg yolks and sugar until smooth. Add chocolate mixture to the egg mixture, and blend. Pour mixture into a bowl and cool. Stir in half of the remaining coffee liqueur. Serve warm or at room temperature.\n",
            "␣␣␣␣␣␣␣␣␣␣␣␣␣␣␣␣␣␣␣␣␣␣␣␣␣␣␣␣␣␣␣␣␣␣␣␣␣␣␣␣␣␣␣␣␣␣␣␣␣␣␣␣␣␣␣␣␣␣␣␣␣␣␣␣␣␣␣␣␣␣␣␣␣␣␣␣␣␣␣␣␣␣␣␣␣␣␣␣␣␣␣␣␣␣␣␣␣␣␣␣␣␣␣␣␣␣␣␣␣␣␣␣␣␣␣␣␣␣␣␣␣␣␣␣␣␣␣␣␣␣␣␣␣␣␣␣␣␣␣␣␣␣␣␣␣␣␣␣␣␣␣␣␣␣␣␣␣␣␣␣␣␣␣␣␣␣␣␣␣␣␣␣␣␣␣␣␣␣␣␣␣␣␣␣␣␣␣␣␣␣␣␣␣␣␣␣␣␣␣␣␣␣␣␣␣␣␣␣␣␣␣␣␣␣␣␣␣␣␣␣␣␣␣␣␣␣␣␣␣␣␣␣␣␣␣␣␣␣␣␣␣␣␣␣␣␣␣␣␣␣␣␣␣␣␣␣␣␣␣␣␣␣␣␣␣␣␣␣␣␣␣␣␣␣␣␣␣␣␣␣␣␣␣␣␣␣␣␣␣␣␣␣␣␣␣␣␣␣␣␣␣␣␣␣␣␣␣␣␣␣␣␣␣␣␣␣␣␣␣␣␣␣␣␣␣␣␣␣␣␣␣␣␣␣␣␣␣␣␣␣␣␣␣␣␣␣␣␣␣␣␣␣␣␣␣␣␣␣␣␣␣\n",
            "\n",
            "\n",
            "\n",
            "Attempt: \"Banana\" + 0.2\n",
            "-----------------------------------\n",
            "📗 Banana Sugar Cookies\n",
            "\n",
            "🥕\n",
            "\n",
            "• 1 cup sugar\n",
            "• 1 cup all-purpose flour\n",
            "• 1 teaspoon baking powder\n",
            "• 1/2 teaspoon salt\n",
            "• 1/2 cup milk\n",
            "• 1 large egg\n",
            "• 1 cup semisweet chocolate chips\n",
            "\n",
            "📝\n",
            "\n",
            "▪︎ Preheat oven to 350 degrees F.\n",
            "▪︎ In a large mixing bowl, combine flour, baking powder, salt and sugar. Mix well. Add egg and milk and mix well. Add flour mixture to butter mixture and stir until well combined. Stir in chocolate chips and chocolate chips. Drop by teaspoonfuls onto prepared baking sheet. Bake for 10 to 12 minutes or until golden brown. Cool on wire racks.\n",
            "␣␣␣␣␣␣␣␣␣␣␣␣␣␣␣␣␣␣␣␣␣␣␣␣␣␣␣␣␣␣␣␣␣␣␣␣␣␣␣␣␣␣␣␣␣␣␣␣␣␣␣␣␣␣␣␣␣␣␣␣␣␣␣␣␣␣␣␣␣␣␣␣␣␣␣␣␣␣␣␣␣␣␣␣␣␣␣␣␣␣␣␣␣␣␣␣␣␣␣␣␣␣␣␣␣␣␣␣␣␣␣␣␣␣␣␣␣␣␣␣␣␣␣␣␣␣␣␣␣␣␣␣␣␣␣␣␣␣␣␣␣␣␣␣␣␣␣␣␣␣␣␣␣␣␣␣␣␣␣␣␣␣␣␣␣␣␣␣␣␣␣␣␣␣␣␣␣␣␣␣␣␣␣␣␣␣␣␣␣␣␣␣␣␣␣␣␣␣␣␣␣␣␣␣␣␣␣␣␣␣␣␣␣␣␣␣␣␣␣␣␣␣␣␣␣␣␣␣␣␣␣␣␣␣␣␣␣␣␣␣␣␣␣␣␣␣␣␣␣␣␣␣␣␣␣␣␣␣␣␣␣␣␣␣␣␣␣␣␣␣␣␣␣␣␣␣␣␣␣␣␣␣␣␣␣␣␣␣␣␣␣␣␣␣␣␣␣␣␣␣␣␣␣␣␣␣␣␣␣␣␣␣␣␣␣␣␣␣␣␣␣␣␣␣␣␣␣␣␣␣␣␣␣␣␣␣␣␣␣␣␣␣␣␣␣␣␣␣␣␣␣␣␣␣␣␣␣␣␣␣␣␣␣␣␣␣␣␣␣␣␣␣␣␣␣␣␣␣␣␣␣␣␣␣␣␣␣␣␣␣␣␣␣␣␣␣␣␣␣␣␣␣␣␣␣␣␣␣␣␣␣␣␣␣␣␣␣␣␣␣␣␣␣␣␣␣␣␣␣␣␣␣␣␣␣␣␣␣␣␣␣␣␣␣␣␣␣␣␣␣\n",
            "\n",
            "\n",
            "\n",
            "Attempt: \"Homemade\" + 1.0\n",
            "-----------------------------------\n",
            "📗 Homemade Pasta Almonds (2 3/4 x 11-inch) equal parts pasta dough. They should look will make a base of in the freezer for 3 to 4 minutes, do not allow to brown, when done. Submerge flour tortillas in a ball (about every 15 to 18 sightly.) Roll dough in wax paper until 1 to 2 doughs. Sprinkle with a little salt and pepper. Form crepe triangles into pastard shell, wrap in bowl and place in a bowl.\n",
            "▪︎ In a mixing bowl, stir cornstarch with mayonnaise, garlic mixture and pepper and stir in 1/2 of a splash of liqueur. In blender, fill 8 by 11-inch baking dishes. Pipe dish out onto greased baking sheet. Drizzle scoops of butter all over hot water. Cut up pasta facing day.\n",
            "▪︎ Cut eggs over egg surface or using a butter knife remove calzone from the shell. Spoon hot chile mixture into shells and serve.\n",
            "␣␣␣␣␣␣␣␣␣␣␣␣␣␣␣␣␣␣␣␣␣␣␣␣␣␣␣␣␣␣␣␣␣␣␣␣␣␣␣␣␣␣␣␣␣␣␣␣␣␣␣␣␣␣␣␣␣␣␣␣␣␣␣␣␣␣␣␣␣␣␣␣␣␣␣␣␣␣␣␣␣␣␣␣␣␣␣␣␣␣␣␣␣␣␣␣␣␣␣␣␣␣␣␣␣␣␣␣␣␣␣␣␣␣␣␣␣␣␣␣␣␣␣␣␣␣␣␣␣␣␣␣␣␣␣␣␣␣␣␣␣␣␣␣␣␣␣␣␣␣␣␣␣␣␣␣␣␣␣␣␣␣␣␣␣␣␣␣␣␣␣␣␣␣␣␣␣␣␣␣␣␣␣␣␣␣␣␣␣␣␣␣␣␣␣␣␣␣␣␣␣␣\n",
            "\n",
            "\n",
            "\n",
            "Attempt: \"Homemade\" + 0.8\n",
            "-----------------------------------\n",
            "📗 Homemade Coleslaw\n",
            "▪︎ In a medium saucepan over low heat, cook until tender. Stir in the orange zest and cayenne and cook for 1 minute. Let cool.\n",
            "▪︎ Place in the refrigerator until cooled.\n",
            "▪︎ Combine all ingredients in a pitcher. Serve immediately.\n",
            "␣␣␣␣␣␣␣␣␣␣␣␣␣␣␣␣␣␣␣␣␣␣␣␣␣␣␣␣␣␣␣␣␣␣␣␣␣␣␣␣␣␣␣␣␣␣␣␣␣␣␣␣␣␣␣␣␣␣␣␣␣␣␣␣␣␣␣␣␣␣␣␣␣␣␣␣␣␣␣␣␣␣␣␣␣␣␣␣␣␣␣␣␣␣␣␣␣␣␣␣␣␣␣␣␣␣␣␣␣␣␣␣␣␣␣␣␣␣␣␣␣␣␣␣␣␣␣␣␣␣␣␣␣␣␣␣␣␣␣␣␣␣␣␣␣␣␣␣␣␣␣␣␣␣␣␣␣␣␣␣␣␣␣␣␣␣␣␣␣␣␣␣␣␣␣␣␣␣␣␣␣␣␣␣␣␣␣␣␣␣␣␣␣␣␣␣␣␣␣␣␣␣␣␣␣␣␣␣␣␣␣␣␣␣␣␣␣␣␣␣␣␣␣␣␣␣␣␣␣␣␣␣␣␣␣␣␣␣␣␣␣␣␣␣␣␣␣␣␣␣␣␣␣␣␣␣␣␣␣␣␣␣␣␣␣␣␣␣␣␣␣␣␣␣␣␣␣␣␣␣␣␣␣␣␣␣␣␣␣␣␣␣␣␣␣␣␣␣␣␣␣␣␣␣␣␣␣␣␣␣␣␣␣␣␣␣␣␣␣␣␣␣␣␣␣␣␣␣␣␣␣␣␣␣␣␣␣␣␣␣␣␣␣␣␣␣␣␣␣␣␣␣␣␣␣␣␣␣␣␣␣␣␣␣␣␣␣␣␣␣␣␣␣␣␣␣␣␣␣␣␣␣␣␣␣␣␣␣␣␣␣␣␣␣␣␣␣␣␣␣␣␣␣␣␣␣␣␣␣␣␣␣␣␣␣␣␣␣␣␣␣␣␣␣␣␣␣␣␣␣␣␣␣␣␣␣␣␣␣␣␣␣␣␣␣␣␣␣␣␣␣␣␣␣␣␣␣␣␣␣␣␣␣␣␣␣␣␣␣␣␣␣␣␣␣␣␣␣␣␣␣␣␣␣␣␣␣␣␣␣␣␣␣␣␣␣␣␣␣␣␣␣␣␣␣␣␣␣␣␣␣␣␣␣␣␣␣␣␣␣␣␣␣␣␣␣␣␣␣␣␣␣␣␣␣␣␣␣␣␣␣␣␣␣␣␣␣␣␣␣␣␣␣␣␣␣␣␣␣␣␣␣␣␣␣␣␣␣␣␣␣␣␣␣␣␣␣␣␣␣␣␣␣␣␣␣␣␣␣␣␣␣␣␣␣␣␣␣␣␣␣␣␣␣␣␣␣␣␣␣␣␣␣␣␣␣␣␣␣␣␣␣␣␣␣␣␣␣␣␣␣␣␣␣␣␣␣␣␣␣␣␣␣␣␣␣␣␣␣␣␣␣␣␣␣␣␣␣␣␣␣␣␣␣␣␣␣␣␣␣␣␣␣␣␣␣␣␣␣␣␣␣␣␣␣␣␣␣␣␣␣␣␣␣␣␣␣␣␣␣␣␣␣␣␣␣␣␣␣␣␣␣␣␣␣␣␣␣␣␣␣␣␣␣␣␣␣␣␣␣␣␣␣␣␣␣␣␣␣␣␣␣␣␣␣␣␣␣␣␣␣␣␣␣␣␣␣␣␣␣\n",
            "\n",
            "\n",
            "\n",
            "Attempt: \"Homemade\" + 0.4\n",
            "-----------------------------------\n",
            "📗 Homemade Peanut Butter Sauce, recipe follows\n",
            "• Salt\n",
            "• Freshly ground black pepper\n",
            "• 1 cup sugar\n",
            "• 1/2 cup water\n",
            "• 1/2 cup sugar\n",
            "• 1 cup water\n",
            "\n",
            "📝\n",
            "\n",
            "▪︎ Place the sugar in a saucepan and bring to a boil. Add the sugar and cook to a simmer, stirring occasionally. Remove from the heat and stir in the egg yolks. Stir in the cooled syrup and the chopped peanuts. Serve immediately.\n",
            "␣␣␣␣␣␣␣␣␣␣␣␣␣␣␣␣␣␣␣␣␣␣␣␣␣␣␣␣␣␣␣␣␣␣␣␣␣␣␣␣␣␣␣␣␣␣␣␣␣␣␣␣␣␣␣␣␣␣␣␣␣␣␣␣␣␣␣␣␣␣␣␣␣␣␣␣␣␣␣␣␣␣␣␣␣␣␣␣␣␣␣␣␣␣␣␣␣␣␣␣␣␣␣␣␣␣␣␣␣␣␣␣␣␣␣␣␣␣␣␣␣␣␣␣␣␣␣␣␣␣␣␣␣␣␣␣␣␣␣␣␣␣␣␣␣␣␣␣␣␣␣␣␣␣␣␣␣␣␣␣␣␣␣␣␣␣␣␣␣␣␣␣␣␣␣␣␣␣␣␣␣␣␣␣␣␣␣␣␣␣␣␣␣␣␣␣␣␣␣␣␣␣␣␣␣␣␣␣␣␣␣␣␣␣␣␣␣␣␣␣␣␣␣␣␣␣␣␣␣␣␣␣␣␣␣␣␣␣␣␣␣␣␣␣␣␣␣␣␣␣␣␣␣␣␣␣␣␣␣␣␣␣␣␣␣␣␣␣␣␣␣␣␣␣␣␣␣␣␣␣␣␣␣␣␣␣␣␣␣␣␣␣␣␣␣␣␣␣␣␣␣␣␣␣␣␣␣␣␣␣␣␣␣␣␣␣␣␣␣␣␣␣␣␣␣␣␣␣␣␣␣␣␣␣␣␣␣␣␣␣␣␣␣␣␣␣␣␣␣␣␣␣␣␣␣␣␣␣␣␣␣␣␣␣␣␣␣␣␣␣␣␣␣␣␣␣␣␣␣␣␣␣␣␣␣␣␣␣␣␣␣␣␣␣␣␣␣␣␣␣␣␣␣␣␣␣␣␣␣␣␣␣␣␣␣␣␣␣␣␣␣␣␣␣␣␣␣␣␣␣␣␣␣␣␣␣␣␣␣␣␣␣␣␣␣␣␣␣␣␣␣␣␣␣␣␣␣␣␣␣␣␣␣␣␣␣␣␣␣␣␣␣␣␣␣␣␣␣␣␣␣␣␣␣␣␣␣␣␣␣␣␣␣␣␣␣␣␣␣␣␣␣␣␣␣␣␣␣␣␣␣␣␣␣␣␣␣␣␣␣␣␣␣␣␣␣␣␣␣␣␣␣␣␣␣␣␣␣␣␣␣␣␣␣␣␣␣␣␣␣␣␣␣␣␣␣␣␣␣␣␣␣␣␣␣␣␣␣␣␣␣␣␣␣␣␣␣␣␣␣␣␣␣␣␣␣␣␣␣␣␣␣␣␣␣␣␣␣␣␣␣␣␣␣␣␣␣␣␣␣␣␣␣␣␣␣␣␣␣␣␣␣␣␣␣␣␣␣␣␣␣␣\n",
            "\n",
            "\n",
            "\n",
            "Attempt: \"Homemade\" + 0.2\n",
            "-----------------------------------\n",
            "📗 Homemade Cherry Spread Cake Mix with Cheese Sauce, recipe follows\n",
            "▪︎ Cook the bacon in a large saucepan over medium heat until soft, about 5 minutes. Add the sugar and stir until the sugar is dissolved. Remove from heat and stir in the cornstarch mixture. Serve warm or cold.\n",
            "␣␣␣␣␣␣␣␣␣␣␣␣␣␣␣␣␣␣␣␣␣␣␣␣␣␣␣␣␣␣␣␣␣␣␣␣␣␣␣␣␣␣␣␣␣␣␣␣␣␣␣␣␣␣␣␣␣␣␣␣␣␣␣␣␣␣␣␣␣␣␣␣␣␣␣␣␣␣␣␣␣␣␣␣␣␣␣␣␣␣␣␣␣␣␣␣␣␣␣␣␣␣␣␣␣␣␣␣␣␣␣␣␣␣␣␣␣␣␣␣␣␣␣␣␣␣␣␣␣␣␣␣␣␣␣␣␣␣␣␣␣␣␣␣␣␣␣␣␣␣␣␣␣␣␣␣␣␣␣␣␣␣␣␣␣␣␣␣␣␣␣␣␣␣␣␣␣␣␣␣␣␣␣␣␣␣␣␣␣␣␣␣␣␣␣␣␣␣␣␣␣␣␣␣␣␣␣␣␣␣␣␣␣␣␣␣␣␣␣␣␣␣␣␣␣␣␣␣␣␣␣␣␣␣␣␣␣␣␣␣␣␣␣␣␣␣␣␣␣␣␣␣␣␣␣␣␣␣␣␣␣␣␣␣␣␣␣␣␣␣␣␣␣␣␣␣␣␣␣␣␣␣␣␣␣␣␣␣␣␣␣␣␣␣␣␣␣␣␣␣␣␣␣␣␣␣␣␣␣␣␣␣␣␣␣␣␣␣␣␣␣␣␣␣␣␣␣␣␣␣␣␣␣␣␣␣␣␣␣␣␣␣␣␣␣␣␣␣␣␣␣␣␣␣␣␣␣␣␣␣␣␣␣␣␣␣␣␣␣␣␣␣␣␣␣␣␣␣␣␣␣␣␣␣␣␣␣␣␣␣␣␣␣␣␣␣␣␣␣␣␣␣␣␣␣␣␣␣␣␣␣␣␣␣␣␣␣␣␣␣␣␣␣␣␣␣␣␣␣␣␣␣␣␣␣␣␣␣␣␣␣␣␣␣␣␣␣␣␣␣␣␣␣␣␣␣␣␣␣␣␣␣␣␣␣␣␣␣␣␣␣␣␣␣␣␣␣␣␣␣␣␣␣␣␣␣␣␣␣␣␣␣␣␣␣␣␣␣␣␣␣␣␣␣␣␣␣␣␣␣␣␣␣␣␣␣␣␣␣␣␣␣␣␣␣␣␣␣␣␣␣␣␣␣␣␣␣␣␣␣␣␣␣␣␣␣␣␣␣␣␣␣␣␣␣␣␣␣␣␣␣␣␣␣␣␣␣␣␣␣␣␣␣␣␣␣␣␣␣␣␣␣␣␣␣␣␣␣␣␣␣␣␣␣␣␣␣␣␣␣␣␣␣␣␣␣␣␣␣␣␣␣␣␣␣␣␣␣␣␣␣␣␣␣␣␣␣␣␣␣␣␣␣␣␣␣␣␣␣␣␣␣␣␣␣␣␣␣␣␣␣␣␣␣␣␣␣␣␣␣␣␣␣␣␣␣␣␣␣␣␣␣␣␣␣␣␣␣␣␣␣␣␣␣␣␣␣␣␣␣␣␣␣␣␣␣␣␣␣␣␣␣␣␣␣␣␣␣␣␣␣␣␣␣␣␣␣␣␣␣␣␣␣␣␣␣␣␣␣␣␣␣\n",
            "\n",
            "\n",
            "\n"
          ],
          "name": "stdout"
        }
      ]
    },
    {
      "cell_type": "markdown",
      "metadata": {
        "id": "bzKG7hu6zoC3"
      },
      "source": [
        "## Save the model"
      ]
    },
    {
      "cell_type": "code",
      "metadata": {
        "id": "5FUBBTv8zoC3"
      },
      "source": [
        "model_name = 'recipe_generation_rnn.h5'\n",
        "model_1_simplified.save(model_name, save_format='h5')"
      ],
      "execution_count": null,
      "outputs": []
    },
    {
      "cell_type": "markdown",
      "metadata": {
        "id": "SwXRR8FJzoC5"
      },
      "source": [
        "## Converting the model to web-format\n",
        "\n",
        "To use this model on the web we need to convert it into the format that will be understandable by [tensorflowjs](https://www.tensorflow.org/js). To do so we may use [tfjs-converter](https://github.com/tensorflow/tfjs/tree/master/tfjs-converter) as following:\n",
        "\n",
        "```\n",
        "tensorflowjs_converter --input_format keras \\\n",
        "  ./experiments/recipe_generation_rnn/recipe_generation_rnn.h5 \\\n",
        "  ./demos/public/models/recipe_generation_rnn\n",
        "```\n",
        "\n",
        "You find this experiment in the [Demo app](https://trekhleb.github.io/machine-learning-experiments) and play around with it right in you browser to see how the model performs in real life."
      ]
    }
  ]
}