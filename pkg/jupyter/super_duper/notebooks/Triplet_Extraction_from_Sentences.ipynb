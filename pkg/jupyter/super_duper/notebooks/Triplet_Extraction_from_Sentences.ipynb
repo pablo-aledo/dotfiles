{
  "nbformat": 4,
  "nbformat_minor": 0,
  "metadata": {
    "kernelspec": {
      "display_name": "Python 3",
      "language": "python",
      "name": "python3"
    },
    "language_info": {
      "codemirror_mode": {
        "name": "ipython",
        "version": 3
      },
      "file_extension": ".py",
      "mimetype": "text/x-python",
      "name": "python",
      "nbconvert_exporter": "python",
      "pygments_lexer": "ipython3",
      "version": "3.6.6"
    },
    "colab": {
      "name": "Triplet Extraction from Sentences.ipynb",
      "provenance": []
    }
  },
  "cells": [
    {
      "cell_type": "markdown",
      "metadata": {
        "id": "SL0-vZlhMctA"
      },
      "source": [
        "### Journal Papers\n",
        "\n",
        "    [1] Delia Rusu, Lorand Dali, Blaz Fortuna, Marko Grobelnik, DunjaMladenic, “Triplet extraction from sentences” in Artificial Intelligence Laboratory, Jožef Stefan Institute, Slovenia, Nov. 7, 2008. http://ailab.ijs.si/dunja/SiKDD2007/Papers/Rusu_Trippels.pdf\n",
        "\n",
        "    [2] The Multi-Liaison algorithm by Ms. Anjali Ganesh Jivani, Ms.AmishaHetalShingala, Dr. Paresh. V. Virparia published in International Journal of Advanced Computer Science and Applications Vol. 2, No. 5, 2011. http://citeseerx.ist.psu.edu/viewdoc/download?doi=10.1.1.625.507&rep=rep1&type=pdf\n",
        "\n",
        "[1] - https://www.researchgate.net/publication/228905420_Triplet_extraction_from_sentences\n",
        "\n",
        "[2] - https://www.researchgate.net/publication/215498892_The_Multi-Liaison_Algorithm\n",
        "\n",
        "### Others\n",
        "\n",
        "\n",
        "stanford corenlp - https://stanfordnlp.github.io/CoreNLP/index.html\n",
        "\n",
        "code reference - https://playwithml.wordpress.com/2016/06/15/extracting-relations-or-subject-predicate-object-triples/"
      ]
    },
    {
      "cell_type": "code",
      "metadata": {
        "id": "odY-bQoCMcuL"
      },
      "source": [
        "import nltk, pandas as pd, numpy as np\n",
        "from nltk.parse.corenlp import CoreNLPParser, CoreNLPDependencyParser\n",
        "from nltk.tree import ParentedTree"
      ],
      "execution_count": null,
      "outputs": []
    },
    {
      "cell_type": "code",
      "metadata": {
        "id": "DMamP4abMcuS"
      },
      "source": [
        "dep_parser = CoreNLPDependencyParser(url='http://0.0.0.0:9000')\n",
        "pos_tagger = CoreNLPParser(url='http://0.0.0.0:9000', tagtype='pos')"
      ],
      "execution_count": null,
      "outputs": []
    },
    {
      "cell_type": "code",
      "metadata": {
        "id": "cbT8KRLeMcuV"
      },
      "source": [
        "def triplet_extraction (input_sent, output=['parse_tree','spo','result']):\n",
        "    # Parse the input sentence with Stanford CoreNLP Parser\n",
        "    pos_type = pos_tagger.tag(input_sent.split())\n",
        "    parse_tree, = ParentedTree.convert(list(pos_tagger.parse(input_sent.split()))[0])\n",
        "    dep_type, = ParentedTree.convert(dep_parser.parse(input_sent.split()))\n",
        "    # Extract subject, predicate and object\n",
        "    subject = extract_subject(parse_tree)\n",
        "    predicate = extract_predicate(parse_tree)\n",
        "    objects = extract_object(parse_tree)\n",
        "    if 'parse_tree' in output:\n",
        "        print('---Parse Tree---')\n",
        "        parse_tree.pretty_print()\n",
        "    if 'spo' in output:\n",
        "        print('---Subject---')\n",
        "        print(subject)\n",
        "        print('---Predicate---')\n",
        "        print(predicate)\n",
        "        print('---Object---')\n",
        "        print(objects)\n",
        "    if 'result' in output:\n",
        "        print('---Result---')\n",
        "        print(' '.join([subject[0], predicate[0], objects[0]]))\n",
        "\n",
        "def extract_subject (parse_tree):\n",
        "    # Extract the first noun found in NP_subtree\n",
        "    subject = []\n",
        "    for s in parse_tree.subtrees(lambda x: x.label() == 'NP'):\n",
        "        for t in s.subtrees(lambda y: y.label().startswith('NN')):\n",
        "            output = [t[0], extract_attr(t)]\n",
        "            # Avoid empty or repeated values\n",
        "            if output != [] and output not in subject:\n",
        "                subject.append(output) \n",
        "    if len(subject) != 0: return subject[0] \n",
        "    else: return ['']\n",
        "\n",
        "def extract_predicate (parse_tree):\n",
        "    # Extract the deepest(last) verb foybd ub VP_subtree\n",
        "    output, predicate = [],[]\n",
        "    for s in parse_tree.subtrees(lambda x: x.label() == 'VP'):\n",
        "        for t in s.subtrees(lambda y: y.label().startswith('VB')):\n",
        "            output = [t[0], extract_attr(t)]\n",
        "            if output != [] and output not in predicate:    \n",
        "                predicate.append(output)\n",
        "    if len(predicate) != 0: return predicate[-1]\n",
        "    else: return ['']\n",
        "\n",
        "def extract_object (parse_tree):\n",
        "    # Extract the first noun or first adjective in NP, PP, ADP siblings of VP_subtree\n",
        "    objects, output, word = [],[],[]\n",
        "    for s in parse_tree.subtrees(lambda x: x.label() == 'VP'):\n",
        "        for t in s.subtrees(lambda y: y.label() in ['NP','PP','ADP']):\n",
        "            if t.label() in ['NP','PP']:\n",
        "                for u in t.subtrees(lambda z: z.label().startswith('NN')):\n",
        "                    word = u          \n",
        "            else:\n",
        "                for u in t.subtrees(lambda z: z.label().startswith('JJ')):\n",
        "                    word = u\n",
        "            if len(word) != 0:\n",
        "                output = [word[0], extract_attr(word)]\n",
        "            if output != [] and output not in objects:\n",
        "                objects.append(output)\n",
        "    if len(objects) != 0: return objects[0]\n",
        "    else: return ['']\n",
        "\n",
        "def extract_attr (word):\n",
        "    attrs = []     \n",
        "    # Search among the word's siblings\n",
        "    if word.label().startswith('JJ'):\n",
        "        for p in word.parent(): \n",
        "            if p.label() == 'RB':\n",
        "                attrs.append(p[0])\n",
        "    elif word.label().startswith('NN'):\n",
        "        for p in word.parent():\n",
        "            if p.label() in ['DT','PRP$','POS','JJ','CD','ADJP','QP','NP']:\n",
        "                attrs.append(p[0])\n",
        "    elif word.label().startswith('VB'):\n",
        "        for p in word.parent():\n",
        "            if p.label() == 'ADVP':\n",
        "                attrs.append(p[0])\n",
        "    # Search among the word's uncles\n",
        "    if word.label().startswith('NN') or word.label().startswith('JJ'):\n",
        "        for p in word.parent().parent():\n",
        "            if p.label() == 'PP' and p != word.parent():\n",
        "                attrs.append(' '.join(p.flatten()))\n",
        "    elif word.label().startswith('VB'):\n",
        "        for p in word.parent().parent():\n",
        "            if p.label().startswith('VB') and p != word.parent():\n",
        "                attrs.append(' '.join(p.flatten()))\n",
        "    return attrs"
      ],
      "execution_count": null,
      "outputs": []
    },
    {
      "cell_type": "markdown",
      "metadata": {
        "id": "t63C5Lz9McuW"
      },
      "source": [
        "### Examples"
      ]
    },
    {
      "cell_type": "code",
      "metadata": {
        "id": "jsCTsNxWMcuX",
        "outputId": "dd0886f7-5889-4baa-8d86-d38d059ebd82"
      },
      "source": [
        "triplet_extraction('A rare black squirrel has become a regular visitor to a suburban garden')"
      ],
      "execution_count": null,
      "outputs": [
        {
          "output_type": "stream",
          "text": [
            "---Parse Tree---\n",
            "                  S                                                               \n",
            "      ____________|_________________                                               \n",
            "     |                              VP                                            \n",
            "     |                    __________|_____________                                 \n",
            "     |                   |                        VP                              \n",
            "     |                   |     ___________________|_____________                   \n",
            "     |                   |    |           |                     PP                \n",
            "     |                   |    |           |              _______|_____             \n",
            "     NP                  |    |           NP            |             NP          \n",
            "  ___|____________       |    |      _____|_______      |    _________|_______     \n",
            " DT  JJ    JJ     NN    VBZ  VBN    DT    JJ      NN    TO  DT        JJ      NN  \n",
            " |   |     |      |      |    |     |     |       |     |   |         |       |    \n",
            " A  rare black squirrel has become  a  regular visitor  to  a      suburban garden\n",
            "\n",
            "---Subject---\n",
            "['squirrel', ['A', 'rare', 'black']]\n",
            "---Predicate---\n",
            "['become', ['has']]\n",
            "---Object---\n",
            "['visitor', ['a', 'regular', 'to a suburban garden']]\n",
            "---Result---\n",
            "squirrel become visitor\n"
          ],
          "name": "stdout"
        }
      ]
    },
    {
      "cell_type": "markdown",
      "metadata": {
        "id": "xz5cZKU5Mcub"
      },
      "source": [
        "### Multi-Liaison Algorithm Examples"
      ]
    },
    {
      "cell_type": "code",
      "metadata": {
        "id": "jVhvTUjKMcue",
        "outputId": "e2714e1e-7182-465a-ac6c-357d1e5d2dd2"
      },
      "source": [
        "triplet_extraction('The old beggar ran after the rich man who was wearing a black coat')"
      ],
      "execution_count": null,
      "outputs": [
        {
          "output_type": "stream",
          "text": [
            "---Parse Tree---\n",
            "                S                                                        \n",
            "      __________|_________                                                \n",
            "     |                    VP                                             \n",
            "     |           _________|____________                                   \n",
            "     |          |                      PP                                \n",
            "     |          |     _________________|____                              \n",
            "     |          |    |                      NP                           \n",
            "     |          |    |         _____________|_____                        \n",
            "     |          |    |        |                  SBAR                    \n",
            "     |          |    |        |         __________|_____                  \n",
            "     |          |    |        |        |                S                \n",
            "     |          |    |        |        |                |                 \n",
            "     |          |    |        |        |                VP               \n",
            "     |          |    |        |        |     ___________|___              \n",
            "     |          |    |        |        |    |               VP           \n",
            "     |          |    |        |        |    |      _________|____         \n",
            "     NP         |    |        NP      WHNP  |     |              NP      \n",
            "  ___|____      |    |     ___|____    |    |     |      ________|____    \n",
            " DT  JJ   NN   VBD   IN   DT  JJ   NN  WP  VBD   VBG    DT       JJ   NN \n",
            " |   |    |     |    |    |   |    |   |    |     |     |        |    |   \n",
            "The old beggar ran after the rich man who  was wearing  a      black coat\n",
            "\n",
            "---Subject---\n",
            "['beggar', ['The', 'old']]\n",
            "---Predicate---\n",
            "['wearing', ['was']]\n",
            "---Object---\n",
            "['coat', ['a', 'black']]\n",
            "---Result---\n",
            "beggar wearing coat\n"
          ],
          "name": "stdout"
        }
      ]
    },
    {
      "cell_type": "code",
      "metadata": {
        "id": "U8gGElPXMcue",
        "outputId": "990e51dd-649e-4f2b-d959-17453b4686a4"
      },
      "source": [
        "triplet_extraction('The dog and the cat ran after the mouse and the mongoose')"
      ],
      "execution_count": null,
      "outputs": [
        {
          "output_type": "stream",
          "text": [
            "---Parse Tree---\n",
            "                             S                                          \n",
            "              _______________|____                                       \n",
            "             |                    VP                                    \n",
            "             |                ____|_____________                         \n",
            "             |               |                  PP                      \n",
            "             |               |     _____________|____                    \n",
            "             |               |    |                  NP                 \n",
            "             |               |    |         _________|_______            \n",
            "             NP              |    |        NP        |       |          \n",
            "      _______|_______        |    |     ___|____     |       |           \n",
            "     NP      |       NP      |    |    |        NP   |       NP         \n",
            "  ___|___    |    ___|___    |    |    |        |    |    ___|_____      \n",
            " DT      NN  CC  DT      NN VBD   IN   DT       NN   CC  DT        NN   \n",
            " |       |   |   |       |   |    |    |        |    |   |         |     \n",
            "The     dog and the     cat ran after the     mouse and the     mongoose\n",
            "\n",
            "---Subject---\n",
            "['dog', ['The']]\n",
            "---Predicate---\n",
            "['ran', []]\n",
            "---Object---\n",
            "['mongoose', ['the']]\n",
            "---Result---\n",
            "dog ran mongoose\n"
          ],
          "name": "stdout"
        }
      ]
    },
    {
      "cell_type": "code",
      "metadata": {
        "id": "z3nUF0URMcuf",
        "outputId": "5434d754-ded2-4760-b1a2-11352d7facb0"
      },
      "source": [
        "triplet_extraction('Jack and I visited the zoo with our children')"
      ],
      "execution_count": null,
      "outputs": [
        {
          "output_type": "stream",
          "text": [
            "---Parse Tree---\n",
            "                      S                                \n",
            "       _______________|_______                          \n",
            "      |                       VP                       \n",
            "      |          _____________|________                 \n",
            "      NP        |         |            PP              \n",
            "  ____|___      |         |        ____|____            \n",
            " NP   |   NP    |         NP      |         NP         \n",
            " |    |   |     |      ___|___    |     ____|_____      \n",
            "NNP   CC PRP   VBD    DT      NN  IN  PRP$       NNS   \n",
            " |    |   |     |     |       |   |    |          |     \n",
            "Jack and  I  visited the     zoo with our      children\n",
            "\n",
            "---Subject---\n",
            "['Jack', []]\n",
            "---Predicate---\n",
            "['visited', []]\n",
            "---Object---\n",
            "['zoo', ['the', 'with our children']]\n",
            "---Result---\n",
            "Jack visited zoo\n"
          ],
          "name": "stdout"
        }
      ]
    },
    {
      "cell_type": "code",
      "metadata": {
        "id": "y_XlipLyMcuf"
      },
      "source": [
        ""
      ],
      "execution_count": null,
      "outputs": []
    }
  ]
}