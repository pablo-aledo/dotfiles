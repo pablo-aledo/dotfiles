{
  "nbformat": 4,
  "nbformat_minor": 0,
  "metadata": {
    "colab": {
      "name": "Paraphrasing for data augmentation.ipynb",
      "private_outputs": true,
      "provenance": [],
      "collapsed_sections": []
    },
    "kernelspec": {
      "name": "python3",
      "display_name": "Python 3"
    }
  },
  "cells": [
    {
      "cell_type": "markdown",
      "metadata": {
        "id": "E9RYnn9VDE4N"
      },
      "source": [
        "# Data Augmentation by Paraphrasing\n",
        "\n",
        "This notebook showcases an ongoing research feature that we have been working on to add to Rasa Open Source.\n",
        "\n",
        "As developers start building their assistant, one of the major tasks is to add training data for all intents they plan to cover. In order to ensure their assistant is able to handle real world conversations, they need to anticipate different variations in which their users can express the same intent. The more training data we add, the more robust our NLU models become to incoming user messages.\n",
        "\n",
        "We think it will be helpful to have an interactive data augmentation tool which helps the developer in coming up with these variations and augments the training data with them to increase the robustness of the model.\n",
        "\n",
        "So we built a paraphrasing model, which takes as input a sentence and generates multiple paraphrased versions of the same sentence.\n",
        "\n",
        "For example: \n",
        "\n",
        "```\n",
        "input message: I want to book an appointment for tomorrow.\n",
        "\n",
        "Generated Paraphrases\n",
        "---------------------\n",
        "\n",
        "- I want to book an appointment for tomorrow.\n",
        "- i need to book an appointment for another meeting.\n",
        "- i want to make an appointment for tomorrow.\n",
        "- i want to book a spot tomorrow.\n",
        "- i want to book a reservation for tomorrow.\n",
        "- we need to book an appointment for tomorrow.\n",
        "- i want to book an appointment for tomorrow at 11 : 00.\n",
        "- i 'd like to meet tomorrow.\n",
        "- i 'd like you to arrange a session for tomorrow.\n",
        "- i 'll book a reservation for tomorrow.\n",
        "- i 'd like to book the appointment for tomorrow.\n",
        "- i 'd like to make an appointment for tomorrow.\n",
        "```\n",
        "\n",
        "As you can see, since some of them are grammatically and semantically meaningful, we can build an interactive tool in Rasa OSS or Rasa X where developers can pick and choose variations they like and then add them to their existing training data."
      ]
    },
    {
      "cell_type": "markdown",
      "metadata": {
        "id": "1hWnwybeDb5M"
      },
      "source": [
        "## Let's install some packages first"
      ]
    },
    {
      "cell_type": "code",
      "metadata": {
        "id": "776uG9Q6DTnf"
      },
      "source": [
        "!pip install torch torchvision transformers==2.10.0 rasa==1.10.0 input_reader"
      ],
      "execution_count": null,
      "outputs": []
    },
    {
      "cell_type": "markdown",
      "metadata": {
        "id": "trOo6VUOshzu"
      },
      "source": [
        "### Necessary Imports"
      ]
    },
    {
      "cell_type": "code",
      "metadata": {
        "id": "DMOso5YTDwwB"
      },
      "source": [
        "import ipywidgets as widgets\n",
        "import requests, os\n",
        "from IPython.display import display\n",
        "from ipywidgets import interact\n",
        "\n",
        "from rasa.nlu.training_data import TrainingData,Message"
      ],
      "execution_count": null,
      "outputs": []
    },
    {
      "cell_type": "markdown",
      "metadata": {
        "id": "AWkCU-d_sqEV"
      },
      "source": [
        "### Download and setup model\n"
      ]
    },
    {
      "cell_type": "code",
      "metadata": {
        "id": "L_oBjNAnNsrl"
      },
      "source": [
        "### Download model\n",
        "\n",
        "#taken from this StackOverflow answer: https://stackoverflow.com/a/39225039\n",
        "\n",
        "def download_file_from_google_drive(id, destination):\n",
        "    URL = \"https://docs.google.com/uc?export=download\"\n",
        "\n",
        "    session = requests.Session()\n",
        "\n",
        "    response = session.get(URL, params = { 'id' : id }, stream = True)\n",
        "    token = get_confirm_token(response)\n",
        "\n",
        "    if token:\n",
        "        params = { 'id' : id, 'confirm' : token }\n",
        "        response = session.get(URL, params = params, stream = True)\n",
        "\n",
        "    save_response_content(response, destination)    \n",
        "\n",
        "def get_confirm_token(response):\n",
        "    for key, value in response.cookies.items():\n",
        "        if key.startswith('download_warning'):\n",
        "            return value\n",
        "\n",
        "    return None\n",
        "\n",
        "def save_response_content(response, destination):\n",
        "    CHUNK_SIZE = 32768\n",
        "\n",
        "    with open(destination, \"wb\") as f:\n",
        "        for chunk in response.iter_content(CHUNK_SIZE):\n",
        "            if chunk: # filter out keep-alive new chunks\n",
        "                f.write(chunk)\n",
        "\n",
        "model_class_file_id = '1N1kn2b7i2ND7eNefzyJM-k13IM8tqZvr'\n",
        "checkpoint_file_id = '1G0nwXlvzGsb8Ar-OAnYBQKFvY97WMzBy'\n",
        "model_class_destination = 'model.py'\n",
        "checkpoint_destination = 'model.zip'\n",
        "checkpoint_unzipped_destination = 'package_models'\n",
        "\n",
        "if not os.path.exists(checkpoint_unzipped_destination):\n",
        "  download_file_from_google_drive(checkpoint_file_id, checkpoint_destination)\n",
        "  !unzip {checkpoint_destination}\n",
        "\n",
        "if not os.path.exists(model_class_destination):\n",
        "  download_file_from_google_drive(model_class_file_id, model_class_destination)"
      ],
      "execution_count": null,
      "outputs": []
    },
    {
      "cell_type": "code",
      "metadata": {
        "id": "gl-BykYHGeT9"
      },
      "source": [
        "from model import ParaphraseModel\n",
        "model_path = 'package_models/lm_finetune_8/checkpoint-56000/'\n",
        "\n",
        "complete_td = TrainingData()\n",
        "model = ParaphraseModel(model_path)"
      ],
      "execution_count": null,
      "outputs": []
    },
    {
      "cell_type": "markdown",
      "metadata": {
        "id": "yc9EjhP5s2Lz"
      },
      "source": [
        "### Let's go!"
      ]
    },
    {
      "cell_type": "code",
      "metadata": {
        "id": "N9A7IWNEgbU3"
      },
      "source": [
        "input_phrase = input(\"Enter a message for which you would like to generate paraphrases: \")"
      ],
      "execution_count": null,
      "outputs": []
    },
    {
      "cell_type": "code",
      "metadata": {
        "id": "yzMAcxYEhr--"
      },
      "source": [
        "number_samples = int(input(\"Number of paraphrases to generate: \"))\n",
        "stop_words = input(\"Stop words to be constrained with(multiple semi-colon separated): \")"
      ],
      "execution_count": null,
      "outputs": []
    },
    {
      "cell_type": "code",
      "metadata": {
        "id": "cA28W4CzhzSP"
      },
      "source": [
        "paraphrases = model.get_paraphrases(input_phrase, number_samples, stop_words)"
      ],
      "execution_count": null,
      "outputs": []
    },
    {
      "cell_type": "code",
      "metadata": {
        "id": "40eVEO4Kh5UC"
      },
      "source": [
        "print(\"Steps:\\n1. Read all proposed paraphrases below.\\n2. Select valid paraphrases that you would like\\\n",
        " to add to your NLU training data. Use Ctrl/Cmd + Click to select multiple.\\n\\\n",
        "3. Enter the name of the intent under which these messages should be categorized\\n\\\n",
        "4. Click 'Add to training data'\\n\\\n",
        "5. Copy the training data displayed in Rasa Markdown format to your existing training data file.\\n\\\n",
        "6. You can go back to 3 cells above this to enter new messages for which you want to generate paraphrases.\")\n",
        "\n",
        "paraphrase_widget = widgets.SelectMultiple(\n",
        "    options=paraphrases,\n",
        "    value=[],\n",
        "    rows=number_samples,\n",
        "    description='Paraphrases',\n",
        "    disabled=False,\n",
        "    layout= widgets.Layout(width='100%')\n",
        ")\n",
        "display(paraphrase_widget)\n",
        "\n",
        "intent = widgets.Text(description=\"Intent\")\n",
        "display(intent)\n",
        "\n",
        "button = widgets.Button(description=\"Add to Training Data\")\n",
        "output = widgets.Output()\n",
        "\n",
        "display(button, output)\n",
        "\n",
        "def on_button_clicked(b):\n",
        "    \n",
        "    global complete_td\n",
        "    \n",
        "    with output:\n",
        "        intent_value = intent.value\n",
        "        selected_paraphrases = paraphrase_widget.value\n",
        "        \n",
        "        if not len(selected_paraphrases):\n",
        "            print(\"Error: You haven't selected any paraphrases\")\n",
        "            return\n",
        "        if not intent_value:\n",
        "            print(\"Error: Please enter the intent name under which these messages should be categorized.\")\n",
        "            return\n",
        "        \n",
        "        all_messages = [Message.build(text=input_phrase, intent=intent_value)]\n",
        "        for paraphrase in selected_paraphrases:\n",
        "            all_messages.append(Message.build(text=paraphrase,intent=intent_value))\n",
        "            \n",
        "        complete_td = complete_td.merge(TrainingData(training_examples=all_messages))\n",
        "        \n",
        "        print(complete_td.nlu_as_markdown())\n",
        "\n",
        "button.on_click(on_button_clicked)"
      ],
      "execution_count": null,
      "outputs": []
    },
    {
      "cell_type": "code",
      "metadata": {
        "id": "2yIBUZzIiUOC"
      },
      "source": [
        ""
      ],
      "execution_count": null,
      "outputs": []
    }
  ]
}