{
  "nbformat": 4,
  "nbformat_minor": 0,
  "metadata": {
    "colab": {
      "name": "06_Snorkel.ipynb",
      "provenance": [],
      "collapsed_sections": []
    },
    "kernelspec": {
      "display_name": "Python 3",
      "language": "python",
      "name": "python3"
    },
    "language_info": {
      "codemirror_mode": {
        "name": "ipython",
        "version": 3
      },
      "file_extension": ".py",
      "mimetype": "text/x-python",
      "name": "python",
      "nbconvert_exporter": "python",
      "pygments_lexer": "ipython3",
      "version": "3.6.13"
    }
  },
  "cells": [
    {
      "cell_type": "markdown",
      "metadata": {
        "id": "kBRUuq_poB7u"
      },
      "source": [
        "This notebook has been adapted from the [spam example](https://github.com/snorkel-team/snorkel-tutorials/blob/master/spam/01_spam_tutorial.ipynb) of the [snorkel examples github](https://github.com/snorkel-team/snorkel-tutorials). Please visit the official snorkel tutorials [link](https://github.com/snorkel-team/snorkel-tutorials) for a more detailed and exhautive guide on how to use snorkel.<br>\n",
        "This notebook demonstrates how to use snorkel for data labeling. Our goal here is to build a dataset which can be used to classify if a Youtube comment is Spam or Ham.\n",
        "\n",
        "\n",
        "## Installing Dependencies"
      ]
    },
    {
      "cell_type": "code",
      "metadata": {
        "ExecuteTime": {
          "end_time": "2021-04-03T11:08:02.749394Z",
          "start_time": "2021-04-03T11:07:43.179631Z"
        },
        "colab": {
          "base_uri": "https://localhost:8080/"
        },
        "id": "1TqgrfwYNlbQ",
        "scrolled": false,
        "outputId": "6dec4d9a-a86a-4be6-cbb2-5038f174ff25"
      },
      "source": [
        "!pip install snorkel==0.9.6\n",
        "!pip install treedlib==0.1.3\n",
        "!pip install numbskull==0.1.1\n",
        "!pip install tensorflow==1.15\n",
        "!pip install tensorboard==1.15\n",
        "!pip install wget\n",
        "!pip install textblob\n",
        "!python -m spacy download en_core_web_sm"
      ],
      "execution_count": null,
      "outputs": [
        {
          "output_type": "stream",
          "text": [
            "Collecting snorkel==0.9.6\n",
            "\u001b[?25l  Downloading https://files.pythonhosted.org/packages/4e/6a/e33babd8b4fb34867b695b5ab6b02c9106ec9de05ed4a02b2b9417eb3ae7/snorkel-0.9.6-py3-none-any.whl (144kB)\n",
            "\u001b[K     |████████████████████████████████| 153kB 30.6MB/s \n",
            "\u001b[?25hRequirement already satisfied: tqdm<5.0.0,>=4.33.0 in /usr/local/lib/python3.7/dist-packages (from snorkel==0.9.6) (4.41.1)\n",
            "Requirement already satisfied: scipy<2.0.0,>=1.2.0 in /usr/local/lib/python3.7/dist-packages (from snorkel==0.9.6) (1.4.1)\n",
            "Collecting tensorboard<2.0.0,>=1.14.0\n",
            "\u001b[?25l  Downloading https://files.pythonhosted.org/packages/1e/e9/d3d747a97f7188f48aa5eda486907f3b345cd409f0a0850468ba867db246/tensorboard-1.15.0-py3-none-any.whl (3.8MB)\n",
            "\u001b[K     |████████████████████████████████| 3.8MB 29.7MB/s \n",
            "\u001b[?25hCollecting munkres>=1.0.6\n",
            "  Downloading https://files.pythonhosted.org/packages/90/ab/0301c945a704218bc9435f0e3c88884f6b19ef234d8899fb47ce1ccfd0c9/munkres-1.1.4-py2.py3-none-any.whl\n",
            "Collecting networkx<2.4,>=2.2\n",
            "\u001b[?25l  Downloading https://files.pythonhosted.org/packages/85/08/f20aef11d4c343b557e5de6b9548761811eb16e438cee3d32b1c66c8566b/networkx-2.3.zip (1.7MB)\n",
            "\u001b[K     |████████████████████████████████| 1.8MB 33.9MB/s \n",
            "\u001b[?25hCollecting scikit-learn<0.22.0,>=0.20.2\n",
            "\u001b[?25l  Downloading https://files.pythonhosted.org/packages/9f/c5/e5267eb84994e9a92a2c6a6ee768514f255d036f3c8378acfa694e9f2c99/scikit_learn-0.21.3-cp37-cp37m-manylinux1_x86_64.whl (6.7MB)\n",
            "\u001b[K     |████████████████████████████████| 6.7MB 25.6MB/s \n",
            "\u001b[?25hRequirement already satisfied: torch<2.0.0,>=1.2.0 in /usr/local/lib/python3.7/dist-packages (from snorkel==0.9.6) (1.9.0+cu102)\n",
            "Requirement already satisfied: pandas<2.0.0,>=0.25.0 in /usr/local/lib/python3.7/dist-packages (from snorkel==0.9.6) (1.1.5)\n",
            "Requirement already satisfied: numpy<2.0.0,>=1.16.0 in /usr/local/lib/python3.7/dist-packages (from snorkel==0.9.6) (1.19.5)\n",
            "Requirement already satisfied: markdown>=2.6.8 in /usr/local/lib/python3.7/dist-packages (from tensorboard<2.0.0,>=1.14.0->snorkel==0.9.6) (3.3.4)\n",
            "Requirement already satisfied: absl-py>=0.4 in /usr/local/lib/python3.7/dist-packages (from tensorboard<2.0.0,>=1.14.0->snorkel==0.9.6) (0.12.0)\n",
            "Requirement already satisfied: wheel>=0.26; python_version >= \"3\" in /usr/local/lib/python3.7/dist-packages (from tensorboard<2.0.0,>=1.14.0->snorkel==0.9.6) (0.36.2)\n",
            "Requirement already satisfied: six>=1.10.0 in /usr/local/lib/python3.7/dist-packages (from tensorboard<2.0.0,>=1.14.0->snorkel==0.9.6) (1.15.0)\n",
            "Requirement already satisfied: setuptools>=41.0.0 in /usr/local/lib/python3.7/dist-packages (from tensorboard<2.0.0,>=1.14.0->snorkel==0.9.6) (57.0.0)\n",
            "Requirement already satisfied: grpcio>=1.6.3 in /usr/local/lib/python3.7/dist-packages (from tensorboard<2.0.0,>=1.14.0->snorkel==0.9.6) (1.34.1)\n",
            "Requirement already satisfied: werkzeug>=0.11.15 in /usr/local/lib/python3.7/dist-packages (from tensorboard<2.0.0,>=1.14.0->snorkel==0.9.6) (1.0.1)\n",
            "Requirement already satisfied: protobuf>=3.6.0 in /usr/local/lib/python3.7/dist-packages (from tensorboard<2.0.0,>=1.14.0->snorkel==0.9.6) (3.12.4)\n",
            "Requirement already satisfied: decorator>=4.3.0 in /usr/local/lib/python3.7/dist-packages (from networkx<2.4,>=2.2->snorkel==0.9.6) (4.4.2)\n",
            "Requirement already satisfied: joblib>=0.11 in /usr/local/lib/python3.7/dist-packages (from scikit-learn<0.22.0,>=0.20.2->snorkel==0.9.6) (1.0.1)\n",
            "Requirement already satisfied: typing-extensions in /usr/local/lib/python3.7/dist-packages (from torch<2.0.0,>=1.2.0->snorkel==0.9.6) (3.7.4.3)\n",
            "Requirement already satisfied: python-dateutil>=2.7.3 in /usr/local/lib/python3.7/dist-packages (from pandas<2.0.0,>=0.25.0->snorkel==0.9.6) (2.8.1)\n",
            "Requirement already satisfied: pytz>=2017.2 in /usr/local/lib/python3.7/dist-packages (from pandas<2.0.0,>=0.25.0->snorkel==0.9.6) (2018.9)\n",
            "Requirement already satisfied: importlib-metadata; python_version < \"3.8\" in /usr/local/lib/python3.7/dist-packages (from markdown>=2.6.8->tensorboard<2.0.0,>=1.14.0->snorkel==0.9.6) (4.5.0)\n",
            "Requirement already satisfied: zipp>=0.5 in /usr/local/lib/python3.7/dist-packages (from importlib-metadata; python_version < \"3.8\"->markdown>=2.6.8->tensorboard<2.0.0,>=1.14.0->snorkel==0.9.6) (3.4.1)\n",
            "Building wheels for collected packages: networkx\n",
            "  Building wheel for networkx (setup.py) ... \u001b[?25l\u001b[?25hdone\n",
            "  Created wheel for networkx: filename=networkx-2.3-py2.py3-none-any.whl size=1556427 sha256=fe9bd053c6e9c3cf9d5a0e106e6d244b52e73825d565d18c2eb34ee2663b4f55\n",
            "  Stored in directory: /root/.cache/pip/wheels/de/63/64/3699be2a9d0ccdb37c7f16329acf3863fd76eda58c39c737af\n",
            "Successfully built networkx\n",
            "\u001b[31mERROR: tensorflow 2.5.0 has requirement tensorboard~=2.5, but you'll have tensorboard 1.15.0 which is incompatible.\u001b[0m\n",
            "\u001b[31mERROR: albumentations 0.1.12 has requirement imgaug<0.2.7,>=0.2.5, but you'll have imgaug 0.2.9 which is incompatible.\u001b[0m\n",
            "Installing collected packages: tensorboard, munkres, networkx, scikit-learn, snorkel\n",
            "  Found existing installation: tensorboard 2.5.0\n",
            "    Uninstalling tensorboard-2.5.0:\n",
            "      Successfully uninstalled tensorboard-2.5.0\n",
            "  Found existing installation: networkx 2.5.1\n",
            "    Uninstalling networkx-2.5.1:\n",
            "      Successfully uninstalled networkx-2.5.1\n",
            "  Found existing installation: scikit-learn 0.22.2.post1\n",
            "    Uninstalling scikit-learn-0.22.2.post1:\n",
            "      Successfully uninstalled scikit-learn-0.22.2.post1\n",
            "Successfully installed munkres-1.1.4 networkx-2.3 scikit-learn-0.21.3 snorkel-0.9.6 tensorboard-1.15.0\n",
            "Collecting treedlib==0.1.3\n",
            "  Downloading https://files.pythonhosted.org/packages/2c/44/d0880af1f8f14e4b6c71da161648cac8ff8231965383f11b65540f751fa7/treedlib-0.1.3-py3-none-any.whl\n",
            "Requirement already satisfied: lxml in /usr/local/lib/python3.7/dist-packages (from treedlib==0.1.3) (4.2.6)\n",
            "Installing collected packages: treedlib\n",
            "Successfully installed treedlib-0.1.3\n",
            "Collecting numbskull==0.1.1\n",
            "  Downloading https://files.pythonhosted.org/packages/c8/56/03f98485dec32d15522a59d35d87107a46375288a7a4ee1fffde7ff8fff2/numbskull-0.1.1-py3-none-any.whl\n",
            "Requirement already satisfied: future in /usr/local/lib/python3.7/dist-packages (from numbskull==0.1.1) (0.16.0)\n",
            "Installing collected packages: numbskull\n",
            "Successfully installed numbskull-0.1.1\n",
            "Collecting tensorflow==1.15\n",
            "\u001b[?25l  Downloading https://files.pythonhosted.org/packages/92/2b/e3af15221da9ff323521565fa3324b0d7c7c5b1d7a8ca66984c8d59cb0ce/tensorflow-1.15.0-cp37-cp37m-manylinux2010_x86_64.whl (412.3MB)\n",
            "\u001b[K     |████████████████████████████████| 412.3MB 29kB/s \n",
            "\u001b[?25hRequirement already satisfied: tensorboard<1.16.0,>=1.15.0 in /usr/local/lib/python3.7/dist-packages (from tensorflow==1.15) (1.15.0)\n",
            "Requirement already satisfied: google-pasta>=0.1.6 in /usr/local/lib/python3.7/dist-packages (from tensorflow==1.15) (0.2.0)\n",
            "Requirement already satisfied: astor>=0.6.0 in /usr/local/lib/python3.7/dist-packages (from tensorflow==1.15) (0.8.1)\n",
            "Requirement already satisfied: absl-py>=0.7.0 in /usr/local/lib/python3.7/dist-packages (from tensorflow==1.15) (0.12.0)\n",
            "Requirement already satisfied: keras-preprocessing>=1.0.5 in /usr/local/lib/python3.7/dist-packages (from tensorflow==1.15) (1.1.2)\n",
            "Requirement already satisfied: opt-einsum>=2.3.2 in /usr/local/lib/python3.7/dist-packages (from tensorflow==1.15) (3.3.0)\n",
            "Collecting tensorflow-estimator==1.15.1\n",
            "\u001b[?25l  Downloading https://files.pythonhosted.org/packages/de/62/2ee9cd74c9fa2fa450877847ba560b260f5d0fb70ee0595203082dafcc9d/tensorflow_estimator-1.15.1-py2.py3-none-any.whl (503kB)\n",
            "\u001b[K     |████████████████████████████████| 512kB 42.4MB/s \n",
            "\u001b[?25hRequirement already satisfied: termcolor>=1.1.0 in /usr/local/lib/python3.7/dist-packages (from tensorflow==1.15) (1.1.0)\n",
            "Collecting keras-applications>=1.0.8\n",
            "\u001b[?25l  Downloading https://files.pythonhosted.org/packages/71/e3/19762fdfc62877ae9102edf6342d71b28fbfd9dea3d2f96a882ce099b03f/Keras_Applications-1.0.8-py3-none-any.whl (50kB)\n",
            "\u001b[K     |████████████████████████████████| 51kB 7.0MB/s \n",
            "\u001b[?25hRequirement already satisfied: numpy<2.0,>=1.16.0 in /usr/local/lib/python3.7/dist-packages (from tensorflow==1.15) (1.19.5)\n",
            "Requirement already satisfied: six>=1.10.0 in /usr/local/lib/python3.7/dist-packages (from tensorflow==1.15) (1.15.0)\n",
            "Requirement already satisfied: wrapt>=1.11.1 in /usr/local/lib/python3.7/dist-packages (from tensorflow==1.15) (1.12.1)\n",
            "Collecting gast==0.2.2\n",
            "  Downloading https://files.pythonhosted.org/packages/4e/35/11749bf99b2d4e3cceb4d55ca22590b0d7c2c62b9de38ac4a4a7f4687421/gast-0.2.2.tar.gz\n",
            "Requirement already satisfied: protobuf>=3.6.1 in /usr/local/lib/python3.7/dist-packages (from tensorflow==1.15) (3.12.4)\n",
            "Requirement already satisfied: grpcio>=1.8.6 in /usr/local/lib/python3.7/dist-packages (from tensorflow==1.15) (1.34.1)\n",
            "Requirement already satisfied: wheel>=0.26 in /usr/local/lib/python3.7/dist-packages (from tensorflow==1.15) (0.36.2)\n",
            "Requirement already satisfied: setuptools>=41.0.0 in /usr/local/lib/python3.7/dist-packages (from tensorboard<1.16.0,>=1.15.0->tensorflow==1.15) (57.0.0)\n",
            "Requirement already satisfied: markdown>=2.6.8 in /usr/local/lib/python3.7/dist-packages (from tensorboard<1.16.0,>=1.15.0->tensorflow==1.15) (3.3.4)\n",
            "Requirement already satisfied: werkzeug>=0.11.15 in /usr/local/lib/python3.7/dist-packages (from tensorboard<1.16.0,>=1.15.0->tensorflow==1.15) (1.0.1)\n",
            "Requirement already satisfied: h5py in /usr/local/lib/python3.7/dist-packages (from keras-applications>=1.0.8->tensorflow==1.15) (3.1.0)\n",
            "Requirement already satisfied: importlib-metadata; python_version < \"3.8\" in /usr/local/lib/python3.7/dist-packages (from markdown>=2.6.8->tensorboard<1.16.0,>=1.15.0->tensorflow==1.15) (4.5.0)\n",
            "Requirement already satisfied: cached-property; python_version < \"3.8\" in /usr/local/lib/python3.7/dist-packages (from h5py->keras-applications>=1.0.8->tensorflow==1.15) (1.5.2)\n",
            "Requirement already satisfied: zipp>=0.5 in /usr/local/lib/python3.7/dist-packages (from importlib-metadata; python_version < \"3.8\"->markdown>=2.6.8->tensorboard<1.16.0,>=1.15.0->tensorflow==1.15) (3.4.1)\n",
            "Requirement already satisfied: typing-extensions>=3.6.4; python_version < \"3.8\" in /usr/local/lib/python3.7/dist-packages (from importlib-metadata; python_version < \"3.8\"->markdown>=2.6.8->tensorboard<1.16.0,>=1.15.0->tensorflow==1.15) (3.7.4.3)\n",
            "Building wheels for collected packages: gast\n",
            "  Building wheel for gast (setup.py) ... \u001b[?25l\u001b[?25hdone\n",
            "  Created wheel for gast: filename=gast-0.2.2-cp37-none-any.whl size=7557 sha256=b9b362dc4c0d1e05be50daaf72075a04f18eb1de2cb83ad4cf5ec6942c4c099d\n",
            "  Stored in directory: /root/.cache/pip/wheels/5c/2e/7e/a1d4d4fcebe6c381f378ce7743a3ced3699feb89bcfbdadadd\n",
            "Successfully built gast\n",
            "\u001b[31mERROR: tensorflow-probability 0.12.1 has requirement gast>=0.3.2, but you'll have gast 0.2.2 which is incompatible.\u001b[0m\n",
            "\u001b[31mERROR: kapre 0.3.5 has requirement tensorflow>=2.0.0, but you'll have tensorflow 1.15.0 which is incompatible.\u001b[0m\n",
            "Installing collected packages: tensorflow-estimator, keras-applications, gast, tensorflow\n",
            "  Found existing installation: tensorflow-estimator 2.5.0\n",
            "    Uninstalling tensorflow-estimator-2.5.0:\n",
            "      Successfully uninstalled tensorflow-estimator-2.5.0\n",
            "  Found existing installation: gast 0.4.0\n",
            "    Uninstalling gast-0.4.0:\n",
            "      Successfully uninstalled gast-0.4.0\n",
            "  Found existing installation: tensorflow 2.5.0\n",
            "    Uninstalling tensorflow-2.5.0:\n",
            "      Successfully uninstalled tensorflow-2.5.0\n",
            "Successfully installed gast-0.2.2 keras-applications-1.0.8 tensorflow-1.15.0 tensorflow-estimator-1.15.1\n",
            "Requirement already satisfied: tensorboard==1.15 in /usr/local/lib/python3.7/dist-packages (1.15.0)\n",
            "Requirement already satisfied: absl-py>=0.4 in /usr/local/lib/python3.7/dist-packages (from tensorboard==1.15) (0.12.0)\n",
            "Requirement already satisfied: markdown>=2.6.8 in /usr/local/lib/python3.7/dist-packages (from tensorboard==1.15) (3.3.4)\n",
            "Requirement already satisfied: wheel>=0.26; python_version >= \"3\" in /usr/local/lib/python3.7/dist-packages (from tensorboard==1.15) (0.36.2)\n",
            "Requirement already satisfied: setuptools>=41.0.0 in /usr/local/lib/python3.7/dist-packages (from tensorboard==1.15) (57.0.0)\n",
            "Requirement already satisfied: six>=1.10.0 in /usr/local/lib/python3.7/dist-packages (from tensorboard==1.15) (1.15.0)\n",
            "Requirement already satisfied: werkzeug>=0.11.15 in /usr/local/lib/python3.7/dist-packages (from tensorboard==1.15) (1.0.1)\n",
            "Requirement already satisfied: protobuf>=3.6.0 in /usr/local/lib/python3.7/dist-packages (from tensorboard==1.15) (3.12.4)\n",
            "Requirement already satisfied: grpcio>=1.6.3 in /usr/local/lib/python3.7/dist-packages (from tensorboard==1.15) (1.34.1)\n",
            "Requirement already satisfied: numpy>=1.12.0 in /usr/local/lib/python3.7/dist-packages (from tensorboard==1.15) (1.19.5)\n",
            "Requirement already satisfied: importlib-metadata; python_version < \"3.8\" in /usr/local/lib/python3.7/dist-packages (from markdown>=2.6.8->tensorboard==1.15) (4.5.0)\n",
            "Requirement already satisfied: typing-extensions>=3.6.4; python_version < \"3.8\" in /usr/local/lib/python3.7/dist-packages (from importlib-metadata; python_version < \"3.8\"->markdown>=2.6.8->tensorboard==1.15) (3.7.4.3)\n",
            "Requirement already satisfied: zipp>=0.5 in /usr/local/lib/python3.7/dist-packages (from importlib-metadata; python_version < \"3.8\"->markdown>=2.6.8->tensorboard==1.15) (3.4.1)\n",
            "Collecting wget\n",
            "  Downloading https://files.pythonhosted.org/packages/47/6a/62e288da7bcda82b935ff0c6cfe542970f04e29c756b0e147251b2fb251f/wget-3.2.zip\n",
            "Building wheels for collected packages: wget\n",
            "  Building wheel for wget (setup.py) ... \u001b[?25l\u001b[?25hdone\n",
            "  Created wheel for wget: filename=wget-3.2-cp37-none-any.whl size=9675 sha256=0ee752c74ee35d6038de394ff408eb5e7a9dfe00e1e53a8cd5940483007dc86a\n",
            "  Stored in directory: /root/.cache/pip/wheels/40/15/30/7d8f7cea2902b4db79e3fea550d7d7b85ecb27ef992b618f3f\n",
            "Successfully built wget\n",
            "Installing collected packages: wget\n",
            "Successfully installed wget-3.2\n",
            "Requirement already satisfied: textblob in /usr/local/lib/python3.7/dist-packages (0.15.3)\n",
            "Requirement already satisfied: nltk>=3.1 in /usr/local/lib/python3.7/dist-packages (from textblob) (3.2.5)\n",
            "Requirement already satisfied: six in /usr/local/lib/python3.7/dist-packages (from nltk>=3.1->textblob) (1.15.0)\n",
            "Requirement already satisfied: en_core_web_sm==2.2.5 from https://github.com/explosion/spacy-models/releases/download/en_core_web_sm-2.2.5/en_core_web_sm-2.2.5.tar.gz#egg=en_core_web_sm==2.2.5 in /usr/local/lib/python3.7/dist-packages (2.2.5)\n",
            "Requirement already satisfied: spacy>=2.2.2 in /usr/local/lib/python3.7/dist-packages (from en_core_web_sm==2.2.5) (2.2.4)\n",
            "Requirement already satisfied: wasabi<1.1.0,>=0.4.0 in /usr/local/lib/python3.7/dist-packages (from spacy>=2.2.2->en_core_web_sm==2.2.5) (0.8.2)\n",
            "Requirement already satisfied: setuptools in /usr/local/lib/python3.7/dist-packages (from spacy>=2.2.2->en_core_web_sm==2.2.5) (57.0.0)\n",
            "Requirement already satisfied: requests<3.0.0,>=2.13.0 in /usr/local/lib/python3.7/dist-packages (from spacy>=2.2.2->en_core_web_sm==2.2.5) (2.23.0)\n",
            "Requirement already satisfied: blis<0.5.0,>=0.4.0 in /usr/local/lib/python3.7/dist-packages (from spacy>=2.2.2->en_core_web_sm==2.2.5) (0.4.1)\n",
            "Requirement already satisfied: preshed<3.1.0,>=3.0.2 in /usr/local/lib/python3.7/dist-packages (from spacy>=2.2.2->en_core_web_sm==2.2.5) (3.0.5)\n",
            "Requirement already satisfied: plac<1.2.0,>=0.9.6 in /usr/local/lib/python3.7/dist-packages (from spacy>=2.2.2->en_core_web_sm==2.2.5) (1.1.3)\n",
            "Requirement already satisfied: numpy>=1.15.0 in /usr/local/lib/python3.7/dist-packages (from spacy>=2.2.2->en_core_web_sm==2.2.5) (1.19.5)\n",
            "Requirement already satisfied: murmurhash<1.1.0,>=0.28.0 in /usr/local/lib/python3.7/dist-packages (from spacy>=2.2.2->en_core_web_sm==2.2.5) (1.0.5)\n",
            "Requirement already satisfied: srsly<1.1.0,>=1.0.2 in /usr/local/lib/python3.7/dist-packages (from spacy>=2.2.2->en_core_web_sm==2.2.5) (1.0.5)\n",
            "Requirement already satisfied: cymem<2.1.0,>=2.0.2 in /usr/local/lib/python3.7/dist-packages (from spacy>=2.2.2->en_core_web_sm==2.2.5) (2.0.5)\n",
            "Requirement already satisfied: tqdm<5.0.0,>=4.38.0 in /usr/local/lib/python3.7/dist-packages (from spacy>=2.2.2->en_core_web_sm==2.2.5) (4.41.1)\n",
            "Requirement already satisfied: thinc==7.4.0 in /usr/local/lib/python3.7/dist-packages (from spacy>=2.2.2->en_core_web_sm==2.2.5) (7.4.0)\n",
            "Requirement already satisfied: catalogue<1.1.0,>=0.0.7 in /usr/local/lib/python3.7/dist-packages (from spacy>=2.2.2->en_core_web_sm==2.2.5) (1.0.0)\n",
            "Requirement already satisfied: chardet<4,>=3.0.2 in /usr/local/lib/python3.7/dist-packages (from requests<3.0.0,>=2.13.0->spacy>=2.2.2->en_core_web_sm==2.2.5) (3.0.4)\n",
            "Requirement already satisfied: idna<3,>=2.5 in /usr/local/lib/python3.7/dist-packages (from requests<3.0.0,>=2.13.0->spacy>=2.2.2->en_core_web_sm==2.2.5) (2.10)\n",
            "Requirement already satisfied: certifi>=2017.4.17 in /usr/local/lib/python3.7/dist-packages (from requests<3.0.0,>=2.13.0->spacy>=2.2.2->en_core_web_sm==2.2.5) (2021.5.30)\n",
            "Requirement already satisfied: urllib3!=1.25.0,!=1.25.1,<1.26,>=1.21.1 in /usr/local/lib/python3.7/dist-packages (from requests<3.0.0,>=2.13.0->spacy>=2.2.2->en_core_web_sm==2.2.5) (1.24.3)\n",
            "Requirement already satisfied: importlib-metadata>=0.20; python_version < \"3.8\" in /usr/local/lib/python3.7/dist-packages (from catalogue<1.1.0,>=0.0.7->spacy>=2.2.2->en_core_web_sm==2.2.5) (4.5.0)\n",
            "Requirement already satisfied: zipp>=0.5 in /usr/local/lib/python3.7/dist-packages (from importlib-metadata>=0.20; python_version < \"3.8\"->catalogue<1.1.0,>=0.0.7->spacy>=2.2.2->en_core_web_sm==2.2.5) (3.4.1)\n",
            "Requirement already satisfied: typing-extensions>=3.6.4; python_version < \"3.8\" in /usr/local/lib/python3.7/dist-packages (from importlib-metadata>=0.20; python_version < \"3.8\"->catalogue<1.1.0,>=0.0.7->spacy>=2.2.2->en_core_web_sm==2.2.5) (3.7.4.3)\n",
            "\u001b[38;5;2m✔ Download and installation successful\u001b[0m\n",
            "You can now load the model via spacy.load('en_core_web_sm')\n"
          ],
          "name": "stdout"
        }
      ]
    },
    {
      "cell_type": "code",
      "metadata": {
        "ExecuteTime": {
          "end_time": "2021-04-03T11:08:02.765409Z",
          "start_time": "2021-04-03T11:08:02.750395Z"
        },
        "id": "1_TfLGPSr3OQ"
      },
      "source": [
        "import warnings\n",
        "warnings.filterwarnings('ignore')"
      ],
      "execution_count": null,
      "outputs": []
    },
    {
      "cell_type": "markdown",
      "metadata": {
        "id": "fYsYe4tOomEM"
      },
      "source": [
        "## Dataset\n",
        "Let's get the Youtube spam classification dataset from the UCI ML Repository archive. The link for the dataset can be found [here](http://archive.ics.uci.edu/ml/machine-learning-databases/00380/YouTube-Spam-Collection-v1.zip)."
      ]
    },
    {
      "cell_type": "code",
      "metadata": {
        "ExecuteTime": {
          "end_time": "2021-04-03T11:08:04.193561Z",
          "start_time": "2021-04-03T11:08:02.766409Z"
        },
        "colab": {
          "base_uri": "https://localhost:8080/"
        },
        "id": "1hO0ncklr3OR",
        "outputId": "d92aa059-86fb-4395-cbaf-2fc9198f2825"
      },
      "source": [
        "import os\n",
        "import wget\n",
        "\n",
        "import zipfile\n",
        "import shutil\n",
        "\n",
        "file_link = \"http://archive.ics.uci.edu/ml/machine-learning-databases/00380/YouTube-Spam-Collection-v1.zip\"\n",
        "\n",
        "os.makedirs(\"content\", exist_ok= True)\n",
        "if not os.path.exists(\"content/YouTube-Spam-Collection-v1.zip\"):\n",
        "    wget.download(file_link, out=\"content/\")\n",
        "else:\n",
        "    print(\"File already exists\")\n",
        "\n",
        "with zipfile.ZipFile(\"content/YouTube-Spam-Collection-v1.zip\", 'r') as zip_ref:\n",
        "    zip_ref.extractall(\"content/\")\n",
        "\n",
        "shutil.rmtree(\"content/__MACOSX\")\n",
        "os.remove(\"content/YouTube-Spam-Collection-v1.zip\")\n",
        "os.listdir(\"content\")"
      ],
      "execution_count": null,
      "outputs": [
        {
          "output_type": "execute_result",
          "data": {
            "text/plain": [
              "['Youtube05-Shakira.csv',\n",
              " 'Youtube02-KatyPerry.csv',\n",
              " 'Youtube03-LMFAO.csv',\n",
              " 'Youtube01-Psy.csv',\n",
              " 'Youtube04-Eminem.csv']"
            ]
          },
          "metadata": {
            "tags": []
          },
          "execution_count": 3
        }
      ]
    },
    {
      "cell_type": "markdown",
      "metadata": {
        "id": "H2msvroyoZ5W"
      },
      "source": [
        "Let's clone the necessary repos."
      ]
    },
    {
      "cell_type": "code",
      "metadata": {
        "ExecuteTime": {
          "end_time": "2021-04-03T11:08:06.477747Z",
          "start_time": "2021-04-03T11:08:04.194562Z"
        },
        "colab": {
          "base_uri": "https://localhost:8080/"
        },
        "id": "F2MGdPXm7IvY",
        "outputId": "e19dd48c-20ee-4f49-92d5-b3e123feb1b9"
      },
      "source": [
        "!git clone https://github.com/snorkel-team/snorkel-tutorials.git\n",
        "\n",
        "source = \"content/\"\n",
        "destination = \"snorkel-tutorials/spam/data/\"\n",
        "\n",
        "os.makedirs(destination, exist_ok= True)\n",
        "\n",
        "files = os.listdir(source)\n",
        "\n",
        "for file in files:\n",
        "    new_path = shutil.move(f\"{source}/{file}\", destination)\n",
        "\n",
        "os.chdir(\"snorkel-tutorials/spam\")"
      ],
      "execution_count": null,
      "outputs": [
        {
          "output_type": "stream",
          "text": [
            "Cloning into 'snorkel-tutorials'...\n",
            "remote: Enumerating objects: 1124, done.\u001b[K\n",
            "remote: Counting objects: 100% (65/65), done.\u001b[K\n",
            "remote: Compressing objects: 100% (56/56), done.\u001b[K\n",
            "remote: Total 1124 (delta 28), reused 15 (delta 8), pack-reused 1059\u001b[K\n",
            "Receiving objects: 100% (1124/1124), 3.53 MiB | 19.66 MiB/s, done.\n",
            "Resolving deltas: 100% (743/743), done.\n"
          ],
          "name": "stdout"
        }
      ]
    },
    {
      "cell_type": "markdown",
      "metadata": {
        "id": "XM6JWmh6oxtv"
      },
      "source": [
        "## Making the necessary imports"
      ]
    },
    {
      "cell_type": "code",
      "metadata": {
        "ExecuteTime": {
          "end_time": "2021-04-03T11:08:10.334905Z",
          "start_time": "2021-04-03T11:08:06.478745Z"
        },
        "id": "h-vgmzc7B0PM",
        "scrolled": true
      },
      "source": [
        "import re\n",
        "import glob\n",
        "\n",
        "import utils\n",
        "\n",
        "from snorkel.analysis import get_label_buckets\n",
        "\n",
        "from snorkel.labeling import labeling_function\n",
        "from snorkel.labeling import LFAnalysis\n",
        "from snorkel.labeling import PandasLFApplier\n",
        "from snorkel.labeling import LabelingFunction\n",
        "from snorkel.labeling.model import MajorityLabelVoter\n",
        "from snorkel.labeling.model import LabelModel\n",
        "from snorkel.labeling import filter_unlabeled_dataframe\n",
        "from snorkel.labeling.lf.nlp import nlp_labeling_function\n",
        "\n",
        "from snorkel.preprocess import preprocessor\n",
        "from snorkel.preprocess.nlp import SpacyPreprocessor\n",
        "\n",
        "from snorkel.utils import probs_to_preds\n",
        "\n",
        "from textblob import TextBlob\n",
        "\n",
        "import pandas as pd\n",
        "import numpy as np\n",
        "\n",
        "from sklearn.feature_extraction.text import CountVectorizer\n",
        "from sklearn.linear_model import LogisticRegression\n",
        "from sklearn.model_selection import train_test_split\n",
        "\n",
        "import matplotlib.pyplot as plt\n",
        "%matplotlib inline"
      ],
      "execution_count": null,
      "outputs": []
    },
    {
      "cell_type": "code",
      "metadata": {
        "ExecuteTime": {
          "end_time": "2021-04-03T11:08:10.350918Z",
          "start_time": "2021-04-03T11:08:10.335905Z"
        },
        "id": "0Lp8IEfZr3OT"
      },
      "source": [
        "def load_spam_dataset(load_train_labels: bool = False, split_dev_valid: bool = False):\n",
        "    filenames = sorted(glob.glob(\"data/Youtube*.csv\"))\n",
        "    dfs = []\n",
        "    for i, filename in enumerate(filenames, start=1):\n",
        "        df = pd.read_csv(filename)\n",
        "        # Lowercase column names\n",
        "        df.columns = map(str.lower, df.columns)\n",
        "        # Remove comment_id field\n",
        "        df = df.drop(\"comment_id\", axis=1)\n",
        "        # Add field indicating source video\n",
        "        df[\"video\"] = [i] * len(df)\n",
        "        # Rename fields\n",
        "        df = df.rename(columns={\"class\": \"label\", \"content\": \"text\"})\n",
        "        # Shuffle order\n",
        "        df = df.sample(frac=1, random_state=123).reset_index(drop=True)\n",
        "        dfs.append(df)\n",
        "\n",
        "    df_train = pd.concat(dfs[:4])\n",
        "    df_dev = df_train.sample(100, random_state=123)\n",
        "\n",
        "    if not load_train_labels:\n",
        "        df_train[\"label\"] = np.ones(len(df_train[\"label\"])) * -1\n",
        "    df_valid_test = dfs[4]\n",
        "    df_valid, df_test = train_test_split(\n",
        "        df_valid_test, test_size=250, random_state=123, stratify=df_valid_test.label\n",
        "    )\n",
        "\n",
        "    if split_dev_valid:\n",
        "        return df_train, df_dev, df_valid, df_test\n",
        "    else:\n",
        "        return df_train, df_test"
      ],
      "execution_count": null,
      "outputs": []
    },
    {
      "cell_type": "code",
      "metadata": {
        "ExecuteTime": {
          "end_time": "2021-04-03T11:08:10.446005Z",
          "start_time": "2021-04-03T11:08:10.351920Z"
        },
        "colab": {
          "base_uri": "https://localhost:8080/",
          "height": 407
        },
        "id": "PQ_a_pkV3tdR",
        "scrolled": false,
        "outputId": "01776a69-84fd-407d-c4f2-4c804321329e"
      },
      "source": [
        "df_train, df_test = load_spam_dataset()\n",
        "print(\"Train\")\n",
        "display(df_train.head())\n",
        "print('Test')\n",
        "df_test.head()"
      ],
      "execution_count": null,
      "outputs": [
        {
          "output_type": "stream",
          "text": [
            "Train\n"
          ],
          "name": "stdout"
        },
        {
          "output_type": "display_data",
          "data": {
            "text/html": [
              "<div>\n",
              "<style scoped>\n",
              "    .dataframe tbody tr th:only-of-type {\n",
              "        vertical-align: middle;\n",
              "    }\n",
              "\n",
              "    .dataframe tbody tr th {\n",
              "        vertical-align: top;\n",
              "    }\n",
              "\n",
              "    .dataframe thead th {\n",
              "        text-align: right;\n",
              "    }\n",
              "</style>\n",
              "<table border=\"1\" class=\"dataframe\">\n",
              "  <thead>\n",
              "    <tr style=\"text-align: right;\">\n",
              "      <th></th>\n",
              "      <th>author</th>\n",
              "      <th>date</th>\n",
              "      <th>text</th>\n",
              "      <th>label</th>\n",
              "      <th>video</th>\n",
              "    </tr>\n",
              "  </thead>\n",
              "  <tbody>\n",
              "    <tr>\n",
              "      <th>0</th>\n",
              "      <td>Alessandro leite</td>\n",
              "      <td>2014-11-05T22:21:36</td>\n",
              "      <td>pls http://www10.vakinha.com.br/VaquinhaE.aspx...</td>\n",
              "      <td>-1.0</td>\n",
              "      <td>1</td>\n",
              "    </tr>\n",
              "    <tr>\n",
              "      <th>1</th>\n",
              "      <td>Salim Tayara</td>\n",
              "      <td>2014-11-02T14:33:30</td>\n",
              "      <td>if your like drones, plz subscribe to Kamal Ta...</td>\n",
              "      <td>-1.0</td>\n",
              "      <td>1</td>\n",
              "    </tr>\n",
              "    <tr>\n",
              "      <th>2</th>\n",
              "      <td>Phuc Ly</td>\n",
              "      <td>2014-01-20T15:27:47</td>\n",
              "      <td>go here to check the views :3﻿</td>\n",
              "      <td>-1.0</td>\n",
              "      <td>1</td>\n",
              "    </tr>\n",
              "    <tr>\n",
              "      <th>3</th>\n",
              "      <td>DropShotSk8r</td>\n",
              "      <td>2014-01-19T04:27:18</td>\n",
              "      <td>Came here to check the views, goodbye.﻿</td>\n",
              "      <td>-1.0</td>\n",
              "      <td>1</td>\n",
              "    </tr>\n",
              "    <tr>\n",
              "      <th>4</th>\n",
              "      <td>css403</td>\n",
              "      <td>2014-11-07T14:25:48</td>\n",
              "      <td>i am 2,126,492,636 viewer :D﻿</td>\n",
              "      <td>-1.0</td>\n",
              "      <td>1</td>\n",
              "    </tr>\n",
              "  </tbody>\n",
              "</table>\n",
              "</div>"
            ],
            "text/plain": [
              "             author                 date  ... label  video\n",
              "0  Alessandro leite  2014-11-05T22:21:36  ...  -1.0      1\n",
              "1      Salim Tayara  2014-11-02T14:33:30  ...  -1.0      1\n",
              "2           Phuc Ly  2014-01-20T15:27:47  ...  -1.0      1\n",
              "3      DropShotSk8r  2014-01-19T04:27:18  ...  -1.0      1\n",
              "4            css403  2014-11-07T14:25:48  ...  -1.0      1\n",
              "\n",
              "[5 rows x 5 columns]"
            ]
          },
          "metadata": {
            "tags": []
          }
        },
        {
          "output_type": "stream",
          "text": [
            "Test\n"
          ],
          "name": "stdout"
        },
        {
          "output_type": "execute_result",
          "data": {
            "text/html": [
              "<div>\n",
              "<style scoped>\n",
              "    .dataframe tbody tr th:only-of-type {\n",
              "        vertical-align: middle;\n",
              "    }\n",
              "\n",
              "    .dataframe tbody tr th {\n",
              "        vertical-align: top;\n",
              "    }\n",
              "\n",
              "    .dataframe thead th {\n",
              "        text-align: right;\n",
              "    }\n",
              "</style>\n",
              "<table border=\"1\" class=\"dataframe\">\n",
              "  <thead>\n",
              "    <tr style=\"text-align: right;\">\n",
              "      <th></th>\n",
              "      <th>author</th>\n",
              "      <th>date</th>\n",
              "      <th>text</th>\n",
              "      <th>label</th>\n",
              "      <th>video</th>\n",
              "    </tr>\n",
              "  </thead>\n",
              "  <tbody>\n",
              "    <tr>\n",
              "      <th>27</th>\n",
              "      <td>‫حلم الشباب‬‎</td>\n",
              "      <td>2015-05-25T23:42:49.533000</td>\n",
              "      <td>Check out this video on YouTube:﻿</td>\n",
              "      <td>1</td>\n",
              "      <td>5</td>\n",
              "    </tr>\n",
              "    <tr>\n",
              "      <th>194</th>\n",
              "      <td>MOHAMED THASLEEM</td>\n",
              "      <td>2015-05-24T07:03:59.488000</td>\n",
              "      <td>super music﻿</td>\n",
              "      <td>0</td>\n",
              "      <td>5</td>\n",
              "    </tr>\n",
              "    <tr>\n",
              "      <th>277</th>\n",
              "      <td>AlabaGames</td>\n",
              "      <td>2015-05-22T00:31:43.922000</td>\n",
              "      <td>Subscribe my channel  I RECORDING FIFA 15 GOAL...</td>\n",
              "      <td>1</td>\n",
              "      <td>5</td>\n",
              "    </tr>\n",
              "    <tr>\n",
              "      <th>132</th>\n",
              "      <td>Manish Ray</td>\n",
              "      <td>2015-05-23T08:55:07.512000</td>\n",
              "      <td>This song is so beauty</td>\n",
              "      <td>0</td>\n",
              "      <td>5</td>\n",
              "    </tr>\n",
              "    <tr>\n",
              "      <th>163</th>\n",
              "      <td>Sudheer Yadav</td>\n",
              "      <td>2015-05-28T10:28:25.133000</td>\n",
              "      <td>SEE SOME MORE SONG OPEN GOOGLE AND TYPE Shakir...</td>\n",
              "      <td>1</td>\n",
              "      <td>5</td>\n",
              "    </tr>\n",
              "  </tbody>\n",
              "</table>\n",
              "</div>"
            ],
            "text/plain": [
              "               author                        date  ... label  video\n",
              "27      ‫حلم الشباب‬‎  2015-05-25T23:42:49.533000  ...     1      5\n",
              "194  MOHAMED THASLEEM  2015-05-24T07:03:59.488000  ...     0      5\n",
              "277        AlabaGames  2015-05-22T00:31:43.922000  ...     1      5\n",
              "132        Manish Ray  2015-05-23T08:55:07.512000  ...     0      5\n",
              "163     Sudheer Yadav  2015-05-28T10:28:25.133000  ...     1      5\n",
              "\n",
              "[5 rows x 5 columns]"
            ]
          },
          "metadata": {
            "tags": []
          },
          "execution_count": 7
        }
      ]
    },
    {
      "cell_type": "code",
      "metadata": {
        "ExecuteTime": {
          "end_time": "2021-04-03T11:08:10.462021Z",
          "start_time": "2021-04-03T11:08:10.448007Z"
        },
        "colab": {
          "base_uri": "https://localhost:8080/"
        },
        "id": "sYk70EPO4sk3",
        "outputId": "cedead41-f044-48e7-fce0-9a3e5c80e645"
      },
      "source": [
        "Y_test = df_test.label.values\n",
        "Y_test[:10]"
      ],
      "execution_count": null,
      "outputs": [
        {
          "output_type": "execute_result",
          "data": {
            "text/plain": [
              "array([1, 0, 1, 0, 1, 0, 1, 0, 1, 1])"
            ]
          },
          "metadata": {
            "tags": []
          },
          "execution_count": 8
        }
      ]
    },
    {
      "cell_type": "markdown",
      "metadata": {
        "id": "YSxLJ9P2ptsG"
      },
      "source": [
        "There are a few things to keep in mind with respect to the dataset:\n",
        "1. HAM represents a NON-SPAM comment.\n",
        "2. SPAM is a SPAM comment\n",
        "3. ABSTAIN is for neither of the above\n",
        "\n",
        "We initialise their respective values below\n"
      ]
    },
    {
      "cell_type": "code",
      "metadata": {
        "ExecuteTime": {
          "end_time": "2021-04-03T11:08:10.478036Z",
          "start_time": "2021-04-03T11:08:10.464021Z"
        },
        "id": "BUPjY_nKbJEM"
      },
      "source": [
        "ABSTAIN = -1\n",
        "HAM = 0\n",
        "SPAM = 1"
      ],
      "execution_count": null,
      "outputs": []
    },
    {
      "cell_type": "markdown",
      "metadata": {
        "id": "AA94SzMiqJQq"
      },
      "source": [
        "We need to find some pattern in the data, so as to create rules for labeling the data.<br>\n",
        "Hence, we randomly display some rows of the dataset so that we can try to find some pattern in the text. "
      ]
    },
    {
      "cell_type": "code",
      "metadata": {
        "ExecuteTime": {
          "end_time": "2021-04-03T11:08:10.494050Z",
          "start_time": "2021-04-03T11:08:10.479037Z"
        },
        "colab": {
          "base_uri": "https://localhost:8080/",
          "height": 639
        },
        "id": "fz2VcSoNbMi2",
        "outputId": "fafc6a04-e14b-4f19-b8ff-937272c5e6d6"
      },
      "source": [
        "df_train[[\"author\", \"text\", \"video\"]].sample(20, random_state=2020)"
      ],
      "execution_count": null,
      "outputs": [
        {
          "output_type": "execute_result",
          "data": {
            "text/html": [
              "<div>\n",
              "<style scoped>\n",
              "    .dataframe tbody tr th:only-of-type {\n",
              "        vertical-align: middle;\n",
              "    }\n",
              "\n",
              "    .dataframe tbody tr th {\n",
              "        vertical-align: top;\n",
              "    }\n",
              "\n",
              "    .dataframe thead th {\n",
              "        text-align: right;\n",
              "    }\n",
              "</style>\n",
              "<table border=\"1\" class=\"dataframe\">\n",
              "  <thead>\n",
              "    <tr style=\"text-align: right;\">\n",
              "      <th></th>\n",
              "      <th>author</th>\n",
              "      <th>text</th>\n",
              "      <th>video</th>\n",
              "    </tr>\n",
              "  </thead>\n",
              "  <tbody>\n",
              "    <tr>\n",
              "      <th>240</th>\n",
              "      <td>Lucas Trigo</td>\n",
              "      <td>WHATS UP EVERYONE!? :-) I Trying To Showcase M...</td>\n",
              "      <td>1</td>\n",
              "    </tr>\n",
              "    <tr>\n",
              "      <th>211</th>\n",
              "      <td>Blaze Rod</td>\n",
              "      <td>when i see this back in 2015 i ask myself how ...</td>\n",
              "      <td>3</td>\n",
              "    </tr>\n",
              "    <tr>\n",
              "      <th>228</th>\n",
              "      <td>MasterRobotTV</td>\n",
              "      <td>http://www.twitch.tv/zxlightsoutxz﻿</td>\n",
              "      <td>1</td>\n",
              "    </tr>\n",
              "    <tr>\n",
              "      <th>207</th>\n",
              "      <td>Franklin Music</td>\n",
              "      <td>Very Nice !﻿</td>\n",
              "      <td>3</td>\n",
              "    </tr>\n",
              "    <tr>\n",
              "      <th>153</th>\n",
              "      <td>lebanonwarior1</td>\n",
              "      <td>Song name??﻿</td>\n",
              "      <td>1</td>\n",
              "    </tr>\n",
              "    <tr>\n",
              "      <th>8</th>\n",
              "      <td>yenis maría Rodríguez</td>\n",
              "      <td>2015 LIKEEE﻿</td>\n",
              "      <td>3</td>\n",
              "    </tr>\n",
              "    <tr>\n",
              "      <th>62</th>\n",
              "      <td>RapStarz Coleman</td>\n",
              "      <td>Subscribe To Mê Please Guys</td>\n",
              "      <td>4</td>\n",
              "    </tr>\n",
              "    <tr>\n",
              "      <th>54</th>\n",
              "      <td>Jd Hurst</td>\n",
              "      <td>Check out this video on YouTube:﻿</td>\n",
              "      <td>3</td>\n",
              "    </tr>\n",
              "    <tr>\n",
              "      <th>353</th>\n",
              "      <td>jefflynnejp</td>\n",
              "      <td>Check out this video on YouTube: ﻿</td>\n",
              "      <td>3</td>\n",
              "    </tr>\n",
              "    <tr>\n",
              "      <th>406</th>\n",
              "      <td>eliška žáková</td>\n",
              "      <td>CUTE  :)﻿</td>\n",
              "      <td>3</td>\n",
              "    </tr>\n",
              "    <tr>\n",
              "      <th>375</th>\n",
              "      <td>Chris Bieber</td>\n",
              "      <td>Love the way you lie II is nicer in my opinion...</td>\n",
              "      <td>4</td>\n",
              "    </tr>\n",
              "    <tr>\n",
              "      <th>270</th>\n",
              "      <td>Angela Alor</td>\n",
              "      <td>HOW DO YOU PUT A PICTURE FOR YOUR IMAGE THINGI...</td>\n",
              "      <td>3</td>\n",
              "    </tr>\n",
              "    <tr>\n",
              "      <th>44</th>\n",
              "      <td>BlueYetiPlayz -Call Of Duty and More</td>\n",
              "      <td>subscribe to me for call of duty vids and give...</td>\n",
              "      <td>1</td>\n",
              "    </tr>\n",
              "    <tr>\n",
              "      <th>295</th>\n",
              "      <td>the34104</td>\n",
              "      <td>check out eminem latest track survival if u didnt</td>\n",
              "      <td>4</td>\n",
              "    </tr>\n",
              "    <tr>\n",
              "      <th>223</th>\n",
              "      <td>Truc Ng</td>\n",
              "      <td>https://www.facebook.com/myfunnyriddles﻿</td>\n",
              "      <td>2</td>\n",
              "    </tr>\n",
              "    <tr>\n",
              "      <th>144</th>\n",
              "      <td>Nina Mackie</td>\n",
              "      <td>Take a look at this video on YouTub&lt;br /&gt;You﻿</td>\n",
              "      <td>3</td>\n",
              "    </tr>\n",
              "    <tr>\n",
              "      <th>340</th>\n",
              "      <td>DanteBTV</td>\n",
              "      <td>Check Out The New Hot Video By Dante B Called ...</td>\n",
              "      <td>4</td>\n",
              "    </tr>\n",
              "    <tr>\n",
              "      <th>19</th>\n",
              "      <td>Paul Garza</td>\n",
              "      <td>Check out this video on YouTube:﻿</td>\n",
              "      <td>3</td>\n",
              "    </tr>\n",
              "    <tr>\n",
              "      <th>185</th>\n",
              "      <td>Bo Lanciné MAGASSOUBA</td>\n",
              "      <td>WE GO FOR 1,000,000,000 FOR EMINEM﻿</td>\n",
              "      <td>4</td>\n",
              "    </tr>\n",
              "    <tr>\n",
              "      <th>73</th>\n",
              "      <td>MrValentinique</td>\n",
              "      <td>https://www.facebook.com/eeccon/posts/73394924...</td>\n",
              "      <td>1</td>\n",
              "    </tr>\n",
              "  </tbody>\n",
              "</table>\n",
              "</div>"
            ],
            "text/plain": [
              "                                   author  ... video\n",
              "240                           Lucas Trigo  ...     1\n",
              "211                             Blaze Rod  ...     3\n",
              "228                         MasterRobotTV  ...     1\n",
              "207                        Franklin Music  ...     3\n",
              "153                        lebanonwarior1  ...     1\n",
              "8                   yenis maría Rodríguez  ...     3\n",
              "62                       RapStarz Coleman  ...     4\n",
              "54                               Jd Hurst  ...     3\n",
              "353                           jefflynnejp  ...     3\n",
              "406                         eliška žáková  ...     3\n",
              "375                          Chris Bieber  ...     4\n",
              "270                           Angela Alor  ...     3\n",
              "44   BlueYetiPlayz -Call Of Duty and More  ...     1\n",
              "295                              the34104  ...     4\n",
              "223                               Truc Ng  ...     2\n",
              "144                           Nina Mackie  ...     3\n",
              "340                              DanteBTV  ...     4\n",
              "19                             Paul Garza  ...     3\n",
              "185                 Bo Lanciné MAGASSOUBA  ...     4\n",
              "73                         MrValentinique  ...     1\n",
              "\n",
              "[20 rows x 3 columns]"
            ]
          },
          "metadata": {
            "tags": []
          },
          "execution_count": 10
        }
      ]
    },
    {
      "cell_type": "markdown",
      "metadata": {
        "id": "8Pin_a-epBXr"
      },
      "source": [
        "An example for how a labeling function can be defined , anything that might match the pattern of a spam message can be used , here http is an example to show as many spam comments may contain links"
      ]
    },
    {
      "cell_type": "code",
      "metadata": {
        "ExecuteTime": {
          "end_time": "2021-04-03T11:08:10.510064Z",
          "start_time": "2021-04-03T11:08:10.496052Z"
        },
        "id": "mpSoy45Mblnr"
      },
      "source": [
        "@labeling_function()\n",
        "def lf_contains_link(x):\n",
        "    # Return a label of SPAM if \"http\" in comment text, otherwise ABSTAIN\n",
        "    return SPAM if \"http\" in x.text.lower() else ABSTAIN"
      ],
      "execution_count": null,
      "outputs": []
    },
    {
      "cell_type": "markdown",
      "metadata": {
        "id": "NcVpGTOpqbSr"
      },
      "source": [
        "Defining labeling functions to check strings such as 'check', 'check out', 'http', 'my channel', 'subscribe'<br>\n",
        "Try to write your own labeling functions too."
      ]
    },
    {
      "cell_type": "code",
      "metadata": {
        "ExecuteTime": {
          "end_time": "2021-04-03T11:08:10.526079Z",
          "start_time": "2021-04-03T11:08:10.511065Z"
        },
        "id": "OI9-aAYAbs1e"
      },
      "source": [
        "@labeling_function()\n",
        "def check(x):\n",
        "    return SPAM if \"check\" in x.text.lower() else ABSTAIN\n",
        "\n",
        "@labeling_function()\n",
        "def check_out(x):\n",
        "    return SPAM if \"check out\" in x.text.lower() else ABSTAIN\n",
        "\n",
        "@labeling_function()\n",
        "def my_channel(x):\n",
        "    return SPAM if \"my channel\" in x.text.lower() else ABSTAIN\n",
        "\n",
        "@labeling_function()\n",
        "def if_subscribe(x):\n",
        "    return SPAM if \"subscribe\" in x.text.lower() else ABSTAIN"
      ],
      "execution_count": null,
      "outputs": []
    },
    {
      "cell_type": "markdown",
      "metadata": {
        "id": "VmBAWflGqzCL"
      },
      "source": [
        "Using **LFApplier** to use our labelling fucntions with pandas dataframe object.\n",
        "\n",
        "these labeling functions can also be used on columns other than 'text'"
      ]
    },
    {
      "cell_type": "code",
      "metadata": {
        "ExecuteTime": {
          "end_time": "2021-04-03T11:08:10.606068Z",
          "start_time": "2021-04-03T11:08:10.527080Z"
        },
        "colab": {
          "base_uri": "https://localhost:8080/"
        },
        "id": "Ab5nnlrzcUBY",
        "outputId": "955fade7-040c-4e4e-8be1-791e89dd8e1f"
      },
      "source": [
        "lfs = [check_out, check, lf_contains_link, my_channel, if_subscribe]\n",
        "\n",
        "applier = PandasLFApplier(lfs=lfs)\n",
        "L_train = applier.apply(df=df_train)"
      ],
      "execution_count": null,
      "outputs": [
        {
          "output_type": "stream",
          "text": [
            "100%|██████████| 1586/1586 [00:00<00:00, 13520.09it/s]\n"
          ],
          "name": "stderr"
        }
      ]
    },
    {
      "cell_type": "code",
      "metadata": {
        "ExecuteTime": {
          "end_time": "2021-04-03T11:08:10.621083Z",
          "start_time": "2021-04-03T11:08:10.607070Z"
        },
        "colab": {
          "base_uri": "https://localhost:8080/"
        },
        "id": "iEQOljcHcZh1",
        "outputId": "d4415c36-a388-4d5b-b023-ffd4c2a64074"
      },
      "source": [
        "L_train"
      ],
      "execution_count": null,
      "outputs": [
        {
          "output_type": "execute_result",
          "data": {
            "text/plain": [
              "array([[-1, -1,  1, -1, -1],\n",
              "       [-1, -1, -1, -1,  1],\n",
              "       [-1,  1, -1, -1, -1],\n",
              "       ...,\n",
              "       [ 1,  1, -1,  1,  1],\n",
              "       [-1,  1, -1, -1,  1],\n",
              "       [ 1,  1, -1, -1, -1]])"
            ]
          },
          "metadata": {
            "tags": []
          },
          "execution_count": 14
        }
      ]
    },
    {
      "cell_type": "markdown",
      "metadata": {
        "id": "l6vJmvsgrl9O"
      },
      "source": [
        "_Coverage_ is the fraction of the dataset the labeling function labels."
      ]
    },
    {
      "cell_type": "code",
      "metadata": {
        "ExecuteTime": {
          "end_time": "2021-04-03T11:08:10.637097Z",
          "start_time": "2021-04-03T11:08:10.622084Z"
        },
        "colab": {
          "base_uri": "https://localhost:8080/"
        },
        "id": "LZS3HRs1c7BB",
        "outputId": "8fed2489-93ff-42bc-fdb7-0903b09e5054"
      },
      "source": [
        "coverage_check_out, coverage_check, coverage_link, coverage_my_channel, coverage_subscribe= (L_train != ABSTAIN).mean(axis=0)\n",
        "print(f\"check_out coverage: {coverage_check_out * 100:.1f}%\")\n",
        "print(f\"check coverage: {coverage_check * 100:.1f}%\")\n",
        "print(f\"link coverage: {coverage_link * 100:.1f}%\")\n",
        "print(f\"my_channel coverage: {coverage_my_channel * 100:.1f}%\")\n",
        "print(f\"if_subscribe coverage: {coverage_subscribe * 100:.1f}%\")"
      ],
      "execution_count": null,
      "outputs": [
        {
          "output_type": "stream",
          "text": [
            "check_out coverage: 21.4%\n",
            "check coverage: 25.8%\n",
            "link coverage: 11.9%\n",
            "my_channel coverage: 7.0%\n",
            "if_subscribe coverage: 12.7%\n"
          ],
          "name": "stdout"
        }
      ]
    },
    {
      "cell_type": "markdown",
      "metadata": {
        "id": "I_Lflxdir08t"
      },
      "source": [
        "Before we procees further, let us understand a bit of jargon with respect to the summary of the _LFAnalysis_\n",
        "1. Polarity - set of unique labels that the labeling function outputs (excluding Abstains)\n",
        "\n",
        "2. Overlaps - where there is atleast one common entry for more than one labeling functions i.e the labeling fucntions agree upon the value to be returned\n",
        "\n",
        "3. Conflicts - where the labeling functions disagree upon the value to be returned"
      ]
    },
    {
      "cell_type": "code",
      "metadata": {
        "ExecuteTime": {
          "end_time": "2021-04-03T11:08:10.653111Z",
          "start_time": "2021-04-03T11:08:10.638100Z"
        },
        "colab": {
          "base_uri": "https://localhost:8080/",
          "height": 195
        },
        "id": "Hb63fpwQdqin",
        "outputId": "eb38910a-f638-4cb3-e9f7-6974d475fe27"
      },
      "source": [
        "LFAnalysis(L=L_train, lfs=lfs).lf_summary()"
      ],
      "execution_count": null,
      "outputs": [
        {
          "output_type": "execute_result",
          "data": {
            "text/html": [
              "<div>\n",
              "<style scoped>\n",
              "    .dataframe tbody tr th:only-of-type {\n",
              "        vertical-align: middle;\n",
              "    }\n",
              "\n",
              "    .dataframe tbody tr th {\n",
              "        vertical-align: top;\n",
              "    }\n",
              "\n",
              "    .dataframe thead th {\n",
              "        text-align: right;\n",
              "    }\n",
              "</style>\n",
              "<table border=\"1\" class=\"dataframe\">\n",
              "  <thead>\n",
              "    <tr style=\"text-align: right;\">\n",
              "      <th></th>\n",
              "      <th>j</th>\n",
              "      <th>Polarity</th>\n",
              "      <th>Coverage</th>\n",
              "      <th>Overlaps</th>\n",
              "      <th>Conflicts</th>\n",
              "    </tr>\n",
              "  </thead>\n",
              "  <tbody>\n",
              "    <tr>\n",
              "      <th>check_out</th>\n",
              "      <td>0</td>\n",
              "      <td>[1]</td>\n",
              "      <td>0.214376</td>\n",
              "      <td>0.214376</td>\n",
              "      <td>0.0</td>\n",
              "    </tr>\n",
              "    <tr>\n",
              "      <th>check</th>\n",
              "      <td>1</td>\n",
              "      <td>[1]</td>\n",
              "      <td>0.257881</td>\n",
              "      <td>0.233922</td>\n",
              "      <td>0.0</td>\n",
              "    </tr>\n",
              "    <tr>\n",
              "      <th>lf_contains_link</th>\n",
              "      <td>2</td>\n",
              "      <td>[1]</td>\n",
              "      <td>0.119168</td>\n",
              "      <td>0.011980</td>\n",
              "      <td>0.0</td>\n",
              "    </tr>\n",
              "    <tr>\n",
              "      <th>my_channel</th>\n",
              "      <td>3</td>\n",
              "      <td>[1]</td>\n",
              "      <td>0.069987</td>\n",
              "      <td>0.057377</td>\n",
              "      <td>0.0</td>\n",
              "    </tr>\n",
              "    <tr>\n",
              "      <th>if_subscribe</th>\n",
              "      <td>4</td>\n",
              "      <td>[1]</td>\n",
              "      <td>0.127364</td>\n",
              "      <td>0.054855</td>\n",
              "      <td>0.0</td>\n",
              "    </tr>\n",
              "  </tbody>\n",
              "</table>\n",
              "</div>"
            ],
            "text/plain": [
              "                  j Polarity  Coverage  Overlaps  Conflicts\n",
              "check_out         0      [1]  0.214376  0.214376        0.0\n",
              "check             1      [1]  0.257881  0.233922        0.0\n",
              "lf_contains_link  2      [1]  0.119168  0.011980        0.0\n",
              "my_channel        3      [1]  0.069987  0.057377        0.0\n",
              "if_subscribe      4      [1]  0.127364  0.054855        0.0"
            ]
          },
          "metadata": {
            "tags": []
          },
          "execution_count": 16
        }
      ]
    },
    {
      "cell_type": "markdown",
      "metadata": {
        "id": "lMAK17fqtOAK"
      },
      "source": [
        "Trying and checking the results by filtering out the matching rows and checking for false positives "
      ]
    },
    {
      "cell_type": "code",
      "metadata": {
        "ExecuteTime": {
          "end_time": "2021-04-03T11:08:10.669126Z",
          "start_time": "2021-04-03T11:08:10.654113Z"
        },
        "colab": {
          "base_uri": "https://localhost:8080/",
          "height": 343
        },
        "id": "QHSdjvyVd2QB",
        "outputId": "ad70a3fa-f30b-40f1-a880-dd0872027b95"
      },
      "source": [
        "# display(df_train.iloc[L_train[:, 1] == SPAM].sample(10, random_state=2020))\n",
        "# display(df_train.iloc[L_train[:, 2] == SPAM].sample(10, random_state=2020))\n",
        "df_train.iloc[L_train[:, 3] == SPAM].sample(10, random_state=2020)"
      ],
      "execution_count": null,
      "outputs": [
        {
          "output_type": "execute_result",
          "data": {
            "text/html": [
              "<div>\n",
              "<style scoped>\n",
              "    .dataframe tbody tr th:only-of-type {\n",
              "        vertical-align: middle;\n",
              "    }\n",
              "\n",
              "    .dataframe tbody tr th {\n",
              "        vertical-align: top;\n",
              "    }\n",
              "\n",
              "    .dataframe thead th {\n",
              "        text-align: right;\n",
              "    }\n",
              "</style>\n",
              "<table border=\"1\" class=\"dataframe\">\n",
              "  <thead>\n",
              "    <tr style=\"text-align: right;\">\n",
              "      <th></th>\n",
              "      <th>author</th>\n",
              "      <th>date</th>\n",
              "      <th>text</th>\n",
              "      <th>label</th>\n",
              "      <th>video</th>\n",
              "    </tr>\n",
              "  </thead>\n",
              "  <tbody>\n",
              "    <tr>\n",
              "      <th>34</th>\n",
              "      <td>TA Stealth</td>\n",
              "      <td>2015-03-11T01:25:46.234000</td>\n",
              "      <td>Cool Video LMFAOVEVO! You should check out my ...</td>\n",
              "      <td>-1.0</td>\n",
              "      <td>3</td>\n",
              "    </tr>\n",
              "    <tr>\n",
              "      <th>288</th>\n",
              "      <td>ItsJoey Dash</td>\n",
              "      <td>2014-07-22T10:02:25.925000</td>\n",
              "      <td>EVERYONE PLEASE GO SUBSCRIBE TO MY CHANNEL OR ...</td>\n",
              "      <td>-1.0</td>\n",
              "      <td>3</td>\n",
              "    </tr>\n",
              "    <tr>\n",
              "      <th>36</th>\n",
              "      <td>Victor Gamer</td>\n",
              "      <td>2015-04-13T02:00:20.152000</td>\n",
              "      <td>View 851.247.920&lt;br /&gt;&lt;br /&gt; Best youtube Vide...</td>\n",
              "      <td>-1.0</td>\n",
              "      <td>3</td>\n",
              "    </tr>\n",
              "    <tr>\n",
              "      <th>263</th>\n",
              "      <td>Backup Plus</td>\n",
              "      <td>2014-11-03T17:39:07</td>\n",
              "      <td>Suscribe My Channel Please XD lol﻿</td>\n",
              "      <td>-1.0</td>\n",
              "      <td>1</td>\n",
              "    </tr>\n",
              "    <tr>\n",
              "      <th>386</th>\n",
              "      <td>ItsJoey Dash</td>\n",
              "      <td>2014-07-22T10:04:05.755000</td>\n",
              "      <td>EVERYONE PLEASE SUBSCRIBE TO MY CHANNEL OR CAN...</td>\n",
              "      <td>-1.0</td>\n",
              "      <td>3</td>\n",
              "    </tr>\n",
              "    <tr>\n",
              "      <th>404</th>\n",
              "      <td>M.E.S</td>\n",
              "      <td>NaN</td>\n",
              "      <td>hey its M.E.S here I&amp;#39;m a young up and comi...</td>\n",
              "      <td>-1.0</td>\n",
              "      <td>4</td>\n",
              "    </tr>\n",
              "    <tr>\n",
              "      <th>341</th>\n",
              "      <td>superfacoo</td>\n",
              "      <td>NaN</td>\n",
              "      <td>Hey? Everyone Please take a moment to read thi...</td>\n",
              "      <td>-1.0</td>\n",
              "      <td>4</td>\n",
              "    </tr>\n",
              "    <tr>\n",
              "      <th>229</th>\n",
              "      <td>Terry-Lee Mackenney</td>\n",
              "      <td>NaN</td>\n",
              "      <td>Hi Guys im an Upcoming Rapper if you could che...</td>\n",
              "      <td>-1.0</td>\n",
              "      <td>4</td>\n",
              "    </tr>\n",
              "    <tr>\n",
              "      <th>157</th>\n",
              "      <td>TopMusicWorld HD</td>\n",
              "      <td>2014-10-19T23:27:50</td>\n",
              "      <td>Please Subscribe In My Channel →﻿</td>\n",
              "      <td>-1.0</td>\n",
              "      <td>2</td>\n",
              "    </tr>\n",
              "    <tr>\n",
              "      <th>48</th>\n",
              "      <td>Kiddy Kidso</td>\n",
              "      <td>2014-01-19T16:49:52</td>\n",
              "      <td>Check my channel please! And listen to the bes...</td>\n",
              "      <td>-1.0</td>\n",
              "      <td>1</td>\n",
              "    </tr>\n",
              "  </tbody>\n",
              "</table>\n",
              "</div>"
            ],
            "text/plain": [
              "                  author                        date  ... label  video\n",
              "34            TA Stealth  2015-03-11T01:25:46.234000  ...  -1.0      3\n",
              "288         ItsJoey Dash  2014-07-22T10:02:25.925000  ...  -1.0      3\n",
              "36          Victor Gamer  2015-04-13T02:00:20.152000  ...  -1.0      3\n",
              "263          Backup Plus         2014-11-03T17:39:07  ...  -1.0      1\n",
              "386         ItsJoey Dash  2014-07-22T10:04:05.755000  ...  -1.0      3\n",
              "404                M.E.S                         NaN  ...  -1.0      4\n",
              "341           superfacoo                         NaN  ...  -1.0      4\n",
              "229  Terry-Lee Mackenney                         NaN  ...  -1.0      4\n",
              "157     TopMusicWorld HD         2014-10-19T23:27:50  ...  -1.0      2\n",
              "48           Kiddy Kidso         2014-01-19T16:49:52  ...  -1.0      1\n",
              "\n",
              "[10 rows x 5 columns]"
            ]
          },
          "metadata": {
            "tags": []
          },
          "execution_count": 17
        }
      ]
    },
    {
      "cell_type": "markdown",
      "metadata": {
        "id": "brmOFPoMtefG"
      },
      "source": [
        "Combining two labeling functions and checking the results "
      ]
    },
    {
      "cell_type": "code",
      "metadata": {
        "ExecuteTime": {
          "end_time": "2021-04-03T11:08:10.685141Z",
          "start_time": "2021-04-03T11:08:10.670127Z"
        },
        "colab": {
          "base_uri": "https://localhost:8080/",
          "height": 343
        },
        "id": "SCup4XPReLeE",
        "outputId": "252e4980-07a7-4d68-d700-2e91920949f0"
      },
      "source": [
        "#buckets = get_label_buckets(L_train[:, 0], L_train[:, 1])\n",
        "#buckets = get_label_buckets(L_train[:, 1], L_train[:, 2])\n",
        "buckets = get_label_buckets(L_train[:, 0], L_train[:, 3])\n",
        "\n",
        "df_train.iloc[buckets[(ABSTAIN, SPAM)]].sample(10, random_state=1)"
      ],
      "execution_count": null,
      "outputs": [
        {
          "output_type": "execute_result",
          "data": {
            "text/html": [
              "<div>\n",
              "<style scoped>\n",
              "    .dataframe tbody tr th:only-of-type {\n",
              "        vertical-align: middle;\n",
              "    }\n",
              "\n",
              "    .dataframe tbody tr th {\n",
              "        vertical-align: top;\n",
              "    }\n",
              "\n",
              "    .dataframe thead th {\n",
              "        text-align: right;\n",
              "    }\n",
              "</style>\n",
              "<table border=\"1\" class=\"dataframe\">\n",
              "  <thead>\n",
              "    <tr style=\"text-align: right;\">\n",
              "      <th></th>\n",
              "      <th>author</th>\n",
              "      <th>date</th>\n",
              "      <th>text</th>\n",
              "      <th>label</th>\n",
              "      <th>video</th>\n",
              "    </tr>\n",
              "  </thead>\n",
              "  <tbody>\n",
              "    <tr>\n",
              "      <th>230</th>\n",
              "      <td>LBEProductions</td>\n",
              "      <td>2014-11-12T01:40:22</td>\n",
              "      <td>Hey guys can you check my channel out plz. I d...</td>\n",
              "      <td>-1.0</td>\n",
              "      <td>1</td>\n",
              "    </tr>\n",
              "    <tr>\n",
              "      <th>287</th>\n",
              "      <td>DERRICK HANFORD</td>\n",
              "      <td>2014-12-05T22:52:29.316000</td>\n",
              "      <td>White people are going extinct for more inform...</td>\n",
              "      <td>-1.0</td>\n",
              "      <td>3</td>\n",
              "    </tr>\n",
              "    <tr>\n",
              "      <th>113</th>\n",
              "      <td>Carlos Thegamer</td>\n",
              "      <td>2013-12-01T01:20:21</td>\n",
              "      <td>subscribe to my channel people :D﻿</td>\n",
              "      <td>-1.0</td>\n",
              "      <td>1</td>\n",
              "    </tr>\n",
              "    <tr>\n",
              "      <th>301</th>\n",
              "      <td>Ractive</td>\n",
              "      <td>NaN</td>\n",
              "      <td>i been working so hard for the past 60 days to...</td>\n",
              "      <td>-1.0</td>\n",
              "      <td>4</td>\n",
              "    </tr>\n",
              "    <tr>\n",
              "      <th>246</th>\n",
              "      <td>Patrik Gybka</td>\n",
              "      <td>2015-05-05T09:32:04.687000</td>\n",
              "      <td>SUBSCRIBE MY CHANNEL PLEASE LOL PRO PLAYS)﻿</td>\n",
              "      <td>-1.0</td>\n",
              "      <td>3</td>\n",
              "    </tr>\n",
              "    <tr>\n",
              "      <th>8</th>\n",
              "      <td>Youyou A.</td>\n",
              "      <td>2014-10-21T15:20:49</td>\n",
              "      <td>I make guitar covers, please have a look at my...</td>\n",
              "      <td>-1.0</td>\n",
              "      <td>2</td>\n",
              "    </tr>\n",
              "    <tr>\n",
              "      <th>333</th>\n",
              "      <td>FreexGaming</td>\n",
              "      <td>2014-10-18T08:12:26</td>\n",
              "      <td>want to win borderlands the pre-sequel? check ...</td>\n",
              "      <td>-1.0</td>\n",
              "      <td>2</td>\n",
              "    </tr>\n",
              "    <tr>\n",
              "      <th>161</th>\n",
              "      <td>MarianMusicChannel</td>\n",
              "      <td>2014-08-24T03:57:52</td>\n",
              "      <td>Hello! I'm Marian, I'm a singer from Venezuela...</td>\n",
              "      <td>-1.0</td>\n",
              "      <td>2</td>\n",
              "    </tr>\n",
              "    <tr>\n",
              "      <th>171</th>\n",
              "      <td>MR magic man</td>\n",
              "      <td>2014-09-25T10:42:47</td>\n",
              "      <td>Please look at my channel﻿</td>\n",
              "      <td>-1.0</td>\n",
              "      <td>2</td>\n",
              "    </tr>\n",
              "    <tr>\n",
              "      <th>10</th>\n",
              "      <td>Dany PK</td>\n",
              "      <td>NaN</td>\n",
              "      <td>SUBSCRIBE TO MY CHANNEL X PLEASE!. SPARE</td>\n",
              "      <td>-1.0</td>\n",
              "      <td>4</td>\n",
              "    </tr>\n",
              "  </tbody>\n",
              "</table>\n",
              "</div>"
            ],
            "text/plain": [
              "                 author                        date  ... label  video\n",
              "230      LBEProductions         2014-11-12T01:40:22  ...  -1.0      1\n",
              "287     DERRICK HANFORD  2014-12-05T22:52:29.316000  ...  -1.0      3\n",
              "113     Carlos Thegamer         2013-12-01T01:20:21  ...  -1.0      1\n",
              "301             Ractive                         NaN  ...  -1.0      4\n",
              "246        Patrik Gybka  2015-05-05T09:32:04.687000  ...  -1.0      3\n",
              "8             Youyou A.         2014-10-21T15:20:49  ...  -1.0      2\n",
              "333         FreexGaming         2014-10-18T08:12:26  ...  -1.0      2\n",
              "161  MarianMusicChannel         2014-08-24T03:57:52  ...  -1.0      2\n",
              "171        MR magic man         2014-09-25T10:42:47  ...  -1.0      2\n",
              "10              Dany PK                         NaN  ...  -1.0      4\n",
              "\n",
              "[10 rows x 5 columns]"
            ]
          },
          "metadata": {
            "tags": []
          },
          "execution_count": 18
        }
      ]
    },
    {
      "cell_type": "markdown",
      "metadata": {
        "id": "oHmTYt8btmcb"
      },
      "source": [
        "**Regex Based Labeling Functions:** Using regular expressions to make the labeling functions more adaptive over differnt variations of the pattern string and repeating the the same process as above.<br>\n",
        "\n",
        "Please feel free to find out patterns and write similar functions for 'http','subscribe', etc and if possible send a pull request."
      ]
    },
    {
      "cell_type": "code",
      "metadata": {
        "ExecuteTime": {
          "end_time": "2021-04-03T11:08:10.701156Z",
          "start_time": "2021-04-03T11:08:10.686143Z"
        },
        "id": "DumNxb_PiEeN"
      },
      "source": [
        "#using regular expressions\n",
        "@labeling_function()\n",
        "def regex_check_out(x):\n",
        "    return SPAM if re.search(r\"check.*out\", x.text, flags=re.I) else ABSTAIN"
      ],
      "execution_count": null,
      "outputs": []
    },
    {
      "cell_type": "code",
      "metadata": {
        "ExecuteTime": {
          "end_time": "2021-04-03T11:08:10.764588Z",
          "start_time": "2021-04-03T11:08:10.702157Z"
        },
        "colab": {
          "base_uri": "https://localhost:8080/"
        },
        "id": "fkgLHcPgkkQV",
        "outputId": "23fb4f98-84b3-4798-9b39-eb7dd65a7c9f"
      },
      "source": [
        "lfs = [check_out, check, regex_check_out]\n",
        "\n",
        "applier = PandasLFApplier(lfs=lfs)\n",
        "L_train = applier.apply(df=df_train)"
      ],
      "execution_count": null,
      "outputs": [
        {
          "output_type": "stream",
          "text": [
            "100%|██████████| 1586/1586 [00:00<00:00, 22789.90it/s]\n"
          ],
          "name": "stderr"
        }
      ]
    },
    {
      "cell_type": "code",
      "metadata": {
        "ExecuteTime": {
          "end_time": "2021-04-03T11:08:10.780602Z",
          "start_time": "2021-04-03T11:08:10.765589Z"
        },
        "colab": {
          "base_uri": "https://localhost:8080/",
          "height": 136
        },
        "id": "854a-lHSkpB3",
        "outputId": "f1a69983-1858-447f-c1e6-0d57e99b81ec"
      },
      "source": [
        "LFAnalysis(L=L_train, lfs=lfs).lf_summary()"
      ],
      "execution_count": null,
      "outputs": [
        {
          "output_type": "execute_result",
          "data": {
            "text/html": [
              "<div>\n",
              "<style scoped>\n",
              "    .dataframe tbody tr th:only-of-type {\n",
              "        vertical-align: middle;\n",
              "    }\n",
              "\n",
              "    .dataframe tbody tr th {\n",
              "        vertical-align: top;\n",
              "    }\n",
              "\n",
              "    .dataframe thead th {\n",
              "        text-align: right;\n",
              "    }\n",
              "</style>\n",
              "<table border=\"1\" class=\"dataframe\">\n",
              "  <thead>\n",
              "    <tr style=\"text-align: right;\">\n",
              "      <th></th>\n",
              "      <th>j</th>\n",
              "      <th>Polarity</th>\n",
              "      <th>Coverage</th>\n",
              "      <th>Overlaps</th>\n",
              "      <th>Conflicts</th>\n",
              "    </tr>\n",
              "  </thead>\n",
              "  <tbody>\n",
              "    <tr>\n",
              "      <th>check_out</th>\n",
              "      <td>0</td>\n",
              "      <td>[1]</td>\n",
              "      <td>0.214376</td>\n",
              "      <td>0.214376</td>\n",
              "      <td>0.0</td>\n",
              "    </tr>\n",
              "    <tr>\n",
              "      <th>check</th>\n",
              "      <td>1</td>\n",
              "      <td>[1]</td>\n",
              "      <td>0.257881</td>\n",
              "      <td>0.233922</td>\n",
              "      <td>0.0</td>\n",
              "    </tr>\n",
              "    <tr>\n",
              "      <th>regex_check_out</th>\n",
              "      <td>2</td>\n",
              "      <td>[1]</td>\n",
              "      <td>0.233922</td>\n",
              "      <td>0.233922</td>\n",
              "      <td>0.0</td>\n",
              "    </tr>\n",
              "  </tbody>\n",
              "</table>\n",
              "</div>"
            ],
            "text/plain": [
              "                 j Polarity  Coverage  Overlaps  Conflicts\n",
              "check_out        0      [1]  0.214376  0.214376        0.0\n",
              "check            1      [1]  0.257881  0.233922        0.0\n",
              "regex_check_out  2      [1]  0.233922  0.233922        0.0"
            ]
          },
          "metadata": {
            "tags": []
          },
          "execution_count": 21
        }
      ]
    },
    {
      "cell_type": "code",
      "metadata": {
        "ExecuteTime": {
          "end_time": "2021-04-03T11:08:10.796616Z",
          "start_time": "2021-04-03T11:08:10.781603Z"
        },
        "colab": {
          "base_uri": "https://localhost:8080/",
          "height": 343
        },
        "id": "HaQZ-7PolblW",
        "outputId": "92212dd8-bc90-4495-a325-393e56f5997e"
      },
      "source": [
        "buckets = get_label_buckets(L_train[:, 1], L_train[:, 2])\n",
        "df_train.iloc[buckets[(SPAM, ABSTAIN)]].sample(10, random_state=2020)"
      ],
      "execution_count": null,
      "outputs": [
        {
          "output_type": "execute_result",
          "data": {
            "text/html": [
              "<div>\n",
              "<style scoped>\n",
              "    .dataframe tbody tr th:only-of-type {\n",
              "        vertical-align: middle;\n",
              "    }\n",
              "\n",
              "    .dataframe tbody tr th {\n",
              "        vertical-align: top;\n",
              "    }\n",
              "\n",
              "    .dataframe thead th {\n",
              "        text-align: right;\n",
              "    }\n",
              "</style>\n",
              "<table border=\"1\" class=\"dataframe\">\n",
              "  <thead>\n",
              "    <tr style=\"text-align: right;\">\n",
              "      <th></th>\n",
              "      <th>author</th>\n",
              "      <th>date</th>\n",
              "      <th>text</th>\n",
              "      <th>label</th>\n",
              "      <th>video</th>\n",
              "    </tr>\n",
              "  </thead>\n",
              "  <tbody>\n",
              "    <tr>\n",
              "      <th>112</th>\n",
              "      <td>ArioseRose</td>\n",
              "      <td>2014-11-13T15:20:31</td>\n",
              "      <td>Don't mind me, I'm just checking what the view...</td>\n",
              "      <td>-1.0</td>\n",
              "      <td>1</td>\n",
              "    </tr>\n",
              "    <tr>\n",
              "      <th>273</th>\n",
              "      <td>Artady</td>\n",
              "      <td>2014-08-11T16:27:55</td>\n",
              "      <td>https://soundcloud.com/artady please check my ...</td>\n",
              "      <td>-1.0</td>\n",
              "      <td>2</td>\n",
              "    </tr>\n",
              "    <tr>\n",
              "      <th>190</th>\n",
              "      <td>Warrdrew</td>\n",
              "      <td>2014-11-07T07:46:57</td>\n",
              "      <td>I'm here to check the views.. holy shit﻿</td>\n",
              "      <td>-1.0</td>\n",
              "      <td>1</td>\n",
              "    </tr>\n",
              "    <tr>\n",
              "      <th>146</th>\n",
              "      <td>Bob Kanowski</td>\n",
              "      <td>2013-11-28T12:33:27</td>\n",
              "      <td>i turned it on mute as soon is i came on i jus...</td>\n",
              "      <td>-1.0</td>\n",
              "      <td>1</td>\n",
              "    </tr>\n",
              "    <tr>\n",
              "      <th>139</th>\n",
              "      <td>MFkin PRXPHETZ</td>\n",
              "      <td>2014-01-20T09:08:39</td>\n",
              "      <td>if you like raw talent, raw lyrics, straight r...</td>\n",
              "      <td>-1.0</td>\n",
              "      <td>1</td>\n",
              "    </tr>\n",
              "    <tr>\n",
              "      <th>191</th>\n",
              "      <td>RezAIIDay</td>\n",
              "      <td>2014-11-05T22:50:58</td>\n",
              "      <td>Such a good song ans Katy sounds great over th...</td>\n",
              "      <td>-1.0</td>\n",
              "      <td>2</td>\n",
              "    </tr>\n",
              "    <tr>\n",
              "      <th>16</th>\n",
              "      <td>zhichao wang</td>\n",
              "      <td>2013-11-29T02:13:56</td>\n",
              "      <td>i think about 100 millions of the views come f...</td>\n",
              "      <td>-1.0</td>\n",
              "      <td>1</td>\n",
              "    </tr>\n",
              "    <tr>\n",
              "      <th>162</th>\n",
              "      <td>Owen Lai</td>\n",
              "      <td>2013-12-01T04:51:52</td>\n",
              "      <td>just checking the views﻿</td>\n",
              "      <td>-1.0</td>\n",
              "      <td>1</td>\n",
              "    </tr>\n",
              "    <tr>\n",
              "      <th>239</th>\n",
              "      <td>Cony</td>\n",
              "      <td>2013-11-28T16:01:47</td>\n",
              "      <td>You should check my channel for Funny VIDEOS!!﻿</td>\n",
              "      <td>-1.0</td>\n",
              "      <td>1</td>\n",
              "    </tr>\n",
              "    <tr>\n",
              "      <th>322</th>\n",
              "      <td>Minecraft-Viasat</td>\n",
              "      <td>2014-11-03T14:38:53</td>\n",
              "      <td>Check my channel﻿</td>\n",
              "      <td>-1.0</td>\n",
              "      <td>1</td>\n",
              "    </tr>\n",
              "  </tbody>\n",
              "</table>\n",
              "</div>"
            ],
            "text/plain": [
              "               author                 date  ... label  video\n",
              "112        ArioseRose  2014-11-13T15:20:31  ...  -1.0      1\n",
              "273            Artady  2014-08-11T16:27:55  ...  -1.0      2\n",
              "190          Warrdrew  2014-11-07T07:46:57  ...  -1.0      1\n",
              "146      Bob Kanowski  2013-11-28T12:33:27  ...  -1.0      1\n",
              "139    MFkin PRXPHETZ  2014-01-20T09:08:39  ...  -1.0      1\n",
              "191         RezAIIDay  2014-11-05T22:50:58  ...  -1.0      2\n",
              "16       zhichao wang  2013-11-29T02:13:56  ...  -1.0      1\n",
              "162          Owen Lai  2013-12-01T04:51:52  ...  -1.0      1\n",
              "239              Cony  2013-11-28T16:01:47  ...  -1.0      1\n",
              "322  Minecraft-Viasat  2014-11-03T14:38:53  ...  -1.0      1\n",
              "\n",
              "[10 rows x 5 columns]"
            ]
          },
          "metadata": {
            "tags": []
          },
          "execution_count": 22
        }
      ]
    },
    {
      "cell_type": "markdown",
      "metadata": {
        "id": "646laecIt2y4"
      },
      "source": [
        "Let's use a 3rd party model, TextBlob in this case, to write a labeling function. Snorkel makes this very simple to implement."
      ]
    },
    {
      "cell_type": "code",
      "metadata": {
        "ExecuteTime": {
          "end_time": "2021-04-03T11:08:10.812635Z",
          "start_time": "2021-04-03T11:08:10.798620Z"
        },
        "id": "oBMqQuBUmRz1"
      },
      "source": [
        "@preprocessor(memoize=True)\n",
        "def textblob_sentiment(x):\n",
        "    scores = TextBlob(x.text)\n",
        "    x.polarity = scores.sentiment.polarity\n",
        "    x.subjectivity = scores.sentiment.subjectivity\n",
        "    return x"
      ],
      "execution_count": null,
      "outputs": []
    },
    {
      "cell_type": "code",
      "metadata": {
        "ExecuteTime": {
          "end_time": "2021-04-03T11:08:10.828649Z",
          "start_time": "2021-04-03T11:08:10.814636Z"
        },
        "id": "u97Ql5_W6MNf"
      },
      "source": [
        "@labeling_function(pre=[textblob_sentiment])\n",
        "def textblob_polarity(x):\n",
        "    return HAM if x.polarity > 0.9 else ABSTAIN\n",
        "\n",
        "@labeling_function(pre=[textblob_sentiment])\n",
        "def textblob_subjectivity(x):\n",
        "    return HAM if x.subjectivity >= 0.5 else ABSTAIN\n"
      ],
      "execution_count": null,
      "outputs": []
    },
    {
      "cell_type": "code",
      "metadata": {
        "ExecuteTime": {
          "end_time": "2021-04-03T11:08:11.944367Z",
          "start_time": "2021-04-03T11:08:10.829650Z"
        },
        "colab": {
          "base_uri": "https://localhost:8080/"
        },
        "id": "2pJl0yod-qMe",
        "outputId": "b927d1cb-a39b-4119-c492-53fabc9e212a"
      },
      "source": [
        "lfs = [textblob_polarity, textblob_subjectivity]\n",
        "\n",
        "applier = PandasLFApplier(lfs)\n",
        "L_train = applier.apply(df_train)\n"
      ],
      "execution_count": null,
      "outputs": [
        {
          "output_type": "stream",
          "text": [
            "100%|██████████| 1586/1586 [00:01<00:00, 1088.23it/s]\n"
          ],
          "name": "stderr"
        }
      ]
    },
    {
      "cell_type": "code",
      "metadata": {
        "ExecuteTime": {
          "end_time": "2021-04-03T11:08:11.960383Z",
          "start_time": "2021-04-03T11:08:11.945370Z"
        },
        "colab": {
          "base_uri": "https://localhost:8080/",
          "height": 106
        },
        "id": "q5NVqhPr--EO",
        "outputId": "246bdc68-3388-4842-967a-860bd55bee33"
      },
      "source": [
        "LFAnalysis(L_train, lfs).lf_summary()"
      ],
      "execution_count": null,
      "outputs": [
        {
          "output_type": "execute_result",
          "data": {
            "text/html": [
              "<div>\n",
              "<style scoped>\n",
              "    .dataframe tbody tr th:only-of-type {\n",
              "        vertical-align: middle;\n",
              "    }\n",
              "\n",
              "    .dataframe tbody tr th {\n",
              "        vertical-align: top;\n",
              "    }\n",
              "\n",
              "    .dataframe thead th {\n",
              "        text-align: right;\n",
              "    }\n",
              "</style>\n",
              "<table border=\"1\" class=\"dataframe\">\n",
              "  <thead>\n",
              "    <tr style=\"text-align: right;\">\n",
              "      <th></th>\n",
              "      <th>j</th>\n",
              "      <th>Polarity</th>\n",
              "      <th>Coverage</th>\n",
              "      <th>Overlaps</th>\n",
              "      <th>Conflicts</th>\n",
              "    </tr>\n",
              "  </thead>\n",
              "  <tbody>\n",
              "    <tr>\n",
              "      <th>textblob_polarity</th>\n",
              "      <td>0</td>\n",
              "      <td>[0]</td>\n",
              "      <td>0.035309</td>\n",
              "      <td>0.013871</td>\n",
              "      <td>0.0</td>\n",
              "    </tr>\n",
              "    <tr>\n",
              "      <th>textblob_subjectivity</th>\n",
              "      <td>1</td>\n",
              "      <td>[0]</td>\n",
              "      <td>0.357503</td>\n",
              "      <td>0.013871</td>\n",
              "      <td>0.0</td>\n",
              "    </tr>\n",
              "  </tbody>\n",
              "</table>\n",
              "</div>"
            ],
            "text/plain": [
              "                       j Polarity  Coverage  Overlaps  Conflicts\n",
              "textblob_polarity      0      [0]  0.035309  0.013871        0.0\n",
              "textblob_subjectivity  1      [0]  0.357503  0.013871        0.0"
            ]
          },
          "metadata": {
            "tags": []
          },
          "execution_count": 26
        }
      ]
    },
    {
      "cell_type": "markdown",
      "metadata": {
        "id": "UZxFsE-vH47d"
      },
      "source": [
        "## Writing more labeling functions\n",
        "\n",
        "Single labeling functions arent enough to test the entire databsase with accuracy as they do not have enough coverage, we usually need to combine differnt labeling functions(more rubost and accurate ones) to get this done."
      ]
    },
    {
      "cell_type": "markdown",
      "metadata": {
        "id": "QuOJYTmNgjK5"
      },
      "source": [
        "**Keyword based labeling fucntions**: These are similar to the ones used befeore with the labeling_fucntion decorator. here we just make a few changes"
      ]
    },
    {
      "cell_type": "code",
      "metadata": {
        "ExecuteTime": {
          "end_time": "2021-04-03T11:08:11.976404Z",
          "start_time": "2021-04-03T11:08:11.961384Z"
        },
        "id": "MZNRemLj_Bx2"
      },
      "source": [
        "def keyword_lookup(x, keywords, label):\n",
        "    if any(word in x.text.lower() for word in keywords):\n",
        "        return label\n",
        "    return ABSTAIN\n",
        "\n",
        "\n",
        "def make_keyword_lf(keywords, label=SPAM):\n",
        "    return LabelingFunction(\n",
        "        name=f\"keyword_{keywords[0]}\",\n",
        "        f=keyword_lookup,\n",
        "        resources=dict(keywords=keywords, label=label),\n",
        "    )\n",
        "\n",
        "\n",
        "\"\"\"Spam comments talk about 'my channel', 'my video', etc.\"\"\"\n",
        "keyword_my = make_keyword_lf(keywords=[\"my\"])\n",
        "\n",
        "\"\"\"Spam comments ask users to subscribe to their channels.\"\"\"\n",
        "keyword_subscribe = make_keyword_lf(keywords=[\"subscribe\"])\n",
        "\n",
        "\"\"\"Spam comments post links to other channels.\"\"\"\n",
        "keyword_link = make_keyword_lf(keywords=[\"http\"])\n",
        "\n",
        "\"\"\"Spam comments make requests rather than commenting.\"\"\"\n",
        "keyword_please = make_keyword_lf(keywords=[\"please\", \"plz\"])\n",
        "\n",
        "\"\"\"Ham comments actually talk about the video's content.\"\"\"\n",
        "keyword_song = make_keyword_lf(keywords=[\"song\"], label=HAM)\n"
      ],
      "execution_count": null,
      "outputs": []
    },
    {
      "cell_type": "markdown",
      "metadata": {
        "id": "ZxDDetHLhp59"
      },
      "source": [
        "Modifying the above functions to use regualr expressions too would be an interesting exercise which we will leave to the reader.\n",
        "\n",
        "Having other methods such as a Rule of Thumb or Heuristics(length of text) could help too. These are not extremely accurate but will get the job done to a certain extent.\n",
        "\n",
        "An example is given below"
      ]
    },
    {
      "cell_type": "code",
      "metadata": {
        "ExecuteTime": {
          "end_time": "2021-04-03T11:08:11.992370Z",
          "start_time": "2021-04-03T11:08:11.977405Z"
        },
        "id": "ZeNvjhdkhUSK"
      },
      "source": [
        "@labeling_function()\n",
        "def short_comment(x):\n",
        "    \"\"\"Ham comments are often short, such as 'cool video!'\"\"\"\n",
        "    return HAM if len(x.text.split()) < 5 else ABSTAIN"
      ],
      "execution_count": null,
      "outputs": []
    },
    {
      "cell_type": "markdown",
      "metadata": {
        "id": "I3GOjwZtiwfw"
      },
      "source": [
        "We can also use NLP preprocessors such as spaCy to enrich our data and provide us with more fields to work on which will make the labeling a bit easier . "
      ]
    },
    {
      "cell_type": "code",
      "metadata": {
        "ExecuteTime": {
          "end_time": "2021-04-03T11:08:17.522364Z",
          "start_time": "2021-04-03T11:08:11.993372Z"
        },
        "id": "TZ2p4AW1iegt"
      },
      "source": [
        "# The SpacyPreprocessor parses the text in text_field and\n",
        "# stores the new enriched representation in doc_field\n",
        "spacy = SpacyPreprocessor(text_field=\"text\", doc_field=\"doc\", memoize=True)\n",
        "\n",
        "@labeling_function(pre=[spacy])\n",
        "def has_person(x):\n",
        "    \"\"\"Ham comments mention specific people and are short.\"\"\"\n",
        "    if len(x.doc) < 20 and any([ent.label_ == \"PERSON\" for ent in x.doc.ents]):\n",
        "        return HAM\n",
        "    else:\n",
        "        return ABSTAIN"
      ],
      "execution_count": null,
      "outputs": []
    },
    {
      "cell_type": "code",
      "metadata": {
        "ExecuteTime": {
          "end_time": "2021-04-03T11:08:22.239568Z",
          "start_time": "2021-04-03T11:08:17.523293Z"
        },
        "id": "Ya5diNfSlRA1"
      },
      "source": [
        "#snorkel has a pre built labeling function like decorator that uses spaCy as it is a very common nlp preprocessor\n",
        "\n",
        "@nlp_labeling_function()\n",
        "def has_person_nlp(x):\n",
        "    \"\"\"Ham comments mention specific people and are short.\"\"\"\n",
        "    if len(x.doc) < 20 and any([ent.label_ == \"PERSON\" for ent in x.doc.ents]):\n",
        "        return HAM\n",
        "    else:\n",
        "        return ABSTAIN\n"
      ],
      "execution_count": null,
      "outputs": []
    },
    {
      "cell_type": "markdown",
      "metadata": {
        "id": "yOL67OFB2N5b"
      },
      "source": [
        "## Outputs\n",
        "Let's move onto learning how we can go about combining labeling function outputs with labeling models.\n",
        "\n"
      ]
    },
    {
      "cell_type": "code",
      "metadata": {
        "ExecuteTime": {
          "end_time": "2021-04-03T11:08:22.255584Z",
          "start_time": "2021-04-03T11:08:22.240569Z"
        },
        "id": "HOFzxDkSlpiL"
      },
      "source": [
        "lfs = [\n",
        "    keyword_my,\n",
        "    keyword_subscribe,\n",
        "    keyword_link,\n",
        "    keyword_please,\n",
        "    keyword_song,\n",
        "    regex_check_out,\n",
        "    short_comment,\n",
        "    has_person_nlp,\n",
        "    textblob_polarity,\n",
        "    textblob_subjectivity,\n",
        "]\n"
      ],
      "execution_count": null,
      "outputs": []
    },
    {
      "cell_type": "code",
      "metadata": {
        "ExecuteTime": {
          "end_time": "2021-04-03T11:08:31.843559Z",
          "start_time": "2021-04-03T11:08:22.256584Z"
        },
        "colab": {
          "base_uri": "https://localhost:8080/"
        },
        "id": "W_y7ZTD43Ttp",
        "outputId": "8078dab7-62b8-4f60-ca71-de098f47def3"
      },
      "source": [
        "applier = PandasLFApplier(lfs=lfs)\n",
        "L_train = applier.apply(df=df_train)\n",
        "L_test = applier.apply(df=df_test)"
      ],
      "execution_count": null,
      "outputs": [
        {
          "output_type": "stream",
          "text": [
            "100%|██████████| 1586/1586 [00:17<00:00, 91.32it/s]\n",
            "100%|██████████| 250/250 [00:03<00:00, 78.62it/s]\n"
          ],
          "name": "stderr"
        }
      ]
    },
    {
      "cell_type": "code",
      "metadata": {
        "ExecuteTime": {
          "end_time": "2021-04-03T11:08:31.859574Z",
          "start_time": "2021-04-03T11:08:31.844561Z"
        },
        "colab": {
          "base_uri": "https://localhost:8080/",
          "height": 343
        },
        "id": "FXEDv6Nk3a9r",
        "outputId": "46d590c2-49df-4e43-c0c2-37e4c950bc2c"
      },
      "source": [
        "LFAnalysis(L=L_train, lfs=lfs).lf_summary()"
      ],
      "execution_count": null,
      "outputs": [
        {
          "output_type": "execute_result",
          "data": {
            "text/html": [
              "<div>\n",
              "<style scoped>\n",
              "    .dataframe tbody tr th:only-of-type {\n",
              "        vertical-align: middle;\n",
              "    }\n",
              "\n",
              "    .dataframe tbody tr th {\n",
              "        vertical-align: top;\n",
              "    }\n",
              "\n",
              "    .dataframe thead th {\n",
              "        text-align: right;\n",
              "    }\n",
              "</style>\n",
              "<table border=\"1\" class=\"dataframe\">\n",
              "  <thead>\n",
              "    <tr style=\"text-align: right;\">\n",
              "      <th></th>\n",
              "      <th>j</th>\n",
              "      <th>Polarity</th>\n",
              "      <th>Coverage</th>\n",
              "      <th>Overlaps</th>\n",
              "      <th>Conflicts</th>\n",
              "    </tr>\n",
              "  </thead>\n",
              "  <tbody>\n",
              "    <tr>\n",
              "      <th>keyword_my</th>\n",
              "      <td>0</td>\n",
              "      <td>[1]</td>\n",
              "      <td>0.198613</td>\n",
              "      <td>0.186003</td>\n",
              "      <td>0.110340</td>\n",
              "    </tr>\n",
              "    <tr>\n",
              "      <th>keyword_subscribe</th>\n",
              "      <td>1</td>\n",
              "      <td>[1]</td>\n",
              "      <td>0.127364</td>\n",
              "      <td>0.107818</td>\n",
              "      <td>0.068096</td>\n",
              "    </tr>\n",
              "    <tr>\n",
              "      <th>keyword_http</th>\n",
              "      <td>2</td>\n",
              "      <td>[1]</td>\n",
              "      <td>0.119168</td>\n",
              "      <td>0.102144</td>\n",
              "      <td>0.083228</td>\n",
              "    </tr>\n",
              "    <tr>\n",
              "      <th>keyword_please</th>\n",
              "      <td>3</td>\n",
              "      <td>[1]</td>\n",
              "      <td>0.112232</td>\n",
              "      <td>0.109710</td>\n",
              "      <td>0.057377</td>\n",
              "    </tr>\n",
              "    <tr>\n",
              "      <th>keyword_song</th>\n",
              "      <td>4</td>\n",
              "      <td>[0]</td>\n",
              "      <td>0.141866</td>\n",
              "      <td>0.111602</td>\n",
              "      <td>0.043506</td>\n",
              "    </tr>\n",
              "    <tr>\n",
              "      <th>regex_check_out</th>\n",
              "      <td>5</td>\n",
              "      <td>[1]</td>\n",
              "      <td>0.233922</td>\n",
              "      <td>0.133039</td>\n",
              "      <td>0.086381</td>\n",
              "    </tr>\n",
              "    <tr>\n",
              "      <th>short_comment</th>\n",
              "      <td>6</td>\n",
              "      <td>[0]</td>\n",
              "      <td>0.225725</td>\n",
              "      <td>0.144388</td>\n",
              "      <td>0.074401</td>\n",
              "    </tr>\n",
              "    <tr>\n",
              "      <th>has_person_nlp</th>\n",
              "      <td>7</td>\n",
              "      <td>[0]</td>\n",
              "      <td>0.082598</td>\n",
              "      <td>0.060530</td>\n",
              "      <td>0.025221</td>\n",
              "    </tr>\n",
              "    <tr>\n",
              "      <th>textblob_polarity</th>\n",
              "      <td>8</td>\n",
              "      <td>[0]</td>\n",
              "      <td>0.035309</td>\n",
              "      <td>0.032156</td>\n",
              "      <td>0.005044</td>\n",
              "    </tr>\n",
              "    <tr>\n",
              "      <th>textblob_subjectivity</th>\n",
              "      <td>9</td>\n",
              "      <td>[0]</td>\n",
              "      <td>0.357503</td>\n",
              "      <td>0.261665</td>\n",
              "      <td>0.160151</td>\n",
              "    </tr>\n",
              "  </tbody>\n",
              "</table>\n",
              "</div>"
            ],
            "text/plain": [
              "                       j Polarity  Coverage  Overlaps  Conflicts\n",
              "keyword_my             0      [1]  0.198613  0.186003   0.110340\n",
              "keyword_subscribe      1      [1]  0.127364  0.107818   0.068096\n",
              "keyword_http           2      [1]  0.119168  0.102144   0.083228\n",
              "keyword_please         3      [1]  0.112232  0.109710   0.057377\n",
              "keyword_song           4      [0]  0.141866  0.111602   0.043506\n",
              "regex_check_out        5      [1]  0.233922  0.133039   0.086381\n",
              "short_comment          6      [0]  0.225725  0.144388   0.074401\n",
              "has_person_nlp         7      [0]  0.082598  0.060530   0.025221\n",
              "textblob_polarity      8      [0]  0.035309  0.032156   0.005044\n",
              "textblob_subjectivity  9      [0]  0.357503  0.261665   0.160151"
            ]
          },
          "metadata": {
            "tags": []
          },
          "execution_count": 33
        }
      ]
    },
    {
      "cell_type": "markdown",
      "metadata": {
        "id": "fZ1F_FeH3s2-"
      },
      "source": [
        "We plot a histogram to get an idea about the coverages of the labeling functions"
      ]
    },
    {
      "cell_type": "code",
      "metadata": {
        "ExecuteTime": {
          "end_time": "2021-04-03T11:08:31.955661Z",
          "start_time": "2021-04-03T11:08:31.860575Z"
        },
        "colab": {
          "base_uri": "https://localhost:8080/",
          "height": 281
        },
        "id": "Cer6qKcD3m_I",
        "outputId": "d1179a55-2a23-41d9-a737-dca1c5bad3ac"
      },
      "source": [
        "def plot_label_frequency(L):\n",
        "    plt.hist((L != ABSTAIN).sum(axis=1), density=True, bins=range(L.shape[1]))\n",
        "    plt.xlabel(\"Number of labels\")\n",
        "    plt.ylabel(\"Fraction of dataset\")\n",
        "    plt.show()\n",
        "\n",
        "\n",
        "plot_label_frequency(L_train)"
      ],
      "execution_count": null,
      "outputs": [
        {
          "output_type": "display_data",
          "data": {
            "image/png": "[encoded data removed]",
            "text/plain": [
              "<Figure size 432x288 with 1 Axes>"
            ]
          },
          "metadata": {
            "tags": [],
            "needs_background": "light"
          }
        }
      ]
    },
    {
      "cell_type": "markdown",
      "metadata": {
        "id": "lNacdVnl4-ys"
      },
      "source": [
        "We now convert the labels from our labeling functions to a single noise-aware probabilistic label per data. we do so by taking a majority vote on what the data should be labeled as .i.e if more labeling functions agree that the text/data is spam , then we label it as spam"
      ]
    },
    {
      "cell_type": "code",
      "metadata": {
        "ExecuteTime": {
          "end_time": "2021-04-03T11:08:31.987553Z",
          "start_time": "2021-04-03T11:08:31.956662Z"
        },
        "id": "Z-2jteSi3saV"
      },
      "source": [
        "majority_model = MajorityLabelVoter()\n",
        "preds_train = majority_model.predict(L=L_train)"
      ],
      "execution_count": null,
      "outputs": []
    },
    {
      "cell_type": "code",
      "metadata": {
        "ExecuteTime": {
          "end_time": "2021-04-03T11:08:32.003574Z",
          "start_time": "2021-04-03T11:08:31.988554Z"
        },
        "colab": {
          "base_uri": "https://localhost:8080/"
        },
        "id": "QFjnaR6Q3-Qh",
        "outputId": "2db45f68-bfc1-45f5-d113-7ff1d9670553"
      },
      "source": [
        "preds_train"
      ],
      "execution_count": null,
      "outputs": [
        {
          "output_type": "execute_result",
          "data": {
            "text/plain": [
              "array([ 1,  1, -1, ...,  1,  1,  1])"
            ]
          },
          "metadata": {
            "tags": []
          },
          "execution_count": 36
        }
      ]
    },
    {
      "cell_type": "markdown",
      "metadata": {
        "id": "bFwzHcVQ6MiI"
      },
      "source": [
        "However there may be functions that are correlated and might give a false sense of majority , to handle this we use a differernt snorkel label model to comine inputs of the labeling functions."
      ]
    },
    {
      "cell_type": "code",
      "metadata": {
        "ExecuteTime": {
          "end_time": "2021-04-03T11:08:32.305858Z",
          "start_time": "2021-04-03T11:08:32.004576Z"
        },
        "id": "9M352m7Z5jQM"
      },
      "source": [
        "label_model = LabelModel(cardinality=2, verbose=True)\n",
        "label_model.fit(L_train=L_train, n_epochs=500, log_freq=100, seed=123)"
      ],
      "execution_count": null,
      "outputs": []
    },
    {
      "cell_type": "code",
      "metadata": {
        "ExecuteTime": {
          "end_time": "2021-04-03T11:08:32.321761Z",
          "start_time": "2021-04-03T11:08:32.306859Z"
        },
        "colab": {
          "base_uri": "https://localhost:8080/"
        },
        "id": "wjdlmw9r6oDh",
        "outputId": "2355c39b-af63-41b4-d41e-8252eb2b8094"
      },
      "source": [
        "majority_acc = majority_model.score(L=L_test, Y=Y_test, tie_break_policy=\"random\")[\"accuracy\"]\n",
        "print(f\"{'Majority Vote Accuracy:':<25} {majority_acc * 100:.1f}%\")\n",
        "\n",
        "label_model_acc = label_model.score(L=L_test, Y=Y_test, tie_break_policy=\"random\")[\"accuracy\"]\n",
        "print(f\"{'Label Model Accuracy:':<25} {label_model_acc * 100:.1f}%\")"
      ],
      "execution_count": null,
      "outputs": [
        {
          "output_type": "stream",
          "text": [
            "Majority Vote Accuracy:   84.0%\n",
            "Label Model Accuracy:     86.4%\n"
          ],
          "name": "stdout"
        }
      ]
    },
    {
      "cell_type": "markdown",
      "metadata": {
        "id": "v5Lcyg-Q622K"
      },
      "source": [
        "We plot another graph to see the confidences that each data point is a spam"
      ]
    },
    {
      "cell_type": "code",
      "metadata": {
        "ExecuteTime": {
          "end_time": "2021-04-03T11:08:32.417848Z",
          "start_time": "2021-04-03T11:08:32.322762Z"
        },
        "colab": {
          "base_uri": "https://localhost:8080/",
          "height": 279
        },
        "id": "nFr84u3m6qt_",
        "outputId": "e76960e4-0638-4e52-b7dd-ebb34e4aee50"
      },
      "source": [
        "def plot_probabilities_histogram(Y):\n",
        "    plt.hist(Y, bins=10)\n",
        "    plt.xlabel(\"Probability of SPAM\")\n",
        "    plt.ylabel(\"Number of data points\")\n",
        "    plt.show()\n",
        "\n",
        "probs_train = label_model.predict_proba(L=L_train)\n",
        "plot_probabilities_histogram(probs_train[:, SPAM])\n"
      ],
      "execution_count": null,
      "outputs": [
        {
          "output_type": "display_data",
          "data": {
            "image/png": "[encoded data removed]",
            "text/plain": [
              "<Figure size 432x288 with 1 Axes>"
            ]
          },
          "metadata": {
            "tags": [],
            "needs_background": "light"
          }
        }
      ]
    },
    {
      "cell_type": "markdown",
      "metadata": {
        "id": "CO3RyIU77LYn"
      },
      "source": [
        "There might be some data which do not get any label from the functions , we filter them out as follows"
      ]
    },
    {
      "cell_type": "code",
      "metadata": {
        "ExecuteTime": {
          "end_time": "2021-04-03T11:08:32.433862Z",
          "start_time": "2021-04-03T11:08:32.418849Z"
        },
        "id": "hm2Uwog27Dbf"
      },
      "source": [
        "df_train_filtered, probs_train_filtered = filter_unlabeled_dataframe(\n",
        "    X=df_train, y=probs_train, L=L_train\n",
        ")"
      ],
      "execution_count": null,
      "outputs": []
    },
    {
      "cell_type": "markdown",
      "metadata": {
        "id": "F7b3d4pz8Zcq"
      },
      "source": [
        "## Training a classifier\n",
        "In this section we use the probabilistic training labels we generated to train a classifier. for demonstration we use Scikit-Learn.<br>\n",
        "_Note:Do not worry if you do not understand what a classifier is. We cover all of this in Chapter 4. Please read Ch4 and look at the jupyter notebooks in Ch4._"
      ]
    },
    {
      "cell_type": "code",
      "metadata": {
        "ExecuteTime": {
          "end_time": "2021-04-03T11:08:32.610022Z",
          "start_time": "2021-04-03T11:08:32.434863Z"
        },
        "id": "9Rz10tgs7V54"
      },
      "source": [
        "vectorizer = CountVectorizer(ngram_range=(1, 5))\n",
        "X_train = vectorizer.fit_transform(df_train_filtered.text.tolist())\n",
        "X_test = vectorizer.transform(df_test.text.tolist())\n"
      ],
      "execution_count": null,
      "outputs": []
    },
    {
      "cell_type": "code",
      "metadata": {
        "ExecuteTime": {
          "end_time": "2021-04-03T11:08:32.625459Z",
          "start_time": "2021-04-03T11:08:32.611023Z"
        },
        "id": "m07Vm3QS9FKz"
      },
      "source": [
        "preds_train_filtered = probs_to_preds(probs=probs_train_filtered)"
      ],
      "execution_count": null,
      "outputs": []
    },
    {
      "cell_type": "code",
      "metadata": {
        "ExecuteTime": {
          "end_time": "2021-04-03T11:08:32.801619Z",
          "start_time": "2021-04-03T11:08:32.626460Z"
        },
        "colab": {
          "base_uri": "https://localhost:8080/"
        },
        "id": "aHmJLIf69HR6",
        "outputId": "53ff1b0d-ea89-493b-c23b-fb6db18502be"
      },
      "source": [
        "sklearn_model = LogisticRegression(C=1e3, solver=\"liblinear\")\n",
        "sklearn_model.fit(X=X_train, y=preds_train_filtered)"
      ],
      "execution_count": null,
      "outputs": [
        {
          "output_type": "execute_result",
          "data": {
            "text/plain": [
              "LogisticRegression(C=1000.0, class_weight=None, dual=False, fit_intercept=True,\n",
              "                   intercept_scaling=1, l1_ratio=None, max_iter=100,\n",
              "                   multi_class='warn', n_jobs=None, penalty='l2',\n",
              "                   random_state=None, solver='liblinear', tol=0.0001, verbose=0,\n",
              "                   warm_start=False)"
            ]
          },
          "metadata": {
            "tags": []
          },
          "execution_count": 43
        }
      ]
    },
    {
      "cell_type": "code",
      "metadata": {
        "ExecuteTime": {
          "end_time": "2021-04-03T11:08:32.816766Z",
          "start_time": "2021-04-03T11:08:32.802621Z"
        },
        "colab": {
          "base_uri": "https://localhost:8080/"
        },
        "id": "aKtmNBiw9KMa",
        "outputId": "8a2f9174-0540-4356-c59c-fdeb3201ce5e"
      },
      "source": [
        "print(f\"Test Accuracy: {sklearn_model.score(X=X_test, y=Y_test) * 100:.1f}%\")\n"
      ],
      "execution_count": null,
      "outputs": [
        {
          "output_type": "stream",
          "text": [
            "Test Accuracy: 94.0%\n"
          ],
          "name": "stdout"
        }
      ]
    },
    {
      "cell_type": "markdown",
      "metadata": {
        "id": "gsJyOFNTJNXf"
      },
      "source": [
        "We have just scratched the surface on what snorkel can do. We highly recommend going through their [github](https://github.com/snorkel-team/snorkel) and [tutorials](https://github.com/snorkel-team/snorkel-tutorials)."
      ]
    }
  ]
}