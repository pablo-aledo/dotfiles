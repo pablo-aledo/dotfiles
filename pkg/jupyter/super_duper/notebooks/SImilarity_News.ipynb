{
  "nbformat": 4,
  "nbformat_minor": 0,
  "metadata": {
    "colab": {
      "name": "SImilarity_News.ipynb",
      "provenance": [],
      "collapsed_sections": []
    },
    "kernelspec": {
      "name": "python3",
      "display_name": "Python 3"
    },
    "accelerator": "GPU",
    "widgets": {
      "application/vnd.jupyter.widget-state+json": {
        "cd1bf954a8b74094abacfeb3f0542842": {
          "model_module": "@jupyter-widgets/controls",
          "model_name": "HBoxModel",
          "state": {
            "_view_name": "HBoxView",
            "_dom_classes": [],
            "_model_name": "HBoxModel",
            "_view_module": "@jupyter-widgets/controls",
            "_model_module_version": "1.5.0",
            "_view_count": null,
            "_view_module_version": "1.5.0",
            "box_style": "",
            "layout": "IPY_MODEL_841bb4f7a61c4e3e9bf4283728b4c05f",
            "_model_module": "@jupyter-widgets/controls",
            "children": [
              "IPY_MODEL_b631c2f3df4b443d9780bce74c14b859",
              "IPY_MODEL_b79357b1fd354dc5a5e0f04be8d27dc0"
            ]
          }
        },
        "841bb4f7a61c4e3e9bf4283728b4c05f": {
          "model_module": "@jupyter-widgets/base",
          "model_name": "LayoutModel",
          "state": {
            "_view_name": "LayoutView",
            "grid_template_rows": null,
            "right": null,
            "justify_content": null,
            "_view_module": "@jupyter-widgets/base",
            "overflow": null,
            "_model_module_version": "1.2.0",
            "_view_count": null,
            "flex_flow": null,
            "width": null,
            "min_width": null,
            "border": null,
            "align_items": null,
            "bottom": null,
            "_model_module": "@jupyter-widgets/base",
            "top": null,
            "grid_column": null,
            "overflow_y": null,
            "overflow_x": null,
            "grid_auto_flow": null,
            "grid_area": null,
            "grid_template_columns": null,
            "flex": null,
            "_model_name": "LayoutModel",
            "justify_items": null,
            "grid_row": null,
            "max_height": null,
            "align_content": null,
            "visibility": null,
            "align_self": null,
            "height": null,
            "min_height": null,
            "padding": null,
            "grid_auto_rows": null,
            "grid_gap": null,
            "max_width": null,
            "order": null,
            "_view_module_version": "1.2.0",
            "grid_template_areas": null,
            "object_position": null,
            "object_fit": null,
            "grid_auto_columns": null,
            "margin": null,
            "display": null,
            "left": null
          }
        },
        "b631c2f3df4b443d9780bce74c14b859": {
          "model_module": "@jupyter-widgets/controls",
          "model_name": "FloatProgressModel",
          "state": {
            "_view_name": "ProgressView",
            "style": "IPY_MODEL_3655f57415d54da0952eb86b4d82dcc8",
            "_dom_classes": [],
            "description": "Downloading: 100%",
            "_model_name": "FloatProgressModel",
            "bar_style": "success",
            "max": 434,
            "_view_module": "@jupyter-widgets/controls",
            "_model_module_version": "1.5.0",
            "value": 434,
            "_view_count": null,
            "_view_module_version": "1.5.0",
            "orientation": "horizontal",
            "min": 0,
            "description_tooltip": null,
            "_model_module": "@jupyter-widgets/controls",
            "layout": "IPY_MODEL_3773d561e38d47b7a59e55d127f4b4d9"
          }
        },
        "b79357b1fd354dc5a5e0f04be8d27dc0": {
          "model_module": "@jupyter-widgets/controls",
          "model_name": "HTMLModel",
          "state": {
            "_view_name": "HTMLView",
            "style": "IPY_MODEL_923d0f8f5b14463e86276f33287da48a",
            "_dom_classes": [],
            "description": "",
            "_model_name": "HTMLModel",
            "placeholder": "​",
            "_view_module": "@jupyter-widgets/controls",
            "_model_module_version": "1.5.0",
            "value": " 434/434 [00:00&lt;00:00, 652B/s]",
            "_view_count": null,
            "_view_module_version": "1.5.0",
            "description_tooltip": null,
            "_model_module": "@jupyter-widgets/controls",
            "layout": "IPY_MODEL_9bb141291a3d4774b5ac38ea7b09a368"
          }
        },
        "3655f57415d54da0952eb86b4d82dcc8": {
          "model_module": "@jupyter-widgets/controls",
          "model_name": "ProgressStyleModel",
          "state": {
            "_view_name": "StyleView",
            "_model_name": "ProgressStyleModel",
            "description_width": "initial",
            "_view_module": "@jupyter-widgets/base",
            "_model_module_version": "1.5.0",
            "_view_count": null,
            "_view_module_version": "1.2.0",
            "bar_color": null,
            "_model_module": "@jupyter-widgets/controls"
          }
        },
        "3773d561e38d47b7a59e55d127f4b4d9": {
          "model_module": "@jupyter-widgets/base",
          "model_name": "LayoutModel",
          "state": {
            "_view_name": "LayoutView",
            "grid_template_rows": null,
            "right": null,
            "justify_content": null,
            "_view_module": "@jupyter-widgets/base",
            "overflow": null,
            "_model_module_version": "1.2.0",
            "_view_count": null,
            "flex_flow": null,
            "width": null,
            "min_width": null,
            "border": null,
            "align_items": null,
            "bottom": null,
            "_model_module": "@jupyter-widgets/base",
            "top": null,
            "grid_column": null,
            "overflow_y": null,
            "overflow_x": null,
            "grid_auto_flow": null,
            "grid_area": null,
            "grid_template_columns": null,
            "flex": null,
            "_model_name": "LayoutModel",
            "justify_items": null,
            "grid_row": null,
            "max_height": null,
            "align_content": null,
            "visibility": null,
            "align_self": null,
            "height": null,
            "min_height": null,
            "padding": null,
            "grid_auto_rows": null,
            "grid_gap": null,
            "max_width": null,
            "order": null,
            "_view_module_version": "1.2.0",
            "grid_template_areas": null,
            "object_position": null,
            "object_fit": null,
            "grid_auto_columns": null,
            "margin": null,
            "display": null,
            "left": null
          }
        },
        "923d0f8f5b14463e86276f33287da48a": {
          "model_module": "@jupyter-widgets/controls",
          "model_name": "DescriptionStyleModel",
          "state": {
            "_view_name": "StyleView",
            "_model_name": "DescriptionStyleModel",
            "description_width": "",
            "_view_module": "@jupyter-widgets/base",
            "_model_module_version": "1.5.0",
            "_view_count": null,
            "_view_module_version": "1.2.0",
            "_model_module": "@jupyter-widgets/controls"
          }
        },
        "9bb141291a3d4774b5ac38ea7b09a368": {
          "model_module": "@jupyter-widgets/base",
          "model_name": "LayoutModel",
          "state": {
            "_view_name": "LayoutView",
            "grid_template_rows": null,
            "right": null,
            "justify_content": null,
            "_view_module": "@jupyter-widgets/base",
            "overflow": null,
            "_model_module_version": "1.2.0",
            "_view_count": null,
            "flex_flow": null,
            "width": null,
            "min_width": null,
            "border": null,
            "align_items": null,
            "bottom": null,
            "_model_module": "@jupyter-widgets/base",
            "top": null,
            "grid_column": null,
            "overflow_y": null,
            "overflow_x": null,
            "grid_auto_flow": null,
            "grid_area": null,
            "grid_template_columns": null,
            "flex": null,
            "_model_name": "LayoutModel",
            "justify_items": null,
            "grid_row": null,
            "max_height": null,
            "align_content": null,
            "visibility": null,
            "align_self": null,
            "height": null,
            "min_height": null,
            "padding": null,
            "grid_auto_rows": null,
            "grid_gap": null,
            "max_width": null,
            "order": null,
            "_view_module_version": "1.2.0",
            "grid_template_areas": null,
            "object_position": null,
            "object_fit": null,
            "grid_auto_columns": null,
            "margin": null,
            "display": null,
            "left": null
          }
        },
        "7519a758473445ceac72b34392c53dfd": {
          "model_module": "@jupyter-widgets/controls",
          "model_name": "HBoxModel",
          "state": {
            "_view_name": "HBoxView",
            "_dom_classes": [],
            "_model_name": "HBoxModel",
            "_view_module": "@jupyter-widgets/controls",
            "_model_module_version": "1.5.0",
            "_view_count": null,
            "_view_module_version": "1.5.0",
            "box_style": "",
            "layout": "IPY_MODEL_e961f4bca5814d86858224f25d50ee65",
            "_model_module": "@jupyter-widgets/controls",
            "children": [
              "IPY_MODEL_66da3d868fc74f348dca41822d17a72a",
              "IPY_MODEL_eab70c1e33fb4c82a44da10859d4fbfe"
            ]
          }
        },
        "e961f4bca5814d86858224f25d50ee65": {
          "model_module": "@jupyter-widgets/base",
          "model_name": "LayoutModel",
          "state": {
            "_view_name": "LayoutView",
            "grid_template_rows": null,
            "right": null,
            "justify_content": null,
            "_view_module": "@jupyter-widgets/base",
            "overflow": null,
            "_model_module_version": "1.2.0",
            "_view_count": null,
            "flex_flow": null,
            "width": null,
            "min_width": null,
            "border": null,
            "align_items": null,
            "bottom": null,
            "_model_module": "@jupyter-widgets/base",
            "top": null,
            "grid_column": null,
            "overflow_y": null,
            "overflow_x": null,
            "grid_auto_flow": null,
            "grid_area": null,
            "grid_template_columns": null,
            "flex": null,
            "_model_name": "LayoutModel",
            "justify_items": null,
            "grid_row": null,
            "max_height": null,
            "align_content": null,
            "visibility": null,
            "align_self": null,
            "height": null,
            "min_height": null,
            "padding": null,
            "grid_auto_rows": null,
            "grid_gap": null,
            "max_width": null,
            "order": null,
            "_view_module_version": "1.2.0",
            "grid_template_areas": null,
            "object_position": null,
            "object_fit": null,
            "grid_auto_columns": null,
            "margin": null,
            "display": null,
            "left": null
          }
        },
        "66da3d868fc74f348dca41822d17a72a": {
          "model_module": "@jupyter-widgets/controls",
          "model_name": "FloatProgressModel",
          "state": {
            "_view_name": "ProgressView",
            "style": "IPY_MODEL_84534de060ae46d3bc12a1c5e0597ebe",
            "_dom_classes": [],
            "description": "Downloading: 100%",
            "_model_name": "FloatProgressModel",
            "bar_style": "success",
            "max": 1344997306,
            "_view_module": "@jupyter-widgets/controls",
            "_model_module_version": "1.5.0",
            "value": 1344997306,
            "_view_count": null,
            "_view_module_version": "1.5.0",
            "orientation": "horizontal",
            "min": 0,
            "description_tooltip": null,
            "_model_module": "@jupyter-widgets/controls",
            "layout": "IPY_MODEL_2e29121561384ddba50b3b2b4ec0b1bf"
          }
        },
        "eab70c1e33fb4c82a44da10859d4fbfe": {
          "model_module": "@jupyter-widgets/controls",
          "model_name": "HTMLModel",
          "state": {
            "_view_name": "HTMLView",
            "style": "IPY_MODEL_d91fed8cc9954ae0816ea4f3a4834b73",
            "_dom_classes": [],
            "description": "",
            "_model_name": "HTMLModel",
            "placeholder": "​",
            "_view_module": "@jupyter-widgets/controls",
            "_model_module_version": "1.5.0",
            "value": " 1.34G/1.34G [00:50&lt;00:00, 26.5MB/s]",
            "_view_count": null,
            "_view_module_version": "1.5.0",
            "description_tooltip": null,
            "_model_module": "@jupyter-widgets/controls",
            "layout": "IPY_MODEL_2a2d654510bb44089f93df6dae5d5a3c"
          }
        },
        "84534de060ae46d3bc12a1c5e0597ebe": {
          "model_module": "@jupyter-widgets/controls",
          "model_name": "ProgressStyleModel",
          "state": {
            "_view_name": "StyleView",
            "_model_name": "ProgressStyleModel",
            "description_width": "initial",
            "_view_module": "@jupyter-widgets/base",
            "_model_module_version": "1.5.0",
            "_view_count": null,
            "_view_module_version": "1.2.0",
            "bar_color": null,
            "_model_module": "@jupyter-widgets/controls"
          }
        },
        "2e29121561384ddba50b3b2b4ec0b1bf": {
          "model_module": "@jupyter-widgets/base",
          "model_name": "LayoutModel",
          "state": {
            "_view_name": "LayoutView",
            "grid_template_rows": null,
            "right": null,
            "justify_content": null,
            "_view_module": "@jupyter-widgets/base",
            "overflow": null,
            "_model_module_version": "1.2.0",
            "_view_count": null,
            "flex_flow": null,
            "width": null,
            "min_width": null,
            "border": null,
            "align_items": null,
            "bottom": null,
            "_model_module": "@jupyter-widgets/base",
            "top": null,
            "grid_column": null,
            "overflow_y": null,
            "overflow_x": null,
            "grid_auto_flow": null,
            "grid_area": null,
            "grid_template_columns": null,
            "flex": null,
            "_model_name": "LayoutModel",
            "justify_items": null,
            "grid_row": null,
            "max_height": null,
            "align_content": null,
            "visibility": null,
            "align_self": null,
            "height": null,
            "min_height": null,
            "padding": null,
            "grid_auto_rows": null,
            "grid_gap": null,
            "max_width": null,
            "order": null,
            "_view_module_version": "1.2.0",
            "grid_template_areas": null,
            "object_position": null,
            "object_fit": null,
            "grid_auto_columns": null,
            "margin": null,
            "display": null,
            "left": null
          }
        },
        "d91fed8cc9954ae0816ea4f3a4834b73": {
          "model_module": "@jupyter-widgets/controls",
          "model_name": "DescriptionStyleModel",
          "state": {
            "_view_name": "StyleView",
            "_model_name": "DescriptionStyleModel",
            "description_width": "",
            "_view_module": "@jupyter-widgets/base",
            "_model_module_version": "1.5.0",
            "_view_count": null,
            "_view_module_version": "1.2.0",
            "_model_module": "@jupyter-widgets/controls"
          }
        },
        "2a2d654510bb44089f93df6dae5d5a3c": {
          "model_module": "@jupyter-widgets/base",
          "model_name": "LayoutModel",
          "state": {
            "_view_name": "LayoutView",
            "grid_template_rows": null,
            "right": null,
            "justify_content": null,
            "_view_module": "@jupyter-widgets/base",
            "overflow": null,
            "_model_module_version": "1.2.0",
            "_view_count": null,
            "flex_flow": null,
            "width": null,
            "min_width": null,
            "border": null,
            "align_items": null,
            "bottom": null,
            "_model_module": "@jupyter-widgets/base",
            "top": null,
            "grid_column": null,
            "overflow_y": null,
            "overflow_x": null,
            "grid_auto_flow": null,
            "grid_area": null,
            "grid_template_columns": null,
            "flex": null,
            "_model_name": "LayoutModel",
            "justify_items": null,
            "grid_row": null,
            "max_height": null,
            "align_content": null,
            "visibility": null,
            "align_self": null,
            "height": null,
            "min_height": null,
            "padding": null,
            "grid_auto_rows": null,
            "grid_gap": null,
            "max_width": null,
            "order": null,
            "_view_module_version": "1.2.0",
            "grid_template_areas": null,
            "object_position": null,
            "object_fit": null,
            "grid_auto_columns": null,
            "margin": null,
            "display": null,
            "left": null
          }
        },
        "0e70e6467c4440fa87f7b42ef3547770": {
          "model_module": "@jupyter-widgets/controls",
          "model_name": "HBoxModel",
          "state": {
            "_view_name": "HBoxView",
            "_dom_classes": [],
            "_model_name": "HBoxModel",
            "_view_module": "@jupyter-widgets/controls",
            "_model_module_version": "1.5.0",
            "_view_count": null,
            "_view_module_version": "1.5.0",
            "box_style": "",
            "layout": "IPY_MODEL_b65d8523776b404e953f04fb5a0b6ff4",
            "_model_module": "@jupyter-widgets/controls",
            "children": [
              "IPY_MODEL_ecacd615a8b548f6a5f5d3df54427162",
              "IPY_MODEL_c5a35aab83954becb78b6f83d4949b4c"
            ]
          }
        },
        "b65d8523776b404e953f04fb5a0b6ff4": {
          "model_module": "@jupyter-widgets/base",
          "model_name": "LayoutModel",
          "state": {
            "_view_name": "LayoutView",
            "grid_template_rows": null,
            "right": null,
            "justify_content": null,
            "_view_module": "@jupyter-widgets/base",
            "overflow": null,
            "_model_module_version": "1.2.0",
            "_view_count": null,
            "flex_flow": null,
            "width": null,
            "min_width": null,
            "border": null,
            "align_items": null,
            "bottom": null,
            "_model_module": "@jupyter-widgets/base",
            "top": null,
            "grid_column": null,
            "overflow_y": null,
            "overflow_x": null,
            "grid_auto_flow": null,
            "grid_area": null,
            "grid_template_columns": null,
            "flex": null,
            "_model_name": "LayoutModel",
            "justify_items": null,
            "grid_row": null,
            "max_height": null,
            "align_content": null,
            "visibility": null,
            "align_self": null,
            "height": null,
            "min_height": null,
            "padding": null,
            "grid_auto_rows": null,
            "grid_gap": null,
            "max_width": null,
            "order": null,
            "_view_module_version": "1.2.0",
            "grid_template_areas": null,
            "object_position": null,
            "object_fit": null,
            "grid_auto_columns": null,
            "margin": null,
            "display": null,
            "left": null
          }
        },
        "ecacd615a8b548f6a5f5d3df54427162": {
          "model_module": "@jupyter-widgets/controls",
          "model_name": "FloatProgressModel",
          "state": {
            "_view_name": "ProgressView",
            "style": "IPY_MODEL_28525e0ea93d46de9a00a94f39c71787",
            "_dom_classes": [],
            "description": "Downloading: 100%",
            "_model_name": "FloatProgressModel",
            "bar_style": "success",
            "max": 231508,
            "_view_module": "@jupyter-widgets/controls",
            "_model_module_version": "1.5.0",
            "value": 231508,
            "_view_count": null,
            "_view_module_version": "1.5.0",
            "orientation": "horizontal",
            "min": 0,
            "description_tooltip": null,
            "_model_module": "@jupyter-widgets/controls",
            "layout": "IPY_MODEL_8d4c933b104b48e995c542d4b823278f"
          }
        },
        "c5a35aab83954becb78b6f83d4949b4c": {
          "model_module": "@jupyter-widgets/controls",
          "model_name": "HTMLModel",
          "state": {
            "_view_name": "HTMLView",
            "style": "IPY_MODEL_ba13e4a9822e4e4892cf5a1d93050a95",
            "_dom_classes": [],
            "description": "",
            "_model_name": "HTMLModel",
            "placeholder": "​",
            "_view_module": "@jupyter-widgets/controls",
            "_model_module_version": "1.5.0",
            "value": " 232k/232k [00:00&lt;00:00, 563kB/s]",
            "_view_count": null,
            "_view_module_version": "1.5.0",
            "description_tooltip": null,
            "_model_module": "@jupyter-widgets/controls",
            "layout": "IPY_MODEL_34892fc2103c4b9784c3eb208fe8d4a1"
          }
        },
        "28525e0ea93d46de9a00a94f39c71787": {
          "model_module": "@jupyter-widgets/controls",
          "model_name": "ProgressStyleModel",
          "state": {
            "_view_name": "StyleView",
            "_model_name": "ProgressStyleModel",
            "description_width": "initial",
            "_view_module": "@jupyter-widgets/base",
            "_model_module_version": "1.5.0",
            "_view_count": null,
            "_view_module_version": "1.2.0",
            "bar_color": null,
            "_model_module": "@jupyter-widgets/controls"
          }
        },
        "8d4c933b104b48e995c542d4b823278f": {
          "model_module": "@jupyter-widgets/base",
          "model_name": "LayoutModel",
          "state": {
            "_view_name": "LayoutView",
            "grid_template_rows": null,
            "right": null,
            "justify_content": null,
            "_view_module": "@jupyter-widgets/base",
            "overflow": null,
            "_model_module_version": "1.2.0",
            "_view_count": null,
            "flex_flow": null,
            "width": null,
            "min_width": null,
            "border": null,
            "align_items": null,
            "bottom": null,
            "_model_module": "@jupyter-widgets/base",
            "top": null,
            "grid_column": null,
            "overflow_y": null,
            "overflow_x": null,
            "grid_auto_flow": null,
            "grid_area": null,
            "grid_template_columns": null,
            "flex": null,
            "_model_name": "LayoutModel",
            "justify_items": null,
            "grid_row": null,
            "max_height": null,
            "align_content": null,
            "visibility": null,
            "align_self": null,
            "height": null,
            "min_height": null,
            "padding": null,
            "grid_auto_rows": null,
            "grid_gap": null,
            "max_width": null,
            "order": null,
            "_view_module_version": "1.2.0",
            "grid_template_areas": null,
            "object_position": null,
            "object_fit": null,
            "grid_auto_columns": null,
            "margin": null,
            "display": null,
            "left": null
          }
        },
        "ba13e4a9822e4e4892cf5a1d93050a95": {
          "model_module": "@jupyter-widgets/controls",
          "model_name": "DescriptionStyleModel",
          "state": {
            "_view_name": "StyleView",
            "_model_name": "DescriptionStyleModel",
            "description_width": "",
            "_view_module": "@jupyter-widgets/base",
            "_model_module_version": "1.5.0",
            "_view_count": null,
            "_view_module_version": "1.2.0",
            "_model_module": "@jupyter-widgets/controls"
          }
        },
        "34892fc2103c4b9784c3eb208fe8d4a1": {
          "model_module": "@jupyter-widgets/base",
          "model_name": "LayoutModel",
          "state": {
            "_view_name": "LayoutView",
            "grid_template_rows": null,
            "right": null,
            "justify_content": null,
            "_view_module": "@jupyter-widgets/base",
            "overflow": null,
            "_model_module_version": "1.2.0",
            "_view_count": null,
            "flex_flow": null,
            "width": null,
            "min_width": null,
            "border": null,
            "align_items": null,
            "bottom": null,
            "_model_module": "@jupyter-widgets/base",
            "top": null,
            "grid_column": null,
            "overflow_y": null,
            "overflow_x": null,
            "grid_auto_flow": null,
            "grid_area": null,
            "grid_template_columns": null,
            "flex": null,
            "_model_name": "LayoutModel",
            "justify_items": null,
            "grid_row": null,
            "max_height": null,
            "align_content": null,
            "visibility": null,
            "align_self": null,
            "height": null,
            "min_height": null,
            "padding": null,
            "grid_auto_rows": null,
            "grid_gap": null,
            "max_width": null,
            "order": null,
            "_view_module_version": "1.2.0",
            "grid_template_areas": null,
            "object_position": null,
            "object_fit": null,
            "grid_auto_columns": null,
            "margin": null,
            "display": null,
            "left": null
          }
        }
      }
    }
  },
  "cells": [
    {
      "cell_type": "markdown",
      "metadata": {
        "id": "GkRUMKR91A4G"
      },
      "source": [
        "## Problem Statement\n",
        "\n",
        "- **Given** - A Data Set of News articles about various topics, and their cluster information.\n",
        "\n",
        "- **Objective** - To develop a solution which clusters similar news together based on their contextual similarity.\n",
        "\n",
        "- **Methodology used** - There are multiple ways of approaching to this problem. I have tried to use a Contextual similarity approach."
      ]
    },
    {
      "cell_type": "markdown",
      "metadata": {
        "id": "FNxRjkbw1ak0"
      },
      "source": [
        "# Importing Dependencies\n",
        "We will add and install all the dependencies\n",
        "required here.\n",
        "\n"
      ]
    },
    {
      "cell_type": "code",
      "metadata": {
        "id": "Ew-geqZH08Cr",
        "colab": {
          "base_uri": "https://localhost:8080/",
          "height": 1000
        },
        "outputId": "05a36123-c65a-4e00-b1a9-fee2bd5128e3"
      },
      "source": [
        "!pip install spacy\n",
        "!pip install neuralcoref\n",
        "!pip install nltk\n",
        "!pip install bert-extractive-summarizer"
      ],
      "execution_count": null,
      "outputs": [
        {
          "output_type": "stream",
          "text": [
            "Requirement already satisfied: spacy in /usr/local/lib/python3.6/dist-packages (2.2.4)\n",
            "Requirement already satisfied: requests<3.0.0,>=2.13.0 in /usr/local/lib/python3.6/dist-packages (from spacy) (2.23.0)\n",
            "Requirement already satisfied: tqdm<5.0.0,>=4.38.0 in /usr/local/lib/python3.6/dist-packages (from spacy) (4.41.1)\n",
            "Requirement already satisfied: numpy>=1.15.0 in /usr/local/lib/python3.6/dist-packages (from spacy) (1.18.5)\n",
            "Requirement already satisfied: plac<1.2.0,>=0.9.6 in /usr/local/lib/python3.6/dist-packages (from spacy) (1.1.3)\n",
            "Requirement already satisfied: preshed<3.1.0,>=3.0.2 in /usr/local/lib/python3.6/dist-packages (from spacy) (3.0.2)\n",
            "Requirement already satisfied: wasabi<1.1.0,>=0.4.0 in /usr/local/lib/python3.6/dist-packages (from spacy) (0.7.0)\n",
            "Requirement already satisfied: murmurhash<1.1.0,>=0.28.0 in /usr/local/lib/python3.6/dist-packages (from spacy) (1.0.2)\n",
            "Requirement already satisfied: srsly<1.1.0,>=1.0.2 in /usr/local/lib/python3.6/dist-packages (from spacy) (1.0.2)\n",
            "Requirement already satisfied: blis<0.5.0,>=0.4.0 in /usr/local/lib/python3.6/dist-packages (from spacy) (0.4.1)\n",
            "Requirement already satisfied: thinc==7.4.0 in /usr/local/lib/python3.6/dist-packages (from spacy) (7.4.0)\n",
            "Requirement already satisfied: cymem<2.1.0,>=2.0.2 in /usr/local/lib/python3.6/dist-packages (from spacy) (2.0.3)\n",
            "Requirement already satisfied: catalogue<1.1.0,>=0.0.7 in /usr/local/lib/python3.6/dist-packages (from spacy) (1.0.0)\n",
            "Requirement already satisfied: setuptools in /usr/local/lib/python3.6/dist-packages (from spacy) (49.1.0)\n",
            "Requirement already satisfied: certifi>=2017.4.17 in /usr/local/lib/python3.6/dist-packages (from requests<3.0.0,>=2.13.0->spacy) (2020.6.20)\n",
            "Requirement already satisfied: urllib3!=1.25.0,!=1.25.1,<1.26,>=1.21.1 in /usr/local/lib/python3.6/dist-packages (from requests<3.0.0,>=2.13.0->spacy) (1.24.3)\n",
            "Requirement already satisfied: idna<3,>=2.5 in /usr/local/lib/python3.6/dist-packages (from requests<3.0.0,>=2.13.0->spacy) (2.10)\n",
            "Requirement already satisfied: chardet<4,>=3.0.2 in /usr/local/lib/python3.6/dist-packages (from requests<3.0.0,>=2.13.0->spacy) (3.0.4)\n",
            "Requirement already satisfied: importlib-metadata>=0.20; python_version < \"3.8\" in /usr/local/lib/python3.6/dist-packages (from catalogue<1.1.0,>=0.0.7->spacy) (1.7.0)\n",
            "Requirement already satisfied: zipp>=0.5 in /usr/local/lib/python3.6/dist-packages (from importlib-metadata>=0.20; python_version < \"3.8\"->catalogue<1.1.0,>=0.0.7->spacy) (3.1.0)\n",
            "Requirement already satisfied: neuralcoref in /usr/local/lib/python3.6/dist-packages (4.0)\n",
            "Requirement already satisfied: numpy>=1.15.0 in /usr/local/lib/python3.6/dist-packages (from neuralcoref) (1.18.5)\n",
            "Requirement already satisfied: spacy>=2.1.0 in /usr/local/lib/python3.6/dist-packages (from neuralcoref) (2.2.4)\n",
            "Requirement already satisfied: requests<3.0.0,>=2.13.0 in /usr/local/lib/python3.6/dist-packages (from neuralcoref) (2.23.0)\n",
            "Requirement already satisfied: boto3 in /usr/local/lib/python3.6/dist-packages (from neuralcoref) (1.14.18)\n",
            "Requirement already satisfied: wasabi<1.1.0,>=0.4.0 in /usr/local/lib/python3.6/dist-packages (from spacy>=2.1.0->neuralcoref) (0.7.0)\n",
            "Requirement already satisfied: tqdm<5.0.0,>=4.38.0 in /usr/local/lib/python3.6/dist-packages (from spacy>=2.1.0->neuralcoref) (4.41.1)\n",
            "Requirement already satisfied: plac<1.2.0,>=0.9.6 in /usr/local/lib/python3.6/dist-packages (from spacy>=2.1.0->neuralcoref) (1.1.3)\n",
            "Requirement already satisfied: catalogue<1.1.0,>=0.0.7 in /usr/local/lib/python3.6/dist-packages (from spacy>=2.1.0->neuralcoref) (1.0.0)\n",
            "Requirement already satisfied: blis<0.5.0,>=0.4.0 in /usr/local/lib/python3.6/dist-packages (from spacy>=2.1.0->neuralcoref) (0.4.1)\n",
            "Requirement already satisfied: preshed<3.1.0,>=3.0.2 in /usr/local/lib/python3.6/dist-packages (from spacy>=2.1.0->neuralcoref) (3.0.2)\n",
            "Requirement already satisfied: setuptools in /usr/local/lib/python3.6/dist-packages (from spacy>=2.1.0->neuralcoref) (49.1.0)\n",
            "Requirement already satisfied: thinc==7.4.0 in /usr/local/lib/python3.6/dist-packages (from spacy>=2.1.0->neuralcoref) (7.4.0)\n",
            "Requirement already satisfied: cymem<2.1.0,>=2.0.2 in /usr/local/lib/python3.6/dist-packages (from spacy>=2.1.0->neuralcoref) (2.0.3)\n",
            "Requirement already satisfied: murmurhash<1.1.0,>=0.28.0 in /usr/local/lib/python3.6/dist-packages (from spacy>=2.1.0->neuralcoref) (1.0.2)\n",
            "Requirement already satisfied: srsly<1.1.0,>=1.0.2 in /usr/local/lib/python3.6/dist-packages (from spacy>=2.1.0->neuralcoref) (1.0.2)\n",
            "Requirement already satisfied: urllib3!=1.25.0,!=1.25.1,<1.26,>=1.21.1 in /usr/local/lib/python3.6/dist-packages (from requests<3.0.0,>=2.13.0->neuralcoref) (1.24.3)\n",
            "Requirement already satisfied: certifi>=2017.4.17 in /usr/local/lib/python3.6/dist-packages (from requests<3.0.0,>=2.13.0->neuralcoref) (2020.6.20)\n",
            "Requirement already satisfied: idna<3,>=2.5 in /usr/local/lib/python3.6/dist-packages (from requests<3.0.0,>=2.13.0->neuralcoref) (2.10)\n",
            "Requirement already satisfied: chardet<4,>=3.0.2 in /usr/local/lib/python3.6/dist-packages (from requests<3.0.0,>=2.13.0->neuralcoref) (3.0.4)\n",
            "Requirement already satisfied: s3transfer<0.4.0,>=0.3.0 in /usr/local/lib/python3.6/dist-packages (from boto3->neuralcoref) (0.3.3)\n",
            "Requirement already satisfied: botocore<1.18.0,>=1.17.18 in /usr/local/lib/python3.6/dist-packages (from boto3->neuralcoref) (1.17.18)\n",
            "Requirement already satisfied: jmespath<1.0.0,>=0.7.1 in /usr/local/lib/python3.6/dist-packages (from boto3->neuralcoref) (0.10.0)\n",
            "Requirement already satisfied: importlib-metadata>=0.20; python_version < \"3.8\" in /usr/local/lib/python3.6/dist-packages (from catalogue<1.1.0,>=0.0.7->spacy>=2.1.0->neuralcoref) (1.7.0)\n",
            "Requirement already satisfied: python-dateutil<3.0.0,>=2.1 in /usr/local/lib/python3.6/dist-packages (from botocore<1.18.0,>=1.17.18->boto3->neuralcoref) (2.8.1)\n",
            "Requirement already satisfied: docutils<0.16,>=0.10 in /usr/local/lib/python3.6/dist-packages (from botocore<1.18.0,>=1.17.18->boto3->neuralcoref) (0.15.2)\n",
            "Requirement already satisfied: zipp>=0.5 in /usr/local/lib/python3.6/dist-packages (from importlib-metadata>=0.20; python_version < \"3.8\"->catalogue<1.1.0,>=0.0.7->spacy>=2.1.0->neuralcoref) (3.1.0)\n",
            "Requirement already satisfied: six>=1.5 in /usr/local/lib/python3.6/dist-packages (from python-dateutil<3.0.0,>=2.1->botocore<1.18.0,>=1.17.18->boto3->neuralcoref) (1.12.0)\n",
            "Requirement already satisfied: nltk in /usr/local/lib/python3.6/dist-packages (3.2.5)\n",
            "Requirement already satisfied: six in /usr/local/lib/python3.6/dist-packages (from nltk) (1.12.0)\n",
            "Requirement already satisfied: bert-extractive-summarizer in /usr/local/lib/python3.6/dist-packages (0.4.2)\n",
            "Requirement already satisfied: scikit-learn in /usr/local/lib/python3.6/dist-packages (from bert-extractive-summarizer) (0.21.3)\n",
            "Requirement already satisfied: transformers in /usr/local/lib/python3.6/dist-packages (from bert-extractive-summarizer) (3.0.2)\n",
            "Requirement already satisfied: spacy in /usr/local/lib/python3.6/dist-packages (from bert-extractive-summarizer) (2.2.4)\n",
            "Requirement already satisfied: joblib>=0.11 in /usr/local/lib/python3.6/dist-packages (from scikit-learn->bert-extractive-summarizer) (0.16.0)\n",
            "Requirement already satisfied: scipy>=0.17.0 in /usr/local/lib/python3.6/dist-packages (from scikit-learn->bert-extractive-summarizer) (1.4.1)\n",
            "Requirement already satisfied: numpy>=1.11.0 in /usr/local/lib/python3.6/dist-packages (from scikit-learn->bert-extractive-summarizer) (1.18.5)\n",
            "Requirement already satisfied: regex!=2019.12.17 in /usr/local/lib/python3.6/dist-packages (from transformers->bert-extractive-summarizer) (2019.12.20)\n",
            "Requirement already satisfied: sacremoses in /usr/local/lib/python3.6/dist-packages (from transformers->bert-extractive-summarizer) (0.0.43)\n",
            "Requirement already satisfied: requests in /usr/local/lib/python3.6/dist-packages (from transformers->bert-extractive-summarizer) (2.23.0)\n",
            "Requirement already satisfied: dataclasses; python_version < \"3.7\" in /usr/local/lib/python3.6/dist-packages (from transformers->bert-extractive-summarizer) (0.7)\n",
            "Requirement already satisfied: tokenizers==0.8.1.rc1 in /usr/local/lib/python3.6/dist-packages (from transformers->bert-extractive-summarizer) (0.8.1rc1)\n",
            "Requirement already satisfied: packaging in /usr/local/lib/python3.6/dist-packages (from transformers->bert-extractive-summarizer) (20.4)\n",
            "Requirement already satisfied: tqdm>=4.27 in /usr/local/lib/python3.6/dist-packages (from transformers->bert-extractive-summarizer) (4.41.1)\n",
            "Requirement already satisfied: filelock in /usr/local/lib/python3.6/dist-packages (from transformers->bert-extractive-summarizer) (3.0.12)\n",
            "Requirement already satisfied: sentencepiece!=0.1.92 in /usr/local/lib/python3.6/dist-packages (from transformers->bert-extractive-summarizer) (0.1.91)\n",
            "Requirement already satisfied: thinc==7.4.0 in /usr/local/lib/python3.6/dist-packages (from spacy->bert-extractive-summarizer) (7.4.0)\n",
            "Requirement already satisfied: catalogue<1.1.0,>=0.0.7 in /usr/local/lib/python3.6/dist-packages (from spacy->bert-extractive-summarizer) (1.0.0)\n",
            "Requirement already satisfied: wasabi<1.1.0,>=0.4.0 in /usr/local/lib/python3.6/dist-packages (from spacy->bert-extractive-summarizer) (0.7.0)\n",
            "Requirement already satisfied: murmurhash<1.1.0,>=0.28.0 in /usr/local/lib/python3.6/dist-packages (from spacy->bert-extractive-summarizer) (1.0.2)\n",
            "Requirement already satisfied: blis<0.5.0,>=0.4.0 in /usr/local/lib/python3.6/dist-packages (from spacy->bert-extractive-summarizer) (0.4.1)\n",
            "Requirement already satisfied: cymem<2.1.0,>=2.0.2 in /usr/local/lib/python3.6/dist-packages (from spacy->bert-extractive-summarizer) (2.0.3)\n",
            "Requirement already satisfied: plac<1.2.0,>=0.9.6 in /usr/local/lib/python3.6/dist-packages (from spacy->bert-extractive-summarizer) (1.1.3)\n",
            "Requirement already satisfied: srsly<1.1.0,>=1.0.2 in /usr/local/lib/python3.6/dist-packages (from spacy->bert-extractive-summarizer) (1.0.2)\n",
            "Requirement already satisfied: preshed<3.1.0,>=3.0.2 in /usr/local/lib/python3.6/dist-packages (from spacy->bert-extractive-summarizer) (3.0.2)\n",
            "Requirement already satisfied: setuptools in /usr/local/lib/python3.6/dist-packages (from spacy->bert-extractive-summarizer) (49.1.0)\n",
            "Requirement already satisfied: click in /usr/local/lib/python3.6/dist-packages (from sacremoses->transformers->bert-extractive-summarizer) (7.1.2)\n",
            "Requirement already satisfied: six in /usr/local/lib/python3.6/dist-packages (from sacremoses->transformers->bert-extractive-summarizer) (1.12.0)\n",
            "Requirement already satisfied: chardet<4,>=3.0.2 in /usr/local/lib/python3.6/dist-packages (from requests->transformers->bert-extractive-summarizer) (3.0.4)\n",
            "Requirement already satisfied: certifi>=2017.4.17 in /usr/local/lib/python3.6/dist-packages (from requests->transformers->bert-extractive-summarizer) (2020.6.20)\n",
            "Requirement already satisfied: idna<3,>=2.5 in /usr/local/lib/python3.6/dist-packages (from requests->transformers->bert-extractive-summarizer) (2.10)\n",
            "Requirement already satisfied: urllib3!=1.25.0,!=1.25.1,<1.26,>=1.21.1 in /usr/local/lib/python3.6/dist-packages (from requests->transformers->bert-extractive-summarizer) (1.24.3)\n",
            "Requirement already satisfied: pyparsing>=2.0.2 in /usr/local/lib/python3.6/dist-packages (from packaging->transformers->bert-extractive-summarizer) (2.4.7)\n",
            "Requirement already satisfied: importlib-metadata>=0.20; python_version < \"3.8\" in /usr/local/lib/python3.6/dist-packages (from catalogue<1.1.0,>=0.0.7->spacy->bert-extractive-summarizer) (1.7.0)\n",
            "Requirement already satisfied: zipp>=0.5 in /usr/local/lib/python3.6/dist-packages (from importlib-metadata>=0.20; python_version < \"3.8\"->catalogue<1.1.0,>=0.0.7->spacy->bert-extractive-summarizer) (3.1.0)\n"
          ],
          "name": "stdout"
        }
      ]
    },
    {
      "cell_type": "code",
      "metadata": {
        "id": "L8T75Ev0kc33"
      },
      "source": [
        "from absl import logging\n",
        "import tensorflow as tf\n",
        "import tensorflow_hub as hub\n",
        "import matplotlib.pyplot as plt\n",
        "import numpy as np\n",
        "import os\n",
        "import pandas as pd\n",
        "import re\n",
        "from sklearn.metrics.pairwise import cosine_similarity"
      ],
      "execution_count": null,
      "outputs": []
    },
    {
      "cell_type": "code",
      "metadata": {
        "id": "YbwWeDdM1lAP",
        "colab": {
          "base_uri": "https://localhost:8080/",
          "height": 73
        },
        "outputId": "36a99fb1-1aaa-4d40-c0b2-eda69f0aa98a"
      },
      "source": [
        "import re\n",
        "import pandas as pd\n",
        "import numpy as np\n",
        "import matplotlib.pyplot as plt\n",
        "import seaborn as sns\n",
        "import urllib\n",
        "import json\n",
        "import nltk\n",
        "from nltk.tokenize import sent_tokenize\n",
        "\n",
        "from google.colab import drive"
      ],
      "execution_count": null,
      "outputs": [
        {
          "output_type": "stream",
          "text": [
            "/usr/local/lib/python3.6/dist-packages/statsmodels/tools/_testing.py:19: FutureWarning: pandas.util.testing is deprecated. Use the functions in the public API at pandas.testing instead.\n",
            "  import pandas.util.testing as tm\n"
          ],
          "name": "stderr"
        }
      ]
    },
    {
      "cell_type": "code",
      "metadata": {
        "id": "io2GU5IMSqkt",
        "colab": {
          "base_uri": "https://localhost:8080/",
          "height": 71
        },
        "outputId": "c3a06533-742b-4706-be4c-a367f70f7432"
      },
      "source": [
        "nltk.download('punkt')"
      ],
      "execution_count": null,
      "outputs": [
        {
          "output_type": "stream",
          "text": [
            "[nltk_data] Downloading package punkt to /root/nltk_data...\n",
            "[nltk_data]   Unzipping tokenizers/punkt.zip.\n"
          ],
          "name": "stdout"
        },
        {
          "output_type": "execute_result",
          "data": {
            "text/plain": [
              "True"
            ]
          },
          "metadata": {
            "tags": []
          },
          "execution_count": 4
        }
      ]
    },
    {
      "cell_type": "markdown",
      "metadata": {
        "id": "yKL5PhnF29LJ"
      },
      "source": [
        "# Data Loader"
      ]
    },
    {
      "cell_type": "code",
      "metadata": {
        "id": "ei-tOc8BSZ9O",
        "colab": {
          "base_uri": "https://localhost:8080/",
          "height": 127
        },
        "outputId": "21a746b4-10af-434d-b0e7-fb270aa9c250"
      },
      "source": [
        "# Mounting Drive\n",
        "drive.mount(\"/content/drive\")"
      ],
      "execution_count": null,
      "outputs": [
        {
          "output_type": "stream",
          "text": [
            "Go to this URL in a browser: https://accounts.google.com/o/oauth2/auth?client_id=947318989803-6bn6qk8qdgf4n4g3pfee6491hc0brc4i.apps.googleusercontent.com&redirect_uri=urn%3aietf%3awg%3aoauth%3a2.0%3aoob&response_type=code&scope=email%20https%3a%2f%2fwww.googleapis.com%2fauth%2fdocs.test%20https%3a%2f%2fwww.googleapis.com%2fauth%2fdrive%20https%3a%2f%2fwww.googleapis.com%2fauth%2fdrive.photos.readonly%20https%3a%2f%2fwww.googleapis.com%2fauth%2fpeopleapi.readonly\n",
            "\n",
            "Enter your authorization code:\n",
            "··········\n",
            "Mounted at /content/drive\n"
          ],
          "name": "stdout"
        }
      ]
    },
    {
      "cell_type": "code",
      "metadata": {
        "id": "iaY4L3Jf3AEp"
      },
      "source": [
        "def load_convert_data(url):\n",
        "    \"\"\"\n",
        "    Downloads the json file from net and convert into pandas dataframe format.\n",
        "    \"\"\"\n",
        "    with urllib.request.urlopen(url) as url:\n",
        "        df = json.loads(url.read().decode('utf-8'))\n",
        "        df = pd.DataFrame.from_dict(df)\n",
        "    return df"
      ],
      "execution_count": null,
      "outputs": []
    },
    {
      "cell_type": "code",
      "metadata": {
        "id": "RpThThP33FCG"
      },
      "source": [
        "df_data = load_convert_data(\"https://storage.googleapis.com/public-resources/dataset/clusters.json\")"
      ],
      "execution_count": null,
      "outputs": []
    },
    {
      "cell_type": "code",
      "metadata": {
        "id": "5XlQeBuuTJ4u",
        "colab": {
          "base_uri": "https://localhost:8080/",
          "height": 216
        },
        "outputId": "f4e6427a-5133-4d37-a880-0eb61df76f53"
      },
      "source": [
        "df_data['text'][0]"
      ],
      "execution_count": null,
      "outputs": [
        {
          "output_type": "execute_result",
          "data": {
            "application/vnd.google.colaboratory.intrinsic": {
              "type": "string"
            },
            "text/plain": [
              "'The coronavirus epidemic in Lithuania has clearly demonstrated the results of democratic reforms on the way to a “bright European future”.\\nAt the very beginning of the ХХl century, the optimization of medicine and health care was carried out in Lithuania, as a result of which the number of medical institutions was sharply reduced - all small ones were closed and only large ones were left. Today in the country there are only five medical centers in the largest cities - in Kaunas, Klaipeda, Siauliai, Panevezys and Vilnius. In the districts, something like paramedic points remained for emergency assistance.\\nIf there are few hospitals, then there are few doctors - and today this problem is one of the main ones, we have to involve senior students of medical universities in the fight against the epidemic, but all the same, specialists are sorely lacking.\\nThe Minister of Defense of Lithuania Raimundas Karoblis has already promised that the military will be sent to help the doctors, but would anyone really want him to be treated not by a doctor, but, for example, by an artilleryman?\\nThe second problem associated with the consequences of “democratic reforms” is that the country does not have strategic food supplies. Although just a few days ago, on March 19, the Lithuanian Prime Minister Saulius Skvernialis assured the country\\'s population that there were enough products in the “bins of the motherland” and there was no cause for concern. But everything was spoiled by the ex-Minister of Agriculture Kazis Starkevičius, who told reporters that there is cause for concern and that it lies in the fact that Lithuania does not have a strategic supply of food.\\n“In 2010, in case of emergency, 200 thousand cans of canned pork, 3.5 thousand tons of wheat flour, 1.6 thousand tons of rice, 1.3 thousand tons of semolina, 700 tons of sugar were bought for state reserve warehouses. According to the Ministry of Agriculture, today the food reserve consists only of grain and sugar. The remaining reserves are eaten, \"\\n- said Kazis Starkevičius.\\nAccording to him, in 2012 amendments to the law on the state reserve were adopted, according to which \"reserves were accumulated on the basis of preliminary agreements.\" This meant that companies, receiving money in advance, pledged in an extreme situation to supply everything necessary for the needs of the population. However, today no one really knows which companies are suppliers, moreover, in the context of the global crisis, whether these suppliers can provide the country with everything necessary is unknown.\\nStarkevičius recalled that in January of this year alone, more than 9 thousand tons of chicken meat was produced in Lithuania, 40% of which was exported, and the rest was eaten. And nothing fell into the state reserve.\\nThe ex-head of the Ministry of Agriculture insists that it is urgent to provide assistance to farmers, who today not only have nothing to buy fertilizers and spare parts for machinery, but it’s generally impossible to buy planting stock due to quarantine restrictions. This year\\'s harvest is already at stake, Starkevičius warned.\\nAgainst this background, Lithuanian President Gitanas Nauseda, speaking on Monday, March 23, said that there is a possibility of imposing martial law in the country. The command of the army will present its plan for the introduction of martial law on Tuesday, March 24.\\nSob. correspondent FSK'"
            ]
          },
          "metadata": {
            "tags": []
          },
          "execution_count": 8
        }
      ]
    },
    {
      "cell_type": "code",
      "metadata": {
        "id": "j5ZbJfnp3Fk4",
        "colab": {
          "base_uri": "https://localhost:8080/",
          "height": 91
        },
        "outputId": "1e6a8297-8088-4c40-ccfa-079958cb8f14"
      },
      "source": [
        "# checking data features\n",
        "print(df_data.columns )\n",
        "\n",
        "# checking number of data points\n",
        "print(df_data.shape)\n",
        "\n",
        "# checking distinct clusters and there numbers\n",
        "cluster_names = list(zip(df_data.cluster_name.unique(), df_data.cluster.unique()))\n",
        "print(cluster_names)"
      ],
      "execution_count": null,
      "outputs": [
        {
          "output_type": "stream",
          "text": [
            "Index(['id', 'text', 'title', 'lang', 'date', 'cluster', 'cluster_name'], dtype='object')\n",
            "(181, 7)\n",
            "[('MS fails to respond', '0'), ('Anti-Russia', '1'), ('Claims about China', '2'), ('Collapse', '3'), ('Coronavirus is not serious', '4'), ('Cure', '5'), ('EU fails to respond', '6'), ('Miscellaneous', '7'), ('Origins', '8'), ('Properties', '9'), ('Was predicted', '10'), ('Secret plan of the global elite', '11'), ('Ukraine fails to respond', '12'), ('USA created COVID-2019', '13')]\n"
          ],
          "name": "stdout"
        }
      ]
    },
    {
      "cell_type": "markdown",
      "metadata": {
        "id": "jOsAkz8P3MZU"
      },
      "source": [
        "**Observations**:\n",
        "\n",
        "- There are total 181 news articles in the data.\n",
        "- each articles have features :- 'text', 'title', 'lang', 'date', 'cluster', 'cluster_name'\n",
        "- We will be using 'title' and 'text' for getting contextual representations of each News Article.\n",
        "- There are total 14 distinct clusters."
      ]
    },
    {
      "cell_type": "markdown",
      "metadata": {
        "id": "Kwad3MPu3PXP"
      },
      "source": [
        "# II - Data Preprocessing and Cleaning"
      ]
    },
    {
      "cell_type": "code",
      "metadata": {
        "id": "K5yEAbmh3IZ1"
      },
      "source": [
        "# data cleaner function\n",
        "def clean_txt(sentence):\n",
        "    res = re.sub('[!*)@#%(&$_^]', '', sentence)\n",
        "    return res"
      ],
      "execution_count": null,
      "outputs": []
    },
    {
      "cell_type": "code",
      "metadata": {
        "id": "zqbXfTmy3Rq0",
        "colab": {
          "base_uri": "https://localhost:8080/",
          "height": 216
        },
        "outputId": "c547d85b-05cd-4e27-bcd8-758c01c4ebe5"
      },
      "source": [
        "# Text cleaning\n",
        "df_data['text'] = df_data['text'].apply(clean_txt)\n",
        "# # Title cleaning\n",
        "df_data['title'] = df_data['title'].apply(clean_txt)\n",
        "df_data['text'][0]"
      ],
      "execution_count": null,
      "outputs": [
        {
          "output_type": "execute_result",
          "data": {
            "application/vnd.google.colaboratory.intrinsic": {
              "type": "string"
            },
            "text/plain": [
              "'The coronavirus epidemic in Lithuania has clearly demonstrated the results of democratic reforms on the way to a “bright European future”.\\nAt the very beginning of the ХХl century, the optimization of medicine and health care was carried out in Lithuania, as a result of which the number of medical institutions was sharply reduced - all small ones were closed and only large ones were left. Today in the country there are only five medical centers in the largest cities - in Kaunas, Klaipeda, Siauliai, Panevezys and Vilnius. In the districts, something like paramedic points remained for emergency assistance.\\nIf there are few hospitals, then there are few doctors - and today this problem is one of the main ones, we have to involve senior students of medical universities in the fight against the epidemic, but all the same, specialists are sorely lacking.\\nThe Minister of Defense of Lithuania Raimundas Karoblis has already promised that the military will be sent to help the doctors, but would anyone really want him to be treated not by a doctor, but, for example, by an artilleryman?\\nThe second problem associated with the consequences of “democratic reforms” is that the country does not have strategic food supplies. Although just a few days ago, on March 19, the Lithuanian Prime Minister Saulius Skvernialis assured the country\\'s population that there were enough products in the “bins of the motherland” and there was no cause for concern. But everything was spoiled by the ex-Minister of Agriculture Kazis Starkevičius, who told reporters that there is cause for concern and that it lies in the fact that Lithuania does not have a strategic supply of food.\\n“In 2010, in case of emergency, 200 thousand cans of canned pork, 3.5 thousand tons of wheat flour, 1.6 thousand tons of rice, 1.3 thousand tons of semolina, 700 tons of sugar were bought for state reserve warehouses. According to the Ministry of Agriculture, today the food reserve consists only of grain and sugar. The remaining reserves are eaten, \"\\n- said Kazis Starkevičius.\\nAccording to him, in 2012 amendments to the law on the state reserve were adopted, according to which \"reserves were accumulated on the basis of preliminary agreements.\" This meant that companies, receiving money in advance, pledged in an extreme situation to supply everything necessary for the needs of the population. However, today no one really knows which companies are suppliers, moreover, in the context of the global crisis, whether these suppliers can provide the country with everything necessary is unknown.\\nStarkevičius recalled that in January of this year alone, more than 9 thousand tons of chicken meat was produced in Lithuania, 40 of which was exported, and the rest was eaten. And nothing fell into the state reserve.\\nThe ex-head of the Ministry of Agriculture insists that it is urgent to provide assistance to farmers, who today not only have nothing to buy fertilizers and spare parts for machinery, but it’s generally impossible to buy planting stock due to quarantine restrictions. This year\\'s harvest is already at stake, Starkevičius warned.\\nAgainst this background, Lithuanian President Gitanas Nauseda, speaking on Monday, March 23, said that there is a possibility of imposing martial law in the country. The command of the army will present its plan for the introduction of martial law on Tuesday, March 24.\\nSob. correspondent FSK'"
            ]
          },
          "metadata": {
            "tags": []
          },
          "execution_count": 11
        }
      ]
    },
    {
      "cell_type": "markdown",
      "metadata": {
        "id": "m2-uACzjWlxR"
      },
      "source": [
        "#### Text Summarization\n",
        "\n",
        "MODEL USED -  BERT Extractive Summerizer\n",
        "Reason  - It is trained on a generic set of data including News articles such as CNN, Daily Mail. Hence we don not need to fine-tune it (although we can, if domain heavy text is there).\n",
        "\n",
        "![alt text](https://iq.opengenus.org/content/images/2020/01/pic3.png)\n",
        "\n",
        "\n",
        "**Why Summarisation?**\n",
        "(My idea behind Approach)\n",
        "- The idea is extract import information in a concise way to represent it into a shorter form.\n",
        "\n",
        "- A strong argument to advocate this approach is, that as a human, whe try to say if one News is similar to other, we first try to get a summary in our head of the two news articles.\n",
        "- We then get the context and information conveyed in both the News Articiles.\n",
        "- By following this approach, we will try to mimic the process.\n",
        "- While one may argue that we might end up losing some information, but then, a huge advantage is that, we will end-up focusing on only important part of the news.\n",
        "- We want to focus on prnciple informations in the news article.\n"
      ]
    },
    {
      "cell_type": "code",
      "metadata": {
        "id": "AkXxB_BHWd3m",
        "colab": {
          "base_uri": "https://localhost:8080/",
          "height": 216
        },
        "outputId": "24085f7c-af09-43b9-f790-fde185891804"
      },
      "source": [
        "# BEFORE SUMMARIZING \n",
        "original_news = df_data['text'][0]\n",
        "original_news"
      ],
      "execution_count": null,
      "outputs": [
        {
          "output_type": "execute_result",
          "data": {
            "application/vnd.google.colaboratory.intrinsic": {
              "type": "string"
            },
            "text/plain": [
              "'The coronavirus epidemic in Lithuania has clearly demonstrated the results of democratic reforms on the way to a “bright European future”.\\nAt the very beginning of the ХХl century, the optimization of medicine and health care was carried out in Lithuania, as a result of which the number of medical institutions was sharply reduced - all small ones were closed and only large ones were left. Today in the country there are only five medical centers in the largest cities - in Kaunas, Klaipeda, Siauliai, Panevezys and Vilnius. In the districts, something like paramedic points remained for emergency assistance.\\nIf there are few hospitals, then there are few doctors - and today this problem is one of the main ones, we have to involve senior students of medical universities in the fight against the epidemic, but all the same, specialists are sorely lacking.\\nThe Minister of Defense of Lithuania Raimundas Karoblis has already promised that the military will be sent to help the doctors, but would anyone really want him to be treated not by a doctor, but, for example, by an artilleryman?\\nThe second problem associated with the consequences of “democratic reforms” is that the country does not have strategic food supplies. Although just a few days ago, on March 19, the Lithuanian Prime Minister Saulius Skvernialis assured the country\\'s population that there were enough products in the “bins of the motherland” and there was no cause for concern. But everything was spoiled by the ex-Minister of Agriculture Kazis Starkevičius, who told reporters that there is cause for concern and that it lies in the fact that Lithuania does not have a strategic supply of food.\\n“In 2010, in case of emergency, 200 thousand cans of canned pork, 3.5 thousand tons of wheat flour, 1.6 thousand tons of rice, 1.3 thousand tons of semolina, 700 tons of sugar were bought for state reserve warehouses. According to the Ministry of Agriculture, today the food reserve consists only of grain and sugar. The remaining reserves are eaten, \"\\n- said Kazis Starkevičius.\\nAccording to him, in 2012 amendments to the law on the state reserve were adopted, according to which \"reserves were accumulated on the basis of preliminary agreements.\" This meant that companies, receiving money in advance, pledged in an extreme situation to supply everything necessary for the needs of the population. However, today no one really knows which companies are suppliers, moreover, in the context of the global crisis, whether these suppliers can provide the country with everything necessary is unknown.\\nStarkevičius recalled that in January of this year alone, more than 9 thousand tons of chicken meat was produced in Lithuania, 40 of which was exported, and the rest was eaten. And nothing fell into the state reserve.\\nThe ex-head of the Ministry of Agriculture insists that it is urgent to provide assistance to farmers, who today not only have nothing to buy fertilizers and spare parts for machinery, but it’s generally impossible to buy planting stock due to quarantine restrictions. This year\\'s harvest is already at stake, Starkevičius warned.\\nAgainst this background, Lithuanian President Gitanas Nauseda, speaking on Monday, March 23, said that there is a possibility of imposing martial law in the country. The command of the army will present its plan for the introduction of martial law on Tuesday, March 24.\\nSob. correspondent FSK'"
            ]
          },
          "metadata": {
            "tags": []
          },
          "execution_count": 12
        }
      ]
    },
    {
      "cell_type": "code",
      "metadata": {
        "id": "vwMV-JPDYgN2",
        "colab": {
          "base_uri": "https://localhost:8080/",
          "height": 167,
          "referenced_widgets": [
            "cd1bf954a8b74094abacfeb3f0542842",
            "841bb4f7a61c4e3e9bf4283728b4c05f",
            "b631c2f3df4b443d9780bce74c14b859",
            "b79357b1fd354dc5a5e0f04be8d27dc0",
            "3655f57415d54da0952eb86b4d82dcc8",
            "3773d561e38d47b7a59e55d127f4b4d9",
            "923d0f8f5b14463e86276f33287da48a",
            "9bb141291a3d4774b5ac38ea7b09a368",
            "7519a758473445ceac72b34392c53dfd",
            "e961f4bca5814d86858224f25d50ee65",
            "66da3d868fc74f348dca41822d17a72a",
            "eab70c1e33fb4c82a44da10859d4fbfe",
            "84534de060ae46d3bc12a1c5e0597ebe",
            "2e29121561384ddba50b3b2b4ec0b1bf",
            "d91fed8cc9954ae0816ea4f3a4834b73",
            "2a2d654510bb44089f93df6dae5d5a3c",
            "0e70e6467c4440fa87f7b42ef3547770",
            "b65d8523776b404e953f04fb5a0b6ff4",
            "ecacd615a8b548f6a5f5d3df54427162",
            "c5a35aab83954becb78b6f83d4949b4c",
            "28525e0ea93d46de9a00a94f39c71787",
            "8d4c933b104b48e995c542d4b823278f",
            "ba13e4a9822e4e4892cf5a1d93050a95",
            "34892fc2103c4b9784c3eb208fe8d4a1"
          ]
        },
        "outputId": "45520acf-a915-4d3a-e4ec-2ad37282f53d"
      },
      "source": [
        "from summarizer import Summarizer\n",
        "# Instantiating BERT pretrained model\n",
        "# First time it will Download the model\n",
        "model = Summarizer()"
      ],
      "execution_count": null,
      "outputs": [
        {
          "output_type": "display_data",
          "data": {
            "application/vnd.jupyter.widget-view+json": {
              "model_id": "cd1bf954a8b74094abacfeb3f0542842",
              "version_minor": 0,
              "version_major": 2
            },
            "text/plain": [
              "HBox(children=(FloatProgress(value=0.0, description='Downloading', max=434.0, style=ProgressStyle(description_…"
            ]
          },
          "metadata": {
            "tags": []
          }
        },
        {
          "output_type": "stream",
          "text": [
            "\n"
          ],
          "name": "stdout"
        },
        {
          "output_type": "display_data",
          "data": {
            "application/vnd.jupyter.widget-view+json": {
              "model_id": "7519a758473445ceac72b34392c53dfd",
              "version_minor": 0,
              "version_major": 2
            },
            "text/plain": [
              "HBox(children=(FloatProgress(value=0.0, description='Downloading', max=1344997306.0, style=ProgressStyle(descr…"
            ]
          },
          "metadata": {
            "tags": []
          }
        },
        {
          "output_type": "stream",
          "text": [
            "\n"
          ],
          "name": "stdout"
        },
        {
          "output_type": "display_data",
          "data": {
            "application/vnd.jupyter.widget-view+json": {
              "model_id": "0e70e6467c4440fa87f7b42ef3547770",
              "version_minor": 0,
              "version_major": 2
            },
            "text/plain": [
              "HBox(children=(FloatProgress(value=0.0, description='Downloading', max=231508.0, style=ProgressStyle(descripti…"
            ]
          },
          "metadata": {
            "tags": []
          }
        },
        {
          "output_type": "stream",
          "text": [
            "\n"
          ],
          "name": "stdout"
        }
      ]
    },
    {
      "cell_type": "code",
      "metadata": {
        "id": "dYIvhNwdaXEq"
      },
      "source": [
        "def bert_summarizer(news_article):\n",
        "    \"\"\"\n",
        "    Function takes unsummarized news article as an input\n",
        "    and returns a summarized news article.\n",
        "    \"\"\"\n",
        "    summarized = model(news_article, min_length=30)\n",
        "    return summarized"
      ],
      "execution_count": null,
      "outputs": []
    },
    {
      "cell_type": "code",
      "metadata": {
        "id": "um3vJCqZbvFM",
        "colab": {
          "base_uri": "https://localhost:8080/",
          "height": 144
        },
        "outputId": "db243a51-2449-45df-ec18-b40eabe14669"
      },
      "source": [
        "# Let us check a sample summarization \n",
        "# AFTER SUMMARIZING\n",
        "summarized_news = bert_summarizer(original_news)\n",
        "summarized_news"
      ],
      "execution_count": null,
      "outputs": [
        {
          "output_type": "execute_result",
          "data": {
            "application/vnd.google.colaboratory.intrinsic": {
              "type": "string"
            },
            "text/plain": [
              "\"The coronavirus epidemic in Lithuania has clearly demonstrated the results of democratic reforms on the way to a “bright European future”. Today in the country there are only five medical centers in the largest cities - in Kaunas, Klaipeda, Siauliai, Panevezys and Vilnius. The Minister of Defense of Lithuania Raimundas Karoblis has already promised that the military will be sent to help the doctors, but would anyone really want him to be treated not by a doctor, but, for example, by an artilleryman? And nothing fell into the state reserve. This year's harvest is already at stake, Starkevičius warned.\""
            ]
          },
          "metadata": {
            "tags": []
          },
          "execution_count": 15
        }
      ]
    },
    {
      "cell_type": "code",
      "metadata": {
        "id": "SDlkms26cEPC"
      },
      "source": [
        "# Let us Apply summarization over all News articles\n",
        "# and save back to the dataframe\n",
        "# NOTE: this might take a while... \n",
        "# we can use parallel computing frameworks like Dask to boost it\n",
        "df_data['news_summarized'] = df_data['text'].apply(bert_summarizer)\n"
      ],
      "execution_count": null,
      "outputs": []
    },
    {
      "cell_type": "code",
      "metadata": {
        "id": "LcQgoc8idVPh",
        "colab": {
          "base_uri": "https://localhost:8080/",
          "height": 126
        },
        "outputId": "c6686ec6-aa34-46df-fe75-f0e42a25663e"
      },
      "source": [
        "# let us again check one of the summarised news\n",
        "df_data.news_summarized[10]"
      ],
      "execution_count": null,
      "outputs": [
        {
          "output_type": "execute_result",
          "data": {
            "application/vnd.google.colaboratory.intrinsic": {
              "type": "string"
            },
            "text/plain": [
              "'The spread of the new type of coronavirus threatens to become a pandemic. Ivan Popel is sure that the maneuvers are fraught with incredible threat: a huge, constantly moving military group can accelerate the spread of the epidemic, even more so that it does not even require a human being. In this way, the soldiers participating in the Defender Europe 2020 exercise will become coronavirus nurseries once transmitted and transmitted to Germany, Poland and the Baltic States.'"
            ]
          },
          "metadata": {
            "tags": []
          },
          "execution_count": 17
        }
      ]
    },
    {
      "cell_type": "markdown",
      "metadata": {
        "id": "r_MsabMp42UO"
      },
      "source": [
        "# III -  Contextual Clustering Approach\n",
        "\n",
        "In Contextual Clustering Approach -\n",
        "\n",
        "*   The idea is to capture what the News paragraph is trying to convey.\n",
        "*   We can use pretrained Sentence Embedding approaches to such as Transformer based \"BERT Setence Transformer\".\n",
        "- I will be using Multilingual Sentence Transformer model to develop the solution.\n",
        "- We will try to pose the problem as assigning vector to each News <paragraph + Title> a contextual Representation.\n",
        "- If a new instance of News comes, it will be encoded in a similar fashion\n",
        "\n",
        "\n"
      ]
    },
    {
      "cell_type": "markdown",
      "metadata": {
        "id": "FX7ernHIOzIg"
      },
      "source": [
        "#### Feeding News Articles to Sentence Tokenizers\n",
        "\n",
        "One we have obtained the summarization of the news, We can now feed it to a Sentence Tokenizer filter, which will divide each News Article into a sentence Token."
      ]
    },
    {
      "cell_type": "code",
      "metadata": {
        "id": "r8qMTwRoDFZD"
      },
      "source": [
        "def sent_tokens(news_article):\n",
        "  \"\"\"\n",
        "  this function accepts a document/News articles and performs\n",
        "  sentence tokenization.\n",
        "  * returns - list of tokenized sentences\n",
        "  \"\"\"\n",
        "  return sent_tokenize(news_article)"
      ],
      "execution_count": null,
      "outputs": []
    },
    {
      "cell_type": "code",
      "metadata": {
        "id": "rkWa93izQQ_F"
      },
      "source": [
        "df_data['news_tokenized'] = df_data['news_summarized'].apply(sent_tokens)"
      ],
      "execution_count": null,
      "outputs": []
    },
    {
      "cell_type": "code",
      "metadata": {
        "id": "4HEy7emWS0he",
        "colab": {
          "base_uri": "https://localhost:8080/",
          "height": 127
        },
        "outputId": "e2acee82-92a4-4323-d7a0-3f9572b7ed05"
      },
      "source": [
        "# Let us check one of the setence tokenized news articles ..\n",
        "df_data.news_tokenized[0]"
      ],
      "execution_count": null,
      "outputs": [
        {
          "output_type": "execute_result",
          "data": {
            "text/plain": [
              "['The coronavirus epidemic in Lithuania has clearly demonstrated the results of democratic reforms on the way to a “bright European future”.',\n",
              " 'Today in the country there are only five medical centers in the largest cities - in Kaunas, Klaipeda, Siauliai, Panevezys and Vilnius.',\n",
              " 'The Minister of Defense of Lithuania Raimundas Karoblis has already promised that the military will be sent to help the doctors, but would anyone really want him to be treated not by a doctor, but, for example, by an artilleryman?',\n",
              " 'And nothing fell into the state reserve.',\n",
              " \"This year's harvest is already at stake, Starkevičius warned.\"]"
            ]
          },
          "metadata": {
            "tags": []
          },
          "execution_count": 20
        }
      ]
    },
    {
      "cell_type": "markdown",
      "metadata": {
        "id": "TackCYIKgmqX"
      },
      "source": [
        "#### Sentence Embeddings\n",
        "- For this demo, I chose to use google's Universal sentence encoder model, as they are trained on generic corpus. \n",
        "\n",
        "- Alternate options are BERT sentence transformer based models. \n",
        "\n",
        "-  However, improvement is always as continuous process, the approach will be similar in all of them :)\n"
      ]
    },
    {
      "cell_type": "code",
      "metadata": {
        "id": "qSefWH5xS3HW",
        "colab": {
          "base_uri": "https://localhost:8080/",
          "height": 127
        },
        "outputId": "b12ce985-c073-4ca9-fc1f-880420d934b3"
      },
      "source": [
        "module_url = \"https://tfhub.dev/google/universal-sentence-encoder/4\" \n",
        "model = hub.load(module_url)\n",
        "print (\"module %s loaded\" % module_url)"
      ],
      "execution_count": null,
      "outputs": [
        {
          "output_type": "stream",
          "text": [
            "INFO:absl:Using /tmp/tfhub_modules to cache modules.\n",
            "INFO:absl:Downloading TF-Hub Module 'https://tfhub.dev/google/universal-sentence-encoder/4'.\n",
            "INFO:absl:Downloaded https://tfhub.dev/google/universal-sentence-encoder/4, Total size: 987.47MB\n",
            "INFO:absl:Downloaded TF-Hub Module 'https://tfhub.dev/google/universal-sentence-encoder/4'.\n"
          ],
          "name": "stderr"
        },
        {
          "output_type": "stream",
          "text": [
            "module https://tfhub.dev/google/universal-sentence-encoder/4 loaded\n"
          ],
          "name": "stdout"
        }
      ]
    },
    {
      "cell_type": "code",
      "metadata": {
        "id": "BbA9AXyYkoj7"
      },
      "source": [
        "def embed(input):\n",
        "  return model(input)"
      ],
      "execution_count": null,
      "outputs": []
    },
    {
      "cell_type": "code",
      "metadata": {
        "id": "qwWOAnBhlGfW",
        "colab": {
          "base_uri": "https://localhost:8080/",
          "height": 1000
        },
        "outputId": "a9ac87d5-7e3a-4796-9817-5c7c4f011530"
      },
      "source": [
        "embeddings = []\n",
        "# obtaining news embeddings\n",
        "\n",
        "for index, row in df_data.iterrows():\n",
        "    try:\n",
        "      news_emb = embed(row['news_tokenized'])\n",
        "      embeddings.append(news_emb.numpy())\n",
        "    except:\n",
        "        news_emb = embed([row['news_summarized']])\n",
        "        embeddings.append(news_emb.numpy())\n",
        "    print(f'obtained Embedding of news {index + 1}')"
      ],
      "execution_count": null,
      "outputs": [
        {
          "output_type": "stream",
          "text": [
            "obtained Embedding of news 1\n",
            "obtained Embedding of news 2\n",
            "obtained Embedding of news 3\n",
            "obtained Embedding of news 4\n",
            "obtained Embedding of news 5\n",
            "obtained Embedding of news 6\n",
            "obtained Embedding of news 7\n",
            "obtained Embedding of news 8\n",
            "obtained Embedding of news 9\n",
            "obtained Embedding of news 10\n",
            "obtained Embedding of news 11\n",
            "obtained Embedding of news 12\n",
            "obtained Embedding of news 13\n",
            "obtained Embedding of news 14\n",
            "obtained Embedding of news 15\n",
            "obtained Embedding of news 16\n",
            "obtained Embedding of news 17\n",
            "obtained Embedding of news 18\n",
            "obtained Embedding of news 19\n",
            "obtained Embedding of news 20\n",
            "obtained Embedding of news 21\n",
            "obtained Embedding of news 22\n",
            "obtained Embedding of news 23\n",
            "obtained Embedding of news 24\n",
            "obtained Embedding of news 25\n",
            "obtained Embedding of news 26\n",
            "obtained Embedding of news 27\n",
            "obtained Embedding of news 28\n",
            "obtained Embedding of news 29\n",
            "obtained Embedding of news 30\n",
            "obtained Embedding of news 31\n",
            "obtained Embedding of news 32\n",
            "obtained Embedding of news 33\n",
            "obtained Embedding of news 34\n",
            "obtained Embedding of news 35\n",
            "obtained Embedding of news 36\n",
            "obtained Embedding of news 37\n",
            "obtained Embedding of news 38\n",
            "obtained Embedding of news 39\n",
            "obtained Embedding of news 40\n",
            "obtained Embedding of news 41\n",
            "obtained Embedding of news 42\n",
            "obtained Embedding of news 43\n",
            "obtained Embedding of news 44\n",
            "obtained Embedding of news 45\n",
            "obtained Embedding of news 46\n",
            "obtained Embedding of news 47\n",
            "obtained Embedding of news 48\n",
            "obtained Embedding of news 49\n",
            "obtained Embedding of news 50\n",
            "obtained Embedding of news 51\n",
            "obtained Embedding of news 52\n",
            "obtained Embedding of news 53\n",
            "obtained Embedding of news 54\n",
            "obtained Embedding of news 55\n",
            "obtained Embedding of news 56\n",
            "obtained Embedding of news 57\n",
            "obtained Embedding of news 58\n",
            "obtained Embedding of news 59\n",
            "obtained Embedding of news 60\n",
            "obtained Embedding of news 61\n",
            "obtained Embedding of news 62\n",
            "obtained Embedding of news 63\n",
            "obtained Embedding of news 64\n",
            "obtained Embedding of news 65\n",
            "obtained Embedding of news 66\n",
            "obtained Embedding of news 67\n",
            "obtained Embedding of news 68\n",
            "obtained Embedding of news 69\n",
            "obtained Embedding of news 70\n",
            "obtained Embedding of news 71\n",
            "obtained Embedding of news 72\n",
            "obtained Embedding of news 73\n",
            "obtained Embedding of news 74\n",
            "obtained Embedding of news 75\n",
            "obtained Embedding of news 76\n",
            "obtained Embedding of news 77\n",
            "obtained Embedding of news 78\n",
            "obtained Embedding of news 79\n",
            "obtained Embedding of news 80\n",
            "obtained Embedding of news 81\n",
            "obtained Embedding of news 82\n",
            "obtained Embedding of news 83\n",
            "obtained Embedding of news 84\n",
            "obtained Embedding of news 85\n",
            "obtained Embedding of news 86\n",
            "obtained Embedding of news 87\n",
            "obtained Embedding of news 88\n",
            "obtained Embedding of news 89\n",
            "obtained Embedding of news 90\n",
            "obtained Embedding of news 91\n",
            "obtained Embedding of news 92\n",
            "obtained Embedding of news 93\n",
            "obtained Embedding of news 94\n",
            "obtained Embedding of news 95\n",
            "obtained Embedding of news 96\n",
            "obtained Embedding of news 97\n",
            "obtained Embedding of news 98\n",
            "obtained Embedding of news 99\n",
            "obtained Embedding of news 100\n",
            "obtained Embedding of news 101\n",
            "obtained Embedding of news 102\n",
            "obtained Embedding of news 103\n",
            "obtained Embedding of news 104\n",
            "obtained Embedding of news 105\n",
            "obtained Embedding of news 106\n",
            "obtained Embedding of news 107\n",
            "obtained Embedding of news 108\n",
            "obtained Embedding of news 109\n",
            "obtained Embedding of news 110\n",
            "obtained Embedding of news 111\n",
            "obtained Embedding of news 112\n",
            "obtained Embedding of news 113\n",
            "obtained Embedding of news 114\n",
            "obtained Embedding of news 115\n",
            "obtained Embedding of news 116\n",
            "obtained Embedding of news 117\n",
            "obtained Embedding of news 118\n",
            "obtained Embedding of news 119\n",
            "obtained Embedding of news 120\n",
            "obtained Embedding of news 121\n",
            "obtained Embedding of news 122\n",
            "obtained Embedding of news 123\n",
            "obtained Embedding of news 124\n",
            "obtained Embedding of news 125\n",
            "obtained Embedding of news 126\n",
            "obtained Embedding of news 127\n",
            "obtained Embedding of news 128\n",
            "obtained Embedding of news 129\n",
            "obtained Embedding of news 130\n",
            "obtained Embedding of news 131\n",
            "obtained Embedding of news 132\n",
            "obtained Embedding of news 133\n",
            "obtained Embedding of news 134\n",
            "obtained Embedding of news 135\n",
            "obtained Embedding of news 136\n",
            "obtained Embedding of news 137\n",
            "obtained Embedding of news 138\n",
            "obtained Embedding of news 139\n",
            "obtained Embedding of news 140\n",
            "obtained Embedding of news 141\n",
            "obtained Embedding of news 142\n",
            "obtained Embedding of news 143\n",
            "obtained Embedding of news 144\n",
            "obtained Embedding of news 145\n",
            "obtained Embedding of news 146\n",
            "obtained Embedding of news 147\n",
            "obtained Embedding of news 148\n",
            "obtained Embedding of news 149\n",
            "obtained Embedding of news 150\n",
            "obtained Embedding of news 151\n",
            "obtained Embedding of news 152\n",
            "obtained Embedding of news 153\n",
            "obtained Embedding of news 154\n",
            "obtained Embedding of news 155\n",
            "obtained Embedding of news 156\n",
            "obtained Embedding of news 157\n",
            "obtained Embedding of news 158\n",
            "obtained Embedding of news 159\n",
            "obtained Embedding of news 160\n",
            "obtained Embedding of news 161\n",
            "obtained Embedding of news 162\n",
            "obtained Embedding of news 163\n",
            "obtained Embedding of news 164\n",
            "obtained Embedding of news 165\n",
            "obtained Embedding of news 166\n",
            "obtained Embedding of news 167\n",
            "obtained Embedding of news 168\n",
            "obtained Embedding of news 169\n",
            "obtained Embedding of news 170\n",
            "obtained Embedding of news 171\n",
            "obtained Embedding of news 172\n",
            "obtained Embedding of news 173\n",
            "obtained Embedding of news 174\n",
            "obtained Embedding of news 175\n",
            "obtained Embedding of news 176\n",
            "obtained Embedding of news 177\n",
            "obtained Embedding of news 178\n",
            "obtained Embedding of news 179\n",
            "obtained Embedding of news 180\n",
            "obtained Embedding of news 181\n"
          ],
          "name": "stdout"
        }
      ]
    },
    {
      "cell_type": "code",
      "metadata": {
        "id": "Eksnu-KEl1Z_",
        "colab": {
          "base_uri": "https://localhost:8080/",
          "height": 233
        },
        "outputId": "a28d8fe8-a7e2-4ad7-fab1-e1c105031a87"
      },
      "source": [
        "# Creating Embedding Column in Dataframe\n",
        "# It will hold sentence embedding of each news article\n",
        "df_data['news_embeddings'] = embeddings\n",
        "df_data.news_embeddings"
      ],
      "execution_count": null,
      "outputs": [
        {
          "output_type": "execute_result",
          "data": {
            "text/plain": [
              "0      [[-0.05760742, 0.008265725, -0.032001264, 0.02...\n",
              "1      [[0.019963518, 0.032315526, -0.03987241, -0.00...\n",
              "2      [[-0.05454539, -0.008581202, -0.06515903, 0.02...\n",
              "3      [[0.020184275, 0.023639578, -0.03999493, 0.064...\n",
              "4      [[0.035867557, -0.008092756, -0.059313223, -0....\n",
              "                             ...                        \n",
              "176    [[0.043615624, -0.08399421, -0.04286886, -0.00...\n",
              "177    [[-0.017788284, 0.044827122, -0.038701214, -0....\n",
              "178    [[-0.075044796, 0.033335067, -0.024392763, -0....\n",
              "179    [[0.005409523, -0.050416365, -0.009831261, 0.0...\n",
              "180    [[0.046023387, -0.040333807, -0.04452484, -0.0...\n",
              "Name: news_embeddings, Length: 181, dtype: object"
            ]
          },
          "metadata": {
            "tags": []
          },
          "execution_count": 24
        }
      ]
    },
    {
      "cell_type": "markdown",
      "metadata": {
        "id": "KvfW7ZjEzb_-"
      },
      "source": [
        "# Finding Cluster of a new News Article\n",
        " - Now that have our Contextual Embeddings ready.We can pose the question of clustering as a similarity search space.\n",
        " - Whenever a new instance comes, we can compute the Get a contextual representation of it.\n",
        " - We can compute the cosine-similarity between the new News article, and the existing news articles.\n",
        " - We will see which one has the most similar narratives, and information, and choose the cluster to which the top-ranked similar news belongs to.\n",
        "\n",
        " - Thus, we can obtain the cluster of a new news article.\n"
      ]
    },
    {
      "cell_type": "code",
      "metadata": {
        "id": "fXwf46Dc1gqG"
      },
      "source": [
        "class GetCluster():\n",
        "    def __init__(self, news):\n",
        "      self.news = news\n",
        "      self.clean_news = None\n",
        "      self.news_summary = None\n",
        "      self.sent_tokens = None\n",
        "      self.news_embedddings = None\n",
        "      \n",
        "\n",
        "    def _cleannews(self):\n",
        "      self.clean_news = clean_txt(self.news)\n",
        "\n",
        "    def _get_tokens(self):\n",
        "        self.sent_tokens = sent_tokens(self.clean_news)\n",
        "        if len(self.sent_tokens) > 10:\n",
        "          # we summarize it and then obtain tokens\n",
        "          self.news_summary = bert_summarizer(self.clean_news)\n",
        "          self.sent_tokens = sent_tokens(self.news_summary)\n",
        "\n",
        "    def _get_st_embeddings(self):\n",
        "        try:\n",
        "            self.news_embedddings = embed(self.sent_tokens).numpy()\n",
        "        except:\n",
        "            print('here')\n",
        "            self.news_embedddings = embed([self.sent_tokens]).numpy()\n",
        "\n",
        "    def _cosine_max_compute(self, vect1):\n",
        "        flatten_similarities = cosine_similarity(vect1, self.news_embedddings).flatten()\n",
        "        # return (cosine_similarity(vect1, self.news_embedddings)).max()\n",
        "        # we will get the mean of three best similar sentences b/w both news articles\n",
        "        flatten_sorted = -np.sort(-flatten_similarities)\n",
        "        max_mean_score = flatten_sorted[:3].mean()\n",
        "        return max_mean_score\n",
        "        \n",
        "\n",
        "\n",
        "    def _cosine_similarity(self):\n",
        "        df_data['similarities'] = df_data['news_embeddings'].apply(self._cosine_max_compute)\n",
        "\n",
        "\n",
        "    def _get_sort_best(self, N=1):\n",
        "        df = df_data.sort_values('similarities', ascending=False)\n",
        "        print()\n",
        "        cluster_nom = df['cluster_name'].head(1).to_string(index=False)\n",
        "        print(f\"RESULT: The NEW NEWS article belongs to cluster :- {cluster_nom}\")\n",
        "        print()\n",
        "        df = df[['text','title']].head(N)\n",
        "        return df\n",
        "\n",
        "    def get_N_similar_news(self, n=1):\n",
        "        # Step 1 - news will be cleaned\n",
        "        self._cleannews()\n",
        "        # Step 2 - get news sentence tokens\n",
        "        self._get_tokens()\n",
        "        # Step 3 - Get setence token Embeddings\n",
        "        self._get_st_embeddings()\n",
        "        # Step 4 - Get cosine Sims\n",
        "        self._cosine_similarity()\n",
        "        # Step 5 - Sort the data-frame by similarity to the news\n",
        "        n_similar_news = self._get_sort_best(N=n)\n",
        "        return n_similar_news\n",
        "\n"
      ],
      "execution_count": null,
      "outputs": []
    },
    {
      "cell_type": "markdown",
      "metadata": {
        "id": "7JewWjY_84AN"
      },
      "source": [
        "# RESULTS -\n",
        "\n",
        "- Let us check how this approach performs on \n",
        "  some real world news. \n",
        "- I picked up some news article from the internet.\n",
        "- Using this solution, we could assign **cluster** to this new article.\n",
        "- We can also search 'n' best matching similar narrative news articles in our corpus. (Where **'n'** is user choice,, by default we see 1 best matching news article.\n",
        "- The matchings are based on Contextual narrative comparisons.\n"
      ]
    },
    {
      "cell_type": "markdown",
      "metadata": {
        "id": "MV_PkYC6Ds4d"
      },
      "source": [
        "##### **Testing: Real World Example 1**\n",
        "I picked up this snippet of news from the link- \n",
        "\n",
        "https://www.who.int/news-room/detail/13-06-2020-a-cluster-of-covid-19-in-beijing-people-s-republic-of-china\n"
      ]
    },
    {
      "cell_type": "code",
      "metadata": {
        "id": "-Vj2Oy-F5Q4O"
      },
      "source": [
        "new_news = \"\"\"\n",
        "WHO is following up with Chinese authorities about a cluster of COVID-19 cases in Beijing, People’s Republic of China.\n",
        "Today, officials from the National Health Commission and Beijing Health Commission briefed WHO’s China country office, to share details of preliminary investigations ongoing in Beijing.  \n",
        "As of 13 June, 41 symptomatic laboratory confirmed cases and 46 laboratory confirmed cases without symptoms of COVID-19 have been identified in Beijing.\n",
        "The first identified case had symptom onset on 9 June, and was confirmed on 11 June.  Several of the initial cases were identified through six fever clinics in Beijing.  Preliminary investigations revealed that some of the initial symptomatic cases had a link to the Xinfadi Market in Beijing.  Preliminary laboratory investigations of throat swabs from humans and environmental samples from Xinfadi Market identified 45 positive human samples (all without symptoms at the time of reporting) and 40 positive environmental samples.  One additional case without symptoms was identified as a close contact of a confirmed case.\n",
        "\"\"\""
      ],
      "execution_count": null,
      "outputs": []
    },
    {
      "cell_type": "markdown",
      "metadata": {
        "id": "Lcd6QUxREGgS"
      },
      "source": [
        "Let us try to find, two similar topic articles in our data-set"
      ]
    },
    {
      "cell_type": "code",
      "metadata": {
        "id": "W98yKwbM5w07",
        "colab": {
          "base_uri": "https://localhost:8080/",
          "height": 125
        },
        "outputId": "f4bdafc5-92f7-4ac5-b823-d883d64181fa"
      },
      "source": [
        "n = 2\n",
        "get_cluster = GetCluster(new_news)\n",
        "results = get_cluster.get_N_similar_news(n)\n",
        "# We could check the title of the similar text, through 'results.title'\n",
        "# and full news article through 'results.text'\n",
        "# The article number is displayed in the left.\n",
        "\n",
        "print(results.title)"
      ],
      "execution_count": null,
      "outputs": [
        {
          "output_type": "stream",
          "text": [
            "\n",
            "RESULT: The NEW NEWS article belongs to cluster :-  Origins\n",
            "\n",
            "106    Shock: Americans \"Chinese coronavirus\" was sick in September and hid\n",
            "101           Coronavirus in China: 2.8 million infected, 112 thousand dead\n",
            "Name: title, dtype: object\n"
          ],
          "name": "stdout"
        }
      ]
    },
    {
      "cell_type": "markdown",
      "metadata": {
        "id": "CBzgVA10FMF8"
      },
      "source": [
        "##### Voila! \n",
        "\n",
        "We found two very similar news article from our corpus in terms of topic, \n",
        "and narratives. \n",
        "- **First one is**  - Titled - 'Shock: Americans \"Chinese coronavirus\" was sick in September' , News Article Number 106 in our Data-set.\n",
        "- **Second one is**  - Titled - 'Coronavirus in China: 2.8 million infected, 112' thousand dead.\n"
      ]
    },
    {
      "cell_type": "markdown",
      "metadata": {
        "id": "JIKo09mAEduc"
      },
      "source": [
        "##### **Testing: Real World Example 2**\n",
        "I picked up this snippet of news from the link- \n",
        "\n",
        "https://economictimes.indiatimes.com/news/international/world-news/us-grapples-with-pandemic-as-its-origins-are-traced-in-china/articleshow/76943301.cms\n",
        "\n",
        "I took first two paragraphs of the news article"
      ]
    },
    {
      "cell_type": "code",
      "metadata": {
        "id": "5ROF4Q8i6zzu",
        "colab": {
          "base_uri": "https://localhost:8080/",
          "height": 217
        },
        "outputId": "7ccddcf0-29e1-4c69-9995-93eaaf8048d5"
      },
      "source": [
        "new_news2 = \"\"\"\n",
        "\n",
        "The United States was grappling with the worst coronavirus outbreak in the world on Monday, as Florida shattered the national record for a state's largest single-day increase in new confirmed cases.\n",
        "Meanwhile, two World Health Organization experts went in China for a mission to trace the origin of the pandemic. The virus was first detected in central China's city of Wuhan late last year. Beijing had been reluctant to allow a probe but relented after scores of countries called on the WHO to conduct a thorough investigation.\n",
        "\"\"\"\n",
        "get_cluster = GetCluster(new_news2)\n",
        "results = get_cluster.get_N_similar_news()\n",
        "\n",
        "print('Title is ...')\n",
        "print(results.title)\n",
        "print()\n",
        "print('Text is ...')\n",
        "print(results.text)\n",
        "\n"
      ],
      "execution_count": null,
      "outputs": [
        {
          "output_type": "stream",
          "text": [
            "\n",
            "RESULT: The NEW NEWS article belongs to cluster :-  USA created COVID-2019\n",
            "\n",
            "Title is ...\n",
            "173    People learned about the coronavirus created in the US laboratory in 2015. They decided: a pandemic is not an accident.\n",
            "Name: title, dtype: object\n",
            "\n",
            "Text is ...\n",
            "173    Social network users found on the Internet a study of bat coronavirus, in which scientists were able to modify the strain so that it infects humans. Scientists from the USA were engaged in the work back in 2015, and people saw this as confirmation of one of their favorite conspiracy theories related to COVID-2019.\\nThe COVID-2019 epidemic, which began in the Chinese city of Wuhan, managed to get out of China and spread throughout the world in two months. In mid-March, an article became popular in social networks according to which a dangerous strain was artificially created as part of a study of bat coronavirus by American scientists.\\nThe scientific work was written by a team of biologists back in 2015, on November 9 of the same year it was published on the scientific portal Nature. Researchers studied the SHCo14 virus found in Chinese horseshoe bats.\\nScientists combined this strain with another - its name is SARS, and it causes a severe acute respiratory syndrome, or SARS. Further, the researchers “generated and characterized a chimeric virus that can <...> multiply in the primary cells of the human respiratory tract.\" In other words, biologists altered the coronavirus of bats so much that they got a strain that could infect a person - and the virus would cause severe pneumonia in him. When it all ends, I will write an autobiographical masterpiece, \"How I Survived Without Leaving Home.\" What will you do?\\nAmong the authors of the article are listed as researchers at the University of North Carolina, USA, and the Wuhan Virology Institute, China. In 2020, users of social networks read the old scientific material and they had suspicions about who is behind the COVID-2019 epidemic.\\nIf some people, having read the article, decided to share with subscribers the very fact of its existence, then others are already building theories. They are sure: the coronavirus epidemic is the work of the US government, and one of the goals of this diversion was to strike at its own citizens.\\nOn Russian-language Twitter, they also looked at the results of a study by scientists.\\nWilly Wilmer, a German lawyer and politician, really believes that the coronavirus was brought to China by infected American soldiers who arrived in the country for sporting events. People agree with his version, and are ready to blame the United States for thousands of deaths.\\nSome users are sure that there are only two countries that will repulse the United States in the situation with coronavirus, although they do not yet say how they will do it.\\nAnd someone was not at all surprised that the United States was considered the culprit of the pandemic.\\nThe comments did not answer the question, however, a military event was indeed held in China. The World War Games were held in Wuhan at the end of October 2019, probably Willy Wimmer referred to them. At least Igor Nikulin, a former member of the UN Commission on Biological and Chemical Weapons, interpreted the German politician’s assumption exactly and completely agree with him.\\nBoth politicians came to such conclusions not without reason. These thoughts were prompted by the representative of the Ministry of Foreign Affairs of China Zhao Lijian, who also believes that COVID-2019 was brought into his country by the US military. Users who commented on a post about Willy Wimmer’s words and laboratory research in North Carolina 2015, are sure that Americans are really to blame for everything - and only because of their attitude to the rest of the world.\\nBut it was not difficult for other users to guess which television channel most commentators prefer to watch.\\nAnd another commentator suggested that the reason for such hatred of people towards the USA is the refusal of medicines.\\nAnother commentator, learning about the experiments in the laboratory of North Carolina, easily believed in the guilt of the States and even suggested what to do with this country.\\nThe news that the coronavirus reached the United States, this person is very happy.\\nBut there is an assumption that the United States came up with a coronavirus not only for China, but also for other countries. For each nationality - its own separate strain.\\nIn fact, while the virus, supposedly created in 2015, is being discussed only by politicians and scientists far from laboratories. Until now, specialists in the region have not published the results of comparisons of strains.\\nEven before people learned about research in the North Carolina laboratory, they were building theories about where the coronavirus came from, and there was nothing to do with natural causes. In their research, the main suspects were God, Putin and the Marxist revolutionaries.\\nThere are other considerations in this regard. Before the coronavirus spread around the world and caused a pandemic, users of social networks began to speculate about who was behind it. Bill Gates and his wife came under fire from conspiracy theorists.\n",
            "Name: text, dtype: object\n"
          ],
          "name": "stdout"
        }
      ]
    },
    {
      "cell_type": "markdown",
      "metadata": {
        "id": "szAU9kuRHqdk"
      },
      "source": [
        "- In this example as well, we can see that with this approach we can get \n",
        "the news article which is very similar in our data set to the new real world article we found over the internet.\n",
        "\n",
        "- And since, we have a labelled data set with defined clusters. We can put the new unseen news article, in the same cluster, as the the best match news article's cluster is."
      ]
    },
    {
      "cell_type": "code",
      "metadata": {
        "id": "sMrtb49gIXqJ"
      },
      "source": [
        ""
      ],
      "execution_count": null,
      "outputs": []
    }
  ]
}