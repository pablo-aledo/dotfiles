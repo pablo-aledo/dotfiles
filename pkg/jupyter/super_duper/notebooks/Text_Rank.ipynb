{
  "nbformat": 4,
  "nbformat_minor": 0,
  "metadata": {
    "kernelspec": {
      "display_name": "Python 3",
      "language": "python",
      "name": "python3"
    },
    "language_info": {
      "codemirror_mode": {
        "name": "ipython",
        "version": 3
      },
      "file_extension": ".py",
      "mimetype": "text/x-python",
      "name": "python",
      "nbconvert_exporter": "python",
      "pygments_lexer": "ipython3",
      "version": "3.7.3"
    },
    "colab": {
      "name": "Text_Rank.ipynb",
      "provenance": []
    }
  },
  "cells": [
    {
      "cell_type": "markdown",
      "metadata": {
        "id": "glm_Z83-ChqG"
      },
      "source": [
        "# Graph Construction\n",
        "\n",
        "Let's look at how to build a graph from a raw text.\n",
        "\n",
        "This work is based on \n",
        "[\"TextRank: Bringing Order into Text\"](http://web.eecs.umich.edu/~mihalcea/papers/mihalcea.emnlp04.pdf),\n",
        "Rada Mihalcea, Paul Tarau, _Empirical Methods in Natural Language Processing_ (2004)."
      ]
    },
    {
      "cell_type": "markdown",
      "metadata": {
        "id": "rauplmrvChqJ"
      },
      "source": [
        "---\n",
        "First we perform some basic housekeeping for Jupyter and then load `spaCy` ..."
      ]
    },
    {
      "cell_type": "code",
      "metadata": {
        "id": "DWmgj0yMChqK"
      },
      "source": [
        "import logging\n",
        "import sys\n",
        "import warnings\n",
        "\n",
        "warnings.filterwarnings(\"ignore\")\n",
        "logging.basicConfig(stream=sys.stdout, level=logging.DEBUG)\n",
        "logger = logging.getLogger(\"PyTR\")"
      ],
      "execution_count": null,
      "outputs": []
    },
    {
      "cell_type": "code",
      "metadata": {
        "id": "gngdtvxZChqL",
        "outputId": "630cbbe7-b25c-433f-8b59-0d7a6ed99a4e"
      },
      "source": [
        "import spacy\n",
        "nlp = spacy.load(\"en_core_web_sm\")"
      ],
      "execution_count": null,
      "outputs": [
        {
          "output_type": "stream",
          "text": [
            "INFO:transformers.file_utils:PyTorch version 1.3.0 available.\n",
            "INFO:transformers.modeling_xlnet:Better speed can be achieved with apex installed from https://www.github.com/nvidia/apex .\n"
          ],
          "name": "stdout"
        }
      ]
    },
    {
      "cell_type": "markdown",
      "metadata": {
        "id": "tXyuYAJFChqN"
      },
      "source": [
        "Now, to get started, we'll create some text to use."
      ]
    },
    {
      "cell_type": "code",
      "metadata": {
        "id": "y_1RKYa2ChqN"
      },
      "source": [
        "#text = \"When Ada was twelve years old, this future 'Lady Fairy', as Charles Babbage affectionately called her, decided she wanted to fly. Ada Byron went about the project methodically, thoughtfully, with imagination and passion. Her first step, in February 1828, was to construct wings. She investigated different material and sizes. She considered various materials for the wings: paper, oilsilk, wires, and feathers. She examined the anatomy of birds to determine the right proportion between the wings and the body. She decided to write a book, Flyology, illustrating, with plates, some of her findings. She decided what equipment she would need; for example, a compass, to 'cut across the country by the most direct road', so that she could surmount mountains, rivers, and valleys. Her final step was to integrate steam with the 'art of flying.\"\n",
        "\n",
        "text = \"Compatibility of systems of linear constraints over the set of natural numbers. Criteria of compatibility of a system of linear Diophantine equations, strict inequations, and nonstrict inequations are considered. Upper bounds for components of a minimal set of solutions and algorithms of construction of minimal generating sets of solutions for all types of systems are given. These criteria and the corresponding algorithms for constructing a minimal supporting set of solutions can be used in solving all the considered types systems and systems of mixed types.\"\n",
        "\n",
        "doc = nlp(text)"
      ],
      "execution_count": null,
      "outputs": []
    },
    {
      "cell_type": "markdown",
      "metadata": {
        "id": "ZxAujrUsChqO"
      },
      "source": [
        "How many sentences are in the parsed document and where are their boundaries?"
      ]
    },
    {
      "cell_type": "code",
      "metadata": {
        "id": "DXjowCEEChqP",
        "outputId": "de5ab2e5-de7c-4770-d528-3f1e6859350b"
      },
      "source": [
        "for sent in doc.sents:\n",
        "    print(\">\", sent.start, sent.end)"
      ],
      "execution_count": null,
      "outputs": [
        {
          "output_type": "stream",
          "text": [
            "> 0 13\n",
            "> 13 33\n",
            "> 33 61\n",
            "> 61 91\n"
          ],
          "name": "stdout"
        }
      ]
    },
    {
      "cell_type": "markdown",
      "metadata": {
        "id": "yk4o9boIChqQ"
      },
      "source": [
        "What are the raw _noun chunks_ in the parsed document, as well as its _named entities_?"
      ]
    },
    {
      "cell_type": "code",
      "metadata": {
        "id": "unjfmsnDChqR",
        "outputId": "a8c3edbf-8677-4e8d-f3af-9da5106f699c"
      },
      "source": [
        "for chunk in doc.noun_chunks:\n",
        "    print(chunk.text)"
      ],
      "execution_count": null,
      "outputs": [
        {
          "output_type": "stream",
          "text": [
            "Compatibility\n",
            "systems\n",
            "linear constraints\n",
            "the set\n",
            "natural numbers\n",
            "Criteria\n",
            "compatibility\n",
            "a system\n",
            "linear Diophantine equations\n",
            "strict inequations\n",
            "nonstrict inequations\n",
            "Upper bounds\n",
            "components\n",
            "a minimal set\n",
            "solutions\n",
            "algorithms\n",
            "construction\n",
            "minimal generating sets\n",
            "solutions\n",
            "all types\n",
            "systems\n",
            "These criteria\n",
            "the corresponding algorithms\n",
            "a minimal supporting set\n",
            "solutions\n",
            "all the considered types systems\n",
            "systems\n",
            "mixed types\n"
          ],
          "name": "stdout"
        }
      ]
    },
    {
      "cell_type": "code",
      "metadata": {
        "id": "-xKFyT1NChqR",
        "outputId": "29c46a39-c8fa-4a49-f769-75dad8f65d63"
      },
      "source": [
        "for ent in doc.ents:\n",
        "    print(ent.text, ent.label_, ent.start, ent.end)"
      ],
      "execution_count": null,
      "outputs": [
        {
          "output_type": "stream",
          "text": [
            "Diophantine ORG 21 22\n"
          ],
          "name": "stdout"
        }
      ]
    },
    {
      "cell_type": "markdown",
      "metadata": {
        "id": "ywkKxsJJChqS"
      },
      "source": [
        "Given those details about the parsed document, next we use [NetworkX](https://networkx.github.io/) to manage an in-memory graph..."
      ]
    },
    {
      "cell_type": "code",
      "metadata": {
        "id": "l6_zAnE8ChqS"
      },
      "source": [
        "import networkx as nx\n",
        "\n",
        "def increment_edge (graph, node0, node1):\n",
        "    if logger:\n",
        "        logger.debug(\"link {} {}\".format(node0, node1))\n",
        "    \n",
        "    if graph.has_edge(node0, node1):\n",
        "        graph[node0][node1][\"weight\"] += 1.0\n",
        "    else:\n",
        "        graph.add_edge(node0, node1, weight=1.0)"
      ],
      "execution_count": null,
      "outputs": []
    },
    {
      "cell_type": "markdown",
      "metadata": {
        "id": "3eZQ-ThTChqS"
      },
      "source": [
        "Then construct a graph, sentence by sentence, based on the [spaCy part-of-speech tags](https://spacy.io/api/annotation#pos-en) tags:"
      ]
    },
    {
      "cell_type": "code",
      "metadata": {
        "id": "uiUWFg5LChqT"
      },
      "source": [
        "POS_KEPT = [\"ADJ\", \"NOUN\", \"PROPN\", \"VERB\"]\n",
        "\n",
        "def link_sentence (doc, sent, lemma_graph, seen_lemma):\n",
        "    visited_tokens = []\n",
        "    visited_nodes = []\n",
        "\n",
        "    for i in range(sent.start, sent.end):\n",
        "        token = doc[i]\n",
        "\n",
        "        if token.pos_ in POS_KEPT:\n",
        "            key = (token.lemma_, token.pos_)\n",
        "\n",
        "            if key not in seen_lemma:\n",
        "                seen_lemma[key] = set([token.i])\n",
        "            else:\n",
        "                seen_lemma[key].add(token.i)\n",
        "\n",
        "            node_id = list(seen_lemma.keys()).index(key)\n",
        "\n",
        "            if not node_id in lemma_graph:\n",
        "                lemma_graph.add_node(node_id)\n",
        "\n",
        "            if logger:\n",
        "                logger.debug(\"visit {} {}\".format(visited_tokens, visited_nodes))\n",
        "                logger.debug(\"range {}\".format(list(range(len(visited_tokens) - 1, -1, -1))))\n",
        "            \n",
        "            for prev_token in range(len(visited_tokens) - 1, -1, -1):\n",
        "                if logger:\n",
        "                    logger.debug(\"prev_tok {} {}\".format(prev_token, (token.i - visited_tokens[prev_token])))\n",
        "                \n",
        "                if (token.i - visited_tokens[prev_token]) <= 3:\n",
        "                    increment_edge(lemma_graph, node_id, visited_nodes[prev_token])\n",
        "                else:\n",
        "                    break\n",
        "\n",
        "            if logger:\n",
        "                logger.debug(\" -- {} {} {} {} {} {}\".format(token.i, token.text, token.lemma_, token.pos_, visited_tokens, visited_nodes))\n",
        "\n",
        "            visited_tokens.append(token.i)\n",
        "            visited_nodes.append(node_id)"
      ],
      "execution_count": null,
      "outputs": []
    },
    {
      "cell_type": "markdown",
      "metadata": {
        "id": "gYTSApjSChqU"
      },
      "source": [
        "Now iterate through the sentences to construct the lemma graph..."
      ]
    },
    {
      "cell_type": "code",
      "metadata": {
        "id": "vaadufLAChqU",
        "outputId": "9f31994d-8a80-427e-ee0e-933baf23ad2f"
      },
      "source": [
        "lemma_graph = nx.Graph()\n",
        "seen_lemma = {}\n",
        "\n",
        "for sent in doc.sents:\n",
        "    link_sentence(doc, sent, lemma_graph, seen_lemma)\n",
        "    #break # only test one sentence\n",
        "\n",
        "if logger:\n",
        "    logger.debug(seen_lemma)"
      ],
      "execution_count": null,
      "outputs": [
        {
          "output_type": "stream",
          "text": [
            "DEBUG:PyTR:visit [] []\n",
            "DEBUG:PyTR:range []\n",
            "DEBUG:PyTR: -- 0 Compatibility compatibility NOUN [] []\n",
            "DEBUG:PyTR:visit [0] [0]\n",
            "DEBUG:PyTR:range [0]\n",
            "DEBUG:PyTR:prev_tok 0 2\n",
            "DEBUG:PyTR:link 1 0\n",
            "DEBUG:PyTR: -- 2 systems system NOUN [0] [0]\n",
            "DEBUG:PyTR:visit [0, 2] [0, 1]\n",
            "DEBUG:PyTR:range [1, 0]\n",
            "DEBUG:PyTR:prev_tok 1 2\n",
            "DEBUG:PyTR:link 2 1\n",
            "DEBUG:PyTR:prev_tok 0 4\n",
            "DEBUG:PyTR: -- 4 linear linear ADJ [0, 2] [0, 1]\n",
            "DEBUG:PyTR:visit [0, 2, 4] [0, 1, 2]\n",
            "DEBUG:PyTR:range [2, 1, 0]\n",
            "DEBUG:PyTR:prev_tok 2 1\n",
            "DEBUG:PyTR:link 3 2\n",
            "DEBUG:PyTR:prev_tok 1 3\n",
            "DEBUG:PyTR:link 3 1\n",
            "DEBUG:PyTR:prev_tok 0 5\n",
            "DEBUG:PyTR: -- 5 constraints constraint NOUN [0, 2, 4] [0, 1, 2]\n",
            "DEBUG:PyTR:visit [0, 2, 4, 5] [0, 1, 2, 3]\n",
            "DEBUG:PyTR:range [3, 2, 1, 0]\n",
            "DEBUG:PyTR:prev_tok 3 3\n",
            "DEBUG:PyTR:link 4 3\n",
            "DEBUG:PyTR:prev_tok 2 4\n",
            "DEBUG:PyTR: -- 8 set set NOUN [0, 2, 4, 5] [0, 1, 2, 3]\n",
            "DEBUG:PyTR:visit [0, 2, 4, 5, 8] [0, 1, 2, 3, 4]\n",
            "DEBUG:PyTR:range [4, 3, 2, 1, 0]\n",
            "DEBUG:PyTR:prev_tok 4 2\n",
            "DEBUG:PyTR:link 5 4\n",
            "DEBUG:PyTR:prev_tok 3 5\n",
            "DEBUG:PyTR: -- 10 natural natural ADJ [0, 2, 4, 5, 8] [0, 1, 2, 3, 4]\n",
            "DEBUG:PyTR:visit [0, 2, 4, 5, 8, 10] [0, 1, 2, 3, 4, 5]\n",
            "DEBUG:PyTR:range [5, 4, 3, 2, 1, 0]\n",
            "DEBUG:PyTR:prev_tok 5 1\n",
            "DEBUG:PyTR:link 6 5\n",
            "DEBUG:PyTR:prev_tok 4 3\n",
            "DEBUG:PyTR:link 6 4\n",
            "DEBUG:PyTR:prev_tok 3 6\n",
            "DEBUG:PyTR: -- 11 numbers number NOUN [0, 2, 4, 5, 8, 10] [0, 1, 2, 3, 4, 5]\n",
            "DEBUG:PyTR:visit [] []\n",
            "DEBUG:PyTR:range []\n",
            "DEBUG:PyTR: -- 13 Criteria criterion NOUN [] []\n",
            "DEBUG:PyTR:visit [13] [7]\n",
            "DEBUG:PyTR:range [0]\n",
            "DEBUG:PyTR:prev_tok 0 2\n",
            "DEBUG:PyTR:link 0 7\n",
            "DEBUG:PyTR: -- 15 compatibility compatibility NOUN [13] [7]\n",
            "DEBUG:PyTR:visit [13, 15] [7, 0]\n",
            "DEBUG:PyTR:range [1, 0]\n",
            "DEBUG:PyTR:prev_tok 1 3\n",
            "DEBUG:PyTR:link 1 0\n",
            "DEBUG:PyTR:prev_tok 0 5\n",
            "DEBUG:PyTR: -- 18 system system NOUN [13, 15] [7, 0]\n",
            "DEBUG:PyTR:visit [13, 15, 18] [7, 0, 1]\n",
            "DEBUG:PyTR:range [2, 1, 0]\n",
            "DEBUG:PyTR:prev_tok 2 2\n",
            "DEBUG:PyTR:link 2 1\n",
            "DEBUG:PyTR:prev_tok 1 5\n",
            "DEBUG:PyTR: -- 20 linear linear ADJ [13, 15, 18] [7, 0, 1]\n",
            "DEBUG:PyTR:visit [13, 15, 18, 20] [7, 0, 1, 2]\n",
            "DEBUG:PyTR:range [3, 2, 1, 0]\n",
            "DEBUG:PyTR:prev_tok 3 1\n",
            "DEBUG:PyTR:link 8 2\n",
            "DEBUG:PyTR:prev_tok 2 3\n",
            "DEBUG:PyTR:link 8 1\n",
            "DEBUG:PyTR:prev_tok 1 6\n",
            "DEBUG:PyTR: -- 21 Diophantine Diophantine PROPN [13, 15, 18, 20] [7, 0, 1, 2]\n",
            "DEBUG:PyTR:visit [13, 15, 18, 20, 21] [7, 0, 1, 2, 8]\n",
            "DEBUG:PyTR:range [4, 3, 2, 1, 0]\n",
            "DEBUG:PyTR:prev_tok 4 1\n",
            "DEBUG:PyTR:link 9 8\n",
            "DEBUG:PyTR:prev_tok 3 2\n",
            "DEBUG:PyTR:link 9 2\n",
            "DEBUG:PyTR:prev_tok 2 4\n",
            "DEBUG:PyTR: -- 22 equations equation NOUN [13, 15, 18, 20, 21] [7, 0, 1, 2, 8]\n",
            "DEBUG:PyTR:visit [13, 15, 18, 20, 21, 22] [7, 0, 1, 2, 8, 9]\n",
            "DEBUG:PyTR:range [5, 4, 3, 2, 1, 0]\n",
            "DEBUG:PyTR:prev_tok 5 2\n",
            "DEBUG:PyTR:link 10 9\n",
            "DEBUG:PyTR:prev_tok 4 3\n",
            "DEBUG:PyTR:link 10 8\n",
            "DEBUG:PyTR:prev_tok 3 4\n",
            "DEBUG:PyTR: -- 24 strict strict ADJ [13, 15, 18, 20, 21, 22] [7, 0, 1, 2, 8, 9]\n",
            "DEBUG:PyTR:visit [13, 15, 18, 20, 21, 22, 24] [7, 0, 1, 2, 8, 9, 10]\n",
            "DEBUG:PyTR:range [6, 5, 4, 3, 2, 1, 0]\n",
            "DEBUG:PyTR:prev_tok 6 1\n",
            "DEBUG:PyTR:link 11 10\n",
            "DEBUG:PyTR:prev_tok 5 3\n",
            "DEBUG:PyTR:link 11 9\n",
            "DEBUG:PyTR:prev_tok 4 4\n",
            "DEBUG:PyTR: -- 25 inequations inequation NOUN [13, 15, 18, 20, 21, 22, 24] [7, 0, 1, 2, 8, 9, 10]\n",
            "DEBUG:PyTR:visit [13, 15, 18, 20, 21, 22, 24, 25] [7, 0, 1, 2, 8, 9, 10, 11]\n",
            "DEBUG:PyTR:range [7, 6, 5, 4, 3, 2, 1, 0]\n",
            "DEBUG:PyTR:prev_tok 7 3\n",
            "DEBUG:PyTR:link 12 11\n",
            "DEBUG:PyTR:prev_tok 6 4\n",
            "DEBUG:PyTR: -- 28 nonstrict nonstrict NOUN [13, 15, 18, 20, 21, 22, 24, 25] [7, 0, 1, 2, 8, 9, 10, 11]\n",
            "DEBUG:PyTR:visit [13, 15, 18, 20, 21, 22, 24, 25, 28] [7, 0, 1, 2, 8, 9, 10, 11, 12]\n",
            "DEBUG:PyTR:range [8, 7, 6, 5, 4, 3, 2, 1, 0]\n",
            "DEBUG:PyTR:prev_tok 8 1\n",
            "DEBUG:PyTR:link 11 12\n",
            "DEBUG:PyTR:prev_tok 7 4\n",
            "DEBUG:PyTR: -- 29 inequations inequation NOUN [13, 15, 18, 20, 21, 22, 24, 25, 28] [7, 0, 1, 2, 8, 9, 10, 11, 12]\n",
            "DEBUG:PyTR:visit [13, 15, 18, 20, 21, 22, 24, 25, 28, 29] [7, 0, 1, 2, 8, 9, 10, 11, 12, 11]\n",
            "DEBUG:PyTR:range [9, 8, 7, 6, 5, 4, 3, 2, 1, 0]\n",
            "DEBUG:PyTR:prev_tok 9 2\n",
            "DEBUG:PyTR:link 13 11\n",
            "DEBUG:PyTR:prev_tok 8 3\n",
            "DEBUG:PyTR:link 13 12\n",
            "DEBUG:PyTR:prev_tok 7 6\n",
            "DEBUG:PyTR: -- 31 considered consider VERB [13, 15, 18, 20, 21, 22, 24, 25, 28, 29] [7, 0, 1, 2, 8, 9, 10, 11, 12, 11]\n",
            "DEBUG:PyTR:visit [] []\n",
            "DEBUG:PyTR:range []\n",
            "DEBUG:PyTR: -- 33 Upper upper ADJ [] []\n",
            "DEBUG:PyTR:visit [33] [14]\n",
            "DEBUG:PyTR:range [0]\n",
            "DEBUG:PyTR:prev_tok 0 1\n",
            "DEBUG:PyTR:link 15 14\n",
            "DEBUG:PyTR: -- 34 bounds bound NOUN [33] [14]\n",
            "DEBUG:PyTR:visit [33, 34] [14, 15]\n",
            "DEBUG:PyTR:range [1, 0]\n",
            "DEBUG:PyTR:prev_tok 1 2\n",
            "DEBUG:PyTR:link 16 15\n",
            "DEBUG:PyTR:prev_tok 0 3\n",
            "DEBUG:PyTR:link 16 14\n",
            "DEBUG:PyTR: -- 36 components component NOUN [33, 34] [14, 15]\n",
            "DEBUG:PyTR:visit [33, 34, 36] [14, 15, 16]\n",
            "DEBUG:PyTR:range [2, 1, 0]\n",
            "DEBUG:PyTR:prev_tok 2 3\n",
            "DEBUG:PyTR:link 17 16\n",
            "DEBUG:PyTR:prev_tok 1 5\n",
            "DEBUG:PyTR: -- 39 minimal minimal ADJ [33, 34, 36] [14, 15, 16]\n",
            "DEBUG:PyTR:visit [33, 34, 36, 39] [14, 15, 16, 17]\n",
            "DEBUG:PyTR:range [3, 2, 1, 0]\n",
            "DEBUG:PyTR:prev_tok 3 1\n",
            "DEBUG:PyTR:link 4 17\n",
            "DEBUG:PyTR:prev_tok 2 4\n",
            "DEBUG:PyTR: -- 40 set set NOUN [33, 34, 36, 39] [14, 15, 16, 17]\n",
            "DEBUG:PyTR:visit [33, 34, 36, 39, 40] [14, 15, 16, 17, 4]\n",
            "DEBUG:PyTR:range [4, 3, 2, 1, 0]\n",
            "DEBUG:PyTR:prev_tok 4 2\n",
            "DEBUG:PyTR:link 18 4\n",
            "DEBUG:PyTR:prev_tok 3 3\n",
            "DEBUG:PyTR:link 18 17\n",
            "DEBUG:PyTR:prev_tok 2 6\n",
            "DEBUG:PyTR: -- 42 solutions solution NOUN [33, 34, 36, 39, 40] [14, 15, 16, 17, 4]\n",
            "DEBUG:PyTR:visit [33, 34, 36, 39, 40, 42] [14, 15, 16, 17, 4, 18]\n",
            "DEBUG:PyTR:range [5, 4, 3, 2, 1, 0]\n",
            "DEBUG:PyTR:prev_tok 5 2\n",
            "DEBUG:PyTR:link 19 18\n",
            "DEBUG:PyTR:prev_tok 4 4\n",
            "DEBUG:PyTR: -- 44 algorithms algorithm NOUN [33, 34, 36, 39, 40, 42] [14, 15, 16, 17, 4, 18]\n",
            "DEBUG:PyTR:visit [33, 34, 36, 39, 40, 42, 44] [14, 15, 16, 17, 4, 18, 19]\n",
            "DEBUG:PyTR:range [6, 5, 4, 3, 2, 1, 0]\n",
            "DEBUG:PyTR:prev_tok 6 2\n",
            "DEBUG:PyTR:link 20 19\n",
            "DEBUG:PyTR:prev_tok 5 4\n",
            "DEBUG:PyTR: -- 46 construction construction NOUN [33, 34, 36, 39, 40, 42, 44] [14, 15, 16, 17, 4, 18, 19]\n",
            "DEBUG:PyTR:visit [33, 34, 36, 39, 40, 42, 44, 46] [14, 15, 16, 17, 4, 18, 19, 20]\n",
            "DEBUG:PyTR:range [7, 6, 5, 4, 3, 2, 1, 0]\n",
            "DEBUG:PyTR:prev_tok 7 2\n",
            "DEBUG:PyTR:link 17 20\n",
            "DEBUG:PyTR:prev_tok 6 4\n",
            "DEBUG:PyTR: -- 48 minimal minimal ADJ [33, 34, 36, 39, 40, 42, 44, 46] [14, 15, 16, 17, 4, 18, 19, 20]\n",
            "DEBUG:PyTR:visit [33, 34, 36, 39, 40, 42, 44, 46, 48] [14, 15, 16, 17, 4, 18, 19, 20, 17]\n",
            "DEBUG:PyTR:range [8, 7, 6, 5, 4, 3, 2, 1, 0]\n",
            "DEBUG:PyTR:prev_tok 8 1\n",
            "DEBUG:PyTR:link 21 17\n",
            "DEBUG:PyTR:prev_tok 7 3\n",
            "DEBUG:PyTR:link 21 20\n",
            "DEBUG:PyTR:prev_tok 6 5\n",
            "DEBUG:PyTR: -- 49 generating generating NOUN [33, 34, 36, 39, 40, 42, 44, 46, 48] [14, 15, 16, 17, 4, 18, 19, 20, 17]\n",
            "DEBUG:PyTR:visit [33, 34, 36, 39, 40, 42, 44, 46, 48, 49] [14, 15, 16, 17, 4, 18, 19, 20, 17, 21]\n",
            "DEBUG:PyTR:range [9, 8, 7, 6, 5, 4, 3, 2, 1, 0]\n",
            "DEBUG:PyTR:prev_tok 9 1\n",
            "DEBUG:PyTR:link 4 21\n",
            "DEBUG:PyTR:prev_tok 8 2\n",
            "DEBUG:PyTR:link 4 17\n",
            "DEBUG:PyTR:prev_tok 7 4\n",
            "DEBUG:PyTR: -- 50 sets set NOUN [33, 34, 36, 39, 40, 42, 44, 46, 48, 49] [14, 15, 16, 17, 4, 18, 19, 20, 17, 21]\n",
            "DEBUG:PyTR:visit [33, 34, 36, 39, 40, 42, 44, 46, 48, 49, 50] [14, 15, 16, 17, 4, 18, 19, 20, 17, 21, 4]\n",
            "DEBUG:PyTR:range [10, 9, 8, 7, 6, 5, 4, 3, 2, 1, 0]\n",
            "DEBUG:PyTR:prev_tok 10 2\n",
            "DEBUG:PyTR:link 18 4\n",
            "DEBUG:PyTR:prev_tok 9 3\n",
            "DEBUG:PyTR:link 18 21\n",
            "DEBUG:PyTR:prev_tok 8 4\n",
            "DEBUG:PyTR: -- 52 solutions solution NOUN [33, 34, 36, 39, 40, 42, 44, 46, 48, 49, 50] [14, 15, 16, 17, 4, 18, 19, 20, 17, 21, 4]\n",
            "DEBUG:PyTR:visit [33, 34, 36, 39, 40, 42, 44, 46, 48, 49, 50, 52] [14, 15, 16, 17, 4, 18, 19, 20, 17, 21, 4, 18]\n",
            "DEBUG:PyTR:range [11, 10, 9, 8, 7, 6, 5, 4, 3, 2, 1, 0]\n",
            "DEBUG:PyTR:prev_tok 11 3\n",
            "DEBUG:PyTR:link 22 18\n",
            "DEBUG:PyTR:prev_tok 10 5\n",
            "DEBUG:PyTR: -- 55 types type NOUN [33, 34, 36, 39, 40, 42, 44, 46, 48, 49, 50, 52] [14, 15, 16, 17, 4, 18, 19, 20, 17, 21, 4, 18]\n",
            "DEBUG:PyTR:visit [33, 34, 36, 39, 40, 42, 44, 46, 48, 49, 50, 52, 55] [14, 15, 16, 17, 4, 18, 19, 20, 17, 21, 4, 18, 22]\n",
            "DEBUG:PyTR:range [12, 11, 10, 9, 8, 7, 6, 5, 4, 3, 2, 1, 0]\n",
            "DEBUG:PyTR:prev_tok 12 2\n",
            "DEBUG:PyTR:link 1 22\n",
            "DEBUG:PyTR:prev_tok 11 5\n",
            "DEBUG:PyTR: -- 57 systems system NOUN [33, 34, 36, 39, 40, 42, 44, 46, 48, 49, 50, 52, 55] [14, 15, 16, 17, 4, 18, 19, 20, 17, 21, 4, 18, 22]\n",
            "DEBUG:PyTR:visit [33, 34, 36, 39, 40, 42, 44, 46, 48, 49, 50, 52, 55, 57] [14, 15, 16, 17, 4, 18, 19, 20, 17, 21, 4, 18, 22, 1]\n",
            "DEBUG:PyTR:range [13, 12, 11, 10, 9, 8, 7, 6, 5, 4, 3, 2, 1, 0]\n"
          ],
          "name": "stdout"
        },
        {
          "output_type": "stream",
          "text": [
            "DEBUG:PyTR:prev_tok 13 2\n",
            "DEBUG:PyTR:link 23 1\n",
            "DEBUG:PyTR:prev_tok 12 4\n",
            "DEBUG:PyTR: -- 59 given give VERB [33, 34, 36, 39, 40, 42, 44, 46, 48, 49, 50, 52, 55, 57] [14, 15, 16, 17, 4, 18, 19, 20, 17, 21, 4, 18, 22, 1]\n",
            "DEBUG:PyTR:visit [] []\n",
            "DEBUG:PyTR:range []\n",
            "DEBUG:PyTR: -- 62 criteria criterion NOUN [] []\n",
            "DEBUG:PyTR:visit [62] [7]\n",
            "DEBUG:PyTR:range [0]\n",
            "DEBUG:PyTR:prev_tok 0 3\n",
            "DEBUG:PyTR:link 24 7\n",
            "DEBUG:PyTR: -- 65 corresponding corresponding ADJ [62] [7]\n",
            "DEBUG:PyTR:visit [62, 65] [7, 24]\n",
            "DEBUG:PyTR:range [1, 0]\n",
            "DEBUG:PyTR:prev_tok 1 1\n",
            "DEBUG:PyTR:link 19 24\n",
            "DEBUG:PyTR:prev_tok 0 4\n",
            "DEBUG:PyTR: -- 66 algorithms algorithm NOUN [62, 65] [7, 24]\n",
            "DEBUG:PyTR:visit [62, 65, 66] [7, 24, 19]\n",
            "DEBUG:PyTR:range [2, 1, 0]\n",
            "DEBUG:PyTR:prev_tok 2 2\n",
            "DEBUG:PyTR:link 25 19\n",
            "DEBUG:PyTR:prev_tok 1 3\n",
            "DEBUG:PyTR:link 25 24\n",
            "DEBUG:PyTR:prev_tok 0 6\n",
            "DEBUG:PyTR: -- 68 constructing construct VERB [62, 65, 66] [7, 24, 19]\n",
            "DEBUG:PyTR:visit [62, 65, 66, 68] [7, 24, 19, 25]\n",
            "DEBUG:PyTR:range [3, 2, 1, 0]\n",
            "DEBUG:PyTR:prev_tok 3 2\n",
            "DEBUG:PyTR:link 17 25\n",
            "DEBUG:PyTR:prev_tok 2 4\n",
            "DEBUG:PyTR: -- 70 minimal minimal ADJ [62, 65, 66, 68] [7, 24, 19, 25]\n",
            "DEBUG:PyTR:visit [62, 65, 66, 68, 70] [7, 24, 19, 25, 17]\n",
            "DEBUG:PyTR:range [4, 3, 2, 1, 0]\n",
            "DEBUG:PyTR:prev_tok 4 1\n",
            "DEBUG:PyTR:link 26 17\n",
            "DEBUG:PyTR:prev_tok 3 3\n",
            "DEBUG:PyTR:link 26 25\n",
            "DEBUG:PyTR:prev_tok 2 5\n",
            "DEBUG:PyTR: -- 71 supporting support VERB [62, 65, 66, 68, 70] [7, 24, 19, 25, 17]\n",
            "DEBUG:PyTR:visit [62, 65, 66, 68, 70, 71] [7, 24, 19, 25, 17, 26]\n",
            "DEBUG:PyTR:range [5, 4, 3, 2, 1, 0]\n",
            "DEBUG:PyTR:prev_tok 5 1\n",
            "DEBUG:PyTR:link 4 26\n",
            "DEBUG:PyTR:prev_tok 4 2\n",
            "DEBUG:PyTR:link 4 17\n",
            "DEBUG:PyTR:prev_tok 3 4\n",
            "DEBUG:PyTR: -- 72 set set NOUN [62, 65, 66, 68, 70, 71] [7, 24, 19, 25, 17, 26]\n",
            "DEBUG:PyTR:visit [62, 65, 66, 68, 70, 71, 72] [7, 24, 19, 25, 17, 26, 4]\n",
            "DEBUG:PyTR:range [6, 5, 4, 3, 2, 1, 0]\n",
            "DEBUG:PyTR:prev_tok 6 2\n",
            "DEBUG:PyTR:link 18 4\n",
            "DEBUG:PyTR:prev_tok 5 3\n",
            "DEBUG:PyTR:link 18 26\n",
            "DEBUG:PyTR:prev_tok 4 4\n",
            "DEBUG:PyTR: -- 74 solutions solution NOUN [62, 65, 66, 68, 70, 71, 72] [7, 24, 19, 25, 17, 26, 4]\n",
            "DEBUG:PyTR:visit [62, 65, 66, 68, 70, 71, 72, 74] [7, 24, 19, 25, 17, 26, 4, 18]\n",
            "DEBUG:PyTR:range [7, 6, 5, 4, 3, 2, 1, 0]\n",
            "DEBUG:PyTR:prev_tok 7 3\n",
            "DEBUG:PyTR:link 27 18\n",
            "DEBUG:PyTR:prev_tok 6 5\n",
            "DEBUG:PyTR: -- 77 used use VERB [62, 65, 66, 68, 70, 71, 72, 74] [7, 24, 19, 25, 17, 26, 4, 18]\n",
            "DEBUG:PyTR:visit [62, 65, 66, 68, 70, 71, 72, 74, 77] [7, 24, 19, 25, 17, 26, 4, 18, 27]\n",
            "DEBUG:PyTR:range [8, 7, 6, 5, 4, 3, 2, 1, 0]\n",
            "DEBUG:PyTR:prev_tok 8 2\n",
            "DEBUG:PyTR:link 28 27\n",
            "DEBUG:PyTR:prev_tok 7 5\n",
            "DEBUG:PyTR: -- 79 solving solve VERB [62, 65, 66, 68, 70, 71, 72, 74, 77] [7, 24, 19, 25, 17, 26, 4, 18, 27]\n",
            "DEBUG:PyTR:visit [62, 65, 66, 68, 70, 71, 72, 74, 77, 79] [7, 24, 19, 25, 17, 26, 4, 18, 27, 28]\n",
            "DEBUG:PyTR:range [9, 8, 7, 6, 5, 4, 3, 2, 1, 0]\n",
            "DEBUG:PyTR:prev_tok 9 3\n",
            "DEBUG:PyTR:link 13 28\n",
            "DEBUG:PyTR:prev_tok 8 5\n",
            "DEBUG:PyTR: -- 82 considered consider VERB [62, 65, 66, 68, 70, 71, 72, 74, 77, 79] [7, 24, 19, 25, 17, 26, 4, 18, 27, 28]\n",
            "DEBUG:PyTR:visit [62, 65, 66, 68, 70, 71, 72, 74, 77, 79, 82] [7, 24, 19, 25, 17, 26, 4, 18, 27, 28, 13]\n",
            "DEBUG:PyTR:range [10, 9, 8, 7, 6, 5, 4, 3, 2, 1, 0]\n",
            "DEBUG:PyTR:prev_tok 10 1\n",
            "DEBUG:PyTR:link 22 13\n",
            "DEBUG:PyTR:prev_tok 9 4\n",
            "DEBUG:PyTR: -- 83 types type NOUN [62, 65, 66, 68, 70, 71, 72, 74, 77, 79, 82] [7, 24, 19, 25, 17, 26, 4, 18, 27, 28, 13]\n",
            "DEBUG:PyTR:visit [62, 65, 66, 68, 70, 71, 72, 74, 77, 79, 82, 83] [7, 24, 19, 25, 17, 26, 4, 18, 27, 28, 13, 22]\n",
            "DEBUG:PyTR:range [11, 10, 9, 8, 7, 6, 5, 4, 3, 2, 1, 0]\n",
            "DEBUG:PyTR:prev_tok 11 1\n",
            "DEBUG:PyTR:link 1 22\n",
            "DEBUG:PyTR:prev_tok 10 2\n",
            "DEBUG:PyTR:link 1 13\n",
            "DEBUG:PyTR:prev_tok 9 5\n",
            "DEBUG:PyTR: -- 84 systems system NOUN [62, 65, 66, 68, 70, 71, 72, 74, 77, 79, 82, 83] [7, 24, 19, 25, 17, 26, 4, 18, 27, 28, 13, 22]\n",
            "DEBUG:PyTR:visit [62, 65, 66, 68, 70, 71, 72, 74, 77, 79, 82, 83, 84] [7, 24, 19, 25, 17, 26, 4, 18, 27, 28, 13, 22, 1]\n",
            "DEBUG:PyTR:range [12, 11, 10, 9, 8, 7, 6, 5, 4, 3, 2, 1, 0]\n",
            "DEBUG:PyTR:prev_tok 12 2\n",
            "DEBUG:PyTR:link 1 1\n",
            "DEBUG:PyTR:prev_tok 11 3\n",
            "DEBUG:PyTR:link 1 22\n",
            "DEBUG:PyTR:prev_tok 10 4\n",
            "DEBUG:PyTR: -- 86 systems system NOUN [62, 65, 66, 68, 70, 71, 72, 74, 77, 79, 82, 83, 84] [7, 24, 19, 25, 17, 26, 4, 18, 27, 28, 13, 22, 1]\n",
            "DEBUG:PyTR:visit [62, 65, 66, 68, 70, 71, 72, 74, 77, 79, 82, 83, 84, 86] [7, 24, 19, 25, 17, 26, 4, 18, 27, 28, 13, 22, 1, 1]\n",
            "DEBUG:PyTR:range [13, 12, 11, 10, 9, 8, 7, 6, 5, 4, 3, 2, 1, 0]\n",
            "DEBUG:PyTR:prev_tok 13 2\n",
            "DEBUG:PyTR:link 29 1\n",
            "DEBUG:PyTR:prev_tok 12 4\n",
            "DEBUG:PyTR: -- 88 mixed mixed ADJ [62, 65, 66, 68, 70, 71, 72, 74, 77, 79, 82, 83, 84, 86] [7, 24, 19, 25, 17, 26, 4, 18, 27, 28, 13, 22, 1, 1]\n",
            "DEBUG:PyTR:visit [62, 65, 66, 68, 70, 71, 72, 74, 77, 79, 82, 83, 84, 86, 88] [7, 24, 19, 25, 17, 26, 4, 18, 27, 28, 13, 22, 1, 1, 29]\n",
            "DEBUG:PyTR:range [14, 13, 12, 11, 10, 9, 8, 7, 6, 5, 4, 3, 2, 1, 0]\n",
            "DEBUG:PyTR:prev_tok 14 1\n",
            "DEBUG:PyTR:link 22 29\n",
            "DEBUG:PyTR:prev_tok 13 3\n",
            "DEBUG:PyTR:link 22 1\n",
            "DEBUG:PyTR:prev_tok 12 5\n",
            "DEBUG:PyTR: -- 89 types type NOUN [62, 65, 66, 68, 70, 71, 72, 74, 77, 79, 82, 83, 84, 86, 88] [7, 24, 19, 25, 17, 26, 4, 18, 27, 28, 13, 22, 1, 1, 29]\n",
            "DEBUG:PyTR:{('compatibility', 'NOUN'): {0, 15}, ('system', 'NOUN'): {2, 18, 84, 86, 57}, ('linear', 'ADJ'): {4, 20}, ('constraint', 'NOUN'): {5}, ('set', 'NOUN'): {8, 40, 72, 50}, ('natural', 'ADJ'): {10}, ('number', 'NOUN'): {11}, ('criterion', 'NOUN'): {13, 62}, ('Diophantine', 'PROPN'): {21}, ('equation', 'NOUN'): {22}, ('strict', 'ADJ'): {24}, ('inequation', 'NOUN'): {25, 29}, ('nonstrict', 'NOUN'): {28}, ('consider', 'VERB'): {82, 31}, ('upper', 'ADJ'): {33}, ('bound', 'NOUN'): {34}, ('component', 'NOUN'): {36}, ('minimal', 'ADJ'): {48, 70, 39}, ('solution', 'NOUN'): {42, 52, 74}, ('algorithm', 'NOUN'): {66, 44}, ('construction', 'NOUN'): {46}, ('generating', 'NOUN'): {49}, ('type', 'NOUN'): {89, 83, 55}, ('give', 'VERB'): {59}, ('corresponding', 'ADJ'): {65}, ('construct', 'VERB'): {68}, ('support', 'VERB'): {71}, ('use', 'VERB'): {77}, ('solve', 'VERB'): {79}, ('mixed', 'ADJ'): {88}}\n"
          ],
          "name": "stdout"
        }
      ]
    },
    {
      "cell_type": "markdown",
      "metadata": {
        "id": "0ZRZ-L38ChqV"
      },
      "source": [
        "Let's visualize the lemma graph, and for that first we need to collect a dictionary of the labels."
      ]
    },
    {
      "cell_type": "code",
      "metadata": {
        "id": "lNH9MD78ChqV",
        "outputId": "de7de288-3b7a-432f-be3d-a91d9a69b91b"
      },
      "source": [
        "labels = {}\n",
        "keys = list(seen_lemma.keys())\n",
        "\n",
        "for i in range(len(seen_lemma)):\n",
        "    labels[i] = keys[i][0].lower()\n",
        "\n",
        "labels"
      ],
      "execution_count": null,
      "outputs": [
        {
          "output_type": "execute_result",
          "data": {
            "text/plain": [
              "{0: 'compatibility',\n",
              " 1: 'system',\n",
              " 2: 'linear',\n",
              " 3: 'constraint',\n",
              " 4: 'set',\n",
              " 5: 'natural',\n",
              " 6: 'number',\n",
              " 7: 'criterion',\n",
              " 8: 'diophantine',\n",
              " 9: 'equation',\n",
              " 10: 'strict',\n",
              " 11: 'inequation',\n",
              " 12: 'nonstrict',\n",
              " 13: 'consider',\n",
              " 14: 'upper',\n",
              " 15: 'bound',\n",
              " 16: 'component',\n",
              " 17: 'minimal',\n",
              " 18: 'solution',\n",
              " 19: 'algorithm',\n",
              " 20: 'construction',\n",
              " 21: 'generating',\n",
              " 22: 'type',\n",
              " 23: 'give',\n",
              " 24: 'corresponding',\n",
              " 25: 'construct',\n",
              " 26: 'support',\n",
              " 27: 'use',\n",
              " 28: 'solve',\n",
              " 29: 'mixed'}"
            ]
          },
          "metadata": {
            "tags": []
          },
          "execution_count": 10
        }
      ]
    },
    {
      "cell_type": "markdown",
      "metadata": {
        "id": "PMXSEVT4ChqV"
      },
      "source": [
        "Then use `matplotlib` to visualize the lemma graph:"
      ]
    },
    {
      "cell_type": "code",
      "metadata": {
        "id": "Rs8Z-lTlChqV",
        "outputId": "0aaf8471-f038-4b02-b602-e4e5d564ab36"
      },
      "source": [
        "%matplotlib inline\n",
        "import matplotlib.pyplot as plt\n",
        "\n",
        "fig = plt.figure(figsize=(9, 9))\n",
        "pos = nx.spring_layout(lemma_graph)\n",
        "\n",
        "nx.draw(lemma_graph, pos=pos, with_labels=False, font_weight=\"bold\")\n",
        "nx.draw_networkx_labels(lemma_graph, pos, labels)"
      ],
      "execution_count": null,
      "outputs": [
        {
          "output_type": "stream",
          "text": [
            "DEBUG:matplotlib:$HOME=/home/ceteri\n",
            "DEBUG:matplotlib:CONFIGDIR=/home/ceteri/.config/matplotlib\n",
            "DEBUG:matplotlib:matplotlib data path: /home/ceteri/anaconda3/lib/python3.7/site-packages/matplotlib/mpl-data\n",
            "DEBUG:matplotlib:loaded rc file /home/ceteri/anaconda3/lib/python3.7/site-packages/matplotlib/mpl-data/matplotlibrc\n",
            "DEBUG:matplotlib:matplotlib version 3.1.0\n",
            "DEBUG:matplotlib:interactive is False\n",
            "DEBUG:matplotlib:platform is linux\n",
            "DEBUG:matplotlib:loaded modules: ['sys', 'builtins', '_frozen_importlib', '_imp', '_thread', '_warnings', '_weakref', 'zipimport', '_frozen_importlib_external', '_io', 'marshal', 'posix', 'encodings', 'codecs', '_codecs', 'encodings.aliases', 'encodings.utf_8', '_signal', '__main__', 'encodings.latin_1', 'io', 'abc', '_abc', '_bootlocale', '_locale', 'site', 'os', 'stat', '_stat', 'posixpath', 'genericpath', 'os.path', '_collections_abc', '_sitebuiltins', 'types', 'importlib', 'importlib._bootstrap', 'importlib._bootstrap_external', 'warnings', 'importlib.util', 'importlib.abc', 'importlib.machinery', 'contextlib', 'collections', 'operator', '_operator', 'keyword', 'heapq', '_heapq', 'itertools', 'reprlib', '_collections', 'functools', '_functools', 'mpl_toolkits', 'sphinxcontrib', 'runpy', 'pkgutil', 'weakref', '_weakrefset', 'ipykernel', 'ipykernel._version', 'ipykernel.connect', '__future__', 'json', 'json.decoder', 're', 'enum', 'sre_compile', '_sre', 'sre_parse', 'sre_constants', 'copyreg', 'json.scanner', '_json', 'json.encoder', 'subprocess', 'time', 'signal', 'errno', '_posixsubprocess', 'select', 'selectors', 'collections.abc', 'math', 'threading', 'traceback', 'linecache', 'tokenize', 'token', 'IPython', 'IPython.core', 'IPython.core.getipython', 'IPython.core.release', 'IPython.core.application', 'atexit', 'copy', 'glob', 'fnmatch', 'logging', 'string', '_string', 'shutil', 'zlib', 'bz2', '_compression', '_bz2', 'lzma', '_lzma', 'pwd', 'grp', 'traitlets', 'traitlets.traitlets', 'inspect', 'dis', 'opcode', '_opcode', 'six', 'struct', '_struct', 'traitlets.utils', 'traitlets.utils.getargspec', 'traitlets.utils.importstring', 'ipython_genutils', 'ipython_genutils._version', 'ipython_genutils.py3compat', 'ipython_genutils.encoding', 'locale', 'platform', 'traitlets.utils.sentinel', 'traitlets.utils.bunch', 'traitlets._version', 'traitlets.config', 'traitlets.config.application', 'decorator', 'traitlets.config.configurable', 'traitlets.config.loader', 'argparse', 'gettext', 'ast', '_ast', 'ipython_genutils.path', 'random', 'hashlib', '_hashlib', '_blake2', '_sha3', 'bisect', '_bisect', '_random', 'ipython_genutils.text', 'textwrap', 'ipython_genutils.importstring', 'IPython.core.crashhandler', 'pprint', 'IPython.core.ultratb', 'pydoc', 'urllib', 'urllib.parse', 'IPython.core.debugger', 'bdb', 'IPython.utils', 'IPython.utils.PyColorize', 'IPython.utils.coloransi', 'IPython.utils.ipstruct', 'IPython.utils.colorable', 'pygments', 'pygments.util', 'IPython.utils.py3compat', 'IPython.utils.encoding', 'IPython.core.excolors', 'IPython.testing', 'IPython.testing.skipdoctest', 'pdb', 'cmd', 'code', 'codeop', 'IPython.core.display_trap', 'IPython.utils.path', 'IPython.utils.process', 'IPython.utils._process_posix', 'pexpect', 'pexpect.exceptions', 'pexpect.utils', 'pexpect.expect', 'pexpect.pty_spawn', 'pty', 'tty', 'termios', 'ptyprocess', 'ptyprocess.ptyprocess', 'fcntl', 'resource', 'ptyprocess.util', 'pexpect.spawnbase', 'pexpect.run', 'IPython.utils._process_common', 'shlex', 'IPython.utils.decorators', 'IPython.utils.data', 'IPython.utils.terminal', 'IPython.utils.sysinfo', 'IPython.utils._sysinfo', 'IPython.core.profiledir', 'IPython.paths', 'tempfile', 'IPython.utils.importstring', 'IPython.terminal', 'IPython.terminal.embed', 'IPython.core.compilerop', 'IPython.core.magic_arguments', 'IPython.core.error', 'IPython.utils.text', 'pathlib', 'ntpath', 'IPython.core.magic', 'getopt', 'IPython.core.oinspect', 'IPython.core.page', 'IPython.core.display', 'binascii', 'mimetypes', 'IPython.lib', 'IPython.lib.security', 'getpass', 'IPython.lib.pretty', 'datetime', '_datetime', 'IPython.utils.openpy', 'IPython.utils.dir2', 'IPython.utils.wildcard', 'pygments.lexers', 'pygments.lexers._mapping', 'pygments.modeline', 'pygments.plugin', 'pygments.lexers.python', 'pygments.lexer', 'pygments.filter', 'pygments.filters', 'pygments.token', 'pygments.regexopt', 'pygments.unistring', 'pygments.formatters', 'pygments.formatters._mapping', 'pygments.formatters.html', 'pygments.formatter', 'pygments.styles', 'IPython.core.inputtransformer2', 'typing', 'typing.io', 'typing.re', 'IPython.core.interactiveshell', 'asyncio', 'asyncio.base_events', 'concurrent', 'concurrent.futures', 'concurrent.futures._base', 'socket', '_socket', 'ssl', '_ssl', 'base64', 'asyncio.constants', 'asyncio.coroutines', 'asyncio.base_futures', 'asyncio.format_helpers', 'asyncio.log', 'asyncio.events', 'contextvars', '_contextvars', 'asyncio.base_tasks', '_asyncio', 'asyncio.futures', 'asyncio.protocols', 'asyncio.sslproto', 'asyncio.transports', 'asyncio.tasks', 'asyncio.locks', 'asyncio.runners', 'asyncio.queues', 'asyncio.streams', 'asyncio.subprocess', 'asyncio.unix_events', 'asyncio.base_subprocess', 'asyncio.selector_events', 'pickleshare', 'pickle', '_compat_pickle', '_pickle', 'IPython.core.prefilter', 'IPython.core.autocall', 'IPython.core.macro', 'IPython.core.splitinput', 'IPython.core.alias', 'IPython.core.builtin_trap', 'IPython.core.events', 'backcall', 'backcall.backcall', 'IPython.core.displayhook', 'IPython.core.displaypub', 'IPython.core.extensions', 'IPython.core.formatters', 'IPython.utils.sentinel', 'IPython.core.history', 'sqlite3', 'sqlite3.dbapi2', '_sqlite3', 'IPython.core.logger', 'IPython.core.payload', 'IPython.core.usage', 'IPython.display', 'IPython.lib.display', 'html', 'html.entities', 'IPython.utils.io', 'IPython.utils.capture', 'IPython.utils.strdispatch', 'IPython.core.hooks', 'IPython.utils.syspathcontext', 'IPython.utils.tempdir', 'IPython.utils.contexts', 'IPython.core.async_helpers', 'IPython.terminal.interactiveshell', 'prompt_toolkit', 'prompt_toolkit.application', 'prompt_toolkit.application.application', 'prompt_toolkit.buffer', 'prompt_toolkit.application.current', 'prompt_toolkit.eventloop', 'prompt_toolkit.eventloop.base', 'prompt_toolkit.log', 'prompt_toolkit.eventloop.coroutine', 'prompt_toolkit.eventloop.defaults', 'prompt_toolkit.utils', 'six.moves', 'wcwidth', 'wcwidth.wcwidth', 'wcwidth.table_wide', 'wcwidth.table_zero', 'prompt_toolkit.cache', 'prompt_toolkit.eventloop.future', 'prompt_toolkit.eventloop.context', 'prompt_toolkit.eventloop.async_generator', 'queue', '_queue', 'six.moves.queue', 'prompt_toolkit.eventloop.event', 'prompt_toolkit.application.run_in_terminal', 'prompt_toolkit.auto_suggest', 'prompt_toolkit.filters', 'prompt_toolkit.filters.base', 'prompt_toolkit.filters.app', 'prompt_toolkit.enums', 'prompt_toolkit.filters.utils', 'prompt_toolkit.filters.cli', 'prompt_toolkit.clipboard', 'prompt_toolkit.clipboard.base', 'prompt_toolkit.selection', 'prompt_toolkit.clipboard.in_memory', 'prompt_toolkit.completion', 'prompt_toolkit.completion.base', 'prompt_toolkit.completion.filesystem', 'prompt_toolkit.completion.word_completer', 'prompt_toolkit.completion.fuzzy_completer', 'prompt_toolkit.document', 'prompt_toolkit.history', 'prompt_toolkit.search', 'prompt_toolkit.key_binding', 'prompt_toolkit.key_binding.key_bindings', 'prompt_toolkit.keys', 'prompt_toolkit.key_binding.vi_state', 'prompt_toolkit.validation', 'prompt_toolkit.input', 'prompt_toolkit.input.base', 'prompt_toolkit.input.defaults', 'prompt_toolkit.input.typeahead', 'prompt_toolkit.key_binding.bindings', 'prompt_toolkit.key_binding.bindings.page_navigation', 'prompt_toolkit.key_binding.bindings.scroll', 'prompt_toolkit.key_binding.defaults', 'prompt_toolkit.key_binding.bindings.basic', 'prompt_toolkit.key_binding.key_processor', 'prompt_toolkit.key_binding.bindings.named_commands', 'prompt_toolkit.key_binding.bindings.completion', 'prompt_toolkit.key_binding.bindings.emacs', 'prompt_toolkit.key_binding.bindings.vi', 'prompt_toolkit.input.vt100_parser', 'prompt_toolkit.input.ansi_escape_sequences', 'prompt_toolkit.key_binding.digraphs', 'prompt_toolkit.key_binding.bindings.mouse', 'prompt_toolkit.layout', 'prompt_toolkit.layout.containers', 'prompt_toolkit.layout.controls', 'prompt_toolkit.formatted_text', 'prompt_toolkit.formatted_text.base', 'prompt_toolkit.formatted_text.html', 'xml', 'xml.dom', 'xml.dom.domreg', 'xml.dom.minidom', 'xml.dom.minicompat', 'xml.dom.xmlbuilder', 'xml.dom.NodeFilter', 'prompt_toolkit.formatted_text.ansi', 'prompt_toolkit.output', 'prompt_toolkit.output.base', 'prompt_toolkit.layout.screen', 'prompt_toolkit.output.defaults', 'prompt_toolkit.output.color_depth', 'prompt_toolkit.output.vt100', 'prompt_toolkit.styles', 'prompt_toolkit.styles.base', 'prompt_toolkit.styles.defaults', 'prompt_toolkit.styles.style', 'prompt_toolkit.styles.named_colors', 'prompt_toolkit.styles.pygments', 'prompt_toolkit.styles.style_transformation', 'colorsys', 'array', 'prompt_toolkit.formatted_text.pygments', 'prompt_toolkit.formatted_text.utils', 'prompt_toolkit.lexers', 'prompt_toolkit.lexers.base', 'prompt_toolkit.lexers.pygments', 'prompt_toolkit.mouse_events', 'prompt_toolkit.layout.processors', 'prompt_toolkit.layout.utils', 'prompt_toolkit.layout.dimension', 'prompt_toolkit.layout.margins', 'prompt_toolkit.layout.layout', 'prompt_toolkit.layout.menus', 'prompt_toolkit.renderer', 'prompt_toolkit.layout.mouse_handlers', 'prompt_toolkit.key_binding.bindings.cpr', 'prompt_toolkit.key_binding.emacs_state', 'prompt_toolkit.layout.dummy', 'prompt_toolkit.application.dummy', 'prompt_toolkit.shortcuts', 'prompt_toolkit.shortcuts.dialogs', 'prompt_toolkit.key_binding.bindings.focus', 'prompt_toolkit.widgets', 'prompt_toolkit.widgets.base', 'prompt_toolkit.widgets.toolbars', 'prompt_toolkit.widgets.dialogs', 'prompt_toolkit.widgets.menus', 'prompt_toolkit.shortcuts.prompt', 'prompt_toolkit.key_binding.bindings.auto_suggest', 'prompt_toolkit.key_binding.bindings.open_in_editor', 'prompt_toolkit.shortcuts.utils', 'prompt_toolkit.shortcuts.progress_bar', 'prompt_toolkit.shortcuts.progress_bar.base', 'prompt_toolkit.shortcuts.progress_bar.formatters', 'prompt_toolkit.patch_stdout', 'pygments.style', 'IPython.terminal.debugger', 'IPython.core.completer', 'unicodedata', 'IPython.core.latex_symbols', 'IPython.utils.generics', 'jedi', 'jedi.api', 'parso', 'parso.parser', 'parso.tree', 'parso._compatibility', 'parso.utils', 'parso.pgen2', 'parso.pgen2.generator', 'parso.pgen2.grammar_parser', 'parso.python', 'parso.python.tokenize', 'parso.python.token', 'parso.grammar', 'parso.python.diff', 'difflib', 'parso.python.parser', 'parso.python.tree', 'parso.python.prefix', 'parso.cache', 'gc', 'parso.python.errors', 'parso.normalizer', 'parso.python.pep8', 'parso.file_io', 'jedi._compatibility', 'jedi.parser_utils', 'jedi.debug', 'colorama', 'colorama.initialise', 'colorama.ansitowin32', 'colorama.ansi', 'colorama.winterm', 'colorama.win32', 'ctypes', '_ctypes', 'ctypes._endian', 'jedi.settings', 'jedi.cache', 'jedi.api.classes', 'jedi.evaluate', 'jedi.evaluate.utils', 'jedi.evaluate.imports', 'jedi.evaluate.sys_path', 'jedi.evaluate.cache', 'jedi.evaluate.base_context', 'jedi.common', 'jedi.common.context', 'jedi.evaluate.helpers', 'jedi.common.utils', 'jedi.evaluate.compiled', 'jedi.evaluate.compiled.context', 'jedi.evaluate.filters', 'jedi.evaluate.flow_analysis', 'jedi.evaluate.recursion', 'jedi.evaluate.lazy_context', 'jedi.evaluate.compiled.access', 'jedi.evaluate.compiled.getattr_static', 'jedi.evaluate.compiled.fake', 'jedi.evaluate.analysis', 'jedi.evaluate.context', 'jedi.evaluate.context.module', 'jedi.evaluate.context.klass', 'jedi.evaluate.context.function', 'jedi.evaluate.docstrings', 'jedi.evaluate.pep0484', 'jedi.evaluate.arguments', 'jedi.evaluate.context.iterable', 'jedi.evaluate.param', 'jedi.evaluate.context.asynchronous', 'jedi.evaluate.parser_cache', 'jedi.evaluate.context.instance', 'jedi.evaluate.syntax_tree', 'jedi.evaluate.finder', 'jedi.api.keywords', 'pydoc_data', 'pydoc_data.topics', 'jedi.api.interpreter', 'jedi.evaluate.compiled.mixed', 'jedi.api.helpers', 'jedi.api.completion', 'jedi.api.environment', 'filecmp', 'jedi.evaluate.compiled.subprocess', 'jedi.evaluate.compiled.subprocess.functions', 'jedi.api.exceptions', 'jedi.api.project', 'jedi.evaluate.usages', 'IPython.terminal.ptutils', 'IPython.terminal.shortcuts', 'IPython.terminal.magics', 'IPython.lib.clipboard', 'IPython.terminal.pt_inputhooks', 'IPython.terminal.prompts', 'IPython.terminal.ipapp', 'IPython.core.magics', 'IPython.core.magics.auto', 'IPython.core.magics.basic', 'IPython.core.magics.code', 'urllib.request', 'email', 'http', 'http.client', 'email.parser', 'email.feedparser', 'email.errors', 'email._policybase', 'email.header', 'email.quoprimime', 'email.base64mime', 'email.charset', 'email.encoders', 'quopri', 'email.utils', 'email._parseaddr', 'calendar', 'email.message', 'uu', 'email._encoded_words', 'email.iterators', 'urllib.error', 'urllib.response', 'IPython.core.magics.config', 'IPython.core.magics.display', 'IPython.core.magics.execution', 'timeit', 'cProfile', '_lsprof', 'profile', 'pstats', 'IPython.utils.module_paths', 'IPython.utils.timing', 'IPython.core.magics.extension', 'IPython.core.magics.history', 'IPython.core.magics.logging', 'IPython.core.magics.namespace', 'IPython.core.magics.osm', 'IPython.core.magics.packaging', 'IPython.core.magics.pylab', 'IPython.core.pylabtools', 'IPython.core.magics.script', 'IPython.lib.backgroundjobs', 'IPython.core.shellapp', 'IPython.extensions', 'IPython.extensions.storemagic', 'IPython.utils.frame', 'jupyter_client', 'jupyter_client._version', 'jupyter_client.connect', 'zmq', 'zmq.backend', 'zmq.backend.select', 'zmq.backend.cython', 'zmq.backend.cython.constants', 'cython_runtime', 'zmq.backend.cython.error', '_cython_0_29_5', 'zmq.backend.cython.message', 'zmq.error', 'zmq.backend.cython.context', 'zmq.backend.cython.socket', 'zmq.backend.cython.utils', 'zmq.backend.cython._poll', 'zmq.backend.cython._version', 'zmq.backend.cython._device', 'zmq.backend.cython._proxy_steerable', 'zmq.sugar', 'zmq.sugar.constants', 'zmq.utils', 'zmq.utils.constant_names', 'zmq.sugar.context', 'zmq.sugar.attrsettr', 'zmq.sugar.socket', 'zmq.sugar.poll', 'zmq.utils.jsonapi', 'zmq.utils.strtypes', 'zmq.sugar.frame', 'zmq.sugar.tracker', 'zmq.sugar.version', 'zmq.sugar.stopwatch', 'jupyter_client.localinterfaces', 'jupyter_core', 'jupyter_core.version', 'jupyter_core.paths', 'jupyter_client.launcher', 'traitlets.log', 'jupyter_client.client', 'jupyter_client.channels', 'jupyter_client.channelsabc', 'jupyter_client.clientabc', 'jupyter_client.manager', 'jupyter_client.kernelspec', 'jupyter_client.managerabc', 'jupyter_client.blocking', 'jupyter_client.blocking.client', 'jupyter_client.blocking.channels', 'jupyter_client.multikernelmanager', 'uuid', 'ipykernel.kernelapp', 'tornado', 'tornado.ioloop', 'numbers', 'tornado.concurrent', 'tornado.log', 'logging.handlers', 'tornado.escape', 'tornado.util', 'tornado.speedups', 'curses', '_curses', 'zmq.eventloop', 'zmq.eventloop.ioloop', 'tornado.platform', 'tornado.platform.asyncio', 'tornado.gen', 'zmq.eventloop.zmqstream', 'ipykernel.iostream', 'imp', 'jupyter_client.session', 'hmac', 'jupyter_client.jsonutil', 'dateutil', 'dateutil._version', 'dateutil.parser', 'dateutil.parser._parser', 'decimal', '_decimal', 'dateutil.relativedelta', 'dateutil._common', 'dateutil.tz', 'dateutil.tz.tz', 'dateutil.tz._common', 'dateutil.tz._factories', 'dateutil.parser.isoparser', '_strptime', 'jupyter_client.adapter', 'ipykernel.heartbeat', 'ipykernel.ipkernel', 'IPython.utils.tokenutil', 'ipykernel.comm', 'ipykernel.comm.manager', 'ipykernel.comm.comm', 'ipykernel.kernelbase', 'tornado.queues', 'tornado.locks', 'ipykernel.jsonutil', 'ipykernel.zmqshell', 'IPython.core.payloadpage', 'ipykernel.displayhook', 'ipykernel.parentpoller', 'faulthandler', 'ipykernel.datapub', 'ipykernel.serialize', 'ipykernel.pickleutil', 'ipykernel.codeutil', 'IPython.core.completerlib', 'storemagic', 'ipywidgets', 'ipywidgets._version', 'ipywidgets.widgets', 'ipywidgets.widgets.widget', 'ipywidgets.widgets.domwidget', 'ipywidgets.widgets.trait_types', 'ipywidgets.widgets.util', 'ipywidgets.widgets.widget_layout', 'ipywidgets.widgets.widget_style', 'ipywidgets.widgets.valuewidget', 'ipywidgets.widgets.widget_core', 'ipywidgets.widgets.widget_bool', 'ipywidgets.widgets.widget_description', 'ipywidgets.widgets.widget_button', 'ipywidgets.widgets.widget_box', 'ipywidgets.widgets.docutils', 'ipywidgets.widgets.widget_float', 'ipywidgets.widgets.widget_int', 'ipywidgets.widgets.widget_color', 'ipywidgets.widgets.widget_date', 'ipywidgets.widgets.widget_output', 'ipywidgets.widgets.widget_selection', 'ipywidgets.widgets.widget_selectioncontainer', 'ipywidgets.widgets.widget_string', 'ipywidgets.widgets.widget_controller', 'ipywidgets.widgets.interaction', 'ipywidgets.widgets.widget_link', 'ipywidgets.widgets.widget_media', 'ipywidgets.widgets.widget_templates', 'ipywidgets.widgets.widget_upload', 'spacy', 'thinc', 'numpy', 'numpy._globals', 'numpy.__config__', 'numpy.version', 'numpy._distributor_init', 'numpy._mklinit', 'numpy.core', 'numpy.core.info', 'numpy.core.multiarray', 'numpy.core.overrides', 'numpy.core._multiarray_umath', 'numpy.compat', 'numpy.compat._inspect', 'numpy.compat.py3k', 'numpy.core.umath', 'numpy.core.numerictypes', 'numpy.core._string_helpers', 'numpy.core._type_aliases', 'numpy.core._dtype', 'numpy.core.numeric', 'numpy.core._internal', 'numpy.core.fromnumeric', 'numpy.core._methods', 'numpy.core.arrayprint', 'numpy.core.defchararray', 'numpy.core.records', 'numpy.core.memmap', 'numpy.core.function_base', 'numpy.core.machar', 'numpy.core.getlimits', 'numpy.core.shape_base', 'numpy.core.einsumfunc', 'numpy.core._add_newdocs', 'numpy.core._multiarray_tests', 'numpy.core._dtype_ctypes', 'numpy._pytesttester', 'numpy.lib', 'numpy.lib.info', 'numpy.lib.type_check', 'numpy.lib.ufunclike', 'numpy.lib.index_tricks', 'numpy.matrixlib', 'numpy.matrixlib.defmatrix', 'numpy.linalg', 'numpy.linalg.info', 'numpy.linalg.linalg', 'numpy.lib.twodim_base', 'numpy.linalg.lapack_lite', 'numpy.linalg._umath_linalg', 'numpy.lib.function_base', 'numpy.lib.utils', 'numpy.lib.histograms', 'numpy.lib.stride_tricks', 'numpy.lib.mixins', 'numpy.lib.nanfunctions', 'numpy.lib.shape_base', 'numpy.lib.scimath', 'numpy.lib.polynomial', 'numpy.lib.arraysetops', 'numpy.lib.npyio', 'numpy.lib.format', 'numpy.lib._datasource', 'numpy.lib._iotools', 'numpy.lib.financial', 'numpy.lib.arrayterator', 'numpy.lib.arraypad', 'numpy.lib._version', 'numpy.fft', 'numpy.fft.info', 'numpy.fft.fftpack', 'numpy.fft.fftpack_lite', 'numpy.fft.helper', 'mkl_fft', 'mkl_fft._pydfti', '_cython_0_29_7', 'mkl_fft._version', 'mkl_fft._numpy_fft', 'numpy.polynomial', 'numpy.polynomial.polynomial', 'numpy.polynomial.polyutils', 'numpy.polynomial._polybase', 'numpy.polynomial.chebyshev', 'numpy.polynomial.legendre', 'numpy.polynomial.hermite', 'numpy.polynomial.hermite_e', 'numpy.polynomial.laguerre', 'numpy.random', 'numpy.random.mtrand', 'mtrand', 'numpy.ctypeslib', 'numpy.ma', 'numpy.ma.core', 'numpy.ma.extras', 'numpy.testing', 'unittest', 'unittest.result', 'unittest.util', 'unittest.case', 'unittest.suite', 'unittest.loader', 'unittest.main', 'unittest.runner', 'unittest.signals', 'numpy.testing._private', 'numpy.testing._private.utils', 'numpy.testing._private.decorators', 'numpy.testing._private.nosetester', 'thinc.about', 'thinc.neural', 'thinc.neural._classes', 'thinc.neural._classes.model', 'srsly', 'srsly._json_api', 'gzip', 'srsly.ujson', 'srsly.ujson.ujson', 'srsly.util', 'srsly._msgpack_api', 'srsly.msgpack', 'srsly.msgpack._version', 'srsly.msgpack.exceptions', 'srsly.msgpack._packer', 'srsly.msgpack._ext_type', 'srsly.msgpack.util', 'srsly.msgpack._unpacker', 'srsly.msgpack._msgpack_numpy', 'srsly._pickle_api', 'srsly.cloudpickle', 'srsly.cloudpickle.cloudpickle', 'thinc.neural.util', 'thinc.neural.train', 'tqdm', 'tqdm._tqdm', 'tqdm._utils', 'tqdm._monitor', 'multiprocessing', 'multiprocessing.context', 'multiprocessing.process', 'multiprocessing.reduction', '__mp_main__', 'tqdm._tqdm_gui', 'tqdm._tqdm_pandas', 'tqdm._main', 'tqdm._version', 'thinc.neural.optimizers', '_cython_0_29_13', 'thinc.neural.ops', 'cymem', 'cymem.about', 'cymem.cymem', 'preshed', 'preshed.about', 'preshed.maps', 'thinc.linalg', 'blis', 'blis.cy', 'blis.py', 'murmurhash', 'murmurhash.about', 'murmurhash.mrmr', 'thinc.neural._aligned_alloc', 'thinc.compat', 'thinc.neural.mem', 'thinc.check', 'thinc.extra', 'thinc.extra.wrapt', 'thinc.extra.wrapt.wrappers', 'thinc.extra.wrapt._wrappers', 'thinc.extra.wrapt.decorators', 'thinc.extra.wrapt.importer', 'thinc.exceptions', 'wasabi', 'wasabi.printer', 'wasabi.tables', 'wasabi.util', 'wasabi.traceback', 'spacy.cli', 'spacy.cli.download', 'plac', 'plac_core', 'plac_ext', 'asyncore', 'asynchat', 'requests', 'urllib3', 'urllib3.connectionpool', 'urllib3.exceptions', 'urllib3.packages', 'urllib3.packages.ssl_match_hostname', 'urllib3.packages.six', 'urllib3.packages.six.moves', 'urllib3.packages.six.moves.http_client', 'urllib3.connection', 'urllib3.util', 'urllib3.util.connection', 'urllib3.util.wait', 'urllib3.contrib', 'urllib3.contrib._appengine_environ', 'urllib3.util.request', 'urllib3.util.response', 'urllib3.util.ssl_', 'urllib3.util.timeout', 'urllib3.util.retry', 'urllib3.util.url', 'urllib3._collections', 'urllib3.request', 'urllib3.filepost', 'urllib3.fields', 'urllib3.packages.six.moves.urllib', 'urllib3.packages.six.moves.urllib.parse', 'urllib3.response', 'urllib3.util.queue', 'urllib3.poolmanager', 'chardet', 'chardet.compat', 'chardet.universaldetector', 'chardet.charsetgroupprober', 'chardet.enums', 'chardet.charsetprober', 'chardet.escprober', 'chardet.codingstatemachine', 'chardet.escsm', 'chardet.latin1prober', 'chardet.mbcsgroupprober', 'chardet.utf8prober', 'chardet.mbcssm', 'chardet.sjisprober', 'chardet.mbcharsetprober', 'chardet.chardistribution', 'chardet.euctwfreq', 'chardet.euckrfreq', 'chardet.gb2312freq', 'chardet.big5freq', 'chardet.jisfreq', 'chardet.jpcntx', 'chardet.eucjpprober', 'chardet.gb2312prober', 'chardet.euckrprober', 'chardet.cp949prober', 'chardet.big5prober', 'chardet.euctwprober', 'chardet.sbcsgroupprober', 'chardet.sbcharsetprober', 'chardet.langcyrillicmodel', 'chardet.langgreekmodel', 'chardet.langbulgarianmodel', 'chardet.langthaimodel', 'chardet.langhebrewmodel', 'chardet.hebrewprober', 'chardet.langturkishmodel', 'chardet.version', 'requests.exceptions', 'urllib3.contrib.pyopenssl', 'OpenSSL', 'OpenSSL.crypto', 'cryptography', 'cryptography.__about__', 'cryptography.x509', 'cryptography.x509.certificate_transparency', 'cryptography.x509.base', 'cryptography.utils', 'cryptography.hazmat', 'cryptography.hazmat.primitives', 'cryptography.hazmat.primitives.asymmetric', 'cryptography.hazmat.primitives.asymmetric.dsa', 'cryptography.hazmat.primitives.asymmetric.ec', 'cryptography.hazmat._oid', 'cryptography.hazmat.primitives.asymmetric.rsa', 'cryptography.exceptions', 'cryptography.hazmat.backends', 'cryptography.hazmat.backends.interfaces', 'cryptography.x509.extensions', 'ipaddress', 'asn1crypto', 'asn1crypto.version', 'asn1crypto.keys', 'asn1crypto._elliptic_curve', 'asn1crypto._int', 'asn1crypto.util', 'asn1crypto._errors', 'asn1crypto._iri', 'encodings.idna', 'stringprep', 'asn1crypto._types', 'asn1crypto._ordereddict', 'asn1crypto._ffi', 'asn1crypto._perf', 'asn1crypto._perf._big_num_ctypes', 'ctypes.util', 'asn1crypto.algos', 'asn1crypto.core', 'asn1crypto._teletex_codec', 'asn1crypto.parser', 'cryptography.hazmat.primitives.constant_time', 'cryptography.hazmat.bindings', '_cffi_backend', '_constant_time.lib', '_constant_time', 'cryptography.hazmat.bindings._constant_time', 'cryptography.hazmat.primitives.serialization', 'cryptography.hazmat.primitives.serialization.base', 'cryptography.hazmat.primitives.serialization.ssh', 'cryptography.hazmat.primitives.asymmetric.ed25519', 'cryptography.x509.general_name', 'cryptography.x509.name', 'cryptography.x509.oid', 'cryptography.hazmat.primitives.hashes', 'OpenSSL._util', 'cryptography.hazmat.bindings.openssl', 'cryptography.hazmat.bindings.openssl.binding', '_openssl.lib', '_openssl', 'cryptography.hazmat.bindings._openssl', 'cryptography.hazmat.bindings.openssl._conditional', 'OpenSSL.SSL', 'OpenSSL.version', 'cryptography.hazmat.backends.openssl', 'cryptography.hazmat.backends.openssl.backend', 'cryptography.hazmat.backends.openssl.aead', 'cryptography.hazmat.backends.openssl.ciphers', 'cryptography.hazmat.primitives.ciphers', 'cryptography.hazmat.primitives.ciphers.base', 'cryptography.hazmat.primitives.ciphers.modes', 'cryptography.hazmat.backends.openssl.cmac', 'cryptography.hazmat.backends.openssl.decode_asn1', 'cryptography.hazmat.backends.openssl.dh', 'cryptography.hazmat.primitives.asymmetric.dh', 'cryptography.hazmat.backends.openssl.dsa', 'cryptography.hazmat.backends.openssl.utils', 'cryptography.hazmat.primitives.asymmetric.utils', 'cryptography.hazmat.backends.openssl.ec', 'cryptography.hazmat.backends.openssl.ed25519', 'cryptography.hazmat.backends.openssl.ed448', 'cryptography.hazmat.primitives.asymmetric.ed448', 'cryptography.hazmat.backends.openssl.encode_asn1', 'cryptography.hazmat.backends.openssl.hashes', 'cryptography.hazmat.backends.openssl.hmac', 'cryptography.hazmat.backends.openssl.ocsp', 'cryptography.hazmat.backends.openssl.x509', 'cryptography.x509.ocsp', 'cryptography.hazmat.backends.openssl.poly1305', 'cryptography.hazmat.backends.openssl.rsa', 'cryptography.hazmat.primitives.asymmetric.padding', 'cryptography.hazmat.backends.openssl.x25519', 'cryptography.hazmat.primitives.asymmetric.x25519', 'cryptography.hazmat.backends.openssl.x448', 'cryptography.hazmat.primitives.asymmetric.x448', 'cryptography.hazmat.primitives.ciphers.algorithms', 'cryptography.hazmat.primitives.kdf', 'cryptography.hazmat.primitives.kdf.scrypt', 'urllib3.packages.backports', 'urllib3.packages.backports.makefile', 'requests.__version__', 'requests.utils', 'zipfile', 'requests.certs', 'certifi', 'certifi.core', 'requests._internal_utils', 'requests.compat', 'http.cookiejar', 'http.cookies', 'requests.cookies', 'requests.structures', 'requests.packages', 'requests.packages.urllib3', 'requests.packages.urllib3.connectionpool', 'requests.packages.urllib3.exceptions', 'requests.packages.urllib3.packages', 'requests.packages.urllib3.packages.ssl_match_hostname', 'requests.packages.urllib3.packages.six', 'requests.packages.urllib3.packages.six.moves', 'requests.packages.urllib3.packages.six.moves.http_client', 'requests.packages.urllib3.connection', 'requests.packages.urllib3.util', 'requests.packages.urllib3.util.connection', 'requests.packages.urllib3.util.wait', 'requests.packages.urllib3.contrib', 'requests.packages.urllib3.contrib._appengine_environ', 'requests.packages.urllib3.util.request', 'requests.packages.urllib3.util.response', 'requests.packages.urllib3.util.ssl_', 'requests.packages.urllib3.util.timeout', 'requests.packages.urllib3.util.retry', 'requests.packages.urllib3.util.url', 'requests.packages.urllib3._collections', 'requests.packages.urllib3.request', 'requests.packages.urllib3.filepost', 'requests.packages.urllib3.fields', 'requests.packages.urllib3.packages.six.moves.urllib', 'requests.packages.urllib3.packages.six.moves.urllib.parse', 'requests.packages.urllib3.response', 'requests.packages.urllib3.util.queue', 'requests.packages.urllib3.poolmanager', 'requests.packages.urllib3.contrib.pyopenssl', 'requests.packages.urllib3.packages.backports', 'requests.packages.urllib3.packages.backports.makefile', 'idna', 'idna.package_data', 'idna.core', 'idna.idnadata', 'idna.intranges', 'requests.packages.idna', 'requests.packages.idna.package_data', 'requests.packages.idna.core', 'requests.packages.idna.idnadata', 'requests.packages.idna.intranges', 'requests.packages.chardet', 'requests.packages.chardet.compat', 'requests.packages.chardet.universaldetector', 'requests.packages.chardet.charsetgroupprober', 'requests.packages.chardet.enums', 'requests.packages.chardet.charsetprober', 'requests.packages.chardet.escprober', 'requests.packages.chardet.codingstatemachine', 'requests.packages.chardet.escsm', 'requests.packages.chardet.latin1prober', 'requests.packages.chardet.mbcsgroupprober', 'requests.packages.chardet.utf8prober', 'requests.packages.chardet.mbcssm', 'requests.packages.chardet.sjisprober', 'requests.packages.chardet.mbcharsetprober', 'requests.packages.chardet.chardistribution', 'requests.packages.chardet.euctwfreq', 'requests.packages.chardet.euckrfreq', 'requests.packages.chardet.gb2312freq', 'requests.packages.chardet.big5freq', 'requests.packages.chardet.jisfreq', 'requests.packages.chardet.jpcntx', 'requests.packages.chardet.eucjpprober', 'requests.packages.chardet.gb2312prober', 'requests.packages.chardet.euckrprober', 'requests.packages.chardet.cp949prober', 'requests.packages.chardet.big5prober', 'requests.packages.chardet.euctwprober', 'requests.packages.chardet.sbcsgroupprober', 'requests.packages.chardet.sbcharsetprober', 'requests.packages.chardet.langcyrillicmodel', 'requests.packages.chardet.langgreekmodel', 'requests.packages.chardet.langbulgarianmodel', 'requests.packages.chardet.langthaimodel', 'requests.packages.chardet.langhebrewmodel', 'requests.packages.chardet.hebrewprober', 'requests.packages.chardet.langturkishmodel', 'requests.packages.chardet.version', 'requests.models', 'requests.hooks', 'requests.auth', 'requests.status_codes', 'requests.api', 'requests.sessions', 'requests.adapters', 'urllib3.contrib.socks', 'socks', 'pkg_resources', 'plistlib', 'xml.parsers', 'xml.parsers.expat', 'pyexpat.errors', 'pyexpat.model', 'pyexpat', 'xml.parsers.expat.model', 'xml.parsers.expat.errors', 'pkg_resources.extern', 'pkg_resources._vendor', 'pkg_resources.extern.six', 'pkg_resources._vendor.six', 'pkg_resources.extern.six.moves', 'pkg_resources._vendor.six.moves', 'pkg_resources.py31compat', 'pkg_resources.extern.appdirs', 'pkg_resources._vendor.packaging.__about__', 'pkg_resources.extern.packaging', 'pkg_resources.extern.packaging.version', 'pkg_resources.extern.packaging._structures', 'pkg_resources.extern.packaging.specifiers', 'pkg_resources.extern.packaging._compat', 'pkg_resources.extern.packaging.requirements', 'pkg_resources.extern.pyparsing', 'pkg_resources.extern.six.moves.urllib', 'pkg_resources.extern.packaging.markers', 'sysconfig', 'spacy.cli.link', 'spacy.compat', 'spacy.util', 'jsonschema', 'jsonschema.exceptions', 'attr', 'attr.converters', 'attr._make', 'attr._config', 'attr._compat', 'attr.exceptions', 'attr.filters', 'attr.validators', 'attr._funcs', 'jsonschema._utils', 'jsonschema.compat', 'jsonschema._format', 'jsonschema._types', 'pyrsistent', 'pyrsistent._pmap', 'pyrsistent._compat', 'pyrsistent._pvector', 'pyrsistent._transformations', 'pvectorc', 'pyrsistent._pset', 'pyrsistent._pbag', 'pyrsistent._plist', 'pyrsistent._pdeque', 'pyrsistent._checked_types', 'pyrsistent._field_common', 'pyrsistent._precord', 'pyrsistent._pclass', 'pyrsistent._immutable', 'pyrsistent._helpers', 'pyrsistent._toolz', 'jsonschema.validators', 'jsonschema._legacy_validators', 'jsonschema._validators', 'spacy.symbols', 'spacy.errors', 'spacy.about', 'spacy.cli.info', 'spacy.cli.package', 'spacy.cli.profile', 'thinc.extra.datasets', 'csv', '_csv', 'thinc.extra._vendorized', 'thinc.extra._vendorized.keras_data_utils', 'tarfile', 'thinc.extra._vendorized.keras_generic_utils', 'spacy.cli.train', 'spacy._ml', 'thinc.v2v', 'thinc.neural._classes.affine', 'thinc.describe', 'thinc.neural._classes.relu', 'thinc.neural._classes.maxout', 'thinc.neural._classes.softmax', 'thinc.neural._classes.selu', 'thinc.i2v', 'thinc.neural._classes.hash_embed', 'thinc.neural._lsuv', 'thinc.neural._classes.embed', 'thinc.neural._classes.static_vectors', 'thinc.extra.load_nlp', 'thinc.t2t', 'thinc.neural._classes.convolution', 'thinc.neural._classes.attention', 'thinc.neural._classes.rnn', 'thinc.api', 'thinc.neural._classes.function_layer', 'thinc.neural._classes.feed_forward', 'thinc.neural._classes.multiheaded_attention', 'thinc.t2v', 'thinc.neural.pooling', 'thinc.misc', 'thinc.neural._classes.batchnorm', 'thinc.neural._classes.layernorm', 'thinc.neural._classes.resnet', 'thinc.neural._classes.feature_extracter', 'thinc.linear', 'thinc.linear.linear', 'spacy.attrs', 'torch', 'torch._utils', 'torch._utils_internal', 'torch.version', 'torch._six', 'torch._C._onnx', 'torch._C._jit_tree_views', 'torch._C.cpp', 'torch._C.cpp.nn', 'torch._C', 'torch.random', 'torch.serialization', 'torch._tensor_str', 'torch.tensor', 'torch._namedtensor_internals', 'torch.utils', 'torch.utils.throughput_benchmark', 'torch.utils.hooks', 'torch.storage', 'torch.cuda', 'multiprocessing.util', 'torch.cuda._utils', 'torch.cuda.random', 'torch.cuda.sparse', 'torch.cuda.profiler', 'torch.cuda.nvtx', 'torch.cuda.streams', 'torch.sparse', 'torch.functional', 'torch.nn', 'torch.nn.modules', 'torch.nn.modules.module', 'torch.nn.parameter', 'torch.nn.modules.linear', 'torch.nn.functional', 'torch.nn._reduction', 'torch.nn.modules.utils', 'torch.nn.grad', 'torch.nn._VF', 'torch._jit_internal', 'torch.nn.init', 'torch.nn.modules.conv', 'torch.nn.modules.activation', 'torch.nn.modules.loss', 'torch.nn.modules.container', 'torch.nn.modules.pooling', 'torch.nn.modules.batchnorm', 'torch.nn.modules._functions', 'torch.autograd', 'torch.autograd.variable', 'torch.autograd.function', 'torch.autograd.gradcheck', 'torch.testing', 'torch.autograd.grad_mode', 'torch.autograd.anomaly_mode', 'torch.autograd.profiler', 'torch.nn.modules.instancenorm', 'torch.nn.modules.normalization', 'torch.nn.modules.dropout', 'torch.nn.modules.padding', 'torch.nn.modules.sparse', 'torch.nn.modules.rnn', 'torch.nn.utils', 'torch.nn.utils.rnn', 'torch.nn.utils.clip_grad', 'torch.nn.utils.weight_norm', 'torch.nn.utils.convert_parameters', 'torch.nn.utils.spectral_norm', 'torch.nn.utils.fusion', 'torch.nn.modules.pixelshuffle', 'torch.nn.modules.upsampling', 'torch.nn.modules.distance', 'torch.nn.modules.fold', 'torch.nn.modules.adaptive', 'torch.nn.modules.transformer', 'torch.nn.modules.flatten', 'torch.nn.parallel', 'torch.nn.parallel.parallel_apply', 'torch.nn.parallel.replicate', 'torch.cuda.comm', 'torch.cuda.nccl', 'torch.nn.parallel.data_parallel', 'torch.nn.parallel.scatter_gather', 'torch.nn.parallel._functions', 'torch.nn.parallel.distributed', 'torch.distributed', 'torch.distributed.autograd', 'torch.distributed.distributed_c10d', 'torch.distributed.rendezvous', 'torch.distributed.rpc', 'torch.distributed.internal_rpc_utils', 'torch.distributed.rpc_backend_registry', 'torch.nn.intrinsic', 'torch.nn.intrinsic.modules', 'torch.nn.intrinsic.modules.fused', 'torch.nn.quantized', 'torch.nn.quantized.modules', 'torch.nn.quantized.modules.activation', 'torch.nn.quantized.functional', 'torch.nn.quantized.modules.conv', 'torch.nn.intrinsic.qat', 'torch.nn.intrinsic.qat.modules', 'torch.nn.intrinsic.qat.modules.linear_relu', 'torch.nn.qat', 'torch.nn.qat.modules', 'torch.nn.qat.modules.linear', 'torch.nn.qat.modules.conv', 'torch.nn.intrinsic.qat.modules.conv_fused', 'torch._ops', 'torch.jit', 'torch.backends', 'torch.backends.cudnn', 'torch.jit.annotations', 'torch.jit._recursive', 'torch.jit.frontend', 'torch.nn.quantized.modules.utils', 'torch.nn.quantized.modules.linear', 'torch.nn.quantized.modules.functional_modules', 'torch.optim', 'torch.optim.adadelta', 'torch.optim.optimizer', 'torch.optim.adagrad', 'torch.optim.adam', 'torch.optim.adamw', 'torch.optim.sparse_adam', 'torch.optim.adamax', 'torch.optim.asgd', 'torch.optim.sgd', 'torch.optim.rprop', 'torch.optim.rmsprop', 'torch.optim.lbfgs', 'torch.optim.lr_scheduler', 'torch.multiprocessing', 'torch.multiprocessing.reductions', 'multiprocessing.resource_sharer', 'torch.multiprocessing.spawn', 'multiprocessing.connection', '_multiprocessing', 'torch.utils.backcompat', 'torch.onnx', 'torch.hub', 'torch.distributions', 'torch.distributions.bernoulli', 'torch.distributions.constraints', 'torch.distributions.exp_family', 'torch.distributions.distribution', 'torch.distributions.utils', 'torch.distributions.beta', 'torch.distributions.dirichlet', 'torch.distributions.binomial', 'torch.distributions.categorical', 'torch.distributions.cauchy', 'torch.distributions.chi2', 'torch.distributions.gamma', 'torch.distributions.constraint_registry', 'torch.distributions.transforms', 'torch.distributions.exponential', 'torch.distributions.fishersnedecor', 'torch.distributions.geometric', 'torch.distributions.gumbel', 'torch.distributions.uniform', 'torch.distributions.transformed_distribution', 'torch.distributions.half_cauchy', 'torch.distributions.half_normal', 'torch.distributions.normal', 'torch.distributions.independent', 'torch.distributions.kl', 'torch.distributions.laplace', 'torch.distributions.lowrank_multivariate_normal', 'torch.distributions.multivariate_normal', 'torch.distributions.one_hot_categorical', 'torch.distributions.pareto', 'torch.distributions.poisson', 'torch.distributions.log_normal', 'torch.distributions.logistic_normal', 'torch.distributions.multinomial', 'torch.distributions.negative_binomial', 'torch.distributions.relaxed_bernoulli', 'torch.distributions.relaxed_categorical', 'torch.distributions.studentT', 'torch.distributions.weibull', 'torch.backends.cuda', 'torch.backends.mkl', 'torch.backends.openmp', 'torch.backends.quantized', 'torch.quantization', 'torch.quantization.quantize', 'torch.quantization.default_mappings', 'torch.nn.intrinsic.quantized', 'torch.nn.intrinsic.quantized.modules', 'torch.nn.intrinsic.quantized.modules.linear_relu', 'torch.nn.intrinsic.quantized.modules.conv_relu', 'torch.nn.quantized.dynamic', 'torch.nn.quantized.dynamic.modules', 'torch.nn.quantized.dynamic.modules.linear', 'torch.nn.quantized.dynamic.modules.rnn', 'torch.quantization.stubs', 'torch.quantization.QConfig', 'torch.quantization.observer', 'torch.quantization.fake_quantize', 'torch.quantization.fuse_modules', 'torch.utils.data', 'torch.utils.data.sampler', 'torch.utils.data.distributed', 'torch.utils.data.dataset', 'torch.utils.data.dataloader', 'torch.utils.data._utils', 'torch.utils.data._utils.worker', 'torch.utils.data._utils.signal_handling', 'torch.utils.data._utils.pin_memory', 'torch.utils.data._utils.collate', 'torch.utils.data._utils.fetch', 'torch.__config__', 'torch.__future__', 'torch._torch_docs', 'torch._tensor_docs', 'torch._storage_docs', 'torch._classes', 'torch.quasirandom', 'thinc.extra.wrappers', 'torch.utils.dlpack', 'spacy.gold', 'spacy.strings', 'spacy.morphology', 'spacy.vocab', 'spacy.lexeme', 'spacy.tokens', 'spacy.tokens.doc', 'spacy.tokens.span', 'spacy.tokens.token', 'spacy.tokens.morphanalysis', 'spacy.parts_of_speech', 'spacy.tokens.underscore', 'spacy.tokens._retokenize', 'spacy.tokens._serialize', 'spacy.lemmatizer', 'spacy.lookups', 'preshed.bloom', 'spacy.vectors', 'spacy.syntax', 'spacy.syntax.stateclass', 'spacy.syntax.transition_system', 'thinc.extra.search', 'spacy.syntax._beam_utils', 'spacy._align', 'spacy.syntax.nonproj', 'spacy.cli.pretrain', 'spacy.cli.debug_data', 'spacy.cli.evaluate', 'spacy.displacy', 'spacy.displacy.render', 'spacy.displacy.templates', 'spacy.cli.convert', 'spacy.cli.converters', 'spacy.cli.converters.conllu2json', 'spacy.cli.converters.iob2json', 'spacy.cli.converters.conll_ner2json', 'spacy.lang', 'spacy.lang.xx', 'spacy.lang.tokenizer_exceptions', 'spacy.lang.norm_exceptions', 'spacy.language', 'spacy.tokenizer', 'spacy.pipeline', 'spacy.pipeline.pipes', 'spacy.syntax.nn_parser', 'spacy.syntax.arc_eager', 'spacy.syntax._parser_model', 'spacy.syntax.ner', 'spacy.pipeline.functions', 'spacy.matcher', 'spacy.matcher.matcher', 'spacy.matcher._schemas', 'spacy.matcher.phrasematcher', 'spacy.matcher.dependencymatcher', 'spacy.kb', 'spacy.pipeline.morphologizer', 'spacy.pipeline.entityruler', 'spacy.pipeline.hooks', 'thinc.neural._classes.difference', 'spacy.scorer', 'spacy.lang.punctuation', 'spacy.lang.char_classes', 'spacy.lang.tag_map', 'spacy.lang.lex_attrs', 'spacy.cli.converters.jsonl2json', 'spacy.cli.init_model', 'preshed.counter', 'ftfy', 'ftfy.bad_codecs', 'ftfy.fixes', 'ftfy.badness', 'ftfy.chardata', 'ftfy.bad_codecs.sloppy', 'encodings.cp1250', 'encodings.cp1251', 'encodings.cp1252', 'encodings.cp1253', 'encodings.cp1254', 'encodings.cp1255', 'encodings.cp1256', 'encodings.cp1257', 'encodings.cp1258', 'encodings.iso8859_3', 'encodings.iso8859_6', 'encodings.iso8859_7', 'encodings.iso8859_8', 'encodings.iso8859_11', 'encodings.cp874', 'encodings.iso8859_2', 'encodings.mac_roman', 'encodings.cp437', 'ftfy.formatting', 'spacy.cli.validate', 'spacy.glossary', 'en_core_web_sm', 'spacy.lang.en', 'spacy.lang.en.tokenizer_exceptions', 'spacy.lang.en.norm_exceptions', 'spacy.lang.en.tag_map', 'spacy.lang.en.stop_words', 'spacy.lang.en.lex_attrs', 'spacy.lang.en.morph_rules', 'spacy.lang.en.syntax_iterators', 'spacy_transformers', 'spacy_transformers.language', 'spacy_transformers.util', 'transformers', 'transformers.file_utils', 'boto3', 'boto3.session', 'botocore', 'botocore.session', 'botocore.configloader', 'botocore.compat', 'botocore.vendored', 'botocore.vendored.six', 'botocore.exceptions', 'botocore.vendored.requests', 'botocore.vendored.requests.packages', 'botocore.vendored.requests.packages.urllib3', 'botocore.vendored.requests.packages.urllib3.connectionpool', 'botocore.vendored.requests.packages.urllib3.exceptions', 'botocore.vendored.requests.packages.urllib3.packages', 'botocore.vendored.requests.packages.urllib3.packages.ssl_match_hostname', 'botocore.vendored.requests.packages.urllib3.packages.six', 'botocore.vendored.requests.packages.urllib3.packages.six.moves', 'botocore.vendored.requests.packages.urllib3.connection', 'botocore.vendored.requests.packages.urllib3.util', 'botocore.vendored.requests.packages.urllib3.util.connection', 'botocore.vendored.requests.packages.urllib3.util.request', 'botocore.vendored.requests.packages.urllib3.util.response', 'botocore.vendored.requests.packages.urllib3.util.ssl_', 'botocore.vendored.requests.packages.urllib3.util.timeout', 'botocore.vendored.requests.packages.urllib3.util.retry', 'botocore.vendored.requests.packages.urllib3.util.url', 'botocore.vendored.requests.packages.urllib3.request', 'botocore.vendored.requests.packages.urllib3.filepost', 'botocore.vendored.requests.packages.urllib3.fields', 'botocore.vendored.requests.packages.urllib3.response', 'botocore.vendored.requests.packages.urllib3._collections', 'botocore.vendored.requests.packages.urllib3.poolmanager', 'botocore.vendored.requests.packages.urllib3.contrib', 'botocore.vendored.requests.utils', 'cgi', 'botocore.vendored.requests.certs', 'botocore.vendored.requests.compat', 'botocore.vendored.requests.packages.chardet', 'botocore.vendored.requests.cookies', 'botocore.vendored.requests.structures', 'botocore.vendored.requests.exceptions', 'botocore.vendored.requests.models', 'botocore.vendored.requests.hooks', 'botocore.vendored.requests.auth', 'botocore.vendored.requests.status_codes', 'botocore.vendored.requests.api', 'botocore.vendored.requests.sessions', 'botocore.vendored.requests.adapters', 'botocore.vendored.six.moves', 'xml.etree', 'xml.etree.cElementTree', 'xml.etree.ElementTree', 'xml.etree.ElementPath', '_elementtree', 'botocore.credentials', 'botocore.config', 'botocore.endpoint', 'botocore.awsrequest', 'botocore.utils', 'botocore.httpsession', 'botocore.vendored.six.moves.urllib_parse', 'botocore.vendored.six.moves.urllib', 'botocore.vendored.six.moves.urllib.request', 'botocore.hooks', 'botocore.history', 'botocore.response', 'botocore.parsers', 'botocore.eventstream', 'botocore.client', 'botocore.waiter', 'jmespath', 'jmespath.parser', 'jmespath.lexer', 'jmespath.exceptions', 'jmespath.compat', 'jmespath.ast', 'jmespath.visitor', 'jmespath.functions', 'botocore.docs', 'botocore.docs.service', 'botocore.docs.utils', 'botocore.docs.client', 'botocore.docs.method', 'botocore.docs.params', 'botocore.docs.shape', 'botocore.docs.example', 'botocore.docs.sharedexample', 'botocore.docs.waiter', 'botocore.docs.paginator', 'botocore.docs.bcdoc', 'botocore.docs.bcdoc.restdoc', 'botocore.docs.bcdoc.docstringparser', 'html.parser', '_markupbase', 'botocore.docs.bcdoc.style', 'botocore.docs.docstring', 'botocore.auth', 'botocore.model', 'botocore.paginate', 'botocore.args', 'botocore.serialize', 'botocore.validate', 'botocore.signers', 'botocore.discovery', 'botocore.configprovider', 'botocore.errorfactory', 'botocore.handlers', 'botocore.retryhandler', 'botocore.translate', 'botocore.loaders', 'botocore.regions', 'botocore.monitoring', 'boto3.utils', 'boto3.exceptions', 'boto3.resources', 'boto3.resources.factory', 'boto3.resources.action', 'boto3.resources.params', 'boto3.resources.response', 'boto3.resources.model', 'boto3.docs', 'boto3.docs.service', 'boto3.docs.client', 'boto3.docs.resource', 'boto3.docs.base', 'boto3.docs.action', 'boto3.docs.method', 'boto3.docs.utils', 'boto3.docs.waiter', 'boto3.docs.collection', 'boto3.docs.subresource', 'boto3.docs.attr', 'boto3.docs.docstring', 'boto3.resources.base', 'boto3.resources.collection', 'transformers.data', 'transformers.data.processors', 'transformers.data.processors.utils', 'transformers.data.processors.glue', 'transformers.data.metrics', 'scipy', 'scipy._distributor_init', 'scipy.__config__', 'scipy.version', 'scipy._lib', 'scipy._lib._testutils', 'scipy._lib._version', 'scipy._lib.six', 'scipy._lib._ccallback', 'scipy._lib._ccallback_c', 'scipy.stats', 'scipy.stats.stats', 'scipy._lib._util', 'scipy.special', 'scipy.special.sf_error', 'scipy.special._ufuncs', '_cython_0_29_12', 'scipy.special._ufuncs_cxx', 'scipy.special.basic', 'scipy.special.specfun', 'scipy.special.orthogonal', 'scipy.linalg', 'scipy.linalg.linalg_version', 'scipy.linalg.misc', 'scipy.linalg.blas', 'scipy.linalg._fblas', 'scipy.linalg.lapack', 'scipy.linalg._flapack', 'scipy.linalg.basic', 'scipy.linalg.flinalg', 'scipy.linalg._flinalg', 'scipy.linalg.decomp', 'scipy.linalg.decomp_svd', 'scipy.linalg._solve_toeplitz', 'scipy.linalg.decomp_lu', 'scipy.linalg._decomp_ldl', 'scipy.linalg.decomp_cholesky', 'scipy.linalg.decomp_qr', 'scipy.linalg._decomp_qz', 'scipy.linalg.decomp_schur', 'scipy.linalg._decomp_polar', 'scipy.linalg.matfuncs', 'scipy.linalg.special_matrices', 'scipy.linalg._expm_frechet', 'scipy.linalg._matfuncs_sqrtm', 'scipy.linalg._solvers', 'scipy.linalg._procrustes', 'scipy.linalg._decomp_update', 'scipy.linalg.cython_blas', 'scipy.linalg.cython_lapack', 'scipy.linalg._sketches', 'scipy.sparse', 'scipy.sparse.base', 'scipy._lib._numpy_compat', 'scipy.sparse.sputils', 'scipy.sparse.csr', 'scipy.sparse._sparsetools', 'scipy.sparse.compressed', 'scipy.sparse.data', 'scipy.sparse.dia', 'scipy.sparse._index', 'scipy.sparse.csc', 'scipy.sparse.lil', 'scipy.sparse._csparsetools', 'scipy.sparse.dok', 'scipy.sparse.coo', 'scipy.sparse.bsr', 'scipy.sparse.construct', 'scipy.sparse.extract', 'scipy.sparse._matrix_io', 'scipy.sparse.csgraph', 'scipy.sparse.csgraph._laplacian', 'scipy.sparse.csgraph._shortest_path', 'scipy.sparse.csgraph._validation', 'scipy.sparse.csgraph._tools', 'scipy.sparse.csgraph._traversal', 'scipy.sparse.csgraph._min_spanning_tree', 'scipy.sparse.csgraph._reordering', 'numpy.dual', 'scipy.special._comb', 'scipy.special._logsumexp', 'scipy.special.spfun_stats', 'scipy.special._ellip_harm', 'scipy.special._ellip_harm_2', 'scipy.special.lambertw', 'scipy.special._spherical_bessel', 'scipy.stats.distributions', 'scipy.stats._distn_infrastructure', 'scipy._lib.doccer', 'scipy.stats._distr_params', 'scipy.optimize', 'scipy.optimize.optimize', 'scipy.optimize.linesearch', 'scipy.optimize.minpack2', 'scipy.optimize._minimize', 'scipy.optimize._trustregion_dogleg', 'scipy.optimize._trustregion', 'scipy.optimize._trustregion_ncg', 'scipy.optimize._trustregion_krylov', 'scipy.optimize._trlib', 'scipy.optimize._trlib._trlib', 'scipy._lib.messagestream', 'scipy.optimize._trustregion_exact', 'scipy.optimize._trustregion_constr', 'scipy.optimize._trustregion_constr.minimize_trustregion_constr', 'scipy.sparse.linalg', 'scipy.sparse.linalg.isolve', 'scipy.sparse.linalg.isolve.iterative', 'scipy.sparse.linalg.isolve._iterative', 'scipy.sparse.linalg.interface', 'scipy.sparse.linalg.isolve.utils', 'scipy._lib._threadsafety', 'scipy._lib.decorator', 'scipy.sparse.linalg.isolve.minres', 'scipy.sparse.linalg.isolve.lgmres', 'scipy.sparse.linalg.isolve._gcrotmk', 'scipy.sparse.linalg.isolve.lsqr', 'scipy.sparse.linalg.isolve.lsmr', 'scipy.sparse.linalg.dsolve', 'scipy.sparse.linalg.dsolve.linsolve', 'scipy.sparse.linalg.dsolve._superlu', 'scipy.sparse.linalg.dsolve._add_newdocs', 'scipy.sparse.linalg.eigen', 'scipy.sparse.linalg.eigen.arpack', 'scipy.sparse.linalg.eigen.arpack.arpack', 'scipy.sparse.linalg.eigen.arpack._arpack', 'scipy.sparse.linalg.eigen.lobpcg', 'scipy.sparse.linalg.eigen.lobpcg.lobpcg', 'scipy.sparse.linalg.matfuncs', 'scipy.sparse.linalg._onenormest', 'scipy.sparse.linalg._norm', 'scipy.sparse.linalg._expm_multiply', 'scipy.optimize._differentiable_functions', 'scipy.optimize._numdiff', 'scipy.optimize._group_columns', 'scipy.optimize._hessian_update_strategy', 'scipy.optimize._constraints', 'scipy.optimize._trustregion_constr.equality_constrained_sqp', 'scipy.optimize._trustregion_constr.projections', 'scipy.optimize._trustregion_constr.qp_subproblem', 'scipy.optimize._trustregion_constr.canonical_constraint', 'scipy.optimize._trustregion_constr.tr_interior_point', 'scipy.optimize._trustregion_constr.report', 'scipy.optimize.lbfgsb', 'scipy.optimize._lbfgsb', 'scipy.optimize.tnc', 'scipy.optimize.moduleTNC', 'scipy.optimize.cobyla', 'scipy.optimize._cobyla', 'scipy.optimize.slsqp', 'scipy.optimize._slsqp', 'scipy.optimize._root', 'scipy.optimize.minpack', 'scipy.optimize._minpack', 'scipy.optimize._lsq', 'scipy.optimize._lsq.least_squares', 'scipy.optimize._lsq.trf', 'scipy.optimize._lsq.common', 'scipy.optimize._lsq.dogbox', 'scipy.optimize._lsq.lsq_linear', 'scipy.optimize._lsq.trf_linear', 'scipy.optimize._lsq.givens_elimination', 'scipy.optimize._lsq.bvls', 'scipy.optimize._spectral', 'scipy.optimize.nonlin', 'scipy.optimize._root_scalar', 'scipy.optimize.zeros', 'scipy.optimize._zeros', 'scipy.optimize.nnls', 'scipy.optimize._nnls', 'scipy.optimize._basinhopping', 'scipy.optimize._linprog', 'scipy.optimize._linprog_ip', 'scipy.optimize._linprog_util', 'scipy.optimize._remove_redundancy', 'scipy.optimize._linprog_simplex', 'scipy.optimize._linprog_rs', 'scipy.optimize._bglu_dense', 'scipy.optimize._hungarian', 'scipy.optimize._differentialevolution', 'scipy.optimize._shgo', 'scipy.spatial', 'scipy.spatial.kdtree', 'scipy.spatial.ckdtree', 'scipy.spatial.qhull', 'scipy.spatial._spherical_voronoi', 'scipy.spatial._voronoi', 'scipy.spatial.distance', 'scipy.spatial._distance_wrap', 'scipy.spatial._hausdorff', 'scipy.spatial._plotutils', 'scipy.spatial._procrustes', 'scipy.spatial.transform', 'scipy.spatial.transform.rotation', 'scipy.spatial.transform._rotation_spline', 'scipy.optimize._shgo_lib', 'scipy.optimize._shgo_lib.sobol_seq', 'scipy.optimize._shgo_lib.triangulation', 'scipy.optimize._dual_annealing', 'scipy.integrate', 'scipy.integrate.quadrature', 'scipy.integrate.odepack', 'scipy.integrate._odepack', 'scipy.integrate.quadpack', 'scipy.integrate._quadpack', 'scipy.integrate._ode', 'scipy.integrate.vode', 'scipy.integrate._dop', 'scipy.integrate.lsoda', 'scipy.integrate._bvp', 'scipy.integrate._ivp', 'scipy.integrate._ivp.ivp', 'scipy.integrate._ivp.bdf', 'scipy.integrate._ivp.common', 'scipy.integrate._ivp.base', 'scipy.integrate._ivp.radau', 'scipy.integrate._ivp.rk', 'scipy.integrate._ivp.lsoda', 'scipy.misc', 'scipy.misc.doccer', 'scipy.misc.common', 'scipy.stats._constants', 'scipy.stats._continuous_distns', 'scipy.interpolate', 'scipy.interpolate.interpolate', 'scipy.interpolate.fitpack', 'scipy.interpolate._fitpack_impl', 'scipy.interpolate._fitpack', 'scipy.interpolate.dfitpack', 'scipy.interpolate._bsplines', 'scipy.interpolate._bspl', 'scipy.interpolate.polyint', 'scipy.interpolate._ppoly', 'scipy.interpolate.fitpack2', 'scipy.interpolate.interpnd', 'scipy.interpolate.rbf', 'scipy.interpolate._cubic', 'scipy.interpolate.ndgriddata', 'scipy.interpolate._pade', 'scipy.stats._stats', 'scipy.stats._tukeylambda_stats', 'scipy.stats._discrete_distns', 'scipy.stats.mstats_basic', 'scipy.stats._stats_mstats_common', 'scipy.stats._rvs_sampling', 'scipy.stats._hypotests', 'scipy.stats.morestats', 'scipy.stats.statlib', 'scipy.stats.contingency', 'scipy.stats._binned_statistic', 'scipy.stats.kde', 'scipy.stats.mvn', 'scipy.stats.mstats', 'scipy.stats.mstats_extras', 'scipy.stats._multivariate', 'sklearn', 'sklearn._config', 'sklearn.__check_build', 'sklearn.__check_build._check_build', 'sklearn.base', 'sklearn.utils', 'sklearn.utils.murmurhash', 'sklearn.utils.class_weight', 'sklearn.utils._joblib', 'joblib', 'joblib.memory', 'joblib.hashing', 'joblib._compat', 'joblib.func_inspect', 'joblib.logger', 'joblib.disk', 'joblib._memory_helpers', 'joblib._store_backends', 'joblib.backports', 'distutils', 'distutils.version', 'joblib.numpy_pickle', 'joblib.compressor', 'joblib.numpy_pickle_utils', 'joblib.numpy_pickle_compat', 'joblib.parallel', 'joblib._multiprocessing_helpers', 'multiprocessing.synchronize', 'multiprocessing.semaphore_tracker', 'multiprocessing.spawn', 'joblib.format_stack', 'joblib.my_exceptions', 'joblib._parallel_backends', 'joblib.pool', 'joblib._memmapping_reducer', 'mmap', 'multiprocessing.pool', 'joblib.executor', 'joblib.externals', 'joblib.externals.loky', 'joblib.externals.loky._base', 'joblib.externals.loky.backend', 'joblib.externals.loky.backend.context', 'joblib.externals.loky.backend.process', 'joblib.externals.loky.backend.compat', 'joblib.externals.loky.backend.compat_posix', 'joblib.externals.loky.backend.reduction', 'joblib.externals.loky.backend._posix_reduction', 'joblib.externals.cloudpickle', 'joblib.externals.cloudpickle.cloudpickle', 'joblib.externals.loky.reusable_executor', 'joblib.externals.loky.process_executor', 'joblib.externals.loky.backend.queues', 'multiprocessing.queues', 'joblib.externals.loky.backend.utils', 'psutil', 'psutil._common', 'psutil._compat', 'psutil._pslinux', 'psutil._psposix', 'psutil._psutil_linux', 'psutil._psutil_posix', 'concurrent.futures.process', 'joblib.externals.loky.cloudpickle_wrapper', 'sklearn.exceptions', 'sklearn.utils.deprecation', 'sklearn.utils.validation', 'sklearn.utils.fixes', 'sklearn.utils._show_versions', 'sklearn.metrics', 'sklearn.metrics.ranking', 'sklearn.utils.multiclass', 'sklearn.utils.extmath', 'sklearn.utils._logistic_sigmoid', 'sklearn.utils.sparsefuncs_fast', '_cython_0_29_8', 'sklearn.utils.sparsefuncs', 'sklearn.preprocessing', 'sklearn.preprocessing._function_transformer', 'sklearn.utils.testing', 'scipy.io', 'scipy.io.matlab', 'scipy.io.matlab.mio', 'scipy.io.matlab.miobase', 'scipy.io.matlab.byteordercodes', 'scipy.io.matlab.mio4', 'scipy.io.matlab.mio_utils', 'scipy.io.matlab.mio5', 'scipy.io.matlab.mio5_utils', 'scipy.io.matlab.streams', 'scipy.io.matlab.mio5_params', 'scipy.io.netcdf', 'scipy.io._fortran', 'scipy.io.mmio', 'scipy.io.idl', 'scipy.io.harwell_boeing', 'scipy.io.harwell_boeing.hb', 'scipy.io.harwell_boeing._fortran_format_parser', 'sklearn.utils._unittest_backport', 'nose', 'nose.core', 'nose.config', 'optparse', 'configparser', 'nose.util', 'nose.pyversion', 'nose.plugins', 'nose.plugins.base', 'nose.plugins.manager', 'nose.failure', 'nose.plugins.plugintest', 'nose.loader', 'nose.case', 'nose.importer', 'nose.selector', 'nose.suite', 'nose.proxy', 'nose.result', 'nose.exc', 'nose.plugins.skip', 'nose.plugins.errorclass', 'nose.plugins.deprecated', 'nose.tools', 'nose.tools.nontrivial', 'nose.tools.trivial', 'pytest', '_pytest', '_pytest._version', '_pytest.assertion', '_pytest.assertion.rewrite', 'atomicwrites', '_pytest._io', '_pytest._io.saferepr', '_pytest.assertion.util', '_pytest._code', '_pytest._code.code', 'pluggy', 'pluggy._version', 'pluggy.manager', 'pluggy._tracing', 'pluggy.callers', 'pluggy.hooks', 'importlib_metadata', 'zipp', 'importlib_metadata._compat', 'py', 'py._error', 'py.error', 'py._vendored_packages', 'py._vendored_packages.apipkg', 'py._version', 'py.test', 'py.process', 'py.apipkg', 'py.iniconfig', 'py.path', 'py.code', 'py.builtin', 'py.io', 'py.xml', 'py.log', 'py._path', 'py._path.local', 'py._path.common', '_pytest._code.source', '_pytest.outcomes', 'packaging', 'packaging.__about__', 'packaging.version', 'packaging._structures', '_pytest.pathlib', '_pytest.assertion.truncate', '_pytest.config', '_pytest.hookspec', '_pytest.deprecated', '_pytest.warning_types', '_pytest.config.exceptions', '_pytest.config.findpaths', '_pytest.debugging', 'doctest', '_pytest.fixtures', '_pytest.nodes', '_pytest.compat', '_pytest.mark', '_pytest.mark.legacy', '_pytest.mark.structures', '_pytest.freeze_support', '_pytest.main', '_pytest.runner', '_pytest.reports', '_pytest.python', '_pytest.python_api', 'more_itertools', 'more_itertools.more', 'more_itertools.recipes', '_pytest.recwarn', 'sklearn.preprocessing.data', 'sklearn.preprocessing._csr_polynomial_expansion', 'sklearn.preprocessing._encoders', 'sklearn.preprocessing.base', 'sklearn.preprocessing.label', 'sklearn.preprocessing._discretization', 'sklearn.preprocessing.imputation', 'sklearn.metrics.base', 'sklearn.metrics.classification', 'sklearn.metrics.cluster', 'sklearn.metrics.cluster.supervised', 'sklearn.metrics.cluster.expected_mutual_info_fast', 'sklearn.utils.lgamma', 'sklearn.metrics.cluster.unsupervised', 'sklearn.metrics.pairwise', 'sklearn.metrics.pairwise_fast', 'sklearn.utils._cython_blas', 'sklearn.metrics.cluster.bicluster', 'sklearn.metrics.regression', 'sklearn.metrics.scorer', 'transformers.tokenization_utils', 'transformers.tokenization_auto', 'transformers.tokenization_bert', 'transformers.tokenization_openai', 'transformers.tokenization_gpt2', 'regex', 'regex.regex', 'regex._regex_core', 'regex._regex', 'transformers.tokenization_transfo_xl', 'transformers.tokenization_xlnet', 'transformers.tokenization_xlm', 'sacremoses', 'sacremoses.corpus', 'sacremoses.tokenize', 'sacremoses.util', 'xml.sax', 'xml.sax.xmlreader', 'xml.sax.handler', 'xml.sax._exceptions', 'xml.sax.saxutils', 'sacremoses.truecase', 'sacremoses.normalize', 'transformers.tokenization_roberta', 'transformers.tokenization_distilbert', 'transformers.configuration_utils', 'transformers.configuration_auto', 'transformers.configuration_bert', 'transformers.configuration_openai', 'transformers.configuration_gpt2', 'transformers.configuration_transfo_xl', 'transformers.configuration_xlnet', 'transformers.configuration_xlm', 'transformers.configuration_roberta', 'transformers.configuration_distilbert', 'transformers.modeling_utils', 'transformers.modeling_auto', 'transformers.modeling_bert', 'transformers.modeling_openai', 'transformers.modeling_gpt2', 'transformers.modeling_transfo_xl', 'transformers.modeling_transfo_xl_utilities', 'transformers.modeling_xlnet', 'transformers.modeling_xlm', 'transformers.modeling_roberta', 'transformers.modeling_distilbert', 'transformers.optimization', 'spacy_transformers._tokenizers', 'sentencepiece', 'swig_runtime_data4', '_sentencepiece', 'spacy_transformers.activations', 'dataclasses', 'spacy_transformers.pipeline', 'spacy_transformers.pipeline.textcat', 'spacy_transformers.model_registry', 'spacy_transformers.wrapper', 'spacy_transformers.pipeline.tok2vec', 'spacy_transformers.pipeline.wordpiecer', 'networkx', 'networkx.release', 'networkx.exception', 'networkx.utils', 'networkx.utils.misc', 'networkx.utils.decorators', 'networkx.utils.random_sequence', 'networkx.utils.union_find', 'networkx.utils.rcm', 'networkx.utils.heaps', 'networkx.utils.contextmanagers', 'networkx.classes', 'networkx.classes.graph', 'networkx.classes.coreviews', 'networkx.classes.reportviews', 'networkx.convert', 'networkx.classes.digraph', 'networkx.classes.multigraph', 'networkx.classes.multidigraph', 'networkx.classes.ordered', 'networkx.classes.function', 'networkx.classes.filters', 'networkx.classes.graphviews', 'networkx.convert_matrix', 'networkx.relabel', 'networkx.generators', 'networkx.generators.atlas', 'networkx.generators.classic', 'networkx.generators.community', 'networkx.generators.degree_seq', 'networkx.generators.directed', 'networkx.generators.duplication', 'networkx.generators.ego', 'networkx.generators.expanders', 'networkx.generators.geometric', 'networkx.generators.intersection', 'networkx.algorithms', 'networkx.algorithms.assortativity', 'networkx.algorithms.assortativity.connectivity', 'networkx.algorithms.assortativity.correlation', 'networkx.algorithms.assortativity.mixing', 'networkx.algorithms.assortativity.pairs', 'networkx.algorithms.assortativity.neighbor_degree', 'networkx.algorithms.boundary', 'networkx.algorithms.bridges', 'networkx.algorithms.chains', 'networkx.algorithms.centrality', 'networkx.algorithms.centrality.betweenness', 'networkx.algorithms.centrality.betweenness_subset', 'networkx.algorithms.centrality.closeness', 'networkx.algorithms.centrality.subgraph_alg', 'networkx.algorithms.centrality.current_flow_closeness', 'networkx.algorithms.centrality.flow_matrix', 'networkx.algorithms.centrality.current_flow_betweenness', 'networkx.algorithms.centrality.current_flow_betweenness_subset', 'networkx.algorithms.centrality.degree_alg', 'networkx.algorithms.centrality.dispersion', 'networkx.algorithms.centrality.eigenvector', 'networkx.algorithms.centrality.harmonic', 'networkx.algorithms.centrality.katz', 'networkx.algorithms.centrality.load', 'networkx.algorithms.centrality.reaching', 'networkx.algorithms.centrality.percolation', 'networkx.algorithms.centrality.second_order', 'networkx.algorithms.centrality.voterank_alg', 'networkx.algorithms.chordal', 'networkx.algorithms.cluster', 'networkx.algorithms.clique', 'networkx.algorithms.communicability_alg', 'networkx.algorithms.components', 'networkx.algorithms.components.connected', 'networkx.algorithms.components.strongly_connected', 'networkx.algorithms.components.weakly_connected', 'networkx.algorithms.components.attracting', 'networkx.algorithms.components.biconnected', 'networkx.algorithms.components.semiconnected', 'networkx.algorithms.coloring', 'networkx.algorithms.coloring.greedy_coloring', 'networkx.algorithms.coloring.greedy_coloring_with_interchange', 'networkx.algorithms.coloring.equitable_coloring', 'networkx.algorithms.core', 'networkx.algorithms.covering', 'networkx.algorithms.cycles', 'networkx.algorithms.cuts', 'networkx.algorithms.dag', 'fractions', 'networkx.generators.trees', 'networkx.algorithms.distance_measures', 'networkx.algorithms.distance_regular', 'networkx.algorithms.dominance', 'networkx.algorithms.dominating', 'networkx.algorithms.efficiency', 'networkx.algorithms.euler', 'networkx.algorithms.graphical', 'networkx.algorithms.hierarchy', 'networkx.algorithms.hybrid', 'networkx.algorithms.link_analysis', 'networkx.algorithms.link_analysis.pagerank_alg', 'networkx.algorithms.link_analysis.hits_alg', 'networkx.algorithms.link_prediction', 'networkx.algorithms.lowest_common_ancestors', 'networkx.algorithms.isolate', 'networkx.algorithms.matching', 'networkx.algorithms.minors', 'networkx.algorithms.mis', 'networkx.algorithms.operators', 'networkx.algorithms.operators.all', 'networkx.algorithms.operators.binary', 'networkx.algorithms.operators.product', 'networkx.algorithms.operators.unary', 'networkx.algorithms.planarity', 'networkx.algorithms.planar_drawing', 'networkx.algorithms.reciprocity', 'networkx.algorithms.richclub', 'networkx.algorithms.shortest_paths', 'networkx.algorithms.shortest_paths.generic', 'networkx.algorithms.shortest_paths.unweighted', 'networkx.algorithms.shortest_paths.weighted', 'networkx.algorithms.shortest_paths.astar', 'networkx.algorithms.shortest_paths.dense', 'networkx.algorithms.similarity', 'networkx.algorithms.simple_paths', 'networkx.algorithms.smallworld', 'networkx.algorithms.smetric', 'networkx.algorithms.structuralholes', 'networkx.algorithms.sparsifiers', 'networkx.algorithms.swap', 'networkx.algorithms.traversal', 'networkx.algorithms.traversal.beamsearch', 'networkx.algorithms.traversal.breadth_first_search', 'networkx.algorithms.traversal.depth_first_search', 'networkx.algorithms.traversal.edgedfs', 'networkx.algorithms.traversal.edgebfs', 'networkx.algorithms.triads', 'networkx.algorithms.vitality', 'networkx.algorithms.voronoi', 'networkx.algorithms.wiener', 'networkx.algorithms.bipartite', 'networkx.algorithms.bipartite.basic', 'networkx.algorithms.bipartite.centrality', 'networkx.algorithms.bipartite.cluster', 'networkx.algorithms.bipartite.covering', 'networkx.algorithms.bipartite.matching', 'networkx.algorithms.bipartite.edgelist', 'networkx.algorithms.bipartite.matrix', 'networkx.algorithms.bipartite.projection', 'networkx.algorithms.bipartite.redundancy', 'networkx.algorithms.bipartite.spectral', 'networkx.algorithms.bipartite.generators', 'networkx.algorithms.node_classification', 'networkx.algorithms.node_classification.hmn', 'networkx.algorithms.node_classification.utils', 'networkx.algorithms.node_classification.lgc', 'networkx.algorithms.connectivity', 'networkx.algorithms.connectivity.connectivity', 'networkx.algorithms.flow', 'networkx.algorithms.flow.maxflow', 'networkx.algorithms.flow.boykovkolmogorov', 'networkx.algorithms.flow.utils', 'networkx.algorithms.flow.dinitz_alg', 'networkx.algorithms.flow.edmondskarp', 'networkx.algorithms.flow.preflowpush', 'networkx.algorithms.flow.shortestaugmentingpath', 'networkx.algorithms.flow.mincost', 'networkx.algorithms.flow.gomory_hu', 'networkx.algorithms.flow.capacityscaling', 'networkx.algorithms.flow.networksimplex', 'networkx.algorithms.connectivity.utils', 'networkx.algorithms.connectivity.cuts', 'networkx.algorithms.connectivity.edge_augmentation', 'networkx.algorithms.connectivity.edge_kcomponents', 'networkx.algorithms.connectivity.disjoint_paths', 'networkx.algorithms.connectivity.kcomponents', 'networkx.algorithms.connectivity.kcutsets', 'networkx.algorithms.connectivity.stoerwagner', 'networkx.algorithms.community', 'networkx.algorithms.community.asyn_fluid', 'networkx.algorithms.community.centrality', 'networkx.algorithms.community.community_generators', 'networkx.algorithms.community.kclique', 'networkx.algorithms.community.kernighan_lin', 'networkx.algorithms.community.community_utils', 'networkx.algorithms.community.label_propagation', 'networkx.algorithms.community.modularity_max', 'networkx.algorithms.community.quality', 'networkx.utils.mapped_queue', 'networkx.algorithms.isomorphism', 'networkx.algorithms.isomorphism.isomorph', 'networkx.algorithms.isomorphism.vf2userfunc', 'networkx.algorithms.isomorphism.isomorphvf2', 'networkx.algorithms.isomorphism.matchhelpers', 'networkx.algorithms.isomorphism.temporalisomorphvf2', 'networkx.algorithms.tournament', 'networkx.algorithms.tree', 'networkx.algorithms.tree.branchings', 'networkx.algorithms.tree.recognition', 'networkx.algorithms.tree.coding', 'networkx.algorithms.tree.mst', 'networkx.algorithms.tree.operations', 'networkx.generators.joint_degree_seq', 'networkx.generators.lattice', 'networkx.generators.line', 'networkx.generators.mycielski', 'networkx.generators.nonisomorphic_trees', 'networkx.generators.random_clustered', 'networkx.generators.random_graphs', 'networkx.generators.small', 'networkx.generators.social', 'networkx.generators.spectral_graph_forge', 'networkx.generators.stochastic', 'networkx.generators.triads', 'networkx.readwrite', 'networkx.readwrite.adjlist', 'networkx.readwrite.multiline_adjlist', 'networkx.readwrite.edgelist', 'networkx.readwrite.gpickle', 'networkx.readwrite.pajek', 'networkx.readwrite.leda', 'networkx.readwrite.sparse6', 'networkx.readwrite.graph6', 'networkx.readwrite.nx_yaml', 'networkx.readwrite.gml', 'networkx.readwrite.graphml', 'lxml', 'lxml.etree', '_cython_0_29_10', 'lxml._elementpath', 'networkx.readwrite.gexf', 'networkx.readwrite.nx_shp', 'networkx.readwrite.json_graph', 'networkx.readwrite.json_graph.node_link', 'networkx.readwrite.json_graph.adjacency', 'networkx.readwrite.json_graph.tree', 'networkx.readwrite.json_graph.jit', 'networkx.readwrite.json_graph.cytoscape', 'networkx.linalg', 'networkx.linalg.attrmatrix', 'networkx.linalg.spectrum', 'networkx.linalg.graphmatrix', 'networkx.linalg.laplacianmatrix', 'networkx.linalg.algebraicconnectivity', 'networkx.linalg.modularitymatrix', 'networkx.tests', 'networkx.tests.test', 'networkx.drawing', 'networkx.drawing.layout', 'networkx.drawing.nx_pylab', 'networkx.drawing.nx_agraph', 'networkx.drawing.nx_pydot', 'matplotlib', 'matplotlib.cbook', 'matplotlib.cbook.deprecation', 'matplotlib.rcsetup', 'matplotlib.fontconfig_pattern', 'pyparsing', 'matplotlib.colors', 'matplotlib._color_data', 'cycler', 'matplotlib._version', 'kiwisolver']\n"
          ],
          "name": "stdout"
        },
        {
          "output_type": "stream",
          "text": [
            "DEBUG:matplotlib:CACHEDIR=/home/ceteri/.cache/matplotlib\n",
            "DEBUG:matplotlib.font_manager:Using fontManager instance from /home/ceteri/.cache/matplotlib/fontlist-v310.json\n",
            "DEBUG:matplotlib.pyplot:Loaded backend module://ipykernel.pylab.backend_inline version unknown.\n",
            "DEBUG:matplotlib.pyplot:Loaded backend module://ipykernel.pylab.backend_inline version unknown.\n"
          ],
          "name": "stdout"
        },
        {
          "output_type": "execute_result",
          "data": {
            "text/plain": [
              "{0: Text(-0.259197838584597, -0.15872403687931053, 'compatibility'),\n",
              " 1: Text(-0.11695784118870008, -0.3713979484271882, 'system'),\n",
              " 2: Text(-0.08852892875670923, -0.5079477285197758, 'linear'),\n",
              " 3: Text(0.09213049042976762, -0.19987158370488659, 'constraint'),\n",
              " 4: Text(0.25330122691920326, 0.19153379113591698, 'set'),\n",
              " 5: Text(0.5185972918823862, 0.12252144735187699, 'natural'),\n",
              " 6: Text(0.5244082115510904, 0.22784013636184175, 'number'),\n",
              " 7: Text(-0.36103422253728407, 0.1553942016003211, 'criterion'),\n",
              " 8: Text(-0.19336944344824034, -0.6505271449585693, 'diophantine'),\n",
              " 9: Text(-0.2660752416095871, -0.7391842672963954, 'equation'),\n",
              " 10: Text(-0.3654875399435523, -0.8243459637400486, 'strict'),\n",
              " 11: Text(-0.4597495497267383, -0.6805045883021201, 'inequation'),\n",
              " 12: Text(-0.5658576299933219, -0.6025220285231017, 'nonstrict'),\n",
              " 13: Text(-0.3599919297901866, -0.4244719440327338, 'consider'),\n",
              " 14: Text(0.5781434212564582, 1.0, 'upper'),\n",
              " 15: Text(0.6690017134927084, 0.9366815527346906, 'bound'),\n",
              " 16: Text(0.48609569153618537, 0.7651270668995663, 'component'),\n",
              " 17: Text(0.2497684884161864, 0.4200526735559854, 'minimal'),\n",
              " 18: Text(0.07213378209505379, 0.167964348930075, 'solution'),\n",
              " 19: Text(-0.05120399908985773, 0.41869565492829397, 'algorithm'),\n",
              " 20: Text(0.1495382301490408, 0.5338464624417432, 'construction'),\n",
              " 21: Text(0.23114521046953881, 0.33445069688834145, 'generating'),\n",
              " 22: Text(-0.08865640290120212, -0.2342772723644826, 'type'),\n",
              " 23: Text(0.05921254193267405, -0.6176359304937585, 'give'),\n",
              " 24: Text(-0.24414780128308222, 0.41552118932596926, 'corresponding'),\n",
              " 25: Text(-0.0033777258750930946, 0.5059147201561344, 'construct'),\n",
              " 26: Text(0.12109519202330948, 0.35071686490934506, 'support'),\n",
              " 27: Text(-0.21334881434958014, 0.03337602813970498, 'use'),\n",
              " 28: Text(-0.4212865379902862, -0.1753225353989069, 'solve'),\n",
              " 29: Text(0.05369995491441751, -0.392903862718526, 'mixed')}"
            ]
          },
          "metadata": {
            "tags": []
          },
          "execution_count": 11
        },
        {
          "output_type": "stream",
          "text": [
            "DEBUG:matplotlib.font_manager:findfont: Matching :family=sans-serif:style=normal:variant=normal:weight=normal:stretch=normal:size=12.0.\n",
            "DEBUG:matplotlib.font_manager:findfont: score(<Font 'STIXNonUnicode' (STIXNonUniIta.ttf) italic normal 400 normal>) = 11.05\n",
            "DEBUG:matplotlib.font_manager:findfont: score(<Font 'STIXSizeFourSym' (STIXSizFourSymReg.ttf) normal normal regular normal>) = 10.05\n",
            "DEBUG:matplotlib.font_manager:findfont: score(<Font 'STIXSizeFourSym' (STIXSizFourSymBol.ttf) normal normal bold normal>) = 10.335\n",
            "DEBUG:matplotlib.font_manager:findfont: score(<Font 'STIXSizeTwoSym' (STIXSizTwoSymBol.ttf) normal normal bold normal>) = 10.335\n",
            "DEBUG:matplotlib.font_manager:findfont: score(<Font 'cmb10' (cmb10.ttf) normal normal 400 normal>) = 10.05\n",
            "DEBUG:matplotlib.font_manager:findfont: score(<Font 'DejaVu Serif' (DejaVuSerif-Italic.ttf) italic normal 400 normal>) = 11.05\n",
            "DEBUG:matplotlib.font_manager:findfont: score(<Font 'STIXSizeOneSym' (STIXSizOneSymBol.ttf) normal normal bold normal>) = 10.335\n",
            "DEBUG:matplotlib.font_manager:findfont: score(<Font 'DejaVu Sans Mono' (DejaVuSansMono-Oblique.ttf) oblique normal 400 normal>) = 11.05\n",
            "DEBUG:matplotlib.font_manager:findfont: score(<Font 'DejaVu Sans Display' (DejaVuSansDisplay.ttf) normal normal 400 normal>) = 10.05\n",
            "DEBUG:matplotlib.font_manager:findfont: score(<Font 'STIXSizeTwoSym' (STIXSizTwoSymReg.ttf) normal normal regular normal>) = 10.05\n",
            "DEBUG:matplotlib.font_manager:findfont: score(<Font 'STIXGeneral' (STIXGeneralBol.ttf) normal normal bold normal>) = 10.335\n",
            "DEBUG:matplotlib.font_manager:findfont: score(<Font 'DejaVu Sans Mono' (DejaVuSansMono.ttf) normal normal 400 normal>) = 10.05\n",
            "DEBUG:matplotlib.font_manager:findfont: score(<Font 'STIXNonUnicode' (STIXNonUniBolIta.ttf) italic normal bold normal>) = 11.335\n",
            "DEBUG:matplotlib.font_manager:findfont: score(<Font 'STIXSizeOneSym' (STIXSizOneSymReg.ttf) normal normal regular normal>) = 10.05\n",
            "DEBUG:matplotlib.font_manager:findfont: score(<Font 'STIXGeneral' (STIXGeneralItalic.ttf) italic normal 400 normal>) = 11.05\n",
            "DEBUG:matplotlib.font_manager:findfont: score(<Font 'DejaVu Sans Mono' (DejaVuSansMono-BoldOblique.ttf) oblique normal bold normal>) = 11.335\n",
            "DEBUG:matplotlib.font_manager:findfont: score(<Font 'DejaVu Sans' (DejaVuSans-BoldOblique.ttf) oblique normal bold normal>) = 1.335\n",
            "DEBUG:matplotlib.font_manager:findfont: score(<Font 'STIXNonUnicode' (STIXNonUniBol.ttf) normal normal bold normal>) = 10.335\n",
            "DEBUG:matplotlib.font_manager:findfont: score(<Font 'STIXGeneral' (STIXGeneralBolIta.ttf) italic normal bold normal>) = 11.335\n",
            "DEBUG:matplotlib.font_manager:findfont: score(<Font 'STIXSizeThreeSym' (STIXSizThreeSymReg.ttf) normal normal regular normal>) = 10.05\n",
            "DEBUG:matplotlib.font_manager:findfont: score(<Font 'DejaVu Sans' (DejaVuSans-Oblique.ttf) oblique normal 400 normal>) = 1.05\n",
            "DEBUG:matplotlib.font_manager:findfont: score(<Font 'cmmi10' (cmmi10.ttf) normal normal 400 normal>) = 10.05\n",
            "DEBUG:matplotlib.font_manager:findfont: score(<Font 'STIXSizeThreeSym' (STIXSizThreeSymBol.ttf) normal normal bold normal>) = 10.335\n",
            "DEBUG:matplotlib.font_manager:findfont: score(<Font 'DejaVu Sans Mono' (DejaVuSansMono-Bold.ttf) normal normal bold normal>) = 10.335\n",
            "DEBUG:matplotlib.font_manager:findfont: score(<Font 'DejaVu Sans' (DejaVuSans-Bold.ttf) normal normal bold normal>) = 0.33499999999999996\n",
            "DEBUG:matplotlib.font_manager:findfont: score(<Font 'cmex10' (cmex10.ttf) normal normal 400 normal>) = 10.05\n",
            "DEBUG:matplotlib.font_manager:findfont: score(<Font 'DejaVu Serif' (DejaVuSerif-BoldItalic.ttf) italic normal bold normal>) = 11.335\n",
            "DEBUG:matplotlib.font_manager:findfont: score(<Font 'STIXGeneral' (STIXGeneral.ttf) normal normal regular normal>) = 10.05\n",
            "DEBUG:matplotlib.font_manager:findfont: score(<Font 'DejaVu Serif Display' (DejaVuSerifDisplay.ttf) normal normal 400 normal>) = 10.05\n",
            "DEBUG:matplotlib.font_manager:findfont: score(<Font 'cmr10' (cmr10.ttf) normal normal 400 normal>) = 10.05\n",
            "DEBUG:matplotlib.font_manager:findfont: score(<Font 'DejaVu Serif' (DejaVuSerif-Bold.ttf) normal normal bold normal>) = 10.335\n",
            "DEBUG:matplotlib.font_manager:findfont: score(<Font 'STIXNonUnicode' (STIXNonUni.ttf) normal normal regular normal>) = 10.05\n",
            "DEBUG:matplotlib.font_manager:findfont: score(<Font 'DejaVu Sans' (DejaVuSans.ttf) normal normal 400 normal>) = 0.05\n",
            "DEBUG:matplotlib.font_manager:findfont: score(<Font 'cmsy10' (cmsy10.ttf) normal normal 400 normal>) = 10.05\n",
            "DEBUG:matplotlib.font_manager:findfont: score(<Font 'cmtt10' (cmtt10.ttf) normal normal 400 normal>) = 10.05\n",
            "DEBUG:matplotlib.font_manager:findfont: score(<Font 'DejaVu Serif' (DejaVuSerif.ttf) normal normal 400 normal>) = 10.05\n",
            "DEBUG:matplotlib.font_manager:findfont: score(<Font 'cmss10' (cmss10.ttf) normal normal 400 normal>) = 10.05\n",
            "DEBUG:matplotlib.font_manager:findfont: score(<Font 'STIXSizeFiveSym' (STIXSizFiveSymReg.ttf) normal normal regular normal>) = 10.05\n",
            "DEBUG:matplotlib.font_manager:findfont: score(<Font 'MathJax_Math' (MathJax_Math-Italic.otf) italic normal 400 normal>) = 11.05\n",
            "DEBUG:matplotlib.font_manager:findfont: score(<Font 'MathJax_SansSerif' (MathJax_SansSerif-Regular.otf) normal normal regular normal>) = 10.05\n",
            "DEBUG:matplotlib.font_manager:findfont: score(<Font 'MathJax_Math' (MathJax_Math-Regular.otf) normal normal regular normal>) = 10.05\n",
            "DEBUG:matplotlib.font_manager:findfont: score(<Font 'MathJax_Size2' (MathJax_Size2-Regular.otf) normal normal regular normal>) = 10.05\n",
            "DEBUG:matplotlib.font_manager:findfont: score(<Font 'MathJax_Main' (MathJax_Main-Regular.otf) normal normal regular normal>) = 10.05\n",
            "DEBUG:matplotlib.font_manager:findfont: score(<Font 'MathJax_Typewriter' (MathJax_Typewriter-Regular.otf) normal normal regular normal>) = 10.05\n",
            "DEBUG:matplotlib.font_manager:findfont: score(<Font 'MathJax_SansSerif' (MathJax_SansSerif-Bold.otf) normal normal bold normal>) = 10.335\n",
            "DEBUG:matplotlib.font_manager:findfont: score(<Font 'MathJax_Size1' (MathJax_Size1-Regular.otf) normal normal regular normal>) = 10.05\n",
            "DEBUG:matplotlib.font_manager:findfont: score(<Font 'MathJax_Caligraphic' (MathJax_Caligraphic-Bold.otf) normal normal bold normal>) = 10.335\n",
            "DEBUG:matplotlib.font_manager:findfont: score(<Font 'MathJax_Vector' (MathJax_Vector-Regular.otf) normal normal regular normal>) = 10.05\n",
            "DEBUG:matplotlib.font_manager:findfont: score(<Font 'MathJax_Caligraphic' (MathJax_Caligraphic-Regular.otf) normal normal regular normal>) = 10.05\n",
            "DEBUG:matplotlib.font_manager:findfont: score(<Font 'MathJax_Main' (MathJax_Main-Italic.otf) italic normal 400 normal>) = 11.05\n",
            "DEBUG:matplotlib.font_manager:findfont: score(<Font 'MathJax_Fraktur' (MathJax_Fraktur-Bold.otf) normal normal bold normal>) = 10.335\n",
            "DEBUG:matplotlib.font_manager:findfont: score(<Font 'FontAwesome' (fontawesome-webfont.ttf) normal normal 400 normal>) = 10.05\n",
            "DEBUG:matplotlib.font_manager:findfont: score(<Font 'MathJax_AMS' (MathJax_AMS-Regular.otf) normal normal regular normal>) = 10.05\n",
            "DEBUG:matplotlib.font_manager:findfont: score(<Font 'MathJax_Script' (MathJax_Script-Regular.otf) normal normal regular normal>) = 10.05\n",
            "DEBUG:matplotlib.font_manager:findfont: score(<Font 'MathJax_Size3' (MathJax_Size3-Regular.otf) normal normal regular normal>) = 10.05\n",
            "DEBUG:matplotlib.font_manager:findfont: score(<Font 'MathJax_Math' (MathJax_Math-BoldItalic.otf) italic normal bold normal>) = 11.335\n",
            "DEBUG:matplotlib.font_manager:findfont: score(<Font 'MathJax_WinChrome' (MathJax_WinChrome-Regular.otf) normal normal regular normal>) = 10.05\n",
            "DEBUG:matplotlib.font_manager:findfont: score(<Font 'MathJax_SansSerif' (MathJax_SansSerif-Italic.otf) italic normal 400 normal>) = 11.05\n",
            "DEBUG:matplotlib.font_manager:findfont: score(<Font 'MathJax_Main' (MathJax_Main-Bold.otf) normal normal bold normal>) = 10.335\n",
            "DEBUG:matplotlib.font_manager:findfont: score(<Font 'MathJax_Fraktur' (MathJax_Fraktur-Regular.otf) normal normal regular normal>) = 10.05\n",
            "DEBUG:matplotlib.font_manager:findfont: score(<Font 'FontAwesome' (FontAwesome.otf) normal normal 400 normal>) = 10.05\n",
            "DEBUG:matplotlib.font_manager:findfont: score(<Font 'MathJax_Size4' (MathJax_Size4-Regular.otf) normal normal regular normal>) = 10.05\n",
            "DEBUG:matplotlib.font_manager:findfont: score(<Font 'MathJax_Vector-Bold' (MathJax_Vector-Bold.otf) normal normal bold normal>) = 10.335\n"
          ],
          "name": "stdout"
        },
        {
          "output_type": "stream",
          "text": [
            "DEBUG:matplotlib.font_manager:findfont: score(<Font 'MathJax_WinIE6' (MathJax_WinIE6-Regular.otf) normal normal regular normal>) = 10.05\n",
            "DEBUG:matplotlib.font_manager:findfont: Matching :family=sans-serif:style=normal:variant=normal:weight=normal:stretch=normal:size=12.0 to DejaVu Sans ('/home/ceteri/anaconda3/lib/python3.7/site-packages/matplotlib/mpl-data/fonts/ttf/DejaVuSans.ttf') with score of 0.050000.\n"
          ],
          "name": "stdout"
        },
        {
          "output_type": "display_data",
          "data": {
            "image/png": "[encoded data removed]",
            "text/plain": [
              "<Figure size 648x648 with 1 Axes>"
            ]
          },
          "metadata": {
            "tags": []
          }
        },
        {
          "output_type": "stream",
          "text": [
            "DEBUG:matplotlib.pyplot:Loaded backend module://ipykernel.pylab.backend_inline version unknown.\n"
          ],
          "name": "stdout"
        }
      ]
    },
    {
      "cell_type": "markdown",
      "metadata": {
        "id": "ZMmbMPXqChqW"
      },
      "source": [
        "Now to run the algorithm, we use `PageRank` – which is approximately _eigenvalue centrality_ – to calculate ranks for each of the nodes in the lemma graph."
      ]
    },
    {
      "cell_type": "code",
      "metadata": {
        "id": "45gkGPWDChqW",
        "outputId": "23b6df0d-b587-4093-9262-d1e470866894"
      },
      "source": [
        "ranks = nx.pagerank(lemma_graph)\n",
        "ranks"
      ],
      "execution_count": null,
      "outputs": [
        {
          "output_type": "execute_result",
          "data": {
            "text/plain": [
              "{0: 0.025190055141357165,\n",
              " 1: 0.09709174565608479,\n",
              " 2: 0.03658656272138432,\n",
              " 3: 0.022947339381092696,\n",
              " 4: 0.07548767636963792,\n",
              " 5: 0.01884004785394172,\n",
              " 6: 0.01884004785394172,\n",
              " 7: 0.019767433918161055,\n",
              " 8: 0.03093250736456608,\n",
              " 9: 0.031636552282656216,\n",
              " 10: 0.0250439175297852,\n",
              " 11: 0.03969617593153302,\n",
              " 12: 0.02513276636673567,\n",
              " 13: 0.0390375393827704,\n",
              " 14: 0.02428614673389346,\n",
              " 15: 0.02428614673389346,\n",
              " 16: 0.031629446298645975,\n",
              " 17: 0.06334806476862227,\n",
              " 18: 0.061826419749828485,\n",
              " 19: 0.03201021345587308,\n",
              " 20: 0.02404712231242087,\n",
              " 21: 0.029468555366439973,\n",
              " 22: 0.04816979699201436,\n",
              " 23: 0.010894627731045426,\n",
              " 24: 0.026930354700088012,\n",
              " 25: 0.03165915652710971,\n",
              " 26: 0.029382686223731833,\n",
              " 27: 0.019263849959229938,\n",
              " 28: 0.01982332786706688,\n",
              " 29: 0.016743716826448173}"
            ]
          },
          "metadata": {
            "tags": []
          },
          "execution_count": 12
        }
      ]
    },
    {
      "cell_type": "code",
      "metadata": {
        "id": "Pj8u4QaWChqX",
        "outputId": "5bda937f-2ddd-4beb-a4c5-31c8ba77a259"
      },
      "source": [
        "for node_id, rank in sorted(ranks.items(), key=lambda x: x[1], reverse=True):\n",
        "    print(node_id, rank, labels[node_id])"
      ],
      "execution_count": null,
      "outputs": [
        {
          "output_type": "stream",
          "text": [
            "1 0.09709174565608479 system\n",
            "4 0.07548767636963792 set\n",
            "17 0.06334806476862227 minimal\n",
            "18 0.061826419749828485 solution\n",
            "22 0.04816979699201436 type\n",
            "11 0.03969617593153302 inequation\n",
            "13 0.0390375393827704 consider\n",
            "2 0.03658656272138432 linear\n",
            "19 0.03201021345587308 algorithm\n",
            "25 0.03165915652710971 construct\n",
            "9 0.031636552282656216 equation\n",
            "16 0.031629446298645975 component\n",
            "8 0.03093250736456608 diophantine\n",
            "21 0.029468555366439973 generating\n",
            "26 0.029382686223731833 support\n",
            "24 0.026930354700088012 corresponding\n",
            "0 0.025190055141357165 compatibility\n",
            "12 0.02513276636673567 nonstrict\n",
            "10 0.0250439175297852 strict\n",
            "14 0.02428614673389346 upper\n",
            "15 0.02428614673389346 bound\n",
            "20 0.02404712231242087 construction\n",
            "3 0.022947339381092696 constraint\n",
            "28 0.01982332786706688 solve\n",
            "7 0.019767433918161055 criterion\n",
            "27 0.019263849959229938 use\n",
            "5 0.01884004785394172 natural\n",
            "6 0.01884004785394172 number\n",
            "29 0.016743716826448173 mixed\n",
            "23 0.010894627731045426 give\n"
          ],
          "name": "stdout"
        }
      ]
    },
    {
      "cell_type": "markdown",
      "metadata": {
        "id": "O2RLOPh-ChqX"
      },
      "source": [
        "Define a function to collect the top-ranked phrases from the lemma graph."
      ]
    },
    {
      "cell_type": "code",
      "metadata": {
        "id": "5nT6R20-ChqX"
      },
      "source": [
        "import math\n",
        "\n",
        "def collect_phrases (chunk, phrases, counts):\n",
        "    chunk_len = chunk.end - chunk.start + 1\n",
        "    sq_sum_rank = 0.0\n",
        "    non_lemma = 0\n",
        "    compound_key = set([])\n",
        "\n",
        "    for i in range(chunk.start, chunk.end):\n",
        "        token = doc[i]\n",
        "        key = (token.lemma_, token.pos_)\n",
        "        \n",
        "        if key in seen_lemma:\n",
        "            node_id = list(seen_lemma.keys()).index(key)\n",
        "            rank = ranks[node_id]\n",
        "            sq_sum_rank += rank\n",
        "            compound_key.add(key)\n",
        "        \n",
        "            if logger:\n",
        "                logger.debug(\" {} {} {} {}\".format(token.lemma_, token.pos_, node_id, rank))\n",
        "        else:\n",
        "            non_lemma += 1\n",
        "    \n",
        "    # although the noun chunking is greedy, we discount the ranks using a\n",
        "    # point estimate based on the number of non-lemma tokens within a phrase\n",
        "    non_lemma_discount = chunk_len / (chunk_len + (2.0 * non_lemma) + 1.0)\n",
        "\n",
        "    # use root mean square (RMS) to normalize the contributions of all the tokens\n",
        "    phrase_rank = math.sqrt(sq_sum_rank / (chunk_len + non_lemma))\n",
        "    phrase_rank *= non_lemma_discount\n",
        "\n",
        "    # remove spurious punctuation\n",
        "    phrase = chunk.text.lower().replace(\"'\", \"\")\n",
        "\n",
        "    # create a unique key for the the phrase based on its lemma components\n",
        "    compound_key = tuple(sorted(list(compound_key)))\n",
        "    \n",
        "    if not compound_key in phrases:\n",
        "        phrases[compound_key] = set([ (phrase, phrase_rank) ])\n",
        "        counts[compound_key] = 1\n",
        "    else:\n",
        "        phrases[compound_key].add( (phrase, phrase_rank) )\n",
        "        counts[compound_key] += 1\n",
        "\n",
        "    if logger:\n",
        "        logger.debug(\"{} {} {} {} {} {}\".format(phrase_rank, chunk.text, chunk.start, chunk.end, chunk_len, counts[compound_key]))"
      ],
      "execution_count": null,
      "outputs": []
    },
    {
      "cell_type": "markdown",
      "metadata": {
        "id": "QETdIgtjChqa"
      },
      "source": [
        "Collect the top-ranked phrases based on both the noun chunks and the named entities..."
      ]
    },
    {
      "cell_type": "code",
      "metadata": {
        "id": "oSvtnAM6Chqa",
        "outputId": "feab869a-8a3e-468e-fd54-174b781f8ec7"
      },
      "source": [
        "phrases = {}\n",
        "counts = {}\n",
        "\n",
        "for chunk in doc.noun_chunks:\n",
        "    collect_phrases(chunk, phrases, counts)\n",
        "\n",
        "for ent in doc.ents:\n",
        "    collect_phrases(ent, phrases, counts)"
      ],
      "execution_count": null,
      "outputs": [
        {
          "output_type": "stream",
          "text": [
            "DEBUG:PyTR: compatibility NOUN 0 0.025190055141357165\n",
            "DEBUG:PyTR:0.07481838030465979 Compatibility 0 1 2 1\n",
            "DEBUG:PyTR: system NOUN 1 0.09709174565608479\n",
            "DEBUG:PyTR:0.14688751982088183 systems 2 3 2 1\n",
            "DEBUG:PyTR: linear ADJ 2 0.03658656272138432\n",
            "DEBUG:PyTR: constraint NOUN 3 0.022947339381092696\n",
            "DEBUG:PyTR:0.10565323773654285 linear constraints 4 6 3 1\n",
            "DEBUG:PyTR: set NOUN 4 0.07548767636963792\n",
            "DEBUG:PyTR:0.06868755180600318 the set 7 9 3 1\n",
            "DEBUG:PyTR: natural ADJ 5 0.01884004785394172\n",
            "DEBUG:PyTR: number NOUN 6 0.01884004785394172\n",
            "DEBUG:PyTR:0.08405366110543994 natural numbers 10 12 3 1\n",
            "DEBUG:PyTR: criterion NOUN 7 0.019767433918161055\n",
            "DEBUG:PyTR:0.06627792311867262 Criteria 13 14 2 1\n",
            "DEBUG:PyTR: compatibility NOUN 0 0.025190055141357165\n",
            "DEBUG:PyTR:0.07481838030465979 compatibility 15 16 2 2\n",
            "DEBUG:PyTR: system NOUN 1 0.09709174565608479\n",
            "DEBUG:PyTR:0.07789887100276421 a system 17 19 3 2\n",
            "DEBUG:PyTR: linear ADJ 2 0.03658656272138432\n",
            "DEBUG:PyTR: Diophantine PROPN 8 0.03093250736456608\n",
            "DEBUG:PyTR: equation NOUN 9 0.031636552282656216\n",
            "DEBUG:PyTR:0.1259559430077718 linear Diophantine equations 20 23 4 1\n",
            "DEBUG:PyTR: strict ADJ 10 0.0250439175297852\n",
            "DEBUG:PyTR: inequation NOUN 11 0.03969617593153302\n",
            "DEBUG:PyTR:0.11017607509798653 strict inequations 24 26 3 1\n",
            "DEBUG:PyTR: nonstrict NOUN 12 0.02513276636673567\n",
            "DEBUG:PyTR: inequation NOUN 11 0.03969617593153302\n",
            "DEBUG:PyTR:0.11025165160180313 nonstrict inequations 28 30 3 1\n",
            "DEBUG:PyTR: upper ADJ 14 0.02428614673389346\n",
            "DEBUG:PyTR: bound NOUN 15 0.02428614673389346\n",
            "DEBUG:PyTR:0.09543220119650414 Upper bounds 33 35 3 1\n",
            "DEBUG:PyTR: component NOUN 16 0.031629446298645975\n",
            "DEBUG:PyTR:0.08383773520404489 components 36 37 2 1\n",
            "DEBUG:PyTR: minimal ADJ 17 0.06334806476862227\n",
            "DEBUG:PyTR: set NOUN 4 0.07548767636963792\n",
            "DEBUG:PyTR:0.0952198714085986 a minimal set 38 41 4 1\n",
            "DEBUG:PyTR: solution NOUN 18 0.061826419749828485\n",
            "DEBUG:PyTR:0.1172143523159633 solutions 42 43 2 1\n",
            "DEBUG:PyTR: algorithm NOUN 19 0.03201021345587308\n",
            "DEBUG:PyTR:0.0843408606072513 algorithms 44 45 2 1\n",
            "DEBUG:PyTR: construction NOUN 20 0.02404712231242087\n",
            "DEBUG:PyTR:0.07310133349204889 construction 46 47 2 1\n",
            "DEBUG:PyTR: minimal ADJ 17 0.06334806476862227\n",
            "DEBUG:PyTR: generating NOUN 21 0.029468555366439973\n",
            "DEBUG:PyTR: set NOUN 4 0.07548767636963792\n",
            "DEBUG:PyTR:0.1640996265710316 minimal generating sets 48 51 4 1\n",
            "DEBUG:PyTR: solution NOUN 18 0.061826419749828485\n",
            "DEBUG:PyTR:0.1172143523159633 solutions 52 53 2 2\n",
            "DEBUG:PyTR: type NOUN 22 0.04816979699201436\n",
            "DEBUG:PyTR:0.05486904693906117 all types 54 56 3 1\n",
            "DEBUG:PyTR: system NOUN 1 0.09709174565608479\n",
            "DEBUG:PyTR:0.14688751982088183 systems 57 58 2 3\n",
            "DEBUG:PyTR: criterion NOUN 7 0.019767433918161055\n",
            "DEBUG:PyTR:0.035149176660130545 These criteria 61 63 3 2\n",
            "DEBUG:PyTR: corresponding ADJ 24 0.026930354700088012\n",
            "DEBUG:PyTR: algorithm NOUN 19 0.03201021345587308\n",
            "DEBUG:PyTR:0.06204175981712335 the corresponding algorithms 64 67 4 1\n",
            "DEBUG:PyTR: minimal ADJ 17 0.06334806476862227\n",
            "DEBUG:PyTR: support VERB 26 0.029382686223731833\n",
            "DEBUG:PyTR: set NOUN 4 0.07548767636963792\n",
            "DEBUG:PyTR:0.10465046837630346 a minimal supporting set 69 73 5 1\n",
            "DEBUG:PyTR: solution NOUN 18 0.061826419749828485\n",
            "DEBUG:PyTR:0.1172143523159633 solutions 74 75 2 3\n",
            "DEBUG:PyTR: consider VERB 13 0.0390375393827704\n",
            "DEBUG:PyTR: type NOUN 22 0.04816979699201436\n",
            "DEBUG:PyTR: system NOUN 1 0.09709174565608479\n",
            "DEBUG:PyTR:0.08278948056400119 all the considered types systems 80 85 6 1\n",
            "DEBUG:PyTR: system NOUN 1 0.09709174565608479\n",
            "DEBUG:PyTR:0.14688751982088183 systems 86 87 2 4\n",
            "DEBUG:PyTR: mixed ADJ 29 0.016743716826448173\n",
            "DEBUG:PyTR: type NOUN 22 0.04816979699201436\n",
            "DEBUG:PyTR:0.1103235416443912 mixed types 88 90 3 1\n",
            "DEBUG:PyTR: Diophantine PROPN 8 0.03093250736456608\n",
            "DEBUG:PyTR:0.082908929105731 Diophantine 21 22 2 1\n"
          ],
          "name": "stdout"
        }
      ]
    },
    {
      "cell_type": "markdown",
      "metadata": {
        "id": "Nvu03_y5Chqb"
      },
      "source": [
        "Since noun chunks can be expressed in different ways (e.g., they may have articles or prepositions), we need to find a minimum span for each phrase based on combinations of lemmas..."
      ]
    },
    {
      "cell_type": "code",
      "metadata": {
        "id": "imKJtyzTChqb"
      },
      "source": [
        "import operator\n",
        "\n",
        "min_phrases = {}\n",
        "\n",
        "for compound_key, rank_tuples in phrases.items():\n",
        "    l = list(rank_tuples)\n",
        "    l.sort(key=operator.itemgetter(1), reverse=True)\n",
        "    \n",
        "    phrase, rank = l[0]\n",
        "    count = counts[compound_key]\n",
        "    \n",
        "    min_phrases[phrase] = (rank, count)"
      ],
      "execution_count": null,
      "outputs": []
    },
    {
      "cell_type": "markdown",
      "metadata": {
        "id": "mAvAMQqrChqb"
      },
      "source": [
        "Yield the results of TextRank..."
      ]
    },
    {
      "cell_type": "code",
      "metadata": {
        "id": "MCLTdWjgChqb",
        "outputId": "f437373e-b635-4429-c3b7-850ecdd2de87"
      },
      "source": [
        "for phrase, (rank, count) in sorted(min_phrases.items(), key=lambda x: x[1][0], reverse=True):\n",
        "    print(phrase, count, rank)"
      ],
      "execution_count": null,
      "outputs": [
        {
          "output_type": "stream",
          "text": [
            "minimal generating sets 1 0.1640996265710316\n",
            "systems 4 0.14688751982088183\n",
            "linear diophantine equations 1 0.1259559430077718\n",
            "solutions 3 0.1172143523159633\n",
            "mixed types 1 0.1103235416443912\n",
            "nonstrict inequations 1 0.11025165160180313\n",
            "strict inequations 1 0.11017607509798653\n",
            "linear constraints 1 0.10565323773654285\n",
            "a minimal supporting set 1 0.10465046837630346\n",
            "upper bounds 1 0.09543220119650414\n",
            "a minimal set 1 0.0952198714085986\n",
            "algorithms 1 0.0843408606072513\n",
            "natural numbers 1 0.08405366110543994\n",
            "components 1 0.08383773520404489\n",
            "diophantine 1 0.082908929105731\n",
            "all the considered types systems 1 0.08278948056400119\n",
            "compatibility 2 0.07481838030465979\n",
            "construction 1 0.07310133349204889\n",
            "the set 1 0.06868755180600318\n",
            "criteria 2 0.06627792311867262\n",
            "the corresponding algorithms 1 0.06204175981712335\n",
            "all types 1 0.05486904693906117\n"
          ],
          "name": "stdout"
        }
      ]
    },
    {
      "cell_type": "markdown",
      "metadata": {
        "id": "SESRcwSPChqc"
      },
      "source": [
        "Just for kicks, compare with raw results of the non-chunked lemma nodes..."
      ]
    },
    {
      "cell_type": "code",
      "metadata": {
        "id": "GyTGKJfqChqc",
        "outputId": "75b0eb6f-b817-40f4-9e46-a35e044a1260"
      },
      "source": [
        "for node_id, rank in sorted(ranks.items(), key=lambda x: x[1], reverse=True):\n",
        "    print(labels[node_id], rank)"
      ],
      "execution_count": null,
      "outputs": [
        {
          "output_type": "stream",
          "text": [
            "system 0.09709174565608479\n",
            "set 0.07548767636963792\n",
            "minimal 0.06334806476862227\n",
            "solution 0.061826419749828485\n",
            "type 0.04816979699201436\n",
            "inequation 0.03969617593153302\n",
            "consider 0.0390375393827704\n",
            "linear 0.03658656272138432\n",
            "algorithm 0.03201021345587308\n",
            "construct 0.03165915652710971\n",
            "equation 0.031636552282656216\n",
            "component 0.031629446298645975\n",
            "diophantine 0.03093250736456608\n",
            "generating 0.029468555366439973\n",
            "support 0.029382686223731833\n",
            "corresponding 0.026930354700088012\n",
            "compatibility 0.025190055141357165\n",
            "nonstrict 0.02513276636673567\n",
            "strict 0.0250439175297852\n",
            "upper 0.02428614673389346\n",
            "bound 0.02428614673389346\n",
            "construction 0.02404712231242087\n",
            "constraint 0.022947339381092696\n",
            "solve 0.01982332786706688\n",
            "criterion 0.019767433918161055\n",
            "use 0.019263849959229938\n",
            "natural 0.01884004785394172\n",
            "number 0.01884004785394172\n",
            "mixed 0.016743716826448173\n",
            "give 0.010894627731045426\n"
          ],
          "name": "stdout"
        }
      ]
    }
  ]
}