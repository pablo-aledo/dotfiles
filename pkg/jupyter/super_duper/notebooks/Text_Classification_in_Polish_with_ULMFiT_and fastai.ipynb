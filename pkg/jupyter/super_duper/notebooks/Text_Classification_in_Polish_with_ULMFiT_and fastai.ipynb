{
  "nbformat": 4,
  "nbformat_minor": 0,
  "metadata": {
    "colab": {
      "name": "Text Classification in Polish with ULMFiT and fastai.ipynb",
      "provenance": [],
      "collapsed_sections": [
        "NJjEZe0mTOCd",
        "tGd3mOUdTdI0",
        "RrHd_AyzTpw3",
        "CRg8rMezT8Ih",
        "2Sdpa-clUM_H"
      ]
    },
    "kernelspec": {
      "name": "python3",
      "display_name": "Python 3"
    },
    "accelerator": "GPU"
  },
  "cells": [
    {
      "cell_type": "markdown",
      "metadata": {
        "id": "MhzISII70t11"
      },
      "source": [
        "# Text Classification in Polish with ULMFiT and fastai\n",
        "\n",
        "This is a demo on how to use fastai library with sentencecode to train a Polish language model, and use it then to develop a classification model. For demo purposes, I need a small sample corpus for the language model, and a small sample classification dataset. I will use them to develop a pipeline that should be quick to train, so that I know that it works and can use it later for more challenging datasets.\n",
        "\n",
        "\n"
      ]
    },
    {
      "cell_type": "markdown",
      "metadata": {
        "id": "NJjEZe0mTOCd"
      },
      "source": [
        "# Set up the notebook"
      ]
    },
    {
      "cell_type": "code",
      "metadata": {
        "id": "Nq7RMnyP0rIQ",
        "colab": {
          "base_uri": "https://localhost:8080/",
          "height": 122
        },
        "outputId": "2fe55d55-8ec9-41ae-c5c8-ce8b8f3555e1"
      },
      "source": [
        "#start by mounting google drive\n",
        "from google.colab import drive\n",
        "drive.mount('/content/gdrive', force_remount=True)\n",
        "base_dir = \"/content/gdrive/My Drive/ULMFIT_PL_DEMO/\"\n",
        "#sentencecode breaks when I use the google drive directory because of the space in \"My Drive\" (let me know if you know how to fix it!) - so I copy files to server root and work from there\n",
        "train_dir = \"/root/fastai/texts/\""
      ],
      "execution_count": null,
      "outputs": [
        {
          "output_type": "stream",
          "text": [
            "Go to this URL in a browser: https://accounts.google.com/o/oauth2/auth?client_id=947318989803-6bn6qk8qdgf4n4g3pfee6491hc0brc4i.apps.googleusercontent.com&redirect_uri=urn%3Aietf%3Awg%3Aoauth%3A2.0%3Aoob&scope=email%20https%3A%2F%2Fwww.googleapis.com%2Fauth%2Fdocs.test%20https%3A%2F%2Fwww.googleapis.com%2Fauth%2Fdrive%20https%3A%2F%2Fwww.googleapis.com%2Fauth%2Fdrive.photos.readonly%20https%3A%2F%2Fwww.googleapis.com%2Fauth%2Fpeopleapi.readonly&response_type=code\n",
            "\n",
            "Enter your authorization code:\n",
            "··········\n",
            "Mounted at /content/gdrive\n"
          ],
          "name": "stdout"
        }
      ]
    },
    {
      "cell_type": "code",
      "metadata": {
        "id": "ceaU5cyy1QMJ",
        "colab": {
          "base_uri": "https://localhost:8080/",
          "height": 51
        },
        "outputId": "d0909812-c8f2-4cf0-cb58-f06aedea8274"
      },
      "source": [
        "#Install and import fastai library\n",
        "!curl -s https://course.fast.ai/setup/colab | bash\n",
        "from fastai.text import *"
      ],
      "execution_count": null,
      "outputs": [
        {
          "output_type": "stream",
          "text": [
            "Updating fastai...\n",
            "Done.\n"
          ],
          "name": "stdout"
        }
      ]
    },
    {
      "cell_type": "code",
      "metadata": {
        "id": "kCBYMzW6WYQ-"
      },
      "source": [
        "# I'll be copying over key files to a separate directory directly on the colab VM - otherwise the space in filepath 'My Drive' causes issues with sentencepiece\n",
        "mkdir -p /root/fastai/texts"
      ],
      "execution_count": null,
      "outputs": []
    },
    {
      "cell_type": "code",
      "metadata": {
        "id": "0_H1B9k3E-Ru"
      },
      "source": [
        "# create working directory in google drive\n",
        "mkdir -p /content/gdrive/My\\ Drive/ULMFIT_PL_DEMO"
      ],
      "execution_count": null,
      "outputs": []
    },
    {
      "cell_type": "markdown",
      "metadata": {
        "id": "tGd3mOUdTdI0"
      },
      "source": [
        "# Prepare the data"
      ]
    },
    {
      "cell_type": "code",
      "metadata": {
        "id": "azpMbo7vFGh4",
        "colab": {
          "base_uri": "https://localhost:8080/",
          "height": 306
        },
        "outputId": "0b43299a-1121-4035-b57a-9cae1c678266"
      },
      "source": [
        "#get dataset files from my google drive\n",
        "import gdown\n",
        "\n",
        "url1 = 'https://drive.google.com/uc?id=1TxHZphZxSQZUTzBiHvSSSlCbxasHFWAN'\n",
        "output1 = base_dir + 'quo_vadis_raw.txt'\n",
        "url2 = 'https://drive.google.com/uc?id=1udS7gl3PiqGTgNU8mLDuOVTB05HSKfIz'\n",
        "output2 = base_dir + 'janko_muzykant_clas.csv'\n",
        "\n",
        "\n",
        "gdown.download(url1, output1, quiet=False)\n",
        "gdown.download(url2, output2, quiet=False)"
      ],
      "execution_count": null,
      "outputs": [
        {
          "output_type": "stream",
          "text": [
            "Requirement already satisfied: gdown in /usr/local/lib/python3.6/dist-packages (3.6.4)\n",
            "Requirement already satisfied: tqdm in /usr/local/lib/python3.6/dist-packages (from gdown) (4.28.1)\n",
            "Requirement already satisfied: requests in /usr/local/lib/python3.6/dist-packages (from gdown) (2.21.0)\n",
            "Requirement already satisfied: six in /usr/local/lib/python3.6/dist-packages (from gdown) (1.12.0)\n",
            "Requirement already satisfied: urllib3<1.25,>=1.21.1 in /usr/local/lib/python3.6/dist-packages (from requests->gdown) (1.24.3)\n",
            "Requirement already satisfied: chardet<3.1.0,>=3.0.2 in /usr/local/lib/python3.6/dist-packages (from requests->gdown) (3.0.4)\n",
            "Requirement already satisfied: idna<2.9,>=2.5 in /usr/local/lib/python3.6/dist-packages (from requests->gdown) (2.8)\n",
            "Requirement already satisfied: certifi>=2017.4.17 in /usr/local/lib/python3.6/dist-packages (from requests->gdown) (2019.6.16)\n"
          ],
          "name": "stdout"
        },
        {
          "output_type": "stream",
          "text": [
            "Downloading...\n",
            "From: https://drive.google.com/uc?id=1TxHZphZxSQZUTzBiHvSSSlCbxasHFWAN\n",
            "To: /content/gdrive/My Drive/ULMFIT_PL_DEMO/quo_vadis_raw.txt\n",
            "100%|██████████| 1.19M/1.19M [00:00<00:00, 69.3MB/s]\n",
            "Downloading...\n",
            "From: https://drive.google.com/uc?id=1udS7gl3PiqGTgNU8mLDuOVTB05HSKfIz\n",
            "To: /content/gdrive/My Drive/ULMFIT_PL_DEMO/janko_muzykant_clas.csv\n",
            "100%|██████████| 17.1k/17.1k [00:00<00:00, 4.65MB/s]\n"
          ],
          "name": "stderr"
        },
        {
          "output_type": "execute_result",
          "data": {
            "text/plain": [
              "'/content/gdrive/My Drive/ULMFIT_PL_DEMO/janko_muzykant_clas.csv'"
            ]
          },
          "metadata": {
            "tags": []
          },
          "execution_count": 51
        }
      ]
    },
    {
      "cell_type": "code",
      "metadata": {
        "id": "0jlKOX1UzKUc",
        "colab": {
          "base_uri": "https://localhost:8080/",
          "height": 204
        },
        "outputId": "0cd5f199-febb-46ee-c7e6-e648350bfa81"
      },
      "source": [
        "#pre-processing languange model file (I'm sure this can be done more efficiently...)\n",
        "\n",
        "import csv\n",
        "import re\n",
        "import pandas as pd\n",
        "\n",
        "source_file = base_dir + 'quo_vadis_raw.txt'\n",
        "tmp_file = base_dir + 'QV_tmp.csv'\n",
        "target_file = base_dir + 'lm_corpus.csv'\n",
        "\n",
        "#pre-processing a csv corpus file, need to refactor later, but works for now\n",
        "\n",
        "string = ''\n",
        "\n",
        "with open(source_file) as file:\n",
        "  for line in file:\n",
        "    for l in re.split(r\"(?<!\\w\\.\\w.)(?<![A-Z][a-z]\\.)(?<=\\.|\\?)\\s\",line):\n",
        "      string += l\n",
        "      string += '\\n'\n",
        "\n",
        "f = open(tmp_file,'w')\n",
        "f.write(string)\n",
        "f.close()\n",
        "    \n",
        "df = pd.read_csv(tmp_file, delimiter=\"\\n\", header = None, names = ['text'])\n",
        "df.to_csv(target_file, index=False)\n",
        "df.head()"
      ],
      "execution_count": null,
      "outputs": [
        {
          "output_type": "execute_result",
          "data": {
            "text/html": [
              "<div>\n",
              "<style scoped>\n",
              "    .dataframe tbody tr th:only-of-type {\n",
              "        vertical-align: middle;\n",
              "    }\n",
              "\n",
              "    .dataframe tbody tr th {\n",
              "        vertical-align: top;\n",
              "    }\n",
              "\n",
              "    .dataframe thead th {\n",
              "        text-align: right;\n",
              "    }\n",
              "</style>\n",
              "<table border=\"1\" class=\"dataframe\">\n",
              "  <thead>\n",
              "    <tr style=\"text-align: right;\">\n",
              "      <th></th>\n",
              "      <th>text</th>\n",
              "    </tr>\n",
              "  </thead>\n",
              "  <tbody>\n",
              "    <tr>\n",
              "      <th>0</th>\n",
              "      <td>Henryk Sienkiewicz</td>\n",
              "    </tr>\n",
              "    <tr>\n",
              "      <th>1</th>\n",
              "      <td>Quo vadis</td>\n",
              "    </tr>\n",
              "    <tr>\n",
              "      <th>2</th>\n",
              "      <td>Rozdział pierwszy</td>\n",
              "    </tr>\n",
              "    <tr>\n",
              "      <th>3</th>\n",
              "      <td>Petroniusz obudził się zaledwie koło południa ...</td>\n",
              "    </tr>\n",
              "    <tr>\n",
              "      <th>4</th>\n",
              "      <td>Poprzedniego dnia był na uczcie u Nerona, któr...</td>\n",
              "    </tr>\n",
              "  </tbody>\n",
              "</table>\n",
              "</div>"
            ],
            "text/plain": [
              "                                                text\n",
              "0                                 Henryk Sienkiewicz\n",
              "1                                          Quo vadis\n",
              "2                                  Rozdział pierwszy\n",
              "3  Petroniusz obudził się zaledwie koło południa ...\n",
              "4  Poprzedniego dnia był na uczcie u Nerona, któr..."
            ]
          },
          "metadata": {
            "tags": []
          },
          "execution_count": 53
        }
      ]
    },
    {
      "cell_type": "code",
      "metadata": {
        "id": "VDsp4ezbY99Y",
        "colab": {
          "base_uri": "https://localhost:8080/",
          "height": 204
        },
        "outputId": "287dccc1-c6bb-4297-d16e-c8b8b3ba26ce"
      },
      "source": [
        "# now let's add sentences from the smaller data set to language model corpus\n",
        "df2 = pd.read_csv(base_dir + 'janko_muzykant_clas.csv')\n",
        "df2 = df2.drop(['label', 'is_valid'], axis=1)\n",
        "df = pd.concat([df, df2], ignore_index=True)\n",
        "df.tail()"
      ],
      "execution_count": null,
      "outputs": [
        {
          "output_type": "execute_result",
          "data": {
            "text/html": [
              "<div>\n",
              "<style scoped>\n",
              "    .dataframe tbody tr th:only-of-type {\n",
              "        vertical-align: middle;\n",
              "    }\n",
              "\n",
              "    .dataframe tbody tr th {\n",
              "        vertical-align: top;\n",
              "    }\n",
              "\n",
              "    .dataframe thead th {\n",
              "        text-align: right;\n",
              "    }\n",
              "</style>\n",
              "<table border=\"1\" class=\"dataframe\">\n",
              "  <thead>\n",
              "    <tr style=\"text-align: right;\">\n",
              "      <th></th>\n",
              "      <th>text</th>\n",
              "    </tr>\n",
              "  </thead>\n",
              "  <tbody>\n",
              "    <tr>\n",
              "      <th>10738</th>\n",
              "      <td>I co to za lud artystów.</td>\n",
              "    </tr>\n",
              "    <tr>\n",
              "      <th>10739</th>\n",
              "      <td>On est heureux de chercher lá-bas des</td>\n",
              "    </tr>\n",
              "    <tr>\n",
              "      <th>10740</th>\n",
              "      <td>talents et de les protéger...</td>\n",
              "    </tr>\n",
              "    <tr>\n",
              "      <th>10741</th>\n",
              "      <td>dodała panna.</td>\n",
              "    </tr>\n",
              "    <tr>\n",
              "      <th>10742</th>\n",
              "      <td>Nad Jankiem szumiały brzozy...</td>\n",
              "    </tr>\n",
              "  </tbody>\n",
              "</table>\n",
              "</div>"
            ],
            "text/plain": [
              "                                        text\n",
              "10738               I co to za lud artystów.\n",
              "10739  On est heureux de chercher lá-bas des\n",
              "10740          talents et de les protéger...\n",
              "10741                          dodała panna.\n",
              "10742         Nad Jankiem szumiały brzozy..."
            ]
          },
          "metadata": {
            "tags": []
          },
          "execution_count": 54
        }
      ]
    },
    {
      "cell_type": "code",
      "metadata": {
        "id": "E23FrUppda2a"
      },
      "source": [
        "#save the language model corpus file\n",
        "target_corpus = base_dir + 'joint_lm_corpus.csv'\n",
        "df.to_csv(target_corpus, index=False)"
      ],
      "execution_count": null,
      "outputs": []
    },
    {
      "cell_type": "code",
      "metadata": {
        "id": "U_TZ8ANcbZxW"
      },
      "source": [
        "#copy over to the server root to avoid breaking sentencepiece\n",
        "!bash -c 'cp /content/gdrive/My\\ Drive/ULMFIT_PL_DEMO/joint_lm_corpus.csv /root/fastai/texts/joint_lm_corpus.csv'\n",
        "!bash -c 'cp /content/gdrive/My\\ Drive/ULMFIT_PL_DEMO/janko_muzykant_clas.csv /root/fastai/texts/clas_corpus.csv'\n"
      ],
      "execution_count": null,
      "outputs": []
    },
    {
      "cell_type": "code",
      "metadata": {
        "id": "w-uiaUGZdr9z",
        "colab": {
          "base_uri": "https://localhost:8080/",
          "height": 204
        },
        "outputId": "cfec646e-3b6f-4f7f-e9bb-aea00d3a02d7"
      },
      "source": [
        "#quality check\n",
        "df = pd.read_csv('/root/fastai/texts/joint_lm_corpus.csv')\n",
        "df.head()"
      ],
      "execution_count": null,
      "outputs": [
        {
          "output_type": "execute_result",
          "data": {
            "text/html": [
              "<div>\n",
              "<style scoped>\n",
              "    .dataframe tbody tr th:only-of-type {\n",
              "        vertical-align: middle;\n",
              "    }\n",
              "\n",
              "    .dataframe tbody tr th {\n",
              "        vertical-align: top;\n",
              "    }\n",
              "\n",
              "    .dataframe thead th {\n",
              "        text-align: right;\n",
              "    }\n",
              "</style>\n",
              "<table border=\"1\" class=\"dataframe\">\n",
              "  <thead>\n",
              "    <tr style=\"text-align: right;\">\n",
              "      <th></th>\n",
              "      <th>text</th>\n",
              "    </tr>\n",
              "  </thead>\n",
              "  <tbody>\n",
              "    <tr>\n",
              "      <th>0</th>\n",
              "      <td>Henryk Sienkiewicz</td>\n",
              "    </tr>\n",
              "    <tr>\n",
              "      <th>1</th>\n",
              "      <td>Quo vadis</td>\n",
              "    </tr>\n",
              "    <tr>\n",
              "      <th>2</th>\n",
              "      <td>Rozdział pierwszy</td>\n",
              "    </tr>\n",
              "    <tr>\n",
              "      <th>3</th>\n",
              "      <td>Petroniusz obudził się zaledwie koło południa ...</td>\n",
              "    </tr>\n",
              "    <tr>\n",
              "      <th>4</th>\n",
              "      <td>Poprzedniego dnia był na uczcie u Nerona, któr...</td>\n",
              "    </tr>\n",
              "  </tbody>\n",
              "</table>\n",
              "</div>"
            ],
            "text/plain": [
              "                                                text\n",
              "0                                 Henryk Sienkiewicz\n",
              "1                                          Quo vadis\n",
              "2                                  Rozdział pierwszy\n",
              "3  Petroniusz obudził się zaledwie koło południa ...\n",
              "4  Poprzedniego dnia był na uczcie u Nerona, któr..."
            ]
          },
          "metadata": {
            "tags": []
          },
          "execution_count": 12
        }
      ]
    },
    {
      "cell_type": "markdown",
      "metadata": {
        "id": "RrHd_AyzTpw3"
      },
      "source": [
        "# Training the Language Model"
      ]
    },
    {
      "cell_type": "code",
      "metadata": {
        "id": "7UVuthMcCo3j",
        "colab": {
          "base_uri": "https://localhost:8080/",
          "height": 122
        },
        "outputId": "7f9fc73f-1dd2-40b0-cc94-6564b649490a"
      },
      "source": [
        "#we need to install sentencepiece\n",
        "!pip install sentencepiece"
      ],
      "execution_count": null,
      "outputs": [
        {
          "output_type": "stream",
          "text": [
            "Collecting sentencepiece\n",
            "\u001b[?25l  Downloading https://files.pythonhosted.org/packages/00/95/7f357995d5eb1131aa2092096dca14a6fc1b1d2860bd99c22a612e1d1019/sentencepiece-0.1.82-cp36-cp36m-manylinux1_x86_64.whl (1.0MB)\n",
            "\u001b[K     |████████████████████████████████| 1.0MB 1.4MB/s \n",
            "\u001b[?25hInstalling collected packages: sentencepiece\n",
            "Successfully installed sentencepiece-0.1.82\n"
          ],
          "name": "stdout"
        }
      ]
    },
    {
      "cell_type": "code",
      "metadata": {
        "id": "WIP0Ql8eC_Od"
      },
      "source": [
        "path = Path(\"/root/fastai/texts/\")\n",
        "\n",
        "bs = 48\n",
        "processor = SPProcessor(lang='pl')\n",
        "# processor = SPProcessor()\n",
        "\n",
        "data_lm = (TextList.from_csv(path, 'joint_lm_corpus.csv', processor=processor)\n",
        "            .split_by_rand_pct(0.1)\n",
        "            .label_for_lm()           \n",
        "            .databunch(bs=bs)\n",
        "          )\n",
        "data_lm.save('data_lm.pkl')"
      ],
      "execution_count": null,
      "outputs": []
    },
    {
      "cell_type": "code",
      "metadata": {
        "id": "ZCg679xdXi9Q"
      },
      "source": [
        "data_lm = load_data(path, 'data_lm.pkl', bs=bs)"
      ],
      "execution_count": null,
      "outputs": []
    },
    {
      "cell_type": "code",
      "metadata": {
        "id": "qHiqQHEWYafc"
      },
      "source": [
        "learn = language_model_learner(data_lm, AWD_LSTM, pretrained=False, drop_mult=0.3)"
      ],
      "execution_count": null,
      "outputs": []
    },
    {
      "cell_type": "code",
      "metadata": {
        "id": "EcoOT4bAYgAi",
        "colab": {
          "base_uri": "https://localhost:8080/",
          "height": 300
        },
        "outputId": "85df41f2-32ba-4592-9ad8-0690f63749a5"
      },
      "source": [
        "learn.lr_find()\n",
        "learn.recorder.plot(skip_end=15)"
      ],
      "execution_count": null,
      "outputs": [
        {
          "output_type": "display_data",
          "data": {
            "text/html": [
              ""
            ],
            "text/plain": [
              "<IPython.core.display.HTML object>"
            ]
          },
          "metadata": {
            "tags": []
          }
        },
        {
          "output_type": "stream",
          "text": [
            "LR Finder is complete, type {learner_name}.recorder.plot() to see the graph.\n"
          ],
          "name": "stdout"
        },
        {
          "output_type": "display_data",
          "data": {
            "image/png": "[encoded data removed]",
            "text/plain": [
              "<Figure size 432x288 with 1 Axes>"
            ]
          },
          "metadata": {
            "tags": []
          }
        }
      ]
    },
    {
      "cell_type": "code",
      "metadata": {
        "id": "zZ40gs34StqD"
      },
      "source": [
        "# Not sure - if I have learner with pretrained=False, do I need to unfreeze explicitly?\n",
        "# Hope to find out in Fast.ai Part 2! Right now I'm mostly copy-pasting code from the Part 1 IMDB notebook..."
      ],
      "execution_count": null,
      "outputs": []
    },
    {
      "cell_type": "code",
      "metadata": {
        "id": "JKKBZumEZJfp",
        "colab": {
          "base_uri": "https://localhost:8080/",
          "height": 80
        },
        "outputId": "2a3c814a-7b23-4813-e5c8-5d4311288a69"
      },
      "source": [
        "learn.fit_one_cycle(1, 1e-2, moms=(0.8,0.7))"
      ],
      "execution_count": null,
      "outputs": [
        {
          "output_type": "display_data",
          "data": {
            "text/html": [
              "<table border=\"1\" class=\"dataframe\">\n",
              "  <thead>\n",
              "    <tr style=\"text-align: left;\">\n",
              "      <th>epoch</th>\n",
              "      <th>train_loss</th>\n",
              "      <th>valid_loss</th>\n",
              "      <th>accuracy</th>\n",
              "      <th>time</th>\n",
              "    </tr>\n",
              "  </thead>\n",
              "  <tbody>\n",
              "    <tr>\n",
              "      <td>0</td>\n",
              "      <td>6.865044</td>\n",
              "      <td>6.555590</td>\n",
              "      <td>0.061343</td>\n",
              "      <td>00:15</td>\n",
              "    </tr>\n",
              "  </tbody>\n",
              "</table>"
            ],
            "text/plain": [
              "<IPython.core.display.HTML object>"
            ]
          },
          "metadata": {
            "tags": []
          }
        }
      ]
    },
    {
      "cell_type": "code",
      "metadata": {
        "id": "fgpIEOdjZYSv"
      },
      "source": [
        "learn.save(base_dir + 'fit_head')"
      ],
      "execution_count": null,
      "outputs": []
    },
    {
      "cell_type": "code",
      "metadata": {
        "id": "TlBrC3TmZbzS"
      },
      "source": [
        "learn.load(base_dir + 'fit_head');"
      ],
      "execution_count": null,
      "outputs": []
    },
    {
      "cell_type": "code",
      "metadata": {
        "id": "EkkOak4bZeHf"
      },
      "source": [
        "learn.unfreeze()"
      ],
      "execution_count": null,
      "outputs": []
    },
    {
      "cell_type": "code",
      "metadata": {
        "id": "4HP12KfdZiKD",
        "colab": {
          "base_uri": "https://localhost:8080/",
          "height": 669
        },
        "outputId": "7ec2a040-7751-4aed-b41b-676309ae2693"
      },
      "source": [
        "learn.fit_one_cycle(20, 1e-2, moms=(0.8,0.7))"
      ],
      "execution_count": null,
      "outputs": [
        {
          "output_type": "display_data",
          "data": {
            "text/html": [
              "<table border=\"1\" class=\"dataframe\">\n",
              "  <thead>\n",
              "    <tr style=\"text-align: left;\">\n",
              "      <th>epoch</th>\n",
              "      <th>train_loss</th>\n",
              "      <th>valid_loss</th>\n",
              "      <th>accuracy</th>\n",
              "      <th>time</th>\n",
              "    </tr>\n",
              "  </thead>\n",
              "  <tbody>\n",
              "    <tr>\n",
              "      <td>0</td>\n",
              "      <td>6.451967</td>\n",
              "      <td>6.220999</td>\n",
              "      <td>0.131845</td>\n",
              "      <td>00:15</td>\n",
              "    </tr>\n",
              "    <tr>\n",
              "      <td>1</td>\n",
              "      <td>6.087717</td>\n",
              "      <td>5.872290</td>\n",
              "      <td>0.150694</td>\n",
              "      <td>00:16</td>\n",
              "    </tr>\n",
              "    <tr>\n",
              "      <td>2</td>\n",
              "      <td>5.762241</td>\n",
              "      <td>5.489414</td>\n",
              "      <td>0.161541</td>\n",
              "      <td>00:16</td>\n",
              "    </tr>\n",
              "    <tr>\n",
              "      <td>3</td>\n",
              "      <td>5.491202</td>\n",
              "      <td>5.326522</td>\n",
              "      <td>0.169213</td>\n",
              "      <td>00:17</td>\n",
              "    </tr>\n",
              "    <tr>\n",
              "      <td>4</td>\n",
              "      <td>5.332908</td>\n",
              "      <td>5.571834</td>\n",
              "      <td>0.151455</td>\n",
              "      <td>00:16</td>\n",
              "    </tr>\n",
              "    <tr>\n",
              "      <td>5</td>\n",
              "      <td>5.169986</td>\n",
              "      <td>5.177565</td>\n",
              "      <td>0.179431</td>\n",
              "      <td>00:16</td>\n",
              "    </tr>\n",
              "    <tr>\n",
              "      <td>6</td>\n",
              "      <td>5.028393</td>\n",
              "      <td>5.145644</td>\n",
              "      <td>0.181746</td>\n",
              "      <td>00:16</td>\n",
              "    </tr>\n",
              "    <tr>\n",
              "      <td>7</td>\n",
              "      <td>4.899536</td>\n",
              "      <td>5.064345</td>\n",
              "      <td>0.189021</td>\n",
              "      <td>00:16</td>\n",
              "    </tr>\n",
              "    <tr>\n",
              "      <td>8</td>\n",
              "      <td>4.759845</td>\n",
              "      <td>5.019300</td>\n",
              "      <td>0.191534</td>\n",
              "      <td>00:16</td>\n",
              "    </tr>\n",
              "    <tr>\n",
              "      <td>9</td>\n",
              "      <td>4.636858</td>\n",
              "      <td>5.001264</td>\n",
              "      <td>0.195172</td>\n",
              "      <td>00:16</td>\n",
              "    </tr>\n",
              "    <tr>\n",
              "      <td>10</td>\n",
              "      <td>4.515409</td>\n",
              "      <td>4.978063</td>\n",
              "      <td>0.199537</td>\n",
              "      <td>00:16</td>\n",
              "    </tr>\n",
              "    <tr>\n",
              "      <td>11</td>\n",
              "      <td>4.396292</td>\n",
              "      <td>4.973052</td>\n",
              "      <td>0.202778</td>\n",
              "      <td>00:16</td>\n",
              "    </tr>\n",
              "    <tr>\n",
              "      <td>12</td>\n",
              "      <td>4.281884</td>\n",
              "      <td>4.964274</td>\n",
              "      <td>0.203274</td>\n",
              "      <td>00:16</td>\n",
              "    </tr>\n",
              "    <tr>\n",
              "      <td>13</td>\n",
              "      <td>4.167274</td>\n",
              "      <td>4.968193</td>\n",
              "      <td>0.206118</td>\n",
              "      <td>00:16</td>\n",
              "    </tr>\n",
              "    <tr>\n",
              "      <td>14</td>\n",
              "      <td>4.066041</td>\n",
              "      <td>4.976519</td>\n",
              "      <td>0.205721</td>\n",
              "      <td>00:16</td>\n",
              "    </tr>\n",
              "    <tr>\n",
              "      <td>15</td>\n",
              "      <td>3.969005</td>\n",
              "      <td>4.977951</td>\n",
              "      <td>0.209061</td>\n",
              "      <td>00:16</td>\n",
              "    </tr>\n",
              "    <tr>\n",
              "      <td>16</td>\n",
              "      <td>3.890996</td>\n",
              "      <td>4.982129</td>\n",
              "      <td>0.208267</td>\n",
              "      <td>00:16</td>\n",
              "    </tr>\n",
              "    <tr>\n",
              "      <td>17</td>\n",
              "      <td>3.839335</td>\n",
              "      <td>4.982967</td>\n",
              "      <td>0.208995</td>\n",
              "      <td>00:16</td>\n",
              "    </tr>\n",
              "    <tr>\n",
              "      <td>18</td>\n",
              "      <td>3.784169</td>\n",
              "      <td>4.990112</td>\n",
              "      <td>0.209491</td>\n",
              "      <td>00:16</td>\n",
              "    </tr>\n",
              "    <tr>\n",
              "      <td>19</td>\n",
              "      <td>3.768580</td>\n",
              "      <td>4.987417</td>\n",
              "      <td>0.208730</td>\n",
              "      <td>00:16</td>\n",
              "    </tr>\n",
              "  </tbody>\n",
              "</table>"
            ],
            "text/plain": [
              "<IPython.core.display.HTML object>"
            ]
          },
          "metadata": {
            "tags": []
          }
        }
      ]
    },
    {
      "cell_type": "code",
      "metadata": {
        "id": "yU3BQzqfZtA0"
      },
      "source": [
        "learn.save(base_dir + 'qv_lm_model')"
      ],
      "execution_count": null,
      "outputs": []
    },
    {
      "cell_type": "code",
      "metadata": {
        "id": "AMupGVP_Z0t_"
      },
      "source": [
        "learn.load(base_dir + 'qv_lm_model');"
      ],
      "execution_count": null,
      "outputs": []
    },
    {
      "cell_type": "code",
      "metadata": {
        "id": "k2ad4Tb1Z23M"
      },
      "source": [
        "#quality check - does the model predict sensible tokens?\n",
        "TEXT = \"tak to było\"\n",
        "N_WORDS = 40\n",
        "N_SENTENCES = 2"
      ],
      "execution_count": null,
      "outputs": []
    },
    {
      "cell_type": "code",
      "metadata": {
        "id": "WC9kLW3PZ9kG",
        "colab": {
          "base_uri": "https://localhost:8080/",
          "height": 71
        },
        "outputId": "1d2ad646-87ed-4640-e4bf-efc37f7a2a66"
      },
      "source": [
        "print(\"\\n\".join(learn.predict(TEXT, N_WORDS, temperature=0.75) for _ in range(N_SENTENCES)))"
      ],
      "execution_count": null,
      "outputs": [
        {
          "output_type": "stream",
          "text": [
            "tak to było ▁dobrze , ▁że ▁to ▁jest ▁odpowiedzi , ▁i ▁dziś ▁jeszcze ▁pozostanie ▁do ▁xxmaj ▁ligii , ▁a ▁przynajmniej ▁mnie ▁opuścić . ▁xxbos ▁xxmaj ▁po ▁chwili ▁jednak ▁cezar , ▁na ▁synu ▁xxmaj ▁winicjusza ▁i ▁augustianie , ▁xxmaj ▁winicjusz ▁zerwał ▁się , ▁rzekł\n",
            "tak to było ! ▁xxmaj ▁wiem , ▁że ▁xxmaj ▁chrystus ▁wróci ▁kres ch ▁słuchali ▁na ▁miejscu , ▁dopóki ▁oni , ▁jeśli ▁nie ▁cofa ▁się ▁jej , ▁a ▁jednak ▁i ▁xxmaj ▁ligią , ▁ale ▁tak ▁mi ▁jej , ▁że ▁na ▁przykład ▁xxmaj ▁chrystusa ,\n"
          ],
          "name": "stdout"
        }
      ]
    },
    {
      "cell_type": "code",
      "metadata": {
        "id": "XXIxTvB0aBVR"
      },
      "source": [
        "learn.save_encoder(base_dir + 'fine_tuned_enc')"
      ],
      "execution_count": null,
      "outputs": []
    },
    {
      "cell_type": "markdown",
      "metadata": {
        "id": "CRg8rMezT8Ih"
      },
      "source": [
        "# Training the Classification Model"
      ]
    },
    {
      "cell_type": "markdown",
      "metadata": {
        "id": "kQ8dcQCdWwbn"
      },
      "source": [
        "Now let's switch over to using the sentence encoder to train a classification model based on the smaller labelled dataset. \n",
        "\n",
        "\n",
        "\n"
      ]
    },
    {
      "cell_type": "code",
      "metadata": {
        "id": "O6zQGd85MzXk",
        "colab": {
          "base_uri": "https://localhost:8080/",
          "height": 204
        },
        "outputId": "3494e83f-1413-4fa8-9cf7-12a77b5c5ba5"
      },
      "source": [
        "# Let's start by looking at our classification dataset\n",
        "df = pd.read_csv(train_dir + 'clas_corpus.csv')\n",
        "df.head()"
      ],
      "execution_count": null,
      "outputs": [
        {
          "output_type": "execute_result",
          "data": {
            "text/html": [
              "<div>\n",
              "<style scoped>\n",
              "    .dataframe tbody tr th:only-of-type {\n",
              "        vertical-align: middle;\n",
              "    }\n",
              "\n",
              "    .dataframe tbody tr th {\n",
              "        vertical-align: top;\n",
              "    }\n",
              "\n",
              "    .dataframe thead th {\n",
              "        text-align: right;\n",
              "    }\n",
              "</style>\n",
              "<table border=\"1\" class=\"dataframe\">\n",
              "  <thead>\n",
              "    <tr style=\"text-align: right;\">\n",
              "      <th></th>\n",
              "      <th>text</th>\n",
              "      <th>label</th>\n",
              "      <th>is_valid</th>\n",
              "    </tr>\n",
              "  </thead>\n",
              "  <tbody>\n",
              "    <tr>\n",
              "      <th>0</th>\n",
              "      <td>JANKO MUZYKANT</td>\n",
              "      <td>narrator</td>\n",
              "      <td>False</td>\n",
              "    </tr>\n",
              "    <tr>\n",
              "      <th>1</th>\n",
              "      <td>Przyszło to na świat wątłe, słabe.</td>\n",
              "      <td>narrator</td>\n",
              "      <td>False</td>\n",
              "    </tr>\n",
              "    <tr>\n",
              "      <th>2</th>\n",
              "      <td>Kumy, co się były zebrały przy tapczanie położ...</td>\n",
              "      <td>narrator</td>\n",
              "      <td>False</td>\n",
              "    </tr>\n",
              "    <tr>\n",
              "      <th>3</th>\n",
              "      <td>Kowalka Szymonowa, która była najmądrzejsza, p...</td>\n",
              "      <td>narrator</td>\n",
              "      <td>False</td>\n",
              "    </tr>\n",
              "    <tr>\n",
              "      <th>4</th>\n",
              "      <td>Dajta powiada to zapalę nad wami gromnicę, już...</td>\n",
              "      <td>dialog</td>\n",
              "      <td>False</td>\n",
              "    </tr>\n",
              "  </tbody>\n",
              "</table>\n",
              "</div>"
            ],
            "text/plain": [
              "                                                text     label  is_valid\n",
              "0                                     JANKO MUZYKANT  narrator     False\n",
              "1                 Przyszło to na świat wątłe, słabe.  narrator     False\n",
              "2  Kumy, co się były zebrały przy tapczanie położ...  narrator     False\n",
              "3  Kowalka Szymonowa, która była najmądrzejsza, p...  narrator     False\n",
              "4  Dajta powiada to zapalę nad wami gromnicę, już...    dialog     False"
            ]
          },
          "metadata": {
            "tags": []
          },
          "execution_count": 29
        }
      ]
    },
    {
      "cell_type": "code",
      "metadata": {
        "id": "wvsPQX_jXIVA"
      },
      "source": [
        "bs = 16\n",
        "\n",
        "data_clas = (TextList.from_df(df, processor=processor, vocab=data_lm.vocab)\n",
        "             .split_from_df()\n",
        "             .label_from_df(cols=1, classes=['narrator', 'dialog'])\n",
        "             .databunch(bs=bs))\n",
        "\n",
        "data_clas.save(base_dir + 'data_clas.pkl')\n"
      ],
      "execution_count": null,
      "outputs": []
    },
    {
      "cell_type": "code",
      "metadata": {
        "id": "HB66WgpqhU5G",
        "colab": {
          "base_uri": "https://localhost:8080/",
          "height": 289
        },
        "outputId": "255751f5-8ab9-4aea-a773-0f1a89693463"
      },
      "source": [
        "data_clas.show_batch()"
      ],
      "execution_count": null,
      "outputs": [
        {
          "output_type": "display_data",
          "data": {
            "text/html": [
              "<table border=\"1\" class=\"dataframe\">\n",
              "  <thead>\n",
              "    <tr style=\"text-align: right;\">\n",
              "      <th>text</th>\n",
              "      <th>target</th>\n",
              "    </tr>\n",
              "  </thead>\n",
              "  <tbody>\n",
              "    <tr>\n",
              "      <td>▁xxbos ▁xxmaj ▁ludzie ▁tańc owali ▁ob er ta s a , ▁czasem ▁jaki ▁par ob ek ▁po k rzy ki wa ł : ▁\" u - h a !\" ▁xxmaj ▁słychać ▁było ▁tu panie ▁ bu tów , ▁to ▁znów ▁głosy ▁dziew czy n : ▁\" czegóż ? \" ▁xxmaj ▁skrzypki ▁śpiewał y ▁cicho : ▁\" będzie m ▁jedli , ▁będzie m ▁pili , ▁będzie wa ▁się ▁weselili \" ,</td>\n",
              "      <td>narrator</td>\n",
              "    </tr>\n",
              "    <tr>\n",
              "      <td>▁xxbos ▁w ▁zimie ▁ siadywał ▁za ▁pie c em ▁i ▁p opłakiwał ▁cicho ▁z ▁zimn a , ▁a ▁czasem ▁i ▁z ▁głodu , ▁gdy ▁matul a ▁nie ▁mieli ▁co ▁w łożyć ▁ani ▁do ▁pie ca , ▁ani ▁do ▁garn ka ; ▁lat em ▁chodził ▁w ▁koszul i nie ▁prze p a s a nej ▁kraj ką ▁i ▁w ▁słom i a nym ▁\" ka p a lus ie \" ,</td>\n",
              "      <td>narrator</td>\n",
              "    </tr>\n",
              "    <tr>\n",
              "      <td>▁xxbos ▁xxmaj ▁nocami , ▁gdy ▁ ż a by ▁zaczyna ły ▁ rze ch o tać , ▁ der ka cze ▁na ▁łąk ach ▁ derko tać , ▁ b ą ki ▁po ▁ro sie ▁ bu r czyć ; ▁gdy ▁koguty ▁ pi ały ▁po ▁za p ło ci ach , ▁to ▁on ▁spać ▁nie ▁mógł , ▁tylko ▁słuchał ▁i ▁xxmaj ▁bóg ▁go ▁jeden ▁wie , ▁jakie ▁on ▁i</td>\n",
              "      <td>narrator</td>\n",
              "    </tr>\n",
              "    <tr>\n",
              "      <td>▁xxbos ▁xxmaj ▁ale ▁dusza ▁chrześcijańsk a ▁nie ▁miała ▁wcale ▁ochoty ▁iść , ▁skąd ▁przyszła , ▁i ▁o p u sze zać ▁chuderlaw ego ▁ciała , ▁owszem , ▁poczęła ▁wierz g ać ▁nogami ▁tego ▁ciała , ▁jako ▁mogła , ▁i ▁płakać , ▁chociaż ▁tak ▁słab o ▁i ▁żałośnie , ▁że ▁jak ▁mówił y ▁ku my : ▁\" myślał by ▁kto , ▁ko ci ę ▁nie ▁ko ci ę ▁albo ▁co !\"</td>\n",
              "      <td>narrator</td>\n",
              "    </tr>\n",
              "    <tr>\n",
              "      <td>▁xxbos ▁w ▁polu ▁grał a ▁mu ▁byli ca , ▁w ▁s a d ku ▁pod ▁ ch ał u p ą ▁ ć wi rkot ały ▁w rób le , ▁aż ▁się ▁w i śnie ▁trzęsły ! ▁xxmaj ▁wieczorami ▁ słuchiwał ▁wszystkich ▁głosów , ▁jakie ▁są ▁na ▁w si , ▁i ▁pewno ▁myślał ▁sobie , ▁że ▁cał a ▁w ieś ▁gra .</td>\n",
              "      <td>narrator</td>\n",
              "    </tr>\n",
              "  </tbody>\n",
              "</table>"
            ],
            "text/plain": [
              "<IPython.core.display.HTML object>"
            ]
          },
          "metadata": {
            "tags": []
          }
        }
      ]
    },
    {
      "cell_type": "code",
      "metadata": {
        "id": "SmkaynjliWsx"
      },
      "source": [
        "learn = text_classifier_learner(data_clas, AWD_LSTM, drop_mult=0.5)\n",
        "learn.load_encoder(base_dir + 'fine_tuned_enc');"
      ],
      "execution_count": null,
      "outputs": []
    },
    {
      "cell_type": "code",
      "metadata": {
        "id": "MgnO3GiEijEL",
        "colab": {
          "base_uri": "https://localhost:8080/",
          "height": 300
        },
        "outputId": "99b1df69-0070-44d1-90d1-51be1e31e3b8"
      },
      "source": [
        "learn.lr_find()\n",
        "learn.recorder.plot()"
      ],
      "execution_count": null,
      "outputs": [
        {
          "output_type": "display_data",
          "data": {
            "text/html": [
              ""
            ],
            "text/plain": [
              "<IPython.core.display.HTML object>"
            ]
          },
          "metadata": {
            "tags": []
          }
        },
        {
          "output_type": "stream",
          "text": [
            "LR Finder is complete, type {learner_name}.recorder.plot() to see the graph.\n"
          ],
          "name": "stdout"
        },
        {
          "output_type": "display_data",
          "data": {
            "image/png": "[encoded data removed]",
            "text/plain": [
              "<Figure size 432x288 with 1 Axes>"
            ]
          },
          "metadata": {
            "tags": []
          }
        }
      ]
    },
    {
      "cell_type": "code",
      "metadata": {
        "id": "LnmuuhM5iv7t",
        "colab": {
          "base_uri": "https://localhost:8080/",
          "height": 80
        },
        "outputId": "8de71c03-a72c-47fd-91fc-c8f1ece236ad"
      },
      "source": [
        "learn.fit_one_cycle(1, 5e-2, moms=(0.8,0.7))"
      ],
      "execution_count": null,
      "outputs": [
        {
          "output_type": "display_data",
          "data": {
            "text/html": [
              "<table border=\"1\" class=\"dataframe\">\n",
              "  <thead>\n",
              "    <tr style=\"text-align: left;\">\n",
              "      <th>epoch</th>\n",
              "      <th>train_loss</th>\n",
              "      <th>valid_loss</th>\n",
              "      <th>accuracy</th>\n",
              "      <th>time</th>\n",
              "    </tr>\n",
              "  </thead>\n",
              "  <tbody>\n",
              "    <tr>\n",
              "      <td>0</td>\n",
              "      <td>0.717651</td>\n",
              "      <td>0.711764</td>\n",
              "      <td>0.382353</td>\n",
              "      <td>00:00</td>\n",
              "    </tr>\n",
              "  </tbody>\n",
              "</table>"
            ],
            "text/plain": [
              "<IPython.core.display.HTML object>"
            ]
          },
          "metadata": {
            "tags": []
          }
        }
      ]
    },
    {
      "cell_type": "code",
      "metadata": {
        "id": "jO2CNzvwi4WY"
      },
      "source": [
        "learn.save(base_dir + 'first')"
      ],
      "execution_count": null,
      "outputs": []
    },
    {
      "cell_type": "code",
      "metadata": {
        "id": "U9E2f0umi8p6"
      },
      "source": [
        "learn.load(base_dir + 'first');"
      ],
      "execution_count": null,
      "outputs": []
    },
    {
      "cell_type": "code",
      "metadata": {
        "id": "B98tlzN5i_CQ",
        "colab": {
          "base_uri": "https://localhost:8080/",
          "height": 80
        },
        "outputId": "dc1a18fe-0801-4cef-edf0-c8da6c53a827"
      },
      "source": [
        "learn.freeze_to(-2)\n",
        "learn.fit_one_cycle(1, slice(5e-2/(2.6**4),5e-2), moms=(0.8,0.7))"
      ],
      "execution_count": null,
      "outputs": [
        {
          "output_type": "display_data",
          "data": {
            "text/html": [
              "<table border=\"1\" class=\"dataframe\">\n",
              "  <thead>\n",
              "    <tr style=\"text-align: left;\">\n",
              "      <th>epoch</th>\n",
              "      <th>train_loss</th>\n",
              "      <th>valid_loss</th>\n",
              "      <th>accuracy</th>\n",
              "      <th>time</th>\n",
              "    </tr>\n",
              "  </thead>\n",
              "  <tbody>\n",
              "    <tr>\n",
              "      <td>0</td>\n",
              "      <td>0.584334</td>\n",
              "      <td>0.590743</td>\n",
              "      <td>0.784314</td>\n",
              "      <td>00:00</td>\n",
              "    </tr>\n",
              "  </tbody>\n",
              "</table>"
            ],
            "text/plain": [
              "<IPython.core.display.HTML object>"
            ]
          },
          "metadata": {
            "tags": []
          }
        }
      ]
    },
    {
      "cell_type": "code",
      "metadata": {
        "id": "dCCW-UHSjDZX"
      },
      "source": [
        "learn.save(base_dir + 'second')"
      ],
      "execution_count": null,
      "outputs": []
    },
    {
      "cell_type": "code",
      "metadata": {
        "id": "TBCG4bTTjIvp"
      },
      "source": [
        "learn.load(base_dir + 'second');"
      ],
      "execution_count": null,
      "outputs": []
    },
    {
      "cell_type": "code",
      "metadata": {
        "id": "1PqVq8iHjVGc",
        "colab": {
          "base_uri": "https://localhost:8080/",
          "height": 979
        },
        "outputId": "bef62f28-1fc0-4458-aba9-fc502bb3bdcd"
      },
      "source": [
        "learn.unfreeze()\n",
        "learn.fit_one_cycle(30, slice(5e-3/(2.6**4),5e-3), moms=(0.8,0.7))"
      ],
      "execution_count": null,
      "outputs": [
        {
          "output_type": "display_data",
          "data": {
            "text/html": [
              "<table border=\"1\" class=\"dataframe\">\n",
              "  <thead>\n",
              "    <tr style=\"text-align: left;\">\n",
              "      <th>epoch</th>\n",
              "      <th>train_loss</th>\n",
              "      <th>valid_loss</th>\n",
              "      <th>accuracy</th>\n",
              "      <th>time</th>\n",
              "    </tr>\n",
              "  </thead>\n",
              "  <tbody>\n",
              "    <tr>\n",
              "      <td>0</td>\n",
              "      <td>0.258735</td>\n",
              "      <td>0.513593</td>\n",
              "      <td>0.784314</td>\n",
              "      <td>00:00</td>\n",
              "    </tr>\n",
              "    <tr>\n",
              "      <td>1</td>\n",
              "      <td>0.290390</td>\n",
              "      <td>0.493026</td>\n",
              "      <td>0.784314</td>\n",
              "      <td>00:00</td>\n",
              "    </tr>\n",
              "    <tr>\n",
              "      <td>2</td>\n",
              "      <td>0.302384</td>\n",
              "      <td>0.479022</td>\n",
              "      <td>0.784314</td>\n",
              "      <td>00:00</td>\n",
              "    </tr>\n",
              "    <tr>\n",
              "      <td>3</td>\n",
              "      <td>0.284509</td>\n",
              "      <td>0.471146</td>\n",
              "      <td>0.784314</td>\n",
              "      <td>00:00</td>\n",
              "    </tr>\n",
              "    <tr>\n",
              "      <td>4</td>\n",
              "      <td>0.282217</td>\n",
              "      <td>0.456481</td>\n",
              "      <td>0.784314</td>\n",
              "      <td>00:00</td>\n",
              "    </tr>\n",
              "    <tr>\n",
              "      <td>5</td>\n",
              "      <td>0.262229</td>\n",
              "      <td>0.450101</td>\n",
              "      <td>0.784314</td>\n",
              "      <td>00:00</td>\n",
              "    </tr>\n",
              "    <tr>\n",
              "      <td>6</td>\n",
              "      <td>0.249938</td>\n",
              "      <td>0.445601</td>\n",
              "      <td>0.784314</td>\n",
              "      <td>00:00</td>\n",
              "    </tr>\n",
              "    <tr>\n",
              "      <td>7</td>\n",
              "      <td>0.229589</td>\n",
              "      <td>0.454182</td>\n",
              "      <td>0.784314</td>\n",
              "      <td>00:00</td>\n",
              "    </tr>\n",
              "    <tr>\n",
              "      <td>8</td>\n",
              "      <td>0.213622</td>\n",
              "      <td>0.483014</td>\n",
              "      <td>0.784314</td>\n",
              "      <td>00:00</td>\n",
              "    </tr>\n",
              "    <tr>\n",
              "      <td>9</td>\n",
              "      <td>0.193578</td>\n",
              "      <td>0.471910</td>\n",
              "      <td>0.794118</td>\n",
              "      <td>00:00</td>\n",
              "    </tr>\n",
              "    <tr>\n",
              "      <td>10</td>\n",
              "      <td>0.177842</td>\n",
              "      <td>0.464443</td>\n",
              "      <td>0.803922</td>\n",
              "      <td>00:00</td>\n",
              "    </tr>\n",
              "    <tr>\n",
              "      <td>11</td>\n",
              "      <td>0.168056</td>\n",
              "      <td>0.454823</td>\n",
              "      <td>0.813725</td>\n",
              "      <td>00:00</td>\n",
              "    </tr>\n",
              "    <tr>\n",
              "      <td>12</td>\n",
              "      <td>0.154512</td>\n",
              "      <td>0.465118</td>\n",
              "      <td>0.813725</td>\n",
              "      <td>00:00</td>\n",
              "    </tr>\n",
              "    <tr>\n",
              "      <td>13</td>\n",
              "      <td>0.143486</td>\n",
              "      <td>0.475844</td>\n",
              "      <td>0.813725</td>\n",
              "      <td>00:00</td>\n",
              "    </tr>\n",
              "    <tr>\n",
              "      <td>14</td>\n",
              "      <td>0.136332</td>\n",
              "      <td>0.491104</td>\n",
              "      <td>0.803922</td>\n",
              "      <td>00:00</td>\n",
              "    </tr>\n",
              "    <tr>\n",
              "      <td>15</td>\n",
              "      <td>0.124930</td>\n",
              "      <td>0.516153</td>\n",
              "      <td>0.803922</td>\n",
              "      <td>00:00</td>\n",
              "    </tr>\n",
              "    <tr>\n",
              "      <td>16</td>\n",
              "      <td>0.115389</td>\n",
              "      <td>0.528746</td>\n",
              "      <td>0.803922</td>\n",
              "      <td>00:00</td>\n",
              "    </tr>\n",
              "    <tr>\n",
              "      <td>17</td>\n",
              "      <td>0.106244</td>\n",
              "      <td>0.541529</td>\n",
              "      <td>0.803922</td>\n",
              "      <td>00:00</td>\n",
              "    </tr>\n",
              "    <tr>\n",
              "      <td>18</td>\n",
              "      <td>0.101826</td>\n",
              "      <td>0.524690</td>\n",
              "      <td>0.813725</td>\n",
              "      <td>00:00</td>\n",
              "    </tr>\n",
              "    <tr>\n",
              "      <td>19</td>\n",
              "      <td>0.095378</td>\n",
              "      <td>0.524569</td>\n",
              "      <td>0.823529</td>\n",
              "      <td>00:00</td>\n",
              "    </tr>\n",
              "    <tr>\n",
              "      <td>20</td>\n",
              "      <td>0.089982</td>\n",
              "      <td>0.528999</td>\n",
              "      <td>0.823529</td>\n",
              "      <td>00:00</td>\n",
              "    </tr>\n",
              "    <tr>\n",
              "      <td>21</td>\n",
              "      <td>0.085873</td>\n",
              "      <td>0.537686</td>\n",
              "      <td>0.823529</td>\n",
              "      <td>00:00</td>\n",
              "    </tr>\n",
              "    <tr>\n",
              "      <td>22</td>\n",
              "      <td>0.080318</td>\n",
              "      <td>0.552140</td>\n",
              "      <td>0.823529</td>\n",
              "      <td>00:00</td>\n",
              "    </tr>\n",
              "    <tr>\n",
              "      <td>23</td>\n",
              "      <td>0.074984</td>\n",
              "      <td>0.551595</td>\n",
              "      <td>0.823529</td>\n",
              "      <td>00:00</td>\n",
              "    </tr>\n",
              "    <tr>\n",
              "      <td>24</td>\n",
              "      <td>0.071820</td>\n",
              "      <td>0.563073</td>\n",
              "      <td>0.823529</td>\n",
              "      <td>00:00</td>\n",
              "    </tr>\n",
              "    <tr>\n",
              "      <td>25</td>\n",
              "      <td>0.067993</td>\n",
              "      <td>0.562561</td>\n",
              "      <td>0.823529</td>\n",
              "      <td>00:00</td>\n",
              "    </tr>\n",
              "    <tr>\n",
              "      <td>26</td>\n",
              "      <td>0.063732</td>\n",
              "      <td>0.581792</td>\n",
              "      <td>0.823529</td>\n",
              "      <td>00:00</td>\n",
              "    </tr>\n",
              "    <tr>\n",
              "      <td>27</td>\n",
              "      <td>0.062678</td>\n",
              "      <td>0.588049</td>\n",
              "      <td>0.823529</td>\n",
              "      <td>00:00</td>\n",
              "    </tr>\n",
              "    <tr>\n",
              "      <td>28</td>\n",
              "      <td>0.058894</td>\n",
              "      <td>0.593294</td>\n",
              "      <td>0.823529</td>\n",
              "      <td>00:00</td>\n",
              "    </tr>\n",
              "    <tr>\n",
              "      <td>29</td>\n",
              "      <td>0.055309</td>\n",
              "      <td>0.585459</td>\n",
              "      <td>0.823529</td>\n",
              "      <td>00:00</td>\n",
              "    </tr>\n",
              "  </tbody>\n",
              "</table>"
            ],
            "text/plain": [
              "<IPython.core.display.HTML object>"
            ]
          },
          "metadata": {
            "tags": []
          }
        }
      ]
    },
    {
      "cell_type": "code",
      "metadata": {
        "id": "W1bMVrMqkAHp"
      },
      "source": [
        "learn.save(base_dir + 'third')"
      ],
      "execution_count": null,
      "outputs": []
    },
    {
      "cell_type": "code",
      "metadata": {
        "id": "h1JTuzx6kDpG"
      },
      "source": [
        "learn.load(base_dir + 'third');"
      ],
      "execution_count": null,
      "outputs": []
    },
    {
      "cell_type": "markdown",
      "metadata": {
        "id": "2Sdpa-clUM_H"
      },
      "source": [
        "# Error Analysis and Interpreting the Results"
      ]
    },
    {
      "cell_type": "code",
      "metadata": {
        "id": "44Ezquj1kH9l",
        "colab": {
          "base_uri": "https://localhost:8080/",
          "height": 34
        },
        "outputId": "eaaec717-ef9b-47fc-eaba-bad88ef85baa"
      },
      "source": [
        "learn.predict(\"Idź, Janku! w kredensie nie ma nikogo...\")"
      ],
      "execution_count": null,
      "outputs": [
        {
          "output_type": "execute_result",
          "data": {
            "text/plain": [
              "(Category narrator, tensor(0), tensor([0.9719, 0.0281]))"
            ]
          },
          "metadata": {
            "tags": []
          },
          "execution_count": 43
        }
      ]
    },
    {
      "cell_type": "code",
      "metadata": {
        "id": "M6p6emELkVj2"
      },
      "source": [
        "interp = TextClassificationInterpretation.from_learner(learn)"
      ],
      "execution_count": null,
      "outputs": []
    },
    {
      "cell_type": "code",
      "metadata": {
        "id": "xX_LQBPJXvo9",
        "colab": {
          "base_uri": "https://localhost:8080/",
          "height": 311
        },
        "outputId": "80295486-781a-48d0-aaba-2c466701b750"
      },
      "source": [
        "interp.plot_confusion_matrix()"
      ],
      "execution_count": null,
      "outputs": [
        {
          "output_type": "display_data",
          "data": {
            "image/png": "[encoded data removed]",
            "text/plain": [
              "<Figure size 432x288 with 1 Axes>"
            ]
          },
          "metadata": {
            "tags": []
          }
        }
      ]
    },
    {
      "cell_type": "code",
      "metadata": {
        "id": "x3lnCnCHsKYc",
        "colab": {
          "base_uri": "https://localhost:8080/",
          "height": 410
        },
        "outputId": "e6236906-9b4a-4103-b967-7ff18be3ad43"
      },
      "source": [
        "interp.show_top_losses(10)"
      ],
      "execution_count": null,
      "outputs": [
        {
          "output_type": "display_data",
          "data": {
            "text/html": [
              "<table border=\"1\" class=\"dataframe\">\n",
              "  <thead>\n",
              "    <tr style=\"text-align: right;\">\n",
              "      <th>Text</th>\n",
              "      <th>Prediction</th>\n",
              "      <th>Actual</th>\n",
              "      <th>Loss</th>\n",
              "      <th>Probability</th>\n",
              "    </tr>\n",
              "  </thead>\n",
              "  <tbody>\n",
              "    <tr>\n",
              "      <td>▁xxbos ▁xxmaj ▁na ▁drugi ▁dzień ▁nie ▁wstał ▁xxmaj ▁janek , ▁a ▁trzeci ego ▁wieczorem ▁ko na ł ▁już ▁sobie ▁spokojnie ▁na ▁ta p cza nie ▁pod ▁z grze b nym ▁ ki li m kiem .</td>\n",
              "      <td>narrator</td>\n",
              "      <td>narrator</td>\n",
              "      <td>5.86</td>\n",
              "      <td>1.00</td>\n",
              "    </tr>\n",
              "    <tr>\n",
              "      <td>▁xxbos ▁xxmaj ▁gdy ▁tylko ▁mógł ▁słyszeć ▁skrzypki , ▁czy ▁to ▁na ▁do ż y nkach , ▁czy ▁na ▁wesel u ▁jakim , ▁to ▁już ▁dla ▁niego ▁było ▁wielkie ▁święt o .</td>\n",
              "      <td>narrator</td>\n",
              "      <td>narrator</td>\n",
              "      <td>5.51</td>\n",
              "      <td>1.00</td>\n",
              "    </tr>\n",
              "    <tr>\n",
              "      <td>▁xxbos ▁xxmaj ▁zapał ka ▁zaczęł a ▁migota ć ▁po ▁ścianie , ▁zrobił o ▁się ▁widno , ▁a ▁potem ...</td>\n",
              "      <td>narrator</td>\n",
              "      <td>narrator</td>\n",
              "      <td>5.44</td>\n",
              "      <td>1.00</td>\n",
              "    </tr>\n",
              "    <tr>\n",
              "      <td>▁xxbos ▁xxmaj ▁przyszła ▁matka , ▁zabrał a ▁chłopak a , ▁ale ▁musiała ▁go ▁za nieść ▁do ▁domu ...</td>\n",
              "      <td>narrator</td>\n",
              "      <td>narrator</td>\n",
              "      <td>4.69</td>\n",
              "      <td>0.99</td>\n",
              "    </tr>\n",
              "    <tr>\n",
              "      <td>▁xxbos ▁xxmaj ▁biała ▁koszul a ▁migotał a ▁co raz ▁bliżej ▁drzwi ▁k r e d en s owych .</td>\n",
              "      <td>narrator</td>\n",
              "      <td>narrator</td>\n",
              "      <td>4.05</td>\n",
              "      <td>0.98</td>\n",
              "    </tr>\n",
              "    <tr>\n",
              "      <td>▁xxbos ▁xxmaj ▁jakże ▁tu ▁sądzić ▁taką ▁bied ę , ▁co ▁ma ▁lat ▁dziesię ć ▁i ▁ledwo ▁na ▁nogach ▁stoi ?</td>\n",
              "      <td>narrator</td>\n",
              "      <td>dialog</td>\n",
              "      <td>3.63</td>\n",
              "      <td>0.03</td>\n",
              "    </tr>\n",
              "    <tr>\n",
              "      <td>▁xxbos ▁xxmaj ▁ale ▁ta ▁chęć ▁nie ▁w yszła ▁mu ▁na ▁dobre .</td>\n",
              "      <td>narrator</td>\n",
              "      <td>narrator</td>\n",
              "      <td>3.62</td>\n",
              "      <td>0.97</td>\n",
              "    </tr>\n",
              "    <tr>\n",
              "      <td>▁xxbos ▁xxmaj ▁na ▁próżno , ▁le l ku , ▁prze la tuje sz ▁jeszcze ▁raz ▁i ▁woła sz : ▁\" nie ! ▁nie !\" ▁xxmaj ▁janek ▁już ▁w ▁kredensie .</td>\n",
              "      <td>narrator</td>\n",
              "      <td>narrator</td>\n",
              "      <td>3.39</td>\n",
              "      <td>0.97</td>\n",
              "    </tr>\n",
              "    <tr>\n",
              "      <td>▁xxbos ▁i ▁co ▁to ▁za ▁lud ▁arty st ów .</td>\n",
              "      <td>narrator</td>\n",
              "      <td>dialog</td>\n",
              "      <td>3.21</td>\n",
              "      <td>0.04</td>\n",
              "    </tr>\n",
              "    <tr>\n",
              "      <td>▁xxbos ▁xxmaj ▁dopiero ▁jak ▁go ▁xxmaj ▁stach ▁w ▁sto d o le ▁wziął ▁garś cią , ▁rozciągną ł ▁na ▁ziemi ▁i ▁pod g iąwszy ▁koszul i nę ▁machną ł ▁od ▁u ch a , ▁dopiero ż ▁xxmaj ▁janek ▁ krzyknął :</td>\n",
              "      <td>narrator</td>\n",
              "      <td>narrator</td>\n",
              "      <td>2.97</td>\n",
              "      <td>0.95</td>\n",
              "    </tr>\n",
              "  </tbody>\n",
              "</table>"
            ],
            "text/plain": [
              "<IPython.core.display.HTML object>"
            ]
          },
          "metadata": {
            "tags": []
          }
        }
      ]
    },
    {
      "cell_type": "code",
      "metadata": {
        "id": "3gdQ1q50sNWh",
        "colab": {
          "base_uri": "https://localhost:8080/",
          "height": 34
        },
        "outputId": "7c74e324-4378-4d9f-c6c1-047c2caa5c1f"
      },
      "source": [
        "import matplotlib.cm as cm\n",
        "\n",
        "test_text = 'Idź, Janku! w kredensie nie ma nikogo...'\n",
        "interp.show_intrinsic_attention(test_text,cmap=cm.Purples)"
      ],
      "execution_count": null,
      "outputs": [
        {
          "output_type": "display_data",
          "data": {
            "text/html": [
              "<span style=\"font-family: monospace;\"><span title=\"0.197\" style=\"background-color: rgba(227, 226, 239, 0.5);\">▁xxbos</span> <span title=\"0.142\" style=\"background-color: rgba(236, 234, 243, 0.5);\">▁xxmaj</span> <span title=\"0.438\" style=\"background-color: rgba(172, 171, 209, 0.5);\">▁idź</span> <span title=\"0.152\" style=\"background-color: rgba(234, 233, 243, 0.5);\">,</span> <span title=\"0.209\" style=\"background-color: rgba(225, 224, 238, 0.5);\">▁xxmaj</span> <span title=\"0.421\" style=\"background-color: rgba(177, 176, 212, 0.5);\">▁</span> <span title=\"0.747\" style=\"background-color: rgba(106, 81, 163, 0.5);\">janku</span> <span title=\"0.183\" style=\"background-color: rgba(229, 228, 240, 0.5);\">!</span> <span title=\"0.501\" style=\"background-color: rgba(157, 153, 199, 0.5);\">▁w</span> <span title=\"0.858\" style=\"background-color: rgba(86, 44, 145, 0.5);\">▁kredensie</span> <span title=\"0.316\" style=\"background-color: rgba(202, 203, 227, 0.5);\">▁nie</span> <span title=\"0.524\" style=\"background-color: rgba(151, 148, 197, 0.5);\">▁ma</span> <span title=\"0.948\" style=\"background-color: rgba(71, 15, 132, 0.5);\">▁nikogo</span> <span title=\"1.000\" style=\"background-color: rgba(63, 0, 125, 0.5);\">...</span></span>"
            ],
            "text/plain": [
              "<IPython.core.display.HTML object>"
            ]
          },
          "metadata": {
            "tags": []
          }
        }
      ]
    }
  ]
}