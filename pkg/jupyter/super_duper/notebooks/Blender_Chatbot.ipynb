{
  "nbformat": 4,
  "nbformat_minor": 0,
  "metadata": {
    "colab": {
      "name": "Blender_Chatbot.ipynb",
      "provenance": [],
      "collapsed_sections": []
    },
    "kernelspec": {
      "name": "python3",
      "display_name": "Python 3"
    }
  },
  "cells": [
    {
      "cell_type": "markdown",
      "metadata": {
        "id": "UahVKS1KXfID"
      },
      "source": [
        "# Blender - Chit Chat Chatbot 90M\n",
        "\n",
        "ParlAI project site: https://parl.ai/projects/blender/\n",
        "\n",
        "Colab by Quantum Stat www.quantumstat.com\n"
      ]
    },
    {
      "cell_type": "code",
      "metadata": {
        "id": "j9T71URohLYh"
      },
      "source": [
        "!git clone https://github.com/facebookresearch/ParlAI.git"
      ],
      "execution_count": null,
      "outputs": []
    },
    {
      "cell_type": "code",
      "metadata": {
        "id": "nPmSE5bDhaWk"
      },
      "source": [
        "cd ParlAI/"
      ],
      "execution_count": null,
      "outputs": []
    },
    {
      "cell_type": "code",
      "metadata": {
        "id": "t1n_7S_HhaY-"
      },
      "source": [
        "!python setup.py develop"
      ],
      "execution_count": null,
      "outputs": []
    },
    {
      "cell_type": "code",
      "metadata": {
        "id": "SrqEieYih4K_"
      },
      "source": [
        "!pip install 'git+https://github.com/rsennrich/subword-nmt.git#egg=subword-nmt'"
      ],
      "execution_count": null,
      "outputs": []
    },
    {
      "cell_type": "markdown",
      "metadata": {
        "id": "w9NEQhOiX0Sg"
      },
      "source": [
        "# 90M Parameter Model"
      ]
    },
    {
      "cell_type": "code",
      "metadata": {
        "id": "FxpgIkB6X2Oa"
      },
      "source": [
        "!python parlai/scripts/safe_interactive.py -t blended_skill_talk -mf zoo:blender/blender_90M/model"
      ],
      "execution_count": null,
      "outputs": []
    }
  ]
}