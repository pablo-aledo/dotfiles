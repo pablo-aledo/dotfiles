{
  "nbformat": 4,
  "nbformat_minor": 0,
  "metadata": {
    "colab": {
      "name": "DialoGPT Chatbot.ipynb",
      "provenance": [],
      "collapsed_sections": []
    },
    "kernelspec": {
      "name": "python3",
      "display_name": "Python 3"
    }
  },
  "cells": [
    {
      "cell_type": "markdown",
      "metadata": {
        "id": "CR1IZdfDfsMp"
      },
      "source": [
        "# DialoGPT- CHATBOT\n",
        "Code via Hugging Face's tweet.\n",
        "\n",
        "documentation: https://huggingface.co/transformers/model_doc/dialogpt.html\n",
        "\n",
        "\n",
        "\n",
        "![alt text](http://quantumstat.com/wp-content/uploads/qs-logo-3.png) \n",
        "\n"
      ]
    },
    {
      "cell_type": "code",
      "metadata": {
        "id": "hrvnJt31dRIs"
      },
      "source": [
        "!pip install transformers\n",
        "from transformers import AutoModelWithLMHead, AutoTokenizer\n",
        "import torch\n"
      ],
      "execution_count": null,
      "outputs": []
    },
    {
      "cell_type": "code",
      "metadata": {
        "id": "NZgGQljhdbBN"
      },
      "source": [
        "tokenizer = AutoTokenizer.from_pretrained(\"microsoft/DialoGPT-medium\")\n",
        "model= AutoModelWithLMHead.from_pretrained(\"microsoft/DialoGPT-medium\")"
      ],
      "execution_count": null,
      "outputs": []
    },
    {
      "cell_type": "code",
      "metadata": {
        "id": "tDYhaGQJdJDr"
      },
      "source": [
        "for step in range(5):\n",
        "  new_user_input_ids = tokenizer.encode(input(\"😎:\") + tokenizer.eos_token, return_tensors='pt')\n",
        "  bot_input_ids = torch.cat([chat_history_ids, new_user_input_ids], dim=-1) if step > 0 else new_user_input_ids\n",
        "  chat_history_ids = model.generate(bot_input_ids, max_length=1000, pad_token_id=tokenizer.eos_token_id)\n",
        "  print(\"🤖: {}\".format(tokenizer.decode(chat_history_ids[:, bot_input_ids.shape[-1]:][0], skip_special_tokens=True)))\n"
      ],
      "execution_count": null,
      "outputs": []
    }
  ]
}