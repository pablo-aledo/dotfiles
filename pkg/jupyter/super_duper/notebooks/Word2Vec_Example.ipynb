{
  "nbformat": 4,
  "nbformat_minor": 0,
  "metadata": {
    "colab": {
      "name": "Word2Vec_Example.ipynb",
      "provenance": []
    },
    "kernelspec": {
      "display_name": "Python 3",
      "language": "python",
      "name": "python3"
    },
    "language_info": {
      "codemirror_mode": {
        "name": "ipython",
        "version": 3
      },
      "file_extension": ".py",
      "mimetype": "text/x-python",
      "name": "python",
      "nbconvert_exporter": "python",
      "pygments_lexer": "ipython3",
      "version": "3.7.0"
    }
  },
  "cells": [
    {
      "cell_type": "markdown",
      "metadata": {
        "id": "sVtvH58nb_Hp"
      },
      "source": [
        "# Word2Vec for Text Classification\n",
        "\n",
        "In this short notebook, we will see an example of how to use a pre-trained Word2vec model for doing feature extraction and performing text classification.\n",
        "\n",
        "We will use the sentiment labelled sentences dataset from UCI repository\n",
        "http://archive.ics.uci.edu/ml/datasets/Sentiment+Labelled+Sentences\n",
        "\n",
        "The dataset consists of 1500 positive, and 1500 negative sentiment sentences from Amazon, Yelp, IMDB. Let us first combine all the three separate data files into one using the following unix command:\n",
        "\n",
        "```cat amazon_cells_labelled.txt imdb_labelled.txt yelp_labelled.txt > sentiment_sentences.txt```\n",
        "\n",
        "For a pre-trained embedding model, we will use the Google News vectors.\n",
        "https://drive.google.com/file/d/0B7XkCwpI5KDYNlNUTTlSS21pQmM\n",
        "\n",
        "Let us get started!"
      ]
    },
    {
      "cell_type": "code",
      "metadata": {
        "id": "JQX8DAmBb_Hr"
      },
      "source": [
        "#basic imports\n",
        "import os\n",
        "from time import time\n",
        "\n",
        "#pre-processing imports\n",
        "from nltk.tokenize import word_tokenize\n",
        "from nltk.corpus import stopwords\n",
        "from string import punctuation\n",
        "\n",
        "#imports related to modeling\n",
        "import numpy as np\n",
        "from gensim.models import Word2Vec, KeyedVectors\n",
        "from sklearn.linear_model import LogisticRegression\n",
        "from sklearn.model_selection import train_test_split\n",
        "from sklearn.metrics import classification_report"
      ],
      "execution_count": null,
      "outputs": []
    },
    {
      "cell_type": "code",
      "metadata": {
        "id": "YA25TwtjX55U"
      },
      "source": [
        "path = os.getcwd()\n",
        "path = path + '\\Data'\n",
        "\n",
        "fil = 'sentiment_sentences.txt'"
      ],
      "execution_count": null,
      "outputs": []
    },
    {
      "cell_type": "code",
      "metadata": {
        "id": "37X-I_SEX55V",
        "outputId": "c12b6270-a96a-49f0-a7de-405f0188c2b2"
      },
      "source": [
        "if not os.path.exists(path+\"\\sentiment_sentences.txt\"):\n",
        "    file = open(os.path.join(path, fil), 'w')\n",
        "    file.close()\n",
        "    \n",
        "    # combined the three files to make sentiment_sentences.txt\n",
        "    filenames = ['amazon_cells_labelled.txt', 'imdb_labelled.txt', 'yelp_labelled.txt']\n",
        "\n",
        "    with open(path+'\\sentiment_sentences.txt', 'w') as outfile:\n",
        "        for fname in filenames:\n",
        "            with open(path + '\\sentiment labelled sentences\\\\' + fname) as infile:\n",
        "                outfile.write(infile.read())\n",
        "    print(\"File created\")\n",
        "else:\n",
        "    print(\"File already exists\")"
      ],
      "execution_count": null,
      "outputs": [
        {
          "output_type": "stream",
          "text": [
            "File already exists\n"
          ],
          "name": "stdout"
        }
      ]
    },
    {
      "cell_type": "code",
      "metadata": {
        "id": "COUGXAxcb_H5",
        "scrolled": true,
        "outputId": "f1b6d8ad-e22b-4126-d2ea-862697c4158b"
      },
      "source": [
        "#Load the pre-trained word2vec model and the dataset\n",
        "try:\n",
        "    from google.colab import files\n",
        "    data_path= \"DATAPATH\"        \n",
        "    path_to_model = 'DATAPATH/GoogleNews-vectors-negative300.bin'\n",
        "    training_data_path = \"DATAPATH/sentiment_sentences.txt\"\n",
        "except ModuleNotFoundError:\n",
        "    data_path= \"Data\"        \n",
        "    \n",
        "    if not os.path.exists('../Ch2/GoogleNews-vectors-negative300.bin'):\n",
        "        if not os.path.exists('../Ch3/GoogleNews-vectors-negative300.bin'):\n",
        "            wget.download(\"https://s3.amazonaws.com/dl4j-distribution/GoogleNews-vectors-negative300.bin.gz\")\n",
        "            path_to_model = 'GoogleNews-vectors-negative300.bin'\n",
        "        else:\n",
        "            path_to_model = '../Ch3/GoogleNews-vectors-negative300.bin'\n",
        "            \n",
        "    else:\n",
        "        path_to_model = '../Ch2/GoogleNews-vectors-negative300.bin'\n",
        "        \n",
        "    training_data_path = os.path.join(data_path, \"sentiment_sentences.txt\")\n",
        "\n",
        "\n",
        "\n",
        "#Load W2V model. This will take some time. \n",
        "%time w2v_model = KeyedVectors.load_word2vec_format(path_to_model, binary=True)\n",
        "print('done loading Word2Vec')\n",
        "\n",
        "#Read text data, cats.\n",
        "#the file path consists of tab separated sentences and cats.\n",
        "texts = []\n",
        "cats = []\n",
        "fh = open(training_data_path)\n",
        "for line in fh:\n",
        "    text, sentiment = line.split(\"\\t\")\n",
        "    texts.append(text)\n",
        "    cats.append(sentiment)"
      ],
      "execution_count": null,
      "outputs": [
        {
          "output_type": "stream",
          "text": [
            "Wall time: 15.7 s\n",
            "done loading Word2Vec\n"
          ],
          "name": "stdout"
        }
      ]
    },
    {
      "cell_type": "code",
      "metadata": {
        "id": "m-WjFyC6b_IE",
        "outputId": "5df9e11b-6f8e-42b8-e198-6fe343293cc3"
      },
      "source": [
        "# Inspect the model\n",
        "word2vec_vocab = w2v_model.vocab.keys()\n",
        "word2vec_vocab_lower = [item.lower() for item in word2vec_vocab]\n",
        "print(len(word2vec_vocab))"
      ],
      "execution_count": null,
      "outputs": [
        {
          "output_type": "stream",
          "text": [
            "3000000\n"
          ],
          "name": "stdout"
        }
      ]
    },
    {
      "cell_type": "code",
      "metadata": {
        "id": "XEz30Jztb_IP",
        "outputId": "2169b2c9-e89f-439a-a23f-d322fb856841"
      },
      "source": [
        "#Inspect the dataset\n",
        "print(len(cats), len(texts))\n",
        "print(texts[1])\n",
        "print(cats[1])"
      ],
      "execution_count": null,
      "outputs": [
        {
          "output_type": "stream",
          "text": [
            "3000 3000\n",
            "Good case, Excellent value.\n",
            "1\n",
            "\n"
          ],
          "name": "stdout"
        }
      ]
    },
    {
      "cell_type": "code",
      "metadata": {
        "id": "MFOGaDTwb_Ig",
        "outputId": "7603e297-9167-43ec-c7da-46d82dc850ad"
      },
      "source": [
        "#preprocess the text.\n",
        "def preprocess_corpus(texts):\n",
        "    mystopwords = set(stopwords.words(\"english\"))\n",
        "    def remove_stops_digits(tokens):\n",
        "        #Nested function that lowercases, removes stopwords and digits from a list of tokens\n",
        "        return [token.lower() for token in tokens if token.lower() not in mystopwords and not token.isdigit()\n",
        "               and token not in punctuation]\n",
        "    #This return statement below uses the above function to process twitter tokenizer output further. \n",
        "    return [remove_stops_digits(word_tokenize(text)) for text in texts]\n",
        "\n",
        "texts_processed = preprocess_corpus(texts)\n",
        "print(len(cats), len(texts_processed))\n",
        "print(texts_processed[1])\n",
        "print(cats[1])"
      ],
      "execution_count": null,
      "outputs": [
        {
          "output_type": "stream",
          "text": [
            "3000 3000\n",
            "['good', 'case', 'excellent', 'value']\n",
            "1\n",
            "\n"
          ],
          "name": "stdout"
        }
      ]
    },
    {
      "cell_type": "code",
      "metadata": {
        "id": "fXRiGtY1b_Iq",
        "outputId": "2d57a96f-8da8-4285-ca1e-2c617578b9e1"
      },
      "source": [
        "# Creating a feature vector by averaging all embeddings for all sentences\n",
        "def embedding_feats(list_of_lists):\n",
        "    DIMENSION = 300\n",
        "    zero_vector = np.zeros(DIMENSION)\n",
        "    feats = []\n",
        "    for tokens in list_of_lists:\n",
        "        feat_for_this =  np.zeros(DIMENSION)\n",
        "        count_for_this = 0 + 1e-5 # to avoid divide-by-zero \n",
        "        for token in tokens:\n",
        "            if token in w2v_model:\n",
        "                feat_for_this += w2v_model[token]\n",
        "                count_for_this +=1\n",
        "        if(count_for_this!=0):\n",
        "            feats.append(feat_for_this/count_for_this) \n",
        "        else:\n",
        "            feats.append(zero_vector)\n",
        "    return feats\n",
        "\n",
        "\n",
        "train_vectors = embedding_feats(texts_processed)\n",
        "print(len(train_vectors))"
      ],
      "execution_count": null,
      "outputs": [
        {
          "output_type": "stream",
          "text": [
            "3000\n"
          ],
          "name": "stdout"
        }
      ]
    },
    {
      "cell_type": "code",
      "metadata": {
        "id": "mr9IaQppb_Ix",
        "outputId": "13a84b5c-fde3-49f4-b156-5c2f36592b19"
      },
      "source": [
        "#Take any classifier (LogisticRegression here, and train/test it like before.\n",
        "classifier = LogisticRegression(random_state=1234)\n",
        "train_data, test_data, train_cats, test_cats = train_test_split(train_vectors, cats)\n",
        "classifier.fit(train_data, train_cats)\n",
        "print(\"Accuracy: \", classifier.score(test_data, test_cats))\n",
        "preds = classifier.predict(test_data)\n",
        "print(classification_report(test_cats, preds))"
      ],
      "execution_count": null,
      "outputs": [
        {
          "output_type": "stream",
          "text": [
            "Accuracy:  0.8173333333333334\n",
            "              precision    recall  f1-score   support\n",
            "\n",
            "          0\n",
            "       0.79      0.82      0.81       350\n",
            "          1\n",
            "       0.84      0.81      0.83       400\n",
            "\n",
            "    accuracy                           0.82       750\n",
            "   macro avg       0.82      0.82      0.82       750\n",
            "weighted avg       0.82      0.82      0.82       750\n",
            "\n"
          ],
          "name": "stdout"
        }
      ]
    },
    {
      "cell_type": "markdown",
      "metadata": {
        "id": "k7wjLB8rb_JB"
      },
      "source": [
        "Not bad. With little efforts we got 81% accuracy. Thats a great starting model to have!!"
      ]
    }
  ]
}