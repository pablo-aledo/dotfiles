{
  "nbformat": 4,
  "nbformat_minor": 0,
  "metadata": {
    "kernelspec": {
      "display_name": "Python 3",
      "language": "python",
      "name": "python3"
    },
    "language_info": {
      "codemirror_mode": {
        "name": "ipython",
        "version": 3
      },
      "file_extension": ".py",
      "mimetype": "text/x-python",
      "name": "python",
      "nbconvert_exporter": "python",
      "pygments_lexer": "ipython3",
      "version": "3.7.8"
    },
    "colab": {
      "name": "onnx_t5.ipynb",
      "provenance": []
    }
  },
  "cells": [
    {
      "cell_type": "code",
      "metadata": {
        "id": "QMprDxVmbIGp"
      },
      "source": [
        "!pip install -qqq --upgrade torch==1.6.0+cpu torchvision==0.7.0+cpu -f https://download.pytorch.org/whl/torch_stable.html\n",
        "!pip install -qqq -U transformers onnxruntime>=1.4.0 onnxruntime-tools>=1.4.2 psutil"
      ],
      "execution_count": null,
      "outputs": []
    },
    {
      "cell_type": "code",
      "metadata": {
        "id": "utCSDezubIGt"
      },
      "source": [
        "import inspect\n",
        "import logging\n",
        "import os\n",
        "from pathlib import Path\n",
        "\n",
        "import torch\n",
        "from psutil import cpu_count\n",
        "from transformers import T5Config, T5ForConditionalGeneration, T5Tokenizer\n",
        "from transformers.generation_utils import GenerationMixin\n",
        "from transformers.modeling_outputs import BaseModelOutputWithPast, Seq2SeqLMOutput\n",
        "\n",
        "# Constants from the performance optimization available in onnxruntime\n",
        "# It needs to be done before importing onnxruntime\n",
        "os.environ[\"OMP_NUM_THREADS\"] = str(cpu_count(logical=True))\n",
        "os.environ[\"OMP_WAIT_POLICY\"] = \"ACTIVE\"\n",
        "\n",
        "from onnxruntime import GraphOptimizationLevel, InferenceSession, SessionOptions, get_all_providers"
      ],
      "execution_count": null,
      "outputs": []
    },
    {
      "cell_type": "code",
      "metadata": {
        "id": "oW667kSxbIGx"
      },
      "source": [
        "logger = logging.getLogger(__name__)"
      ],
      "execution_count": null,
      "outputs": []
    },
    {
      "cell_type": "code",
      "metadata": {
        "id": "nki_oYQHbIG2"
      },
      "source": [
        "class T5Encoder(torch.nn.Module):\n",
        "    def __init__(self, encoder):\n",
        "        super().__init__()\n",
        "        self.encoder = encoder\n",
        "\n",
        "    def forward(self, input_ids, attention_mask):\n",
        "        return self.encoder(input_ids=input_ids, attention_mask=attention_mask)[0]\n",
        "\n",
        "\n",
        "class T5Decoder(torch.nn.Module):\n",
        "    def __init__(self, decoder, config):\n",
        "        super().__init__()\n",
        "        self.decoder = decoder\n",
        "        self.config = config\n",
        "\n",
        "    def forward(self, input_ids, encoder_hidden_states, attention_mask=None, past_key_values=None):\n",
        "        past_arg_key = (\n",
        "            \"past_key_value_states\"\n",
        "            if \"past_key_value_states\" in inspect.getfullargspec(self.decoder.forward).args\n",
        "            else \"past_key_values\"\n",
        "        )\n",
        "        past_arg = {past_arg_key: past_key_values}\n",
        "        decoder_output = self.decoder(\n",
        "            input_ids=input_ids,\n",
        "            encoder_attention_mask=attention_mask,\n",
        "            encoder_hidden_states=encoder_hidden_states,\n",
        "            use_cache=True,\n",
        "            return_dict=True,\n",
        "            **past_arg,\n",
        "        )\n",
        "        past_key_values = decoder_output.past_key_values\n",
        "        sequence_output = decoder_output.last_hidden_state\n",
        "        sequence_output = sequence_output * (self.config.d_model ** -0.5)\n",
        "        return sequence_output, past_key_values\n",
        "\n",
        "\n",
        "class T5LMHead(torch.nn.Module):\n",
        "    def __init__(self, lm_head):\n",
        "        super().__init__()\n",
        "        self.lm_head = lm_head\n",
        "\n",
        "    def forward(self, decoder_output):\n",
        "        return self.lm_head(decoder_output)\n"
      ],
      "execution_count": null,
      "outputs": []
    },
    {
      "cell_type": "code",
      "metadata": {
        "id": "IdKdzHn5bIG5"
      },
      "source": [
        "def create_t5_encoder_decoder(model=\"t5-base\"):\n",
        "    \"\"\"Generates an encoder and a decoder model with a language model head from a pretrained huggingface model\n",
        "    Args:\n",
        "        model (str): Name of a pretrained model, or path to a pretrained / finetuned version of T5\n",
        "    Returns:\n",
        "        t5_encoder: pytorch t5 encoder with a wrapper to output only the hidden states\n",
        "        t5_decoder: pytorch t5 decoder with a language modeling head\n",
        "    \"\"\"\n",
        "\n",
        "    # T5 is an encoder / decoder model with a language modeling head on top.\n",
        "    # We need to separate those out for efficient language generation\n",
        "    if isinstance(model, str):\n",
        "        model = T5ForConditionalGeneration.from_pretrained(model)\n",
        "\n",
        "    encoder = model.encoder\n",
        "    decoder = model.decoder\n",
        "    lm_head = model.lm_head\n",
        "\n",
        "    t5_encoder = T5Encoder(encoder).eval()\n",
        "    t5_decoder = T5Decoder(decoder, model.config).eval()\n",
        "    t5_lm_head = T5LMHead(lm_head).eval()\n",
        "    return t5_encoder, t5_decoder, t5_lm_head"
      ],
      "execution_count": null,
      "outputs": []
    },
    {
      "cell_type": "code",
      "metadata": {
        "id": "jfnVmeG5bIG8"
      },
      "source": [
        "def generate_onnx_representation(model, encoder_path, lm_path):\n",
        "    \"\"\"Exports a given huggingface pretrained model, or a given model and tokenizer, to onnx\n",
        "    Args:\n",
        "        pretrained_version (str): Name of a pretrained model, or path to a pretrained / finetuned version of T5\n",
        "        output_prefix (str): Path to the onnx file\n",
        "    \"\"\"\n",
        "\n",
        "    simplified_encoder, decoder, lm_head = create_t5_encoder_decoder(model)\n",
        "\n",
        "    # Example sequence\n",
        "    tok = T5Tokenizer.from_pretrained(model)\n",
        "    enc = tok(\"42 is the answer\", return_tensors=\"pt\")\n",
        "    input_ids = enc[\"input_ids\"]\n",
        "    attention_mask = enc[\"attention_mask\"]\n",
        "\n",
        "    # Exports to ONNX\n",
        "    _ = torch.onnx._export(\n",
        "        simplified_encoder,\n",
        "        (input_ids, attention_mask),\n",
        "        encoder_path,\n",
        "        export_params=True,\n",
        "        opset_version=12,\n",
        "        input_names=[\"input_ids\", \"attention_mask\"],\n",
        "        output_names=[\"encoder_hidden_states\"],\n",
        "        dynamic_axes={\n",
        "            \"input_ids\": {0: \"batch\", 1: \"sequence\"},\n",
        "            \"attention_mask\": {0: \"batch\", 1: \"sequence\"},\n",
        "            \"encoder_hidden_states\": {0: \"batch\", 1: \"sequence\"},\n",
        "        },\n",
        "    )\n",
        "\n",
        "    encoder_out = simplified_encoder(input_ids, attention_mask)\n",
        "    decoder_out, _ = decoder(input_ids, encoder_out)\n",
        "    _ = torch.onnx.export(\n",
        "        lm_head,\n",
        "        decoder_out,\n",
        "        lm_path,\n",
        "        export_params=True,\n",
        "        opset_version=12,\n",
        "        input_names=[\"decoder_output\"],\n",
        "        output_names=[\"lm_logits\"],\n",
        "        dynamic_axes={\n",
        "            \"decoder_output\": {0: \"batch\", 1: \"sequence\"},\n",
        "            \"lm_logits\": {0: \"batch\", 1: \"sequence\"},\n",
        "        },\n",
        "    )"
      ],
      "execution_count": null,
      "outputs": []
    },
    {
      "cell_type": "code",
      "metadata": {
        "id": "GAILXi1dbIHA"
      },
      "source": [
        "def create_model_for_provider(model_path: str, provider: str) -> InferenceSession:\n",
        "\n",
        "    assert provider in get_all_providers(), f\"provider {provider} not found, {get_all_providers()}\"\n",
        "\n",
        "    # Few properties that might have an impact on performances (provided by MS)\n",
        "    options = SessionOptions()\n",
        "    options.intra_op_num_threads = 1\n",
        "    options.graph_optimization_level = GraphOptimizationLevel.ORT_ENABLE_ALL\n",
        "\n",
        "    # Load the model as a graph and prepare the CPU backend\n",
        "    session = InferenceSession(model_path, options, providers=[provider])\n",
        "    session.disable_fallback()\n",
        "\n",
        "    return session"
      ],
      "execution_count": null,
      "outputs": []
    },
    {
      "cell_type": "code",
      "metadata": {
        "id": "8P0hx04UbIHD"
      },
      "source": [
        "class OnnxT5(GenerationMixin):\n",
        "    def __init__(self, model_name_or_path, onnx_path):\n",
        "\n",
        "        self.model_name_or_path = Path(model_name_or_path)\n",
        "        self.onnx_path = Path(onnx_path)\n",
        "        self.mode_base_name = self.model_name_or_path.stem\n",
        "        self.encoder_path = self.onnx_path.joinpath(f\"{self.mode_base_name}_encoder.onnx\")\n",
        "        self.lm_head_path = self.onnx_path.joinpath(f\"{self.mode_base_name}_lm_head.onnx\")\n",
        "\n",
        "        if not (self.encoder_path.exists() and self.lm_head_path.exists()):\n",
        "            self._export_onnx_graph()\n",
        "\n",
        "        self.encoder_sess = create_model_for_provider(self.encoder_path.as_posix(), \"CPUExecutionProvider\")\n",
        "        self.lm_sess = create_model_for_provider(self.lm_head_path.as_posix(), \"CPUExecutionProvider\")\n",
        "\n",
        "        self.config = T5Config.from_pretrained(model_name_or_path)\n",
        "        decoder = T5ForConditionalGeneration.from_pretrained(model_name_or_path).decoder\n",
        "        self.decoder = T5Decoder(decoder, self.config).eval()\n",
        "\n",
        "        self._warmup_onnx_graph()\n",
        "\n",
        "    @torch.no_grad()\n",
        "    def __call__(\n",
        "        self,\n",
        "        input_ids=None,\n",
        "        attention_mask=None,\n",
        "        decoder_input_ids=None,\n",
        "        encoder_outputs=None,\n",
        "        past_key_values=None,\n",
        "        **kwargs,\n",
        "    ):\n",
        "        if input_ids is not None:\n",
        "            return self._encoder_forward(input_ids=input_ids, attention_mask=attention_mask)\n",
        "\n",
        "        decoder_output, past = self.decoder(decoder_input_ids, encoder_outputs, attention_mask, past_key_values)\n",
        "\n",
        "        inputs = {\"decoder_output\": decoder_output.cpu().detach().numpy()}\n",
        "        lm_logits = self.lm_sess.run(None, inputs)[0]\n",
        "        lm_logits = torch.from_numpy(lm_logits)\n",
        "        return Seq2SeqLMOutput(logits=lm_logits, past_key_values=past)\n",
        "\n",
        "    def _encoder_forward(self, input_ids=None, attention_mask=None):\n",
        "        inputs = {\n",
        "            \"input_ids\": input_ids.cpu().detach().numpy(),\n",
        "            \"attention_mask\": attention_mask.cpu().detach().numpy(),\n",
        "        }\n",
        "        last_hidden_state = self.encoder_sess.run(None, inputs)[0]\n",
        "        last_hidden_state = torch.from_numpy(last_hidden_state)\n",
        "        return BaseModelOutputWithPast(last_hidden_state=last_hidden_state)\n",
        "\n",
        "    def get_encoder(self):\n",
        "        return self\n",
        "\n",
        "    def get_output_embeddings(self):\n",
        "        return self\n",
        "\n",
        "    def prepare_inputs_for_generation(self, input_ids, past, attention_mask, use_cache, encoder_outputs, **kwargs):\n",
        "        if past is not None:\n",
        "            input_ids = input_ids[:, -1:]\n",
        "        return {\n",
        "            \"decoder_input_ids\": input_ids,\n",
        "            \"past_key_values\": past,\n",
        "            \"encoder_outputs\": encoder_outputs.last_hidden_state,\n",
        "            \"attention_mask\": attention_mask,\n",
        "            \"use_cache\": True,\n",
        "        }\n",
        "\n",
        "    def parameters(self):\n",
        "        return iter(torch.tensor([42, 42]))\n",
        "\n",
        "    def _export_onnx_graph(self):\n",
        "        self.onnx_path.mkdir(parents=True, exist_ok=True)\n",
        "        generate_onnx_representation(\n",
        "            self.model_name_or_path.as_posix(), self.encoder_path.as_posix(), self.lm_head_path.as_posix()\n",
        "        )\n",
        "\n",
        "    def _reorder_cache(self, past, beam_idx):\n",
        "        # if decoder past is not included in output\n",
        "        # speedy decoding is disabled and no need to reorder\n",
        "        if past is None:\n",
        "            logger.warning(\"You might want to consider setting `use_cache=True` to speed up decoding\")\n",
        "            return past\n",
        "\n",
        "        reordered_decoder_past = ()\n",
        "        for layer_past_states in past:\n",
        "            # get the correct batch idx from layer past batch dim\n",
        "            # batch dim of `past` is at 2nd position\n",
        "            reordered_layer_past_states = ()\n",
        "            for layer_past_state in layer_past_states:\n",
        "                # need to set correct `past` for each of the four key / value states\n",
        "                reordered_layer_past_states = reordered_layer_past_states + (\n",
        "                    layer_past_state.index_select(0, beam_idx),\n",
        "                )\n",
        "\n",
        "            assert reordered_layer_past_states[0].shape == layer_past_states[0].shape\n",
        "            assert len(reordered_layer_past_states) == len(layer_past_states)\n",
        "\n",
        "            reordered_decoder_past = reordered_decoder_past + (reordered_layer_past_states,)\n",
        "        return reordered_decoder_past\n",
        "\n",
        "    def _warmup_onnx_graph(self):\n",
        "        input_ids = torch.ones(1, 512, dtype=torch.long)\n",
        "        attention_mask = torch.ones(1, 512, dtype=torch.long)\n",
        "        for _ in range(10):\n",
        "            encoder_outputs = self._encoder_forward(\n",
        "                input_ids=input_ids, attention_mask=attention_mask\n",
        "            ).last_hidden_state\n",
        "\n",
        "        decoder_output, _ = self.decoder(input_ids, encoder_outputs, attention_mask)\n",
        "        inputs = {\"decoder_output\": decoder_output.cpu().detach().numpy()}\n",
        "        for _ in range(10):\n",
        "            self.lm_sess.run(None, inputs)"
      ],
      "execution_count": null,
      "outputs": []
    },
    {
      "cell_type": "code",
      "metadata": {
        "id": "JazbVdT3bIHG"
      },
      "source": [
        "from transformers import AutoTokenizer, AutoModelForSeq2SeqLM"
      ],
      "execution_count": null,
      "outputs": []
    },
    {
      "cell_type": "code",
      "metadata": {
        "id": "QAUi_LC-bIHJ"
      },
      "source": [
        "tokenizer = AutoTokenizer.from_pretrained(\"t5-small\")\n",
        "enc = tokenizer(\"translate English to French: 42 is the answer to life the universe and everything.\", return_tensors=\"pt\")"
      ],
      "execution_count": null,
      "outputs": []
    },
    {
      "cell_type": "code",
      "metadata": {
        "id": "sdgmJgsUbIHM"
      },
      "source": [
        "onnx_model = OnnxT5(model_name_or_path=\"t5-small\", onnx_path=\"onnx_models\")"
      ],
      "execution_count": null,
      "outputs": []
    },
    {
      "cell_type": "code",
      "metadata": {
        "id": "_Qz3W1W9bIHP",
        "colab": {
          "base_uri": "https://localhost:8080/"
        },
        "outputId": "585e5ab0-3a10-47bb-fc90-e5985ae717a1"
      },
      "source": [
        "tokens = onnx_model.generate(**enc, num_beams=2, use_cache=True) # same HF's generate method\n",
        "tokenizer.batch_decode(tokens)"
      ],
      "execution_count": null,
      "outputs": [
        {
          "output_type": "execute_result",
          "data": {
            "text/plain": [
              "[\"42 est la réponse à la vie l'univers et tout.\"]"
            ]
          },
          "metadata": {
            "tags": []
          },
          "execution_count": 11
        }
      ]
    },
    {
      "cell_type": "markdown",
      "metadata": {
        "id": "2Fg5IQKybIHS"
      },
      "source": [
        "### Benchmark"
      ]
    },
    {
      "cell_type": "code",
      "metadata": {
        "id": "oGI2fDlMbIHT"
      },
      "source": [
        "%matplotlib inline\n",
        "\n",
        "import matplotlib\n",
        "import matplotlib.pyplot as plt\n",
        "import seaborn as sns\n",
        "sns.set()\n",
        "import numpy as np\n",
        "import os\n",
        "\n",
        "\n",
        "def plot_benchmark(results):\n",
        "    # Compute average inference time + std\n",
        "    time_results = {k: np.mean(v.model_inference_time) * 1e3 for k, v in results.items()}\n",
        "    time_results_std = np.std([v.model_inference_time for v in results.values()]) * 1000\n",
        "\n",
        "    plt.rcdefaults()\n",
        "    fig, ax = plt.subplots(figsize=(10, 8))\n",
        "    ax.set_ylabel(\"Avg Inference time (ms)\")\n",
        "    ax.set_title(\"Average inference time (ms) for each provider\")\n",
        "    ax.bar(time_results.keys(), time_results.values(), yerr=time_results_std)\n",
        "    plt.show()\n",
        "\n",
        "from contextlib import contextmanager\n",
        "from dataclasses import dataclass\n",
        "from time import time\n",
        "from tqdm import trange\n",
        "\n",
        "@contextmanager\n",
        "def track_infer_time(buffer: [int]):\n",
        "    start = time()\n",
        "    yield\n",
        "    end = time()\n",
        "\n",
        "    buffer.append(end - start)\n",
        "\n",
        "@dataclass\n",
        "class OnnxInferenceResult:\n",
        "  model_inference_time: [int]  \n",
        "  optimized_model_path: str"
      ],
      "execution_count": null,
      "outputs": []
    },
    {
      "cell_type": "code",
      "metadata": {
        "id": "Vlm6I33CbIHW"
      },
      "source": [
        "torch_model = AutoModelForSeq2SeqLM.from_pretrained(\"t5-small\")"
      ],
      "execution_count": null,
      "outputs": []
    },
    {
      "cell_type": "code",
      "metadata": {
        "id": "GlVF-M-nbIHZ"
      },
      "source": [
        "ARTICLE_SUBWAY = 'summarize: New York (CNN)When Liana Barrientos was 23 years old, she got married in Westchester County, New York. A year later, she got married again in Westchester County, but to a different man and without divorcing her first husband.  Only 18 days after that marriage, she got hitched yet again. Then, Barrientos declared \"I do\" five more times, sometimes only within two weeks of each other. In 2010, she married once more, this time in the Bronx. In an application for a marriage license, she stated it was her \"first and only\" marriage. Barrientos, now 39, is facing two criminal counts of \"offering a false instrument for filing in the first degree,\" referring to her false statements on the 2010 marriage license application, according to court documents. Prosecutors said the marriages were part of an immigration scam. On Friday, she pleaded not guilty at State Supreme Court in the Bronx, according to her attorney, Christopher Wright, who declined to comment further. After leaving court, Barrientos was arrested and charged with theft of service and criminal trespass for allegedly sneaking into the New York subway through an emergency exit, said Detective Annette Markowski, a police spokeswoman. In total, Barrientos has been married 10 times, with nine of her marriages occurring between 1999 and 2002.  All occurred either in Westchester County, Long Island, New Jersey or the Bronx. She is believed to still be married to four men, and at one time, she was married to eight men at once, prosecutors say. Prosecutors said the immigration scam involved some of her husbands, who filed for permanent residence status shortly after the marriages.  Any divorces happened only after such filings were approved. It was unclear whether any of the men will be prosecuted. The case was referred to the Bronx District Attorney\\'s Office by Immigration and Customs Enforcement and the Department of Homeland Security\\'s Investigation Division. Seven of the men are from so-called \"red-flagged\" countries, including Egypt, Turkey, Georgia, Pakistan and Mali. Her eighth husband, Rashid Rajput, was deported in 2006 to his native Pakistan after an investigation by the Joint Terrorism Task Force. If convicted, Barrientos faces up to four years in prison.  Her next court appearance is scheduled for May 18.'\n",
        "enc = tokenizer(ARTICLE_SUBWAY, truncation=True, return_tensors=\"pt\")"
      ],
      "execution_count": null,
      "outputs": []
    },
    {
      "cell_type": "code",
      "metadata": {
        "id": "l-o34YgWbIHc",
        "outputId": "eb9f3d82-6395-46bf-c148-78abb5415c8e"
      },
      "source": [
        "models = [(\"torch\", torch_model), (\"onnx\", onnx_model)]\n",
        "results = {}\n",
        "for label, model in models:\n",
        "    # Compute \n",
        "    time_buffer = []\n",
        "    for _ in trange(100, desc=f\"Tracking inference time for {label}\"):\n",
        "        with track_infer_time(time_buffer):\n",
        "            model.generate(\n",
        "                **enc,\n",
        "                num_beams=4,\n",
        "                length_penalty=2.0,\n",
        "                max_length=142,\n",
        "                min_length=56,\n",
        "                no_repeat_ngram_size=3,\n",
        "                do_sample=False,\n",
        "                early_stopping=True\n",
        "            )\n",
        "\n",
        "        # Store the result\n",
        "        results[label] = OnnxInferenceResult(\n",
        "            time_buffer, \n",
        "            None\n",
        "        )"
      ],
      "execution_count": null,
      "outputs": [
        {
          "output_type": "stream",
          "text": [
            "Tracking inference time for torch: 100%|██████████| 100/100 [07:56<00:00,  4.76s/it]\n",
            "Tracking inference time for onnx:   0%|          | 0/100 [00:00<?, ?it/s]/usr/local/lib/python3.7/dist-packages/ipykernel_launcher.py:19: DeprecationWarning: inspect.getargspec() is deprecated since Python 3.0, use inspect.signature() or inspect.getfullargspec()\n",
            "Tracking inference time for onnx: 100%|██████████| 100/100 [06:00<00:00,  3.60s/it]\n"
          ],
          "name": "stderr"
        }
      ]
    },
    {
      "cell_type": "code",
      "metadata": {
        "id": "Tu0pyvqgbIHe",
        "outputId": "84fcd461-58b3-4363-9fda-e30f3c78744e"
      },
      "source": [
        "plot_benchmark(results)"
      ],
      "execution_count": null,
      "outputs": [
        {
          "output_type": "display_data",
          "data": {
            "image/png": "[encoded data removed]",
            "text/plain": [
              "<Figure size 1000x800 with 1 Axes>"
            ]
          },
          "metadata": {
            "tags": []
          }
        }
      ]
    },
    {
      "cell_type": "code",
      "metadata": {
        "id": "4UoA7UYdbIHh"
      },
      "source": [
        "en_text = 'translate English to French: This image section from an infrared recording by the Spitzer telescope shows a \"family portrait\" of countless generations of stars: the oldest stars are seen as blue dots. '\n",
        "enc = tokenizer(en_text, truncation=True, return_tensors=\"pt\")"
      ],
      "execution_count": null,
      "outputs": []
    },
    {
      "cell_type": "code",
      "metadata": {
        "id": "UwDhA-jEbIHm",
        "outputId": "a90a4e2e-6d83-4c55-b7af-87af14cf60d6"
      },
      "source": [
        "results = {}\n",
        "for label, model in models:\n",
        "    # Compute \n",
        "    time_buffer = []\n",
        "    for _ in trange(100, desc=f\"Tracking inference time for {label}\"):\n",
        "        with track_infer_time(time_buffer):\n",
        "            model.generate(\n",
        "                **enc,\n",
        "                num_beams=4,\n",
        "                length_penalty=2.0,\n",
        "                max_length=100,\n",
        "                no_repeat_ngram_size=3,\n",
        "                do_sample=False,\n",
        "                early_stopping=True,\n",
        "            )\n",
        "\n",
        "        # Store the result\n",
        "        results[label] = OnnxInferenceResult(\n",
        "            time_buffer, \n",
        "            None\n",
        "        )"
      ],
      "execution_count": null,
      "outputs": [
        {
          "output_type": "stream",
          "text": [
            "Tracking inference time for torch: 100%|██████████| 100/100 [04:40<00:00,  2.81s/it]\n",
            "Tracking inference time for onnx:   0%|          | 0/100 [00:00<?, ?it/s]/usr/local/lib/python3.7/dist-packages/ipykernel_launcher.py:19: DeprecationWarning: inspect.getargspec() is deprecated since Python 3.0, use inspect.signature() or inspect.getfullargspec()\n",
            "Tracking inference time for onnx: 100%|██████████| 100/100 [03:14<00:00,  1.95s/it]\n"
          ],
          "name": "stderr"
        }
      ]
    },
    {
      "cell_type": "code",
      "metadata": {
        "id": "xruAeqstbIHq",
        "outputId": "0c902396-18ed-46e0-fd6e-cda34abf614f"
      },
      "source": [
        "plot_benchmark(results)"
      ],
      "execution_count": null,
      "outputs": [
        {
          "output_type": "display_data",
          "data": {
            "image/png": "[encoded data removed]",
            "text/plain": [
              "<Figure size 1000x800 with 1 Axes>"
            ]
          },
          "metadata": {
            "tags": []
          }
        }
      ]
    },
    {
      "cell_type": "code",
      "metadata": {
        "id": "gwmFWO25bIHt"
      },
      "source": [
        ""
      ],
      "execution_count": null,
      "outputs": []
    }
  ]
}