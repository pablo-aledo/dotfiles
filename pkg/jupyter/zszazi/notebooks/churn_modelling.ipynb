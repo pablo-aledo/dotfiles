{
  "nbformat": 4,
  "nbformat_minor": 0,
  "metadata": {
    "colab": {
      "name": "churn_modelling.ipynb",
      "version": "0.3.2",
      "provenance": [],
      "include_colab_link": true
    },
    "kernelspec": {
      "name": "python3",
      "display_name": "Python 3"
    }
  },
  "cells": [
    {
      "cell_type": "markdown",
      "metadata": {
        "id": "view-in-github",
        "colab_type": "text"
      },
      "source": [
        "<a href=\"https://colab.research.google.com/github/saicodes/awesome-collection-of-google-colab-notebooks/blob/master/churn_modelling.ipynb\" target=\"_parent\"><img src=\"https://colab.research.google.com/assets/colab-badge.svg\" alt=\"Open In Colab\"/></a>"
      ]
    },
    {
      "metadata": {
        "id": "jiU6NQyQPYAq",
        "colab_type": "code",
        "colab": {
          "base_uri": "https://localhost:8080/",
          "height": 35
        },
        "outputId": "015c4a3b-dc67-4690-b282-42abaf58104a"
      },
      "cell_type": "code",
      "source": [
        "import numpy as np\n",
        "import matplotlib.pyplot as plt\n",
        "import pandas as pd\n",
        "import keras\n",
        "from keras.models import Sequential\n",
        "from keras.layers import Dense\n",
        "from sklearn.preprocessing import LabelEncoder, OneHotEncoder\n",
        "from sklearn.model_selection import train_test_split\n",
        "from sklearn.preprocessing import StandardScaler\n",
        "from sklearn.metrics import confusion_matrix\n"
      ],
      "execution_count": 1,
      "outputs": [
        {
          "output_type": "stream",
          "text": [
            "Using TensorFlow backend.\n"
          ],
          "name": "stderr"
        }
      ]
    },
    {
      "metadata": {
        "id": "ibLmLjDHQPU3",
        "colab_type": "code",
        "colab": {
          "resources": {
            "http://localhost:8080/nbextensions/google.colab/files.js": {
              "data": "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",
              "ok": true,
              "headers": [
                [
                  "content-type",
                  "application/javascript"
                ]
              ],
              "status": 200,
              "status_text": ""
            }
          },
          "base_uri": "https://localhost:8080/",
          "height": 91
        },
        "outputId": "c6c62b64-0bc8-4893-910f-9e1b4b2f4894"
      },
      "cell_type": "code",
      "source": [
        "#upload the dataset from your local machine \n",
        "from google.colab import files\n",
        "\n",
        "uploaded = files.upload()\n",
        "\n",
        "for fn in uploaded.keys():\n",
        "  print('User uploaded file \"{name}\" with length {length} bytes'.format(\n",
        "      name=fn, length=len(uploaded[fn])))"
      ],
      "execution_count": 4,
      "outputs": [
        {
          "output_type": "display_data",
          "data": {
            "text/html": [
              "\n",
              "     <input type=\"file\" id=\"files-18dbcf92-fb09-4c0a-a5a5-4fea4801afa3\" name=\"files[]\" multiple disabled />\n",
              "     <output id=\"result-18dbcf92-fb09-4c0a-a5a5-4fea4801afa3\">\n",
              "      Upload widget is only available when the cell has been executed in the\n",
              "      current browser session. Please rerun this cell to enable.\n",
              "      </output>\n",
              "      <script src=\"/nbextensions/google.colab/files.js\"></script> "
            ],
            "text/plain": [
              "<IPython.core.display.HTML object>"
            ]
          },
          "metadata": {
            "tags": []
          }
        },
        {
          "output_type": "stream",
          "text": [
            "Saving Churn_Modelling.csv to Churn_Modelling.csv\n",
            "User uploaded file \"Churn_Modelling.csv\" with length 684858 bytes\n"
          ],
          "name": "stdout"
        }
      ]
    },
    {
      "metadata": {
        "id": "kZGoyKT0Piux",
        "colab_type": "code",
        "colab": {}
      },
      "cell_type": "code",
      "source": [
        "dataset = pd.read_csv('Churn_Modelling.csv')\n",
        "\n",
        "X = dataset.iloc[:, 3:13].values\n",
        "y = dataset.iloc[:, 13].values\n"
      ],
      "execution_count": 0,
      "outputs": []
    },
    {
      "metadata": {
        "id": "eLwq581MPmEe",
        "colab_type": "code",
        "colab": {}
      },
      "cell_type": "code",
      "source": [
        "labelencoder_X_1 = LabelEncoder()\n",
        "X[:, 1] = labelencoder_X_1.fit_transform(X[:, 1])\n",
        "labelencoder_X_2 = LabelEncoder()\n",
        "X[:, 2] = labelencoder_X_2.fit_transform(X[:, 2])\n",
        "onehotencoder = OneHotEncoder(categorical_features = [1])\n",
        "X = onehotencoder.fit_transform(X).toarray()\n",
        "X = X[:, 1:]"
      ],
      "execution_count": 0,
      "outputs": []
    },
    {
      "metadata": {
        "id": "FssOdDMuPp73",
        "colab_type": "code",
        "colab": {}
      },
      "cell_type": "code",
      "source": [
        "#split the dataset\n",
        "X_train, X_test, y_train, y_test = train_test_split(X, y, test_size = 0.2, random_state = 0)"
      ],
      "execution_count": 0,
      "outputs": []
    },
    {
      "metadata": {
        "id": "V66B8bVaPsWi",
        "colab_type": "code",
        "colab": {}
      },
      "cell_type": "code",
      "source": [
        "#feature scaling\n",
        "sc = StandardScaler()\n",
        "X_train = sc.fit_transform(X_train)\n",
        "X_test = sc.transform(X_test)"
      ],
      "execution_count": 0,
      "outputs": []
    },
    {
      "metadata": {
        "id": "SwFd0g3BPz5F",
        "colab_type": "code",
        "colab": {
          "base_uri": "https://localhost:8080/",
          "height": 141
        },
        "outputId": "6fd612c1-8989-4c6a-9e97-7a1846993209"
      },
      "cell_type": "code",
      "source": [
        "#build a keras Neural Network\n",
        "classifier = Sequential()\n",
        "classifier.add(Dense(output_dim = 6, init = 'uniform', activation = 'relu', input_dim = 11))\n",
        "classifier.add(Dense(output_dim = 6, init = 'uniform', activation = 'relu'))\n",
        "classifier.add(Dense(output_dim = 1, init = 'uniform', activation = 'sigmoid'))\n",
        "classifier.compile(optimizer = 'adam', loss = 'binary_crossentropy', metrics = ['accuracy'])\n"
      ],
      "execution_count": 9,
      "outputs": [
        {
          "output_type": "stream",
          "text": [
            "/usr/local/lib/python3.6/dist-packages/ipykernel_launcher.py:2: UserWarning: Update your `Dense` call to the Keras 2 API: `Dense(activation=\"relu\", input_dim=11, units=6, kernel_initializer=\"uniform\")`\n",
            "  \n",
            "/usr/local/lib/python3.6/dist-packages/ipykernel_launcher.py:3: UserWarning: Update your `Dense` call to the Keras 2 API: `Dense(activation=\"relu\", units=6, kernel_initializer=\"uniform\")`\n",
            "  This is separate from the ipykernel package so we can avoid doing imports until\n",
            "/usr/local/lib/python3.6/dist-packages/ipykernel_launcher.py:4: UserWarning: Update your `Dense` call to the Keras 2 API: `Dense(activation=\"sigmoid\", units=1, kernel_initializer=\"uniform\")`\n",
            "  after removing the cwd from sys.path.\n"
          ],
          "name": "stderr"
        }
      ]
    },
    {
      "metadata": {
        "id": "7ezMHVZrQBgB",
        "colab_type": "code",
        "colab": {
          "base_uri": "https://localhost:8080/",
          "height": 3536
        },
        "outputId": "d0342c6e-c0dd-4ccb-983c-baee558ee411"
      },
      "cell_type": "code",
      "source": [
        "# Fitting the ANN to the Training set\n",
        "classifier.fit(X_train, y_train, batch_size = 10, nb_epoch = 100)"
      ],
      "execution_count": 10,
      "outputs": [
        {
          "output_type": "stream",
          "text": [
            "/usr/local/lib/python3.6/dist-packages/ipykernel_launcher.py:1: UserWarning: The `nb_epoch` argument in `fit` has been renamed `epochs`.\n",
            "  \"\"\"Entry point for launching an IPython kernel.\n"
          ],
          "name": "stderr"
        },
        {
          "output_type": "stream",
          "text": [
            "Epoch 1/100\n",
            "8000/8000 [==============================] - 1s 158us/step - loss: 0.4915 - acc: 0.7962\n",
            "Epoch 2/100\n",
            "8000/8000 [==============================] - 1s 92us/step - loss: 0.4276 - acc: 0.7960\n",
            "Epoch 3/100\n",
            "8000/8000 [==============================] - 1s 90us/step - loss: 0.4226 - acc: 0.7960\n",
            "Epoch 4/100\n",
            "8000/8000 [==============================] - 1s 90us/step - loss: 0.4187 - acc: 0.8106\n",
            "Epoch 5/100\n",
            "8000/8000 [==============================] - 1s 90us/step - loss: 0.4132 - acc: 0.8305\n",
            "Epoch 6/100\n",
            "8000/8000 [==============================] - 1s 90us/step - loss: 0.4091 - acc: 0.8324\n",
            "Epoch 7/100\n",
            "8000/8000 [==============================] - 1s 92us/step - loss: 0.4064 - acc: 0.8339\n",
            "Epoch 8/100\n",
            "8000/8000 [==============================] - 1s 92us/step - loss: 0.4046 - acc: 0.8335\n",
            "Epoch 9/100\n",
            "8000/8000 [==============================] - 1s 92us/step - loss: 0.4028 - acc: 0.8351\n",
            "Epoch 10/100\n",
            "8000/8000 [==============================] - 1s 93us/step - loss: 0.4012 - acc: 0.8357\n",
            "Epoch 11/100\n",
            "8000/8000 [==============================] - 1s 92us/step - loss: 0.4008 - acc: 0.8341\n",
            "Epoch 12/100\n",
            "8000/8000 [==============================] - 1s 91us/step - loss: 0.4000 - acc: 0.8330\n",
            "Epoch 13/100\n",
            "8000/8000 [==============================] - 1s 91us/step - loss: 0.3994 - acc: 0.8349\n",
            "Epoch 14/100\n",
            "8000/8000 [==============================] - 1s 91us/step - loss: 0.3987 - acc: 0.8349\n",
            "Epoch 15/100\n",
            "8000/8000 [==============================] - 1s 90us/step - loss: 0.3985 - acc: 0.8349\n",
            "Epoch 16/100\n",
            "8000/8000 [==============================] - 1s 92us/step - loss: 0.3984 - acc: 0.8327\n",
            "Epoch 17/100\n",
            "8000/8000 [==============================] - 1s 91us/step - loss: 0.3978 - acc: 0.8341\n",
            "Epoch 18/100\n",
            "8000/8000 [==============================] - 1s 93us/step - loss: 0.3976 - acc: 0.8356\n",
            "Epoch 19/100\n",
            "8000/8000 [==============================] - 1s 93us/step - loss: 0.3975 - acc: 0.8354\n",
            "Epoch 20/100\n",
            "8000/8000 [==============================] - 1s 91us/step - loss: 0.3973 - acc: 0.8347\n",
            "Epoch 21/100\n",
            "8000/8000 [==============================] - 1s 91us/step - loss: 0.3970 - acc: 0.8362\n",
            "Epoch 22/100\n",
            "8000/8000 [==============================] - 1s 93us/step - loss: 0.3967 - acc: 0.8354\n",
            "Epoch 23/100\n",
            "8000/8000 [==============================] - 1s 91us/step - loss: 0.3968 - acc: 0.8346\n",
            "Epoch 24/100\n",
            "8000/8000 [==============================] - 1s 91us/step - loss: 0.3967 - acc: 0.8361\n",
            "Epoch 25/100\n",
            "8000/8000 [==============================] - 1s 92us/step - loss: 0.3961 - acc: 0.8351\n",
            "Epoch 26/100\n",
            "8000/8000 [==============================] - 1s 92us/step - loss: 0.3965 - acc: 0.8366\n",
            "Epoch 27/100\n",
            "8000/8000 [==============================] - 1s 93us/step - loss: 0.3960 - acc: 0.8335\n",
            "Epoch 28/100\n",
            "8000/8000 [==============================] - 1s 95us/step - loss: 0.3961 - acc: 0.8355\n",
            "Epoch 29/100\n",
            "8000/8000 [==============================] - 1s 93us/step - loss: 0.3962 - acc: 0.8344\n",
            "Epoch 30/100\n",
            "8000/8000 [==============================] - 1s 92us/step - loss: 0.3959 - acc: 0.8355\n",
            "Epoch 31/100\n",
            "8000/8000 [==============================] - 1s 91us/step - loss: 0.3955 - acc: 0.8349\n",
            "Epoch 32/100\n",
            "8000/8000 [==============================] - 1s 94us/step - loss: 0.3952 - acc: 0.8355\n",
            "Epoch 33/100\n",
            "8000/8000 [==============================] - 1s 95us/step - loss: 0.3947 - acc: 0.8360\n",
            "Epoch 34/100\n",
            "8000/8000 [==============================] - 1s 95us/step - loss: 0.3949 - acc: 0.8367\n",
            "Epoch 35/100\n",
            "8000/8000 [==============================] - 1s 98us/step - loss: 0.3941 - acc: 0.8361\n",
            "Epoch 36/100\n",
            "8000/8000 [==============================] - 1s 98us/step - loss: 0.3929 - acc: 0.8371\n",
            "Epoch 37/100\n",
            "8000/8000 [==============================] - 1s 97us/step - loss: 0.3909 - acc: 0.8384\n",
            "Epoch 38/100\n",
            "8000/8000 [==============================] - 1s 96us/step - loss: 0.3891 - acc: 0.8370\n",
            "Epoch 39/100\n",
            "8000/8000 [==============================] - 1s 97us/step - loss: 0.3856 - acc: 0.8350\n",
            "Epoch 40/100\n",
            "8000/8000 [==============================] - 1s 93us/step - loss: 0.3818 - acc: 0.8364\n",
            "Epoch 41/100\n",
            "8000/8000 [==============================] - 1s 91us/step - loss: 0.3804 - acc: 0.8365\n",
            "Epoch 42/100\n",
            "8000/8000 [==============================] - 1s 94us/step - loss: 0.3785 - acc: 0.8365\n",
            "Epoch 43/100\n",
            "8000/8000 [==============================] - 1s 96us/step - loss: 0.3768 - acc: 0.8367\n",
            "Epoch 44/100\n",
            "8000/8000 [==============================] - 1s 92us/step - loss: 0.3736 - acc: 0.8365\n",
            "Epoch 45/100\n",
            "8000/8000 [==============================] - 1s 92us/step - loss: 0.3718 - acc: 0.8417\n",
            "Epoch 46/100\n",
            "8000/8000 [==============================] - 1s 92us/step - loss: 0.3703 - acc: 0.8429\n",
            "Epoch 47/100\n",
            "8000/8000 [==============================] - 1s 92us/step - loss: 0.3686 - acc: 0.8467\n",
            "Epoch 48/100\n",
            "8000/8000 [==============================] - 1s 92us/step - loss: 0.3666 - acc: 0.8467\n",
            "Epoch 49/100\n",
            "8000/8000 [==============================] - 1s 91us/step - loss: 0.3650 - acc: 0.8460\n",
            "Epoch 50/100\n",
            "8000/8000 [==============================] - 1s 90us/step - loss: 0.3641 - acc: 0.8497\n",
            "Epoch 51/100\n",
            "8000/8000 [==============================] - 1s 94us/step - loss: 0.3620 - acc: 0.8512\n",
            "Epoch 52/100\n",
            "8000/8000 [==============================] - 1s 91us/step - loss: 0.3601 - acc: 0.8519\n",
            "Epoch 53/100\n",
            "8000/8000 [==============================] - 1s 91us/step - loss: 0.3570 - acc: 0.8542\n",
            "Epoch 54/100\n",
            "8000/8000 [==============================] - 1s 91us/step - loss: 0.3554 - acc: 0.8545\n",
            "Epoch 55/100\n",
            "8000/8000 [==============================] - 1s 91us/step - loss: 0.3541 - acc: 0.8570\n",
            "Epoch 56/100\n",
            "8000/8000 [==============================] - 1s 92us/step - loss: 0.3530 - acc: 0.8590\n",
            "Epoch 57/100\n",
            "8000/8000 [==============================] - 1s 93us/step - loss: 0.3515 - acc: 0.8604\n",
            "Epoch 58/100\n",
            "8000/8000 [==============================] - 1s 90us/step - loss: 0.3508 - acc: 0.8582\n",
            "Epoch 59/100\n",
            "8000/8000 [==============================] - 1s 91us/step - loss: 0.3496 - acc: 0.8594\n",
            "Epoch 60/100\n",
            "8000/8000 [==============================] - 1s 92us/step - loss: 0.3498 - acc: 0.8585\n",
            "Epoch 61/100\n",
            "8000/8000 [==============================] - 1s 90us/step - loss: 0.3487 - acc: 0.8601\n",
            "Epoch 62/100\n",
            "8000/8000 [==============================] - 1s 92us/step - loss: 0.3476 - acc: 0.8625\n",
            "Epoch 63/100\n",
            "8000/8000 [==============================] - 1s 91us/step - loss: 0.3469 - acc: 0.8595\n",
            "Epoch 64/100\n",
            "8000/8000 [==============================] - 1s 90us/step - loss: 0.3469 - acc: 0.8607\n",
            "Epoch 65/100\n",
            "8000/8000 [==============================] - 1s 91us/step - loss: 0.3455 - acc: 0.8604\n",
            "Epoch 66/100\n",
            "8000/8000 [==============================] - 1s 91us/step - loss: 0.3452 - acc: 0.8627\n",
            "Epoch 67/100\n",
            "8000/8000 [==============================] - 1s 91us/step - loss: 0.3448 - acc: 0.8624\n",
            "Epoch 68/100\n",
            "8000/8000 [==============================] - 1s 92us/step - loss: 0.3447 - acc: 0.8632\n",
            "Epoch 69/100\n",
            "8000/8000 [==============================] - 1s 91us/step - loss: 0.3441 - acc: 0.8616\n",
            "Epoch 70/100\n",
            "8000/8000 [==============================] - 1s 91us/step - loss: 0.3435 - acc: 0.8614\n",
            "Epoch 71/100\n",
            "8000/8000 [==============================] - 1s 92us/step - loss: 0.3432 - acc: 0.8627\n",
            "Epoch 72/100\n",
            "8000/8000 [==============================] - 1s 90us/step - loss: 0.3437 - acc: 0.8620\n",
            "Epoch 73/100\n",
            "8000/8000 [==============================] - 1s 89us/step - loss: 0.3422 - acc: 0.8612\n",
            "Epoch 74/100\n",
            "8000/8000 [==============================] - 1s 91us/step - loss: 0.3417 - acc: 0.8625\n",
            "Epoch 75/100\n",
            "8000/8000 [==============================] - 1s 92us/step - loss: 0.3419 - acc: 0.8606\n",
            "Epoch 76/100\n",
            "8000/8000 [==============================] - 1s 91us/step - loss: 0.3417 - acc: 0.8616\n",
            "Epoch 77/100\n",
            "8000/8000 [==============================] - 1s 90us/step - loss: 0.3410 - acc: 0.8615\n",
            "Epoch 78/100\n",
            "8000/8000 [==============================] - 1s 93us/step - loss: 0.3408 - acc: 0.8637\n",
            "Epoch 79/100\n",
            "8000/8000 [==============================] - 1s 92us/step - loss: 0.3408 - acc: 0.8639\n",
            "Epoch 80/100\n",
            "8000/8000 [==============================] - 1s 91us/step - loss: 0.3404 - acc: 0.8620\n",
            "Epoch 81/100\n",
            "8000/8000 [==============================] - 1s 92us/step - loss: 0.3406 - acc: 0.8629\n",
            "Epoch 82/100\n",
            "8000/8000 [==============================] - 1s 91us/step - loss: 0.3394 - acc: 0.8621\n",
            "Epoch 83/100\n",
            "8000/8000 [==============================] - 1s 92us/step - loss: 0.3396 - acc: 0.8629\n",
            "Epoch 84/100\n",
            "8000/8000 [==============================] - 1s 92us/step - loss: 0.3398 - acc: 0.8622\n",
            "Epoch 85/100\n",
            "8000/8000 [==============================] - 1s 90us/step - loss: 0.3398 - acc: 0.8614\n",
            "Epoch 86/100\n",
            "8000/8000 [==============================] - 1s 92us/step - loss: 0.3389 - acc: 0.8624\n",
            "Epoch 87/100\n",
            "8000/8000 [==============================] - 1s 92us/step - loss: 0.3390 - acc: 0.8626\n",
            "Epoch 88/100\n",
            "8000/8000 [==============================] - 1s 92us/step - loss: 0.3394 - acc: 0.8620\n",
            "Epoch 89/100\n",
            "8000/8000 [==============================] - 1s 90us/step - loss: 0.3386 - acc: 0.8627\n",
            "Epoch 90/100\n",
            "8000/8000 [==============================] - 1s 91us/step - loss: 0.3385 - acc: 0.8625\n",
            "Epoch 91/100\n",
            "8000/8000 [==============================] - 1s 91us/step - loss: 0.3386 - acc: 0.8641\n",
            "Epoch 92/100\n",
            "8000/8000 [==============================] - 1s 91us/step - loss: 0.3386 - acc: 0.8611\n",
            "Epoch 93/100\n",
            "8000/8000 [==============================] - 1s 91us/step - loss: 0.3387 - acc: 0.8624\n",
            "Epoch 94/100\n",
            "8000/8000 [==============================] - 1s 91us/step - loss: 0.3392 - acc: 0.8631\n",
            "Epoch 95/100\n",
            "8000/8000 [==============================] - 1s 91us/step - loss: 0.3387 - acc: 0.8622\n",
            "Epoch 96/100\n",
            "8000/8000 [==============================] - 1s 92us/step - loss: 0.3377 - acc: 0.8626\n",
            "Epoch 97/100\n",
            "8000/8000 [==============================] - 1s 91us/step - loss: 0.3384 - acc: 0.8625\n",
            "Epoch 98/100\n",
            "8000/8000 [==============================] - 1s 92us/step - loss: 0.3372 - acc: 0.8635\n",
            "Epoch 99/100\n",
            "8000/8000 [==============================] - 1s 93us/step - loss: 0.3375 - acc: 0.8637\n",
            "Epoch 100/100\n",
            "8000/8000 [==============================] - 1s 93us/step - loss: 0.3375 - acc: 0.8624\n"
          ],
          "name": "stdout"
        },
        {
          "output_type": "execute_result",
          "data": {
            "text/plain": [
              "<keras.callbacks.History at 0x7ff999a1ce48>"
            ]
          },
          "metadata": {
            "tags": []
          },
          "execution_count": 10
        }
      ]
    },
    {
      "metadata": {
        "id": "XN65kOF7QIKE",
        "colab_type": "code",
        "colab": {}
      },
      "cell_type": "code",
      "source": [
        "# Predicting the Test set results\n",
        "y_pred = classifier.predict(X_test)\n",
        "y_pred = (y_pred > 0.5)"
      ],
      "execution_count": 0,
      "outputs": []
    },
    {
      "metadata": {
        "id": "FOHMZr-3QLHS",
        "colab_type": "code",
        "colab": {}
      },
      "cell_type": "code",
      "source": [
        "#confusion matrix\n",
        "cm = confusion_matrix(y_test, y_pred)"
      ],
      "execution_count": 0,
      "outputs": []
    },
    {
      "metadata": {
        "id": "2sF-JwdXRDo2",
        "colab_type": "code",
        "colab": {
          "base_uri": "https://localhost:8080/",
          "height": 52
        },
        "outputId": "67a77ef7-ba62-4cd4-8426-9db46187e572"
      },
      "cell_type": "code",
      "source": [
        "cm"
      ],
      "execution_count": 13,
      "outputs": [
        {
          "output_type": "execute_result",
          "data": {
            "text/plain": [
              "array([[1526,   69],\n",
              "       [ 205,  200]])"
            ]
          },
          "metadata": {
            "tags": []
          },
          "execution_count": 13
        }
      ]
    },
    {
      "metadata": {
        "id": "VCKSuLYyREXW",
        "colab_type": "code",
        "colab": {}
      },
      "cell_type": "code",
      "source": [
        ""
      ],
      "execution_count": 0,
      "outputs": []
    }
  ]
}