{
  "nbformat": 4,
  "nbformat_minor": 0,
  "metadata": {
    "colab": {
      "name": "Edge detection.ipynb",
      "provenance": []
    },
    "kernelspec": {
      "name": "python3",
      "display_name": "Python 3"
    }
  },
  "cells": [
    {
      "cell_type": "markdown",
      "metadata": {
        "id": "BA_z4NS5Z5Gj"
      },
      "source": [
        "## Edge detection in OpenCV and skimage"
      ]
    },
    {
      "cell_type": "code",
      "metadata": {
        "id": "5cTsSz1sZ3R8"
      },
      "source": [
        "!wget https://pns2019.github.io/images/Lenna.png"
      ],
      "execution_count": null,
      "outputs": []
    },
    {
      "cell_type": "markdown",
      "metadata": {
        "id": "9IIT0NFCZ6KB"
      },
      "source": [
        "### Edge detection in OpenCV"
      ]
    },
    {
      "cell_type": "code",
      "metadata": {
        "id": "lMFkvF36Z6Rl"
      },
      "source": [
        "import cv2\n",
        "import numpy as np\n",
        "from matplotlib import pyplot as plt\n",
        "\n",
        "# read image\n",
        "img = cv2.imread(\"Lenna.png\", 0)\n",
        "# Find edge with Canny edge detection\n",
        "edges = cv2.Canny(img, 100, 200)\n",
        "\n",
        "# display results\n",
        "plt.subplot(121), plt.imshow(img, cmap='gray')\n",
        "plt.title('Original Image'), plt.xticks([]), plt.yticks([])\n",
        "plt.subplot(122), plt.imshow(edges, cmap='gray')\n",
        "plt.title('Edge Image'), plt.xticks([]), plt.yticks([])\n",
        "\n",
        "plt.show()"
      ],
      "execution_count": null,
      "outputs": []
    },
    {
      "cell_type": "markdown",
      "metadata": {
        "id": "Zxx9Ty3vZ6Y8"
      },
      "source": [
        "### Edge detection in skimage"
      ]
    },
    {
      "cell_type": "code",
      "metadata": {
        "id": "Wa5wz4Y5Z6f_"
      },
      "source": [
        "import numpy as np\n",
        "from skimage.io import imread\n",
        "from skimage.feature import canny\n",
        "\n",
        "import matplotlib.pyplot as plt\n",
        "\n",
        "# read image\n",
        "img = imread(\"Lenna.png\", as_grey=True)\n",
        "\n",
        "# find edge with Canny edge detection\n",
        "edges = canny(img)\n",
        "\n",
        "# display results\n",
        "plt.subplot(121), plt.imshow(img, cmap='gray')\n",
        "plt.title('Original Image'), plt.xticks([]), plt.yticks([])\n",
        "plt.subplot(122), plt.imshow(edges, cmap='gray')\n",
        "plt.title('Edge Image'), plt.xticks([]), plt.yticks([])\n",
        "\n",
        "plt.show()"
      ],
      "execution_count": null,
      "outputs": []
    }
  ]
}