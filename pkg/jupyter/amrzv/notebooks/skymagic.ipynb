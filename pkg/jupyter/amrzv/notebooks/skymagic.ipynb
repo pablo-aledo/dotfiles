{
  "nbformat": 4,
  "nbformat_minor": 0,
  "metadata": {
    "colab": {
      "name": "skymagic.ipynb",
      "provenance": [],
      "collapsed_sections": []
    },
    "kernelspec": {
      "name": "python3",
      "display_name": "Python 3"
    },
    "accelerator": "GPU"
  },
  "cells": [
    {
      "cell_type": "markdown",
      "metadata": {
        "id": "4itFIDV_oEKF"
      },
      "source": [
        "This notebook provides an minimal working example of the sky augmentation in the preprint paper \"Castle in the Sky: Dynamic Sky Replacement and Harmonization in Videos, arXiv:2010.11800\"\n",
        "\n",
        "[Project Page](https://jiupinjia.github.io/skyar/) | [GitHub](https://github.com/jiupinjia/SkyAR) | [Preprint](https://arxiv.org/abs/2010.11800)"
      ]
    },
    {
      "cell_type": "markdown",
      "metadata": {
        "id": "-xQW_hCCpFw0"
      },
      "source": [
        "<a rel=\"license\" href=\"http://creativecommons.org/licenses/by-nc-sa/4.0/\"><img alt=\"Creative Commons License\" style=\"border-width:0\" src=\"https://i.creativecommons.org/l/by-nc-sa/4.0/88x31.png\" /></a><span xmlns:dct=\"http://purl.org/dc/terms/\" property=\"dct:title\">   The project </a> is licensed under a <a rel=\"license\" href=\"http://creativecommons.org/licenses/by-nc-sa/4.0/\">Creative Commons Attribution-NonCommercial-ShareAlike 4.0 International License</a>."
      ]
    },
    {
      "cell_type": "code",
      "metadata": {
        "id": "DmC4U9qQWXqx",
        "colab": {
          "base_uri": "https://localhost:8080/",
          "height": 117
        },
        "outputId": "4dd5f90b-53bb-4084-b18c-0ca2f5c86466"
      },
      "source": [
        "# Clone the repository\n",
        "!git clone https://github.com/jiupinjia/SkyAR.git"
      ],
      "execution_count": null,
      "outputs": [
        {
          "output_type": "stream",
          "text": [
            "Cloning into 'SkyAR'...\n",
            "remote: Enumerating objects: 84, done.\u001b[K\n",
            "remote: Counting objects: 100% (84/84), done.\u001b[K\n",
            "remote: Compressing objects: 100% (81/81), done.\u001b[K\n",
            "remote: Total 84 (delta 28), reused 0 (delta 0), pack-reused 0\u001b[K\n",
            "Unpacking objects: 100% (84/84), done.\n"
          ],
          "name": "stdout"
        }
      ]
    },
    {
      "cell_type": "code",
      "metadata": {
        "id": "U1X2rMdVDKqh",
        "colab": {
          "base_uri": "https://localhost:8080/",
          "height": 33
        },
        "outputId": "fd259ee6-29aa-4fe6-d51c-b70d57007195"
      },
      "source": [
        "cd SkyAR"
      ],
      "execution_count": null,
      "outputs": [
        {
          "output_type": "stream",
          "text": [
            "/content/SkyAR/SkyAR\n"
          ],
          "name": "stdout"
        }
      ]
    },
    {
      "cell_type": "code",
      "metadata": {
        "id": "XalDZNpvnDRD"
      },
      "source": [
        "import numpy as np\n",
        "import matplotlib.pyplot as plt\n",
        "import cv2\n",
        "import os\n",
        "import argparse\n",
        "from networks import *\n",
        "from skyboxengine import *\n",
        "import utils\n",
        "import torch\n",
        "\n",
        "%matplotlib inline\n",
        "\n",
        "# Decide which device we want to run on\n",
        "device = torch.device(\"cuda:0\" if torch.cuda.is_available() else \"cpu\")"
      ],
      "execution_count": null,
      "outputs": []
    },
    {
      "cell_type": "markdown",
      "metadata": {
        "id": "SKOmgkkRnREy"
      },
      "source": [
        "Download pretrained sky matting model"
      ]
    },
    {
      "cell_type": "code",
      "metadata": {
        "id": "AkPaMrzPBSO1"
      },
      "source": [
        "# download and unzip...\n",
        "file_id = '1COMROzwR4R_7mym6DL9LXhHQlJmJaV0J'\n",
        "file_name = 'checkpoints_G_coord_resnet50.zip'\n",
        "\n",
        "!gdown --id {file_id}\n",
        "!unzip {file_name}"
      ],
      "execution_count": null,
      "outputs": []
    },
    {
      "cell_type": "markdown",
      "metadata": {
        "id": "ZUyCpseJpj5C"
      },
      "source": [
        "Config your model..."
      ]
    },
    {
      "cell_type": "code",
      "metadata": {
        "id": "l62axCuysto0"
      },
      "source": [
        "parser = argparse.ArgumentParser(description='SKYAR')\n",
        "args = utils.parse_config(path_to_json='./config/config-annarbor-castle.json')"
      ],
      "execution_count": null,
      "outputs": []
    },
    {
      "cell_type": "code",
      "metadata": {
        "id": "GNwtyvQZm_2v"
      },
      "source": [
        "# config the following if you would like to see a different stlyle\n",
        "\n",
        "# args.net_G = \"coord_resnet50\"\n",
        "# args.ckptdir = \"./checkpoints_G_coord_resnet50\"\n",
        "\n",
        "# args.datadir = \"./test_videos/annarbor.mp4\" # choose a foreground video\n",
        "# args.skybox = \"floatingcastle.jpg\" # choose a skybox template\n",
        "\n",
        "# args.in_size_w = 384 # input size to sky matting model\n",
        "# args.in_size_h = 384 # ...\n",
        "# args.out_size_w = 845 # output video resolution\n",
        "# args.out_size_h = 480 # ...\n",
        "\n",
        "# args.skybox_center_crop = 0.5 # view of the virtual camera\n",
        "# args.auto_light_matching = False\n",
        "# args.relighting_factor = 0.8\n",
        "# args.recoloring_factor = 0.5\n",
        "# args.halo_effect = True"
      ],
      "execution_count": null,
      "outputs": []
    },
    {
      "cell_type": "markdown",
      "metadata": {
        "id": "Wfl3IeelrBOQ"
      },
      "source": [
        "Define some helper functions of the skyfilter"
      ]
    },
    {
      "cell_type": "code",
      "metadata": {
        "id": "TdVe4HxHvw-C"
      },
      "source": [
        "class SkyFilter():\n",
        "\n",
        "    def __init__(self, args):\n",
        "\n",
        "        self.ckptdir = args.ckptdir\n",
        "        self.datadir = args.datadir\n",
        "        self.input_mode = args.input_mode\n",
        "\n",
        "        self.in_size_w, self.in_size_h = args.in_size_w, args.in_size_h\n",
        "        self.out_size_w, self.out_size_h = args.out_size_w, args.out_size_h\n",
        "\n",
        "        self.skyboxengine = SkyBox(args)\n",
        "\n",
        "        self.net_G = define_G(input_nc=3, output_nc=1, ngf=64, netG=args.net_G).to(device)\n",
        "        self.load_model()\n",
        "\n",
        "        self.video_writer = cv2.VideoWriter('demo.avi',\n",
        "                                            cv2.VideoWriter_fourcc(*'MJPG'),\n",
        "                                            20.0,\n",
        "                                            (args.out_size_w, args.out_size_h))\n",
        "        self.video_writer_cat = cv2.VideoWriter('demo-cat.avi',\n",
        "                                                cv2.VideoWriter_fourcc(*'MJPG'),\n",
        "                                                20.0,\n",
        "                                                (2*args.out_size_w, args.out_size_h))\n",
        "\n",
        "        if os.path.exists(args.output_dir) is False:\n",
        "            os.mkdir(args.output_dir)\n",
        "\n",
        "        self.output_img_list = []\n",
        "\n",
        "        self.save_jpgs = args.save_jpgs\n",
        "\n",
        "\n",
        "    def load_model(self):\n",
        "        # load pretrained sky matting model\n",
        "        print('loading the best checkpoint...')\n",
        "        checkpoint = torch.load(os.path.join(self.ckptdir, 'best_ckpt.pt'),\n",
        "                                map_location=device)\n",
        "        self.net_G.load_state_dict(checkpoint['model_G_state_dict'])\n",
        "        self.net_G.to(device)\n",
        "        self.net_G.eval()\n",
        "\n",
        "\n",
        "    def write_video(self, img_HD, syneth):\n",
        "\n",
        "        frame = np.array(255.0 * syneth[:, :, ::-1], dtype=np.uint8)\n",
        "        self.video_writer.write(frame)\n",
        "\n",
        "        frame_cat = np.concatenate([img_HD, syneth], axis=1)\n",
        "        frame_cat = np.array(255.0 * frame_cat[:, :, ::-1], dtype=np.uint8)\n",
        "        self.video_writer_cat.write(frame_cat)\n",
        "\n",
        "        # define a result buffer\n",
        "        self.output_img_list.append(frame_cat)\n",
        "\n",
        "\n",
        "    def synthesize(self, img_HD, img_HD_prev):\n",
        "\n",
        "        h, w, c = img_HD.shape\n",
        "\n",
        "        img = cv2.resize(img_HD, (self.in_size_w, self.in_size_h))\n",
        "\n",
        "        img = np.array(img, dtype=np.float32)\n",
        "        img = torch.tensor(img).permute([2, 0, 1]).unsqueeze(0)\n",
        "\n",
        "        with torch.no_grad():\n",
        "            G_pred = self.net_G(img.to(device))\n",
        "            G_pred = torch.nn.functional.interpolate(G_pred,\n",
        "                                                     (h, w),\n",
        "                                                     mode='bicubic',\n",
        "                                                     align_corners=False)\n",
        "            G_pred = G_pred[0, :].permute([1, 2, 0])\n",
        "            G_pred = torch.cat([G_pred, G_pred, G_pred], dim=-1)\n",
        "            G_pred = np.array(G_pred.detach().cpu())\n",
        "            G_pred = np.clip(G_pred, a_max=1.0, a_min=0.0)\n",
        "\n",
        "        skymask = self.skyboxengine.skymask_refinement(G_pred, img_HD)\n",
        "\n",
        "        syneth = self.skyboxengine.skyblend(img_HD, img_HD_prev, skymask)\n",
        "\n",
        "        return syneth, G_pred, skymask\n",
        "\n",
        "\n",
        "    def cvtcolor_and_resize(self, img_HD):\n",
        "\n",
        "        img_HD = cv2.cvtColor(img_HD, cv2.COLOR_BGR2RGB)\n",
        "        img_HD = np.array(img_HD / 255., dtype=np.float32)\n",
        "        img_HD = cv2.resize(img_HD, (self.out_size_w, self.out_size_h))\n",
        "\n",
        "        return img_HD\n",
        "        \n",
        "\n",
        "    def process_video(self):\n",
        "\n",
        "        # process the video frame-by-frame\n",
        "\n",
        "        cap = cv2.VideoCapture(self.datadir)\n",
        "        m_frames = int(cap.get(cv2.CAP_PROP_FRAME_COUNT))\n",
        "        img_HD_prev = None\n",
        "\n",
        "        for idx in range(m_frames):\n",
        "            ret, frame = cap.read()\n",
        "            if ret:\n",
        "                img_HD = self.cvtcolor_and_resize(frame)\n",
        "\n",
        "                if img_HD_prev is None:\n",
        "                    img_HD_prev = img_HD\n",
        "\n",
        "                syneth, G_pred, skymask = self.synthesize(img_HD, img_HD_prev)\n",
        "\n",
        "                self.write_video(img_HD, syneth)\n",
        "\n",
        "                img_HD_prev = img_HD\n",
        "\n",
        "                if (idx + 1) % 50 == 0:\n",
        "                    print(f'processing video, frame {idx + 1} / {m_frames} ... ')\n",
        "\n",
        "            else:  # if reach the last frame\n",
        "                break"
      ],
      "execution_count": null,
      "outputs": []
    },
    {
      "cell_type": "markdown",
      "metadata": {
        "id": "JIoVi597rl-I"
      },
      "source": [
        "Now you can process your video"
      ]
    },
    {
      "cell_type": "code",
      "metadata": {
        "id": "2NcBPWGTwAvJ",
        "colab": {
          "base_uri": "https://localhost:8080/",
          "height": 150
        },
        "outputId": "8d7af558-d532-49d9-bd24-fdfedb5d257d"
      },
      "source": [
        "sf = SkyFilter(args)\n",
        "sf.process_video()"
      ],
      "execution_count": null,
      "outputs": [
        {
          "output_type": "stream",
          "text": [
            "initialize skybox...\n",
            "initialize network with normal\n",
            "loading the best checkpoint...\n",
            "processing video, frame 1 / 206 ... \n",
            "processing video, frame 51 / 206 ... \n",
            "processing video, frame 101 / 206 ... \n",
            "processing video, frame 151 / 206 ... \n",
            "processing video, frame 201 / 206 ... \n"
          ],
          "name": "stdout"
        }
      ]
    },
    {
      "cell_type": "markdown",
      "metadata": {
        "id": "8sBTihVrt0pP"
      },
      "source": [
        "Check out your results"
      ]
    },
    {
      "cell_type": "code",
      "metadata": {
        "id": "B3VH3vLPt8Il"
      },
      "source": [
        "# Check out your results at './SkyAR/demo.avi' and './SkyAR/demo-cat.avi'.\n",
        "# Download them and enjoy.\n",
        "\n",
        "# If you would like to pre-view your results. Run the following to see the\n",
        "# animated results of the first 40 frames.\n",
        "\n",
        "import matplotlib.animation as animation\n",
        "from IPython.display import HTML\n",
        "\n",
        "fig = plt.figure(figsize=(8, 4))\n",
        "plt.axis('off')\n",
        "ims = [[plt.imshow(img[:, :, ::-1], animated=True)]\n",
        "       for img in sf.output_img_list[0:40]]\n",
        "ani = animation.ArtistAnimation(fig, ims, interval=50)\n",
        "\n",
        "HTML(ani.to_jshtml())"
      ],
      "execution_count": null,
      "outputs": []
    }
  ]
}