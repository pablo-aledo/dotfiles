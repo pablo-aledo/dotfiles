{
  "nbformat": 4,
  "nbformat_minor": 0,
  "metadata": {
    "colab": {
      "name": "Performance RNN.ipynb",
      "provenance": [],
      "toc_visible": true
    },
    "kernelspec": {
      "name": "python2",
      "display_name": "Python 2"
    }
  },
  "cells": [
    {
      "cell_type": "markdown",
      "metadata": {
        "id": "gYGMczS-7rkJ"
      },
      "source": [
        "Copyright 2017 Google LLC.\n",
        "\n",
        "Licensed under the Apache License, Version 2.0 (the \"License\");\n",
        "you may not use this file except in compliance with the License.\n",
        "You may obtain a copy of the License at\n",
        "\n",
        "https://www.apache.org/licenses/LICENSE-2.0\n",
        "\n",
        "Unless required by applicable law or agreed to in writing, software\n",
        "distributed under the License is distributed on an \"AS IS\" BASIS,\n",
        "WITHOUT WARRANTIES OR CONDITIONS OF ANY KIND, either express or implied.\n",
        "See the License for the specific language governing permissions and\n",
        "limitations under the License."
      ]
    },
    {
      "cell_type": "markdown",
      "metadata": {
        "id": "IiIFvcvy7dH5"
      },
      "source": [
        "# Performance RNN\n",
        "\n",
        "### ___Ian Simon, Sageev Oore, Curtis Hawthorne___ ([blog](https://magenta.tensorflow.org/performance-rnn)) ([code](https://github.com/tensorflow/magenta/tree/master/magenta/models/performance_rnn))\n",
        "\n",
        "Performance RNN, an LSTM-based recurrent neural network designed to model polyphonic music with expressive timing and dynamics. This notebook shows you how to generate new performed compositions from a trained model. You'll see how to download a bundle containing a pre-trained model, instantiate and initialize the model and generate new polyphonic performances. The notebook also shows some hyperparameters useful for controlling generation, such as temperature.\n",
        "\n",
        "___\n",
        "\n",
        "This colab notebook is self-contained and should run natively on google cloud. The code and checkpoints can be downloaded separately and run locally, which is recommended if you want to train your own model. Details on how to do this can be found in the [GitHub repo](https://github.com/tensorflow/magenta/tree/master/magenta/models/performance_rnn)."
      ]
    },
    {
      "cell_type": "markdown",
      "metadata": {
        "id": "j79eR9mp_oaH"
      },
      "source": [
        "# Environment Setup\n",
        "\n",
        "Includes package installation for sequence synthesis. May take a few minutes."
      ]
    },
    {
      "cell_type": "code",
      "metadata": {
        "id": "nzGyqJja7I0O"
      },
      "source": [
        "!apt-get update -qq && apt-get install -qq libfluidsynth1 build-essential libasound2-dev libjack-dev\n",
        "!pip install -U magenta pyfluidsynth\n",
        "\n",
        "# Hack to allow python to pick up the newly-installed fluidsynth lib.\n",
        "import ctypes.util\n",
        "orig_ctypes_util_find_library = ctypes.util.find_library\n",
        "def proxy_find_library(lib):\n",
        "  if lib == 'fluidsynth':\n",
        "    return 'libfluidsynth.so.1'\n",
        "  else:\n",
        "    return orig_ctypes_util_find_library(lib)\n",
        "ctypes.util.find_library = proxy_find_library\n",
        "\n",
        "# Download Salamander piano SoundFont.\n",
        "# Samples by Alexander Holm: https://archive.org/details/SalamanderGrandPianoV3\n",
        "# Converted to sf2 by John Nebauer: https://sites.google.com/site/soundfonts4u\n",
        "!gsutil -m cp gs://download.magenta.tensorflow.org/soundfonts/Yamaha-C5-Salamander-JNv5.1.sf2 /tmp/"
      ],
      "execution_count": null,
      "outputs": []
    },
    {
      "cell_type": "code",
      "metadata": {
        "id": "s9wvam1f7UnL"
      },
      "source": [
        "import os\n",
        "from magenta.models.performance_rnn import performance_sequence_generator\n",
        "from magenta.models.shared import sequence_generator_bundle\n",
        "from note_seq.protobuf import generator_pb2\n",
        "from note_seq.protobuf import music_pb2\n",
        "\n",
        "import note_seq\n",
        "\n",
        "# Necessary until pyfluidsynth is updated (>1.2.5).\n",
        "import warnings\n",
        "warnings.filterwarnings(\"ignore\", category=DeprecationWarning)\n",
        "\n",
        "# Constants.\n",
        "BUNDLE_DIR = '/tmp/'\n",
        "MODEL_NAME = 'performance_with_dynamics'\n",
        "BUNDLE_NAME = MODEL_NAME + '.mag'"
      ],
      "execution_count": null,
      "outputs": []
    },
    {
      "cell_type": "code",
      "metadata": {
        "id": "2UMq_wBc_4FA"
      },
      "source": [
        "note_seq.notebook_utils.download_bundle(BUNDLE_NAME, BUNDLE_DIR)"
      ],
      "execution_count": null,
      "outputs": []
    },
    {
      "cell_type": "markdown",
      "metadata": {
        "id": "dHxt7yaM_7Cv"
      },
      "source": [
        "# Generate a sequence"
      ]
    },
    {
      "cell_type": "code",
      "metadata": {
        "id": "CcIn3VGb7YVZ",
        "colab": {
          "base_uri": "https://localhost:8080/",
          "height": 372
        },
        "outputId": "a9863c0e-3a09-4545-e7ba-38b6943ffb53"
      },
      "source": [
        "bundle = sequence_generator_bundle.read_bundle_file(os.path.join(BUNDLE_DIR, BUNDLE_NAME))\n",
        "generator_map = performance_sequence_generator.get_generator_map()\n",
        "generator = generator_map[MODEL_NAME](checkpoint=None, bundle=bundle)\n",
        "generator.initialize()\n",
        "generator_options = generator_pb2.GeneratorOptions()\n",
        "generator_options.args['temperature'].float_value = 1.0  # Higher is more random; 1.0 is default. \n",
        "generate_section = generator_options.generate_sections.add(start_time=0, end_time=30)\n",
        "sequence = generator.generate(music_pb2.NoteSequence(), generator_options)\n",
        "\n",
        "# Play and view this masterpiece.\n",
        "note_seq.plot_sequence(sequence)\n",
        "note_seq.play_sequence(sequence, note_seq.midi_synth.fluidsynth,\n",
        "                 sf2_path='/tmp/Yamaha-C5-Salamander-JNv5.1.sf2')"
      ],
      "execution_count": null,
      "outputs": [
        {
          "output_type": "stream",
          "text": [
            "WARNING:tensorflow:The saved meta_graph is possibly from an older release:\n",
            "'model_variables' collection should be of type 'byte_list', but instead is of type 'node_list'.\n",
            "INFO:tensorflow:Restoring parameters from /tmp/tmp7UadKe/model.ckpt\n",
            "INFO:tensorflow:Need to generate 2899 more steps for this sequence, will try asking for 1160 RNN steps\n",
            "INFO:tensorflow:Beam search yields sequence with log-likelihood: -2248.182861 \n"
          ],
          "name": "stdout"
        },
        {
          "output_type": "display_data",
          "data": {
            "text/html": [
              "\n",
              "    <div class=\"bk-root\">\n",
              "        <a href=\"https://bokeh.pydata.org\" target=\"_blank\" class=\"bk-logo bk-logo-small bk-logo-notebook\"></a>\n",
              "        <span id=\"d5b4a705-7823-4512-8ebd-b8a4a166f46e\">Loading BokehJS ...</span>\n",
              "    </div>"
            ]
          },
          "metadata": {
            "tags": []
          }
        },
        {
          "output_type": "display_data",
          "data": {
            "application/javascript": [
              "\n",
              "(function(root) {\n",
              "  function now() {\n",
              "    return new Date();\n",
              "  }\n",
              "\n",
              "  var force = true;\n",
              "\n",
              "  if (typeof (root._bokeh_onload_callbacks) === \"undefined\" || force === true) {\n",
              "    root._bokeh_onload_callbacks = [];\n",
              "    root._bokeh_is_loading = undefined;\n",
              "  }\n",
              "\n",
              "  var JS_MIME_TYPE = 'application/javascript';\n",
              "  var HTML_MIME_TYPE = 'text/html';\n",
              "  var EXEC_MIME_TYPE = 'application/vnd.bokehjs_exec.v0+json';\n",
              "  var CLASS_NAME = 'output_bokeh rendered_html';\n",
              "\n",
              "  /**\n",
              "   * Render data to the DOM node\n",
              "   */\n",
              "  function render(props, node) {\n",
              "    var script = document.createElement(\"script\");\n",
              "    node.appendChild(script);\n",
              "  }\n",
              "\n",
              "  /**\n",
              "   * Handle when an output is cleared or removed\n",
              "   */\n",
              "  function handleClearOutput(event, handle) {\n",
              "    var cell = handle.cell;\n",
              "\n",
              "    var id = cell.output_area._bokeh_element_id;\n",
              "    var server_id = cell.output_area._bokeh_server_id;\n",
              "    // Clean up Bokeh references\n",
              "    if (id !== undefined) {\n",
              "      Bokeh.index[id].model.document.clear();\n",
              "      delete Bokeh.index[id];\n",
              "    }\n",
              "\n",
              "    if (server_id !== undefined) {\n",
              "      // Clean up Bokeh references\n",
              "      var cmd = \"from bokeh.io.state import curstate; print(curstate().uuid_to_server['\" + server_id + \"'].get_sessions()[0].document.roots[0]._id)\";\n",
              "      cell.notebook.kernel.execute(cmd, {\n",
              "        iopub: {\n",
              "          output: function(msg) {\n",
              "            var element_id = msg.content.text.trim();\n",
              "            Bokeh.index[element_id].model.document.clear();\n",
              "            delete Bokeh.index[element_id];\n",
              "          }\n",
              "        }\n",
              "      });\n",
              "      // Destroy server and session\n",
              "      var cmd = \"import bokeh.io.notebook as ion; ion.destroy_server('\" + server_id + \"')\";\n",
              "      cell.notebook.kernel.execute(cmd);\n",
              "    }\n",
              "  }\n",
              "\n",
              "  /**\n",
              "   * Handle when a new output is added\n",
              "   */\n",
              "  function handleAddOutput(event, handle) {\n",
              "    var output_area = handle.output_area;\n",
              "    var output = handle.output;\n",
              "\n",
              "    // limit handleAddOutput to display_data with EXEC_MIME_TYPE content only\n",
              "    if ((output.output_type != \"display_data\") || (!output.data.hasOwnProperty(EXEC_MIME_TYPE))) {\n",
              "      return\n",
              "    }\n",
              "\n",
              "    var toinsert = output_area.element.find(\".\" + CLASS_NAME.split(' ')[0]);\n",
              "\n",
              "    if (output.metadata[EXEC_MIME_TYPE][\"id\"] !== undefined) {\n",
              "      toinsert[toinsert.length - 1].firstChild.textContent = output.data[JS_MIME_TYPE];\n",
              "      // store reference to embed id on output_area\n",
              "      output_area._bokeh_element_id = output.metadata[EXEC_MIME_TYPE][\"id\"];\n",
              "    }\n",
              "    if (output.metadata[EXEC_MIME_TYPE][\"server_id\"] !== undefined) {\n",
              "      var bk_div = document.createElement(\"div\");\n",
              "      bk_div.innerHTML = output.data[HTML_MIME_TYPE];\n",
              "      var script_attrs = bk_div.children[0].attributes;\n",
              "      for (var i = 0; i < script_attrs.length; i++) {\n",
              "        toinsert[toinsert.length - 1].firstChild.setAttribute(script_attrs[i].name, script_attrs[i].value);\n",
              "      }\n",
              "      // store reference to server id on output_area\n",
              "      output_area._bokeh_server_id = output.metadata[EXEC_MIME_TYPE][\"server_id\"];\n",
              "    }\n",
              "  }\n",
              "\n",
              "  function register_renderer(events, OutputArea) {\n",
              "\n",
              "    function append_mime(data, metadata, element) {\n",
              "      // create a DOM node to render to\n",
              "      var toinsert = this.create_output_subarea(\n",
              "        metadata,\n",
              "        CLASS_NAME,\n",
              "        EXEC_MIME_TYPE\n",
              "      );\n",
              "      this.keyboard_manager.register_events(toinsert);\n",
              "      // Render to node\n",
              "      var props = {data: data, metadata: metadata[EXEC_MIME_TYPE]};\n",
              "      render(props, toinsert[toinsert.length - 1]);\n",
              "      element.append(toinsert);\n",
              "      return toinsert\n",
              "    }\n",
              "\n",
              "    /* Handle when an output is cleared or removed */\n",
              "    events.on('clear_output.CodeCell', handleClearOutput);\n",
              "    events.on('delete.Cell', handleClearOutput);\n",
              "\n",
              "    /* Handle when a new output is added */\n",
              "    events.on('output_added.OutputArea', handleAddOutput);\n",
              "\n",
              "    /**\n",
              "     * Register the mime type and append_mime function with output_area\n",
              "     */\n",
              "    OutputArea.prototype.register_mime_type(EXEC_MIME_TYPE, append_mime, {\n",
              "      /* Is output safe? */\n",
              "      safe: true,\n",
              "      /* Index of renderer in `output_area.display_order` */\n",
              "      index: 0\n",
              "    });\n",
              "  }\n",
              "\n",
              "  // register the mime type if in Jupyter Notebook environment and previously unregistered\n",
              "  if (root.Jupyter !== undefined) {\n",
              "    var events = require('base/js/events');\n",
              "    var OutputArea = require('notebook/js/outputarea').OutputArea;\n",
              "\n",
              "    if (OutputArea.prototype.mime_types().indexOf(EXEC_MIME_TYPE) == -1) {\n",
              "      register_renderer(events, OutputArea);\n",
              "    }\n",
              "  }\n",
              "\n",
              "  \n",
              "  if (typeof (root._bokeh_timeout) === \"undefined\" || force === true) {\n",
              "    root._bokeh_timeout = Date.now() + 5000;\n",
              "    root._bokeh_failed_load = false;\n",
              "  }\n",
              "\n",
              "  var NB_LOAD_WARNING = {'data': {'text/html':\n",
              "     \"<div style='background-color: #fdd'>\\n\"+\n",
              "     \"<p>\\n\"+\n",
              "     \"BokehJS does not appear to have successfully loaded. If loading BokehJS from CDN, this \\n\"+\n",
              "     \"may be due to a slow or bad network connection. Possible fixes:\\n\"+\n",
              "     \"</p>\\n\"+\n",
              "     \"<ul>\\n\"+\n",
              "     \"<li>re-rerun `output_notebook()` to attempt to load from CDN again, or</li>\\n\"+\n",
              "     \"<li>use INLINE resources instead, as so:</li>\\n\"+\n",
              "     \"</ul>\\n\"+\n",
              "     \"<code>\\n\"+\n",
              "     \"from bokeh.resources import INLINE\\n\"+\n",
              "     \"output_notebook(resources=INLINE)\\n\"+\n",
              "     \"</code>\\n\"+\n",
              "     \"</div>\"}};\n",
              "\n",
              "  function display_loaded() {\n",
              "    var el = document.getElementById(\"d5b4a705-7823-4512-8ebd-b8a4a166f46e\");\n",
              "    if (el != null) {\n",
              "      el.textContent = \"BokehJS is loading...\";\n",
              "    }\n",
              "    if (root.Bokeh !== undefined) {\n",
              "      if (el != null) {\n",
              "        el.textContent = \"BokehJS \" + root.Bokeh.version + \" successfully loaded.\";\n",
              "      }\n",
              "    } else if (Date.now() < root._bokeh_timeout) {\n",
              "      setTimeout(display_loaded, 100)\n",
              "    }\n",
              "  }\n",
              "\n",
              "\n",
              "  function run_callbacks() {\n",
              "    try {\n",
              "      root._bokeh_onload_callbacks.forEach(function(callback) { callback() });\n",
              "    }\n",
              "    finally {\n",
              "      delete root._bokeh_onload_callbacks\n",
              "    }\n",
              "    console.info(\"Bokeh: all callbacks have finished\");\n",
              "  }\n",
              "\n",
              "  function load_libs(js_urls, callback) {\n",
              "    root._bokeh_onload_callbacks.push(callback);\n",
              "    if (root._bokeh_is_loading > 0) {\n",
              "      console.log(\"Bokeh: BokehJS is being loaded, scheduling callback at\", now());\n",
              "      return null;\n",
              "    }\n",
              "    if (js_urls == null || js_urls.length === 0) {\n",
              "      run_callbacks();\n",
              "      return null;\n",
              "    }\n",
              "    console.log(\"Bokeh: BokehJS not loaded, scheduling load and callback at\", now());\n",
              "    root._bokeh_is_loading = js_urls.length;\n",
              "    for (var i = 0; i < js_urls.length; i++) {\n",
              "      var url = js_urls[i];\n",
              "      var s = document.createElement('script');\n",
              "      s.src = url;\n",
              "      s.async = false;\n",
              "      s.onreadystatechange = s.onload = function() {\n",
              "        root._bokeh_is_loading--;\n",
              "        if (root._bokeh_is_loading === 0) {\n",
              "          console.log(\"Bokeh: all BokehJS libraries loaded\");\n",
              "          run_callbacks()\n",
              "        }\n",
              "      };\n",
              "      s.onerror = function() {\n",
              "        console.warn(\"failed to load library \" + url);\n",
              "      };\n",
              "      console.log(\"Bokeh: injecting script tag for BokehJS library: \", url);\n",
              "      document.getElementsByTagName(\"head\")[0].appendChild(s);\n",
              "    }\n",
              "  };var element = document.getElementById(\"d5b4a705-7823-4512-8ebd-b8a4a166f46e\");\n",
              "  if (element == null) {\n",
              "    console.log(\"Bokeh: ERROR: autoload.js configured with elementid 'd5b4a705-7823-4512-8ebd-b8a4a166f46e' but no matching script tag was found. \")\n",
              "    return false;\n",
              "  }\n",
              "\n",
              "  var js_urls = [\"https://cdn.pydata.org/bokeh/release/bokeh-0.12.16.min.js\", \"https://cdn.pydata.org/bokeh/release/bokeh-widgets-0.12.16.min.js\", \"https://cdn.pydata.org/bokeh/release/bokeh-tables-0.12.16.min.js\", \"https://cdn.pydata.org/bokeh/release/bokeh-gl-0.12.16.min.js\"];\n",
              "\n",
              "  var inline_js = [\n",
              "    function(Bokeh) {\n",
              "      Bokeh.set_log_level(\"info\");\n",
              "    },\n",
              "    \n",
              "    function(Bokeh) {\n",
              "      \n",
              "    },\n",
              "    function(Bokeh) {\n",
              "      console.log(\"Bokeh: injecting CSS: https://cdn.pydata.org/bokeh/release/bokeh-0.12.16.min.css\");\n",
              "      Bokeh.embed.inject_css(\"https://cdn.pydata.org/bokeh/release/bokeh-0.12.16.min.css\");\n",
              "      console.log(\"Bokeh: injecting CSS: https://cdn.pydata.org/bokeh/release/bokeh-widgets-0.12.16.min.css\");\n",
              "      Bokeh.embed.inject_css(\"https://cdn.pydata.org/bokeh/release/bokeh-widgets-0.12.16.min.css\");\n",
              "      console.log(\"Bokeh: injecting CSS: https://cdn.pydata.org/bokeh/release/bokeh-tables-0.12.16.min.css\");\n",
              "      Bokeh.embed.inject_css(\"https://cdn.pydata.org/bokeh/release/bokeh-tables-0.12.16.min.css\");\n",
              "    }\n",
              "  ];\n",
              "\n",
              "  function run_inline_js() {\n",
              "    \n",
              "    if ((root.Bokeh !== undefined) || (force === true)) {\n",
              "      for (var i = 0; i < inline_js.length; i++) {\n",
              "        inline_js[i].call(root, root.Bokeh);\n",
              "      }if (force === true) {\n",
              "        display_loaded();\n",
              "      }} else if (Date.now() < root._bokeh_timeout) {\n",
              "      setTimeout(run_inline_js, 100);\n",
              "    } else if (!root._bokeh_failed_load) {\n",
              "      console.log(\"Bokeh: BokehJS failed to load within specified timeout.\");\n",
              "      root._bokeh_failed_load = true;\n",
              "    } else if (force !== true) {\n",
              "      var cell = $(document.getElementById(\"d5b4a705-7823-4512-8ebd-b8a4a166f46e\")).parents('.cell').data().cell;\n",
              "      cell.output_area.append_execute_result(NB_LOAD_WARNING)\n",
              "    }\n",
              "\n",
              "  }\n",
              "\n",
              "  if (root._bokeh_is_loading === 0) {\n",
              "    console.log(\"Bokeh: BokehJS loaded, going straight to plotting\");\n",
              "    run_inline_js();\n",
              "  } else {\n",
              "    load_libs(js_urls, function() {\n",
              "      console.log(\"Bokeh: BokehJS plotting callback run at\", now());\n",
              "      run_inline_js();\n",
              "    });\n",
              "  }\n",
              "}(window));"
            ],
            "application/vnd.bokehjs_load.v0+json": "\n(function(root) {\n  function now() {\n    return new Date();\n  }\n\n  var force = true;\n\n  if (typeof (root._bokeh_onload_callbacks) === \"undefined\" || force === true) {\n    root._bokeh_onload_callbacks = [];\n    root._bokeh_is_loading = undefined;\n  }\n\n  \n\n  \n  if (typeof (root._bokeh_timeout) === \"undefined\" || force === true) {\n    root._bokeh_timeout = Date.now() + 5000;\n    root._bokeh_failed_load = false;\n  }\n\n  var NB_LOAD_WARNING = {'data': {'text/html':\n     \"<div style='background-color: #fdd'>\\n\"+\n     \"<p>\\n\"+\n     \"BokehJS does not appear to have successfully loaded. If loading BokehJS from CDN, this \\n\"+\n     \"may be due to a slow or bad network connection. Possible fixes:\\n\"+\n     \"</p>\\n\"+\n     \"<ul>\\n\"+\n     \"<li>re-rerun `output_notebook()` to attempt to load from CDN again, or</li>\\n\"+\n     \"<li>use INLINE resources instead, as so:</li>\\n\"+\n     \"</ul>\\n\"+\n     \"<code>\\n\"+\n     \"from bokeh.resources import INLINE\\n\"+\n     \"output_notebook(resources=INLINE)\\n\"+\n     \"</code>\\n\"+\n     \"</div>\"}};\n\n  function display_loaded() {\n    var el = document.getElementById(\"d5b4a705-7823-4512-8ebd-b8a4a166f46e\");\n    if (el != null) {\n      el.textContent = \"BokehJS is loading...\";\n    }\n    if (root.Bokeh !== undefined) {\n      if (el != null) {\n        el.textContent = \"BokehJS \" + root.Bokeh.version + \" successfully loaded.\";\n      }\n    } else if (Date.now() < root._bokeh_timeout) {\n      setTimeout(display_loaded, 100)\n    }\n  }\n\n\n  function run_callbacks() {\n    try {\n      root._bokeh_onload_callbacks.forEach(function(callback) { callback() });\n    }\n    finally {\n      delete root._bokeh_onload_callbacks\n    }\n    console.info(\"Bokeh: all callbacks have finished\");\n  }\n\n  function load_libs(js_urls, callback) {\n    root._bokeh_onload_callbacks.push(callback);\n    if (root._bokeh_is_loading > 0) {\n      console.log(\"Bokeh: BokehJS is being loaded, scheduling callback at\", now());\n      return null;\n    }\n    if (js_urls == null || js_urls.length === 0) {\n      run_callbacks();\n      return null;\n    }\n    console.log(\"Bokeh: BokehJS not loaded, scheduling load and callback at\", now());\n    root._bokeh_is_loading = js_urls.length;\n    for (var i = 0; i < js_urls.length; i++) {\n      var url = js_urls[i];\n      var s = document.createElement('script');\n      s.src = url;\n      s.async = false;\n      s.onreadystatechange = s.onload = function() {\n        root._bokeh_is_loading--;\n        if (root._bokeh_is_loading === 0) {\n          console.log(\"Bokeh: all BokehJS libraries loaded\");\n          run_callbacks()\n        }\n      };\n      s.onerror = function() {\n        console.warn(\"failed to load library \" + url);\n      };\n      console.log(\"Bokeh: injecting script tag for BokehJS library: \", url);\n      document.getElementsByTagName(\"head\")[0].appendChild(s);\n    }\n  };var element = document.getElementById(\"d5b4a705-7823-4512-8ebd-b8a4a166f46e\");\n  if (element == null) {\n    console.log(\"Bokeh: ERROR: autoload.js configured with elementid 'd5b4a705-7823-4512-8ebd-b8a4a166f46e' but no matching script tag was found. \")\n    return false;\n  }\n\n  var js_urls = [\"https://cdn.pydata.org/bokeh/release/bokeh-0.12.16.min.js\", \"https://cdn.pydata.org/bokeh/release/bokeh-widgets-0.12.16.min.js\", \"https://cdn.pydata.org/bokeh/release/bokeh-tables-0.12.16.min.js\", \"https://cdn.pydata.org/bokeh/release/bokeh-gl-0.12.16.min.js\"];\n\n  var inline_js = [\n    function(Bokeh) {\n      Bokeh.set_log_level(\"info\");\n    },\n    \n    function(Bokeh) {\n      \n    },\n    function(Bokeh) {\n      console.log(\"Bokeh: injecting CSS: https://cdn.pydata.org/bokeh/release/bokeh-0.12.16.min.css\");\n      Bokeh.embed.inject_css(\"https://cdn.pydata.org/bokeh/release/bokeh-0.12.16.min.css\");\n      console.log(\"Bokeh: injecting CSS: https://cdn.pydata.org/bokeh/release/bokeh-widgets-0.12.16.min.css\");\n      Bokeh.embed.inject_css(\"https://cdn.pydata.org/bokeh/release/bokeh-widgets-0.12.16.min.css\");\n      console.log(\"Bokeh: injecting CSS: https://cdn.pydata.org/bokeh/release/bokeh-tables-0.12.16.min.css\");\n      Bokeh.embed.inject_css(\"https://cdn.pydata.org/bokeh/release/bokeh-tables-0.12.16.min.css\");\n    }\n  ];\n\n  function run_inline_js() {\n    \n    if ((root.Bokeh !== undefined) || (force === true)) {\n      for (var i = 0; i < inline_js.length; i++) {\n        inline_js[i].call(root, root.Bokeh);\n      }if (force === true) {\n        display_loaded();\n      }} else if (Date.now() < root._bokeh_timeout) {\n      setTimeout(run_inline_js, 100);\n    } else if (!root._bokeh_failed_load) {\n      console.log(\"Bokeh: BokehJS failed to load within specified timeout.\");\n      root._bokeh_failed_load = true;\n    } else if (force !== true) {\n      var cell = $(document.getElementById(\"d5b4a705-7823-4512-8ebd-b8a4a166f46e\")).parents('.cell').data().cell;\n      cell.output_area.append_execute_result(NB_LOAD_WARNING)\n    }\n\n  }\n\n  if (root._bokeh_is_loading === 0) {\n    console.log(\"Bokeh: BokehJS loaded, going straight to plotting\");\n    run_inline_js();\n  } else {\n    load_libs(js_urls, function() {\n      console.log(\"Bokeh: BokehJS plotting callback run at\", now());\n      run_inline_js();\n    });\n  }\n}(window));"
          },
          "metadata": {
            "tags": []
          }
        },
        {
          "output_type": "display_data",
          "data": {
            "text/html": [
              "\n",
              "<div class=\"bk-root\">\n",
              "    <div class=\"bk-plotdiv\" id=\"feee0b76-42cf-4612-ae9d-a3f181c4c61e\"></div>\n",
              "</div>"
            ]
          },
          "metadata": {
            "tags": []
          }
        },
        {
          "output_type": "display_data",
          "data": {
            "application/javascript": [
              "(function(root) {\n",
              "  function embed_document(root) {\n",
              "    \n",
              "  var docs_json = {\"1a34c12c-9b4d-4c28-ae0b-9d22f8164894\":{\"roots\":{\"references\":[{\"attributes\":{\"data_source\":{\"id\":\"dd041195-acf3-452e-afbf-6b923a66f207\",\"type\":\"ColumnDataSource\"},\"glyph\":{\"id\":\"a7f8570e-eca5-4e54-97b2-e02f88898b72\",\"type\":\"Quad\"},\"hover_glyph\":null,\"muted_glyph\":null,\"nonselection_glyph\":{\"id\":\"0f7d3170-69a2-4205-841f-33a5cc477aab\",\"type\":\"Quad\"},\"selection_glyph\":null,\"view\":{\"id\":\"78ed317a-78f6-455b-829c-9f331ff81680\",\"type\":\"CDSView\"}},\"id\":\"46aa2556-4018-44d7-8d93-7d15f23f7fb2\",\"type\":\"GlyphRenderer\"},{\"attributes\":{\"interval\":12},\"id\":\"c6ff91f1-ee25-415e-a60d-f54367e51351\",\"type\":\"SingleIntervalTicker\"},{\"attributes\":{},\"id\":\"1149c992-dd99-41c5-893b-83510a7e5b45\",\"type\":\"PanTool\"},{\"attributes\":{\"axis_label\":\"pitch (MIDI)\",\"formatter\":{\"id\":\"28a7a012-9784-4b7f-b17a-44f5eef9aa71\",\"type\":\"BasicTickFormatter\"},\"plot\":{\"id\":\"ae74d114-27af-42a9-8eae-500889b538cc\",\"subtype\":\"Figure\",\"type\":\"Plot\"},\"ticker\":{\"id\":\"c177f698-fa41-4a6e-80d9-ab9473c57e01\",\"type\":\"SingleIntervalTicker\"}},\"id\":\"05bb4b8e-cf1a-48df-8560-7caa3026e389\",\"type\":\"LinearAxis\"},{\"attributes\":{},\"id\":\"aff1a6b5-4c7d-415e-91ad-dd8ea43cac63\",\"type\":\"LinearScale\"},{\"attributes\":{\"source\":{\"id\":\"dd041195-acf3-452e-afbf-6b923a66f207\",\"type\":\"ColumnDataSource\"}},\"id\":\"78ed317a-78f6-455b-829c-9f331ff81680\",\"type\":\"CDSView\"},{\"attributes\":{\"callback\":null},\"id\":\"987e0ac2-e4d5-4fd7-aad4-861d8aa64e9c\",\"type\":\"DataRange1d\"},{\"attributes\":{},\"id\":\"7ea431f3-5c07-43b4-9e6d-646d6e460c59\",\"type\":\"SaveTool\"},{\"attributes\":{\"active_drag\":\"auto\",\"active_inspect\":\"auto\",\"active_scroll\":\"auto\",\"active_tap\":\"auto\",\"tools\":[{\"id\":\"46b1f9fc-9862-4baa-a4e2-548c75b5eb52\",\"type\":\"HoverTool\"},{\"id\":\"1149c992-dd99-41c5-893b-83510a7e5b45\",\"type\":\"PanTool\"},{\"id\":\"99ab758a-757f-47c3-a960-9d50deb5c449\",\"type\":\"BoxZoomTool\"},{\"id\":\"d2f0e1fa-021d-4681-85ef-2e778aca5008\",\"type\":\"ResetTool\"},{\"id\":\"7ea431f3-5c07-43b4-9e6d-646d6e460c59\",\"type\":\"SaveTool\"}]},\"id\":\"817a3027-533b-44d5-9984-e916490be436\",\"type\":\"Toolbar\"},{\"attributes\":{},\"id\":\"9cbfcd1c-77ca-4d58-9822-ce681cb2f4b7\",\"type\":\"BasicTickFormatter\"},{\"attributes\":{\"axis_label\":\"time (sec)\",\"formatter\":{\"id\":\"9cbfcd1c-77ca-4d58-9822-ce681cb2f4b7\",\"type\":\"BasicTickFormatter\"},\"plot\":{\"id\":\"ae74d114-27af-42a9-8eae-500889b538cc\",\"subtype\":\"Figure\",\"type\":\"Plot\"},\"ticker\":{\"id\":\"408db1ba-38bf-4981-8e20-13beac6de9b2\",\"type\":\"BasicTicker\"}},\"id\":\"83171456-1d91-4aa2-ab2a-b4160c56cbc4\",\"type\":\"LinearAxis\"},{\"attributes\":{\"dimension\":1,\"plot\":{\"id\":\"ae74d114-27af-42a9-8eae-500889b538cc\",\"subtype\":\"Figure\",\"type\":\"Plot\"},\"ticker\":{\"id\":\"c6ff91f1-ee25-415e-a60d-f54367e51351\",\"type\":\"SingleIntervalTicker\"}},\"id\":\"73e04785-62d6-4aee-9825-866dbf58aede\",\"type\":\"Grid\"},{\"attributes\":{\"callback\":null},\"id\":\"3d7be71c-9b40-45e9-9c64-c69994c8d5aa\",\"type\":\"DataRange1d\"},{\"attributes\":{},\"id\":\"28a7a012-9784-4b7f-b17a-44f5eef9aa71\",\"type\":\"BasicTickFormatter\"},{\"attributes\":{\"callback\":null,\"renderers\":\"auto\",\"tooltips\":[[\"velo\",\"@velocity\"],[\"program\",\"@program\"],[\"end_time\",\"@end_time\"],[\"pitch\",\"@pitch\"],[\"duration\",\"@duration\"],[\"velocity\",\"@velocity\"],[\"start_time\",\"@start_time\"],[\"fill_alpha\",\"@fill_alpha\"]]},\"id\":\"46b1f9fc-9862-4baa-a4e2-548c75b5eb52\",\"type\":\"HoverTool\"},{\"attributes\":{\"plot\":{\"id\":\"ae74d114-27af-42a9-8eae-500889b538cc\",\"subtype\":\"Figure\",\"type\":\"Plot\"},\"ticker\":{\"id\":\"408db1ba-38bf-4981-8e20-13beac6de9b2\",\"type\":\"BasicTicker\"}},\"id\":\"2f888b61-8a8a-41b5-9cab-9e4ef15d0050\",\"type\":\"Grid\"},{\"attributes\":{\"bottom\":{\"field\":\"bottom\"},\"fill_alpha\":{\"value\":0.1},\"fill_color\":{\"value\":\"#1f77b4\"},\"left\":{\"field\":\"start_time\"},\"line_alpha\":{\"value\":0.1},\"line_color\":{\"value\":\"#1f77b4\"},\"right\":{\"field\":\"end_time\"},\"top\":{\"field\":\"top\"}},\"id\":\"0f7d3170-69a2-4205-841f-33a5cc477aab\",\"type\":\"Quad\"},{\"attributes\":{\"plot\":null,\"text\":\"\"},\"id\":\"2a77213f-4ee4-49a9-a856-27610091972c\",\"type\":\"Title\"},{\"attributes\":{\"bottom\":{\"field\":\"bottom\"},\"fill_alpha\":{\"field\":\"fill_alpha\"},\"fill_color\":{\"value\":\"#d53e4f\"},\"left\":{\"field\":\"start_time\"},\"right\":{\"field\":\"end_time\"},\"top\":{\"field\":\"top\"}},\"id\":\"a7f8570e-eca5-4e54-97b2-e02f88898b72\",\"type\":\"Quad\"},{\"attributes\":{\"callback\":null,\"data\":{\"bottom\":{\"__ndarray__\":\"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\",\"dtype\":\"float64\",\"shape\":[284]},\"duration\":{\"__ndarray__\":\"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\",\"dtype\":\"float64\",\"shape\":[284]},\"end_time\":{\"__ndarray__\":\"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\",\"dtype\":\"float64\",\"shape\":[284]},\"fill_alpha\":{\"__ndarray__\":\"AAAAAACA3D8AAAAAAEDgPwAAAAAAgNg/AAAAAACA1j8AAAAAAIDaPwAAAAAAQOA/AAAAAABA4D8AAAAAAEDiPwAAAAAAgNg/AAAAAACA3j8AAAAAAIDaPwAAAAAAQOI/AAAAAACA2j8AAAAAAIDaPwAAAAAAQOA/AAAAAACA1D8AAAAAAIDaPwAAAAAAgN4/AAAAAABA4T8AAAAAAIDaPwAAAAAAgNw/AAAAAACA2j8AAAAAAIDWPwAAAAAAgNQ/AAAAAACA2D8AAAAAAEDhPwAAAAAAgNY/AAAAAACA3D8AAAAAAIDePwAAAAAAgN4/AAAAAABA4j8AAAAAAEDhPwAAAAAAQOA/AAAAAABA4T8AAAAAAEDhPwAAAAAAQOA/AAAAAACA3D8AAAAAAEDhPwAAAAAAgN4/AAAAAACA3j8AAAAAAEDgPwAAAAAAgN4/AAAAAACA3j8AAAAAAEDgPwAAAAAAgNw/AAAAAACA2D8AAAAAAIDaPwAAAAAAgNg/AAAAAABA4D8AAAAAAIDUPwAAAAAAgNY/AAAAAACA3j8AAAAAAIDePwAAAAAAQOA/AAAAAACA3j8AAAAAAIDePwAAAAAAQOA/AAAAAACA2j8AAAAAAEDhPwAAAAAAQOA/AAAAAAAAwT8AAAAAAIDePwAAAAAAgNw/AAAAAACA3D8AAAAAAIDePwAAAAAAgN4/AAAAAACA3D8AAAAAAEDgPwAAAAAAgNo/AAAAAACA2j8AAAAAAIDaPwAAAAAAQOA/AAAAAACA2j8AAAAAAIDaPwAAAAAAgNo/AAAAAACA1D8AAAAAAIDaPwAAAAAAgNQ/AAAAAACA2j8AAAAAAIDaPwAAAAAAgNA/AAAAAAAAyT8AAAAAAIDaPwAAAAAAgNg/AAAAAACA0D8AAAAAAADBPwAAAAAAgNI/AAAAAACA0D8AAAAAAIDYPwAAAAAAgNA/AAAAAACA1D8AAAAAAIDePwAAAAAAgNQ/AAAAAACA1D8AAAAAAEDhPwAAAAAAgNo/AAAAAACA1D8AAAAAAIDePwAAAAAAAM0/AAAAAACA1D8AAAAAAIDUPwAAAAAAgNQ/AAAAAACA3j8AAAAAAIDaPwAAAAAAgNg/AAAAAABA4D8AAAAAAEDiPwAAAAAAAMU/AAAAAACA1j8AAAAAAIDePwAAAAAAgNo/AAAAAABA4j8AAAAAAIDUPwAAAAAAgNQ/AAAAAACA2j8AAAAAAIDcPwAAAAAAgNw/AAAAAABA4z8AAAAAAIDYPwAAAAAAgN4/AAAAAACA3D8AAAAAAEDgPwAAAAAAQOE/AAAAAABA4T8AAAAAAEDhPwAAAAAAQOM/AAAAAACA3D8AAAAAAIDaPwAAAAAAQOA/AAAAAACA2D8AAAAAAEDlPwAAAAAAQOE/AAAAAABA4D8AAAAAAIDcPwAAAAAAgNo/AAAAAABA4j8AAAAAAIDcPwAAAAAAgNY/AAAAAABA4j8AAAAAAIDaPwAAAAAAgNo/AAAAAACA2j8AAAAAAIDaPwAAAAAAgNo/AAAAAABA4D8AAAAAAIDWPwAAAAAAgNw/AAAAAACA1D8AAAAAAIDUPwAAAAAAQOI/AAAAAABA4D8AAAAAAIDePwAAAAAAgNw/AAAAAACA3D8AAAAAAEDiPwAAAAAAgNw/AAAAAABA4j8AAAAAAIDUPwAAAAAAgNg/AAAAAACA3j8AAAAAAEDgPwAAAAAAQOI/AAAAAACA3j8AAAAAAIDaPwAAAAAAgN4/AAAAAABA5T8AAAAAAIDePwAAAAAAgNw/AAAAAACA3D8AAAAAAIDcPwAAAAAAgNY/AAAAAACA1D8AAAAAAIDcPwAAAAAAgNw/AAAAAACA3j8AAAAAAEDiPwAAAAAAQOE/AAAAAACA3j8AAAAAAEDgPwAAAAAAgN4/AAAAAABA4z8AAAAAAIDcPwAAAAAAgNg/AAAAAACA3D8AAAAAAEDiPwAAAAAAQOI/AAAAAACA2j8AAAAAAIDePwAAAAAAgNw/AAAAAACA3j8AAAAAAEDhPwAAAAAAgNw/AAAAAACA3j8AAAAAAIDcPwAAAAAAgN4/AAAAAACA2j8AAAAAAIDaPwAAAAAAgN4/AAAAAACA3D8AAAAAAIDePwAAAAAAgNo/AAAAAACA3j8AAAAAAIDePwAAAAAAgNo/AAAAAACA2D8AAAAAAIDaPwAAAAAAgNw/AAAAAACA1j8AAAAAAIDYPwAAAAAAgNQ/AAAAAACA0D8AAAAAAIDePwAAAAAAgNY/AAAAAACA2D8AAAAAAIDaPwAAAAAAgNw/AAAAAACA0j8AAAAAAIDePwAAAAAAgNY/AAAAAACA0j8AAAAAAIDaPwAAAAAAgNw/AAAAAACA2j8AAAAAAADJPwAAAAAAgNI/AAAAAACA1j8AAAAAAIDUPwAAAAAAgNQ/AAAAAACA1j8AAAAAAIDUPwAAAAAAgNo/AAAAAACA0j8AAAAAAIDUPwAAAAAAgNo/AAAAAACA1D8AAAAAAIDWPwAAAAAAgN4/AAAAAACA3j8AAAAAAIDaPwAAAAAAgNI/AAAAAABA4T8AAAAAAIDcPwAAAAAAgNg/AAAAAACA1j8AAAAAAIDWPwAAAAAAgNY/AAAAAACA1j8AAAAAAIDSPwAAAAAAgNg/AAAAAACA0j8AAAAAAIDWPwAAAAAAgNY/AAAAAACA2D8AAAAAAIDWPwAAAAAAgNY/AAAAAABA4j8AAAAAAIDYPwAAAAAAgNY/AAAAAACA1j8AAAAAAEDhPwAAAAAAQOE/AAAAAACA0j8AAAAAAIDePwAAAAAAgNo/AAAAAACA2D8AAAAAAIDcPwAAAAAAgNw/AAAAAACA1D8AAAAAAIDUPwAAAAAAgNQ/AAAAAACA1D8AAAAAAIDaPwAAAAAAAM0/AAAAAACA1j8AAAAAAIDUPwAAAAAAgNI/AAAAAACA0D8AAAAAAIDQPwAAAAAAgNA/AAAAAACA1D8AAAAAAACkPwAAAAAAAKQ/AAAAAACA3D8AAAAAAIDePw==\",\"dtype\":\"float64\",\"shape\":[284]},\"index\":[0,1,2,3,4,5,6,7,8,9,10,11,12,13,14,15,16,17,18,19,20,21,22,23,24,25,26,27,28,29,30,31,32,33,34,35,36,37,38,39,40,41,42,43,44,45,46,47,48,49,50,51,52,53,54,55,56,57,58,59,60,61,62,63,64,65,66,67,68,69,70,71,72,73,74,75,76,77,78,79,80,81,82,83,84,85,86,87,88,89,90,91,92,93,94,95,96,97,98,99,100,101,102,103,104,105,106,107,108,109,110,111,112,113,114,115,116,117,118,119,120,121,122,123,124,125,126,127,128,129,130,131,132,133,134,135,136,137,138,139,140,141,142,143,144,145,146,147,148,149,150,151,152,153,154,155,156,157,158,159,160,161,162,163,164,165,166,167,168,169,170,171,172,173,174,175,176,177,178,179,180,181,182,183,184,185,186,187,188,189,190,191,192,193,194,195,196,197,198,199,200,201,202,203,204,205,206,207,208,209,210,211,212,213,214,215,216,217,218,219,220,221,222,223,224,225,226,227,228,229,230,231,232,233,234,235,236,237,238,239,240,241,242,243,244,245,246,247,248,249,250,251,252,253,254,255,256,257,258,259,260,261,262,263,264,265,266,267,268,269,270,271,272,273,274,275,276,277,278,279,280,281,282,283],\"instrument\":[0,0,0,0,0,0,0,0,0,0,0,0,0,0,0,0,0,0,0,0,0,0,0,0,0,0,0,0,0,0,0,0,0,0,0,0,0,0,0,0,0,0,0,0,0,0,0,0,0,0,0,0,0,0,0,0,0,0,0,0,0,0,0,0,0,0,0,0,0,0,0,0,0,0,0,0,0,0,0,0,0,0,0,0,0,0,0,0,0,0,0,0,0,0,0,0,0,0,0,0,0,0,0,0,0,0,0,0,0,0,0,0,0,0,0,0,0,0,0,0,0,0,0,0,0,0,0,0,0,0,0,0,0,0,0,0,0,0,0,0,0,0,0,0,0,0,0,0,0,0,0,0,0,0,0,0,0,0,0,0,0,0,0,0,0,0,0,0,0,0,0,0,0,0,0,0,0,0,0,0,0,0,0,0,0,0,0,0,0,0,0,0,0,0,0,0,0,0,0,0,0,0,0,0,0,0,0,0,0,0,0,0,0,0,0,0,0,0,0,0,0,0,0,0,0,0,0,0,0,0,0,0,0,0,0,0,0,0,0,0,0,0,0,0,0,0,0,0,0,0,0,0,0,0,0,0,0,0,0,0,0,0,0,0,0,0,0,0,0,0,0,0,0,0,0,0,0,0,0,0,0,0,0,0],\"pitch\":[34,34,34,34,74,72,78,77,74,77,65,62,58,53,78,70,72,75,74,34,41,34,41,70,73,77,67,42,49,46,53,70,73,69,72,70,64,72,70,73,72,75,70,73,75,72,65,70,72,65,70,73,65,71,75,66,71,75,73,70,65,70,73,65,68,72,66,70,54,63,66,70,68,65,70,66,65,56,70,66,53,54,66,68,56,53,49,56,53,46,49,82,53,49,53,82,49,70,53,73,53,49,82,58,53,73,70,49,53,68,73,80,49,56,65,51,48,77,68,73,72,51,48,75,68,77,48,72,53,46,80,75,68,49,46,44,44,46,77,73,70,48,46,75,79,46,44,43,44,87,85,48,49,48,77,66,75,48,51,54,80,84,72,75,54,84,80,56,72,68,76,42,43,44,42,84,80,78,42,43,82,42,39,41,89,80,83,42,49,47,46,48,69,78,46,53,54,72,81,73,57,58,66,65,58,73,82,77,58,61,58,78,75,66,57,58,58,77,65,73,57,58,58,58,58,49,58,49,70,65,73,58,49,48,50,46,61,49,50,46,65,50,53,46,57,45,50,50,50,50,50,50,50,50,50,74,50,50,50,77,65,58,74,50,48,46,77,45,45,45,45,45,45,45,45,45,45,45,45,45,48,50,65,81],\"program\":[0,0,0,0,0,0,0,0,0,0,0,0,0,0,0,0,0,0,0,0,0,0,0,0,0,0,0,0,0,0,0,0,0,0,0,0,0,0,0,0,0,0,0,0,0,0,0,0,0,0,0,0,0,0,0,0,0,0,0,0,0,0,0,0,0,0,0,0,0,0,0,0,0,0,0,0,0,0,0,0,0,0,0,0,0,0,0,0,0,0,0,0,0,0,0,0,0,0,0,0,0,0,0,0,0,0,0,0,0,0,0,0,0,0,0,0,0,0,0,0,0,0,0,0,0,0,0,0,0,0,0,0,0,0,0,0,0,0,0,0,0,0,0,0,0,0,0,0,0,0,0,0,0,0,0,0,0,0,0,0,0,0,0,0,0,0,0,0,0,0,0,0,0,0,0,0,0,0,0,0,0,0,0,0,0,0,0,0,0,0,0,0,0,0,0,0,0,0,0,0,0,0,0,0,0,0,0,0,0,0,0,0,0,0,0,0,0,0,0,0,0,0,0,0,0,0,0,0,0,0,0,0,0,0,0,0,0,0,0,0,0,0,0,0,0,0,0,0,0,0,0,0,0,0,0,0,0,0,0,0,0,0,0,0,0,0,0,0,0,0,0,0,0,0,0,0,0,0,0,0,0,0,0,0],\"start_time\":{\"__ndarray__\":\"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\",\"dtype\":\"float64\",\"shape\":[284]},\"top\":{\"__ndarray__\":\"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\",\"dtype\":\"float64\",\"shape\":[284]},\"velocity\":[57,65,49,45,53,65,65,73,49,61,53,73,53,53,65,41,53,61,69,53,57,53,45,41,49,69,45,57,61,61,73,69,65,69,69,65,57,69,61,61,65,61,61,65,57,49,53,49,65,41,45,61,61,65,61,61,65,53,69,65,17,61,57,57,61,61,57,65,53,53,53,65,53,53,53,41,53,41,53,53,33,25,53,49,33,17,37,33,49,33,41,61,41,41,69,53,41,61,29,41,41,41,61,53,49,65,73,21,45,61,53,73,41,41,53,57,57,77,49,61,57,65,69,69,69,77,57,53,65,49,85,69,65,57,53,73,57,45,73,53,53,53,53,53,65,45,57,41,41,73,65,61,57,57,73,57,73,41,49,61,65,73,61,53,61,85,61,57,57,57,45,41,57,57,61,73,69,61,65,61,77,57,49,57,73,73,53,61,57,61,69,57,61,57,61,53,53,61,57,61,53,61,61,53,49,53,57,45,49,41,33,61,45,49,53,57,37,61,45,37,53,57,53,25,37,45,41,41,45,41,53,37,41,53,41,45,61,61,53,37,69,57,49,45,45,45,45,37,49,37,45,45,49,45,45,73,49,45,45,69,69,37,61,53,49,57,57,41,41,41,41,53,29,45,41,37,33,33,33,41,5,5,57,61]},\"selected\":{\"id\":\"63a2e226-c233-4070-9c2c-acd585941419\",\"type\":\"Selection\"},\"selection_policy\":{\"id\":\"77545462-4196-41bd-8c2d-b7799e8b348b\",\"type\":\"UnionRenderers\"}},\"id\":\"dd041195-acf3-452e-afbf-6b923a66f207\",\"type\":\"ColumnDataSource\"},{\"attributes\":{},\"id\":\"d2f0e1fa-021d-4681-85ef-2e778aca5008\",\"type\":\"ResetTool\"},{\"attributes\":{},\"id\":\"408db1ba-38bf-4981-8e20-13beac6de9b2\",\"type\":\"BasicTicker\"},{\"attributes\":{\"overlay\":{\"id\":\"035e1a40-b7a3-47c5-b26a-9ab410d064f3\",\"type\":\"BoxAnnotation\"}},\"id\":\"99ab758a-757f-47c3-a960-9d50deb5c449\",\"type\":\"BoxZoomTool\"},{\"attributes\":{},\"id\":\"63a2e226-c233-4070-9c2c-acd585941419\",\"type\":\"Selection\"},{\"attributes\":{\"below\":[{\"id\":\"83171456-1d91-4aa2-ab2a-b4160c56cbc4\",\"type\":\"LinearAxis\"}],\"left\":[{\"id\":\"05bb4b8e-cf1a-48df-8560-7caa3026e389\",\"type\":\"LinearAxis\"}],\"plot_height\":200,\"plot_width\":500,\"renderers\":[{\"id\":\"83171456-1d91-4aa2-ab2a-b4160c56cbc4\",\"type\":\"LinearAxis\"},{\"id\":\"2f888b61-8a8a-41b5-9cab-9e4ef15d0050\",\"type\":\"Grid\"},{\"id\":\"05bb4b8e-cf1a-48df-8560-7caa3026e389\",\"type\":\"LinearAxis\"},{\"id\":\"73e04785-62d6-4aee-9825-866dbf58aede\",\"type\":\"Grid\"},{\"id\":\"035e1a40-b7a3-47c5-b26a-9ab410d064f3\",\"type\":\"BoxAnnotation\"},{\"id\":\"46aa2556-4018-44d7-8d93-7d15f23f7fb2\",\"type\":\"GlyphRenderer\"}],\"title\":{\"id\":\"2a77213f-4ee4-49a9-a856-27610091972c\",\"type\":\"Title\"},\"toolbar\":{\"id\":\"817a3027-533b-44d5-9984-e916490be436\",\"type\":\"Toolbar\"},\"x_range\":{\"id\":\"3d7be71c-9b40-45e9-9c64-c69994c8d5aa\",\"type\":\"DataRange1d\"},\"x_scale\":{\"id\":\"aff1a6b5-4c7d-415e-91ad-dd8ea43cac63\",\"type\":\"LinearScale\"},\"y_range\":{\"id\":\"987e0ac2-e4d5-4fd7-aad4-861d8aa64e9c\",\"type\":\"DataRange1d\"},\"y_scale\":{\"id\":\"9d9dc71a-cab9-4e9a-a36a-1148f3680168\",\"type\":\"LinearScale\"}},\"id\":\"ae74d114-27af-42a9-8eae-500889b538cc\",\"subtype\":\"Figure\",\"type\":\"Plot\"},{\"attributes\":{\"interval\":12},\"id\":\"c177f698-fa41-4a6e-80d9-ab9473c57e01\",\"type\":\"SingleIntervalTicker\"},{\"attributes\":{},\"id\":\"77545462-4196-41bd-8c2d-b7799e8b348b\",\"type\":\"UnionRenderers\"},{\"attributes\":{\"bottom_units\":\"screen\",\"fill_alpha\":{\"value\":0.5},\"fill_color\":{\"value\":\"lightgrey\"},\"left_units\":\"screen\",\"level\":\"overlay\",\"line_alpha\":{\"value\":1.0},\"line_color\":{\"value\":\"black\"},\"line_dash\":[4,4],\"line_width\":{\"value\":2},\"plot\":null,\"render_mode\":\"css\",\"right_units\":\"screen\",\"top_units\":\"screen\"},\"id\":\"035e1a40-b7a3-47c5-b26a-9ab410d064f3\",\"type\":\"BoxAnnotation\"},{\"attributes\":{},\"id\":\"9d9dc71a-cab9-4e9a-a36a-1148f3680168\",\"type\":\"LinearScale\"}],\"root_ids\":[\"ae74d114-27af-42a9-8eae-500889b538cc\"]},\"title\":\"Bokeh Application\",\"version\":\"0.12.16\"}};\n",
              "  var render_items = [{\"docid\":\"1a34c12c-9b4d-4c28-ae0b-9d22f8164894\",\"elementid\":\"feee0b76-42cf-4612-ae9d-a3f181c4c61e\",\"modelid\":\"ae74d114-27af-42a9-8eae-500889b538cc\"}];\n",
              "  root.Bokeh.embed.embed_items_notebook(docs_json, render_items);\n",
              "\n",
              "  }\n",
              "  if (root.Bokeh !== undefined) {\n",
              "    embed_document(root);\n",
              "  } else {\n",
              "    var attempts = 0;\n",
              "    var timer = setInterval(function(root) {\n",
              "      if (root.Bokeh !== undefined) {\n",
              "        embed_document(root);\n",
              "        clearInterval(timer);\n",
              "      }\n",
              "      attempts++;\n",
              "      if (attempts > 100) {\n",
              "        console.log(\"Bokeh: ERROR: Unable to run BokehJS code because BokehJS library is missing\")\n",
              "        clearInterval(timer);\n",
              "      }\n",
              "    }, 10, root)\n",
              "  }\n",
              "})(window);"
            ],
            "application/vnd.bokehjs_exec.v0+json": ""
          },
          "metadata": {
            "tags": [],
            "application/vnd.bokehjs_exec.v0+json": {
              "id": "ae74d114-27af-42a9-8eae-500889b538cc"
            }
          }
        },
        {
          "output_type": "display_data",
          "data": {
            "text/plain": [
              "<IPython.core.display.HTML object>"
            ],
            "text/html": [
              "<div id=\"id_4\"> </div>"
            ]
          },
          "metadata": {
            "tags": []
          }
        }
      ]
    }
  ]
}