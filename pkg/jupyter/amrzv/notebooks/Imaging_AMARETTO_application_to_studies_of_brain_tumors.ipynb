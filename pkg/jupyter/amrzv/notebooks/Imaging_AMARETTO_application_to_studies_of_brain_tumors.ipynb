{
  "nbformat": 4,
  "nbformat_minor": 0,
  "metadata": {
    "colab": {
      "name": "Imaging-AMARETTO application to studies of brain tumors.ipynb",
      "provenance": [],
      "collapsed_sections": []
    },
    "kernelspec": {
      "display_name": "R",
      "language": "R",
      "name": "ir"
    }
  },
  "cells": [
    {
      "cell_type": "markdown",
      "metadata": {
        "id": "i_1GenMUNRZT"
      },
      "source": [
        "# Imaging-AMARETTO: an imaging genomics software tool to systematically interrogate multi-omics networks for relevance to radiography and histopathology imaging biomarkers of clinical outcomes with application to studies of brain tumors\n",
        "\n",
        "#### Olivier Gevaert<sup>&#35;</sup>, Mohsen Nabian<sup>&#35;</sup>, Shaimaa Bakr, Celine Everaert, Jayendra Shinde, Artur Manukyan, Ted Liefeld, Thorin Tabor, Jishu Xu, Joachim Lupberger, Brian J. Haas, Thomas F. Baumert, Mikel Hernaez, Michael Reich, Francisco Quintana, Erik J. Uhlmann, Anna M. Krichevsky, Jill P. Mesirov<sup>&#42;</sup>, Vincent Carey<sup>&#42;</sup>, Nathalie Pochet<sup>&#42;</sup>\n",
        "\n"
      ]
    },
    {
      "cell_type": "markdown",
      "metadata": {
        "id": "HYos0tjv85mm"
      },
      "source": [
        "## The &#42;AMARETTO framework\n",
        "We present <B>&#42;AMARETTO</B> as a software toolbox for network biology and medicine, towards developing a data-driven platform for diagnostic, prognostic and therapeutic decision-making in cancer. &#42;AMARETTO links diseases, drivers, targets and drugs via network graph-based fusion of multi-omics, clinical, imaging, and driver and drug perturbation data across model systems and patient studies of cancer. The &#42;AMARETTO platform features a modular approach to incorporating prior biological knowledge based on multimodal and multiscale network-structured modeling:\n",
        "\n",
        "<B>1.</B> The <B>AMARETTO</B> algorithm learns networks of regulatory modules or circuits - circuits of drivers and target genes - from functional genomics or multi-omics data and associates these circuits to clinical, molecular and imaging-derived phenotypes within each biological system (e.g., model systems or patients);<BR>\n",
        "<B>2.</B> The <B>Community-AMARETTO</B> algorithm learns subnetworks of regulatory circuits that are shared or distinct across networks derived from multiple biological systems (e.g., model systems and patients, cohorts and individuals, diseases and etiologies, in vitro and in vivo systems);<BR>\n",
        "<B>3.</B> The <B>Perturbation-AMARETTO</B> algorithm maps genetic and chemical perturbations in model systems onto patient-derived networks for driver and drug discovery, respectively, and prioritizes lead drivers, targets and drugs for follow-up with experimental validation;<BR>\n",
        "<B>4.</B> The <B>Imaging-AMARETTO</B> algorithm maps radiographic and histopathology imaging data onto the patient-derived multi-omics networks for non-invasive and histopathology imaging diagnostics."
      ]
    },
    {
      "cell_type": "markdown",
      "metadata": {
        "id": "qbj3hNYi8-dv"
      },
      "source": [
        "## In this tutorial, we will guide you through the following steps for running the Imaging-AMARETTO toolbox in R via GitHub <br><br>\n",
        "\n",
        "<B>Step 1</B>: Before you begin, install software for running Imaging-AMARETTO<br>\n",
        "\n",
        "<B>Step 2</B>: Preparing data for running Imaging-AMARETTO<br>\n",
        "\n",
        "<B>Step 3</B>: Running Imaging-AMARETTO to identify multi-omics regulatory networks for the TCGA GBM cohort<br>\n",
        "\n",
        "<B>Step 4</B>: Running Imaging-AMARETTO to identify multi-omics regulatory networks for the TCGA LGG cohort<br>\n",
        "\n",
        "<B>Step 5</B>: Running Imaging-AMARETTO to identify transcriptional regulatory networks for the IvyGAP GBM cohort<br>\n",
        "\n",
        "<B>Step 6</B>: Running Imaging-Community-AMARETTO to identify regulatory subnetworks shared or distinct across the TCGA GBM, IvyGAP GBM and TCGA LGG cohorts<br>\n",
        "\n",
        "<B>Time complexity</B>, <B>Resources</B>, <B>References</B>, and <B>Funding</B><br><br>\n",
        "\n",
        "<B>Questions?</B>\n",
        "\n",
        "For any questions with the Imaging-AMARETTO Notebooks, please contact <B>Nathalie Pochet</B> (<npochet@broadinstitute.org>) and <B>Olivier Gevaert</B> (<ogevaert@stanford.edu>).\n"
      ]
    },
    {
      "cell_type": "markdown",
      "metadata": {
        "id": "xqlx2S-M9HYW"
      },
      "source": [
        "#Before you begin, install software for running Imaging-AMARETTO\n",
        "\n",
        "Import libraries required for running the Imaging-AMARETTO in R Notebook by running the following code cells.\n",
        "\n",
        "The Imaging-AMARETTO toolbox can be installed from GitHub (development versions) or from Bioconductor (future: official releases).\n"
      ]
    },
    {
      "cell_type": "markdown",
      "metadata": {
        "id": "uRsSjKyVHJSo"
      },
      "source": [
        "### Installing systems libraries on Linux server"
      ]
    },
    {
      "cell_type": "markdown",
      "metadata": {
        "id": "-_Wboy5QNZAj"
      },
      "source": [
        "Installing libraries on Google Colaboratory or own Linux servers using the collowing code cell. Note: this requires sudo access."
      ]
    },
    {
      "cell_type": "code",
      "metadata": {
        "id": "G40I2aCzHNWV"
      },
      "source": [
        "system(\"sudo apt-get install libv8-dev\", intern = TRUE, ignore.stderr = TRUE)"
      ],
      "execution_count": null,
      "outputs": []
    },
    {
      "cell_type": "code",
      "metadata": {
        "id": "jlkWzhbd523Y"
      },
      "source": [
        "if (!requireNamespace(\"BiocManager\", quietly = TRUE))\n",
        "    install.packages(\"BiocManager\")"
      ],
      "execution_count": null,
      "outputs": []
    },
    {
      "cell_type": "code",
      "metadata": {
        "id": "-Wn_vBoU53nN"
      },
      "source": [
        "BiocManager::install(\"ComplexHeatmap\")\n",
        "install.packages(\"devtools\")\n",
        "library(devtools)"
      ],
      "execution_count": null,
      "outputs": []
    },
    {
      "cell_type": "code",
      "metadata": {
        "id": "xtLxVHQA9tcU"
      },
      "source": [
        "if (!requireNamespace(\"BiocManager\", quietly = TRUE))\n",
        "  install.packages(\"BiocManager\")\n",
        "\n",
        "BiocManager::install(\"ivygapSE\")\n",
        "library(ivygapSE)"
      ],
      "execution_count": null,
      "outputs": []
    },
    {
      "cell_type": "markdown",
      "metadata": {
        "id": "iumPMoglGMLI"
      },
      "source": [
        "### Installing and loading Imaging-AMARETTO"
      ]
    },
    {
      "cell_type": "markdown",
      "metadata": {
        "id": "HiYk6dv0lJEE"
      },
      "source": [
        "Installing the latest versions of Imaging-AMARETTO. This may take a few minutes...  ( In case of getting installation error, you can skip the line and run the next installation commands. "
      ]
    },
    {
      "cell_type": "code",
      "metadata": {
        "id": "bVLLq-d2jolm"
      },
      "source": [
        "devtools::install_github(\"broadinstitute/ImagingAMARETTO \", ref=\"master\", dependencies=TRUE)"
      ],
      "execution_count": null,
      "outputs": []
    },
    {
      "cell_type": "code",
      "metadata": {
        "id": "owEi-bqER2cN"
      },
      "source": [
        "library(\"ImagingAMARETTO\")"
      ],
      "execution_count": null,
      "outputs": []
    },
    {
      "cell_type": "markdown",
      "metadata": {
        "id": "DJoDxxveszV1"
      },
      "source": [
        "installationNote : Only run the following command if you recieve an error for the previous two commands. Otherwise, simply skip the following command."
      ]
    },
    {
      "cell_type": "code",
      "metadata": {
        "id": "HfAYHQ66sffn"
      },
      "source": [
        "devtools::install_github(\"gevaertlab/AMARETTO\", ref=\"master\", dependencies=TRUE)\n",
        "library(\"AMARETTO\")\n",
        "devtools::install_github(\"broadinstitute/CommunityAMARETTO\", ref=\"master\", dependencies=TRUE)\n",
        "library(\"CommunityAMARETTO\")"
      ],
      "execution_count": null,
      "outputs": []
    },
    {
      "cell_type": "markdown",
      "metadata": {
        "id": "wN0_oHgMOj3J"
      },
      "source": [
        "#A. Running Imaging-AMARETTO to identify multi-omics or transcriptional regulatory networks for the TCGA GBM, IvyGAP GBM and TCGA LGG cohorts\n"
      ]
    },
    {
      "cell_type": "markdown",
      "metadata": {
        "id": "8T_ikX-MOnLQ"
      },
      "source": [
        "##A1. Running Imaging-AMARETTO to identify multi-omics regulatory networks for the TCGA GBM cohort"
      ]
    },
    {
      "cell_type": "markdown",
      "metadata": {
        "id": "w1rtI-hkYmHn"
      },
      "source": [
        "### Loading multi-omics data from TCGA GBM cohort"
      ]
    },
    {
      "cell_type": "markdown",
      "metadata": {
        "id": "d48POtyZ1v6v"
      },
      "source": [
        "Loading Multi-Omics data including Gene Expression (MA), Copy Number Variation (CNV) and DNA Methylation (MET) : (Only MA is mandatory) "
      ]
    },
    {
      "cell_type": "code",
      "metadata": {
        "id": "j95zx5MlOw2N"
      },
      "source": [
        "MA_matrix_GBM <-read_gct(url('http://portals.broadinstitute.org/pochetlab/demo/NotebookExample/ExampleData/TCGA_GBM_Expression.gct'))\n",
        "CNV_matrix_GBM <-read_gct(url('http://portals.broadinstitute.org/pochetlab/demo/NotebookExample/ExampleData/TCGA_GBM_CNV.gct'))\n",
        "MET_matrix_GBM <-read_gct(url('http://portals.broadinstitute.org/pochetlab/demo/NotebookExample/ExampleData/TCGA_GBM_Methylation.gct'))"
      ],
      "execution_count": null,
      "outputs": []
    },
    {
      "cell_type": "code",
      "metadata": {
        "id": "Dp7eoEMAZPe6"
      },
      "source": [
        "ProcessedData_TCGA_GBM = list(MA_matrix=MA_matrix_GBM, CNV_matrix=CNV_matrix_GBM, MET_matrix=MET_matrix_GBM)"
      ],
      "execution_count": null,
      "outputs": []
    },
    {
      "cell_type": "markdown",
      "metadata": {
        "id": "mffbRz5pZqic"
      },
      "source": [
        "### Defining List(s) of Candidate Driver Genes  (Optional)\n",
        "\n",
        "In case CNV and/or MET data are submitted in addition to MA data, you can choose to either (<B>1</B>) use those as candidate drivers, or (<B>2</B>) take the union of these with predefined lists of candidate drivers, or (<B>3</B>) take the intersection with predefined lists of candidate drivers.\n",
        "\n",
        "Alternatively, for example, if only MA data is available, you should select or upload a predefined list of candidate driver genes (required)."
      ]
    },
    {
      "cell_type": "code",
      "metadata": {
        "id": "eyxl5kpivesz"
      },
      "source": [
        "data(Driver_Genes)\n",
        "candidate_drivers<-Driver_Genes$Cancer_Gene_Census"
      ],
      "execution_count": null,
      "outputs": []
    },
    {
      "cell_type": "markdown",
      "metadata": {
        "id": "K_Nr0PYRZ7u1"
      },
      "source": [
        "### Setting parameters for running Imaging-AMARETTO (Required)\n",
        "\n",
        "Core parameters that can be set by the user for running Imaging-AMARETTO include:\n",
        "\n",
        "(<B>1</B>) <B>Number of regulatory modules</B> (i.e., cell circuits and their drivers) to be inferred. As a rule of thumb, hiqh quality regulatory modules  comprise of ~60-80 genes, so the optimal range of number of modules can be calculated by dividing the total number of genes in the analysis (see parameter % variation) by these numbers. Depending on the number of genes in the analysis, the ideal suggested range is ~100-200 modules.\n",
        "\n",
        "(<B>2</B>) <B>Percentage of most varying genes</B> across the sample population (% genes) to be included in the analysis. This is based on the functional genomics data, which can be population RNA-Seq, single-cell RNA-Seq, or proteomics data. While genes that do not vary across the population (i.e., stdev zero) are automatically filtered out from the analysis, it is recommended to adjust the % variation filter for each dataset. Depending on the type of data, the ideal suggested range is ~25%-75% genes that vary the most across the population."
      ]
    },
    {
      "cell_type": "code",
      "metadata": {
        "id": "MG1WwCKNaDPJ"
      },
      "source": [
        "NrModules = 150\n",
        "VarPercentage = 75"
      ],
      "execution_count": null,
      "outputs": []
    },
    {
      "cell_type": "markdown",
      "metadata": {
        "id": "dQ-ODnFUKnBG"
      },
      "source": [
        "### Running Imaging-AMARETTO for inferring regulatory networks from multi-omics data\n",
        "\n",
        "By running the following code cell, you can now run the Imaging-AMARETTO algorithm. This may take some time (see section \"Time complexity of Imaging-AMARETTO\" below)."
      ]
    },
    {
      "cell_type": "code",
      "metadata": {
        "id": "XaOcIGQ4Wx4U"
      },
      "source": [
        "ProcessedData_TCGA_GBM = list(MA_matrix=MA_matrix_GBM, CNV_matrix=CNV_matrix_GBM, MET_matrix=MET_matrix_GBM)\n",
        "AMARETTOinit_GBM <- AMARETTO_Initialize(ProcessedData = ProcessedData_TCGA_GBM,\n",
        "                                        Driver_list = candidate_drivers,\n",
        "                                        method = \"union\",\n",
        "                                        NrModules = NrModules,\n",
        "                                        VarPercentage = VarPercentage,\n",
        "                                        NrCores = 4)\n",
        "\n",
        "AMARETTOresults_GBM<-AMARETTO_Run(AMARETTOinit_GBM)"
      ],
      "execution_count": null,
      "outputs": []
    },
    {
      "cell_type": "markdown",
      "metadata": {
        "id": "Hm75jtYDI4LA"
      },
      "source": [
        "### Functional Enrichment Analysis (Optional)\n",
        "We here Perform <B> Fuctional Enrichment Analysis</B> using a <B>collections of known functional categories</B> for functional characterization of the regulatory modules or cell circuits, such as, for example, the Hallmark and C2 collections from MSigDB, Immune signatures, Stromal signatures and stemess signatures. More collections can be downloaded from <http://software.broadinstitute.org/gsea/msigdb/collections.jsp>) and/or uploaded by the user in .GMT format.\n"
      ]
    },
    {
      "cell_type": "code",
      "metadata": {
        "id": "6q4c01eEKd6n"
      },
      "source": [
        "functional_gmts<-c(url(\"http://portals.broadinstitute.org/pochetlab/demo/NotebookExample/ExampleData/H_C2_genesets.gmt\"),\n",
        "                   url(\"http://portals.broadinstitute.org/pochetlab/demo/NotebookExample/ExampleData/ImmuneSignatures.gmt\"),\n",
        "                   url(\"http://portals.broadinstitute.org/pochetlab/demo/NotebookExample/ExampleData/StromalSignatures.gmt\"),\n",
        "                   url(\"http://portals.broadinstitute.org/pochetlab/demo/NotebookExample/ExampleData/StemnessSignatures.gmt\"))\n",
        "GBM_hgtest_tbl<-HyperGeoEnrichmentTest(AMARETTOresults=AMARETTOresults_GB,hyper_geo_reference=functional_gmts,driverGSEA=TRUE, NrCores=5)"
      ],
      "execution_count": null,
      "outputs": []
    },
    {
      "cell_type": "markdown",
      "metadata": {
        "id": "rUKbbaANFmgl"
      },
      "source": [
        "### Driver Validation (Optional)\n",
        "We here Perform <B> Driver Validation study </B> using a <B>collections of known driver perturbation studies</B> for the driver validation of the inferred Imaging-AMARETTO regulatory modules. "
      ]
    },
    {
      "cell_type": "code",
      "metadata": {
        "id": "xRiVpWdEKd6q"
      },
      "source": [
        "genetic_gmts<-c(url(\"http://portals.broadinstitute.org/pochetlab/demo/NotebookExample/ExampleData/GeneticPerturbationSignatures.gmt\"),\n",
        "                url(\"http://portals.broadinstitute.org/pochetlab/demo/NotebookExample/ExampleData/ChEABindingSignatures.gmt\"),\n",
        "                url(\"http://portals.broadinstitute.org/pochetlab/demo/NotebookExample/ExampleData/ConsensusBindingSignatures.gmt\"),\n",
        "                url(\"http://portals.broadinstitute.org/pochetlab/demo/NotebookExample/ExampleData/EncodeBindingSignatures.gmt\"))\n",
        "GBM_hgtest_tbl_gp<-HyperGeoEnrichmentTest(AMARETTOresults=AMARETTOresults_GBM,hyper_geo_reference=genetic_gmts,driverGSEA=TRUE, NrCores=5)"
      ],
      "execution_count": null,
      "outputs": []
    },
    {
      "cell_type": "markdown",
      "metadata": {
        "id": "BDQU0Hg8JiOK"
      },
      "source": [
        "### Imaging and Clinical Phenotype Association \n",
        "\n",
        "(<B>2</B>) We here define 1) <B>Imaging phenotypes</B> as well as <B>Cilinical and Molecular phenotypes</B> and 2) their corresponding statistical tests to be implemented for phenotype association. Imaging and Clinical and Phenotypes are used for visualization on the heatmaps of regulatory modules generated by Imaging-AMARETTO, as well as tested for their associations with regulatory modules using statistical tests provided by Imaging-AMARETTO."
      ]
    },
    {
      "cell_type": "code",
      "metadata": {
        "id": "7AD3s_e-JifD"
      },
      "source": [
        "sample_annotations_GBM<-readr::read_delim(url(\"http://portals.broadinstitute.org/pochetlab/demo/NotebookExample/ExampleData/Samples_GBM_phenotypes.txt\"),delim=\"\\t\")\n",
        "phenotype_tests_GBM<-readr::read_delim(url(\"http://portals.broadinstitute.org/pochetlab/demo/NotebookExample/ExampleData/Samples_GBM_statistics.txt\"),delim=\"\\t\",col_names=TRUE)\n",
        "GBM_phenotype_tests_all<-AMARETTO_unite_results(AMARETTO_statistical_test(AMARETTOinit_GBM,AMARETTOresults_GBM,sample_annotations_GBM_all,phenotype_tests_GBM_all))"
      ],
      "execution_count": null,
      "outputs": []
    },
    {
      "cell_type": "markdown",
      "metadata": {
        "id": "FZAz1u0raLn-"
      },
      "source": [
        "### Generating an HTML report for Imaging-AMARETTO results\n",
        "By running the following code cell, the Imaging-AMARETTO report will be generated and can be accessed in the left panel. To distingusish <B> Imaging Phenotypes </B> we provide appropriate keywords for imaging_phenotypes_keywords parameter. (here: \"vasari\")"
      ]
    },
    {
      "cell_type": "code",
      "metadata": {
        "id": "e6LgGBhvXCbN"
      },
      "source": [
        "dir.create('./AMARETTO_results') \n",
        "dir.create('./AMARETTO_results/GBM_Report_GCO') \n",
        "pp<-AMARETTO_HTMLreport(AMARETTOinit=AMARETTOinit_GBM,\n",
        "                    AMARETTOresults=AMARETTOresults_GBM,\n",
        "                    ProcessedData_TCGA_GBM,\n",
        "                    hyper_geo_reference=GBM_hgtest_tbl,\n",
        "                    genetic_pert_hyper_geo_reference = GBM_hgtest_tbl_gp,\n",
        "                    output_address='./AMARETTO_results/GBM_Report_GCO',\n",
        "                    SAMPLE_annotation=sample_annotations_GBM,\n",
        "                    ID='Sample',\n",
        "                    show_row_names=FALSE,\n",
        "                    phenotype_association_table = GBM_phenotype_tests_all,\n",
        "                    imaging_phenotypes_keywords = c(\"vasari\"))"
      ],
      "execution_count": null,
      "outputs": []
    },
    {
      "cell_type": "markdown",
      "metadata": {
        "id": "BFBq8tXrOoxF"
      },
      "source": [
        "##A2. Running Imaging-AMARETTO to identify multi-omics regulatory networks for the TCGA LGG cohort\n"
      ]
    },
    {
      "cell_type": "markdown",
      "metadata": {
        "id": "18a2kUR1Rbfz"
      },
      "source": [
        "Loading Multi-Omics data including Gene Expression (MA), Copy Number Variation (CNV) and DNA Methylation (MET) : (Only MA is mandatory) "
      ]
    },
    {
      "cell_type": "code",
      "metadata": {
        "id": "hPVw1GBUO4Hx"
      },
      "source": [
        "MA_matrix_LGG <-read_gct(url('http://portals.broadinstitute.org/pochetlab/demo/NotebookExample/ExampleData/TCGA_LGG_Expression.gct'))\n",
        "CNV_matrix_LGG <-read_gct(url('http://portals.broadinstitute.org/pochetlab/demo/NotebookExample/ExampleData/TCGA_LGG_CNV.gct'))\n",
        "MET_matrix_LGG <-read_gct(url('http://portals.broadinstitute.org/pochetlab/demo/NotebookExample/ExampleData/TCGA_LGG_Methylation.gct'))"
      ],
      "execution_count": null,
      "outputs": []
    },
    {
      "cell_type": "code",
      "metadata": {
        "id": "NoyVLWgXfCEJ"
      },
      "source": [
        "ProcessedData_TCGA_LGG = list(MA_matrix=MA_matrix_LGG, CNV_matrix=CNV_matrix_LGG, MET_matrix=MET_matrix_LGG)"
      ],
      "execution_count": null,
      "outputs": []
    },
    {
      "cell_type": "markdown",
      "metadata": {
        "id": "S5iunrZ_gDl7"
      },
      "source": [
        "### Defining List(s) of Candidate Driver Genes  (Optional)\n",
        "\n",
        "In case CNV and/or MET data are submitted in addition to MA data, you can choose to either (<B>1</B>) use those as candidate drivers, or (<B>2</B>) take the union of these with predefined lists of candidate drivers, or (<B>3</B>) take the intersection with predefined lists of candidate drivers.\n",
        "\n",
        "Alternatively, for example, if only MA data is available, you should select or upload a predefined list of candidate driver genes (required)."
      ]
    },
    {
      "cell_type": "code",
      "metadata": {
        "id": "ldDkqdQ8gDl-"
      },
      "source": [
        "data(Driver_Genes)\n",
        "candidate_drivers<-Driver_Genes$Cancer_Gene_Census"
      ],
      "execution_count": null,
      "outputs": []
    },
    {
      "cell_type": "markdown",
      "metadata": {
        "id": "ZtZ0eHLTSxUQ"
      },
      "source": [
        "Running Imaging-AMARETTO core for regulatory network inference :\n",
        "Number of regulatory modules (NrModules), percentage of most varying genes (VarPercentage) are required. Here we specified NrModules and VarPercentage to be 150 and 75 respectively. We can optionally specify number of cores (NrCores) for parallel processing. As for the combination method for (1) the computed and (2) the predefined list of drivers, we specified \"union\" (as opposed to \"intersection\").\n"
      ]
    },
    {
      "cell_type": "markdown",
      "metadata": {
        "id": "IoPM6AW_gSjl"
      },
      "source": [
        "### Setting parameters for running Imaging-AMARETTO (Required)\n",
        "\n",
        "Core parameters that can be set by the user for running Imaging-AMARETTO include:\n",
        "\n",
        "(<B>1</B>) <B>Number of regulatory modules</B> (i.e., cell circuits and their drivers) to be inferred. As a rule of thumb, hiqh quality regulatory modules  comprise of ~60-80 genes, so the optimal range of number of modules can be calculated by dividing the total number of genes in the analysis (see parameter % variation) by these numbers. Depending on the number of genes in the analysis, the ideal suggested range is ~100-200 modules.\n",
        "\n",
        "(<B>2</B>) <B>Percentage of most varying genes</B> across the sample population (% genes) to be included in the analysis. This is based on the functional genomics data, which can be population RNA-Seq, single-cell RNA-Seq, or proteomics data. While genes that do not vary across the population (i.e., stdev zero) are automatically filtered out from the analysis, it is recommended to adjust the % variation filter for each dataset. Depending on the type of data, the ideal suggested range is ~25%-75% genes that vary the most across the population."
      ]
    },
    {
      "cell_type": "code",
      "metadata": {
        "id": "y5j9hVTDgSjm"
      },
      "source": [
        "NrModules = 150\n",
        "VarPercentage = 75"
      ],
      "execution_count": null,
      "outputs": []
    },
    {
      "cell_type": "markdown",
      "metadata": {
        "id": "kqAyOeXjgddG"
      },
      "source": [
        "### Running Imaging-AMARETTO for inferring regulatory networks from multi-omics data\n",
        "\n",
        "By running the following code cell, you can now run the Imaging-AMARETTO algorithm. This may take some time (see section \"Time complexity of Imaging-AMARETTO\" below)."
      ]
    },
    {
      "cell_type": "code",
      "metadata": {
        "id": "RjK7dhs1XImg"
      },
      "source": [
        "AMARETTOinit_LGG <- AMARETTO_Initialize(ProcessedData = ProcessedData_TCGA_LGG,\n",
        "                                         Driver_list = all_drives_LGG,\n",
        "                                         method = \"union\",\n",
        "                                         NrModules = NrModules,\n",
        "                                         VarPercentage = VarPercentage,\n",
        "                                         NrCores = 4)\n",
        "AMARETTOresults_LGG<-AMARETTO_Run(AMARETTOinit_LGG)"
      ],
      "execution_count": null,
      "outputs": []
    },
    {
      "cell_type": "markdown",
      "metadata": {
        "id": "A_d7KZdAg2Gr"
      },
      "source": [
        "### Functional Enrichment Analysis (Optional)\n",
        "We here Perform <B> Fuctional Enrichment Analysis</B> using a <B>collections of known functional categories</B> for functional characterization of the regulatory modules or cell circuits, such as, for example, the Hallmark and C2 collections from MSigDB, Immune signatures, Stromal signatures and stemess signatures. More collections can be downloaded from <http://software.broadinstitute.org/gsea/msigdb/collections.jsp>) and/or uploaded by the user in .GMT format.\n"
      ]
    },
    {
      "cell_type": "code",
      "metadata": {
        "id": "O-ijvxUNg2Gt"
      },
      "source": [
        "functional_gmts<-c(url(\"http://portals.broadinstitute.org/pochetlab/demo/NotebookExample/ExampleData/H_C2_genesets.gmt\"),\n",
        "                   url(\"http://portals.broadinstitute.org/pochetlab/demo/NotebookExample/ExampleData/ImmuneSignatures.gmt\"),\n",
        "                   url(\"http://portals.broadinstitute.org/pochetlab/demo/NotebookExample/ExampleData/StromalSignatures.gmt\"),\n",
        "                   url(\"http://portals.broadinstitute.org/pochetlab/demo/NotebookExample/ExampleData/StemnessSignatures.gmt\"))\n",
        "LGG_hgtest_tbl<-HyperGeoEnrichmentTest(AMARETTOresults=AMARETTOresults_LGG,hyper_geo_reference=functional_gmts,driverGSEA=TRUE, NrCores=5)"
      ],
      "execution_count": null,
      "outputs": []
    },
    {
      "cell_type": "markdown",
      "metadata": {
        "id": "qhQjUob4g2Gv"
      },
      "source": [
        "### Driver Validation (Optional)\n",
        "We here Perform <B> Driver Validation study </B> using a <B>collections of known driver perturbation studies</B> for the driver validation of the inferred Imaging-AMARETTO regulatory modules. "
      ]
    },
    {
      "cell_type": "code",
      "metadata": {
        "id": "Ytw4vkXig2Gw"
      },
      "source": [
        "genetic_gmts<-c(url(\"http://portals.broadinstitute.org/pochetlab/demo/NotebookExample/ExampleData/GeneticPerturbationSignatures.gmt\"),\n",
        "                url(\"http://portals.broadinstitute.org/pochetlab/demo/NotebookExample/ExampleData/ChEABindingSignatures.gmt\"),\n",
        "                url(\"http://portals.broadinstitute.org/pochetlab/demo/NotebookExample/ExampleData/ConsensusBindingSignatures.gmt\"),\n",
        "                url(\"http://portals.broadinstitute.org/pochetlab/demo/NotebookExample/ExampleData/EncodeBindingSignatures.gmt\"))\n",
        "LGG_hgtest_tbl_gp<-HyperGeoEnrichmentTest(AMARETTOresults=AMARETTOresults_LGG,hyper_geo_reference=genetic_gmts,driverGSEA=TRUE, NrCores=5)"
      ],
      "execution_count": null,
      "outputs": []
    },
    {
      "cell_type": "markdown",
      "metadata": {
        "id": "EujOakV7hUwR"
      },
      "source": [
        "### Imaging and Clinical Phenotype Association (Optional)\n",
        "\n",
        "(<B>2</B>) We here define 1) <B>Imaging phenotypes</B> as well as <B>Clinical and Molecular phenotypes</B> and 2) their corresponding statistical tests to be implemented for phenotype association. Imaging and Clinical and Phenotypes are used for visualization on the heatmaps of regulatory modules generated by Imaging-AMARETTO, as well as tested for their associations with regulatory modules using statistical tests provided by Imaging-AMARETTO."
      ]
    },
    {
      "cell_type": "code",
      "metadata": {
        "id": "eWkt3KlWhUwS"
      },
      "source": [
        "sample_annotations_LGG_all<-read.csv(url(\"http://portals.broadinstitute.org/pochetlab/demo/NotebookExample/ExampleData/sample_annotations_LGG_all.csv\"))\n",
        "LGG_phenotype_tests_LGG_all<-read.csv(url(\"http://portals.broadinstitute.org/pochetlab/demo/NotebookExample/ExampleData/phenotype_tests_LGG_all.csv\"))\n",
        "LGG_phenotype_tests_all<-AMARETTO_unite_results(AMARETTO_statistical_test(AMARETTOinit_LGG,AMARETTOresults_LGG,sample_annotations_LGG_all,phenotype_tests_LGG_all))"
      ],
      "execution_count": null,
      "outputs": []
    },
    {
      "cell_type": "markdown",
      "metadata": {
        "id": "uy9I5cJdhj-4"
      },
      "source": [
        "### Generating an HTML report for Imaging-AMARETTO results\n",
        "\n",
        "By running the following code cell, the Imaging-AMARETTO report will be generated and can be accessed in the left panel. To distingusish <B> Imaging Phenotypes </B> we provide appropriate keywords for imaging_phenotypes_keywords parameter (here: \"vasari\")."
      ]
    },
    {
      "cell_type": "code",
      "metadata": {
        "id": "hf4efhwYhj-5"
      },
      "source": [
        "dir.create('./AMARETTO_results/LGG_Report_GCO') \n",
        "pp<-AMARETTO_HTMLreport(AMARETTOinit=AMARETTOinit_LGG,\n",
        "                    AMARETTOresults=AMARETTOresults_LGG,\n",
        "                    ProcessedData_TCGA_LGG,\n",
        "                    hyper_geo_reference=LGG_hgtest_tbl,\n",
        "                    genetic_pert_hyper_geo_reference =LGG_hgtest_tbl_gp,\n",
        "                    output_address='./AMARETTO_results/LGG_Report_GCO',\n",
        "                    SAMPLE_annotation=sample_annotations_LGG_all,\n",
        "                    ID='Sample',\n",
        "                    show_row_names=FALSE,\n",
        "                    phenotype_association_table = LGG_phenotype_tests_all,\n",
        "                    imaging_phenotypes_keywords = c(\"vasari\"))"
      ],
      "execution_count": null,
      "outputs": []
    },
    {
      "cell_type": "markdown",
      "metadata": {
        "id": "vH-uBtUGcY5b"
      },
      "source": [
        "##A3. Running Imaging-AMARETTO to identify transcriptional regulatory networks for the IvyGAP GBM cohort\n"
      ]
    },
    {
      "cell_type": "markdown",
      "metadata": {
        "id": "LHjjFEpJh66Y"
      },
      "source": [
        "Loading Gene Expression (MA) data for IvyGAP GBM : We do not use Copy Number Variation (CNV) and DNA Methylation (MET) in this analysis. "
      ]
    },
    {
      "cell_type": "code",
      "metadata": {
        "id": "WntGzjEWcY5e"
      },
      "source": [
        "MA_matrix_ivy_normalized1<-read_gct(url('http://portals.broadinstitute.org/pochetlab/demo/NotebookExample/ExampleData/MA_matrix_ivy_normalized1.gct'))\n",
        "ProcessedData_Ivygap_GBM = list(MA_matrix=MA_matrix_ivy_normalized1, CNV_matrix=NULL, MET_matrix=NULL)"
      ],
      "execution_count": null,
      "outputs": []
    },
    {
      "cell_type": "markdown",
      "metadata": {
        "id": "0UfqnyKcuPje"
      },
      "source": [
        "### Defining List(s) of Candidate Driver Genes  (Required)\n",
        "\n",
        "In case CNV and/or MET data are submitted in addition to MA data, you can choose to either (<B>1</B>) use those as candidate drivers, or (<B>2</B>) take the union of these with predefined lists of candidate drivers, or (<B>3</B>) take the intersection with predefined lists of candidate drivers.\n",
        "\n",
        "Alternatively, for example, if only MA data is available, you should select or upload a predefined list of candidate driver genes (required)."
      ]
    },
    {
      "cell_type": "code",
      "metadata": {
        "id": "CwtP0pqBuPjg"
      },
      "source": [
        "data(Driver_Genes)\n",
        "candidate_drivers<-Driver_Genes$Cancer_Gene_Census"
      ],
      "execution_count": null,
      "outputs": []
    },
    {
      "cell_type": "markdown",
      "metadata": {
        "id": "NyjzmxfwuPjj"
      },
      "source": [
        "Running Imaging-AMARETTO core for regulatory network inference :\n",
        "Number of regulatory modules (NrModules), percentage of most varying genes (VarPercentage) are required. Here we specified NrModules and VarPercentage to be 150 and 75 respectively. We can optionally specify number of cores (NrCores) for parallel processing. As for the combination method for (1) the computed and (2) the predefined list of drivers, we specified \"union\" (as opposed to \"intersection\").\n"
      ]
    },
    {
      "cell_type": "markdown",
      "metadata": {
        "id": "bnjIbOC4urX6"
      },
      "source": [
        "### Setting parameters for running Imaging-AMARETTO (Required)\n",
        "\n",
        "Core parameters that can be set by the user for running Imaging-AMARETTO include:\n",
        "\n",
        "(<B>1</B>) <B>Number of regulatory modules</B> (i.e., cell circuits and their drivers) to be inferred. As a rule of thumb, hiqh quality regulatory modules  comprise of ~60-80 genes, so the optimal range of number of modules can be calculated by dividing the total number of genes in the analysis (see parameter % variation) by these numbers. Depending on the number of genes in the analysis, the ideal suggested range is ~100-200 modules.\n",
        "\n",
        "(<B>2</B>) <B>Percentage of most varying genes</B> across the sample population (% genes) to be included in the analysis. This is based on the functional genomics data, which can be population RNA-Seq, single-cell RNA-Seq, or proteomics data. While genes that do not vary across the population (i.e., stdev zero) are automatically filtered out from the analysis, it is recommended to adjust the % variation filter for each dataset. Depending on the type of data, the ideal suggested range is ~25%-75% genes that vary the most across the population."
      ]
    },
    {
      "cell_type": "code",
      "metadata": {
        "id": "Jdir8Z7qurX7"
      },
      "source": [
        "NrModules = 150\n",
        "VarPercentage = 50"
      ],
      "execution_count": null,
      "outputs": []
    },
    {
      "cell_type": "markdown",
      "metadata": {
        "id": "OrRYMgZ5u1l6"
      },
      "source": [
        "### Running Imaging-AMARETTO for inferring regulatory networks from multi-omics data\n",
        "\n",
        "By running the following code cell, you can now run the Imaging-AMARETTO algorithm. This may take some time (see section \"Time complexity of Imaging-AMARETTO\" below)."
      ]
    },
    {
      "cell_type": "code",
      "metadata": {
        "id": "BevrRd1JcY5k"
      },
      "source": [
        "AMARETTOinit_ivy <- AMARETTO_Initialize(ProcessedData = ProcessedData_TCGA_ivy,\n",
        "                                        Driver_list = all_drives,\n",
        "                                        method = \"union\",\n",
        "                                        NrModules = NrModules,\n",
        "                                        VarPercentage = VarPercentage,\n",
        "                                        NrCores = 8)\n",
        "\n",
        "AMARETTOresults_ivy<-AMARETTO_Run(AMARETTOinit_ivy)"
      ],
      "execution_count": null,
      "outputs": []
    },
    {
      "cell_type": "markdown",
      "metadata": {
        "id": "stRAcuKAvPjx"
      },
      "source": [
        "### Functional Enrichment Analysis (Optional)\n",
        "We here Perform <B> Fuctional Enrichment Analysis</B> using a <B>collections of known functional categories</B> for functional characterization of the regulatory modules or cell circuits, such as, for example, the Hallmark and C2 collections from MSigDB, Immune signatures, Stromal signatures and stemess signatures. More collections can be downloaded from <http://software.broadinstitute.org/gsea/msigdb/collections.jsp>) and/or uploaded by the user in .GMT format.\n"
      ]
    },
    {
      "cell_type": "code",
      "metadata": {
        "id": "uMc6WIA6vPj5"
      },
      "source": [
        "functional_gmts<-c(url(\"http://portals.broadinstitute.org/pochetlab/demo/NotebookExample/ExampleData/H_C2_genesets.gmt\"),\n",
        "                   url(\"http://portals.broadinstitute.org/pochetlab/demo/NotebookExample/ExampleData/ImmuneSignatures.gmt\"),\n",
        "                   url(\"http://portals.broadinstitute.org/pochetlab/demo/NotebookExample/ExampleData/StromalSignatures.gmt\"),\n",
        "                   url(\"http://portals.broadinstitute.org/pochetlab/demo/NotebookExample/ExampleData/StemnessSignatures.gmt\"))\n",
        "ivy_hgtest_tbl<-HyperGeoEnrichmentTest(AMARETTOresults=AMARETTOresults_ivy,hyper_geo_reference=functional_gmts,driverGSEA=TRUE, NrCores=5)"
      ],
      "execution_count": null,
      "outputs": []
    },
    {
      "cell_type": "markdown",
      "metadata": {
        "id": "4hCBAAiCvPj7"
      },
      "source": [
        "### Driver Validation (Optional)\n",
        "We here Perform <B> Driver Validation study </B> using a <B>collections of known driver perturbation studies</B> for the driver validation of the inferred Imaging-AMARETTO regulatory modules. "
      ]
    },
    {
      "cell_type": "code",
      "metadata": {
        "id": "KrrdO8ApvPj8"
      },
      "source": [
        "genetic_gmts<-c(url(\"http://portals.broadinstitute.org/pochetlab/demo/NotebookExample/ExampleData/GeneticPerturbationSignatures.gmt\"),\n",
        "                url(\"http://portals.broadinstitute.org/pochetlab/demo/NotebookExample/ExampleData/ChEABindingSignatures.gmt\"),\n",
        "                url(\"http://portals.broadinstitute.org/pochetlab/demo/NotebookExample/ExampleData/ConsensusBindingSignatures.gmt\"),\n",
        "                url(\"http://portals.broadinstitute.org/pochetlab/demo/NotebookExample/ExampleData/EncodeBindingSignatures.gmt\"))\n",
        "ivy_hgtest_tbl_gp<-HyperGeoEnrichmentTest(AMARETTOresults=AMARETTOresults_ivy,hyper_geo_reference=genetic_gmts,driverGSEA=TRUE, NrCores=5)"
      ],
      "execution_count": null,
      "outputs": []
    },
    {
      "cell_type": "markdown",
      "metadata": {
        "id": "OojfCCaLvfsO"
      },
      "source": [
        "### Imaging and Clinical Phenotype Association (Optional)\n",
        "\n",
        "(<B>2</B>) We here define 1) <B>Imaging phenotypes</B> as well as <B>Clinical and Molecular phenotypes</B> and 2) their corresponding statistical tests to be implemented for phenotype association. Imaging and Clinical and Phenotypes are used for visualization on the heatmaps of regulatory modules generated by Imaging-AMARETTO, as well as tested for their associations with regulatory modules using statistical tests provided by Imaging-AMARETTO."
      ]
    },
    {
      "cell_type": "code",
      "metadata": {
        "id": "KZwrrbB7vfsP"
      },
      "source": [
        "sample_annotations_ivy_all<-read.csv(url(\"http://portals.broadinstitute.org/pochetlab/demo/NotebookExample/ExampleData/sample_annotations_LGG_all.csv\"))\n",
        "phenotype_tests_ivy_all<-read.csv(url(\"http://portals.broadinstitute.org/pochetlab/demo/NotebookExample/ExampleData/phenotype_tests_LGG_all.csv\"))\n",
        "ivy_phenotype_tests_all<-AMARETTO_unite_results(AMARETTO_statistical_test(AMARETTOinit_ivy,AMARETTOresults_ivy,sample_annotations_ivy_all,phenotype_tests_ivy_all))"
      ],
      "execution_count": null,
      "outputs": []
    },
    {
      "cell_type": "markdown",
      "metadata": {
        "id": "U1tV3_5PwF4_"
      },
      "source": [
        "### Generating an HTML report for Imaging-AMARETTO results\n",
        "\n",
        "By running the following code cell, the Imaging-AMARETTO report will be generated and can be accessed in the left panel. To distingusish <B> Imaging Phenotypes </B> we provide appropriate keywords for imaging_phenotypes_keywords parameter . (here : \"anatomic_\" and \"cancer_\" )"
      ]
    },
    {
      "cell_type": "code",
      "metadata": {
        "id": "KaitJJkPcY5y"
      },
      "source": [
        "dir.create('./AMARETTO_results/ivy_Report_GCO') \n",
        "AMARETTO_HTMLreport(AMARETTOinit=AMARETTOinit_ivy,\n",
        "                    AMARETTOresults=AMARETTOresults_ivy,\n",
        "                    ProcessedData_Ivygap_GBM,\n",
        "                    hyper_geo_reference=ivy_hgtest_tbl,\n",
        "                    genetic_pert_hyper_geo_reference = ivy_hgtest_tbl_gp,\n",
        "                    output_address='./AMARETTO_results/ivy_Report_GCO',\n",
        "                    SAMPLE_annotation=sample_annotations_ivy_all,\n",
        "                    ID='Sample',\n",
        "                    show_row_names=FALSE,\n",
        "                    phenotype_association_table = ivy_phenotype_tests_all,\n",
        "                    imaging_phenotypes_keywords = c(\"anatomic_\",\"cancer_\"))"
      ],
      "execution_count": null,
      "outputs": []
    },
    {
      "cell_type": "markdown",
      "metadata": {
        "id": "u5RtAoG_g-Xl"
      },
      "source": [
        "# B. Running Imaging-Community-AMARETTO to identify regulatory subnetworks shared or distinct across the TCGA GBM, IvyGAP GBM and TCGA LGG cohorts\n",
        "\n",
        "The Imaging-Community-AMARETTO algorithm takes as input results from two or more previous Imaging-AMARETTO analyses to identify regulatory subnetworks or communities (i.e., cell circuits and their drivers) that are shared and distinct across multiple datasets, cohorts, biological systems and diseases."
      ]
    },
    {
      "cell_type": "markdown",
      "metadata": {
        "id": "594P3rhC0t7O"
      },
      "source": [
        "##Preparing data and parameter settings for running Imaging-Community-AMARETTO"
      ]
    },
    {
      "cell_type": "markdown",
      "metadata": {
        "id": "Vm66ARW50163"
      },
      "source": [
        "### Create a list of upstream Imaging-AMARETTO results files :\n",
        "\n",
        "We here define a list \"AMARETTOresults_all\", containing Imaging-AMARETTO results files for the Imaging-Community-AMARETTO analysis. \n"
      ]
    },
    {
      "cell_type": "code",
      "metadata": {
        "id": "3Eiq2lUG1LDn"
      },
      "source": [
        "AMARETTOresults_all<-list(TCGA_GBM=AMARETTOresults_GBM,\n",
        "                                  TCGA_LGG=AMARETTOresults_LGG,\n",
        "                                  Ivygap_GBM = AMARETTOresults_ivy)"
      ],
      "execution_count": null,
      "outputs": []
    },
    {
      "cell_type": "markdown",
      "metadata": {
        "id": "b0BDXWM0Sacy"
      },
      "source": [
        "\n",
        "### Create a list from all phenotype association studies  :\n",
        "We define a list \"PhenotypeTables\" that contain all the phenotype tables being calculated for individual datasets. "
      ]
    },
    {
      "cell_type": "code",
      "metadata": {
        "id": "9zFjjqA0Sac0"
      },
      "source": [
        "PhenotypeTables<-list(TCGA_GBM=GBM_phenotype_tests_all,\n",
        "                      TCGA_LGG=LGG_phenotype_tests_all,\n",
        "                      Ivygap_GBM =ivy_phenotype_tests_all)"
      ],
      "execution_count": null,
      "outputs": []
    },
    {
      "cell_type": "markdown",
      "metadata": {
        "id": "zkYtFMXQSz26"
      },
      "source": [
        "\n",
        "### Create a vector containing links to upstream Imaging-AMARETTO html reports for all datasets  :\n",
        "\n",
        "Provide a vector containing links to upstream Imaging-AMARETTO html reports for all datasets. These links are being used for creating hyperlinks to individual Imaging-AMARETTO module pages inside the Imaging-Community-AMARETTO report."
      ]
    },
    {
      "cell_type": "code",
      "metadata": {
        "id": "op9D3gjISz27"
      },
      "source": [
        "HTMLsAMARETTOlist <- c(\"TCGA_GBM\"=\"./AMARETTO_results/GBM_Report_GCO\",\n",
        "                       \"TCGA_LGG\"=\"./AMARETTO_results/LGG_Report_GCO\",\n",
        "                       \"Ivygap_GBM\"='./AMARETTO_results/ivy_Report_GCO')"
      ],
      "execution_count": null,
      "outputs": []
    },
    {
      "cell_type": "markdown",
      "metadata": {
        "id": "G3Vnw32i1VvX"
      },
      "source": [
        "### Loading additional networks as a set of signatures in .GMT format (Optional)"
      ]
    },
    {
      "cell_type": "markdown",
      "metadata": {
        "id": "QPE0wkq6P7Cv"
      },
      "source": [
        "One or more additional networks can be submitted as signatures files in .GMT format and combined by running the following code cell. These networks are used in Imaging-Community-AMARETTO as separate networks. In this example, we submit previously published signatures and/or networks, such as immune signatures from CiberSort and stemness signatures from <i>Ben-Porath et al.</i> as two independent networks to be analyzed.\n",
        "\n",
        "If additional networks are submitted, please run following cell code to include them in the analysis."
      ]
    },
    {
      "cell_type": "code",
      "metadata": {
        "id": "sYHmOGbB8ff4"
      },
      "source": [
        "ImmuneSignatures <- \"ImmuneSignatures.gmt\"\n",
        "download.file(url=\"https://www.broadinstitute.org/~npochet/NotebookExample/ExampleData/ImmuneSignatures.gmt\", destfile=ImmuneSignatures)\n",
        "\n",
        "StemSignatures <- \"StemSignatures.gmt\"\n",
        "download.file(url=\"https://www.broadinstitute.org/~npochet/NotebookExample/ExampleData/StemSignatures.gmt\", destfile=StemSignatures)\n",
        "\n",
        "\n",
        "list_additional_networks = list(ImmuneSignatures = \"ImmuneSignatures.gmt\", StemSignatures = \"StemSignatures.gmt\", LiverSignatures = \"LiverSignatures.gmt\")"
      ],
      "execution_count": null,
      "outputs": []
    },
    {
      "cell_type": "markdown",
      "metadata": {
        "id": "MqxLNYvbPpPs"
      },
      "source": [
        "Otherwise set to NULL."
      ]
    },
    {
      "cell_type": "code",
      "metadata": {
        "id": "PNJNEXmy1me7"
      },
      "source": [
        "list_additional_networks = NULL"
      ],
      "execution_count": null,
      "outputs": []
    },
    {
      "cell_type": "markdown",
      "metadata": {
        "id": "bzzTc_rR26nz"
      },
      "source": [
        "### Setting parameters for computing on servers (Optional)\n",
        "\n",
        "Selecting the number of cores for parallel computing."
      ]
    },
    {
      "cell_type": "code",
      "metadata": {
        "id": "G4UzbGOf2-8r"
      },
      "source": [
        "NrCores = 4"
      ],
      "execution_count": null,
      "outputs": []
    },
    {
      "cell_type": "markdown",
      "metadata": {
        "id": "TxcA1jaAhJSn"
      },
      "source": [
        "### Running Imaging-Community-AMARETTO\n",
        "\n",
        "By running the following code cells, you can now run the Imaging-Community-AMARETTO algorithm. This may take some time (see section \"Time complexity of Imaging-AMARETTO\" below)."
      ]
    },
    {
      "cell_type": "markdown",
      "metadata": {
        "id": "MscNu86IKI28"
      },
      "source": [
        "You can run the following code cell for computing the extent of overlaps between all regulatory modules learned across data cohorts."
      ]
    },
    {
      "cell_type": "code",
      "metadata": {
        "id": "XNSuUd1s9Tnt"
      },
      "source": [
        "cAMARETTOresults<-cAMARETTO_Results(AMARETTOresults_all = AMARETTOresults_all,\n",
        "                                    gmt_filelist = list_additional_networks,\n",
        "                                    NrCores = NrCores,\n",
        "                                    drivers = FALSE)"
      ],
      "execution_count": null,
      "outputs": []
    },
    {
      "cell_type": "markdown",
      "metadata": {
        "id": "nkFqOghlKZJl"
      },
      "source": [
        "Creating and filtering edges in the module networks across data cohorts. Additional parameters that can be set by the user in this step include:\n",
        "\n",
        "(<B>1</B>) <B>Filtering edges in the subnetworks or communities based on p-value significance</B>. Edges in the network with p-values larger than the cutoff value will be filtered out. The default cutoff p-value is 0.05.<br>\n",
        "\n",
        "(<B>2</B>) <B>Filtering edges in the subnetworks or communities based on the minimum number overlapping genes</B>. Edges in the network with the number of overlapping genes less than the cutoff value will be filtered out. The default cutoff value is 5 overlapping genes."
      ]
    },
    {
      "cell_type": "code",
      "metadata": {
        "id": "XYvnzKQB9cFw"
      },
      "source": [
        "cAMARETTOnetworkM<-cAMARETTO_ModuleNetwork(cAMARETTOresults,\n",
        "                                           pvalue = 0.05,\n",
        "                                           inter = 5)"
      ],
      "execution_count": null,
      "outputs": []
    },
    {
      "cell_type": "markdown",
      "metadata": {
        "id": "nefRTpujKb93"
      },
      "source": [
        "Identifying and filtering edges in the subnetworks across data cohorts. Additional parameters that can be set by the user in this step include:\n",
        "\n",
        "<B>Filtering edges in the subnetworks or communities that do not satisfy all the following conditions</B>:<br>\n",
        "(<B>1</B>) Number of nodes in the community larger than the 1% of the total number of nodes in the network,<br>\n",
        "(<B>2</B>) Number of represented datasets/cohorts in the community larger than the 10% of the subnetwork size (and at least, larger than 2),<br>\n",
        "(<B>3</B>) Ratio between edges inside/outside the community larger than 0.5.<br>\n",
        "\n",
        "The user can choose between filtering according to these criteria, in which case edges in the network that do not satisfy all of these criteria will be filtered out, or whether to not apply these filtering criteria to retain all edges."
      ]
    },
    {
      "cell_type": "code",
      "metadata": {
        "id": "U8kkfN7v9d0i"
      },
      "source": [
        "cAMARETTOnetworkC<-cAMARETTO_IdentifyCom(cAMARETTOnetworkM,\n",
        "                                         filterComm = FALSE,\n",
        "                                         ratioCommSize = 0.01,\n",
        "                                         MinRuns = 2,\n",
        "                                         ratioRunSize = 0.1,\n",
        "                                         ratioEdgesInOut = 0.5)"
      ],
      "execution_count": null,
      "outputs": []
    },
    {
      "cell_type": "markdown",
      "metadata": {
        "id": "2K-wauAqJla_"
      },
      "source": [
        "### Saving and downloading Imaging-Community-AMARETTO results files and HTML report\n",
        "\n",
        "By running the following code cell, you can download a .zip file of the Imaging-Community-AMARETTO report as well as .rds data files in the left panel by right-clicking on each file and selecting *Download*. "
      ]
    },
    {
      "cell_type": "code",
      "metadata": {
        "id": "BBZlAOOtJZcN"
      },
      "source": [
        "saveRDS(cAMARETTOresults, file=\"cAMARETTOresults.rds\")\n",
        "saveRDS(cAMARETTOnetworkM, file=\"cAMARETTOnetworkM.rds\")\n",
        "saveRDS(cAMARETTOnetworkC, file=\"cAMARETTOnetworkC.rds\")"
      ],
      "execution_count": null,
      "outputs": []
    },
    {
      "cell_type": "markdown",
      "metadata": {
        "id": "EIh7_KNnVS57"
      },
      "source": [
        "### Functional Enrichment Analysis (Optional)\n",
        "We here Perform <B> Fuctional Enrichment Analysis</B> using a <B>collections of known functional categories</B> for functional characterization of the regulatory modules or cell circuits, such as, for example, the Hallmark and C2 collections from MSigDB, Immune signatures, Stromal signatures and stemess signatures. More collections can be downloaded from <http://software.broadinstitute.org/gsea/msigdb/collections.jsp>) and/or uploaded by the user in .GMT format.\n"
      ]
    },
    {
      "cell_type": "code",
      "metadata": {
        "id": "0qht09YRVS59"
      },
      "source": [
        "functional_gmts<-c(url(\"http://portals.broadinstitute.org/pochetlab/demo/NotebookExample/ExampleData/H_C2_genesets.gmt\"),\n",
        "                   url(\"http://portals.broadinstitute.org/pochetlab/demo/NotebookExample/ExampleData/ImmuneSignatures.gmt\"),\n",
        "                   url(\"http://portals.broadinstitute.org/pochetlab/demo/NotebookExample/ExampleData/StromalSignatures.gmt\"),\n",
        "                   url(\"http://portals.broadinstitute.org/pochetlab/demo/NotebookExample/ExampleData/StemnessSignatures.gmt\"))\n",
        "cAMARETTO_hgtest_tbl<-CreateHyperGeoTestAll(cAMARETTOresults,cAMARETTOnetworkM,cAMARETTOnetworkC,hyper_geo_reference=functional_gmts,driverGSEA=TRUE,NrCores=5)"
      ],
      "execution_count": null,
      "outputs": []
    },
    {
      "cell_type": "markdown",
      "metadata": {
        "id": "_bHetgkQVS5_"
      },
      "source": [
        "### Driver Validation (Optional)\n",
        "We here Perform <B> Driver Validation study </B> using a <B>collections of known driver perturbation studies</B> for the driver validation inferred communities. "
      ]
    },
    {
      "cell_type": "code",
      "metadata": {
        "id": "iJ3eMeNsVS5_"
      },
      "source": [
        "genetic_gmts<-c(url(\"http://portals.broadinstitute.org/pochetlab/demo/NotebookExample/ExampleData/GeneticPerturbationSignatures.gmt\"),\n",
        "                url(\"http://portals.broadinstitute.org/pochetlab/demo/NotebookExample/ExampleData/ChEABindingSignatures.gmt\"),\n",
        "                url(\"http://portals.broadinstitute.org/pochetlab/demo/NotebookExample/ExampleData/ConsensusBindingSignatures.gmt\"),\n",
        "                url(\"http://portals.broadinstitute.org/pochetlab/demo/NotebookExample/ExampleData/EncodeBindingSignatures.gmt\"))\n",
        "cAMARETTO_hgtest_tbl_gp<-CreateHyperGeoTestAll(cAMARETTOresults,cAMARETTOnetworkM,cAMARETTOnetworkC,hyper_geo_reference=genetic_gmts,driverGSEA=TRUE,NrCores=5)"
      ],
      "execution_count": null,
      "outputs": []
    },
    {
      "cell_type": "markdown",
      "metadata": {
        "id": "-GkTI-V2V9NQ"
      },
      "source": [
        "## Generating Imaging-Community-AMARETTO HTML report\n",
        "Finally, We here generate the Imaging-Community-AMARETTO results as html reports. "
      ]
    },
    {
      "cell_type": "code",
      "metadata": {
        "id": "e1r_4lXOhKwF"
      },
      "source": [
        "dir.create('./cAmarettoRep/GBM_Ivygap_GCO') \n",
        "cAMARETTO_HTMLreport(cAMARETTOresults,\n",
        "                     cAMARETTOnetworkM, \n",
        "                     cAMARETTOnetworkC,\n",
        "                     HTMLsAMARETTOlist = HTMLsAMARETTOlist,\n",
        "                     CopyAMARETTOReport = TRUE, \n",
        "                     hyper_geo_reference = cAMARETTO_hgtest_tbl,\n",
        "                     hyper_geo_reference_gp = cAMARETTO_hgtest_tbl_gp,\n",
        "                     output_address = \"./cAmarettoRep/GBM_Ivygap_GCO\",\n",
        "                     PhenotypeTablesList = PhenotypeTables)\n",
        "                    "
      ],
      "execution_count": null,
      "outputs": []
    },
    {
      "cell_type": "code",
      "metadata": {
        "id": "Bw-HjmyMy55L"
      },
      "source": [
        "zip(zipfile=\"cAMARETTO_report.zip\",files=\"./cAmarettoRep/GBM_Ivygap_GCO\")"
      ],
      "execution_count": null,
      "outputs": []
    },
    {
      "cell_type": "markdown",
      "metadata": {
        "id": "65e8lUX99BlM"
      },
      "source": [
        "##  Viewing Imaging-Community-AMARETTO results combining multiple Imaging-AMARETTO analyses\n",
        "\n",
        "The .zip file generated in previous step provides a queryable .html Imaging-Community-AMARETTO report that directly links to the original Imaging-AMARETTO analyses from which they were derived. The <B>Imaging-Community-AMARETTO report</B> includes:\n",
        "\n",
        "(<B>1</B>) An overview <B>index.html</B> page that provides:\n",
        "- A summary of the analyzed networks (including links to the original Imaging-AMARETTO networks derived from multiple datasets)\n",
        "- A network graph overview of the subnetworks or communities learned across multiple datasets\n",
        "- A queryable overview table of shared/distinct communities with assignments of modules to communities across all datasets\n",
        "- A queryable overview table of shared/distinct drivers of communities with assignments of drivers to communities across all datasets\n",
        "- A queryable overview table of gene assignments (drivers and targets) to communities\n",
        "- A queryable overview table with enrichments of known functional categories in communities\n",
        "\n",
        "(<B>2</B>) For each regulatory subnetwork or community a <B>community#.html</B> page is generated that provides:\n",
        "- A network graph visualization of the subnetworks or communities learned across multiple datasets\n",
        "- A queryable table of shared/distinct communities across multiple datasets, including regulatory modules that are shared/distinct across datasets\n",
        "- A queryable table of gene assignments (drivers and targets) in communities\n",
        "- A queryable table with enrichments of known functional categories in communities\n",
        "\n",
        "Overview and community-specific Tables and Network Graphs can be saved as .CSV, .Excel, .PDF and .PNG files."
      ]
    },
    {
      "cell_type": "markdown",
      "metadata": {
        "id": "1xNs_92OzMPs"
      },
      "source": [
        "# Time complexity of Imaging-AMARETTO\n",
        "\n",
        "Depending on the size of the data, for example, for TCGA cohorts of ~300-500 samples, it can take up to several hours to run the Imaging-AMARETTO algorithms and generate reports on the Google Colab servers."
      ]
    },
    {
      "cell_type": "markdown",
      "metadata": {
        "id": "F5leQ6YjxRPy"
      },
      "source": [
        "# Source code, user-friendly tools and resources\n",
        "\n",
        "The source code, user-friendly tools and resources of the current &#42;AMARETTO toolbox and future developments are available from GitHub, Bioconductor, GenePattern, GenomeSpace, GenePattern Notebook and R Jupyter Notebook, as updated here: <http://portals.broadinstitute.org/pochetlab/amaretto.html>.\n",
        "\n",
        "Imaging-AMARETTO resources are available from: <http://portals.broadinstitute.org/pochetlab/JCO_CCI_Imaging-AMARETTO/Imaging-AMARETTO_HTML_Report_TCGA-GBM_IVYGAP-GBM_TCGA-LGG/index.html> and the HTML report generated by this R Juputer Notebook is here: <http://portals.broadinstitute.org/pochetlab/JCO_CCI_Imaging-AMARETTO/Imaging-AMARETTO_HTML_Report_TCGA-GBM_IVYGAP-GBM_TCGA-LGG/index.html>.\n",
        "\n"
      ]
    },
    {
      "cell_type": "markdown",
      "metadata": {
        "id": "9UGXe04fxRP0"
      },
      "source": [
        "# References\n",
        "\n",
        "1. Multiscale and multimodal inference of regulatory networks using &#42;AMARETTO. <i>In preparation for submission</i>.\n",
        "\n",
        "2. Champion M., Brennan K., Croonenborghs T., Gentles A.J., Pochet N., Gevaert O. (2018). Module Analysis Captures Pancancer Genetically and Epigenetically Deregulated Cancer Driver Genes for Smoking and Antiviral Response. <i>EBioMedicine</i>, 27:156-166. PMID:29331675 PMCID:PMC5828545.\n",
        "\n",
        "3. Gevaert O., Villalobos V., Sikic B.I., Plevritis S.K. (2014). Identification of ovarian cancer driver genes by using module network integration of multi-omics data. <i>Interface Focus</i>, 3(4):20130013. PMID:24511378 PMCID:PMC3915833.\n",
        "\n",
        "4. Manolakos A., Ochoa I., Venkat K., Goldsmith A.J., Gevaert O. (2014). CaMoDi: a new method for cancer module discovery. <i>BMC Genomics</i>, 15 Suppl 10:S8. PMID:25560933 PMCID:PMC4304219.\n",
        "\n",
        "5. Gevaert O., Plevritis S. (2013). Identifying master regulators of cancer and their downstream targets by integrating genomic and epigenomic features. <i>Pacific Symposium on Biocomputing</i>, 2013:123-34. PMID:23424118 PMCID:PMC3911770.\n",
        "\n",
        "6. Cedoz P.L., Prunello M., Brennan K., Gevaert O. (2018). MethylMix 2.0: an R package for identifying DNA methylation genes. <i>Bioinformatics</i>, 34(17):3044-3046. PMID:29668835 PMCID:PMC6129298.\n",
        "\n",
        "7. Gevaert O., Tibshirani R., Plevritis S.K. (2015). Pancancer analysis of DNA methylation-driven genes using MethylMix. <i>Genome Biology</i>, 16(1):17. PMID:25631659 PMCID:PMC4365533.\n",
        "\n",
        "8. Gevaert O. (2015). MethylMix: an R package for identifying DNA methylation-driven genes. <i>Bioinformatics</i>, 31(11):1839-41. PMID:25609794 PMCID:PMC4443673.\n",
        "\n",
        "9. Stubbs B.J., Gopaulakrishnan S., Glass K., Pochet N., Everaert C., Raby B., Carey V. (2019). TFutils: Data structures for transcription factor bioinformatics. <i>F1000Research</i>, 8:152. (<https://doi.org/10.12688/f1000research.17976.1>).\n",
        "\n",
        "10. Qu K., Garamszegi S., Wu F., Thorvaldsdottir H., Liefeld T., Ocana M., Borges-Rivera D., Pochet N., Robinson J.T., Demchak B., Hull T., Ben-Artzi G., Blankenberg D., Barber G.P., Lee B.T., Kuhn R.M., Nekrutenko A., Segal E., Ideker T., Reich M., Regev A., Chang H.Y., Mesirov J.P. (2016). Integrative genomic analysis by interoperation of bioinformatics tools in GenomeSpace. <i>Nature Methods</i>, 13(3):245-247. PMID:26780094 PMCID:PMC4767623.\n",
        "\n",
        "11. Reich M., Liefeld T., Ocana M., Jang D., Bistline J., Robinson J., Carr P., Hill B., McLaughlin J., Pochet N., Borges-Rivera D., Tabor T., Thorvaldsdottir H., Regev A., Mesirov J.P. (2013). GenomeSpace: an environment for frictionless bioinformatics. <i>F1000Posters</i>, 4:804. (<https://f1000research.com/posters/1093972>).\n",
        "\n",
        "\n",
        "\n"
      ]
    },
    {
      "cell_type": "markdown",
      "metadata": {
        "id": "CQdGshkPxRP0"
      },
      "source": [
        "# Funding\n",
        "\n",
        "This work was supported by grants from NIH NCI ITCR R21 CA209940 (Pochet), NIH NCI ITCR U01 CA214846 Collaborative Supplement (Carey/Pochet) and NIH NIAID R03 AI131066 (Pochet)."
      ]
    },
    {
      "cell_type": "markdown",
      "metadata": {
        "id": "lB_1H8-LxRP1"
      },
      "source": [
        "# Questions?\n",
        "\n",
        "For any questions with the &#42;AMARETTO Notebooks, please contact <B>Nathalie Pochet</B> (<npochet@broadinstitute.org>) and <B>Olivier Gevaert</B> (<ogevaert@stanford.edu>)."
      ]
    }
  ]
}