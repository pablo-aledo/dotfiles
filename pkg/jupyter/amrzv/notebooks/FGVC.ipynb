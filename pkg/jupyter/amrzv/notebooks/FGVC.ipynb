{
  "nbformat": 4,
  "nbformat_minor": 0,
  "metadata": {
    "colab": {
      "name": "FGVC.ipynb",
      "provenance": [],
      "collapsed_sections": [],
      "toc_visible": true
    },
    "kernelspec": {
      "name": "python3",
      "display_name": "Python 3"
    },
    "accelerator": "GPU"
  },
  "cells": [
    {
      "cell_type": "markdown",
      "metadata": {
        "id": "jxEANRr2gKNI"
      },
      "source": [
        "# [ECCV 2020] Flow-edge Guided Video Completion\n",
        "###[[Paper](https://arxiv.org/abs/2009.01835)]  [[Project Website](http://chengao.vision/FGVC/)] [[GitHub](https://github.com/vt-vl-lab/FGVC)] \n",
        "\n",
        "\n",
        "---\n",
        "\n",
        "\n",
        "[Chen Gao](http://chengao.vision/), Ayush Saraf, [Jia-Bin Huang](https://filebox.ece.vt.edu/~jbhuang/), and [Johannes Kopf](https://johanneskopf.de)\n",
        "In European Conference on Computer Vision (ECCV), 2020"
      ]
    },
    {
      "cell_type": "markdown",
      "metadata": {
        "id": "R5P9ZQaNY9Kt"
      },
      "source": [
        "# Prepare environment\n"
      ]
    },
    {
      "cell_type": "code",
      "metadata": {
        "id": "Kv1mhjCWVTdl"
      },
      "source": [
        "!pip3 install torch==1.6.0+cu101 torchvision==0.7.0+cu101 -f https://download.pytorch.org/whl/torch_stable.html\n",
        "!pip3 install opencv-python==4.2.0.32\n",
        "!pip3 install matplotlib\n",
        "!pip3 install scipy\n",
        "!pip3 install imageio\n",
        "!pip3 install imageio-ffmpeg\n",
        "!pip3 install scikit-image"
      ],
      "execution_count": null,
      "outputs": []
    },
    {
      "cell_type": "markdown",
      "metadata": {
        "id": "EJHII2Y5ZF3Z"
      },
      "source": [
        "# Download script and pretrained model\n",
        "\n",
        "We show a demo on a 15-frames sequence. To process your own data, simply uplaod the sequence and specify the path.\n"
      ]
    },
    {
      "cell_type": "code",
      "metadata": {
        "id": "0Ju6wUEbVjd5"
      },
      "source": [
        "%%bash\n",
        "git clone https://github.com/vt-vl-lab/FGVC\n",
        "cd FGVC\n",
        "wget –quiet https://filebox.ece.vt.edu/~chengao/FGVC/demo.zip\n",
        "unzip demo.zip\n",
        "rm demo.zip\n",
        "wget –quiet https://filebox.ece.vt.edu/~chengao/FGVC/weight.zip\n",
        "unzip weight.zip\n",
        "rm weight.zip"
      ],
      "execution_count": null,
      "outputs": []
    },
    {
      "cell_type": "markdown",
      "metadata": {
        "id": "XdAm8DZrZnbR"
      },
      "source": [
        "# Execute FGVC"
      ]
    },
    {
      "cell_type": "markdown",
      "metadata": {
        "id": "XiF2e_HMaHmQ"
      },
      "source": [
        "## Object removal:"
      ]
    },
    {
      "cell_type": "code",
      "metadata": {
        "id": "mSQSnt_MZ2vB"
      },
      "source": [
        "%%bash\n",
        "cd FGVC/tool\n",
        "python3 video_completion.py \\\n",
        "       --mode object_removal \\\n",
        "       --path ../demo/tennis \\\n",
        "       --path_mask ../demo/tennis_mask \\\n",
        "       --outroot ../result/tennis_removal \\\n",
        "       --seamless"
      ],
      "execution_count": null,
      "outputs": []
    },
    {
      "cell_type": "markdown",
      "metadata": {
        "id": "HTvPAdHfmo9-"
      },
      "source": [
        "The results are stored in the following directories\n",
        "  - Corresponding optical flow map estimated by [RAFT](https://github.com/princeton-vl/RAFT) \n",
        "      - E.g. ```/result/tennis_removal/flow/```\n",
        "  - Completed optical flow\n",
        "      - E.g. ```/result/tennis_removal/flow_comp/```\n",
        "  - Video completion results after each iteration\n",
        "      - E.g. ```/result/tennis_removal/frame_seamless_comp_xxx/```\n",
        "  - Final results\n",
        "      - E.g. ```/result/tennis_removal/frame_seamless_comp_final/```"
      ]
    },
    {
      "cell_type": "markdown",
      "metadata": {
        "id": "Dgt_YebGaKmf"
      },
      "source": [
        "## FOV extrapolation:"
      ]
    },
    {
      "cell_type": "code",
      "metadata": {
        "id": "MohGAfo1VmkH"
      },
      "source": [
        "%%bash\n",
        "cd FGVC/tool\n",
        "python3 video_completion.py \\\n",
        "       --mode video_extrapolation \\\n",
        "       --path ../demo/tennis \\\n",
        "       --outroot ../result/tennis_extrapolation \\\n",
        "       --H_scale 2 \\\n",
        "       --W_scale 2 \\\n",
        "       --seamless"
      ],
      "execution_count": null,
      "outputs": []
    },
    {
      "cell_type": "markdown",
      "metadata": {
        "id": "NBu0-I3PlT4-"
      },
      "source": [
        "The results are stored in the following directories\n",
        "  - Corresponding optical flow map estimated by [FAFT](https://github.com/princeton-vl/RAFT) \n",
        "      - E.g. ```/result/tennis_extrapolation/flow/```\n",
        "  - Completed optical flow\n",
        "      - E.g. ```/result/tennis_extrapolation/flow_comp/```\n",
        "  - Video completion results after each iteration\n",
        "      - E.g. ```/result/tennis_extrapolation/frame_seamless_comp_xxx/```\n",
        "  - Final results\n",
        "      - E.g. ```/result/tennis_extrapolation/frame_seamless_comp_final/```"
      ]
    }
  ]
}