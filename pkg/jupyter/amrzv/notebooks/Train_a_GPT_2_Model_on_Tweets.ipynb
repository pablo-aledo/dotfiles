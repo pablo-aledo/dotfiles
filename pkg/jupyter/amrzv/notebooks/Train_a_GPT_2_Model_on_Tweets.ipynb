{
  "nbformat": 4,
  "nbformat_minor": 0,
  "metadata": {
    "colab": {
      "name": "Train a GPT-2 Model on Tweets",
      "provenance": [],
      "collapsed_sections": []
    },
    "kernelspec": {
      "name": "python3",
      "display_name": "Python 3"
    },
    "accelerator": "GPU"
  },
  "cells": [
    {
      "cell_type": "markdown",
      "metadata": {
        "id": "H7LoMj4GA4n_"
      },
      "source": [
        "#  Train a GPT-2 Model on Tweets\n",
        "\n",
        "by [Max Woolf](http://minimaxir.com)\n",
        "\n",
        "To get started:\n",
        "\n",
        "1. Copy this notebook to your Google Drive to keep it and save your changes. (File -> Save a Copy in Drive)\n",
        "2. Make sure you're running the notebook in Google Chrome.\n",
        "3. Run the cells below:\n"
      ]
    },
    {
      "cell_type": "code",
      "metadata": {
        "id": "KBkpRgBCBS2_",
        "colab": {
          "base_uri": "https://localhost:8080/",
          "height": 175
        },
        "outputId": "6049b461-28ce-4f87-c60e-a3986e4b26a5"
      },
      "source": [
        "%tensorflow_version 1.x\n",
        "!pip install -q gpt-2-simple\n",
        "import gpt_2_simple as gpt2\n",
        "from datetime import datetime\n",
        "from google.colab import files"
      ],
      "execution_count": null,
      "outputs": [
        {
          "output_type": "stream",
          "text": [
            "WARNING:tensorflow:\n",
            "The TensorFlow contrib module will not be included in TensorFlow 2.0.\n",
            "For more information, please see:\n",
            "  * https://github.com/tensorflow/community/blob/master/rfcs/20180907-contrib-sunset.md\n",
            "  * https://github.com/tensorflow/addons\n",
            "  * https://github.com/tensorflow/io (for I/O related ops)\n",
            "If you depend on functionality not listed there, please file an issue.\n",
            "\n"
          ],
          "name": "stdout"
        }
      ]
    },
    {
      "cell_type": "markdown",
      "metadata": {
        "id": "Bj2IJLHP3KwE"
      },
      "source": [
        "## GPU\n",
        "\n",
        "Colaboratory uses a Nvidia T4 GPU, Nvidia K80 GPU, or a P100 GPU. The P100 is ideal. The T4 is slightly faster than the old K80 for training GPT-2, and has more memory allowing you to train the larger GPT-2 models and generate more text.\n",
        "\n",
        "You can verify which GPU is active by running the cell below."
      ]
    },
    {
      "cell_type": "code",
      "metadata": {
        "id": "sUmTooTW3osf",
        "colab": {
          "base_uri": "https://localhost:8080/",
          "height": 311
        },
        "outputId": "482507e4-bf63-499a-b9a7-fe5839f7519e"
      },
      "source": [
        "!nvidia-smi"
      ],
      "execution_count": null,
      "outputs": [
        {
          "output_type": "stream",
          "text": [
            "Sun Dec 29 23:19:50 2019       \n",
            "+-----------------------------------------------------------------------------+\n",
            "| NVIDIA-SMI 440.44       Driver Version: 418.67       CUDA Version: 10.1     |\n",
            "|-------------------------------+----------------------+----------------------+\n",
            "| GPU  Name        Persistence-M| Bus-Id        Disp.A | Volatile Uncorr. ECC |\n",
            "| Fan  Temp  Perf  Pwr:Usage/Cap|         Memory-Usage | GPU-Util  Compute M. |\n",
            "|===============================+======================+======================|\n",
            "|   0  Tesla P100-PCIE...  Off  | 00000000:00:04.0 Off |                    0 |\n",
            "| N/A   57C    P0    43W / 250W |      0MiB / 16280MiB |      0%      Default |\n",
            "+-------------------------------+----------------------+----------------------+\n",
            "                                                                               \n",
            "+-----------------------------------------------------------------------------+\n",
            "| Processes:                                                       GPU Memory |\n",
            "|  GPU       PID   Type   Process name                             Usage      |\n",
            "|=============================================================================|\n",
            "|  No running processes found                                                 |\n",
            "+-----------------------------------------------------------------------------+\n"
          ],
          "name": "stdout"
        }
      ]
    },
    {
      "cell_type": "markdown",
      "metadata": {
        "id": "0wXB05bPDYxS"
      },
      "source": [
        "## Downloading GPT-2\n",
        "\n",
        "If you're retraining a model on new text, you need to download the GPT-2 model first. \n",
        "\n",
        "* `124M` (default): the \"small\" model, 500MB on disk.\n",
        "* `355M`: the \"medium\" model, 1.5GB on disk.\n",
        "\n",
        "Using the `774M` or `1558M` models is not recommended with tweet data, as tweets are short.\n",
        "\n",
        "You can specify which base model to use by changing `model_name` in the cells below.\n",
        "\n",
        "The next cell downloads it from Google Cloud Storage and saves it in the Colaboratory VM at `/models/<model_name>`.\n",
        "\n",
        "This model isn't permanently saved in the Colaboratory VM; you'll have to redownload it if you want to retrain it at a later time."
      ]
    },
    {
      "cell_type": "code",
      "metadata": {
        "id": "P8wSlgXoDPCR",
        "colab": {
          "base_uri": "https://localhost:8080/",
          "height": 138
        },
        "outputId": "2e60c841-06f4-45ca-b6b0-e89c0549b17b"
      },
      "source": [
        "gpt2.download_gpt2(model_name=\"355M\")"
      ],
      "execution_count": null,
      "outputs": [
        {
          "output_type": "stream",
          "text": [
            "Fetching checkpoint: 1.05Mit [00:00, 231Mit/s]                                                      \n",
            "Fetching encoder.json: 1.05Mit [00:00, 112Mit/s]                                                    \n",
            "Fetching hparams.json: 1.05Mit [00:00, 834Mit/s]                                                    \n",
            "Fetching model.ckpt.data-00000-of-00001: 1.42Git [00:09, 146Mit/s]                                  \n",
            "Fetching model.ckpt.index: 1.05Mit [00:00, 498Mit/s]                                                \n",
            "Fetching model.ckpt.meta: 1.05Mit [00:00, 163Mit/s]                                                 \n",
            "Fetching vocab.bpe: 1.05Mit [00:00, 211Mit/s]                                                       \n"
          ],
          "name": "stderr"
        }
      ]
    },
    {
      "cell_type": "markdown",
      "metadata": {
        "id": "N8KXuKWzQSsN"
      },
      "source": [
        "## Mounting Google Drive\n",
        "\n",
        "The best way to get input text to-be-trained into the Colaboratory VM, and to get the trained model *out* of Colaboratory, is to route it through Google Drive *first*.\n",
        "\n",
        "Running this cell (which will only work in Colaboratory) will mount your personal Google Drive in the VM, which later cells can use to get data in/out. (it will ask for an auth code; that auth is not saved anywhere)"
      ]
    },
    {
      "cell_type": "code",
      "metadata": {
        "id": "puq4iC6vUAHc",
        "colab": {
          "base_uri": "https://localhost:8080/",
          "height": 124
        },
        "outputId": "9d590f9f-0f81-4639-a371-0ed5abd2a898"
      },
      "source": [
        "gpt2.mount_gdrive()"
      ],
      "execution_count": null,
      "outputs": [
        {
          "output_type": "stream",
          "text": [
            "Go to this URL in a browser: https://accounts.google.com/o/oauth2/auth?client_id=947318989803-6bn6qk8qdgf4n4g3pfee6491hc0brc4i.apps.googleusercontent.com&redirect_uri=urn%3aietf%3awg%3aoauth%3a2.0%3aoob&response_type=code&scope=email%20https%3a%2f%2fwww.googleapis.com%2fauth%2fdocs.test%20https%3a%2f%2fwww.googleapis.com%2fauth%2fdrive%20https%3a%2f%2fwww.googleapis.com%2fauth%2fdrive.photos.readonly%20https%3a%2f%2fwww.googleapis.com%2fauth%2fpeopleapi.readonly\n",
            "\n",
            "Enter your authorization code:\n",
            "··········\n",
            "Mounted at /content/drive\n"
          ],
          "name": "stdout"
        }
      ]
    },
    {
      "cell_type": "markdown",
      "metadata": {
        "id": "BT__brhBCvJu"
      },
      "source": [
        "## Uploading a Text File to be Trained to Colaboratory\n",
        "\n",
        "In the Colaboratory Notebook sidebar on the left of the screen, select *Files*. From there you can upload files:\n",
        "\n",
        "![alt text](https://i.imgur.com/TGcZT4h.png)\n",
        "\n",
        "Upload **any smaller text file**  (<10 MB) and update the file name in the cell below, then run the cell."
      ]
    },
    {
      "cell_type": "code",
      "metadata": {
        "id": "6OFnPCLADfll"
      },
      "source": [
        "file_name = \"chrissyteigen_tweets.csv\""
      ],
      "execution_count": null,
      "outputs": []
    },
    {
      "cell_type": "markdown",
      "metadata": {
        "id": "HeeSKtNWUedE"
      },
      "source": [
        "If your text file is larger than 10MB, it is recommended to upload that file to Google Drive first, then copy that file from Google Drive to the Colaboratory VM."
      ]
    },
    {
      "cell_type": "code",
      "metadata": {
        "id": "-Z6okFD8VKtS"
      },
      "source": [
        "gpt2.copy_file_from_gdrive(file_name)"
      ],
      "execution_count": null,
      "outputs": []
    },
    {
      "cell_type": "markdown",
      "metadata": {
        "id": "LdpZQXknFNY3"
      },
      "source": [
        "## Finetune GPT-2\n",
        "\n",
        "The next cell will start the actual finetuning of GPT-2. It creates a persistent TensorFlow session which stores the training config, then runs the training for the specified number of `steps`. (to have the finetuning run indefinitely, set `steps = -1`)\n",
        "\n",
        "The model checkpoints will be saved in `/checkpoint/run1` by default. The checkpoints are saved every 500 steps (can be changed) and when the cell is stopped.\n",
        "\n",
        "The training might time out after 4ish hours; make sure you end training and save the results so you don't lose them!\n",
        "\n",
        "**IMPORTANT NOTE:** If you want to rerun this cell, **restart the VM first** (Runtime -> Restart Runtime). You will need to rerun imports but not recopy files.\n",
        "\n",
        "Other optional-but-helpful parameters for `gpt2.finetune`:\n",
        "\n",
        "\n",
        "*  **`restore_from`**: Set to `fresh` to start training from the base GPT-2, or set to `latest` to restart training from an existing checkpoint.\n",
        "* **`sample_every`**: Number of steps to print example output\n",
        "* **`print_every`**: Number of steps to print training progress.\n",
        "* **`learning_rate`**:  Learning rate for the training. (default `1e-4`, can lower to `1e-5` if you have <1MB input data)\n",
        "*  **`run_name`**: subfolder within `checkpoint` to save the model. This is useful if you want to work with multiple models (will also need to specify  `run_name` when loading the model)\n",
        "* **`overwrite`**: Set to `True` if you want to continue finetuning an existing model (w/ `restore_from='latest'`) without creating duplicate copies. "
      ]
    },
    {
      "cell_type": "code",
      "metadata": {
        "id": "aeXshJM-Cuaf",
        "colab": {
          "base_uri": "https://localhost:8080/",
          "height": 1000
        },
        "outputId": "b9c5f0ac-a3a2-425d-b3f7-4c8b15fa083e"
      },
      "source": [
        "sess = gpt2.start_tf_sess()\n",
        "\n",
        "gpt2.finetune(sess,\n",
        "              dataset=file_name,\n",
        "              model_name='355M',\n",
        "              steps=2000,\n",
        "              restore_from='fresh',\n",
        "              run_name='run1',\n",
        "              print_every=10,\n",
        "              sample_every=500,\n",
        "              save_every=500\n",
        "              )"
      ],
      "execution_count": null,
      "outputs": [
        {
          "output_type": "stream",
          "text": [
            "WARNING:tensorflow:From /usr/local/lib/python3.6/dist-packages/gpt_2_simple/src/sample.py:17: where (from tensorflow.python.ops.array_ops) is deprecated and will be removed in a future version.\n",
            "Instructions for updating:\n",
            "Use tf.where in 2.0, which has the same broadcast rule as np.where\n",
            "WARNING:tensorflow:From /usr/local/lib/python3.6/dist-packages/gpt_2_simple/src/memory_saving_gradients.py:62: get_backward_walk_ops (from tensorflow.contrib.graph_editor.select) is deprecated and will be removed after 2019-06-06.\n",
            "Instructions for updating:\n",
            "Please use tensorflow.python.ops.op_selector.get_backward_walk_ops.\n",
            "Loading checkpoint models/355M/model.ckpt\n",
            "INFO:tensorflow:Restoring parameters from models/355M/model.ckpt\n"
          ],
          "name": "stdout"
        },
        {
          "output_type": "stream",
          "text": [
            "100%|██████████| 1/1 [00:00<00:00, 14.24it/s]"
          ],
          "name": "stderr"
        },
        {
          "output_type": "stream",
          "text": [
            "Loading dataset...\n"
          ],
          "name": "stdout"
        },
        {
          "output_type": "stream",
          "text": [
            "\n"
          ],
          "name": "stderr"
        },
        {
          "output_type": "stream",
          "text": [
            "dataset has 1105234 tokens\n",
            "Training...\n",
            "[10 | 16.16] loss=2.44 avg=2.44\n",
            "[20 | 24.98] loss=2.52 avg=2.48\n",
            "[30 | 33.81] loss=2.89 avg=2.62\n",
            "[40 | 42.68] loss=2.37 avg=2.56\n",
            "[50 | 51.51] loss=2.98 avg=2.64\n",
            "[60 | 60.36] loss=2.83 avg=2.68\n",
            "[70 | 69.18] loss=2.25 avg=2.61\n",
            "[80 | 78.01] loss=2.57 avg=2.61\n",
            "[90 | 86.84] loss=2.73 avg=2.62\n",
            "[100 | 95.66] loss=2.65 avg=2.62\n",
            "[110 | 104.50] loss=2.68 avg=2.63\n",
            "[120 | 113.35] loss=1.91 avg=2.57\n",
            "[130 | 122.17] loss=2.80 avg=2.58\n",
            "[140 | 131.01] loss=2.91 avg=2.61\n",
            "[150 | 139.84] loss=2.80 avg=2.62\n",
            "[160 | 148.68] loss=2.03 avg=2.58\n",
            "[170 | 157.50] loss=2.10 avg=2.55\n",
            "[180 | 166.33] loss=2.60 avg=2.56\n",
            "[190 | 175.17] loss=2.21 avg=2.54\n",
            "[200 | 184.01] loss=1.74 avg=2.49\n",
            "[210 | 192.84] loss=1.92 avg=2.46\n",
            "[220 | 201.66] loss=2.37 avg=2.46\n",
            "[230 | 210.49] loss=2.10 avg=2.44\n",
            "[240 | 219.32] loss=2.33 avg=2.43\n",
            "[250 | 228.15] loss=2.60 avg=2.44\n",
            "[260 | 236.97] loss=2.26 avg=2.43\n",
            "[270 | 245.78] loss=2.59 avg=2.44\n",
            "[280 | 254.60] loss=2.33 avg=2.44\n",
            "[290 | 263.41] loss=2.10 avg=2.42\n",
            "[300 | 272.25] loss=2.50 avg=2.43\n",
            "[310 | 281.10] loss=2.29 avg=2.42\n",
            "[320 | 289.94] loss=2.17 avg=2.41\n",
            "[330 | 298.75] loss=1.72 avg=2.39\n",
            "[340 | 307.57] loss=1.76 avg=2.37\n",
            "[350 | 316.39] loss=2.04 avg=2.35\n",
            "[360 | 325.22] loss=2.05 avg=2.34\n",
            "[370 | 334.05] loss=2.02 avg=2.33\n",
            "[380 | 342.89] loss=1.84 avg=2.32\n",
            "[390 | 351.72] loss=2.15 avg=2.31\n",
            "[400 | 360.56] loss=2.63 avg=2.32\n",
            "[410 | 369.39] loss=2.45 avg=2.33\n",
            "[420 | 378.22] loss=1.87 avg=2.31\n",
            "[430 | 387.06] loss=1.87 avg=2.30\n",
            "[440 | 395.89] loss=1.84 avg=2.29\n",
            "[450 | 404.73] loss=1.67 avg=2.27\n",
            "[460 | 413.54] loss=1.80 avg=2.26\n",
            "[470 | 422.37] loss=1.61 avg=2.24\n",
            "[480 | 431.20] loss=2.55 avg=2.25\n",
            "[490 | 440.04] loss=1.85 avg=2.24\n",
            "[500 | 448.84] loss=1.69 avg=2.22\n",
            "Saving checkpoint/run1/model-500\n",
            "======== SAMPLE 1 ========\n",
            "oftext|>\n",
            "<|startoftext|>what is not even funny is that in this movie they had a kid named Jason that was going to the same show that was in my heart<|endoftext|>\n",
            "<|startoftext|>oh this guy will be back...and he just did that to a friend in an airport lounge wearing a baseball jacket.<|endoftext|>\n",
            "<|startoftext|>I mean it's a good movie and good but can we forget that they used to do that to me in the 60s<|endoftext|>\n",
            "<|startoftext|>we are so bad at it he is the best!?!?!? is this what you all think?!?!?!<|endoftext|>\n",
            "<|startoftext|>lol I mean. Just put it into your bio and forget about it for now<|endoftext|>\n",
            "<|startoftext|>lol you might actually tweet it, not me<|endoftext|>\n",
            "<|startoftext|>Lmao RT I don't wanna see a movie but am I a celebrity? I know you are not.<|endoftext|>\n",
            "<|startoftext|>I mean my last tweet was to see if it would be cool to see a movie that's only in theaters a la John Legend<|endoftext|>\n",
            "<|startoftext|>I think I just saw a movie that was almost the same except about people who love themselves and people in other countries<|endoftext|>\n",
            "<|startoftext|>Lmao<|endoftext|>\n",
            "<|startoftext|>I'm not a celebrity. People forget I just talked about myself and my dogs<|endoftext|>\n",
            "<|startoftext|>lol they'll remember!<|endoftext|>\n",
            "<|startoftext|>oh my god I am jealous of everyone who posts from the airport just got the call about her flight just left her and I are sitting down I mean<|endoftext|>\n",
            "<|startoftext|>I'm really just gonna go ahead and tweet some random movie with a \"only for fans\" tag like anything else. I don't want them to remember<|endoftext|>\n",
            "<|startoftext|>Oh dear god i see I guess the world's first celebrity bioreview was a tad too much?<|endoftext|>\n",
            "<|startoftext|>i feel like jon stuart could have put \"just because\" in there before that line was deleted<|endoftext|>\n",
            "<|startoftext|>lol haha<|endoftext|>\n",
            "<|startoftext|>lol!<|endoftext|>\n",
            "<|startoftext|>that's not real! I mean my dog just died. it's just that he can't find us<|endoftext|>\n",
            "<|startoftext|>I know. I really do. I mean he doesn't exist but I feel like he's a bit more than human. I think. I think<|endoftext|>\n",
            "<|startoftext|>so he said? \"the dog is his. what about the bird?\" he said. I mean \"dog\" in a cute animal way.<|endoftext|>\n",
            "<|startoftext|>hahaha great job!<|endoftext|>\n",
            "<|startoftext|>I'm very jealous because the dog that died. I don't know what happened to the bird but it was just a dead bird and so everyone thought it was a dead bird<|endoftext|>\n",
            "<|startoftext|>hahahaha<|endoftext|>\n",
            "<|startoftext|>haha great job!<|endoftext|>\n",
            "<|startoftext|>lol<|endoftext|>\n",
            "<|startoftext|>The dog is still there I was waiting for that man to tell me what the bird was when it was just a bird<|endoftext|>\n",
            "<|startoftext|>it has never happened until it's actually happening. then it's like \"it was a fucking dog. it wasn't a bird. that's what it's like. people who say that aren't real\"<|endoftext|>\n",
            "<|startoftext|>lol<|endoftext|>\n",
            "<|startoftext|>LOL RT   Why don't they call them by their first names? If anyone has any further questions I would LOVE to know.<|endoftext|>\n",
            "<|startoftext|>lol<|endoftext|>\n",
            "<|startof\n",
            "\n",
            "[510 | 485.56] loss=2.31 avg=2.23\n",
            "[520 | 494.40] loss=1.97 avg=2.22\n",
            "[530 | 503.24] loss=1.96 avg=2.21\n",
            "[540 | 512.09] loss=1.50 avg=2.20\n",
            "[550 | 520.92] loss=1.78 avg=2.19\n",
            "[560 | 529.76] loss=2.55 avg=2.20\n",
            "[570 | 538.61] loss=1.65 avg=2.18\n",
            "[580 | 547.46] loss=2.14 avg=2.18\n",
            "[590 | 556.32] loss=1.94 avg=2.18\n",
            "[600 | 565.15] loss=1.93 avg=2.17\n",
            "[610 | 574.00] loss=1.92 avg=2.17\n",
            "[620 | 582.84] loss=1.93 avg=2.16\n",
            "[630 | 591.69] loss=2.34 avg=2.16\n",
            "[640 | 600.51] loss=2.20 avg=2.17\n",
            "[650 | 609.34] loss=2.42 avg=2.17\n",
            "[660 | 618.20] loss=1.95 avg=2.17\n",
            "[670 | 627.03] loss=1.80 avg=2.16\n",
            "[680 | 635.85] loss=1.89 avg=2.15\n",
            "[690 | 644.70] loss=2.00 avg=2.15\n",
            "[700 | 653.51] loss=1.93 avg=2.15\n",
            "[710 | 662.36] loss=2.27 avg=2.15\n",
            "[720 | 671.19] loss=1.74 avg=2.14\n",
            "[730 | 680.03] loss=1.94 avg=2.14\n",
            "[740 | 688.85] loss=2.03 avg=2.13\n",
            "[750 | 697.68] loss=1.94 avg=2.13\n",
            "[760 | 706.52] loss=1.35 avg=2.12\n",
            "[770 | 715.34] loss=1.59 avg=2.11\n",
            "[780 | 724.16] loss=1.39 avg=2.09\n",
            "[790 | 733.00] loss=1.79 avg=2.09\n",
            "[800 | 741.85] loss=1.80 avg=2.08\n",
            "[810 | 750.67] loss=2.14 avg=2.08\n",
            "[820 | 759.49] loss=2.13 avg=2.08\n",
            "[830 | 768.31] loss=2.53 avg=2.09\n",
            "[840 | 777.17] loss=2.10 avg=2.09\n",
            "[850 | 786.01] loss=1.45 avg=2.08\n",
            "[860 | 794.84] loss=1.80 avg=2.08\n",
            "[870 | 803.69] loss=1.96 avg=2.07\n",
            "[880 | 812.52] loss=2.16 avg=2.08\n",
            "[890 | 821.35] loss=2.49 avg=2.08\n",
            "[900 | 830.19] loss=2.31 avg=2.09\n",
            "[910 | 839.02] loss=2.14 avg=2.09\n",
            "[920 | 847.84] loss=1.70 avg=2.08\n",
            "[930 | 856.68] loss=1.92 avg=2.08\n",
            "[940 | 865.51] loss=2.62 avg=2.09\n",
            "[950 | 874.34] loss=1.81 avg=2.08\n",
            "[960 | 883.17] loss=1.74 avg=2.08\n",
            "[970 | 891.99] loss=2.20 avg=2.08\n",
            "[980 | 900.81] loss=1.43 avg=2.07\n",
            "[990 | 909.63] loss=1.56 avg=2.06\n",
            "[1000 | 918.48] loss=2.34 avg=2.07\n",
            "Saving checkpoint/run1/model-1000\n",
            "WARNING:tensorflow:From /usr/local/lib/python3.6/dist-packages/tensorflow_core/python/training/saver.py:963: remove_checkpoint (from tensorflow.python.training.checkpoint_management) is deprecated and will be removed in a future version.\n",
            "Instructions for updating:\n",
            "Use standard file APIs to delete files with this prefix.\n",
            "======== SAMPLE 1 ========\n",
            "\n",
            "<| startoftext|>you're welcome, lamer.<| endoftext|>\n",
            "<| startoftext|>the housewives of the john legend party is coming together. so do I.<| endoftext|>\n",
            "<| startoftext|>it's official. I love u.<| endoftext|>\n",
            "<| startoftext|>I've just learned if you look at them from above (i don't make any of them) youll get 1% better looking at the other 99%. i'm sorry, I'm good.<| endoftext|>\n",
            "<| startoftext|>Lol you're welcome, lamer.<| endoftext|>\n",
            "<| startoftext|>just made my first ever spicy beef chili with chili and red veggies I just wrote.<| endoftext|>\n",
            "<| startoftext|>I love that you guys think I don't exist right now. Can I join your imaginary world?<| endoftext|>\n",
            "<| startoftext|>I need to use Google Images so I can be in that endless loop of people who are constantly making shit up just so I can say \"oh I AM an actual human being\"<| endoftext|>\n",
            "<| startoftext|>just watched this in theaters and boy were people riled up, I'm not mad at them<| endoftext|>\n",
            "<| startoftext|>That's exactly what she said<| endoftext|>\n",
            "<| startoftext|>Lol. One day. RT  I hear you're a comedian and you're also a writer. So yeah...don't think you have anything going on there.<|endoftext|>\n",
            "<| startoftext|>I have seen. That is a lie. RT  how would you describe this day?<|endoftext|>\n",
            "<| startoftext|>I want to see yung fat as I have never seen yung fat, and they are the 2nd hardest thing. RT  that's so hot.<|endoftext|>\n",
            "<| startoftext|>lil John<| endoftext|>\n",
            "<| startoftext|>I don't remember anything but I want to die seeing \"The World According to Yung Fat\"<| endoftext|>\n",
            "<| startoftext|>I want to see the end game of \"The World According to Yung Fat\" just to see who gets away with this year I always get up to the podium and say \"get down you fat bastards\"<| endoftext|>\n",
            "<| startoftext|>I am really not interested in the world<| endoftext|>\n",
            "<| startoftext|>I am seriously going to start posting random thoughts for the rest of my life until I am finally cured<| endoftext|>\n",
            "<| startoftext|>lol is that what he said<| endoftext|>\n",
            "<| startoftext|>I always forget guys don't like talking about themselves. it's all in the \"me\" you fucking stupid fucking bastard.<| endoftext|>\n",
            "<| startoftext|>I am obsessed with that movie because it literally just happened<| endoftext|>\n",
            "<| startoftext|>It's been 10 years since this but I am finally gonna watch \"the movie\". I want to cry.<| endoftext|>\n",
            "<| startoftext|>That last one I was jealous of. I was not the only one.<| endoftext|>\n",
            "<| startoftext|>My new year's resolution is for you guys to tell your girls not to say \"miley\" when you say your name. \"miley\" is a terrible name, I promise you.<| endoftext|>\n",
            "<| startoftext|>YAYYYYYYYYYYYYYYYYYYY!!!<| endoftext|>\n",
            "<| startoftext|>Whoa is this real? RT  I know what you should know about dating in the real world.<|endoftext|>\n",
            "<| startoftext|>hahaah<| endoftext|>\n",
            "<| startoftext|>I love her!<| endoftext|>\n",
            "<| startoftext|>Aaaah \"good for him!\"<| endoftext|>\n",
            "<| startoftext|>I would have never dated unless you had zero sense of entitlement! Ugh I hate you.<| endoftext|>\n",
            "<| startoftext|>hahaahaah<| endoftext|>\n",
            "<| startoftext|>you aren't great.<| endoftext|>\n",
            "<| startoftext|>lol\n",
            "\n",
            "[1010 | 950.89] loss=2.47 avg=2.07\n",
            "[1020 | 959.73] loss=2.04 avg=2.07\n",
            "[1030 | 968.58] loss=1.50 avg=2.06\n",
            "[1040 | 977.45] loss=1.47 avg=2.05\n",
            "[1050 | 986.29] loss=1.38 avg=2.04\n",
            "[1060 | 995.12] loss=1.31 avg=2.03\n",
            "[1070 | 1003.94] loss=1.73 avg=2.03\n",
            "[1080 | 1012.78] loss=1.93 avg=2.03\n",
            "[1090 | 1021.60] loss=2.22 avg=2.03\n",
            "[1100 | 1030.43] loss=1.51 avg=2.02\n",
            "[1110 | 1039.27] loss=2.14 avg=2.02\n",
            "[1120 | 1048.09] loss=2.60 avg=2.03\n",
            "[1130 | 1056.93] loss=2.13 avg=2.03\n",
            "[1140 | 1065.76] loss=2.24 avg=2.04\n",
            "[1150 | 1074.60] loss=1.93 avg=2.03\n",
            "[1160 | 1083.42] loss=1.67 avg=2.03\n",
            "[1170 | 1092.25] loss=1.74 avg=2.02\n",
            "[1180 | 1101.07] loss=1.78 avg=2.02\n",
            "[1190 | 1109.90] loss=1.57 avg=2.01\n",
            "[1200 | 1118.73] loss=1.48 avg=2.01\n",
            "[1210 | 1127.59] loss=1.79 avg=2.00\n",
            "[1220 | 1136.41] loss=1.32 avg=1.99\n",
            "[1230 | 1145.25] loss=2.36 avg=2.00\n",
            "[1240 | 1154.10] loss=1.48 avg=1.99\n",
            "[1250 | 1162.94] loss=1.35 avg=1.98\n",
            "[1260 | 1171.80] loss=1.96 avg=1.98\n",
            "[1270 | 1180.63] loss=1.83 avg=1.98\n",
            "[1280 | 1189.48] loss=2.53 avg=1.99\n",
            "[1290 | 1198.30] loss=0.96 avg=1.97\n",
            "[1300 | 1207.12] loss=1.97 avg=1.97\n",
            "[1310 | 1215.97] loss=1.79 avg=1.97\n",
            "[1320 | 1224.83] loss=2.14 avg=1.97\n",
            "[1330 | 1233.64] loss=1.45 avg=1.97\n",
            "[1340 | 1242.46] loss=1.83 avg=1.96\n",
            "[1350 | 1251.29] loss=1.43 avg=1.96\n",
            "[1360 | 1260.12] loss=2.51 avg=1.96\n",
            "[1370 | 1268.95] loss=1.63 avg=1.96\n",
            "[1380 | 1277.81] loss=1.96 avg=1.96\n",
            "[1390 | 1286.67] loss=1.17 avg=1.95\n",
            "[1400 | 1295.54] loss=2.27 avg=1.95\n",
            "[1410 | 1304.37] loss=2.26 avg=1.96\n",
            "[1420 | 1313.20] loss=1.47 avg=1.95\n",
            "[1430 | 1322.02] loss=2.26 avg=1.96\n",
            "[1440 | 1330.87] loss=2.39 avg=1.96\n",
            "[1450 | 1339.72] loss=1.34 avg=1.95\n",
            "[1460 | 1348.53] loss=1.53 avg=1.95\n",
            "[1470 | 1357.37] loss=2.69 avg=1.96\n",
            "[1480 | 1366.19] loss=2.01 avg=1.96\n",
            "[1490 | 1375.03] loss=1.04 avg=1.95\n",
            "[1500 | 1383.85] loss=1.83 avg=1.94\n",
            "Saving checkpoint/run1/model-1500\n",
            "======== SAMPLE 1 ========\n",
            "startoftext|>Thank you!!<|endoftext|>\n",
            "<|startoftext|>Oh man I can't go outside<|endoftext|>\n",
            "<|startoftext|>Oh I literally only tweet about the perfect thing<|endoftext|>\n",
            "<|startoftext|>lol<|endoftext|>\n",
            "<|startoftext|>lol<|endoftext|>\n",
            "<|startoftext|>lol!<|endoftext|>\n",
            "<|startoftext|>:)<|endoftext|>\n",
            "<|startoftext|>oh god dammit<|endoftext|>\n",
            "<|startoftext|>I can always count on one hand the number of times I have been stabbed in some sort of random lab<|endoftext|>\n",
            "<|startoftext|>I've made enough<|endoftext|>\n",
            "<|startoftext|>I don't have to<|endoftext|>\n",
            "<|startoftext|>I don't like to brag I won a Google award just to piss people off. I can tell when someone is trying to shut me up.<|endoftext|>\n",
            "<|startoftext|>OH MY SO MANY I GET EM OH MY THEY ARE MY KITCHEN<|endoftext|>\n",
            "<|startoftext|>lol!<|endoftext|>\n",
            "<|startoftext|>I think a lot of people who follow me think I am extremely weird and therefore very annoying. Or that they wish they never followed me. No big deal.<|endoftext|>\n",
            "<|startoftext|>lol<|endoftext|>\n",
            "<|startoftext|>lol<|endoftext|>\n",
            "<|startoftext|>ok so the original tweet about the original post has generated over 500 likes, and I'm being paid to write it. Yikes. So that is what's happening.<|endoftext|>\n",
            "<|startoftext|>thank you!<|endoftext|>\n",
            "<|startoftext|>lol<|endoftext|>\n",
            "<|startoftext|>I've been trying to understand this but I've never told anybody about the fact that I'm going to be a blogger of any sort. This is something that has been happening a lot but seems to be happening less of late.<|endoftext|>\n",
            "<|startoftext|>lol good one<|endoftext|>\n",
            "<|startoftext|>lol good call! RT<|endoftext|>\n",
            "<|startoftext|>lol<|endoftext|>\n",
            "<|startoftext|>I need an  for this. It took me hours<|endoftext|>\n",
            "<|startoftext|>lol<|endoftext|>\n",
            "<|startoftext|>the most beautiful food in my life<|endoftext|>\n",
            "<|startoftext|>Just learned that I can now get paid for tweeting about  and  in the past. Hahahhahaha thank you!!<|endoftext|>\n",
            "<|startoftext|>lol<|endoftext|>\n",
            "<|startoftext|>Hahahahahahahahahahahaahahahahahahaahahahhaah ahahahahaha hahaha<|endoftext|>\n",
            "<|startoftext|>Bitch I'm not taking it back RT “:  we need you more. She needs friends! RT : She is everything to us, and to nobody except YOU!”<|endoftext|>\n",
            "<|startoftext|>LOOK IT IS TIME, JIMMIES TIMEE BABY TIMSSSSS<|endoftext|>\n",
            "<|startoftext|>I gotta tell you they're not very pretty<|endoftext|>\n",
            "<|startoftext|>lol<|endoftext|>\n",
            "<|startoftext|>that's great!! thanks!<|endoftext|>\n",
            "<|startoftext|>lol<|endoftext|>\n",
            "<|startoftext|>I think my last tweet might have been the most important one ever to say.<|endoftext|>\n",
            "<|startoftext|>lol<|endoftext|>\n",
            "<|startoftext|>what<|endoftext|>\n",
            "<|startoftext|>Bitch I need an attorney RT “:  are you following me?”<|endoftext|>\n",
            "<|startoftext|>lol<|endoftext|>\n",
            "<|startof\n",
            "\n",
            "[1510 | 1419.64] loss=1.84 avg=1.94\n",
            "[1520 | 1428.48] loss=1.52 avg=1.94\n",
            "[1530 | 1437.33] loss=2.27 avg=1.94\n",
            "[1540 | 1446.16] loss=2.56 avg=1.95\n",
            "[1550 | 1455.00] loss=1.33 avg=1.94\n",
            "[1560 | 1463.85] loss=1.59 avg=1.94\n",
            "[1570 | 1472.71] loss=1.28 avg=1.93\n",
            "[1580 | 1481.56] loss=1.22 avg=1.92\n",
            "[1590 | 1490.38] loss=1.36 avg=1.91\n",
            "[1600 | 1499.20] loss=1.87 avg=1.91\n",
            "[1610 | 1508.04] loss=1.28 avg=1.90\n",
            "[1620 | 1516.90] loss=2.07 avg=1.91\n",
            "[1630 | 1525.77] loss=1.88 avg=1.91\n",
            "[1640 | 1534.59] loss=1.84 avg=1.91\n",
            "[1650 | 1543.41] loss=1.84 avg=1.91\n",
            "[1660 | 1552.23] loss=1.84 avg=1.90\n",
            "[1670 | 1561.08] loss=1.51 avg=1.90\n",
            "[1680 | 1569.90] loss=2.15 avg=1.90\n",
            "[1690 | 1578.73] loss=0.87 avg=1.89\n",
            "[1700 | 1587.57] loss=1.32 avg=1.88\n",
            "[1710 | 1596.41] loss=1.47 avg=1.88\n",
            "[1720 | 1605.24] loss=2.00 avg=1.88\n",
            "[1730 | 1614.08] loss=1.40 avg=1.87\n",
            "[1740 | 1622.90] loss=1.81 avg=1.87\n",
            "[1750 | 1631.74] loss=1.55 avg=1.87\n",
            "[1760 | 1640.57] loss=0.81 avg=1.86\n",
            "[1770 | 1649.39] loss=2.21 avg=1.86\n",
            "[1780 | 1658.24] loss=1.03 avg=1.85\n",
            "[1790 | 1667.05] loss=1.03 avg=1.84\n",
            "[1800 | 1675.89] loss=2.29 avg=1.85\n",
            "[1810 | 1684.72] loss=2.07 avg=1.85\n",
            "[1820 | 1693.56] loss=1.29 avg=1.84\n",
            "[1830 | 1702.41] loss=1.50 avg=1.84\n",
            "[1840 | 1711.24] loss=0.81 avg=1.83\n",
            "[1850 | 1720.08] loss=1.30 avg=1.82\n",
            "[1860 | 1728.92] loss=0.99 avg=1.81\n",
            "[1870 | 1737.74] loss=1.82 avg=1.81\n",
            "[1880 | 1746.59] loss=1.31 avg=1.80\n",
            "[1890 | 1755.42] loss=0.51 avg=1.79\n",
            "[1900 | 1764.28] loss=1.17 avg=1.78\n",
            "[1910 | 1773.12] loss=0.70 avg=1.77\n",
            "[1920 | 1781.96] loss=1.29 avg=1.76\n",
            "[1930 | 1790.80] loss=1.41 avg=1.76\n",
            "[1940 | 1799.63] loss=1.43 avg=1.76\n",
            "[1950 | 1808.46] loss=1.44 avg=1.75\n",
            "[1960 | 1817.30] loss=0.79 avg=1.74\n",
            "[1970 | 1826.13] loss=1.72 avg=1.74\n",
            "[1980 | 1834.95] loss=1.47 avg=1.74\n",
            "[1990 | 1843.78] loss=1.15 avg=1.73\n",
            "[2000 | 1852.61] loss=1.68 avg=1.73\n",
            "Saving checkpoint/run1/model-2000\n"
          ],
          "name": "stdout"
        }
      ]
    },
    {
      "cell_type": "markdown",
      "metadata": {
        "id": "IXSuTNERaw6K"
      },
      "source": [
        "After the model is trained, you can copy the checkpoint folder to your own Google Drive.\n",
        "\n",
        "If you want to download it to your personal computer, it's strongly recommended you copy it there first, then download from Google Drive. The checkpoint folder is copied as a `.rar` compressed file; you can download it and uncompress it locally."
      ]
    },
    {
      "cell_type": "code",
      "metadata": {
        "id": "VHdTL8NDbAh3"
      },
      "source": [
        "gpt2.copy_checkpoint_to_gdrive(run_name='run1')"
      ],
      "execution_count": null,
      "outputs": []
    },
    {
      "cell_type": "markdown",
      "metadata": {
        "id": "qQJgV_b4bmzd"
      },
      "source": [
        "You're done! Feel free to go to the **Generate Text From The Trained Model** section to generate text based on your retrained model."
      ]
    },
    {
      "cell_type": "markdown",
      "metadata": {
        "id": "pel-uBULXO2L"
      },
      "source": [
        "## Load a Trained Model Checkpoint\n",
        "\n",
        "Running the next cell will copy the `.rar` checkpoint file from your Google Drive into the Colaboratory VM."
      ]
    },
    {
      "cell_type": "code",
      "metadata": {
        "id": "DCcx5u7sbPTD"
      },
      "source": [
        "gpt2.copy_checkpoint_from_gdrive(run_name='run1')"
      ],
      "execution_count": null,
      "outputs": []
    },
    {
      "cell_type": "markdown",
      "metadata": {
        "id": "RTa6zf3e_9gV"
      },
      "source": [
        "The next cell will allow you to load the retrained model checkpoint + metadata necessary to generate text.\n",
        "\n",
        "**IMPORTANT NOTE:** If you want to rerun this cell, **restart the VM first** (Runtime -> Restart Runtime). You will need to rerun imports but not recopy files."
      ]
    },
    {
      "cell_type": "code",
      "metadata": {
        "id": "-fxL77nvAMAX"
      },
      "source": [
        "sess = gpt2.start_tf_sess()\n",
        "gpt2.load_gpt2(sess, run_name='run1')"
      ],
      "execution_count": null,
      "outputs": []
    },
    {
      "cell_type": "markdown",
      "metadata": {
        "id": "ClJwpF_ACONp"
      },
      "source": [
        "## Generate Text From The Trained Model\n",
        "\n",
        "After you've trained the model or loaded a retrained model from checkpoint, you can now generate text. `generate` generates a single text from the loaded model.\n",
        "\n",
        "However, for tweets, generating from the base model alone won't be as fruitful due to the necessary encoding. For a solution to that, see the next cell."
      ]
    },
    {
      "cell_type": "code",
      "metadata": {
        "id": "4RNY6RBI9LmL",
        "colab": {
          "base_uri": "https://localhost:8080/",
          "height": 573
        },
        "outputId": "a5d9f660-a1da-4122-f24c-20e897ae15d5"
      },
      "source": [
        "gpt2.generate(sess, run_name='run1')"
      ],
      "execution_count": null,
      "outputs": [
        {
          "output_type": "stream",
          "text": [
            "by\n",
            "\n",
            "I WILL NEVER CHANGE THIS<|endoftext|>\n",
            "<|startoftext|>😩❤️<|endoftext|>\n",
            "<|startoftext|>I definitely will be doing some of those things! I'm not sure where I'll live but I'll be there!<|endoftext|>\n",
            "<|startoftext|>I have a paunchy, booty blonde haired boy<|endoftext|>\n",
            "<|startoftext|>I like it when people call me out for being ignorant and rude. That is my form of self awareness.<|endoftext|>\n",
            "<|startoftext|>The only thing worse in this day is a fog machine, I swear<|endoftext|>\n",
            "<|startoftext|>I don't know how to do the \"this won't work on my phone\" comments. I'll play save the world by a cry in the elevator or on the plane<|endoftext|>\n",
            "<|startoftext|>I have no fucking idea how I'm supposed to look on this plane with my sunglasses on. I am blind. I am blind.<|endoftext|>\n",
            "<|startoftext|>I just tried to get the 's voice to come through. I thought it would be a little boy but it wasn't? I don't get it. I'm blind.<|endoftext|>\n",
            "<|startoftext|>I am so confused as to why anyone would send someone to my home to kidnap and rape me.<|endoftext|>\n",
            "<|startoftext|>thank you!!<|endoftext|>\n",
            "<|startoftext|>I am in red<|endoftext|>\n",
            "<|startoftext|>I was just about to say we should just kill everyone<|endoftext|>\n",
            "<|startoftext|>I really don't understand the layout at all. It's confusing. I'm not a weirdo. I can't find a bug I like. I'm just confused. I have one for a few years now and haven't found a bug I like. I feel like it's a special snowflake<|endoftext|>\n",
            "<|startoftext|>I need to see a bug<|endoftext|>\n",
            "<|startoftext|>I'll be hosting a function at the  in my penthouse suite tonight! Come see me and  tomorrow night!<|endoftext|>\n",
            "<|startoftext|>I love it there. It's my new desk.<|endoftext|>\n",
            "<|startoftext|>😩❤️<|endoftext|>\n",
            "<|startoftext|>I did not know it was an accent until I was on the plane. I am an unabashed native LA fan which is why I am here. I would love it here. I have a lot to look forward to in life<|endoftext|>\n",
            "<|startoftext|>I Love that my DJs will sometimes change the song to a totally different riff to try and appeal to the fans. But I hate that shit. Who cares about what they do?<|endoftext|>\n",
            "<|startoftext|>That is my full name and I don't want you guys to think that I'm pretending anything. I don't take permission just because someone complains<|endoftext|>\n",
            "<|startoftext|>Fucking stupid people.<|endoftext|>\n",
            "<|startoftext|>You are the stupidest. I have people who know how to spell my name and I don't care.<|endoftext|>\n",
            "<|startoftext|>I love you but I don't care that you don't know my name. I care that you don't know my name.<|endoftext|>\n",
            "<|startoftext|>I can't see my face in my flight. I don't deserve it and I don't care it.<|endoftext|>\n",
            "<|startoftext|>I hate that I can't see my name at all. I can't see my name if my face is off, can I?<|endoftext|>\n",
            "<|startoftext|>I don't care that you don't know my name. I just don't care that you don't know my name.<|endoftext|>\n",
            "<|startoftext|>I don't care that you don't know my name. I care that you don't know my name.<|endoftext|>\n",
            "<|startoftext|>I don't care that you don't know my name. I care that you don't know my name.<|end\n"
          ],
          "name": "stdout"
        }
      ]
    },
    {
      "cell_type": "markdown",
      "metadata": {
        "id": "oF4-PqF0Fl7R"
      },
      "source": [
        "If you're creating an API based on your model and need to pass the generated text elsewhere, you can do `text = gpt2.generate(sess, return_as_list=True)[0]`\n",
        "\n",
        "You can also pass in a `prefix` to the generate function to force the text to start with a given character sequence and generate text from there (good if you add an indicator when the text starts).\n",
        "\n",
        "You can also generate multiple texts at a time by specifing `nsamples`. Unique to GPT-2, you can pass a `batch_size` to generate multiple samples in parallel, giving a massive speedup (in Colaboratory, set a maximum of 20 for `batch_size`).\n",
        "\n",
        "Other optional-but-helpful parameters for `gpt2.generate` and friends:\n",
        "\n",
        "*  **`length`**: Number of tokens to generate (default 1023, the maximum)\n",
        "* **`temperature`**: The higher the temperature, the crazier the text (default 0.7, recommended to keep between 0.7 and 1.0)\n",
        "* **`top_k`**: Limits the generated guesses to the top *k* guesses (default 0 which disables the behavior; if the generated output is super crazy, you may want to set `top_k=40`)\n",
        "* **`top_p`**: Nucleus sampling: limits the generated guesses to a cumulative probability. (gets good results on a dataset with `top_p=0.9`)\n",
        "* **`truncate`**: Truncates the input text until a given sequence, excluding that sequence (e.g. if `truncate='<|endoftext|>'`, the returned text will include everything before the first `<|endoftext|>`). It may be useful to combine this with a smaller `length` if the input texts are short.\n",
        "*  **`include_prefix`**: If using `truncate` and `include_prefix=False`, the specified `prefix` will not be included in the returned text.\n",
        "\n",
        "Tweets require specific `prefix`, `truncate`, and `include_prefix` as demoed below."
      ]
    },
    {
      "cell_type": "code",
      "metadata": {
        "id": "8DKMc0fiej4N",
        "colab": {
          "base_uri": "https://localhost:8080/",
          "height": 728
        },
        "outputId": "6b99d940-135b-42b1-df5f-6cc79fba77c6"
      },
      "source": [
        "gpt2.generate(sess,\n",
        "              length=200,\n",
        "              temperature=0.7,\n",
        "              prefix='<|startoftext|>',\n",
        "              truncate='<|endoftext|>',\n",
        "              include_prefix=False,\n",
        "              nsamples=20,\n",
        "              batch_size=20\n",
        "              )"
      ],
      "execution_count": null,
      "outputs": [
        {
          "output_type": "stream",
          "text": [
            "What are you doing in an empty hotel cubicle? Do u think it's the hotel?\n",
            "====================\n",
            "Yes. I just had that same thought and voila. She does not. She is an idiot.\n",
            "====================\n",
            "lol\n",
            "====================\n",
            "lol\n",
            "====================\n",
            "hahahaha\n",
            "====================\n",
            "I love him. RT :  My favorite Twitter tweet of the season.\n",
            "====================\n",
            "I've been listening to this train of thought for way too long. I'm lost.\n",
            "====================\n",
            "❤️\n",
            "====================\n",
            "I'm not a good negotiator. I don't need you to tell me I can't have a fucking adult conversation about stupid shit.\n",
            "====================\n",
            "i am gonna kill myself by telling  to get out of my face?\n",
            "====================\n",
            "This is a really bad tweet. I was hoping he said sorry and I was mad I didn't say hi.\n",
            "====================\n",
            "I'm in. I'm in.\n",
            "====================\n",
            "I'm not making this up. I can't stop typing.\n",
            "====================\n",
            "lol!\n",
            "====================\n",
            "all the same. great tweet. oh boy oh boy.\n",
            "====================\n",
            "I wrote to you! I wanted to buy the book. I love you guys so much\n",
            "====================\n",
            "I love you, Sarah\n",
            "====================\n",
            "I'm like \"oo this looks awesome\" and then it is like \"no shit I'm not sure I want this\" and I'm like \"no it's not a fucking book that's what u said\" and I'm like oh shit no it's a fucking cheetos commercial\n",
            "====================\n",
            "I just went to my first martial arts class and yep, i suck. I feel like I'm a ninja or some shit.\n",
            "====================\n",
            "You guys are right. It's not a typo. It's a literal \"clarification\". Which is why I am so, so mad.\n",
            "====================\n"
          ],
          "name": "stdout"
        }
      ]
    },
    {
      "cell_type": "markdown",
      "metadata": {
        "id": "zjjEN2Tafhl2"
      },
      "source": [
        "For bulk generation, you can generate a large amount of text to a file and sort out the samples locally on your computer. The next cell will generate a generated text file with a unique timestamp.\n",
        "\n",
        "You can rerun the cells as many times as you want for even more generated texts!"
      ]
    },
    {
      "cell_type": "code",
      "metadata": {
        "id": "Fa6p6arifSL0"
      },
      "source": [
        "gen_file = 'gpt2_gentext_{:%Y%m%d_%H%M%S}.txt'.format(datetime.utcnow())\n",
        "\n",
        "gpt2.generate_to_file(sess,\n",
        "                      destination_path=gen_file,\n",
        "                      length=200,\n",
        "                      temperature=1.0,\n",
        "                      top_p=0.9,\n",
        "                      prefix='<|startoftext|>',\n",
        "                      truncate='<|endoftext|>',\n",
        "                      include_prefix=False,\n",
        "                      nsamples=1000,\n",
        "                      batch_size=20\n",
        "                      )"
      ],
      "execution_count": null,
      "outputs": []
    },
    {
      "cell_type": "code",
      "metadata": {
        "id": "0-LRex8lfv1g"
      },
      "source": [
        "# may have to run twice to get file to download\n",
        "files.download(gen_file)"
      ],
      "execution_count": null,
      "outputs": []
    },
    {
      "cell_type": "markdown",
      "metadata": {
        "id": "aPGdtsnXjRqm"
      },
      "source": [
        "If you want to generate a large number of 1,000 tweet files without having to click a cell button multiple times, you can use the cell below. You can then download the generated files by right-clicking them in the Files sidebar."
      ]
    },
    {
      "cell_type": "code",
      "metadata": {
        "id": "u45EtVUsjM8R"
      },
      "source": [
        "num_files = 10\n",
        "\n",
        "for _ in range(num_files):\n",
        "  gen_file = 'gpt2_gentext_{:%Y%m%d_%H%M%S}.txt'.format(datetime.utcnow())\n",
        "\n",
        "  gpt2.generate_to_file(sess,\n",
        "                        destination_path=gen_file,\n",
        "                        length=200,\n",
        "                        temperature=1.0,\n",
        "                        top_p=0.9,\n",
        "                        prefix='<|startoftext|>',\n",
        "                        truncate='<|endoftext|>',\n",
        "                        include_prefix=False,\n",
        "                        nsamples=1000,\n",
        "                        batch_size=20\n",
        "                        )"
      ],
      "execution_count": null,
      "outputs": []
    },
    {
      "cell_type": "markdown",
      "metadata": {
        "id": "ig-KVgkCDCKD"
      },
      "source": [
        "# Etcetera\n",
        "\n",
        "If the notebook has errors (e.g. GPU Sync Fail), force-kill the Colaboratory virtual machine and restart it with the command below:"
      ]
    },
    {
      "cell_type": "code",
      "metadata": {
        "id": "rIHiVP53FnsX"
      },
      "source": [
        "!kill -9 -1"
      ],
      "execution_count": null,
      "outputs": []
    },
    {
      "cell_type": "markdown",
      "metadata": {
        "id": "wmTXWNUygS5E"
      },
      "source": [
        "# LICENSE\n",
        "\n",
        "MIT License\n",
        "\n",
        "Copyright (c) 2019-2020 Max Woolf\n",
        "\n",
        "Permission is hereby granted, free of charge, to any person obtaining a copy\n",
        "of this software and associated documentation files (the \"Software\"), to deal\n",
        "in the Software without restriction, including without limitation the rights\n",
        "to use, copy, modify, merge, publish, distribute, sublicense, and/or sell\n",
        "copies of the Software, and to permit persons to whom the Software is\n",
        "furnished to do so, subject to the following conditions:\n",
        "\n",
        "The above copyright notice and this permission notice shall be included in all\n",
        "copies or substantial portions of the Software.\n",
        "\n",
        "THE SOFTWARE IS PROVIDED \"AS IS\", WITHOUT WARRANTY OF ANY KIND, EXPRESS OR\n",
        "IMPLIED, INCLUDING BUT NOT LIMITED TO THE WARRANTIES OF MERCHANTABILITY,\n",
        "FITNESS FOR A PARTICULAR PURPOSE AND NONINFRINGEMENT. IN NO EVENT SHALL THE\n",
        "AUTHORS OR COPYRIGHT HOLDERS BE LIABLE FOR ANY CLAIM, DAMAGES OR OTHER\n",
        "LIABILITY, WHETHER IN AN ACTION OF CONTRACT, TORT OR OTHERWISE, ARISING FROM,\n",
        "OUT OF OR IN CONNECTION WITH THE SOFTWARE OR THE USE OR OTHER DEALINGS IN THE\n",
        "SOFTWARE."
      ]
    }
  ]
}