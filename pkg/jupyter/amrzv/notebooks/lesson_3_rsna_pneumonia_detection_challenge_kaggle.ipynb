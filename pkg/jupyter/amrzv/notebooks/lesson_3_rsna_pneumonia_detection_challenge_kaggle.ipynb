{
  "nbformat": 4,
  "nbformat_minor": 0,
  "metadata": {
    "colab": {
      "name": "lesson-3-rsna-pneumonia-detection-challenge-kaggle",
      "provenance": [],
      "collapsed_sections": []
    },
    "kernelspec": {
      "display_name": "Python 3",
      "language": "python",
      "name": "python3"
    },
    "accelerator": "GPU"
  },
  "cells": [
    {
      "cell_type": "markdown",
      "metadata": {
        "id": "KBeAf8WgaeSk"
      },
      "source": [
        "## Intro to deep learning for medical imaging by [MD.ai](https://www.md.ai)\n",
        "\n",
        "## Lesson 3. RSNA Pneumonia Detection Challenge (Kaggel API)\n",
        "\n",
        "The [Radiological Society of North America](http://www.rsna.org/) Pneumonia Detection Challenge: https://www.kaggle.com/c/rsna-pneumonia-detection-challenge\n",
        "\n",
        "This notebook covers the basics of parsing the competition dataset, training using a detector basd on the [Mask-RCNN algorithm](https://arxiv.org/abs/1703.06870) for object detection and instance segmentation.  \n",
        "\n",
        "This notebook is developed by [MD.ai](https://www.md.ai), the platform for medical AI. \n",
        "This notebook requires Google's [TensorFlow](https://www.tensorflow.org/) machine learning framework.\n",
        "\n",
        "**Intro to deep learning for medical imaging lessons**\n",
        "\n",
        "- Lesson 1. Classification of chest vs. adominal X-rays using TensorFlow/Keras [Github](https://github.com/mdai/ml-lessons/blob/master/lesson1-xray-images-classification.ipynb) [Annotator](https://public.md.ai/annotator/project/PVq9raBJ)\n",
        "\n",
        "- Lesson 2. Lung X-Rays Semantic Segmentation using UNets. [Github](https://github.com/mdai/ml-lessons/blob/master/lesson2-lung-xrays-segmentation.ipynb)\n",
        "[Annotator](https://public.md.ai/annotator/project/aGq4k6NW/workspace) \n",
        "\n",
        "- Lesson 3. RSNA Pneumonia detection using Kaggle data format [Github](https://github.com/mdai/ml-lessons/blob/master/lesson3-rsna-pneumonia-detection-kaggle.ipynb) [Annotator](https://public.md.ai/annotator/project/LxR6zdR2/workspace) \n",
        "  \n",
        "- Lesson 3. RSNA Pneumonia detection using MD.ai python client library [Github](https://github.com/mdai/ml-lessons/blob/master/lesson3-rsna-pneumonia-detection-mdai-client-lib.ipynb) [Annotator](https://public.md.ai/annotator/project/LxR6zdR2/workspace) \n",
        "\n",
        "*Copyright 2018 MD.ai, Inc.   \n",
        "Licensed under the Apache License, Version 2.0*"
      ]
    },
    {
      "cell_type": "code",
      "metadata": {
        "id": "tA57TGos4mtN"
      },
      "source": [
        "# install dependencies not included by Colab\n",
        "# use pip3 to ensure compatibility w/ Google Deep Learning Images \n",
        "!pip3 install -q pydicom \n",
        "!pip3 install -q tqdm \n",
        "!pip3 install -q imgaug "
      ],
      "execution_count": null,
      "outputs": []
    },
    {
      "cell_type": "code",
      "metadata": {
        "id": "4kjcC6QqywWl"
      },
      "source": [
        "import os \n",
        "import sys\n",
        "\n",
        "import random\n",
        "import math\n",
        "import numpy as np\n",
        "import cv2\n",
        "import matplotlib.pyplot as plt\n",
        "import json\n",
        "import pydicom\n",
        "from imgaug import augmenters as iaa\n",
        "from tqdm import tqdm\n",
        "import pandas as pd \n",
        "import glob "
      ],
      "execution_count": null,
      "outputs": []
    },
    {
      "cell_type": "markdown",
      "metadata": {
        "id": "eCXdW8QfjB81"
      },
      "source": [
        "### First: Install Kaggle API for download competition data."
      ]
    },
    {
      "cell_type": "code",
      "metadata": {
        "id": "m3XCS28Oqw8Q"
      },
      "source": [
        "# Install Kaggle API for download competition data\n",
        "!pip3 install -q kaggle"
      ],
      "execution_count": null,
      "outputs": []
    },
    {
      "cell_type": "markdown",
      "metadata": {
        "id": "5h0Pm-DP7KX5"
      },
      "source": [
        "### Next: You must accept the user agreement on the competition website! Then follow [instructions to obtain your Kaggle Credentials.](https://github.com/Kaggle/kaggle-api#api-credentials)  \n",
        "If you are unable to download the competition dataset, check to see if you have accepted the **user agreement** on the competition website. "
      ]
    },
    {
      "cell_type": "code",
      "metadata": {
        "id": "PvGVpsN0tZqj"
      },
      "source": [
        "# enter your Kaggle credentionals here\n",
        "os.environ['KAGGLE_USERNAME']=\"\"\n",
        "os.environ['KAGGLE_KEY']=\"\""
      ],
      "execution_count": null,
      "outputs": []
    },
    {
      "cell_type": "code",
      "metadata": {
        "id": "yP0XLJx_x_6o"
      },
      "source": [
        "# Root directory of the project\n",
        "ROOT_DIR = os.path.abspath('./lesson3-data')\n",
        "\n",
        "# Directory to save logs and trained model\n",
        "MODEL_DIR = os.path.join(ROOT_DIR, 'logs')\n",
        "\n",
        "if not os.path.exists(ROOT_DIR):\n",
        "    os.makedirs(ROOT_DIR)\n",
        "os.chdir(ROOT_DIR)"
      ],
      "execution_count": null,
      "outputs": []
    },
    {
      "cell_type": "code",
      "metadata": {
        "id": "kdEZnDqjr7tp",
        "colab": {
          "base_uri": "https://localhost:8080/",
          "height": 341
        },
        "outputId": "192166c5-13e5-41b7-8800-cc96bcd7edf0"
      },
      "source": [
        "# If you are unable to download the competition dataset, check to see if you have \n",
        "# accepted the user agreement on the competition website. \n",
        "!kaggle competitions download -c rsna-pneumonia-detection-challenge"
      ],
      "execution_count": null,
      "outputs": [
        {
          "output_type": "stream",
          "text": [
            "Downloading GCP%20Credits%20Request%20Link%20-%20RSNA.txt to /content/lesson3-data\r\n",
            "\r  0%|                                                | 0.00/55.0 [00:00<?, ?B/s]\r\n",
            "100%|████████████████████████████████████████| 55.0/55.0 [00:00<00:00, 41.6kB/s]\n",
            "Downloading stage_1_detailed_class_info.csv.zip to /content/lesson3-data\n",
            "  0%|                                                | 0.00/561k [00:00<?, ?B/s]\n",
            "100%|████████████████████████████████████████| 561k/561k [00:00<00:00, 79.6MB/s]\n",
            "Downloading stage_1_sample_submission.csv to /content/lesson3-data\n",
            "  0%|                                               | 0.00/51.8k [00:00<?, ?B/s]\n",
            "100%|██████████████████████████████████████| 51.8k/51.8k [00:00<00:00, 39.2MB/s]\n",
            "Downloading stage_1_train_labels.csv.zip to /content/lesson3-data\n",
            "  0%|                                                | 0.00/634k [00:00<?, ?B/s]\n",
            "100%|████████████████████████████████████████| 634k/634k [00:00<00:00, 99.7MB/s]\n",
            "Downloading stage_1_test_images.zip to /content/lesson3-data\n",
            "100%|████████████████████████████████████████| 126M/126M [00:01<00:00, 69.3MB/s]\n",
            "\n",
            "Downloading stage_1_train_images.zip to /content/lesson3-data\n",
            "100%|█████████████████████████████████████▉| 3.16G/3.17G [00:50<00:00, 64.6MB/s]\n",
            "100%|██████████████████████████████████████| 3.17G/3.17G [00:50<00:00, 67.3MB/s]\n"
          ],
          "name": "stdout"
        }
      ]
    },
    {
      "cell_type": "markdown",
      "metadata": {
        "id": "femDm6VVev6m"
      },
      "source": [
        "### Data is downloaded as zip files. Unzip the test and train datasets as well as the csv of  annotations."
      ]
    },
    {
      "cell_type": "code",
      "metadata": {
        "id": "kHjgAwQyx_4H"
      },
      "source": [
        "# unzipping takes a few minutes\n",
        "!unzip -q -o stage_1_test_images.zip -d stage_1_test_images\n",
        "!unzip -q -o stage_1_train_images.zip -d stage_1_train_images\n",
        "!unzip -q -o stage_1_train_labels.csv.zip"
      ],
      "execution_count": null,
      "outputs": []
    },
    {
      "cell_type": "markdown",
      "metadata": {
        "id": "KLTUyeTMTe4u"
      },
      "source": [
        "###  MD.ai Annotator \n",
        "\n",
        "Additionally, If you are interested in augmenting the existing annotations, you can use the MD.ai annotator to view DICOM images, and create annotatios to be exported.  \n",
        "MD.ai annotator project URL for the Kaggle dataset: https://public.md.ai/annotator/project/LxR6zdR2/workspace\n",
        "\n",
        "**Annotator features**\n",
        "- The annotator can be used to view DICOM images and create image and exam level annotations.\n",
        "- You can apply the annotator to filter by label, adjudicate annotations, and assign annotation tasks to your team.\n",
        "- Notebooks can be built directly within the annotator for rapid model development.\n",
        "- The data wrangling is abstracted away by the interface and by our MD.ai library.\n",
        "- Simplifies image annotation in order to widen the participation in the futrue of medical image deep learning.\n",
        "\n",
        "The annotator allows you to create initial annotations, build and run models, modify/finetune the annotations based on predicted values, and repeat.  \n",
        "The MD.ai python client library implements functions to easily download images and annotations and to prepare the datasets used to train the model for classification. See the following example notebook for parsing annotations and training using MD.ai annotator: \n",
        "https://github.com/mdai/ml-lessons/blob/master/lesson3-rsna-pneumonia-detection-mdai-client-lib.ipynb  \n",
        "- MD.ai URL: https://www.md.ai  \n",
        "- MD.ai documentation URL: https://docs.md.ai/"
      ]
    },
    {
      "cell_type": "markdown",
      "metadata": {
        "id": "kdYzLq1zfKL4"
      },
      "source": [
        "### Install Matterport's Mask-RCNN model from github.\n",
        "See the [Matterport's implementation of Mask-RCNN](https://github.com/matterport/Mask_RCNN)."
      ]
    },
    {
      "cell_type": "code",
      "metadata": {
        "id": "KgllzLnDr7kF",
        "colab": {
          "base_uri": "https://localhost:8080/",
          "height": 143
        },
        "outputId": "6c978df7-2013-437e-acd1-5011048dfb53"
      },
      "source": [
        "os.chdir(ROOT_DIR)\n",
        "!git clone https://github.com/matterport/Mask_RCNN.git\n",
        "os.chdir('Mask_RCNN')\n",
        "!python setup.py -q install"
      ],
      "execution_count": null,
      "outputs": [
        {
          "output_type": "stream",
          "text": [
            "Cloning into 'Mask_RCNN'...\n",
            "remote: Counting objects: 775, done.\u001b[K\n",
            "remote: Total 775 (delta 0), reused 0 (delta 0), pack-reused 774\u001b[K\n",
            "Receiving objects: 100% (775/775), 107.33 MiB | 24.02 MiB/s, done.\n",
            "Resolving deltas: 100% (446/446), done.\n",
            "WARNING:root:Fail load requirements file, so using default ones.\n",
            "zip_safe flag not set; analyzing archive contents...\n"
          ],
          "name": "stdout"
        }
      ]
    },
    {
      "cell_type": "code",
      "metadata": {
        "id": "-KZXyWwhzOVU",
        "colab": {
          "base_uri": "https://localhost:8080/",
          "height": 35
        },
        "outputId": "2576cc17-7484-4311-ad72-3c5643dcb5bb"
      },
      "source": [
        "# Import Mask RCNN\n",
        "sys.path.append(os.path.join(ROOT_DIR, 'Mask_RCNN'))  # To find local version of the library\n",
        "from mrcnn.config import Config\n",
        "from mrcnn import utils\n",
        "import mrcnn.model as modellib\n",
        "from mrcnn import visualize\n",
        "from mrcnn.model import log"
      ],
      "execution_count": null,
      "outputs": [
        {
          "output_type": "stream",
          "text": [
            "Using TensorFlow backend.\n"
          ],
          "name": "stderr"
        }
      ]
    },
    {
      "cell_type": "code",
      "metadata": {
        "id": "FghMmiMjzOX2"
      },
      "source": [
        "train_dicom_dir = os.path.join(ROOT_DIR, 'stage_1_train_images')\n",
        "test_dicom_dir = os.path.join(ROOT_DIR, 'stage_1_test_images')"
      ],
      "execution_count": null,
      "outputs": []
    },
    {
      "cell_type": "markdown",
      "metadata": {
        "id": "gj-tvDvEaDiC"
      },
      "source": [
        "### Some setup functions and classes for Mask-RCNN\n",
        "\n",
        "- dicom_fps is a list of the dicom image path and filenames \n",
        "- image_annotions is a dictionary of the annotations keyed by the filenames\n",
        "- parsing the dataset returns a list of the image filenames and the annotations dictionary"
      ]
    },
    {
      "cell_type": "code",
      "metadata": {
        "id": "ivqC4cnszOaM"
      },
      "source": [
        "def get_dicom_fps(dicom_dir):\n",
        "    dicom_fps = glob.glob(dicom_dir+'/'+'*.dcm')\n",
        "    return list(set(dicom_fps))\n",
        "\n",
        "def parse_dataset(dicom_dir, anns): \n",
        "    image_fps = get_dicom_fps(dicom_dir)\n",
        "    image_annotations = {fp: [] for fp in image_fps}\n",
        "    for index, row in anns.iterrows(): \n",
        "        fp = os.path.join(dicom_dir, row['patientId']+'.dcm')\n",
        "        image_annotations[fp].append(row)\n",
        "    return image_fps, image_annotations "
      ],
      "execution_count": null,
      "outputs": []
    },
    {
      "cell_type": "code",
      "metadata": {
        "id": "_SfzTa-1zOck",
        "colab": {
          "base_uri": "https://localhost:8080/",
          "height": 917
        },
        "outputId": "91ae8935-bccb-4b8e-9a7e-aa690f95fd9b"
      },
      "source": [
        "# The following parameters have been selected to reduce running time for demonstration purposes \n",
        "# These are not optimal \n",
        "\n",
        "class DetectorConfig(Config):\n",
        "    \"\"\"Configuration for training pneumonia detection on the RSNA pneumonia dataset.\n",
        "    Overrides values in the base Config class.\n",
        "    \"\"\"\n",
        "    \n",
        "    # Give the configuration a recognizable name  \n",
        "    NAME = 'pneumonia'\n",
        "    \n",
        "    # Train on 1 GPU and 8 images per GPU. We can put multiple images on each\n",
        "    # GPU because the images are small. Batch size is 8 (GPUs * images/GPU).\n",
        "    GPU_COUNT = 1\n",
        "    IMAGES_PER_GPU = 8 \n",
        "    \n",
        "    BACKBONE = 'resnet50'\n",
        "    \n",
        "    NUM_CLASSES = 2  # background + 1 pneumonia classes\n",
        "    \n",
        "    # Use small images for faster training. Set the limits of the small side\n",
        "    # the large side, and that determines the image shape.\n",
        "    IMAGE_MIN_DIM = 64\n",
        "    IMAGE_MAX_DIM = 64\n",
        "    \n",
        "    RPN_ANCHOR_SCALES = (32, 64)\n",
        "    \n",
        "    TRAIN_ROIS_PER_IMAGE = 16\n",
        "    \n",
        "    MAX_GT_INSTANCES = 3\n",
        "    \n",
        "    DETECTION_MAX_INSTANCES = 3\n",
        "    DETECTION_MIN_CONFIDENCE = 0.9\n",
        "    DETECTION_NMS_THRESHOLD = 0.1\n",
        "    \n",
        "    RPN_TRAIN_ANCHORS_PER_IMAGE = 16\n",
        "    STEPS_PER_EPOCH = 100 \n",
        "    TOP_DOWN_PYRAMID_SIZE = 32\n",
        "    STEPS_PER_EPOCH = 100\n",
        "    \n",
        "    \n",
        "config = DetectorConfig()\n",
        "config.display()"
      ],
      "execution_count": null,
      "outputs": [
        {
          "output_type": "stream",
          "text": [
            "\n",
            "Configurations:\n",
            "BACKBONE                       resnet50\n",
            "BACKBONE_STRIDES               [4, 8, 16, 32, 64]\n",
            "BATCH_SIZE                     8\n",
            "BBOX_STD_DEV                   [0.1 0.1 0.2 0.2]\n",
            "COMPUTE_BACKBONE_SHAPE         None\n",
            "DETECTION_MAX_INSTANCES        3\n",
            "DETECTION_MIN_CONFIDENCE       0.9\n",
            "DETECTION_NMS_THRESHOLD        0.1\n",
            "FPN_CLASSIF_FC_LAYERS_SIZE     1024\n",
            "GPU_COUNT                      1\n",
            "GRADIENT_CLIP_NORM             5.0\n",
            "IMAGES_PER_GPU                 8\n",
            "IMAGE_MAX_DIM                  64\n",
            "IMAGE_META_SIZE                14\n",
            "IMAGE_MIN_DIM                  64\n",
            "IMAGE_MIN_SCALE                0\n",
            "IMAGE_RESIZE_MODE              square\n",
            "IMAGE_SHAPE                    [64 64  3]\n",
            "LEARNING_MOMENTUM              0.9\n",
            "LEARNING_RATE                  0.001\n",
            "LOSS_WEIGHTS                   {'rpn_class_loss': 1.0, 'rpn_bbox_loss': 1.0, 'mrcnn_class_loss': 1.0, 'mrcnn_bbox_loss': 1.0, 'mrcnn_mask_loss': 1.0}\n",
            "MASK_POOL_SIZE                 14\n",
            "MASK_SHAPE                     [28, 28]\n",
            "MAX_GT_INSTANCES               3\n",
            "MEAN_PIXEL                     [123.7 116.8 103.9]\n",
            "MINI_MASK_SHAPE                (56, 56)\n",
            "NAME                           pneumonia\n",
            "NUM_CLASSES                    2\n",
            "POOL_SIZE                      7\n",
            "POST_NMS_ROIS_INFERENCE        1000\n",
            "POST_NMS_ROIS_TRAINING         2000\n",
            "ROI_POSITIVE_RATIO             0.33\n",
            "RPN_ANCHOR_RATIOS              [0.5, 1, 2]\n",
            "RPN_ANCHOR_SCALES              (32, 64)\n",
            "RPN_ANCHOR_STRIDE              1\n",
            "RPN_BBOX_STD_DEV               [0.1 0.1 0.2 0.2]\n",
            "RPN_NMS_THRESHOLD              0.7\n",
            "RPN_TRAIN_ANCHORS_PER_IMAGE    16\n",
            "STEPS_PER_EPOCH                100\n",
            "TOP_DOWN_PYRAMID_SIZE          32\n",
            "TRAIN_BN                       False\n",
            "TRAIN_ROIS_PER_IMAGE           16\n",
            "USE_MINI_MASK                  True\n",
            "USE_RPN_ROIS                   True\n",
            "VALIDATION_STEPS               50\n",
            "WEIGHT_DECAY                   0.0001\n",
            "\n",
            "\n"
          ],
          "name": "stdout"
        }
      ]
    },
    {
      "cell_type": "code",
      "metadata": {
        "id": "8EBVA1M60yAj"
      },
      "source": [
        "class DetectorDataset(utils.Dataset):\n",
        "    \"\"\"Dataset class for training pneumonia detection on the RSNA pneumonia dataset.\n",
        "    \"\"\"\n",
        "\n",
        "    def __init__(self, image_fps, image_annotations, orig_height, orig_width):\n",
        "        super().__init__(self)\n",
        "        \n",
        "        # Add classes\n",
        "        self.add_class('pneumonia', 1, 'Lung Opacity')\n",
        "   \n",
        "        # add images \n",
        "        for i, fp in enumerate(image_fps):\n",
        "            annotations = image_annotations[fp]\n",
        "            self.add_image('pneumonia', image_id=i, path=fp, \n",
        "                           annotations=annotations, orig_height=orig_height, orig_width=orig_width)\n",
        "            \n",
        "    def image_reference(self, image_id):\n",
        "        info = self.image_info[image_id]\n",
        "        return info['path']\n",
        "\n",
        "    def load_image(self, image_id):\n",
        "        info = self.image_info[image_id]\n",
        "        fp = info['path']\n",
        "        ds = pydicom.read_file(fp)\n",
        "        image = ds.pixel_array\n",
        "        # If grayscale. Convert to RGB for consistency.\n",
        "        if len(image.shape) != 3 or image.shape[2] != 3:\n",
        "            image = np.stack((image,) * 3, -1)\n",
        "        return image\n",
        "\n",
        "    def load_mask(self, image_id):\n",
        "        info = self.image_info[image_id]\n",
        "        annotations = info['annotations']\n",
        "        count = len(annotations)\n",
        "        if count == 0:\n",
        "            mask = np.zeros((info['orig_height'], info['orig_width'], 1), dtype=np.uint8)\n",
        "            class_ids = np.zeros((1,), dtype=np.int32)\n",
        "        else:\n",
        "            mask = np.zeros((info['orig_height'], info['orig_width'], count), dtype=np.uint8)\n",
        "            class_ids = np.zeros((count,), dtype=np.int32)\n",
        "            for i, a in enumerate(annotations):\n",
        "                if a['Target'] == 1:\n",
        "                    x = int(a['x'])\n",
        "                    y = int(a['y'])\n",
        "                    w = int(a['width'])\n",
        "                    h = int(a['height'])\n",
        "                    mask_instance = mask[:, :, i].copy()\n",
        "                    cv2.rectangle(mask_instance, (x, y), (x+w, y+h), 255, -1)\n",
        "                    mask[:, :, i] = mask_instance\n",
        "                    class_ids[i] = 1\n",
        "        return mask.astype(np.bool), class_ids.astype(np.int32)"
      ],
      "execution_count": null,
      "outputs": []
    },
    {
      "cell_type": "markdown",
      "metadata": {
        "id": "9RlMo04ckd98"
      },
      "source": [
        "### Examine the annotation data, parse the dataset, and view dicom fields"
      ]
    },
    {
      "cell_type": "code",
      "metadata": {
        "id": "EdhUEFDr0yDA",
        "colab": {
          "base_uri": "https://localhost:8080/",
          "height": 235
        },
        "outputId": "1715a5df-a577-41fd-bf20-f1a27aadb28c"
      },
      "source": [
        "# training dataset\n",
        "anns = pd.read_csv(os.path.join(ROOT_DIR, 'stage_1_train_labels.csv'))\n",
        "anns.head(6)"
      ],
      "execution_count": null,
      "outputs": [
        {
          "output_type": "execute_result",
          "data": {
            "text/html": [
              "<div>\n",
              "<style scoped>\n",
              "    .dataframe tbody tr th:only-of-type {\n",
              "        vertical-align: middle;\n",
              "    }\n",
              "\n",
              "    .dataframe tbody tr th {\n",
              "        vertical-align: top;\n",
              "    }\n",
              "\n",
              "    .dataframe thead th {\n",
              "        text-align: right;\n",
              "    }\n",
              "</style>\n",
              "<table border=\"1\" class=\"dataframe\">\n",
              "  <thead>\n",
              "    <tr style=\"text-align: right;\">\n",
              "      <th></th>\n",
              "      <th>patientId</th>\n",
              "      <th>x</th>\n",
              "      <th>y</th>\n",
              "      <th>width</th>\n",
              "      <th>height</th>\n",
              "      <th>Target</th>\n",
              "    </tr>\n",
              "  </thead>\n",
              "  <tbody>\n",
              "    <tr>\n",
              "      <th>0</th>\n",
              "      <td>0004cfab-14fd-4e49-80ba-63a80b6bddd6</td>\n",
              "      <td>NaN</td>\n",
              "      <td>NaN</td>\n",
              "      <td>NaN</td>\n",
              "      <td>NaN</td>\n",
              "      <td>0</td>\n",
              "    </tr>\n",
              "    <tr>\n",
              "      <th>1</th>\n",
              "      <td>00313ee0-9eaa-42f4-b0ab-c148ed3241cd</td>\n",
              "      <td>NaN</td>\n",
              "      <td>NaN</td>\n",
              "      <td>NaN</td>\n",
              "      <td>NaN</td>\n",
              "      <td>0</td>\n",
              "    </tr>\n",
              "    <tr>\n",
              "      <th>2</th>\n",
              "      <td>00322d4d-1c29-4943-afc9-b6754be640eb</td>\n",
              "      <td>NaN</td>\n",
              "      <td>NaN</td>\n",
              "      <td>NaN</td>\n",
              "      <td>NaN</td>\n",
              "      <td>0</td>\n",
              "    </tr>\n",
              "    <tr>\n",
              "      <th>3</th>\n",
              "      <td>003d8fa0-6bf1-40ed-b54c-ac657f8495c5</td>\n",
              "      <td>NaN</td>\n",
              "      <td>NaN</td>\n",
              "      <td>NaN</td>\n",
              "      <td>NaN</td>\n",
              "      <td>0</td>\n",
              "    </tr>\n",
              "    <tr>\n",
              "      <th>4</th>\n",
              "      <td>00436515-870c-4b36-a041-de91049b9ab4</td>\n",
              "      <td>264.0</td>\n",
              "      <td>152.0</td>\n",
              "      <td>213.0</td>\n",
              "      <td>379.0</td>\n",
              "      <td>1</td>\n",
              "    </tr>\n",
              "    <tr>\n",
              "      <th>5</th>\n",
              "      <td>00436515-870c-4b36-a041-de91049b9ab4</td>\n",
              "      <td>562.0</td>\n",
              "      <td>152.0</td>\n",
              "      <td>256.0</td>\n",
              "      <td>453.0</td>\n",
              "      <td>1</td>\n",
              "    </tr>\n",
              "  </tbody>\n",
              "</table>\n",
              "</div>"
            ],
            "text/plain": [
              "                              patientId      x      y  width  height  Target\n",
              "0  0004cfab-14fd-4e49-80ba-63a80b6bddd6    NaN    NaN    NaN     NaN       0\n",
              "1  00313ee0-9eaa-42f4-b0ab-c148ed3241cd    NaN    NaN    NaN     NaN       0\n",
              "2  00322d4d-1c29-4943-afc9-b6754be640eb    NaN    NaN    NaN     NaN       0\n",
              "3  003d8fa0-6bf1-40ed-b54c-ac657f8495c5    NaN    NaN    NaN     NaN       0\n",
              "4  00436515-870c-4b36-a041-de91049b9ab4  264.0  152.0  213.0   379.0       1\n",
              "5  00436515-870c-4b36-a041-de91049b9ab4  562.0  152.0  256.0   453.0       1"
            ]
          },
          "metadata": {
            "tags": []
          },
          "execution_count": 14
        }
      ]
    },
    {
      "cell_type": "code",
      "metadata": {
        "id": "Mxz-pNbt5txY"
      },
      "source": [
        "image_fps, image_annotations = parse_dataset(train_dicom_dir, anns=anns)"
      ],
      "execution_count": null,
      "outputs": []
    },
    {
      "cell_type": "code",
      "metadata": {
        "id": "YPqjEIXWRhSf"
      },
      "source": [
        "ds = pydicom.read_file(image_fps[0]) # read dicom image from filepath \n",
        "image = ds.pixel_array # get image array"
      ],
      "execution_count": null,
      "outputs": []
    },
    {
      "cell_type": "code",
      "metadata": {
        "id": "81lovwF2Ro5R",
        "colab": {
          "base_uri": "https://localhost:8080/",
          "height": 647
        },
        "outputId": "e2263fe2-1a32-432a-ec75-b9220a24e697"
      },
      "source": [
        "# show dicom fields \n",
        "ds"
      ],
      "execution_count": null,
      "outputs": [
        {
          "output_type": "execute_result",
          "data": {
            "text/plain": [
              "(0008, 0005) Specific Character Set              CS: 'ISO_IR 100'\n",
              "(0008, 0016) SOP Class UID                       UI: Secondary Capture Image Storage\n",
              "(0008, 0018) SOP Instance UID                    UI: 1.2.276.0.7230010.3.1.4.8323329.23009.1517874444.996430\n",
              "(0008, 0020) Study Date                          DA: '19010101'\n",
              "(0008, 0030) Study Time                          TM: '000000.00'\n",
              "(0008, 0050) Accession Number                    SH: ''\n",
              "(0008, 0060) Modality                            CS: 'CR'\n",
              "(0008, 0064) Conversion Type                     CS: 'WSD'\n",
              "(0008, 0090) Referring Physician's Name          PN: ''\n",
              "(0008, 103e) Series Description                  LO: 'view: PA'\n",
              "(0010, 0010) Patient's Name                      PN: '35f1e0f2-a8f1-4d65-b4f0-bf9686f90c40'\n",
              "(0010, 0020) Patient ID                          LO: '35f1e0f2-a8f1-4d65-b4f0-bf9686f90c40'\n",
              "(0010, 0030) Patient's Birth Date                DA: ''\n",
              "(0010, 0040) Patient's Sex                       CS: 'F'\n",
              "(0010, 1010) Patient's Age                       AS: '52'\n",
              "(0018, 0015) Body Part Examined                  CS: 'CHEST'\n",
              "(0018, 5101) View Position                       CS: 'PA'\n",
              "(0020, 000d) Study Instance UID                  UI: 1.2.276.0.7230010.3.1.2.8323329.23009.1517874444.996429\n",
              "(0020, 000e) Series Instance UID                 UI: 1.2.276.0.7230010.3.1.3.8323329.23009.1517874444.996428\n",
              "(0020, 0010) Study ID                            SH: ''\n",
              "(0020, 0011) Series Number                       IS: '1'\n",
              "(0020, 0013) Instance Number                     IS: '1'\n",
              "(0020, 0020) Patient Orientation                 CS: ''\n",
              "(0028, 0002) Samples per Pixel                   US: 1\n",
              "(0028, 0004) Photometric Interpretation          CS: 'MONOCHROME2'\n",
              "(0028, 0010) Rows                                US: 1024\n",
              "(0028, 0011) Columns                             US: 1024\n",
              "(0028, 0030) Pixel Spacing                       DS: ['0.14300000000000002', '0.14300000000000002']\n",
              "(0028, 0100) Bits Allocated                      US: 8\n",
              "(0028, 0101) Bits Stored                         US: 8\n",
              "(0028, 0102) High Bit                            US: 7\n",
              "(0028, 0103) Pixel Representation                US: 0\n",
              "(0028, 2110) Lossy Image Compression             CS: '01'\n",
              "(0028, 2114) Lossy Image Compression Method      CS: 'ISO_10918_1'\n",
              "(7fe0, 0010) Pixel Data                          OB: Array of 148454 bytes"
            ]
          },
          "metadata": {
            "tags": []
          },
          "execution_count": 17
        }
      ]
    },
    {
      "cell_type": "code",
      "metadata": {
        "id": "gYNSd1AhRqOV"
      },
      "source": [
        "# Original DICOM image size: 1024 x 1024\n",
        "ORIG_SIZE = 1024"
      ],
      "execution_count": null,
      "outputs": []
    },
    {
      "cell_type": "markdown",
      "metadata": {
        "id": "4FlRu8ML-ceg"
      },
      "source": [
        "### Split the data into training and validation datasets\n",
        "**Note: We have only used only a portion of the images for demonstration purposes. See comments below.**\n",
        " \n",
        " - To use all the images do: image_fps_list = list(image_fps)\n",
        " - Or change the number of images from 100 to a custom number"
      ]
    },
    {
      "cell_type": "code",
      "metadata": {
        "id": "7jByVCZt-ZOC",
        "colab": {
          "base_uri": "https://localhost:8080/",
          "height": 35
        },
        "outputId": "f1aa267d-7530-4620-ffc5-2f7aa39083bb"
      },
      "source": [
        "######################################################################\n",
        "# Modify this line to use more or fewer images for training/validation. \n",
        "# To use all images, do: image_fps_list = list(image_fps)\n",
        "image_fps_list = list(image_fps[:1000]) \n",
        "#####################################################################\n",
        "\n",
        "# split dataset into training vs. validation dataset \n",
        "# split ratio is set to 0.9 vs. 0.1 (train vs. validation, respectively)\n",
        "sorted(image_fps_list)\n",
        "random.seed(42)\n",
        "random.shuffle(image_fps_list)\n",
        "\n",
        "validation_split = 0.1\n",
        "split_index = int((1 - validation_split) * len(image_fps_list))\n",
        "\n",
        "image_fps_train = image_fps_list[:split_index]\n",
        "image_fps_val = image_fps_list[split_index:]\n",
        "\n",
        "print(len(image_fps_train), len(image_fps_val))"
      ],
      "execution_count": null,
      "outputs": [
        {
          "output_type": "stream",
          "text": [
            "900 100\n"
          ],
          "name": "stdout"
        }
      ]
    },
    {
      "cell_type": "markdown",
      "metadata": {
        "id": "9KUvacUbgiEX"
      },
      "source": [
        "### Create and prepare the training dataset using the DetectorDataset class."
      ]
    },
    {
      "cell_type": "code",
      "metadata": {
        "id": "jwMkhotP0yFf"
      },
      "source": [
        "# prepare the training dataset\n",
        "dataset_train = DetectorDataset(image_fps_train, image_annotations, ORIG_SIZE, ORIG_SIZE)\n",
        "dataset_train.prepare()"
      ],
      "execution_count": null,
      "outputs": []
    },
    {
      "cell_type": "markdown",
      "metadata": {
        "id": "wPDQ9EVDgxa6"
      },
      "source": [
        "### Let's look at a sample annotation. We see a bounding box with (x, y) of the the top left corner as well as the width and height."
      ]
    },
    {
      "cell_type": "code",
      "metadata": {
        "id": "0xEc47Jz59x5",
        "colab": {
          "base_uri": "https://localhost:8080/",
          "height": 251
        },
        "outputId": "129edfbc-cf9d-46c7-b569-d804a50cd12d"
      },
      "source": [
        "# Show annotation(s) for a DICOM image \n",
        "test_fp = random.choice(image_fps_train)\n",
        "image_annotations[test_fp]"
      ],
      "execution_count": null,
      "outputs": [
        {
          "output_type": "execute_result",
          "data": {
            "text/plain": [
              "[patientId    89306dc8-a4ee-4679-b183-984ddd00f2fc\n",
              " x                                             164\n",
              " y                                             278\n",
              " width                                         289\n",
              " height                                        549\n",
              " Target                                          1\n",
              " Name: 13690, dtype: object, patientId    89306dc8-a4ee-4679-b183-984ddd00f2fc\n",
              " x                                             519\n",
              " y                                             256\n",
              " width                                         321\n",
              " height                                        619\n",
              " Target                                          1\n",
              " Name: 13691, dtype: object]"
            ]
          },
          "metadata": {
            "tags": []
          },
          "execution_count": 21
        }
      ]
    },
    {
      "cell_type": "code",
      "metadata": {
        "id": "K1TkWuGP0yHl"
      },
      "source": [
        "# prepare the validation dataset\n",
        "dataset_val = DetectorDataset(image_fps_val, image_annotations, ORIG_SIZE, ORIG_SIZE)\n",
        "dataset_val.prepare()"
      ],
      "execution_count": null,
      "outputs": []
    },
    {
      "cell_type": "markdown",
      "metadata": {
        "id": "pEXEt8fygWuC"
      },
      "source": [
        "### Display a random image with bounding boxes"
      ]
    },
    {
      "cell_type": "code",
      "metadata": {
        "id": "4xwsrf9G1lHR",
        "colab": {
          "base_uri": "https://localhost:8080/",
          "height": 359
        },
        "outputId": "a13386d3-a918-41fe-8824-13625c9d7b08"
      },
      "source": [
        "# Load and display random samples and their bounding boxes\n",
        "# Suggestion: Run this a few times to see different examples. \n",
        "\n",
        "image_id = random.choice(dataset_train.image_ids)\n",
        "image_fp = dataset_train.image_reference(image_id)\n",
        "image = dataset_train.load_image(image_id)\n",
        "mask, class_ids = dataset_train.load_mask(image_id)\n",
        "\n",
        "print(image.shape)\n",
        "\n",
        "plt.figure(figsize=(10, 10))\n",
        "plt.subplot(1, 2, 1)\n",
        "plt.imshow(image[:, :, 0], cmap='gray')\n",
        "plt.axis('off')\n",
        "\n",
        "plt.subplot(1, 2, 2)\n",
        "masked = np.zeros(image.shape[:2])\n",
        "for i in range(mask.shape[2]):\n",
        "    masked += image[:, :, 0] * mask[:, :, i]\n",
        "plt.imshow(masked, cmap='gray')\n",
        "plt.axis('off')\n",
        "\n",
        "print(image_fp)\n",
        "print(class_ids)"
      ],
      "execution_count": null,
      "outputs": [
        {
          "output_type": "stream",
          "text": [
            "(1024, 1024, 3)\n",
            "/content/lesson3-data/stage_1_train_images/485f1ddc-8562-432a-a27e-9c54375c19ac.dcm\n",
            "[0]\n"
          ],
          "name": "stdout"
        },
        {
          "output_type": "display_data",
          "data": {
            "image/png": "[encoded data removed]",
            "text/plain": [
              "<matplotlib.figure.Figure at 0x7fb4f68d0208>"
            ]
          },
          "metadata": {
            "tags": []
          }
        }
      ]
    },
    {
      "cell_type": "code",
      "metadata": {
        "id": "geTvh0sU1lJo"
      },
      "source": [
        "model = modellib.MaskRCNN(mode='training', config=config, model_dir=MODEL_DIR)"
      ],
      "execution_count": null,
      "outputs": []
    },
    {
      "cell_type": "markdown",
      "metadata": {
        "id": "ustAIH78hZI_"
      },
      "source": [
        "### Image Augmentation. Try finetuning some variables to custom values"
      ]
    },
    {
      "cell_type": "code",
      "metadata": {
        "id": "STZnQTE61lME"
      },
      "source": [
        "# Image augmentation \n",
        "augmentation = iaa.SomeOf((0, 1), [\n",
        "    iaa.Fliplr(0.5),\n",
        "    iaa.Affine(\n",
        "        scale={\"x\": (0.8, 1.2), \"y\": (0.8, 1.2)},\n",
        "        translate_percent={\"x\": (-0.2, 0.2), \"y\": (-0.2, 0.2)},\n",
        "        rotate=(-25, 25),\n",
        "        shear=(-8, 8)\n",
        "    ),\n",
        "    iaa.Multiply((0.9, 1.1))\n",
        "])"
      ],
      "execution_count": null,
      "outputs": []
    },
    {
      "cell_type": "markdown",
      "metadata": {
        "id": "M4kt7LKuc78e"
      },
      "source": [
        "### Now it's time to train the model. Note that training even a basic model can take a few hours. \n",
        "\n",
        "Note: the following model is for demonstration purpose only. We have limited the training to one epoch, and have set nominal values for the Detector Configuration to reduce run-time. \n",
        "\n",
        "- dataset_train and dataset_val are derived from DetectorDataset \n",
        "- DetectorDataset loads images from image filenames and  masks from the annotation data\n",
        "- model is Mask-RCNN"
      ]
    },
    {
      "cell_type": "code",
      "metadata": {
        "id": "RVgNhHjl1lOS",
        "colab": {
          "base_uri": "https://localhost:8080/",
          "height": 2575
        },
        "outputId": "2cba9efc-eeea-472d-d155-3c3d856585bf"
      },
      "source": [
        "NUM_EPOCHS = 1\n",
        "\n",
        "# Train Mask-RCNN Model \n",
        "import warnings \n",
        "warnings.filterwarnings(\"ignore\")\n",
        "model.train(dataset_train, dataset_val, \n",
        "            learning_rate=config.LEARNING_RATE, \n",
        "            epochs=NUM_EPOCHS, \n",
        "            layers='all',\n",
        "            augmentation=augmentation)"
      ],
      "execution_count": null,
      "outputs": [
        {
          "output_type": "stream",
          "text": [
            "\n",
            "Starting at epoch 0. LR=0.001\n",
            "\n",
            "Checkpoint Path: /content/lesson3-data/logs/pneumonia20180827T1425/mask_rcnn_pneumonia_{epoch:04d}.h5\n",
            "Selecting layers to train\n",
            "conv1                  (Conv2D)\n",
            "bn_conv1               (BatchNorm)\n",
            "res2a_branch2a         (Conv2D)\n",
            "bn2a_branch2a          (BatchNorm)\n",
            "res2a_branch2b         (Conv2D)\n",
            "bn2a_branch2b          (BatchNorm)\n",
            "res2a_branch2c         (Conv2D)\n",
            "res2a_branch1          (Conv2D)\n",
            "bn2a_branch2c          (BatchNorm)\n",
            "bn2a_branch1           (BatchNorm)\n",
            "res2b_branch2a         (Conv2D)\n",
            "bn2b_branch2a          (BatchNorm)\n",
            "res2b_branch2b         (Conv2D)\n",
            "bn2b_branch2b          (BatchNorm)\n",
            "res2b_branch2c         (Conv2D)\n",
            "bn2b_branch2c          (BatchNorm)\n",
            "res2c_branch2a         (Conv2D)\n",
            "bn2c_branch2a          (BatchNorm)\n",
            "res2c_branch2b         (Conv2D)\n",
            "bn2c_branch2b          (BatchNorm)\n",
            "res2c_branch2c         (Conv2D)\n",
            "bn2c_branch2c          (BatchNorm)\n",
            "res3a_branch2a         (Conv2D)\n",
            "bn3a_branch2a          (BatchNorm)\n",
            "res3a_branch2b         (Conv2D)\n",
            "bn3a_branch2b          (BatchNorm)\n",
            "res3a_branch2c         (Conv2D)\n",
            "res3a_branch1          (Conv2D)\n",
            "bn3a_branch2c          (BatchNorm)\n",
            "bn3a_branch1           (BatchNorm)\n",
            "res3b_branch2a         (Conv2D)\n",
            "bn3b_branch2a          (BatchNorm)\n",
            "res3b_branch2b         (Conv2D)\n",
            "bn3b_branch2b          (BatchNorm)\n",
            "res3b_branch2c         (Conv2D)\n",
            "bn3b_branch2c          (BatchNorm)\n",
            "res3c_branch2a         (Conv2D)\n",
            "bn3c_branch2a          (BatchNorm)\n",
            "res3c_branch2b         (Conv2D)\n",
            "bn3c_branch2b          (BatchNorm)\n",
            "res3c_branch2c         (Conv2D)\n",
            "bn3c_branch2c          (BatchNorm)\n",
            "res3d_branch2a         (Conv2D)\n",
            "bn3d_branch2a          (BatchNorm)\n",
            "res3d_branch2b         (Conv2D)\n",
            "bn3d_branch2b          (BatchNorm)\n",
            "res3d_branch2c         (Conv2D)\n",
            "bn3d_branch2c          (BatchNorm)\n",
            "res4a_branch2a         (Conv2D)\n",
            "bn4a_branch2a          (BatchNorm)\n",
            "res4a_branch2b         (Conv2D)\n",
            "bn4a_branch2b          (BatchNorm)\n",
            "res4a_branch2c         (Conv2D)\n",
            "res4a_branch1          (Conv2D)\n",
            "bn4a_branch2c          (BatchNorm)\n",
            "bn4a_branch1           (BatchNorm)\n",
            "res4b_branch2a         (Conv2D)\n",
            "bn4b_branch2a          (BatchNorm)\n",
            "res4b_branch2b         (Conv2D)\n",
            "bn4b_branch2b          (BatchNorm)\n",
            "res4b_branch2c         (Conv2D)\n",
            "bn4b_branch2c          (BatchNorm)\n",
            "res4c_branch2a         (Conv2D)\n",
            "bn4c_branch2a          (BatchNorm)\n",
            "res4c_branch2b         (Conv2D)\n",
            "bn4c_branch2b          (BatchNorm)\n",
            "res4c_branch2c         (Conv2D)\n",
            "bn4c_branch2c          (BatchNorm)\n",
            "res4d_branch2a         (Conv2D)\n",
            "bn4d_branch2a          (BatchNorm)\n",
            "res4d_branch2b         (Conv2D)\n",
            "bn4d_branch2b          (BatchNorm)\n",
            "res4d_branch2c         (Conv2D)\n",
            "bn4d_branch2c          (BatchNorm)\n",
            "res4e_branch2a         (Conv2D)\n",
            "bn4e_branch2a          (BatchNorm)\n",
            "res4e_branch2b         (Conv2D)\n",
            "bn4e_branch2b          (BatchNorm)\n",
            "res4e_branch2c         (Conv2D)\n",
            "bn4e_branch2c          (BatchNorm)\n",
            "res4f_branch2a         (Conv2D)\n",
            "bn4f_branch2a          (BatchNorm)\n",
            "res4f_branch2b         (Conv2D)\n",
            "bn4f_branch2b          (BatchNorm)\n",
            "res4f_branch2c         (Conv2D)\n",
            "bn4f_branch2c          (BatchNorm)\n",
            "res5a_branch2a         (Conv2D)\n",
            "bn5a_branch2a          (BatchNorm)\n",
            "res5a_branch2b         (Conv2D)\n",
            "bn5a_branch2b          (BatchNorm)\n",
            "res5a_branch2c         (Conv2D)\n",
            "res5a_branch1          (Conv2D)\n",
            "bn5a_branch2c          (BatchNorm)\n",
            "bn5a_branch1           (BatchNorm)\n",
            "res5b_branch2a         (Conv2D)\n",
            "bn5b_branch2a          (BatchNorm)\n",
            "res5b_branch2b         (Conv2D)\n",
            "bn5b_branch2b          (BatchNorm)\n",
            "res5b_branch2c         (Conv2D)\n",
            "bn5b_branch2c          (BatchNorm)\n",
            "res5c_branch2a         (Conv2D)\n",
            "bn5c_branch2a          (BatchNorm)\n",
            "res5c_branch2b         (Conv2D)\n",
            "bn5c_branch2b          (BatchNorm)\n",
            "res5c_branch2c         (Conv2D)\n",
            "bn5c_branch2c          (BatchNorm)\n",
            "fpn_c5p5               (Conv2D)\n",
            "fpn_c4p4               (Conv2D)\n",
            "fpn_c3p3               (Conv2D)\n",
            "fpn_c2p2               (Conv2D)\n",
            "fpn_p5                 (Conv2D)\n",
            "fpn_p2                 (Conv2D)\n",
            "fpn_p3                 (Conv2D)\n",
            "fpn_p4                 (Conv2D)\n",
            "In model:  rpn_model\n",
            "    rpn_conv_shared        (Conv2D)\n",
            "    rpn_class_raw          (Conv2D)\n",
            "    rpn_bbox_pred          (Conv2D)\n",
            "mrcnn_mask_conv1       (TimeDistributed)\n",
            "mrcnn_mask_bn1         (TimeDistributed)\n",
            "mrcnn_mask_conv2       (TimeDistributed)\n",
            "mrcnn_mask_bn2         (TimeDistributed)\n",
            "mrcnn_class_conv1      (TimeDistributed)\n",
            "mrcnn_class_bn1        (TimeDistributed)\n",
            "mrcnn_mask_conv3       (TimeDistributed)\n",
            "mrcnn_mask_bn3         (TimeDistributed)\n",
            "mrcnn_class_conv2      (TimeDistributed)\n",
            "mrcnn_class_bn2        (TimeDistributed)\n",
            "mrcnn_mask_conv4       (TimeDistributed)\n",
            "mrcnn_mask_bn4         (TimeDistributed)\n",
            "mrcnn_bbox_fc          (TimeDistributed)\n",
            "mrcnn_mask_deconv      (TimeDistributed)\n",
            "mrcnn_class_logits     (TimeDistributed)\n",
            "mrcnn_mask             (TimeDistributed)\n",
            "Epoch 1/1\n",
            "100/100 [==============================] - 378s 4s/step - loss: 2.1243 - rpn_class_loss: 0.1504 - rpn_bbox_loss: 0.6770 - mrcnn_class_loss: 0.1817 - mrcnn_bbox_loss: 0.5040 - mrcnn_mask_loss: 0.6112 - val_loss: 2.1686 - val_rpn_class_loss: 0.1578 - val_rpn_bbox_loss: 0.6753 - val_mrcnn_class_loss: 0.2323 - val_mrcnn_bbox_loss: 0.5438 - val_mrcnn_mask_loss: 0.5593\n"
          ],
          "name": "stdout"
        }
      ]
    },
    {
      "cell_type": "code",
      "metadata": {
        "id": "eraRlzgPmmIZ",
        "colab": {
          "base_uri": "https://localhost:8080/",
          "height": 35
        },
        "outputId": "de9e688c-ba4f-4b62-f842-dbcf00ce397c"
      },
      "source": [
        "# select trained model \n",
        "dir_names = next(os.walk(model.model_dir))[1]\n",
        "key = config.NAME.lower()\n",
        "dir_names = filter(lambda f: f.startswith(key), dir_names)\n",
        "dir_names = sorted(dir_names)\n",
        "\n",
        "if not dir_names:\n",
        "    import errno\n",
        "    raise FileNotFoundError(\n",
        "        errno.ENOENT,\n",
        "        \"Could not find model directory under {}\".format(self.model_dir))\n",
        "    \n",
        "fps = []\n",
        "# Pick last directory\n",
        "for d in dir_names: \n",
        "    dir_name = os.path.join(model.model_dir, d)\n",
        "    # Find the last checkpoint\n",
        "    checkpoints = next(os.walk(dir_name))[2]\n",
        "    checkpoints = filter(lambda f: f.startswith(\"mask_rcnn\"), checkpoints)\n",
        "    checkpoints = sorted(checkpoints)\n",
        "    if not checkpoints:\n",
        "        print('No weight files in {}'.format(dir_name))\n",
        "    else: \n",
        "      \n",
        "      checkpoint = os.path.join(dir_name, checkpoints[-1])\n",
        "      fps.append(checkpoint)\n",
        "\n",
        "model_path = sorted(fps)[-1]\n",
        "print('Found model {}'.format(model_path))"
      ],
      "execution_count": null,
      "outputs": [
        {
          "output_type": "stream",
          "text": [
            "Found model /content/lesson3-data/logs/pneumonia20180827T1425/mask_rcnn_pneumonia_0001.h5\n"
          ],
          "name": "stdout"
        }
      ]
    },
    {
      "cell_type": "code",
      "metadata": {
        "id": "TgpT9AzC2Bgz",
        "colab": {
          "base_uri": "https://localhost:8080/",
          "height": 53
        },
        "outputId": "60f5a175-4666-497d-b4e8-0bdab39a92d0"
      },
      "source": [
        "class InferenceConfig(DetectorConfig):\n",
        "    GPU_COUNT = 1\n",
        "    IMAGES_PER_GPU = 1\n",
        "\n",
        "inference_config = InferenceConfig()\n",
        "\n",
        "# Recreate the model in inference mode\n",
        "model = modellib.MaskRCNN(mode='inference', \n",
        "                          config=inference_config,\n",
        "                          model_dir=MODEL_DIR)\n",
        "\n",
        "# Load trained weights (fill in path to trained weights here)\n",
        "assert model_path != \"\", \"Provide path to trained weights\"\n",
        "print(\"Loading weights from \", model_path)\n",
        "model.load_weights(model_path, by_name=True)"
      ],
      "execution_count": null,
      "outputs": [
        {
          "output_type": "stream",
          "text": [
            "Loading weights from  /content/lesson3-data/logs/pneumonia20180827T1425/mask_rcnn_pneumonia_0001.h5\n",
            "Re-starting from epoch 1\n"
          ],
          "name": "stdout"
        }
      ]
    },
    {
      "cell_type": "code",
      "metadata": {
        "id": "9mTBig7D2BjU"
      },
      "source": [
        "# set color for class\n",
        "def get_colors_for_class_ids(class_ids):\n",
        "    colors = []\n",
        "    for class_id in class_ids:\n",
        "        if class_id == 1:\n",
        "            colors.append((.941, .204, .204))\n",
        "    return colors"
      ],
      "execution_count": null,
      "outputs": []
    },
    {
      "cell_type": "markdown",
      "metadata": {
        "id": "A8EiL2LOiCr_"
      },
      "source": [
        "### How does the predicted box compared to the expected value? Let's use the validation dataset to check. \n",
        "\n",
        "Note that we trained only one epoch for **demonstration purposes ONLY**. You might be able to improve performance running more epochs. "
      ]
    },
    {
      "cell_type": "code",
      "metadata": {
        "id": "irheTbrW2Bl0",
        "colab": {
          "base_uri": "https://localhost:8080/",
          "height": 1394
        },
        "outputId": "56041ad4-173d-45ab-af67-f54e8333511e"
      },
      "source": [
        "# Show few example of ground truth vs. predictions on the validation dataset \n",
        "dataset = dataset_val\n",
        "fig = plt.figure(figsize=(10, 30))\n",
        "\n",
        "for i in range(4):\n",
        "\n",
        "    image_id = random.choice(dataset.image_ids)\n",
        "    \n",
        "    original_image, image_meta, gt_class_id, gt_bbox, gt_mask =\\\n",
        "        modellib.load_image_gt(dataset_val, inference_config, \n",
        "                               image_id, use_mini_mask=False)\n",
        "        \n",
        "    plt.subplot(6, 2, 2*i + 1)\n",
        "    visualize.display_instances(original_image, gt_bbox, gt_mask, gt_class_id, \n",
        "                                dataset.class_names,\n",
        "                                colors=get_colors_for_class_ids(gt_class_id), ax=fig.axes[-1])\n",
        "    \n",
        "    plt.subplot(6, 2, 2*i + 2)\n",
        "    results = model.detect([original_image]) #, verbose=1)\n",
        "    r = results[0]\n",
        "    visualize.display_instances(original_image, r['rois'], r['masks'], r['class_ids'], \n",
        "                                dataset.class_names, r['scores'], \n",
        "                                colors=get_colors_for_class_ids(r['class_ids']), ax=fig.axes[-1])"
      ],
      "execution_count": null,
      "outputs": [
        {
          "output_type": "stream",
          "text": [
            "\n",
            "*** No instances to display *** \n",
            "\n",
            "\n",
            "*** No instances to display *** \n",
            "\n",
            "\n",
            "*** No instances to display *** \n",
            "\n",
            "\n",
            "*** No instances to display *** \n",
            "\n",
            "\n",
            "*** No instances to display *** \n",
            "\n"
          ],
          "name": "stdout"
        },
        {
          "output_type": "display_data",
          "data": {
            "image/png": "[encoded data removed]",
            "text/plain": [
              "<matplotlib.figure.Figure at 0x7fb46ce36eb8>"
            ]
          },
          "metadata": {
            "tags": []
          }
        }
      ]
    },
    {
      "cell_type": "code",
      "metadata": {
        "id": "qRWBVJKYNdWM"
      },
      "source": [
        "# Get filenames of test dataset DICOM images\n",
        "test_image_fps = get_dicom_fps(test_dicom_dir)"
      ],
      "execution_count": null,
      "outputs": []
    },
    {
      "cell_type": "markdown",
      "metadata": {
        "id": "WcV1cL_aiSc4"
      },
      "source": [
        "### Final steps - Create the submission file"
      ]
    },
    {
      "cell_type": "code",
      "metadata": {
        "id": "C6UWVrbM2Bob"
      },
      "source": [
        "# Make predictions on test images, write out sample submission \n",
        "def predict(image_fps, filepath='sample_submission.csv', min_conf=0.98): \n",
        "    \n",
        "    # assume square image\n",
        "    \n",
        "    with open(filepath, 'w') as file:\n",
        "      for image_id in tqdm(image_fps): \n",
        "        ds = pydicom.read_file(image_id)\n",
        "        image = ds.pixel_array\n",
        "          \n",
        "        # If grayscale. Convert to RGB for consistency.\n",
        "        if len(image.shape) != 3 or image.shape[2] != 3:\n",
        "            image = np.stack((image,) * 3, -1) \n",
        "            \n",
        "        patient_id = os.path.splitext(os.path.basename(image_id))[0]\n",
        "\n",
        "        results = model.detect([image])\n",
        "        r = results[0]\n",
        "\n",
        "        out_str = \"\"\n",
        "        out_str += patient_id \n",
        "        assert( len(r['rois']) == len(r['class_ids']) == len(r['scores']) )\n",
        "        if len(r['rois']) == 0: \n",
        "            pass\n",
        "        else: \n",
        "            num_instances = len(r['rois'])\n",
        "            out_str += \",\"\n",
        "            for i in range(num_instances): \n",
        "                if r['scores'][i] > min_conf: \n",
        "                    out_str += ' '\n",
        "                    out_str += str(round(r['scores'][i], 2))\n",
        "                    out_str += ' '\n",
        "\n",
        "                    # x1, y1, width, height \n",
        "                    x1 = r['rois'][i][1]\n",
        "                    y1 = r['rois'][i][0]\n",
        "                    width = r['rois'][i][3] - x1 \n",
        "                    height = r['rois'][i][2] - y1 \n",
        "                    bboxes_str = \"{} {} {} {}\".format(x1, y1, \\\n",
        "                                                      width, height)    \n",
        "                    out_str += bboxes_str\n",
        "\n",
        "        file.write(out_str+\"\\n\")"
      ],
      "execution_count": null,
      "outputs": []
    },
    {
      "cell_type": "code",
      "metadata": {
        "id": "C5cBpNka2Bsv",
        "colab": {
          "base_uri": "https://localhost:8080/",
          "height": 35
        },
        "outputId": "a2af9176-d9d6-49f6-f22a-5a1c455d144f"
      },
      "source": [
        "# predict only the first 50 entries\n",
        "sample_submission_fp = 'sample_submission.csv'\n",
        "predict(test_image_fps[:50], filepath=sample_submission_fp)"
      ],
      "execution_count": null,
      "outputs": [
        {
          "output_type": "stream",
          "text": [
            "100%|██████████| 50/50 [00:06<00:00,  8.26it/s]\n"
          ],
          "name": "stderr"
        }
      ]
    },
    {
      "cell_type": "code",
      "metadata": {
        "id": "_BjPE_Ee9rbA",
        "colab": {
          "base_uri": "https://localhost:8080/",
          "height": 1599
        },
        "outputId": "67b5f053-112b-494a-9ab3-d017bfb440c2"
      },
      "source": [
        "output = pd.read_csv(sample_submission_fp, names=['id', 'pred_string'])\n",
        "output.head(50)"
      ],
      "execution_count": null,
      "outputs": [
        {
          "output_type": "execute_result",
          "data": {
            "text/html": [
              "<div>\n",
              "<style scoped>\n",
              "    .dataframe tbody tr th:only-of-type {\n",
              "        vertical-align: middle;\n",
              "    }\n",
              "\n",
              "    .dataframe tbody tr th {\n",
              "        vertical-align: top;\n",
              "    }\n",
              "\n",
              "    .dataframe thead th {\n",
              "        text-align: right;\n",
              "    }\n",
              "</style>\n",
              "<table border=\"1\" class=\"dataframe\">\n",
              "  <thead>\n",
              "    <tr style=\"text-align: right;\">\n",
              "      <th></th>\n",
              "      <th>id</th>\n",
              "      <th>pred_string</th>\n",
              "    </tr>\n",
              "  </thead>\n",
              "  <tbody>\n",
              "    <tr>\n",
              "      <th>0</th>\n",
              "      <td>0e245423-3ccd-41ee-84a5-b9f0a20dba71</td>\n",
              "      <td>NaN</td>\n",
              "    </tr>\n",
              "    <tr>\n",
              "      <th>1</th>\n",
              "      <td>1aeb19e3-7365-4d66-afef-5157a3aca280</td>\n",
              "      <td>NaN</td>\n",
              "    </tr>\n",
              "    <tr>\n",
              "      <th>2</th>\n",
              "      <td>0ffa20d5-7419-4c75-b821-be920771d2d4</td>\n",
              "      <td>NaN</td>\n",
              "    </tr>\n",
              "    <tr>\n",
              "      <th>3</th>\n",
              "      <td>242a6f0b-fc6e-42e6-84c9-f74e3d33372b</td>\n",
              "      <td>NaN</td>\n",
              "    </tr>\n",
              "    <tr>\n",
              "      <th>4</th>\n",
              "      <td>28eaff00-5fb7-40ee-8206-9d2ff5b081e0</td>\n",
              "      <td>NaN</td>\n",
              "    </tr>\n",
              "    <tr>\n",
              "      <th>5</th>\n",
              "      <td>1462ffd1-939b-49b7-9234-eeeb7f4986cc</td>\n",
              "      <td>NaN</td>\n",
              "    </tr>\n",
              "    <tr>\n",
              "      <th>6</th>\n",
              "      <td>1172e6d2-4207-4b90-b66e-bf2b3af86462</td>\n",
              "      <td>NaN</td>\n",
              "    </tr>\n",
              "    <tr>\n",
              "      <th>7</th>\n",
              "      <td>0e9d2259-5faa-4000-969c-f4d25d4eed0d</td>\n",
              "      <td>NaN</td>\n",
              "    </tr>\n",
              "    <tr>\n",
              "      <th>8</th>\n",
              "      <td>001916b8-3d30-4935-a5d1-8eaddb1646cd</td>\n",
              "      <td>NaN</td>\n",
              "    </tr>\n",
              "    <tr>\n",
              "      <th>9</th>\n",
              "      <td>12eddc6c-2d66-4df7-8da1-edd5b5fc81a9</td>\n",
              "      <td>NaN</td>\n",
              "    </tr>\n",
              "    <tr>\n",
              "      <th>10</th>\n",
              "      <td>21684515-f845-4d3e-acb0-13628edaa264</td>\n",
              "      <td>0.98 2272.0 6112.0 4160.0 6560.0</td>\n",
              "    </tr>\n",
              "    <tr>\n",
              "      <th>11</th>\n",
              "      <td>265cf450-572c-48aa-90cd-fb7e3eff3ccf</td>\n",
              "      <td>NaN</td>\n",
              "    </tr>\n",
              "    <tr>\n",
              "      <th>12</th>\n",
              "      <td>040d29d8-e737-4236-9466-649256f9ca53</td>\n",
              "      <td>NaN</td>\n",
              "    </tr>\n",
              "    <tr>\n",
              "      <th>13</th>\n",
              "      <td>28bb0cb8-6f05-4c48-a2bf-251a1297e380</td>\n",
              "      <td>NaN</td>\n",
              "    </tr>\n",
              "    <tr>\n",
              "      <th>14</th>\n",
              "      <td>0e7d10d2-e99f-4e30-826c-2d0a18edbc74</td>\n",
              "      <td>NaN</td>\n",
              "    </tr>\n",
              "    <tr>\n",
              "      <th>15</th>\n",
              "      <td>2f7fd25d-4968-44bb-96c3-91e377284546</td>\n",
              "      <td>0.98 2528.0 5600.0 4256.0 6064.0</td>\n",
              "    </tr>\n",
              "    <tr>\n",
              "      <th>16</th>\n",
              "      <td>2e974d90-0e16-4c34-9dee-137daa6b54e3</td>\n",
              "      <td>NaN</td>\n",
              "    </tr>\n",
              "    <tr>\n",
              "      <th>17</th>\n",
              "      <td>04204973-a034-4a50-a43e-2ae45186aa50</td>\n",
              "      <td>0.99 2208.0 5888.0 5024.0 5888.0 0.99 10592.0...</td>\n",
              "    </tr>\n",
              "    <tr>\n",
              "      <th>18</th>\n",
              "      <td>26aa5215-a443-459f-9aeb-976e65c11261</td>\n",
              "      <td>NaN</td>\n",
              "    </tr>\n",
              "    <tr>\n",
              "      <th>19</th>\n",
              "      <td>25957b99-212d-48d2-aef4-ca816f211f0e</td>\n",
              "      <td>NaN</td>\n",
              "    </tr>\n",
              "    <tr>\n",
              "      <th>20</th>\n",
              "      <td>29000617-ac33-40a4-ac5c-19fb586edb69</td>\n",
              "      <td>NaN</td>\n",
              "    </tr>\n",
              "    <tr>\n",
              "      <th>21</th>\n",
              "      <td>1b440724-2e24-4124-b7c7-0bc82015a674</td>\n",
              "      <td>NaN</td>\n",
              "    </tr>\n",
              "    <tr>\n",
              "      <th>22</th>\n",
              "      <td>0fac1fec-6e05-48b6-bf0d-fd5148e4a6ff</td>\n",
              "      <td>NaN</td>\n",
              "    </tr>\n",
              "    <tr>\n",
              "      <th>23</th>\n",
              "      <td>23ca0450-4138-4e7a-9489-0f5b6a91031d</td>\n",
              "      <td>NaN</td>\n",
              "    </tr>\n",
              "    <tr>\n",
              "      <th>24</th>\n",
              "      <td>1b52079c-b9ef-42d3-9e9a-17aea3bc6031</td>\n",
              "      <td>NaN</td>\n",
              "    </tr>\n",
              "    <tr>\n",
              "      <th>25</th>\n",
              "      <td>2ee27b62-e1d7-4341-bf2b-9d45dc4068a1</td>\n",
              "      <td>NaN</td>\n",
              "    </tr>\n",
              "    <tr>\n",
              "      <th>26</th>\n",
              "      <td>c1628c47-5ba3-42dd-8df3-7ad3abd57ad0</td>\n",
              "      <td>NaN</td>\n",
              "    </tr>\n",
              "    <tr>\n",
              "      <th>27</th>\n",
              "      <td>c110e1ed-fb28-4b3d-b450-e370f13d4293</td>\n",
              "      <td>NaN</td>\n",
              "    </tr>\n",
              "    <tr>\n",
              "      <th>28</th>\n",
              "      <td>0e0df6e1-1a66-4122-a14b-7a4cd106421f</td>\n",
              "      <td>NaN</td>\n",
              "    </tr>\n",
              "    <tr>\n",
              "      <th>29</th>\n",
              "      <td>1d4ba8b7-5055-42a1-b928-49542438cd15</td>\n",
              "      <td>NaN</td>\n",
              "    </tr>\n",
              "    <tr>\n",
              "      <th>30</th>\n",
              "      <td>c05d1108-641a-465c-9b56-b32bcb548bb3</td>\n",
              "      <td>NaN</td>\n",
              "    </tr>\n",
              "    <tr>\n",
              "      <th>31</th>\n",
              "      <td>22ce653c-e7f4-45d5-9c5e-4abdc753b1b0</td>\n",
              "      <td>NaN</td>\n",
              "    </tr>\n",
              "    <tr>\n",
              "      <th>32</th>\n",
              "      <td>2c96c09b-aaa8-4c07-8e69-c2210f04be2d</td>\n",
              "      <td>NaN</td>\n",
              "    </tr>\n",
              "    <tr>\n",
              "      <th>33</th>\n",
              "      <td>1cadf040-18bb-424d-aa1f-2e6fa971277b</td>\n",
              "      <td>NaN</td>\n",
              "    </tr>\n",
              "    <tr>\n",
              "      <th>34</th>\n",
              "      <td>c0a4c55a-bd1b-4459-ba2a-8a687c2732e9</td>\n",
              "      <td>0.99 2816.0 4944.0 3392.0 5696.0</td>\n",
              "    </tr>\n",
              "    <tr>\n",
              "      <th>35</th>\n",
              "      <td>10163e08-1de2-44e1-9145-1922f4dd6805</td>\n",
              "      <td>NaN</td>\n",
              "    </tr>\n",
              "    <tr>\n",
              "      <th>36</th>\n",
              "      <td>1a2cef8e-99cb-43cc-b9b5-65fe5104037f</td>\n",
              "      <td>NaN</td>\n",
              "    </tr>\n",
              "    <tr>\n",
              "      <th>37</th>\n",
              "      <td>00fcc4f0-d7b5-4473-99a9-aa7d3ca071c9</td>\n",
              "      <td>NaN</td>\n",
              "    </tr>\n",
              "    <tr>\n",
              "      <th>38</th>\n",
              "      <td>2abca87e-e85f-4415-9016-c11c824220a6</td>\n",
              "      <td>NaN</td>\n",
              "    </tr>\n",
              "    <tr>\n",
              "      <th>39</th>\n",
              "      <td>28b55977-46e6-4113-a582-e93ba5c25cd6</td>\n",
              "      <td>NaN</td>\n",
              "    </tr>\n",
              "    <tr>\n",
              "      <th>40</th>\n",
              "      <td>014c6a19-38e2-4e7f-8f14-dd4f0a4582e4</td>\n",
              "      <td>NaN</td>\n",
              "    </tr>\n",
              "    <tr>\n",
              "      <th>41</th>\n",
              "      <td>2aed7ffb-3b2b-4094-921a-0d5fbb270ab1</td>\n",
              "      <td>NaN</td>\n",
              "    </tr>\n",
              "    <tr>\n",
              "      <th>42</th>\n",
              "      <td>006e75c8-1fd9-4a5a-99e7-285addebed55</td>\n",
              "      <td>NaN</td>\n",
              "    </tr>\n",
              "    <tr>\n",
              "      <th>43</th>\n",
              "      <td>147ee547-5c08-4169-8a4b-4785b90c54bc</td>\n",
              "      <td>NaN</td>\n",
              "    </tr>\n",
              "    <tr>\n",
              "      <th>44</th>\n",
              "      <td>12c8845f-9011-49f4-a9c3-e2121b8bcef3</td>\n",
              "      <td>0.98 2576.0 8528.0 3392.0 3856.0</td>\n",
              "    </tr>\n",
              "    <tr>\n",
              "      <th>45</th>\n",
              "      <td>259cc555-42e4-45d5-b803-d00a51e34f5b</td>\n",
              "      <td>NaN</td>\n",
              "    </tr>\n",
              "    <tr>\n",
              "      <th>46</th>\n",
              "      <td>0da8c767-77b7-4c69-98d4-2c5c91b9affc</td>\n",
              "      <td>NaN</td>\n",
              "    </tr>\n",
              "    <tr>\n",
              "      <th>47</th>\n",
              "      <td>1a132cab-43fd-486d-b5db-0fcece5fab39</td>\n",
              "      <td>NaN</td>\n",
              "    </tr>\n",
              "    <tr>\n",
              "      <th>48</th>\n",
              "      <td>1c0a5548-0e11-4793-b48e-97236374c768</td>\n",
              "      <td>NaN</td>\n",
              "    </tr>\n",
              "    <tr>\n",
              "      <th>49</th>\n",
              "      <td>1dbc0249-4761-4b19-9872-de59673942da</td>\n",
              "      <td>NaN</td>\n",
              "    </tr>\n",
              "  </tbody>\n",
              "</table>\n",
              "</div>"
            ],
            "text/plain": [
              "                                      id  \\\n",
              "0   0e245423-3ccd-41ee-84a5-b9f0a20dba71   \n",
              "1   1aeb19e3-7365-4d66-afef-5157a3aca280   \n",
              "2   0ffa20d5-7419-4c75-b821-be920771d2d4   \n",
              "3   242a6f0b-fc6e-42e6-84c9-f74e3d33372b   \n",
              "4   28eaff00-5fb7-40ee-8206-9d2ff5b081e0   \n",
              "5   1462ffd1-939b-49b7-9234-eeeb7f4986cc   \n",
              "6   1172e6d2-4207-4b90-b66e-bf2b3af86462   \n",
              "7   0e9d2259-5faa-4000-969c-f4d25d4eed0d   \n",
              "8   001916b8-3d30-4935-a5d1-8eaddb1646cd   \n",
              "9   12eddc6c-2d66-4df7-8da1-edd5b5fc81a9   \n",
              "10  21684515-f845-4d3e-acb0-13628edaa264   \n",
              "11  265cf450-572c-48aa-90cd-fb7e3eff3ccf   \n",
              "12  040d29d8-e737-4236-9466-649256f9ca53   \n",
              "13  28bb0cb8-6f05-4c48-a2bf-251a1297e380   \n",
              "14  0e7d10d2-e99f-4e30-826c-2d0a18edbc74   \n",
              "15  2f7fd25d-4968-44bb-96c3-91e377284546   \n",
              "16  2e974d90-0e16-4c34-9dee-137daa6b54e3   \n",
              "17  04204973-a034-4a50-a43e-2ae45186aa50   \n",
              "18  26aa5215-a443-459f-9aeb-976e65c11261   \n",
              "19  25957b99-212d-48d2-aef4-ca816f211f0e   \n",
              "20  29000617-ac33-40a4-ac5c-19fb586edb69   \n",
              "21  1b440724-2e24-4124-b7c7-0bc82015a674   \n",
              "22  0fac1fec-6e05-48b6-bf0d-fd5148e4a6ff   \n",
              "23  23ca0450-4138-4e7a-9489-0f5b6a91031d   \n",
              "24  1b52079c-b9ef-42d3-9e9a-17aea3bc6031   \n",
              "25  2ee27b62-e1d7-4341-bf2b-9d45dc4068a1   \n",
              "26  c1628c47-5ba3-42dd-8df3-7ad3abd57ad0   \n",
              "27  c110e1ed-fb28-4b3d-b450-e370f13d4293   \n",
              "28  0e0df6e1-1a66-4122-a14b-7a4cd106421f   \n",
              "29  1d4ba8b7-5055-42a1-b928-49542438cd15   \n",
              "30  c05d1108-641a-465c-9b56-b32bcb548bb3   \n",
              "31  22ce653c-e7f4-45d5-9c5e-4abdc753b1b0   \n",
              "32  2c96c09b-aaa8-4c07-8e69-c2210f04be2d   \n",
              "33  1cadf040-18bb-424d-aa1f-2e6fa971277b   \n",
              "34  c0a4c55a-bd1b-4459-ba2a-8a687c2732e9   \n",
              "35  10163e08-1de2-44e1-9145-1922f4dd6805   \n",
              "36  1a2cef8e-99cb-43cc-b9b5-65fe5104037f   \n",
              "37  00fcc4f0-d7b5-4473-99a9-aa7d3ca071c9   \n",
              "38  2abca87e-e85f-4415-9016-c11c824220a6   \n",
              "39  28b55977-46e6-4113-a582-e93ba5c25cd6   \n",
              "40  014c6a19-38e2-4e7f-8f14-dd4f0a4582e4   \n",
              "41  2aed7ffb-3b2b-4094-921a-0d5fbb270ab1   \n",
              "42  006e75c8-1fd9-4a5a-99e7-285addebed55   \n",
              "43  147ee547-5c08-4169-8a4b-4785b90c54bc   \n",
              "44  12c8845f-9011-49f4-a9c3-e2121b8bcef3   \n",
              "45  259cc555-42e4-45d5-b803-d00a51e34f5b   \n",
              "46  0da8c767-77b7-4c69-98d4-2c5c91b9affc   \n",
              "47  1a132cab-43fd-486d-b5db-0fcece5fab39   \n",
              "48  1c0a5548-0e11-4793-b48e-97236374c768   \n",
              "49  1dbc0249-4761-4b19-9872-de59673942da   \n",
              "\n",
              "                                          pred_string  \n",
              "0                                                 NaN  \n",
              "1                                                 NaN  \n",
              "2                                                 NaN  \n",
              "3                                                 NaN  \n",
              "4                                                 NaN  \n",
              "5                                                 NaN  \n",
              "6                                                 NaN  \n",
              "7                                                 NaN  \n",
              "8                                                 NaN  \n",
              "9                                                 NaN  \n",
              "10                   0.98 2272.0 6112.0 4160.0 6560.0  \n",
              "11                                                NaN  \n",
              "12                                                NaN  \n",
              "13                                                NaN  \n",
              "14                                                NaN  \n",
              "15                   0.98 2528.0 5600.0 4256.0 6064.0  \n",
              "16                                                NaN  \n",
              "17   0.99 2208.0 5888.0 5024.0 5888.0 0.99 10592.0...  \n",
              "18                                                NaN  \n",
              "19                                                NaN  \n",
              "20                                                NaN  \n",
              "21                                                NaN  \n",
              "22                                                NaN  \n",
              "23                                                NaN  \n",
              "24                                                NaN  \n",
              "25                                                NaN  \n",
              "26                                                NaN  \n",
              "27                                                NaN  \n",
              "28                                                NaN  \n",
              "29                                                NaN  \n",
              "30                                                NaN  \n",
              "31                                                NaN  \n",
              "32                                                NaN  \n",
              "33                                                NaN  \n",
              "34                   0.99 2816.0 4944.0 3392.0 5696.0  \n",
              "35                                                NaN  \n",
              "36                                                NaN  \n",
              "37                                                NaN  \n",
              "38                                                NaN  \n",
              "39                                                NaN  \n",
              "40                                                NaN  \n",
              "41                                                NaN  \n",
              "42                                                NaN  \n",
              "43                                                NaN  \n",
              "44                   0.98 2576.0 8528.0 3392.0 3856.0  \n",
              "45                                                NaN  \n",
              "46                                                NaN  \n",
              "47                                                NaN  \n",
              "48                                                NaN  \n",
              "49                                                NaN  "
            ]
          },
          "metadata": {
            "tags": []
          },
          "execution_count": 45
        }
      ]
    }
  ]
}