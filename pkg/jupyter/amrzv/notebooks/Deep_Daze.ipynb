{
  "nbformat": 4,
  "nbformat_minor": 0,
  "metadata": {
    "colab": {
      "name": "Deep Daze",
      "provenance": [],
      "collapsed_sections": []
    },
    "kernelspec": {
      "name": "python3",
      "display_name": "Python 3"
    },
    "accelerator": "GPU"
  },
  "cells": [
    {
      "cell_type": "code",
      "metadata": {
        "colab": {
          "base_uri": "https://localhost:8080/"
        },
        "id": "YpRu6LTR2LbD",
        "outputId": "9d142056-5418-49be-bd56-5c342901c814"
      },
      "source": [
        "!pip install deep-daze --upgrade"
      ],
      "execution_count": null,
      "outputs": [
        {
          "output_type": "stream",
          "text": [
            "Collecting deep-daze\n",
            "\u001b[?25l  Downloading https://files.pythonhosted.org/packages/9d/9f/82723dfd512c4e7bf0552ef86c03b451227fb5c8e045d0ae21221799152a/deep_daze-0.1.23-py3-none-any.whl (1.4MB)\n",
            "\u001b[K     |████████████████████████████████| 1.4MB 4.3MB/s \n",
            "\u001b[?25hRequirement already satisfied, skipping upgrade: tqdm in /usr/local/lib/python3.6/dist-packages (from deep-daze) (4.41.1)\n",
            "Requirement already satisfied, skipping upgrade: ftfy in /usr/local/lib/python3.6/dist-packages (from deep-daze) (5.8)\n",
            "Requirement already satisfied, skipping upgrade: torch>=1.7.1 in /usr/local/lib/python3.6/dist-packages (from deep-daze) (1.7.1+cu101)\n",
            "Collecting siren-pytorch>=0.0.7\n",
            "  Downloading https://files.pythonhosted.org/packages/fc/2e/c7607f8454ac911ed178c57aa52aa8a981a737379ca32e62d737e4826ff1/siren_pytorch-0.0.7-py3-none-any.whl\n",
            "Collecting fire\n",
            "\u001b[?25l  Downloading https://files.pythonhosted.org/packages/34/a7/0e22e70778aca01a52b9c899d9c145c6396d7b613719cd63db97ffa13f2f/fire-0.3.1.tar.gz (81kB)\n",
            "\u001b[K     |████████████████████████████████| 81kB 11.3MB/s \n",
            "\u001b[?25hCollecting einops>=0.3\n",
            "  Downloading https://files.pythonhosted.org/packages/5d/a0/9935e030634bf60ecd572c775f64ace82ceddf2f504a5fd3902438f07090/einops-0.3.0-py2.py3-none-any.whl\n",
            "Requirement already satisfied, skipping upgrade: wcwidth in /usr/local/lib/python3.6/dist-packages (from ftfy->deep-daze) (0.2.5)\n",
            "Requirement already satisfied, skipping upgrade: numpy in /usr/local/lib/python3.6/dist-packages (from torch>=1.7.1->deep-daze) (1.19.5)\n",
            "Requirement already satisfied, skipping upgrade: dataclasses; python_version < \"3.7\" in /usr/local/lib/python3.6/dist-packages (from torch>=1.7.1->deep-daze) (0.8)\n",
            "Requirement already satisfied, skipping upgrade: typing-extensions in /usr/local/lib/python3.6/dist-packages (from torch>=1.7.1->deep-daze) (3.7.4.3)\n",
            "Requirement already satisfied, skipping upgrade: six in /usr/local/lib/python3.6/dist-packages (from fire->deep-daze) (1.15.0)\n",
            "Requirement already satisfied, skipping upgrade: termcolor in /usr/local/lib/python3.6/dist-packages (from fire->deep-daze) (1.1.0)\n",
            "Building wheels for collected packages: fire\n",
            "  Building wheel for fire (setup.py) ... \u001b[?25l\u001b[?25hdone\n",
            "  Created wheel for fire: filename=fire-0.3.1-py2.py3-none-any.whl size=111006 sha256=1eced27d168df85707da8a78ffbdb60070a22889c1e3192a4f06bdb76fa09830\n",
            "  Stored in directory: /root/.cache/pip/wheels/c1/61/df/768b03527bf006b546dce284eb4249b185669e65afc5fbb2ac\n",
            "Successfully built fire\n",
            "Installing collected packages: einops, siren-pytorch, fire, deep-daze\n",
            "Successfully installed deep-daze-0.1.23 einops-0.3.0 fire-0.3.1 siren-pytorch-0.0.7\n"
          ],
          "name": "stdout"
        }
      ]
    },
    {
      "cell_type": "code",
      "metadata": {
        "colab": {
          "base_uri": "https://localhost:8080/"
        },
        "id": "6IPQ_rdA2Sa7",
        "outputId": "58918614-19bb-4729-d537-9d212a584302"
      },
      "source": [
        "from tqdm.notebook import trange\n",
        "from IPython.display import Image, display\n",
        "\n",
        "from deep_daze import Imagine\n",
        "\n",
        "TEXT = 'an apple next to a fireplace' #@param {type:\"string\"}\n",
        "NUM_LAYERS = 32 #@param {type:\"number\"}\n",
        "SAVE_EVERY =  20#@param {type:\"number\"}\n",
        "IMAGE_WIDTH = 512 #@param {type:\"number\"}\n",
        "SAVE_PROGRESS = True #@param {type:\"boolean\"}\n",
        "LEARNING_RATE = 1e-5 #@param {type:\"number\"}\n",
        "ITERATIONS = 1050 #@param {type:\"number\"}\n",
        "\n",
        "model = Imagine(\n",
        "    text = TEXT,\n",
        "    num_layers = NUM_LAYERS,\n",
        "    save_every = SAVE_EVERY,\n",
        "    image_width = IMAGE_WIDTH,\n",
        "    lr = LEARNING_RATE,\n",
        "    iterations = ITERATIONS,\n",
        "    save_progress = SAVE_PROGRESS\n",
        ")\n",
        "\n",
        "for epoch in trange(20, desc = 'epochs'):\n",
        "    for i in trange(ITERATIONS, desc = 'iteration'):\n",
        "        model.train_step(epoch, i)\n",
        "\n",
        "        if i % model.save_every != 0:\n",
        "            continue\n",
        "\n",
        "        filename = TEXT.replace(' ', '_')\n",
        "        image = Image(f'./{filename}.jpg')\n",
        "        display(image)"
      ],
      "execution_count": null,
      "outputs": [
        {
          "output_type": "stream",
          "text": [
            "100%|███████████████████████| 353976522/353976522 [00:11<00:00, 30885420.50it/s]\n",
            "epochs:   0%|          | 0/20 [00:00<?, ?it/s]\n",
            "iteration:   0%|          | 0/1000 [00:00<?, ?it/s]\u001b[A"
          ],
          "name": "stderr"
        }
      ]
    }
  ]
}