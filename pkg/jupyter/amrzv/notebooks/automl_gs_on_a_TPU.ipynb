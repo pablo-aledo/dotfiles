{
  "nbformat": 4,
  "nbformat_minor": 0,
  "metadata": {
    "colab": {
      "name": "automl-gs on a TPU",
      "provenance": [],
      "collapsed_sections": []
    },
    "kernelspec": {
      "name": "python3",
      "display_name": "Python 3"
    },
    "accelerator": "TPU"
  },
  "cells": [
    {
      "cell_type": "markdown",
      "metadata": {
        "id": "H7LoMj4GA4n_"
      },
      "source": [
        "#  automl-gs on a TPU (BETA)\n",
        "\n",
        "by [Max Woolf](https://minimaxir.com)\n",
        "\n",
        "*Last updated: March 25th, 2019*\n",
        "\n",
        "Give an input CSV file and a target field you want to predict to automl-gs, and get a trained high-performing machine learning or deep learning model plus native Python code pipelines allowing you to integrate that model into any prediction workflow. And you can train it **for free on a TPU using Colaboratory!**\n",
        "\n",
        "For more about automl-gs, you can visit [this GitHub repository](https://github.com/minimaxir/automl-gs).\n",
        "\n",
        "TPU Caveats:\n",
        "\n",
        "* On smaller datasets, it may be slower than a CPU/GPU due to overhead.\n",
        "* Training uses an Adam optimizer instead of a AdamW optimizer because TPUs don't like it apparently.\n",
        "* All data is loaded into memory before training; be warned when using 100MB+ datasets!\n",
        "\n",
        "To get started:\n",
        "\n",
        "1. Copy this notebook to your Google Drive (**File** -> **Save a Copy in Drive**) to keep it and save your changes.\n",
        "2. Make sure you're running the notebook in Google Chrome.\n",
        "3. Run the cells below:\n"
      ]
    },
    {
      "cell_type": "code",
      "metadata": {
        "id": "KBkpRgBCBS2_",
        "colab": {
          "base_uri": "https://localhost:8080/",
          "height": 486
        },
        "outputId": "f592ad62-8c36-42de-e14b-d635c0088eef"
      },
      "source": [
        "!pip install automl_gs\n",
        "import os\n",
        "from automl_gs import automl_grid_search\n",
        "from google.colab import files"
      ],
      "execution_count": null,
      "outputs": [
        {
          "output_type": "stream",
          "text": [
            "Collecting automl_gs\n",
            "  Downloading https://files.pythonhosted.org/packages/8f/21/da79be042ce5ac74ec6e056ac2b3715365beef2958a8ca420b2b89e58fb6/automl_gs-0.2.tar.gz\n",
            "Requirement already satisfied: pandas in /usr/local/lib/python3.6/dist-packages (from automl_gs) (0.22.0)\n",
            "Requirement already satisfied: scikit-learn in /usr/local/lib/python3.6/dist-packages (from automl_gs) (0.20.3)\n",
            "Collecting autopep8 (from automl_gs)\n",
            "\u001b[?25l  Downloading https://files.pythonhosted.org/packages/5b/ba/37d30e4263c51ee5a655118ac8c331e96a4e45fd4cea876a74b87af9ffc1/autopep8-1.4.3.tar.gz (113kB)\n",
            "\u001b[K    100% |████████████████████████████████| 122kB 8.0MB/s \n",
            "\u001b[?25hRequirement already satisfied: tqdm in /usr/local/lib/python3.6/dist-packages (from automl_gs) (4.28.1)\n",
            "Requirement already satisfied: jinja2>=2.8 in /usr/local/lib/python3.6/dist-packages (from automl_gs) (2.10)\n",
            "Requirement already satisfied: numpy>=1.9.0 in /usr/local/lib/python3.6/dist-packages (from pandas->automl_gs) (1.14.6)\n",
            "Requirement already satisfied: python-dateutil>=2 in /usr/local/lib/python3.6/dist-packages (from pandas->automl_gs) (2.5.3)\n",
            "Requirement already satisfied: pytz>=2011k in /usr/local/lib/python3.6/dist-packages (from pandas->automl_gs) (2018.9)\n",
            "Requirement already satisfied: scipy>=0.13.3 in /usr/local/lib/python3.6/dist-packages (from scikit-learn->automl_gs) (1.1.0)\n",
            "Collecting pycodestyle>=2.4.0 (from autopep8->automl_gs)\n",
            "\u001b[?25l  Downloading https://files.pythonhosted.org/packages/0e/0c/04a353e104d2f324f8ee5f4b32012618c1c86dd79e52a433b64fceed511b/pycodestyle-2.5.0-py2.py3-none-any.whl (51kB)\n",
            "\u001b[K    100% |████████████████████████████████| 51kB 15.8MB/s \n",
            "\u001b[?25hRequirement already satisfied: MarkupSafe>=0.23 in /usr/local/lib/python3.6/dist-packages (from jinja2>=2.8->automl_gs) (1.1.1)\n",
            "Requirement already satisfied: six>=1.5 in /usr/local/lib/python3.6/dist-packages (from python-dateutil>=2->pandas->automl_gs) (1.11.0)\n",
            "Building wheels for collected packages: automl-gs, autopep8\n",
            "  Building wheel for automl-gs (setup.py) ... \u001b[?25ldone\n",
            "\u001b[?25h  Stored in directory: /root/.cache/pip/wheels/86/ff/be/50eef88c5c07b33449de0545ee05d40b7a3c9992753c13a966\n",
            "  Building wheel for autopep8 (setup.py) ... \u001b[?25ldone\n",
            "\u001b[?25h  Stored in directory: /root/.cache/pip/wheels/91/07/fd/99884826d575c769102ddec2f9b96c7ad57cc6b5ca3a5e02b4\n",
            "Successfully built automl-gs autopep8\n",
            "Installing collected packages: pycodestyle, autopep8, automl-gs\n",
            "Successfully installed automl-gs-0.2 autopep8-1.4.3 pycodestyle-2.5.0\n"
          ],
          "name": "stdout"
        }
      ]
    },
    {
      "cell_type": "markdown",
      "metadata": {
        "id": "JWGElHpzlxzO"
      },
      "source": [
        "Verify that you have a TPU running in the notebook."
      ]
    },
    {
      "cell_type": "code",
      "metadata": {
        "id": "PEodS-dsoxCI",
        "colab": {
          "base_uri": "https://localhost:8080/",
          "height": 35
        },
        "outputId": "79591ec2-7ef1-4847-ff4d-f9b8fb8e830c"
      },
      "source": [
        "tpu_address = 'grpc://' + os.environ['COLAB_TPU_ADDR']\n",
        "print(tpu_address)"
      ],
      "execution_count": null,
      "outputs": [
        {
          "output_type": "stream",
          "text": [
            "grpc://10.110.224.74:8470\n"
          ],
          "name": "stdout"
        }
      ]
    },
    {
      "cell_type": "markdown",
      "metadata": {
        "id": "BT__brhBCvJu"
      },
      "source": [
        "In the Colaboratory Notebook sidebar on the left of the screen, select *Files*. From there you can upload files:\n",
        "\n",
        "![alt text](https://i.imgur.com/TGcZT4h.png)\n",
        "\n",
        "Upload **any CSV file** and update the file name + the target field to optimize in the cell below, then run the cell. You may add other parameters as well."
      ]
    },
    {
      "cell_type": "code",
      "metadata": {
        "id": "UBU4zAQjmNlu"
      },
      "source": [
        "automl_grid_search(csv_path='titanic.csv',\n",
        "                   target_field='Survived',\n",
        "                   model_name='tpu',\n",
        "                   tpu_address = tpu_address)"
      ],
      "execution_count": null,
      "outputs": []
    },
    {
      "cell_type": "markdown",
      "metadata": {
        "id": "ymE5H-sfmsqm"
      },
      "source": [
        "Once the training is complete, there will be a folder starting with `tpu` in *Files*. (e.g. `tpu_tensorflow_20190326_012353`)\n",
        "\n",
        "Replace the folder names in the next cell with the create folder, then run to download a zipped folder. (via [Stack Overflow](https://stackoverflow.com/a/52555629))"
      ]
    },
    {
      "cell_type": "code",
      "metadata": {
        "id": "nfYvfzMJnKPz"
      },
      "source": [
        "!zip -r tpu_tensorflow_20190326_012353.zip tpu_tensorflow_20190326_012353\n",
        "\n",
        "from google.colab import files\n",
        "files.download(\"tpu_tensorflow_20190326_012353.zip\")"
      ],
      "execution_count": null,
      "outputs": []
    },
    {
      "cell_type": "markdown",
      "metadata": {
        "id": "ig-KVgkCDCKD"
      },
      "source": [
        "If the notebook has errors (e.g. GPU/TPU Sync Fail), force-kill the Colaboratory virtual machine and restart it with the command below:"
      ]
    },
    {
      "cell_type": "code",
      "metadata": {
        "id": "rIHiVP53FnsX"
      },
      "source": [
        "!kill -9 -1"
      ],
      "execution_count": null,
      "outputs": []
    }
  ]
}