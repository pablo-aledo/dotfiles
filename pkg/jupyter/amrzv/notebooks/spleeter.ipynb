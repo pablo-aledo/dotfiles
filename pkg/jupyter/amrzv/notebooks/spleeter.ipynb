{
  "nbformat": 4,
  "nbformat_minor": 0,
  "metadata": {
    "colab": {
      "name": "spleeter.ipynb",
      "provenance": []
    },
    "kernelspec": {
      "display_name": "Python 3",
      "name": "python3"
    }
  },
  "cells": [
    {
      "cell_type": "markdown",
      "metadata": {
        "id": "K6mcSc0mmp3i"
      },
      "source": [
        "# Install spleeter"
      ]
    },
    {
      "cell_type": "code",
      "metadata": {
        "id": "f8Brdfh6mzEz"
      },
      "source": [
        "!apt install ffmpeg"
      ],
      "execution_count": null,
      "outputs": []
    },
    {
      "cell_type": "code",
      "metadata": {
        "id": "V_6Ram1lmc1F"
      },
      "source": [
        "pip install spleeter"
      ],
      "execution_count": null,
      "outputs": []
    },
    {
      "cell_type": "code",
      "metadata": {
        "id": "W0LktyMypXqE"
      },
      "source": [
        "from IPython.display import Audio"
      ],
      "execution_count": null,
      "outputs": []
    },
    {
      "cell_type": "markdown",
      "metadata": {
        "id": "afbcUSken16L"
      },
      "source": [
        "# Separate from command line"
      ]
    },
    {
      "cell_type": "code",
      "metadata": {
        "id": "O1kQaoJSoAD0"
      },
      "source": [
        "!wget https://github.com/deezer/spleeter/raw/master/audio_example.mp3"
      ],
      "execution_count": null,
      "outputs": []
    },
    {
      "cell_type": "code",
      "metadata": {
        "id": "ibG6uF55p4lH"
      },
      "source": [
        "Audio('audio_example.mp3')"
      ],
      "execution_count": null,
      "outputs": []
    },
    {
      "cell_type": "code",
      "metadata": {
        "id": "kOAqBcPhn6IU"
      },
      "source": [
        "!spleeter separate -h"
      ],
      "execution_count": null,
      "outputs": []
    },
    {
      "cell_type": "code",
      "metadata": {
        "id": "dGL-k5xxoKbu"
      },
      "source": [
        "!spleeter separate -o output/ audio_example.mp3"
      ],
      "execution_count": null,
      "outputs": []
    },
    {
      "cell_type": "code",
      "metadata": {
        "id": "IDuPWcAMoZP_"
      },
      "source": [
        "!ls output/audio_example"
      ],
      "execution_count": null,
      "outputs": []
    },
    {
      "cell_type": "code",
      "metadata": {
        "id": "e7CHpyiloxrk"
      },
      "source": [
        "Audio('output/audio_example/vocals.wav')"
      ],
      "execution_count": null,
      "outputs": []
    },
    {
      "cell_type": "code",
      "metadata": {
        "id": "ibXd-WCTpT0w"
      },
      "source": [
        "Audio('output/audio_example/accompaniment.wav')"
      ],
      "execution_count": null,
      "outputs": []
    }
  ]
}