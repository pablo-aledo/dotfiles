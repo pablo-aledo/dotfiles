{
  "nbformat": 4,
  "nbformat_minor": 0,
  "metadata": {
    "colab": {
      "name": "lesson3-rsna-pneumonia-detection-mdai-client-lib.ipynb",
      "provenance": []
    },
    "kernelspec": {
      "display_name": "Python 3",
      "language": "python",
      "name": "python3"
    },
    "accelerator": "GPU"
  },
  "cells": [
    {
      "cell_type": "markdown",
      "metadata": {
        "id": "FdivV_kX8_PN"
      },
      "source": [
        "## Intro to deep learning for medical imaging by [MD.ai](https://www.md.ai)\n",
        "\n",
        "## Lesson 3. RSNA Pneumonia Detection Challenge (MD.ai API)\n",
        "\n",
        "The [Radiological Society of North America](http://www.rsna.org/) Pneumonia Detection Challenge: https://www.kaggle.com/c/rsna-pneumonia-detection-challenge\n",
        "\n",
        "This notebook covers the basics of parsing the competition dataset, training using a detector basd on the [Mask-RCNN algorithm](https://arxiv.org/abs/1703.06870) for object detection and instance segmentation.  \n",
        "\n",
        "This notebook is developed by [MD.ai](https://www.md.ai), the platform for medical AI. \n",
        "This notebook requires Google's [TensorFlow](https://www.tensorflow.org/) machine learning framework.\n",
        "\n",
        "- MD.ai annotator project URL for this dataset: https://public.md.ai/annotator/project/LxR6zdR2/workspace\n",
        "- MD.ai python client libray URL: https://github.com/mdai/mdai-client-py\n",
        "- MD.ai documentation URL: https://docs.md.ai/\n",
        "\n",
        "**Intro to deep learning for medical imaging lessons**\n",
        "\n",
        "- Lesson 1. Classification of chest vs. adominal X-rays using TensorFlow/Keras [Github](https://github.com/mdai/ml-lessons/blob/master/lesson1-xray-images-classification.ipynb) [Annotator](https://public.md.ai/annotator/project/PVq9raBJ)\n",
        "\n",
        "- Lesson 2. Lung X-Rays Semantic Segmentation using UNets. [Github](https://github.com/mdai/ml-lessons/blob/master/lesson2-lung-xrays-segmentation.ipynb)\n",
        "[Annotator](https://public.md.ai/annotator/project/aGq4k6NW/workspace) \n",
        "\n",
        "- Lesson 3. RSNA Pneumonia detection using Kaggle data format [Github](https://github.com/mdai/ml-lessons/blob/master/lesson3-rsna-pneumonia-detection-kaggle.ipynb) [Annotator](https://public.md.ai/annotator/project/LxR6zdR2/workspace) \n",
        "  \n",
        "- Lesson 3. RSNA Pneumonia detection using MD.ai python client library [Github](https://github.com/mdai/ml-lessons/blob/master/lesson3-rsna-pneumonia-detection-mdai-client-lib.ipynb) [Annotator](https://public.md.ai/annotator/project/LxR6zdR2/workspace)\n",
        "\n",
        "*Copyright 2018 MD.ai, Inc.   \n",
        "Licensed under the Apache License, Version 2.0*"
      ]
    },
    {
      "cell_type": "code",
      "metadata": {
        "id": "3VZvE3gX8_PP"
      },
      "source": [
        "# install dependencies not included by Colab\n",
        "# use pip3 to ensure compatibility w/ Google Deep Learning Images \n",
        "!pip3 install -q pydicom \n",
        "!pip3 install -q tqdm \n",
        "!pip3 install -q imgaug "
      ],
      "execution_count": null,
      "outputs": []
    },
    {
      "cell_type": "code",
      "metadata": {
        "id": "lVBBH_EF8_PU"
      },
      "source": [
        "import os\n",
        "import sys\n",
        "import random\n",
        "import math\n",
        "import numpy as np\n",
        "import cv2\n",
        "import matplotlib.pyplot as plt\n",
        "import json\n",
        "import pydicom\n",
        "from imgaug import augmenters as iaa\n",
        "\n",
        "%matplotlib inline "
      ],
      "execution_count": null,
      "outputs": []
    },
    {
      "cell_type": "markdown",
      "metadata": {
        "id": "0a1bLOhX8_PW"
      },
      "source": [
        "### Import the `mdai` library\n",
        "\n",
        "On Colab, run the block below to install the `mdai` client library into your python environment."
      ]
    },
    {
      "cell_type": "code",
      "metadata": {
        "id": "cYvDgipk8_PX",
        "colab": {
          "base_uri": "https://localhost:8080/",
          "height": 35
        },
        "outputId": "28c7fa59-b481-4b40-dfe1-3e2f49cbb9a5"
      },
      "source": [
        "!pip install --upgrade --quiet mdai\n",
        "import mdai\n",
        "mdai.__version__"
      ],
      "execution_count": null,
      "outputs": [
        {
          "output_type": "execute_result",
          "data": {
            "text/plain": [
              "'0.0.5'"
            ]
          },
          "metadata": {
            "tags": []
          },
          "execution_count": 26
        }
      ]
    },
    {
      "cell_type": "code",
      "metadata": {
        "id": "WZQjgjnK8_Pb"
      },
      "source": [
        "# Root directory of the project\n",
        "ROOT_DIR = os.path.abspath('./lesson3-data')\n",
        "\n",
        "# Directory to save logs and trained model\n",
        "MODEL_DIR = os.path.join(ROOT_DIR, 'logs')\n",
        "\n",
        "if not os.path.exists(ROOT_DIR):\n",
        "    os.makedirs(ROOT_DIR)\n",
        "os.chdir(ROOT_DIR)"
      ],
      "execution_count": null,
      "outputs": []
    },
    {
      "cell_type": "markdown",
      "metadata": {
        "id": "FyzgNwkn8_Pd"
      },
      "source": [
        "### Install Matterport's Mask-RCNN model from github.\n",
        "See the [Matterport's implementation of Mask-RCNN](https://github.com/matterport/Mask_RCNN)."
      ]
    },
    {
      "cell_type": "code",
      "metadata": {
        "id": "WlPtsVgt8_Pe",
        "colab": {
          "base_uri": "https://localhost:8080/",
          "height": 143
        },
        "outputId": "9221b2f6-51a5-4a23-e9cc-9d7588221a41"
      },
      "source": [
        "!git clone https://github.com/matterport/Mask_RCNN.git\n",
        "os.chdir('Mask_RCNN')\n",
        "!pip install -q -r requirements.txt\n",
        "!python setup.py -q install"
      ],
      "execution_count": null,
      "outputs": [
        {
          "output_type": "stream",
          "text": [
            "Cloning into 'Mask_RCNN'...\n",
            "remote: Counting objects: 775, done.\u001b[K\n",
            "remote: Total 775 (delta 0), reused 0 (delta 0), pack-reused 774\u001b[K\n",
            "Receiving objects: 100% (775/775), 107.33 MiB | 20.46 MiB/s, done.\n",
            "Resolving deltas: 100% (446/446), done.\n",
            "WARNING:root:Fail load requirements file, so using default ones.\n",
            "zip_safe flag not set; analyzing archive contents...\n"
          ],
          "name": "stdout"
        }
      ]
    },
    {
      "cell_type": "code",
      "metadata": {
        "id": "dzlegKck8_Pj"
      },
      "source": [
        "# Import Mask RCNN\n",
        "sys.path.append(os.path.join(ROOT_DIR, 'Mask_RCNN'))  # To find local version of the library\n",
        "from mrcnn.config import Config\n",
        "from mrcnn import utils\n",
        "import mrcnn.model as modellib\n",
        "from mrcnn import visualize\n",
        "from mrcnn.model import log"
      ],
      "execution_count": null,
      "outputs": []
    },
    {
      "cell_type": "markdown",
      "metadata": {
        "id": "RrVjmqtJ8_Po"
      },
      "source": [
        "### Create an `mdai` client\n",
        "\n",
        "The mdai client requires an access token, which authenticates you as the user. To create a new token or select an existing token, navigate to the \"Personal Access Tokens\" tab on your user settings page at the specified MD.ai domain (e.g., public.md.ai).\n",
        "\n",
        "**Important: keep your access tokens safe. Do not ever share your tokens.**"
      ]
    },
    {
      "cell_type": "code",
      "metadata": {
        "id": "XB28YDKw8_Pq",
        "colab": {
          "base_uri": "https://localhost:8080/",
          "height": 35
        },
        "outputId": "68eed3fe-121f-4966-f53d-bd734025e262"
      },
      "source": [
        "mdai_client = mdai.Client(domain='public.md.ai', access_token=\"\")"
      ],
      "execution_count": null,
      "outputs": [
        {
          "output_type": "stream",
          "text": [
            "Successfully authenticated to public.md.ai.\n"
          ],
          "name": "stdout"
        }
      ]
    },
    {
      "cell_type": "markdown",
      "metadata": {
        "id": "z0i1JLTF8_Pu"
      },
      "source": [
        "### Clone the Annotator Project\n",
        "\n",
        "The annotator project URL for this dataset is https://public.md.ai/annotator/project/LxR6zdR2/workspace. \n",
        "\n",
        "To add annotations to the cloned project, you need to clone the project first. \n",
        "\n",
        "First, navigate to the original project URL (above), click on \"Clone Project\" button. \n",
        "\n",
        "![GitHub Logo](https://raw.githubusercontent.com/mdai/ml-lessons/master/images/kaggle-project-clone-small.gif)\n"
      ]
    },
    {
      "cell_type": "markdown",
      "metadata": {
        "id": "Zl509Hs38_Pu"
      },
      "source": [
        "### Define project\n",
        "\n",
        "Define a project you have access to by passing in the project id. The project id can be found in the URL in the following format: `https://public.md.ai/annotator/project/{project_id}`.\n",
        "\n",
        "For example, `project_id` would be `XXXX` for `https://public.md.ai/annotator/project/XXXX`.\n",
        "\n",
        "Specify optional `path` as the data directory (if left blank, will default to current working directory)."
      ]
    },
    {
      "cell_type": "code",
      "metadata": {
        "id": "uXUv3t_98_Pv"
      },
      "source": [
        "p = mdai_client.project('LxR6zdR2', path='./lesson3-data')"
      ],
      "execution_count": null,
      "outputs": []
    },
    {
      "cell_type": "markdown",
      "metadata": {
        "id": "PXiRWnxX8_Pz"
      },
      "source": [
        "## Prepare data"
      ]
    },
    {
      "cell_type": "code",
      "metadata": {
        "id": "EDecTsz28_P0",
        "colab": {
          "base_uri": "https://localhost:8080/",
          "height": 107
        },
        "outputId": "aeec82e1-7a0b-477f-fd37-6ec1a5a7b4df"
      },
      "source": [
        "p.show_label_groups()"
      ],
      "execution_count": null,
      "outputs": [
        {
          "output_type": "stream",
          "text": [
            "Label Group, Id: G_R28gN5, Name: Default group\n",
            "\tLabels:\n",
            "\tId: L_ylR0L8, Name: No Lung Opacity\n",
            "\tId: L_DlqEAl, Name: Lung Opacity\n",
            "\n"
          ],
          "name": "stdout"
        }
      ]
    },
    {
      "cell_type": "markdown",
      "metadata": {
        "id": "gB22GyWU8_P4"
      },
      "source": [
        "### Set label ids\n",
        "\n",
        "Selected label ids must be explicitly set by `Project#set_label_ids` method in order to prepare datasets."
      ]
    },
    {
      "cell_type": "code",
      "metadata": {
        "id": "ChuEtYTz8_P4",
        "colab": {
          "base_uri": "https://localhost:8080/",
          "height": 71
        },
        "outputId": "67326c39-cc58-414b-9189-f9337e24a9f2"
      },
      "source": [
        "# this maps label ids to class ids\n",
        "labels_dict = {'L_ylR0L8':0, # background \n",
        "               'L_DlqEAl':1, # lung opacity \n",
        "              }\n",
        "\n",
        "print(labels_dict)\n",
        "p.set_labels_dict(labels_dict)"
      ],
      "execution_count": null,
      "outputs": [
        {
          "output_type": "stream",
          "text": [
            "{'L_ylR0L8': 0, 'L_DlqEAl': 1}\n",
            "None\n",
            "bbox\n"
          ],
          "name": "stdout"
        }
      ]
    },
    {
      "cell_type": "code",
      "metadata": {
        "id": "dFJRPTL18_P8",
        "colab": {
          "base_uri": "https://localhost:8080/",
          "height": 71
        },
        "outputId": "a198f18a-ab68-4eda-d28e-af888206d35e"
      },
      "source": [
        "p.show_datasets()"
      ],
      "execution_count": null,
      "outputs": [
        {
          "output_type": "stream",
          "text": [
            "Datasets:\n",
            "Id: D_ao3XWQ, Name: stage 1 train\n",
            "\n"
          ],
          "name": "stdout"
        }
      ]
    },
    {
      "cell_type": "code",
      "metadata": {
        "id": "1K-f6JdP8_QB"
      },
      "source": [
        "dataset = p.get_dataset_by_id('D_ao3XWQ')\n",
        "dataset.prepare()"
      ],
      "execution_count": null,
      "outputs": []
    },
    {
      "cell_type": "code",
      "metadata": {
        "id": "xBIVY6IL8_QE",
        "colab": {
          "base_uri": "https://localhost:8080/",
          "height": 53
        },
        "outputId": "833066ff-317a-4c9d-f38b-1e7c9269b16d"
      },
      "source": [
        "dataset.show_classes()"
      ],
      "execution_count": null,
      "outputs": [
        {
          "output_type": "stream",
          "text": [
            "Label id: L_ylR0L8, Class id: 0, Class text: No Lung Opacity\n",
            "Label id: L_DlqEAl, Class id: 1, Class text: Lung Opacity\n"
          ],
          "name": "stdout"
        }
      ]
    },
    {
      "cell_type": "code",
      "metadata": {
        "id": "WN35AoRi8_QK"
      },
      "source": [
        "anns = dataset.get_annotations()"
      ],
      "execution_count": null,
      "outputs": []
    },
    {
      "cell_type": "markdown",
      "metadata": {
        "id": "DAqhwKkH8_QN"
      },
      "source": [
        "### Split the data into training and validation datasets"
      ]
    },
    {
      "cell_type": "code",
      "metadata": {
        "id": "b0Q9DwBm8_QN",
        "colab": {
          "base_uri": "https://localhost:8080/",
          "height": 35
        },
        "outputId": "b7b26861-316c-433a-8f11-ee04e28a9742"
      },
      "source": [
        "train_dataset, valid_dataset = mdai.common_utils.train_test_split(dataset)"
      ],
      "execution_count": null,
      "outputs": [
        {
          "output_type": "stream",
          "text": [
            "Num of instances for training set: 23115, validation set: 2569\n"
          ],
          "name": "stdout"
        }
      ]
    },
    {
      "cell_type": "code",
      "metadata": {
        "id": "r3TPI1U78_QQ",
        "colab": {
          "base_uri": "https://localhost:8080/",
          "height": 35
        },
        "outputId": "bc0eefa8-ef93-44c8-bb81-a2904a7e1543"
      },
      "source": [
        "anns = dataset.get_annotations(labels_dict.keys(), verbose=True)"
      ],
      "execution_count": null,
      "outputs": [
        {
          "output_type": "stream",
          "text": [
            "Dataset contains 28989 annotations, filtered by label ids dict_keys(['L_ylR0L8', 'L_DlqEAl']).\n"
          ],
          "name": "stdout"
        }
      ]
    },
    {
      "cell_type": "markdown",
      "metadata": {
        "id": "WkU89vjJ8_QU"
      },
      "source": [
        "### Mask-RCNN Config\n",
        "\n",
        "see [https://github.com/matterport/Mask_RCNN/blob/master/mrcnn/config.py](https://github.com/matterport/Mask_RCNN/blob/master/mrcnn/config.py)"
      ]
    },
    {
      "cell_type": "code",
      "metadata": {
        "id": "Wl-YnHcL8_QU",
        "colab": {
          "base_uri": "https://localhost:8080/",
          "height": 917
        },
        "outputId": "afce6c03-862d-4e5f-f81c-6d98c75d2b6e"
      },
      "source": [
        "# These parameters have been changed to reduce run-time per epoch at the expense \n",
        "# of training performance\n",
        "\n",
        "class DetectorConfig(Config):\n",
        "    \"\"\"Configuration for training pneumonia detection on the RSNA pneumonia dataset.\n",
        "    Overrides values in the base Config class.\n",
        "    \"\"\"\n",
        "    NAME = 'pneumonia'\n",
        "    GPU_COUNT = 1\n",
        "    IMAGES_PER_GPU = 16 # on aws, use 16\n",
        "    BACKBONE = 'resnet50'\n",
        "    NUM_CLASSES = 2  # background + 1 pneumonia classes\n",
        "    IMAGE_MIN_DIM = 64\n",
        "    IMAGE_MAX_DIM = 64\n",
        "    RPN_ANCHOR_SCALES = (32, 64)\n",
        "    TRAIN_ROIS_PER_IMAGE = 16\n",
        "    MAX_GT_INSTANCES = 3\n",
        "    DETECTION_MAX_INSTANCES = 3\n",
        "    DETECTION_MIN_CONFIDENCE = 0.9\n",
        "    DETECTION_NMS_THRESHOLD = 0.1\n",
        "    POST_NMS_ROIS_TRAINING = 200\n",
        "    RPN_TRAIN_ANCHORS_PER_IMAGE = 16\n",
        "    STEPS_PER_EPOCH = 100 \n",
        "    TOP_DOWN_PYRAMID_SIZE = 32\n",
        "     \n",
        "config = DetectorConfig()\n",
        "config.display()"
      ],
      "execution_count": null,
      "outputs": [
        {
          "output_type": "stream",
          "text": [
            "\n",
            "Configurations:\n",
            "BACKBONE                       resnet50\n",
            "BACKBONE_STRIDES               [4, 8, 16, 32, 64]\n",
            "BATCH_SIZE                     16\n",
            "BBOX_STD_DEV                   [0.1 0.1 0.2 0.2]\n",
            "COMPUTE_BACKBONE_SHAPE         None\n",
            "DETECTION_MAX_INSTANCES        3\n",
            "DETECTION_MIN_CONFIDENCE       0.9\n",
            "DETECTION_NMS_THRESHOLD        0.1\n",
            "FPN_CLASSIF_FC_LAYERS_SIZE     1024\n",
            "GPU_COUNT                      1\n",
            "GRADIENT_CLIP_NORM             5.0\n",
            "IMAGES_PER_GPU                 16\n",
            "IMAGE_MAX_DIM                  64\n",
            "IMAGE_META_SIZE                14\n",
            "IMAGE_MIN_DIM                  64\n",
            "IMAGE_MIN_SCALE                0\n",
            "IMAGE_RESIZE_MODE              square\n",
            "IMAGE_SHAPE                    [64 64  3]\n",
            "LEARNING_MOMENTUM              0.9\n",
            "LEARNING_RATE                  0.001\n",
            "LOSS_WEIGHTS                   {'rpn_class_loss': 1.0, 'rpn_bbox_loss': 1.0, 'mrcnn_class_loss': 1.0, 'mrcnn_bbox_loss': 1.0, 'mrcnn_mask_loss': 1.0}\n",
            "MASK_POOL_SIZE                 14\n",
            "MASK_SHAPE                     [28, 28]\n",
            "MAX_GT_INSTANCES               3\n",
            "MEAN_PIXEL                     [123.7 116.8 103.9]\n",
            "MINI_MASK_SHAPE                (56, 56)\n",
            "NAME                           pneumonia\n",
            "NUM_CLASSES                    2\n",
            "POOL_SIZE                      7\n",
            "POST_NMS_ROIS_INFERENCE        1000\n",
            "POST_NMS_ROIS_TRAINING         200\n",
            "ROI_POSITIVE_RATIO             0.33\n",
            "RPN_ANCHOR_RATIOS              [0.5, 1, 2]\n",
            "RPN_ANCHOR_SCALES              (32, 64)\n",
            "RPN_ANCHOR_STRIDE              1\n",
            "RPN_BBOX_STD_DEV               [0.1 0.1 0.2 0.2]\n",
            "RPN_NMS_THRESHOLD              0.7\n",
            "RPN_TRAIN_ANCHORS_PER_IMAGE    16\n",
            "STEPS_PER_EPOCH                100\n",
            "TOP_DOWN_PYRAMID_SIZE          32\n",
            "TRAIN_BN                       False\n",
            "TRAIN_ROIS_PER_IMAGE           16\n",
            "USE_MINI_MASK                  True\n",
            "USE_RPN_ROIS                   True\n",
            "VALIDATION_STEPS               50\n",
            "WEIGHT_DECAY                   0.0001\n",
            "\n",
            "\n"
          ],
          "name": "stdout"
        }
      ]
    },
    {
      "cell_type": "markdown",
      "metadata": {
        "id": "bQwvhM7d8_QY"
      },
      "source": [
        "### Mask-RCNN Dataset\n",
        "\n",
        "see [https://github.com/matterport/Mask_RCNN/blob/master/mrcnn/utils.py](https://github.com/matterport/Mask_RCNN/blob/master/mrcnn/utils.py)"
      ]
    },
    {
      "cell_type": "code",
      "metadata": {
        "id": "oAj15YYF8_QY"
      },
      "source": [
        "class DetectorDataset(utils.Dataset):\n",
        "    \"\"\"Dataset class for training pneumonia detection on the RSNA pneumonia dataset.\n",
        "    \"\"\"\n",
        "\n",
        "    def __init__(self, source_name, dataset, orig_height, orig_width):\n",
        "        super().__init__(self)\n",
        "        \n",
        "        # add classes \n",
        "        for k, v in dataset.classes_dict.items():\n",
        "            if v['class_id'] is not 0: \n",
        "                self.add_class(source_name, v['class_id'], v['class_text'])\n",
        "\n",
        "        # add images \n",
        "        img_ids = dataset.get_image_ids()\n",
        "        imgs_anns_dict = dataset.imgs_anns_dict\n",
        "        \n",
        "        #########################################################\n",
        "        # WARNING: Using only the first 1000 images to reduce \n",
        "        #          run-time for demonstration only \n",
        "        # To run all images, do: for i, fp in enumerate(img_ids):\n",
        "        #########################################################\n",
        "        for i, fp in enumerate(img_ids[:1000]):\n",
        "            annotations = imgs_anns_dict[fp]\n",
        "            self.add_image(source_name, image_id=i, path=fp, \n",
        "                           annotations=annotations, orig_height=orig_height, orig_width=orig_width)\n",
        "            \n",
        "    def image_reference(self, image_id):\n",
        "        info = self.image_info[image_id]\n",
        "        return info['path']\n",
        "\n",
        "    def load_image(self, image_id):\n",
        "        info = self.image_info[image_id]\n",
        "        fp = info['path']\n",
        "        ds = pydicom.read_file(\n",
        "            fp)\n",
        "        image = ds.pixel_array\n",
        "        # If grayscale. Convert to RGB for consistency.\n",
        "        if len(image.shape) != 3 or image.shape[2] != 3:\n",
        "            image = np.stack((image,) * 3, -1)\n",
        "        return image\n",
        "\n",
        "    def load_mask(self, image_id):\n",
        "        info = self.image_info[image_id]\n",
        "        annotations = info['annotations']\n",
        "        count = len(annotations)\n",
        "        if count == 0:\n",
        "            mask = np.zeros((info['orig_height'], info['orig_width'], 1), dtype=np.uint8)\n",
        "            assert(dataset.label_id_to_class_id(a['labelId']) == 0)\n",
        "            class_ids = np.zeros((1,), dtype=np.int32)\n",
        "        else:\n",
        "            mask = np.zeros((info['orig_height'], info['orig_width'], count), dtype=np.uint8)\n",
        "            class_ids = np.zeros((count,), dtype=np.int32)\n",
        "            for i, a in enumerate(annotations):\n",
        "                if a['data'] is not None:\n",
        "                    x = int(a['data']['x'])\n",
        "                    y = int(a['data']['y'])\n",
        "                    w = int(a['data']['width'])\n",
        "                    h = int(a['data']['height'])\n",
        "                    mask_instance = mask[:, :, i].copy()\n",
        "                    cv2.rectangle(mask_instance, (x, y), (x+w, y+h), 255, -1)\n",
        "                    mask[:, :, i] = mask_instance\n",
        "                    class_ids[i] = dataset.label_id_to_class_id(a['labelId'])\n",
        "        return mask.astype(np.bool), class_ids.astype(np.int32)"
      ],
      "execution_count": null,
      "outputs": []
    },
    {
      "cell_type": "code",
      "metadata": {
        "id": "Cw_yW5NR8_Qa"
      },
      "source": [
        "# Training dataset\n",
        "source_name = 'pneumonia'\n",
        "dataset_train = DetectorDataset(source_name, train_dataset, 1024, 1024)\n",
        "dataset_train.prepare()\n",
        "\n",
        "# Validation dataset\n",
        "dataset_val = DetectorDataset(source_name, valid_dataset, 1024, 1024)\n",
        "dataset_val.prepare()"
      ],
      "execution_count": null,
      "outputs": []
    },
    {
      "cell_type": "markdown",
      "metadata": {
        "id": "yTOUrxKv8_Qd"
      },
      "source": [
        "### Display a few images"
      ]
    },
    {
      "cell_type": "code",
      "metadata": {
        "id": "Oyt9sRT78_Qe",
        "colab": {
          "base_uri": "https://localhost:8080/",
          "height": 323
        },
        "outputId": "b89b7278-48f0-4a3a-e92d-af0017731ad9"
      },
      "source": [
        "# Load and display random samples\n",
        "image_id = random.choice(dataset_train.image_ids)\n",
        "image = dataset_train.load_image(image_id)\n",
        "mask, class_ids = dataset_train.load_mask(image_id)\n",
        "\n",
        "plt.figure(figsize=(10, 10))\n",
        "plt.subplot(1, 2, 1)\n",
        "plt.imshow(image[:, :, 0], cmap='gray')\n",
        "plt.axis('off')\n",
        "\n",
        "plt.subplot(1, 2, 2)\n",
        "masked = np.zeros(image.shape[:2])\n",
        "for i in range(mask.shape[2]):\n",
        "    masked += image[:, :, 0] * mask[:, :, i]\n",
        "plt.imshow(masked, cmap='gray')\n",
        "plt.axis('off')"
      ],
      "execution_count": null,
      "outputs": [
        {
          "output_type": "execute_result",
          "data": {
            "text/plain": [
              "(-0.5, 1023.5, 1023.5, -0.5)"
            ]
          },
          "metadata": {
            "tags": []
          },
          "execution_count": 33
        },
        {
          "output_type": "display_data",
          "data": {
            "image/png": "[encoded data removed]",
            "text/plain": [
              "<matplotlib.figure.Figure at 0x7f0c69bcaf98>"
            ]
          },
          "metadata": {
            "tags": []
          }
        }
      ]
    },
    {
      "cell_type": "markdown",
      "metadata": {
        "id": "DMfjPgHe8_Qg"
      },
      "source": [
        "### Training"
      ]
    },
    {
      "cell_type": "code",
      "metadata": {
        "id": "rKgZXt808_Qh"
      },
      "source": [
        "model = modellib.MaskRCNN(mode='training', config=config, model_dir=MODEL_DIR)"
      ],
      "execution_count": null,
      "outputs": []
    },
    {
      "cell_type": "code",
      "metadata": {
        "id": "5c9_Afh68_Qj"
      },
      "source": [
        "augmentation = iaa.SomeOf((0, 1), [\n",
        "    iaa.Fliplr(0.5),\n",
        "    iaa.Affine(\n",
        "        scale={\"x\": (0.8, 1.2), \"y\": (0.8, 1.2)},\n",
        "        translate_percent={\"x\": (-0.2, 0.2), \"y\": (-0.2, 0.2)},\n",
        "        rotate=(-25, 25),\n",
        "        shear=(-8, 8)\n",
        "    ),\n",
        "    iaa.Multiply((0.9, 1.1))\n",
        "])"
      ],
      "execution_count": null,
      "outputs": []
    },
    {
      "cell_type": "markdown",
      "metadata": {
        "id": "TRqcDOty8_Ql"
      },
      "source": [
        "## To get good results, you need to train for many epochs. "
      ]
    },
    {
      "cell_type": "code",
      "metadata": {
        "id": "ArLlJnNP8_Ql",
        "colab": {
          "base_uri": "https://localhost:8080/",
          "height": 2575
        },
        "outputId": "372c846a-c359-489c-ff92-693090817286"
      },
      "source": [
        "# increase the number of epochs for (potentially) better trained model\n",
        "NUM_EPOCHS = 1\n",
        "\n",
        "# Train Mask-RCNN Model \n",
        "import warnings \n",
        "warnings.filterwarnings(\"ignore\")\n",
        "model.train(dataset_train, dataset_val, \n",
        "            learning_rate=config.LEARNING_RATE, \n",
        "            epochs=NUM_EPOCHS, \n",
        "            #augmentation=augmentation, # uncomment to enable augmentation\n",
        "            layers='all')"
      ],
      "execution_count": null,
      "outputs": [
        {
          "output_type": "stream",
          "text": [
            "\n",
            "Starting at epoch 0. LR=0.001\n",
            "\n",
            "Checkpoint Path: /content/lesson3-data/logs/pneumonia20180827T1517/mask_rcnn_pneumonia_{epoch:04d}.h5\n",
            "Selecting layers to train\n",
            "conv1                  (Conv2D)\n",
            "bn_conv1               (BatchNorm)\n",
            "res2a_branch2a         (Conv2D)\n",
            "bn2a_branch2a          (BatchNorm)\n",
            "res2a_branch2b         (Conv2D)\n",
            "bn2a_branch2b          (BatchNorm)\n",
            "res2a_branch2c         (Conv2D)\n",
            "res2a_branch1          (Conv2D)\n",
            "bn2a_branch2c          (BatchNorm)\n",
            "bn2a_branch1           (BatchNorm)\n",
            "res2b_branch2a         (Conv2D)\n",
            "bn2b_branch2a          (BatchNorm)\n",
            "res2b_branch2b         (Conv2D)\n",
            "bn2b_branch2b          (BatchNorm)\n",
            "res2b_branch2c         (Conv2D)\n",
            "bn2b_branch2c          (BatchNorm)\n",
            "res2c_branch2a         (Conv2D)\n",
            "bn2c_branch2a          (BatchNorm)\n",
            "res2c_branch2b         (Conv2D)\n",
            "bn2c_branch2b          (BatchNorm)\n",
            "res2c_branch2c         (Conv2D)\n",
            "bn2c_branch2c          (BatchNorm)\n",
            "res3a_branch2a         (Conv2D)\n",
            "bn3a_branch2a          (BatchNorm)\n",
            "res3a_branch2b         (Conv2D)\n",
            "bn3a_branch2b          (BatchNorm)\n",
            "res3a_branch2c         (Conv2D)\n",
            "res3a_branch1          (Conv2D)\n",
            "bn3a_branch2c          (BatchNorm)\n",
            "bn3a_branch1           (BatchNorm)\n",
            "res3b_branch2a         (Conv2D)\n",
            "bn3b_branch2a          (BatchNorm)\n",
            "res3b_branch2b         (Conv2D)\n",
            "bn3b_branch2b          (BatchNorm)\n",
            "res3b_branch2c         (Conv2D)\n",
            "bn3b_branch2c          (BatchNorm)\n",
            "res3c_branch2a         (Conv2D)\n",
            "bn3c_branch2a          (BatchNorm)\n",
            "res3c_branch2b         (Conv2D)\n",
            "bn3c_branch2b          (BatchNorm)\n",
            "res3c_branch2c         (Conv2D)\n",
            "bn3c_branch2c          (BatchNorm)\n",
            "res3d_branch2a         (Conv2D)\n",
            "bn3d_branch2a          (BatchNorm)\n",
            "res3d_branch2b         (Conv2D)\n",
            "bn3d_branch2b          (BatchNorm)\n",
            "res3d_branch2c         (Conv2D)\n",
            "bn3d_branch2c          (BatchNorm)\n",
            "res4a_branch2a         (Conv2D)\n",
            "bn4a_branch2a          (BatchNorm)\n",
            "res4a_branch2b         (Conv2D)\n",
            "bn4a_branch2b          (BatchNorm)\n",
            "res4a_branch2c         (Conv2D)\n",
            "res4a_branch1          (Conv2D)\n",
            "bn4a_branch2c          (BatchNorm)\n",
            "bn4a_branch1           (BatchNorm)\n",
            "res4b_branch2a         (Conv2D)\n",
            "bn4b_branch2a          (BatchNorm)\n",
            "res4b_branch2b         (Conv2D)\n",
            "bn4b_branch2b          (BatchNorm)\n",
            "res4b_branch2c         (Conv2D)\n",
            "bn4b_branch2c          (BatchNorm)\n",
            "res4c_branch2a         (Conv2D)\n",
            "bn4c_branch2a          (BatchNorm)\n",
            "res4c_branch2b         (Conv2D)\n",
            "bn4c_branch2b          (BatchNorm)\n",
            "res4c_branch2c         (Conv2D)\n",
            "bn4c_branch2c          (BatchNorm)\n",
            "res4d_branch2a         (Conv2D)\n",
            "bn4d_branch2a          (BatchNorm)\n",
            "res4d_branch2b         (Conv2D)\n",
            "bn4d_branch2b          (BatchNorm)\n",
            "res4d_branch2c         (Conv2D)\n",
            "bn4d_branch2c          (BatchNorm)\n",
            "res4e_branch2a         (Conv2D)\n",
            "bn4e_branch2a          (BatchNorm)\n",
            "res4e_branch2b         (Conv2D)\n",
            "bn4e_branch2b          (BatchNorm)\n",
            "res4e_branch2c         (Conv2D)\n",
            "bn4e_branch2c          (BatchNorm)\n",
            "res4f_branch2a         (Conv2D)\n",
            "bn4f_branch2a          (BatchNorm)\n",
            "res4f_branch2b         (Conv2D)\n",
            "bn4f_branch2b          (BatchNorm)\n",
            "res4f_branch2c         (Conv2D)\n",
            "bn4f_branch2c          (BatchNorm)\n",
            "res5a_branch2a         (Conv2D)\n",
            "bn5a_branch2a          (BatchNorm)\n",
            "res5a_branch2b         (Conv2D)\n",
            "bn5a_branch2b          (BatchNorm)\n",
            "res5a_branch2c         (Conv2D)\n",
            "res5a_branch1          (Conv2D)\n",
            "bn5a_branch2c          (BatchNorm)\n",
            "bn5a_branch1           (BatchNorm)\n",
            "res5b_branch2a         (Conv2D)\n",
            "bn5b_branch2a          (BatchNorm)\n",
            "res5b_branch2b         (Conv2D)\n",
            "bn5b_branch2b          (BatchNorm)\n",
            "res5b_branch2c         (Conv2D)\n",
            "bn5b_branch2c          (BatchNorm)\n",
            "res5c_branch2a         (Conv2D)\n",
            "bn5c_branch2a          (BatchNorm)\n",
            "res5c_branch2b         (Conv2D)\n",
            "bn5c_branch2b          (BatchNorm)\n",
            "res5c_branch2c         (Conv2D)\n",
            "bn5c_branch2c          (BatchNorm)\n",
            "fpn_c5p5               (Conv2D)\n",
            "fpn_c4p4               (Conv2D)\n",
            "fpn_c3p3               (Conv2D)\n",
            "fpn_c2p2               (Conv2D)\n",
            "fpn_p5                 (Conv2D)\n",
            "fpn_p2                 (Conv2D)\n",
            "fpn_p3                 (Conv2D)\n",
            "fpn_p4                 (Conv2D)\n",
            "In model:  rpn_model\n",
            "    rpn_conv_shared        (Conv2D)\n",
            "    rpn_class_raw          (Conv2D)\n",
            "    rpn_bbox_pred          (Conv2D)\n",
            "mrcnn_mask_conv1       (TimeDistributed)\n",
            "mrcnn_mask_bn1         (TimeDistributed)\n",
            "mrcnn_mask_conv2       (TimeDistributed)\n",
            "mrcnn_mask_bn2         (TimeDistributed)\n",
            "mrcnn_class_conv1      (TimeDistributed)\n",
            "mrcnn_class_bn1        (TimeDistributed)\n",
            "mrcnn_mask_conv3       (TimeDistributed)\n",
            "mrcnn_mask_bn3         (TimeDistributed)\n",
            "mrcnn_class_conv2      (TimeDistributed)\n",
            "mrcnn_class_bn2        (TimeDistributed)\n",
            "mrcnn_mask_conv4       (TimeDistributed)\n",
            "mrcnn_mask_bn4         (TimeDistributed)\n",
            "mrcnn_bbox_fc          (TimeDistributed)\n",
            "mrcnn_mask_deconv      (TimeDistributed)\n",
            "mrcnn_class_logits     (TimeDistributed)\n",
            "mrcnn_mask             (TimeDistributed)\n",
            "Epoch 1/1\n",
            "100/100 [==============================] - 668s 7s/step - loss: 2.6438 - rpn_class_loss: 0.3342 - rpn_bbox_loss: 0.9316 - mrcnn_class_loss: 0.1882 - mrcnn_bbox_loss: 0.6009 - mrcnn_mask_loss: 0.5889 - val_loss: 2.2340 - val_rpn_class_loss: 0.1460 - val_rpn_bbox_loss: 0.7830 - val_mrcnn_class_loss: 0.1911 - val_mrcnn_bbox_loss: 0.5572 - val_mrcnn_mask_loss: 0.5566\n"
          ],
          "name": "stdout"
        }
      ]
    },
    {
      "cell_type": "markdown",
      "metadata": {
        "id": "uxKzym-d8_Qo"
      },
      "source": [
        "### Evaluate model on few random images"
      ]
    },
    {
      "cell_type": "code",
      "metadata": {
        "id": "ZZconxSH8_Qo",
        "colab": {
          "base_uri": "https://localhost:8080/",
          "height": 35
        },
        "outputId": "ecf069c3-f760-45e6-ec8e-59aaeb9cea91"
      },
      "source": [
        "# select trained model \n",
        "dir_names = next(os.walk(model.model_dir))[1]\n",
        "key = config.NAME.lower()\n",
        "dir_names = filter(lambda f: f.startswith(key), dir_names)\n",
        "dir_names = sorted(dir_names)\n",
        "\n",
        "if not dir_names:\n",
        "    import errno\n",
        "    raise FileNotFoundError(\n",
        "        errno.ENOENT,\n",
        "        \"Could not find model directory under {}\".format(self.model_dir))\n",
        "    \n",
        "fps = []\n",
        "# Pick last directory\n",
        "for d in dir_names: \n",
        "    dir_name = os.path.join(model.model_dir, d)\n",
        "    # Find the last checkpoint\n",
        "    checkpoints = next(os.walk(dir_name))[2]\n",
        "    checkpoints = filter(lambda f: f.startswith(\"mask_rcnn\"), checkpoints)\n",
        "    checkpoints = sorted(checkpoints)\n",
        "    if not checkpoints:\n",
        "        print('No weight files in {}'.format(dir_name))\n",
        "    else: \n",
        "      \n",
        "      checkpoint = os.path.join(dir_name, checkpoints[-1])\n",
        "      fps.append(checkpoint)\n",
        "\n",
        "model_path = sorted(fps)[-1]\n",
        "print('Found model {}'.format(model_path))"
      ],
      "execution_count": null,
      "outputs": [
        {
          "output_type": "stream",
          "text": [
            "Found model /content/lesson3-data/logs/pneumonia20180827T1517/mask_rcnn_pneumonia_0001.h5\n"
          ],
          "name": "stdout"
        }
      ]
    },
    {
      "cell_type": "code",
      "metadata": {
        "id": "qRCfu7_O8_Qr",
        "colab": {
          "base_uri": "https://localhost:8080/",
          "height": 953
        },
        "outputId": "9dcc0230-e4a9-4b12-ceef-cf9e32f49d0c"
      },
      "source": [
        "class InferenceConfig(DetectorConfig):\n",
        "    GPU_COUNT = 1\n",
        "    IMAGES_PER_GPU = 1\n",
        "\n",
        "inference_config = InferenceConfig()\n",
        "inference_config.display()\n",
        "\n",
        "# Recreate the model in inference mode\n",
        "model = modellib.MaskRCNN(mode='inference', \n",
        "                          config=inference_config,\n",
        "                          model_dir=MODEL_DIR)\n",
        "\n",
        "# Load trained weights (fill in path to trained weights here)\n",
        "assert model_path != \"\", \"Provide path to trained weights\"\n",
        "print(\"Loading weights from \", model_path)\n",
        "model.load_weights(model_path, by_name=True)"
      ],
      "execution_count": null,
      "outputs": [
        {
          "output_type": "stream",
          "text": [
            "\n",
            "Configurations:\n",
            "BACKBONE                       resnet50\n",
            "BACKBONE_STRIDES               [4, 8, 16, 32, 64]\n",
            "BATCH_SIZE                     1\n",
            "BBOX_STD_DEV                   [0.1 0.1 0.2 0.2]\n",
            "COMPUTE_BACKBONE_SHAPE         None\n",
            "DETECTION_MAX_INSTANCES        3\n",
            "DETECTION_MIN_CONFIDENCE       0.9\n",
            "DETECTION_NMS_THRESHOLD        0.1\n",
            "FPN_CLASSIF_FC_LAYERS_SIZE     1024\n",
            "GPU_COUNT                      1\n",
            "GRADIENT_CLIP_NORM             5.0\n",
            "IMAGES_PER_GPU                 1\n",
            "IMAGE_MAX_DIM                  64\n",
            "IMAGE_META_SIZE                14\n",
            "IMAGE_MIN_DIM                  64\n",
            "IMAGE_MIN_SCALE                0\n",
            "IMAGE_RESIZE_MODE              square\n",
            "IMAGE_SHAPE                    [64 64  3]\n",
            "LEARNING_MOMENTUM              0.9\n",
            "LEARNING_RATE                  0.001\n",
            "LOSS_WEIGHTS                   {'rpn_class_loss': 1.0, 'rpn_bbox_loss': 1.0, 'mrcnn_class_loss': 1.0, 'mrcnn_bbox_loss': 1.0, 'mrcnn_mask_loss': 1.0}\n",
            "MASK_POOL_SIZE                 14\n",
            "MASK_SHAPE                     [28, 28]\n",
            "MAX_GT_INSTANCES               3\n",
            "MEAN_PIXEL                     [123.7 116.8 103.9]\n",
            "MINI_MASK_SHAPE                (56, 56)\n",
            "NAME                           pneumonia\n",
            "NUM_CLASSES                    2\n",
            "POOL_SIZE                      7\n",
            "POST_NMS_ROIS_INFERENCE        1000\n",
            "POST_NMS_ROIS_TRAINING         200\n",
            "ROI_POSITIVE_RATIO             0.33\n",
            "RPN_ANCHOR_RATIOS              [0.5, 1, 2]\n",
            "RPN_ANCHOR_SCALES              (32, 64)\n",
            "RPN_ANCHOR_STRIDE              1\n",
            "RPN_BBOX_STD_DEV               [0.1 0.1 0.2 0.2]\n",
            "RPN_NMS_THRESHOLD              0.7\n",
            "RPN_TRAIN_ANCHORS_PER_IMAGE    16\n",
            "STEPS_PER_EPOCH                100\n",
            "TOP_DOWN_PYRAMID_SIZE          32\n",
            "TRAIN_BN                       False\n",
            "TRAIN_ROIS_PER_IMAGE           16\n",
            "USE_MINI_MASK                  True\n",
            "USE_RPN_ROIS                   True\n",
            "VALIDATION_STEPS               50\n",
            "WEIGHT_DECAY                   0.0001\n",
            "\n",
            "\n",
            "Loading weights from  /content/lesson3-data/logs/pneumonia20180827T1517/mask_rcnn_pneumonia_0001.h5\n",
            "Re-starting from epoch 1\n"
          ],
          "name": "stdout"
        }
      ]
    },
    {
      "cell_type": "code",
      "metadata": {
        "id": "IdQYgrSv8_Qu"
      },
      "source": [
        "def show_randoms(dataset):\n",
        "    fig = plt.figure(figsize=(10,20))\n",
        "\n",
        "    num_imgs = 3 \n",
        "    for i in range(num_imgs):\n",
        "\n",
        "        image_id = random.choice(dataset.image_ids)\n",
        "        original_image, image_meta, gt_class_id, gt_bbox, gt_mask =\\\n",
        "            modellib.load_image_gt(dataset, inference_config, \n",
        "                                   image_id, use_mini_mask=False)\n",
        "     \n",
        "        plt.subplot(num_imgs, 2, 2*i + 1)\n",
        "        visualize.display_instances(original_image, gt_bbox, gt_mask, gt_class_id, \n",
        "                                    dataset.class_names,\n",
        "                                    colors=get_colors_for_class_ids(gt_class_id), ax=fig.axes[-1])\n",
        "        plt.title('Ground Truth')\n",
        "        \n",
        "        plt.subplot(num_imgs, 2, 2*i + 2)\n",
        "        \n",
        "        # turn off verbose if you don't want debug messages \n",
        "        results = model.detect([original_image],verbose=1)\n",
        "        r = results[0]\n",
        "        visualize.display_instances(original_image, r['rois'], r['masks'], r['class_ids'], \n",
        "                                    dataset.class_names, r['scores'], \n",
        "                                    colors=get_colors_for_class_ids(r['class_ids']), ax=fig.axes[-1])\n",
        "        plt.title('Prediction')"
      ],
      "execution_count": null,
      "outputs": []
    },
    {
      "cell_type": "code",
      "metadata": {
        "id": "5TBwjOQ48_Qw"
      },
      "source": [
        "def get_colors_for_class_ids(class_ids):\n",
        "    colors = []\n",
        "    for class_id in class_ids:\n",
        "        if class_id == 1:\n",
        "            colors.append((.941, .204, .204))\n",
        "    return colors"
      ],
      "execution_count": null,
      "outputs": []
    },
    {
      "cell_type": "code",
      "metadata": {
        "id": "j4_uHSt48_Qy",
        "colab": {
          "base_uri": "https://localhost:8080/",
          "height": 1516
        },
        "outputId": "32ee49c5-9caf-488d-d2e5-d1f0732552db"
      },
      "source": [
        "show_randoms(dataset_val)"
      ],
      "execution_count": null,
      "outputs": [
        {
          "output_type": "stream",
          "text": [
            "\n",
            "*** No instances to display *** \n",
            "\n",
            "Processing 1 images\n",
            "image                    shape: (64, 64, 3)           min:    6.00000  max:  242.00000  uint8\n",
            "molded_images            shape: (1, 64, 64, 3)        min: -117.70000  max:  138.10000  float64\n",
            "image_metas              shape: (1, 14)               min:    0.00000  max:   64.00000  int64\n",
            "anchors                  shape: (1, 960, 4)           min:   -0.71833  max:    1.59135  float32\n",
            "Processing 1 images\n",
            "image                    shape: (64, 64, 3)           min:    0.00000  max:  254.00000  uint8\n",
            "molded_images            shape: (1, 64, 64, 3)        min: -123.70000  max:  150.10000  float64\n",
            "image_metas              shape: (1, 14)               min:    0.00000  max:   64.00000  int64\n",
            "anchors                  shape: (1, 960, 4)           min:   -0.71833  max:    1.59135  float32\n",
            "\n",
            "*** No instances to display *** \n",
            "\n",
            "Processing 1 images\n",
            "image                    shape: (64, 64, 3)           min:    0.00000  max:  247.00000  uint8\n",
            "molded_images            shape: (1, 64, 64, 3)        min: -123.70000  max:  143.10000  float64\n",
            "image_metas              shape: (1, 14)               min:    0.00000  max:   64.00000  int64\n",
            "anchors                  shape: (1, 960, 4)           min:   -0.71833  max:    1.59135  float32\n",
            "\n",
            "*** No instances to display *** \n",
            "\n"
          ],
          "name": "stdout"
        },
        {
          "output_type": "display_data",
          "data": {
            "image/png": "[encoded data removed]",
            "text/plain": [
              "<matplotlib.figure.Figure at 0x7f0c69dc89e8>"
            ]
          },
          "metadata": {
            "tags": []
          }
        }
      ]
    }
  ]
}