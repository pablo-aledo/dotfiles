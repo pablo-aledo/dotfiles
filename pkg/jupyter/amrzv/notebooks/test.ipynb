{
  "nbformat": 4,
  "nbformat_minor": 0,
  "metadata": {
    "accelerator": "GPU",
    "colab": {
      "name": "test.ipynb",
      "provenance": [],
      "collapsed_sections": []
    },
    "kernelspec": {
      "display_name": "Python 3",
      "language": "python",
      "name": "python3"
    },
    "language_info": {
      "codemirror_mode": {
        "name": "ipython",
        "version": 3
      },
      "file_extension": ".py",
      "mimetype": "text/x-python",
      "name": "python",
      "nbconvert_exporter": "python",
      "pygments_lexer": "ipython3",
      "version": "3.6.6"
    }
  },
  "cells": [
    {
      "cell_type": "markdown",
      "metadata": {
        "id": "z1WtuizOlz-S"
      },
      "source": [
        "## Colab commands\n",
        "\n",
        "The following cells will download prerequisite for fewshot-face-translation-GAN."
      ]
    },
    {
      "cell_type": "code",
      "metadata": {
        "colab": {
          "base_uri": "https://localhost:8080/",
          "height": 134
        },
        "id": "iuSSeoFwlz-Y",
        "outputId": "25484580-40d4-4609-c349-780ded604f8f"
      },
      "source": [
        "!git clone --recursive https://github.com/shaoanlu/fewshot-face-translation-GAN.git"
      ],
      "execution_count": null,
      "outputs": [
        {
          "output_type": "stream",
          "text": [
            "Cloning into 'fewshot-face-translation-GAN'...\n",
            "remote: Enumerating objects: 780, done.\u001b[K\n",
            "remote: Counting objects:   0% (1/780)   \u001b[K\rremote: Counting objects:   1% (8/780)   \u001b[K\rremote: Counting objects:   2% (16/780)   \u001b[K\rremote: Counting objects:   3% (24/780)   \u001b[K\rremote: Counting objects:   4% (32/780)   \u001b[K\rremote: Counting objects:   5% (39/780)   \u001b[K\rremote: Counting objects:   6% (47/780)   \u001b[K\rremote: Counting objects:   7% (55/780)   \u001b[K\rremote: Counting objects:   8% (63/780)   \u001b[K\rremote: Counting objects:   9% (71/780)   \u001b[K\rremote: Counting objects:  10% (78/780)   \u001b[K\rremote: Counting objects:  11% (86/780)   \u001b[K\rremote: Counting objects:  12% (94/780)   \u001b[K\rremote: Counting objects:  13% (102/780)   \u001b[K\rremote: Counting objects:  14% (110/780)   \u001b[K\rremote: Counting objects:  15% (117/780)   \u001b[K\rremote: Counting objects:  16% (125/780)   \u001b[K\rremote: Counting objects:  17% (133/780)   \u001b[K\rremote: Counting objects:  18% (141/780)   \u001b[K\rremote: Counting objects:  19% (149/780)   \u001b[K\rremote: Counting objects:  20% (156/780)   \u001b[K\rremote: Counting objects:  21% (164/780)   \u001b[K\rremote: Counting objects:  22% (172/780)   \u001b[K\rremote: Counting objects:  23% (180/780)   \u001b[K\rremote: Counting objects:  24% (188/780)   \u001b[K\rremote: Counting objects:  25% (195/780)   \u001b[K\rremote: Counting objects:  26% (203/780)   \u001b[K\rremote: Counting objects:  27% (211/780)   \u001b[K\rremote: Counting objects:  28% (219/780)   \u001b[K\rremote: Counting objects:  29% (227/780)   \u001b[K\rremote: Counting objects:  30% (234/780)   \u001b[K\rremote: Counting objects:  31% (242/780)   \u001b[K\rremote: Counting objects:  32% (250/780)   \u001b[K\rremote: Counting objects:  33% (258/780)   \u001b[K\rremote: Counting objects:  34% (266/780)   \u001b[K\rremote: Counting objects:  35% (273/780)   \u001b[K\rremote: Counting objects:  36% (281/780)   \u001b[K\rremote: Counting objects:  37% (289/780)   \u001b[K\rremote: Counting objects:  38% (297/780)   \u001b[K\rremote: Counting objects:  39% (305/780)   \u001b[K\rremote: Counting objects:  40% (312/780)   \u001b[K\rremote: Counting objects:  41% (320/780)   \u001b[K\rremote: Counting objects:  42% (328/780)   \u001b[K\rremote: Counting objects:  43% (336/780)   \u001b[K\rremote: Counting objects:  44% (344/780)   \u001b[K\rremote: Counting objects:  45% (351/780)   \u001b[K\rremote: Counting objects:  46% (359/780)   \u001b[K\rremote: Counting objects:  47% (367/780)   \u001b[K\rremote: Counting objects:  48% (375/780)   \u001b[K\rremote: Counting objects:  49% (383/780)   \u001b[K\rremote: Counting objects:  50% (390/780)   \u001b[K\rremote: Counting objects:  51% (398/780)   \u001b[K\rremote: Counting objects:  52% (406/780)   \u001b[K\rremote: Counting objects:  53% (414/780)   \u001b[K\rremote: Counting objects:  54% (422/780)   \u001b[K\rremote: Counting objects:  55% (429/780)   \u001b[K\rremote: Counting objects:  56% (437/780)   \u001b[K\rremote: Counting objects:  57% (445/780)   \u001b[K\rremote: Counting objects:  58% (453/780)   \u001b[K\rremote: Counting objects:  59% (461/780)   \u001b[K\rremote: Counting objects:  60% (468/780)   \u001b[K\rremote: Counting objects:  61% (476/780)   \u001b[K\rremote: Counting objects:  62% (484/780)   \u001b[K\rremote: Counting objects:  63% (492/780)   \u001b[K\rremote: Counting objects:  64% (500/780)   \u001b[K\rremote: Counting objects:  65% (507/780)   \u001b[K\rremote: Counting objects:  66% (515/780)   \u001b[K\rremote: Counting objects:  67% (523/780)   \u001b[K\rremote: Counting objects:  68% (531/780)   \u001b[K\rremote: Counting objects:  69% (539/780)   \u001b[K\rremote: Counting objects:  70% (546/780)   \u001b[K\rremote: Counting objects:  71% (554/780)   \u001b[K\rremote: Counting objects:  72% (562/780)   \u001b[K\rremote: Counting objects:  73% (570/780)   \u001b[K\rremote: Counting objects:  74% (578/780)   \u001b[K\rremote: Counting objects:  75% (585/780)   \u001b[K\rremote: Counting objects:  76% (593/780)   \u001b[K\rremote: Counting objects:  77% (601/780)   \u001b[K\rremote: Counting objects:  78% (609/780)   \u001b[K\rremote: Counting objects:  79% (617/780)   \u001b[K\rremote: Counting objects:  80% (624/780)   \u001b[K\rremote: Counting objects:  81% (632/780)   \u001b[K\rremote: Counting objects:  82% (640/780)   \u001b[K\rremote: Counting objects:  83% (648/780)   \u001b[K\rremote: Counting objects:  84% (656/780)   \u001b[K\rremote: Counting objects:  85% (663/780)   \u001b[K\rremote: Counting objects:  86% (671/780)   \u001b[K\rremote: Counting objects:  87% (679/780)   \u001b[K\rremote: Counting objects:  88% (687/780)   \u001b[K\rremote: Counting objects:  89% (695/780)   \u001b[K\rremote: Counting objects:  90% (702/780)   \u001b[K\rremote: Counting objects:  91% (710/780)   \u001b[K\rremote: Counting objects:  92% (718/780)   \u001b[K\rremote: Counting objects:  93% (726/780)   \u001b[K\rremote: Counting objects:  94% (734/780)   \u001b[K\rremote: Counting objects:  95% (741/780)   \u001b[K\rremote: Counting objects:  96% (749/780)   \u001b[K\rremote: Counting objects:  97% (757/780)   \u001b[K\rremote: Counting objects:  98% (765/780)   \u001b[K\rremote: Counting objects:  99% (773/780)   \u001b[K\rremote: Counting objects: 100% (780/780)   \u001b[K\rremote: Counting objects: 100% (780/780), done.\u001b[K\n",
            "remote: Compressing objects:   0% (1/760)   \u001b[K\rremote: Compressing objects:   1% (8/760)   \u001b[K\rremote: Compressing objects:   2% (16/760)   \u001b[K\rremote: Compressing objects:   3% (23/760)   \u001b[K\rremote: Compressing objects:   4% (31/760)   \u001b[K\rremote: Compressing objects:   5% (38/760)   \u001b[K\rremote: Compressing objects:   6% (46/760)   \u001b[K\rremote: Compressing objects:   7% (54/760)   \u001b[K\rremote: Compressing objects:   8% (61/760)   \u001b[K\rremote: Compressing objects:   9% (69/760)   \u001b[K\rremote: Compressing objects:  10% (76/760)   \u001b[K\rremote: Compressing objects:  11% (84/760)   \u001b[K\rremote: Compressing objects:  12% (92/760)   \u001b[K\rremote: Compressing objects:  13% (99/760)   \u001b[K\rremote: Compressing objects:  14% (107/760)   \u001b[K\rremote: Compressing objects:  15% (114/760)   \u001b[K\rremote: Compressing objects:  16% (122/760)   \u001b[K\rremote: Compressing objects:  17% (130/760)   \u001b[K\rremote: Compressing objects:  18% (137/760)   \u001b[K\rremote: Compressing objects:  19% (145/760)   \u001b[K\rremote: Compressing objects:  20% (152/760)   \u001b[K\rremote: Compressing objects:  21% (160/760)   \u001b[K\rremote: Compressing objects:  22% (168/760)   \u001b[K\rremote: Compressing objects:  23% (175/760)   \u001b[K\rremote: Compressing objects:  24% (183/760)   \u001b[K\rremote: Compressing objects:  25% (190/760)   \u001b[K\rremote: Compressing objects:  26% (198/760)   \u001b[K\rremote: Compressing objects:  27% (206/760)   \u001b[K\rremote: Compressing objects:  28% (213/760)   \u001b[K\rremote: Compressing objects:  29% (221/760)   \u001b[K\rremote: Compressing objects:  30% (228/760)   \u001b[K\rremote: Compressing objects:  31% (236/760)   \u001b[K\rremote: Compressing objects:  32% (244/760)   \u001b[K\rremote: Compressing objects:  33% (251/760)   \u001b[K\rremote: Compressing objects:  34% (259/760)   \u001b[K\rremote: Compressing objects:  35% (266/760)   \u001b[K\rremote: Compressing objects:  36% (274/760)   \u001b[K\rremote: Compressing objects:  37% (282/760)   \u001b[K\rremote: Compressing objects:  38% (289/760)   \u001b[K\rremote: Compressing objects:  39% (297/760)   \u001b[K\rremote: Compressing objects:  40% (304/760)   \u001b[K\rremote: Compressing objects:  41% (312/760)   \u001b[K\rremote: Compressing objects:  42% (320/760)   \u001b[K\rremote: Compressing objects:  43% (327/760)   \u001b[K\rremote: Compressing objects:  44% (335/760)   \u001b[K\rremote: Compressing objects:  45% (342/760)   \u001b[K\rremote: Compressing objects:  46% (350/760)   \u001b[K\rremote: Compressing objects:  47% (358/760)   \u001b[K\rremote: Compressing objects:  48% (365/760)   \u001b[K\rremote: Compressing objects:  49% (373/760)   \u001b[K\rremote: Compressing objects:  50% (380/760)   \u001b[K\rremote: Compressing objects:  51% (388/760)   \u001b[K\rremote: Compressing objects:  52% (396/760)   \u001b[K\rremote: Compressing objects:  53% (403/760)   \u001b[K\rremote: Compressing objects:  54% (411/760)   \u001b[K\rremote: Compressing objects:  55% (418/760)   \u001b[K\rremote: Compressing objects:  56% (426/760)   \u001b[K\rremote: Compressing objects:  57% (434/760)   \u001b[K\rremote: Compressing objects:  58% (441/760)   \u001b[K\rremote: Compressing objects:  59% (449/760)   \u001b[K\rremote: Compressing objects:  60% (456/760)   \u001b[K\rremote: Compressing objects:  61% (464/760)   \u001b[K\rremote: Compressing objects:  62% (472/760)   \u001b[K\rremote: Compressing objects:  63% (479/760)   \u001b[K\rremote: Compressing objects:  64% (487/760)   \u001b[K\rremote: Compressing objects:  65% (494/760)   \u001b[K\rremote: Compressing objects:  66% (502/760)   \u001b[K\rremote: Compressing objects:  67% (510/760)   \u001b[K\rremote: Compressing objects:  68% (517/760)   \u001b[K\rremote: Compressing objects:  69% (525/760)   \u001b[K\rremote: Compressing objects:  70% (532/760)   \u001b[K\rremote: Compressing objects:  71% (540/760)   \u001b[K\rremote: Compressing objects:  72% (548/760)   \u001b[K\rremote: Compressing objects:  73% (555/760)   \u001b[K\rremote: Compressing objects:  74% (563/760)   \u001b[K\rremote: Compressing objects:  75% (570/760)   \u001b[K\rremote: Compressing objects:  76% (578/760)   \u001b[K\rremote: Compressing objects:  77% (586/760)   \u001b[K\rremote: Compressing objects:  78% (593/760)   \u001b[K\rremote: Compressing objects:  79% (601/760)   \u001b[K\rremote: Compressing objects:  80% (608/760)   \u001b[K\rremote: Compressing objects:  81% (616/760)   \u001b[K\rremote: Compressing objects:  82% (624/760)   \u001b[K\rremote: Compressing objects:  83% (631/760)   \u001b[K\rremote: Compressing objects:  84% (639/760)   \u001b[K\rremote: Compressing objects:  85% (646/760)   \u001b[K\rremote: Compressing objects:  86% (654/760)   \u001b[K\rremote: Compressing objects:  87% (662/760)   \u001b[K\rremote: Compressing objects:  88% (669/760)   \u001b[K\rremote: Compressing objects:  89% (677/760)   \u001b[K\rremote: Compressing objects:  90% (684/760)   \u001b[K\rremote: Compressing objects:  91% (692/760)   \u001b[K\rremote: Compressing objects:  92% (700/760)   \u001b[K\rremote: Compressing objects:  93% (707/760)   \u001b[K\rremote: Compressing objects:  94% (715/760)   \u001b[K\rremote: Compressing objects:  95% (722/760)   \u001b[K\rremote: Compressing objects:  96% (730/760)   \u001b[K\rremote: Compressing objects:  97% (738/760)   \u001b[K\rremote: Compressing objects:  98% (745/760)   \u001b[K\rremote: Compressing objects:  99% (753/760)   \u001b[K\rremote: Compressing objects: 100% (760/760)   \u001b[K\rremote: Compressing objects: 100% (760/760), done.\u001b[K\n",
            "Receiving objects:   0% (1/780)   \rReceiving objects:   1% (8/780)   \rReceiving objects:   2% (16/780)   \rReceiving objects:   3% (24/780)   \rReceiving objects:   4% (32/780)   \rReceiving objects:   5% (39/780)   \rReceiving objects:   6% (47/780)   \rReceiving objects:   7% (55/780)   \rReceiving objects:   8% (63/780)   \rReceiving objects:   9% (71/780)   \rReceiving objects:  10% (78/780)   \rReceiving objects:  11% (86/780)   \rReceiving objects:  12% (94/780)   \rReceiving objects:  13% (102/780)   \rReceiving objects:  14% (110/780)   \rReceiving objects:  15% (117/780)   \rReceiving objects:  16% (125/780)   \rReceiving objects:  17% (133/780)   \rReceiving objects:  18% (141/780)   \rReceiving objects:  19% (149/780)   \rReceiving objects:  20% (156/780)   \rReceiving objects:  21% (164/780)   \rReceiving objects:  22% (172/780)   \rReceiving objects:  23% (180/780)   \rReceiving objects:  24% (188/780)   \rReceiving objects:  25% (195/780)   \rReceiving objects:  26% (203/780)   \rReceiving objects:  27% (211/780)   \rReceiving objects:  28% (219/780)   \rReceiving objects:  29% (227/780)   \rReceiving objects:  30% (234/780)   \rReceiving objects:  31% (242/780)   \rReceiving objects:  32% (250/780)   \rReceiving objects:  33% (258/780)   \rReceiving objects:  34% (266/780)   \rReceiving objects:  35% (273/780)   \rReceiving objects:  36% (281/780)   \rReceiving objects:  37% (289/780)   \rReceiving objects:  38% (297/780)   \rReceiving objects:  39% (305/780)   \rReceiving objects:  40% (312/780)   \rReceiving objects:  41% (320/780)   \rReceiving objects:  42% (328/780)   \rReceiving objects:  43% (336/780)   \rReceiving objects:  44% (344/780)   \rReceiving objects:  45% (351/780)   \rReceiving objects:  46% (359/780)   \rReceiving objects:  47% (367/780)   \rReceiving objects:  48% (375/780)   \rReceiving objects:  49% (383/780)   \rReceiving objects:  50% (390/780)   \rReceiving objects:  51% (398/780)   \rReceiving objects:  52% (406/780)   \rReceiving objects:  53% (414/780)   \rReceiving objects:  54% (422/780)   \rReceiving objects:  55% (429/780)   \rReceiving objects:  56% (437/780)   \rReceiving objects:  57% (445/780)   \rReceiving objects:  58% (453/780)   \rReceiving objects:  59% (461/780)   \rReceiving objects:  60% (468/780)   \rReceiving objects:  61% (476/780)   \rReceiving objects:  62% (484/780)   \rReceiving objects:  63% (492/780)   \rReceiving objects:  64% (500/780)   \rReceiving objects:  65% (507/780)   \rReceiving objects:  66% (515/780)   \rReceiving objects:  67% (523/780)   \rReceiving objects:  68% (531/780)   \rReceiving objects:  69% (539/780), 8.54 MiB | 17.08 MiB/s   \rReceiving objects:  70% (546/780), 8.54 MiB | 17.08 MiB/s   \rReceiving objects:  71% (554/780), 8.54 MiB | 17.08 MiB/s   \rReceiving objects:  72% (562/780), 8.54 MiB | 17.08 MiB/s   \rReceiving objects:  73% (570/780), 8.54 MiB | 17.08 MiB/s   \rReceiving objects:  74% (578/780), 8.54 MiB | 17.08 MiB/s   \rReceiving objects:  75% (585/780), 8.54 MiB | 17.08 MiB/s   \rReceiving objects:  76% (593/780), 8.54 MiB | 17.08 MiB/s   \rReceiving objects:  77% (601/780), 8.54 MiB | 17.08 MiB/s   \rReceiving objects:  78% (609/780), 8.54 MiB | 17.08 MiB/s   \rReceiving objects:  79% (617/780), 8.54 MiB | 17.08 MiB/s   \rReceiving objects:  80% (624/780), 8.54 MiB | 17.08 MiB/s   \rReceiving objects:  81% (632/780), 8.54 MiB | 17.08 MiB/s   \rReceiving objects:  82% (640/780), 8.54 MiB | 17.08 MiB/s   \rReceiving objects:  83% (648/780), 8.54 MiB | 17.08 MiB/s   \rReceiving objects:  84% (656/780), 8.54 MiB | 17.08 MiB/s   \rReceiving objects:  85% (663/780), 8.54 MiB | 17.08 MiB/s   \rReceiving objects:  86% (671/780), 8.54 MiB | 17.08 MiB/s   \rReceiving objects:  87% (679/780), 8.54 MiB | 17.08 MiB/s   \rReceiving objects:  88% (687/780), 8.54 MiB | 17.08 MiB/s   \rReceiving objects:  89% (695/780), 8.54 MiB | 17.08 MiB/s   \rReceiving objects:  90% (702/780), 8.54 MiB | 17.08 MiB/s   \rReceiving objects:  91% (710/780), 8.54 MiB | 17.08 MiB/s   \rReceiving objects:  92% (718/780), 8.54 MiB | 17.08 MiB/s   \rReceiving objects:  93% (726/780), 8.54 MiB | 17.08 MiB/s   \rReceiving objects:  94% (734/780), 8.54 MiB | 17.08 MiB/s   \rReceiving objects:  95% (741/780), 8.54 MiB | 17.08 MiB/s   \rReceiving objects:  96% (749/780), 8.54 MiB | 17.08 MiB/s   \rReceiving objects:  97% (757/780), 8.54 MiB | 17.08 MiB/s   \rReceiving objects:  98% (765/780), 8.54 MiB | 17.08 MiB/s   \rReceiving objects:  99% (773/780), 8.54 MiB | 17.08 MiB/s   \rremote: Total 780 (delta 68), reused 682 (delta 14), pack-reused 0\u001b[K\n",
            "Receiving objects: 100% (780/780), 8.54 MiB | 17.08 MiB/s   \rReceiving objects: 100% (780/780), 12.27 MiB | 20.90 MiB/s, done.\n",
            "Resolving deltas:   0% (0/68)   \rResolving deltas:   2% (2/68)   \rResolving deltas:  17% (12/68)   \rResolving deltas:  55% (38/68)   \rResolving deltas:  83% (57/68)   \rResolving deltas:  89% (61/68)   \rResolving deltas:  92% (63/68)   \rResolving deltas:  94% (64/68)   \rResolving deltas:  95% (65/68)   \rResolving deltas:  97% (66/68)   \rResolving deltas: 100% (68/68)   \rResolving deltas: 100% (68/68), done.\n"
          ],
          "name": "stdout"
        }
      ]
    },
    {
      "cell_type": "code",
      "metadata": {
        "id": "9Smkd0WtoAnx"
      },
      "source": [
        "# There are import errors under keras == 2.2.5\n",
        "!pip install keras==2.2.4"
      ],
      "execution_count": null,
      "outputs": []
    },
    {
      "cell_type": "code",
      "metadata": {
        "colab": {
          "base_uri": "https://localhost:8080/",
          "height": 34
        },
        "id": "ugeuo-e9lz-r",
        "outputId": "1b36b916-0deb-4e79-eccb-ff1edb6b2ef1"
      },
      "source": [
        "%cd \"fewshot-face-translation-GAN\""
      ],
      "execution_count": null,
      "outputs": [
        {
          "output_type": "stream",
          "text": [
            "/content/fewshot-face-translation-GAN\n"
          ],
          "name": "stdout"
        }
      ]
    },
    {
      "cell_type": "code",
      "metadata": {
        "colab": {
          "base_uri": "https://localhost:8080/",
          "height": 151
        },
        "id": "qwFHol_plz_A",
        "outputId": "11992449-89fc-446b-91ed-e36e8689dfbf"
      },
      "source": [
        "# Download pre-trined weights\n",
        "!gdown https://drive.google.com/uc?id=1DUMmZGTGKMyEYSKy-w34IDHawVF24rIs\n",
        "!gdown https://drive.google.com/uc?id=1xl8cg7xaRnMsyiODcXguJ83d5hwodckB"
      ],
      "execution_count": null,
      "outputs": [
        {
          "output_type": "stream",
          "text": [
            "Downloading...\n",
            "From: https://drive.google.com/uc?id=1DUMmZGTGKMyEYSKy-w34IDHawVF24rIs\n",
            "To: /content/fewshot-face-translation-GAN/encoder.h5\n",
            "6.26MB [00:00, 54.5MB/s]\n",
            "Downloading...\n",
            "From: https://drive.google.com/uc?id=1xl8cg7xaRnMsyiODcXguJ83d5hwodckB\n",
            "To: /content/fewshot-face-translation-GAN/decoder.h5\n",
            "124MB [00:01, 93.5MB/s]\n"
          ],
          "name": "stdout"
        }
      ]
    },
    {
      "cell_type": "code",
      "metadata": {
        "id": "u9b2N8INnm8P"
      },
      "source": [
        "!mkdir weights\n",
        "!mv decoder.h5 weights/decoder.h5\n",
        "!mv encoder.h5 weights/encoder.h5"
      ],
      "execution_count": null,
      "outputs": []
    },
    {
      "cell_type": "code",
      "metadata": {
        "colab": {
          "base_uri": "https://localhost:8080/",
          "height": 34
        },
        "id": "QcdF2i9umQGk",
        "outputId": "acf77c98-a884-4362-9eff-7d373c93c825"
      },
      "source": [
        "!ls"
      ],
      "execution_count": null,
      "outputs": [
        {
          "output_type": "stream",
          "text": [
            "face_toolbox_keras  images  models.py  networks  README.md  utils  weights\n"
          ],
          "name": "stdout"
        }
      ]
    },
    {
      "cell_type": "markdown",
      "metadata": {
        "id": "htzgMCcYlz_G"
      },
      "source": [
        "## Load GAN model"
      ]
    },
    {
      "cell_type": "code",
      "metadata": {
        "id": "PDCd3QM_lz_J"
      },
      "source": [
        "import warnings\n",
        "warnings.filterwarnings(\"ignore\")"
      ],
      "execution_count": null,
      "outputs": []
    },
    {
      "cell_type": "code",
      "metadata": {
        "colab": {
          "base_uri": "https://localhost:8080/",
          "height": 34
        },
        "id": "SByaoidilz_O",
        "scrolled": true,
        "outputId": "2988f38c-f379-4d32-e31a-91611dd57f47"
      },
      "source": [
        "from models import FaceTranslationGANInferenceModel"
      ],
      "execution_count": null,
      "outputs": [
        {
          "output_type": "stream",
          "text": [
            "Using TensorFlow backend.\n"
          ],
          "name": "stderr"
        }
      ]
    },
    {
      "cell_type": "code",
      "metadata": {
        "colab": {
          "base_uri": "https://localhost:8080/",
          "height": 104
        },
        "id": "LRheogi-lz_U",
        "scrolled": false,
        "outputId": "09273d11-3524-44a9-c885-123f78bce1b9"
      },
      "source": [
        "model = FaceTranslationGANInferenceModel()"
      ],
      "execution_count": null,
      "outputs": [
        {
          "output_type": "stream",
          "text": [
            "WARNING:tensorflow:From /usr/local/lib/python3.6/dist-packages/tensorflow/python/framework/op_def_library.py:263: colocate_with (from tensorflow.python.framework.ops) is deprecated and will be removed in a future version.\n",
            "Instructions for updating:\n",
            "Colocations handled automatically by placer.\n",
            "Found checkpoints in weights folder. Built model with pre-trained weights.\n"
          ],
          "name": "stdout"
        }
      ]
    },
    {
      "cell_type": "markdown",
      "metadata": {
        "id": "SQTAATsjlz_r"
      },
      "source": [
        "## Load face-toolbox"
      ]
    },
    {
      "cell_type": "code",
      "metadata": {
        "colab": {
          "base_uri": "https://localhost:8080/",
          "height": 138
        },
        "id": "CpyAOeYXlz_w",
        "outputId": "00599722-e395-4595-cafe-f360d53731e9"
      },
      "source": [
        "from face_toolbox_keras.models.verifier.face_verifier import FaceVerifier\n",
        "fv = FaceVerifier(classes=512)\n",
        "\n",
        "from face_toolbox_keras.models.parser import face_parser\n",
        "fp = face_parser.FaceParser()\n",
        "\n",
        "from face_toolbox_keras.models.detector import face_detector\n",
        "fd = face_detector.FaceAlignmentDetector()\n",
        "\n",
        "from face_toolbox_keras.models.detector.iris_detector import IrisDetector\n",
        "idet = IrisDetector()\n",
        "#idet.set_detector(fd)"
      ],
      "execution_count": null,
      "outputs": [
        {
          "output_type": "stream",
          "text": [
            "WARNING:tensorflow:From /usr/local/lib/python3.6/dist-packages/keras/backend/tensorflow_backend.py:3445: calling dropout (from tensorflow.python.ops.nn_ops) with keep_prob is deprecated and will be removed in a future version.\n",
            "Instructions for updating:\n",
            "Please use `rate` instead of `keep_prob`. Rate should be set to `rate = 1 - keep_prob`.\n",
            "WARNING:tensorflow:From /usr/local/lib/python3.6/dist-packages/tensorflow/python/ops/image_ops_impl.py:1241: div (from tensorflow.python.ops.math_ops) is deprecated and will be removed in a future version.\n",
            "Instructions for updating:\n",
            "Deprecated in favor of operator or tf.math.divide.\n"
          ],
          "name": "stdout"
        }
      ]
    },
    {
      "cell_type": "markdown",
      "metadata": {
        "id": "s8rD90Ljlz_5"
      },
      "source": [
        "# Translate faces"
      ]
    },
    {
      "cell_type": "code",
      "metadata": {
        "id": "PoFePLoelz__"
      },
      "source": [
        "import numpy as np\n",
        "from utils import utils\n",
        "from matplotlib import pyplot as plt"
      ],
      "execution_count": null,
      "outputs": []
    },
    {
      "cell_type": "markdown",
      "metadata": {
        "id": "S_SxhKDyl0AH"
      },
      "source": [
        "### Set path to input images"
      ]
    },
    {
      "cell_type": "code",
      "metadata": {
        "id": "XJy8TIc3m0n_"
      },
      "source": [
        "from google.colab import files"
      ],
      "execution_count": null,
      "outputs": []
    },
    {
      "cell_type": "code",
      "metadata": {
        "colab": {
          "resources": {
            "http://localhost:8080/nbextensions/google.colab/files.js": {
              "data": "Ly8gQ29weXJpZ2h0IDIwMTcgR29vZ2xlIExMQwovLwovLyBMaWNlbnNlZCB1bmRlciB0aGUgQXBhY2hlIExpY2Vuc2UsIFZlcnNpb24gMi4wICh0aGUgIkxpY2Vuc2UiKTsKLy8geW91IG1heSBub3QgdXNlIHRoaXMgZmlsZSBleGNlcHQgaW4gY29tcGxpYW5jZSB3aXRoIHRoZSBMaWNlbnNlLgovLyBZb3UgbWF5IG9idGFpbiBhIGNvcHkgb2YgdGhlIExpY2Vuc2UgYXQKLy8KLy8gICAgICBodHRwOi8vd3d3LmFwYWNoZS5vcmcvbGljZW5zZXMvTElDRU5TRS0yLjAKLy8KLy8gVW5sZXNzIHJlcXVpcmVkIGJ5IGFwcGxpY2FibGUgbGF3IG9yIGFncmVlZCB0byBpbiB3cml0aW5nLCBzb2Z0d2FyZQovLyBkaXN0cmlidXRlZCB1bmRlciB0aGUgTGljZW5zZSBpcyBkaXN0cmlidXRlZCBvbiBhbiAiQVMgSVMiIEJBU0lTLAovLyBXSVRIT1VUIFdBUlJBTlRJRVMgT1IgQ09ORElUSU9OUyBPRiBBTlkgS0lORCwgZWl0aGVyIGV4cHJlc3Mgb3IgaW1wbGllZC4KLy8gU2VlIHRoZSBMaWNlbnNlIGZvciB0aGUgc3BlY2lmaWMgbGFuZ3VhZ2UgZ292ZXJuaW5nIHBlcm1pc3Npb25zIGFuZAovLyBsaW1pdGF0aW9ucyB1bmRlciB0aGUgTGljZW5zZS4KCi8qKgogKiBAZmlsZW92ZXJ2aWV3IEhlbHBlcnMgZm9yIGdvb2dsZS5jb2xhYiBQeXRob24gbW9kdWxlLgogKi8KKGZ1bmN0aW9uKHNjb3BlKSB7CmZ1bmN0aW9uIHNwYW4odGV4dCwgc3R5bGVBdHRyaWJ1dGVzID0ge30pIHsKICBjb25zdCBlbGVtZW50ID0gZG9jdW1lbnQuY3JlYXRlRWxlbWVudCgnc3BhbicpOwogIGVsZW1lbnQudGV4dENvbnRlbnQgPSB0ZXh0OwogIGZvciAoY29uc3Qga2V5IG9mIE9iamVjdC5rZXlzKHN0eWxlQXR0cmlidXRlcykpIHsKICAgIGVsZW1lbnQuc3R5bGVba2V5XSA9IHN0eWxlQXR0cmlidXRlc1trZXldOwogIH0KICByZXR1cm4gZWxlbWVudDsKfQoKLy8gTWF4IG51bWJlciBvZiBieXRlcyB3aGljaCB3aWxsIGJlIHVwbG9hZGVkIGF0IGEgdGltZS4KY29uc3QgTUFYX1BBWUxPQURfU0laRSA9IDEwMCAqIDEwMjQ7Ci8vIE1heCBhbW91bnQgb2YgdGltZSB0byBibG9jayB3YWl0aW5nIGZvciB0aGUgdXNlci4KY29uc3QgRklMRV9DSEFOR0VfVElNRU9VVF9NUyA9IDMwICogMTAwMDsKCmZ1bmN0aW9uIF91cGxvYWRGaWxlcyhpbnB1dElkLCBvdXRwdXRJZCkgewogIGNvbnN0IHN0ZXBzID0gdXBsb2FkRmlsZXNTdGVwKGlucHV0SWQsIG91dHB1dElkKTsKICBjb25zdCBvdXRwdXRFbGVtZW50ID0gZG9jdW1lbnQuZ2V0RWxlbWVudEJ5SWQob3V0cHV0SWQpOwogIC8vIENhY2hlIHN0ZXBzIG9uIHRoZSBvdXRwdXRFbGVtZW50IHRvIG1ha2UgaXQgYXZhaWxhYmxlIGZvciB0aGUgbmV4dCBjYWxsCiAgLy8gdG8gdXBsb2FkRmlsZXNDb250aW51ZSBmcm9tIFB5dGhvbi4KICBvdXRwdXRFbGVtZW50LnN0ZXBzID0gc3RlcHM7CgogIHJldHVybiBfdXBsb2FkRmlsZXNDb250aW51ZShvdXRwdXRJZCk7Cn0KCi8vIFRoaXMgaXMgcm91Z2hseSBhbiBhc3luYyBnZW5lcmF0b3IgKG5vdCBzdXBwb3J0ZWQgaW4gdGhlIGJyb3dzZXIgeWV0KSwKLy8gd2hlcmUgdGhlcmUgYXJlIG11bHRpcGxlIGFzeW5jaHJvbm91cyBzdGVwcyBhbmQgdGhlIFB5dGhvbiBzaWRlIGlzIGdvaW5nCi8vIHRvIHBvbGwgZm9yIGNvbXBsZXRpb24gb2YgZWFjaCBzdGVwLgovLyBUaGlzIHVzZXMgYSBQcm9taXNlIHRvIGJsb2NrIHRoZSBweXRob24gc2lkZSBvbiBjb21wbGV0aW9uIG9mIGVhY2ggc3RlcCwKLy8gdGhlbiBwYXNzZXMgdGhlIHJlc3VsdCBvZiB0aGUgcHJldmlvdXMgc3RlcCBhcyB0aGUgaW5wdXQgdG8gdGhlIG5leHQgc3RlcC4KZnVuY3Rpb24gX3VwbG9hZEZpbGVzQ29udGludWUob3V0cHV0SWQpIHsKICBjb25zdCBvdXRwdXRFbGVtZW50ID0gZG9jdW1lbnQuZ2V0RWxlbWVudEJ5SWQob3V0cHV0SWQpOwogIGNvbnN0IHN0ZXBzID0gb3V0cHV0RWxlbWVudC5zdGVwczsKCiAgY29uc3QgbmV4dCA9IHN0ZXBzLm5leHQob3V0cHV0RWxlbWVudC5sYXN0UHJvbWlzZVZhbHVlKTsKICByZXR1cm4gUHJvbWlzZS5yZXNvbHZlKG5leHQudmFsdWUucHJvbWlzZSkudGhlbigodmFsdWUpID0+IHsKICAgIC8vIENhY2hlIHRoZSBsYXN0IHByb21pc2UgdmFsdWUgdG8gbWFrZSBpdCBhdmFpbGFibGUgdG8gdGhlIG5leHQKICAgIC8vIHN0ZXAgb2YgdGhlIGdlbmVyYXRvci4KICAgIG91dHB1dEVsZW1lbnQubGFzdFByb21pc2VWYWx1ZSA9IHZhbHVlOwogICAgcmV0dXJuIG5leHQudmFsdWUucmVzcG9uc2U7CiAgfSk7Cn0KCi8qKgogKiBHZW5lcmF0b3IgZnVuY3Rpb24gd2hpY2ggaXMgY2FsbGVkIGJldHdlZW4gZWFjaCBhc3luYyBzdGVwIG9mIHRoZSB1cGxvYWQKICogcHJvY2Vzcy4KICogQHBhcmFtIHtzdHJpbmd9IGlucHV0SWQgRWxlbWVudCBJRCBvZiB0aGUgaW5wdXQgZmlsZSBwaWNrZXIgZWxlbWVudC4KICogQHBhcmFtIHtzdHJpbmd9IG91dHB1dElkIEVsZW1lbnQgSUQgb2YgdGhlIG91dHB1dCBkaXNwbGF5LgogKiBAcmV0dXJuIHshSXRlcmFibGU8IU9iamVjdD59IEl0ZXJhYmxlIG9mIG5leHQgc3RlcHMuCiAqLwpmdW5jdGlvbiogdXBsb2FkRmlsZXNTdGVwKGlucHV0SWQsIG91dHB1dElkKSB7CiAgY29uc3QgaW5wdXRFbGVtZW50ID0gZG9jdW1lbnQuZ2V0RWxlbWVudEJ5SWQoaW5wdXRJZCk7CiAgaW5wdXRFbGVtZW50LmRpc2FibGVkID0gZmFsc2U7CgogIGNvbnN0IG91dHB1dEVsZW1lbnQgPSBkb2N1bWVudC5nZXRFbGVtZW50QnlJZChvdXRwdXRJZCk7CiAgb3V0cHV0RWxlbWVudC5pbm5lckhUTUwgPSAnJzsKCiAgY29uc3QgcGlja2VkUHJvbWlzZSA9IG5ldyBQcm9taXNlKChyZXNvbHZlKSA9PiB7CiAgICBpbnB1dEVsZW1lbnQuYWRkRXZlbnRMaXN0ZW5lcignY2hhbmdlJywgKGUpID0+IHsKICAgICAgcmVzb2x2ZShlLnRhcmdldC5maWxlcyk7CiAgICB9KTsKICB9KTsKCiAgY29uc3QgY2FuY2VsID0gZG9jdW1lbnQuY3JlYXRlRWxlbWVudCgnYnV0dG9uJyk7CiAgaW5wdXRFbGVtZW50LnBhcmVudEVsZW1lbnQuYXBwZW5kQ2hpbGQoY2FuY2VsKTsKICBjYW5jZWwudGV4dENvbnRlbnQgPSAnQ2FuY2VsIHVwbG9hZCc7CiAgY29uc3QgY2FuY2VsUHJvbWlzZSA9IG5ldyBQcm9taXNlKChyZXNvbHZlKSA9PiB7CiAgICBjYW5jZWwub25jbGljayA9ICgpID0+IHsKICAgICAgcmVzb2x2ZShudWxsKTsKICAgIH07CiAgfSk7CgogIC8vIENhbmNlbCB1cGxvYWQgaWYgdXNlciBoYXNuJ3QgcGlja2VkIGFueXRoaW5nIGluIHRpbWVvdXQuCiAgY29uc3QgdGltZW91dFByb21pc2UgPSBuZXcgUHJvbWlzZSgocmVzb2x2ZSkgPT4gewogICAgc2V0VGltZW91dCgoKSA9PiB7CiAgICAgIHJlc29sdmUobnVsbCk7CiAgICB9LCBGSUxFX0NIQU5HRV9USU1FT1VUX01TKTsKICB9KTsKCiAgLy8gV2FpdCBmb3IgdGhlIHVzZXIgdG8gcGljayB0aGUgZmlsZXMuCiAgY29uc3QgZmlsZXMgPSB5aWVsZCB7CiAgICBwcm9taXNlOiBQcm9taXNlLnJhY2UoW3BpY2tlZFByb21pc2UsIHRpbWVvdXRQcm9taXNlLCBjYW5jZWxQcm9taXNlXSksCiAgICByZXNwb25zZTogewogICAgICBhY3Rpb246ICdzdGFydGluZycsCiAgICB9CiAgfTsKCiAgaWYgKCFmaWxlcykgewogICAgcmV0dXJuIHsKICAgICAgcmVzcG9uc2U6IHsKICAgICAgICBhY3Rpb246ICdjb21wbGV0ZScsCiAgICAgIH0KICAgIH07CiAgfQoKICBjYW5jZWwucmVtb3ZlKCk7CgogIC8vIERpc2FibGUgdGhlIGlucHV0IGVsZW1lbnQgc2luY2UgZnVydGhlciBwaWNrcyBhcmUgbm90IGFsbG93ZWQuCiAgaW5wdXRFbGVtZW50LmRpc2FibGVkID0gdHJ1ZTsKCiAgZm9yIChjb25zdCBmaWxlIG9mIGZpbGVzKSB7CiAgICBjb25zdCBsaSA9IGRvY3VtZW50LmNyZWF0ZUVsZW1lbnQoJ2xpJyk7CiAgICBsaS5hcHBlbmQoc3BhbihmaWxlLm5hbWUsIHtmb250V2VpZ2h0OiAnYm9sZCd9KSk7CiAgICBsaS5hcHBlbmQoc3BhbigKICAgICAgICBgKCR7ZmlsZS50eXBlIHx8ICduL2EnfSkgLSAke2ZpbGUuc2l6ZX0gYnl0ZXMsIGAgKwogICAgICAgIGBsYXN0IG1vZGlmaWVkOiAkewogICAgICAgICAgICBmaWxlLmxhc3RNb2RpZmllZERhdGUgPyBmaWxlLmxhc3RNb2RpZmllZERhdGUudG9Mb2NhbGVEYXRlU3RyaW5nKCkgOgogICAgICAgICAgICAgICAgICAgICAgICAgICAgICAgICAgICAnbi9hJ30gLSBgKSk7CiAgICBjb25zdCBwZXJjZW50ID0gc3BhbignMCUgZG9uZScpOwogICAgbGkuYXBwZW5kQ2hpbGQocGVyY2VudCk7CgogICAgb3V0cHV0RWxlbWVudC5hcHBlbmRDaGlsZChsaSk7CgogICAgY29uc3QgZmlsZURhdGFQcm9taXNlID0gbmV3IFByb21pc2UoKHJlc29sdmUpID0+IHsKICAgICAgY29uc3QgcmVhZGVyID0gbmV3IEZpbGVSZWFkZXIoKTsKICAgICAgcmVhZGVyLm9ubG9hZCA9IChlKSA9PiB7CiAgICAgICAgcmVzb2x2ZShlLnRhcmdldC5yZXN1bHQpOwogICAgICB9OwogICAgICByZWFkZXIucmVhZEFzQXJyYXlCdWZmZXIoZmlsZSk7CiAgICB9KTsKICAgIC8vIFdhaXQgZm9yIHRoZSBkYXRhIHRvIGJlIHJlYWR5LgogICAgbGV0IGZpbGVEYXRhID0geWllbGQgewogICAgICBwcm9taXNlOiBmaWxlRGF0YVByb21pc2UsCiAgICAgIHJlc3BvbnNlOiB7CiAgICAgICAgYWN0aW9uOiAnY29udGludWUnLAogICAgICB9CiAgICB9OwoKICAgIC8vIFVzZSBhIGNodW5rZWQgc2VuZGluZyB0byBhdm9pZCBtZXNzYWdlIHNpemUgbGltaXRzLiBTZWUgYi82MjExNTY2MC4KICAgIGxldCBwb3NpdGlvbiA9IDA7CiAgICB3aGlsZSAocG9zaXRpb24gPCBmaWxlRGF0YS5ieXRlTGVuZ3RoKSB7CiAgICAgIGNvbnN0IGxlbmd0aCA9IE1hdGgubWluKGZpbGVEYXRhLmJ5dGVMZW5ndGggLSBwb3NpdGlvbiwgTUFYX1BBWUxPQURfU0laRSk7CiAgICAgIGNvbnN0IGNodW5rID0gbmV3IFVpbnQ4QXJyYXkoZmlsZURhdGEsIHBvc2l0aW9uLCBsZW5ndGgpOwogICAgICBwb3NpdGlvbiArPSBsZW5ndGg7CgogICAgICBjb25zdCBiYXNlNjQgPSBidG9hKFN0cmluZy5mcm9tQ2hhckNvZGUuYXBwbHkobnVsbCwgY2h1bmspKTsKICAgICAgeWllbGQgewogICAgICAgIHJlc3BvbnNlOiB7CiAgICAgICAgICBhY3Rpb246ICdhcHBlbmQnLAogICAgICAgICAgZmlsZTogZmlsZS5uYW1lLAogICAgICAgICAgZGF0YTogYmFzZTY0LAogICAgICAgIH0sCiAgICAgIH07CiAgICAgIHBlcmNlbnQudGV4dENvbnRlbnQgPQogICAgICAgICAgYCR7TWF0aC5yb3VuZCgocG9zaXRpb24gLyBmaWxlRGF0YS5ieXRlTGVuZ3RoKSAqIDEwMCl9JSBkb25lYDsKICAgIH0KICB9CgogIC8vIEFsbCBkb25lLgogIHlpZWxkIHsKICAgIHJlc3BvbnNlOiB7CiAgICAgIGFjdGlvbjogJ2NvbXBsZXRlJywKICAgIH0KICB9Owp9CgpzY29wZS5nb29nbGUgPSBzY29wZS5nb29nbGUgfHwge307CnNjb3BlLmdvb2dsZS5jb2xhYiA9IHNjb3BlLmdvb2dsZS5jb2xhYiB8fCB7fTsKc2NvcGUuZ29vZ2xlLmNvbGFiLl9maWxlcyA9IHsKICBfdXBsb2FkRmlsZXMsCiAgX3VwbG9hZEZpbGVzQ29udGludWUsCn07Cn0pKHNlbGYpOwo=",
              "headers": [
                [
                  "content-type",
                  "application/javascript"
                ]
              ],
              "ok": true,
              "status": 200,
              "status_text": ""
            }
          },
          "base_uri": "https://localhost:8080/",
          "height": 74
        },
        "id": "oduY1uoSl0AI",
        "outputId": "18b0c4a9-ff72-488c-dd2a-ebcb456c44d8"
      },
      "source": [
        "# Upload a source face image.\n",
        "# There should be only one source face image.\n",
        "fn_src = files.upload()"
      ],
      "execution_count": null,
      "outputs": [
        {
          "output_type": "display_data",
          "data": {
            "text/html": [
              "\n",
              "     <input type=\"file\" id=\"files-aff60e4f-c22d-4050-ab3d-ad526cc9a885\" name=\"files[]\" multiple disabled />\n",
              "     <output id=\"result-aff60e4f-c22d-4050-ab3d-ad526cc9a885\">\n",
              "      Upload widget is only available when the cell has been executed in the\n",
              "      current browser session. Please rerun this cell to enable.\n",
              "      </output>\n",
              "      <script src=\"/nbextensions/google.colab/files.js\"></script> "
            ],
            "text/plain": [
              "<IPython.core.display.HTML object>"
            ]
          },
          "metadata": {
            "tags": []
          }
        },
        {
          "output_type": "stream",
          "text": [
            "Saving test02.jpg to test02.jpg\n"
          ],
          "name": "stdout"
        }
      ]
    },
    {
      "cell_type": "code",
      "metadata": {
        "colab": {
          "resources": {
            "http://localhost:8080/nbextensions/google.colab/files.js": {
              "data": "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",
              "headers": [
                [
                  "content-type",
                  "application/javascript"
                ]
              ],
              "ok": true,
              "status": 200,
              "status_text": ""
            }
          },
          "base_uri": "https://localhost:8080/",
          "height": 175
        },
        "id": "GAw05ir2l0AN",
        "outputId": "72ef8b77-f793-4c65-b255-3bcc1e93a0c7"
      },
      "source": [
        "# Upload target face images.\n",
        "# Number of target face images is not restricted as long as they belong to the same identity.\n",
        "fns_tar = files.upload()"
      ],
      "execution_count": null,
      "outputs": [
        {
          "output_type": "display_data",
          "data": {
            "text/html": [
              "\n",
              "     <input type=\"file\" id=\"files-674711dc-3794-4c47-a516-9c8e4d161787\" name=\"files[]\" multiple disabled />\n",
              "     <output id=\"result-674711dc-3794-4c47-a516-9c8e4d161787\">\n",
              "      Upload widget is only available when the cell has been executed in the\n",
              "      current browser session. Please rerun this cell to enable.\n",
              "      </output>\n",
              "      <script src=\"/nbextensions/google.colab/files.js\"></script> "
            ],
            "text/plain": [
              "<IPython.core.display.HTML object>"
            ]
          },
          "metadata": {
            "tags": []
          }
        },
        {
          "output_type": "stream",
          "text": [
            "Saving test01.jpg to test01.jpg\n",
            "Saving test03.jpg to test03.jpg\n",
            "Saving test04.jpg to test04.jpg\n",
            "Saving test05.jpg to test05.jpg\n"
          ],
          "name": "stdout"
        }
      ]
    },
    {
      "cell_type": "code",
      "metadata": {
        "id": "2gvoYSeCoghg"
      },
      "source": [
        "fn_src = [k for k,v in fn_src.items()]\n",
        "if len(fn_src) >= 1:\n",
        "    fn_src = fn_src[0]\n",
        "\n",
        "fns_tar = [k for k,v in fns_tar.items()]\n",
        "\n",
        "print(fn_src)\n",
        "print(fns_tar)"
      ],
      "execution_count": null,
      "outputs": []
    },
    {
      "cell_type": "code",
      "metadata": {
        "id": "upmZGZ8eoAn8"
      },
      "source": [
        "# We can also manually assign filenmes\n",
        "#fn_src = \"test02.jpg\"\n",
        "#fns_tar = [\"test01.jpg\", \"test03.jpg\", \"test04.jpg\", \"test05.jpg\"]"
      ],
      "execution_count": null,
      "outputs": []
    },
    {
      "cell_type": "markdown",
      "metadata": {
        "id": "drpzzGCgl0AW"
      },
      "source": [
        "### Inferece\n",
        "\n",
        "It requires additional time to load models for the first infernce."
      ]
    },
    {
      "cell_type": "code",
      "metadata": {
        "colab": {
          "base_uri": "https://localhost:8080/",
          "height": 67
        },
        "id": "OGaNnRHkl0AX",
        "outputId": "c8bcf4ff-6b9e-4b08-fd41-f38708bcbe41"
      },
      "source": [
        "src, mask, aligned_im, (x0, y0, x1, y1), landmarks = utils.get_src_inputs(fn_src, fd, fp, idet)\n",
        "tar, emb_tar = utils.get_tar_inputs(fns_tar, fd, fv)"
      ],
      "execution_count": null,
      "outputs": [
        {
          "output_type": "stream",
          "text": [
            "Building FAN for landmarks detection...\n",
            "WARNING:tensorflow:No training configuration found in save file: the model was *not* compiled. Compile it manually.\n",
            "Done.\n"
          ],
          "name": "stdout"
        }
      ]
    },
    {
      "cell_type": "code",
      "metadata": {
        "id": "qeleIZzwl0Ag"
      },
      "source": [
        "out = model.inference(src, mask, tar, emb_tar)"
      ],
      "execution_count": null,
      "outputs": []
    },
    {
      "cell_type": "markdown",
      "metadata": {
        "id": "HqTEOcqxl0Ak"
      },
      "source": [
        "### Visualize results\n",
        "\n",
        "Images are resized to having maximum side length of 768."
      ]
    },
    {
      "cell_type": "code",
      "metadata": {
        "id": "iWHvGJLgoAoD"
      },
      "source": [
        "plt.figure()\n",
        "plt.subplot(1,2,1)\n",
        "plt.imshow(src)\n",
        "plt.subplot(1,2,2)\n",
        "plt.imshow(tar)"
      ],
      "execution_count": null,
      "outputs": []
    },
    {
      "cell_type": "code",
      "metadata": {
        "id": "Lf9fhbzvoAoE"
      },
      "source": [
        "result_face = np.squeeze(((out[0] + 1) * 255 / 2).astype(np.uint8))\n",
        "plt.imshow(result_face)"
      ],
      "execution_count": null,
      "outputs": []
    },
    {
      "cell_type": "code",
      "metadata": {
        "id": "70CnD2SZoAoE"
      },
      "source": [
        "result_img = utils.post_process_result(fn_src, fd, result_face, aligned_im, src, x0, y0, x1, y1, landmarks)\n",
        "plt.imshow(result_img)"
      ],
      "execution_count": null,
      "outputs": []
    },
    {
      "cell_type": "code",
      "metadata": {
        "id": "_Do9x9wZl0BK"
      },
      "source": [
        ""
      ],
      "execution_count": null,
      "outputs": []
    }
  ]
}