{
  "nbformat": 4,
  "nbformat_minor": 0,
  "metadata": {
    "colab": {
      "name": "Awesome-AI-Index.ipynb",
      "provenance": []
    },
    "kernelspec": {
      "name": "python3",
      "display_name": "Python 3"
    }
  },
  "cells": [
    {
      "cell_type": "markdown",
      "metadata": {
        "id": "g9ORavHERsEc",
        "colab_type": "text"
      },
      "source": [
        "![image](https://raw.githubusercontent.com/toxtli/awesome-machine-learning-jupyter-notebooks-for-colab/master/awesome.png)"
      ]
    },
    {
      "cell_type": "markdown",
      "metadata": {
        "id": "O9dZMJj4RvVy",
        "colab_type": "text"
      },
      "source": [
        "A curated list of Robotic Process Automation ( RPA ) Jupyter Notebooks for Google Colaboratory\n",
        "\n",
        "Link: https://github.com/toxtli/awesome-robotic-process-automation"
      ]
    }
  ]
}