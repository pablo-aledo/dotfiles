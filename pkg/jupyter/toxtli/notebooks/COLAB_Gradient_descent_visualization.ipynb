{
  "nbformat": 4,
  "nbformat_minor": 0,
  "metadata": {
    "kernelspec": {
      "display_name": "Python 3",
      "language": "python",
      "name": "python3"
    },
    "language_info": {
      "codemirror_mode": {
        "name": "ipython",
        "version": 3
      },
      "file_extension": ".py",
      "mimetype": "text/x-python",
      "name": "python",
      "nbconvert_exporter": "python",
      "pygments_lexer": "ipython3",
      "version": "3.5.2"
    },
    "colab": {
      "name": "COLAB - Gradient descent visualization.ipynb",
      "provenance": [],
      "collapsed_sections": []
    }
  },
  "cells": [
    {
      "cell_type": "markdown",
      "metadata": {
        "id": "mklabQ-YpIOT"
      },
      "source": [
        "Adapted by Carlos Toxtli https://www.carlostoxtli.com/#colab-mlgrad-2\n",
        "\n",
        "Source: https://github.com/SkalskiP/ILearnDeepLearning.py/blob/master/01_mysteries_of_neural_networks/01_mathematics_of_nn/Gradient%20descent%20visualization.ipynb"
      ]
    },
    {
      "cell_type": "markdown",
      "metadata": {
        "id": "oxW9ngsipE2G"
      },
      "source": [
        "# Gradient descent visualization\n",
        "---"
      ]
    },
    {
      "cell_type": "markdown",
      "metadata": {
        "id": "s8wXB2eTpE2I"
      },
      "source": [
        "***Author: Piotr Skalski***\n",
        "\n",
        "This notebook accompanies the article: <a href=\"https://towardsdatascience.com/https-medium-com-piotr-skalski92-deep-dive-into-deep-networks-math-17660bc376ba\">Deep Dive into Math Behind Deep Networks</a>. The visualization that is created using this notebook serves to create an intuition about the gradient descent. Great thanks to MorvanZhou for the inspiration that I found <a href=\"https://github.com/MorvanZhou/Tensorflow-Tutorial/blob/master/tutorial-contents/503_visualize_gradient_descent.py\">here</a>."
      ]
    },
    {
      "cell_type": "markdown",
      "metadata": {
        "id": "MBHXmuj-pE2J"
      },
      "source": [
        "### Imports"
      ]
    },
    {
      "cell_type": "code",
      "metadata": {
        "id": "NKOua02JpE2K"
      },
      "source": [
        "import tensorflow as tf\n",
        "import numpy as np\n",
        "import matplotlib.pyplot as plt\n",
        "from mpl_toolkits.mplot3d import Axes3D"
      ],
      "execution_count": null,
      "outputs": []
    },
    {
      "cell_type": "markdown",
      "metadata": {
        "id": "H7BzHxE_pE2M"
      },
      "source": [
        "### Settings"
      ]
    },
    {
      "cell_type": "code",
      "metadata": {
        "id": "ideb-gEipE2N"
      },
      "source": [
        "# learning rate\n",
        "LR = 0.04\n",
        "# parameters a and b of the real function\n",
        "REAL_PARAMS = [1.2, 2.5]\n",
        "# starting point for gradient descent\n",
        "INIT_PARAMS = [-1, -1.5]\n",
        "# output directory (the folder must be created on the drive)\n",
        "OUTPUT_DIR = \"gradient_descent\""
      ],
      "execution_count": null,
      "outputs": []
    },
    {
      "cell_type": "markdown",
      "metadata": {
        "id": "wO5waKuFpE2Q"
      },
      "source": [
        "### Auxiliary function"
      ]
    },
    {
      "cell_type": "code",
      "metadata": {
        "id": "27xQxWL2pE2R"
      },
      "source": [
        "# precede the number with zeros, creating a thong of a certain length\n",
        "def makeIndexOfLength(index, length):\n",
        "    indexStr = str(index)\n",
        "    return ('0' * (length - len(indexStr)) + indexStr)"
      ],
      "execution_count": null,
      "outputs": []
    },
    {
      "cell_type": "markdown",
      "metadata": {
        "id": "LqNZ2MnvpE2T"
      },
      "source": [
        "### Performing the simulation"
      ]
    },
    {
      "cell_type": "code",
      "metadata": {
        "id": "683Mrj1HpE2T"
      },
      "source": [
        "x = np.linspace(-1, 1, 200, dtype=np.float32)\n",
        "\n",
        "y_fun = lambda a, b: np.sin(b*np.cos(a*x))\n",
        "tf_y_fun = lambda a, b: tf.sin(b*tf.cos(a*x))\n",
        "\n",
        "noise = np.random.randn(200)/10\n",
        "y = y_fun(*REAL_PARAMS) + noise\n",
        "\n",
        "# tensorflow graph\n",
        "a, b = [tf.Variable(initial_value=p, dtype=tf.float32) for p in INIT_PARAMS]\n",
        "pred = tf_y_fun(a, b)\n",
        "mse = tf.reduce_mean(tf.square(y-pred))\n",
        "train_op = tf.train.GradientDescentOptimizer(LR).minimize(mse)\n",
        "\n",
        "a_list, b_list, cost_list = [], [], []\n",
        "with tf.Session() as sess:\n",
        "    sess.run(tf.global_variables_initializer())\n",
        "    for t in range(180):\n",
        "        a_, b_, mse_ = sess.run([a, b, mse])\n",
        "        a_list.append(a_); b_list.append(b_); cost_list.append(mse_)\n",
        "        result, _ = sess.run([pred, train_op])                          "
      ],
      "execution_count": null,
      "outputs": []
    },
    {
      "cell_type": "markdown",
      "metadata": {
        "id": "le_njhhbpE2V"
      },
      "source": [
        "###  Creates visualization"
      ]
    },
    {
      "cell_type": "code",
      "metadata": {
        "id": "_xL0ho95pE2W"
      },
      "source": [
        "# 3D cost figure\n",
        "for angle in range(0, 180):\n",
        "    plt.style.use('dark_background')\n",
        "    fig = plt.figure(figsize=(8,8))\n",
        "    ax = Axes3D(fig)\n",
        "    a3D, b3D = np.meshgrid(np.linspace(-5, 5, 100), np.linspace(-5, 5, 100))  # parameter space\n",
        "    cost3D = np.array([np.mean(np.square(y_fun(a_, b_) - y)) for a_, b_ in zip(a3D.flatten(), b3D.flatten())]).reshape(a3D.shape)\n",
        "    ax.plot_surface(a3D, b3D, cost3D, rstride=1, cstride=1, cmap=plt.get_cmap('rainbow'), alpha=0.6)\n",
        "    ax.scatter(a_list[0], b_list[0], zs=cost_list[0], s=300, c='r')  # initial parameter place\n",
        "    ax.set_xlabel('a'); ax.set_ylabel('b')\n",
        "    ax.plot(a_list[:angle], b_list[:angle], zs=cost_list[:angle], zdir='z', c='r', lw=3)    # plot 3D gradient descent\n",
        "    ax.view_init(30 + (90 - angle)/5, 45 + angle*2)\n",
        "    plt.savefig(\"./\" + OUTPUT_DIR + \"/\" + makeIndexOfLength(angle, 3) + \".png\")\n",
        "    plt.close()"
      ],
      "execution_count": null,
      "outputs": []
    },
    {
      "cell_type": "markdown",
      "metadata": {
        "id": "1dTaMVpPpE2Z"
      },
      "source": [
        "### Expected results"
      ]
    },
    {
      "cell_type": "markdown",
      "metadata": {
        "id": "vQELKZKkpE2a"
      },
      "source": [
        "Go to OUTPUT_DIR, which should now be filled with subsequent keyframes of our animation. All the resulting images look more or less like this."
      ]
    },
    {
      "cell_type": "markdown",
      "metadata": {
        "id": "kzEmLrFNpE2b"
      },
      "source": [
        "<img src=\"https://github.com/SkalskiP/ILearnDeepLearning.py/blob/master/01_mysteries_of_neural_networks/01_mathematics_of_nn/final_visualisations/frames.png?raw=1\" alt=\"All frames\">"
      ]
    },
    {
      "cell_type": "markdown",
      "metadata": {
        "id": "IK96pTYzpE2b"
      },
      "source": [
        "Now all you need to do is enter OUTPUT_DIR and use ImageMagick to create a final gift with one command.\n",
        "\n",
        "```bash\n",
        "convert -delay 10 -loop 0 *.png keras_class_boundaries.gif\n",
        "```"
      ]
    },
    {
      "cell_type": "markdown",
      "metadata": {
        "id": "TGo-qexQpE2c"
      },
      "source": [
        "<img src=\"https://github.com/SkalskiP/ILearnDeepLearning.py/blob/master/01_mysteries_of_neural_networks/01_mathematics_of_nn/final_visualisations/gradient_descent.gif?raw=1\" alt=\"Gradient descent\">"
      ]
    },
    {
      "cell_type": "markdown",
      "metadata": {
        "id": "rGN2vUXCpE2d"
      },
      "source": [
        "## Thank you\n",
        "---"
      ]
    }
  ]
}