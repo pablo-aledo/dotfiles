{
  "nbformat": 4,
  "nbformat_minor": 0,
  "metadata": {
    "anaconda-cloud": {},
    "kernelspec": {
      "display_name": "Python [conda env:keras27]",
      "language": "python",
      "name": "conda-env-keras27-py"
    },
    "language_info": {
      "codemirror_mode": {
        "name": "ipython",
        "version": 2
      },
      "file_extension": ".py",
      "mimetype": "text/x-python",
      "name": "python",
      "nbconvert_exporter": "python",
      "pygments_lexer": "ipython2",
      "version": "2.7.13"
    },
    "colab": {
      "name": "COLAB - Accelerating Deep Learning with Multiprocess Image Augmentation in Keras.ipynb",
      "provenance": [],
      "collapsed_sections": [
        "ssZ1htq-kh-J",
        "io6uIrqokh-f",
        "EdGdCuFskh_W"
      ],
      "toc_visible": true
    }
  },
  "cells": [
    {
      "cell_type": "markdown",
      "metadata": {
        "id": "ygxumuOImrgC"
      },
      "source": [
        "Adapted by Carlos Toxtli https://www.carlostoxtli.com/#colab-datag-3\n",
        "\n",
        "Source: https://github.com/stratospark/keras-multiprocess-image-data-generator"
      ]
    },
    {
      "cell_type": "code",
      "metadata": {
        "id": "yn1bljKcmW3n",
        "colab": {
          "base_uri": "https://localhost:8080/",
          "height": 292
        },
        "outputId": "91ba80db-f304-42ef-c8c8-7086a8c2af11"
      },
      "source": [
        "!pip install keras==2.2.4"
      ],
      "execution_count": null,
      "outputs": [
        {
          "output_type": "stream",
          "text": [
            "Collecting keras==2.2.4\n",
            "\u001b[?25l  Downloading https://files.pythonhosted.org/packages/5e/10/aa32dad071ce52b5502266b5c659451cfd6ffcbf14e6c8c4f16c0ff5aaab/Keras-2.2.4-py2.py3-none-any.whl (312kB)\n",
            "\r\u001b[K     |█                               | 10kB 16.4MB/s eta 0:00:01\r\u001b[K     |██                              | 20kB 6.7MB/s eta 0:00:01\r\u001b[K     |███▏                            | 30kB 9.5MB/s eta 0:00:01\r\u001b[K     |████▏                           | 40kB 6.0MB/s eta 0:00:01\r\u001b[K     |█████▎                          | 51kB 7.3MB/s eta 0:00:01\r\u001b[K     |██████▎                         | 61kB 8.6MB/s eta 0:00:01\r\u001b[K     |███████▍                        | 71kB 9.6MB/s eta 0:00:01\r\u001b[K     |████████▍                       | 81kB 10.7MB/s eta 0:00:01\r\u001b[K     |█████████▍                      | 92kB 11.8MB/s eta 0:00:01\r\u001b[K     |██████████▌                     | 102kB 9.1MB/s eta 0:00:01\r\u001b[K     |███████████▌                    | 112kB 9.1MB/s eta 0:00:01\r\u001b[K     |████████████▋                   | 122kB 9.1MB/s eta 0:00:01\r\u001b[K     |█████████████▋                  | 133kB 9.1MB/s eta 0:00:01\r\u001b[K     |██████████████▊                 | 143kB 9.1MB/s eta 0:00:01\r\u001b[K     |███████████████▊                | 153kB 9.1MB/s eta 0:00:01\r\u001b[K     |████████████████▊               | 163kB 9.1MB/s eta 0:00:01\r\u001b[K     |█████████████████▉              | 174kB 9.1MB/s eta 0:00:01\r\u001b[K     |██████████████████▉             | 184kB 9.1MB/s eta 0:00:01\r\u001b[K     |████████████████████            | 194kB 9.1MB/s eta 0:00:01\r\u001b[K     |█████████████████████           | 204kB 9.1MB/s eta 0:00:01\r\u001b[K     |██████████████████████          | 215kB 9.1MB/s eta 0:00:01\r\u001b[K     |███████████████████████         | 225kB 9.1MB/s eta 0:00:01\r\u001b[K     |████████████████████████▏       | 235kB 9.1MB/s eta 0:00:01\r\u001b[K     |█████████████████████████▏      | 245kB 9.1MB/s eta 0:00:01\r\u001b[K     |██████████████████████████▏     | 256kB 9.1MB/s eta 0:00:01\r\u001b[K     |███████████████████████████▎    | 266kB 9.1MB/s eta 0:00:01\r\u001b[K     |████████████████████████████▎   | 276kB 9.1MB/s eta 0:00:01\r\u001b[K     |█████████████████████████████▍  | 286kB 9.1MB/s eta 0:00:01\r\u001b[K     |██████████████████████████████▍ | 296kB 9.1MB/s eta 0:00:01\r\u001b[K     |███████████████████████████████▌| 307kB 9.1MB/s eta 0:00:01\r\u001b[K     |████████████████████████████████| 317kB 9.1MB/s \n",
            "\u001b[?25hRequirement already satisfied: keras-preprocessing>=1.0.5 in /usr/local/lib/python3.6/dist-packages (from keras==2.2.4) (1.1.0)\n",
            "Requirement already satisfied: scipy>=0.14 in /usr/local/lib/python3.6/dist-packages (from keras==2.2.4) (1.3.1)\n",
            "Requirement already satisfied: six>=1.9.0 in /usr/local/lib/python3.6/dist-packages (from keras==2.2.4) (1.12.0)\n",
            "Requirement already satisfied: keras-applications>=1.0.6 in /usr/local/lib/python3.6/dist-packages (from keras==2.2.4) (1.0.8)\n",
            "Requirement already satisfied: h5py in /usr/local/lib/python3.6/dist-packages (from keras==2.2.4) (2.8.0)\n",
            "Requirement already satisfied: numpy>=1.9.1 in /usr/local/lib/python3.6/dist-packages (from keras==2.2.4) (1.16.5)\n",
            "Requirement already satisfied: pyyaml in /usr/local/lib/python3.6/dist-packages (from keras==2.2.4) (3.13)\n",
            "Installing collected packages: keras\n",
            "  Found existing installation: Keras 2.2.5\n",
            "    Uninstalling Keras-2.2.5:\n",
            "      Successfully uninstalled Keras-2.2.5\n",
            "Successfully installed keras-2.2.4\n"
          ],
          "name": "stdout"
        }
      ]
    },
    {
      "cell_type": "code",
      "metadata": {
        "id": "NF_C0-E7kxef",
        "colab": {
          "base_uri": "https://localhost:8080/",
          "height": 102
        },
        "outputId": "1d76e12e-a4e7-404e-815f-c2d6fd2817c4"
      },
      "source": [
        "!git clone https://github.com/stratospark/keras-multiprocess-image-data-generator.git\n",
        "%cd keras-multiprocess-image-data-generator"
      ],
      "execution_count": null,
      "outputs": [
        {
          "output_type": "stream",
          "text": [
            "Cloning into 'keras-multiprocess-image-data-generator'...\n",
            "remote: Enumerating objects: 84, done.\u001b[K\n",
            "remote: Total 84 (delta 0), reused 0 (delta 0), pack-reused 84\u001b[K\n",
            "Unpacking objects: 100% (84/84), done.\n",
            "/content/keras-multiprocess-image-data-generator\n"
          ],
          "name": "stdout"
        }
      ]
    },
    {
      "cell_type": "markdown",
      "metadata": {
        "id": "cRogkvpPkh9Y"
      },
      "source": [
        "# Accelerating Deep Learning with Multiprocess Image Augmentation in Keras"
      ]
    },
    {
      "cell_type": "markdown",
      "metadata": {
        "id": "kf199oEIkh9b"
      },
      "source": [
        "![Benchmark Results](https://github.com/stratospark/keras-multiprocess-image-data-generator/blob/master/results.png?raw=1)"
      ]
    },
    {
      "cell_type": "markdown",
      "metadata": {
        "id": "z-sgZWpPkh9c"
      },
      "source": [
        "**Code available @ https://github.com/stratospark/keras-multiprocess-image-data-generator**"
      ]
    },
    {
      "cell_type": "markdown",
      "metadata": {
        "id": "vnElnHfTkh9d"
      },
      "source": [
        "* [Introduction](#Introduction)\n",
        "* [Benchmark: CIFAR10 - In Memory Performance, Image Generation Only](#Benchmark:-CIFAR10---In-Memory-Performance,-Image-Generation-Only)\n",
        "* [Benchmark: CIFAR10 - In Memory Performance, Image Generation with GPU Training](#Benchmark:-CIFAR10---In-Memory-Performance,-Image-Generation-with-GPU-Training)\n",
        "* [Benchmark: Dogs vs. Cats - On Disk Performance, Image Generation witih GPU Training](#Benchmark:-Dogs-vs.-Cats---On-Disk-Performance,-Image-Generation-witih-GPU-Training)"
      ]
    },
    {
      "cell_type": "markdown",
      "metadata": {
        "id": "41OS0kJgkh9e"
      },
      "source": [
        "## Introduction"
      ]
    },
    {
      "cell_type": "markdown",
      "metadata": {
        "id": "bGbdf4v_kh9f"
      },
      "source": [
        "**TLDR: By adding multiprocessing support to Keras ImageDataGenerator, benchmarking on a 6-core i7-6850K and 12GB TITAN X Pascal: 3.5x speedup of training with image augmentation on in memory datasets, 3.9x speedup of training with image augmentation on datasets streamed from disk.**"
      ]
    },
    {
      "cell_type": "markdown",
      "metadata": {
        "id": "5lr-tthBkh94"
      },
      "source": [
        "When exploring Deep Learning models, it isn't only beneficial to have good performance for the final training run. Accelerating training speed means more network models can be tried and more hyperparameter settings can be explored in the same amount of time. **The more that we can experiment, the better our results can become.**\n",
        "\n",
        "In my experience with [training a moderately sized network](http://blog.stratospark.com/deep-learning-applied-food-classification-deep-learning-keras.html) on my home desktop, I found one bottleneck to be creating additional images to augment my dataset. Keras provides an [ImageDataGenerator](https://keras.io/preprocessing/image/) class that can take images, in memory or on disk, and create many different variations based on a set of parameters: rotations, flips, zooms, altering colors, etc. For reference, here is a [great tutorial](https://blog.keras.io/building-powerful-image-classification-models-using-very-little-data.html) on improving network accuracy with image augmentation.\n",
        "\n",
        "![cat images augmented](https://blog.keras.io/img/imgclf/cat_data_augmentation.png)"
      ]
    },
    {
      "cell_type": "markdown",
      "metadata": {
        "id": "Ib5P78VGkh95"
      },
      "source": [
        "While training my initial models, I was waiting upwards of an entire day to see enough results to decide what to change. I saw that I was taking nowhere near full advantage of my CPU or GPU. As a result, I decided to add some Python multiprocessing support to a fork of ImageDataGenerator. I was able to drastically cut my training time and was finally able to steer my experiments in the right direction!\n",
        "\n",
        "For reference, I am using:\n",
        "* Intel Core i7-6850K\n",
        "* NVIDIA TITAN X Pascal 12GB\n",
        "* 96GB RAM\n",
        "* 64-bit Ubuntu 16.04\n",
        "* Python 2.7.13 :: Continuum Analytics, Inc.\n",
        "* Keras 1.2.1\n",
        "* Tensorflow 0.12.1"
      ]
    },
    {
      "cell_type": "markdown",
      "metadata": {
        "id": "LU7MCOEOkh95"
      },
      "source": [
        "You can use the multiprocessing-enabled ImageDataGenerator that is included with this repo as a drop-in replacement for the version that currently ships with Keras. If it makes sense, the code may get incorporated into the main branch at some point."
      ]
    },
    {
      "cell_type": "code",
      "metadata": {
        "id": "8dq1NU60kh96",
        "colab": {
          "base_uri": "https://localhost:8080/",
          "height": 34
        },
        "outputId": "841a7903-23e5-46e4-b8d1-2b20a2914330"
      },
      "source": [
        "import numpy as np\n",
        "import pandas as pd\n",
        "import keras as K\n",
        "import matplotlib.pyplot as plt\n",
        "import multiprocessing\n",
        "import time\n",
        "import collections\n",
        "import sys\n",
        "import signal\n",
        "\n",
        "%matplotlib inline"
      ],
      "execution_count": null,
      "outputs": [
        {
          "output_type": "stream",
          "text": [
            "Using TensorFlow backend.\n"
          ],
          "name": "stderr"
        }
      ]
    },
    {
      "cell_type": "code",
      "metadata": {
        "id": "cjfR-tyNkh-A"
      },
      "source": [
        "# The original class can be imported like this:\n",
        "# from keras.preprocessing.image import ImageDataGenerator\n",
        "\n",
        "# We access the modified version through T.ImageDataGenerator\n",
        "import tools.image as T\n",
        "\n",
        "# Useful for checking the output of the generators after code change\n",
        "try:\n",
        "    from importlib import reload\n",
        "    reload(T)\n",
        "except:\n",
        "    reload(T)"
      ],
      "execution_count": null,
      "outputs": []
    },
    {
      "cell_type": "markdown",
      "metadata": {
        "id": "CCSRSj0ckh-D"
      },
      "source": [
        "These are helper methods used throughout the notebook."
      ]
    },
    {
      "cell_type": "code",
      "metadata": {
        "id": "72M75R6Dkh-E"
      },
      "source": [
        "def preprocess_img(img):\n",
        "    img = img.astype(np.float32) / 255.0\n",
        "    img -= 0.5\n",
        "    return img * 2"
      ],
      "execution_count": null,
      "outputs": []
    },
    {
      "cell_type": "code",
      "metadata": {
        "id": "ubY7fGJ3kh-H"
      },
      "source": [
        "def plot_images(img_gen, title):\n",
        "    fig, ax = plt.subplots(6, 6, figsize=(10, 10))\n",
        "    plt.suptitle(title, size=32)\n",
        "    plt.setp(ax, xticks=[], yticks=[])\n",
        "    plt.tight_layout(rect=[0, 0.03, 1, 0.95])\n",
        "    for (imgs, labels) in img_gen:\n",
        "        for i in range(6):\n",
        "            for j in range(6):\n",
        "                if i*6 + j < 32:\n",
        "                    ax[i][j].imshow(imgs[i*6 + j])\n",
        "        break    "
      ],
      "execution_count": null,
      "outputs": []
    },
    {
      "cell_type": "markdown",
      "metadata": {
        "id": "ssZ1htq-kh-J"
      },
      "source": [
        "## Benchmark: CIFAR10 - In Memory Performance, Image Generation Only"
      ]
    },
    {
      "cell_type": "markdown",
      "metadata": {
        "id": "bCpLb7fqkh-K"
      },
      "source": [
        "[CIFAR10](https://www.cs.toronto.edu/~kriz/cifar.html) is a toy dataset that includes 50,000 training images and 10,000 test images of shape 32x32x3.\n",
        "\n",
        "It includes the following 10 classes: **airplane, automobile, bird, cat, deer, dog, frog, horse, ship, truck**"
      ]
    },
    {
      "cell_type": "code",
      "metadata": {
        "id": "yuf6l1eFkh-L",
        "colab": {
          "base_uri": "https://localhost:8080/",
          "height": 51
        },
        "outputId": "93a30e6b-5174-48d9-b527-eeac80aa1d46"
      },
      "source": [
        "from keras.datasets.cifar10 import load_data\n",
        "from keras.utils.np_utils import to_categorical\n",
        "\n",
        "(X_train, y_train), (X_test, y_test) = load_data()\n",
        "\n",
        "y_train_cat = to_categorical(y_train)\n",
        "y_test_cat = to_categorical(y_test)"
      ],
      "execution_count": null,
      "outputs": [
        {
          "output_type": "stream",
          "text": [
            "Downloading data from https://www.cs.toronto.edu/~kriz/cifar-10-python.tar.gz\n",
            "170500096/170498071 [==============================] - 6s 0us/step\n"
          ],
          "name": "stdout"
        }
      ]
    },
    {
      "cell_type": "markdown",
      "metadata": {
        "id": "iy_jZtG1kh-N"
      },
      "source": [
        "Here is an example of how to set up a `multiprocessing.Pool` and add it as an argument to the ImageDataGenerator constructor. This is the only change to the class' public interface. If you leave out the `pool` parameter or set it to `None`, the generator will operate in its original single process mode."
      ]
    },
    {
      "cell_type": "code",
      "metadata": {
        "id": "RcAKqumIkh-P",
        "colab": {
          "base_uri": "https://localhost:8080/",
          "height": 721
        },
        "outputId": "5a634ff5-d7c4-4a12-96f5-32c2094fe2ed"
      },
      "source": [
        "try:\n",
        "    pool.terminate()\n",
        "except:\n",
        "    pass\n",
        "n_process = 4\n",
        "    \n",
        "pool = multiprocessing.Pool(processes=n_process)\n",
        "start = time.time()\n",
        "gen = T.ImageDataGenerator(\n",
        "     featurewise_center=False,\n",
        "     samplewise_center=False,\n",
        "     featurewise_std_normalization=False,\n",
        "     samplewise_std_normalization=False,\n",
        "     zca_whitening=False,\n",
        "     rotation_range=45,\n",
        "     width_shift_range=.1,\n",
        "     height_shift_range=.1,\n",
        "     shear_range=0.,\n",
        "     zoom_range=0,\n",
        "     channel_shift_range=0,\n",
        "     fill_mode='nearest',\n",
        "     cval=0.,\n",
        "     horizontal_flip=True,\n",
        "     vertical_flip=False,\n",
        "     rescale=1/255.,\n",
        "     #preprocessing_function=preprocess_img, # disable for nicer visualization\n",
        "     dim_ordering='default',\n",
        "     pool=pool # <-------------- Only change needed!\n",
        ")\n",
        "\n",
        "gen.fit(X_train)\n",
        "X_train_aug = gen.flow(X_train, y_train_cat, seed=0)\n",
        "\n",
        "print('{} process, duration: {}'.format(4, time.time() - start))\n",
        "plot_images(X_train_aug, 'Augmented Images generated with {} processes'.format(n_process))\n",
        "\n",
        "pool.terminate()"
      ],
      "execution_count": null,
      "outputs": [
        {
          "output_type": "stream",
          "text": [
            "4 process, duration: 0.09390616416931152\n"
          ],
          "name": "stdout"
        },
        {
          "output_type": "display_data",
          "data": {
            "image/png": "[encoded data removed]",
            "text/plain": [
              "<Figure size 720x720 with 36 Axes>"
            ]
          },
          "metadata": {
            "tags": []
          }
        }
      ]
    },
    {
      "cell_type": "markdown",
      "metadata": {
        "id": "ioFUCIg8kh-R"
      },
      "source": [
        "Now that we have verified that the images are being properly generated with multiple processes, we want to benchmark how the number of processes affects performance. Idealy, we would like to see speedups scale linearly with the number of processes added. However, as explained by [Amdahl's Law](https://en.wikipedia.org/wiki/Amdahl%27s_law), there are diminishing returns due to additional overhead.\n",
        "\n",
        "The following benchmark will first test image augmentation without multiprocessing, then do a test for an increasing number of processes, up to a max of the number of logical CPUs your system has. It does multiple rounds of these tests so that we may average the results."
      ]
    },
    {
      "cell_type": "code",
      "metadata": {
        "id": "aM1RvqTzkh-S",
        "colab": {
          "base_uri": "https://localhost:8080/",
          "height": 204
        },
        "outputId": "b141e743-e5db-41d0-d98f-ae2098760ccd"
      },
      "source": [
        "durs = collections.defaultdict(list)\n",
        "num_cores = 2\n",
        "try:\n",
        "    num_cores = multiprocessing.cpu_count()\n",
        "except:\n",
        "    pass\n",
        "\n",
        "for j in range(10):\n",
        "    print('Round', j)\n",
        "    \n",
        "    for num_p in range(0, num_cores + 1):\n",
        "        pool = None\n",
        "        if num_p > 0:\n",
        "            pool = multiprocessing.Pool(processes=num_p)\n",
        "            \n",
        "        start = time.time()\n",
        "        gen = T.ImageDataGenerator(\n",
        "             featurewise_center=False,\n",
        "             samplewise_center=False,\n",
        "             featurewise_std_normalization=False,\n",
        "             samplewise_std_normalization=False,\n",
        "             zca_whitening=False,\n",
        "             rotation_range=45,\n",
        "             width_shift_range=.1,\n",
        "             height_shift_range=.1,\n",
        "             shear_range=0.,\n",
        "             zoom_range=0,\n",
        "             channel_shift_range=0,\n",
        "             fill_mode='nearest',\n",
        "             cval=0.,\n",
        "             horizontal_flip=True,\n",
        "             vertical_flip=False,\n",
        "             rescale=None,\n",
        "             preprocessing_function=preprocess_img,\n",
        "             dim_ordering='default',\n",
        "             pool=pool\n",
        "        )\n",
        "\n",
        "        gen.fit(X_train)\n",
        "        X_train_aug = gen.flow(X_train, y_train_cat, seed=0)\n",
        "\n",
        "        for i, (imgs, labels) in enumerate(X_train_aug):\n",
        "            if i == 1000:\n",
        "                break\n",
        "\n",
        "        dur = time.time() - start\n",
        "        #print(num_p, dur)\n",
        "        sys.stdout.write('{}: {} ... '.format(num_p, dur))\n",
        "        sys.stdout.flush()\n",
        "        \n",
        "        durs[num_p].append(dur)\n",
        "\n",
        "        if pool:\n",
        "            pool.terminate()"
      ],
      "execution_count": null,
      "outputs": [
        {
          "output_type": "stream",
          "text": [
            "Round 0\n",
            "0: 9.200002670288086 ... 1: 12.75890827178955 ... 2: 12.19498348236084 ... Round 1\n",
            "0: 9.170865535736084 ... 1: 12.747222661972046 ... 2: 12.158259868621826 ... Round 2\n",
            "0: 9.025481462478638 ... 1: 12.698202133178711 ... 2: 12.108450412750244 ... Round 3\n",
            "0: 9.046288251876831 ... 1: 12.952636241912842 ... 2: 12.117230892181396 ... Round 4\n",
            "0: 9.027145862579346 ... 1: 12.789586067199707 ... 2: 12.199957847595215 ... Round 5\n",
            "0: 8.976659297943115 ... 1: 12.606961250305176 ... 2: 12.1865234375 ... Round 6\n",
            "0: 9.173736095428467 ... 1: 12.688228607177734 ... 2: 12.19714641571045 ... Round 7\n",
            "0: 9.113315105438232 ... 1: 13.05054235458374 ... 2: 12.32142949104309 ... Round 8\n",
            "0: 9.16667628288269 ... 1: 12.784313440322876 ... 2: 12.185868263244629 ... Round 9\n",
            "0: 9.046824216842651 ... 1: 13.706783533096313 ... 2: 12.354405641555786 ... "
          ],
          "name": "stdout"
        }
      ]
    },
    {
      "cell_type": "code",
      "metadata": {
        "id": "MHbgJH1fkh-U",
        "colab": {
          "base_uri": "https://localhost:8080/"
        },
        "outputId": "0b72e70d-b646-4fe8-bfcf-2f3f8921d556"
      },
      "source": [
        "df = pd.DataFrame(durs)\n",
        "df"
      ],
      "execution_count": null,
      "outputs": [
        {
          "output_type": "execute_result",
          "data": {
            "text/html": [
              "<div>\n",
              "<style scoped>\n",
              "    .dataframe tbody tr th:only-of-type {\n",
              "        vertical-align: middle;\n",
              "    }\n",
              "\n",
              "    .dataframe tbody tr th {\n",
              "        vertical-align: top;\n",
              "    }\n",
              "\n",
              "    .dataframe thead th {\n",
              "        text-align: right;\n",
              "    }\n",
              "</style>\n",
              "<table border=\"1\" class=\"dataframe\">\n",
              "  <thead>\n",
              "    <tr style=\"text-align: right;\">\n",
              "      <th></th>\n",
              "      <th>0</th>\n",
              "      <th>1</th>\n",
              "      <th>2</th>\n",
              "    </tr>\n",
              "  </thead>\n",
              "  <tbody>\n",
              "    <tr>\n",
              "      <th>0</th>\n",
              "      <td>9.200003</td>\n",
              "      <td>12.758908</td>\n",
              "      <td>12.194983</td>\n",
              "    </tr>\n",
              "    <tr>\n",
              "      <th>1</th>\n",
              "      <td>9.170866</td>\n",
              "      <td>12.747223</td>\n",
              "      <td>12.158260</td>\n",
              "    </tr>\n",
              "    <tr>\n",
              "      <th>2</th>\n",
              "      <td>9.025481</td>\n",
              "      <td>12.698202</td>\n",
              "      <td>12.108450</td>\n",
              "    </tr>\n",
              "    <tr>\n",
              "      <th>3</th>\n",
              "      <td>9.046288</td>\n",
              "      <td>12.952636</td>\n",
              "      <td>12.117231</td>\n",
              "    </tr>\n",
              "    <tr>\n",
              "      <th>4</th>\n",
              "      <td>9.027146</td>\n",
              "      <td>12.789586</td>\n",
              "      <td>12.199958</td>\n",
              "    </tr>\n",
              "    <tr>\n",
              "      <th>5</th>\n",
              "      <td>8.976659</td>\n",
              "      <td>12.606961</td>\n",
              "      <td>12.186523</td>\n",
              "    </tr>\n",
              "    <tr>\n",
              "      <th>6</th>\n",
              "      <td>9.173736</td>\n",
              "      <td>12.688229</td>\n",
              "      <td>12.197146</td>\n",
              "    </tr>\n",
              "    <tr>\n",
              "      <th>7</th>\n",
              "      <td>9.113315</td>\n",
              "      <td>13.050542</td>\n",
              "      <td>12.321429</td>\n",
              "    </tr>\n",
              "    <tr>\n",
              "      <th>8</th>\n",
              "      <td>9.166676</td>\n",
              "      <td>12.784313</td>\n",
              "      <td>12.185868</td>\n",
              "    </tr>\n",
              "    <tr>\n",
              "      <th>9</th>\n",
              "      <td>9.046824</td>\n",
              "      <td>13.706784</td>\n",
              "      <td>12.354406</td>\n",
              "    </tr>\n",
              "  </tbody>\n",
              "</table>\n",
              "</div>"
            ],
            "text/plain": [
              "          0          1          2\n",
              "0  9.200003  12.758908  12.194983\n",
              "1  9.170866  12.747223  12.158260\n",
              "2  9.025481  12.698202  12.108450\n",
              "3  9.046288  12.952636  12.117231\n",
              "4  9.027146  12.789586  12.199958\n",
              "5  8.976659  12.606961  12.186523\n",
              "6  9.173736  12.688229  12.197146\n",
              "7  9.113315  13.050542  12.321429\n",
              "8  9.166676  12.784313  12.185868\n",
              "9  9.046824  13.706784  12.354406"
            ]
          },
          "metadata": {
            "tags": []
          },
          "execution_count": 10
        }
      ]
    },
    {
      "cell_type": "code",
      "metadata": {
        "id": "NB7M3iRtkh-X",
        "colab": {
          "base_uri": "https://localhost:8080/"
        },
        "outputId": "a50a86e7-d9cd-4fb9-ff25-9f9ecbebea55"
      },
      "source": [
        "df_mean = pd.DataFrame(df.mean(axis=0))\n",
        "plt.figure(figsize=(10,5))\n",
        "plt.plot(df_mean, marker='o')\n",
        "plt.xlabel('# Processes')\n",
        "plt.ylabel('Seconds')\n",
        "plt.title('Image Augmentation time vs. # Processes')"
      ],
      "execution_count": null,
      "outputs": [
        {
          "output_type": "execute_result",
          "data": {
            "text/plain": [
              "Text(0.5, 1.0, 'Image Augmentation time vs. # Processes')"
            ]
          },
          "metadata": {
            "tags": []
          },
          "execution_count": 11
        },
        {
          "output_type": "display_data",
          "data": {
            "image/png": "[encoded data removed]",
            "text/plain": [
              "<Figure size 720x360 with 1 Axes>"
            ]
          },
          "metadata": {
            "tags": []
          }
        }
      ]
    },
    {
      "cell_type": "code",
      "metadata": {
        "id": "nHptnqcXkh-a",
        "colab": {
          "base_uri": "https://localhost:8080/",
          "height": 367
        },
        "outputId": "4f555ce9-ac33-4588-9ef8-b7952a7d1e1c"
      },
      "source": [
        "speedups = 1 / (df_mean / df_mean[0][0])\n",
        "plt.figure(figsize=(10,5))\n",
        "plt.plot(speedups, marker='o')\n",
        "plt.xlabel('# Processes')\n",
        "plt.ylabel('Speedup')\n",
        "plt.hlines(1, -1, df_mean.shape[0], colors='red', linestyles='dashed')\n",
        "plt.title('Image Augmentation speedup vs. # Processes')"
      ],
      "execution_count": null,
      "outputs": [
        {
          "output_type": "execute_result",
          "data": {
            "text/plain": [
              "Text(0.5, 1.0, 'Image Augmentation speedup vs. # Processes')"
            ]
          },
          "metadata": {
            "tags": []
          },
          "execution_count": 12
        },
        {
          "output_type": "display_data",
          "data": {
            "image/png": "[encoded data removed]",
            "text/plain": [
              "<Figure size 720x360 with 1 Axes>"
            ]
          },
          "metadata": {
            "tags": []
          }
        }
      ]
    },
    {
      "cell_type": "code",
      "metadata": {
        "id": "WmqtWNfgkh-c",
        "colab": {
          "base_uri": "https://localhost:8080/"
        },
        "outputId": "1b37c5c1-6e03-4786-8592-06533db8af71"
      },
      "source": [
        "best_ix = np.argmax(speedups.values)\n",
        "print('Best speedup: {0:.2f}x with {1} processes.'.format(speedups.values[best_ix][0], best_ix))"
      ],
      "execution_count": null,
      "outputs": [
        {
          "output_type": "stream",
          "text": [
            "Best speedup: 1.00x with 0 processes.\n"
          ],
          "name": "stdout"
        }
      ]
    },
    {
      "cell_type": "markdown",
      "metadata": {
        "id": "lN-0pKrukh-e"
      },
      "source": [
        "As we can see, we are able to cut image generation time in half. However, does the speedup remain when we are also sending the images to the GPU for network trianing?"
      ]
    },
    {
      "cell_type": "markdown",
      "metadata": {
        "id": "io6uIrqokh-f"
      },
      "source": [
        "## Benchmark: CIFAR10 - In Memory Performance, Image Generation with GPU Training"
      ]
    },
    {
      "cell_type": "code",
      "metadata": {
        "id": "_1ewkvZBkh-g",
        "colab": {
          "base_uri": "https://localhost:8080/"
        },
        "outputId": "851b4ce8-e27c-4111-8f9a-3656165603c5"
      },
      "source": [
        "import tools.sysmonitor as SM\n",
        "reload(SM)"
      ],
      "execution_count": null,
      "outputs": [
        {
          "output_type": "execute_result",
          "data": {
            "text/plain": [
              "<module 'tools.sysmonitor' from '/content/keras-multiprocess-image-data-generator/tools/sysmonitor.py'>"
            ]
          },
          "metadata": {
            "tags": []
          },
          "execution_count": 14
        }
      ]
    },
    {
      "cell_type": "markdown",
      "metadata": {
        "id": "ml6-0cHPkh-i"
      },
      "source": [
        "Let us take a model from one of the [Keras examples](https://github.com/fchollet/keras/blob/master/examples/cifar10_cnn.py):"
      ]
    },
    {
      "cell_type": "code",
      "metadata": {
        "id": "Od0pfchHkh-j",
        "colab": {
          "base_uri": "https://localhost:8080/"
        },
        "outputId": "ec141797-c6c3-40b1-d4b4-ae84c2597cb9"
      },
      "source": [
        "from keras.models import Sequential\n",
        "from keras.layers import Conv2D, Activation, MaxPooling2D, Dropout, Flatten, Dense\n",
        "\n",
        "model = Sequential()\n",
        "model.add(Conv2D(32, 3, 3, border_mode='same',\n",
        "                        input_shape=(32, 32, 3)))\n",
        "model.add(Activation('relu'))\n",
        "model.add(Conv2D(32, 3, 3))\n",
        "model.add(Activation('relu'))\n",
        "model.add(MaxPooling2D(pool_size=(2, 2)))\n",
        "model.add(Dropout(0.25))\n",
        "\n",
        "model.add(Conv2D(64, 3, 3, border_mode='same'))\n",
        "model.add(Activation('relu'))\n",
        "model.add(Conv2D(64, 3, 3))\n",
        "model.add(Activation('relu'))\n",
        "model.add(MaxPooling2D(pool_size=(2, 2)))\n",
        "model.add(Dropout(0.25))\n",
        "\n",
        "model.add(Flatten())\n",
        "model.add(Dense(512))\n",
        "model.add(Activation('relu'))\n",
        "model.add(Dropout(0.5))\n",
        "model.add(Dense(10))\n",
        "model.add(Activation('softmax'))\n",
        "\n",
        "model.summary()\n",
        "model.compile(optimizer='adam', loss='categorical_crossentropy', metrics=['accuracy'])"
      ],
      "execution_count": null,
      "outputs": [
        {
          "output_type": "stream",
          "text": [
            "WARNING:tensorflow:From /usr/local/lib/python3.6/dist-packages/keras/backend/tensorflow_backend.py:74: The name tf.get_default_graph is deprecated. Please use tf.compat.v1.get_default_graph instead.\n",
            "\n",
            "WARNING:tensorflow:From /usr/local/lib/python3.6/dist-packages/keras/backend/tensorflow_backend.py:517: The name tf.placeholder is deprecated. Please use tf.compat.v1.placeholder instead.\n",
            "\n",
            "WARNING:tensorflow:From /usr/local/lib/python3.6/dist-packages/keras/backend/tensorflow_backend.py:4138: The name tf.random_uniform is deprecated. Please use tf.random.uniform instead.\n",
            "\n",
            "WARNING:tensorflow:From /usr/local/lib/python3.6/dist-packages/keras/backend/tensorflow_backend.py:3976: The name tf.nn.max_pool is deprecated. Please use tf.nn.max_pool2d instead.\n",
            "\n",
            "WARNING:tensorflow:From /usr/local/lib/python3.6/dist-packages/keras/backend/tensorflow_backend.py:133: The name tf.placeholder_with_default is deprecated. Please use tf.compat.v1.placeholder_with_default instead.\n",
            "\n",
            "WARNING:tensorflow:From /usr/local/lib/python3.6/dist-packages/keras/backend/tensorflow_backend.py:3445: calling dropout (from tensorflow.python.ops.nn_ops) with keep_prob is deprecated and will be removed in a future version.\n",
            "Instructions for updating:\n",
            "Please use `rate` instead of `keep_prob`. Rate should be set to `rate = 1 - keep_prob`.\n"
          ],
          "name": "stdout"
        },
        {
          "output_type": "stream",
          "text": [
            "/usr/local/lib/python3.6/dist-packages/ipykernel_launcher.py:6: UserWarning: Update your `Conv2D` call to the Keras 2 API: `Conv2D(32, (3, 3), input_shape=(32, 32, 3..., padding=\"same\")`\n",
            "  \n",
            "/usr/local/lib/python3.6/dist-packages/ipykernel_launcher.py:8: UserWarning: Update your `Conv2D` call to the Keras 2 API: `Conv2D(32, (3, 3))`\n",
            "  \n",
            "/usr/local/lib/python3.6/dist-packages/ipykernel_launcher.py:13: UserWarning: Update your `Conv2D` call to the Keras 2 API: `Conv2D(64, (3, 3), padding=\"same\")`\n",
            "  del sys.path[0]\n",
            "/usr/local/lib/python3.6/dist-packages/ipykernel_launcher.py:15: UserWarning: Update your `Conv2D` call to the Keras 2 API: `Conv2D(64, (3, 3))`\n",
            "  from ipykernel import kernelapp as app\n"
          ],
          "name": "stderr"
        },
        {
          "output_type": "stream",
          "text": [
            "_________________________________________________________________\n",
            "Layer (type)                 Output Shape              Param #   \n",
            "=================================================================\n",
            "conv2d_1 (Conv2D)            (None, 32, 32, 32)        896       \n",
            "_________________________________________________________________\n",
            "activation_1 (Activation)    (None, 32, 32, 32)        0         \n",
            "_________________________________________________________________\n",
            "conv2d_2 (Conv2D)            (None, 30, 30, 32)        9248      \n",
            "_________________________________________________________________\n",
            "activation_2 (Activation)    (None, 30, 30, 32)        0         \n",
            "_________________________________________________________________\n",
            "max_pooling2d_1 (MaxPooling2 (None, 15, 15, 32)        0         \n",
            "_________________________________________________________________\n",
            "dropout_1 (Dropout)          (None, 15, 15, 32)        0         \n",
            "_________________________________________________________________\n",
            "conv2d_3 (Conv2D)            (None, 15, 15, 64)        18496     \n",
            "_________________________________________________________________\n",
            "activation_3 (Activation)    (None, 15, 15, 64)        0         \n",
            "_________________________________________________________________\n",
            "conv2d_4 (Conv2D)            (None, 13, 13, 64)        36928     \n",
            "_________________________________________________________________\n",
            "activation_4 (Activation)    (None, 13, 13, 64)        0         \n",
            "_________________________________________________________________\n",
            "max_pooling2d_2 (MaxPooling2 (None, 6, 6, 64)          0         \n",
            "_________________________________________________________________\n",
            "dropout_2 (Dropout)          (None, 6, 6, 64)          0         \n",
            "_________________________________________________________________\n",
            "flatten_1 (Flatten)          (None, 2304)              0         \n",
            "_________________________________________________________________\n",
            "dense_1 (Dense)              (None, 512)               1180160   \n",
            "_________________________________________________________________\n",
            "activation_5 (Activation)    (None, 512)               0         \n",
            "_________________________________________________________________\n",
            "dropout_3 (Dropout)          (None, 512)               0         \n",
            "_________________________________________________________________\n",
            "dense_2 (Dense)              (None, 10)                5130      \n",
            "_________________________________________________________________\n",
            "activation_6 (Activation)    (None, 10)                0         \n",
            "=================================================================\n",
            "Total params: 1,250,858\n",
            "Trainable params: 1,250,858\n",
            "Non-trainable params: 0\n",
            "_________________________________________________________________\n",
            "WARNING:tensorflow:From /usr/local/lib/python3.6/dist-packages/keras/optimizers.py:790: The name tf.train.Optimizer is deprecated. Please use tf.compat.v1.train.Optimizer instead.\n",
            "\n",
            "WARNING:tensorflow:From /usr/local/lib/python3.6/dist-packages/keras/backend/tensorflow_backend.py:3295: The name tf.log is deprecated. Please use tf.math.log instead.\n",
            "\n"
          ],
          "name": "stdout"
        }
      ]
    },
    {
      "cell_type": "markdown",
      "metadata": {
        "id": "2Vz4oCw9kh-l"
      },
      "source": [
        "When we are running lengthier training sessions, we may want to interrupt training to try a different approach: tweak hyperparameters, choose a different optimizer, adjust the network architecture, etc. In order to handle this gracefully with multiprocessing, we need to tell the child processes to ignore the interrupt signals. The parent process will catch the KeyboardInterrupt exception allow us to continue working interactively in the Notebook. Without this infrastructure, the processes will remain in limbo as detailed [here](http://noswap.com/blog/python-multiprocessing-keyboardinterrupt)."
      ]
    },
    {
      "cell_type": "code",
      "metadata": {
        "id": "gUyuHCHXkh-m"
      },
      "source": [
        "pool = None\n",
        "\n",
        "def init_worker():\n",
        "    signal.signal(signal.SIGINT, signal.SIG_IGN)"
      ],
      "execution_count": null,
      "outputs": []
    },
    {
      "cell_type": "code",
      "metadata": {
        "id": "Ny3Q3cBnkh-o"
      },
      "source": [
        "def setup_generator(processes=None, batch_size=32):\n",
        "    global pool\n",
        "    try:\n",
        "        pool.terminate()\n",
        "    except:\n",
        "        pass\n",
        "\n",
        "    if processes: \n",
        "        pool = multiprocessing.Pool(processes=processes, initializer=init_worker)\n",
        "    else:\n",
        "        pool = None\n",
        "\n",
        "    gen = T.ImageDataGenerator(\n",
        "         featurewise_center=False,\n",
        "         samplewise_center=False,\n",
        "         featurewise_std_normalization=False,\n",
        "         samplewise_std_normalization=False,\n",
        "         zca_whitening=False,\n",
        "         rotation_range=45,\n",
        "         width_shift_range=.1,\n",
        "         height_shift_range=.1,\n",
        "         shear_range=0.,\n",
        "         zoom_range=[.8, 1],\n",
        "         channel_shift_range=20,\n",
        "         fill_mode='nearest',\n",
        "         cval=0.,\n",
        "         horizontal_flip=True,\n",
        "         vertical_flip=False,\n",
        "         rescale=None,\n",
        "         preprocessing_function=preprocess_img,\n",
        "         dim_ordering='default',\n",
        "         pool=pool\n",
        "    )\n",
        "    test_gen = T.ImageDataGenerator(\n",
        "        preprocessing_function=preprocess_img,\n",
        "        pool=pool\n",
        "    )\n",
        "    \n",
        "    gen.fit(X_train)\n",
        "    test_gen.fit(X_train)\n",
        "    \n",
        "    X_train_aug = gen.flow(X_train, y_train_cat, seed=0, batch_size=batch_size)\n",
        "    X_test_aug = test_gen.flow(X_test, y_test_cat, seed=0, batch_size=batch_size)\n",
        "    \n",
        "    return X_train_aug, X_test_aug"
      ],
      "execution_count": null,
      "outputs": []
    },
    {
      "cell_type": "code",
      "metadata": {
        "id": "tzB8PJCgkh-s",
        "colab": {
          "base_uri": "https://localhost:8080/"
        },
        "outputId": "127e281c-fe10-417c-9a71-e3dd2ed24a24"
      },
      "source": [
        "def run_benchmark(processes=None, batch_size=32, vert=True, plot=True):\n",
        "    X_train_aug, X_test_aug = setup_generator(processes=processes, batch_size=batch_size)\n",
        "    sys_mon = SM.SysMonitor()\n",
        "    sys_mon.start()\n",
        "    \n",
        "    try:\n",
        "        model.fit_generator(X_train_aug, samples_per_epoch=50000, nb_epoch=5, \n",
        "                        validation_data=X_test_aug, nb_val_samples=10000)\n",
        "    except KeyboardInterrupt:\n",
        "        print '\\n\\nTraining Interrupted\\n'\n",
        "        return None\n",
        "\n",
        "    sys_mon.stop()\n",
        "    \n",
        "    title = None\n",
        "    if not processes:\n",
        "        title = '{0:.2f} seconds of computation, no multiprocessing, batch size = {1}'.format(sys_mon.duration, batch_size)\n",
        "    else:\n",
        "        title = '{0:.2f} seconds of computation, using {1} processes, batch size = {2}'.format(sys_mon.duration, processes, batch_size)\n",
        "    \n",
        "    if plot:\n",
        "        sys_mon.plot(title, vert)\n",
        "    \n",
        "    if not processes:\n",
        "        processes = 0\n",
        "        \n",
        "    return {\n",
        "        'processes': processes,\n",
        "        'batch_size': batch_size,\n",
        "        'duration': sys_mon.duration,\n",
        "        'title': title\n",
        "    }"
      ],
      "execution_count": null,
      "outputs": [
        {
          "output_type": "error",
          "ename": "SyntaxError",
          "evalue": "ignored",
          "traceback": [
            "\u001b[0;36m  File \u001b[0;32m\"<ipython-input-18-ab6ebf84c826>\"\u001b[0;36m, line \u001b[0;32m10\u001b[0m\n\u001b[0;31m    print '\\n\\nTraining Interrupted\\n'\u001b[0m\n\u001b[0m                                     ^\u001b[0m\n\u001b[0;31mSyntaxError\u001b[0m\u001b[0;31m:\u001b[0m Missing parentheses in call to 'print'. Did you mean print('\\n\\nTraining Interrupted\\n')?\n"
          ]
        }
      ]
    },
    {
      "cell_type": "code",
      "metadata": {
        "id": "9s4TgLMWkh-v"
      },
      "source": [
        "run_benchmark(processes=None, batch_size=32)"
      ],
      "execution_count": null,
      "outputs": []
    },
    {
      "cell_type": "code",
      "metadata": {
        "id": "rcAmQrTbkh-y"
      },
      "source": [
        "run_benchmark(processes=7, batch_size=32)"
      ],
      "execution_count": null,
      "outputs": []
    },
    {
      "cell_type": "markdown",
      "metadata": {
        "id": "6jOQfjc5kh-0"
      },
      "source": [
        "Now let's try a variety of different test scenarios:"
      ]
    },
    {
      "cell_type": "code",
      "metadata": {
        "id": "_gPXbXwvkh-0"
      },
      "source": [
        "runs = []"
      ],
      "execution_count": null,
      "outputs": []
    },
    {
      "cell_type": "code",
      "metadata": {
        "id": "uyAHdecdkh-2"
      },
      "source": [
        "runs.append(run_benchmark(processes=None, batch_size=32))"
      ],
      "execution_count": null,
      "outputs": []
    },
    {
      "cell_type": "code",
      "metadata": {
        "id": "mMG1KzfYkh-4"
      },
      "source": [
        "runs.append(run_benchmark(processes=7, batch_size=32))"
      ],
      "execution_count": null,
      "outputs": []
    },
    {
      "cell_type": "code",
      "metadata": {
        "id": "BUeNbhFpkh-6"
      },
      "source": [
        "runs[0]['duration'] / runs[1]['duration']"
      ],
      "execution_count": null,
      "outputs": []
    },
    {
      "cell_type": "markdown",
      "metadata": {
        "id": "-JmqDBW1kh-8"
      },
      "source": [
        "As we can see, we can get a **1.8x speedup by using 7 processes**. The GPU and CPU utilization is markedly higher and more consistent.\n",
        "\n",
        "Let's see if batch size affects the outcome:"
      ]
    },
    {
      "cell_type": "code",
      "metadata": {
        "id": "qGeIoZKpkh-9"
      },
      "source": [
        "runs.append(run_benchmark(processes=None, batch_size=256))"
      ],
      "execution_count": null,
      "outputs": []
    },
    {
      "cell_type": "code",
      "metadata": {
        "id": "Ys7voPIykh--"
      },
      "source": [
        "runs.append(run_benchmark(processes=7, batch_size=256))"
      ],
      "execution_count": null,
      "outputs": []
    },
    {
      "cell_type": "code",
      "metadata": {
        "id": "e9qR5zL7kh_A"
      },
      "source": [
        "runs[2]['duration'] / runs[3]['duration']"
      ],
      "execution_count": null,
      "outputs": []
    },
    {
      "cell_type": "markdown",
      "metadata": {
        "id": "8881r_khkh_C"
      },
      "source": [
        "With a batch size of 256, we get an **even larger speedup of 3.3x**"
      ]
    },
    {
      "cell_type": "code",
      "metadata": {
        "id": "0OL7ZfU0kh_D"
      },
      "source": [
        "runs.append(run_benchmark(processes=None, batch_size=1024))"
      ],
      "execution_count": null,
      "outputs": []
    },
    {
      "cell_type": "code",
      "metadata": {
        "id": "ElJOj54qkh_E"
      },
      "source": [
        "runs.append(run_benchmark(processes=7, batch_size=1024))"
      ],
      "execution_count": null,
      "outputs": []
    },
    {
      "cell_type": "code",
      "metadata": {
        "id": "hILBHaPfkh_G"
      },
      "source": [
        "runs[4]['duration'] / runs[5]['duration']"
      ],
      "execution_count": null,
      "outputs": []
    },
    {
      "cell_type": "markdown",
      "metadata": {
        "id": "ql8z9yWvkh_I"
      },
      "source": [
        "With a batch size of 1024, we get **a speedup of 3.48%**. We also notice an interesting phenomenon. Without multiprocessing, the GPU is interittently going to 0 utilization. However, with 7 processes, we can see consistent >60% GPU utilization with a long initial period of >80%. Notice that with this batch size, we are able to get to lower losses a lot quicker than with lower batch sizes. This pattern will not necessarily continue with additional epochs, but it may be promising in some cases."
      ]
    },
    {
      "cell_type": "code",
      "metadata": {
        "id": "ZUSK8KnUkh_I"
      },
      "source": [
        "runs.append(run_benchmark(processes=None, batch_size=4096))"
      ],
      "execution_count": null,
      "outputs": []
    },
    {
      "cell_type": "code",
      "metadata": {
        "id": "UqvVlis9kh_K"
      },
      "source": [
        "runs.append(run_benchmark(processes=7, batch_size=4096))"
      ],
      "execution_count": null,
      "outputs": []
    },
    {
      "cell_type": "code",
      "metadata": {
        "id": "E67tVKbjkh_M"
      },
      "source": [
        "runs[6]['duration'] / runs[7]['duration']"
      ],
      "execution_count": null,
      "outputs": []
    },
    {
      "cell_type": "markdown",
      "metadata": {
        "id": "Lzw7RmiBkh_O"
      },
      "source": [
        "A larger batch size of 4096 may or may not be a good choice in all cases, but when it comes to measuring system performance, we can see that the GPU usage is not consistent in the single process case. On the other hand, we are getting between 80-100% GPU utilization with 7 processes.\n",
        "\n",
        "Let's do a final experiment with this dataset to see how Image Augmentation + GPU Training time scales with process count:"
      ]
    },
    {
      "cell_type": "code",
      "metadata": {
        "scrolled": true,
        "id": "oBhGMvqTkh_O"
      },
      "source": [
        "processes_counts = [None]\n",
        "processes_counts.extend(range(1, 13))\n",
        "\n",
        "results = []\n",
        "\n",
        "for pc in processes_counts:\n",
        "    print('process count', pc)\n",
        "    results.append(run_benchmark(processes=pc, batch_size=4096, plot=False))"
      ],
      "execution_count": null,
      "outputs": []
    },
    {
      "cell_type": "code",
      "metadata": {
        "id": "qaLex3grkh_Q"
      },
      "source": [
        "durs_4096 = pd.DataFrame([x['duration'] for x in results])\n",
        "plt.figure(figsize=(10,5))\n",
        "plt.plot(durs_4096, marker='o')\n",
        "plt.xlabel('# Processes')\n",
        "plt.ylabel('Seconds')\n",
        "plt.title('Image Augmentation + GPU Training time vs. # Processes')"
      ],
      "execution_count": null,
      "outputs": []
    },
    {
      "cell_type": "code",
      "metadata": {
        "id": "6wYtePxNkh_S"
      },
      "source": [
        "speedups_4096 = 1 / (durs_4096 / durs_4096.ix[0])\n",
        "\n",
        "plt.figure(figsize=(10,5))\n",
        "plt.plot(speedups_4096, marker='o')\n",
        "plt.xlabel('# Processes')\n",
        "plt.ylabel('Speedup')\n",
        "plt.hlines(1, -1, speedups_4096.shape[0], colors='red', linestyles='dashed')\n",
        "plt.title('Image Augmentation + GPU Training speedup vs. # Processes')"
      ],
      "execution_count": null,
      "outputs": []
    },
    {
      "cell_type": "code",
      "metadata": {
        "id": "1Y0_Vr6bkh_T"
      },
      "source": [
        "best_ix = np.argmax(speedups_4096.values)\n",
        "print('Best speedup: {0:.2f}x with {1} processes.'.format(speedups_4096.values[best_ix][0], best_ix))"
      ],
      "execution_count": null,
      "outputs": []
    },
    {
      "cell_type": "markdown",
      "metadata": {
        "id": "EdGdCuFskh_W"
      },
      "source": [
        "## Benchmark: Dogs vs. Cats - On Disk Performance, Image Generation witih GPU Training"
      ]
    },
    {
      "cell_type": "markdown",
      "metadata": {
        "id": "--7taVYnkh_W"
      },
      "source": [
        "Using the images in the [dogs vs. cats dataset](https://www.kaggle.com/c/dogs-vs-cats/data) provided by Kaggle, we can test the performance of image augmentation on images loaded from disk on the fly.\n",
        "\n",
        "To follow along, unzip the downloaded training zip file, then create a `data/train/cat`, `/data/train/dog`, `data/validation/cat`, and `data/validation/dog` folders. \n",
        "\n",
        "Then move the images that have indicies starting with 8 into the appropriate validation folders.\n",
        "\n",
        "`\n",
        "mv cat.8* data/validation/cat/\n",
        "mv dog.8* data/validation/dog/\n",
        "`"
      ]
    },
    {
      "cell_type": "code",
      "metadata": {
        "id": "4flfj7U6kh_X"
      },
      "source": [
        "import os\n",
        "\n",
        "paths = sorted(os.listdir('./data/train/cat'))\n",
        "\n",
        "fig, ax = plt.subplots(5, 5, figsize=(15, 15))\n",
        "for i in range(5):\n",
        "    for j in range(5):\n",
        "        ix = i*5 + j\n",
        "        img = plt.imread('./data/train/cat/' + paths[ix])\n",
        "        ax[i][j].imshow(img)\n"
      ],
      "execution_count": null,
      "outputs": []
    },
    {
      "cell_type": "code",
      "metadata": {
        "id": "94VavWKEkh_a"
      },
      "source": [
        "paths = sorted(os.listdir('./data/train/dog'))\n",
        "\n",
        "fig, ax = plt.subplots(5, 5, figsize=(15, 15))\n",
        "for i in range(5):\n",
        "    for j in range(5):\n",
        "        ix = i*5 + j\n",
        "        img = plt.imread('./data/train/dog/' + paths[ix])\n",
        "        ax[i][j].imshow(img)\n"
      ],
      "execution_count": null,
      "outputs": []
    },
    {
      "cell_type": "code",
      "metadata": {
        "id": "RAhFUQpjkh_d"
      },
      "source": [
        "gen = T.ImageDataGenerator(\n",
        "     featurewise_center=False,\n",
        "     samplewise_center=False,\n",
        "     featurewise_std_normalization=False,\n",
        "     samplewise_std_normalization=False,\n",
        "     zca_whitening=False,\n",
        "     rotation_range=45,\n",
        "     width_shift_range=.1,\n",
        "     height_shift_range=.1,\n",
        "     shear_range=0.,\n",
        "     zoom_range=[.8, 1],\n",
        "     channel_shift_range=0,\n",
        "     fill_mode='nearest',\n",
        "     cval=0.,\n",
        "     horizontal_flip=True,\n",
        "     vertical_flip=False,\n",
        "     rescale=1/255.,\n",
        "#      preprocessing_function=preprocess_img,\n",
        "     #dim_ordering='default',\n",
        "#      pool=None\n",
        ")\n",
        "test_gen = T.ImageDataGenerator(\n",
        "    preprocessing_function=preprocess_img,\n",
        "#     pool=None\n",
        ")\n",
        "\n",
        "\n",
        "train_generator = gen.flow_from_directory(\n",
        "    'data/train',\n",
        "    target_size=(150, 150),\n",
        "    batch_size=32,\n",
        "    class_mode='binary')\n",
        "\n",
        "test_generator = gen.flow_from_directory(\n",
        "    'data/validation',\n",
        "    target_size=(150, 150),\n",
        "    batch_size=32,\n",
        "    class_mode='binary')\n",
        "\n",
        "fig, ax = plt.subplots(6, 6, figsize=(15, 15))\n",
        "for (imgs, labels) in train_generator:\n",
        "    for i in range(6):\n",
        "        for j in range(6):\n",
        "            if i*6 + j < 32:\n",
        "                ax[i][j].imshow(imgs[i*6 + j])\n",
        "    break\n"
      ],
      "execution_count": null,
      "outputs": []
    },
    {
      "cell_type": "code",
      "metadata": {
        "id": "qbLcuNNVkh_f"
      },
      "source": [
        "from keras.models import Sequential\n",
        "from keras.layers import Convolution2D, MaxPooling2D\n",
        "from keras.layers import Activation, Dropout, Flatten, Dense\n",
        "\n",
        "model = Sequential()\n",
        "model.add(Convolution2D(32, 3, 3, input_shape=(299, 299, 3)))\n",
        "model.add(Activation('relu'))\n",
        "model.add(MaxPooling2D(pool_size=(2, 2)))\n",
        "\n",
        "model.add(Convolution2D(32, 3, 3))\n",
        "model.add(Activation('relu'))\n",
        "model.add(MaxPooling2D(pool_size=(2, 2)))\n",
        "\n",
        "model.add(Convolution2D(64, 3, 3))\n",
        "model.add(Activation('relu'))\n",
        "model.add(MaxPooling2D(pool_size=(2, 2)))\n",
        "\n",
        "model.add(Flatten())  # this converts our 3D feature maps to 1D feature vectors\n",
        "model.add(Dense(64))\n",
        "model.add(Activation('relu'))\n",
        "model.add(Dropout(0.5))\n",
        "model.add(Dense(1))\n",
        "model.add(Activation('sigmoid'))\n",
        "\n",
        "model.compile(loss='binary_crossentropy',\n",
        "              optimizer='rmsprop',\n",
        "              metrics=['accuracy'])\n"
      ],
      "execution_count": null,
      "outputs": []
    },
    {
      "cell_type": "code",
      "metadata": {
        "id": "y5ANBCZgkh_g"
      },
      "source": [
        "def setup_cat_dog_generator(processes=None, batch_size=32):\n",
        "    global pool\n",
        "    try:\n",
        "        pool.terminate()\n",
        "    except:\n",
        "        pass\n",
        "\n",
        "    if processes: \n",
        "        pool = multiprocessing.Pool(processes=processes, initializer=init_worker)\n",
        "    else:\n",
        "        pool = None\n",
        "\n",
        "    gen = T.ImageDataGenerator(\n",
        "         featurewise_center=False,\n",
        "         samplewise_center=False,\n",
        "         featurewise_std_normalization=False,\n",
        "         samplewise_std_normalization=False,\n",
        "         zca_whitening=False,\n",
        "         rotation_range=45,\n",
        "         width_shift_range=.1,\n",
        "         height_shift_range=.1,\n",
        "         shear_range=0.,\n",
        "         zoom_range=[.8, 1],\n",
        "         channel_shift_range=20,\n",
        "         fill_mode='nearest',\n",
        "         cval=0.,\n",
        "         horizontal_flip=True,\n",
        "         vertical_flip=False,\n",
        "         rescale=None,\n",
        "         preprocessing_function=preprocess_img,\n",
        "         dim_ordering='default',\n",
        "         pool=pool\n",
        "    )\n",
        "    test_gen = T.ImageDataGenerator(\n",
        "        preprocessing_function=preprocess_img,\n",
        "        pool=pool\n",
        "    )\n",
        "    \n",
        "    gen.fit(X_train)\n",
        "    test_gen.fit(X_train)\n",
        "    \n",
        "    X_train_aug = gen.flow_from_directory(\n",
        "        'data/train',\n",
        "        target_size=(299, 299),\n",
        "        batch_size=batch_size,\n",
        "        class_mode='binary')\n",
        "\n",
        "    X_test_aug = gen.flow_from_directory(\n",
        "        'data/validation',\n",
        "        target_size=(299, 299),\n",
        "        batch_size=batch_size,\n",
        "        class_mode='binary')\n",
        "    \n",
        "    return X_train_aug, X_test_aug"
      ],
      "execution_count": null,
      "outputs": []
    },
    {
      "cell_type": "code",
      "metadata": {
        "id": "PgynPQM2kh_i"
      },
      "source": [
        "def run_cat_dog_benchmark(processes=None, batch_size=32, vert=True, plot=True):\n",
        "    \n",
        "    X_train_aug, X_test_aug = setup_cat_dog_generator(processes=processes, batch_size=batch_size)\n",
        "    sys_mon = SM.SysMonitor()\n",
        "    sys_mon.start()\n",
        "    \n",
        "    try:        \n",
        "        model.fit_generator(\n",
        "                X_train_aug,\n",
        "                samples_per_epoch=22778,\n",
        "                nb_epoch=2,\n",
        "                validation_data=X_test_aug,\n",
        "                nb_val_samples=2222)\n",
        "    except KeyboardInterrupt:\n",
        "        print '\\n\\nTraining Interrupted\\n'\n",
        "        return None\n",
        "\n",
        "    sys_mon.stop()\n",
        "    \n",
        "    title = None\n",
        "    if not processes:\n",
        "        title = '{0:.2f} seconds of computation, no multiprocessing, batch size = {1}'.format(sys_mon.duration, batch_size)\n",
        "    else:\n",
        "        title = '{0:.2f} seconds of computation, using {1} processes, batch size = {2}'.format(sys_mon.duration, processes, batch_size)\n",
        "    \n",
        "    if plot:\n",
        "        sys_mon.plot(title, vert)\n",
        "    \n",
        "    if not processes:\n",
        "        processes = 0\n",
        "        \n",
        "    return {\n",
        "        'processes': processes,\n",
        "        'batch_size': batch_size,\n",
        "        'duration': sys_mon.duration,\n",
        "        'title': title\n",
        "    }"
      ],
      "execution_count": null,
      "outputs": []
    },
    {
      "cell_type": "markdown",
      "metadata": {
        "id": "lKYcwEZxkh_l"
      },
      "source": [
        "In the following benchmark runs, you can see how inconsistent the GPU is being used without multiprocessing. Even with multiprocessing, the CPU is struggling to get enough data to the GPU to keep the GPU utilization stable. However, it's averaging out to be much higher than before.\n",
        "\n",
        "Before running each benchmark, I run: \n",
        "\n",
        "`sync; echo 3 > /proc/sys/vm/drop_caches` \n",
        "\n",
        "in the shell. This clears any diles that may be cached in memory that could be skewing the benchmarking results."
      ]
    },
    {
      "cell_type": "code",
      "metadata": {
        "id": "e3fIlOCfkh_l"
      },
      "source": [
        "runs = []"
      ],
      "execution_count": null,
      "outputs": []
    },
    {
      "cell_type": "code",
      "metadata": {
        "id": "f6jQsj7-kh_m"
      },
      "source": [
        "runs.append(run_cat_dog_benchmark(processes=None, batch_size=64))"
      ],
      "execution_count": null,
      "outputs": []
    },
    {
      "cell_type": "code",
      "metadata": {
        "id": "z-rQnDwxkh_o"
      },
      "source": [
        "runs.append(run_cat_dog_benchmark(processes=7, batch_size=64))"
      ],
      "execution_count": null,
      "outputs": []
    },
    {
      "cell_type": "code",
      "metadata": {
        "id": "EwYVELa6kh_q"
      },
      "source": [
        "runs.append(run_cat_dog_benchmark(processes=11, batch_size=64))"
      ],
      "execution_count": null,
      "outputs": []
    },
    {
      "cell_type": "code",
      "metadata": {
        "id": "6lg8N4iDkh_s"
      },
      "source": [
        "runs[0]['duration'] / runs[2]['duration']"
      ],
      "execution_count": null,
      "outputs": []
    },
    {
      "cell_type": "markdown",
      "metadata": {
        "id": "0m4mmFNxkh_u"
      },
      "source": [
        "As we can see, we can get an even bigger performance gain when flowing from disk. Using 11 processes, we are getting 3.94x performance over single threaded. This will really help a lot when working with larger than memory datasets."
      ]
    }
  ]
}