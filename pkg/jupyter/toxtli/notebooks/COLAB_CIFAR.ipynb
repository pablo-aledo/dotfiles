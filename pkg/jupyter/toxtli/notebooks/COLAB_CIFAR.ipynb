{
  "nbformat": 4,
  "nbformat_minor": 0,
  "metadata": {
    "kernelspec": {
      "name": "python3",
      "display_name": "Python 3"
    },
    "language_info": {
      "codemirror_mode": {
        "name": "ipython",
        "version": 3
      },
      "file_extension": ".py",
      "mimetype": "text/x-python",
      "name": "python",
      "nbconvert_exporter": "python",
      "pygments_lexer": "ipython3",
      "version": "3.6.1"
    },
    "colab": {
      "name": "COLAB -CIFAR.ipynb",
      "provenance": [],
      "toc_visible": true
    },
    "accelerator": "GPU"
  },
  "cells": [
    {
      "cell_type": "markdown",
      "metadata": {
        "id": "bhPYUUxE6FNo"
      },
      "source": [
        "Adapted by Carlos Toxtli http://www.carlostoxtli.com/#colab-cifar-2\n",
        "\n",
        "Credits: https://github.com/atharvajakkanwar/cifar100-classifier/"
      ]
    },
    {
      "cell_type": "code",
      "metadata": {
        "id": "B2obuPQ66QaU",
        "colab": {
          "base_uri": "https://localhost:8080/",
          "height": 296
        },
        "outputId": "c4a61e73-6f88-4fe4-e2f5-db86626e89d4"
      },
      "source": [
        "!pip install keras==2.2.4"
      ],
      "execution_count": null,
      "outputs": [
        {
          "output_type": "stream",
          "text": [
            "Collecting keras==2.2.4\n",
            "\u001b[?25l  Downloading https://files.pythonhosted.org/packages/5e/10/aa32dad071ce52b5502266b5c659451cfd6ffcbf14e6c8c4f16c0ff5aaab/Keras-2.2.4-py2.py3-none-any.whl (312kB)\n",
            "\u001b[K     |████████████████████████████████| 317kB 5.0MB/s \n",
            "\u001b[?25hRequirement already satisfied: six>=1.9.0 in /usr/local/lib/python3.6/dist-packages (from keras==2.2.4) (1.12.0)\n",
            "Requirement already satisfied: numpy>=1.9.1 in /usr/local/lib/python3.6/dist-packages (from keras==2.2.4) (1.16.5)\n",
            "Requirement already satisfied: h5py in /usr/local/lib/python3.6/dist-packages (from keras==2.2.4) (2.8.0)\n",
            "Requirement already satisfied: scipy>=0.14 in /usr/local/lib/python3.6/dist-packages (from keras==2.2.4) (1.3.1)\n",
            "Requirement already satisfied: pyyaml in /usr/local/lib/python3.6/dist-packages (from keras==2.2.4) (3.13)\n",
            "Requirement already satisfied: keras-applications>=1.0.6 in /usr/local/lib/python3.6/dist-packages (from keras==2.2.4) (1.0.8)\n",
            "Requirement already satisfied: keras-preprocessing>=1.0.5 in /usr/local/lib/python3.6/dist-packages (from keras==2.2.4) (1.1.0)\n",
            "Installing collected packages: keras\n",
            "  Found existing installation: Keras 2.2.5\n",
            "    Uninstalling Keras-2.2.5:\n",
            "      Successfully uninstalled Keras-2.2.5\n",
            "Successfully installed keras-2.2.4\n"
          ],
          "name": "stdout"
        }
      ]
    },
    {
      "cell_type": "markdown",
      "metadata": {
        "id": "WifFgWHD6BKt"
      },
      "source": [
        "# CIFAR100 Image Classifier"
      ]
    },
    {
      "cell_type": "markdown",
      "metadata": {
        "id": "mplMiUDI6BKu"
      },
      "source": [
        "#### This notebook gives an overview of training an image classifier for the CIFAR 100 dataset"
      ]
    },
    {
      "cell_type": "markdown",
      "metadata": {
        "id": "mMzacE4u6BKv"
      },
      "source": [
        "### MODEL ARCHITECTURE\n",
        "**C : Convolution  \n",
        "A : Activation  \n",
        "MP: MaxPooling  \n",
        "DO: Dropout  \n",
        "F: Faltten  \n",
        "D: Dense  \n",
        "CL: OutputClasses**"
      ]
    },
    {
      "cell_type": "markdown",
      "metadata": {
        "id": "7MQGM7y86BKw"
      },
      "source": [
        "#### CONFIG A (Intuition)\n",
        "A basic intuituion in deciding the sizes and layers was to gradually increase the number of filters at each layer and ultimately faltten the layers and give the output size as the number of classes that the dataset contains.  \n",
        "\n",
        "The last 0.3 part of the training data is used as validation data.\n",
        "\n",
        "**Architecture: C(32)->A->MP(2x2)->C(64)->A->MP(2x2)->DO(0.1)->C(128)->A->MP(2x2)>DO(0.25)->F->D(512)->A->DO(0.5)->CL(100)**   \n",
        "**Optimizer: SGD**  \n",
        "**Epochs: 30**  \n",
        "**Batchsize: 100**  \n",
        "**Loss(validation): 3.2751% Accuracy(validation): 0.2207**"
      ]
    },
    {
      "cell_type": "markdown",
      "metadata": {
        "id": "YkeHO1n_6BKx"
      },
      "source": [
        "![](https://github.com/atharvajakkanwar/cifar100-classifier/blob/master/g1.JPG?raw=1)\n",
        "Fig1. (a)training accuracy (b)training loss(%) (c) validation_accuracy (d) validation_loss(%)  \n",
        "[all graphs have epochs as the x axis]"
      ]
    },
    {
      "cell_type": "markdown",
      "metadata": {
        "id": "lIyONt4F6BKx"
      },
      "source": [
        "This configuration had a large batch size which resulted in faster progress in training, but does not always guarantee fast convergence which can be seen above."
      ]
    },
    {
      "cell_type": "markdown",
      "metadata": {
        "id": "APiDzYek6BKy"
      },
      "source": [
        "#### CONFIG B (Batch and Epoch changes)\n",
        "  \n",
        "The batch size was reduced and the number of epochs increased.  \n",
        "\n",
        "**Architecture: C->MP->C->MP->DO->C->MP>DO->F->D->DO->CL**  \n",
        "**Dropouts: 0.1 -> 0.25 -> 0.5**  \n",
        "**Optimizer: SGD**  \n",
        "**Epochs: 50**  \n",
        "**Batchsize: 50**  \n",
        "**Loss(validation): 2.397% Accuracy(validation): 0.3981**"
      ]
    },
    {
      "cell_type": "markdown",
      "metadata": {
        "id": "4TvzQQRe6BKz"
      },
      "source": [
        "![](https://github.com/atharvajakkanwar/cifar100-classifier/blob/master/g2.JPG?raw=1)\n",
        "Fig2. (a)training accuracy (b)training loss(%) (c) validation_accuracy (d) validation_loss(%)  \n",
        "[all graphs have epochs as the x axis]"
      ]
    },
    {
      "cell_type": "markdown",
      "metadata": {
        "id": "1o6nm1N96BKz"
      },
      "source": [
        "The change in number of epochs and batch size resulted in improved accuracy. It can be seen that the accuracy was still increasing and had not yet reached a plateau, so the number of epochs have to be increased further."
      ]
    },
    {
      "cell_type": "markdown",
      "metadata": {
        "id": "vjOD-0ji6BK0"
      },
      "source": [
        "#### CONFIG C (Adam Optimizer and increased epochs)\n",
        "Number of epochs were increased and the the otimizer was changed to Adam to test if it gives better convergence.    \n",
        "\n",
        "**Architecture: C->MP->C->MP->DO->C->MP>DO->F->D->DO->CL**  \n",
        "**Dropouts: 0.1 -> 0.25 -> 0.5**  \n",
        "**Optimizer: Adam**  \n",
        "**Epochs: 100**  \n",
        "**Batchsize: 50**  \n",
        "**Loss(validation): 2.7191% Accuracy(training): 0.75 Accuracy(validation): 0.4309**"
      ]
    },
    {
      "cell_type": "markdown",
      "metadata": {
        "id": "1edEv-Av6BK1"
      },
      "source": [
        "![](https://github.com/atharvajakkanwar/cifar100-classifier/blob/master/g3.JPG?raw=1)\n",
        "Fig3. (a)training accuracy (b)training loss(%) (c) validation_accuracy (d) validation_loss(%)  \n",
        "[all graphs have epochs as the x axis]"
      ]
    },
    {
      "cell_type": "markdown",
      "metadata": {
        "id": "VLt6fFR76BK2"
      },
      "source": [
        "The training accuracy is greatly improved due to the increased epochs. Validation losses erratic behaviour, sudednly increasing after hitting a minima even while the validation accuracy remains almost constant. This indicates that the model gets better at identifying the training data, but gets worse at classifying new data(validation), which inturn indicates that the model is overfitting to the training data."
      ]
    },
    {
      "cell_type": "markdown",
      "metadata": {
        "id": "SV_F_1ze6BK2"
      },
      "source": [
        "#### CONFIG D  (Increased Dropouts to prevent overfitting)\n",
        "To prevent overfitting, we need to reduce the number of parameters. One way of doing this is by increasing the dropout rate. So the dropout rate is increased in all the layers to be 0.5. Epochs is reduced to save training time as the accuracy reaches a considerably stable percetage around 50 epochs.  \n",
        "\n",
        "**Architecture: C->MP->C->MP->DO->C->MP>DO->F->D->DO->CL**  \n",
        "**Dropouts: 0.5 -> 0.5 -> 0.5**  \n",
        "**Optimizer: Adam**  \n",
        "**Epochs: 50**  \n",
        "**Batchsize: 50** \n",
        "**Loss(validation): 2.4% Accuracy(validation): 0.425**"
      ]
    },
    {
      "cell_type": "markdown",
      "metadata": {
        "id": "SgIEblzr6BK3"
      },
      "source": [
        "![](https://github.com/atharvajakkanwar/cifar100-classifier/blob/master/g4.JPG?raw=1)\n",
        "Fig4. (a)training accuracy (b)training loss(%) (c) validation_accuracy (d) validation_loss(%)  \n",
        "[all graphs have epochs as the x axis]"
      ]
    },
    {
      "cell_type": "markdown",
      "metadata": {
        "id": "EKfxZS5O6BK4"
      },
      "source": [
        "Dropout infact reduced the problem of overfitting as can be seen in the validation losses. Increasing the number of epochs can possibly improve the accuracy even more."
      ]
    },
    {
      "cell_type": "markdown",
      "metadata": {
        "id": "6vQzsvzH6BK4"
      },
      "source": [
        "Data augmentation may also help in training a more generalised classifier."
      ]
    },
    {
      "cell_type": "markdown",
      "metadata": {
        "id": "fSg6B0f56BK5"
      },
      "source": [
        "#### CONFIG E (ELU activation and Regularization)\n",
        "To try out other acitvation functions, I tried ELU. ELU is said to haveing improved learning characteristics [FAST AND ACCURATE DEEP NETWORK LEARNING BY EXPONENTIAL LINEAR UNITS (ELUS)](https://arxiv.org/pdf/1511.07289.pdf) for CIFAR100 without batch normalizations. I also introduced another stack of C->MP->DO layer. L2 regularization was used with 0.005 penalty.\n",
        "\n",
        "**Architecture: C(32)->A->MP(2x2)->C(64)->A->MP(2x2)->DO(0.5)->C(128)->A->MP(2x2)>DO(0.5)->C(128)->A->MP(2x2)->DO(0.5)->F->D(512)->A->DO(0.5)->CL(100)**  \n",
        "**Dropouts: 0.5 -> 0.5 -> 0.5**  \n",
        "**Optimizer: ELU**  \n",
        "**Epochs: 70**  \n",
        "**Batchsize: 50** \n",
        "**Loss(validation): 2.4% Accuracy(validation): 0.445**"
      ]
    },
    {
      "cell_type": "markdown",
      "metadata": {
        "id": "7rGQeHiU6BK6"
      },
      "source": [
        "![](https://github.com/atharvajakkanwar/cifar100-classifier/blob/master/g5.JPG?raw=1)\n",
        "Fig6. (a)training accuracy (b)training loss(%) (c) validation_accuracy (d) validation_loss(%)  \n",
        "[all graphs have epochs as the x axis]"
      ]
    },
    {
      "cell_type": "markdown",
      "metadata": {
        "id": "lb0Zlzvm6BK6"
      },
      "source": [
        "Using ELU did not show drastic improvements. This could have been due to the different architecture as proposed in [FAST AND ACCURATE DEEP NETWORK LEARNING BY EXPONENTIAL LINEAR UNITS (ELUS)](https://arxiv.org/pdf/1511.07289.pdf). One change that was observed was significatly faster convergence, probably due to the presence of regularization. Each epoch took half the time it previouly took took complete."
      ]
    },
    {
      "cell_type": "markdown",
      "metadata": {
        "id": "Fhmd3DxO6BK7"
      },
      "source": [
        "#### CONFIG F (Removing Regularization from E)\n",
        "Removing regularization increased the processing time a bit but showed no significant change in the accuracy.\n",
        "![](https://github.com/atharvajakkanwar/cifar100-classifier/blob/master/g6.JPG?raw=1)\n",
        "Fig7. (a)training accuracy (b)training loss(%) (c) validation_accuracy (d) validation_loss(%)  \n",
        "[all graphs have epochs as the x axis]"
      ]
    },
    {
      "cell_type": "markdown",
      "metadata": {
        "id": "jeHNeGqY6BK8"
      },
      "source": [
        "#### CONFIG G (Changing number of filters)\n",
        "Keeping all configurations same as in F, the number of filters were changed to 64->128->128->256->512\n",
        "![](https://github.com/atharvajakkanwar/cifar100-classifier/blob/master/g7.JPG?raw=1)\n",
        "Fig7. (a)training accuracy (b)training loss(%) (c) validation_accuracy (d) validation_loss(%)  \n",
        "[all graphs have epochs as the x axis]"
      ]
    },
    {
      "cell_type": "markdown",
      "metadata": {
        "id": "GbGJU5_f6BK8"
      },
      "source": [
        "There was a slight improvement of about 4% and it seemed to increase steadily."
      ]
    },
    {
      "cell_type": "markdown",
      "metadata": {
        "id": "gaD8Mep16BK9"
      },
      "source": [
        "#### CONFIG H\n",
        "Since CONFIG D showed the most promising results, I ran it for 80 epoccs this time and 0.15 validation split it showed consistent performance and a slight increase in performance with **0.4 training accuracy and 0.45 validation accuracy**."
      ]
    },
    {
      "cell_type": "markdown",
      "metadata": {
        "id": "pCFzRbNI6BK-"
      },
      "source": [
        "![](https://github.com/atharvajakkanwar/cifar100-classifier/blob/master/g8.JPG?raw=1)\n",
        "Fig8. (a)training accuracy (b)training loss(%) (c) validation_accuracy (d) validation_loss(%)  \n",
        "[all graphs have epochs as the x axis]"
      ]
    },
    {
      "cell_type": "markdown",
      "metadata": {
        "id": "SA-o7ggy6BK_"
      },
      "source": [
        "### PYTHON CODE (Keras with Tensorflow backend)\n",
        "\n",
        "Matplotlib libraries wont work on non GUI systems."
      ]
    },
    {
      "cell_type": "markdown",
      "metadata": {
        "id": "E2JSVYXx6BK_"
      },
      "source": [
        "Set Keras backend to follow dimension ordering as supported by Tensorflow.  \n",
        "Storing all the generated metrics in /Performance deirectory to be viewed in TensorBoard."
      ]
    },
    {
      "cell_type": "code",
      "metadata": {
        "scrolled": true,
        "id": "Qodesz4Q6BLA",
        "colab": {
          "base_uri": "https://localhost:8080/",
          "height": 35
        },
        "outputId": "876e7b4b-5f79-48e4-e7ff-1fe8e72127a4"
      },
      "source": [
        "import os\n",
        "import numpy as np\n",
        "import keras\n",
        "keras.backend.set_image_dim_ordering('tf')\n",
        "tbCallBack = keras.callbacks.TensorBoard(log_dir='./Performance', histogram_freq=0,\n",
        "                                         write_graph=True, write_images=True)"
      ],
      "execution_count": null,
      "outputs": [
        {
          "output_type": "stream",
          "text": [
            "Using TensorFlow backend.\n"
          ],
          "name": "stderr"
        }
      ]
    },
    {
      "cell_type": "markdown",
      "metadata": {
        "id": "1Oxm4vxj6BLC"
      },
      "source": [
        "### Import Data"
      ]
    },
    {
      "cell_type": "markdown",
      "metadata": {
        "id": "bPNYhTEp6BLD"
      },
      "source": [
        "Import cifar100 dataset provided in Keras.  \n",
        "Convert the data to _float32_ and normalise."
      ]
    },
    {
      "cell_type": "code",
      "metadata": {
        "scrolled": true,
        "id": "oDC21AMn6BLE"
      },
      "source": [
        "from keras.datasets import cifar100\n",
        "def import_data():\n",
        "    \"\"\"\n",
        "    Preprocess cifar100 data by normalising and converting it to float32.\n",
        "    Returns:\n",
        "        list\n",
        "            a list of training data and test data (x,y,x,y).\n",
        "    \"\"\"\n",
        "    (x_train, y_train), (x_test, y_test) = cifar100.load_data()\n",
        "    print(\"Train data size: \" + str(x_train.shape[0]))\n",
        "    print(\"Test data size: \" + str(x_test.shape[0]))\n",
        "    y_train = keras.utils.to_categorical(y_train, 100)\n",
        "    y_test = keras.utils.to_categorical(y_test, 100)\n",
        "    # convert to float ndarray\n",
        "    x_train = x_train.astype('float32')\n",
        "    x_test = x_test.astype('float32')\n",
        "    # normalize\n",
        "    x_train /= 255.\n",
        "    x_test /= 255.\n",
        "    return [x_train, y_train, x_test, y_test]"
      ],
      "execution_count": null,
      "outputs": []
    },
    {
      "cell_type": "markdown",
      "metadata": {
        "id": "M1Qs7OAQ6BLG"
      },
      "source": [
        "### Model (CONFIG D/H)"
      ]
    },
    {
      "cell_type": "code",
      "metadata": {
        "scrolled": true,
        "id": "18FPHUXO6BLH"
      },
      "source": [
        "from keras.models import Sequential\n",
        "from keras.layers import Conv2D, MaxPooling2D, Dense, Dropout, Activation, Flatten\n",
        "def get_model(output_size, input_shape, opt, dropout = 0):\n",
        "    \"\"\"\n",
        "    Returns a model based on the given parameters and the underlying architecture.\n",
        "    Input:\n",
        "        output_size: the size of the output (the number of classe in this case)\n",
        "        input_shape: the shape of the input to the first conv layer\n",
        "        opt: the optimizer to be used\n",
        "        dropout: an integer flag representing wheter or not to use drop out. default at 0(false) \n",
        "    Returns:\n",
        "        A model with the above specifications and following architecture:\n",
        "        C->MP->C->MP->DO->C->MP>DO->F->D->DO->CL                \n",
        "    \"\"\"\n",
        "\n",
        "    C1 = Conv2D(32, (3, 3), padding='same',input_shape=input_shape)\n",
        "    MP1 = MaxPooling2D(pool_size=(2, 2))\n",
        "\n",
        "    C3 = Conv2D(64, (3, 3), padding='same')\n",
        "    MP2 = MaxPooling2D(pool_size=(2, 2))\n",
        "    DO1 = Dropout(0.5)\n",
        "\n",
        "    C5 = Conv2D(128, (3, 3), padding='same')\n",
        "    MP3 = MaxPooling2D(pool_size=(2, 2))  \n",
        "    DO2 = Dropout(0.5)\n",
        "\n",
        "    F1 = Flatten()\n",
        "    D1 = Dense(512)\n",
        "    DO3 = Dropout(0.5)\n",
        "    \n",
        "    CL = Dense(output_size)\n",
        "\n",
        "    model = Sequential()\n",
        "    \n",
        "    model.add(C1)\n",
        "    model.add(MP1)\n",
        "    model.add(Activation('relu'))\n",
        "\n",
        "    model.add(C3)\n",
        "    model.add(MP2)\n",
        "    model.add(Activation('relu'))\n",
        "    if dropout !=0:\n",
        "        model.add(DO1)\n",
        "\n",
        "    model.add(C5)\n",
        "    model.add(Activation('relu'))\n",
        "    model.add(MP3)\n",
        "    if dropout !=0:\n",
        "        model.add(DO2)    \n",
        "\n",
        "    model.add(F1)\n",
        "    model.add(D1)\n",
        "    model.add(Activation('relu'))\n",
        "    if dropout !=0:\n",
        "        model.add(DO3)\n",
        "        \n",
        "    model.add(CL)\n",
        "    model.add(Activation('softmax'))\n",
        "    \n",
        "    return model"
      ],
      "execution_count": null,
      "outputs": []
    },
    {
      "cell_type": "markdown",
      "metadata": {
        "id": "6xQZBTq-6BLJ"
      },
      "source": [
        "### Import data"
      ]
    },
    {
      "cell_type": "code",
      "metadata": {
        "scrolled": true,
        "id": "0uhrFAu46BLJ",
        "colab": {
          "base_uri": "https://localhost:8080/",
          "height": 86
        },
        "outputId": "0dd1ee72-f21d-451d-d11e-883e133a7314"
      },
      "source": [
        "data = import_data()\n",
        "#training data\n",
        "x_train = data[0]\n",
        "y_train = data[1]\n",
        "#validation data\n",
        "val_data_x = data[0][35000:50000]\n",
        "val_data_y = data[1][35000:50000]"
      ],
      "execution_count": null,
      "outputs": [
        {
          "output_type": "stream",
          "text": [
            "Downloading data from https://www.cs.toronto.edu/~kriz/cifar-100-python.tar.gz\n",
            "169009152/169001437 [==============================] - 4s 0us/step\n",
            "Train data size: 50000\n",
            "Test data size: 10000\n"
          ],
          "name": "stdout"
        }
      ]
    },
    {
      "cell_type": "markdown",
      "metadata": {
        "id": "c8zbS0_o6BLM"
      },
      "source": [
        "### Compile model"
      ]
    },
    {
      "cell_type": "code",
      "metadata": {
        "scrolled": true,
        "id": "5ZuoJzCs6BLN",
        "colab": {
          "base_uri": "https://localhost:8080/",
          "height": 245
        },
        "outputId": "a076d816-4783-4b6e-88e8-fbb0e7a12a2d"
      },
      "source": [
        "output_size = 100\n",
        "input_shape=data[0].shape[1:]\n",
        "# opt = keras.optimizers.SGD(lr=0.01, momentum=0.0, decay=0.0, nesterov=False)\n",
        "opt = keras.optimizers.Adam(lr=0.001, beta_1=0.9, beta_2=0.999, epsilon=1e-08, decay=0.0)\n",
        "loss='categorical_crossentropy'\n",
        "dropout = 0 #(0 for false 1 for true)\n",
        "\n",
        "my_model = get_model(output_size, input_shape, opt, dropout)\n",
        "my_model.compile(loss=loss,\n",
        "          optimizer=opt,\n",
        "          metrics=['accuracy'])"
      ],
      "execution_count": null,
      "outputs": [
        {
          "output_type": "stream",
          "text": [
            "WARNING:tensorflow:From /usr/local/lib/python3.6/dist-packages/keras/backend/tensorflow_backend.py:74: The name tf.get_default_graph is deprecated. Please use tf.compat.v1.get_default_graph instead.\n",
            "\n",
            "WARNING:tensorflow:From /usr/local/lib/python3.6/dist-packages/keras/backend/tensorflow_backend.py:517: The name tf.placeholder is deprecated. Please use tf.compat.v1.placeholder instead.\n",
            "\n",
            "WARNING:tensorflow:From /usr/local/lib/python3.6/dist-packages/keras/backend/tensorflow_backend.py:4138: The name tf.random_uniform is deprecated. Please use tf.random.uniform instead.\n",
            "\n",
            "WARNING:tensorflow:From /usr/local/lib/python3.6/dist-packages/keras/backend/tensorflow_backend.py:3976: The name tf.nn.max_pool is deprecated. Please use tf.nn.max_pool2d instead.\n",
            "\n",
            "WARNING:tensorflow:From /usr/local/lib/python3.6/dist-packages/keras/optimizers.py:790: The name tf.train.Optimizer is deprecated. Please use tf.compat.v1.train.Optimizer instead.\n",
            "\n",
            "WARNING:tensorflow:From /usr/local/lib/python3.6/dist-packages/keras/backend/tensorflow_backend.py:3295: The name tf.log is deprecated. Please use tf.math.log instead.\n",
            "\n"
          ],
          "name": "stdout"
        }
      ]
    },
    {
      "cell_type": "markdown",
      "metadata": {
        "id": "ZKb_3y4U6BLP"
      },
      "source": [
        "### Train model and save weights (Run this only for training)"
      ]
    },
    {
      "cell_type": "code",
      "metadata": {
        "scrolled": true,
        "id": "xb21hvMY6BLQ",
        "colab": {
          "base_uri": "https://localhost:8080/",
          "height": 262
        },
        "outputId": "97a16629-1600-4566-f240-b364ea7e5467"
      },
      "source": [
        "%%time\n",
        "epochs = 5\n",
        "batch_size = 50\n",
        "# train model\n",
        "my_model.fit(x_train, y_train,\n",
        "                  batch_size=batch_size,\n",
        "                  epochs=epochs,\n",
        "                  validation_split=0.3,\n",
        "                  shuffle=True,\n",
        "                  callbacks=[tbCallBack])\n",
        "# save weights\n",
        "import pickle\n",
        "import h5py\n",
        "\n",
        "my_model.save_weights('weightsfull.h5')"
      ],
      "execution_count": null,
      "outputs": [
        {
          "output_type": "stream",
          "text": [
            "Train on 35000 samples, validate on 15000 samples\n",
            "Epoch 1/5\n",
            "35000/35000 [==============================] - 12s 336us/step - loss: 3.0295 - acc: 0.2564 - val_loss: 2.8401 - val_acc: 0.2971\n",
            "Epoch 2/5\n",
            "35000/35000 [==============================] - 11s 321us/step - loss: 2.5576 - acc: 0.3489 - val_loss: 2.6518 - val_acc: 0.3377\n",
            "Epoch 3/5\n",
            "35000/35000 [==============================] - 11s 320us/step - loss: 2.1882 - acc: 0.4255 - val_loss: 2.5309 - val_acc: 0.3636\n",
            "Epoch 4/5\n",
            "35000/35000 [==============================] - 11s 321us/step - loss: 1.8962 - acc: 0.4915 - val_loss: 2.5031 - val_acc: 0.3889\n",
            "Epoch 5/5\n",
            "35000/35000 [==============================] - 11s 323us/step - loss: 1.5808 - acc: 0.5661 - val_loss: 2.5743 - val_acc: 0.3848\n",
            "CPU times: user 49.1 s, sys: 10.1 s, total: 59.3 s\n",
            "Wall time: 56.9 s\n"
          ],
          "name": "stdout"
        }
      ]
    },
    {
      "cell_type": "markdown",
      "metadata": {
        "id": "2CHyr4T36BLS"
      },
      "source": [
        "### Validate data without dropout layers\n",
        "The same model is compiled again without the droupout layers to check if the validation data yields the same accuracy results.  "
      ]
    },
    {
      "cell_type": "code",
      "metadata": {
        "scrolled": true,
        "id": "cf36JPqx6BLT"
      },
      "source": [
        "dropout = 0\n",
        "val_model = get_model(output_size, input_shape, opt, dropout)\n",
        "val_model.load_weights('weightsfull.h5')\n",
        "val_model.compile(loss=loss,\n",
        "          optimizer=opt,\n",
        "          metrics=['accuracy'])\n",
        "val_res = val_model.evaluate(val_data_x, val_data_y, batch_size=50, verbose=1)\n",
        "print(val_res)"
      ],
      "execution_count": null,
      "outputs": []
    },
    {
      "cell_type": "markdown",
      "metadata": {
        "id": "PAwMFmQz6BLV"
      },
      "source": [
        "**The loss percentage for the validation data set comprising of the last 15000 elements of the training data is 2.21% and the accuracy is 43.5%. This was achieved with CONFIG D**"
      ]
    },
    {
      "cell_type": "markdown",
      "metadata": {
        "id": "oGIiJNpz6BLW"
      },
      "source": [
        "### Testing the Model\n",
        "We will use the same model wihout the dropout layers for testing as dropout is introduced only to prevent overfitting while training the model."
      ]
    },
    {
      "cell_type": "code",
      "metadata": {
        "scrolled": false,
        "id": "aVZhUsKR6BLX"
      },
      "source": [
        "test_data_x = data[2]\n",
        "test_data_y = data[3]\n",
        "test_res = val_model.evaluate(test_data_x, test_data_y, batch_size=50, verbose=1)\n",
        "print(test_res)"
      ],
      "execution_count": null,
      "outputs": []
    },
    {
      "cell_type": "markdown",
      "metadata": {
        "id": "gkgAgMdP6BLa"
      },
      "source": [
        "**The loss percentage for the test data set comprising of the 10000 elements of the test data is 2.185% and the accuracy is 41.1%. This was achieved with CONFIG D**"
      ]
    },
    {
      "cell_type": "markdown",
      "metadata": {
        "id": "qPTGdRYl6BLc"
      },
      "source": [
        "#### Predicted results"
      ]
    },
    {
      "cell_type": "code",
      "metadata": {
        "scrolled": true,
        "id": "7kybM7R_6BLd"
      },
      "source": [
        "# predict test data\n",
        "test_results = []\n",
        "for i in range(len(test_data_x)):\n",
        "    test_results.append(val_model.predict(test_data_x[i:i+1], verbose=1))\n",
        "\n",
        "# select max value from the probablility vector of 100 classes\n",
        "pred = []\n",
        "flat_pred =[]\n",
        "for p in (test_results):\n",
        "    pred.append(p[0].argsort()[-1:][::-1])\n",
        "#flatten the list of list into a list\n",
        "for sublist in pred:\n",
        "    for item in sublist:\n",
        "        flat_pred.append(item)\n"
      ],
      "execution_count": null,
      "outputs": []
    },
    {
      "cell_type": "markdown",
      "metadata": {
        "id": "Sl3wOT4I6BLh"
      },
      "source": [
        "#### Actual labels"
      ]
    },
    {
      "cell_type": "code",
      "metadata": {
        "scrolled": false,
        "id": "GJCqZ5mc6BLi"
      },
      "source": [
        "# actual labels\n",
        "act = []\n",
        "flat_act = []\n",
        "for a in test_data_y:\n",
        "    act.append(a.argsort()[-1:][::-1])\n",
        "#flatten the list of list into a listfor sublist in act:\n",
        "    for item in sublist:\n",
        "        flat_act.append(item)"
      ],
      "execution_count": null,
      "outputs": []
    },
    {
      "cell_type": "markdown",
      "metadata": {
        "id": "P_hBapVG6BLl"
      },
      "source": [
        "#### Create confusion matrix"
      ]
    },
    {
      "cell_type": "code",
      "metadata": {
        "scrolled": false,
        "id": "_re0VnQD6BLm"
      },
      "source": [
        "import tensorflow as tf\n",
        "conf_mat = tf.contrib.metrics.confusion_matrix(np.asarray(flat_act, dtype=np.float32), np.asarray(flat_pred, dtype=np.float32), 100, dtype=np.float32)\n",
        "print(conf_mat)"
      ],
      "execution_count": null,
      "outputs": []
    },
    {
      "cell_type": "markdown",
      "metadata": {
        "id": "du6J-dXJ6BLp"
      },
      "source": [
        "#### Displaying the confusion matrix for CONFIG D"
      ]
    },
    {
      "cell_type": "code",
      "metadata": {
        "scrolled": true,
        "id": "xXdxIPoF6BLq"
      },
      "source": [
        "# convert tensor to numpy array for displaying\n",
        "to_print = tf.Session().run(conf_mat)\n",
        "import matplotlib as mp\n",
        "import matplotlib.pyplot as plot\n",
        "mp.rcParams['figure.figsize'] = (10,10)\n",
        "\n",
        "ax = plot.subplot(111)\n",
        "plot.imshow(np.asarray(to_print, dtype=np.float32))\n",
        "plot.xlabel('Predicted Fine Class', fontsize=16)\n",
        "plot.ylabel('Actual Fine Class', fontsize=16)\n",
        "\n",
        "plot.colorbar(fraction=0.046, pad=0.04)\n",
        "plot.show()"
      ],
      "execution_count": null,
      "outputs": []
    },
    {
      "cell_type": "markdown",
      "metadata": {
        "id": "kJp5-YSD6BLu"
      },
      "source": [
        "![](https://github.com/atharvajakkanwar/cifar100-classifier/blob/master/conf.JPG?raw=1)\n",
        "Fig5. The confusion matrix created by predicting the test data.\n"
      ]
    },
    {
      "cell_type": "markdown",
      "metadata": {
        "id": "HuCBFtoy6BLv"
      },
      "source": [
        "This confusion matrix represents a 100x100 matrix of the predictions vs the actual label for the test data. Each cell in the diagonal represents the correct number of predcitions. The total number of correct predictions for a class go into the actual row for that class value and the predicted column for that class value. The brighter color represents higher value which indicates higher correct predictions. This indicates that the classifier is performing well."
      ]
    },
    {
      "cell_type": "markdown",
      "metadata": {
        "id": "xTSxJ-Zn6BLw"
      },
      "source": [
        "### Testing on images outside the dataset"
      ]
    },
    {
      "cell_type": "code",
      "metadata": {
        "scrolled": true,
        "id": "6s5Q0a6h6BLw"
      },
      "source": [
        "# http://corochann.com/cifar-10-cifar-100-dataset-introduction-1258.html\n",
        "CIFAR100_LABELS_LIST = [\n",
        "    'apple', 'aquarium_fish', 'baby', 'bear', 'beaver', 'bed', 'bee', 'beetle', \n",
        "    'bicycle', 'bottle', 'bowl', 'boy', 'bridge', 'bus', 'butterfly', 'camel', \n",
        "    'can', 'castle', 'caterpillar', 'cattle', 'chair', 'chimpanzee', 'clock', \n",
        "    'cloud', 'cockroach', 'couch', 'crab', 'crocodile', 'cup', 'dinosaur', \n",
        "    'dolphin', 'elephant', 'flatfish', 'forest', 'fox', 'girl', 'hamster', \n",
        "    'house', 'kangaroo', 'keyboard', 'lamp', 'lawn_mower', 'leopard', 'lion',\n",
        "    'lizard', 'lobster', 'man', 'maple_tree', 'motorcycle', 'mountain', 'mouse',\n",
        "    'mushroom', 'oak_tree', 'orange', 'orchid', 'otter', 'palm_tree', 'pear',\n",
        "    'pickup_truck', 'pine_tree', 'plain', 'plate', 'poppy', 'porcupine',\n",
        "    'possum', 'rabbit', 'raccoon', 'ray', 'road', 'rocket', 'rose',\n",
        "    'sea', 'seal', 'shark', 'shrew', 'skunk', 'skyscraper', 'snail', 'snake',\n",
        "    'spider', 'squirrel', 'streetcar', 'sunflower', 'sweet_pepper', 'table',\n",
        "    'tank', 'telephone', 'television', 'tiger', 'tractor', 'train', 'trout',\n",
        "    'tulip', 'turtle', 'wardrobe', 'whale', 'willow_tree', 'wolf', 'woman',\n",
        "    'worm'\n",
        "]"
      ],
      "execution_count": null,
      "outputs": []
    },
    {
      "cell_type": "markdown",
      "metadata": {
        "id": "wXtM1Wrl6BLy"
      },
      "source": [
        "#### Predict external image\n",
        "Testing with data from outside the CIFAR100 dataset"
      ]
    },
    {
      "cell_type": "code",
      "metadata": {
        "scrolled": true,
        "id": "JUpYyKQd6BLy"
      },
      "source": [
        "def PIL2array(img):\n",
        "    return np.array(img.getdata(),\n",
        "                    np.uint8).reshape(img.size[1], img.size[0], 3)\n",
        "\n",
        "def predict_custom_image(label, path):\n",
        "    \"\"\"\n",
        "    Predicts the CIFAR100 class of a given 32X32 image\n",
        "    Input:\n",
        "        lable: label for the input image (should be from CIFAR fine labels)\n",
        "        path: path of the input image        \n",
        "    \"\"\"\n",
        "    # plot the image\n",
        "    from PIL import Image\n",
        "    img_ori =Image.open(path)\n",
        "    import matplotlib as mp\n",
        "    import matplotlib.pyplot as plot\n",
        "    mp.rcParams['figure.figsize'] = (6,6)\n",
        "    \n",
        "    # process\n",
        "    img = Image.open(path)\n",
        "    img = img.resize((32,32), Image.ANTIALIAS)\n",
        "     \n",
        "    ax = plot.subplot(111)\n",
        "    plot.imshow(img_ori)\n",
        "#     ax = plot.subplot(122)\n",
        "#     plot.imshow(img)\n",
        "    plot.show()\n",
        "\n",
        "    img = np.array(img)\n",
        "    img = np.asarray([img])\n",
        "    predicted = val_model.predict(img)[0].argsort()[-5:][::-1]\n",
        "\n",
        "    print(\"Actual: \",  label)\n",
        "    print(\"Predicted: \" ,predicted[0], CIFAR100_LABELS_LIST[predicted[0]]) \n",
        "    print(\"Next 4:\",\n",
        "          CIFAR100_LABELS_LIST[predicted[1]], \n",
        "          CIFAR100_LABELS_LIST[predicted[2]], \n",
        "          CIFAR100_LABELS_LIST[predicted[3]],\n",
        "         CIFAR100_LABELS_LIST[predicted[4]])\n",
        "    "
      ],
      "execution_count": null,
      "outputs": []
    },
    {
      "cell_type": "code",
      "metadata": {
        "scrolled": false,
        "id": "MlXbtxaq6BL0"
      },
      "source": [
        "predict_custom_image(\"motorcycle\", 'motor.JPG') \n",
        "predict_custom_image(\"lobster\", 'lobster.JPG') ## Predicts orchid based on the shape of the petals\n",
        "predict_custom_image(\"orchid\", 'orchid.JPG') \n",
        "predict_custom_image(\"rose\", 'rose.JPG')  \n",
        "predict_custom_image(\"girl\", 'dany.JPG') ## Predicted keyboard using the checkered pattern on the walls\n",
        "predict_custom_image(\"house\", 'house.JPG') \n",
        "predict_custom_image(\"rose\", 'black_rose.JPG') ## Predicted as telephone, uses color to predict rose, hence cannot identify it\n",
        "predict_custom_image(\"girl\", 'arya.JPG') ## Always confuses arya for orchids!"
      ],
      "execution_count": null,
      "outputs": []
    },
    {
      "cell_type": "markdown",
      "metadata": {
        "id": "c6Nxjj7b6BL2"
      },
      "source": [
        "#### Predict images from CIFAR test data"
      ]
    },
    {
      "cell_type": "code",
      "metadata": {
        "scrolled": true,
        "id": "2lpI9owe6BL3"
      },
      "source": [
        "def predict_cifar_img(im_num):\n",
        "    \"\"\"\n",
        "    Predicts the given image number from CIFAR100 data set\n",
        "    \"\"\"\n",
        "    # extract the image\n",
        "    img = test_data_x[im_num]\n",
        "    # extract the image label\n",
        "    actual = test_data_y[im_num].argsort()[-1:][::-1]\n",
        "    # plot the image\n",
        "    import matplotlib as mp\n",
        "    import matplotlib.pyplot as plot\n",
        "    mp.rcParams['figure.figsize'] = (3,3)\n",
        "    ax = plot.subplot(111)\n",
        "    plot.imshow(img)\n",
        "    plot.show()\n",
        "\n",
        "\n",
        "    img = np.asarray([img])\n",
        "    predicted = val_model.predict(img)[0].argsort()[-1:][::-1]\n",
        "\n",
        "    print(\"Image number: \", im_num)\n",
        "    print(\"Predicted class:\" ,predicted[0], CIFAR100_LABELS_LIST[predicted[0]])\n",
        "    print(\"Actual class:\", actual[0],  CIFAR100_LABELS_LIST[actual[0]])"
      ],
      "execution_count": null,
      "outputs": []
    },
    {
      "cell_type": "markdown",
      "metadata": {
        "id": "3yJechwy6BL6"
      },
      "source": [
        "#### Predicting random images from CIFAR100 test data"
      ]
    },
    {
      "cell_type": "code",
      "metadata": {
        "scrolled": true,
        "id": "gzfkTWst6BL6"
      },
      "source": [
        "def predict_random_cifar(num_img, random, skip):\n",
        "    \"\"\"\n",
        "    Input:\n",
        "        num_img: number of images to predict\n",
        "        random: a random number to select random images\n",
        "        skip: another random number \n",
        "    Precondition:\n",
        "        num_img*random+skip < 10000\n",
        "    \"\"\"\n",
        "    import matplotlib as mp\n",
        "    import matplotlib.pyplot as plot\n",
        "    # print the images and predictions\n",
        "    for i in range(num_img):\n",
        "        # display original\n",
        "        ax = plot.subplot(1, num_img, i + 1)\n",
        "        predict_cifar_img(i*random+skip)\n",
        "        ax.get_xaxis().set_visible(False)\n",
        "        ax.get_yaxis().set_visible(False)\n",
        "    # plot.tight_layout()\n",
        "    plot.show()\n"
      ],
      "execution_count": null,
      "outputs": []
    },
    {
      "cell_type": "code",
      "metadata": {
        "scrolled": true,
        "id": "IhnoGC-Y6BL8"
      },
      "source": [
        "predict_random_cifar(5, 683, 9)"
      ],
      "execution_count": null,
      "outputs": []
    },
    {
      "cell_type": "markdown",
      "metadata": {
        "id": "CIf8SQlY6BMA"
      },
      "source": [
        "![](https://github.com/atharvajakkanwar/cifar100-classifier/blob/master/pred_1.JPG?raw=1)"
      ]
    },
    {
      "cell_type": "markdown",
      "metadata": {
        "id": "pO8BO_zV6BMB"
      },
      "source": [
        "#### Some false results"
      ]
    },
    {
      "cell_type": "markdown",
      "metadata": {
        "id": "x9eBbCVh6BMB"
      },
      "source": [
        "![](https://github.com/atharvajakkanwar/cifar100-classifier/blob/master/false1.JPG?raw=1) "
      ]
    }
  ]
}