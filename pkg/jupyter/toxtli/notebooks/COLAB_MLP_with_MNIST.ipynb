{
  "nbformat": 4,
  "nbformat_minor": 0,
  "metadata": {
    "kernelspec": {
      "display_name": "Python 3",
      "language": "python",
      "name": "python3"
    },
    "language_info": {
      "codemirror_mode": {
        "name": "ipython",
        "version": 3
      },
      "file_extension": ".py",
      "mimetype": "text/x-python",
      "name": "python",
      "nbconvert_exporter": "python",
      "pygments_lexer": "ipython3",
      "version": "3.6.8"
    },
    "colab": {
      "name": "COLAB - MLP with MNIST.ipynb",
      "provenance": [],
      "collapsed_sections": []
    }
  },
  "cells": [
    {
      "cell_type": "markdown",
      "metadata": {
        "id": "nSjO8pJ580yG"
      },
      "source": [
        "Adapted by Carlos Toxtli https://www.carlostoxtli.com/#colab-mlp-2\n",
        "\n",
        "Source: https://github.com/littlenine/MLP-tutorial/blob/master/MLP%20with%20MNIST.ipynb"
      ]
    },
    {
      "cell_type": "markdown",
      "metadata": {
        "id": "BWUykHkb8yEV"
      },
      "source": [
        "# MLP\n",
        "\n",
        "In this tutorial, we will use Keras and MNIST dataset.\n",
        "  \n",
        "  \n",
        "MNIST dataset is a opensource dataset for hand writing.\n",
        "Each image is in size 28 x 28 pixel.\n",
        "  \n",
        "\n",
        "Before we start get into Keras, let's prepare some visualize methods."
      ]
    },
    {
      "cell_type": "code",
      "metadata": {
        "id": "SwwrBdxe8yEW"
      },
      "source": [
        "import matplotlib.pyplot as plt\n",
        "from IPython.display import Image\n",
        "\n",
        "def show_images(images: list) -> None:\n",
        "    n: int = len(images)\n",
        "    f = plt.figure()\n",
        "    for i in range(n):        \n",
        "        f.add_subplot(1, n, i + 1)\n",
        "        plt.imshow(images[i], cmap='gray')\n",
        "    plt.show(block=True)\n",
        "    \n",
        "def show_image(image) -> None:\n",
        "    plt.imshow(image, cmap='gray')\n",
        "    plt.show(block=True)\n",
        "    \n",
        "def show_online_image(target_url):\n",
        "    # Image(url= \"https://gluon.mxnet.io/_images/dcgan.png\")\n",
        "    Image(url= target_url)\n",
        "    \n",
        "def plot_images_labels_prediction(images,labels,prediction,idx,num=10):\n",
        "    fig=plt.gcf()\n",
        "    fig.set_size_inches(12, 14)\n",
        "    if num > 25: num=25\n",
        "    for i in range(0, num):\n",
        "        ax=plt.subplot(5, 5, i+1)\n",
        "        ax.imshow(images[idx], cmap='binary')\n",
        "        title=\"label=\" + str(labels[idx])\n",
        "        if len(prediction) > 0:\n",
        "            title += \",predict=\" + str(prediction[idx])\n",
        "        ax.set_title(title, fontsize=10)\n",
        "        ax.set_xticks([]);\n",
        "        ax.set_yticks([]);\n",
        "        idx += 1\n",
        "    plt.show()\n",
        "    \n",
        "def show_train_history(train_history):\n",
        "    fig=plt.gcf()\n",
        "    fig.set_size_inches(16, 6)\n",
        "    plt.subplot(121)\n",
        "    print(train_history.history.keys())\n",
        "    \n",
        "    if \"accuracy\" in train_history.history.keys():\n",
        "        plt.plot(train_history.history[\"accuracy\"])\n",
        "    \n",
        "    if \"val_accuracy\" in train_history.history.keys():\n",
        "        plt.plot(train_history.history[\"val_accuracy\"])\n",
        "        \n",
        "    plt.title(\"Train History\")\n",
        "    plt.xlabel(\"Epoch\")\n",
        "    plt.ylabel(\"Accuracy\")\n",
        "    plt.legend([\"train\", \"validation\"], loc=\"upper left\")\n",
        "    plt.subplot(122)\n",
        "    \n",
        "    if \"loss\" in train_history.history.keys():\n",
        "        plt.plot(train_history.history[\"loss\"])\n",
        "        \n",
        "    if \"val_loss\" in train_history.history.keys():\n",
        "        plt.plot(train_history.history[\"val_loss\"])\n",
        "        \n",
        "    plt.title(\"Train History\")\n",
        "    plt.xlabel(\"Epoch\")\n",
        "    plt.ylabel(\"Loss\")\n",
        "    plt.legend([\"train\", \"validation\"], loc=\"upper left\")\n",
        "    plt.show()"
      ],
      "execution_count": null,
      "outputs": []
    },
    {
      "cell_type": "markdown",
      "metadata": {
        "id": "OI1sLWZJ8yEZ"
      },
      "source": [
        "### Load and check your datas\n",
        "You can load your dataset from Keras directly.\n",
        "Let's check how it looks like."
      ]
    },
    {
      "cell_type": "code",
      "metadata": {
        "id": "oD_pkZkG8yEa",
        "colab": {
          "base_uri": "https://localhost:8080/",
          "height": 165
        },
        "outputId": "c8e0c3c2-a9a9-4db2-809c-f4f0e97b7d8b"
      },
      "source": [
        "from tensorflow import keras\n",
        "from keras.datasets import mnist\n",
        "\n",
        "(x_train, y_train), (x_test, y_test) = mnist.load_data()\n",
        "\n",
        "# print out first 10 images in our training data\n",
        "imgplot = show_images(x_train[0:10])\n",
        "\n",
        "# check the size of our dataset\n",
        "print(\"number of training images:\",x_train.shape[0])\n",
        "print(\"number of test images:\",y_test.shape[0])"
      ],
      "execution_count": null,
      "outputs": [
        {
          "output_type": "stream",
          "text": [
            "Using TensorFlow backend.\n"
          ],
          "name": "stderr"
        },
        {
          "output_type": "stream",
          "text": [
            "Downloading data from https://s3.amazonaws.com/img-datasets/mnist.npz\n",
            "11493376/11490434 [==============================] - 0s 0us/step\n"
          ],
          "name": "stdout"
        },
        {
          "output_type": "display_data",
          "data": {
            "image/png": "[encoded data removed]",
            "text/plain": [
              "<Figure size 432x288 with 10 Axes>"
            ]
          },
          "metadata": {
            "tags": []
          }
        },
        {
          "output_type": "stream",
          "text": [
            "number of training images: 60000\n",
            "number of test images: 10000\n"
          ],
          "name": "stdout"
        }
      ]
    },
    {
      "cell_type": "markdown",
      "metadata": {
        "id": "MoMBLOxj8yEd"
      },
      "source": [
        "Now we know the how many images we have in training data, and we know the structure of MLP.  \n",
        "  \n",
        "**How to make image into MLP input?**    \n",
        "Simply, we make it into a vector."
      ]
    },
    {
      "cell_type": "code",
      "metadata": {
        "id": "Z8txTm-y8yEe",
        "colab": {
          "base_uri": "https://localhost:8080/",
          "height": 304
        },
        "outputId": "d68d1622-c110-465d-ba55-551794a8b7a0"
      },
      "source": [
        "sample = x_train[0]\n",
        "\n",
        "# origin image\n",
        "show_image(sample)\n",
        "\n",
        "# input of MLP, a images were transfer into a vector\n",
        "show_image(sample.reshape(1, 28 * 28))"
      ],
      "execution_count": null,
      "outputs": [
        {
          "output_type": "display_data",
          "data": {
            "image/png": "[encoded data removed]",
            "text/plain": [
              "<Figure size 432x288 with 1 Axes>"
            ]
          },
          "metadata": {
            "tags": []
          }
        },
        {
          "output_type": "display_data",
          "data": {
            "image/png": "[encoded data removed]",
            "text/plain": [
              "<Figure size 432x288 with 1 Axes>"
            ]
          },
          "metadata": {
            "tags": []
          }
        }
      ]
    },
    {
      "cell_type": "code",
      "metadata": {
        "id": "1l_nAYSJ8yEg"
      },
      "source": [
        "# update all the training, testing dataset.\n",
        "x_train = x_train.reshape(60000, 28*28)\n",
        "x_test = x_test.reshape(10000, 28*28)\n",
        "x_train = x_train.astype('float32')\n",
        "x_test = x_test.astype('float32')\n",
        "\n",
        "# normalize them into range [0, 1]\n",
        "x_train /= 255\n",
        "x_test /= 255"
      ],
      "execution_count": null,
      "outputs": []
    },
    {
      "cell_type": "markdown",
      "metadata": {
        "id": "YeQjZ0cT8yEj"
      },
      "source": [
        "**Why Normalize need to divide by 255 for image?**  \n",
        "\n",
        "In computer vision, the color space were \n",
        "R \\[0,255\\]\n",
        "G \\[0,255\\]\n",
        "B \\[0,255\\]\n",
        "\n",
        "While we use gray images, the color space of R G B were same.  \n",
        "We can take color space \\[3, High, Weight\\] of an image as\n",
        "\\[1, High, Weight\\].  \n",
        "Same as \\[H, W\\]  "
      ]
    },
    {
      "cell_type": "markdown",
      "metadata": {
        "id": "tnPtC5OP8yEj"
      },
      "source": [
        "## Prepare your first model  \n",
        "  \n",
        "In Keras, you can create model layers like a Queue.  "
      ]
    },
    {
      "cell_type": "code",
      "metadata": {
        "id": "BcffQWMr8yEk",
        "colab": {
          "base_uri": "https://localhost:8080/",
          "height": 326
        },
        "outputId": "70a94045-00f6-4ccd-900f-ba67b001aee6"
      },
      "source": [
        "from tensorflow.keras import layers\n",
        "\n",
        "num_classes = 10\n",
        "\n",
        "# create a Sequential model\n",
        "model = keras.Sequential(\n",
        "    [\n",
        "        # input layer. input data with size 28*28 and output size 256\n",
        "        # 256 means you set up your modul with 256 NN in this layer. This value is up to you.\n",
        "        layers.Dense(256, input_shape=(28*28,), activation='relu'), \n",
        "        \n",
        "        # hidden layer. input data with size 256, which were same to output of input layer.\n",
        "        # output size 256, we set up 256 NN again in this hidden layer.\n",
        "        # no need to give input size here because keras already know.\n",
        "        layers.Dense(256, activation='relu'),\n",
        "        \n",
        "        # output layer. the number of output should be your number of classification\n",
        "        layers.Dense(num_classes, activation='softmax')\n",
        "    ]\n",
        ");\n",
        "\n",
        "# print out model structure\n",
        "model.summary()"
      ],
      "execution_count": null,
      "outputs": [
        {
          "output_type": "stream",
          "text": [
            "WARNING:tensorflow:From /usr/local/lib/python3.6/dist-packages/tensorflow/python/ops/init_ops.py:1251: calling VarianceScaling.__init__ (from tensorflow.python.ops.init_ops) with dtype is deprecated and will be removed in a future version.\n",
            "Instructions for updating:\n",
            "Call initializer instance with the dtype argument instead of passing it to the constructor\n",
            "Model: \"sequential\"\n",
            "_________________________________________________________________\n",
            "Layer (type)                 Output Shape              Param #   \n",
            "=================================================================\n",
            "dense (Dense)                (None, 256)               200960    \n",
            "_________________________________________________________________\n",
            "dense_1 (Dense)              (None, 256)               65792     \n",
            "_________________________________________________________________\n",
            "dense_2 (Dense)              (None, 10)                2570      \n",
            "=================================================================\n",
            "Total params: 269,322\n",
            "Trainable params: 269,322\n",
            "Non-trainable params: 0\n",
            "_________________________________________________________________\n"
          ],
          "name": "stdout"
        }
      ]
    },
    {
      "cell_type": "markdown",
      "metadata": {
        "id": "SMsyp_dI8yEm"
      },
      "source": [
        "**What we have in our model is:**  \n",
        "input layer: input size = 28*28+1, output size = 256.  we have totally (28*28+1)* 256 = 200960 parameters.  \n",
        "hidden layer: input size = 256 + 1, output size = 256. we have totally (256+1)* 256   = 65792 parameters.  \n",
        "output layer:input size = 256 + 1, output size = 10.   we have totally (256+1)* 10    = 2570 parameters.  "
      ]
    },
    {
      "cell_type": "markdown",
      "metadata": {
        "id": "dRShWUXD8yEn"
      },
      "source": [
        "## Compile your model\n",
        "We can now move on to compile our model.  \n",
        "Here are the parameters:  \n",
        "- optimizer : how to optimize your weights.\n",
        "- loss : loss function.\n",
        "- metrics : how to evaluate your model.\n",
        "\n",
        "we don't disscuss how to select your optimizer and loss here. :)  \n",
        "Let's introduce 2 important setting in Machine Learning.\n",
        "- Batch : there are 2 ways to update your weights in model  \n",
        "    - update everytime after watching **an** input.\n",
        "    - update once after watching **batch** of inputs.  \n",
        "      \n",
        "    here we update once for 1000 inputs.  \n",
        "- Epochs : how many times you want to look overwhole your datas."
      ]
    },
    {
      "cell_type": "code",
      "metadata": {
        "id": "0O7Y_Doq8yEo",
        "colab": {
          "base_uri": "https://localhost:8080/",
          "height": 374
        },
        "outputId": "ba55bc81-6392-4b29-e90e-13d26cacf250"
      },
      "source": [
        "model.compile(optimizer='adam', \n",
        "              loss='sparse_categorical_crossentropy', \n",
        "              metrics=['accuracy'])\n",
        "\n",
        "batch_size = 256\n",
        "epochs = 10\n",
        "history = model.fit(x_train, y_train,\n",
        "                    epochs=epochs,\n",
        "                    validation_split=0.2)"
      ],
      "execution_count": null,
      "outputs": [
        {
          "output_type": "stream",
          "text": [
            "Train on 48000 samples, validate on 12000 samples\n",
            "Epoch 1/10\n",
            "48000/48000 [==============================] - 6s 121us/sample - loss: 0.2211 - acc: 0.9330 - val_loss: 0.1155 - val_acc: 0.9644\n",
            "Epoch 2/10\n",
            "48000/48000 [==============================] - 6s 116us/sample - loss: 0.0905 - acc: 0.9725 - val_loss: 0.0938 - val_acc: 0.9707\n",
            "Epoch 3/10\n",
            "48000/48000 [==============================] - 5s 113us/sample - loss: 0.0607 - acc: 0.9806 - val_loss: 0.0929 - val_acc: 0.9722\n",
            "Epoch 4/10\n",
            "48000/48000 [==============================] - 5s 112us/sample - loss: 0.0467 - acc: 0.9850 - val_loss: 0.0842 - val_acc: 0.9778\n",
            "Epoch 5/10\n",
            "48000/48000 [==============================] - 6s 115us/sample - loss: 0.0371 - acc: 0.9876 - val_loss: 0.0962 - val_acc: 0.9732\n",
            "Epoch 6/10\n",
            "48000/48000 [==============================] - 5s 113us/sample - loss: 0.0286 - acc: 0.9907 - val_loss: 0.0980 - val_acc: 0.9761\n",
            "Epoch 7/10\n",
            "48000/48000 [==============================] - 6s 116us/sample - loss: 0.0260 - acc: 0.9911 - val_loss: 0.1059 - val_acc: 0.9762\n",
            "Epoch 8/10\n",
            "48000/48000 [==============================] - 6s 116us/sample - loss: 0.0215 - acc: 0.9930 - val_loss: 0.1008 - val_acc: 0.9747\n",
            "Epoch 9/10\n",
            "48000/48000 [==============================] - 5s 112us/sample - loss: 0.0201 - acc: 0.9932 - val_loss: 0.1122 - val_acc: 0.9766\n",
            "Epoch 10/10\n",
            "48000/48000 [==============================] - 6s 116us/sample - loss: 0.0190 - acc: 0.9943 - val_loss: 0.1061 - val_acc: 0.9778\n"
          ],
          "name": "stdout"
        }
      ]
    },
    {
      "cell_type": "markdown",
      "metadata": {
        "id": "_wfgxxOV8yEq"
      },
      "source": [
        "## Check result of model\n",
        "\n",
        "How it works on testing data?  "
      ]
    },
    {
      "cell_type": "code",
      "metadata": {
        "id": "idiPccB48yEr",
        "colab": {
          "base_uri": "https://localhost:8080/",
          "height": 51
        },
        "outputId": "8d4fed99-373b-4518-bcce-65e50654edf2"
      },
      "source": [
        "scores, acc = model.evaluate(x_test, y_test, verbose=0)\n",
        "print('Test loss:', scores)\n",
        "print('Test accuracy:', acc)"
      ],
      "execution_count": null,
      "outputs": [
        {
          "output_type": "stream",
          "text": [
            "Test loss: 0.09556611816181534\n",
            "Test accuracy: 0.9773\n"
          ],
          "name": "stdout"
        }
      ]
    },
    {
      "cell_type": "markdown",
      "metadata": {
        "id": "cd7MK3ik8yEt"
      },
      "source": [
        "\n",
        "  \n",
        "It looks nice!   \n",
        "  \n",
        "Let's visualize our result by printing out 25 images of label and predict result."
      ]
    },
    {
      "cell_type": "code",
      "metadata": {
        "id": "4XYFwWhU8yEt",
        "colab": {
          "base_uri": "https://localhost:8080/",
          "height": 811
        },
        "outputId": "54d66a86-b63e-42b0-c318-8a065bba1ebf"
      },
      "source": [
        "prediction = model.predict_classes(x_test)\n",
        "print('Test prediction:', prediction)\n",
        "\n",
        "i = 0  # start from 0\n",
        "j = 25 # end at 25\n",
        "\n",
        "(_, _), (x_test_image, y_test_label) = mnist.load_data()\n",
        "plot_images_labels_prediction(x_test_image,y_test_label,prediction,i,j)"
      ],
      "execution_count": null,
      "outputs": [
        {
          "output_type": "stream",
          "text": [
            "Test prediction: [7 2 1 ... 4 5 6]\n"
          ],
          "name": "stdout"
        },
        {
          "output_type": "display_data",
          "data": {
            "image/png": "[encoded data removed]",
            "text/plain": [
              "<Figure size 864x1008 with 25 Axes>"
            ]
          },
          "metadata": {
            "tags": []
          }
        }
      ]
    },
    {
      "cell_type": "code",
      "metadata": {
        "id": "lVa3zveV8yEv",
        "colab": {
          "base_uri": "https://localhost:8080/",
          "height": 421
        },
        "outputId": "81f30820-404f-4db5-8551-141a9052499f"
      },
      "source": [
        "#show train history\n",
        "show_train_history(history)"
      ],
      "execution_count": null,
      "outputs": [
        {
          "output_type": "stream",
          "text": [
            "dict_keys(['loss', 'acc', 'val_loss', 'val_acc'])\n"
          ],
          "name": "stdout"
        },
        {
          "output_type": "display_data",
          "data": {
            "image/png": "[encoded data removed]",
            "text/plain": [
              "<Figure size 1152x432 with 2 Axes>"
            ]
          },
          "metadata": {
            "tags": []
          }
        }
      ]
    },
    {
      "cell_type": "code",
      "metadata": {
        "id": "EdpdMC6d8yEx",
        "colab": {
          "base_uri": "https://localhost:8080/",
          "height": 390
        },
        "outputId": "e3af7f21-f0aa-4ebc-9f6c-524ed89f40a9"
      },
      "source": [
        "import pandas as pd\n",
        "\n",
        "# create confusion matrix\n",
        "pd.crosstab(y_test_label, prediction, rownames=['label'],colnames=['predict'])"
      ],
      "execution_count": null,
      "outputs": [
        {
          "output_type": "execute_result",
          "data": {
            "text/html": [
              "<div>\n",
              "<style scoped>\n",
              "    .dataframe tbody tr th:only-of-type {\n",
              "        vertical-align: middle;\n",
              "    }\n",
              "\n",
              "    .dataframe tbody tr th {\n",
              "        vertical-align: top;\n",
              "    }\n",
              "\n",
              "    .dataframe thead th {\n",
              "        text-align: right;\n",
              "    }\n",
              "</style>\n",
              "<table border=\"1\" class=\"dataframe\">\n",
              "  <thead>\n",
              "    <tr style=\"text-align: right;\">\n",
              "      <th>predict</th>\n",
              "      <th>0</th>\n",
              "      <th>1</th>\n",
              "      <th>2</th>\n",
              "      <th>3</th>\n",
              "      <th>4</th>\n",
              "      <th>5</th>\n",
              "      <th>6</th>\n",
              "      <th>7</th>\n",
              "      <th>8</th>\n",
              "      <th>9</th>\n",
              "    </tr>\n",
              "    <tr>\n",
              "      <th>label</th>\n",
              "      <th></th>\n",
              "      <th></th>\n",
              "      <th></th>\n",
              "      <th></th>\n",
              "      <th></th>\n",
              "      <th></th>\n",
              "      <th></th>\n",
              "      <th></th>\n",
              "      <th></th>\n",
              "      <th></th>\n",
              "    </tr>\n",
              "  </thead>\n",
              "  <tbody>\n",
              "    <tr>\n",
              "      <th>0</th>\n",
              "      <td>969</td>\n",
              "      <td>0</td>\n",
              "      <td>2</td>\n",
              "      <td>0</td>\n",
              "      <td>1</td>\n",
              "      <td>1</td>\n",
              "      <td>4</td>\n",
              "      <td>1</td>\n",
              "      <td>1</td>\n",
              "      <td>1</td>\n",
              "    </tr>\n",
              "    <tr>\n",
              "      <th>1</th>\n",
              "      <td>0</td>\n",
              "      <td>1118</td>\n",
              "      <td>3</td>\n",
              "      <td>3</td>\n",
              "      <td>0</td>\n",
              "      <td>2</td>\n",
              "      <td>2</td>\n",
              "      <td>0</td>\n",
              "      <td>6</td>\n",
              "      <td>1</td>\n",
              "    </tr>\n",
              "    <tr>\n",
              "      <th>2</th>\n",
              "      <td>0</td>\n",
              "      <td>0</td>\n",
              "      <td>1008</td>\n",
              "      <td>5</td>\n",
              "      <td>3</td>\n",
              "      <td>0</td>\n",
              "      <td>3</td>\n",
              "      <td>4</td>\n",
              "      <td>9</td>\n",
              "      <td>0</td>\n",
              "    </tr>\n",
              "    <tr>\n",
              "      <th>3</th>\n",
              "      <td>1</td>\n",
              "      <td>0</td>\n",
              "      <td>2</td>\n",
              "      <td>996</td>\n",
              "      <td>0</td>\n",
              "      <td>4</td>\n",
              "      <td>0</td>\n",
              "      <td>2</td>\n",
              "      <td>4</td>\n",
              "      <td>1</td>\n",
              "    </tr>\n",
              "    <tr>\n",
              "      <th>4</th>\n",
              "      <td>2</td>\n",
              "      <td>0</td>\n",
              "      <td>2</td>\n",
              "      <td>1</td>\n",
              "      <td>954</td>\n",
              "      <td>0</td>\n",
              "      <td>4</td>\n",
              "      <td>1</td>\n",
              "      <td>0</td>\n",
              "      <td>18</td>\n",
              "    </tr>\n",
              "    <tr>\n",
              "      <th>5</th>\n",
              "      <td>3</td>\n",
              "      <td>0</td>\n",
              "      <td>0</td>\n",
              "      <td>13</td>\n",
              "      <td>0</td>\n",
              "      <td>870</td>\n",
              "      <td>3</td>\n",
              "      <td>1</td>\n",
              "      <td>2</td>\n",
              "      <td>0</td>\n",
              "    </tr>\n",
              "    <tr>\n",
              "      <th>6</th>\n",
              "      <td>4</td>\n",
              "      <td>2</td>\n",
              "      <td>1</td>\n",
              "      <td>0</td>\n",
              "      <td>2</td>\n",
              "      <td>4</td>\n",
              "      <td>942</td>\n",
              "      <td>0</td>\n",
              "      <td>2</td>\n",
              "      <td>1</td>\n",
              "    </tr>\n",
              "    <tr>\n",
              "      <th>7</th>\n",
              "      <td>1</td>\n",
              "      <td>2</td>\n",
              "      <td>6</td>\n",
              "      <td>9</td>\n",
              "      <td>1</td>\n",
              "      <td>0</td>\n",
              "      <td>0</td>\n",
              "      <td>1001</td>\n",
              "      <td>4</td>\n",
              "      <td>4</td>\n",
              "    </tr>\n",
              "    <tr>\n",
              "      <th>8</th>\n",
              "      <td>4</td>\n",
              "      <td>0</td>\n",
              "      <td>2</td>\n",
              "      <td>13</td>\n",
              "      <td>1</td>\n",
              "      <td>5</td>\n",
              "      <td>0</td>\n",
              "      <td>2</td>\n",
              "      <td>945</td>\n",
              "      <td>2</td>\n",
              "    </tr>\n",
              "    <tr>\n",
              "      <th>9</th>\n",
              "      <td>2</td>\n",
              "      <td>2</td>\n",
              "      <td>0</td>\n",
              "      <td>16</td>\n",
              "      <td>6</td>\n",
              "      <td>4</td>\n",
              "      <td>1</td>\n",
              "      <td>5</td>\n",
              "      <td>3</td>\n",
              "      <td>970</td>\n",
              "    </tr>\n",
              "  </tbody>\n",
              "</table>\n",
              "</div>"
            ],
            "text/plain": [
              "predict    0     1     2    3    4    5    6     7    8    9\n",
              "label                                                       \n",
              "0        969     0     2    0    1    1    4     1    1    1\n",
              "1          0  1118     3    3    0    2    2     0    6    1\n",
              "2          0     0  1008    5    3    0    3     4    9    0\n",
              "3          1     0     2  996    0    4    0     2    4    1\n",
              "4          2     0     2    1  954    0    4     1    0   18\n",
              "5          3     0     0   13    0  870    3     1    2    0\n",
              "6          4     2     1    0    2    4  942     0    2    1\n",
              "7          1     2     6    9    1    0    0  1001    4    4\n",
              "8          4     0     2   13    1    5    0     2  945    2\n",
              "9          2     2     0   16    6    4    1     5    3  970"
            ]
          },
          "metadata": {
            "tags": []
          },
          "execution_count": 10
        }
      ]
    },
    {
      "cell_type": "code",
      "metadata": {
        "id": "eYO6dYtG8yEz",
        "colab": {
          "base_uri": "https://localhost:8080/",
          "height": 317
        },
        "outputId": "e5c4f0e5-c788-446b-893d-6f027628015d"
      },
      "source": [
        "#import jovian\n",
        "#jovian.commit()"
      ],
      "execution_count": null,
      "outputs": [
        {
          "output_type": "error",
          "ename": "ModuleNotFoundError",
          "evalue": "ignored",
          "traceback": [
            "\u001b[0;31m---------------------------------------------------------------------------\u001b[0m",
            "\u001b[0;31mModuleNotFoundError\u001b[0m                       Traceback (most recent call last)",
            "\u001b[0;32m<ipython-input-11-97223f28e913>\u001b[0m in \u001b[0;36m<module>\u001b[0;34m()\u001b[0m\n\u001b[0;32m----> 1\u001b[0;31m \u001b[0;32mimport\u001b[0m \u001b[0mjovian\u001b[0m\u001b[0;34m\u001b[0m\u001b[0;34m\u001b[0m\u001b[0m\n\u001b[0m\u001b[1;32m      2\u001b[0m \u001b[0mjovian\u001b[0m\u001b[0;34m.\u001b[0m\u001b[0mcommit\u001b[0m\u001b[0;34m(\u001b[0m\u001b[0;34m)\u001b[0m\u001b[0;34m\u001b[0m\u001b[0;34m\u001b[0m\u001b[0m\n",
            "\u001b[0;31mModuleNotFoundError\u001b[0m: No module named 'jovian'",
            "",
            "\u001b[0;31m---------------------------------------------------------------------------\u001b[0;32m\nNOTE: If your import is failing due to a missing package, you can\nmanually install dependencies using either !pip or !apt.\n\nTo view examples of installing some common dependencies, click the\n\"Open Examples\" button below.\n\u001b[0;31m---------------------------------------------------------------------------\u001b[0m\n"
          ]
        }
      ]
    },
    {
      "cell_type": "code",
      "metadata": {
        "id": "iVtVwCK48yE1"
      },
      "source": [
        ""
      ],
      "execution_count": null,
      "outputs": []
    }
  ]
}