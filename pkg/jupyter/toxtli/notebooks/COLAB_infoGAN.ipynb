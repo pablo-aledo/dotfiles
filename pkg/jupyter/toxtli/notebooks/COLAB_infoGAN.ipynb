{
  "nbformat": 4,
  "nbformat_minor": 0,
  "metadata": {
    "kernelspec": {
      "name": "python3",
      "display_name": "Python 3"
    },
    "language_info": {
      "codemirror_mode": {
        "name": "ipython",
        "version": 3
      },
      "file_extension": ".py",
      "mimetype": "text/x-python",
      "name": "python",
      "nbconvert_exporter": "python",
      "pygments_lexer": "ipython3",
      "version": "3.6.3"
    },
    "colab": {
      "name": "COLAB - infoGAN.ipynb",
      "provenance": [],
      "collapsed_sections": []
    },
    "accelerator": "GPU"
  },
  "cells": [
    {
      "cell_type": "markdown",
      "metadata": {
        "id": "TNGx7EaZUMRc"
      },
      "source": [
        "Adapted by Carlos Toxtli https://www.carlostoxtli.com/#colab-gan-2\n",
        "\n",
        "Source: https://github.com/Yangyangii/GAN-Tutorial/blob/master/MNIST/infoGAN.ipynb"
      ]
    },
    {
      "cell_type": "code",
      "metadata": {
        "id": "XxtAC6YN4paB",
        "colab": {
          "base_uri": "https://localhost:8080/",
          "height": 190
        },
        "outputId": "51c4894b-5ca2-42ed-b31b-cc5affed89a1"
      },
      "source": [
        "!pip install tensorboardX\n",
        "!mkdir samples"
      ],
      "execution_count": null,
      "outputs": [
        {
          "output_type": "stream",
          "text": [
            "Collecting tensorboardX\n",
            "\u001b[?25l  Downloading https://files.pythonhosted.org/packages/c3/12/dcaf67e1312475b26db9e45e7bb6f32b540671a9ee120b3a72d9e09bc517/tensorboardX-1.8-py2.py3-none-any.whl (216kB)\n",
            "\u001b[K     |████████████████████████████████| 225kB 35.1MB/s \n",
            "\u001b[?25hRequirement already satisfied: protobuf>=3.2.0 in /usr/local/lib/python3.6/dist-packages (from tensorboardX) (3.7.1)\n",
            "Requirement already satisfied: numpy in /usr/local/lib/python3.6/dist-packages (from tensorboardX) (1.16.5)\n",
            "Requirement already satisfied: six in /usr/local/lib/python3.6/dist-packages (from tensorboardX) (1.12.0)\n",
            "Requirement already satisfied: setuptools in /usr/local/lib/python3.6/dist-packages (from protobuf>=3.2.0->tensorboardX) (41.2.0)\n",
            "Installing collected packages: tensorboardX\n",
            "Successfully installed tensorboardX-1.8\n"
          ],
          "name": "stdout"
        }
      ]
    },
    {
      "cell_type": "markdown",
      "metadata": {
        "id": "F84noLtmUG6a"
      },
      "source": [
        "# Implementation of infoGANs\n",
        "Reference: https://arxiv.org/pdf/1606.03657.pdf"
      ]
    },
    {
      "cell_type": "code",
      "metadata": {
        "id": "HiCcymeoUG6g"
      },
      "source": [
        "# Run the comment below only when using Google Colab\n",
        "# !pip install torch torchvision"
      ],
      "execution_count": null,
      "outputs": []
    },
    {
      "cell_type": "code",
      "metadata": {
        "id": "KCVFpDXOUG6l"
      },
      "source": [
        "import torch\n",
        "import torchvision\n",
        "import torch.nn as nn\n",
        "import torch.nn.functional as F"
      ],
      "execution_count": null,
      "outputs": []
    },
    {
      "cell_type": "code",
      "metadata": {
        "id": "f5HrsbZ0UG6p"
      },
      "source": [
        "from torch.utils.data import DataLoader\n",
        "from torchvision import datasets\n",
        "from torchvision import transforms\n",
        "from torchvision.utils import save_image"
      ],
      "execution_count": null,
      "outputs": []
    },
    {
      "cell_type": "code",
      "metadata": {
        "id": "0DHS_BfaUG6y"
      },
      "source": [
        "import numpy as np\n",
        "import datetime\n",
        "import os, sys"
      ],
      "execution_count": null,
      "outputs": []
    },
    {
      "cell_type": "code",
      "metadata": {
        "id": "ohxsLr56UG64"
      },
      "source": [
        "from tensorboardX import SummaryWriter"
      ],
      "execution_count": null,
      "outputs": []
    },
    {
      "cell_type": "code",
      "metadata": {
        "id": "IImppwRvUG67"
      },
      "source": [
        "from matplotlib.pyplot import imshow, imsave\n",
        "%matplotlib inline"
      ],
      "execution_count": null,
      "outputs": []
    },
    {
      "cell_type": "code",
      "metadata": {
        "id": "GbvKxdJPUG7C"
      },
      "source": [
        "MODEL_NAME = 'infoGAN'\n",
        "DEVICE = torch.device('cuda' if torch.cuda.is_available() else 'cpu')"
      ],
      "execution_count": null,
      "outputs": []
    },
    {
      "cell_type": "code",
      "metadata": {
        "id": "Y6yA_f1mUG7G"
      },
      "source": [
        "def to_onehot(x, num_classes=10):\n",
        "    assert isinstance(x, int) or isinstance(x, (torch.LongTensor, torch.cuda.LongTensor))\n",
        "    if isinstance(x, int):\n",
        "        c = torch.zeros(1, num_classes).long()\n",
        "        c[0][x] = 1\n",
        "    else:\n",
        "        x = x.cpu()\n",
        "        c = torch.LongTensor(x.size(0), num_classes)\n",
        "        c.zero_()\n",
        "        c.scatter_(1, x, 1) # dim, index, src value\n",
        "    return c"
      ],
      "execution_count": null,
      "outputs": []
    },
    {
      "cell_type": "code",
      "metadata": {
        "id": "2uvB20L-UG7K"
      },
      "source": [
        "def sample_noise(batch_size, n_noise, n_c_discrete, n_c_continuous, label=None, supervised=False):\n",
        "    z = torch.randn(batch_size, n_noise).to(DEVICE)\n",
        "    if supervised:\n",
        "        c_discrete = to_onehot(label).to(DEVICE) # (B,10)\n",
        "    else:\n",
        "        c_discrete = to_onehot(torch.LongTensor(batch_size, 1).random_(0, n_c_discrete)).to(DEVICE) # (B,10)\n",
        "    c_continuous = torch.zeros(batch_size, n_c_continuous).uniform_(-1, 1).to(DEVICE) # (B,2)\n",
        "    c = torch.cat((c_discrete.float(), c_continuous), 1)\n",
        "    return z, c"
      ],
      "execution_count": null,
      "outputs": []
    },
    {
      "cell_type": "code",
      "metadata": {
        "id": "EJny2NxSUG7O"
      },
      "source": [
        "def get_sample_image():\n",
        "    \"\"\"\n",
        "        save sample 100 images\n",
        "    \"\"\"\n",
        "    images = []\n",
        "    # continuous code\n",
        "    for cc_type in range(2):\n",
        "        for num in range(10):\n",
        "            fix_z = torch.randn(1, n_noise)\n",
        "            z = fix_z.to(DEVICE)\n",
        "            cc = -1\n",
        "            for i in range(10):\n",
        "                cc += 0.2\n",
        "                c_discrete = to_onehot(num).to(DEVICE) # (B,10)\n",
        "                c_continuous = torch.zeros(1, n_c_continuous).to(DEVICE)\n",
        "                c_continuous.data[:,cc_type].add_(cc)\n",
        "                c = torch.cat((c_discrete.float(), c_continuous), 1)\n",
        "                y_hat = G(z, c)\n",
        "                line_img = torch.cat((line_img, y_hat.view(28, 28)), dim=1) if i > 0 else y_hat.view(28, 28)\n",
        "            all_img = torch.cat((all_img, line_img), dim=0) if num > 0 else line_img\n",
        "        img = all_img.cpu().data.numpy()\n",
        "        images.append(img)\n",
        "    # discrete code\n",
        "    for num in range(10):\n",
        "        c_discrete = to_onehot(num).to(DEVICE) # (B,10)\n",
        "        for i in range(10):\n",
        "            z = torch.randn(1, n_noise).to(DEVICE)\n",
        "            c_continuous = torch.zeros(1, n_c_continuous).to(DEVICE)\n",
        "            c = torch.cat((c_discrete.float(), c_continuous), 1)\n",
        "            y_hat = G(z, c)\n",
        "            line_img = torch.cat((line_img, y_hat.view(28, 28)), dim=1) if i > 0 else y_hat.view(28, 28)\n",
        "        all_img = torch.cat((all_img, line_img), dim=0) if num > 0 else line_img\n",
        "    img = all_img.cpu().data.numpy()\n",
        "    images.append(img)\n",
        "    return images[0], images[1], images[2]"
      ],
      "execution_count": null,
      "outputs": []
    },
    {
      "cell_type": "code",
      "metadata": {
        "id": "ZnxzVEwtUG7S"
      },
      "source": [
        "def log_gaussian(c, mu, var):\n",
        "    \"\"\"\n",
        "        criterion for Q(condition classifier)\n",
        "    \"\"\"\n",
        "    return -((c - mu)**2)/(2*var+1e-8) - 0.5*torch.log(2*np.pi*var+1e-8)"
      ],
      "execution_count": null,
      "outputs": []
    },
    {
      "cell_type": "code",
      "metadata": {
        "id": "Uh1GH11yUG7V"
      },
      "source": [
        "class Discriminator(nn.Module):\n",
        "    \"\"\"\n",
        "        Convolutional Discriminator for MNIST\n",
        "    \"\"\"\n",
        "    def __init__(self, in_channel=1):\n",
        "        super(Discriminator, self).__init__()\n",
        "        self.layer1 = nn.Sequential(# 28 -> 14\n",
        "            nn.Conv2d(in_channel, 64, 3, stride=2, padding=1, bias=False),\n",
        "            nn.BatchNorm2d(64),\n",
        "            nn.LeakyReLU(0.1),\n",
        "        )\n",
        "        self.layer2 = nn.Sequential(# 14 -> 7\n",
        "            nn.Conv2d(64, 128, 3, stride=2, padding=1, bias=False),\n",
        "            nn.BatchNorm2d(128),\n",
        "            nn.LeakyReLU(0.1),\n",
        "        )\n",
        "        self.layer3 = nn.Sequential(#\n",
        "            nn.Linear(128*7*7, 1024),\n",
        "            nn.BatchNorm1d(1024),\n",
        "            nn.LeakyReLU(0.1),\n",
        "        )\n",
        "        self.fc = nn.Sequential(\n",
        "            nn.Linear(1024, 1),\n",
        "            nn.Sigmoid(),\n",
        "        )\n",
        "    \n",
        "    def forward(self, x):\n",
        "        y_ = self.layer1(x)\n",
        "        y_ = self.layer2(y_)\n",
        "        y_ = y_.view(y_.size(0), -1)\n",
        "        y_ = self.layer3(y_)\n",
        "        d = self.fc(y_) # Real / Fake        \n",
        "        return d, y_ # return with top layer features for Q"
      ],
      "execution_count": null,
      "outputs": []
    },
    {
      "cell_type": "code",
      "metadata": {
        "id": "6xeYk_9_UG7X"
      },
      "source": [
        "class Qrator(nn.Module):\n",
        "    \"\"\"\n",
        "        Regularization Network for increasing Mutual Information\n",
        "    \"\"\"\n",
        "    def __init__(self):\n",
        "        super(Qrator, self).__init__()\n",
        "        self.fc = nn.Sequential(\n",
        "            nn.Linear(1024, 128),\n",
        "            nn.BatchNorm1d(128),\n",
        "            nn.LeakyReLU(0.1),\n",
        "            nn.Linear(128, 14),\n",
        "        )\n",
        "        \n",
        "    def forward(self, x):\n",
        "        # Seperate code\n",
        "        c = self.fc(x)\n",
        "        c_discrete = torch.softmax(c[:, :10], dim=-1) # Digit Label {0~9}\n",
        "        c_mu = c[:, 10:12] # mu & var of Rotation & Thickness\n",
        "        c_var = c[:, 12:14].exp() # mu & var of Rotation & Thickness\n",
        "        return c_discrete, c_mu, c_var"
      ],
      "execution_count": null,
      "outputs": []
    },
    {
      "cell_type": "code",
      "metadata": {
        "id": "tBVnomFbUG7a"
      },
      "source": [
        "class Generator(nn.Module):\n",
        "    \"\"\"\n",
        "        Convolutional Generator for MNIST\n",
        "    \"\"\"\n",
        "    def __init__(self, input_size=62, code_size=12, num_classes=784):\n",
        "        super(Generator, self).__init__()\n",
        "        self.layer1 = nn.Sequential(\n",
        "            nn.Linear(input_size+code_size, 1024),\n",
        "            nn.BatchNorm1d(1024),\n",
        "            nn.ReLU(),\n",
        "        )\n",
        "        self.layer2 = nn.Sequential(\n",
        "            nn.Linear(1024, 7*7*128),\n",
        "            nn.BatchNorm1d(7*7*128),\n",
        "            nn.ReLU(),\n",
        "        )\n",
        "        self.layer3 = nn.Sequential(# input: 7 by 7, output: 14 by 14\n",
        "            nn.ConvTranspose2d(128, 64, 4, stride=2, padding=1, bias=False),\n",
        "            nn.BatchNorm2d(64),\n",
        "            nn.ReLU(),\n",
        "        )\n",
        "        self.layer4 = nn.Sequential(# input: 14 by 14, output: 28 by 28\n",
        "            nn.ConvTranspose2d(64, 1, 4, stride=2, padding=1, bias=False),\n",
        "            nn.Tanh(),\n",
        "        )\n",
        "        \n",
        "    def forward(self, z, c):\n",
        "        z = z.view(z.size(0), -1)\n",
        "        c = c.view(c.size(0), -1)\n",
        "        noise = torch.cat((z, c), 1)\n",
        "#         print(noise.size())\n",
        "        x_ = self.layer1(noise)\n",
        "        x_ = self.layer2(x_)\n",
        "        x_ = x_.view(x_.size(0), 128, 7, 7)\n",
        "        x_ = self.layer3(x_)\n",
        "        x_ = self.layer4(x_)\n",
        "        return x_"
      ],
      "execution_count": null,
      "outputs": []
    },
    {
      "cell_type": "code",
      "metadata": {
        "id": "doRL4xx9UG7d"
      },
      "source": [
        "D = Discriminator().to(DEVICE)\n",
        "G = Generator().to(DEVICE)\n",
        "Q = Qrator().to(DEVICE)\n",
        "# D.load_state_dict('D_dc.pkl')\n",
        "# G.load_state_dict('G_dc.pkl')"
      ],
      "execution_count": null,
      "outputs": []
    },
    {
      "cell_type": "code",
      "metadata": {
        "id": "dh5WqzijUG7j"
      },
      "source": [
        "transform = transforms.Compose([transforms.ToTensor(),\n",
        "                                transforms.Normalize(mean=[0.5],\n",
        "                                std=[0.5])]\n",
        ")"
      ],
      "execution_count": null,
      "outputs": []
    },
    {
      "cell_type": "code",
      "metadata": {
        "id": "z5YWn6eWUG7o",
        "colab": {
          "base_uri": "https://localhost:8080/",
          "height": 714
        },
        "outputId": "add4cf6b-a4eb-40db-8b32-0af6f5867b59"
      },
      "source": [
        "mnist = datasets.MNIST(root='../data/', train=True, transform=transform, download=True)"
      ],
      "execution_count": null,
      "outputs": [
        {
          "output_type": "stream",
          "text": [
            "\r0it [00:00, ?it/s]"
          ],
          "name": "stderr"
        },
        {
          "output_type": "stream",
          "text": [
            "Downloading http://yann.lecun.com/exdb/mnist/train-images-idx3-ubyte.gz to ../data/MNIST/raw/train-images-idx3-ubyte.gz\n"
          ],
          "name": "stdout"
        },
        {
          "output_type": "stream",
          "text": [
            "100%|█████████▉| 9879552/9912422 [00:44<00:00, 376113.30it/s]"
          ],
          "name": "stderr"
        },
        {
          "output_type": "stream",
          "text": [
            "Extracting ../data/MNIST/raw/train-images-idx3-ubyte.gz\n"
          ],
          "name": "stdout"
        },
        {
          "output_type": "stream",
          "text": [
            "\n",
            "0it [00:00, ?it/s]\u001b[A"
          ],
          "name": "stderr"
        },
        {
          "output_type": "stream",
          "text": [
            "Downloading http://yann.lecun.com/exdb/mnist/train-labels-idx1-ubyte.gz to ../data/MNIST/raw/train-labels-idx1-ubyte.gz\n"
          ],
          "name": "stdout"
        },
        {
          "output_type": "stream",
          "text": [
            "\n",
            "  0%|          | 0/28881 [00:00<?, ?it/s]\u001b[A\n",
            " 57%|█████▋    | 16384/28881 [00:00<00:00, 74019.73it/s]\u001b[A\n",
            "32768it [00:00, 48856.60it/s]                           \u001b[A\n",
            "0it [00:00, ?it/s]\u001b[A"
          ],
          "name": "stderr"
        },
        {
          "output_type": "stream",
          "text": [
            "Extracting ../data/MNIST/raw/train-labels-idx1-ubyte.gz\n",
            "Downloading http://yann.lecun.com/exdb/mnist/t10k-images-idx3-ubyte.gz to ../data/MNIST/raw/t10k-images-idx3-ubyte.gz\n"
          ],
          "name": "stdout"
        },
        {
          "output_type": "stream",
          "text": [
            "\n",
            "  0%|          | 0/1648877 [00:00<?, ?it/s]\u001b[A\n",
            "  1%|          | 16384/1648877 [00:00<00:23, 70679.13it/s]\u001b[A\n",
            "  2%|▏         | 40960/1648877 [00:00<00:20, 79349.01it/s]\u001b[A\n",
            "  6%|▌         | 98304/1648877 [00:01<00:15, 100204.95it/s]\u001b[A\n",
            " 10%|▉         | 163840/1648877 [00:01<00:11, 124996.30it/s]\u001b[A\n",
            " 14%|█▍        | 229376/1648877 [00:01<00:09, 151218.35it/s]\u001b[A\n",
            " 18%|█▊        | 294912/1648877 [00:01<00:07, 177403.43it/s]\u001b[A\n",
            " 22%|██▏       | 368640/1648877 [00:02<00:06, 206496.03it/s]\u001b[A\n",
            " 27%|██▋       | 442368/1648877 [00:02<00:05, 233234.12it/s]\u001b[A\n",
            " 32%|███▏      | 524288/1648877 [00:02<00:04, 262527.13it/s]\u001b[A\n",
            " 37%|███▋      | 606208/1648877 [00:02<00:03, 287801.51it/s]\u001b[A\n",
            " 42%|████▏     | 688128/1648877 [00:02<00:03, 308537.11it/s]\u001b[A\n",
            " 48%|████▊     | 786432/1648877 [00:03<00:02, 339761.23it/s]\u001b[A\n",
            " 53%|█████▎    | 876544/1648877 [00:03<00:02, 358470.87it/s]\u001b[A\n",
            " 60%|█████▉    | 983040/1648877 [00:03<00:01, 387447.21it/s]\u001b[A\n",
            " 66%|██████▌   | 1089536/1648877 [00:03<00:01, 411571.94it/s]\u001b[A\n",
            " 73%|███████▎  | 1196032/1648877 [00:03<00:01, 430344.44it/s]\u001b[A\n",
            " 79%|███████▉  | 1310720/1648877 [00:04<00:00, 453609.24it/s]\u001b[A\n",
            " 87%|████████▋ | 1433600/1648877 [00:04<00:00, 479965.54it/s]\u001b[A\n",
            " 95%|█████████▍| 1564672/1648877 [00:04<00:00, 509165.27it/s]\u001b[A\n",
            "\n",
            "0it [00:00, ?it/s]\u001b[A\u001b[A"
          ],
          "name": "stderr"
        },
        {
          "output_type": "stream",
          "text": [
            "Extracting ../data/MNIST/raw/t10k-images-idx3-ubyte.gz\n",
            "Downloading http://yann.lecun.com/exdb/mnist/t10k-labels-idx1-ubyte.gz to ../data/MNIST/raw/t10k-labels-idx1-ubyte.gz\n"
          ],
          "name": "stdout"
        },
        {
          "output_type": "stream",
          "text": [
            "\n",
            "\n",
            "  0%|          | 0/4542 [00:00<?, ?it/s]\u001b[A\u001b[A\n",
            "\n",
            "8192it [00:00, 18172.75it/s]            \u001b[A\u001b[A"
          ],
          "name": "stderr"
        },
        {
          "output_type": "stream",
          "text": [
            "Extracting ../data/MNIST/raw/t10k-labels-idx1-ubyte.gz\n",
            "Processing...\n",
            "Done!\n"
          ],
          "name": "stdout"
        }
      ]
    },
    {
      "cell_type": "code",
      "metadata": {
        "id": "7KnLf-EmUG7q"
      },
      "source": [
        "batch_size = 128"
      ],
      "execution_count": null,
      "outputs": []
    },
    {
      "cell_type": "code",
      "metadata": {
        "id": "bihiVbi-UG7u"
      },
      "source": [
        "data_loader = DataLoader(dataset=mnist, batch_size=batch_size, shuffle=True, drop_last=True, pin_memory=True)"
      ],
      "execution_count": null,
      "outputs": []
    },
    {
      "cell_type": "code",
      "metadata": {
        "id": "cFpdfBl4UG73"
      },
      "source": [
        "bce_loss = nn.BCELoss()\n",
        "ce_loss = nn.CrossEntropyLoss()\n",
        "\n",
        "D_opt = torch.optim.Adam(D.parameters(), lr=2e-4, betas=(0.5, 0.99))\n",
        "G_opt = torch.optim.Adam([{'params':G.parameters()}, {'params':Q.parameters()}], lr=1e-3, betas=(0.5, 0.99))"
      ],
      "execution_count": null,
      "outputs": []
    },
    {
      "cell_type": "code",
      "metadata": {
        "id": "ISo1TpNXUG77"
      },
      "source": [
        "max_epoch = 50 # need more than 200 epochs for training generator\n",
        "step = 0\n",
        "n_critic = 1 # for training more k steps about Discriminator\n",
        "n_noise = 62\n",
        "n_c_discrete, n_c_continuous = 10, 2\n",
        "\n",
        "D_labels = torch.ones([batch_size, 1]).to(DEVICE) # Discriminator Label to real\n",
        "D_fakes = torch.zeros([batch_size, 1]).to(DEVICE) # Discriminator Label to fake"
      ],
      "execution_count": null,
      "outputs": []
    },
    {
      "cell_type": "code",
      "metadata": {
        "id": "Aekz-LzYUG7_"
      },
      "source": [
        "writer = SummaryWriter()"
      ],
      "execution_count": null,
      "outputs": []
    },
    {
      "cell_type": "code",
      "metadata": {
        "scrolled": true,
        "id": "riiO11h3UG8H",
        "colab": {
          "base_uri": "https://localhost:8080/",
          "height": 853
        },
        "outputId": "43bba696-62e3-41eb-d19d-7fa660dadd27"
      },
      "source": [
        "for epoch in range(max_epoch+1):\n",
        "    for idx, (images, labels) in enumerate(data_loader):\n",
        "        step += 1\n",
        "        labels = labels.view(batch_size, 1)\n",
        "        # Training Discriminator\n",
        "        x = images.to(DEVICE)\n",
        "        x_outputs, _, = D(x)\n",
        "        D_x_loss = bce_loss(x_outputs, D_labels)\n",
        "\n",
        "        z, c = sample_noise(batch_size, n_noise, n_c_discrete, n_c_continuous, label=labels, supervised=True)\n",
        "        z_outputs, _, = D(G(z, c))\n",
        "        D_z_loss = bce_loss(z_outputs, D_fakes)\n",
        "        D_loss = D_x_loss + D_z_loss\n",
        "        \n",
        "        D_opt.zero_grad()\n",
        "        D_loss.backward()\n",
        "        D_opt.step()\n",
        "\n",
        "        # Training Generator\n",
        "        z, c = sample_noise(batch_size, n_noise, n_c_discrete, n_c_continuous, label=labels, supervised=True)\n",
        "        c_discrete_label = torch.max(c[:, :-2], 1)[1].view(-1, 1)\n",
        "\n",
        "        z_outputs, features = D(G(z, c)) # (B,1), (B,10), (B,4)\n",
        "        c_discrete_out, cc_mu, cc_var = Q(features)\n",
        "\n",
        "        G_loss = bce_loss(z_outputs, D_labels)\n",
        "        Q_loss_discrete = ce_loss(c_discrete_out, c_discrete_label.view(-1))\n",
        "        Q_loss_continuous = -torch.mean(torch.sum(log_gaussian(c[:, -2:], cc_mu, cc_var), 1)) # N(x | mu,var) -> (B, 2) -> (,1)\n",
        "        mutual_info_loss = Q_loss_discrete + Q_loss_continuous*0.1\n",
        "\n",
        "        GnQ_loss = G_loss + mutual_info_loss\n",
        "\n",
        "        G_opt.zero_grad()\n",
        "        GnQ_loss.backward()\n",
        "        G_opt.step()\n",
        "\n",
        "        if step > 500 and step % 100 == 0:\n",
        "            writer.add_scalar('loss/total', GnQ_loss, step)\n",
        "            writer.add_scalar('loss/Q_discrete', Q_loss_discrete, step)\n",
        "            writer.add_scalar('loss/Q_continuous', Q_loss_continuous, step)\n",
        "            writer.add_scalar('loss/Q', mutual_info_loss, step)\n",
        "            writer.add_histogram('output/mu', cc_mu)\n",
        "            writer.add_histogram('output/var', cc_var)\n",
        "        \n",
        "        if step % 500 == 0:\n",
        "            print('Epoch: {}/{}, Step: {}, D Loss: {}, G Loss: {}, GnQ Loss: {}, Time: {}'\\\n",
        "                  .format(epoch, max_epoch, step, D_loss.item(), G_loss.item(), GnQ_loss.item(), str(datetime.datetime.today())[:-7]))\n",
        "            \n",
        "        if step % 1000 == 0:\n",
        "            G.eval()\n",
        "            img1, img2, img3 = get_sample_image()\n",
        "            imsave('samples/{}_step{}_type1.jpg'.format(MODEL_NAME, str(step).zfill(3)), img1, cmap='gray')\n",
        "            imsave('samples/{}_step{}_type2.jpg'.format(MODEL_NAME, str(step).zfill(3)), img2, cmap='gray')\n",
        "            imsave('samples/{}_step{}_type3.jpg'.format(MODEL_NAME, str(step).zfill(3)), img3, cmap='gray')\n",
        "            G.train()\n",
        "writer.export_scalars_to_json(\"./all_summary.json\")\n",
        "writer.close()"
      ],
      "execution_count": null,
      "outputs": [
        {
          "output_type": "stream",
          "text": [
            "\r9920512it [00:59, 376113.30it/s]                             "
          ],
          "name": "stderr"
        },
        {
          "output_type": "stream",
          "text": [
            "Epoch: 1/50, Step: 500, D Loss: 1.0539026260375977, G Loss: 1.0451141595840454, GnQ Loss: 2.4675068855285645, Time: 2019-09-22 21:20:16\n"
          ],
          "name": "stdout"
        },
        {
          "output_type": "stream",
          "text": [
            "\n",
            "1654784it [00:24, 509165.27it/s]                             \u001b[A"
          ],
          "name": "stderr"
        },
        {
          "output_type": "stream",
          "text": [
            "Epoch: 2/50, Step: 1000, D Loss: 1.0792551040649414, G Loss: 1.036585807800293, GnQ Loss: 2.4258177280426025, Time: 2019-09-22 21:20:34\n",
            "Epoch: 3/50, Step: 1500, D Loss: 1.0934901237487793, G Loss: 1.0042896270751953, GnQ Loss: 2.4015560150146484, Time: 2019-09-22 21:20:53\n",
            "Epoch: 4/50, Step: 2000, D Loss: 1.0377330780029297, G Loss: 1.1388778686523438, GnQ Loss: 2.5710458755493164, Time: 2019-09-22 21:21:11\n",
            "Epoch: 5/50, Step: 2500, D Loss: 1.0141582489013672, G Loss: 1.1466474533081055, GnQ Loss: 2.526249408721924, Time: 2019-09-22 21:21:30\n",
            "Epoch: 6/50, Step: 3000, D Loss: 1.1001484394073486, G Loss: 1.1571648120880127, GnQ Loss: 2.5138187408447266, Time: 2019-09-22 21:21:48\n",
            "Epoch: 7/50, Step: 3500, D Loss: 0.9599583148956299, G Loss: 1.162689447402954, GnQ Loss: 2.564678430557251, Time: 2019-09-22 21:22:07\n",
            "Epoch: 8/50, Step: 4000, D Loss: 0.8452554941177368, G Loss: 1.2730958461761475, GnQ Loss: 2.691460609436035, Time: 2019-09-22 21:22:25\n",
            "Epoch: 9/50, Step: 4500, D Loss: 0.9291819334030151, G Loss: 1.3766686916351318, GnQ Loss: 2.795473337173462, Time: 2019-09-22 21:22:44\n",
            "Epoch: 10/50, Step: 5000, D Loss: 0.8613554239273071, G Loss: 1.0395960807800293, GnQ Loss: 2.4200377464294434, Time: 2019-09-22 21:23:02\n",
            "Epoch: 11/50, Step: 5500, D Loss: 0.8864267468452454, G Loss: 1.4686470031738281, GnQ Loss: 2.868619918823242, Time: 2019-09-22 21:23:21\n",
            "Epoch: 12/50, Step: 6000, D Loss: 0.7416996359825134, G Loss: 1.7542165517807007, GnQ Loss: 3.1844210624694824, Time: 2019-09-22 21:23:39\n",
            "Epoch: 13/50, Step: 6500, D Loss: 0.8003150224685669, G Loss: 1.6516287326812744, GnQ Loss: 3.0666441917419434, Time: 2019-09-22 21:23:58\n",
            "Epoch: 14/50, Step: 7000, D Loss: 0.6223189830780029, G Loss: 1.6748106479644775, GnQ Loss: 3.0801401138305664, Time: 2019-09-22 21:24:17\n",
            "Epoch: 16/50, Step: 7500, D Loss: 0.6415623426437378, G Loss: 1.8282145261764526, GnQ Loss: 3.2139134407043457, Time: 2019-09-22 21:24:35\n",
            "Epoch: 17/50, Step: 8000, D Loss: 0.7095921039581299, G Loss: 1.791676640510559, GnQ Loss: 3.203120231628418, Time: 2019-09-22 21:24:54\n",
            "Epoch: 18/50, Step: 8500, D Loss: 0.6388997435569763, G Loss: 1.903548240661621, GnQ Loss: 3.275892734527588, Time: 2019-09-22 21:25:13\n",
            "Epoch: 19/50, Step: 9000, D Loss: 0.6076987981796265, G Loss: 1.9533069133758545, GnQ Loss: 3.363986015319824, Time: 2019-09-22 21:25:31\n",
            "Epoch: 20/50, Step: 9500, D Loss: 0.845098078250885, G Loss: 1.219991683959961, GnQ Loss: 2.6397743225097656, Time: 2019-09-22 21:25:50\n",
            "Epoch: 21/50, Step: 10000, D Loss: 0.5917420983314514, G Loss: 2.8204312324523926, GnQ Loss: 4.21587610244751, Time: 2019-09-22 21:26:08\n",
            "Epoch: 22/50, Step: 10500, D Loss: 0.6250898838043213, G Loss: 2.2148869037628174, GnQ Loss: 3.6335365772247314, Time: 2019-09-22 21:26:27\n",
            "Epoch: 23/50, Step: 11000, D Loss: 0.48133739829063416, G Loss: 2.403571367263794, GnQ Loss: 3.7999963760375977, Time: 2019-09-22 21:26:46\n",
            "Epoch: 24/50, Step: 11500, D Loss: 0.36821597814559937, G Loss: 1.893442988395691, GnQ Loss: 3.301288604736328, Time: 2019-09-22 21:27:04\n",
            "Epoch: 25/50, Step: 12000, D Loss: 0.5685755014419556, G Loss: 2.3207576274871826, GnQ Loss: 3.7614047527313232, Time: 2019-09-22 21:27:23\n",
            "Epoch: 26/50, Step: 12500, D Loss: 0.437189519405365, G Loss: 2.2967300415039062, GnQ Loss: 3.6871209144592285, Time: 2019-09-22 21:27:41\n",
            "Epoch: 27/50, Step: 13000, D Loss: 0.5631303787231445, G Loss: 2.0679259300231934, GnQ Loss: 3.4531545639038086, Time: 2019-09-22 21:28:00\n",
            "Epoch: 28/50, Step: 13500, D Loss: 0.6736728549003601, G Loss: 1.9994056224822998, GnQ Loss: 3.4094300270080566, Time: 2019-09-22 21:28:19\n",
            "Epoch: 29/50, Step: 14000, D Loss: 0.46936553716659546, G Loss: 3.141688585281372, GnQ Loss: 4.56227970123291, Time: 2019-09-22 21:28:37\n",
            "Epoch: 30/50, Step: 14500, D Loss: 0.4824117422103882, G Loss: 2.7822065353393555, GnQ Loss: 4.244388103485107, Time: 2019-09-22 21:28:56\n",
            "Epoch: 32/50, Step: 15000, D Loss: 0.4009700417518616, G Loss: 2.5309042930603027, GnQ Loss: 3.905843734741211, Time: 2019-09-22 21:29:15\n",
            "Epoch: 33/50, Step: 15500, D Loss: 0.2857224941253662, G Loss: 3.370377540588379, GnQ Loss: 4.818919658660889, Time: 2019-09-22 21:29:33\n",
            "Epoch: 34/50, Step: 16000, D Loss: 0.43082180619239807, G Loss: 3.0551810264587402, GnQ Loss: 4.504028797149658, Time: 2019-09-22 21:29:52\n",
            "Epoch: 35/50, Step: 16500, D Loss: 0.43517476320266724, G Loss: 2.660789966583252, GnQ Loss: 4.0666937828063965, Time: 2019-09-22 21:30:11\n",
            "Epoch: 36/50, Step: 17000, D Loss: 0.3961687982082367, G Loss: 2.465590000152588, GnQ Loss: 3.8721189498901367, Time: 2019-09-22 21:30:29\n",
            "Epoch: 37/50, Step: 17500, D Loss: 0.39120185375213623, G Loss: 3.0688836574554443, GnQ Loss: 4.504591941833496, Time: 2019-09-22 21:30:48\n",
            "Epoch: 38/50, Step: 18000, D Loss: 0.3141535520553589, G Loss: 2.389406204223633, GnQ Loss: 3.805438756942749, Time: 2019-09-22 21:31:06\n",
            "Epoch: 39/50, Step: 18500, D Loss: 0.47726890444755554, G Loss: 2.6056642532348633, GnQ Loss: 4.087386131286621, Time: 2019-09-22 21:31:25\n",
            "Epoch: 40/50, Step: 19000, D Loss: 0.4661632478237152, G Loss: 3.723687171936035, GnQ Loss: 5.117206573486328, Time: 2019-09-22 21:31:43\n",
            "Epoch: 41/50, Step: 19500, D Loss: 0.315517783164978, G Loss: 2.5967466831207275, GnQ Loss: 4.008162498474121, Time: 2019-09-22 21:32:02\n",
            "Epoch: 42/50, Step: 20000, D Loss: 0.32169878482818604, G Loss: 2.7172136306762695, GnQ Loss: 4.137726306915283, Time: 2019-09-22 21:32:20\n",
            "Epoch: 43/50, Step: 20500, D Loss: 0.2778368890285492, G Loss: 2.923440933227539, GnQ Loss: 4.379918098449707, Time: 2019-09-22 21:32:39\n",
            "Epoch: 44/50, Step: 21000, D Loss: 0.3259209990501404, G Loss: 3.6893908977508545, GnQ Loss: 5.082204818725586, Time: 2019-09-22 21:32:57\n",
            "Epoch: 45/50, Step: 21500, D Loss: 0.2770005464553833, G Loss: 3.6763274669647217, GnQ Loss: 5.080109119415283, Time: 2019-09-22 21:33:16\n",
            "Epoch: 47/50, Step: 22000, D Loss: 0.39152178168296814, G Loss: 2.951766014099121, GnQ Loss: 4.356235504150391, Time: 2019-09-22 21:33:34\n",
            "Epoch: 48/50, Step: 22500, D Loss: 0.377857506275177, G Loss: 3.0237717628479004, GnQ Loss: 4.422736644744873, Time: 2019-09-22 21:33:53\n",
            "Epoch: 49/50, Step: 23000, D Loss: 0.2981494963169098, G Loss: 2.0563478469848633, GnQ Loss: 3.4609415531158447, Time: 2019-09-22 21:34:11\n",
            "Epoch: 50/50, Step: 23500, D Loss: 0.2385915219783783, G Loss: 3.4621310234069824, GnQ Loss: 4.855879783630371, Time: 2019-09-22 21:34:30\n"
          ],
          "name": "stdout"
        }
      ]
    },
    {
      "cell_type": "markdown",
      "metadata": {
        "id": "ZJGYgTseUG8V"
      },
      "source": [
        "# Sample"
      ]
    },
    {
      "cell_type": "code",
      "metadata": {
        "scrolled": true,
        "id": "XzKsgmuKUG8W",
        "colab": {
          "base_uri": "https://localhost:8080/",
          "height": 286
        },
        "outputId": "3c7e7624-7fd5-47e9-dd81-7054e0e1f303"
      },
      "source": [
        "# generation to image\n",
        "G.eval()\n",
        "imshow(get_sample_image()[0], cmap='gray')"
      ],
      "execution_count": null,
      "outputs": [
        {
          "output_type": "execute_result",
          "data": {
            "text/plain": [
              "<matplotlib.image.AxesImage at 0x7f5f5671ec50>"
            ]
          },
          "metadata": {
            "tags": []
          },
          "execution_count": 25
        },
        {
          "output_type": "display_data",
          "data": {
            "image/png": "[encoded data removed]",
            "text/plain": [
              "<Figure size 432x288 with 1 Axes>"
            ]
          },
          "metadata": {
            "tags": []
          }
        }
      ]
    },
    {
      "cell_type": "code",
      "metadata": {
        "id": "IR5bgXlKUG8b",
        "colab": {
          "base_uri": "https://localhost:8080/",
          "height": 286
        },
        "outputId": "94c23111-0b94-43b8-a4ae-37837b64045b"
      },
      "source": [
        "imshow(get_sample_image()[1], cmap='gray')"
      ],
      "execution_count": null,
      "outputs": [
        {
          "output_type": "execute_result",
          "data": {
            "text/plain": [
              "<matplotlib.image.AxesImage at 0x7f5f566fc518>"
            ]
          },
          "metadata": {
            "tags": []
          },
          "execution_count": 26
        },
        {
          "output_type": "display_data",
          "data": {
            "image/png": "[encoded data removed]",
            "text/plain": [
              "<Figure size 432x288 with 1 Axes>"
            ]
          },
          "metadata": {
            "tags": []
          }
        }
      ]
    },
    {
      "cell_type": "code",
      "metadata": {
        "id": "TjEYgl8vUG8-"
      },
      "source": [
        "def save_checkpoint(state, file_name='checkpoint.pth.tar'):\n",
        "    torch.save(state, file_name)"
      ],
      "execution_count": null,
      "outputs": []
    },
    {
      "cell_type": "code",
      "metadata": {
        "id": "yd5WjlY2UG9L"
      },
      "source": [
        "# Saving params.\n",
        "# torch.save(D.state_dict(), 'D_c.pkl')\n",
        "# torch.save(G.state_dict(), 'G_c.pkl')\n",
        "save_checkpoint({'epoch': epoch + 1, 'state_dict':D.state_dict(), 'optimizer' : D_opt.state_dict()}, 'D_info.pth.tar')\n",
        "save_checkpoint({'epoch': epoch + 1, 'state_dict':G.state_dict(), 'optimizer' : G_opt.state_dict()}, 'G_info.pth.tar')"
      ],
      "execution_count": null,
      "outputs": []
    }
  ]
}