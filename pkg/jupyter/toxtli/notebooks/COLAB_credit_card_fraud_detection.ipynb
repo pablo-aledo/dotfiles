{
  "nbformat": 4,
  "nbformat_minor": 0,
  "metadata": {
    "kernelspec": {
      "display_name": "Python 3",
      "language": "python",
      "name": "python3"
    },
    "language_info": {
      "codemirror_mode": {
        "name": "ipython",
        "version": 3
      },
      "file_extension": ".py",
      "mimetype": "text/x-python",
      "name": "python",
      "nbconvert_exporter": "python",
      "pygments_lexer": "ipython3",
      "version": "3.6.7"
    },
    "colab": {
      "name": "COLAB - credit-card-fraud-detection.ipynb",
      "provenance": [],
      "collapsed_sections": [
        "_KZv1PQiC2Dg",
        "0eikKtLeC2D2",
        "bPmyHBhDC2EJ",
        "nbEiX2z9C2E5",
        "_YbZY06bC2FN"
      ],
      "toc_visible": true
    }
  },
  "cells": [
    {
      "cell_type": "markdown",
      "metadata": {
        "id": "-Z7cjXMsC7vj"
      },
      "source": [
        "Adapted by Carlos Toxtli https://www.carlostoxtli.com/#colab-mlp-5\n",
        "\n",
        "Source: https://github.com/polakowo/mlprojects/blob/master/credit-card-fraud-detection/credit-card-fraud-detection.ipynb"
      ]
    },
    {
      "cell_type": "code",
      "metadata": {
        "id": "L9jAyc7CFMjQ",
        "colab": {
          "base_uri": "https://localhost:8080/",
          "height": 119
        },
        "outputId": "63a19fec-aafb-4b83-e2f5-2e423f9c116e"
      },
      "source": [
        "!gdown -O data.zip https://drive.google.com/uc?id=17CpFO7FokuRtBbHLoPLbBwq9C80GwM63\n",
        "!unzip data.zip"
      ],
      "execution_count": null,
      "outputs": [
        {
          "output_type": "stream",
          "text": [
            "Downloading...\n",
            "From: https://drive.google.com/uc?id=17CpFO7FokuRtBbHLoPLbBwq9C80GwM63\n",
            "To: /content/data.zip\n",
            "69.2MB [00:00, 45.6MB/s]\n",
            "Archive:  data.zip\n",
            "  inflating: creditcard.csv          \n"
          ],
          "name": "stdout"
        }
      ]
    },
    {
      "cell_type": "code",
      "metadata": {
        "id": "meezWiJCC2Cr"
      },
      "source": [
        "%reload_ext autoreload\n",
        "%autoreload 2\n",
        "%matplotlib inline"
      ],
      "execution_count": null,
      "outputs": []
    },
    {
      "cell_type": "code",
      "metadata": {
        "id": "AmZFlZ90C2Cw"
      },
      "source": [
        "import numpy as np\n",
        "import pandas as pd\n",
        "import torch\n",
        "import matplotlib.pyplot as plt\n",
        "import seaborn as sns\n",
        "sns.set(style='white', palette='muted')\n",
        "from pathlib import Path"
      ],
      "execution_count": null,
      "outputs": []
    },
    {
      "cell_type": "code",
      "metadata": {
        "id": "DS6ByTFSC2Cy",
        "colab": {
          "base_uri": "https://localhost:8080/",
          "height": 34
        },
        "outputId": "2395961b-a6ee-486a-d8f6-0722f9d67e23"
      },
      "source": [
        "path = Path('')\n",
        "path.mkdir(parents=True, exist_ok=True)\n",
        "path"
      ],
      "execution_count": null,
      "outputs": [
        {
          "output_type": "execute_result",
          "data": {
            "text/plain": [
              "PosixPath('.')"
            ]
          },
          "metadata": {
            "tags": []
          },
          "execution_count": 13
        }
      ]
    },
    {
      "cell_type": "markdown",
      "metadata": {
        "id": "zZT2_1A3C2C2"
      },
      "source": [
        "### Prepare the data"
      ]
    },
    {
      "cell_type": "code",
      "metadata": {
        "id": "FevPp4BGC2C3"
      },
      "source": [
        "# Download data from https://www.kaggle.com/mlg-ulb/creditcardfraud"
      ],
      "execution_count": null,
      "outputs": []
    },
    {
      "cell_type": "code",
      "metadata": {
        "id": "0dwaz8yOC2C6",
        "colab": {
          "base_uri": "https://localhost:8080/",
          "height": 34
        },
        "outputId": "ff20b13e-6f58-49ae-cc1f-410ed64774e2"
      },
      "source": [
        "df = pd.read_csv(path/f\"creditcard.csv\")\n",
        "print(df.shape)"
      ],
      "execution_count": null,
      "outputs": [
        {
          "output_type": "stream",
          "text": [
            "(284807, 31)\n"
          ],
          "name": "stdout"
        }
      ]
    },
    {
      "cell_type": "code",
      "metadata": {
        "id": "RIj1MAm-C2C9",
        "colab": {
          "base_uri": "https://localhost:8080/",
          "height": 34
        },
        "outputId": "ebdc3010-1a35-448a-f202-4fd3be0a5503"
      },
      "source": [
        "df.isnull().values.any()"
      ],
      "execution_count": null,
      "outputs": [
        {
          "output_type": "execute_result",
          "data": {
            "text/plain": [
              "False"
            ]
          },
          "metadata": {
            "tags": []
          },
          "execution_count": 15
        }
      ]
    },
    {
      "cell_type": "code",
      "metadata": {
        "id": "cwGDpkXHC2DA",
        "colab": {
          "base_uri": "https://localhost:8080/",
          "height": 68
        },
        "outputId": "078b41fe-5260-49e1-c284-af2dc99b69fc"
      },
      "source": [
        "df.Class.value_counts()"
      ],
      "execution_count": null,
      "outputs": [
        {
          "output_type": "execute_result",
          "data": {
            "text/plain": [
              "0    284315\n",
              "1       492\n",
              "Name: Class, dtype: int64"
            ]
          },
          "metadata": {
            "tags": []
          },
          "execution_count": 16
        }
      ]
    },
    {
      "cell_type": "code",
      "metadata": {
        "id": "s-pnIIlSC2DD",
        "colab": {
          "base_uri": "https://localhost:8080/",
          "height": 170
        },
        "outputId": "fecc2c61-9936-4dba-b528-27289dabe10b"
      },
      "source": [
        "df.Amount.describe()"
      ],
      "execution_count": null,
      "outputs": [
        {
          "output_type": "execute_result",
          "data": {
            "text/plain": [
              "count    284807.000000\n",
              "mean         88.349619\n",
              "std         250.120109\n",
              "min           0.000000\n",
              "25%           5.600000\n",
              "50%          22.000000\n",
              "75%          77.165000\n",
              "max       25691.160000\n",
              "Name: Amount, dtype: float64"
            ]
          },
          "metadata": {
            "tags": []
          },
          "execution_count": 17
        }
      ]
    },
    {
      "cell_type": "code",
      "metadata": {
        "id": "SVVJJLoIC2DG",
        "colab": {
          "base_uri": "https://localhost:8080/",
          "height": 142
        },
        "outputId": "f92234ce-d304-4536-cf9a-87d692f7273e"
      },
      "source": [
        "df.groupby(df.Class).Amount.describe()"
      ],
      "execution_count": null,
      "outputs": [
        {
          "output_type": "execute_result",
          "data": {
            "text/html": [
              "<div>\n",
              "<style scoped>\n",
              "    .dataframe tbody tr th:only-of-type {\n",
              "        vertical-align: middle;\n",
              "    }\n",
              "\n",
              "    .dataframe tbody tr th {\n",
              "        vertical-align: top;\n",
              "    }\n",
              "\n",
              "    .dataframe thead th {\n",
              "        text-align: right;\n",
              "    }\n",
              "</style>\n",
              "<table border=\"1\" class=\"dataframe\">\n",
              "  <thead>\n",
              "    <tr style=\"text-align: right;\">\n",
              "      <th></th>\n",
              "      <th>count</th>\n",
              "      <th>mean</th>\n",
              "      <th>std</th>\n",
              "      <th>min</th>\n",
              "      <th>25%</th>\n",
              "      <th>50%</th>\n",
              "      <th>75%</th>\n",
              "      <th>max</th>\n",
              "    </tr>\n",
              "    <tr>\n",
              "      <th>Class</th>\n",
              "      <th></th>\n",
              "      <th></th>\n",
              "      <th></th>\n",
              "      <th></th>\n",
              "      <th></th>\n",
              "      <th></th>\n",
              "      <th></th>\n",
              "      <th></th>\n",
              "    </tr>\n",
              "  </thead>\n",
              "  <tbody>\n",
              "    <tr>\n",
              "      <th>0</th>\n",
              "      <td>284315.0</td>\n",
              "      <td>88.291022</td>\n",
              "      <td>250.105092</td>\n",
              "      <td>0.0</td>\n",
              "      <td>5.65</td>\n",
              "      <td>22.00</td>\n",
              "      <td>77.05</td>\n",
              "      <td>25691.16</td>\n",
              "    </tr>\n",
              "    <tr>\n",
              "      <th>1</th>\n",
              "      <td>492.0</td>\n",
              "      <td>122.211321</td>\n",
              "      <td>256.683288</td>\n",
              "      <td>0.0</td>\n",
              "      <td>1.00</td>\n",
              "      <td>9.25</td>\n",
              "      <td>105.89</td>\n",
              "      <td>2125.87</td>\n",
              "    </tr>\n",
              "  </tbody>\n",
              "</table>\n",
              "</div>"
            ],
            "text/plain": [
              "          count        mean         std  min   25%    50%     75%       max\n",
              "Class                                                                      \n",
              "0      284315.0   88.291022  250.105092  0.0  5.65  22.00   77.05  25691.16\n",
              "1         492.0  122.211321  256.683288  0.0  1.00   9.25  105.89   2125.87"
            ]
          },
          "metadata": {
            "tags": []
          },
          "execution_count": 18
        }
      ]
    },
    {
      "cell_type": "code",
      "metadata": {
        "id": "v21rSW_cC2DJ",
        "colab": {
          "base_uri": "https://localhost:8080/",
          "height": 308
        },
        "outputId": "bd39ebf0-7155-4b5b-bc8c-0b4afab5c8c8"
      },
      "source": [
        "sns.boxplot(x='Class', y='Amount', data=df[df.Amount < df.Amount.quantile(0.95)])"
      ],
      "execution_count": null,
      "outputs": [
        {
          "output_type": "execute_result",
          "data": {
            "text/plain": [
              "<matplotlib.axes._subplots.AxesSubplot at 0x7fd30703f438>"
            ]
          },
          "metadata": {
            "tags": []
          },
          "execution_count": 19
        },
        {
          "output_type": "display_data",
          "data": {
            "image/png": "[encoded data removed]",
            "text/plain": [
              "<Figure size 432x288 with 1 Axes>"
            ]
          },
          "metadata": {
            "tags": []
          }
        }
      ]
    },
    {
      "cell_type": "code",
      "metadata": {
        "id": "-sHUCd0cC2DM"
      },
      "source": [
        "df[\"Time\"] = df[\"Time\"].apply(lambda x : x / 3600 % 24)"
      ],
      "execution_count": null,
      "outputs": []
    },
    {
      "cell_type": "code",
      "metadata": {
        "id": "yliX5bYlC2DP",
        "colab": {
          "base_uri": "https://localhost:8080/",
          "height": 437
        },
        "outputId": "eb25aadd-61a8-4833-f1e9-37fd6656d5bb"
      },
      "source": [
        "g = sns.FacetGrid(df, sharey=False, height=3, aspect=2, row=\"Class\")\n",
        "g = g.map(sns.scatterplot, 'Time', \"Amount\");"
      ],
      "execution_count": null,
      "outputs": [
        {
          "output_type": "display_data",
          "data": {
            "image/png": "[encoded data removed]",
            "text/plain": [
              "<Figure size 432x432 with 2 Axes>"
            ]
          },
          "metadata": {
            "tags": []
          }
        }
      ]
    },
    {
      "cell_type": "code",
      "metadata": {
        "id": "vgTC6bMcC2DS",
        "colab": {
          "base_uri": "https://localhost:8080/",
          "height": 535
        },
        "outputId": "60d883ce-030a-460d-d03d-67ea9c331b47"
      },
      "source": [
        "def plot_corrmap(df):\n",
        "    corr_all = df.corr()\n",
        "    mask = np.zeros_like(corr_all, dtype=np.bool)\n",
        "    mask[np.triu_indices_from(mask)] = True\n",
        "    \n",
        "    f, ax = plt.subplots(figsize=(9, 9))\n",
        "    sns.heatmap(corr_all, mask=mask, square=True, ax=ax, vmin=-1, vmax=1, cmap=\"coolwarm_r\")      \n",
        "    plt.show()\n",
        "\n",
        "plot_corrmap(df)"
      ],
      "execution_count": null,
      "outputs": [
        {
          "output_type": "display_data",
          "data": {
            "image/png": "[encoded data removed]",
            "text/plain": [
              "<Figure size 648x648 with 2 Axes>"
            ]
          },
          "metadata": {
            "tags": []
          }
        }
      ]
    },
    {
      "cell_type": "code",
      "metadata": {
        "id": "Jg1QvOe-C2DV"
      },
      "source": [
        "fraud = df[df.Class == 1]\n",
        "non_fraud = df[df.Class == 0]"
      ],
      "execution_count": null,
      "outputs": []
    },
    {
      "cell_type": "code",
      "metadata": {
        "id": "xGq5edI1C2DX",
        "colab": {
          "base_uri": "https://localhost:8080/",
          "height": 88
        },
        "outputId": "43f483d0-a4d7-44a2-d8c9-e81e5a01d76f"
      },
      "source": [
        "# Oversample training data with SMOTE\n",
        "from imblearn.over_sampling import SMOTE\n",
        "\n",
        "df_smote = non_fraud.sample(len(fraud) * 5, random_state=42).append(fraud).reset_index(drop=True)\n",
        "\n",
        "# Synthesize elements for the minority class by computing the k-nearest neighbors\n",
        "smote = SMOTE(ratio='minority')\n",
        "X_smote, y_smote = smote.fit_sample(df_smote.drop('Class', axis=1).values, df_smote.Class.values)\n",
        "\n",
        "X_smote.shape, y_smote.shape"
      ],
      "execution_count": null,
      "outputs": [
        {
          "output_type": "stream",
          "text": [
            "/usr/local/lib/python3.6/dist-packages/sklearn/externals/six.py:31: DeprecationWarning: The module is deprecated in version 0.21 and will be removed in version 0.23 since we've dropped support for Python 2.7. Please rely on the official version of six (https://pypi.org/project/six/).\n",
            "  \"(https://pypi.org/project/six/).\", DeprecationWarning)\n"
          ],
          "name": "stderr"
        },
        {
          "output_type": "execute_result",
          "data": {
            "text/plain": [
              "((4920, 30), (4920,))"
            ]
          },
          "metadata": {
            "tags": []
          },
          "execution_count": 24
        }
      ]
    },
    {
      "cell_type": "code",
      "metadata": {
        "id": "HlLsV0PoC2DZ",
        "colab": {
          "base_uri": "https://localhost:8080/",
          "height": 271
        },
        "outputId": "bfdd457d-46f0-494a-fd68-11c9763c378b"
      },
      "source": [
        "pd.Series(y_smote).value_counts().plot.bar();"
      ],
      "execution_count": null,
      "outputs": [
        {
          "output_type": "display_data",
          "data": {
            "image/png": "[encoded data removed]",
            "text/plain": [
              "<Figure size 432x288 with 1 Axes>"
            ]
          },
          "metadata": {
            "tags": []
          }
        }
      ]
    },
    {
      "cell_type": "code",
      "metadata": {
        "id": "Y-62oGstC2Dc",
        "colab": {
          "base_uri": "https://localhost:8080/",
          "height": 34
        },
        "outputId": "598dfd31-e849-4fe2-eaff-2b9038072a73"
      },
      "source": [
        "from sklearn.model_selection import train_test_split\n",
        "\n",
        "# Create working and test sets\n",
        "X, X_test, y, y_test = train_test_split(X_smote, y_smote, test_size=.2, random_state=42)\n",
        "\n",
        "X.shape, y.shape, X_test.shape, y_test.shape"
      ],
      "execution_count": null,
      "outputs": [
        {
          "output_type": "execute_result",
          "data": {
            "text/plain": [
              "((3936, 30), (3936,), (984, 30), (984,))"
            ]
          },
          "metadata": {
            "tags": []
          },
          "execution_count": 26
        }
      ]
    },
    {
      "cell_type": "code",
      "metadata": {
        "id": "2xdrkoBTC2De",
        "colab": {
          "base_uri": "https://localhost:8080/",
          "height": 34
        },
        "outputId": "505e2c23-40b6-4801-da13-793781dff79f"
      },
      "source": [
        "X_train, X_valid, y_train, y_valid = train_test_split(X, y, test_size=.2, random_state=42)\n",
        "\n",
        "# Create training and validation sets\n",
        "X_train.shape, y_train.shape, X_valid.shape, y_valid.shape"
      ],
      "execution_count": null,
      "outputs": [
        {
          "output_type": "execute_result",
          "data": {
            "text/plain": [
              "((3148, 30), (3148,), (788, 30), (788,))"
            ]
          },
          "metadata": {
            "tags": []
          },
          "execution_count": 27
        }
      ]
    },
    {
      "cell_type": "markdown",
      "metadata": {
        "id": "_KZv1PQiC2Dg"
      },
      "source": [
        "### Compare classifiers"
      ]
    },
    {
      "cell_type": "code",
      "metadata": {
        "id": "-_EdbNUPC2Dh",
        "colab": {
          "base_uri": "https://localhost:8080/",
          "height": 508
        },
        "outputId": "f7591748-129c-4512-f31a-5d188ce227ae"
      },
      "source": [
        "from sklearn.decomposition import PCA\n",
        "\n",
        "def plot_pca(X, y):\n",
        "    pca = PCA(n_components=2)\n",
        "    X_t = pca.fit_transform(X)\n",
        "    \n",
        "    pca_df = pd.DataFrame(X_t, columns=['x', 'y'])\n",
        "    pca_df['Class'] = y\n",
        "\n",
        "    plt.figure(figsize=(12, 8))\n",
        "    sns.scatterplot(x='x', y='y', hue='Class', data=pca_df)\n",
        "    plt.show()\n",
        "    \n",
        "plot_pca(X, y)"
      ],
      "execution_count": null,
      "outputs": [
        {
          "output_type": "display_data",
          "data": {
            "image/png": "[encoded data removed]",
            "text/plain": [
              "<Figure size 864x576 with 1 Axes>"
            ]
          },
          "metadata": {
            "tags": []
          }
        }
      ]
    },
    {
      "cell_type": "code",
      "metadata": {
        "id": "I_X17YoXC2Dj",
        "colab": {
          "base_uri": "https://localhost:8080/",
          "height": 68
        },
        "outputId": "d5acb2b9-fbac-49c6-bf68-ffceea4bae52"
      },
      "source": [
        "from sklearn.preprocessing import StandardScaler\n",
        "from sklearn.model_selection import cross_validate, StratifiedKFold\n",
        "from sklearn.linear_model import LogisticRegression\n",
        "from sklearn.neural_network import MLPClassifier\n",
        "from sklearn.neighbors import KNeighborsClassifier\n",
        "from sklearn.svm import SVC\n",
        "from sklearn.gaussian_process import GaussianProcessClassifier\n",
        "from sklearn.gaussian_process.kernels import RBF\n",
        "from sklearn.tree import DecisionTreeClassifier\n",
        "from sklearn.ensemble import RandomForestClassifier, AdaBoostClassifier\n",
        "from sklearn.naive_bayes import GaussianNB\n",
        "from sklearn.discriminant_analysis import QuadraticDiscriminantAnalysis\n",
        "\n",
        "def compare_classifiers(X, y, scoring):\n",
        "    X = StandardScaler().fit_transform(X)\n",
        "    classifiers = {\n",
        "        'LogRes': LogisticRegression(solver='liblinear'),\n",
        "        \"kNN\": KNeighborsClassifier(3),\n",
        "        \"LinSVM\": SVC(kernel=\"linear\", C=0.025),\n",
        "        \"GaussianProcess\": GaussianProcessClassifier(1.0 * RBF(1.0)),\n",
        "        \"DecisionTree\": DecisionTreeClassifier(max_depth=5),\n",
        "        \"RandomForest\": RandomForestClassifier(max_depth=5, n_estimators=10, max_features=1),\n",
        "        \"MLP\": MLPClassifier(alpha=1, max_iter=500),\n",
        "        \"AdaBoost\": AdaBoostClassifier(),\n",
        "        \"NaiveBayes\": GaussianNB(),\n",
        "        \"QDA\": QuadraticDiscriminantAnalysis()\n",
        "    }\n",
        "\n",
        "    results_df = pd.DataFrame()\n",
        "    for name, model in classifiers.items():\n",
        "        skf = StratifiedKFold(n_splits=3)\n",
        "        cv_results = cross_validate(model, X, y, cv=skf, scoring=scoring, return_train_score=False)\n",
        "        scores = cv_results['test_score']\n",
        "        results_df[name] = scores\n",
        "        msg = \"%s: %f (%f)\" % (name, scores.mean(), scores.std())\n",
        "        print(msg)\n",
        "\n",
        "    melted_df = pd.melt(results_df, id_vars=[], value_vars=results_df.columns)\n",
        "    plt.figure(figsize=(16, 4))\n",
        "    sns.boxplot(x='variable', y='value', data=melted_df)\n",
        "    plt.show()\n",
        "    \n",
        "compare_classifiers(X, y, 'roc_auc')"
      ],
      "execution_count": null,
      "outputs": [
        {
          "output_type": "stream",
          "text": [
            "LogRes: 0.989298 (0.000428)\n",
            "kNN: 0.987497 (0.004512)\n",
            "LinSVM: 0.988846 (0.000879)\n"
          ],
          "name": "stdout"
        }
      ]
    },
    {
      "cell_type": "code",
      "metadata": {
        "id": "fCLGPeaeC2Do"
      },
      "source": [
        "from sklearn.pipeline import Pipeline\n",
        "\n",
        "pipe = Pipeline([\n",
        "    ('scale', StandardScaler()),\n",
        "    ('clf', GaussianProcessClassifier(1.0 * RBF(1.0))),\n",
        "])"
      ],
      "execution_count": null,
      "outputs": []
    },
    {
      "cell_type": "code",
      "metadata": {
        "id": "Cgtg4HqQC2Dr"
      },
      "source": [
        "pipe.fit(X, y)"
      ],
      "execution_count": null,
      "outputs": []
    },
    {
      "cell_type": "code",
      "metadata": {
        "id": "oaWi_Qu_C2Dv"
      },
      "source": [
        "y_proba_clf = pipe.predict_proba(X_test)[:, 1]"
      ],
      "execution_count": null,
      "outputs": []
    },
    {
      "cell_type": "code",
      "metadata": {
        "id": "NE4cEe3qC2Dw"
      },
      "source": [
        "from sklearn.metrics import precision_recall_curve, roc_curve, roc_auc_score, average_precision_score\n",
        "\n",
        "def plot_curves(y_true, y_proba):\n",
        "    fig, (ax1, ax2) = plt.subplots(1, 2, figsize=(12, 4))\n",
        "    \n",
        "    p, r, _ = precision_recall_curve(y_true, y_proba)\n",
        "    pr_auc = average_precision_score(y_true, y_proba)\n",
        "    ax1.scatter(r, p, label='AUC = %0.2f'% pr_auc, c=(p+2*r)/2, cmap=plt.cm.coolwarm_r)\n",
        "    ax1.plot([0, 1], [1, 0], 'r--')\n",
        "    ax1.legend()\n",
        "    ax1.set_xlabel('Recall')\n",
        "    ax1.set_ylabel('Precision')\n",
        "    ax1.set_title('PR Curve')\n",
        "    \n",
        "    # Use ROC AUC if classes are not highly imbalanced\n",
        "    # The AUC gives you the probability that your classifier assigns a higher score to the positive example\n",
        "    fpr, tpr, _ = roc_curve(y_true, y_proba)\n",
        "    roc_auc = roc_auc_score(y_true, y_proba)\n",
        "    ax2.scatter(fpr, tpr, label='AUC = %0.2f'% roc_auc, c=(2*tpr+1-fpr)/2, cmap=plt.cm.coolwarm_r)\n",
        "    ax2.plot([0, 1], [0, 1], 'r--')\n",
        "    ax2.legend()\n",
        "    ax2.set_xlabel('FPR')\n",
        "    ax2.set_ylabel('TPR')\n",
        "    ax2.set_title('ROC Curve')\n",
        "    \n",
        "    plt.show()\n",
        "    \n",
        "plot_curves(y_test, y_proba_clf)"
      ],
      "execution_count": null,
      "outputs": []
    },
    {
      "cell_type": "code",
      "metadata": {
        "id": "6fnvc9-6C2Dy"
      },
      "source": [
        "from sklearn.metrics import confusion_matrix\n",
        "\n",
        "def plot_confusion_matrix(y_true, y_pred):\n",
        "    plt.figure(figsize=(8, 6))\n",
        "    sns.heatmap(confusion_matrix(y_true, y_pred), cmap='Blues', annot=True, fmt=\"d\")\n",
        "    plt.show()\n",
        "\n",
        "plot_confusion_matrix(y_test, y_proba_clf > .5)"
      ],
      "execution_count": null,
      "outputs": []
    },
    {
      "cell_type": "markdown",
      "metadata": {
        "id": "0eikKtLeC2D2"
      },
      "source": [
        "### Binary classifier"
      ]
    },
    {
      "cell_type": "code",
      "metadata": {
        "id": "EjJRv3O9C2D2"
      },
      "source": [
        "from torch import nn\n",
        "\n",
        "class BCModel(nn.Module):\n",
        "    def __init__(self, in_size, num_units, dropout):\n",
        "        super(BCModel, self).__init__()\n",
        "        self.fc1 = nn.Linear(in_size, num_units)\n",
        "        self.dropout = nn.Dropout(dropout)\n",
        "        self.fc2 = nn.Linear(num_units, 1)\n",
        "        \n",
        "    def forward(self, x):\n",
        "        x = self.dropout(torch.relu(self.fc1(x)))\n",
        "        return self.fc2(x)"
      ],
      "execution_count": null,
      "outputs": []
    },
    {
      "cell_type": "code",
      "metadata": {
        "id": "1jsuQXJRC2D4"
      },
      "source": [
        "# Requires data type Float and an extra dimension for targets\n",
        "from sklearn.preprocessing import StandardScaler\n",
        "\n",
        "X_bc = StandardScaler().fit_transform(X).astype(np.float32)\n",
        "y_bc = np.expand_dims(y, 1).astype(np.float32)\n",
        "\n",
        "X_test_bc = StandardScaler().fit_transform(X_test).astype(np.float32)\n",
        "y_test_bc = np.expand_dims(y_test, 1).astype(np.float32)"
      ],
      "execution_count": null,
      "outputs": []
    },
    {
      "cell_type": "code",
      "metadata": {
        "id": "1Ko6YwOyC2D6"
      },
      "source": [
        "# Wrap a PyTorch module to make a sklearn-compatible neural network\n",
        "from skorch import NeuralNet\n",
        "from torch.optim import Adam\n",
        "\n",
        "# Make recall weight more\n",
        "pos_weight = torch.FloatTensor([2.])\n",
        "\n",
        "bc_net = NeuralNet(\n",
        "    module=BCModel,\n",
        "    module__in_size=X_bc.shape[1],\n",
        "    optimizer=Adam,\n",
        "    criterion=torch.nn.BCEWithLogitsLoss,\n",
        "    criterion__pos_weight=pos_weight,\n",
        "    max_epochs=20,\n",
        "    lr=1e-2,\n",
        "    verbose=0\n",
        ")"
      ],
      "execution_count": null,
      "outputs": []
    },
    {
      "cell_type": "code",
      "metadata": {
        "id": "7AzXwxoIC2D7"
      },
      "source": [
        "# Perform a grid search\n",
        "from sklearn.model_selection import GridSearchCV\n",
        "from sklearn.metrics import make_scorer, roc_auc_score, precision_score, recall_score, accuracy_score\n",
        "\n",
        "params = {\n",
        "    'module__num_units': range(10, 110, 10),\n",
        "    'module__dropout': [0., 0.1, 0.2, 0.3, 0.4, 0.5]\n",
        "}\n",
        "\n",
        "def sigmoid(x, derivative=False):\n",
        "    sigm = 1. / (1. + np.exp(-x))\n",
        "    if derivative:\n",
        "        return sigm * (1. - sigm)\n",
        "    return sigm\n",
        "\n",
        "def nn_accuracy(y_valid, y_pred):\n",
        "    return accuracy_score(y_valid.squeeze(), sigmoid(y_pred.squeeze()) > .5)\n",
        "def nn_precision(y_valid, y_pred):\n",
        "    return precision_score(y_valid.squeeze(), sigmoid(y_pred.squeeze()) > .5)\n",
        "def nn_recall(y_valid, y_pred):\n",
        "    return recall_score(y_valid.squeeze(), sigmoid(y_pred.squeeze()) > .5)\n",
        "def nn_roc_auc(y_valid, y_pred):\n",
        "    return roc_auc_score(y_valid.squeeze(), sigmoid(y_pred.squeeze()))\n",
        "\n",
        "scoring = {\n",
        "    'accuracy': make_scorer(nn_accuracy),\n",
        "    'precision': make_scorer(nn_precision), \n",
        "    'recall': make_scorer(nn_recall), \n",
        "    'roc_auc': make_scorer(nn_roc_auc)\n",
        "}\n",
        "skf = StratifiedKFold(n_splits=3, random_state=42)\n",
        "gs = GridSearchCV(bc_net, params, refit='roc_auc', iid=False, cv=skf, scoring=scoring, return_train_score=False, verbose=1)"
      ],
      "execution_count": null,
      "outputs": []
    },
    {
      "cell_type": "code",
      "metadata": {
        "id": "nd8RnONLC2D-"
      },
      "source": [
        "%%time\n",
        "gs.fit(X_bc, y_bc)"
      ],
      "execution_count": null,
      "outputs": []
    },
    {
      "cell_type": "code",
      "metadata": {
        "id": "8-iCrDDiC2EA"
      },
      "source": [
        "# Visualize best parameters\n",
        "\n",
        "def plot_grid_results():\n",
        "    fig = plt.figure(figsize=(11, 6))\n",
        "    \n",
        "    for i, param in enumerate(['mean_test_accuracy', 'mean_test_precision', 'mean_test_recall', 'mean_test_roc_auc']):\n",
        "        ax = fig.add_subplot(221 + i)\n",
        "        grid_df = pd.DataFrame(0, columns=params['module__num_units'], index=params['module__dropout'])\n",
        "        for i, (p1, p2) in enumerate([d.values() for d in gs.cv_results_['params']]):\n",
        "            grid_df.loc[p1, p2] = gs.cv_results_[param][i]\n",
        "        sns.heatmap(grid_df, cmap='coolwarm_r', ax=ax)\n",
        "        ax.set_title(param)\n",
        "        \n",
        "    plt.tight_layout()\n",
        "    plt.show()\n",
        "    \n",
        "plot_grid_results()"
      ],
      "execution_count": null,
      "outputs": []
    },
    {
      "cell_type": "code",
      "metadata": {
        "id": "uGwMJnb8C2ED"
      },
      "source": [
        "bc_net = gs.best_estimator_"
      ],
      "execution_count": null,
      "outputs": []
    },
    {
      "cell_type": "code",
      "metadata": {
        "id": "kI98Fp33C2EE"
      },
      "source": [
        "y_proba_bc = sigmoid(bc_net.predict(X_test_bc))"
      ],
      "execution_count": null,
      "outputs": []
    },
    {
      "cell_type": "code",
      "metadata": {
        "id": "nqGsyxijC2EG"
      },
      "source": [
        "plot_curves(y_test_bc, y_proba_bc)"
      ],
      "execution_count": null,
      "outputs": []
    },
    {
      "cell_type": "code",
      "metadata": {
        "id": "FyK8C75KC2EH"
      },
      "source": [
        "plot_confusion_matrix(y_test_bc, y_proba_bc > .5)"
      ],
      "execution_count": null,
      "outputs": []
    },
    {
      "cell_type": "markdown",
      "metadata": {
        "id": "bPmyHBhDC2EJ"
      },
      "source": [
        "### Autoencoder"
      ]
    },
    {
      "cell_type": "code",
      "metadata": {
        "id": "tbUCm83MC2EJ"
      },
      "source": [
        "# The autoencoder will try to learn only one class and automatically distinuish the other class\n",
        "\n",
        "train_auto, valid_auto = train_test_split(non_fraud, test_size=0.1)\n",
        "# Reserve positive samples for validation\n",
        "valid_auto = valid_auto.append(fraud).reset_index(drop=True)\n",
        "valid_classes = valid_auto.Class.values\n",
        "\n",
        "train_auto = train_auto.drop('Class', axis=1).values\n",
        "valid_auto = valid_auto.drop('Class', axis=1).values\n",
        "\n",
        "train_auto.shape, valid_auto.shape"
      ],
      "execution_count": null,
      "outputs": []
    },
    {
      "cell_type": "code",
      "metadata": {
        "id": "_BnhZ6ggC2EN"
      },
      "source": [
        "# Rescale the values to be in range [0, 1] to compare with sigmoid\n",
        "from sklearn.preprocessing import MinMaxScaler\n",
        "\n",
        "train_auto = torch.FloatTensor(StandardScaler().fit_transform(train_auto))\n",
        "valid_auto = torch.FloatTensor(StandardScaler().fit_transform(valid_auto))\n",
        "\n",
        "train_auto.min(), train_auto.max()"
      ],
      "execution_count": null,
      "outputs": []
    },
    {
      "cell_type": "code",
      "metadata": {
        "id": "TIn2y9GlC2EP"
      },
      "source": [
        "from torch.utils.data import TensorDataset, DataLoader\n",
        "\n",
        "train_auto_ds = TensorDataset(train_auto, train_auto)\n",
        "valid_auto_ds = TensorDataset(valid_auto, valid_auto)"
      ],
      "execution_count": null,
      "outputs": []
    },
    {
      "cell_type": "code",
      "metadata": {
        "id": "WqHCMa7GC2ER"
      },
      "source": [
        "from fastai.basic_data import DataBunch\n",
        "\n",
        "data_auto = DataBunch.create(train_auto_ds, valid_auto_ds, bs=256)\n",
        "\n",
        "next(iter(data_auto.train_dl))[0].shape, next(iter(data_auto.valid_dl))[0].shape"
      ],
      "execution_count": null,
      "outputs": []
    },
    {
      "cell_type": "code",
      "metadata": {
        "id": "-mM7DLN9C2ET"
      },
      "source": [
        "# We use autoencoder to iterate through (almost) the whole dataset and learn the distribution of non-fraud\n",
        "import torch.nn as nn\n",
        "\n",
        "class Autoencoder(nn.Module):\n",
        "    def __init__(self, in_size, h_size, z_size):\n",
        "        super(Autoencoder, self).__init__()\n",
        "        \n",
        "        self.fc1 = nn.Linear(in_size, h_size)\n",
        "        self.fc2 = nn.Linear(h_size, z_size)\n",
        "        self.fc3 = nn.Linear(z_size, h_size)\n",
        "        self.fc4 = nn.Linear(h_size, in_size)\n",
        "        \n",
        "    def encode(self, x):\n",
        "        x = torch.relu(self.fc1(x))\n",
        "        return torch.relu(self.fc2(x))\n",
        "    \n",
        "    def decode(self, x):\n",
        "        x = torch.relu(self.fc3(x))\n",
        "        return self.fc4(x)\n",
        "\n",
        "    def forward(self, x):\n",
        "        x = self.encode(x)\n",
        "        return self.decode(x)\n",
        "    \n",
        "# The more units the better model separates fraud from non-fraud in the latent space\n",
        "autoencoder = Autoencoder(train_auto.shape[1], 100, 50)\n",
        "autoencoder"
      ],
      "execution_count": null,
      "outputs": []
    },
    {
      "cell_type": "code",
      "metadata": {
        "id": "vz40fq-vC2EV"
      },
      "source": [
        "from fastai.train import Learner\n",
        "\n",
        "learn_auto = Learner(data=data_auto, model=autoencoder, loss_func=nn.MSELoss())"
      ],
      "execution_count": null,
      "outputs": []
    },
    {
      "cell_type": "code",
      "metadata": {
        "id": "iiHwdeM5C2EX"
      },
      "source": [
        "learn_auto.lr_find()\n",
        "learn_auto.recorder.plot()"
      ],
      "execution_count": null,
      "outputs": []
    },
    {
      "cell_type": "code",
      "metadata": {
        "id": "bA2XRx_yC2EZ"
      },
      "source": [
        "learn_auto.fit_one_cycle(3, 1e-2)"
      ],
      "execution_count": null,
      "outputs": []
    },
    {
      "cell_type": "code",
      "metadata": {
        "id": "Jsct8MYjC2Eb"
      },
      "source": [
        "learn_auto.recorder.plot_losses()"
      ],
      "execution_count": null,
      "outputs": []
    },
    {
      "cell_type": "code",
      "metadata": {
        "id": "9wpSVzzuC2Ed"
      },
      "source": [
        "learn_auto.save('autoencoder');"
      ],
      "execution_count": null,
      "outputs": []
    },
    {
      "cell_type": "code",
      "metadata": {
        "id": "jGlkdwfwC2Eh"
      },
      "source": [
        "# Now let's try to predict fraud by using the reconstruction error\n",
        "from fastai.basic_data import DatasetType\n",
        "\n",
        "y_pred, y_true = learn_auto.get_preds(DatasetType.Valid)"
      ],
      "execution_count": null,
      "outputs": []
    },
    {
      "cell_type": "code",
      "metadata": {
        "id": "fHIu43fPC2Ek"
      },
      "source": [
        "y_pred = y_pred.cpu().numpy()\n",
        "y_true = y_true.cpu().numpy()"
      ],
      "execution_count": null,
      "outputs": []
    },
    {
      "cell_type": "code",
      "metadata": {
        "id": "M3ukSx3EC2En"
      },
      "source": [
        "mse = np.mean(np.power(y_pred - y_true, 2), axis=1)\n",
        "mse_df = pd.DataFrame({'mse': mse, 'Class': valid_classes})\n",
        "mse_df.groupby(by='Class')['mse'].describe()"
      ],
      "execution_count": null,
      "outputs": []
    },
    {
      "cell_type": "code",
      "metadata": {
        "id": "YpRO3h4ZC2Ep"
      },
      "source": [
        "g = sns.FacetGrid(mse_df, sharey=False, height=3, aspect=2, row=\"Class\")\n",
        "g = g.map(sns.distplot, 'mse', kde=False, bins=50);"
      ],
      "execution_count": null,
      "outputs": []
    },
    {
      "cell_type": "code",
      "metadata": {
        "id": "b8hYMH1_C2Er"
      },
      "source": [
        "# Find best MSE threshold after which we consider predictions as one\n",
        "from sklearn.metrics import precision_score, fbeta_score\n",
        "\n",
        "def find_best_mse_threshold(mse_df):\n",
        "    mse_threshold = 0\n",
        "    max_score = 0\n",
        "    for v in np.linspace(mse_df.mse.min(), mse_df.mse.max(), 100):\n",
        "        bound_pred = (mse_df.mse > v).astype(int).values\n",
        "        if len(np.unique(bound_pred)) == len(np.unique(mse_df.Class.values)):\n",
        "            score = fbeta_score(mse_df.Class.values, bound_pred, 2.)\n",
        "            if score > max_score:\n",
        "                max_score = score\n",
        "                mse_threshold = v\n",
        "    return mse_threshold\n",
        "\n",
        "mse_threshold = find_best_mse_threshold(mse_df)\n",
        "mse_threshold"
      ],
      "execution_count": null,
      "outputs": []
    },
    {
      "cell_type": "code",
      "metadata": {
        "id": "ildKkxFUC2Ew"
      },
      "source": [
        "y_pred = (mse_df.mse > mse_threshold).astype(int).values"
      ],
      "execution_count": null,
      "outputs": []
    },
    {
      "cell_type": "code",
      "metadata": {
        "id": "p_rsR4IqC2Ey"
      },
      "source": [
        "plot_confusion_matrix(mse_df.Class.values, y_pred)"
      ],
      "execution_count": null,
      "outputs": []
    },
    {
      "cell_type": "code",
      "metadata": {
        "id": "1Lpmbdb1C2Ez"
      },
      "source": [
        "# Obtain the latent representation\n",
        "from fastai.callbacks import hooks\n",
        "\n",
        "def get_z():\n",
        "    z = []\n",
        "    with hooks.hook_output(learn_auto.model.fc2) as hook:\n",
        "        for batch, _ in learn_auto.data.valid_dl:\n",
        "            m = learn_auto.model.eval()\n",
        "            preds = m(batch)\n",
        "            z.append(hook.stored.detach().cpu().numpy())\n",
        "    return np.vstack(z)\n",
        "\n",
        "z = get_z()"
      ],
      "execution_count": null,
      "outputs": []
    },
    {
      "cell_type": "code",
      "metadata": {
        "id": "ZAAufHyBC2E1"
      },
      "source": [
        "fraud_idxs = np.where(np.array(valid_classes) == 1)[0]\n",
        "non_fraud_idxs = np.random.choice(np.where(valid_classes == 0)[0], len(fraud_idxs))\n",
        "rand_idxs = list(fraud_idxs) + list(non_fraud_idxs)\n",
        "\n",
        "len(fraud_idxs), len(non_fraud_idxs), len(rand_idxs)"
      ],
      "execution_count": null,
      "outputs": []
    },
    {
      "cell_type": "code",
      "metadata": {
        "id": "1FjCcBUNC2E3"
      },
      "source": [
        "# Whether the model learned to distinguish between fraud and non-fraud\n",
        "plot_pca(z[rand_idxs], valid_classes[rand_idxs])"
      ],
      "execution_count": null,
      "outputs": []
    },
    {
      "cell_type": "markdown",
      "metadata": {
        "id": "nbEiX2z9C2E5"
      },
      "source": [
        "### Autoencoder + binary classifier"
      ]
    },
    {
      "cell_type": "code",
      "metadata": {
        "id": "bxh2D0azC2E5"
      },
      "source": [
        "learn_auto.load('autoencoder');"
      ],
      "execution_count": null,
      "outputs": []
    },
    {
      "cell_type": "code",
      "metadata": {
        "id": "bE64VaU-C2E6"
      },
      "source": [
        "X_train_abc = torch.FloatTensor(StandardScaler().fit_transform(X_train))\n",
        "X_valid_abc = torch.FloatTensor(StandardScaler().fit_transform(X_valid))\n",
        "X_test_abc = torch.FloatTensor(StandardScaler().fit_transform(X_test))\n",
        "\n",
        "y_train_abc = torch.LongTensor(np.expand_dims(y_train, 1))\n",
        "y_valid_abc = torch.LongTensor(np.expand_dims(y_valid, 1))\n",
        "y_test_abc = torch.LongTensor(np.expand_dims(y_test, 1))\n",
        "\n",
        "X_train_abc.shape, y_train_abc.shape, X_valid_abc.shape, y_valid_abc.shape, X_test_abc.shape, y_test_abc.shape"
      ],
      "execution_count": null,
      "outputs": []
    },
    {
      "cell_type": "code",
      "metadata": {
        "id": "vKPBbVyMC2E8"
      },
      "source": [
        "train_abc_ds = TensorDataset(X_train_abc, y_train_abc)\n",
        "valid_abc_ds = TensorDataset(X_valid_abc, y_valid_abc)\n",
        "test_abc_ds = TensorDataset(X_test_abc, y_test_abc)"
      ],
      "execution_count": null,
      "outputs": []
    },
    {
      "cell_type": "code",
      "metadata": {
        "id": "4bvXz88bC2E9"
      },
      "source": [
        "bs = 32\n",
        "data_abc = DataBunch.create(train_abc_ds, valid_abc_ds, test_abc_ds, bs=bs)\n",
        "\n",
        "next(iter(data_abc.train_dl))[0].shape, next(iter(data_abc.valid_dl))[0].shape, next(iter(data_abc.test_dl))[0].shape"
      ],
      "execution_count": null,
      "outputs": []
    },
    {
      "cell_type": "code",
      "metadata": {
        "id": "hMc22hiOC2FA"
      },
      "source": [
        "# Use encoder as a frozen base and binary classifier as a head\n",
        "\n",
        "class ABCModel(nn.Module):\n",
        "    def __init__(self, autoencoder, z_size, h_size):\n",
        "        super(ABCModel, self).__init__()\n",
        "        self.autoencoder = autoencoder\n",
        "        self.fc3 = nn.Linear(z_size, h_size)\n",
        "        self.fc4 = nn.Linear(h_size, 1)\n",
        "\n",
        "    def forward(self, x):\n",
        "        x = self.autoencoder.encode(x)\n",
        "        x = torch.relu(self.fc3(x))\n",
        "        return torch.sigmoid(self.fc4(x))\n",
        "    \n",
        "model_abc = ABCModel(learn_auto.model, 50, 100)\n",
        "model_abc"
      ],
      "execution_count": null,
      "outputs": []
    },
    {
      "cell_type": "code",
      "metadata": {
        "id": "DYy7LwecC2FB"
      },
      "source": [
        "from fastai.layers import BCEFlat\n",
        "\n",
        "learn_abc = Learner(data=data_abc, model=model_abc, loss_func=BCEFlat())"
      ],
      "execution_count": null,
      "outputs": []
    },
    {
      "cell_type": "code",
      "metadata": {
        "id": "UKl27M5ZC2FC"
      },
      "source": [
        "# Freeze encoder\n",
        "from fastai.torch_core import requires_grad\n",
        "\n",
        "requires_grad(learn_abc.model.autoencoder, False)\n",
        "print(requires_grad(learn_abc.model.autoencoder.fc3))\n",
        "print(requires_grad(learn_abc.model.autoencoder.fc4))"
      ],
      "execution_count": null,
      "outputs": []
    },
    {
      "cell_type": "code",
      "metadata": {
        "id": "4_lVfeTSC2FD"
      },
      "source": [
        "learn_abc.lr_find()\n",
        "learn_abc.recorder.plot()"
      ],
      "execution_count": null,
      "outputs": []
    },
    {
      "cell_type": "code",
      "metadata": {
        "id": "DqaC9CGSC2FF"
      },
      "source": [
        "learn_abc.fit_one_cycle(30, 1e-2)"
      ],
      "execution_count": null,
      "outputs": []
    },
    {
      "cell_type": "code",
      "metadata": {
        "id": "zGNeEDUoC2FG"
      },
      "source": [
        "learn_abc.recorder.plot_losses()"
      ],
      "execution_count": null,
      "outputs": []
    },
    {
      "cell_type": "code",
      "metadata": {
        "id": "6FSJ_LSlC2FH"
      },
      "source": [
        "learn_abc.save('autoencoder_bc')"
      ],
      "execution_count": null,
      "outputs": []
    },
    {
      "cell_type": "code",
      "metadata": {
        "id": "b1EnVlKYC2FJ"
      },
      "source": [
        "y_proba_abc, _ = learn_abc.get_preds(DatasetType.Test)"
      ],
      "execution_count": null,
      "outputs": []
    },
    {
      "cell_type": "code",
      "metadata": {
        "id": "ld_PyCn-C2FK"
      },
      "source": [
        "plot_curves(y_test_abc, y_proba_abc)"
      ],
      "execution_count": null,
      "outputs": []
    },
    {
      "cell_type": "code",
      "metadata": {
        "id": "c9P_pk-IC2FM"
      },
      "source": [
        "plot_confusion_matrix(y_test_abc, y_proba_abc > .5)"
      ],
      "execution_count": null,
      "outputs": []
    },
    {
      "cell_type": "markdown",
      "metadata": {
        "id": "_YbZY06bC2FN"
      },
      "source": [
        "### Compare results"
      ]
    },
    {
      "cell_type": "code",
      "metadata": {
        "id": "gw4xI1stC2FO"
      },
      "source": [
        "def compare_curves(y_true, y_probas):\n",
        "    fig, (ax1, ax2) = plt.subplots(1, 2, figsize=(12, 4))\n",
        "    \n",
        "    ax1.plot([0, 1], [1, 0], 'r--')\n",
        "    ax1.set_xlabel('Recall')\n",
        "    ax1.set_ylabel('Precision')\n",
        "    ax1.set_title('PR Curve')\n",
        "    \n",
        "    ax2.plot([0, 1], [0, 1], 'r--')\n",
        "    ax2.set_xlabel('FPR')\n",
        "    ax2.set_ylabel('TPR')\n",
        "    ax2.set_title('ROC Curve')\n",
        "    \n",
        "    colors = [plt.cm.tab10(i) for i in range(len(y_probas))]\n",
        "    for i, (name, y_proba) in enumerate(y_probas.items()):\n",
        "        p, r, _ = precision_recall_curve(y_true, y_proba)\n",
        "        pr_auc = average_precision_score(y_true, y_proba)\n",
        "        ax1.plot(r, p, label='%s, AUC = %0.2f'% (name, pr_auc), c=colors[i])\n",
        "\n",
        "        fpr, tpr, _ = roc_curve(y_true, y_proba)\n",
        "        roc_auc = roc_auc_score(y_true, y_proba)\n",
        "        ax2.plot(fpr, tpr, label='%s, AUC = %0.2f'% (name, roc_auc), c=colors[i])\n",
        "    \n",
        "    ax1.legend()\n",
        "    ax2.legend()\n",
        "    \n",
        "    plt.show()\n",
        "    \n",
        "compare_curves(y_test, {'clf': y_proba_clf, 'bc': y_proba_bc, 'abc': y_proba_abc})"
      ],
      "execution_count": null,
      "outputs": []
    },
    {
      "cell_type": "code",
      "metadata": {
        "id": "On55GegwC2FP"
      },
      "source": [
        ""
      ],
      "execution_count": null,
      "outputs": []
    }
  ]
}