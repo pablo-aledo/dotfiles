{
  "nbformat": 4,
  "nbformat_minor": 0,
  "metadata": {
    "colab": {
      "name": "COLAB - 02_Train a GPT-2 Text-Generating Model w/ GPU",
      "provenance": [],
      "collapsed_sections": [],
      "toc_visible": true
    },
    "kernelspec": {
      "name": "python3",
      "display_name": "Python 3"
    },
    "accelerator": "GPU"
  },
  "cells": [
    {
      "cell_type": "markdown",
      "metadata": {
        "id": "Zd2DVykz9vjf"
      },
      "source": [
        "Adapted by Carlos Toxtli http://www.carlostoxtli.com/#colab-gpt2-2\n",
        "\n",
        "Source: https://github.com/jonathanronen/seinfeldvision/blob/master/data-preparation-notebooks/02_Train-a-GPT-2-Text-Generating-Model-w-GPU.ipynb"
      ]
    },
    {
      "cell_type": "code",
      "metadata": {
        "id": "uulmZZl6auby",
        "colab": {
          "base_uri": "https://localhost:8080/",
          "height": 85
        },
        "outputId": "cff285d5-f6a2-4268-ecb9-8c8d9ac19710"
      },
      "source": [
        "!gdown -O whole_corpus.txt https://drive.google.com/uc?id=1OoBL18rYAU4MWOVbfSUrF-EF7CPqDA3q"
      ],
      "execution_count": null,
      "outputs": [
        {
          "output_type": "stream",
          "text": [
            "Downloading...\n",
            "From: https://drive.google.com/uc?id=1OoBL18rYAU4MWOVbfSUrF-EF7CPqDA3q\n",
            "To: /content/whole_corpus.txt\n",
            "\r0.00B [00:00, ?B/s]\r4.20MB [00:00, 135MB/s]\n"
          ],
          "name": "stdout"
        }
      ]
    },
    {
      "cell_type": "markdown",
      "metadata": {
        "id": "H7LoMj4GA4n_"
      },
      "source": [
        "#  Train a GPT-2 Text-Generating Model w/ GPU For Free \n",
        "\n",
        "by [Max Woolf](http://minimaxir.com)\n",
        "\n",
        "*Last updated: May 8th, 2019*\n",
        "\n",
        "Retrain an advanced text generating neural network on any text dataset **for free on a GPU using Collaboratory** using `gpt-2-simple`!\n",
        "\n",
        "For more about `gpt-2-simple`, you can visit [this GitHub repository](https://github.com/minimaxir/gpt-2-simple).\n",
        "\n",
        "\n",
        "To get started:\n",
        "\n",
        "1. Copy this notebook to your Google Drive to keep it and save your changes. (File -> Save a Copy in Drive)\n",
        "2. Make sure you're running the notebook in Google Chrome.\n",
        "3. Run the cells below:\n"
      ]
    },
    {
      "cell_type": "code",
      "metadata": {
        "id": "KBkpRgBCBS2_",
        "colab": {
          "base_uri": "https://localhost:8080/",
          "height": 68
        },
        "outputId": "1b1a6515-ae25-432a-9706-531ac30ef83b"
      },
      "source": [
        "!pip install -q gpt_2_simple\n",
        "import gpt_2_simple as gpt2\n",
        "from datetime import datetime\n",
        "from google.colab import files"
      ],
      "execution_count": null,
      "outputs": [
        {
          "output_type": "stream",
          "text": [
            "\u001b[?25l\r\u001b[K     |▌                               | 10kB 21.7MB/s eta 0:00:01\r\u001b[K     |█                               | 20kB 26.7MB/s eta 0:00:01\r\u001b[K     |█▌                              | 30kB 32.2MB/s eta 0:00:01\r\u001b[K     |██                              | 40kB 3.5MB/s eta 0:00:01\r\u001b[K     |██▌                             | 51kB 4.3MB/s eta 0:00:01\r\u001b[K     |███                             | 61kB 5.1MB/s eta 0:00:01\r\u001b[K     |███▌                            | 71kB 5.8MB/s eta 0:00:01\r\u001b[K     |████                            | 81kB 6.5MB/s eta 0:00:01\r\u001b[K     |████▌                           | 92kB 7.2MB/s eta 0:00:01\r\u001b[K     |█████                           | 102kB 7.9MB/s eta 0:00:01\r\u001b[K     |█████▌                          | 112kB 7.9MB/s eta 0:00:01\r\u001b[K     |██████                          | 122kB 7.9MB/s eta 0:00:01\r\u001b[K     |██████▌                         | 133kB 7.9MB/s eta 0:00:01\r\u001b[K     |███████                         | 143kB 7.9MB/s eta 0:00:01\r\u001b[K     |███████▌                        | 153kB 7.9MB/s eta 0:00:01\r\u001b[K     |████████                        | 163kB 7.9MB/s eta 0:00:01\r\u001b[K     |████████▌                       | 174kB 7.9MB/s eta 0:00:01\r\u001b[K     |█████████                       | 184kB 7.9MB/s eta 0:00:01\r\u001b[K     |█████████▌                      | 194kB 7.9MB/s eta 0:00:01\r\u001b[K     |██████████                      | 204kB 7.9MB/s eta 0:00:01\r\u001b[K     |██████████▌                     | 215kB 7.9MB/s eta 0:00:01\r\u001b[K     |███████████                     | 225kB 7.9MB/s eta 0:00:01\r\u001b[K     |███████████▌                    | 235kB 7.9MB/s eta 0:00:01\r\u001b[K     |████████████                    | 245kB 7.9MB/s eta 0:00:01\r\u001b[K     |████████████▌                   | 256kB 7.9MB/s eta 0:00:01\r\u001b[K     |█████████████                   | 266kB 7.9MB/s eta 0:00:01\r\u001b[K     |█████████████▌                  | 276kB 7.9MB/s eta 0:00:01\r\u001b[K     |██████████████                  | 286kB 7.9MB/s eta 0:00:01\r\u001b[K     |██████████████▌                 | 296kB 7.9MB/s eta 0:00:01\r\u001b[K     |███████████████                 | 307kB 7.9MB/s eta 0:00:01\r\u001b[K     |███████████████▌                | 317kB 7.9MB/s eta 0:00:01\r\u001b[K     |████████████████                | 327kB 7.9MB/s eta 0:00:01\r\u001b[K     |████████████████▌               | 337kB 7.9MB/s eta 0:00:01\r\u001b[K     |█████████████████               | 348kB 7.9MB/s eta 0:00:01\r\u001b[K     |█████████████████▌              | 358kB 7.9MB/s eta 0:00:01\r\u001b[K     |██████████████████              | 368kB 7.9MB/s eta 0:00:01\r\u001b[K     |██████████████████▌             | 378kB 7.9MB/s eta 0:00:01\r\u001b[K     |███████████████████             | 389kB 7.9MB/s eta 0:00:01\r\u001b[K     |███████████████████▌            | 399kB 7.9MB/s eta 0:00:01\r\u001b[K     |████████████████████            | 409kB 7.9MB/s eta 0:00:01\r\u001b[K     |████████████████████▌           | 419kB 7.9MB/s eta 0:00:01\r\u001b[K     |█████████████████████           | 430kB 7.9MB/s eta 0:00:01\r\u001b[K     |█████████████████████▌          | 440kB 7.9MB/s eta 0:00:01\r\u001b[K     |██████████████████████          | 450kB 7.9MB/s eta 0:00:01\r\u001b[K     |██████████████████████▌         | 460kB 7.9MB/s eta 0:00:01\r\u001b[K     |███████████████████████         | 471kB 7.9MB/s eta 0:00:01\r\u001b[K     |███████████████████████▌        | 481kB 7.9MB/s eta 0:00:01\r\u001b[K     |████████████████████████        | 491kB 7.9MB/s eta 0:00:01\r\u001b[K     |████████████████████████▌       | 501kB 7.9MB/s eta 0:00:01\r\u001b[K     |█████████████████████████       | 512kB 7.9MB/s eta 0:00:01\r\u001b[K     |█████████████████████████▌      | 522kB 7.9MB/s eta 0:00:01\r\u001b[K     |██████████████████████████      | 532kB 7.9MB/s eta 0:00:01\r\u001b[K     |██████████████████████████▌     | 542kB 7.9MB/s eta 0:00:01\r\u001b[K     |███████████████████████████     | 552kB 7.9MB/s eta 0:00:01\r\u001b[K     |███████████████████████████▌    | 563kB 7.9MB/s eta 0:00:01\r\u001b[K     |████████████████████████████    | 573kB 7.9MB/s eta 0:00:01\r\u001b[K     |████████████████████████████▌   | 583kB 7.9MB/s eta 0:00:01\r\u001b[K     |█████████████████████████████   | 593kB 7.9MB/s eta 0:00:01\r\u001b[K     |█████████████████████████████▌  | 604kB 7.9MB/s eta 0:00:01\r\u001b[K     |██████████████████████████████  | 614kB 7.9MB/s eta 0:00:01\r\u001b[K     |██████████████████████████████▌ | 624kB 7.9MB/s eta 0:00:01\r\u001b[K     |███████████████████████████████ | 634kB 7.9MB/s eta 0:00:01\r\u001b[K     |███████████████████████████████▌| 645kB 7.9MB/s eta 0:00:01\r\u001b[K     |████████████████████████████████| 655kB 7.9MB/s \n",
            "\u001b[?25h  Building wheel for gpt-2-simple (setup.py) ... \u001b[?25l\u001b[?25hdone\n",
            "  Building wheel for regex (setup.py) ... \u001b[?25l\u001b[?25hdone\n"
          ],
          "name": "stdout"
        }
      ]
    },
    {
      "cell_type": "markdown",
      "metadata": {
        "id": "Bj2IJLHP3KwE"
      },
      "source": [
        "## Verify GPU\n",
        "\n",
        "Colaboratory now uses an Nvidia T4 GPU, which is slightly faster than the old Nvidia K80 GPU for training GPT-2, and has more memory allowing you to train the larger GPT-2 models and generate more text. However sometimes the K80 will still be used.\n",
        "\n",
        "You can verify which GPU is active by running the cell below."
      ]
    },
    {
      "cell_type": "code",
      "metadata": {
        "id": "sUmTooTW3osf",
        "colab": {
          "base_uri": "https://localhost:8080/",
          "height": 306
        },
        "outputId": "bee39823-a4bf-4ed9-c853-929f4f9c6613"
      },
      "source": [
        "!nvidia-smi"
      ],
      "execution_count": null,
      "outputs": [
        {
          "output_type": "stream",
          "text": [
            "Mon Sep 23 00:01:55 2019       \n",
            "+-----------------------------------------------------------------------------+\n",
            "| NVIDIA-SMI 430.40       Driver Version: 418.67       CUDA Version: 10.1     |\n",
            "|-------------------------------+----------------------+----------------------+\n",
            "| GPU  Name        Persistence-M| Bus-Id        Disp.A | Volatile Uncorr. ECC |\n",
            "| Fan  Temp  Perf  Pwr:Usage/Cap|         Memory-Usage | GPU-Util  Compute M. |\n",
            "|===============================+======================+======================|\n",
            "|   0  Tesla K80           Off  | 00000000:00:04.0 Off |                    0 |\n",
            "| N/A   35C    P8    26W / 149W |      0MiB / 11441MiB |      0%      Default |\n",
            "+-------------------------------+----------------------+----------------------+\n",
            "                                                                               \n",
            "+-----------------------------------------------------------------------------+\n",
            "| Processes:                                                       GPU Memory |\n",
            "|  GPU       PID   Type   Process name                             Usage      |\n",
            "|=============================================================================|\n",
            "|  No running processes found                                                 |\n",
            "+-----------------------------------------------------------------------------+\n"
          ],
          "name": "stdout"
        }
      ]
    },
    {
      "cell_type": "markdown",
      "metadata": {
        "id": "0wXB05bPDYxS"
      },
      "source": [
        "## Downloading GPT-2\n",
        "\n",
        "If you're retraining a model on new text, you need to download the GPT-2 model first. \n",
        "\n",
        "There are two sizes of GPT-2:\n",
        "\n",
        "* `117M` (default): the \"small\" model, 500MB on disk.\n",
        "* `345M`: the \"medium\" model, 1.5GB on disk.\n",
        "\n",
        "Larger models have more knowledge, but take longer to finetune and longer to generate text. You can specify which base model to use by changing `model_name` in the cells below.\n",
        "\n",
        "The next cell downloads it from Google Cloud Storage and saves it in the Colaboratory VM at `/models/<model_name>`.\n",
        "\n",
        "This model isn't permanently saved in the Colaboratory VM; you'll have to redownload it if you want to retrain it at a later time."
      ]
    },
    {
      "cell_type": "code",
      "metadata": {
        "id": "P8wSlgXoDPCR",
        "colab": {
          "base_uri": "https://localhost:8080/",
          "height": 136
        },
        "outputId": "c3626e7b-eac8-4842-8423-a4e923e524af"
      },
      "source": [
        "gpt2.download_gpt2(model_name=\"345M\")"
      ],
      "execution_count": null,
      "outputs": [
        {
          "output_type": "stream",
          "text": [
            "Fetching checkpoint: 1.05Mit [00:00, 376Mit/s]                                                      \n",
            "Fetching encoder.json: 1.05Mit [00:00, 91.6Mit/s]                                                   \n",
            "Fetching hparams.json: 1.05Mit [00:00, 603Mit/s]                                                    \n",
            "Fetching model.ckpt.data-00000-of-00001: 1.42Git [00:08, 159Mit/s]                                  \n",
            "Fetching model.ckpt.index: 1.05Mit [00:00, 161Mit/s]                                                \n",
            "Fetching model.ckpt.meta: 1.05Mit [00:00, 88.5Mit/s]                                                \n",
            "Fetching vocab.bpe: 1.05Mit [00:00, 161Mit/s]                                                       \n"
          ],
          "name": "stderr"
        }
      ]
    },
    {
      "cell_type": "markdown",
      "metadata": {
        "id": "N8KXuKWzQSsN"
      },
      "source": [
        "## Mounting Google Drive\n",
        "\n",
        "The best way to get input text to-be-trained into the Colaboratory VM, and to get the trained model *out* of Colaboratory, is to route it through Google Drive *first*.\n",
        "\n",
        "Running this cell (which will only work in Colaboratory) will mount your personal Google Drive in the VM, which later cells can use to get data in/out. (it will ask for an auth code; that auth is not saved anywhere)"
      ]
    },
    {
      "cell_type": "code",
      "metadata": {
        "id": "puq4iC6vUAHc"
      },
      "source": [
        "#gpt2.mount_gdrive()"
      ],
      "execution_count": null,
      "outputs": []
    },
    {
      "cell_type": "code",
      "metadata": {
        "id": "6OFnPCLADfll"
      },
      "source": [
        "file_name = 'whole_corpus.txt'"
      ],
      "execution_count": null,
      "outputs": []
    },
    {
      "cell_type": "markdown",
      "metadata": {
        "id": "HeeSKtNWUedE"
      },
      "source": [
        "If your text file is larger than 10MB, it is recommended to upload that file to Google Drive first, then copy that file from Google Drive to the Colaboratory VM."
      ]
    },
    {
      "cell_type": "markdown",
      "metadata": {
        "id": "LdpZQXknFNY3"
      },
      "source": [
        "## Finetune GPT-2\n",
        "\n",
        "The next cell will start the actual finetuning of GPT-2. It creates a persistent TensorFlow session which stores the training config, then runs the training for the specified number of `steps`. (to have the finetuning run indefinitely, set `steps = -1`)\n",
        "\n",
        "The model checkpoints will be saved in `/checkpoint/run1` by default. The checkpoints are saved every 500 steps (can be changed) and when the cell is stopped.\n",
        "\n",
        "The training might time out after 4ish hours; make sure you end training and save the results so you don't lose them!\n",
        "\n",
        "**IMPORTANT NOTE:** If you want to rerun this cell, **restart the VM first** (Runtime -> Restart Runtime). You will need to rerun imports but not recopy files.\n",
        "\n",
        "Other optional-but-helpful parameters for `gpt2.finetune`:\n",
        "\n",
        "\n",
        "*  **`restore_from`**: Set to `fresh` to start training from the base GPT-2, or set to `latest` to restart training from an existing checkpoint.\n",
        "* **`sample_every`**: Number of steps to print example output\n",
        "* **`print_every`**: Number of steps to print training progress.\n",
        "* **`learning_rate`**:  Learning rate for the training. (default `1e-4`, can lower to `1e-5` if you have <1MB input data)\n",
        "*  **`run_name`**: subfolder within `checkpoint` to save the model. This is useful if you want to work with multiple models (will also need to specify  `run_name` when loading the model)"
      ]
    },
    {
      "cell_type": "code",
      "metadata": {
        "id": "aeXshJM-Cuaf",
        "colab": {
          "base_uri": "https://localhost:8080/",
          "height": 88
        },
        "outputId": "0c31253f-3cc1-4bdb-cf54-05b328164030"
      },
      "source": [
        "sess = gpt2.start_tf_sess()\n",
        "\n",
        "gpt2.finetune(sess,\n",
        "              dataset=file_name,\n",
        "              model_name='345M',\n",
        "              steps=10000,\n",
        "              restore_from='latest',\n",
        "              print_every=100,\n",
        "              sample_every=1000,\n",
        "              save_every=5000,\n",
        "              learning_rate=1e-5,\n",
        "              run_name='first_345m_run'\n",
        "              )"
      ],
      "execution_count": null,
      "outputs": [
        {
          "output_type": "stream",
          "text": [
            "WARNING:tensorflow:From /usr/local/lib/python3.6/dist-packages/gpt_2_simple/src/sample.py:17: add_dispatch_support.<locals>.wrapper (from tensorflow.python.ops.array_ops) is deprecated and will be removed in a future version.\n",
            "Instructions for updating:\n",
            "Use tf.where in 2.0, which has the same broadcast rule as np.where\n"
          ],
          "name": "stdout"
        }
      ]
    },
    {
      "cell_type": "markdown",
      "metadata": {
        "id": "IXSuTNERaw6K"
      },
      "source": [
        "After the model is trained, you can copy the checkpoint folder to your own Google Drive.\n",
        "\n",
        "If you want to download it to your personal computer, it's strongly recommended you copy it there first, then download from Google Drive. (NB: if you are downloading the model to your personal computer, download the large model checkpoint file *seperately*, download the other files, and reconstruct the `/checkpoint/run1` folder hierarchy locally)."
      ]
    },
    {
      "cell_type": "code",
      "metadata": {
        "id": "Tvxf13FTuAMG"
      },
      "source": [
        "import os"
      ],
      "execution_count": null,
      "outputs": []
    },
    {
      "cell_type": "code",
      "metadata": {
        "id": "VHdTL8NDbAh3"
      },
      "source": [
        "# gpt2.copy_checkpoint_to_gdrive()\n",
        "gpt2.copy_checkpoint_to_gdrive(checkpoint_folder=os.path.join('checkpoint', 'first_345m_run'))"
      ],
      "execution_count": null,
      "outputs": []
    },
    {
      "cell_type": "markdown",
      "metadata": {
        "id": "qQJgV_b4bmzd"
      },
      "source": [
        "You're done! Feel free to go to the **Generate Text From The Trained Model** section to generate text based on your retrained model."
      ]
    },
    {
      "cell_type": "markdown",
      "metadata": {
        "id": "pel-uBULXO2L"
      },
      "source": [
        "## Load a Trained Model Checkpoint\n",
        "\n",
        "Running the next cell will copy the `checkpoint` folder from your Google Drive into the Colaboratory VM."
      ]
    },
    {
      "cell_type": "code",
      "metadata": {
        "id": "DCcx5u7sbPTD"
      },
      "source": [
        "# gpt2.copy_checkpoint_from_gdrive()"
      ],
      "execution_count": null,
      "outputs": []
    },
    {
      "cell_type": "markdown",
      "metadata": {
        "id": "RTa6zf3e_9gV"
      },
      "source": [
        "The next cell will allow you to load the retrained model checkpoint + metadata necessary to generate text.\n",
        "\n",
        "**IMPORTANT NOTE:** If you want to rerun this cell, **restart the VM first** (Runtime -> Restart Runtime). You will need to rerun imports but not recopy files."
      ]
    },
    {
      "cell_type": "code",
      "metadata": {
        "id": "-fxL77nvAMAX"
      },
      "source": [
        "sess = gpt2.start_tf_sess()\n",
        "gpt2.load_gpt2(sess, run_name='first_345m_run')"
      ],
      "execution_count": null,
      "outputs": []
    },
    {
      "cell_type": "markdown",
      "metadata": {
        "id": "ClJwpF_ACONp"
      },
      "source": [
        "## Generate Text From The Trained Model\n",
        "\n",
        "After you've trained the model or loaded a retrained model from checkpoint, you can now generate text. `generate` generates a single text from the loaded model."
      ]
    },
    {
      "cell_type": "code",
      "metadata": {
        "id": "4RNY6RBI9LmL"
      },
      "source": [
        "samples = gpt2.generate(sess, nsamples=10, batch_size=10, return_as_list=True,\n",
        "                       prefix=\"(Ella put the brown cheese in an ice bath)\",\n",
        "                        include_prefix=True, length=200, temperature=0.7,\n",
        "                       run_name='first_345m_run')"
      ],
      "execution_count": null,
      "outputs": []
    },
    {
      "cell_type": "code",
      "metadata": {
        "id": "JBr9G3hrJ8G8"
      },
      "source": [
        "[e.split('. ') for e in samples]"
      ],
      "execution_count": null,
      "outputs": []
    },
    {
      "cell_type": "markdown",
      "metadata": {
        "id": "oF4-PqF0Fl7R"
      },
      "source": [
        "If you're creating an API based on your model and need to pass the generated text elsewhere, you can do `text = gpt2.generate(sess, return_as_list=True)[0]`\n",
        "\n",
        "You can also pass in a `prefix` to the generate function to force the text to start with a given character sequence and generate text from there (good if you add an indicator when the text starts).\n",
        "\n",
        "You can also generate multiple texts at a time by specifing `nsamples`. Unique to GPT-2, you can pass a `batch_size` to generate multiple samples in parallel, giving a massive speedup (in Colaboratory, set a maximum of 20 for `batch_size`).\n",
        "\n",
        "Other optional-but-helpful parameters for `gpt2.generate` and friends:\n",
        "\n",
        "*  **`length`**: Number of tokens to generate (default 1023, the maximum)\n",
        "* **`temperature`**: The higher the temperature, the crazier the text (default 0.7, recommended to keep between 0.7 and 1.0)\n",
        "* **`top_k`**: Limits the generated guesses to the top *k* guesses (default 0 which disables the behavior; if the generated output is super crazy, you may want to set `top_k=40`)\n",
        "* **`truncate`**: Truncates the input text until a given sequence, excluding that sequence (e.g. if `truncate='<|endoftext|>'`, the returned text will include everything before the first `<|endoftext|>`). It may be useful to combine this with a smaller `length` if the input texts are short.\n",
        "*  **`include_prefix`**: If using `truncate` and `include_prefix=False`, the specified `prefix` will not be included in the returned text."
      ]
    },
    {
      "cell_type": "code",
      "metadata": {
        "id": "8DKMc0fiej4N"
      },
      "source": [
        "gpt2.generate(sess,\n",
        "              length=250,\n",
        "              temperature=0.7,\n",
        "              prefix=\"LORD\",\n",
        "              nsamples=5,\n",
        "              batch_size=5\n",
        "              )"
      ],
      "execution_count": null,
      "outputs": []
    },
    {
      "cell_type": "markdown",
      "metadata": {
        "id": "zjjEN2Tafhl2"
      },
      "source": [
        "For bulk generation, you can generate a large amount of text to a file and sort out the samples locally on your computer. The next cell will generate a generated text file with a unique timestamp and then download it.\n",
        "\n",
        "You can rerun the cell as many times as you want for even more generated texts!"
      ]
    },
    {
      "cell_type": "code",
      "metadata": {
        "id": "Fa6p6arifSL0"
      },
      "source": [
        "gen_file = 'gpt2_gentext_{:%Y%m%d_%H%M%S}.txt'.format(datetime.utcnow())\n",
        "\n",
        "gpt2.generate_to_file(sess,\n",
        "                      destination_path=gen_file,\n",
        "                      length=500,\n",
        "                      temperature=0.7,\n",
        "                      nsamples=100,\n",
        "                      batch_size=20\n",
        "                      )\n",
        "\n",
        "files.download(gen_file)"
      ],
      "execution_count": null,
      "outputs": []
    },
    {
      "cell_type": "markdown",
      "metadata": {
        "id": "ig-KVgkCDCKD"
      },
      "source": [
        "# Etcetera\n",
        "\n",
        "If the notebook has errors (e.g. GPU Sync Fail or out-of-memory/OOM), force-kill the Colaboratory virtual machine and restart it with the command below:"
      ]
    },
    {
      "cell_type": "code",
      "metadata": {
        "id": "rIHiVP53FnsX"
      },
      "source": [
        "!kill -9 -1"
      ],
      "execution_count": null,
      "outputs": []
    },
    {
      "cell_type": "markdown",
      "metadata": {
        "id": "wmTXWNUygS5E"
      },
      "source": [
        "# LICENSE\n",
        "\n",
        "MIT License\n",
        "\n",
        "Copyright (c) 2019 Max Woolf\n",
        "\n",
        "Permission is hereby granted, free of charge, to any person obtaining a copy\n",
        "of this software and associated documentation files (the \"Software\"), to deal\n",
        "in the Software without restriction, including without limitation the rights\n",
        "to use, copy, modify, merge, publish, distribute, sublicense, and/or sell\n",
        "copies of the Software, and to permit persons to whom the Software is\n",
        "furnished to do so, subject to the following conditions:\n",
        "\n",
        "The above copyright notice and this permission notice shall be included in all\n",
        "copies or substantial portions of the Software.\n",
        "\n",
        "THE SOFTWARE IS PROVIDED \"AS IS\", WITHOUT WARRANTY OF ANY KIND, EXPRESS OR\n",
        "IMPLIED, INCLUDING BUT NOT LIMITED TO THE WARRANTIES OF MERCHANTABILITY,\n",
        "FITNESS FOR A PARTICULAR PURPOSE AND NONINFRINGEMENT. IN NO EVENT SHALL THE\n",
        "AUTHORS OR COPYRIGHT HOLDERS BE LIABLE FOR ANY CLAIM, DAMAGES OR OTHER\n",
        "LIABILITY, WHETHER IN AN ACTION OF CONTRACT, TORT OR OTHERWISE, ARISING FROM,\n",
        "OUT OF OR IN CONNECTION WITH THE SOFTWARE OR THE USE OR OTHER DEALINGS IN THE\n",
        "SOFTWARE."
      ]
    }
  ]
}