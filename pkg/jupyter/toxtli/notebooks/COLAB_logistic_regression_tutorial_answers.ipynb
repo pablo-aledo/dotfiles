{
  "nbformat": 4,
  "nbformat_minor": 0,
  "metadata": {
    "kernelspec": {
      "display_name": "py37",
      "language": "python",
      "name": "py37"
    },
    "language_info": {
      "codemirror_mode": {
        "name": "ipython",
        "version": 3
      },
      "file_extension": ".py",
      "mimetype": "text/x-python",
      "name": "python",
      "nbconvert_exporter": "python",
      "pygments_lexer": "ipython3",
      "version": "3.7.1"
    },
    "colab": {
      "name": "COLAB - logistic_regression_tutorial_answers.ipynb",
      "provenance": [],
      "collapsed_sections": []
    }
  },
  "cells": [
    {
      "cell_type": "markdown",
      "metadata": {
        "id": "JLHOLIdTYvVQ"
      },
      "source": [
        "Adapted by Carlos Toxtli http://www.carlostoxtli.com/#colab-logreg-3\n",
        "\n",
        "Source: https://github.com/IKMLab/Logistic-Regression-Tutorial/blob/publish/logistic_regression_tutorial_answers.ipynb"
      ]
    },
    {
      "cell_type": "code",
      "metadata": {
        "id": "m-R56UyvY4xw",
        "colab": {
          "base_uri": "https://localhost:8080/",
          "height": 104
        },
        "outputId": "f70d01f0-0b40-4f3d-ebee-2c6d1954da0a"
      },
      "source": [
        "!git clone https://github.com/IKMLab/Logistic-Regression-Tutorial.git\n",
        "%cd Logistic-Regression-Tutorial"
      ],
      "execution_count": null,
      "outputs": [
        {
          "output_type": "stream",
          "text": [
            "Cloning into 'Logistic-Regression-Tutorial'...\n",
            "remote: Enumerating objects: 61, done.\u001b[K\n",
            "remote: Total 61 (delta 0), reused 0 (delta 0), pack-reused 61\u001b[K\n",
            "Unpacking objects: 100% (61/61), done.\n",
            "/content/Logistic-Regression-Tutorial\n"
          ],
          "name": "stdout"
        }
      ]
    },
    {
      "cell_type": "markdown",
      "metadata": {
        "id": "9R2RhcmEYp4A"
      },
      "source": [
        "# Logistic Regression Tutorial"
      ]
    },
    {
      "cell_type": "code",
      "metadata": {
        "id": "Q8N34OGkYp4B"
      },
      "source": [
        "import matplotlib.pyplot as plt\n",
        "import numpy as np\n",
        "import pandas as pd\n",
        "from sklearn import linear_model, metrics, model_selection\n",
        "import random"
      ],
      "execution_count": null,
      "outputs": []
    },
    {
      "cell_type": "markdown",
      "metadata": {
        "id": "uCW7tWMvYp4D"
      },
      "source": [
        "## Classification\n",
        "\n",
        "In regression we were trying to predict a continuous value - e.g. exam score.\n",
        "\n",
        "In classification we predict a class label for a given data point - e.g. pass/fail the exam. It might be a two-class problem like this (binary classification) or a many-class problem.\n",
        "\n",
        "Not only do we predict a class label, we also predict a probability for each class.\n",
        "\n",
        "Our example of pass fail can be pictured like this\n",
        "\n",
        "![logistic_regression](https://upload.wikimedia.org/wikipedia/commons/6/6d/Exam_pass_logistic_curve.jpeg)\n",
        "\n",
        "To perform classification we need to make a **decision**. This requires defining a **decision boundary**. This is going to be an affine set - in 1D (i.e. with one feature) this will be a point; in 2D (with two features) this will be a line; with three features a plane; etc...\n",
        "\n",
        "In our case above we could say if `num_hours_studying` $\\gt 2.7$ then we will predict `pass`.\n",
        "\n",
        "In a bivariate case our decision boundary might look like this\n",
        "\n",
        "![bivariate_logistic_regression](https://i0.wp.com/ucanalytics.com/blogs/wp-content/uploads/2017/09/Scatter-Plot-with-Boundary-Logistic-Regression.jpg?resize=768%2C578)"
      ]
    },
    {
      "cell_type": "markdown",
      "metadata": {
        "id": "ldX7yf-0Yp4E"
      },
      "source": [
        "## Hypothesis\n",
        "\n",
        "Our hypothesis for logistic regression can be linear or non-linear. What is different with linear regression is we want to output class probabilities. We need a way to express our hypothesis as a probability value.\n",
        "\n",
        "To do this we use the sigmoid function\n",
        "\n",
        "$$\\sigma(h) = \\frac{e^h}{e^h + 1} = \\frac{1}{1 + e^{-h}}$$\n",
        "\n",
        "![sigmoid](https://upload.wikimedia.org/wikipedia/commons/8/88/Logistic-curve.svg)\n",
        "\n",
        "We can see that this function is going to squash its input into the range $(0, 1)$ giving us a valid probability value.\n",
        "\n",
        "We will pass our linear or non-linear function of the data through the sigmoid function to get our final hypothesis\n",
        "\n",
        "$$h_\\theta(\\mathbf{x}) = P(y=1|\\mathbf{x}) = \\sigma(\\mathbf{a}^\\top\\mathbf{x})$$\n",
        "\n",
        "We can arbitrarily decide what $y=1$ means - in the example let's say passes the exam. Then the probability of failing the exam is given by\n",
        "\n",
        "$$P(y=0|\\mathbf{x}) = 1 - P(y=1|\\mathbf{x}) = 1 - \\sigma(\\mathbf{a}^\\top\\mathbf{x})$$"
      ]
    },
    {
      "cell_type": "markdown",
      "metadata": {
        "id": "YUPGFeJFYp4F"
      },
      "source": [
        "## Loss Function\n",
        "\n",
        "MSE is not an appropriate loss function here. We are dealing with probabilities so the natural choice is negative log loss\n",
        "\n",
        "$$\\text{NLL} = -y \\log(h_\\theta) - (1 - y)\\log(1 - h_\\theta))$$\n",
        "\n",
        "$y$ is going to be either $1$ or $0$ so only one of these two terms will apply."
      ]
    },
    {
      "cell_type": "markdown",
      "metadata": {
        "id": "Npbh49cLYp4G"
      },
      "source": [
        "## Optimization\n",
        "\n",
        "We cannot use a closed form here so we will have to use **gradient descent**.\n",
        "\n",
        "When we learned about linear regression we noted that the loss surface was convex - from any point you know how to reach the global minimum.\n",
        "\n",
        "Our loss here is highly non-convex. Instead we need to use an iterative algorithm to take clever steps from an initial starting point to try and find a good local minimum. The picture looks like this\n",
        "\n",
        "![gradient_descent](https://cdn-images-1.medium.com/max/1600/1*f9a162GhpMbiTVTAua_lLQ.png)\n",
        "\n",
        "The key idea is that if you take the gradient of the parameters with respect to the loss at a particular point, it will tell you how to change those parameters to reduce the loss\n",
        "\n",
        "![gradient_descent_2](https://cdn-images-1.medium.com/max/800/0*rBQI7uBhBKE8KT-X.png)\n",
        "\n",
        "Clearly in this diagram if we start on the right, we need to **decrease** $w$ in order to lower our loss. That's really the main idea.\n",
        "\n",
        "With this algorithm we make a number of \"steps\" to update an improve the parameters. Each step the update is\n",
        "\n",
        "$$\\theta' = \\theta - \\beta \\frac{\\partial \\text{NLL}(h_\\theta, y)}{\\partial \\theta}$$\n",
        "\n",
        "Here the hyperparameter $\\beta$ is very important - it controls how big our steps are. In the above diagram if the learning rate made us step half the width of the \"U\" we would just bounce from side to side and never settle in the optimum.\n",
        "\n",
        "We also need to pay attention to how many steps we take. In the diagram if we just took two we wouldn't give the algorithm time to settle. In practice we will take many more steps than two. Be aware that you will have to tune this hyperparameter."
      ]
    },
    {
      "cell_type": "markdown",
      "metadata": {
        "id": "vmFy7oR4Yp4G"
      },
      "source": [
        "## Dataset\n",
        "\n",
        "A retrospective sample of males in a heart-disease high-risk region of the Western Cape, South Africa. There are roughly two controls per case of coronary heart disease (CHD). Many of the CHD positive men have undergone blood pressure reduction treatment and other programs to reduce their risk factors after their CHD event. In some cases the measurements were made after these treatments. These data are taken from a larger dataset, described in  Rousseauw et al, 1983, South African Medical Journal.  Downloaded from https://web.stanford.edu/~hastie/ElemStatLearn/.\n",
        "\n",
        "Features:\n",
        "- sbp: systolic blood pressure\n",
        "- tobacco:\tcumulative tobacco (kg)\n",
        "- ldl: low densiity lipoprotein cholesterol\n",
        "- adiposity\n",
        "- famhist: family history of heart disease (Present, Absent)\n",
        "- typea: type-A behavior\n",
        "- obesity\n",
        "- alcohol: current alcohol consumption\n",
        "- age: age at onset\n",
        "- chd: response, coronary heart disease"
      ]
    },
    {
      "cell_type": "markdown",
      "metadata": {
        "id": "QyVZ5x3fYp4H"
      },
      "source": [
        "## Preprocess the Data\n",
        "\n",
        "### Load the Data\n",
        "\n",
        "As usual, load the data with `pd.read_csv`. We have an index column in position zero and the separator is a comma. Load the data into a variable named `data`."
      ]
    },
    {
      "cell_type": "code",
      "metadata": {
        "id": "L6wSmurDYp4I"
      },
      "source": [
        "\"\"\"\n",
        "Task: load the data into a variable named data\n",
        "\"\"\"\n",
        "file_name = 'SAheart.data'\n",
        "data = pd.read_csv(file_name, sep=',', index_col=0)"
      ],
      "execution_count": null,
      "outputs": []
    },
    {
      "cell_type": "code",
      "metadata": {
        "scrolled": true,
        "id": "zamUfwFBYp4K",
        "colab": {
          "base_uri": "https://localhost:8080/",
          "height": 228
        },
        "outputId": "a5a0595f-f595-447b-fada-144fc7485c4b"
      },
      "source": [
        "data.head()"
      ],
      "execution_count": null,
      "outputs": [
        {
          "output_type": "execute_result",
          "data": {
            "text/html": [
              "<div>\n",
              "<style scoped>\n",
              "    .dataframe tbody tr th:only-of-type {\n",
              "        vertical-align: middle;\n",
              "    }\n",
              "\n",
              "    .dataframe tbody tr th {\n",
              "        vertical-align: top;\n",
              "    }\n",
              "\n",
              "    .dataframe thead th {\n",
              "        text-align: right;\n",
              "    }\n",
              "</style>\n",
              "<table border=\"1\" class=\"dataframe\">\n",
              "  <thead>\n",
              "    <tr style=\"text-align: right;\">\n",
              "      <th></th>\n",
              "      <th>sbp</th>\n",
              "      <th>tobacco</th>\n",
              "      <th>ldl</th>\n",
              "      <th>adiposity</th>\n",
              "      <th>famhist</th>\n",
              "      <th>typea</th>\n",
              "      <th>obesity</th>\n",
              "      <th>alcohol</th>\n",
              "      <th>age</th>\n",
              "      <th>chd</th>\n",
              "    </tr>\n",
              "    <tr>\n",
              "      <th>row.names</th>\n",
              "      <th></th>\n",
              "      <th></th>\n",
              "      <th></th>\n",
              "      <th></th>\n",
              "      <th></th>\n",
              "      <th></th>\n",
              "      <th></th>\n",
              "      <th></th>\n",
              "      <th></th>\n",
              "      <th></th>\n",
              "    </tr>\n",
              "  </thead>\n",
              "  <tbody>\n",
              "    <tr>\n",
              "      <th>1</th>\n",
              "      <td>160</td>\n",
              "      <td>12.00</td>\n",
              "      <td>5.73</td>\n",
              "      <td>23.11</td>\n",
              "      <td>Present</td>\n",
              "      <td>49</td>\n",
              "      <td>25.30</td>\n",
              "      <td>97.20</td>\n",
              "      <td>52</td>\n",
              "      <td>1</td>\n",
              "    </tr>\n",
              "    <tr>\n",
              "      <th>2</th>\n",
              "      <td>144</td>\n",
              "      <td>0.01</td>\n",
              "      <td>4.41</td>\n",
              "      <td>28.61</td>\n",
              "      <td>Absent</td>\n",
              "      <td>55</td>\n",
              "      <td>28.87</td>\n",
              "      <td>2.06</td>\n",
              "      <td>63</td>\n",
              "      <td>1</td>\n",
              "    </tr>\n",
              "    <tr>\n",
              "      <th>3</th>\n",
              "      <td>118</td>\n",
              "      <td>0.08</td>\n",
              "      <td>3.48</td>\n",
              "      <td>32.28</td>\n",
              "      <td>Present</td>\n",
              "      <td>52</td>\n",
              "      <td>29.14</td>\n",
              "      <td>3.81</td>\n",
              "      <td>46</td>\n",
              "      <td>0</td>\n",
              "    </tr>\n",
              "    <tr>\n",
              "      <th>4</th>\n",
              "      <td>170</td>\n",
              "      <td>7.50</td>\n",
              "      <td>6.41</td>\n",
              "      <td>38.03</td>\n",
              "      <td>Present</td>\n",
              "      <td>51</td>\n",
              "      <td>31.99</td>\n",
              "      <td>24.26</td>\n",
              "      <td>58</td>\n",
              "      <td>1</td>\n",
              "    </tr>\n",
              "    <tr>\n",
              "      <th>5</th>\n",
              "      <td>134</td>\n",
              "      <td>13.60</td>\n",
              "      <td>3.50</td>\n",
              "      <td>27.78</td>\n",
              "      <td>Present</td>\n",
              "      <td>60</td>\n",
              "      <td>25.99</td>\n",
              "      <td>57.34</td>\n",
              "      <td>49</td>\n",
              "      <td>1</td>\n",
              "    </tr>\n",
              "  </tbody>\n",
              "</table>\n",
              "</div>"
            ],
            "text/plain": [
              "           sbp  tobacco   ldl  adiposity  ... obesity  alcohol  age  chd\n",
              "row.names                                 ...                           \n",
              "1          160    12.00  5.73      23.11  ...   25.30    97.20   52    1\n",
              "2          144     0.01  4.41      28.61  ...   28.87     2.06   63    1\n",
              "3          118     0.08  3.48      32.28  ...   29.14     3.81   46    0\n",
              "4          170     7.50  6.41      38.03  ...   31.99    24.26   58    1\n",
              "5          134    13.60  3.50      27.78  ...   25.99    57.34   49    1\n",
              "\n",
              "[5 rows x 10 columns]"
            ]
          },
          "metadata": {
            "tags": []
          },
          "execution_count": 4
        }
      ]
    },
    {
      "cell_type": "markdown",
      "metadata": {
        "id": "zOAGq8uhYp4N"
      },
      "source": [
        "### Manage Categorial Variable\n",
        "\n",
        "We once again have a categorical variable, `famhist`, which we need to make into a one-hot encoding. A one-hot encoding assigns a class label to a position in list of binary variables (`0` or `1`), and puts a `1` in the position that corresponds to the desired class.\n",
        "\n",
        "So for `famhist` we will make a one hot encoding of two binary variables\n",
        "\n",
        "$$\n",
        "\\begin{align}\n",
        "\\text{famhist: Present} \\rightarrow \\begin{bmatrix} 1 & 0 \\end{bmatrix} \\\\\n",
        "\\text{famhist: Absent} \\rightarrow \\begin{bmatrix} 0 & 1 \\end{bmatrix} \\\\\n",
        "\\end{align}\n",
        "$$"
      ]
    },
    {
      "cell_type": "code",
      "metadata": {
        "id": "q6i37nwOYp4O"
      },
      "source": [
        "data['famhist_true'] = data['famhist'] == 'Present'\n",
        "data['famhist_false'] = data['famhist'] == 'Absent'\n",
        "data = data.drop(['famhist'], axis=1)"
      ],
      "execution_count": null,
      "outputs": []
    },
    {
      "cell_type": "markdown",
      "metadata": {
        "id": "_gRJzv3dYp4Q"
      },
      "source": [
        "Because we will perform feature selection later, this time let's take the time to make a convenient function to separate a dataset into `train` and `test` and also split $x$ and $y$ in boths sets for us. We do this for you."
      ]
    },
    {
      "cell_type": "code",
      "metadata": {
        "id": "Yruhzr1EYp4Q"
      },
      "source": [
        "def split(data):\n",
        "    # control randomization for reproducibility\n",
        "    np.random.seed(42)\n",
        "    random.seed(42)\n",
        "    train, test = model_selection.train_test_split(data)\n",
        "    x_train = train.loc[:, train.columns != 'chd']\n",
        "    y_train = train['chd']\n",
        "    x_test = test.loc[:, test.columns != 'chd']\n",
        "    y_test = test['chd']\n",
        "    return x_train, y_train, x_test, y_test"
      ],
      "execution_count": null,
      "outputs": []
    },
    {
      "cell_type": "markdown",
      "metadata": {
        "id": "fU8bb5iXYp4S"
      },
      "source": [
        "## Data Visualization\n",
        "\n",
        "Let's now take a look at the relationships in the data. We can still use scatterplots for classification, but they look a bit different. Again let's make a convenient function for later use. As you will see we stretch the plot size to try and make these plots a bit clearer."
      ]
    },
    {
      "cell_type": "code",
      "metadata": {
        "id": "fRpvfzjfYp4T"
      },
      "source": [
        "def plot_feature(data, feature_name):\n",
        "    plt.figure(figsize=(10, 3))\n",
        "    plt.scatter(data[feature_name], data['chd'])\n",
        "    plt.xlabel(feature_name)\n",
        "    plt.ylabel('chd')\n",
        "    plt.show()"
      ],
      "execution_count": null,
      "outputs": []
    },
    {
      "cell_type": "markdown",
      "metadata": {
        "id": "FOn5w0TPYp4V"
      },
      "source": [
        "We'll take a look at one feature together then you should explore the rest of the dataset on your own and form your own opinions about which features are going to be useful."
      ]
    },
    {
      "cell_type": "code",
      "metadata": {
        "scrolled": true,
        "id": "yRGrjuCPYp4V",
        "colab": {
          "base_uri": "https://localhost:8080/",
          "height": 228
        },
        "outputId": "5bf05e6d-2bdb-4809-928d-b2def968c8b1"
      },
      "source": [
        "\"\"\"\n",
        "Feature list:\n",
        "sbp tobacco ldl adiposity famhist_true famhist_false typea obesity alcohol age\n",
        "\"\"\"\n",
        "plot_feature(data, 'typea')"
      ],
      "execution_count": null,
      "outputs": [
        {
          "output_type": "display_data",
          "data": {
            "image/png": "[encoded data removed]",
            "text/plain": [
              "<Figure size 720x216 with 1 Axes>"
            ]
          },
          "metadata": {
            "tags": []
          }
        }
      ]
    },
    {
      "cell_type": "markdown",
      "metadata": {
        "id": "DZK46R7XYp4X"
      },
      "source": [
        "## Fit Baseline Model\n",
        "\n",
        "### Evaluation\n",
        "\n",
        "Since we are predicting the label of our classes (heart disease or none), we have a much more intuitive measure of performance: prediction accuracy. To calculate this we will use `sklearn.metrics.accuracy_score` - reference here http://scikit-learn.org/stable/modules/generated/sklearn.metrics.accuracy_score.html."
      ]
    },
    {
      "cell_type": "code",
      "metadata": {
        "id": "DNRmW_HYYp4Y"
      },
      "source": [
        "def evaluate(model, x_train, y_train, x_test, y_test):\n",
        "    train_preds = model.predict(x_train)\n",
        "    test_preds = model.predict(x_test)\n",
        "    train_acc = metrics.accuracy_score(y_train, train_preds)\n",
        "    test_acc = metrics.accuracy_score(y_test, test_preds)\n",
        "    print('Train accuracy: %s' % train_acc)\n",
        "    print('Test accuracy: %s' % test_acc)"
      ],
      "execution_count": null,
      "outputs": []
    },
    {
      "cell_type": "markdown",
      "metadata": {
        "id": "UUdi7YZzYp4a"
      },
      "source": [
        "### Gradient Descent Model\n",
        "\n",
        "Here I will implement a baseline gradient descent model. I will not perform feature selection or tune regularization. You will then need to beat this baseline.\n",
        "\n",
        "The baseline use the `sklearn.linear_model.SGDClassifier` class - reference here http://scikit-learn.org/stable/modules/generated/sklearn.linear_model.SGDClassifier.html#sklearn.linear_model.SGDClassifier. By passing the argument `loss='log'` we get a logistic regression model.\n",
        "\n",
        "I append `bl` to the variables here to mark them as the baseline. Let's also add one more convenient helper function that will split the data, train the model, and return train and test accuracies."
      ]
    },
    {
      "cell_type": "code",
      "metadata": {
        "scrolled": true,
        "id": "SOvlgNeIYp4a",
        "colab": {
          "base_uri": "https://localhost:8080/",
          "height": 52
        },
        "outputId": "c27772bd-d5e8-4422-a9eb-f1e3117de7e6"
      },
      "source": [
        "def split_train_evaluate(model, data):\n",
        "    x_train, y_train, x_test, y_test = split(data)\n",
        "    model.fit(x_train, y_train)\n",
        "    evaluate(model, x_train, y_train, x_test, y_test)\n",
        "\n",
        "model_bl = linear_model.SGDClassifier(loss='log', max_iter=10000)\n",
        "split_train_evaluate(model_bl, data)"
      ],
      "execution_count": null,
      "outputs": [
        {
          "output_type": "stream",
          "text": [
            "Train accuracy: 0.4277456647398844\n",
            "Test accuracy: 0.4051724137931034\n"
          ],
          "name": "stdout"
        }
      ]
    },
    {
      "cell_type": "markdown",
      "metadata": {
        "id": "oWjO6BUuYp4c"
      },
      "source": [
        "### Grid Search\n",
        "\n",
        "What may be difficult about this task is that for the first time during our tutorials we have a number of hyperparameters. This is the common situation in machine learning practice. One approach to dealing with this issue is to define a reasonable set of values for each hyperparameter and then search over all combinations of them using cross validation on the training set. This technique is called **grid search**.\n",
        "\n",
        "We can perform gid search with `sklearn.model_selection.GridSearchCV`, reference here http://scikit-learn.org/stable/modules/generated/sklearn.model_selection.GridSearchCV.html.\n",
        "\n",
        "Let's try it out with a very small search space to show you how it works."
      ]
    },
    {
      "cell_type": "code",
      "metadata": {
        "id": "P5hrGkLcYp4d",
        "colab": {
          "base_uri": "https://localhost:8080/",
          "height": 331
        },
        "outputId": "3ae71810-ecc0-4c83-a190-e08a0c424ae1"
      },
      "source": [
        "# this may take a few seconds to run\n",
        "x_train, y_train, x_test, y_test = split(data)\n",
        "grid_search = model_selection.GridSearchCV(\n",
        "    estimator=linear_model.SGDClassifier(loss='log'),\n",
        "    param_grid={'alpha': [0.01, 0.1, 1.],\n",
        "                'max_iter': [1000, 10000]},\n",
        "    cv=10,\n",
        "    return_train_score=True)\n",
        "grid_search.fit(x_train, y_train)"
      ],
      "execution_count": null,
      "outputs": [
        {
          "output_type": "stream",
          "text": [
            "/usr/local/lib/python3.6/dist-packages/sklearn/model_selection/_search.py:814: DeprecationWarning: The default of the `iid` parameter will change from True to False in version 0.22 and will be removed in 0.24. This will change numeric results when test-set sizes are unequal.\n",
            "  DeprecationWarning)\n"
          ],
          "name": "stderr"
        },
        {
          "output_type": "execute_result",
          "data": {
            "text/plain": [
              "GridSearchCV(cv=10, error_score='raise-deprecating',\n",
              "             estimator=SGDClassifier(alpha=0.0001, average=False,\n",
              "                                     class_weight=None, early_stopping=False,\n",
              "                                     epsilon=0.1, eta0=0.0, fit_intercept=True,\n",
              "                                     l1_ratio=0.15, learning_rate='optimal',\n",
              "                                     loss='log', max_iter=1000,\n",
              "                                     n_iter_no_change=5, n_jobs=None,\n",
              "                                     penalty='l2', power_t=0.5,\n",
              "                                     random_state=None, shuffle=True, tol=0.001,\n",
              "                                     validation_fraction=0.1, verbose=0,\n",
              "                                     warm_start=False),\n",
              "             iid='warn', n_jobs=None,\n",
              "             param_grid={'alpha': [0.01, 0.1, 1.0], 'max_iter': [1000, 10000]},\n",
              "             pre_dispatch='2*n_jobs', refit=True, return_train_score=True,\n",
              "             scoring=None, verbose=0)"
            ]
          },
          "metadata": {
            "tags": []
          },
          "execution_count": 11
        }
      ]
    },
    {
      "cell_type": "markdown",
      "metadata": {
        "id": "a6hO3VJRYp4f"
      },
      "source": [
        "The grid search results come in a dictionary that can be loaded directly into a pandas `DataFrame` for viewing so you can see what the parameter choices did."
      ]
    },
    {
      "cell_type": "code",
      "metadata": {
        "id": "N_Qd4hqVYp4f",
        "colab": {
          "base_uri": "https://localhost:8080/",
          "height": 198
        },
        "outputId": "c65a503f-c736-4069-c5d1-c33a13faf950"
      },
      "source": [
        "r = pd.DataFrame(grid_search.cv_results_)\n",
        "# we only want a subset of the columns for a precise summary\n",
        "r[['params', 'mean_train_score', 'mean_test_score']].head()"
      ],
      "execution_count": null,
      "outputs": [
        {
          "output_type": "execute_result",
          "data": {
            "text/html": [
              "<div>\n",
              "<style scoped>\n",
              "    .dataframe tbody tr th:only-of-type {\n",
              "        vertical-align: middle;\n",
              "    }\n",
              "\n",
              "    .dataframe tbody tr th {\n",
              "        vertical-align: top;\n",
              "    }\n",
              "\n",
              "    .dataframe thead th {\n",
              "        text-align: right;\n",
              "    }\n",
              "</style>\n",
              "<table border=\"1\" class=\"dataframe\">\n",
              "  <thead>\n",
              "    <tr style=\"text-align: right;\">\n",
              "      <th></th>\n",
              "      <th>params</th>\n",
              "      <th>mean_train_score</th>\n",
              "      <th>mean_test_score</th>\n",
              "    </tr>\n",
              "  </thead>\n",
              "  <tbody>\n",
              "    <tr>\n",
              "      <th>0</th>\n",
              "      <td>{'alpha': 0.01, 'max_iter': 1000}</td>\n",
              "      <td>0.637217</td>\n",
              "      <td>0.635838</td>\n",
              "    </tr>\n",
              "    <tr>\n",
              "      <th>1</th>\n",
              "      <td>{'alpha': 0.01, 'max_iter': 10000}</td>\n",
              "      <td>0.638476</td>\n",
              "      <td>0.632948</td>\n",
              "    </tr>\n",
              "    <tr>\n",
              "      <th>2</th>\n",
              "      <td>{'alpha': 0.1, 'max_iter': 1000}</td>\n",
              "      <td>0.559022</td>\n",
              "      <td>0.549133</td>\n",
              "    </tr>\n",
              "    <tr>\n",
              "      <th>3</th>\n",
              "      <td>{'alpha': 0.1, 'max_iter': 10000}</td>\n",
              "      <td>0.601098</td>\n",
              "      <td>0.592486</td>\n",
              "    </tr>\n",
              "    <tr>\n",
              "      <th>4</th>\n",
              "      <td>{'alpha': 1.0, 'max_iter': 1000}</td>\n",
              "      <td>0.618581</td>\n",
              "      <td>0.598266</td>\n",
              "    </tr>\n",
              "  </tbody>\n",
              "</table>\n",
              "</div>"
            ],
            "text/plain": [
              "                               params  mean_train_score  mean_test_score\n",
              "0   {'alpha': 0.01, 'max_iter': 1000}          0.637217         0.635838\n",
              "1  {'alpha': 0.01, 'max_iter': 10000}          0.638476         0.632948\n",
              "2    {'alpha': 0.1, 'max_iter': 1000}          0.559022         0.549133\n",
              "3   {'alpha': 0.1, 'max_iter': 10000}          0.601098         0.592486\n",
              "4    {'alpha': 1.0, 'max_iter': 1000}          0.618581         0.598266"
            ]
          },
          "metadata": {
            "tags": []
          },
          "execution_count": 12
        }
      ]
    },
    {
      "cell_type": "markdown",
      "metadata": {
        "id": "sldlqVV7Yp4h"
      },
      "source": [
        "The grid seach also picks the best model for you automatically which you can then use with the optimal parameters from the grid search"
      ]
    },
    {
      "cell_type": "code",
      "metadata": {
        "id": "tQAJyvcTYp4i",
        "colab": {
          "base_uri": "https://localhost:8080/",
          "height": 69
        },
        "outputId": "d2c31e2c-62ea-4cd6-b361-6e861a5f1008"
      },
      "source": [
        "best_model = grid_search.best_estimator_\n",
        "print(grid_search.best_params_)\n",
        "evaluate(best_model, x_train, y_train, x_test, y_test)"
      ],
      "execution_count": null,
      "outputs": [
        {
          "output_type": "stream",
          "text": [
            "{'alpha': 1.0, 'max_iter': 10000}\n",
            "Train accuracy: 0.7109826589595376\n",
            "Test accuracy: 0.6982758620689655\n"
          ],
          "name": "stdout"
        }
      ]
    },
    {
      "cell_type": "markdown",
      "metadata": {
        "id": "WJEnbbcgYp4k"
      },
      "source": [
        "So we have already improved our baseline."
      ]
    },
    {
      "cell_type": "markdown",
      "metadata": {
        "id": "s-PP6lJ0Yp4k"
      },
      "source": [
        "### Your Turn\n",
        "\n",
        "You can use the grid search code above to find your best model and beat our baseline test accuracy of $72.4$ percent.\n",
        "\n",
        "You will want to examine the parameters in the `SGDClassifier` documentation (http://scikit-learn.org/stable/modules/generated/sklearn.linear_model.SGDClassifier.html#sklearn.linear_model.SGDClassifier) and make your own decisions about what a reasonable search space should look like.\n",
        "\n",
        "Also be aware that if your best value for a parameter is on the edge of your search space, you want to expand the space further in that direction to see if you can keep climbing. For example if my space for $\\alpha$ was `[0.1, 0.5, 1.]`, and the best result came with `1.`, then I should definitely try `2.` and `5.` and so on.\n",
        "\n",
        "Also don't forget feature selection. Return to the section where we were visualizing. Try and apply some $L2$ penalty through the parameters to perform ridge regression if you like."
      ]
    },
    {
      "cell_type": "code",
      "metadata": {
        "id": "iOhdiL3OYp4l",
        "colab": {
          "base_uri": "https://localhost:8080/",
          "height": 35
        },
        "outputId": "4ea20424-4ac3-43c0-8138-857ecc83b67a"
      },
      "source": [
        "\"\"\"\n",
        "Task: Beat the baseline 75.86% test accuracy\n",
        "\"\"\""
      ],
      "execution_count": null,
      "outputs": [
        {
          "output_type": "execute_result",
          "data": {
            "text/plain": [
              "'\\nTask: Beat the baseline 75.86% test accuracy\\n'"
            ]
          },
          "metadata": {
            "tags": []
          },
          "execution_count": 14
        }
      ]
    },
    {
      "cell_type": "markdown",
      "metadata": {
        "id": "9W2joVutYp4m"
      },
      "source": [
        "This is just a helper function for below (don't edit it)."
      ]
    },
    {
      "cell_type": "code",
      "metadata": {
        "id": "DxKTxGUxYp4n"
      },
      "source": [
        "def get_feature_set(data, wanted_features):\n",
        "    return data.loc[:, [col in wanted_features for col in data.columns]]"
      ],
      "execution_count": null,
      "outputs": []
    },
    {
      "cell_type": "markdown",
      "metadata": {
        "id": "v009eIv1Yp4p"
      },
      "source": [
        "Edit this cell to define your own grid search space."
      ]
    },
    {
      "cell_type": "code",
      "metadata": {
        "id": "h9YDg1YSYp4q"
      },
      "source": [
        "param_grid = {\n",
        "    'alpha': [0.01, 0.06, 0.1, 0.3,  1.],\n",
        "    'max_iter': [1000, 10000, 100000]\n",
        "}"
      ],
      "execution_count": null,
      "outputs": []
    },
    {
      "cell_type": "markdown",
      "metadata": {
        "id": "tmoRcbVFYp4t"
      },
      "source": [
        "Replace `data.columns` with a list of your own chose features to perform feature selection - e.g. `['feature1', 'feature2']`."
      ]
    },
    {
      "cell_type": "code",
      "metadata": {
        "id": "iVXhHYneYp4v"
      },
      "source": [
        "wanted_features = ['sbp', 'tobacco', 'ldl', 'adiposity', 'famhist_true', 'typea',\n",
        "                   'famhist_false', 'obesity', 'alcohol', 'age', 'chd']  # must have chd!"
      ],
      "execution_count": null,
      "outputs": []
    },
    {
      "cell_type": "markdown",
      "metadata": {
        "id": "tyHmxP-9Yp4x"
      },
      "source": [
        "After defining your feature set and grid space, run the cell below to get your best result. Be patient it may take a while, especially if your grid space is big!"
      ]
    },
    {
      "cell_type": "code",
      "metadata": {
        "id": "dGWgVeZOYp4x",
        "colab": {
          "base_uri": "https://localhost:8080/",
          "height": 124
        },
        "outputId": "66f5dc2a-86ba-474d-ff21-153e476d114e"
      },
      "source": [
        "# this may take a few seconds to load\n",
        "my_data = get_feature_set(data, wanted_features)  # feature selection\n",
        "x_train, y_train, x_test, y_test = split(my_data) # splits\n",
        "grid_search = model_selection.GridSearchCV(       # perform grid search\n",
        "    estimator=linear_model.SGDClassifier(loss='log'),\n",
        "    param_grid=param_grid,\n",
        "    cv=10,\n",
        "    return_train_score=True)\n",
        "grid_search.fit(x_train, y_train)\n",
        "best_model = grid_search.best_estimator_\n",
        "print(grid_search.best_params_)\n",
        "evaluate(best_model, x_train, y_train, x_test, y_test)"
      ],
      "execution_count": null,
      "outputs": [
        {
          "output_type": "stream",
          "text": [
            "{'alpha': 1.0, 'max_iter': 100000}\n",
            "Train accuracy: 0.6936416184971098\n",
            "Test accuracy: 0.6982758620689655\n"
          ],
          "name": "stdout"
        },
        {
          "output_type": "stream",
          "text": [
            "/usr/local/lib/python3.6/dist-packages/sklearn/model_selection/_search.py:814: DeprecationWarning: The default of the `iid` parameter will change from True to False in version 0.22 and will be removed in 0.24. This will change numeric results when test-set sizes are unequal.\n",
            "  DeprecationWarning)\n"
          ],
          "name": "stderr"
        }
      ]
    }
  ]
}