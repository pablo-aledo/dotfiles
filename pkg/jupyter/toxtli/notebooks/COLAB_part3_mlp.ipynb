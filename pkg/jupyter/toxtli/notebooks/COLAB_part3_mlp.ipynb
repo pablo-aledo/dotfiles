{
  "nbformat": 4,
  "nbformat_minor": 0,
  "metadata": {
    "kernelspec": {
      "name": "python2",
      "display_name": "Python 2"
    },
    "language_info": {
      "codemirror_mode": {
        "name": "ipython",
        "version": 2
      },
      "file_extension": ".py",
      "mimetype": "text/x-python",
      "name": "python",
      "nbconvert_exporter": "python",
      "pygments_lexer": "ipython2",
      "version": "2.7.12"
    },
    "colab": {
      "name": "COLAB - part3_mlp.ipynb",
      "provenance": [],
      "collapsed_sections": [
        "o-ZgB9-j4W_8",
        "QdMfLQZO4XAO",
        "FK-Ewu6n4XAS",
        "ygYgjj684XA2"
      ]
    },
    "accelerator": "GPU"
  },
  "cells": [
    {
      "cell_type": "markdown",
      "metadata": {
        "id": "OVj_s7na7kyS"
      },
      "source": [
        "Adapted by Carlos Toxtli https://www.carlostoxtli.com/#colab-mlp-1\n",
        "\n",
        "Source: https://github.com/dnkirill/allstate_capstone/blob/master/part3_mlp.ipynb"
      ]
    },
    {
      "cell_type": "code",
      "metadata": {
        "id": "exbzahmj57OT",
        "colab": {
          "base_uri": "https://localhost:8080/",
          "height": 259
        },
        "outputId": "82381f72-e1eb-4fa3-e8fb-d44321c2079d"
      },
      "source": [
        "!git clone https://github.com/dnkirill/allstate_capstone.git\n",
        "%cd allstate_capstone\n",
        "!gdown -O data.zip https://drive.google.com/uc?id=1EqDUaDhJuXcATNzcgFEAv3yYFrMWZ3YH\n",
        "!unzip data.zip"
      ],
      "execution_count": null,
      "outputs": [
        {
          "output_type": "stream",
          "text": [
            "Cloning into 'allstate_capstone'...\n",
            "remote: Enumerating objects: 156, done.\u001b[K\n",
            "remote: Total 156 (delta 0), reused 0 (delta 0), pack-reused 156\u001b[K\n",
            "Receiving objects: 100% (156/156), 16.74 MiB | 8.91 MiB/s, done.\n",
            "Resolving deltas: 100% (68/68), done.\n",
            "/content/allstate_capstone\n",
            "Downloading...\n",
            "From: https://drive.google.com/uc?id=1EqDUaDhJuXcATNzcgFEAv3yYFrMWZ3YH\n",
            "To: /content/allstate_capstone/data.zip\n",
            "24.0MB [00:01, 20.2MB/s]\n",
            "Archive:  data.zip\n",
            "  inflating: train.csv               \n",
            "  inflating: sample_submission.csv   \n",
            "  inflating: test.csv                \n"
          ],
          "name": "stdout"
        }
      ]
    },
    {
      "cell_type": "markdown",
      "metadata": {
        "id": "0OHxwOl74W_S"
      },
      "source": [
        "# Part 3, Multilayer Perceptron Neural Network"
      ]
    },
    {
      "cell_type": "code",
      "metadata": {
        "id": "YGZNw8ap4W_U",
        "colab": {
          "base_uri": "https://localhost:8080/",
          "height": 35
        },
        "outputId": "d7fc856d-01df-4ecc-dead-ad6898fb06d4"
      },
      "source": [
        "import tensorflow as tf\n",
        "#tf.python.control_flow_ops = tf\n",
        "\n",
        "import pandas as pd\n",
        "import numpy as np\n",
        "import sys\n",
        "import h5py\n",
        "import pickle\n",
        "import matplotlib.pyplot as plt\n",
        "from sklearn.linear_model import LinearRegression\n",
        "from sklearn.metrics import mean_absolute_error\n",
        "from sklearn.preprocessing import StandardScaler\n",
        "#from sklearn.grid_search import GridSearchCV\n",
        "from sklearn.model_selection import learning_curve, GridSearchCV\n",
        "from hyperopt import fmin, tpe, hp, STATUS_OK, Trials\n",
        "from scipy.sparse import csr_matrix, hstack\n",
        "from sklearn.model_selection import KFold, train_test_split\n",
        "from keras.models import Sequential\n",
        "from keras.models import save_model, load_model\n",
        "from keras.layers.advanced_activations import PReLU\n",
        "from keras.layers import Dense, Dropout, Activation, BatchNormalization\n",
        "from keras.callbacks import EarlyStopping\n",
        "import matplotlib.patches as mpatches\n",
        "\n",
        "\n",
        "%matplotlib inline"
      ],
      "execution_count": null,
      "outputs": [
        {
          "output_type": "stream",
          "text": [
            "Using TensorFlow backend.\n"
          ],
          "name": "stderr"
        }
      ]
    },
    {
      "cell_type": "markdown",
      "metadata": {
        "id": "9Uf1TXE34W_Y"
      },
      "source": [
        "We'll build a conceptually simple [feedforward neuron network](https://en.wikipedia.org/wiki/Feedforward_neural_network), or a multilayer perceptron (MLP), a network wherein connections between the units do not form a cycle. In feedforward networks, information flows from the input function `x` through intermediate (hidden) layers of fully-connected units to the output `y`.\n",
        "\n",
        "**Terminology**. We use the terminology from Karpathy's [CS231n course](http://cs231n.github.io/neural-networks-1/). If a network consists of an input layer, a single hidden layer and an output layer, this is a **2-layer network** (we omit an input layer). If we add another hidden layer, we get a **3-layer network**, etc.\n",
        "\n",
        "To compute the hidden layer values and to yield nonlinear transformations, we need to choose activation functions for our network. We also need to design the overall architecture of the network which includes the following assumptions: how many hidden layers our MLP should contain, how many units there should be in each layer, whether we use regularization techniques (e.g. dropout), which gradient descent optimizer to choose and how to initialize weights for units."
      ]
    },
    {
      "cell_type": "markdown",
      "metadata": {
        "id": "PaTvS9Z64W_Y"
      },
      "source": [
        "## A note on computational complexity\n",
        "I had a hard time reducing the computational complexity of my MLPs. Finally, I decided to provide one of my production models (and methodology) I used at Kaggle, because it's somewhat unfair to compare the scores of different handicapped MLPs. Starting from Step 5, a special hardware (a modern GPU with enough memory) will be required to follow my computations. There are several ways to approach this issue:\n",
        "\n",
        "* (obvious) Use a good machine and follow through all the steps. An alternative would be to start up a EC2 AWS instance, specifically, p2.xlarge, a GPU-compute optimized instance. I wrote down a short guideline for AWS as well as the bash script which sets the system up. An Ireland-based spot instance will cost about \\$0.15-0.20 per compute-hour.\n",
        "\n",
        "* Run pretrained models (just like in the XGBoost part). There is a number of benefits for doing this. First, Hyperopt is not deterministic, thus, it won't provide the same results that I got. Second, it took me dozens of hours to test various combinations with Hyperopt (and the search is not over yet). Third, I'll provide a handicapped version of my final model which will be used in the ensemble. It won't be bagged (less stable), it will be trained on a small amount of epochs, but it should demonstrate some decent score.\n",
        "\n",
        "If you are not going to use pretrained models, change the following flag to `False`:"
      ]
    },
    {
      "cell_type": "code",
      "metadata": {
        "id": "ysKySgcK4W_Z"
      },
      "source": [
        "USE_PRETRAINED = True"
      ],
      "execution_count": null,
      "outputs": []
    },
    {
      "cell_type": "markdown",
      "metadata": {
        "id": "fDrwbA0k4W_b"
      },
      "source": [
        "## Framework"
      ]
    },
    {
      "cell_type": "markdown",
      "metadata": {
        "id": "EFbdi3QK4W_c"
      },
      "source": [
        "As with XGBoost, we start simple and train a basic MLP to set a baseline score for the next models. Then we determine which potential configurations may work better for us and run optimizations. Neural networks are known for having a large number of possible hyperparameters to tune. Having said that, we need to reduce the search space analytically and then start testing more prominent configurations.\n",
        "\n",
        "Even more, neural networks can be easily overfitted, thus, a bias-variance tradeoff should be revisited. We'll pay a special attention to the monitoring of MLP training. While searching for a better model, a k-fold cross-validation will be the required technique to obtain a reasonable score estimate. \n",
        "\n",
        "The dataset will be split into the training and the validation subsets to introduce early stopping which terminates learning when the validation error starts to increase consistenly.\n",
        "\n",
        "### Methodology\n",
        "Methodologically, our process will be divided in the following steps:\n",
        "\n",
        "* **Step 1.** Define a basic neural network configuration, train it, get a score which will be used as the lower margin of MLP performance.\n",
        "\n",
        "\n",
        "* **Step 2.** Discuss the performance of a 2-layer model in context of bias-variance tradeoff and common issues: overfitting, instability due to high variance. \n",
        "\n",
        "\n",
        "* **Step 3.** Define a 3-layer model. Show the potential overfitting issues. Introduce cross-validation to prevent overfitting.\n",
        "\n",
        "\n",
        "* **Step 4.** Experiment with hyperparameters manually, train several prominent configurations with decent scores, cross-validate models.\n",
        "\n",
        "\n",
        "* **Step 5.** Introduce Hyperopt to test hyperparameters space and find out which are more robust.\n",
        "\n",
        "\n",
        "* **Step 6.** After several rounds of Hyperopt, define and train the winning model, cross-validate the results.\n",
        "\n",
        "\n",
        "### The use of Keras (frontend) and TensorFlow (backend)\n",
        "To define and train neural networks, we'll use Keras, a _very_ straightforward and friendly library which works on top of TensorFlow (and Theano) with a minimum overhead. It's a great choice for experimentation and fast prototyping as it enables us to focus on the network configuration inself and not on the implementation of gradient descent, optimizers, backprop, details of weights initialization or activation functions. No doubt, we should have a solid understanding of how things work, but Keras is fine for our current purposes. \n",
        "\n",
        "Actually, Keras is so simple that it feels like cheating :)"
      ]
    },
    {
      "cell_type": "markdown",
      "metadata": {
        "collapsed": true,
        "id": "Z5oIU7wd4W_d"
      },
      "source": [
        "We are going to approximate gradient over the batches of data since this method is more cost efficient (due to vectorized computations) and provides a faster convergence than to use a single training example at a time. Also, this is the default way to fit the model in Keras. We'll primarily use Adam gradient descent optimizer, though, any optimizer will be sufficient for our purposes (which is **not** true for Kaggle).\n",
        "\n",
        "\n",
        "## Basic data preprocessing\n",
        "We start with some data preprocessing. We need to convert categorical features with one-hot encoding and see how many dimensions we'll have afterwards."
      ]
    },
    {
      "cell_type": "code",
      "metadata": {
        "id": "YrBmlaHP4W_e",
        "colab": {
          "base_uri": "https://localhost:8080/",
          "height": 52
        },
        "outputId": "e0310f6c-062f-4a99-e9e1-5002457c482b"
      },
      "source": [
        "train = pd.read_csv('train.csv')\n",
        "\n",
        "cat_names = [c for c in train.columns if 'cat' in c]\n",
        "\n",
        "train = pd.get_dummies(data=train, columns=cat_names)\n",
        "\n",
        "features = [x for x in train.columns if x not in ['id','loss']]\n",
        "\n",
        "train_x = np.array(train[features])\n",
        "\n",
        "ntrain = train_x.shape[0]\n",
        "\n",
        "# np.log(train['loss'] + 200) provides\n",
        "# a better score, but let's keep it simple now\n",
        "train_y = np.array(train['loss'])\n",
        "\n",
        "print train_x.shape\n",
        "print train_y.shape"
      ],
      "execution_count": null,
      "outputs": [
        {
          "output_type": "stream",
          "text": [
            "(188318, 1153)\n",
            "(188318,)\n"
          ],
          "name": "stdout"
        }
      ]
    },
    {
      "cell_type": "code",
      "metadata": {
        "id": "av1oWCcDphdP",
        "colab": {
          "base_uri": "https://localhost:8080/",
          "height": 247
        },
        "outputId": "aab68d6a-c52c-456a-8f90-7d5d5236f550"
      },
      "source": [
        "train.head()"
      ],
      "execution_count": null,
      "outputs": [
        {
          "output_type": "execute_result",
          "data": {
            "text/html": [
              "<div>\n",
              "<style scoped>\n",
              "    .dataframe tbody tr th:only-of-type {\n",
              "        vertical-align: middle;\n",
              "    }\n",
              "\n",
              "    .dataframe tbody tr th {\n",
              "        vertical-align: top;\n",
              "    }\n",
              "\n",
              "    .dataframe thead th {\n",
              "        text-align: right;\n",
              "    }\n",
              "</style>\n",
              "<table border=\"1\" class=\"dataframe\">\n",
              "  <thead>\n",
              "    <tr style=\"text-align: right;\">\n",
              "      <th></th>\n",
              "      <th>id</th>\n",
              "      <th>cont1</th>\n",
              "      <th>cont2</th>\n",
              "      <th>cont3</th>\n",
              "      <th>cont4</th>\n",
              "      <th>cont5</th>\n",
              "      <th>cont6</th>\n",
              "      <th>cont7</th>\n",
              "      <th>cont8</th>\n",
              "      <th>cont9</th>\n",
              "      <th>cont10</th>\n",
              "      <th>cont11</th>\n",
              "      <th>cont12</th>\n",
              "      <th>cont13</th>\n",
              "      <th>cont14</th>\n",
              "      <th>loss</th>\n",
              "      <th>cat1_A</th>\n",
              "      <th>cat1_B</th>\n",
              "      <th>cat2_A</th>\n",
              "      <th>cat2_B</th>\n",
              "      <th>cat3_A</th>\n",
              "      <th>cat3_B</th>\n",
              "      <th>cat4_A</th>\n",
              "      <th>cat4_B</th>\n",
              "      <th>cat5_A</th>\n",
              "      <th>cat5_B</th>\n",
              "      <th>cat6_A</th>\n",
              "      <th>cat6_B</th>\n",
              "      <th>cat7_A</th>\n",
              "      <th>cat7_B</th>\n",
              "      <th>cat8_A</th>\n",
              "      <th>cat8_B</th>\n",
              "      <th>cat9_A</th>\n",
              "      <th>cat9_B</th>\n",
              "      <th>cat10_A</th>\n",
              "      <th>cat10_B</th>\n",
              "      <th>cat11_A</th>\n",
              "      <th>cat11_B</th>\n",
              "      <th>cat12_A</th>\n",
              "      <th>cat12_B</th>\n",
              "      <th>...</th>\n",
              "      <th>cat116_LU</th>\n",
              "      <th>cat116_LV</th>\n",
              "      <th>cat116_LW</th>\n",
              "      <th>cat116_LX</th>\n",
              "      <th>cat116_LY</th>\n",
              "      <th>cat116_M</th>\n",
              "      <th>cat116_MA</th>\n",
              "      <th>cat116_MB</th>\n",
              "      <th>cat116_MC</th>\n",
              "      <th>cat116_MD</th>\n",
              "      <th>cat116_ME</th>\n",
              "      <th>cat116_MF</th>\n",
              "      <th>cat116_MG</th>\n",
              "      <th>cat116_MH</th>\n",
              "      <th>cat116_MI</th>\n",
              "      <th>cat116_MJ</th>\n",
              "      <th>cat116_MK</th>\n",
              "      <th>cat116_ML</th>\n",
              "      <th>cat116_MM</th>\n",
              "      <th>cat116_MN</th>\n",
              "      <th>cat116_MO</th>\n",
              "      <th>cat116_MP</th>\n",
              "      <th>cat116_MQ</th>\n",
              "      <th>cat116_MR</th>\n",
              "      <th>cat116_MS</th>\n",
              "      <th>cat116_MT</th>\n",
              "      <th>cat116_MU</th>\n",
              "      <th>cat116_MV</th>\n",
              "      <th>cat116_MW</th>\n",
              "      <th>cat116_O</th>\n",
              "      <th>cat116_P</th>\n",
              "      <th>cat116_Q</th>\n",
              "      <th>cat116_R</th>\n",
              "      <th>cat116_S</th>\n",
              "      <th>cat116_T</th>\n",
              "      <th>cat116_U</th>\n",
              "      <th>cat116_V</th>\n",
              "      <th>cat116_W</th>\n",
              "      <th>cat116_X</th>\n",
              "      <th>cat116_Y</th>\n",
              "    </tr>\n",
              "  </thead>\n",
              "  <tbody>\n",
              "    <tr>\n",
              "      <th>0</th>\n",
              "      <td>1</td>\n",
              "      <td>0.726300</td>\n",
              "      <td>0.245921</td>\n",
              "      <td>0.187583</td>\n",
              "      <td>0.789639</td>\n",
              "      <td>0.310061</td>\n",
              "      <td>0.718367</td>\n",
              "      <td>0.335060</td>\n",
              "      <td>0.30260</td>\n",
              "      <td>0.67135</td>\n",
              "      <td>0.83510</td>\n",
              "      <td>0.569745</td>\n",
              "      <td>0.594646</td>\n",
              "      <td>0.822493</td>\n",
              "      <td>0.714843</td>\n",
              "      <td>2213.18</td>\n",
              "      <td>1</td>\n",
              "      <td>0</td>\n",
              "      <td>0</td>\n",
              "      <td>1</td>\n",
              "      <td>1</td>\n",
              "      <td>0</td>\n",
              "      <td>0</td>\n",
              "      <td>1</td>\n",
              "      <td>1</td>\n",
              "      <td>0</td>\n",
              "      <td>1</td>\n",
              "      <td>0</td>\n",
              "      <td>1</td>\n",
              "      <td>0</td>\n",
              "      <td>1</td>\n",
              "      <td>0</td>\n",
              "      <td>0</td>\n",
              "      <td>1</td>\n",
              "      <td>1</td>\n",
              "      <td>0</td>\n",
              "      <td>0</td>\n",
              "      <td>1</td>\n",
              "      <td>1</td>\n",
              "      <td>0</td>\n",
              "      <td>...</td>\n",
              "      <td>0</td>\n",
              "      <td>0</td>\n",
              "      <td>0</td>\n",
              "      <td>0</td>\n",
              "      <td>0</td>\n",
              "      <td>0</td>\n",
              "      <td>0</td>\n",
              "      <td>0</td>\n",
              "      <td>0</td>\n",
              "      <td>0</td>\n",
              "      <td>0</td>\n",
              "      <td>0</td>\n",
              "      <td>0</td>\n",
              "      <td>0</td>\n",
              "      <td>0</td>\n",
              "      <td>0</td>\n",
              "      <td>0</td>\n",
              "      <td>0</td>\n",
              "      <td>0</td>\n",
              "      <td>0</td>\n",
              "      <td>0</td>\n",
              "      <td>0</td>\n",
              "      <td>0</td>\n",
              "      <td>0</td>\n",
              "      <td>0</td>\n",
              "      <td>0</td>\n",
              "      <td>0</td>\n",
              "      <td>0</td>\n",
              "      <td>0</td>\n",
              "      <td>0</td>\n",
              "      <td>0</td>\n",
              "      <td>0</td>\n",
              "      <td>0</td>\n",
              "      <td>0</td>\n",
              "      <td>0</td>\n",
              "      <td>0</td>\n",
              "      <td>0</td>\n",
              "      <td>0</td>\n",
              "      <td>0</td>\n",
              "      <td>0</td>\n",
              "    </tr>\n",
              "    <tr>\n",
              "      <th>1</th>\n",
              "      <td>2</td>\n",
              "      <td>0.330514</td>\n",
              "      <td>0.737068</td>\n",
              "      <td>0.592681</td>\n",
              "      <td>0.614134</td>\n",
              "      <td>0.885834</td>\n",
              "      <td>0.438917</td>\n",
              "      <td>0.436585</td>\n",
              "      <td>0.60087</td>\n",
              "      <td>0.35127</td>\n",
              "      <td>0.43919</td>\n",
              "      <td>0.338312</td>\n",
              "      <td>0.366307</td>\n",
              "      <td>0.611431</td>\n",
              "      <td>0.304496</td>\n",
              "      <td>1283.60</td>\n",
              "      <td>1</td>\n",
              "      <td>0</td>\n",
              "      <td>0</td>\n",
              "      <td>1</td>\n",
              "      <td>1</td>\n",
              "      <td>0</td>\n",
              "      <td>1</td>\n",
              "      <td>0</td>\n",
              "      <td>1</td>\n",
              "      <td>0</td>\n",
              "      <td>1</td>\n",
              "      <td>0</td>\n",
              "      <td>1</td>\n",
              "      <td>0</td>\n",
              "      <td>1</td>\n",
              "      <td>0</td>\n",
              "      <td>0</td>\n",
              "      <td>1</td>\n",
              "      <td>0</td>\n",
              "      <td>1</td>\n",
              "      <td>1</td>\n",
              "      <td>0</td>\n",
              "      <td>1</td>\n",
              "      <td>0</td>\n",
              "      <td>...</td>\n",
              "      <td>0</td>\n",
              "      <td>0</td>\n",
              "      <td>0</td>\n",
              "      <td>0</td>\n",
              "      <td>0</td>\n",
              "      <td>0</td>\n",
              "      <td>0</td>\n",
              "      <td>0</td>\n",
              "      <td>0</td>\n",
              "      <td>0</td>\n",
              "      <td>0</td>\n",
              "      <td>0</td>\n",
              "      <td>0</td>\n",
              "      <td>0</td>\n",
              "      <td>0</td>\n",
              "      <td>0</td>\n",
              "      <td>0</td>\n",
              "      <td>0</td>\n",
              "      <td>0</td>\n",
              "      <td>0</td>\n",
              "      <td>0</td>\n",
              "      <td>0</td>\n",
              "      <td>0</td>\n",
              "      <td>0</td>\n",
              "      <td>0</td>\n",
              "      <td>0</td>\n",
              "      <td>0</td>\n",
              "      <td>0</td>\n",
              "      <td>0</td>\n",
              "      <td>0</td>\n",
              "      <td>0</td>\n",
              "      <td>0</td>\n",
              "      <td>0</td>\n",
              "      <td>0</td>\n",
              "      <td>0</td>\n",
              "      <td>0</td>\n",
              "      <td>0</td>\n",
              "      <td>0</td>\n",
              "      <td>0</td>\n",
              "      <td>0</td>\n",
              "    </tr>\n",
              "    <tr>\n",
              "      <th>2</th>\n",
              "      <td>5</td>\n",
              "      <td>0.261841</td>\n",
              "      <td>0.358319</td>\n",
              "      <td>0.484196</td>\n",
              "      <td>0.236924</td>\n",
              "      <td>0.397069</td>\n",
              "      <td>0.289648</td>\n",
              "      <td>0.315545</td>\n",
              "      <td>0.27320</td>\n",
              "      <td>0.26076</td>\n",
              "      <td>0.32446</td>\n",
              "      <td>0.381398</td>\n",
              "      <td>0.373424</td>\n",
              "      <td>0.195709</td>\n",
              "      <td>0.774425</td>\n",
              "      <td>3005.09</td>\n",
              "      <td>1</td>\n",
              "      <td>0</td>\n",
              "      <td>0</td>\n",
              "      <td>1</td>\n",
              "      <td>1</td>\n",
              "      <td>0</td>\n",
              "      <td>1</td>\n",
              "      <td>0</td>\n",
              "      <td>0</td>\n",
              "      <td>1</td>\n",
              "      <td>1</td>\n",
              "      <td>0</td>\n",
              "      <td>1</td>\n",
              "      <td>0</td>\n",
              "      <td>1</td>\n",
              "      <td>0</td>\n",
              "      <td>0</td>\n",
              "      <td>1</td>\n",
              "      <td>0</td>\n",
              "      <td>1</td>\n",
              "      <td>0</td>\n",
              "      <td>1</td>\n",
              "      <td>0</td>\n",
              "      <td>1</td>\n",
              "      <td>...</td>\n",
              "      <td>0</td>\n",
              "      <td>0</td>\n",
              "      <td>0</td>\n",
              "      <td>0</td>\n",
              "      <td>0</td>\n",
              "      <td>0</td>\n",
              "      <td>0</td>\n",
              "      <td>0</td>\n",
              "      <td>0</td>\n",
              "      <td>0</td>\n",
              "      <td>0</td>\n",
              "      <td>0</td>\n",
              "      <td>0</td>\n",
              "      <td>0</td>\n",
              "      <td>0</td>\n",
              "      <td>0</td>\n",
              "      <td>0</td>\n",
              "      <td>0</td>\n",
              "      <td>0</td>\n",
              "      <td>0</td>\n",
              "      <td>0</td>\n",
              "      <td>0</td>\n",
              "      <td>0</td>\n",
              "      <td>0</td>\n",
              "      <td>0</td>\n",
              "      <td>0</td>\n",
              "      <td>0</td>\n",
              "      <td>0</td>\n",
              "      <td>0</td>\n",
              "      <td>0</td>\n",
              "      <td>0</td>\n",
              "      <td>0</td>\n",
              "      <td>0</td>\n",
              "      <td>0</td>\n",
              "      <td>0</td>\n",
              "      <td>0</td>\n",
              "      <td>0</td>\n",
              "      <td>0</td>\n",
              "      <td>0</td>\n",
              "      <td>0</td>\n",
              "    </tr>\n",
              "    <tr>\n",
              "      <th>3</th>\n",
              "      <td>10</td>\n",
              "      <td>0.321594</td>\n",
              "      <td>0.555782</td>\n",
              "      <td>0.527991</td>\n",
              "      <td>0.373816</td>\n",
              "      <td>0.422268</td>\n",
              "      <td>0.440945</td>\n",
              "      <td>0.391128</td>\n",
              "      <td>0.31796</td>\n",
              "      <td>0.32128</td>\n",
              "      <td>0.44467</td>\n",
              "      <td>0.327915</td>\n",
              "      <td>0.321570</td>\n",
              "      <td>0.605077</td>\n",
              "      <td>0.602642</td>\n",
              "      <td>939.85</td>\n",
              "      <td>0</td>\n",
              "      <td>1</td>\n",
              "      <td>0</td>\n",
              "      <td>1</td>\n",
              "      <td>1</td>\n",
              "      <td>0</td>\n",
              "      <td>0</td>\n",
              "      <td>1</td>\n",
              "      <td>1</td>\n",
              "      <td>0</td>\n",
              "      <td>1</td>\n",
              "      <td>0</td>\n",
              "      <td>1</td>\n",
              "      <td>0</td>\n",
              "      <td>1</td>\n",
              "      <td>0</td>\n",
              "      <td>0</td>\n",
              "      <td>1</td>\n",
              "      <td>1</td>\n",
              "      <td>0</td>\n",
              "      <td>1</td>\n",
              "      <td>0</td>\n",
              "      <td>1</td>\n",
              "      <td>0</td>\n",
              "      <td>...</td>\n",
              "      <td>0</td>\n",
              "      <td>0</td>\n",
              "      <td>0</td>\n",
              "      <td>0</td>\n",
              "      <td>0</td>\n",
              "      <td>0</td>\n",
              "      <td>0</td>\n",
              "      <td>0</td>\n",
              "      <td>0</td>\n",
              "      <td>0</td>\n",
              "      <td>0</td>\n",
              "      <td>0</td>\n",
              "      <td>0</td>\n",
              "      <td>0</td>\n",
              "      <td>0</td>\n",
              "      <td>0</td>\n",
              "      <td>0</td>\n",
              "      <td>0</td>\n",
              "      <td>0</td>\n",
              "      <td>0</td>\n",
              "      <td>0</td>\n",
              "      <td>0</td>\n",
              "      <td>0</td>\n",
              "      <td>0</td>\n",
              "      <td>0</td>\n",
              "      <td>0</td>\n",
              "      <td>0</td>\n",
              "      <td>0</td>\n",
              "      <td>0</td>\n",
              "      <td>0</td>\n",
              "      <td>0</td>\n",
              "      <td>0</td>\n",
              "      <td>0</td>\n",
              "      <td>0</td>\n",
              "      <td>0</td>\n",
              "      <td>0</td>\n",
              "      <td>0</td>\n",
              "      <td>0</td>\n",
              "      <td>0</td>\n",
              "      <td>0</td>\n",
              "    </tr>\n",
              "    <tr>\n",
              "      <th>4</th>\n",
              "      <td>11</td>\n",
              "      <td>0.273204</td>\n",
              "      <td>0.159990</td>\n",
              "      <td>0.527991</td>\n",
              "      <td>0.473202</td>\n",
              "      <td>0.704268</td>\n",
              "      <td>0.178193</td>\n",
              "      <td>0.247408</td>\n",
              "      <td>0.24564</td>\n",
              "      <td>0.22089</td>\n",
              "      <td>0.21230</td>\n",
              "      <td>0.204687</td>\n",
              "      <td>0.202213</td>\n",
              "      <td>0.246011</td>\n",
              "      <td>0.432606</td>\n",
              "      <td>2763.85</td>\n",
              "      <td>1</td>\n",
              "      <td>0</td>\n",
              "      <td>0</td>\n",
              "      <td>1</td>\n",
              "      <td>1</td>\n",
              "      <td>0</td>\n",
              "      <td>0</td>\n",
              "      <td>1</td>\n",
              "      <td>1</td>\n",
              "      <td>0</td>\n",
              "      <td>1</td>\n",
              "      <td>0</td>\n",
              "      <td>1</td>\n",
              "      <td>0</td>\n",
              "      <td>1</td>\n",
              "      <td>0</td>\n",
              "      <td>0</td>\n",
              "      <td>1</td>\n",
              "      <td>0</td>\n",
              "      <td>1</td>\n",
              "      <td>1</td>\n",
              "      <td>0</td>\n",
              "      <td>0</td>\n",
              "      <td>1</td>\n",
              "      <td>...</td>\n",
              "      <td>0</td>\n",
              "      <td>0</td>\n",
              "      <td>0</td>\n",
              "      <td>0</td>\n",
              "      <td>0</td>\n",
              "      <td>0</td>\n",
              "      <td>0</td>\n",
              "      <td>0</td>\n",
              "      <td>0</td>\n",
              "      <td>0</td>\n",
              "      <td>0</td>\n",
              "      <td>0</td>\n",
              "      <td>0</td>\n",
              "      <td>0</td>\n",
              "      <td>0</td>\n",
              "      <td>0</td>\n",
              "      <td>0</td>\n",
              "      <td>0</td>\n",
              "      <td>0</td>\n",
              "      <td>0</td>\n",
              "      <td>0</td>\n",
              "      <td>0</td>\n",
              "      <td>0</td>\n",
              "      <td>0</td>\n",
              "      <td>0</td>\n",
              "      <td>0</td>\n",
              "      <td>0</td>\n",
              "      <td>0</td>\n",
              "      <td>0</td>\n",
              "      <td>0</td>\n",
              "      <td>0</td>\n",
              "      <td>0</td>\n",
              "      <td>0</td>\n",
              "      <td>0</td>\n",
              "      <td>0</td>\n",
              "      <td>0</td>\n",
              "      <td>0</td>\n",
              "      <td>0</td>\n",
              "      <td>0</td>\n",
              "      <td>0</td>\n",
              "    </tr>\n",
              "  </tbody>\n",
              "</table>\n",
              "<p>5 rows × 1155 columns</p>\n",
              "</div>"
            ],
            "text/plain": [
              "   id     cont1     cont2     cont3  ...  cat116_V  cat116_W  cat116_X  cat116_Y\n",
              "0   1  0.726300  0.245921  0.187583  ...         0         0         0         0\n",
              "1   2  0.330514  0.737068  0.592681  ...         0         0         0         0\n",
              "2   5  0.261841  0.358319  0.484196  ...         0         0         0         0\n",
              "3  10  0.321594  0.555782  0.527991  ...         0         0         0         0\n",
              "4  11  0.273204  0.159990  0.527991  ...         0         0         0         0\n",
              "\n",
              "[5 rows x 1155 columns]"
            ]
          },
          "metadata": {
            "tags": []
          },
          "execution_count": 6
        }
      ]
    },
    {
      "cell_type": "markdown",
      "metadata": {
        "collapsed": true,
        "id": "hmAat88e4W_g"
      },
      "source": [
        "## Step 1: 2-layer model definition and training"
      ]
    },
    {
      "cell_type": "markdown",
      "metadata": {
        "collapsed": true,
        "id": "NZuo4JbG4W_h"
      },
      "source": [
        "Let's outline the architecture of our basic model. As we are training our first model, we start with just a single hidden layer architecture. Such an approach is recommended from [multiple](http://stackoverflow.com/questions/10565868/multi-layer-perceptron-mlp-architecture-criteria-for-choosing-number-of-hidde) [sources](http://www.deeplearningbook.org/contents/guidelines.html). The beauty of training a simple model is that it's harder to overfit, it trains faster and we get the results quicker.\n",
        "> After choosing performance metrics and goals, the next step in any practical application is to establish a reasonable end-to-end system as soon as possible.\n",
        "\n",
        "> *Ian Goodfellow and Yoshua Bengio and Aaron Courville, Deep Learning Book*\n",
        "\n",
        "Here's our first architecture:\n",
        "\n",
        "<table>\n",
        "<tr><td>\n",
        "<img src=\"http://cdn.rawgit.com/dnkirill/allstate_capstone/master/images/mlp1.svg\"></td>\n",
        "<td width=\"40%\">\n",
        "<p>This network contains just a single hidden layer with ReLU activation, which is connected with a single-unit output layer. All layers are dense, we don't implement dropout yet.</p>\n",
        "\n",
        "<p><b>Input layer</b> consists of `train_x.shape[1] + 1` nodes: all our features and the bias term. Keras adds it automatically if we don't specifically set `bias=False` while initializing [Dense](https://github.com/fchollet/keras/blob/master/keras/layers/core.py) layer.</p>\n",
        "\n",
        "<p>A single <b>hidden layer</b> consists of 128 nodes with ReLU activation function.</p>\n",
        "\n",
        "<p><b>Output layer</b> is just a single unit (this is a regression problem) with `mean_absolute_error` objective we are trying to optimize. After computing the loss, the model starts calculating gradients and backpropagating them to input layer through the hidden layer.</p>\n",
        "</td>\n",
        "</tr></table>"
      ]
    },
    {
      "cell_type": "markdown",
      "metadata": {
        "id": "ZXM-ZiWQ4W_h"
      },
      "source": [
        "Now it's time to define our model and start training. **The purpose of this section is to revisit the bias-variance tradeoff, but not to train the optimal model.**\n",
        "\n",
        "Right now, we *won't* use cross-validation and just plot the learining curve using the validation subset taken from the training set. We'll return to CV later in this section.\n",
        "\n",
        "My first assumption is that the nonlinear relationships in dataset will require several hidden layers and a single hidden layer model will struggle to fit this data. This will result in underfitting. In other words, our model is supposed to be biased. \n",
        "\n",
        "To test this out, we train a model with a single hidden layer, observe its performance and only then we go deeper."
      ]
    },
    {
      "cell_type": "code",
      "metadata": {
        "id": "ZMoQHBnhp-Tx",
        "colab": {
          "base_uri": "https://localhost:8080/",
          "height": 35
        },
        "outputId": "5852e0c0-1899-49b0-883e-5dbae159d6a7"
      },
      "source": [
        "train_x.shape[1]"
      ],
      "execution_count": null,
      "outputs": [
        {
          "output_type": "execute_result",
          "data": {
            "text/plain": [
              "1153"
            ]
          },
          "metadata": {
            "tags": []
          },
          "execution_count": 8
        }
      ]
    },
    {
      "cell_type": "code",
      "metadata": {
        "id": "IEaMG1I24W_i"
      },
      "source": [
        "def mlp_model():\n",
        "    model = Sequential()\n",
        "    model.add(Dense(128, input_dim=train_x.shape[1]))\n",
        "    model.add(Activation('relu'))\n",
        "    model.add(Dense(1))\n",
        "    model.compile(loss='mse', optimizer='adam',metrics=['accuracy'])\n",
        "    return model"
      ],
      "execution_count": null,
      "outputs": []
    },
    {
      "cell_type": "markdown",
      "metadata": {
        "id": "fjPdi1vg4W_k"
      },
      "source": [
        "If we set verbose flag to 1, Jupyter may get stuck (text cell overflow). Let's pipeline stdout to a file. An easy way to monitor the training would be to `tail -f mlp_v1_out.txt` from command line."
      ]
    },
    {
      "cell_type": "code",
      "metadata": {
        "id": "n-DRUEPh4W_l"
      },
      "source": [
        "_stdout = sys.stdout"
      ],
      "execution_count": null,
      "outputs": []
    },
    {
      "cell_type": "code",
      "metadata": {
        "id": "s4VYW0i94W_n"
      },
      "source": [
        "# Model: mlp_v1\n",
        "mlp = mlp_model()    \n",
        "USE_PRETRAINED=True\n",
        "if USE_PRETRAINED: \n",
        "    \n",
        "    # These .h5 models contain all the weights of a MLP\n",
        "    # They are not really required for the project, but may\n",
        "    # be useful to glance how trained models are saved\n",
        "    mlp = load_model('pretrained/mlp_v1.h5')\n",
        "    with open('pretrained/mlp_v1_hist.pkl', 'rb') as f:\n",
        "        hist = pickle.load(f)\n",
        "else:\n",
        "    sys.stdout = open('mlp_v1_out.txt', 'w')\n",
        "    fit = mlp.fit(train_x, train_y, validation_split=0.2, \n",
        "                  batch_size=128, nb_epoch=2, verbose=1)\n",
        "    hist = fit.history"
      ],
      "execution_count": null,
      "outputs": []
    },
    {
      "cell_type": "code",
      "metadata": {
        "id": "bkm3ffaG4W_p",
        "colab": {
          "base_uri": "https://localhost:8080/",
          "height": 35
        },
        "outputId": "6c213d73-836a-4f26-a3ad-1b110b2b8a46"
      },
      "source": [
        "\"Validation loss by epoch 40:\", hist['val_loss'][-1]"
      ],
      "execution_count": null,
      "outputs": [
        {
          "output_type": "execute_result",
          "data": {
            "text/plain": [
              "('Validation loss by epoch 40:', 1178.3742217369372)"
            ]
          },
          "metadata": {
            "tags": []
          },
          "execution_count": 32
        }
      ]
    },
    {
      "cell_type": "code",
      "metadata": {
        "id": "Hp0-d4MZ4W_r"
      },
      "source": [
        "models_history = {}\n",
        "models_history['mlp_v1'] = hist"
      ],
      "execution_count": null,
      "outputs": []
    },
    {
      "cell_type": "markdown",
      "metadata": {
        "id": "TCiWWN1b4W_t"
      },
      "source": [
        "Now we plot 1) the loss on training set throughout learning, 2) zoom in the last 20 epochs:"
      ]
    },
    {
      "cell_type": "code",
      "metadata": {
        "id": "PCIsSall4W_u",
        "colab": {
          "base_uri": "https://localhost:8080/",
          "height": 350
        },
        "outputId": "4224f738-0876-451c-af49-1e28979c5a53"
      },
      "source": [
        "def plot_mlp_loss(history, title):\n",
        "    fig, (ax1, ax2) = plt.subplots(1,2)\n",
        "    fig.set_size_inches(16,5)\n",
        "\n",
        "    ax1.set_title('{} 40 epochs'.format(title))\n",
        "    ax1.set_xlabel('Epochs')\n",
        "    ax1.set_ylabel('Loss')\n",
        "    ax1.grid(True)\n",
        "    ax1.plot(history['loss'], label='Training Loss')\n",
        "    ax1.plot(history['val_loss'], label='Validation Loss')\n",
        "    ax1.legend()\n",
        "\n",
        "    ax2.set_title('{} last 20 epochs'.format(title))\n",
        "    ax2.set_xlabel('Epochs')\n",
        "    ax2.set_ylabel('Loss')\n",
        "    ax2.grid(True)\n",
        "    ax2.set_xticklabels(range(20,40,5))\n",
        "    ax2.plot(history['loss'][20:40], label='Training Loss')\n",
        "    ax2.plot(history['val_loss'][20:40], label='Validation Loss')\n",
        "    ax2.legend()\n",
        "    \n",
        "plot_mlp_loss(models_history['mlp_v1'], 'mlp_v1')"
      ],
      "execution_count": null,
      "outputs": [
        {
          "output_type": "display_data",
          "data": {
            "image/png": "[encoded data removed]",
            "text/plain": [
              "<Figure size 1152x360 with 2 Axes>"
            ]
          },
          "metadata": {
            "tags": []
          }
        }
      ]
    },
    {
      "cell_type": "markdown",
      "metadata": {
        "id": "GyF3cVAj4W_w"
      },
      "source": [
        "## Step 2: Performance of a 2-layer MLP\n",
        "To my surprise, this model performed really well. From the plots we see that the validation error still decreases by the epoch 40. Such a model lacks extreme predictive power, but we still get many benefits:\n",
        "\n",
        "\n",
        "* There are no signs of overfitting. This model naturally avoids overfitting and the difference between training and validation errors is small, which is a good feature.\n",
        "\n",
        "\n",
        "* This model is quite stable (no excessive variance). I run it a number of times, and every time I got a predictable score.\n",
        "\n",
        "\n",
        "* It's been fit rapidly. In a prodution environment, this feature can be crucial, e.g., we may have to frequently retrain models or our hardware may be slow enough to force us exclude complex models.\n",
        "\n",
        "\n",
        "### Increasing the batch size\n",
        "To speed the training up, we can increase the `batch_size` which will effectively decrease the amount of iterations of loss calculations per epoch. There is a tradeoff: we win on training time, but (due to a rougher gradient approximation) we lose on model's predictive power. Also, the further we increase the batch size, the less we win on training time.\n",
        "\n",
        "Let's train the same model on `batch_size=256` and see the results."
      ]
    },
    {
      "cell_type": "code",
      "metadata": {
        "id": "9MeKGfx74W_x",
        "colab": {
          "base_uri": "https://localhost:8080/",
          "height": 106
        },
        "outputId": "a2ed36f6-86bc-4e26-b24d-775742c2e61b"
      },
      "source": [
        "mlp = mlp_model()\n",
        "\n",
        "if USE_PRETRAINED:\n",
        "    mlp = load_model('pretrained/mlp_v2.h5')\n",
        "    with open('pretrained/mlp_v2_hist.pkl', 'rb') as f:\n",
        "        hist = pickle.load(f)\n",
        "else:\n",
        "    sys.stdout = open('mlp_v2_out.txt', 'w')\n",
        "    fit = mlp.fit(train_x, train_y, validation_split=0.2, \n",
        "                  batch_size=256, nb_epoch=40, verbose=1)\n",
        "    hist = fit.history"
      ],
      "execution_count": null,
      "outputs": [
        {
          "output_type": "stream",
          "text": [
            "/usr/local/lib/python2.7/dist-packages/keras/engine/base_layer.py:1109: UserWarning: Update your `Dense` call to the Keras 2 API: `Dense(batch_input_shape=[None, 115..., kernel_constraint=None, name=\"dense_15\", bias_regularizer=None, bias_constraint=None, activity_regularizer=None, trainable=True, kernel_initializer=\"glorot_uniform\", kernel_regularizer=None, input_dtype=\"float32\", units=128, input_dim=1153, use_bias=True, activation=\"linear\")`\n",
            "  return cls(**config)\n",
            "/usr/local/lib/python2.7/dist-packages/keras/engine/base_layer.py:1109: UserWarning: Update your `Dense` call to the Keras 2 API: `Dense(name=\"dense_16\", bias_regularizer=None, bias_constraint=None, activity_regularizer=None, trainable=True, kernel_constraint=None, kernel_regularizer=None, input_dim=None, units=1, kernel_initializer=\"glorot_uniform\", use_bias=True, activation=\"linear\")`\n",
            "  return cls(**config)\n"
          ],
          "name": "stderr"
        }
      ]
    },
    {
      "cell_type": "code",
      "metadata": {
        "id": "9sjrZHiU4W_z"
      },
      "source": [
        "models_history['mlp_v2'] = hist"
      ],
      "execution_count": null,
      "outputs": []
    },
    {
      "cell_type": "code",
      "metadata": {
        "id": "54I1f2Tv4W_1",
        "colab": {
          "base_uri": "https://localhost:8080/",
          "height": 35
        },
        "outputId": "09e64be6-13ea-4ad9-ab44-5bfcb7220dc8"
      },
      "source": [
        "\"Validation loss by epoch 40:\", hist['val_loss'][-1]"
      ],
      "execution_count": null,
      "outputs": [
        {
          "output_type": "execute_result",
          "data": {
            "text/plain": [
              "('Validation loss by epoch 40:', 1181.5385966207784)"
            ]
          },
          "metadata": {
            "tags": []
          },
          "execution_count": 37
        }
      ]
    },
    {
      "cell_type": "code",
      "metadata": {
        "scrolled": true,
        "id": "eFnW6NJc4W_5",
        "colab": {
          "base_uri": "https://localhost:8080/",
          "height": 350
        },
        "outputId": "a437d994-3754-4f1d-ec84-4a79fba0d74f"
      },
      "source": [
        "plot_mlp_loss(models_history['mlp_v2'], 'mlp_v2')"
      ],
      "execution_count": null,
      "outputs": [
        {
          "output_type": "display_data",
          "data": {
            "image/png": "[encoded data removed]",
            "text/plain": [
              "<Figure size 1152x360 with 2 Axes>"
            ]
          },
          "metadata": {
            "tags": []
          }
        }
      ]
    },
    {
      "cell_type": "markdown",
      "metadata": {
        "id": "NUdIEexk4W_7"
      },
      "source": [
        "We see, we got a slight performance drop when we increased the batch size. Depending on your current machine, there may or may not be benefits in doing this (different machines showed different results). The final decision, of course, depends on the task we need to accomplish. In this capstone, I'll switch back to `batch_size=128`."
      ]
    },
    {
      "cell_type": "markdown",
      "metadata": {
        "id": "o-ZgB9-j4W_8"
      },
      "source": [
        "### Increasing the number of units in the hidden layer"
      ]
    },
    {
      "cell_type": "markdown",
      "metadata": {
        "id": "lk7pRMRa4W_9"
      },
      "source": [
        "Next, we'll test a little stronger model by adding more units to the hidden layer (doubling the amount of units from 128 to 256). Do we get an improvement on the validation set?"
      ]
    },
    {
      "cell_type": "code",
      "metadata": {
        "id": "kJisXIOL4W_9"
      },
      "source": [
        "def mlp_model():\n",
        "    model = Sequential()\n",
        "    model.add(Dense(256, input_dim=train_x.shape[1]))\n",
        "    model.add(Activation('relu'))\n",
        "    model.add(Dense(1))\n",
        "    model.compile(loss='mae', optimizer='adam')\n",
        "    return model"
      ],
      "execution_count": null,
      "outputs": []
    },
    {
      "cell_type": "code",
      "metadata": {
        "id": "2z1p4zhf4W__",
        "colab": {
          "base_uri": "https://localhost:8080/",
          "height": 106
        },
        "outputId": "ae81823a-d4bd-4346-e6f6-e65b59d64349"
      },
      "source": [
        "mlp = mlp_model()\n",
        "\n",
        "if USE_PRETRAINED:\n",
        "    mlp = load_model('pretrained/mlp_v3.h5')\n",
        "    with open('pretrained/mlp_v3_hist.pkl', 'rb') as f:\n",
        "        hist = pickle.load(f)\n",
        "else:\n",
        "    sys.stdout = open('mlp_v3_out.txt', 'w')\n",
        "    fit = mlp.fit(train_x, train_y, validation_split=0.2, \n",
        "                  batch_size=128, nb_epoch=40, verbose=1)\n",
        "    hist = fit.history"
      ],
      "execution_count": null,
      "outputs": [
        {
          "output_type": "stream",
          "text": [
            "/usr/local/lib/python2.7/dist-packages/keras/engine/base_layer.py:1109: UserWarning: Update your `Dense` call to the Keras 2 API: `Dense(batch_input_shape=[None, 115..., kernel_constraint=None, name=\"dense_17\", bias_regularizer=None, bias_constraint=None, activity_regularizer=None, trainable=True, kernel_initializer=\"glorot_uniform\", kernel_regularizer=None, input_dtype=\"float32\", units=256, input_dim=1153, use_bias=True, activation=\"linear\")`\n",
            "  return cls(**config)\n",
            "/usr/local/lib/python2.7/dist-packages/keras/engine/base_layer.py:1109: UserWarning: Update your `Dense` call to the Keras 2 API: `Dense(name=\"dense_18\", bias_regularizer=None, bias_constraint=None, activity_regularizer=None, trainable=True, kernel_constraint=None, kernel_regularizer=None, input_dim=None, units=1, kernel_initializer=\"glorot_uniform\", use_bias=True, activation=\"linear\")`\n",
            "  return cls(**config)\n"
          ],
          "name": "stderr"
        }
      ]
    },
    {
      "cell_type": "code",
      "metadata": {
        "id": "bfdHt0jn4XAC"
      },
      "source": [
        "models_history['mlp_v3'] = hist"
      ],
      "execution_count": null,
      "outputs": []
    },
    {
      "cell_type": "code",
      "metadata": {
        "id": "4RhgTCYE4XAG",
        "colab": {
          "base_uri": "https://localhost:8080/",
          "height": 35
        },
        "outputId": "c4c2be39-9fbe-45b3-f003-11fdce35d80a"
      },
      "source": [
        "\"Validation loss by epoch 40:\", hist['val_loss'][-1]"
      ],
      "execution_count": null,
      "outputs": [
        {
          "output_type": "execute_result",
          "data": {
            "text/plain": [
              "('Validation loss by epoch 40:', 1175.2881276301641)"
            ]
          },
          "metadata": {
            "tags": []
          },
          "execution_count": 42
        }
      ]
    },
    {
      "cell_type": "code",
      "metadata": {
        "id": "6VTGzfWj4XAK",
        "colab": {
          "base_uri": "https://localhost:8080/"
        },
        "outputId": "bd0647a3-9f72-46da-b901-625202dc4201"
      },
      "source": [
        "plot_mlp_loss(models_history['mlp_v3'], 'mlp_v3')"
      ],
      "execution_count": null,
      "outputs": [
        {
          "output_type": "display_data",
          "data": {
            "image/png": "[encoded data removed]",
            "text/plain": [
              "<Figure size 1152x360 with 2 Axes>"
            ]
          },
          "metadata": {
            "tags": []
          }
        }
      ]
    },
    {
      "cell_type": "markdown",
      "metadata": {
        "collapsed": false,
        "id": "mUzXVAYv4XAM"
      },
      "source": [
        "We notice a small improvement both in training loss and in validation loss if we compare the plots of `mlp_v1` and `mlp_v3`. The improvement is not drastic, but it's visible.\n",
        "\n",
        "Moreover, I also trained the 1024-unit network and got peculiar results:\n",
        "\n",
        "* It can be overfitted, starting from epoch 115.\n",
        "\n",
        "\n",
        "* Validation loss reached 1145 at the lowest point.\n",
        "\n",
        "\n",
        "* 3-fold CV showed MAE = 1171 (by epoch 120). This is not the worst performance for a single unbagged model when we consider that this is a one-layer network with a limited nonlinearity.\n",
        "\n",
        "\n",
        "I haven't yet introduced CV, but I calculated a 3-fold CV (the function will be presented soon) for `mlp_v1` regardless this fact: MAE = 1190.73 (40 epochs), 1186.55 (120 epochs, no visible overfitting). As we expected, the predictive power of a 128-unit model is quite limited.\n",
        "\n",
        "We could increase the number of units even further, and, according to the [universal approximation theorem](https://en.wikipedia.org/wiki/Universal_approximation_theorem), we approximate any continuous function in Euclidean space. From the practical point of view, this is not the best option: the number of units should be exponentially larger."
      ]
    },
    {
      "cell_type": "markdown",
      "metadata": {
        "id": "UE1Forfk4XAM"
      },
      "source": [
        "To conclude this section and to move forward, I'd like to highlight the \"start with the simplest\" approach. As we've just seen, even a simple one hidden layer network shows a decent performance."
      ]
    },
    {
      "cell_type": "markdown",
      "metadata": {
        "collapsed": true,
        "id": "5Ev6tkss4XAN"
      },
      "source": [
        "## Step 3: 3-layer model: CV and overfitting demo"
      ]
    },
    {
      "cell_type": "markdown",
      "metadata": {
        "id": "ZfJZv2Ba4XAN"
      },
      "source": [
        "<table>\n",
        "<tr><td>\n",
        "<img src=\"http://cdn.rawgit.com/dnkirill/allstate_capstone/master/images/mlp2.svg\"></td>\n",
        "<td width=\"35%\">\n",
        "<p>This network contains two hidden layers with ReLU activation. The second hidden layer is connected with a single-unit output layer. All layers are dense.</p>\n",
        "\n",
        "<p><b>Input layer</b> consists of `train_x.shape[1] + 1` nodes: all our features and the bias term.</p>\n",
        "\n",
        "<p><b>Both hidden layers</b> consist of units with ReLU activation function.</p>\n",
        "\n",
        "<p><b>Output layer</b> is just a single unit with `mean_absolute_error` objective we are trying to optimize.</p>\n",
        "\n",
        "<p><b>Cross-validation</b> becomes essential since we reach the point where the model becomes powerful enough to capture nonlinear relationships in training set and easily overfit. We should be able to detect it with CV.</p>\n",
        "\n",
        "<p>To prevent overfitting, we introduce <b>dropout</b> and randomly nullify activations of units in hidden layers.</p>\n",
        "</td>\n",
        "</tr></table>"
      ]
    },
    {
      "cell_type": "markdown",
      "metadata": {
        "id": "QdMfLQZO4XAO"
      },
      "source": [
        "### Cross-validation\n",
        "First, we introduce cross-validation. We'll use a 3-fold CV which is just a rough estimate of a better 5-fold or 10-fold CV. On the other hand, we just need to capture trends and are not very interested in the maximum precision. On Kaggle, I use 5-fold CV.\n",
        "\n",
        "There are several points to be mentioned:\n",
        "\n",
        "* As usual, cross-validation is built on top of `cross_validation.KFold` class from `sklearn`.\n",
        "\n",
        "\n",
        "* To prevent errors, we require passing a _function_ of a model, not the object itself. Otherwise, we may find ourselves in an awkward position where we train the same model on different folds.\n",
        "\n",
        "\n",
        "* We add early stopping with a small value of patience. After a number of trials, `patience=5` was found quite a reasonable value (my production model uses `patience=8`, though)."
      ]
    },
    {
      "cell_type": "code",
      "metadata": {
        "id": "PBXQTKOC4XAP"
      },
      "source": [
        "def cross_validate_mlp(mlp_func, nfolds=3):\n",
        "    folds = KFold(len(train_y), n_folds=nfolds, shuffle=True, random_state = 31337)\n",
        "    val_scores = np.zeros((nfolds,))\n",
        "    for k,(train_index, test_index) in enumerate(folds):\n",
        "        xtr = train_x[train_index]\n",
        "        ytr = train_y[train_index]\n",
        "        xte = train_x[test_index]\n",
        "        yte = train_y[test_index]\n",
        "        mlp = mlp_func()\n",
        "        early_stopping = EarlyStopping(monitor='val_loss', patience=5)\n",
        "        fit = mlp.fit(xtr, ytr, validation_split=0.2, batch_size=128, \n",
        "                      nb_epoch=30, verbose=1, callbacks=[early_stopping])\n",
        "        pred = mlp.predict(xte, batch_size=256)\n",
        "        score = mean_absolute_error(yte, pred)\n",
        "        val_scores[k] += score\n",
        "        print 'Fold {}, MAE: {}'.format(k, score)\n",
        "    avg_score = np.sum(val_scores) / float(nfolds)\n",
        "    print '{}-fold CV score: {}'.format(nfolds, avg_score)\n",
        "    return avg_score"
      ],
      "execution_count": null,
      "outputs": []
    },
    {
      "cell_type": "markdown",
      "metadata": {
        "id": "FK-Ewu6n4XAS"
      },
      "source": [
        "### Danger of overfitting\n",
        "Neural (especially deep) networks are known for their tendency to overfitting. The more nonlinear transformations we allow our network to make (by adding more hidden layers), the easier our model may get overfit.\n",
        "\n",
        "To show that overfitting is very real and easily achievable, we train a model without any regularization. Basically, we just add one more layer to our previous models. We increase the number of units to visualize overfitting better, but the same result can be obtained without such an increase.\n",
        "\n",
        "We split training set into training and validation. For now, I decided to use `train_test_split` from `sklearn`, though we could use `validation_split` parameter from `Sequential.fit` method again."
      ]
    },
    {
      "cell_type": "code",
      "metadata": {
        "id": "I_6iUhJN4XAS"
      },
      "source": [
        "xtr, xte, ytr, yte = train_test_split(train_x, train_y, test_size=0.25, random_state=31337)"
      ],
      "execution_count": null,
      "outputs": []
    },
    {
      "cell_type": "markdown",
      "metadata": {
        "id": "m4GT4J3j4XAZ"
      },
      "source": [
        "We initialize a wide3-layer model with 1024-512 units in hidden layers:"
      ]
    },
    {
      "cell_type": "code",
      "metadata": {
        "id": "8p1PCEMo4XAa"
      },
      "source": [
        "def mlp_model():\n",
        "    model = Sequential()\n",
        "    model.add(Dense(1024, input_dim=xtr.shape[1]))\n",
        "    model.add(Activation('relu'))\n",
        "    model.add(Dense(512))\n",
        "    model.add(Activation('relu'))\n",
        "    model.add(Dense(1))\n",
        "    model.compile(loss='mae', optimizer='adam')\n",
        "    return model"
      ],
      "execution_count": null,
      "outputs": []
    },
    {
      "cell_type": "markdown",
      "metadata": {
        "id": "rzrFvOHz4XAb"
      },
      "source": [
        "We train the model and visualize the results:"
      ]
    },
    {
      "cell_type": "code",
      "metadata": {
        "id": "IX88BjeZ4XAd"
      },
      "source": [
        "mlp = mlp_model()\n",
        "\n",
        "if USE_PRETRAINED:\n",
        "    \n",
        "    # This model weights 20 MB and I decided to exclude it\n",
        "    # from the repository. If you still need it, you can download it from S3:\n",
        "    \n",
        "    # !wget https://s3-eu-west-1.amazonaws.com/kd-allstate/mlp_v4.h5 -d pretrained\n",
        "    # mlp = load_model('pretrained/mlp_v4.h5')\n",
        "    \n",
        "    with open('pretrained/mlp_v4_hist.pkl', 'rb') as f:\n",
        "        hist = pickle.load(f)\n",
        "else:\n",
        "    sys.stdout = open('mlp_v4_out.txt', 'w')\n",
        "    fit = mlp.fit(xtr, ytr, batch_size=128, validation_data=(xte,yte),\n",
        "                  nb_epoch=40, verbose=1)\n",
        "    hist = fit.history"
      ],
      "execution_count": null,
      "outputs": []
    },
    {
      "cell_type": "code",
      "metadata": {
        "id": "WzzQzdCo4XAf"
      },
      "source": [
        "models_history['mlp_v4'] = hist\n",
        "sys.stdout = _stdout"
      ],
      "execution_count": null,
      "outputs": []
    },
    {
      "cell_type": "markdown",
      "metadata": {
        "id": "VbhRF6Gt4XAl"
      },
      "source": [
        "If we print a training loss after 40 epoch, we'll see an alarmingly good score:"
      ]
    },
    {
      "cell_type": "code",
      "metadata": {
        "scrolled": true,
        "id": "AjJ4uH8x4XAn"
      },
      "source": [
        "print 'Training loss by epoch 40:', models_history['mlp_v4']['loss'][-1]"
      ],
      "execution_count": null,
      "outputs": []
    },
    {
      "cell_type": "markdown",
      "metadata": {
        "id": "1EM9sNKX4XAp"
      },
      "source": [
        "But the validation loss is out of sync with the training loss:"
      ]
    },
    {
      "cell_type": "code",
      "metadata": {
        "id": "zKZDcx-g4XAq"
      },
      "source": [
        "print \"Validation loss by epoch 40:\", hist['val_loss'][-1]"
      ],
      "execution_count": null,
      "outputs": []
    },
    {
      "cell_type": "markdown",
      "metadata": {
        "id": "_BThZefC4XAs"
      },
      "source": [
        "We clearly see the overfitted model when we plot loss on training and validation sets. One of the effects of overfitting is the increasing gap between validation and training errors, as we see from the plots below:"
      ]
    },
    {
      "cell_type": "code",
      "metadata": {
        "scrolled": false,
        "id": "Bg7g98GE4XAs",
        "colab": {
          "base_uri": "https://localhost:8080/",
          "height": 350
        },
        "outputId": "786e764e-188a-4044-f2e2-d790c7f5c1a2"
      },
      "source": [
        "plt.figure(figsize=(9,5))\n",
        "plt.title('Overfitted model')\n",
        "plt.xlabel('Epochs')\n",
        "plt.ylabel('Loss')\n",
        "plt.grid(True)\n",
        "plt1, = plt.plot(models_history['mlp_v4']['loss'], label='Training Loss')\n",
        "plt2, = plt.plot(models_history['mlp_v4']['val_loss'], label='Validation Loss')\n",
        "fill = plt.fill_between(range(3,40,1),models_history['mlp_v4']['loss'][3:],\n",
        "                 models_history['mlp_v4']['val_loss'][3:], alpha=0.2, color='cyan')\n",
        "\n",
        "overfit_legend = mpatches.Patch(color='cyan', alpha=0.2, label='Overfitting')\n",
        "handles = [plt1, plt2, overfit_legend]\n",
        "plt.legend(handles, ['Training Loss','Validation Loss','Overfitting'])\n",
        "\n",
        "plt.show()"
      ],
      "execution_count": null,
      "outputs": [
        {
          "output_type": "display_data",
          "data": {
            "image/png": "[encoded data removed]",
            "text/plain": [
              "<Figure size 648x360 with 1 Axes>"
            ]
          },
          "metadata": {
            "tags": []
          }
        }
      ]
    },
    {
      "cell_type": "markdown",
      "metadata": {
        "id": "IEOBIg2t4XAu"
      },
      "source": [
        "Such models will fail to generalize. To cope with overfitting, we have several regularization techniques in our toolbox:\n",
        "\n",
        "* Dropout\n",
        "\n",
        "\n",
        "* Batch Normalization\n",
        "\n",
        "\n",
        "* Early Stopping\n",
        "\n",
        "\n",
        "* Running the model several times and bagging results."
      ]
    },
    {
      "cell_type": "markdown",
      "metadata": {
        "id": "zrOkll5n4XAu"
      },
      "source": [
        "## Step 4: List hyperparameters. Manually cross-validating models\n",
        "\n",
        "Let's now step back and reevaluate different hyperparameters we have to decide on:\n",
        "\n",
        "* **Number of hidden layers**: we now have two hidden layers, we pushed a single hidden layer model to its maximum, but we still have a possibility to train deeper models.\n",
        "\n",
        "\n",
        "* **Number of hidden units**: both in hidden layer #1 and hidden layer #2.\n",
        "\n",
        "\n",
        "* **Dropout rates**: both in hidden layer #1 and hidden layer #2.\n",
        "\n",
        "\n",
        "* **Activation function**. We will consistently use ReLU throughout the project. I tested both ReLU and [Parametric ReLU](https://arxiv.org/abs/1502.01852) (a generalization upon ReLU which beat ReLU score in ImageNet-2012 classification), but I didn't find any significant score increase with PReLU.\n",
        "\n",
        "\n",
        "* **Early stopping parameters**: number of epochs, value of patience. We'll limit the number of epochs to 30 to speed up training time. In my production model, I used 70 epochs with `patience=8`.\n",
        "\n",
        "\n",
        "* **Gradient descent optimizer**: we mostly use ADAM, but my final model uses [Adadelta](http://sebastianruder.com/optimizing-gradient-descent/index.html#adadelta).\n",
        "\n",
        "\n",
        "* **Weights initialization**. Glorot uniform is the default, but my final model uses glorot normal. This is the result of Hyperopt search. \n",
        "\n",
        "\n",
        "* **Learning rate, learning rate decay**. We'll keep them default.\n",
        "\n",
        "\n",
        "Actually, there are even more considerations we should take, but the point of listing hyperparameters is to show it's not enough to just add another layer, some dropout and think the work is done.\n",
        "\n",
        "Nevertheless, we start by doing just this: defining several 3-layer configurations, doing a manual CV over them and picking the one with the best CV score.\n",
        "\n",
        "**Configurations:**\n",
        "\n",
        "| Model Name | Hidden Layers | Hidden Layer #1 Units | Hidden Layer #2 Units | Hidden Layer #1 Dropout | Hidden Layer #2 Dropout |\n",
        "|------------|---------------|-----------------------|-----------------------|-------------------------|-------------------------|\n",
        "| mlp_v5     | 2             | 64                    | 16                    | 0.3                     | 0.2                     |\n",
        "| mlp_v6     | 2             | 128                   | 32                    | 0.4                     | 0.3                     |\n",
        "| mlp_v7     | 2             | 256                   | 64                    | 0.5                     | 0.4                     |"
      ]
    },
    {
      "cell_type": "code",
      "metadata": {
        "id": "i3fOralv4XAv"
      },
      "source": [
        "def mlp_v5():\n",
        "    model = Sequential()\n",
        "    model.add(Dense(64, input_dim=train_x.shape[1]))\n",
        "    model.add(Activation('relu'))\n",
        "    model.add(Dropout(0.3))\n",
        "    model.add(Dense(16))\n",
        "    model.add(Activation('relu'))\n",
        "    model.add(Dropout(0.2))\n",
        "    model.add(Dense(1))\n",
        "    model.compile(loss='mae', optimizer='adam')\n",
        "    return model\n",
        "\n",
        "def mlp_v6():\n",
        "    model = Sequential()\n",
        "    model.add(Dense(128, input_dim=train_x.shape[1]))\n",
        "    model.add(Activation('relu'))\n",
        "    model.add(Dropout(0.4))\n",
        "    model.add(Dense(32))\n",
        "    model.add(Activation('relu'))\n",
        "    model.add(Dropout(0.3))\n",
        "    model.add(Dense(1))\n",
        "    model.compile(loss='mae', optimizer='adam')\n",
        "    return model\n",
        "\n",
        "def mlp_v7():\n",
        "    model = Sequential()\n",
        "    model.add(Dense(256, input_dim=train_x.shape[1]))\n",
        "    model.add(Activation('relu'))\n",
        "    model.add(Dropout(0.5))\n",
        "    model.add(Dense(64))\n",
        "    model.add(Activation('relu'))\n",
        "    model.add(Dropout(0.4))\n",
        "    model.add(Dense(1))\n",
        "    model.compile(loss='mae', optimizer='adam')\n",
        "    return model"
      ],
      "execution_count": null,
      "outputs": []
    },
    {
      "cell_type": "code",
      "metadata": {
        "id": "flmDWEOq4XAx"
      },
      "source": [
        "# Cross-validation and score evaluation\n",
        "scores = {}\n",
        "\n",
        "if USE_PRETRAINED:\n",
        "    with open('pretrained/mlp_v5_v6_v7_scores.pkl', 'rb') as f:\n",
        "        scores = pickle.load(f)\n",
        "else:\n",
        "    sys.stdout = open('mlp_v5_v6_v7_out.log', 'w')\n",
        "    for i, model_func in enumerate([mlp_v5, mlp_v6, mlp_v7]):\n",
        "        score = cross_validate_mlp(model_func)\n",
        "        scores[model_func.__name__] = score\n",
        "    sys.stdout = _stdout"
      ],
      "execution_count": null,
      "outputs": []
    },
    {
      "cell_type": "code",
      "metadata": {
        "id": "Ts19wu2H4XAz",
        "colab": {
          "base_uri": "https://localhost:8080/",
          "height": 69
        },
        "outputId": "b3492f67-aff6-4736-e332-e6746ceaa19f"
      },
      "source": [
        "scores"
      ],
      "execution_count": null,
      "outputs": [
        {
          "output_type": "execute_result",
          "data": {
            "text/plain": [
              "{'mlp_v5': 1193.1136604667843,\n",
              " 'mlp_v6': 1180.3518637720078,\n",
              " 'mlp_v7': 1174.283208544334}"
            ]
          },
          "metadata": {
            "tags": []
          },
          "execution_count": 56
        }
      ]
    },
    {
      "cell_type": "markdown",
      "metadata": {
        "id": "8JX6yBq54XA0"
      },
      "source": [
        "Your performance may be different, but I got the following scores:\n",
        "\n",
        "`\n",
        "{'mlp_v5': 1193.1136604667843,\n",
        " 'mlp_v6': 1180.3518637720078,\n",
        " 'mlp_v7': 1174.283208544334}\n",
        "`\n",
        " \n",
        "The best model of these three (`mlp_v7`) shows a worse score (1174), than our single layer model with 1024 units (1171)! We now see that it takes **much** more effort to train a deeper model. Though, we shouldn't forget that we specifically limited our training to 30 epochs now (which we didn't for that single hidden layer model).\n",
        "\n",
        "After CV, we list two baseline configurations:\n",
        "\n",
        "* **2-layer model**. Hidden units: 1024. Epochs: 115.\n",
        "* **3-layer model**. Hidden units: 256, 64. Dropout: 0.5, 0.4. Epochs: 30."
      ]
    },
    {
      "cell_type": "markdown",
      "metadata": {
        "id": "C-cyOPuy4XA1"
      },
      "source": [
        "## Step 5: Hyperopt MLP hyperparameters tuning"
      ]
    },
    {
      "cell_type": "markdown",
      "metadata": {
        "id": "V-3pWlE24XA2"
      },
      "source": [
        "After doing a CV over manually chosen models, we may want to automate this process and search over many more combinations. Unfortunately, there's no fast way to tune the hyperparameters of a neural network. \n",
        "\n",
        "To search over the space of hyperparameters, I introduce [Hyperopt](https://github.com/hyperopt/hyperopt), a model-agnostic library for advanced parallel hyperparams optimization. Hyperopt represents a Bayesian approach to optimization: the library uses the prior knowledge to make more intelligent assumptions what combination of parameters to try next.\n",
        "\n",
        "I'll just briefly touch upon it, because it may and will take an enormous amount of time to train and validate multiple combinations of hyperparams via Hyperopt. Anyway, it's a reliable and popular library which is heavily (ab)used on Kaggle.\n",
        "\n",
        "My methodology is based on [an post on fastml.com blog](http://fastml.com/optimizing-hyperparams-with-hyperopt/), which brings a 3-step process:\n",
        "\n",
        "1. Describe the search space: all hyperparameters and their possible values.\n",
        "\n",
        "2. Implement a function to minimize (our Keras model which minimizes the loss).\n",
        "\n",
        "3. Analyze and pick scores."
      ]
    },
    {
      "cell_type": "markdown",
      "metadata": {
        "id": "ygYgjj684XA2"
      },
      "source": [
        "### 4 versions of Hyperopt search"
      ]
    },
    {
      "cell_type": "markdown",
      "metadata": {
        "id": "wzSws2lp4XA3"
      },
      "source": [
        "This Hyperopt code is for demo only. I commented out the code which actually starts Hyperopt.\n",
        "\n",
        "Running the following optimization will literally require **days** on any ordinary PC. To test that the code works, uncomment the lines with `fmin` function calls.  I'd recommend running it and seeing its output from a command-line: \n",
        "\n",
        "`$ tail -f hyperopt_v1.log`\n",
        "\n",
        "Then you should interrupt kernel and move on."
      ]
    },
    {
      "cell_type": "code",
      "metadata": {
        "id": "hSM83rUf4XA4"
      },
      "source": [
        "# We need to define the search space for Hyperopt\n",
        "# Conditionals are used to maintain the structure of the network\n",
        "# Each hidden layer to the right has less units than the previous one\n",
        "\n",
        "# VERSION 1: two hidden layers, wide networks.\n",
        "\n",
        "# Describing the search space\n",
        "space = {'hidden1': hp.choice('hidden1', [\n",
        "            {\n",
        "                'hidden1_units': 256,\n",
        "                'hidden2': hp.choice('hidden2', [\n",
        "                        {\n",
        "                            'hidden2_units': 128\n",
        "                        }\n",
        "                    ]),\n",
        "                'hidden1_units': 512,\n",
        "                'hidden2': hp.choice('hidden2', [\n",
        "                        {\n",
        "                            'hidden2_units': hp.choice('hidden2_units', [128,256])\n",
        "                        }\n",
        "                    ]),\n",
        "                'hidden1_units': 768,\n",
        "                'hidden2': hp.choice('hidden2', [\n",
        "                        {\n",
        "                            'hidden2_units': hp.choice('hidden2_units', [128,256,512]),\n",
        "                        }\n",
        "                    ]),\n",
        "                'hidden1_units': 1024,\n",
        "                'hidden2': hp.choice('hidden2', [\n",
        "                        {\n",
        "                            'hidden2_units': hp.choice('hidden2_units', [128,256,512,768]),\n",
        "                        }\n",
        "                    ])\n",
        "            }]), \n",
        "        'hidden1_dropout': hp.uniform('hidden1_dropout', 0.1,0.6), \n",
        "        'hidden2_dropout': hp.uniform('hidden2_dropout', 0.1,0.5)}\n",
        "\n",
        "# Implementing a function to minimize\n",
        "def hyperopt_search(params):\n",
        "    print 'Model Testing:', params\n",
        "    def mlp_model():\n",
        "        model = Sequential()\n",
        "        model.add(Dense(params['hidden1']['hidden1_units'], input_dim=train_x.shape[1]))\n",
        "        model.add(Activation('relu'))\n",
        "        model.add(Dropout(params['hidden1_dropout']))\n",
        "        \n",
        "        model.add(Dense(params['hidden1']['hidden2']['hidden2_units']))\n",
        "        model.add(Activation('relu'))\n",
        "        model.add(Dropout(params['hidden2_dropout']))\n",
        "        \n",
        "        model.add(Dense(1))\n",
        "        model.compile(loss='mae', optimizer='adam', metrics = [\"mae\"])\n",
        "        return model\n",
        "    \n",
        "    cv_score = cross_validate_mlp(mlp_model)\n",
        "    return {'loss': cv_score, 'status': STATUS_OK}\n",
        "\n",
        "# Run the optimization and see the results\n",
        "sys.stdout = open('hyperopt_v1.log', 'w')\n",
        "trials = Trials()\n",
        "\n",
        "# UNCOMMENT THE NEXT LINE TO LAUNCH HYPEROPT:\n",
        "# best = fmin(hyperopt_search, space, algo=tpe.suggest, max_evals = 50, trials=trials)"
      ],
      "execution_count": null,
      "outputs": []
    },
    {
      "cell_type": "code",
      "metadata": {
        "id": "onCjdEjC4XA5"
      },
      "source": [
        "# VERSION 2. Insights:\n",
        "# – increase the lower and upper bounds of dropout,\n",
        "# — the wider network doesn't seem to work well.\n",
        "\n",
        "# Describing the search space\n",
        "space = {'hidden1': hp.choice('hidden1', [\n",
        "            {\n",
        "                'hidden1_units': 128,\n",
        "                'hidden2': hp.choice('hidden2', [\n",
        "                        {\n",
        "                            'hidden2_units': 64\n",
        "                        }\n",
        "                    ]),\n",
        "                'hidden1_units': 256,\n",
        "                'hidden2': hp.choice('hidden2', [\n",
        "                        {\n",
        "                            'hidden2_units': hp.choice('hidden2_units', [32,64,128])\n",
        "                        }\n",
        "                    ]),\n",
        "\n",
        "                'hidden1_units': 512,\n",
        "                'hidden2': hp.choice('hidden2', [\n",
        "                        {\n",
        "                            'hidden2_units': hp.choice('hidden2_units', [32,64,128,256])\n",
        "                        }\n",
        "                    ])\n",
        "            }]), \n",
        "        'hidden1_dropout': hp.uniform('hidden1_dropout', 0.3,0.7), # Several rounds of hyperopt\n",
        "        'hidden2_dropout': hp.uniform('hidden2_dropout', 0.2,0.6)} # resulted in these values\n",
        "\n",
        "# Implementing a function to minimize\n",
        "def hyperopt_search(params):\n",
        "    print 'Model Testing:', params\n",
        "    def mlp_model():\n",
        "        model = Sequential()\n",
        "        model.add(Dense(params['hidden1']['hidden1_units'], input_dim=train_x.shape[1]))\n",
        "        model.add(Activation('relu'))\n",
        "        model.add(Dropout(params['hidden1_dropout']))\n",
        "        \n",
        "        model.add(Dense(params['hidden1']['hidden2']['hidden2_units']))\n",
        "        model.add(Activation('relu'))\n",
        "        model.add(Dropout(params['hidden2_dropout']))\n",
        "        \n",
        "        model.add(Dense(1))\n",
        "        model.compile(loss='mae', optimizer='adam', metrics = [\"mae\"])\n",
        "        return model\n",
        "    \n",
        "    cv_score = cross_validate_mlp(mlp_model)\n",
        "    return {'loss': cv_score, 'status': STATUS_OK}\n",
        "\n",
        "# Run the optimization and see the results\n",
        "sys.stdout = open('hyperopt_v2.log', 'w')\n",
        "trials = Trials()\n",
        "\n",
        "# UNCOMMENT THE NEXT LINE TO LAUNCH HYPEROPT:\n",
        "# best = fmin(hyperopt_search, space, algo=tpe.suggest, max_evals = 50, trials=trials)"
      ],
      "execution_count": null,
      "outputs": []
    },
    {
      "cell_type": "code",
      "metadata": {
        "id": "8z26mfDv4XA7"
      },
      "source": [
        "# VERSION 3. Insights:\n",
        "# — models with two hidden layers and 256-128 units configuration work well\n",
        "# — let's optimize the number of units in layers with a more precise step\n",
        "\n",
        "# Describing the search space\n",
        "space = {'hidden1_dropout': hp.choice('hidden1_dropout', np.linspace(0.4,0.6,20)),\n",
        "        'hidden2_dropout': hp.choice('hidden2_dropout', np.linspace(0.2,0.5,10)),\n",
        "         'hidden1_units': hp.choice('hidden1_units', np.linspace(300,550,30,dtype='int16')),\n",
        "         'hidden2_units': hp.choice('hidden2_units', np.linspace(100,300,30,dtype='int16'))\n",
        "        }\n",
        "\n",
        "# Implementing a function to minimize\n",
        "def hyperopt_search(params):\n",
        "    print 'Model Testing:', params\n",
        "    def mlp_model():\n",
        "        model = Sequential()\n",
        "        model.add(Dense(params['hidden1_units'], input_dim=train_x.shape[1]))\n",
        "        model.add(Activation('relu'))\n",
        "        model.add(Dropout(params['hidden1_dropout']))\n",
        "        \n",
        "        model.add(Dense(params['hidden2_units']))\n",
        "        model.add(Activation('relu'))\n",
        "        model.add(Dropout(params['hidden2_dropout']))\n",
        "\n",
        "        model.add(Dense(1))\n",
        "        model.compile(loss='mae', optimizer='adam', metrics = [\"mae\"])\n",
        "        return model\n",
        "    \n",
        "    cv_score = cross_validate_mlp(mlp_model)\n",
        "    return {'loss': cv_score, 'status': STATUS_OK}\n",
        "\n",
        "# Run the optimization and see the results\n",
        "sys.stdout = open('hyperopt_v3.log', 'w')\n",
        "trials = Trials()\n",
        "\n",
        "# UNCOMMENT THE NEXT LINE TO LAUNCH HYPEROPT:\n",
        "# best = fmin(hyperopt_search, space, algo=tpe.suggest, max_evals = 50, trials=trials)"
      ],
      "execution_count": null,
      "outputs": []
    },
    {
      "cell_type": "code",
      "metadata": {
        "id": "aO3ZPEjA4XA9"
      },
      "source": [
        "# VERSION 4. Insights:\n",
        "# – why not to test 4-layer architectures?\n",
        "# — we need to introduce new optimizers\n",
        "# — adding batch normalization (https://arxiv.org/abs/1502.03167)\n",
        "\n",
        "# Describing the search space\n",
        "space = {'hidden1_dropout': hp.choice('hidden1_dropout', np.linspace(0.4,0.6,20)),\n",
        "        'hidden2_dropout': hp.choice('hidden2_dropout', np.linspace(0.2,0.5,10)),\n",
        "        'hidden3_dropout': hp.choice('hidden3_dropout', np.linspace(0.1,0.5,10)),\n",
        "         'hidden1_units': hp.choice('hidden1_units', np.linspace(300,550,30,dtype='int16')),\n",
        "         'hidden2_units': hp.choice('hidden2_units', np.linspace(100,300,30,dtype='int16')),\n",
        "         'hidden3_units': hp.choice('hidden3_units', np.linspace(20,80,30,dtype='int16')),\n",
        "         'optimizer': hp.choice('optimizer', ['adam','nadam','adamax','adadelta'])\n",
        "        }\n",
        "\n",
        "# Implementing a function to minimize\n",
        "def hyperopt_search(params):\n",
        "    print 'Model Testing:', params\n",
        "    def mlp_model():\n",
        "        model = Sequential()\n",
        "        model.add(Dense(params['hidden1_units'], input_dim=train_x.shape[1]))\n",
        "        model.add(BatchNormalization())\n",
        "        model.add(Activation('relu'))\n",
        "        model.add(Dropout(params['hidden1_dropout']))\n",
        "        \n",
        "        model.add(Dense(params['hidden2_units']))\n",
        "        model.add(BatchNormalization())\n",
        "        model.add(Activation('relu'))\n",
        "        model.add(Dropout(params['hidden2_dropout']))\n",
        "\n",
        "        model.add(Dense(params['hidden3_units'])) \n",
        "        model.add(BatchNormalization())\n",
        "        model.add(Activation('relu'))\n",
        "        model.add(Dropout(params['hidden3_dropout']))\n",
        "        \n",
        "        model.add(Dense(1))\n",
        "        model.compile(loss='mae', optimizer=params['optimizer'])\n",
        "        return model\n",
        "    \n",
        "    cv_score = cross_validate_mlp(mlp_model)\n",
        "    return {'loss': cv_score, 'status': STATUS_OK}\n",
        "\n",
        "# Run the optimization and see the results\n",
        "sys.stdout = open('hyperopt_v4.log', 'w')\n",
        "trials = Trials()\n",
        "\n",
        "# UNCOMMENT THE NEXT LINE TO LAUNCH HYPEROPT:\n",
        "# best = fmin(hyperopt_search, space, algo=tpe.suggest, max_evals = 50, trials=trials)"
      ],
      "execution_count": null,
      "outputs": []
    },
    {
      "cell_type": "markdown",
      "metadata": {
        "collapsed": true,
        "id": "nEsGu0P_4XA-"
      },
      "source": [
        "## Step 6: The final model"
      ]
    },
    {
      "cell_type": "markdown",
      "metadata": {
        "id": "2q91E3KM4XA_"
      },
      "source": [
        "It took several rounds of optimization to narrow down the parameters of the model. Here are the results.\n",
        "\n",
        "First, the architecture. The final 4-layer model uses dropout as a regularization and a batch normalization prior to each hidden layer."
      ]
    },
    {
      "cell_type": "markdown",
      "metadata": {
        "id": "g_-gLWnZ4XA_"
      },
      "source": [
        "<img src=\"http://cdn.rawgit.com/dnkirill/allstate_capstone/master/images/mlp3.svg\"></td>"
      ]
    },
    {
      "cell_type": "markdown",
      "metadata": {
        "id": "ZV6PyCOx4XBA"
      },
      "source": [
        "And this is the model itself:"
      ]
    },
    {
      "cell_type": "code",
      "metadata": {
        "id": "XUmdgCDY4XBA"
      },
      "source": [
        "def hyper_model():\n",
        "    model = Sequential()\n",
        "    model.add(Dense(351, input_dim=train_x.shape[1], init='glorot_normal'))\n",
        "    model.add(BatchNormalization())\n",
        "    model.add(Activation('relu'))\n",
        "    model.add(Dropout(0.578947))\n",
        "    \n",
        "    model.add(Dense(293, init='glorot_normal'))\n",
        "    model.add(BatchNormalization())\n",
        "    model.add(Activation('relu'))\n",
        "    model.add(Dropout(0.26666))\n",
        "    \n",
        "    model.add(Dense(46, init='glorot_normal'))\n",
        "    model.add(BatchNormalization())\n",
        "    model.add(Activation('relu'))\n",
        "    model.add(Dropout(0.188888))\n",
        "    \n",
        "    model.add(Dense(1, init='glorot_normal'))\n",
        "    model.compile(loss='mae', optimizer='adadelta')\n",
        "    return model"
      ],
      "execution_count": null,
      "outputs": []
    },
    {
      "cell_type": "code",
      "metadata": {
        "id": "7NL8jlH54XBB"
      },
      "source": [
        "if USE_PRETRAINED:\n",
        "    with open('pretrained/mlp_f_score.pkl', 'rb') as f:\n",
        "        cv_score = pickle.load(f)\n",
        "else:\n",
        "    sys.stdout = open('mlp_final_out.txt', 'w')\n",
        "    cv_score = cross_validate_mlp(hyper_model)"
      ],
      "execution_count": null,
      "outputs": []
    },
    {
      "cell_type": "code",
      "metadata": {
        "id": "JYUPOyJt4XBD"
      },
      "source": [
        "sys.stdout = _stdout"
      ],
      "execution_count": null,
      "outputs": []
    },
    {
      "cell_type": "code",
      "metadata": {
        "id": "g6yOoXBk4XBE",
        "colab": {
          "base_uri": "https://localhost:8080/",
          "height": 34
        },
        "outputId": "853d1219-d302-479e-cd9c-decfe15fdd4c"
      },
      "source": [
        "print \"CV score for the final model:\", cv_score"
      ],
      "execution_count": null,
      "outputs": [
        {
          "output_type": "stream",
          "text": [
            "CV score for the final model: 1150.0096524016606\n"
          ],
          "name": "stdout"
        }
      ]
    },
    {
      "cell_type": "markdown",
      "metadata": {
        "id": "_KOKBaan4XBG"
      },
      "source": [
        "Though this model is not adapted for mere 30 epochs of training, nor for 3-fold CV (I used 5-fold on Kaggle), even though this is a single unbagged model which has been cross-validated on three folds only, we see a very good score:\n",
        "`CV = 1150` (your score may vary a little).\n",
        "\n",
        "By the way, this single model, bagged, 5-fold CVed, scored 1116.28 on Kaggle LB.\n",
        "\n",
        "As we see, this model is considerably better than any other models we had so far. We now take it as the second part of our final ensemble."
      ]
    }
  ]
}