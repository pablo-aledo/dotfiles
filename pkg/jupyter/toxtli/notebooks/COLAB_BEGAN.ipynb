{
  "nbformat": 4,
  "nbformat_minor": 0,
  "metadata": {
    "kernelspec": {
      "name": "python3",
      "display_name": "Python 3"
    },
    "language_info": {
      "codemirror_mode": {
        "name": "ipython",
        "version": 3
      },
      "file_extension": ".py",
      "mimetype": "text/x-python",
      "name": "python",
      "nbconvert_exporter": "python",
      "pygments_lexer": "ipython3",
      "version": "3.6.3"
    },
    "colab": {
      "name": "COLAB - BEGAN.ipynb",
      "provenance": [],
      "collapsed_sections": [
        "Wrtgxk4zSmNd",
        "n2Ea5ggySmNm"
      ],
      "toc_visible": true
    },
    "accelerator": "GPU"
  },
  "cells": [
    {
      "cell_type": "markdown",
      "metadata": {
        "id": "2evLN8-wSsR5"
      },
      "source": [
        "Adapted by Carlos Toxtli https://www.carlostoxtli.com/#colab-gan-1\n",
        "\n",
        "Source: https://github.com/Yangyangii/GAN-Tutorial/blob/master/CelebA/BEGAN.ipynb"
      ]
    },
    {
      "cell_type": "code",
      "metadata": {
        "id": "Y6ye-nkpxm2W",
        "colab": {
          "base_uri": "https://localhost:8080/",
          "height": 85
        },
        "outputId": "4a40edc3-e7f8-4bea-b680-1712172815e0"
      },
      "source": [
        "!gdown -O CelebAImgs.zip https://drive.google.com/uc?id=1isbuM5FUuAVbdZzGjn6YbYjWdIZa1LUT\n",
        "!unzip -qq CelebAImgs.zip\n",
        "!mkdir -p /oontent/CelebA/dataset/train\n",
        "!mv /content/img_align_celeba /oontent/CelebA/dataset/train\n",
        "#!gdown -O CelebA.zip https://drive.google.com/uc?id=1Elq2fcU76VokGIs45apmpieefpberye3\n",
        "#!unzip CelebA.zip"
      ],
      "execution_count": null,
      "outputs": [
        {
          "output_type": "stream",
          "text": [
            "Downloading...\n",
            "From: https://drive.google.com/uc?id=1isbuM5FUuAVbdZzGjn6YbYjWdIZa1LUT\n",
            "To: /content/CelebAImgs.zip\n",
            "1.44GB [00:10, 132MB/s]\n"
          ],
          "name": "stdout"
        }
      ]
    },
    {
      "cell_type": "markdown",
      "metadata": {
        "id": "BZbZksElSmMO"
      },
      "source": [
        "# Implementation of Boundary Equilibrium GANs\n",
        "Reference: https://arxiv.org/pdf/1703.10717"
      ]
    },
    {
      "cell_type": "code",
      "metadata": {
        "id": "_1a29WT0SmMQ"
      },
      "source": [
        "# Run the comment below only when using Google Colab\n",
        "# !pip install torch torchvision"
      ],
      "execution_count": null,
      "outputs": []
    },
    {
      "cell_type": "code",
      "metadata": {
        "id": "aKr8hHLqSmMT"
      },
      "source": [
        "import torch\n",
        "import torchvision\n",
        "import torch.nn as nn"
      ],
      "execution_count": null,
      "outputs": []
    },
    {
      "cell_type": "code",
      "metadata": {
        "id": "WgsN8b1_SmMW"
      },
      "source": [
        "from torch.utils.data import DataLoader\n",
        "from torch.utils.data.dataset import Dataset\n",
        "from torchvision import datasets\n",
        "from torchvision import transforms\n",
        "from torchvision.utils import save_image"
      ],
      "execution_count": null,
      "outputs": []
    },
    {
      "cell_type": "code",
      "metadata": {
        "id": "zF0SR-2ISmMY"
      },
      "source": [
        "import numpy as np\n",
        "import datetime\n",
        "import os, sys"
      ],
      "execution_count": null,
      "outputs": []
    },
    {
      "cell_type": "code",
      "metadata": {
        "id": "ISEE84GZSmMb"
      },
      "source": [
        "import glob"
      ],
      "execution_count": null,
      "outputs": []
    },
    {
      "cell_type": "code",
      "metadata": {
        "id": "09GoWcTiSmMd"
      },
      "source": [
        "from PIL import Image"
      ],
      "execution_count": null,
      "outputs": []
    },
    {
      "cell_type": "code",
      "metadata": {
        "id": "ab_S550CSmMf"
      },
      "source": [
        "import matplotlib.pyplot as plt\n",
        "from matplotlib.pyplot import imshow, imsave\n",
        "%matplotlib inline"
      ],
      "execution_count": null,
      "outputs": []
    },
    {
      "cell_type": "code",
      "metadata": {
        "id": "a0kFsmh4SmMh"
      },
      "source": [
        "MODEL_NAME = 'BEGAN'\n",
        "DEVICE = torch.device(\"cuda\" if torch.cuda.is_available() else \"cpu\")"
      ],
      "execution_count": null,
      "outputs": []
    },
    {
      "cell_type": "code",
      "metadata": {
        "id": "pF9h_QgXSmMk"
      },
      "source": [
        "IMAGE_DIM = (64, 64, 3)"
      ],
      "execution_count": null,
      "outputs": []
    },
    {
      "cell_type": "code",
      "metadata": {
        "id": "YOn-Xo9XSmMn"
      },
      "source": [
        "def tensor2img(tensor):\n",
        "    img = (np.transpose(tensor.detach().cpu().numpy(), [1,2,0])+1)/2.\n",
        "    return img"
      ],
      "execution_count": null,
      "outputs": []
    },
    {
      "cell_type": "code",
      "metadata": {
        "id": "kpcj5LKhSmMp"
      },
      "source": [
        "def get_sample_image(G, n_noise=100, n_samples=64):\n",
        "    \"\"\"\n",
        "        save sample 100 images\n",
        "    \"\"\"\n",
        "    n_rows = int(np.sqrt(n_samples))\n",
        "    z = (torch.rand(size=[n_samples, n_noise])*2-1).to(DEVICE) # U[-1, 1]\n",
        "    x_fake = G(z)\n",
        "    x_fake = torch.cat([torch.cat([x_fake[n_rows*j+i] for i in range(n_rows)], dim=1) for j in range(n_rows)], dim=2)\n",
        "    result = tensor2img(x_fake)\n",
        "    return result"
      ],
      "execution_count": null,
      "outputs": []
    },
    {
      "cell_type": "code",
      "metadata": {
        "id": "uK9DnfG5SmMs"
      },
      "source": [
        "class Encoder(nn.Module):\n",
        "    \"\"\"\n",
        "        Convolutional Encoder\n",
        "    \"\"\"\n",
        "    def __init__(self, in_channel=1, n_filters=128, hidden_dim=100):\n",
        "        super(Encoder, self).__init__()\n",
        "        assert IMAGE_DIM[0] % 2**2 == 0, 'Should be divided 4'\n",
        "        self.flatten_dim = IMAGE_DIM[0]//2**2\n",
        "        self.conv = nn.Sequential(\n",
        "            # conv0\n",
        "            nn.Conv2d(in_channel, n_filters, 3, stride=1, padding=1, bias=False),\n",
        "            nn.BatchNorm2d(n_filters),\n",
        "            nn.LeakyReLU(0.2),\n",
        "            # conv1\n",
        "            nn.Conv2d(n_filters, n_filters, 3, stride=1, padding=1, bias=False),\n",
        "            nn.BatchNorm2d(n_filters),\n",
        "            nn.LeakyReLU(0.2),\n",
        "            # conv2\n",
        "            nn.Conv2d(n_filters, n_filters*2, 3, stride=2, padding=1, bias=False),\n",
        "            nn.BatchNorm2d(n_filters*2),\n",
        "            nn.LeakyReLU(0.2),\n",
        "            # conv3\n",
        "            nn.Conv2d(n_filters*2, n_filters*2, 3, stride=1, padding=1, bias=False),\n",
        "            nn.BatchNorm2d(n_filters*2),\n",
        "            nn.LeakyReLU(0.2),\n",
        "            # conv4\n",
        "            nn.Conv2d(n_filters*2, n_filters*3, 3, stride=2, padding=1, bias=False),\n",
        "            nn.BatchNorm2d(n_filters*3),\n",
        "            nn.LeakyReLU(0.2),\n",
        "            # conv5\n",
        "            nn.Conv2d(n_filters*3, n_filters*3, 3, stride=1, padding=1, bias=False),\n",
        "            nn.BatchNorm2d(n_filters*3),\n",
        "            nn.LeakyReLU(0.2),\n",
        "            # conv6\n",
        "            nn.Conv2d(n_filters*3, n_filters*3, 3, stride=1, padding=1, bias=False),\n",
        "            nn.BatchNorm2d(n_filters*3),\n",
        "            nn.LeakyReLU(0.2),\n",
        "#             nn.AdaptiveAvgPool2d(1),\n",
        "        )\n",
        "        self.fc = nn.Linear(self.flatten_dim**2*n_filters*3, hidden_dim)\n",
        "    \n",
        "    def forward(self, x):\n",
        "        h = self.conv(x)\n",
        "        h = h.view(h.size(0), -1)\n",
        "        h = self.fc(h)\n",
        "        return h"
      ],
      "execution_count": null,
      "outputs": []
    },
    {
      "cell_type": "code",
      "metadata": {
        "id": "kfXjq6e8SmMu"
      },
      "source": [
        "class Decoder(nn.Module):\n",
        "    \"\"\"\n",
        "        Convolutional Decoder\n",
        "    \"\"\"\n",
        "    def __init__(self, out_channel=1, n_filters=128, n_noise=100):\n",
        "        super(Decoder, self).__init__()\n",
        "        assert IMAGE_DIM[0] % 2**2 == 0, 'Should be divided 4'\n",
        "        self.flatten_dim = IMAGE_DIM[0]//2**2\n",
        "        self.fc = nn.Sequential(\n",
        "            nn.Linear(n_noise, self.flatten_dim**2*n_filters),\n",
        "        )\n",
        "        self.conv = nn.Sequential(\n",
        "            # conv1\n",
        "            nn.Conv2d(n_filters, n_filters, 3, stride=1, padding=1, bias=False),\n",
        "            nn.BatchNorm2d(n_filters),\n",
        "            nn.LeakyReLU(0.2),\n",
        "            # conv2\n",
        "            nn.Conv2d(n_filters, n_filters, 3, stride=1, padding=1, bias=False),\n",
        "            nn.BatchNorm2d(n_filters),\n",
        "            nn.LeakyReLU(0.2),\n",
        "            nn.Upsample(scale_factor=2, mode='nearest'),\n",
        "            # conv3\n",
        "            nn.Conv2d(n_filters, n_filters, 3, stride=1, padding=1, bias=False),\n",
        "            nn.BatchNorm2d(n_filters),\n",
        "            nn.LeakyReLU(0.2),\n",
        "            # conv4\n",
        "            nn.Conv2d(n_filters, n_filters, 3, stride=1, padding=1, bias=False),\n",
        "            nn.BatchNorm2d(n_filters),\n",
        "            nn.LeakyReLU(0.2),\n",
        "            nn.Upsample(scale_factor=2, mode='nearest'),\n",
        "            # conv5\n",
        "            nn.Conv2d(n_filters, n_filters, 3, stride=1, padding=1, bias=False),\n",
        "            nn.BatchNorm2d(n_filters),\n",
        "            nn.LeakyReLU(0.2),\n",
        "            # conv6\n",
        "            nn.Conv2d(n_filters, n_filters, 3, stride=1, padding=1, bias=False),\n",
        "            nn.BatchNorm2d(n_filters),\n",
        "            nn.LeakyReLU(0.2),\n",
        "            # conv6\n",
        "            nn.Conv2d(n_filters, out_channel, 3, stride=1, padding=1, bias=True),\n",
        "            nn.Tanh()\n",
        "        )\n",
        "    \n",
        "    def forward(self, h):\n",
        "        h = self.fc(h)\n",
        "        h = h.view(h.size(0), -1, self.flatten_dim, self.flatten_dim)\n",
        "        x = self.conv(h)\n",
        "        return x"
      ],
      "execution_count": null,
      "outputs": []
    },
    {
      "cell_type": "code",
      "metadata": {
        "id": "dmqLuBKJSmMx"
      },
      "source": [
        "class Discriminator(nn.Module):\n",
        "    \"\"\"\n",
        "        Convolutional Discriminator\n",
        "    \"\"\"\n",
        "    def __init__(self, in_channel=1, n_filters=128, hidden_dim=64):\n",
        "        super(Discriminator, self).__init__()\n",
        "        self.encoder = Encoder(in_channel=in_channel, n_filters=n_filters, hidden_dim=hidden_dim)\n",
        "        self.decoder = Decoder(out_channel=in_channel, n_filters=n_filters, n_noise=hidden_dim)\n",
        "        \n",
        "    def forward(self, x):\n",
        "        h = self.encoder(x)\n",
        "        x_ = self.decoder(h)\n",
        "        return x_"
      ],
      "execution_count": null,
      "outputs": []
    },
    {
      "cell_type": "code",
      "metadata": {
        "id": "WMgowNZCSmMy"
      },
      "source": [
        "class Generator(nn.Module):\n",
        "    \"\"\"\n",
        "        Convolutional Generator\n",
        "    \"\"\"\n",
        "    def __init__(self, out_channel=1, n_filters=128, n_noise=64):\n",
        "        super(Generator, self).__init__()\n",
        "        self.decoder = Decoder(out_channel=out_channel, n_filters=n_filters, n_noise=n_noise)\n",
        "        \n",
        "    def forward(self, h):\n",
        "        x_ = self.decoder(h)\n",
        "        return x_"
      ],
      "execution_count": null,
      "outputs": []
    },
    {
      "cell_type": "code",
      "metadata": {
        "id": "HXRA3I4eSmM0"
      },
      "source": [
        "transform = transforms.Compose([transforms.Resize((IMAGE_DIM[0],IMAGE_DIM[1])),\n",
        "                                transforms.ToTensor(),\n",
        "                                transforms.Normalize(mean=(0.5, 0.5, 0.5),\n",
        "                                std=(0.5, 0.5, 0.5))\n",
        "                               ]\n",
        ")"
      ],
      "execution_count": null,
      "outputs": []
    },
    {
      "cell_type": "markdown",
      "metadata": {
        "id": "YX76E9kSSmM2"
      },
      "source": [
        "CelebA-aligned download: [link](http://mmlab.ie.cuhk.edu.hk/projects/CelebA.html)"
      ]
    },
    {
      "cell_type": "code",
      "metadata": {
        "id": "Tt-a-K-7SmM3"
      },
      "source": [
        "dataset = datasets.ImageFolder(root='/oontent/CelebA/dataset', transform=transform)"
      ],
      "execution_count": null,
      "outputs": []
    },
    {
      "cell_type": "code",
      "metadata": {
        "id": "akTi4CcsSmM4"
      },
      "source": [
        "batch_size = 32\n",
        "n_noise = 64"
      ],
      "execution_count": null,
      "outputs": []
    },
    {
      "cell_type": "code",
      "metadata": {
        "id": "h0mbUWpySmM6"
      },
      "source": [
        "data_loader = DataLoader(dataset=dataset, batch_size=batch_size, shuffle=True, drop_last=True, num_workers=8, pin_memory=True)"
      ],
      "execution_count": null,
      "outputs": []
    },
    {
      "cell_type": "code",
      "metadata": {
        "scrolled": false,
        "id": "uH6P6Di1SmM-"
      },
      "source": [
        "D = Discriminator(in_channel=IMAGE_DIM[-1], hidden_dim=n_noise).to(DEVICE)\n",
        "G = Generator(out_channel=IMAGE_DIM[-1], n_noise=n_noise).to(DEVICE)"
      ],
      "execution_count": null,
      "outputs": []
    },
    {
      "cell_type": "code",
      "metadata": {
        "id": "xNd6f7C4SmNB"
      },
      "source": [
        "D_opt = torch.optim.Adam(D.parameters(), lr=0.0002, betas=(0.5, 0.999))\n",
        "G_opt = torch.optim.Adam(G.parameters(), lr=0.0002, betas=(0.5, 0.999))"
      ],
      "execution_count": null,
      "outputs": []
    },
    {
      "cell_type": "code",
      "metadata": {
        "id": "TU-zLE2dSmND"
      },
      "source": [
        "# BEGAN causes mode collapse. it can be addressed by decaying lr\n",
        "D_scheduler = torch.optim.lr_scheduler.MultiStepLR(D_opt, milestones=[3, 10, 17], gamma=0.6)\n",
        "G_scheduler = torch.optim.lr_scheduler.MultiStepLR(G_opt, milestones=[3, 10, 17], gamma=0.6)"
      ],
      "execution_count": null,
      "outputs": []
    },
    {
      "cell_type": "code",
      "metadata": {
        "id": "An4v-sUzSmNF"
      },
      "source": [
        "criterion = nn.L1Loss()"
      ],
      "execution_count": null,
      "outputs": []
    },
    {
      "cell_type": "code",
      "metadata": {
        "id": "BytRgra0SmNI"
      },
      "source": [
        "max_epoch = 20\n",
        "step = 0"
      ],
      "execution_count": null,
      "outputs": []
    },
    {
      "cell_type": "code",
      "metadata": {
        "id": "7Lr0ERfRSmNL"
      },
      "source": [
        "lr_k = 0.001\n",
        "gamma = 0.7\n",
        "k_t = 0\n",
        "log_term = 1000"
      ],
      "execution_count": null,
      "outputs": []
    },
    {
      "cell_type": "code",
      "metadata": {
        "id": "hMycH7AMSmNM",
        "colab": {
          "base_uri": "https://localhost:8080/",
          "height": 34
        },
        "outputId": "019af6bb-3055-4a3c-9a85-0567dcfa5a4c"
      },
      "source": [
        "steps_per_epoch = len(data_loader.dataset) // batch_size\n",
        "steps_per_epoch"
      ],
      "execution_count": null,
      "outputs": [
        {
          "output_type": "execute_result",
          "data": {
            "text/plain": [
              "6331"
            ]
          },
          "metadata": {
            "tags": []
          },
          "execution_count": 58
        }
      ]
    },
    {
      "cell_type": "code",
      "metadata": {
        "id": "JO4aZCL9SmNQ"
      },
      "source": [
        "if not os.path.exists('samples'):\n",
        "    os.makedirs('samples')\n",
        "    \n",
        "if not os.path.exists('ckpt'):\n",
        "    os.makedirs('ckpt')"
      ],
      "execution_count": null,
      "outputs": []
    },
    {
      "cell_type": "code",
      "metadata": {
        "id": "8i6Sz8r6SmNR"
      },
      "source": [
        "def save_checkpoint(state, file_name='checkpoint.pth.tar'):\n",
        "    torch.save(state, file_name)"
      ],
      "execution_count": null,
      "outputs": []
    },
    {
      "cell_type": "code",
      "metadata": {
        "scrolled": false,
        "id": "7SV6MgwcSmNZ",
        "colab": {
          "base_uri": "https://localhost:8080/",
          "height": 34
        },
        "outputId": "b4ed0040-1558-4289-c8ed-adf9ab4f6386"
      },
      "source": [
        "m_lst = []\n",
        "bestM = 1.\n",
        "for epoch in range(max_epoch):\n",
        "    for idx, (images, labels) in enumerate(data_loader):\n",
        "        G.zero_grad()\n",
        "        # Training Discriminator\n",
        "        x = images.to(DEVICE)\n",
        "        x_outputs = D(x)\n",
        "        D_x_loss = criterion(x_outputs, x)\n",
        "\n",
        "        z = (torch.rand(size=[batch_size, n_noise])*2-1).to(DEVICE)\n",
        "        x_fake = G(z)\n",
        "        z_outputs = D(x_fake.detach())\n",
        "        D_z_loss = criterion(z_outputs, x_fake)\n",
        "        \n",
        "        D_loss = D_x_loss - k_t*D_z_loss\n",
        "        \n",
        "        D.zero_grad()\n",
        "        D_loss.backward()\n",
        "        D_opt.step()\n",
        "\n",
        "        # Training Generator\n",
        "        z = (torch.rand(size=[batch_size, n_noise])*2-1).to(DEVICE)\n",
        "        x_fake = G(z)\n",
        "        z_outputs = D(x_fake)\n",
        "        G_loss = criterion(x_fake, z_outputs)\n",
        "\n",
        "        G.zero_grad()\n",
        "        G_loss.backward()\n",
        "        G_opt.step()\n",
        "        \n",
        "        bal = (gamma*D_x_loss - G_loss).detach()\n",
        "        k_t = min(max(k_t + lr_k*bal, 0), 1)\n",
        "        M_global = D_x_loss.detach() + torch.abs(bal)\n",
        "        \n",
        "        if M_global.item() < bestM:\n",
        "            bestM = M_global.item()\n",
        "            save_checkpoint({'global_step': step,\n",
        "                 'D':D.state_dict(),\n",
        "                 'G':G.state_dict(),\n",
        "                 'd_optim': D_opt.state_dict(),\n",
        "                 'g_optim' : G_opt.state_dict()},\n",
        "                'ckpt/began{:06d}.pth.tar'.format(step))\n",
        "        \n",
        "        if step % log_term == 0:\n",
        "            m_lst.append(M_global)\n",
        "            dt = datetime.datetime.now().strftime('%H:%M:%S')\n",
        "            print('Epoch: {}/{}, Step: {}, D Loss: {:.4f}, G Loss: {:.4f}, k: {:.4f}, M: {:.4f}, lr: {:.7f}, Time:{}'.format(epoch, max_epoch, step, D_loss.item(), G_loss.item(), k_t, M_global.item(), G_scheduler.get_lr()[0], dt))\n",
        "            G.eval()\n",
        "            img = get_sample_image(G, n_noise, n_samples=25)\n",
        "            imsave('samples/{}_step{:06d}.jpg'.format(MODEL_NAME, step), img)\n",
        "            G.train()\n",
        "        \n",
        "        step += 1\n",
        "    D_scheduler.step()\n",
        "    G_scheduler.step()"
      ],
      "execution_count": null,
      "outputs": [
        {
          "output_type": "stream",
          "text": [
            "Epoch: 0/20, Step: 0, D Loss: 0.5835, G Loss: 0.2434, k: 0.0002, M: 0.7485, lr: 0.0002000, Time:21:13:40\n"
          ],
          "name": "stdout"
        }
      ]
    },
    {
      "cell_type": "code",
      "metadata": {
        "id": "k5XBT82QSmNb"
      },
      "source": [
        "save_checkpoint({'global_step': step,\n",
        "     'D':D.state_dict(),\n",
        "     'G':G.state_dict(),\n",
        "     'd_optim': D_opt.state_dict(),\n",
        "     'g_optim' : G_opt.state_dict()},\n",
        "    'ckpt/began{:06d}.pth.tar'.format(step))"
      ],
      "execution_count": null,
      "outputs": []
    },
    {
      "cell_type": "markdown",
      "metadata": {
        "id": "Wrtgxk4zSmNd"
      },
      "source": [
        "### Random Sample"
      ]
    },
    {
      "cell_type": "code",
      "metadata": {
        "id": "DgBfsqVrSmNd"
      },
      "source": [
        "G_path = sorted(glob.glob(os.path.join('ckpt', '*.pth.tar')))[-2]\n",
        "state = torch.load(G_path)\n",
        "G.load_state_dict(state['G'])"
      ],
      "execution_count": null,
      "outputs": []
    },
    {
      "cell_type": "code",
      "metadata": {
        "id": "QpTH61BMSmNf"
      },
      "source": [
        "G.eval()\n",
        "None"
      ],
      "execution_count": null,
      "outputs": []
    },
    {
      "cell_type": "code",
      "metadata": {
        "id": "tJF9NI-0SmNg"
      },
      "source": [
        "img = get_sample_image(G, n_noise, n_samples=25)\n",
        "imshow(img)"
      ],
      "execution_count": null,
      "outputs": []
    },
    {
      "cell_type": "code",
      "metadata": {
        "id": "1wHdGfuMSmNi"
      },
      "source": [
        "# Fake Image\n",
        "idx = [3, 3]\n",
        "row, col = IMAGE_DIM[0]*idx[0], IMAGE_DIM[1]*idx[1]\n",
        "imshow(img[row:row+IMAGE_DIM[0], col:col+IMAGE_DIM[1], :])"
      ],
      "execution_count": null,
      "outputs": []
    },
    {
      "cell_type": "code",
      "metadata": {
        "id": "9U02EtCeSmNk"
      },
      "source": [
        "# Real Image\n",
        "i = 14\n",
        "rimg = tensor2img(images[i])\n",
        "imshow(rimg)"
      ],
      "execution_count": null,
      "outputs": []
    },
    {
      "cell_type": "markdown",
      "metadata": {
        "id": "n2Ea5ggySmNm"
      },
      "source": [
        "### Interpolation"
      ]
    },
    {
      "cell_type": "code",
      "metadata": {
        "id": "cP3sMwS3SmNm"
      },
      "source": [
        "def sample_noise(size=None):\n",
        "    z = np.random.random(size=size)*2-1\n",
        "    return z"
      ],
      "execution_count": null,
      "outputs": []
    },
    {
      "cell_type": "code",
      "metadata": {
        "id": "R2UqNqn9SmNo"
      },
      "source": [
        "z_a, z_b = sample_noise(n_noise), sample_noise(n_noise)\n",
        "zs = torch.tensor([np.linspace(z_a[i], z_b[i], num=10) for i in range(n_noise)], dtype=torch.float32).to(DEVICE)\n",
        "zs = torch.transpose(zs, 0, 1)\n",
        "zs.shape"
      ],
      "execution_count": null,
      "outputs": []
    },
    {
      "cell_type": "code",
      "metadata": {
        "id": "Wl4TKTBwSmNq"
      },
      "source": [
        "imgs = G(zs).detach()\n",
        "imgs = torch.cat([imgs[i] for i in range(10)], dim=-1)\n",
        "imgs.shape"
      ],
      "execution_count": null,
      "outputs": []
    },
    {
      "cell_type": "code",
      "metadata": {
        "id": "uQ-xJbQLSmNs"
      },
      "source": [
        "fig = plt.figure(figsize=(20, 3))\n",
        "imshow(tensor2img(imgs))"
      ],
      "execution_count": null,
      "outputs": []
    }
  ]
}