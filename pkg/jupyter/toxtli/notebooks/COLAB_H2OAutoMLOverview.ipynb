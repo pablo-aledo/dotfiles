{
  "nbformat": 4,
  "nbformat_minor": 0,
  "metadata": {
    "kernelspec": {
      "name": "python3",
      "display_name": "Python 3"
    },
    "language_info": {
      "codemirror_mode": {
        "name": "ipython",
        "version": 3
      },
      "file_extension": ".py",
      "mimetype": "text/x-python",
      "name": "python",
      "nbconvert_exporter": "python",
      "pygments_lexer": "ipython3",
      "version": "3.6.4"
    },
    "colab": {
      "name": "COLAB - H2OAutoMLOverview.ipynb",
      "provenance": []
    },
    "accelerator": "GPU"
  },
  "cells": [
    {
      "cell_type": "markdown",
      "metadata": {
        "id": "jMLwkcWizRtE"
      },
      "source": [
        "Dataset: https://www.kaggle.com/serengil/recognizing-faces-in-the-wild\n",
        "\n",
        "Source: https://github.com/serengil/tensorflow-101/blob/master/python/H2OAutoMLOverview.ipynb"
      ]
    },
    {
      "cell_type": "code",
      "metadata": {
        "id": "7QZkhuThzrJI",
        "colab": {
          "base_uri": "https://localhost:8080/",
          "height": 155
        },
        "outputId": "5151e88c-4cb4-4267-ff45-84e1070fb66c"
      },
      "source": [
        "!gdown -O dataset.zip https://drive.google.com/uc?id=1U1tjZfl_oiIWzx0FE81SCHYBSufdycYH\n",
        "!unzip dataset.zip"
      ],
      "execution_count": null,
      "outputs": [
        {
          "output_type": "stream",
          "text": [
            "Downloading...\n",
            "From: https://drive.google.com/uc?id=1U1tjZfl_oiIWzx0FE81SCHYBSufdycYH\n",
            "To: /content/dataset.zip\n",
            "61.9MB [00:00, 64.0MB/s]\n",
            "Archive:  dataset.zip\n",
            "  inflating: testset_features.csv    \n",
            "  inflating: train_true_negative_features.csv  \n",
            "  inflating: train_true_positive_features.csv  \n"
          ],
          "name": "stdout"
        }
      ]
    },
    {
      "cell_type": "code",
      "metadata": {
        "id": "mial4I6C0v6x",
        "colab": {
          "base_uri": "https://localhost:8080/",
          "height": 365
        },
        "outputId": "1bfef5b8-76b9-4a61-d0af-e2fbeb5b5e83"
      },
      "source": [
        "!pip install h2o"
      ],
      "execution_count": null,
      "outputs": [
        {
          "output_type": "stream",
          "text": [
            "Collecting h2o\n",
            "\u001b[?25l  Downloading https://files.pythonhosted.org/packages/ff/24/c20dc233e0d85b36a66544377c01c2740219a74f78f82872f2f503a39774/h2o-3.26.0.6.tar.gz (123.6MB)\n",
            "\u001b[K     |████████████████████████████████| 123.6MB 167kB/s \n",
            "\u001b[?25hRequirement already satisfied: requests in /usr/local/lib/python3.6/dist-packages (from h2o) (2.21.0)\n",
            "Requirement already satisfied: tabulate in /usr/local/lib/python3.6/dist-packages (from h2o) (0.8.5)\n",
            "Requirement already satisfied: future in /usr/local/lib/python3.6/dist-packages (from h2o) (0.16.0)\n",
            "Collecting colorama>=0.3.8 (from h2o)\n",
            "  Downloading https://files.pythonhosted.org/packages/4f/a6/728666f39bfff1719fc94c481890b2106837da9318031f71a8424b662e12/colorama-0.4.1-py2.py3-none-any.whl\n",
            "Requirement already satisfied: urllib3<1.25,>=1.21.1 in /usr/local/lib/python3.6/dist-packages (from requests->h2o) (1.24.3)\n",
            "Requirement already satisfied: certifi>=2017.4.17 in /usr/local/lib/python3.6/dist-packages (from requests->h2o) (2019.9.11)\n",
            "Requirement already satisfied: chardet<3.1.0,>=3.0.2 in /usr/local/lib/python3.6/dist-packages (from requests->h2o) (3.0.4)\n",
            "Requirement already satisfied: idna<2.9,>=2.5 in /usr/local/lib/python3.6/dist-packages (from requests->h2o) (2.8)\n",
            "Building wheels for collected packages: h2o\n",
            "  Building wheel for h2o (setup.py) ... \u001b[?25l\u001b[?25hdone\n",
            "  Created wheel for h2o: filename=h2o-3.26.0.6-py2.py3-none-any.whl size=123690782 sha256=d339487e4900d773ca81fd6adf5cfbe36c25149aa0646c65c25657b08910b663\n",
            "  Stored in directory: /root/.cache/pip/wheels/eb/1a/72/252857fc093eaad70a7f91ddbcabf1dafd38fb5e6c02bcf9b3\n",
            "Successfully built h2o\n",
            "Installing collected packages: colorama, h2o\n",
            "Successfully installed colorama-0.4.1 h2o-3.26.0.6\n"
          ],
          "name": "stdout"
        }
      ]
    },
    {
      "cell_type": "code",
      "metadata": {
        "id": "S0uqEiylyRZw"
      },
      "source": [
        "import pandas as pd"
      ],
      "execution_count": null,
      "outputs": []
    },
    {
      "cell_type": "code",
      "metadata": {
        "id": "8lnrR1zHyRZ0"
      },
      "source": [
        "import os\n",
        "os.environ[\"CUDA_VISIBLE_DEVICES\"]=\"1\""
      ],
      "execution_count": null,
      "outputs": []
    },
    {
      "cell_type": "code",
      "metadata": {
        "id": "rJeT-2RQyRZ4"
      },
      "source": [
        "tp_df = pd.read_csv(\"train_true_positive_features.csv\")\n",
        "tn_df = pd.read_csv(\"train_true_negative_features.csv\")\n",
        "df = pd.concat([tp_df, tn_df])\n",
        "df = df.reset_index(drop = True)"
      ],
      "execution_count": null,
      "outputs": []
    },
    {
      "cell_type": "code",
      "metadata": {
        "id": "OJIpY1jZyRZ7"
      },
      "source": [
        "df = df[['vgg_cosine', 'vgg_euclidean_l2'\n",
        "         , 'facenet_cosine', 'facenet_euclidean_l2'\n",
        "         , 'openface_cosine', 'openface_euclidean_l2'\n",
        "         , 'is_related']]"
      ],
      "execution_count": null,
      "outputs": []
    },
    {
      "cell_type": "code",
      "metadata": {
        "id": "4Ks8xJQlyRZ9",
        "colab": {
          "base_uri": "https://localhost:8080/",
          "height": 218
        },
        "outputId": "fb1c78d0-8c87-4ddf-e0c0-2ee496ed1d59"
      },
      "source": [
        "df.sample(5)"
      ],
      "execution_count": null,
      "outputs": [
        {
          "output_type": "execute_result",
          "data": {
            "text/html": [
              "<div>\n",
              "<style scoped>\n",
              "    .dataframe tbody tr th:only-of-type {\n",
              "        vertical-align: middle;\n",
              "    }\n",
              "\n",
              "    .dataframe tbody tr th {\n",
              "        vertical-align: top;\n",
              "    }\n",
              "\n",
              "    .dataframe thead th {\n",
              "        text-align: right;\n",
              "    }\n",
              "</style>\n",
              "<table border=\"1\" class=\"dataframe\">\n",
              "  <thead>\n",
              "    <tr style=\"text-align: right;\">\n",
              "      <th></th>\n",
              "      <th>vgg_cosine</th>\n",
              "      <th>vgg_euclidean_l2</th>\n",
              "      <th>facenet_cosine</th>\n",
              "      <th>facenet_euclidean_l2</th>\n",
              "      <th>openface_cosine</th>\n",
              "      <th>openface_euclidean_l2</th>\n",
              "      <th>is_related</th>\n",
              "    </tr>\n",
              "  </thead>\n",
              "  <tbody>\n",
              "    <tr>\n",
              "      <th>124399</th>\n",
              "      <td>0.557376</td>\n",
              "      <td>1.055818</td>\n",
              "      <td>1.003908</td>\n",
              "      <td>1.416974</td>\n",
              "      <td>0.886460</td>\n",
              "      <td>1.331510</td>\n",
              "      <td>1</td>\n",
              "    </tr>\n",
              "    <tr>\n",
              "      <th>129264</th>\n",
              "      <td>0.572976</td>\n",
              "      <td>1.070492</td>\n",
              "      <td>0.916656</td>\n",
              "      <td>1.353998</td>\n",
              "      <td>0.548187</td>\n",
              "      <td>1.047079</td>\n",
              "      <td>1</td>\n",
              "    </tr>\n",
              "    <tr>\n",
              "      <th>350452</th>\n",
              "      <td>0.671728</td>\n",
              "      <td>1.159075</td>\n",
              "      <td>1.090128</td>\n",
              "      <td>1.476569</td>\n",
              "      <td>0.825728</td>\n",
              "      <td>1.285090</td>\n",
              "      <td>0</td>\n",
              "    </tr>\n",
              "    <tr>\n",
              "      <th>433875</th>\n",
              "      <td>0.546957</td>\n",
              "      <td>1.045903</td>\n",
              "      <td>0.723302</td>\n",
              "      <td>1.202749</td>\n",
              "      <td>0.344244</td>\n",
              "      <td>0.829751</td>\n",
              "      <td>0</td>\n",
              "    </tr>\n",
              "    <tr>\n",
              "      <th>13584</th>\n",
              "      <td>0.247176</td>\n",
              "      <td>0.703101</td>\n",
              "      <td>0.439640</td>\n",
              "      <td>0.937699</td>\n",
              "      <td>0.107695</td>\n",
              "      <td>0.464101</td>\n",
              "      <td>1</td>\n",
              "    </tr>\n",
              "  </tbody>\n",
              "</table>\n",
              "</div>"
            ],
            "text/plain": [
              "        vgg_cosine  vgg_euclidean_l2  ...  openface_euclidean_l2  is_related\n",
              "124399    0.557376          1.055818  ...               1.331510           1\n",
              "129264    0.572976          1.070492  ...               1.047079           1\n",
              "350452    0.671728          1.159075  ...               1.285090           0\n",
              "433875    0.546957          1.045903  ...               0.829751           0\n",
              "13584     0.247176          0.703101  ...               0.464101           1\n",
              "\n",
              "[5 rows x 7 columns]"
            ]
          },
          "metadata": {
            "tags": []
          },
          "execution_count": 7
        }
      ]
    },
    {
      "cell_type": "markdown",
      "metadata": {
        "id": "-hZIMqKsyRaG"
      },
      "source": [
        "# Train Test Split"
      ]
    },
    {
      "cell_type": "code",
      "metadata": {
        "id": "QFatLsndyRaH"
      },
      "source": [
        "from sklearn.model_selection import train_test_split"
      ],
      "execution_count": null,
      "outputs": []
    },
    {
      "cell_type": "code",
      "metadata": {
        "id": "xnCx5TeOyRaK"
      },
      "source": [
        "x_train, x_test = train_test_split(df, test_size=0.15, random_state=17)"
      ],
      "execution_count": null,
      "outputs": []
    },
    {
      "cell_type": "markdown",
      "metadata": {
        "id": "xX0HAblZyRaM"
      },
      "source": [
        "# H2O AutoML"
      ]
    },
    {
      "cell_type": "code",
      "metadata": {
        "id": "06i7vK8YyRaN"
      },
      "source": [
        "import h2o\n",
        "from h2o.automl import H2OAutoML"
      ],
      "execution_count": null,
      "outputs": []
    },
    {
      "cell_type": "code",
      "metadata": {
        "id": "_UNaze2yyRaP",
        "colab": {
          "base_uri": "https://localhost:8080/",
          "height": 35
        },
        "outputId": "08875421-d50c-440a-ed17-df51369e7531"
      },
      "source": [
        "h2o.__version__"
      ],
      "execution_count": null,
      "outputs": [
        {
          "output_type": "execute_result",
          "data": {
            "text/plain": [
              "'3.26.0.6'"
            ]
          },
          "metadata": {
            "tags": []
          },
          "execution_count": 11
        }
      ]
    },
    {
      "cell_type": "code",
      "metadata": {
        "id": "Vq27i1HTyRaS"
      },
      "source": [
        "# specify maximum memory size and number of threads based on your system"
      ],
      "execution_count": null,
      "outputs": []
    },
    {
      "cell_type": "code",
      "metadata": {
        "id": "HjobymkHyRaV",
        "colab": {
          "base_uri": "https://localhost:8080/",
          "height": 35
        },
        "outputId": "dc5e3d64-edef-4364-bed2-331f5a6f0251"
      },
      "source": [
        "import multiprocessing\n",
        "multiprocessing.cpu_count()"
      ],
      "execution_count": null,
      "outputs": [
        {
          "output_type": "execute_result",
          "data": {
            "text/plain": [
              "2"
            ]
          },
          "metadata": {
            "tags": []
          },
          "execution_count": 13
        }
      ]
    },
    {
      "cell_type": "code",
      "metadata": {
        "id": "2Em4RzecyRaY",
        "colab": {
          "base_uri": "https://localhost:8080/",
          "height": 55
        },
        "outputId": "0b05a36a-e244-4589-ccd2-f120e6ce324d"
      },
      "source": [
        "import psutil\n",
        "psutil.virtual_memory()"
      ],
      "execution_count": null,
      "outputs": [
        {
          "output_type": "execute_result",
          "data": {
            "text/plain": [
              "svmem(total=13655236608, available=12615409664, percent=7.6, used=1197629440, free=8346910720, active=981245952, inactive=3975286784, buffers=75862016, cached=4034834432, shared=913408, slab=221913088)"
            ]
          },
          "metadata": {
            "tags": []
          },
          "execution_count": 14
        }
      ]
    },
    {
      "cell_type": "code",
      "metadata": {
        "id": "ASpYtry_yRab",
        "colab": {
          "base_uri": "https://localhost:8080/",
          "height": 667
        },
        "outputId": "f4d47b25-3aae-4451-cc1d-f21cb645ac0e"
      },
      "source": [
        "#h2o.init()\n",
        "h2o.init(ip=\"127.0.0.1\", max_mem_size_GB = 200, nthreads = 10)"
      ],
      "execution_count": null,
      "outputs": [
        {
          "output_type": "stream",
          "text": [
            "Checking whether there is an H2O instance running at http://127.0.0.1:54321 ..... not found.\n",
            "Attempting to start a local H2O server...\n",
            "  Java Version: openjdk version \"11.0.4\" 2019-07-16; OpenJDK Runtime Environment (build 11.0.4+11-post-Ubuntu-1ubuntu218.04.3); OpenJDK 64-Bit Server VM (build 11.0.4+11-post-Ubuntu-1ubuntu218.04.3, mixed mode, sharing)\n",
            "  Starting server from /usr/local/lib/python3.6/dist-packages/h2o/backend/bin/h2o.jar\n",
            "  Ice root: /tmp/tmp0y5cawnr\n",
            "  JVM stdout: /tmp/tmp0y5cawnr/h2o_unknownUser_started_from_python.out\n",
            "  JVM stderr: /tmp/tmp0y5cawnr/h2o_unknownUser_started_from_python.err\n",
            "  Server is running at http://127.0.0.1:54321\n",
            "Connecting to H2O server at http://127.0.0.1:54321 ... successful.\n"
          ],
          "name": "stdout"
        },
        {
          "output_type": "display_data",
          "data": {
            "text/html": [
              "<div style=\"overflow:auto\"><table style=\"width:50%\"><tr><td>H2O cluster uptime:</td>\n",
              "<td>02 secs</td></tr>\n",
              "<tr><td>H2O cluster timezone:</td>\n",
              "<td>Etc/UTC</td></tr>\n",
              "<tr><td>H2O data parsing timezone:</td>\n",
              "<td>UTC</td></tr>\n",
              "<tr><td>H2O cluster version:</td>\n",
              "<td>3.26.0.6</td></tr>\n",
              "<tr><td>H2O cluster version age:</td>\n",
              "<td>3 days </td></tr>\n",
              "<tr><td>H2O cluster name:</td>\n",
              "<td>H2O_from_python_unknownUser_pvg9jz</td></tr>\n",
              "<tr><td>H2O cluster total nodes:</td>\n",
              "<td>1</td></tr>\n",
              "<tr><td>H2O cluster free memory:</td>\n",
              "<td>200 Gb</td></tr>\n",
              "<tr><td>H2O cluster total cores:</td>\n",
              "<td>2</td></tr>\n",
              "<tr><td>H2O cluster allowed cores:</td>\n",
              "<td>2</td></tr>\n",
              "<tr><td>H2O cluster status:</td>\n",
              "<td>accepting new members, healthy</td></tr>\n",
              "<tr><td>H2O connection url:</td>\n",
              "<td>http://127.0.0.1:54321</td></tr>\n",
              "<tr><td>H2O connection proxy:</td>\n",
              "<td>None</td></tr>\n",
              "<tr><td>H2O internal security:</td>\n",
              "<td>False</td></tr>\n",
              "<tr><td>H2O API Extensions:</td>\n",
              "<td>Amazon S3, XGBoost, Algos, AutoML, Core V3, TargetEncoder, Core V4</td></tr>\n",
              "<tr><td>Python version:</td>\n",
              "<td>3.6.8 final</td></tr></table></div>"
            ],
            "text/plain": [
              "--------------------------  ------------------------------------------------------------------\n",
              "H2O cluster uptime:         02 secs\n",
              "H2O cluster timezone:       Etc/UTC\n",
              "H2O data parsing timezone:  UTC\n",
              "H2O cluster version:        3.26.0.6\n",
              "H2O cluster version age:    3 days\n",
              "H2O cluster name:           H2O_from_python_unknownUser_pvg9jz\n",
              "H2O cluster total nodes:    1\n",
              "H2O cluster free memory:    200 Gb\n",
              "H2O cluster total cores:    2\n",
              "H2O cluster allowed cores:  2\n",
              "H2O cluster status:         accepting new members, healthy\n",
              "H2O connection url:         http://127.0.0.1:54321\n",
              "H2O connection proxy:\n",
              "H2O internal security:      False\n",
              "H2O API Extensions:         Amazon S3, XGBoost, Algos, AutoML, Core V3, TargetEncoder, Core V4\n",
              "Python version:             3.6.8 final\n",
              "--------------------------  ------------------------------------------------------------------"
            ]
          },
          "metadata": {
            "tags": []
          }
        }
      ]
    },
    {
      "cell_type": "code",
      "metadata": {
        "id": "t7KoKWcXyRad",
        "colab": {
          "base_uri": "https://localhost:8080/",
          "height": 35
        },
        "outputId": "91464d25-a29e-4894-f8a7-377cfb1a639e"
      },
      "source": [
        "#pandas to h2o frame\n",
        "hf = h2o.H2OFrame(x_train)\n",
        "\n",
        "#alternatively, we can directly import h2o frame instead of converting from pandas\n",
        "#hf = h2o.import_file('dataset/x_train.csv')"
      ],
      "execution_count": null,
      "outputs": [
        {
          "output_type": "stream",
          "text": [
            "Parse progress: |█████████████████████████████████████████████████████████| 100%\n"
          ],
          "name": "stdout"
        }
      ]
    },
    {
      "cell_type": "code",
      "metadata": {
        "id": "5t9H5MsryRaf",
        "colab": {
          "base_uri": "https://localhost:8080/",
          "height": 249
        },
        "outputId": "e3f33ab1-51dc-4c4b-c1a0-09e5a4ac1c64"
      },
      "source": [
        "hf.head()"
      ],
      "execution_count": null,
      "outputs": [
        {
          "output_type": "display_data",
          "data": {
            "text/html": [
              "<table>\n",
              "<thead>\n",
              "<tr><th style=\"text-align: right;\">  vgg_cosine</th><th style=\"text-align: right;\">  vgg_euclidean_l2</th><th style=\"text-align: right;\">  facenet_cosine</th><th style=\"text-align: right;\">  facenet_euclidean_l2</th><th style=\"text-align: right;\">  openface_cosine</th><th style=\"text-align: right;\">  openface_euclidean_l2</th><th style=\"text-align: right;\">  is_related</th></tr>\n",
              "</thead>\n",
              "<tbody>\n",
              "<tr><td style=\"text-align: right;\">    0.461026</td><td style=\"text-align: right;\">          0.960236</td><td style=\"text-align: right;\">        0.759346</td><td style=\"text-align: right;\">              1.23235 </td><td style=\"text-align: right;\">         0.380667</td><td style=\"text-align: right;\">               0.872545</td><td style=\"text-align: right;\">           1</td></tr>\n",
              "<tr><td style=\"text-align: right;\">    0.523298</td><td style=\"text-align: right;\">          1.02303 </td><td style=\"text-align: right;\">        0.820089</td><td style=\"text-align: right;\">              1.28069 </td><td style=\"text-align: right;\">         0.572227</td><td style=\"text-align: right;\">               1.06979 </td><td style=\"text-align: right;\">           1</td></tr>\n",
              "<tr><td style=\"text-align: right;\">    0.57931 </td><td style=\"text-align: right;\">          1.07639 </td><td style=\"text-align: right;\">        0.834568</td><td style=\"text-align: right;\">              1.29195 </td><td style=\"text-align: right;\">         0.411612</td><td style=\"text-align: right;\">               0.907317</td><td style=\"text-align: right;\">           1</td></tr>\n",
              "<tr><td style=\"text-align: right;\">    0.661336</td><td style=\"text-align: right;\">          1.15007 </td><td style=\"text-align: right;\">        1.25314 </td><td style=\"text-align: right;\">              1.58312 </td><td style=\"text-align: right;\">         0.809752</td><td style=\"text-align: right;\">               1.2726  </td><td style=\"text-align: right;\">           0</td></tr>\n",
              "<tr><td style=\"text-align: right;\">    0.380073</td><td style=\"text-align: right;\">          0.871864</td><td style=\"text-align: right;\">        0.419412</td><td style=\"text-align: right;\">              0.915873</td><td style=\"text-align: right;\">         0.386296</td><td style=\"text-align: right;\">               0.878972</td><td style=\"text-align: right;\">           1</td></tr>\n",
              "<tr><td style=\"text-align: right;\">    0.586928</td><td style=\"text-align: right;\">          1.08345 </td><td style=\"text-align: right;\">        0.980849</td><td style=\"text-align: right;\">              1.40061 </td><td style=\"text-align: right;\">         0.791823</td><td style=\"text-align: right;\">               1.25843 </td><td style=\"text-align: right;\">           0</td></tr>\n",
              "<tr><td style=\"text-align: right;\">    0.543978</td><td style=\"text-align: right;\">          1.04305 </td><td style=\"text-align: right;\">        0.900194</td><td style=\"text-align: right;\">              1.34179 </td><td style=\"text-align: right;\">         0.88473 </td><td style=\"text-align: right;\">               1.33021 </td><td style=\"text-align: right;\">           1</td></tr>\n",
              "<tr><td style=\"text-align: right;\">    0.378311</td><td style=\"text-align: right;\">          0.86984 </td><td style=\"text-align: right;\">        0.799367</td><td style=\"text-align: right;\">              1.26441 </td><td style=\"text-align: right;\">         0.467552</td><td style=\"text-align: right;\">               0.967008</td><td style=\"text-align: right;\">           0</td></tr>\n",
              "<tr><td style=\"text-align: right;\">    0.483638</td><td style=\"text-align: right;\">          0.983502</td><td style=\"text-align: right;\">        0.590177</td><td style=\"text-align: right;\">              1.08644 </td><td style=\"text-align: right;\">         0.411636</td><td style=\"text-align: right;\">               0.907343</td><td style=\"text-align: right;\">           1</td></tr>\n",
              "<tr><td style=\"text-align: right;\">    0.874395</td><td style=\"text-align: right;\">          1.32242 </td><td style=\"text-align: right;\">        0.935428</td><td style=\"text-align: right;\">              1.36779 </td><td style=\"text-align: right;\">         1.11803 </td><td style=\"text-align: right;\">               1.49535 </td><td style=\"text-align: right;\">           0</td></tr>\n",
              "</tbody>\n",
              "</table>"
            ]
          },
          "metadata": {
            "tags": []
          }
        },
        {
          "output_type": "execute_result",
          "data": {
            "text/plain": [
              ""
            ]
          },
          "metadata": {
            "tags": []
          },
          "execution_count": 17
        }
      ]
    },
    {
      "cell_type": "code",
      "metadata": {
        "id": "Bam6TS-dyRai"
      },
      "source": [
        "y_label = \"is_related\"\n",
        "x_labels = list(df.drop(columns=[y_label]).columns)"
      ],
      "execution_count": null,
      "outputs": []
    },
    {
      "cell_type": "code",
      "metadata": {
        "id": "5dJaMVn0yRak",
        "colab": {
          "base_uri": "https://localhost:8080/",
          "height": 121
        },
        "outputId": "8ea0eb2f-adbb-4b62-beeb-463fcd353f48"
      },
      "source": [
        "x_labels"
      ],
      "execution_count": null,
      "outputs": [
        {
          "output_type": "execute_result",
          "data": {
            "text/plain": [
              "['vgg_cosine',\n",
              " 'vgg_euclidean_l2',\n",
              " 'facenet_cosine',\n",
              " 'facenet_euclidean_l2',\n",
              " 'openface_cosine',\n",
              " 'openface_euclidean_l2']"
            ]
          },
          "metadata": {
            "tags": []
          },
          "execution_count": 19
        }
      ]
    },
    {
      "cell_type": "code",
      "metadata": {
        "id": "8DQduWAjyRam"
      },
      "source": [
        "#this is a binary classification problem. convert is_related column to enum type instead of numerical\n",
        "#otherwise, it would be a regression problem\n",
        "hf[y_label] = hf[y_label].asfactor()"
      ],
      "execution_count": null,
      "outputs": []
    },
    {
      "cell_type": "code",
      "metadata": {
        "id": "AT9s2N4UyRao"
      },
      "source": [
        "#hf.describe()"
      ],
      "execution_count": null,
      "outputs": []
    },
    {
      "cell_type": "code",
      "metadata": {
        "id": "PV64gN48yRaq"
      },
      "source": [
        "aml = H2OAutoML(max_runtime_secs=60*2)"
      ],
      "execution_count": null,
      "outputs": []
    },
    {
      "cell_type": "code",
      "metadata": {
        "scrolled": true,
        "id": "NE-wm5X_yRat",
        "colab": {
          "base_uri": "https://localhost:8080/",
          "height": 69
        },
        "outputId": "2db00740-f00a-4e95-cc3c-1a576ac1039c"
      },
      "source": [
        "%%time\n",
        "aml.train(x = x_labels, y = y_label, training_frame = hf)"
      ],
      "execution_count": null,
      "outputs": [
        {
          "output_type": "stream",
          "text": [
            "AutoML progress: |████████████████████████████████████████████████████████| 100%\n",
            "CPU times: user 1.04 s, sys: 97.4 ms, total: 1.14 s\n",
            "Wall time: 2min 1s\n"
          ],
          "name": "stdout"
        }
      ]
    },
    {
      "cell_type": "markdown",
      "metadata": {
        "id": "a9SFiO8JyRax"
      },
      "source": [
        "# Leaderboard"
      ]
    },
    {
      "cell_type": "code",
      "metadata": {
        "id": "BDtTUthByRax"
      },
      "source": [
        "lb = aml.leaderboard"
      ],
      "execution_count": null,
      "outputs": []
    },
    {
      "cell_type": "code",
      "metadata": {
        "id": "rmKSfGMJyRaz",
        "colab": {
          "base_uri": "https://localhost:8080/",
          "height": 35
        },
        "outputId": "c432d1aa-27d8-4917-b241-e0ba1b1ebc4b"
      },
      "source": [
        "#lb.head()\n",
        "lb.head(rows=lb.nrows)"
      ],
      "execution_count": null,
      "outputs": [
        {
          "output_type": "stream",
          "text": [
            "This H2OFrame is empty.\n"
          ],
          "name": "stdout"
        },
        {
          "output_type": "execute_result",
          "data": {
            "text/plain": [
              ""
            ]
          },
          "metadata": {
            "tags": []
          },
          "execution_count": 32
        }
      ]
    },
    {
      "cell_type": "code",
      "metadata": {
        "id": "YBpMOa84yRa2",
        "colab": {
          "base_uri": "https://localhost:8080/",
          "height": 310
        },
        "outputId": "f414eee0-bd84-485e-eb30-b739329b712d"
      },
      "source": [
        "saved_model = h2o.save_model(aml.leader, path = \"\", force=True)"
      ],
      "execution_count": null,
      "outputs": [
        {
          "output_type": "error",
          "ename": "H2OTypeError",
          "evalue": "ignored",
          "traceback": [
            "\u001b[0;31m---------------------------------------------------------------------------\u001b[0m",
            "\u001b[0;31mH2OTypeError\u001b[0m                              Traceback (most recent call last)",
            "\u001b[0;32m<ipython-input-33-a4e09c10f0ce>\u001b[0m in \u001b[0;36m<module>\u001b[0;34m()\u001b[0m\n\u001b[0;32m----> 1\u001b[0;31m \u001b[0msaved_model\u001b[0m \u001b[0;34m=\u001b[0m \u001b[0mh2o\u001b[0m\u001b[0;34m.\u001b[0m\u001b[0msave_model\u001b[0m\u001b[0;34m(\u001b[0m\u001b[0maml\u001b[0m\u001b[0;34m.\u001b[0m\u001b[0mleader\u001b[0m\u001b[0;34m,\u001b[0m \u001b[0mpath\u001b[0m \u001b[0;34m=\u001b[0m \u001b[0;34m\"\"\u001b[0m\u001b[0;34m,\u001b[0m \u001b[0mforce\u001b[0m\u001b[0;34m=\u001b[0m\u001b[0;32mTrue\u001b[0m\u001b[0;34m)\u001b[0m\u001b[0;34m\u001b[0m\u001b[0;34m\u001b[0m\u001b[0m\n\u001b[0m",
            "\u001b[0;32m/usr/local/lib/python3.6/dist-packages/h2o/h2o.py\u001b[0m in \u001b[0;36msave_model\u001b[0;34m(model, path, force)\u001b[0m\n\u001b[1;32m   1076\u001b[0m         \u001b[0;34m>>\u001b[0m\u001b[0;34m>\u001b[0m \u001b[0mpath\u001b[0m \u001b[0;34m=\u001b[0m \u001b[0mh2o\u001b[0m\u001b[0;34m.\u001b[0m\u001b[0msave_model\u001b[0m\u001b[0;34m(\u001b[0m\u001b[0mmy_model\u001b[0m\u001b[0;34m,\u001b[0m \u001b[0mdir\u001b[0m\u001b[0;34m=\u001b[0m\u001b[0mmy_path\u001b[0m\u001b[0;34m)\u001b[0m\u001b[0;34m\u001b[0m\u001b[0;34m\u001b[0m\u001b[0m\n\u001b[1;32m   1077\u001b[0m     \"\"\"\n\u001b[0;32m-> 1078\u001b[0;31m     \u001b[0massert_is_type\u001b[0m\u001b[0;34m(\u001b[0m\u001b[0mmodel\u001b[0m\u001b[0;34m,\u001b[0m \u001b[0mModelBase\u001b[0m\u001b[0;34m)\u001b[0m\u001b[0;34m\u001b[0m\u001b[0;34m\u001b[0m\u001b[0m\n\u001b[0m\u001b[1;32m   1079\u001b[0m     \u001b[0massert_is_type\u001b[0m\u001b[0;34m(\u001b[0m\u001b[0mpath\u001b[0m\u001b[0;34m,\u001b[0m \u001b[0mstr\u001b[0m\u001b[0;34m)\u001b[0m\u001b[0;34m\u001b[0m\u001b[0;34m\u001b[0m\u001b[0m\n\u001b[1;32m   1080\u001b[0m     \u001b[0massert_is_type\u001b[0m\u001b[0;34m(\u001b[0m\u001b[0mforce\u001b[0m\u001b[0;34m,\u001b[0m \u001b[0mbool\u001b[0m\u001b[0;34m)\u001b[0m\u001b[0;34m\u001b[0m\u001b[0;34m\u001b[0m\u001b[0m\n",
            "\u001b[0;32m/usr/local/lib/python3.6/dist-packages/h2o/utils/typechecks.py\u001b[0m in \u001b[0;36massert_is_type\u001b[0;34m(var, *types, **kwargs)\u001b[0m\n\u001b[1;32m    455\u001b[0m     \u001b[0mvtn\u001b[0m \u001b[0;34m=\u001b[0m \u001b[0m_get_type_name\u001b[0m\u001b[0;34m(\u001b[0m\u001b[0mtype\u001b[0m\u001b[0;34m(\u001b[0m\u001b[0mvar\u001b[0m\u001b[0;34m)\u001b[0m\u001b[0;34m)\u001b[0m\u001b[0;34m\u001b[0m\u001b[0;34m\u001b[0m\u001b[0m\n\u001b[1;32m    456\u001b[0m     raise H2OTypeError(var_name=vname, var_value=var, var_type_name=vtn, exp_type_name=etn, message=message,\n\u001b[0;32m--> 457\u001b[0;31m                        skip_frames=skip_frames)\n\u001b[0m\u001b[1;32m    458\u001b[0m \u001b[0;34m\u001b[0m\u001b[0m\n\u001b[1;32m    459\u001b[0m \u001b[0;34m\u001b[0m\u001b[0m\n",
            "\u001b[0;31mH2OTypeError\u001b[0m: Argument `model` should be a ModelBase, got NoneType None"
          ]
        }
      ]
    },
    {
      "cell_type": "code",
      "metadata": {
        "id": "0qfxWEGzyRa4"
      },
      "source": [
        "saved_model"
      ],
      "execution_count": null,
      "outputs": []
    },
    {
      "cell_type": "code",
      "metadata": {
        "id": "LLB5MEfqyRa7"
      },
      "source": [
        "#you can directly load the best model by running the load_model command\n",
        "#aml = h2o.load_model(\"/outputs/sefik/kinship/StackedEnsemble_BestOfFamily_AutoML_20190904_051328\")"
      ],
      "execution_count": null,
      "outputs": []
    },
    {
      "cell_type": "markdown",
      "metadata": {
        "id": "skT0b-zOyRa-"
      },
      "source": [
        "# Validation Score"
      ]
    },
    {
      "cell_type": "code",
      "metadata": {
        "id": "2-kbyS8zyRa-"
      },
      "source": [
        "hf_val = h2o.H2OFrame(x_test)"
      ],
      "execution_count": null,
      "outputs": []
    },
    {
      "cell_type": "code",
      "metadata": {
        "id": "QHR7yUHPyRbB"
      },
      "source": [
        "perf = aml.model_performance(hf_val)"
      ],
      "execution_count": null,
      "outputs": []
    },
    {
      "cell_type": "code",
      "metadata": {
        "id": "liHHn2dSyRbD"
      },
      "source": [
        "perf.auc()"
      ],
      "execution_count": null,
      "outputs": []
    },
    {
      "cell_type": "code",
      "metadata": {
        "id": "Qk9nCjfWyRbG"
      },
      "source": [
        "perf.accuracy() [0][1]"
      ],
      "execution_count": null,
      "outputs": []
    }
  ]
}