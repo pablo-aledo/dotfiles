{
  "nbformat": 4,
  "nbformat_minor": 0,
  "metadata": {
    "colab": {
      "name": "COLAB - Model Selection and Assessment.ipynb",
      "provenance": [],
      "toc_visible": true
    },
    "kernelspec": {
      "name": "python3",
      "display_name": "Python 3"
    }
  },
  "cells": [
    {
      "cell_type": "markdown",
      "metadata": {
        "id": "J8tTAMF74xrQ"
      },
      "source": [
        "Adapted by Carlos Toxtli http://www.carlostoxtli.com/#colab-modsel\n",
        "\n",
        "Source: https://github.com/ogrisel/parallel_ml_tutorial/blob/master/notebooks/05%20-%20Model%20Selection%20and%20Assessment.ipynb"
      ]
    },
    {
      "cell_type": "code",
      "metadata": {
        "id": "jZmwQwi79bzb",
        "colab": {
          "base_uri": "https://localhost:8080/",
          "height": 170
        },
        "outputId": "0b323c6b-ca62-4686-a5b4-f8e6f93d1975"
      },
      "source": [
        "!pip install scikit-learn==0.17\n",
        "!pip install scipy==1.1.0\n",
        "!git clone https://github.com/ogrisel/parallel_ml_tutorial.git\n",
        "%cd parallel_ml_tutorial/notebooks"
      ],
      "execution_count": null,
      "outputs": [
        {
          "output_type": "stream",
          "text": [
            "Requirement already satisfied: scikit-learn==0.17 in /usr/local/lib/python3.6/dist-packages (0.17)\n",
            "Requirement already satisfied: scipy==1.1.0 in /usr/local/lib/python3.6/dist-packages (1.1.0)\n",
            "Requirement already satisfied: numpy>=1.8.2 in /usr/local/lib/python3.6/dist-packages (from scipy==1.1.0) (1.16.5)\n",
            "Cloning into 'parallel_ml_tutorial'...\n",
            "remote: Enumerating objects: 1160, done.\u001b[K\n",
            "remote: Total 1160 (delta 0), reused 0 (delta 0), pack-reused 1160\u001b[K\n",
            "Receiving objects: 100% (1160/1160), 4.83 MiB | 28.08 MiB/s, done.\n",
            "Resolving deltas: 100% (781/781), done.\n",
            "/content/parallel_ml_tutorial/notebooks\n"
          ],
          "name": "stdout"
        }
      ]
    },
    {
      "cell_type": "markdown",
      "metadata": {
        "id": "s2BBSnBR4vp_"
      },
      "source": [
        "#Model Selection and Assessment"
      ]
    },
    {
      "cell_type": "markdown",
      "metadata": {
        "id": "ZY3wBgzl4vqC"
      },
      "source": [
        "Outline of the session:\n",
        "\n",
        "- Model performance evaluation and **detection of overfitting with Cross-Validation**\n",
        "- **Hyper parameter tuning** and model selection with Grid Search\n",
        "- Error analysis with **learning curves** and the **Bias-Variance trade-off**\n",
        "- Overfitting via Model Selection and the **Development / Evaluation set split**"
      ]
    },
    {
      "cell_type": "code",
      "metadata": {
        "id": "PAh7Xt4v4vqC",
        "colab": {
          "base_uri": "https://localhost:8080/",
          "height": 34
        },
        "outputId": "16e86e8b-1511-4c5a-acb2-3253f28b56f8"
      },
      "source": [
        "%matplotlib inline\n",
        "import matplotlib.pyplot as plt\n",
        "import numpy as np\n",
        "\n",
        "# Some nice default configuration for plots\n",
        "plt.rcParams['figure.figsize'] = 10, 7.5\n",
        "plt.rcParams['axes.grid'] = True\n",
        "plt.gray()"
      ],
      "execution_count": null,
      "outputs": [
        {
          "output_type": "display_data",
          "data": {
            "text/plain": [
              "<Figure size 720x540 with 0 Axes>"
            ]
          },
          "metadata": {
            "tags": []
          }
        }
      ]
    },
    {
      "cell_type": "markdown",
      "metadata": {
        "id": "x2nN7zS24vqF"
      },
      "source": [
        "##The Hand Written Digits Dataset"
      ]
    },
    {
      "cell_type": "markdown",
      "metadata": {
        "id": "7On05LqD4vqG"
      },
      "source": [
        "Let's load a simple dataset of 8x8 gray level images of handwritten digits (bundled in the sklearn source code):"
      ]
    },
    {
      "cell_type": "code",
      "metadata": {
        "id": "72dkHRc44vqG",
        "colab": {
          "base_uri": "https://localhost:8080/",
          "height": 34
        },
        "outputId": "7114aac7-728a-4b1b-88c2-316d99dfcf96"
      },
      "source": [
        "from sklearn.datasets import load_digits\n",
        "digits = load_digits()\n",
        "list(digits.keys())"
      ],
      "execution_count": null,
      "outputs": [
        {
          "output_type": "execute_result",
          "data": {
            "text/plain": [
              "['data', 'target', 'target_names', 'images', 'DESCR']"
            ]
          },
          "metadata": {
            "tags": []
          },
          "execution_count": 28
        }
      ]
    },
    {
      "cell_type": "code",
      "metadata": {
        "id": "9N7aJU6i4vqJ",
        "colab": {
          "base_uri": "https://localhost:8080/",
          "height": 799
        },
        "outputId": "e1961298-d151-4f93-dbe2-e0f89dceb2ce"
      },
      "source": [
        "print(digits.DESCR)"
      ],
      "execution_count": null,
      "outputs": [
        {
          "output_type": "stream",
          "text": [
            "Optical Recognition of Handwritten Digits Data Set\n",
            "===================================================\n",
            "\n",
            "Notes\n",
            "-----\n",
            "Data Set Characteristics:\n",
            "    :Number of Instances: 5620\n",
            "    :Number of Attributes: 64\n",
            "    :Attribute Information: 8x8 image of integer pixels in the range 0..16.\n",
            "    :Missing Attribute Values: None\n",
            "    :Creator: E. Alpaydin (alpaydin '@' boun.edu.tr)\n",
            "    :Date: July; 1998\n",
            "\n",
            "This is a copy of the test set of the UCI ML hand-written digits datasets\n",
            "http://archive.ics.uci.edu/ml/datasets/Optical+Recognition+of+Handwritten+Digits\n",
            "\n",
            "The data set contains images of hand-written digits: 10 classes where\n",
            "each class refers to a digit.\n",
            "\n",
            "Preprocessing programs made available by NIST were used to extract\n",
            "normalized bitmaps of handwritten digits from a preprinted form. From a\n",
            "total of 43 people, 30 contributed to the training set and different 13\n",
            "to the test set. 32x32 bitmaps are divided into nonoverlapping blocks of\n",
            "4x4 and the number of on pixels are counted in each block. This generates\n",
            "an input matrix of 8x8 where each element is an integer in the range\n",
            "0..16. This reduces dimensionality and gives invariance to small\n",
            "distortions.\n",
            "\n",
            "For info on NIST preprocessing routines, see M. D. Garris, J. L. Blue, G.\n",
            "T. Candela, D. L. Dimmick, J. Geist, P. J. Grother, S. A. Janet, and C.\n",
            "L. Wilson, NIST Form-Based Handprint Recognition System, NISTIR 5469,\n",
            "1994.\n",
            "\n",
            "References\n",
            "----------\n",
            "  - C. Kaynak (1995) Methods of Combining Multiple Classifiers and Their\n",
            "    Applications to Handwritten Digit Recognition, MSc Thesis, Institute of\n",
            "    Graduate Studies in Science and Engineering, Bogazici University.\n",
            "  - E. Alpaydin, C. Kaynak (1998) Cascading Classifiers, Kybernetika.\n",
            "  - Ken Tang and Ponnuthurai N. Suganthan and Xi Yao and A. Kai Qin.\n",
            "    Linear dimensionalityreduction using relevance weighted LDA. School of\n",
            "    Electrical and Electronic Engineering Nanyang Technological University.\n",
            "    2005.\n",
            "  - Claudio Gentile. A New Approximate Maximal Margin Classification\n",
            "    Algorithm. NIPS. 2000.\n",
            "\n"
          ],
          "name": "stdout"
        }
      ]
    },
    {
      "cell_type": "code",
      "metadata": {
        "id": "M0hzSBB54vqM",
        "colab": {
          "base_uri": "https://localhost:8080/",
          "height": 51
        },
        "outputId": "e3d59911-7153-4292-d688-ef8363bd8c61"
      },
      "source": [
        "X, y = digits.data, digits.target\n",
        "\n",
        "print(\"data shape: %r, target shape: %r\" % (X.shape, y.shape))\n",
        "print(\"classes: %r\" % list(np.unique(y)))"
      ],
      "execution_count": null,
      "outputs": [
        {
          "output_type": "stream",
          "text": [
            "data shape: (1797, 64), target shape: (1797,)\n",
            "classes: [0, 1, 2, 3, 4, 5, 6, 7, 8, 9]\n"
          ],
          "name": "stdout"
        }
      ]
    },
    {
      "cell_type": "code",
      "metadata": {
        "id": "gFBr5Fue4vqO",
        "colab": {
          "base_uri": "https://localhost:8080/",
          "height": 51
        },
        "outputId": "f9e9e88d-b270-43b5-ca59-bfcf6c911157"
      },
      "source": [
        "n_samples, n_features = X.shape\n",
        "print(\"n_samples=%d\" % n_samples)\n",
        "print(\"n_features=%d\" % n_features)"
      ],
      "execution_count": null,
      "outputs": [
        {
          "output_type": "stream",
          "text": [
            "n_samples=1797\n",
            "n_features=64\n"
          ],
          "name": "stdout"
        }
      ]
    },
    {
      "cell_type": "code",
      "metadata": {
        "id": "CvknHh8s4vqQ"
      },
      "source": [
        "def plot_gallery(data, labels, shape, interpolation='nearest'):\n",
        "    for i in range(data.shape[0]):\n",
        "        plt.subplot(1, data.shape[0], (i + 1))\n",
        "        plt.imshow(data[i].reshape(shape), interpolation=interpolation)\n",
        "        plt.title(labels[i])\n",
        "        plt.xticks(()), plt.yticks(())"
      ],
      "execution_count": null,
      "outputs": []
    },
    {
      "cell_type": "code",
      "metadata": {
        "id": "Au3oHjs64vqS",
        "colab": {
          "base_uri": "https://localhost:8080/",
          "height": 147
        },
        "outputId": "f0382f51-bb9d-4dbb-b427-486c6c4fcebb"
      },
      "source": [
        "subsample = np.random.permutation(X.shape[0])[:5]\n",
        "images = X[subsample]\n",
        "labels = ['True class: %d' % l for l in y[subsample]]\n",
        "plot_gallery(images, labels, shape=(8, 8))"
      ],
      "execution_count": null,
      "outputs": [
        {
          "output_type": "display_data",
          "data": {
            "image/png": "[encoded data removed]",
            "text/plain": [
              "<Figure size 720x540 with 5 Axes>"
            ]
          },
          "metadata": {
            "tags": []
          }
        }
      ]
    },
    {
      "cell_type": "markdown",
      "metadata": {
        "id": "L_lFK6JG4vqT"
      },
      "source": [
        "Let's visualize the dataset on a 2D plane using a projection on the first 2 axis extracted by Principal Component Analysis:"
      ]
    },
    {
      "cell_type": "code",
      "metadata": {
        "id": "o6R9NEYA4vqU",
        "colab": {
          "base_uri": "https://localhost:8080/",
          "height": 34
        },
        "outputId": "9612fee4-126e-4676-cbc4-8925957d1c27"
      },
      "source": [
        "from sklearn.decomposition import RandomizedPCA\n",
        "\n",
        "pca = RandomizedPCA(n_components=2)\n",
        "X_pca = pca.fit_transform(X)\n",
        "\n",
        "X_pca.shape"
      ],
      "execution_count": null,
      "outputs": [
        {
          "output_type": "execute_result",
          "data": {
            "text/plain": [
              "(1797, 2)"
            ]
          },
          "metadata": {
            "tags": []
          },
          "execution_count": 34
        }
      ]
    },
    {
      "cell_type": "code",
      "metadata": {
        "id": "b8Sp3SNA4vqX",
        "colab": {
          "base_uri": "https://localhost:8080/",
          "height": 459
        },
        "outputId": "21e7fbe7-3ff6-4832-b461-ba1f7da2b9bc"
      },
      "source": [
        "from itertools import cycle\n",
        "\n",
        "colors = ['b', 'g', 'r', 'c', 'm', 'y', 'k']\n",
        "markers = ['+', 'o', '^', 'v', '<', '>', 'D', 'h', 's']\n",
        "for i, c, m in zip(np.unique(y), cycle(colors), cycle(markers)):\n",
        "    plt.scatter(X_pca[y == i, 0], X_pca[y == i, 1],\n",
        "        c=c, marker=m, label=i, alpha=0.5)\n",
        "    \n",
        "_ = plt.legend(loc='best')"
      ],
      "execution_count": null,
      "outputs": [
        {
          "output_type": "display_data",
          "data": {
            "image/png": "[encoded data removed]",
            "text/plain": [
              "<Figure size 720x540 with 1 Axes>"
            ]
          },
          "metadata": {
            "tags": []
          }
        }
      ]
    },
    {
      "cell_type": "markdown",
      "metadata": {
        "id": "s5C-_NID4vqa"
      },
      "source": [
        "We can observe that even in 2D, the groups of digits are quite well separated, especially the digit \"0\" that is very different from any other (the closest being \"6\" as it often share most the left hand side pixels). We can also observe that at least in 2D, there is quite a bit of overlap between the \"1\", \"2\" and \"7\" digits.\n",
        "\n",
        "To better understand the meaning of the \"x\" and \"y\" axes of this plot it is also visualize the values of the first two principal components that are used to compute this projection:"
      ]
    },
    {
      "cell_type": "code",
      "metadata": {
        "id": "I6mgeg0O4vqa",
        "colab": {
          "base_uri": "https://localhost:8080/",
          "height": 304
        },
        "outputId": "77e2fd30-cba2-40a9-c1c2-3ed22c649a8b"
      },
      "source": [
        "labels = ['Component #%d' % i for i in range(len(pca.components_))]\n",
        "plot_gallery(pca.components_, labels, shape=(8, 8))"
      ],
      "execution_count": null,
      "outputs": [
        {
          "output_type": "display_data",
          "data": {
            "image/png": "[encoded data removed]",
            "text/plain": [
              "<Figure size 720x540 with 2 Axes>"
            ]
          },
          "metadata": {
            "tags": []
          }
        }
      ]
    },
    {
      "cell_type": "markdown",
      "metadata": {
        "id": "553AwJwJ4vqe"
      },
      "source": [
        "Has this dataset is small, both in terms of number of samples (1797) and features (64), we can compute the full (untruncated), exact PCA and have a look at the percentage of variance explained by each component of the PCA model:"
      ]
    },
    {
      "cell_type": "code",
      "metadata": {
        "id": "Bozts25O4vqe",
        "colab": {
          "base_uri": "https://localhost:8080/",
          "height": 486
        },
        "outputId": "1e57a6ef-4cea-47ae-c123-2eb356475738"
      },
      "source": [
        "from sklearn.decomposition import PCA\n",
        "\n",
        "pca_big = PCA().fit(X, y)\n",
        "plt.title(\"Explained Variance\")\n",
        "plt.ylabel(\"Percentage of explained variance\")\n",
        "plt.xlabel(\"PCA Components\")\n",
        "plt.plot(pca_big.explained_variance_ratio_);"
      ],
      "execution_count": null,
      "outputs": [
        {
          "output_type": "display_data",
          "data": {
            "image/png": "[encoded data removed]",
            "text/plain": [
              "<Figure size 720x540 with 1 Axes>"
            ]
          },
          "metadata": {
            "tags": []
          }
        }
      ]
    },
    {
      "cell_type": "markdown",
      "metadata": {
        "id": "vEXpGly94vqg"
      },
      "source": [
        "It might be easier to interpret by plotting the cumulated variance by previous components by using the `numpy.cumsum` function:"
      ]
    },
    {
      "cell_type": "code",
      "metadata": {
        "id": "XHsfNQDC4vqh",
        "colab": {
          "base_uri": "https://localhost:8080/",
          "height": 486
        },
        "outputId": "a815fbd1-b53c-496c-813b-a7a3832c5c38"
      },
      "source": [
        "plt.title(\"Cumulated Explained Variance\")\n",
        "plt.ylabel(\"Percentage of explained variance\")\n",
        "plt.xlabel(\"PCA Components\")\n",
        "plt.plot(np.cumsum(pca_big.explained_variance_ratio_));"
      ],
      "execution_count": null,
      "outputs": [
        {
          "output_type": "display_data",
          "data": {
            "image/png": "[encoded data removed]",
            "text/plain": [
              "<Figure size 720x540 with 1 Axes>"
            ]
          },
          "metadata": {
            "tags": []
          }
        }
      ]
    },
    {
      "cell_type": "markdown",
      "metadata": {
        "id": "JXtTYltP4vqj"
      },
      "source": [
        "##Overfitting"
      ]
    },
    {
      "cell_type": "markdown",
      "metadata": {
        "id": "45kncR0B4vqj"
      },
      "source": [
        "Overfitting is the problem of learning the training data by heart and being unable to generalize by making correct predictions on data samples unseen while training."
      ]
    },
    {
      "cell_type": "markdown",
      "metadata": {
        "id": "-Nl6MPHZ4vqk"
      },
      "source": [
        "To illustrate this, let's train a Support Vector Machine naively on the digits dataset:"
      ]
    },
    {
      "cell_type": "code",
      "metadata": {
        "id": "xsmTSTia4vqk",
        "colab": {
          "base_uri": "https://localhost:8080/",
          "height": 34
        },
        "outputId": "88fce388-10be-4bab-c9f4-c40b641415e6"
      },
      "source": [
        "from sklearn.svm import SVC\n",
        "SVC().fit(X, y).score(X, y)"
      ],
      "execution_count": null,
      "outputs": [
        {
          "output_type": "execute_result",
          "data": {
            "text/plain": [
              "1.0"
            ]
          },
          "metadata": {
            "tags": []
          },
          "execution_count": 39
        }
      ]
    },
    {
      "cell_type": "markdown",
      "metadata": {
        "id": "Zz4mNu264vqm"
      },
      "source": [
        "Did we really learn a perfect model that can recognize the correct digit class 100% of the time? **Without new data it's impossible to tell.**\n",
        "\n",
        "Let's start again and split the dataset into two random, non overlapping subsets:"
      ]
    },
    {
      "cell_type": "code",
      "metadata": {
        "id": "XuvmGzIE4vqm",
        "colab": {
          "base_uri": "https://localhost:8080/",
          "height": 51
        },
        "outputId": "fe335e14-b3f6-4073-fe83-162b7dae2522"
      },
      "source": [
        "from sklearn.cross_validation import train_test_split\n",
        "\n",
        "X_train, X_test, y_train, y_test = train_test_split(\n",
        "    X, y, test_size=0.25, random_state=0)\n",
        "\n",
        "print(\"train data shape: %r, train target shape: %r\"\n",
        "      % (X_train.shape, y_train.shape))\n",
        "print(\"test data shape: %r, test target shape: %r\"\n",
        "      % (X_test.shape, y_test.shape))"
      ],
      "execution_count": null,
      "outputs": [
        {
          "output_type": "stream",
          "text": [
            "train data shape: (1347, 64), train target shape: (1347,)\n",
            "test data shape: (450, 64), test target shape: (450,)\n"
          ],
          "name": "stdout"
        }
      ]
    },
    {
      "cell_type": "markdown",
      "metadata": {
        "id": "pUzCykRu4vqo"
      },
      "source": [
        "Let's retrain a new model on the first subset call the **training set**:"
      ]
    },
    {
      "cell_type": "code",
      "metadata": {
        "id": "EKCJLy4q4vqp",
        "colab": {
          "base_uri": "https://localhost:8080/",
          "height": 34
        },
        "outputId": "506483ce-ee1f-4733-ed0f-ec383823a9e5"
      },
      "source": [
        "svc = SVC(kernel='rbf').fit(X_train, y_train)\n",
        "train_score = svc.score(X_train, y_train) \n",
        "train_score"
      ],
      "execution_count": null,
      "outputs": [
        {
          "output_type": "execute_result",
          "data": {
            "text/plain": [
              "1.0"
            ]
          },
          "metadata": {
            "tags": []
          },
          "execution_count": 41
        }
      ]
    },
    {
      "cell_type": "markdown",
      "metadata": {
        "id": "zwwi53qg4vqs"
      },
      "source": [
        "We can now compute the performance of the model on new, held out data from the **test set**:"
      ]
    },
    {
      "cell_type": "code",
      "metadata": {
        "id": "YHWBySVZ4vqs",
        "colab": {
          "base_uri": "https://localhost:8080/",
          "height": 34
        },
        "outputId": "07bab8ba-d1a6-4b8a-f2be-4b599e86d3d0"
      },
      "source": [
        "test_score = svc.score(X_test, y_test)\n",
        "test_score"
      ],
      "execution_count": null,
      "outputs": [
        {
          "output_type": "execute_result",
          "data": {
            "text/plain": [
              "0.4866666666666667"
            ]
          },
          "metadata": {
            "tags": []
          },
          "execution_count": 42
        }
      ]
    },
    {
      "cell_type": "markdown",
      "metadata": {
        "id": "p070sV4Q4vqu"
      },
      "source": [
        "This score is clearly not as good as expected! The model cannot generalize so well to new, unseen data.\n",
        "\n",
        "- Whenever the **test** data score is **not as good as** the **train** score the model is **overfitting**\n",
        "\n",
        "- Whenever the **train score is not close to 100%** accuracy the model is **underfitting**\n",
        "\n",
        "Ideally **we want to neither overfit nor underfit**: `test_score ~= train_score ~= 1.0`. "
      ]
    },
    {
      "cell_type": "markdown",
      "metadata": {
        "id": "gDh2rFWm4vqw"
      },
      "source": [
        "The previous example failed to generalized well to test data because we naively used the default parameters of the `SVC` class:"
      ]
    },
    {
      "cell_type": "code",
      "metadata": {
        "id": "ABKVyGd74vqx",
        "colab": {
          "base_uri": "https://localhost:8080/",
          "height": 85
        },
        "outputId": "04ad2034-5232-4f47-eade-54dd15475e61"
      },
      "source": [
        "svc"
      ],
      "execution_count": null,
      "outputs": [
        {
          "output_type": "execute_result",
          "data": {
            "text/plain": [
              "SVC(C=1.0, cache_size=200, class_weight=None, coef0=0.0,\n",
              "  decision_function_shape=None, degree=3, gamma='auto', kernel='rbf',\n",
              "  max_iter=-1, probability=False, random_state=None, shrinking=True,\n",
              "  tol=0.001, verbose=False)"
            ]
          },
          "metadata": {
            "tags": []
          },
          "execution_count": 43
        }
      ]
    },
    {
      "cell_type": "markdown",
      "metadata": {
        "id": "PKVpJmLm4vq0"
      },
      "source": [
        "Let's try again with another parameterization:"
      ]
    },
    {
      "cell_type": "code",
      "metadata": {
        "id": "580ulNHJ4vq1",
        "colab": {
          "base_uri": "https://localhost:8080/",
          "height": 85
        },
        "outputId": "0f744ad3-093f-4678-bfd4-3b1e0047b0ad"
      },
      "source": [
        "svc_2 = SVC(kernel='rbf', C=100, gamma=0.001).fit(X_train, y_train)\n",
        "svc_2"
      ],
      "execution_count": null,
      "outputs": [
        {
          "output_type": "execute_result",
          "data": {
            "text/plain": [
              "SVC(C=100, cache_size=200, class_weight=None, coef0=0.0,\n",
              "  decision_function_shape=None, degree=3, gamma=0.001, kernel='rbf',\n",
              "  max_iter=-1, probability=False, random_state=None, shrinking=True,\n",
              "  tol=0.001, verbose=False)"
            ]
          },
          "metadata": {
            "tags": []
          },
          "execution_count": 44
        }
      ]
    },
    {
      "cell_type": "code",
      "metadata": {
        "id": "0pFugPK04vq3",
        "colab": {
          "base_uri": "https://localhost:8080/",
          "height": 34
        },
        "outputId": "686a76ad-fc83-4168-e5fb-9b25dd0c0b00"
      },
      "source": [
        "svc_2.score(X_train, y_train)"
      ],
      "execution_count": null,
      "outputs": [
        {
          "output_type": "execute_result",
          "data": {
            "text/plain": [
              "1.0"
            ]
          },
          "metadata": {
            "tags": []
          },
          "execution_count": 45
        }
      ]
    },
    {
      "cell_type": "code",
      "metadata": {
        "id": "VxAe5Pn84vq4",
        "colab": {
          "base_uri": "https://localhost:8080/",
          "height": 34
        },
        "outputId": "babf0f1c-9254-4097-b371-d52e8350eb25"
      },
      "source": [
        "svc_2.score(X_test, y_test)"
      ],
      "execution_count": null,
      "outputs": [
        {
          "output_type": "execute_result",
          "data": {
            "text/plain": [
              "0.9933333333333333"
            ]
          },
          "metadata": {
            "tags": []
          },
          "execution_count": 46
        }
      ]
    },
    {
      "cell_type": "markdown",
      "metadata": {
        "id": "cG5qeKVc4vq7"
      },
      "source": [
        "In this case the model is almost perfectly able to generalize, at least according to our random train, test split."
      ]
    },
    {
      "cell_type": "markdown",
      "metadata": {
        "id": "ulLgLhvK4vq7"
      },
      "source": [
        "##Cross Validation"
      ]
    },
    {
      "cell_type": "markdown",
      "metadata": {
        "id": "n5A40XxC4vq8"
      },
      "source": [
        "Cross Validation is a procedure to repeat the train / test split several times to as to get a more accurate estimate of the real test score by averaging the values found of the individual runs.\n",
        "\n",
        "The `sklearn.cross_validation` package provides many strategies to compute such splits using class that implement the python iterator API:"
      ]
    },
    {
      "cell_type": "code",
      "metadata": {
        "id": "fAEKk3-S4vq9",
        "colab": {
          "base_uri": "https://localhost:8080/",
          "height": 272
        },
        "outputId": "d861d8d3-c588-4466-ae3d-23f3d05f3c06"
      },
      "source": [
        "from sklearn.cross_validation import ShuffleSplit\n",
        "\n",
        "cv = ShuffleSplit(n_samples, n_iter=3, test_size=0.1,\n",
        "    random_state=0)\n",
        "\n",
        "for cv_index, (train, test) in enumerate(cv):\n",
        "    print(\"# Cross Validation Iteration #%d\" % cv_index)\n",
        "    print(\"train indices: {0}...\".format(train[:10]))\n",
        "    print(\"test indices: {0}...\".format(test[:10]))\n",
        "    \n",
        "    svc = SVC(kernel=\"rbf\", C=1, gamma=0.001).fit(X[train], y[train])\n",
        "    print(\"train score: {0:.3f}, test score: {1:.3f}\\n\".format(\n",
        "        svc.score(X[train], y[train]), svc.score(X[test], y[test])))"
      ],
      "execution_count": null,
      "outputs": [
        {
          "output_type": "stream",
          "text": [
            "# Cross Validation Iteration #0\n",
            "train indices: [ 353    5   58 1349 1025  575 1074 1110 1745  689]...\n",
            "test indices: [1081 1707  927  713  262  182  303  895  933 1266]...\n",
            "train score: 0.999, test score: 0.989\n",
            "\n",
            "# Cross Validation Iteration #1\n",
            "train indices: [1336  608  977   22  526 1587 1130  569 1481  962]...\n",
            "test indices: [1014  755 1633  117  181  501  948 1076   45  659]...\n",
            "train score: 0.998, test score: 0.994\n",
            "\n",
            "# Cross Validation Iteration #2\n",
            "train indices: [ 451  409  911 1551  133  691 1306  111  852  825]...\n",
            "test indices: [ 795  697  655  573  412  743  635  851 1466 1383]...\n",
            "train score: 0.999, test score: 0.994\n",
            "\n"
          ],
          "name": "stdout"
        }
      ]
    },
    {
      "cell_type": "markdown",
      "metadata": {
        "id": "O2QDytDP4vq-"
      },
      "source": [
        "Instead of doing the above manually, `sklearn.cross_validation` provides a little utility function to compute the cross validated test scores automatically:"
      ]
    },
    {
      "cell_type": "code",
      "metadata": {
        "id": "auuGJlHB4vq_",
        "colab": {
          "base_uri": "https://localhost:8080/",
          "height": 51
        },
        "outputId": "0b105ce3-7df0-488f-82b9-86383ccba0b5"
      },
      "source": [
        "from sklearn.cross_validation import cross_val_score\n",
        "\n",
        "svc = SVC(kernel=\"rbf\", C=1, gamma=0.001)\n",
        "cv = ShuffleSplit(n_samples, n_iter=10, test_size=0.1,\n",
        "    random_state=0)\n",
        "\n",
        "test_scores = cross_val_score(svc, X, y, cv=cv, n_jobs=2)\n",
        "test_scores"
      ],
      "execution_count": null,
      "outputs": [
        {
          "output_type": "execute_result",
          "data": {
            "text/plain": [
              "array([0.98888889, 0.99444444, 0.99444444, 0.99444444, 0.99444444,\n",
              "       0.99444444, 0.98888889, 0.99444444, 0.98888889, 1.        ])"
            ]
          },
          "metadata": {
            "tags": []
          },
          "execution_count": 48
        }
      ]
    },
    {
      "cell_type": "code",
      "metadata": {
        "id": "j9O7dMFV4vrA"
      },
      "source": [
        "from scipy.stats import sem\n",
        "\n",
        "def mean_score(scores):\n",
        "    \"\"\"Print the empirical mean score and standard error of the mean.\"\"\"\n",
        "    return (\"Mean score: {0:.3f} (+/-{1:.3f})\").format(\n",
        "        np.mean(scores), 2 * sem(scores))"
      ],
      "execution_count": null,
      "outputs": []
    },
    {
      "cell_type": "code",
      "metadata": {
        "id": "wq5IV4tG4vrB",
        "colab": {
          "base_uri": "https://localhost:8080/",
          "height": 34
        },
        "outputId": "313a2f23-88b6-41e5-be4d-9eb5e32f5992"
      },
      "source": [
        "print(mean_score(test_scores))"
      ],
      "execution_count": null,
      "outputs": [
        {
          "output_type": "stream",
          "text": [
            "Mean score: 0.993 (+/-0.002)\n"
          ],
          "name": "stdout"
        }
      ]
    },
    {
      "cell_type": "markdown",
      "metadata": {
        "id": "huRx5wm84vrD"
      },
      "source": [
        "**Exercise:** \n",
        "\n",
        "- Perform 50 iterations of cross validation with randomly sampled folds of 500 training samples and 500 test samples randomly sampled from `X` and `y` (use `sklearn.cross_validation.ShuffleSplit`).\n",
        "- Try with `SVC(C=1, gamma=0.01)`\n",
        "- Plot distribution the test error using an histogram with 50 bins.\n",
        "- Try to increase the training size\n",
        "- Retry with `SVC(C=10, gamma=0.005)`, then `SVC(C=10, gamma=0.001)` with 500 samples.\n",
        "\n",
        "- Optional: use a smoothed kernel density estimation `scipy.stats.kde.gaussian_kde` instead of an histogram to visualize the test error distribution.\n",
        "\n",
        "Hints, type:\n",
        "\n",
        "    from sklearn.cross_validation import ShuffleSplit\n",
        "    ShuffleSplit?  # to read the docstring of the shuffle split\n",
        "    plt.hist?  # to read the docstring of the histogram plot\n"
      ]
    },
    {
      "cell_type": "code",
      "metadata": {
        "id": "UUp7aQcA4vrF"
      },
      "source": [
        "%load solutions/05A_large_cross_validation.py"
      ],
      "execution_count": null,
      "outputs": []
    },
    {
      "cell_type": "code",
      "metadata": {
        "id": "lGul9ZlE4vrG"
      },
      "source": [
        ""
      ],
      "execution_count": null,
      "outputs": []
    },
    {
      "cell_type": "code",
      "metadata": {
        "id": "gjy9hJzf4vrI"
      },
      "source": [
        "%load solutions/05B_cross_validation_score_histogram.py"
      ],
      "execution_count": null,
      "outputs": []
    },
    {
      "cell_type": "markdown",
      "metadata": {
        "id": "5UHSaPxg4vrK"
      },
      "source": [
        "##Model Selection with Grid Search"
      ]
    },
    {
      "cell_type": "markdown",
      "metadata": {
        "id": "2u9r7q4S4vrK"
      },
      "source": [
        "Cross Validation makes it possible to evaluate the performance of a model class and its hyper parameters on the task at hand.\n",
        "\n",
        "A natural extension is thus to run CV several times for various values of the parameters so as to find the best. For instance, let's fix the SVC parameter to `C=10` and compute the cross validated test score for various values of `gamma`:"
      ]
    },
    {
      "cell_type": "code",
      "metadata": {
        "id": "16CbLxgJ4vrL"
      },
      "source": [
        "n_gammas = 10\n",
        "n_iter = 5\n",
        "cv = ShuffleSplit(n_samples, n_iter=n_iter, train_size=500, test_size=500,\n",
        "    random_state=0)\n",
        "\n",
        "train_scores = np.zeros((n_gammas, n_iter))\n",
        "test_scores = np.zeros((n_gammas, n_iter))\n",
        "gammas = np.logspace(-7, -1, n_gammas)\n",
        "\n",
        "for i, gamma in enumerate(gammas):\n",
        "    for j, (train, test) in enumerate(cv):\n",
        "        clf = SVC(C=10, gamma=gamma).fit(X[train], y[train])\n",
        "        train_scores[i, j] = clf.score(X[train], y[train])\n",
        "        test_scores[i, j] = clf.score(X[test], y[test])"
      ],
      "execution_count": null,
      "outputs": []
    },
    {
      "cell_type": "code",
      "metadata": {
        "id": "7YyREeoa4vrO",
        "colab": {
          "base_uri": "https://localhost:8080/",
          "height": 489
        },
        "outputId": "08d11425-59b8-4b7a-9ee8-a07aeeeeceb5"
      },
      "source": [
        "def plot_validation_curves(param_values, train_scores, test_scores):\n",
        "    for i in range(train_scores.shape[1]):\n",
        "        plt.semilogx(param_values, train_scores[:, i], alpha=0.4, lw=2, c='b')\n",
        "        plt.semilogx(param_values, test_scores[:, i], alpha=0.4, lw=2, c='g')\n",
        "\n",
        "plot_validation_curves(gammas, train_scores, test_scores)\n",
        "plt.ylabel(\"score for SVC(C=10, gamma=gamma)\")\n",
        "plt.xlabel(\"gamma\")\n",
        "plt.text(1e-6, 0.5, \"Underfitting\", fontsize=16, ha='center', va='bottom')\n",
        "plt.text(1e-4, 0.5, \"Good\", fontsize=16, ha='center', va='bottom')\n",
        "plt.text(1e-2, 0.5, \"Overfitting\", fontsize=16, ha='center', va='bottom')\n",
        "plt.title('Validation curves for the gamma parameter');"
      ],
      "execution_count": null,
      "outputs": [
        {
          "output_type": "display_data",
          "data": {
            "image/png": "[encoded data removed]",
            "text/plain": [
              "<Figure size 720x540 with 1 Axes>"
            ]
          },
          "metadata": {
            "tags": []
          }
        }
      ]
    },
    {
      "cell_type": "markdown",
      "metadata": {
        "id": "POTnNX0c4vrP"
      },
      "source": [
        "We can see that, **for this model class, on this unscaled dataset**: when `C=10`, **there is a sweet spot region for gamma around $10^4$ to $10^3$**. Both the train and test scores are high (low errors).\n",
        "\n",
        "- If **gamma is too low, train score is low** (and thus test scores too as it generally cannot be better than the train score): the model is not expressive enough to represent the data: the model is in an **underfitting regime**.\n",
        "        \n",
        "- If **gamma is too high**, train score is ok but there is a high discrepency between test and train score. The model is learning the training data and its noise by heart and fails to generalize to new unseen data: the model is in an **overfitting regime**.\n",
        "\n",
        "Note: scikit-learn provides tools to compute such curves easily, we can do the same kind analysis to identify good values for C when gamma is fixed to $10^3$:"
      ]
    },
    {
      "cell_type": "code",
      "metadata": {
        "id": "X6aLVg434vrQ"
      },
      "source": [
        "from sklearn.learning_curve import validation_curve\n",
        "\n",
        "n_Cs = 10\n",
        "Cs = np.logspace(-5, 5, n_Cs)\n",
        "\n",
        "train_scores, test_scores = validation_curve(\n",
        "    SVC(gamma=1e-3), X, y, 'C', Cs, cv=cv)"
      ],
      "execution_count": null,
      "outputs": []
    },
    {
      "cell_type": "code",
      "metadata": {
        "id": "zqLn5_CJ4vrS",
        "colab": {
          "base_uri": "https://localhost:8080/",
          "height": 489
        },
        "outputId": "d5a4a5cb-1fbd-45b1-bade-349b8f069d66"
      },
      "source": [
        "plot_validation_curves(Cs, train_scores, test_scores)\n",
        "plt.ylabel(\"score for SVC(C=C, gamma=1e-3)\")\n",
        "plt.xlabel(\"C\")\n",
        "plt.text(1e-3, 0.5, \"Underfitting\", fontsize=16, ha='center', va='bottom')\n",
        "plt.text(1e3, 0.5, \"Few Overfitting\", fontsize=16, ha='center', va='bottom')\n",
        "plt.title('Validation curves for the C parameter');"
      ],
      "execution_count": null,
      "outputs": [
        {
          "output_type": "display_data",
          "data": {
            "image/png": "[encoded data removed]",
            "text/plain": [
              "<Figure size 720x540 with 1 Axes>"
            ]
          },
          "metadata": {
            "tags": []
          }
        }
      ]
    },
    {
      "cell_type": "markdown",
      "metadata": {
        "id": "Pbot4e6F4vrT"
      },
      "source": [
        "Doing this procedure several for each parameter combination is tedious, hence it's possible to automate the procedure by computing the test score for all possible combinations of parameters using the `GridSearchCV` helper."
      ]
    },
    {
      "cell_type": "code",
      "metadata": {
        "id": "PRDGq_484vrU"
      },
      "source": [
        "from sklearn.grid_search import GridSearchCV\n",
        "#help(GridSearchCV)"
      ],
      "execution_count": null,
      "outputs": []
    },
    {
      "cell_type": "code",
      "metadata": {
        "id": "v2mb2JNf4vrV",
        "colab": {
          "base_uri": "https://localhost:8080/",
          "height": 51
        },
        "outputId": "f0ef2d5f-6e43-441e-b0d7-2c9c8eec70fb"
      },
      "source": [
        "from pprint import pprint\n",
        "svc_params = {\n",
        "    'C': np.logspace(-1, 2, 4),\n",
        "    'gamma': np.logspace(-4, 0, 5),\n",
        "}\n",
        "pprint(svc_params)"
      ],
      "execution_count": null,
      "outputs": [
        {
          "output_type": "stream",
          "text": [
            "{'C': array([  0.1,   1. ,  10. , 100. ]),\n",
            " 'gamma': array([1.e-04, 1.e-03, 1.e-02, 1.e-01, 1.e+00])}\n"
          ],
          "name": "stdout"
        }
      ]
    },
    {
      "cell_type": "markdown",
      "metadata": {
        "id": "9zbptxQ54vrX"
      },
      "source": [
        "As Grid Search is a costly procedure, let's do the some experiments with a smaller dataset:"
      ]
    },
    {
      "cell_type": "code",
      "metadata": {
        "id": "_HdtWLBq4vrY"
      },
      "source": [
        "n_subsamples = 500\n",
        "X_small_train, y_small_train = X_train[:n_subsamples], y_train[:n_subsamples]"
      ],
      "execution_count": null,
      "outputs": []
    },
    {
      "cell_type": "code",
      "metadata": {
        "id": "mvQn_ms94vrZ",
        "colab": {
          "base_uri": "https://localhost:8080/",
          "height": 51
        },
        "outputId": "99a2524a-7722-44a8-b95d-a963ac24e1f5"
      },
      "source": [
        "gs_svc = GridSearchCV(SVC(), svc_params, cv=3, n_jobs=-1)\n",
        "\n",
        "%time _ = gs_svc.fit(X_small_train, y_small_train)"
      ],
      "execution_count": null,
      "outputs": [
        {
          "output_type": "stream",
          "text": [
            "CPU times: user 180 ms, sys: 24.5 ms, total: 205 ms\n",
            "Wall time: 1.57 s\n"
          ],
          "name": "stdout"
        }
      ]
    },
    {
      "cell_type": "code",
      "metadata": {
        "id": "atH7icMC4vre",
        "colab": {
          "base_uri": "https://localhost:8080/",
          "height": 34
        },
        "outputId": "274627cf-1377-4229-90f2-287806bca02b"
      },
      "source": [
        "gs_svc.best_params_, gs_svc.best_score_"
      ],
      "execution_count": null,
      "outputs": [
        {
          "output_type": "execute_result",
          "data": {
            "text/plain": [
              "({'C': 10.0, 'gamma': 0.001}, 0.976)"
            ]
          },
          "metadata": {
            "tags": []
          },
          "execution_count": 61
        }
      ]
    },
    {
      "cell_type": "code",
      "metadata": {
        "id": "iFyD3-jE4vrg",
        "colab": {
          "base_uri": "https://localhost:8080/",
          "height": 357
        },
        "outputId": "38c74f4e-2664-4ec1-acf4-ba58ac2e6dcc"
      },
      "source": [
        "gs_svc.grid_scores_"
      ],
      "execution_count": null,
      "outputs": [
        {
          "output_type": "execute_result",
          "data": {
            "text/plain": [
              "[mean: 0.16200, std: 0.02588, params: {'C': 0.1, 'gamma': 0.0001},\n",
              " mean: 0.71000, std: 0.03978, params: {'C': 0.1, 'gamma': 0.001},\n",
              " mean: 0.12800, std: 0.00161, params: {'C': 0.1, 'gamma': 0.01},\n",
              " mean: 0.12800, std: 0.00161, params: {'C': 0.1, 'gamma': 0.1},\n",
              " mean: 0.12800, std: 0.00161, params: {'C': 0.1, 'gamma': 1.0},\n",
              " mean: 0.93800, std: 0.00586, params: {'C': 1.0, 'gamma': 0.0001},\n",
              " mean: 0.96600, std: 0.00295, params: {'C': 1.0, 'gamma': 0.001},\n",
              " mean: 0.26600, std: 0.02009, params: {'C': 1.0, 'gamma': 0.01},\n",
              " mean: 0.12800, std: 0.00161, params: {'C': 1.0, 'gamma': 0.1},\n",
              " mean: 0.12800, std: 0.00161, params: {'C': 1.0, 'gamma': 1.0},\n",
              " mean: 0.97000, std: 0.00466, params: {'C': 10.0, 'gamma': 0.0001},\n",
              " mean: 0.97600, std: 0.00041, params: {'C': 10.0, 'gamma': 0.001},\n",
              " mean: 0.32600, std: 0.02186, params: {'C': 10.0, 'gamma': 0.01},\n",
              " mean: 0.12800, std: 0.00161, params: {'C': 10.0, 'gamma': 0.1},\n",
              " mean: 0.12800, std: 0.00161, params: {'C': 10.0, 'gamma': 1.0},\n",
              " mean: 0.96000, std: 0.00730, params: {'C': 100.0, 'gamma': 0.0001},\n",
              " mean: 0.97600, std: 0.00041, params: {'C': 100.0, 'gamma': 0.001},\n",
              " mean: 0.32600, std: 0.02186, params: {'C': 100.0, 'gamma': 0.01},\n",
              " mean: 0.12800, std: 0.00161, params: {'C': 100.0, 'gamma': 0.1},\n",
              " mean: 0.12800, std: 0.00161, params: {'C': 100.0, 'gamma': 1.0}]"
            ]
          },
          "metadata": {
            "tags": []
          },
          "execution_count": 62
        }
      ]
    },
    {
      "cell_type": "code",
      "metadata": {
        "id": "O3htxp8v4vrh",
        "colab": {
          "base_uri": "https://localhost:8080/",
          "height": 34
        },
        "outputId": "c1d2342a-9406-47f6-dc1c-a2e27f0e050f"
      },
      "source": [
        "first_score = gs_svc.grid_scores_[0]\n",
        "first_score"
      ],
      "execution_count": null,
      "outputs": [
        {
          "output_type": "execute_result",
          "data": {
            "text/plain": [
              "mean: 0.16200, std: 0.02588, params: {'C': 0.1, 'gamma': 0.0001}"
            ]
          },
          "metadata": {
            "tags": []
          },
          "execution_count": 63
        }
      ]
    },
    {
      "cell_type": "code",
      "metadata": {
        "id": "fAqXCmtl4vri"
      },
      "source": [
        "#dict(vars(first_score))"
      ],
      "execution_count": null,
      "outputs": []
    },
    {
      "cell_type": "markdown",
      "metadata": {
        "id": "HsxYNbhL4vrl"
      },
      "source": [
        "Let's define a couple of helper function to help us introspect the details of the grid search outcome:"
      ]
    },
    {
      "cell_type": "code",
      "metadata": {
        "id": "nVa7dnEI4vrm"
      },
      "source": [
        "def display_scores(params, scores, append_star=False):\n",
        "    \"\"\"Format the mean score +/- std error for params\"\"\"\n",
        "    params = \", \".join(\"{0}={1}\".format(k, v)\n",
        "                      for k, v in params.items())\n",
        "    line = \"{0}:\\t{1:.3f} (+/-{2:.3f})\".format(\n",
        "        params, np.mean(scores), sem(scores))\n",
        "    if append_star:\n",
        "        line += \" *\"\n",
        "    return line\n",
        "\n",
        "def display_grid_scores(grid_scores, top=None):\n",
        "    \"\"\"Helper function to format a report on a grid of scores\"\"\"\n",
        "    \n",
        "    grid_scores = sorted(grid_scores, key=lambda x: x[1], reverse=True)\n",
        "    if top is not None:\n",
        "        grid_scores = grid_scores[:top]\n",
        "        \n",
        "    # Compute a threshold for staring models with overlapping\n",
        "    # stderr:\n",
        "    _, best_mean, best_scores = grid_scores[0]\n",
        "    threshold = best_mean - 2 * sem(best_scores)\n",
        "    \n",
        "    for params, mean_score, scores in grid_scores:\n",
        "        append_star = mean_score + 2 * sem(scores) > threshold\n",
        "        print(display_scores(params, scores, append_star=append_star))"
      ],
      "execution_count": null,
      "outputs": []
    },
    {
      "cell_type": "code",
      "metadata": {
        "id": "AZnIuiKA4vrp",
        "colab": {
          "base_uri": "https://localhost:8080/",
          "height": 357
        },
        "outputId": "05cbbae4-040a-4dd2-8019-5cbdab44aefc"
      },
      "source": [
        "display_grid_scores(gs_svc.grid_scores_, top=20)"
      ],
      "execution_count": null,
      "outputs": [
        {
          "output_type": "stream",
          "text": [
            "C=10.0, gamma=0.001:\t0.976 (+/-0.000) *\n",
            "C=100.0, gamma=0.001:\t0.976 (+/-0.000) *\n",
            "C=10.0, gamma=0.0001:\t0.970 (+/-0.003) *\n",
            "C=1.0, gamma=0.001:\t0.966 (+/-0.002)\n",
            "C=100.0, gamma=0.0001:\t0.960 (+/-0.005)\n",
            "C=1.0, gamma=0.0001:\t0.938 (+/-0.004)\n",
            "C=0.1, gamma=0.001:\t0.711 (+/-0.028)\n",
            "C=10.0, gamma=0.01:\t0.326 (+/-0.015)\n",
            "C=100.0, gamma=0.01:\t0.326 (+/-0.015)\n",
            "C=1.0, gamma=0.01:\t0.266 (+/-0.014)\n",
            "C=0.1, gamma=0.0001:\t0.162 (+/-0.018)\n",
            "C=0.1, gamma=0.01:\t0.128 (+/-0.001)\n",
            "C=0.1, gamma=0.1:\t0.128 (+/-0.001)\n",
            "C=0.1, gamma=1.0:\t0.128 (+/-0.001)\n",
            "C=1.0, gamma=0.1:\t0.128 (+/-0.001)\n",
            "C=1.0, gamma=1.0:\t0.128 (+/-0.001)\n",
            "C=10.0, gamma=0.1:\t0.128 (+/-0.001)\n",
            "C=10.0, gamma=1.0:\t0.128 (+/-0.001)\n",
            "C=100.0, gamma=0.1:\t0.128 (+/-0.001)\n",
            "C=100.0, gamma=1.0:\t0.128 (+/-0.001)\n"
          ],
          "name": "stdout"
        }
      ]
    },
    {
      "cell_type": "markdown",
      "metadata": {
        "id": "E4FbbwY54vrq"
      },
      "source": [
        "One can see that Support Vector Machine with RBF kernel are very sensitive wrt. the `gamma` parameter (the badwith of the kernel) and to some lesser extend to the `C` parameter as well. If those parameter are not grid searched, the predictive accurracy of the support vector machine is almost no better than random guessing!"
      ]
    },
    {
      "cell_type": "markdown",
      "metadata": {
        "id": "AuVHl4Lz4vrr"
      },
      "source": [
        "By default, the `GridSearchCV` class refits a final model on the complete training set with the best parameters found by during the grid search:"
      ]
    },
    {
      "cell_type": "code",
      "metadata": {
        "id": "MwrXHG484vrr",
        "colab": {
          "base_uri": "https://localhost:8080/",
          "height": 34
        },
        "outputId": "d461817a-ccfc-4e95-a7a4-979a9bb6e40b"
      },
      "source": [
        "gs_svc.score(X_test, y_test)"
      ],
      "execution_count": null,
      "outputs": [
        {
          "output_type": "execute_result",
          "data": {
            "text/plain": [
              "0.9866666666666667"
            ]
          },
          "metadata": {
            "tags": []
          },
          "execution_count": 68
        }
      ]
    },
    {
      "cell_type": "markdown",
      "metadata": {
        "id": "YbrBCAMx4vrt"
      },
      "source": [
        "Evaluating this final model on the real test set will often yield a better score because of the larger training set, especially when the training set is small and the number of cross validation folds is small (`cv=3` here)."
      ]
    },
    {
      "cell_type": "markdown",
      "metadata": {
        "id": "gP-MYoaZ4vru"
      },
      "source": [
        "**Exercise**:\n",
        "\n",
        "1. Find a set of parameters for an `sklearn.tree.DecisionTreeClassifier` on the `X_small_train` / `y_small_train` digits dataset to reach at least 75% accuracy on the sample dataset (500 training samples)\n",
        "2. In particular you can grid search good values for `criterion`, `min_samples_split` and `max_depth`\n",
        "3. Which parameter(s) seems to be the most important to tune?\n",
        "4. Retry with `sklearn.ensemble.ExtraTreesClassifier(n_estimators=30)` which is a randomized ensemble of decision trees. Does the parameters that make the single trees work best also make the ensemble model work best?\n",
        "\n",
        "Hints:\n",
        "\n",
        "- If the outcome of the grid search is too instable (overlapping std errors), increase the number of CV folds with `cv` constructor parameter. The default value is `cv=3`. Increasing it to `cv=5` or `cv=10` often yield more stable results but at the price of longer evaluation times.\n",
        "- Start with a small grid, e.g. 2 values `criterion` and 3 for `min_samples_split` only to avoid having to wait for too long at first.\n",
        "\n",
        "Type:\n",
        "\n",
        "    from sklearn.tree.DecisionTreeClassifier\n",
        "    DecisionTreeClassifier?  # to read the docstring and know the list of important parameters\n",
        "    print(DecisionTreeClassifier())  # to show the list of default values\n",
        "\n",
        "    from sklearn.ensemble.ExtraTreesClassifier\n",
        "    ExtraTreesClassifier? \n",
        "    print(ExtraTreesClassifier())"
      ]
    },
    {
      "cell_type": "markdown",
      "metadata": {
        "id": "P01tIlzp4vru"
      },
      "source": [
        "**Solution**:"
      ]
    },
    {
      "cell_type": "code",
      "metadata": {
        "id": "UMqRVm684vru",
        "colab": {
          "base_uri": "https://localhost:8080/",
          "height": 85
        },
        "outputId": "188c866b-9105-45fc-c70e-f3d4746d7311"
      },
      "source": [
        "from sklearn.tree import DecisionTreeClassifier\n",
        "DecisionTreeClassifier()"
      ],
      "execution_count": null,
      "outputs": [
        {
          "output_type": "execute_result",
          "data": {
            "text/plain": [
              "DecisionTreeClassifier(class_weight=None, criterion='gini', max_depth=None,\n",
              "            max_features=None, max_leaf_nodes=None, min_samples_leaf=1,\n",
              "            min_samples_split=2, min_weight_fraction_leaf=0.0,\n",
              "            presort=False, random_state=None, splitter='best')"
            ]
          },
          "metadata": {
            "tags": []
          },
          "execution_count": 69
        }
      ]
    },
    {
      "cell_type": "code",
      "metadata": {
        "id": "9VrsOAB84vrw",
        "colab": {
          "base_uri": "https://localhost:8080/",
          "height": 357
        },
        "outputId": "5513fcca-2bc9-497b-bf2f-3d5324054275"
      },
      "source": [
        "tree = DecisionTreeClassifier()\n",
        "\n",
        "tree_params = {\n",
        "    'criterion': ['gini', 'entropy'],\n",
        "    'min_samples_split': [2, 10, 20],\n",
        "    'max_depth': [5, 7, None],\n",
        "}\n",
        "\n",
        "cv = ShuffleSplit(n_subsamples, n_iter=50, test_size=0.1)\n",
        "gs_tree = GridSearchCV(tree, tree_params, n_jobs=-1, cv=cv)\n",
        "\n",
        "%time gs_tree.fit(X_train[:n_samples], y_train[:n_samples])\n",
        "display_grid_scores(gs_tree.grid_scores_)"
      ],
      "execution_count": null,
      "outputs": [
        {
          "output_type": "stream",
          "text": [
            "CPU times: user 706 ms, sys: 37.4 ms, total: 743 ms\n",
            "Wall time: 5.12 s\n",
            "criterion=entropy, max_depth=7, min_samples_split=2:\t0.804 (+/-0.008) *\n",
            "criterion=entropy, max_depth=None, min_samples_split=2:\t0.801 (+/-0.009) *\n",
            "criterion=entropy, max_depth=7, min_samples_split=10:\t0.800 (+/-0.007) *\n",
            "criterion=entropy, max_depth=None, min_samples_split=20:\t0.797 (+/-0.009) *\n",
            "criterion=entropy, max_depth=7, min_samples_split=20:\t0.792 (+/-0.007) *\n",
            "criterion=entropy, max_depth=None, min_samples_split=10:\t0.790 (+/-0.006) *\n",
            "criterion=gini, max_depth=None, min_samples_split=2:\t0.779 (+/-0.009) *\n",
            "criterion=gini, max_depth=None, min_samples_split=10:\t0.775 (+/-0.008) *\n",
            "criterion=gini, max_depth=7, min_samples_split=10:\t0.770 (+/-0.009) *\n",
            "criterion=gini, max_depth=7, min_samples_split=2:\t0.768 (+/-0.008)\n",
            "criterion=entropy, max_depth=5, min_samples_split=2:\t0.756 (+/-0.009)\n",
            "criterion=gini, max_depth=7, min_samples_split=20:\t0.755 (+/-0.008)\n",
            "criterion=entropy, max_depth=5, min_samples_split=20:\t0.754 (+/-0.009)\n",
            "criterion=entropy, max_depth=5, min_samples_split=10:\t0.750 (+/-0.009)\n",
            "criterion=gini, max_depth=None, min_samples_split=20:\t0.747 (+/-0.009)\n",
            "criterion=gini, max_depth=5, min_samples_split=2:\t0.655 (+/-0.008)\n",
            "criterion=gini, max_depth=5, min_samples_split=10:\t0.647 (+/-0.010)\n",
            "criterion=gini, max_depth=5, min_samples_split=20:\t0.640 (+/-0.009)\n"
          ],
          "name": "stdout"
        }
      ]
    },
    {
      "cell_type": "markdown",
      "metadata": {
        "id": "2fy7fxZE4vrx"
      },
      "source": [
        "As the dataset is quite small and decision trees are prone to overfitting, we need cross validate many times (e.g. `n_iter=50`) to get standard error of the mean test score below `0.010`.\n",
        "\n",
        "At that level of precision one can observe that the `entropy` split criterion yields slightly better predictions than `gini`. One can also observe that traditional regularization strategies (limiting the depth of the tree or giving a minimum number of samples to allow for a node to split does not work well on this problem.\n",
        "\n",
        "Indeed, the unregularized decision tree (`max_depth=None` and `min_samples_split=2`) is among the top performers while it is clearly overfitting:"
      ]
    },
    {
      "cell_type": "code",
      "metadata": {
        "id": "OHvfrW_34vrx",
        "colab": {
          "base_uri": "https://localhost:8080/",
          "height": 51
        },
        "outputId": "67586e2b-3bc4-4bae-c137-9877ffbfb4be"
      },
      "source": [
        "unreg_tree = DecisionTreeClassifier(criterion='entropy', max_depth=None,\n",
        "                                    min_samples_split=2)\n",
        "unreg_tree.fit(X_small_train, y_small_train)\n",
        "print(\"Train score: %0.3f\" % unreg_tree.score(X_small_train, y_small_train))\n",
        "print(\"Test score: %0.3f\" % unreg_tree.score(X_test, y_test))"
      ],
      "execution_count": null,
      "outputs": [
        {
          "output_type": "stream",
          "text": [
            "Train score: 1.000\n",
            "Test score: 0.784\n"
          ],
          "name": "stdout"
        }
      ]
    },
    {
      "cell_type": "markdown",
      "metadata": {
        "id": "pLT0XhXJ4vry"
      },
      "source": [
        "Limiting the depth to 7 or setting the minimum number of samples to 20: this regularization add as much bias (hence training error) as it removes variance (as measured by the gap between training and test score) hence does not make it possible to solve the overfitting issue efficiently, for instance:"
      ]
    },
    {
      "cell_type": "code",
      "metadata": {
        "id": "1-MtMGzn4vry",
        "colab": {
          "base_uri": "https://localhost:8080/",
          "height": 51
        },
        "outputId": "6d048f0d-0dbc-4b66-e1ca-6f290f90199d"
      },
      "source": [
        "reg_tree = DecisionTreeClassifier(criterion='entropy', max_depth=7,\n",
        "                                    min_samples_split=10)\n",
        "reg_tree.fit(X_small_train, y_small_train)\n",
        "print(\"Train score: %0.3f\" % reg_tree.score(X_small_train, y_small_train))\n",
        "print(\"Test score: %0.3f\" % reg_tree.score(X_test, y_test))"
      ],
      "execution_count": null,
      "outputs": [
        {
          "output_type": "stream",
          "text": [
            "Train score: 0.938\n",
            "Test score: 0.767\n"
          ],
          "name": "stdout"
        }
      ]
    },
    {
      "cell_type": "markdown",
      "metadata": {
        "id": "gSDzkuGI4vr1"
      },
      "source": [
        "From the grid scores results one can also observe that regularizing too much is clearly detrimental: the models with a depth limited to 5 are clearly inferior to those limited to 7 or not depth limited at all (on this dataset)."
      ]
    },
    {
      "cell_type": "markdown",
      "metadata": {
        "id": "Ript8r0M4vr1"
      },
      "source": [
        "To combat overfitting, of decision trees, it is preferable to use an ensemble approach that randomize the learning even further and then average the predictions as we will see with the `ExtraTreesClassifier` model class:"
      ]
    },
    {
      "cell_type": "code",
      "metadata": {
        "id": "8buOYrp84vr2",
        "colab": {
          "base_uri": "https://localhost:8080/",
          "height": 156
        },
        "outputId": "e794bbc3-8c98-46a5-cd39-4e08c907366f"
      },
      "source": [
        "from sklearn.ensemble import ExtraTreesClassifier\n",
        "print(ExtraTreesClassifier())\n",
        "#ExtraTreesClassifier?"
      ],
      "execution_count": null,
      "outputs": [
        {
          "output_type": "stream",
          "text": [
            "ExtraTreesClassifier(bootstrap=False, class_weight=None, criterion='gini',\n",
            "           max_depth=None, max_features='auto', max_leaf_nodes=None,\n",
            "           min_samples_leaf=1, min_samples_split=2,\n",
            "           min_weight_fraction_leaf=0.0, n_estimators=10, n_jobs=1,\n",
            "           oob_score=False, random_state=None, verbose=0, warm_start=False)\n"
          ],
          "name": "stdout"
        },
        {
          "output_type": "stream",
          "text": [
            "/usr/local/lib/python3.6/dist-packages/sklearn/ensemble/weight_boosting.py:29: DeprecationWarning: numpy.core.umath_tests is an internal NumPy module and should not be imported. It will be removed in a future NumPy release.\n",
            "  from numpy.core.umath_tests import inner1d\n"
          ],
          "name": "stderr"
        }
      ]
    },
    {
      "cell_type": "code",
      "metadata": {
        "id": "AwvME9jn4vr3",
        "colab": {
          "base_uri": "https://localhost:8080/",
          "height": 357
        },
        "outputId": "15bbfd98-feef-4ea4-def3-06c64f4e6531"
      },
      "source": [
        "trees = ExtraTreesClassifier(n_estimators=30)\n",
        "\n",
        "cv = ShuffleSplit(n_subsamples, n_iter=5, test_size=0.1)\n",
        "gs_trees = GridSearchCV(trees, tree_params, n_jobs=-1, cv=cv)\n",
        "\n",
        "%time gs_trees.fit(X_small_train, y_small_train)\n",
        "display_grid_scores(gs_trees.grid_scores_)"
      ],
      "execution_count": null,
      "outputs": [
        {
          "output_type": "stream",
          "text": [
            "CPU times: user 203 ms, sys: 28.2 ms, total: 232 ms\n",
            "Wall time: 2.65 s\n",
            "criterion=gini, max_depth=None, min_samples_split=10:\t0.964 (+/-0.018) *\n",
            "criterion=entropy, max_depth=None, min_samples_split=20:\t0.948 (+/-0.008) *\n",
            "criterion=gini, max_depth=5, min_samples_split=10:\t0.944 (+/-0.015) *\n",
            "criterion=gini, max_depth=5, min_samples_split=20:\t0.944 (+/-0.012) *\n",
            "criterion=entropy, max_depth=5, min_samples_split=10:\t0.944 (+/-0.010) *\n",
            "criterion=entropy, max_depth=None, min_samples_split=10:\t0.944 (+/-0.010) *\n",
            "criterion=gini, max_depth=7, min_samples_split=10:\t0.940 (+/-0.021) *\n",
            "criterion=gini, max_depth=None, min_samples_split=2:\t0.940 (+/-0.014) *\n",
            "criterion=gini, max_depth=None, min_samples_split=20:\t0.940 (+/-0.014) *\n",
            "criterion=entropy, max_depth=7, min_samples_split=2:\t0.940 (+/-0.011) *\n",
            "criterion=entropy, max_depth=5, min_samples_split=2:\t0.936 (+/-0.012) *\n",
            "criterion=gini, max_depth=7, min_samples_split=20:\t0.932 (+/-0.014) *\n",
            "criterion=entropy, max_depth=7, min_samples_split=10:\t0.932 (+/-0.015) *\n",
            "criterion=gini, max_depth=7, min_samples_split=2:\t0.928 (+/-0.010) *\n",
            "criterion=entropy, max_depth=None, min_samples_split=2:\t0.928 (+/-0.016) *\n",
            "criterion=entropy, max_depth=7, min_samples_split=20:\t0.924 (+/-0.016) *\n",
            "criterion=entropy, max_depth=5, min_samples_split=20:\t0.916 (+/-0.013) *\n",
            "criterion=gini, max_depth=5, min_samples_split=2:\t0.884 (+/-0.012)\n"
          ],
          "name": "stdout"
        }
      ]
    },
    {
      "cell_type": "markdown",
      "metadata": {
        "id": "eOyV6-Hx4vr4"
      },
      "source": [
        "A couple of remarks:\n",
        "\n",
        "  - `ExtraTreesClassifier` achieve a much better generalization than individual decistion trees (0.97 vs 0.80) even on such a small dataset so they are indeed able to solve the overfitting issue of individual decision trees.\n",
        "\n",
        "  - `ExtraTreesClassifier` are much longer to train than individual trees but the fact that the predictions is averaged makes it no necessary to cross validate as many times to reach a stderr on the order of `0.010`.\n",
        "\n",
        "  - `ExtraTreesClassifier` are very robust to the choice of the parameters: most grid search point achieve a good prediction (even when higly regularized) although too much regularization is harmful. We can also note that the split criterion is no longer relevant."
      ]
    },
    {
      "cell_type": "markdown",
      "metadata": {
        "id": "SxK5_Vnc4vr5"
      },
      "source": [
        "Finally one can also observe that despite the high level of randomization of the individual trees, an ensemble model composed of unregularized trees is not underfitting:"
      ]
    },
    {
      "cell_type": "code",
      "metadata": {
        "id": "uY3LKx--4vr5",
        "colab": {
          "base_uri": "https://localhost:8080/",
          "height": 51
        },
        "outputId": "64e15df1-4850-49eb-cef4-d823fb76b367"
      },
      "source": [
        "unreg_trees = ExtraTreesClassifier(n_estimators=50, max_depth=None, min_samples_split=2)\n",
        "unreg_trees.fit(X_small_train, y_small_train)\n",
        "print(\"Train score: %0.3f\" % unreg_trees.score(X_small_train, y_small_train))\n",
        "print(\"Test score: %0.3f\" % unreg_trees.score(X_test, y_test))"
      ],
      "execution_count": null,
      "outputs": [
        {
          "output_type": "stream",
          "text": [
            "Train score: 1.000\n",
            "Test score: 0.962\n"
          ],
          "name": "stdout"
        }
      ]
    },
    {
      "cell_type": "markdown",
      "metadata": {
        "id": "ypqGuJCU4vr-"
      },
      "source": [
        "More interesting, an ensemble model composed of regularized trees is not underfitting much less than the individual regularized trees:"
      ]
    },
    {
      "cell_type": "code",
      "metadata": {
        "id": "Osto8gRd4vr_",
        "colab": {
          "base_uri": "https://localhost:8080/",
          "height": 51
        },
        "outputId": "93a92517-e1bf-4162-bb7c-db105e1304c7"
      },
      "source": [
        "reg_trees = ExtraTreesClassifier(n_estimators=50, max_depth=7, min_samples_split=10)\n",
        "reg_trees.fit(X_small_train, y_small_train)\n",
        "print(\"Train score: %0.3f\" % reg_trees.score(X_small_train, y_small_train))\n",
        "print(\"Test score: %0.3f\" % reg_trees.score(X_test, y_test))"
      ],
      "execution_count": null,
      "outputs": [
        {
          "output_type": "stream",
          "text": [
            "Train score: 0.996\n",
            "Test score: 0.940\n"
          ],
          "name": "stdout"
        }
      ]
    },
    {
      "cell_type": "markdown",
      "metadata": {
        "id": "n19O-Pp64vsA"
      },
      "source": [
        "##Plotting Learning Curves for Bias-Variance analysis"
      ]
    },
    {
      "cell_type": "markdown",
      "metadata": {
        "id": "tDj9iQIB4vsA"
      },
      "source": [
        "In order to better understand the behavior of model (model class + contructor parameters), is it possible to run several cross validation steps for various random sub-samples of the training set and then plot the mean training and test errors.\n",
        "\n",
        "These plots are called the **learning curves**.\n",
        "\n",
        "sklearn does not yet provide turn-key utilities to plot such learning curves but is not very complicated to compute them by leveraging the `ShuffleSplit` class. First let's define a range of data set sizes for subsampling the training set:"
      ]
    },
    {
      "cell_type": "code",
      "metadata": {
        "id": "KdivzXky4vsB",
        "colab": {
          "base_uri": "https://localhost:8080/",
          "height": 34
        },
        "outputId": "cea17de0-250d-4612-fad3-0397dc173c46"
      },
      "source": [
        "train_sizes = np.logspace(2, 3, 5).astype(np.int)\n",
        "train_sizes"
      ],
      "execution_count": null,
      "outputs": [
        {
          "output_type": "execute_result",
          "data": {
            "text/plain": [
              "array([ 100,  177,  316,  562, 1000])"
            ]
          },
          "metadata": {
            "tags": []
          },
          "execution_count": 77
        }
      ]
    },
    {
      "cell_type": "markdown",
      "metadata": {
        "id": "BwtRQVsK4vsC"
      },
      "source": [
        "For each training set sizes we will compute `n_iter` cross validation iterations. Let's pre-allocate the arrays to store the results:"
      ]
    },
    {
      "cell_type": "code",
      "metadata": {
        "id": "sKd4mTZ-4vsD"
      },
      "source": [
        "n_iter = 20\n",
        "train_scores = np.zeros((train_sizes.shape[0], n_iter), dtype=np.float)\n",
        "test_scores = np.zeros((train_sizes.shape[0], n_iter), dtype=np.float)"
      ],
      "execution_count": null,
      "outputs": []
    },
    {
      "cell_type": "markdown",
      "metadata": {
        "id": "TKYtKXtW4vsE"
      },
      "source": [
        "We can now loop over training set sizes and CV iterations:"
      ]
    },
    {
      "cell_type": "code",
      "metadata": {
        "id": "4AubAvB04vsE"
      },
      "source": [
        "svc = SVC(C=1, gamma=0.0005)\n",
        "\n",
        "for i, train_size in enumerate(train_sizes):\n",
        "    cv = ShuffleSplit(n_samples, n_iter=n_iter, train_size=train_size)\n",
        "    for j, (train, test) in enumerate(cv):\n",
        "        svc.fit(X[train], y[train])\n",
        "        train_scores[i, j] = svc.score(X[train], y[train])\n",
        "        test_scores[i, j] = svc.score(X[test], y[test])"
      ],
      "execution_count": null,
      "outputs": []
    },
    {
      "cell_type": "markdown",
      "metadata": {
        "id": "T4o6WFnu4vsI"
      },
      "source": [
        "We can now plot the mean scores with error bars that reflect the standard errors of the means:"
      ]
    },
    {
      "cell_type": "code",
      "metadata": {
        "id": "1m5BXpv24vsI",
        "colab": {
          "base_uri": "https://localhost:8080/",
          "height": 486
        },
        "outputId": "b27b227e-e49b-4a3e-9651-f095bdac241b"
      },
      "source": [
        "mean_train = np.mean(train_scores, axis=1)\n",
        "confidence = sem(train_scores, axis=1) * 2\n",
        "\n",
        "plt.fill_between(train_sizes,\n",
        "                 mean_train - confidence,\n",
        "                 mean_train + confidence,\n",
        "                 color = 'b', alpha = .2)\n",
        "plt.plot(train_sizes, mean_train, 'o-k', c='b', label='Train score')\n",
        "\n",
        "mean_test = np.mean(test_scores, axis=1)\n",
        "confidence = sem(test_scores, axis=1) * 2\n",
        "\n",
        "plt.fill_between(train_sizes,\n",
        "                 mean_test - confidence,\n",
        "                 mean_test + confidence,\n",
        "                 color = 'g', alpha = .2)\n",
        "plt.plot(train_sizes, mean_test, 'o-k', c='g', label='Test score')\n",
        "\n",
        "plt.xlabel('Training set size')\n",
        "plt.ylabel('Score')\n",
        "plt.xlim(0, X_train.shape[0])\n",
        "plt.ylim((None, 1.01))  # The best possible score is 1.0\n",
        "plt.legend(loc='best')\n",
        "\n",
        "plt.text(250, 0.9, \"Overfitting a lot\", fontsize=16, ha='center', va='bottom')\n",
        "plt.text(800, 0.9, \"Overfitting a little\", fontsize=16, ha='center', va='bottom')\n",
        "plt.title('Main train and test scores +/- 2 standard errors');"
      ],
      "execution_count": null,
      "outputs": [
        {
          "output_type": "display_data",
          "data": {
            "image/png": "[encoded data removed]",
            "text/plain": [
              "<Figure size 720x540 with 1 Axes>"
            ]
          },
          "metadata": {
            "tags": []
          }
        }
      ]
    },
    {
      "cell_type": "markdown",
      "metadata": {
        "id": "DWP0clk64vsJ"
      },
      "source": [
        "Note: learning curves can be computed with there own utility function:"
      ]
    },
    {
      "cell_type": "code",
      "metadata": {
        "id": "ynLxFbe-4vsJ"
      },
      "source": [
        "from sklearn.learning_curve import learning_curve"
      ],
      "execution_count": null,
      "outputs": []
    },
    {
      "cell_type": "markdown",
      "metadata": {
        "id": "7dsv4rbm4vsK"
      },
      "source": [
        "##Interpreting Learning Curves"
      ]
    },
    {
      "cell_type": "markdown",
      "metadata": {
        "id": "_e60_WSu4vsL"
      },
      "source": [
        "- If the **training set error is high** (e.g. more than 5% misclassification) at the end of the learning curve, the model suffers from **high bias** and is said to **underfit** the training set.\n",
        "\n",
        "- If the **testing set error is significantly larger than the training set error**, the model suffers from **high variance** and is said to **overfit** the training set.\n",
        "\n",
        "Another possible source of high training and testing error is label noise: the data is too noisy and there is nothing few signal learn from it."
      ]
    },
    {
      "cell_type": "markdown",
      "metadata": {
        "id": "rrSkeCvI4vsL"
      },
      "source": [
        "###What to do against overfitting?"
      ]
    },
    {
      "cell_type": "markdown",
      "metadata": {
        "id": "co87loh94vsL"
      },
      "source": [
        "- Try to get rid of noisy features using **feature selection** methods (or better let the model do it if the regularization is able to do so: for instance l1 penalized linear models)\n",
        "- Try to tune parameters to add **more regularization**:\n",
        "    - Smaller values of `C` for SVM\n",
        "    - Larger values of `alpha` for penalized linear models\n",
        "    - Restrict to shallower trees (decision stumps) and lower numbers of samples per leafs for tree-based models\n",
        "- Try **simpler model families** such as penalized linear models (e.g. Linear SVM, Logistic Regression, Naive Bayes)\n",
        "- Try the ensemble strategies that **average several independently trained models** (e.g. bagging or blending ensembles): average the predictions of independently trained models\n",
        "- Collect more **labeled samples** if the learning curves of the test score has a non-zero slope on the right hand side."
      ]
    },
    {
      "cell_type": "markdown",
      "metadata": {
        "id": "5Qqoz0CK4vsM"
      },
      "source": [
        "###What to do against underfitting?"
      ]
    },
    {
      "cell_type": "markdown",
      "metadata": {
        "id": "9KjfpZ5h4vsM"
      },
      "source": [
        "- Give **more freedom** to the model by relaxing some parameters that act as regularizers:\n",
        "    - Larger values of `C` for SVM\n",
        "    - Smaller values of `alpha` for penalized linear models\n",
        "    - Allow deeper trees and lower numbers of samples per leafs for tree-based models\n",
        "- Try **more complex / expressive model families**:\n",
        "    - Non linear kernel SVMs,\n",
        "    - Ensemble of Decision Trees...\n",
        "- **Construct new features**:\n",
        "    - bi-gram frequencies for text classifications\n",
        "    - feature cross-products (possibly using the hashing trick)\n",
        "    - unsupervised features extraction (e.g. triangle k-means, auto-encoders...)\n",
        "    - non-linear kernel approximations + linear SVM instead of simple linear SVM"
      ]
    },
    {
      "cell_type": "markdown",
      "metadata": {
        "id": "82IuPcjk4vsN"
      },
      "source": [
        "##Final Model Assessment"
      ]
    },
    {
      "cell_type": "markdown",
      "metadata": {
        "id": "7vsNbtN64vsN"
      },
      "source": [
        "Grid Search parameters tuning can it-self be considered a (meta-)learning algorithm. Hence there is a risk of not taking into account the **overfitting of the grid search procedure** it-self.\n",
        "\n",
        "To quantify and mitigate this risk we can nest the train / test split concept one level up:\n",
        "    \n",
        "Maker a top level \"Development / Evaluation\" sets split:\n",
        "    \n",
        "- Development set used for Grid Search and training of the model with optimal parameter set\n",
        "- Hold out evaluation set used **only** for estimating the predictive performance of the resulting model\n",
        "\n",
        "For dataset sampled over time, it is **highly recommended to use a temporal split** for the Development / Evaluation split: for instance, if you have collected data over the 2008-2013 period, you can:\n",
        "    \n",
        "- use 2008-2011 for development (grid search optimal parameters and model class),\n",
        "- 2012-2013 for evaluation (compute the test score of the best model parameters)."
      ]
    },
    {
      "cell_type": "markdown",
      "metadata": {
        "id": "1zoe5h074vsO"
      },
      "source": [
        "##One Final Note About kernel SVM Parameters Tuning"
      ]
    },
    {
      "cell_type": "markdown",
      "metadata": {
        "id": "qCGVGy0O4vsP"
      },
      "source": [
        "In this session we applied the SVC model with RBF kernel on unormalized features: this is bad! If we had used a normalizer, the default parameters for `C` and `gamma` of SVC would directly have led to close to optimal performance:"
      ]
    },
    {
      "cell_type": "code",
      "metadata": {
        "id": "SJpFDLRO4vsQ",
        "colab": {
          "base_uri": "https://localhost:8080/",
          "height": 51
        },
        "outputId": "3c72b9e8-f7bc-4f65-9bb7-d296dbdc216c"
      },
      "source": [
        "from sklearn.preprocessing import StandardScaler\n",
        "\n",
        "scaler = StandardScaler()\n",
        "X_train_scaled = scaler.fit_transform(X_train)\n",
        "X_test_scaled = scaler.transform(X_test)\n",
        "\n",
        "clf = SVC().fit(X_train_scaled, y_train)  # Look Ma'! Default params!\n",
        "print(\"Train score: {0:.3f}\".format(clf.score(X_train_scaled, y_train)))\n",
        "print(\"Test score: {0:.3f}\".format(clf.score(X_test_scaled, y_test)))"
      ],
      "execution_count": null,
      "outputs": [
        {
          "output_type": "stream",
          "text": [
            "Train score: 0.996\n",
            "Test score: 0.984\n"
          ],
          "name": "stdout"
        }
      ]
    },
    {
      "cell_type": "markdown",
      "metadata": {
        "id": "sjzVq2XS4vsR"
      },
      "source": [
        "This is because once normalized, the digits is very regular and fits the assumptions of the default parameters of the `SVC` class very well. This is rarely the case though and usually it's always necessary to grid search the parameters.\n",
        "\n",
        "Nonetheless, **scaling should be a mandatory preprocessing step when using SVC, especially with a RBF kernel**."
      ]
    }
  ]
}