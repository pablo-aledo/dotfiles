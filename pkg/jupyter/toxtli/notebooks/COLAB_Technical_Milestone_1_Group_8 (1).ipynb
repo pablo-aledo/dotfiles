{
  "nbformat": 4,
  "nbformat_minor": 0,
  "metadata": {
    "colab": {
      "name": "COLAB - Technical Milestone 1 - Group 8.ipynb",
      "provenance": [],
      "collapsed_sections": [],
      "toc_visible": true
    },
    "kernelspec": {
      "name": "python3",
      "display_name": "Python 3"
    },
    "accelerator": "GPU"
  },
  "cells": [
    {
      "cell_type": "markdown",
      "metadata": {
        "id": "jQF0-gVQ60IP"
      },
      "source": [
        "Adapted by Carlos Toxtli http://www.carlostoxtli.com/#colab-cifar-3\n",
        "\n",
        "Credits: https://github.com/Chaitanyaa/ML-CIFAR100"
      ]
    },
    {
      "cell_type": "code",
      "metadata": {
        "id": "evr83mea3unM",
        "colab": {
          "base_uri": "https://localhost:8080/",
          "height": 296
        },
        "outputId": "15a2b9e5-b310-4558-c08d-aabb561c431e"
      },
      "source": [
        "!pip install keras==2.2.4"
      ],
      "execution_count": null,
      "outputs": [
        {
          "output_type": "stream",
          "text": [
            "Collecting keras==2.2.4\n",
            "\u001b[?25l  Downloading https://files.pythonhosted.org/packages/5e/10/aa32dad071ce52b5502266b5c659451cfd6ffcbf14e6c8c4f16c0ff5aaab/Keras-2.2.4-py2.py3-none-any.whl (312kB)\n",
            "\u001b[K     |████████████████████████████████| 317kB 6.6MB/s \n",
            "\u001b[?25hRequirement already satisfied: six>=1.9.0 in /usr/local/lib/python3.6/dist-packages (from keras==2.2.4) (1.12.0)\n",
            "Requirement already satisfied: keras-preprocessing>=1.0.5 in /usr/local/lib/python3.6/dist-packages (from keras==2.2.4) (1.1.0)\n",
            "Requirement already satisfied: h5py in /usr/local/lib/python3.6/dist-packages (from keras==2.2.4) (2.8.0)\n",
            "Requirement already satisfied: pyyaml in /usr/local/lib/python3.6/dist-packages (from keras==2.2.4) (3.13)\n",
            "Requirement already satisfied: numpy>=1.9.1 in /usr/local/lib/python3.6/dist-packages (from keras==2.2.4) (1.16.5)\n",
            "Requirement already satisfied: scipy>=0.14 in /usr/local/lib/python3.6/dist-packages (from keras==2.2.4) (1.3.1)\n",
            "Requirement already satisfied: keras-applications>=1.0.6 in /usr/local/lib/python3.6/dist-packages (from keras==2.2.4) (1.0.8)\n",
            "Installing collected packages: keras\n",
            "  Found existing installation: Keras 2.2.5\n",
            "    Uninstalling Keras-2.2.5:\n",
            "      Successfully uninstalled Keras-2.2.5\n",
            "Successfully installed keras-2.2.4\n"
          ],
          "name": "stdout"
        }
      ]
    },
    {
      "cell_type": "code",
      "metadata": {
        "id": "vmbOWVcmIGnr",
        "colab": {
          "base_uri": "https://localhost:8080/",
          "height": 121
        },
        "outputId": "c77b9054-92f5-459f-aed8-7f67266e0bcb"
      },
      "source": [
        "# Identifying superclasses indexes\n",
        "\n",
        "#1 Code to read csv file into colaboratory:\n",
        "!pip install -U -q PyDrive\n",
        "from pydrive.auth import GoogleAuth\n",
        "from pydrive.drive import GoogleDrive\n",
        "from google.colab import auth\n",
        "from oauth2client.client import GoogleCredentials\n",
        "\n",
        "# 1. Authenticate and create the PyDrive client.\n",
        "# auth.authenticate_user()\n",
        "# gauth = GoogleAuth()\n",
        "# gauth.credentials = GoogleCredentials.get_application_default()\n",
        "# drive = GoogleDrive(gauth)\n",
        "\n",
        "# downloaded1 = drive.CreateFile({'id':'1IfioWuWPLvvMvkdVCflMh5v6xVfKwBxW'}) # replace the id with id of file you want to access\n",
        "# downloaded1.GetContentFile('meta')\n",
        "\n",
        "!gdown https://drive.google.com/uc?id=1IfioWuWPLvvMvkdVCflMh5v6xVfKwBxW\n",
        "\n",
        "def unpickle(file):\n",
        "    import pickle\n",
        "    with open(file, 'rb') as fo:\n",
        "        dict = pickle.load(fo, encoding='bytes')\n",
        "    return dict\n",
        "  \n",
        "meta = unpickle('meta')\n",
        "k=0\n",
        "# Looping through the list to find the index of vehicle 1 and vehicle 2\n",
        "for i in meta[b'coarse_label_names']:\n",
        "  if i==b'vehicles_1':\n",
        "    a = k\n",
        "  if i==b'vehicles_2':\n",
        "    b = k\n",
        "  k=k+1  \n",
        "print('Vehicle 1 index:',a,'\\nVehicle 2 index:',b)"
      ],
      "execution_count": null,
      "outputs": [
        {
          "output_type": "stream",
          "text": [
            "Downloading...\n",
            "From: https://drive.google.com/uc?id=1IfioWuWPLvvMvkdVCflMh5v6xVfKwBxW\n",
            "To: /content/meta\n",
            "\r  0% 0.00/1.47k [00:00<?, ?B/s]\r100% 1.47k/1.47k [00:00<00:00, 3.47MB/s]\n",
            "Vehicle 1 index: 18 \n",
            "Vehicle 2 index: 19\n"
          ],
          "name": "stdout"
        }
      ]
    },
    {
      "cell_type": "markdown",
      "metadata": {
        "id": "93rZMf6_52cc"
      },
      "source": [
        "## With Cifar-100 dataset in Keras"
      ]
    },
    {
      "cell_type": "code",
      "metadata": {
        "id": "8v9H5blS55E-",
        "colab": {
          "base_uri": "https://localhost:8080/",
          "height": 55
        },
        "outputId": "308b7379-b803-4bca-ed49-be0900da0ec7"
      },
      "source": [
        "# install keras first\n",
        "!pip install dill\n",
        "!pip install -q keras"
      ],
      "execution_count": null,
      "outputs": [
        {
          "output_type": "stream",
          "text": [
            "Requirement already satisfied: dill in /usr/local/lib/python3.6/dist-packages (0.3.0)\n"
          ],
          "name": "stdout"
        }
      ]
    },
    {
      "cell_type": "code",
      "metadata": {
        "id": "jrQ0o2Ac57Uy"
      },
      "source": [
        "import os\n",
        "os.environ[\"THEANO_FLAGS\"] = \"mode=FAST_RUN,device=gpu,floatX=float32\""
      ],
      "execution_count": null,
      "outputs": []
    },
    {
      "cell_type": "code",
      "metadata": {
        "id": "O-g6hMo-590z",
        "colab": {
          "base_uri": "https://localhost:8080/",
          "height": 35
        },
        "outputId": "5f3ec55e-f1c8-497a-ccee-720e0c255a59"
      },
      "source": [
        "from keras import backend as K\n",
        "if K.backend()=='tensorflow':\n",
        "    K.set_image_dim_ordering(\"th\")"
      ],
      "execution_count": null,
      "outputs": [
        {
          "output_type": "stream",
          "text": [
            "Using TensorFlow backend.\n"
          ],
          "name": "stderr"
        }
      ]
    },
    {
      "cell_type": "code",
      "metadata": {
        "id": "Oz1i5wfu5_w_",
        "colab": {
          "base_uri": "https://localhost:8080/",
          "height": 55
        },
        "outputId": "b2fd32c9-efb4-4697-b5ce-fc729446c5f0"
      },
      "source": [
        "#batch_size = 1000\n",
        "num_classes = 2\n",
        "'''\n",
        "epochs_longrun = 500\n",
        "save_dir = \"/work\"\n",
        "res_dir = \"/results\"\n",
        "model_name = 'convnet_cifar100'\n",
        "'''"
      ],
      "execution_count": null,
      "outputs": [
        {
          "output_type": "execute_result",
          "data": {
            "text/plain": [
              "'\\nepochs_longrun = 500\\nsave_dir = \"/work\"\\nres_dir = \"/results\"\\nmodel_name = \\'convnet_cifar100\\'\\n'"
            ]
          },
          "metadata": {
            "tags": []
          },
          "execution_count": 6
        }
      ]
    },
    {
      "cell_type": "code",
      "metadata": {
        "id": "IzQEMJ-T6EB4"
      },
      "source": [
        "from keras.datasets import cifar100"
      ],
      "execution_count": null,
      "outputs": []
    },
    {
      "cell_type": "code",
      "metadata": {
        "id": "Gdu5AGPM6F9C"
      },
      "source": [
        "from __future__ import print_function\n",
        "import tensorflow as tf\n",
        "import keras\n",
        "from keras.preprocessing.image import ImageDataGenerator\n",
        "from keras.models import Sequential\n",
        "from keras.layers.core import Dense, Dropout, Flatten, Activation\n",
        "from keras.layers.convolutional import Conv2D\n",
        "from keras.optimizers import Adam\n",
        "from keras.layers.pooling import MaxPooling2D\n",
        "from keras.callbacks import ModelCheckpoint,EarlyStopping\n",
        "from keras.utils import to_categorical\n",
        "from keras.models import load_model\n",
        "\n",
        "import os\n",
        "import numpy as np\n",
        "import pandas as pd\n",
        "import matplotlib.pyplot as plt\n",
        "from math import *\n",
        "from sklearn.model_selection import train_test_split\n",
        "from sklearn.preprocessing import StandardScaler\n",
        "import warnings\n",
        "warnings.filterwarnings('ignore')"
      ],
      "execution_count": null,
      "outputs": []
    },
    {
      "cell_type": "code",
      "metadata": {
        "id": "qD8NyM4G6I8I",
        "colab": {
          "base_uri": "https://localhost:8080/",
          "height": 104
        },
        "outputId": "734af196-b408-4869-b31f-e31e34f30e20"
      },
      "source": [
        "import tensorflow as tf\n",
        "import numpy as np\n",
        "from keras.utils import to_categorical\n",
        "tf.reset_default_graph()\n",
        "tf.set_random_seed(343)\n",
        "np.random.seed(343)\n",
        "# The data, shuffled and split between train and test sets:\n",
        "(x_train, y_train), (x_test, y_test) = cifar100.load_data(label_mode='coarse')\n",
        "print('x_train shape:', x_train.shape)\n",
        "print(x_train.shape[0], 'train samples')\n",
        "print(x_test.shape[0], 'test samples')"
      ],
      "execution_count": null,
      "outputs": [
        {
          "output_type": "stream",
          "text": [
            "Downloading data from https://www.cs.toronto.edu/~kriz/cifar-100-python.tar.gz\n",
            "169009152/169001437 [==============================] - 6s 0us/step\n",
            "x_train shape: (50000, 3, 32, 32)\n",
            "50000 train samples\n",
            "10000 test samples\n"
          ],
          "name": "stdout"
        }
      ]
    },
    {
      "cell_type": "code",
      "metadata": {
        "id": "fIo0oS4x6LCD",
        "colab": {
          "base_uri": "https://localhost:8080/",
          "height": 52
        },
        "outputId": "edfed96c-6637-4ebf-8dc9-2719e1030754"
      },
      "source": [
        "#Combining the training and test data back into one data\n",
        "x = np.concatenate((x_train,x_test))\n",
        "y = np.concatenate((y_train,y_test))\n",
        "print('x shape:', x.shape)\n",
        "print('y shape:', y.shape)"
      ],
      "execution_count": null,
      "outputs": [
        {
          "output_type": "stream",
          "text": [
            "x shape: (60000, 3, 32, 32)\n",
            "y shape: (60000, 1)\n"
          ],
          "name": "stdout"
        }
      ]
    },
    {
      "cell_type": "code",
      "metadata": {
        "id": "kNp7BE-i6V_8",
        "colab": {
          "base_uri": "https://localhost:8080/",
          "height": 247
        },
        "outputId": "b23bcb67-42df-4a81-f422-a0df25fca3ae"
      },
      "source": [
        "# Required subset of data in dataframe\n",
        "x = x.reshape(x.shape[0],3*32*32)\n",
        "images_df = pd.DataFrame(x, columns = list(range(0,3072)))\n",
        "temp = pd.DataFrame(y, columns = ['Target'])\n",
        "images_df = pd.concat([images_df,temp],axis=1)\n",
        "vehicle_images = images_df[(images_df['Target']==18) | (images_df['Target']==19) ]\n",
        "vehicle_images.head()"
      ],
      "execution_count": null,
      "outputs": [
        {
          "output_type": "execute_result",
          "data": {
            "text/html": [
              "<div>\n",
              "<style scoped>\n",
              "    .dataframe tbody tr th:only-of-type {\n",
              "        vertical-align: middle;\n",
              "    }\n",
              "\n",
              "    .dataframe tbody tr th {\n",
              "        vertical-align: top;\n",
              "    }\n",
              "\n",
              "    .dataframe thead th {\n",
              "        text-align: right;\n",
              "    }\n",
              "</style>\n",
              "<table border=\"1\" class=\"dataframe\">\n",
              "  <thead>\n",
              "    <tr style=\"text-align: right;\">\n",
              "      <th></th>\n",
              "      <th>0</th>\n",
              "      <th>1</th>\n",
              "      <th>2</th>\n",
              "      <th>3</th>\n",
              "      <th>4</th>\n",
              "      <th>5</th>\n",
              "      <th>6</th>\n",
              "      <th>7</th>\n",
              "      <th>8</th>\n",
              "      <th>9</th>\n",
              "      <th>10</th>\n",
              "      <th>11</th>\n",
              "      <th>12</th>\n",
              "      <th>13</th>\n",
              "      <th>14</th>\n",
              "      <th>15</th>\n",
              "      <th>16</th>\n",
              "      <th>17</th>\n",
              "      <th>18</th>\n",
              "      <th>19</th>\n",
              "      <th>20</th>\n",
              "      <th>21</th>\n",
              "      <th>22</th>\n",
              "      <th>23</th>\n",
              "      <th>24</th>\n",
              "      <th>25</th>\n",
              "      <th>26</th>\n",
              "      <th>27</th>\n",
              "      <th>28</th>\n",
              "      <th>29</th>\n",
              "      <th>30</th>\n",
              "      <th>31</th>\n",
              "      <th>32</th>\n",
              "      <th>33</th>\n",
              "      <th>34</th>\n",
              "      <th>35</th>\n",
              "      <th>36</th>\n",
              "      <th>37</th>\n",
              "      <th>38</th>\n",
              "      <th>39</th>\n",
              "      <th>...</th>\n",
              "      <th>3033</th>\n",
              "      <th>3034</th>\n",
              "      <th>3035</th>\n",
              "      <th>3036</th>\n",
              "      <th>3037</th>\n",
              "      <th>3038</th>\n",
              "      <th>3039</th>\n",
              "      <th>3040</th>\n",
              "      <th>3041</th>\n",
              "      <th>3042</th>\n",
              "      <th>3043</th>\n",
              "      <th>3044</th>\n",
              "      <th>3045</th>\n",
              "      <th>3046</th>\n",
              "      <th>3047</th>\n",
              "      <th>3048</th>\n",
              "      <th>3049</th>\n",
              "      <th>3050</th>\n",
              "      <th>3051</th>\n",
              "      <th>3052</th>\n",
              "      <th>3053</th>\n",
              "      <th>3054</th>\n",
              "      <th>3055</th>\n",
              "      <th>3056</th>\n",
              "      <th>3057</th>\n",
              "      <th>3058</th>\n",
              "      <th>3059</th>\n",
              "      <th>3060</th>\n",
              "      <th>3061</th>\n",
              "      <th>3062</th>\n",
              "      <th>3063</th>\n",
              "      <th>3064</th>\n",
              "      <th>3065</th>\n",
              "      <th>3066</th>\n",
              "      <th>3067</th>\n",
              "      <th>3068</th>\n",
              "      <th>3069</th>\n",
              "      <th>3070</th>\n",
              "      <th>3071</th>\n",
              "      <th>Target</th>\n",
              "    </tr>\n",
              "  </thead>\n",
              "  <tbody>\n",
              "    <tr>\n",
              "      <th>6</th>\n",
              "      <td>50</td>\n",
              "      <td>56</td>\n",
              "      <td>52</td>\n",
              "      <td>50</td>\n",
              "      <td>51</td>\n",
              "      <td>61</td>\n",
              "      <td>61</td>\n",
              "      <td>63</td>\n",
              "      <td>66</td>\n",
              "      <td>50</td>\n",
              "      <td>52</td>\n",
              "      <td>52</td>\n",
              "      <td>51</td>\n",
              "      <td>57</td>\n",
              "      <td>59</td>\n",
              "      <td>50</td>\n",
              "      <td>52</td>\n",
              "      <td>52</td>\n",
              "      <td>53</td>\n",
              "      <td>49</td>\n",
              "      <td>55</td>\n",
              "      <td>55</td>\n",
              "      <td>53</td>\n",
              "      <td>53</td>\n",
              "      <td>53</td>\n",
              "      <td>54</td>\n",
              "      <td>51</td>\n",
              "      <td>49</td>\n",
              "      <td>79</td>\n",
              "      <td>97</td>\n",
              "      <td>65</td>\n",
              "      <td>67</td>\n",
              "      <td>55</td>\n",
              "      <td>64</td>\n",
              "      <td>54</td>\n",
              "      <td>52</td>\n",
              "      <td>59</td>\n",
              "      <td>67</td>\n",
              "      <td>89</td>\n",
              "      <td>79</td>\n",
              "      <td>...</td>\n",
              "      <td>86</td>\n",
              "      <td>113</td>\n",
              "      <td>75</td>\n",
              "      <td>59</td>\n",
              "      <td>67</td>\n",
              "      <td>67</td>\n",
              "      <td>66</td>\n",
              "      <td>59</td>\n",
              "      <td>60</td>\n",
              "      <td>69</td>\n",
              "      <td>67</td>\n",
              "      <td>62</td>\n",
              "      <td>70</td>\n",
              "      <td>79</td>\n",
              "      <td>80</td>\n",
              "      <td>76</td>\n",
              "      <td>65</td>\n",
              "      <td>87</td>\n",
              "      <td>162</td>\n",
              "      <td>192</td>\n",
              "      <td>172</td>\n",
              "      <td>183</td>\n",
              "      <td>137</td>\n",
              "      <td>85</td>\n",
              "      <td>76</td>\n",
              "      <td>76</td>\n",
              "      <td>86</td>\n",
              "      <td>85</td>\n",
              "      <td>74</td>\n",
              "      <td>61</td>\n",
              "      <td>58</td>\n",
              "      <td>57</td>\n",
              "      <td>58</td>\n",
              "      <td>64</td>\n",
              "      <td>60</td>\n",
              "      <td>59</td>\n",
              "      <td>64</td>\n",
              "      <td>67</td>\n",
              "      <td>63</td>\n",
              "      <td>18</td>\n",
              "    </tr>\n",
              "    <tr>\n",
              "      <th>16</th>\n",
              "      <td>35</td>\n",
              "      <td>27</td>\n",
              "      <td>31</td>\n",
              "      <td>77</td>\n",
              "      <td>136</td>\n",
              "      <td>168</td>\n",
              "      <td>103</td>\n",
              "      <td>101</td>\n",
              "      <td>85</td>\n",
              "      <td>63</td>\n",
              "      <td>63</td>\n",
              "      <td>99</td>\n",
              "      <td>81</td>\n",
              "      <td>95</td>\n",
              "      <td>88</td>\n",
              "      <td>66</td>\n",
              "      <td>78</td>\n",
              "      <td>105</td>\n",
              "      <td>135</td>\n",
              "      <td>108</td>\n",
              "      <td>108</td>\n",
              "      <td>95</td>\n",
              "      <td>99</td>\n",
              "      <td>102</td>\n",
              "      <td>102</td>\n",
              "      <td>105</td>\n",
              "      <td>108</td>\n",
              "      <td>99</td>\n",
              "      <td>99</td>\n",
              "      <td>104</td>\n",
              "      <td>102</td>\n",
              "      <td>111</td>\n",
              "      <td>29</td>\n",
              "      <td>21</td>\n",
              "      <td>25</td>\n",
              "      <td>74</td>\n",
              "      <td>146</td>\n",
              "      <td>168</td>\n",
              "      <td>96</td>\n",
              "      <td>108</td>\n",
              "      <td>...</td>\n",
              "      <td>142</td>\n",
              "      <td>126</td>\n",
              "      <td>92</td>\n",
              "      <td>137</td>\n",
              "      <td>122</td>\n",
              "      <td>134</td>\n",
              "      <td>130</td>\n",
              "      <td>145</td>\n",
              "      <td>154</td>\n",
              "      <td>131</td>\n",
              "      <td>120</td>\n",
              "      <td>123</td>\n",
              "      <td>133</td>\n",
              "      <td>147</td>\n",
              "      <td>149</td>\n",
              "      <td>136</td>\n",
              "      <td>140</td>\n",
              "      <td>134</td>\n",
              "      <td>119</td>\n",
              "      <td>126</td>\n",
              "      <td>125</td>\n",
              "      <td>135</td>\n",
              "      <td>140</td>\n",
              "      <td>122</td>\n",
              "      <td>132</td>\n",
              "      <td>135</td>\n",
              "      <td>122</td>\n",
              "      <td>139</td>\n",
              "      <td>141</td>\n",
              "      <td>143</td>\n",
              "      <td>125</td>\n",
              "      <td>133</td>\n",
              "      <td>148</td>\n",
              "      <td>141</td>\n",
              "      <td>127</td>\n",
              "      <td>151</td>\n",
              "      <td>150</td>\n",
              "      <td>132</td>\n",
              "      <td>118</td>\n",
              "      <td>18</td>\n",
              "    </tr>\n",
              "    <tr>\n",
              "      <th>30</th>\n",
              "      <td>88</td>\n",
              "      <td>104</td>\n",
              "      <td>112</td>\n",
              "      <td>81</td>\n",
              "      <td>40</td>\n",
              "      <td>39</td>\n",
              "      <td>41</td>\n",
              "      <td>47</td>\n",
              "      <td>87</td>\n",
              "      <td>119</td>\n",
              "      <td>161</td>\n",
              "      <td>175</td>\n",
              "      <td>175</td>\n",
              "      <td>176</td>\n",
              "      <td>177</td>\n",
              "      <td>178</td>\n",
              "      <td>177</td>\n",
              "      <td>178</td>\n",
              "      <td>180</td>\n",
              "      <td>180</td>\n",
              "      <td>165</td>\n",
              "      <td>86</td>\n",
              "      <td>85</td>\n",
              "      <td>84</td>\n",
              "      <td>87</td>\n",
              "      <td>83</td>\n",
              "      <td>54</td>\n",
              "      <td>45</td>\n",
              "      <td>67</td>\n",
              "      <td>57</td>\n",
              "      <td>66</td>\n",
              "      <td>125</td>\n",
              "      <td>75</td>\n",
              "      <td>79</td>\n",
              "      <td>81</td>\n",
              "      <td>41</td>\n",
              "      <td>24</td>\n",
              "      <td>52</td>\n",
              "      <td>36</td>\n",
              "      <td>18</td>\n",
              "      <td>...</td>\n",
              "      <td>25</td>\n",
              "      <td>26</td>\n",
              "      <td>66</td>\n",
              "      <td>101</td>\n",
              "      <td>112</td>\n",
              "      <td>114</td>\n",
              "      <td>102</td>\n",
              "      <td>95</td>\n",
              "      <td>101</td>\n",
              "      <td>103</td>\n",
              "      <td>110</td>\n",
              "      <td>115</td>\n",
              "      <td>118</td>\n",
              "      <td>119</td>\n",
              "      <td>120</td>\n",
              "      <td>121</td>\n",
              "      <td>124</td>\n",
              "      <td>126</td>\n",
              "      <td>128</td>\n",
              "      <td>131</td>\n",
              "      <td>134</td>\n",
              "      <td>135</td>\n",
              "      <td>134</td>\n",
              "      <td>135</td>\n",
              "      <td>135</td>\n",
              "      <td>134</td>\n",
              "      <td>136</td>\n",
              "      <td>136</td>\n",
              "      <td>133</td>\n",
              "      <td>131</td>\n",
              "      <td>127</td>\n",
              "      <td>128</td>\n",
              "      <td>94</td>\n",
              "      <td>45</td>\n",
              "      <td>28</td>\n",
              "      <td>41</td>\n",
              "      <td>49</td>\n",
              "      <td>53</td>\n",
              "      <td>47</td>\n",
              "      <td>18</td>\n",
              "    </tr>\n",
              "    <tr>\n",
              "      <th>36</th>\n",
              "      <td>14</td>\n",
              "      <td>4</td>\n",
              "      <td>6</td>\n",
              "      <td>6</td>\n",
              "      <td>6</td>\n",
              "      <td>6</td>\n",
              "      <td>7</td>\n",
              "      <td>6</td>\n",
              "      <td>12</td>\n",
              "      <td>27</td>\n",
              "      <td>7</td>\n",
              "      <td>5</td>\n",
              "      <td>8</td>\n",
              "      <td>7</td>\n",
              "      <td>7</td>\n",
              "      <td>7</td>\n",
              "      <td>8</td>\n",
              "      <td>8</td>\n",
              "      <td>27</td>\n",
              "      <td>83</td>\n",
              "      <td>72</td>\n",
              "      <td>36</td>\n",
              "      <td>40</td>\n",
              "      <td>43</td>\n",
              "      <td>10</td>\n",
              "      <td>11</td>\n",
              "      <td>8</td>\n",
              "      <td>7</td>\n",
              "      <td>15</td>\n",
              "      <td>24</td>\n",
              "      <td>18</td>\n",
              "      <td>12</td>\n",
              "      <td>14</td>\n",
              "      <td>4</td>\n",
              "      <td>6</td>\n",
              "      <td>6</td>\n",
              "      <td>6</td>\n",
              "      <td>7</td>\n",
              "      <td>7</td>\n",
              "      <td>6</td>\n",
              "      <td>...</td>\n",
              "      <td>42</td>\n",
              "      <td>39</td>\n",
              "      <td>35</td>\n",
              "      <td>33</td>\n",
              "      <td>30</td>\n",
              "      <td>28</td>\n",
              "      <td>27</td>\n",
              "      <td>112</td>\n",
              "      <td>115</td>\n",
              "      <td>118</td>\n",
              "      <td>121</td>\n",
              "      <td>126</td>\n",
              "      <td>126</td>\n",
              "      <td>126</td>\n",
              "      <td>126</td>\n",
              "      <td>123</td>\n",
              "      <td>118</td>\n",
              "      <td>118</td>\n",
              "      <td>116</td>\n",
              "      <td>110</td>\n",
              "      <td>106</td>\n",
              "      <td>104</td>\n",
              "      <td>101</td>\n",
              "      <td>95</td>\n",
              "      <td>89</td>\n",
              "      <td>86</td>\n",
              "      <td>82</td>\n",
              "      <td>77</td>\n",
              "      <td>74</td>\n",
              "      <td>71</td>\n",
              "      <td>70</td>\n",
              "      <td>67</td>\n",
              "      <td>64</td>\n",
              "      <td>62</td>\n",
              "      <td>62</td>\n",
              "      <td>58</td>\n",
              "      <td>54</td>\n",
              "      <td>49</td>\n",
              "      <td>47</td>\n",
              "      <td>19</td>\n",
              "    </tr>\n",
              "    <tr>\n",
              "      <th>47</th>\n",
              "      <td>255</td>\n",
              "      <td>253</td>\n",
              "      <td>252</td>\n",
              "      <td>249</td>\n",
              "      <td>243</td>\n",
              "      <td>234</td>\n",
              "      <td>222</td>\n",
              "      <td>210</td>\n",
              "      <td>207</td>\n",
              "      <td>210</td>\n",
              "      <td>212</td>\n",
              "      <td>226</td>\n",
              "      <td>230</td>\n",
              "      <td>200</td>\n",
              "      <td>184</td>\n",
              "      <td>156</td>\n",
              "      <td>133</td>\n",
              "      <td>106</td>\n",
              "      <td>94</td>\n",
              "      <td>93</td>\n",
              "      <td>68</td>\n",
              "      <td>62</td>\n",
              "      <td>61</td>\n",
              "      <td>60</td>\n",
              "      <td>71</td>\n",
              "      <td>79</td>\n",
              "      <td>88</td>\n",
              "      <td>89</td>\n",
              "      <td>80</td>\n",
              "      <td>76</td>\n",
              "      <td>83</td>\n",
              "      <td>86</td>\n",
              "      <td>255</td>\n",
              "      <td>252</td>\n",
              "      <td>252</td>\n",
              "      <td>252</td>\n",
              "      <td>252</td>\n",
              "      <td>248</td>\n",
              "      <td>216</td>\n",
              "      <td>175</td>\n",
              "      <td>...</td>\n",
              "      <td>120</td>\n",
              "      <td>126</td>\n",
              "      <td>123</td>\n",
              "      <td>119</td>\n",
              "      <td>109</td>\n",
              "      <td>101</td>\n",
              "      <td>96</td>\n",
              "      <td>107</td>\n",
              "      <td>109</td>\n",
              "      <td>111</td>\n",
              "      <td>111</td>\n",
              "      <td>106</td>\n",
              "      <td>100</td>\n",
              "      <td>87</td>\n",
              "      <td>74</td>\n",
              "      <td>72</td>\n",
              "      <td>75</td>\n",
              "      <td>88</td>\n",
              "      <td>108</td>\n",
              "      <td>114</td>\n",
              "      <td>112</td>\n",
              "      <td>95</td>\n",
              "      <td>97</td>\n",
              "      <td>99</td>\n",
              "      <td>101</td>\n",
              "      <td>103</td>\n",
              "      <td>97</td>\n",
              "      <td>101</td>\n",
              "      <td>97</td>\n",
              "      <td>84</td>\n",
              "      <td>85</td>\n",
              "      <td>92</td>\n",
              "      <td>107</td>\n",
              "      <td>113</td>\n",
              "      <td>129</td>\n",
              "      <td>132</td>\n",
              "      <td>127</td>\n",
              "      <td>122</td>\n",
              "      <td>114</td>\n",
              "      <td>18</td>\n",
              "    </tr>\n",
              "  </tbody>\n",
              "</table>\n",
              "<p>5 rows × 3073 columns</p>\n",
              "</div>"
            ],
            "text/plain": [
              "      0    1    2    3    4    5  ...  3067  3068  3069  3070  3071  Target\n",
              "6    50   56   52   50   51   61  ...    60    59    64    67    63      18\n",
              "16   35   27   31   77  136  168  ...   127   151   150   132   118      18\n",
              "30   88  104  112   81   40   39  ...    28    41    49    53    47      18\n",
              "36   14    4    6    6    6    6  ...    62    58    54    49    47      19\n",
              "47  255  253  252  249  243  234  ...   129   132   127   122   114      18\n",
              "\n",
              "[5 rows x 3073 columns]"
            ]
          },
          "metadata": {
            "tags": []
          },
          "execution_count": 11
        }
      ]
    },
    {
      "cell_type": "code",
      "metadata": {
        "id": "8IeC0ExV6YKK",
        "colab": {
          "base_uri": "https://localhost:8080/",
          "height": 749
        },
        "outputId": "8f9cb444-e81f-4959-da76-cc17704b6c65"
      },
      "source": [
        "# To view sample data\n",
        "fig = plt.figure(figsize=(10, 10))\n",
        "fig.subplots_adjust(hspace=0.4, wspace=0.4)\n",
        "k=1\n",
        "for i in x[vehicle_images[vehicle_images['Target']==18].sample(16).index]: # Change Target number here ( 18 = Vehicle 1, 19 = Vehicle 2)\n",
        "    ax = fig.add_subplot(4, 4, k)\n",
        "    img = i.reshape(3,32,32).transpose([1, 2, 0])\n",
        "    fig.set_tight_layout(True) \n",
        "    ax=plt.imshow(img)\n",
        "    ax=plt.title(\"Vehicle 1\")\n",
        "    k=k+1"
      ],
      "execution_count": null,
      "outputs": [
        {
          "output_type": "display_data",
          "data": {
            "image/png": "[encoded data removed]",
            "text/plain": [
              "<Figure size 720x720 with 16 Axes>"
            ]
          },
          "metadata": {
            "tags": []
          }
        }
      ]
    },
    {
      "cell_type": "code",
      "metadata": {
        "id": "tcKhdYJc6bHF"
      },
      "source": [
        "x = vehicle_images.drop(['Target'],axis=1)\n",
        "y = vehicle_images['Target']\n",
        "\n",
        "# X_train, y_train split\n",
        "X_train, X_test, y_train, y_test = train_test_split(x,y,test_size=0.20, random_state=42)"
      ],
      "execution_count": null,
      "outputs": []
    },
    {
      "cell_type": "code",
      "metadata": {
        "id": "pMZxXifK7rRF"
      },
      "source": [
        "#Normalize data\n",
        "X_train = X_train.astype('float32')\n",
        "X_test = X_test.astype('float32')\n",
        "X_train /= 255.0\n",
        "X_test /= 255.0"
      ],
      "execution_count": null,
      "outputs": []
    },
    {
      "cell_type": "markdown",
      "metadata": {
        "id": "wgP1GQriBmnN"
      },
      "source": [
        "# Logistic Regression"
      ]
    },
    {
      "cell_type": "code",
      "metadata": {
        "id": "ujrVigjZ7sq-",
        "colab": {
          "base_uri": "https://localhost:8080/",
          "height": 399
        },
        "outputId": "72f29dc0-b1bb-44b9-d350-f8ac20cde209"
      },
      "source": [
        "# fitting logistic regression to the training set\n",
        "from sklearn.linear_model import LogisticRegression\n",
        "classifier = LogisticRegression(random_state = 0)\n",
        "classifier.fit(X_train, y_train)\n",
        "\n",
        "# Predicting the Test set results\n",
        "y_pred = classifier.predict(X_test)"
      ],
      "execution_count": null,
      "outputs": [
        {
          "output_type": "error",
          "ename": "KeyboardInterrupt",
          "evalue": "ignored",
          "traceback": [
            "\u001b[0;31m---------------------------------------------------------------------------\u001b[0m",
            "\u001b[0;31mKeyboardInterrupt\u001b[0m                         Traceback (most recent call last)",
            "\u001b[0;32m<ipython-input-15-1eb8dc79f430>\u001b[0m in \u001b[0;36m<module>\u001b[0;34m()\u001b[0m\n\u001b[1;32m      1\u001b[0m \u001b[0;32mfrom\u001b[0m \u001b[0msklearn\u001b[0m\u001b[0;34m.\u001b[0m\u001b[0mlinear_model\u001b[0m \u001b[0;32mimport\u001b[0m \u001b[0mLogisticRegression\u001b[0m\u001b[0;34m\u001b[0m\u001b[0;34m\u001b[0m\u001b[0m\n\u001b[1;32m      2\u001b[0m \u001b[0mclassifier\u001b[0m \u001b[0;34m=\u001b[0m \u001b[0mLogisticRegression\u001b[0m\u001b[0;34m(\u001b[0m\u001b[0mrandom_state\u001b[0m \u001b[0;34m=\u001b[0m \u001b[0;36m0\u001b[0m\u001b[0;34m)\u001b[0m\u001b[0;34m\u001b[0m\u001b[0;34m\u001b[0m\u001b[0m\n\u001b[0;32m----> 3\u001b[0;31m \u001b[0mclassifier\u001b[0m\u001b[0;34m.\u001b[0m\u001b[0mfit\u001b[0m\u001b[0;34m(\u001b[0m\u001b[0mX_train\u001b[0m\u001b[0;34m,\u001b[0m \u001b[0my_train\u001b[0m\u001b[0;34m)\u001b[0m\u001b[0;34m\u001b[0m\u001b[0;34m\u001b[0m\u001b[0m\n\u001b[0m\u001b[1;32m      4\u001b[0m \u001b[0;34m\u001b[0m\u001b[0m\n\u001b[1;32m      5\u001b[0m \u001b[0;31m# Predicting the Test set results\u001b[0m\u001b[0;34m\u001b[0m\u001b[0;34m\u001b[0m\u001b[0;34m\u001b[0m\u001b[0m\n",
            "\u001b[0;32m/usr/local/lib/python3.6/dist-packages/sklearn/linear_model/logistic.py\u001b[0m in \u001b[0;36mfit\u001b[0;34m(self, X, y, sample_weight)\u001b[0m\n\u001b[1;32m   1547\u001b[0m                 \u001b[0mself\u001b[0m\u001b[0;34m.\u001b[0m\u001b[0mclass_weight\u001b[0m\u001b[0;34m,\u001b[0m \u001b[0mself\u001b[0m\u001b[0;34m.\u001b[0m\u001b[0mpenalty\u001b[0m\u001b[0;34m,\u001b[0m \u001b[0mself\u001b[0m\u001b[0;34m.\u001b[0m\u001b[0mdual\u001b[0m\u001b[0;34m,\u001b[0m \u001b[0mself\u001b[0m\u001b[0;34m.\u001b[0m\u001b[0mverbose\u001b[0m\u001b[0;34m,\u001b[0m\u001b[0;34m\u001b[0m\u001b[0;34m\u001b[0m\u001b[0m\n\u001b[1;32m   1548\u001b[0m                 \u001b[0mself\u001b[0m\u001b[0;34m.\u001b[0m\u001b[0mmax_iter\u001b[0m\u001b[0;34m,\u001b[0m \u001b[0mself\u001b[0m\u001b[0;34m.\u001b[0m\u001b[0mtol\u001b[0m\u001b[0;34m,\u001b[0m \u001b[0mself\u001b[0m\u001b[0;34m.\u001b[0m\u001b[0mrandom_state\u001b[0m\u001b[0;34m,\u001b[0m\u001b[0;34m\u001b[0m\u001b[0;34m\u001b[0m\u001b[0m\n\u001b[0;32m-> 1549\u001b[0;31m                 sample_weight=sample_weight)\n\u001b[0m\u001b[1;32m   1550\u001b[0m             \u001b[0mself\u001b[0m\u001b[0;34m.\u001b[0m\u001b[0mn_iter_\u001b[0m \u001b[0;34m=\u001b[0m \u001b[0mnp\u001b[0m\u001b[0;34m.\u001b[0m\u001b[0marray\u001b[0m\u001b[0;34m(\u001b[0m\u001b[0;34m[\u001b[0m\u001b[0mn_iter_\u001b[0m\u001b[0;34m]\u001b[0m\u001b[0;34m)\u001b[0m\u001b[0;34m\u001b[0m\u001b[0;34m\u001b[0m\u001b[0m\n\u001b[1;32m   1551\u001b[0m             \u001b[0;32mreturn\u001b[0m \u001b[0mself\u001b[0m\u001b[0;34m\u001b[0m\u001b[0;34m\u001b[0m\u001b[0m\n",
            "\u001b[0;32m/usr/local/lib/python3.6/dist-packages/sklearn/svm/base.py\u001b[0m in \u001b[0;36m_fit_liblinear\u001b[0;34m(X, y, C, fit_intercept, intercept_scaling, class_weight, penalty, dual, verbose, max_iter, tol, random_state, multi_class, loss, epsilon, sample_weight)\u001b[0m\n\u001b[1;32m    919\u001b[0m         \u001b[0mX\u001b[0m\u001b[0;34m,\u001b[0m \u001b[0my_ind\u001b[0m\u001b[0;34m,\u001b[0m \u001b[0msp\u001b[0m\u001b[0;34m.\u001b[0m\u001b[0misspmatrix\u001b[0m\u001b[0;34m(\u001b[0m\u001b[0mX\u001b[0m\u001b[0;34m)\u001b[0m\u001b[0;34m,\u001b[0m \u001b[0msolver_type\u001b[0m\u001b[0;34m,\u001b[0m \u001b[0mtol\u001b[0m\u001b[0;34m,\u001b[0m \u001b[0mbias\u001b[0m\u001b[0;34m,\u001b[0m \u001b[0mC\u001b[0m\u001b[0;34m,\u001b[0m\u001b[0;34m\u001b[0m\u001b[0;34m\u001b[0m\u001b[0m\n\u001b[1;32m    920\u001b[0m         \u001b[0mclass_weight_\u001b[0m\u001b[0;34m,\u001b[0m \u001b[0mmax_iter\u001b[0m\u001b[0;34m,\u001b[0m \u001b[0mrnd\u001b[0m\u001b[0;34m.\u001b[0m\u001b[0mrandint\u001b[0m\u001b[0;34m(\u001b[0m\u001b[0mnp\u001b[0m\u001b[0;34m.\u001b[0m\u001b[0miinfo\u001b[0m\u001b[0;34m(\u001b[0m\u001b[0;34m'i'\u001b[0m\u001b[0;34m)\u001b[0m\u001b[0;34m.\u001b[0m\u001b[0mmax\u001b[0m\u001b[0;34m)\u001b[0m\u001b[0;34m,\u001b[0m\u001b[0;34m\u001b[0m\u001b[0;34m\u001b[0m\u001b[0m\n\u001b[0;32m--> 921\u001b[0;31m         epsilon, sample_weight)\n\u001b[0m\u001b[1;32m    922\u001b[0m     \u001b[0;31m# Regarding rnd.randint(..) in the above signature:\u001b[0m\u001b[0;34m\u001b[0m\u001b[0;34m\u001b[0m\u001b[0;34m\u001b[0m\u001b[0m\n\u001b[1;32m    923\u001b[0m     \u001b[0;31m# seed for srand in range [0..INT_MAX); due to limitations in Numpy\u001b[0m\u001b[0;34m\u001b[0m\u001b[0;34m\u001b[0m\u001b[0;34m\u001b[0m\u001b[0m\n",
            "\u001b[0;31mKeyboardInterrupt\u001b[0m: "
          ]
        }
      ]
    },
    {
      "cell_type": "code",
      "metadata": {
        "id": "JHZyM1c47voi"
      },
      "source": [
        "# Score for logistic regression\n",
        "\n",
        "print(classifier.score(X_test,y_test))"
      ],
      "execution_count": null,
      "outputs": []
    },
    {
      "cell_type": "code",
      "metadata": {
        "id": "e7qqGNsADRCJ"
      },
      "source": [
        "# Displaying the confusion matrix for logistic regression\n",
        "\n",
        "from sklearn.metrics import confusion_matrix\n",
        "cm = confusion_matrix(y_test, y_pred)\n",
        "plt.clf()\n",
        "plt.imshow(cm, interpolation='nearest', cmap=plt.cm.Wistia)\n",
        "classNames = ['Negative','Positive']\n",
        "plt.title('Confusion Matrix - Test Data')\n",
        "plt.ylabel('True label')\n",
        "plt.xlabel('Predicted label')\n",
        "tick_marks = np.arange(len(classNames))\n",
        "plt.xticks(tick_marks, classNames, rotation=45)\n",
        "plt.yticks(tick_marks, classNames)\n",
        "s = [['TN','FP'], ['FN', 'TP']]\n",
        "for i in range(2):\n",
        "  for j in range(2):\n",
        "    plt.text(j,i, str(s[i][j])+\" = \"+str(cm[i][j]))\n",
        "plt.show()"
      ],
      "execution_count": null,
      "outputs": []
    },
    {
      "cell_type": "code",
      "metadata": {
        "id": "rWdDaxDn8BSO"
      },
      "source": [
        "# Displaying classification report for logistic regression\n",
        "from sklearn.metrics import classification_report\n",
        "print(classification_report(y_test, y_pred))"
      ],
      "execution_count": null,
      "outputs": []
    },
    {
      "cell_type": "code",
      "metadata": {
        "id": "b4fdU3gT9LYI"
      },
      "source": [
        "#Images Grid to show actual and predicted labels from logistic regression model\n",
        "\n",
        "X_test_1 = X_test.as_matrix()\n",
        "y_test_1 = y_test.as_matrix()\n",
        "y_pred = np.where(y_pred == 18, \"vehicle1\", y_pred) \n",
        "y_test_1 = np.where(y_test_1 == 18, \"vehicle1\", y_test_1) \n",
        "y_pred = np.where(y_pred == '19', \"vehicle2\", y_pred) \n",
        "y_test_1 = np.where(y_test_1 == '19', \"vehicle2\", y_test_1)\n",
        "viz_data = np.random.choice(range(X_test_1.shape[0]),36)\n",
        "fig = plt.figure(figsize=(20, 20))\n",
        "fig.subplots_adjust(hspace = 0.4) #wspace = 0.4)\n",
        "for idx,img in enumerate(viz_data):\n",
        "    ax = fig.add_subplot(6, 6,idx+1)\n",
        "    ax = plt.imshow(X_test_1[img].reshape(3,32,32).transpose([1,2,0]))\n",
        "    plt.title(\"Actual: {}\\n Predicted: {}\".format(y_test_1[img],y_pred[img]))"
      ],
      "execution_count": null,
      "outputs": []
    },
    {
      "cell_type": "markdown",
      "metadata": {
        "id": "hJauss9i9nuy"
      },
      "source": [
        "# KNN Classifier"
      ]
    },
    {
      "cell_type": "code",
      "metadata": {
        "id": "rwTe2PCr9jv9"
      },
      "source": [
        "# Fitting KNN model\n",
        "\n",
        "from sklearn.neighbors import KNeighborsClassifier\n",
        "classifier = KNeighborsClassifier(n_neighbors = 100, metric = 'minkowski', p = 2)\n",
        "classifier.fit(X_train, y_train)\n",
        "\n",
        "# Predicting the Test set results\n",
        "y_pred = classifier.predict(X_test)"
      ],
      "execution_count": null,
      "outputs": []
    },
    {
      "cell_type": "code",
      "metadata": {
        "id": "70ZLYS2s9ru2"
      },
      "source": [
        "# Score for KNN model\n",
        "\n",
        "print(classifier.score(X_test,y_test))"
      ],
      "execution_count": null,
      "outputs": []
    },
    {
      "cell_type": "code",
      "metadata": {
        "id": "vrxO1chJ-I8G"
      },
      "source": [
        "# Displaying Confusion Matrix for KNN model\n",
        "\n",
        "cm = confusion_matrix(y_test, y_pred)\n",
        "plt.clf()\n",
        "plt.imshow(cm, interpolation='nearest', cmap=plt.cm.Wistia)\n",
        "classNames = ['Negative','Positive']\n",
        "plt.title('Confusion Matrix - Test Data')\n",
        "plt.ylabel('True label')\n",
        "plt.xlabel('Predicted label')\n",
        "tick_marks = np.arange(len(classNames))\n",
        "plt.xticks(tick_marks, classNames, rotation=45)\n",
        "plt.yticks(tick_marks, classNames)\n",
        "s = [['TN','FP'], ['FN', 'TP']]\n",
        "for i in range(2):\n",
        "  for j in range(2):\n",
        "    plt.text(j,i, str(s[i][j])+\" = \"+str(cm[i][j]))\n",
        "plt.show()"
      ],
      "execution_count": null,
      "outputs": []
    },
    {
      "cell_type": "code",
      "metadata": {
        "id": "_TNeyXx6-lXh"
      },
      "source": [
        "# Displaying classification report for KNN model\n",
        "\n",
        "from sklearn.metrics import classification_report\n",
        "print(classification_report(y_test, y_pred))"
      ],
      "execution_count": null,
      "outputs": []
    },
    {
      "cell_type": "code",
      "metadata": {
        "id": "mYJmIXre-qIe"
      },
      "source": [
        "#Images Grid to show actual and predicted labels from KNN model\n",
        "\n",
        "X_test_1 = X_test.as_matrix()\n",
        "y_test_1 = y_test.as_matrix()\n",
        "y_pred = np.where(y_pred == 18, \"vehicle1\", y_pred) \n",
        "y_test_1 = np.where(y_test_1 == 18, \"vehicle1\", y_test_1) \n",
        "y_pred = np.where(y_pred == '19', \"vehicle2\", y_pred) \n",
        "y_test_1 = np.where(y_test_1 == '19', \"vehicle2\", y_test_1)\n",
        "viz_data = np.random.choice(range(X_test_1.shape[0]),36)\n",
        "fig = plt.figure(figsize=(20, 20))\n",
        "fig.subplots_adjust(hspace = 0.4)\n",
        "for idx,img in enumerate(viz_data):\n",
        "    ax = fig.add_subplot(6, 6,idx+1)\n",
        "    ax = plt.imshow(X_test_1[img].reshape(3,32,32).transpose([1,2,0]))\n",
        "    plt.title(\"Actual: {}\\n Predicted: {}\".format(y_test_1[img],y_pred[img]))"
      ],
      "execution_count": null,
      "outputs": []
    },
    {
      "cell_type": "markdown",
      "metadata": {
        "id": "klLS0weq-3_5"
      },
      "source": [
        "#**Naive Bayes Classifier**"
      ]
    },
    {
      "cell_type": "code",
      "metadata": {
        "id": "IZ1PNuj5-757"
      },
      "source": [
        "# fitting Naive Bayes Classifier to the training set\n",
        "from sklearn.naive_bayes import GaussianNB\n",
        "classifier = GaussianNB()\n",
        "classifier.fit(X_train, y_train)\n",
        "\n",
        "# Predicting the Test set results\n",
        "y_pred = classifier.predict(X_test)"
      ],
      "execution_count": null,
      "outputs": []
    },
    {
      "cell_type": "code",
      "metadata": {
        "id": "VBxGdsas_DsW"
      },
      "source": [
        "# Score for Naive Bayes\n",
        "\n",
        "print(classifier.score(X_test,y_test))"
      ],
      "execution_count": null,
      "outputs": []
    },
    {
      "cell_type": "code",
      "metadata": {
        "id": "Vqcp56R6_FIU"
      },
      "source": [
        "# Displaying the confusion matrix for Naive Bayes model\n",
        "\n",
        "cm = confusion_matrix(y_test, y_pred)\n",
        "plt.clf()\n",
        "plt.imshow(cm, interpolation='nearest', cmap=plt.cm.Wistia)\n",
        "classNames = ['Negative','Positive']\n",
        "plt.title('Confusion Matrix - Test Data')\n",
        "plt.ylabel('True label')\n",
        "plt.xlabel('Predicted label')\n",
        "tick_marks = np.arange(len(classNames))\n",
        "plt.xticks(tick_marks, classNames, rotation=45)\n",
        "plt.yticks(tick_marks, classNames)\n",
        "s = [['TN','FP'], ['FN', 'TP']]\n",
        "for i in range(2):\n",
        "  for j in range(2):\n",
        "    plt.text(j,i, str(s[i][j])+\" = \"+str(cm[i][j]))\n",
        "plt.show()"
      ],
      "execution_count": null,
      "outputs": []
    },
    {
      "cell_type": "code",
      "metadata": {
        "id": "l8MISe0h_K6J"
      },
      "source": [
        "# Displaying classification report for Naive Bayes model\n",
        "\n",
        "from sklearn.metrics import classification_report\n",
        "print(classification_report(y_test, y_pred))"
      ],
      "execution_count": null,
      "outputs": []
    },
    {
      "cell_type": "code",
      "metadata": {
        "id": "knXD2h1P_NWA"
      },
      "source": [
        "#Images Grid to show actual and predicted labels from Naive Bayes model\n",
        "\n",
        "X_test_1 = X_test.as_matrix()\n",
        "y_test_1 = y_test.as_matrix()\n",
        "y_pred = np.where(y_pred == 18, \"vehicle1\", y_pred) \n",
        "y_test_1 = np.where(y_test_1 == 18, \"vehicle1\", y_test_1) \n",
        "y_pred = np.where(y_pred == '19', \"vehicle2\", y_pred) \n",
        "y_test_1 = np.where(y_test_1 == '19', \"vehicle2\", y_test_1)\n",
        "viz_data = np.random.choice(range(X_test_1.shape[0]),36)\n",
        "fig = plt.figure(figsize=(20, 20))\n",
        "fig.subplots_adjust(hspace = 0.4)\n",
        "for idx,img in enumerate(viz_data):\n",
        "    ax = fig.add_subplot(6, 6,idx+1)\n",
        "    ax = plt.imshow(X_test_1[img].reshape(3,32,32).transpose([1,2,0]))\n",
        "    plt.title(\"Actual: {} \\n Predicted: {}\".format(y_test_1[img],y_pred[img]))"
      ],
      "execution_count": null,
      "outputs": []
    },
    {
      "cell_type": "markdown",
      "metadata": {
        "id": "3TC6pRMFB_Yf"
      },
      "source": [
        "# Decision Tree Classifier"
      ]
    },
    {
      "cell_type": "code",
      "metadata": {
        "id": "A8P35iUu_SMO"
      },
      "source": [
        "# Fitting Decision Tree Classification to the Training set\n",
        "from sklearn.tree import DecisionTreeClassifier\n",
        "classifier = DecisionTreeClassifier(criterion = 'entropy', random_state = 0)\n",
        "classifier.fit(X_train, y_train)\n",
        "\n",
        "# Predicting the Test set results\n",
        "y_pred = classifier.predict(X_test)"
      ],
      "execution_count": null,
      "outputs": []
    },
    {
      "cell_type": "code",
      "metadata": {
        "id": "TpLVpz4w_hxF"
      },
      "source": [
        "# Score for decision tree model\n",
        "\n",
        "print(classifier.score(X_test,y_test))"
      ],
      "execution_count": null,
      "outputs": []
    },
    {
      "cell_type": "code",
      "metadata": {
        "id": "wGq5BirB_rkn"
      },
      "source": [
        "# Displaying the confusion matrix for Decision Tree model\n",
        "\n",
        "cm = confusion_matrix(y_test, y_pred)\n",
        "plt.clf()\n",
        "plt.imshow(cm, interpolation='nearest', cmap=plt.cm.Wistia)\n",
        "classNames = ['Negative','Positive']\n",
        "plt.title('Confusion Matrix - Test Data')\n",
        "plt.ylabel('True label')\n",
        "plt.xlabel('Predicted label')\n",
        "tick_marks = np.arange(len(classNames))\n",
        "plt.xticks(tick_marks, classNames, rotation=45)\n",
        "plt.yticks(tick_marks, classNames)\n",
        "s = [['TN','FP'], ['FN', 'TP']]\n",
        "for i in range(2):\n",
        "  for j in range(2):\n",
        "    plt.text(j,i, str(s[i][j])+\" = \"+str(cm[i][j]))\n",
        "plt.show()"
      ],
      "execution_count": null,
      "outputs": []
    },
    {
      "cell_type": "code",
      "metadata": {
        "id": "bProrc0B_0XO"
      },
      "source": [
        "# Displaying classification report for Decision Tree model\n",
        "\n",
        "from sklearn.metrics import classification_report\n",
        "print(classification_report(y_test, y_pred))"
      ],
      "execution_count": null,
      "outputs": []
    },
    {
      "cell_type": "code",
      "metadata": {
        "id": "zbvV6WlWAAxS"
      },
      "source": [
        "#Images Grid to show actual and predicted labels from Decision Tree model\n",
        "\n",
        "X_test_1 = X_test.as_matrix()\n",
        "y_test_1 = y_test.as_matrix()\n",
        "y_pred = np.where(y_pred == 18, \"vehicle1\", y_pred) \n",
        "y_test_1 = np.where(y_test_1 == 18, \"vehicle1\", y_test_1) \n",
        "y_pred = np.where(y_pred == '19', \"vehicle2\", y_pred) \n",
        "y_test_1 = np.where(y_test_1 == '19', \"vehicle2\", y_test_1)\n",
        "viz_data = np.random.choice(range(X_test_1.shape[0]),36)\n",
        "fig = plt.figure(figsize=(20, 20))\n",
        "fig.subplots_adjust(hspace = 0.4)\n",
        "for idx,img in enumerate(viz_data):\n",
        "    ax = fig.add_subplot(6, 6,idx+1)\n",
        "    ax = plt.imshow(X_test_1[img].reshape(3,32,32).transpose([1,2,0]))\n",
        "    plt.title(\"Actual: {} \\n Predicted: {}\".format(y_test_1[img],y_pred[img]))"
      ],
      "execution_count": null,
      "outputs": []
    },
    {
      "cell_type": "markdown",
      "metadata": {
        "id": "gup9af0EAS43"
      },
      "source": [
        "# Random Forest Classifer"
      ]
    },
    {
      "cell_type": "code",
      "metadata": {
        "id": "FEuFgub-AYwL"
      },
      "source": [
        "# Fitting Random Forest Classification to the Training set\n",
        "from sklearn.ensemble import RandomForestClassifier\n",
        "classifier = RandomForestClassifier(n_estimators = 155, criterion = 'entropy', random_state = 0)\n",
        "classifier.fit(X_train, y_train)\n",
        "\n",
        "# Predicting the Test set results\n",
        "y_pred = classifier.predict(X_test)"
      ],
      "execution_count": null,
      "outputs": []
    },
    {
      "cell_type": "code",
      "metadata": {
        "id": "gIzVRUV6Aas8"
      },
      "source": [
        "# Score for Random forest model\n",
        "print(classifier.score(X_test,y_test))"
      ],
      "execution_count": null,
      "outputs": []
    },
    {
      "cell_type": "code",
      "metadata": {
        "id": "OOjsWu1-Arxw"
      },
      "source": [
        "# Displaying the confusion matrix for Random forest model\n",
        "\n",
        "cm = confusion_matrix(y_test, y_pred)\n",
        "plt.clf()\n",
        "plt.imshow(cm, interpolation='nearest', cmap=plt.cm.Wistia)\n",
        "classNames = ['Negative','Positive']\n",
        "plt.title('Confusion Matrix - Test Data')\n",
        "plt.ylabel('True label')\n",
        "plt.xlabel('Predicted label')\n",
        "tick_marks = np.arange(len(classNames))\n",
        "plt.xticks(tick_marks, classNames, rotation=45)\n",
        "plt.yticks(tick_marks, classNames)\n",
        "s = [['TN','FP'], ['FN', 'TP']]\n",
        "for i in range(2):\n",
        "  for j in range(2):\n",
        "    plt.text(j,i, str(s[i][j])+\" = \"+str(cm[i][j]))\n",
        "plt.show()"
      ],
      "execution_count": null,
      "outputs": []
    },
    {
      "cell_type": "code",
      "metadata": {
        "id": "jRvmpNGmAt2g"
      },
      "source": [
        "# Displaying classification report for random forest model\n",
        "\n",
        "from sklearn.metrics import classification_report\n",
        "print(classification_report(y_test, y_pred))"
      ],
      "execution_count": null,
      "outputs": []
    },
    {
      "cell_type": "code",
      "metadata": {
        "id": "HzqlkVZaA2Dz"
      },
      "source": [
        "#Images Grid to show actual and predicted labels from random forest model\n",
        "\n",
        "X_test_1 = X_test.as_matrix()\n",
        "y_test_1 = y_test.as_matrix()\n",
        "y_pred = np.where(y_pred == 18, \"vehicle1\", y_pred) \n",
        "y_test_1 = np.where(y_test_1 == 18, \"vehicle1\", y_test_1) \n",
        "y_pred = np.where(y_pred == '19', \"vehicle2\", y_pred) \n",
        "y_test_1 = np.where(y_test_1 == '19', \"vehicle2\", y_test_1)\n",
        "viz_data = np.random.choice(range(X_test_1.shape[0]),36)\n",
        "fig = plt.figure(figsize=(20, 20))\n",
        "fig.subplots_adjust(hspace = 0.4)\n",
        "for idx,img in enumerate(viz_data):\n",
        "    ax = fig.add_subplot(6, 6,idx+1)\n",
        "    ax = plt.imshow(X_test_1[img].reshape(3,32,32).transpose([1,2,0]))\n",
        "    plt.title(\"Actual: {}\\n Predicted: {}\".format(y_test_1[img],y_pred[img]))"
      ],
      "execution_count": null,
      "outputs": []
    },
    {
      "cell_type": "markdown",
      "metadata": {
        "id": "DK_446HcK8Pf"
      },
      "source": [
        "# SVM"
      ]
    },
    {
      "cell_type": "code",
      "metadata": {
        "id": "-D_Z2ik3K9pk"
      },
      "source": [
        "# fitting SVM model to the training set\n",
        "from sklearn import svm\n",
        "from sklearn.model_selection import GridSearchCV\n",
        "\n",
        "param_grid = [\n",
        "  {'C': [1, 10, 100, 1000], 'kernel': ['linear']},\n",
        "  {'C': [1, 10, 100, 1000], 'gamma': [0.001, 0.0001], 'kernel': ['rbf']},\n",
        " ]\n",
        "svc = svm.SVC()\n",
        "clf = GridSearchCV(svc, param_grid)\n",
        "clf.fit(X_train, y_train)\n",
        "# Predicting the Test set results\n",
        "y_pred = clf.predict(X_test)"
      ],
      "execution_count": null,
      "outputs": []
    },
    {
      "cell_type": "code",
      "metadata": {
        "id": "gKU0RPL0LCsq"
      },
      "source": [
        "# Score for SVM model\n",
        "\n",
        "print(clf.score(X_test,y_test))"
      ],
      "execution_count": null,
      "outputs": []
    },
    {
      "cell_type": "code",
      "metadata": {
        "id": "DbkHZ8lLLF0L"
      },
      "source": [
        "# Displaying the confusion matrix for SVM model\n",
        "\n",
        "cm = confusion_matrix(y_test, y_pred)\n",
        "plt.clf()\n",
        "plt.imshow(cm, interpolation='nearest', cmap=plt.cm.Wistia)\n",
        "classNames = ['Negative','Positive']\n",
        "plt.title('Confusion Matrix - Test Data')\n",
        "plt.ylabel('True label')\n",
        "plt.xlabel('Predicted label')\n",
        "tick_marks = np.arange(len(classNames))\n",
        "plt.xticks(tick_marks, classNames, rotation=45)\n",
        "plt.yticks(tick_marks, classNames)\n",
        "s = [['TN','FP'], ['FN', 'TP']]\n",
        "for i in range(2):\n",
        "  for j in range(2):\n",
        "    plt.text(j,i, str(s[i][j])+\" = \"+str(cm[i][j]))\n",
        "plt.show()"
      ],
      "execution_count": null,
      "outputs": []
    },
    {
      "cell_type": "code",
      "metadata": {
        "id": "Cxv4p7NHLZkI"
      },
      "source": [
        "# Displaying classification report for SVM model\n",
        "\n",
        "from sklearn.metrics import classification_report\n",
        "print(classification_report(y_test, y_pred))"
      ],
      "execution_count": null,
      "outputs": []
    },
    {
      "cell_type": "code",
      "metadata": {
        "id": "HbaumOEnLbVJ"
      },
      "source": [
        "#Images Grid to show actual and predicted labels from SVM model\n",
        "X_test_1 = X_test.as_matrix()\n",
        "y_test_1 = y_test.as_matrix()\n",
        "y_pred = np.where(y_pred == 18, \"vehicle1\", y_pred) \n",
        "y_test_1 = np.where(y_test_1 == 18, \"vehicle1\", y_test_1) \n",
        "y_pred = np.where(y_pred == '19', \"vehicle2\", y_pred) \n",
        "y_test_1 = np.where(y_test_1 == '19', \"vehicle2\", y_test_1)\n",
        "viz_data = np.random.choice(range(X_test_1.shape[0]),36)\n",
        "fig = plt.figure(figsize=(20, 20))\n",
        "fig.subplots_adjust(hspace = 0.4)\n",
        "for idx,img in enumerate(viz_data):\n",
        "    ax = fig.add_subplot(6, 6,idx+1)\n",
        "    ax = plt.imshow(X_test_1[img].reshape(3,32,32).transpose([1,2,0]))\n",
        "    plt.title(\"Actual: {} \\n Predicted: {}\".format(y_test_1[img],y_pred[img]))"
      ],
      "execution_count": null,
      "outputs": []
    },
    {
      "cell_type": "markdown",
      "metadata": {
        "id": "Q4UZVi3DYqbr"
      },
      "source": [
        "# CNN"
      ]
    },
    {
      "cell_type": "code",
      "metadata": {
        "id": "qNsKrQPqYrcN"
      },
      "source": [
        "y_train = pd.get_dummies(y_train,drop_first=True)\n",
        "y_test = pd.get_dummies(y_test,drop_first=True)"
      ],
      "execution_count": null,
      "outputs": []
    },
    {
      "cell_type": "code",
      "metadata": {
        "id": "rTPRyIldueXc"
      },
      "source": [
        "from keras.utils import np_utils\n",
        "# one hot encode outputs\n",
        "y_train = to_categorical(y_train,num_classes=2)\n",
        "y_test = to_categorical(y_test,num_classes=2)\n",
        "num_classes = y_test.shape[1]"
      ],
      "execution_count": null,
      "outputs": []
    },
    {
      "cell_type": "code",
      "metadata": {
        "id": "qO3L117LungU"
      },
      "source": [
        "X_train = X_train.values\n",
        "X_test = X_test.values"
      ],
      "execution_count": null,
      "outputs": []
    },
    {
      "cell_type": "code",
      "metadata": {
        "id": "Io8jovFVurAy"
      },
      "source": [
        "\n",
        "X_train = X_train.reshape(X_train.shape[0],3,32,32)\n",
        "X_test = X_test.reshape(X_test.shape[0],3,32,32)"
      ],
      "execution_count": null,
      "outputs": []
    },
    {
      "cell_type": "code",
      "metadata": {
        "id": "IVvsQ2lvYtlp",
        "colab": {
          "base_uri": "https://localhost:8080/",
          "height": 296
        },
        "outputId": "b9911806-41c6-4206-e63a-c72e57a20ad8"
      },
      "source": [
        "model3=Sequential()\n",
        "\n",
        "model3.add(Conv2D(128, (3, 3), padding='same',input_shape=X_train.shape[1:]))\n",
        "model3.add(Activation('relu'))\n",
        "model3.add(Conv2D(128, (3, 3)))\n",
        "model3.add(Activation('relu'))\n",
        "model3.add(MaxPooling2D(pool_size=(2, 2)))\n",
        "model3.add(Dropout(0.20))\n",
        "\n",
        "model3.add(Conv2D(256, (3, 3), padding='same'))\n",
        "model3.add(Activation('relu'))\n",
        "model3.add(Conv2D(256, (3, 3)))\n",
        "model3.add(Activation('relu'))\n",
        "model3.add(MaxPooling2D(pool_size=(2, 2)))\n",
        "model3.add(Dropout(0.25))\n",
        "\n",
        "model3.add(Conv2D(512, (3, 3), padding='same'))\n",
        "model3.add(Activation('relu'))\n",
        "model3.add(Conv2D(512, (3, 3)))\n",
        "model3.add(Activation('relu'))\n",
        "model3.add(MaxPooling2D(pool_size=(2, 2)))\n",
        "model3.add(Dropout(0.5))\n",
        "\n",
        "model3.add(Flatten())\n",
        "model3.add(Dense(1024))\n",
        "model3.add(Activation('relu'))\n",
        "model3.add(Dropout(0.5))\n",
        "model3.add(Dense(2))\n",
        "model3.add(Activation('softmax'))"
      ],
      "execution_count": null,
      "outputs": [
        {
          "output_type": "stream",
          "text": [
            "WARNING:tensorflow:From /usr/local/lib/python3.6/dist-packages/keras/backend/tensorflow_backend.py:74: The name tf.get_default_graph is deprecated. Please use tf.compat.v1.get_default_graph instead.\n",
            "\n",
            "WARNING:tensorflow:From /usr/local/lib/python3.6/dist-packages/keras/backend/tensorflow_backend.py:517: The name tf.placeholder is deprecated. Please use tf.compat.v1.placeholder instead.\n",
            "\n",
            "WARNING:tensorflow:From /usr/local/lib/python3.6/dist-packages/keras/backend/tensorflow_backend.py:4138: The name tf.random_uniform is deprecated. Please use tf.random.uniform instead.\n",
            "\n",
            "WARNING:tensorflow:From /usr/local/lib/python3.6/dist-packages/keras/backend/tensorflow_backend.py:174: The name tf.get_default_session is deprecated. Please use tf.compat.v1.get_default_session instead.\n",
            "\n",
            "WARNING:tensorflow:From /usr/local/lib/python3.6/dist-packages/keras/backend/tensorflow_backend.py:181: The name tf.ConfigProto is deprecated. Please use tf.compat.v1.ConfigProto instead.\n",
            "\n",
            "WARNING:tensorflow:From /usr/local/lib/python3.6/dist-packages/keras/backend/tensorflow_backend.py:3976: The name tf.nn.max_pool is deprecated. Please use tf.nn.max_pool2d instead.\n",
            "\n",
            "WARNING:tensorflow:From /usr/local/lib/python3.6/dist-packages/keras/backend/tensorflow_backend.py:3445: calling dropout (from tensorflow.python.ops.nn_ops) with keep_prob is deprecated and will be removed in a future version.\n",
            "Instructions for updating:\n",
            "Please use `rate` instead of `keep_prob`. Rate should be set to `rate = 1 - keep_prob`.\n"
          ],
          "name": "stdout"
        }
      ]
    },
    {
      "cell_type": "code",
      "metadata": {
        "id": "uIAeNlYKu4MA",
        "colab": {
          "base_uri": "https://localhost:8080/",
          "height": 967
        },
        "outputId": "cf3000ed-dc16-46a0-8c1f-27e11e5e348e"
      },
      "source": [
        "model3.summary()"
      ],
      "execution_count": null,
      "outputs": [
        {
          "output_type": "stream",
          "text": [
            "_________________________________________________________________\n",
            "Layer (type)                 Output Shape              Param #   \n",
            "=================================================================\n",
            "conv2d_1 (Conv2D)            (None, 128, 32, 32)       3584      \n",
            "_________________________________________________________________\n",
            "activation_1 (Activation)    (None, 128, 32, 32)       0         \n",
            "_________________________________________________________________\n",
            "conv2d_2 (Conv2D)            (None, 128, 30, 30)       147584    \n",
            "_________________________________________________________________\n",
            "activation_2 (Activation)    (None, 128, 30, 30)       0         \n",
            "_________________________________________________________________\n",
            "max_pooling2d_1 (MaxPooling2 (None, 128, 15, 15)       0         \n",
            "_________________________________________________________________\n",
            "dropout_1 (Dropout)          (None, 128, 15, 15)       0         \n",
            "_________________________________________________________________\n",
            "conv2d_3 (Conv2D)            (None, 256, 15, 15)       295168    \n",
            "_________________________________________________________________\n",
            "activation_3 (Activation)    (None, 256, 15, 15)       0         \n",
            "_________________________________________________________________\n",
            "conv2d_4 (Conv2D)            (None, 256, 13, 13)       590080    \n",
            "_________________________________________________________________\n",
            "activation_4 (Activation)    (None, 256, 13, 13)       0         \n",
            "_________________________________________________________________\n",
            "max_pooling2d_2 (MaxPooling2 (None, 256, 6, 6)         0         \n",
            "_________________________________________________________________\n",
            "dropout_2 (Dropout)          (None, 256, 6, 6)         0         \n",
            "_________________________________________________________________\n",
            "conv2d_5 (Conv2D)            (None, 512, 6, 6)         1180160   \n",
            "_________________________________________________________________\n",
            "activation_5 (Activation)    (None, 512, 6, 6)         0         \n",
            "_________________________________________________________________\n",
            "conv2d_6 (Conv2D)            (None, 512, 4, 4)         2359808   \n",
            "_________________________________________________________________\n",
            "activation_6 (Activation)    (None, 512, 4, 4)         0         \n",
            "_________________________________________________________________\n",
            "max_pooling2d_3 (MaxPooling2 (None, 512, 2, 2)         0         \n",
            "_________________________________________________________________\n",
            "dropout_3 (Dropout)          (None, 512, 2, 2)         0         \n",
            "_________________________________________________________________\n",
            "flatten_1 (Flatten)          (None, 2048)              0         \n",
            "_________________________________________________________________\n",
            "dense_1 (Dense)              (None, 1024)              2098176   \n",
            "_________________________________________________________________\n",
            "activation_7 (Activation)    (None, 1024)              0         \n",
            "_________________________________________________________________\n",
            "dropout_4 (Dropout)          (None, 1024)              0         \n",
            "_________________________________________________________________\n",
            "dense_2 (Dense)              (None, 2)                 2050      \n",
            "_________________________________________________________________\n",
            "activation_8 (Activation)    (None, 2)                 0         \n",
            "=================================================================\n",
            "Total params: 6,676,610\n",
            "Trainable params: 6,676,610\n",
            "Non-trainable params: 0\n",
            "_________________________________________________________________\n"
          ],
          "name": "stdout"
        }
      ]
    },
    {
      "cell_type": "code",
      "metadata": {
        "id": "GsVaNv1kb0yr",
        "colab": {
          "base_uri": "https://localhost:8080/",
          "height": 124
        },
        "outputId": "65b7c0a4-5144-486c-ba9f-4c8472219515"
      },
      "source": [
        "opt = Adam(lr=0.00005, decay=1e-6)\n",
        "\n",
        "model3.compile(loss='binary_crossentropy',\n",
        "              optimizer=opt,\n",
        "              metrics=['accuracy'])"
      ],
      "execution_count": null,
      "outputs": [
        {
          "output_type": "stream",
          "text": [
            "WARNING:tensorflow:From /usr/local/lib/python3.6/dist-packages/keras/optimizers.py:790: The name tf.train.Optimizer is deprecated. Please use tf.compat.v1.train.Optimizer instead.\n",
            "\n",
            "WARNING:tensorflow:From /usr/local/lib/python3.6/dist-packages/tensorflow/python/ops/nn_impl.py:180: add_dispatch_support.<locals>.wrapper (from tensorflow.python.ops.array_ops) is deprecated and will be removed in a future version.\n",
            "Instructions for updating:\n",
            "Use tf.where in 2.0, which has the same broadcast rule as np.where\n"
          ],
          "name": "stdout"
        }
      ]
    },
    {
      "cell_type": "code",
      "metadata": {
        "id": "FwcIzeWJZrqn",
        "colab": {
          "base_uri": "https://localhost:8080/",
          "height": 35
        },
        "outputId": "8a33b008-f7d6-4728-e1d9-12973a5d2fd6"
      },
      "source": [
        "print('Using real-time data augmentation.')\n",
        "\n",
        "datagen = ImageDataGenerator(\n",
        "\tfeaturewise_center=False, \n",
        "\tsamplewise_center=False,  \n",
        "\tfeaturewise_std_normalization=False,\n",
        "\tsamplewise_std_normalization=False, \n",
        "\tzca_whitening=False, \n",
        "\trotation_range=0, \n",
        "\twidth_shift_range=0.1, \n",
        "\theight_shift_range=0.1,\n",
        "\thorizontal_flip=True, \n",
        "\tvertical_flip=False) \n",
        "\n",
        "datagen.fit(X_train)"
      ],
      "execution_count": null,
      "outputs": [
        {
          "output_type": "stream",
          "text": [
            "Using real-time data augmentation.\n"
          ],
          "name": "stdout"
        }
      ]
    },
    {
      "cell_type": "code",
      "metadata": {
        "id": "9_F-3utqbg0I",
        "colab": {
          "base_uri": "https://localhost:8080/",
          "height": 383
        },
        "outputId": "0b9ce7ab-c7cc-4692-b1ba-75f6609de437"
      },
      "source": [
        "#Let's train the model\n",
        "epochs = 10\n",
        "#batch_size=128\n",
        "hist = model3.fit_generator(datagen.flow(X_train, y_train,\n",
        "    batch_size=128,shuffle=True),\n",
        "    steps_per_epoch=X_train.shape[0] // 256,\n",
        "    epochs=epochs,\n",
        "    validation_data=(X_test, y_test),\n",
        "    workers=4)"
      ],
      "execution_count": null,
      "outputs": [
        {
          "output_type": "stream",
          "text": [
            "Epoch 1/10\n",
            "18/18 [==============================] - 9s 506ms/step - loss: 0.6953 - acc: 0.4870 - val_loss: 0.6926 - val_acc: 0.4925\n",
            "Epoch 2/10\n",
            "18/18 [==============================] - 3s 146ms/step - loss: 0.6921 - acc: 0.5174 - val_loss: 0.6914 - val_acc: 0.5083\n",
            "Epoch 3/10\n",
            "18/18 [==============================] - 3s 189ms/step - loss: 0.6923 - acc: 0.5035 - val_loss: 0.6903 - val_acc: 0.5783\n",
            "Epoch 4/10\n",
            "18/18 [==============================] - 3s 146ms/step - loss: 0.6914 - acc: 0.5104 - val_loss: 0.6865 - val_acc: 0.5208\n",
            "Epoch 5/10\n",
            "18/18 [==============================] - 3s 144ms/step - loss: 0.6863 - acc: 0.5530 - val_loss: 0.6776 - val_acc: 0.5850\n",
            "Epoch 6/10\n",
            "18/18 [==============================] - 3s 146ms/step - loss: 0.6763 - acc: 0.5642 - val_loss: 0.6535 - val_acc: 0.6183\n",
            "Epoch 7/10\n",
            "18/18 [==============================] - 3s 143ms/step - loss: 0.6550 - acc: 0.6008 - val_loss: 0.6495 - val_acc: 0.6125\n",
            "Epoch 8/10\n",
            "18/18 [==============================] - 3s 147ms/step - loss: 0.6545 - acc: 0.6033 - val_loss: 0.6303 - val_acc: 0.6317\n",
            "Epoch 9/10\n",
            "18/18 [==============================] - 3s 144ms/step - loss: 0.6547 - acc: 0.5964 - val_loss: 0.6328 - val_acc: 0.6367\n",
            "Epoch 10/10\n",
            " 6/18 [=========>....................] - ETA: 1s - loss: 0.6348 - acc: 0.6263"
          ],
          "name": "stdout"
        }
      ]
    },
    {
      "cell_type": "code",
      "metadata": {
        "id": "jDMnuFqRZ2uD"
      },
      "source": [
        "scores = model3.evaluate(X_test, y_test, verbose=0)\n",
        "print(\"Accuracy: %.2f%%\" % (scores[1]*100))"
      ],
      "execution_count": null,
      "outputs": []
    },
    {
      "cell_type": "code",
      "metadata": {
        "id": "GRvKj2taZ4cd"
      },
      "source": [
        "def plot_model_history(model_history):\n",
        "    fig, axs = plt.subplots(1,2,figsize=(15,5))\n",
        "    # summarize history for accuracy\n",
        "    axs[0].plot(range(1,len(model_history.history['acc'])+1),model_history.history['acc'])\n",
        "    axs[0].plot(range(1,len(model_history.history['val_acc'])+1),model_history.history['val_acc'])\n",
        "    axs[0].set_title('Model Accuracy')\n",
        "    axs[0].set_ylabel('Accuracy')\n",
        "    axs[0].set_xlabel('Epoch')\n",
        "    axs[0].set_xticks(np.arange(1,len(model_history.history['acc'])+1),len(model_history.history['acc'])/10)\n",
        "    axs[0].legend(['train', 'test'], loc='best')\n",
        "    # summarize history for loss\n",
        "    axs[1].plot(range(1,len(model_history.history['loss'])+1),model_history.history['loss'])\n",
        "    axs[1].plot(range(1,len(model_history.history['val_loss'])+1),model_history.history['val_loss'])\n",
        "    axs[1].set_title('Model Loss')\n",
        "    axs[1].set_ylabel('Loss')\n",
        "    axs[1].set_xlabel('Epoch')\n",
        "    axs[1].set_xticks(np.arange(1,len(model_history.history['loss'])+1),len(model_history.history['loss'])/10)\n",
        "    axs[1].legend(['train', 'test'], loc='best')\n",
        "    plt.show()\n",
        "    \n",
        "plot_model_history(hist)"
      ],
      "execution_count": null,
      "outputs": []
    },
    {
      "cell_type": "code",
      "metadata": {
        "id": "Rvd8VanfZ8Tb"
      },
      "source": [
        "from sklearn.metrics import classification_report, confusion_matrix\n",
        "Y_pred = model3.predict(X_test, verbose=2)\n",
        "y_pred = np.argmax(Y_pred, axis=1)\n",
        "\n",
        "cm = confusion_matrix(np.argmax(y_test,axis=1),y_pred)\n",
        "plt.clf()\n",
        "plt.imshow(cm, interpolation='nearest', cmap=plt.cm.Wistia)\n",
        "classNames = ['Negative','Positive']\n",
        "plt.title('Confusion Matrix - Test Data')\n",
        "plt.ylabel('True label')\n",
        "plt.xlabel('Predicted label')\n",
        "tick_marks = np.arange(len(classNames))\n",
        "plt.xticks(tick_marks, classNames, rotation=45)\n",
        "plt.yticks(tick_marks, classNames)\n",
        "s = [['TN','FP'], ['FN', 'TP']]\n",
        "for i in range(2):\n",
        "  for j in range(2):\n",
        "    plt.text(j,i, str(s[i][j])+\" = \"+str(cm[i][j]))\n",
        "plt.show()"
      ],
      "execution_count": null,
      "outputs": []
    },
    {
      "cell_type": "code",
      "metadata": {
        "id": "cVC8P4DuaCNq"
      },
      "source": [
        "from sklearn.metrics import classification_report\n",
        "cp = classification_report(np.argmax(y_test,axis=1),y_pred)\n",
        "print(cp)"
      ],
      "execution_count": null,
      "outputs": []
    },
    {
      "cell_type": "code",
      "metadata": {
        "id": "7fwwKfNUaKvT"
      },
      "source": [
        "#print out randomly selected images(black/red labl-->correct/wrong prediction )\n",
        "def cifar_grid_c(X,Y,inds,n_col, predictions=None):\n",
        "  if predictions is not None:\n",
        "    if Y.shape != predictions.shape:\n",
        "      print(\"Predictions must equal Y in length!\")\n",
        "      return(None)\n",
        "  N = len(inds)\n",
        "  n_row = int(ceil(1.0*N/n_col))\n",
        "  fig, axes = plt.subplots(n_row,n_col,figsize=(10,10))\n",
        "  \n",
        "#  clabels = labels[\"label_names\"]\n",
        "  clabels = ['vehicles 1','vehicles 2']\n",
        "  print(type(clabels))\n",
        "  for j in range(n_row):\n",
        "    for k in range(n_col):\n",
        "      i_inds = (j*n_col)+k\n",
        "      i_data = inds[i_inds]\n",
        "      \n",
        "     # axes[j][k].set_axis_off()\n",
        "      if i_inds < N:\n",
        "        rgb = X[[i_data,...]]\n",
        "        #print(rgb.shape)\n",
        "        img = rgb.reshape(3,32,32).transpose([1, 2, 0])\n",
        "        axes[j][k].imshow(img, interpolation='nearest')\n",
        "        label = clabels[np.argmax(Y[i_data,...])]\n",
        "        axes[j][k].set_title(label)\n",
        "        if predictions is not None:\n",
        "          pred = clabels[np.argmax(predictions[i_data,...])]\n",
        "          if label != pred:\n",
        "            label += \" n\"\n",
        "            axes[j][k].set_title(pred, color='red')            \n",
        "  \n",
        "  fig.set_tight_layout(True)"
      ],
      "execution_count": null,
      "outputs": []
    },
    {
      "cell_type": "code",
      "metadata": {
        "id": "bcnyIA6FxDGx"
      },
      "source": [
        "num_predictions = 36\n",
        "predict_gen = model3.predict_generator(datagen.flow(X_test, y_test,\n",
        "    batch_size=256, shuffle=False),\n",
        "    steps=(X_test.shape[0] // 256)+1, workers=4)\n",
        "\n",
        "indices = [np.random.choice(range(len(X_test))) \n",
        "           for i in range(num_predictions)]\n",
        "\n",
        "cifar_grid_c(X_test,y_test,indices,6, predictions=predict_gen)"
      ],
      "execution_count": null,
      "outputs": []
    },
    {
      "cell_type": "code",
      "metadata": {
        "id": "LUYzVu8VyH_Y"
      },
      "source": [
        ""
      ],
      "execution_count": null,
      "outputs": []
    }
  ]
}