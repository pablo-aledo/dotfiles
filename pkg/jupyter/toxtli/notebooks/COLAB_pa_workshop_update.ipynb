{
  "nbformat": 4,
  "nbformat_minor": 0,
  "metadata": {
    "colab": {
      "name": "COLAB - pa_workshop_update.ipynb",
      "provenance": [],
      "collapsed_sections": [
        "EGIGkqd1SkIW",
        "TnK_RaBGSkI0",
        "v6i03P-8SkI3",
        "3qsz5lWXSkJD",
        "G43JAy3JSkJI",
        "bQrg4xlMSkJS",
        "wPNqNes7SkJg",
        "z6Ck2EMWSkJt",
        "UpwmY9WXSkKD",
        "322jMSwJSkKG",
        "57FgnKWGSkKj",
        "JVnGxzwuSkKo",
        "NORDXU2sSkKu",
        "hkVMMv7CSkL3",
        "0yJfzNr3SkL4",
        "stnsPhDgSkMD"
      ]
    },
    "kernelspec": {
      "display_name": "Python 3",
      "language": "python",
      "name": "python3"
    }
  },
  "cells": [
    {
      "cell_type": "markdown",
      "metadata": {
        "id": "dV2txUtxvy1k"
      },
      "source": [
        "Adapted by Carlos Toxtli https://www.carlostoxtli.com/#linreg-3\n",
        "\n",
        "Source: https://github.com/vrtompki/Linear_Regression_Tutorial/blob/master/PA_Workshop_6_27_2019.ipynb"
      ]
    },
    {
      "cell_type": "code",
      "metadata": {
        "id": "Z1ySbLJ5uTGw",
        "colab": {
          "base_uri": "https://localhost:8080/",
          "height": 136
        },
        "outputId": "08bf857f-2c59-4166-f911-dc226def0954"
      },
      "source": [
        "!git clone https://github.com/vrtompki/Linear_Regression_Tutorial.git\n",
        "%cd Linear_Regression_Tutorial/data"
      ],
      "execution_count": null,
      "outputs": [
        {
          "output_type": "stream",
          "text": [
            "Cloning into 'Linear_Regression_Tutorial'...\n",
            "remote: Enumerating objects: 11, done.\u001b[K\n",
            "remote: Counting objects: 100% (11/11), done.\u001b[K\n",
            "remote: Compressing objects: 100% (11/11), done.\u001b[K\n",
            "remote: Total 75 (delta 3), reused 0 (delta 0), pack-reused 64\u001b[K\n",
            "Unpacking objects: 100% (75/75), done.\n",
            "/content/Linear_Regression_Tutorial/data\n"
          ],
          "name": "stdout"
        }
      ]
    },
    {
      "cell_type": "markdown",
      "metadata": {
        "id": "CbjSZqHwSkHw"
      },
      "source": [
        "# Overview\n",
        "1. View the general process or flow for performing predictive analysis    \n",
        "2. Define a problem that may be of interest and suitable for predictive analysis    \n",
        "3. Explore a dataset and prepare it for analysis    \n",
        "4. Train and test a linear regression model to predict a result\n",
        "5. Learn where to find more information on data science topics"
      ]
    },
    {
      "cell_type": "markdown",
      "metadata": {
        "id": "vMgS5eO2SkHz"
      },
      "source": [
        "# Not So Primary Colors\n",
        "Bob Ross is a famous jovial painter who was known for his television program that tried to teach viewers to paint amazing scenes from nature that included his signature \"happy trees\". He would often mix colors to add to his palette. Given only the primary colors, how would one replicate Bob's technique to create a nice shade of green for their \"happy tree\"?\n",
        "\n",
        "<p float=\"left\"><img src=\"https://github.com/vrtompki/Linear_Regression_Tutorial/blob/master/images/bob_ross.jpg?raw=1\" style=\"width: 200px;\"/>\n",
        "    <img src=\"https://github.com/vrtompki/Linear_Regression_Tutorial/blob/master/images/primary_colors.png?raw=1\" style=\"width: 400px;\"/>\n",
        "</p>"
      ]
    },
    {
      "cell_type": "markdown",
      "metadata": {
        "id": "9bZPNCvbSkHo"
      },
      "source": [
        "# Introduction to Predictive Analysis Using Linear Regressions\n",
        "\n",
        "Upon completion of the workshop/tutorial one should be able to:\n",
        "* Define what a linear regression is, how one is created, and identify some of its applications in the broad scope of data science and analytics.\n",
        "* Understand the concept and fundamental theory and how to apply a simple linear regression model to a dataset to predict a result.\n",
        "* Examine the effects of features and their relationship to each other on model prediction.\n",
        "* Identify sources for acquiring more in-depth knowledge about linear regression and data science in general."
      ]
    },
    {
      "cell_type": "markdown",
      "metadata": {
        "id": "tFZMbVzdSkH2"
      },
      "source": [
        "## Making *Green* Initial Approach\n",
        "<img src=\"https://github.com/vrtompki/Linear_Regression_Tutorial/blob/master/images/color_mixing_example.png?raw=1\" alt=\"Drawing\" style=\"width: 600px;\"/>\n",
        "Well you may remember that green is a combination of the colors *yellow* and *blue*, and you may notice that these two colors were already provided. You try mixing different amounts of these colors until you are finally able to create the three desired shades of *green*!"
      ]
    },
    {
      "cell_type": "markdown",
      "metadata": {
        "id": "eee7gYg5SkH5"
      },
      "source": [
        "## Making *Green* Generalized\n",
        "\n",
        "<img src=\"https://github.com/vrtompki/Linear_Regression_Tutorial/blob/master/images/color_mixing_example.png?raw=1\" alt=\"Drawing\" style=\"width: 400px;\"/>\n",
        "\n",
        "Different shades of green consists of a various amounts of two primary colors, *yellow* and *blue*.  So theoretically we could represent any shade of green using a combination of the two colors:\n",
        "\n",
        "$$ Green = Yellow*amount_{yellow} + Blue*amount_{blue}$$\n",
        "\n",
        "$$ \\begin{align*}\n",
        "Green_{1} &= Yellow*1 + Blue*2 \\\\\n",
        "Green_{2} &= Yellow*2 + Blue*1 \\\\\n",
        "Green_{3} &= Green_{1} + Green_{2} + Blue*1 \\\\\n",
        "\\end{align*} $$"
      ]
    },
    {
      "cell_type": "markdown",
      "metadata": {
        "id": "c8XxtEiFSkH-"
      },
      "source": [
        "## The Predictive Analysis Work Flow\n",
        "![PA Work Flow](https://github.com/vrtompki/Linear_Regression_Tutorial/blob/master/images/Predictive_Analysis_Flow1.png?raw=1)\n",
        "\n",
        "This analogy is very similar to the approach a modeller would take to predict a result using a dataset. Often we are given a dataset, and this will be the only information available (the primary colors). We may want to learn something from this information to make a decision or prediction (the relationship between *blue*, *yellow*, and *green*. We formulate some generalized relationship in a model so that we can return back to model with new information (different combinations of *blue* and *yellow*) to get an output without having to keep repeating the same steps of learning how the data and results are connected."
      ]
    },
    {
      "cell_type": "markdown",
      "metadata": {
        "id": "rV9uYVdeSkIA"
      },
      "source": [
        "# Step 1: What is the Issue?\n",
        "![PA Work Flow2](https://github.com/vrtompki/Linear_Regression_Tutorial/blob/master/images/Predictive_Analysis_Flow2.png?raw=1)"
      ]
    },
    {
      "cell_type": "markdown",
      "metadata": {
        "id": "hXbSLas3SkIC"
      },
      "source": [
        "## Defining the Problem: Real World Applications\n",
        "Applying for graduate school can be a pretty stressful time. Not knowing whether or not your grades or entrance score is high enough, which program has the best program to meet your academic needs, and all of this can (and certainly will) constrain the number of applications you complete and to where. Even though acceptances are often subjective based on the pool of candidates that applying that semester, what if there was a way to predict the probability of getting accepted to university's graduate program before applying, or at the very least, which application factor impacts your acceptance most very similar to how we managed to breakdown the color green? \n",
        "\n",
        "This tutorial will help elucidate a means of doing just that, but first let's examine the prevelance of this type of problem."
      ]
    },
    {
      "cell_type": "markdown",
      "metadata": {
        "id": "cbVlNORPSkIF"
      },
      "source": [
        "### Defining the Problem: A Persistent Problem\n",
        "Being able to predict or determine a value via its relationship to other factors, or observations, is pervasive and arises throughout different industries and fields.\n",
        "- CFO using marketing costs to predict sales revenue\n",
        "- Doctor wanting to know probability of diagnosis based on symptoms\n",
        "- Educators wanting to know how much study time is required for students to ace an exam\n",
        "- How house size and number of rooms affect the price a house would sale for"
      ]
    },
    {
      "cell_type": "markdown",
      "metadata": {
        "id": "yhYMepJSSkIH"
      },
      "source": [
        "# Step 2: Understanding the Info We Have\n",
        "![PA Work Flow3](https://github.com/vrtompki/Linear_Regression_Tutorial/blob/master/images/Predictive_Analysis_Flow3.png?raw=1)"
      ]
    },
    {
      "cell_type": "markdown",
      "metadata": {
        "id": "1zJwjxjIuu5z"
      },
      "source": [
        "Import the data"
      ]
    },
    {
      "cell_type": "code",
      "metadata": {
        "hide_input": true,
        "tags": [
          "hidden_cell"
        ],
        "id": "xEjSTVXOSkIO"
      },
      "source": [
        "import pandas as pd\n",
        "file_path = './admissions.csv'\n",
        "df = pd.read_csv(file_path, header=0)"
      ],
      "execution_count": null,
      "outputs": []
    },
    {
      "cell_type": "markdown",
      "metadata": {
        "id": "oNxhbGMrNsuk"
      },
      "source": [
        "Read the top rows"
      ]
    },
    {
      "cell_type": "code",
      "metadata": {
        "id": "iVpwq58cNtsi",
        "colab": {
          "base_uri": "https://localhost:8080/",
          "height": 204
        },
        "outputId": "d3ed0e33-0501-45c5-efeb-baf64154a4ff"
      },
      "source": [
        "df.head()\n"
      ],
      "execution_count": null,
      "outputs": [
        {
          "output_type": "execute_result",
          "data": {
            "text/html": [
              "<div>\n",
              "<style scoped>\n",
              "    .dataframe tbody tr th:only-of-type {\n",
              "        vertical-align: middle;\n",
              "    }\n",
              "\n",
              "    .dataframe tbody tr th {\n",
              "        vertical-align: top;\n",
              "    }\n",
              "\n",
              "    .dataframe thead th {\n",
              "        text-align: right;\n",
              "    }\n",
              "</style>\n",
              "<table border=\"1\" class=\"dataframe\">\n",
              "  <thead>\n",
              "    <tr style=\"text-align: right;\">\n",
              "      <th></th>\n",
              "      <th>Serial No.</th>\n",
              "      <th>GRE Score</th>\n",
              "      <th>TOEFL Score</th>\n",
              "      <th>University Rating</th>\n",
              "      <th>SOP</th>\n",
              "      <th>LOR</th>\n",
              "      <th>CGPA</th>\n",
              "      <th>Research</th>\n",
              "      <th>Chance of Admit</th>\n",
              "    </tr>\n",
              "  </thead>\n",
              "  <tbody>\n",
              "    <tr>\n",
              "      <th>0</th>\n",
              "      <td>1</td>\n",
              "      <td>337</td>\n",
              "      <td>118</td>\n",
              "      <td>4</td>\n",
              "      <td>4.5</td>\n",
              "      <td>4.5</td>\n",
              "      <td>9.65</td>\n",
              "      <td>1</td>\n",
              "      <td>0.92</td>\n",
              "    </tr>\n",
              "    <tr>\n",
              "      <th>1</th>\n",
              "      <td>2</td>\n",
              "      <td>324</td>\n",
              "      <td>107</td>\n",
              "      <td>4</td>\n",
              "      <td>4.0</td>\n",
              "      <td>4.5</td>\n",
              "      <td>8.87</td>\n",
              "      <td>1</td>\n",
              "      <td>0.76</td>\n",
              "    </tr>\n",
              "    <tr>\n",
              "      <th>2</th>\n",
              "      <td>3</td>\n",
              "      <td>316</td>\n",
              "      <td>104</td>\n",
              "      <td>3</td>\n",
              "      <td>3.0</td>\n",
              "      <td>3.5</td>\n",
              "      <td>8.00</td>\n",
              "      <td>1</td>\n",
              "      <td>0.72</td>\n",
              "    </tr>\n",
              "    <tr>\n",
              "      <th>3</th>\n",
              "      <td>4</td>\n",
              "      <td>322</td>\n",
              "      <td>110</td>\n",
              "      <td>3</td>\n",
              "      <td>3.5</td>\n",
              "      <td>2.5</td>\n",
              "      <td>8.67</td>\n",
              "      <td>1</td>\n",
              "      <td>0.80</td>\n",
              "    </tr>\n",
              "    <tr>\n",
              "      <th>4</th>\n",
              "      <td>5</td>\n",
              "      <td>314</td>\n",
              "      <td>103</td>\n",
              "      <td>2</td>\n",
              "      <td>2.0</td>\n",
              "      <td>3.0</td>\n",
              "      <td>8.21</td>\n",
              "      <td>0</td>\n",
              "      <td>0.65</td>\n",
              "    </tr>\n",
              "  </tbody>\n",
              "</table>\n",
              "</div>"
            ],
            "text/plain": [
              "   Serial No.  GRE Score  TOEFL Score  ...  CGPA  Research  Chance of Admit\n",
              "0           1        337          118  ...  9.65         1             0.92\n",
              "1           2        324          107  ...  8.87         1             0.76\n",
              "2           3        316          104  ...  8.00         1             0.72\n",
              "3           4        322          110  ...  8.67         1             0.80\n",
              "4           5        314          103  ...  8.21         0             0.65\n",
              "\n",
              "[5 rows x 9 columns]"
            ]
          },
          "metadata": {
            "tags": []
          },
          "execution_count": 4
        }
      ]
    },
    {
      "cell_type": "markdown",
      "metadata": {
        "id": "ngoBffT-SkIU"
      },
      "source": [
        "## Graduate Admissions Dataset\n",
        "The Graduate Admissioins Dataset contains 8 features for 500 applicants, and was obtained from Kaggle. The features are attributes of associated with requirements for getting into a graduate school program, which can be used to determine the likelihood of being accepted. This dataset has been loaded as the pandas DataFrame `df`. We will use `df` to build a linear regression model to help us predict the chances of admittance based on our own credentials!"
      ]
    },
    {
      "cell_type": "markdown",
      "metadata": {
        "id": "EGIGkqd1SkIW"
      },
      "source": [
        "###  The Dataset Structure\n",
        "A data frame is a convenient object for structuring data in tables similar to excel.  Using the `df.head()` command returns the first five entries in the dataset. The `head` command has an optional input argument `n` to see the first $n$ entries."
      ]
    },
    {
      "cell_type": "code",
      "metadata": {
        "id": "FlvzonvGSkIZ",
        "colab": {
          "base_uri": "https://localhost:8080/",
          "height": 204
        },
        "outputId": "37abddb8-1119-4272-8370-0009715ff514"
      },
      "source": [
        "# Print out the first five entries of the dataset\n",
        "df.head()"
      ],
      "execution_count": null,
      "outputs": [
        {
          "output_type": "execute_result",
          "data": {
            "text/html": [
              "<div>\n",
              "<style scoped>\n",
              "    .dataframe tbody tr th:only-of-type {\n",
              "        vertical-align: middle;\n",
              "    }\n",
              "\n",
              "    .dataframe tbody tr th {\n",
              "        vertical-align: top;\n",
              "    }\n",
              "\n",
              "    .dataframe thead th {\n",
              "        text-align: right;\n",
              "    }\n",
              "</style>\n",
              "<table border=\"1\" class=\"dataframe\">\n",
              "  <thead>\n",
              "    <tr style=\"text-align: right;\">\n",
              "      <th></th>\n",
              "      <th>Serial No.</th>\n",
              "      <th>GRE Score</th>\n",
              "      <th>TOEFL Score</th>\n",
              "      <th>University Rating</th>\n",
              "      <th>SOP</th>\n",
              "      <th>LOR</th>\n",
              "      <th>CGPA</th>\n",
              "      <th>Research</th>\n",
              "      <th>Chance of Admit</th>\n",
              "    </tr>\n",
              "  </thead>\n",
              "  <tbody>\n",
              "    <tr>\n",
              "      <th>0</th>\n",
              "      <td>1</td>\n",
              "      <td>337</td>\n",
              "      <td>118</td>\n",
              "      <td>4</td>\n",
              "      <td>4.5</td>\n",
              "      <td>4.5</td>\n",
              "      <td>9.65</td>\n",
              "      <td>1</td>\n",
              "      <td>0.92</td>\n",
              "    </tr>\n",
              "    <tr>\n",
              "      <th>1</th>\n",
              "      <td>2</td>\n",
              "      <td>324</td>\n",
              "      <td>107</td>\n",
              "      <td>4</td>\n",
              "      <td>4.0</td>\n",
              "      <td>4.5</td>\n",
              "      <td>8.87</td>\n",
              "      <td>1</td>\n",
              "      <td>0.76</td>\n",
              "    </tr>\n",
              "    <tr>\n",
              "      <th>2</th>\n",
              "      <td>3</td>\n",
              "      <td>316</td>\n",
              "      <td>104</td>\n",
              "      <td>3</td>\n",
              "      <td>3.0</td>\n",
              "      <td>3.5</td>\n",
              "      <td>8.00</td>\n",
              "      <td>1</td>\n",
              "      <td>0.72</td>\n",
              "    </tr>\n",
              "    <tr>\n",
              "      <th>3</th>\n",
              "      <td>4</td>\n",
              "      <td>322</td>\n",
              "      <td>110</td>\n",
              "      <td>3</td>\n",
              "      <td>3.5</td>\n",
              "      <td>2.5</td>\n",
              "      <td>8.67</td>\n",
              "      <td>1</td>\n",
              "      <td>0.80</td>\n",
              "    </tr>\n",
              "    <tr>\n",
              "      <th>4</th>\n",
              "      <td>5</td>\n",
              "      <td>314</td>\n",
              "      <td>103</td>\n",
              "      <td>2</td>\n",
              "      <td>2.0</td>\n",
              "      <td>3.0</td>\n",
              "      <td>8.21</td>\n",
              "      <td>0</td>\n",
              "      <td>0.65</td>\n",
              "    </tr>\n",
              "  </tbody>\n",
              "</table>\n",
              "</div>"
            ],
            "text/plain": [
              "   Serial No.  GRE Score  TOEFL Score  ...  CGPA  Research  Chance of Admit\n",
              "0           1        337          118  ...  9.65         1             0.92\n",
              "1           2        324          107  ...  8.87         1             0.76\n",
              "2           3        316          104  ...  8.00         1             0.72\n",
              "3           4        322          110  ...  8.67         1             0.80\n",
              "4           5        314          103  ...  8.21         0             0.65\n",
              "\n",
              "[5 rows x 9 columns]"
            ]
          },
          "metadata": {
            "tags": []
          },
          "execution_count": 5
        }
      ]
    },
    {
      "cell_type": "markdown",
      "metadata": {
        "id": "8qMP8XZ-SkIi"
      },
      "source": [
        "**(TODO) View the first ten entries of the DataFrame using `df.head(n=10)`**"
      ]
    },
    {
      "cell_type": "code",
      "metadata": {
        "id": "yuOmjv7RSkIk",
        "colab": {
          "base_uri": "https://localhost:8080/",
          "height": 359
        },
        "outputId": "fc8696f9-c84b-4f92-d99f-b4134df29fae"
      },
      "source": [
        "df.head(n=10)"
      ],
      "execution_count": null,
      "outputs": [
        {
          "output_type": "execute_result",
          "data": {
            "text/html": [
              "<div>\n",
              "<style scoped>\n",
              "    .dataframe tbody tr th:only-of-type {\n",
              "        vertical-align: middle;\n",
              "    }\n",
              "\n",
              "    .dataframe tbody tr th {\n",
              "        vertical-align: top;\n",
              "    }\n",
              "\n",
              "    .dataframe thead th {\n",
              "        text-align: right;\n",
              "    }\n",
              "</style>\n",
              "<table border=\"1\" class=\"dataframe\">\n",
              "  <thead>\n",
              "    <tr style=\"text-align: right;\">\n",
              "      <th></th>\n",
              "      <th>Serial No.</th>\n",
              "      <th>GRE Score</th>\n",
              "      <th>TOEFL Score</th>\n",
              "      <th>University Rating</th>\n",
              "      <th>SOP</th>\n",
              "      <th>LOR</th>\n",
              "      <th>CGPA</th>\n",
              "      <th>Research</th>\n",
              "      <th>Chance of Admit</th>\n",
              "    </tr>\n",
              "  </thead>\n",
              "  <tbody>\n",
              "    <tr>\n",
              "      <th>0</th>\n",
              "      <td>1</td>\n",
              "      <td>337</td>\n",
              "      <td>118</td>\n",
              "      <td>4</td>\n",
              "      <td>4.5</td>\n",
              "      <td>4.5</td>\n",
              "      <td>9.65</td>\n",
              "      <td>1</td>\n",
              "      <td>0.92</td>\n",
              "    </tr>\n",
              "    <tr>\n",
              "      <th>1</th>\n",
              "      <td>2</td>\n",
              "      <td>324</td>\n",
              "      <td>107</td>\n",
              "      <td>4</td>\n",
              "      <td>4.0</td>\n",
              "      <td>4.5</td>\n",
              "      <td>8.87</td>\n",
              "      <td>1</td>\n",
              "      <td>0.76</td>\n",
              "    </tr>\n",
              "    <tr>\n",
              "      <th>2</th>\n",
              "      <td>3</td>\n",
              "      <td>316</td>\n",
              "      <td>104</td>\n",
              "      <td>3</td>\n",
              "      <td>3.0</td>\n",
              "      <td>3.5</td>\n",
              "      <td>8.00</td>\n",
              "      <td>1</td>\n",
              "      <td>0.72</td>\n",
              "    </tr>\n",
              "    <tr>\n",
              "      <th>3</th>\n",
              "      <td>4</td>\n",
              "      <td>322</td>\n",
              "      <td>110</td>\n",
              "      <td>3</td>\n",
              "      <td>3.5</td>\n",
              "      <td>2.5</td>\n",
              "      <td>8.67</td>\n",
              "      <td>1</td>\n",
              "      <td>0.80</td>\n",
              "    </tr>\n",
              "    <tr>\n",
              "      <th>4</th>\n",
              "      <td>5</td>\n",
              "      <td>314</td>\n",
              "      <td>103</td>\n",
              "      <td>2</td>\n",
              "      <td>2.0</td>\n",
              "      <td>3.0</td>\n",
              "      <td>8.21</td>\n",
              "      <td>0</td>\n",
              "      <td>0.65</td>\n",
              "    </tr>\n",
              "    <tr>\n",
              "      <th>5</th>\n",
              "      <td>6</td>\n",
              "      <td>330</td>\n",
              "      <td>115</td>\n",
              "      <td>5</td>\n",
              "      <td>4.5</td>\n",
              "      <td>3.0</td>\n",
              "      <td>9.34</td>\n",
              "      <td>1</td>\n",
              "      <td>0.90</td>\n",
              "    </tr>\n",
              "    <tr>\n",
              "      <th>6</th>\n",
              "      <td>7</td>\n",
              "      <td>321</td>\n",
              "      <td>109</td>\n",
              "      <td>3</td>\n",
              "      <td>3.0</td>\n",
              "      <td>4.0</td>\n",
              "      <td>8.20</td>\n",
              "      <td>1</td>\n",
              "      <td>0.75</td>\n",
              "    </tr>\n",
              "    <tr>\n",
              "      <th>7</th>\n",
              "      <td>8</td>\n",
              "      <td>308</td>\n",
              "      <td>101</td>\n",
              "      <td>2</td>\n",
              "      <td>3.0</td>\n",
              "      <td>4.0</td>\n",
              "      <td>7.90</td>\n",
              "      <td>0</td>\n",
              "      <td>0.68</td>\n",
              "    </tr>\n",
              "    <tr>\n",
              "      <th>8</th>\n",
              "      <td>9</td>\n",
              "      <td>302</td>\n",
              "      <td>102</td>\n",
              "      <td>1</td>\n",
              "      <td>2.0</td>\n",
              "      <td>1.5</td>\n",
              "      <td>8.00</td>\n",
              "      <td>0</td>\n",
              "      <td>0.50</td>\n",
              "    </tr>\n",
              "    <tr>\n",
              "      <th>9</th>\n",
              "      <td>10</td>\n",
              "      <td>323</td>\n",
              "      <td>108</td>\n",
              "      <td>3</td>\n",
              "      <td>3.5</td>\n",
              "      <td>3.0</td>\n",
              "      <td>8.60</td>\n",
              "      <td>0</td>\n",
              "      <td>0.45</td>\n",
              "    </tr>\n",
              "  </tbody>\n",
              "</table>\n",
              "</div>"
            ],
            "text/plain": [
              "   Serial No.  GRE Score  TOEFL Score  ...  CGPA  Research  Chance of Admit\n",
              "0           1        337          118  ...  9.65         1             0.92\n",
              "1           2        324          107  ...  8.87         1             0.76\n",
              "2           3        316          104  ...  8.00         1             0.72\n",
              "3           4        322          110  ...  8.67         1             0.80\n",
              "4           5        314          103  ...  8.21         0             0.65\n",
              "5           6        330          115  ...  9.34         1             0.90\n",
              "6           7        321          109  ...  8.20         1             0.75\n",
              "7           8        308          101  ...  7.90         0             0.68\n",
              "8           9        302          102  ...  8.00         0             0.50\n",
              "9          10        323          108  ...  8.60         0             0.45\n",
              "\n",
              "[10 rows x 9 columns]"
            ]
          },
          "metadata": {
            "tags": []
          },
          "execution_count": 6
        }
      ]
    },
    {
      "cell_type": "markdown",
      "metadata": {
        "id": "PuH07ti2SkIq"
      },
      "source": [
        "Conversely, `df.tail()` shows the last five. The `tail` command also accepts the optional input argument `n`,to show the last $n$ entries. So the last 10 entries of the dataset is:"
      ]
    },
    {
      "cell_type": "code",
      "metadata": {
        "id": "i30Xu8TFSkIs",
        "colab": {
          "base_uri": "https://localhost:8080/",
          "height": 359
        },
        "outputId": "ffaf5e4b-b878-4bc9-cd6e-958ce6c6bc2b"
      },
      "source": [
        "# Print out the last ten entries of the dataset\n",
        "df.tail(10)"
      ],
      "execution_count": null,
      "outputs": [
        {
          "output_type": "execute_result",
          "data": {
            "text/html": [
              "<div>\n",
              "<style scoped>\n",
              "    .dataframe tbody tr th:only-of-type {\n",
              "        vertical-align: middle;\n",
              "    }\n",
              "\n",
              "    .dataframe tbody tr th {\n",
              "        vertical-align: top;\n",
              "    }\n",
              "\n",
              "    .dataframe thead th {\n",
              "        text-align: right;\n",
              "    }\n",
              "</style>\n",
              "<table border=\"1\" class=\"dataframe\">\n",
              "  <thead>\n",
              "    <tr style=\"text-align: right;\">\n",
              "      <th></th>\n",
              "      <th>Serial No.</th>\n",
              "      <th>GRE Score</th>\n",
              "      <th>TOEFL Score</th>\n",
              "      <th>University Rating</th>\n",
              "      <th>SOP</th>\n",
              "      <th>LOR</th>\n",
              "      <th>CGPA</th>\n",
              "      <th>Research</th>\n",
              "      <th>Chance of Admit</th>\n",
              "    </tr>\n",
              "  </thead>\n",
              "  <tbody>\n",
              "    <tr>\n",
              "      <th>490</th>\n",
              "      <td>491</td>\n",
              "      <td>307</td>\n",
              "      <td>105</td>\n",
              "      <td>2</td>\n",
              "      <td>2.5</td>\n",
              "      <td>4.5</td>\n",
              "      <td>8.12</td>\n",
              "      <td>1</td>\n",
              "      <td>0.67</td>\n",
              "    </tr>\n",
              "    <tr>\n",
              "      <th>491</th>\n",
              "      <td>492</td>\n",
              "      <td>297</td>\n",
              "      <td>99</td>\n",
              "      <td>4</td>\n",
              "      <td>3.0</td>\n",
              "      <td>3.5</td>\n",
              "      <td>7.81</td>\n",
              "      <td>0</td>\n",
              "      <td>0.54</td>\n",
              "    </tr>\n",
              "    <tr>\n",
              "      <th>492</th>\n",
              "      <td>493</td>\n",
              "      <td>298</td>\n",
              "      <td>101</td>\n",
              "      <td>4</td>\n",
              "      <td>2.5</td>\n",
              "      <td>4.5</td>\n",
              "      <td>7.69</td>\n",
              "      <td>1</td>\n",
              "      <td>0.53</td>\n",
              "    </tr>\n",
              "    <tr>\n",
              "      <th>493</th>\n",
              "      <td>494</td>\n",
              "      <td>300</td>\n",
              "      <td>95</td>\n",
              "      <td>2</td>\n",
              "      <td>3.0</td>\n",
              "      <td>1.5</td>\n",
              "      <td>8.22</td>\n",
              "      <td>1</td>\n",
              "      <td>0.62</td>\n",
              "    </tr>\n",
              "    <tr>\n",
              "      <th>494</th>\n",
              "      <td>495</td>\n",
              "      <td>301</td>\n",
              "      <td>99</td>\n",
              "      <td>3</td>\n",
              "      <td>2.5</td>\n",
              "      <td>2.0</td>\n",
              "      <td>8.45</td>\n",
              "      <td>1</td>\n",
              "      <td>0.68</td>\n",
              "    </tr>\n",
              "    <tr>\n",
              "      <th>495</th>\n",
              "      <td>496</td>\n",
              "      <td>332</td>\n",
              "      <td>108</td>\n",
              "      <td>5</td>\n",
              "      <td>4.5</td>\n",
              "      <td>4.0</td>\n",
              "      <td>9.02</td>\n",
              "      <td>1</td>\n",
              "      <td>0.87</td>\n",
              "    </tr>\n",
              "    <tr>\n",
              "      <th>496</th>\n",
              "      <td>497</td>\n",
              "      <td>337</td>\n",
              "      <td>117</td>\n",
              "      <td>5</td>\n",
              "      <td>5.0</td>\n",
              "      <td>5.0</td>\n",
              "      <td>9.87</td>\n",
              "      <td>1</td>\n",
              "      <td>0.96</td>\n",
              "    </tr>\n",
              "    <tr>\n",
              "      <th>497</th>\n",
              "      <td>498</td>\n",
              "      <td>330</td>\n",
              "      <td>120</td>\n",
              "      <td>5</td>\n",
              "      <td>4.5</td>\n",
              "      <td>5.0</td>\n",
              "      <td>9.56</td>\n",
              "      <td>1</td>\n",
              "      <td>0.93</td>\n",
              "    </tr>\n",
              "    <tr>\n",
              "      <th>498</th>\n",
              "      <td>499</td>\n",
              "      <td>312</td>\n",
              "      <td>103</td>\n",
              "      <td>4</td>\n",
              "      <td>4.0</td>\n",
              "      <td>5.0</td>\n",
              "      <td>8.43</td>\n",
              "      <td>0</td>\n",
              "      <td>0.73</td>\n",
              "    </tr>\n",
              "    <tr>\n",
              "      <th>499</th>\n",
              "      <td>500</td>\n",
              "      <td>327</td>\n",
              "      <td>113</td>\n",
              "      <td>4</td>\n",
              "      <td>4.5</td>\n",
              "      <td>4.5</td>\n",
              "      <td>9.04</td>\n",
              "      <td>0</td>\n",
              "      <td>0.84</td>\n",
              "    </tr>\n",
              "  </tbody>\n",
              "</table>\n",
              "</div>"
            ],
            "text/plain": [
              "     Serial No.  GRE Score  TOEFL Score  ...  CGPA  Research  Chance of Admit\n",
              "490         491        307          105  ...  8.12         1             0.67\n",
              "491         492        297           99  ...  7.81         0             0.54\n",
              "492         493        298          101  ...  7.69         1             0.53\n",
              "493         494        300           95  ...  8.22         1             0.62\n",
              "494         495        301           99  ...  8.45         1             0.68\n",
              "495         496        332          108  ...  9.02         1             0.87\n",
              "496         497        337          117  ...  9.87         1             0.96\n",
              "497         498        330          120  ...  9.56         1             0.93\n",
              "498         499        312          103  ...  8.43         0             0.73\n",
              "499         500        327          113  ...  9.04         0             0.84\n",
              "\n",
              "[10 rows x 9 columns]"
            ]
          },
          "metadata": {
            "tags": []
          },
          "execution_count": 7
        }
      ]
    },
    {
      "cell_type": "markdown",
      "metadata": {
        "id": "TnK_RaBGSkI0"
      },
      "source": [
        "### Dataset Manipulation\n",
        "Those two commands are a simple means of viewing how the data is organized and formatted, and helps the modeller realize what needs to be done in terms of cleaning.\n",
        "\n",
        "Using `head` and `tail` we see that this dataset contains the column `CGPA`. This is a 10 point grading scale used commonly in foreign countries, so we want to add column that transforms the 10 point scale into a *4* point scale, because you may want to predict your chances of admittance using a the GPA scale."
      ]
    },
    {
      "cell_type": "markdown",
      "metadata": {
        "id": "v6i03P-8SkI3"
      },
      "source": [
        "#### Adding a New Column\n",
        "To add a new column to our DataFrame object we can use the `df.insert` module to create a new column, and place it directly next to the CGPA column, for convenient comparison."
      ]
    },
    {
      "cell_type": "code",
      "metadata": {
        "id": "kIUkdVXgSkI4",
        "colab": {
          "base_uri": "https://localhost:8080/",
          "height": 204
        },
        "outputId": "6c7068b4-199b-4f52-a990-d8df7015265e"
      },
      "source": [
        "# Create the new column \"GPA\", which equals 4*\"CGPA\"/10, and place it after the 6th column\n",
        "df.insert(6,'GPA', 4*df['CGPA']/10)\n",
        "df.head()"
      ],
      "execution_count": null,
      "outputs": [
        {
          "output_type": "execute_result",
          "data": {
            "text/html": [
              "<div>\n",
              "<style scoped>\n",
              "    .dataframe tbody tr th:only-of-type {\n",
              "        vertical-align: middle;\n",
              "    }\n",
              "\n",
              "    .dataframe tbody tr th {\n",
              "        vertical-align: top;\n",
              "    }\n",
              "\n",
              "    .dataframe thead th {\n",
              "        text-align: right;\n",
              "    }\n",
              "</style>\n",
              "<table border=\"1\" class=\"dataframe\">\n",
              "  <thead>\n",
              "    <tr style=\"text-align: right;\">\n",
              "      <th></th>\n",
              "      <th>Serial No.</th>\n",
              "      <th>GRE Score</th>\n",
              "      <th>TOEFL Score</th>\n",
              "      <th>University Rating</th>\n",
              "      <th>SOP</th>\n",
              "      <th>LOR</th>\n",
              "      <th>GPA</th>\n",
              "      <th>CGPA</th>\n",
              "      <th>Research</th>\n",
              "      <th>Chance of Admit</th>\n",
              "    </tr>\n",
              "  </thead>\n",
              "  <tbody>\n",
              "    <tr>\n",
              "      <th>0</th>\n",
              "      <td>1</td>\n",
              "      <td>337</td>\n",
              "      <td>118</td>\n",
              "      <td>4</td>\n",
              "      <td>4.5</td>\n",
              "      <td>4.5</td>\n",
              "      <td>3.860</td>\n",
              "      <td>9.65</td>\n",
              "      <td>1</td>\n",
              "      <td>0.92</td>\n",
              "    </tr>\n",
              "    <tr>\n",
              "      <th>1</th>\n",
              "      <td>2</td>\n",
              "      <td>324</td>\n",
              "      <td>107</td>\n",
              "      <td>4</td>\n",
              "      <td>4.0</td>\n",
              "      <td>4.5</td>\n",
              "      <td>3.548</td>\n",
              "      <td>8.87</td>\n",
              "      <td>1</td>\n",
              "      <td>0.76</td>\n",
              "    </tr>\n",
              "    <tr>\n",
              "      <th>2</th>\n",
              "      <td>3</td>\n",
              "      <td>316</td>\n",
              "      <td>104</td>\n",
              "      <td>3</td>\n",
              "      <td>3.0</td>\n",
              "      <td>3.5</td>\n",
              "      <td>3.200</td>\n",
              "      <td>8.00</td>\n",
              "      <td>1</td>\n",
              "      <td>0.72</td>\n",
              "    </tr>\n",
              "    <tr>\n",
              "      <th>3</th>\n",
              "      <td>4</td>\n",
              "      <td>322</td>\n",
              "      <td>110</td>\n",
              "      <td>3</td>\n",
              "      <td>3.5</td>\n",
              "      <td>2.5</td>\n",
              "      <td>3.468</td>\n",
              "      <td>8.67</td>\n",
              "      <td>1</td>\n",
              "      <td>0.80</td>\n",
              "    </tr>\n",
              "    <tr>\n",
              "      <th>4</th>\n",
              "      <td>5</td>\n",
              "      <td>314</td>\n",
              "      <td>103</td>\n",
              "      <td>2</td>\n",
              "      <td>2.0</td>\n",
              "      <td>3.0</td>\n",
              "      <td>3.284</td>\n",
              "      <td>8.21</td>\n",
              "      <td>0</td>\n",
              "      <td>0.65</td>\n",
              "    </tr>\n",
              "  </tbody>\n",
              "</table>\n",
              "</div>"
            ],
            "text/plain": [
              "   Serial No.  GRE Score  TOEFL Score  ...  CGPA  Research  Chance of Admit\n",
              "0           1        337          118  ...  9.65         1             0.92\n",
              "1           2        324          107  ...  8.87         1             0.76\n",
              "2           3        316          104  ...  8.00         1             0.72\n",
              "3           4        322          110  ...  8.67         1             0.80\n",
              "4           5        314          103  ...  8.21         0             0.65\n",
              "\n",
              "[5 rows x 10 columns]"
            ]
          },
          "metadata": {
            "tags": []
          },
          "execution_count": 8
        }
      ]
    },
    {
      "cell_type": "markdown",
      "metadata": {
        "id": "3qsz5lWXSkJD"
      },
      "source": [
        "### Statistical Measures \n",
        "Another `pandas` function that is useful for exploratory analysis is `df.mean()`, which returns the average across all features. The mean for each feature in our example is:"
      ]
    },
    {
      "cell_type": "code",
      "metadata": {
        "id": "X2wULy2qSkJF",
        "colab": {
          "base_uri": "https://localhost:8080/",
          "height": 204
        },
        "outputId": "82b2fbf5-c6f2-4e15-b96f-833839a575c8"
      },
      "source": [
        "# Show the mean for each feature\n",
        "df.mean()"
      ],
      "execution_count": null,
      "outputs": [
        {
          "output_type": "execute_result",
          "data": {
            "text/plain": [
              "Serial No.           250.500000\n",
              "GRE Score            316.472000\n",
              "TOEFL Score          107.192000\n",
              "University Rating      3.114000\n",
              "SOP                    3.374000\n",
              "LOR                    3.484000\n",
              "GPA                    3.430576\n",
              "CGPA                   8.576440\n",
              "Research               0.560000\n",
              "Chance of Admit        0.721740\n",
              "dtype: float64"
            ]
          },
          "metadata": {
            "tags": []
          },
          "execution_count": 9
        }
      ]
    },
    {
      "cell_type": "markdown",
      "metadata": {
        "id": "G43JAy3JSkJI"
      },
      "source": [
        "### More Statistics\n",
        "`df.describe()` provides more statistical information about each feature, such as the mean, max, min, standard deviation, and quantile information."
      ]
    },
    {
      "cell_type": "markdown",
      "metadata": {
        "id": "N7J7uCbvSkJK"
      },
      "source": [
        "**(TODO) Use the describe method of the DataFrame, `df.describe()` to see more statistics.**"
      ]
    },
    {
      "cell_type": "code",
      "metadata": {
        "id": "nGQGAsvTSkJM",
        "colab": {
          "base_uri": "https://localhost:8080/",
          "height": 297
        },
        "outputId": "1c0ad057-2a70-4304-929b-0f3426cf7471"
      },
      "source": [
        "# Show more statistical metrics of each feature using df.describe()\n",
        "df.describe()"
      ],
      "execution_count": null,
      "outputs": [
        {
          "output_type": "execute_result",
          "data": {
            "text/html": [
              "<div>\n",
              "<style scoped>\n",
              "    .dataframe tbody tr th:only-of-type {\n",
              "        vertical-align: middle;\n",
              "    }\n",
              "\n",
              "    .dataframe tbody tr th {\n",
              "        vertical-align: top;\n",
              "    }\n",
              "\n",
              "    .dataframe thead th {\n",
              "        text-align: right;\n",
              "    }\n",
              "</style>\n",
              "<table border=\"1\" class=\"dataframe\">\n",
              "  <thead>\n",
              "    <tr style=\"text-align: right;\">\n",
              "      <th></th>\n",
              "      <th>Serial No.</th>\n",
              "      <th>GRE Score</th>\n",
              "      <th>TOEFL Score</th>\n",
              "      <th>University Rating</th>\n",
              "      <th>SOP</th>\n",
              "      <th>LOR</th>\n",
              "      <th>GPA</th>\n",
              "      <th>CGPA</th>\n",
              "      <th>Research</th>\n",
              "      <th>Chance of Admit</th>\n",
              "    </tr>\n",
              "  </thead>\n",
              "  <tbody>\n",
              "    <tr>\n",
              "      <th>count</th>\n",
              "      <td>500.000000</td>\n",
              "      <td>500.000000</td>\n",
              "      <td>500.000000</td>\n",
              "      <td>500.000000</td>\n",
              "      <td>500.000000</td>\n",
              "      <td>500.00000</td>\n",
              "      <td>500.000000</td>\n",
              "      <td>500.000000</td>\n",
              "      <td>500.000000</td>\n",
              "      <td>500.00000</td>\n",
              "    </tr>\n",
              "    <tr>\n",
              "      <th>mean</th>\n",
              "      <td>250.500000</td>\n",
              "      <td>316.472000</td>\n",
              "      <td>107.192000</td>\n",
              "      <td>3.114000</td>\n",
              "      <td>3.374000</td>\n",
              "      <td>3.48400</td>\n",
              "      <td>3.430576</td>\n",
              "      <td>8.576440</td>\n",
              "      <td>0.560000</td>\n",
              "      <td>0.72174</td>\n",
              "    </tr>\n",
              "    <tr>\n",
              "      <th>std</th>\n",
              "      <td>144.481833</td>\n",
              "      <td>11.295148</td>\n",
              "      <td>6.081868</td>\n",
              "      <td>1.143512</td>\n",
              "      <td>0.991004</td>\n",
              "      <td>0.92545</td>\n",
              "      <td>0.241925</td>\n",
              "      <td>0.604813</td>\n",
              "      <td>0.496884</td>\n",
              "      <td>0.14114</td>\n",
              "    </tr>\n",
              "    <tr>\n",
              "      <th>min</th>\n",
              "      <td>1.000000</td>\n",
              "      <td>290.000000</td>\n",
              "      <td>92.000000</td>\n",
              "      <td>1.000000</td>\n",
              "      <td>1.000000</td>\n",
              "      <td>1.00000</td>\n",
              "      <td>2.720000</td>\n",
              "      <td>6.800000</td>\n",
              "      <td>0.000000</td>\n",
              "      <td>0.34000</td>\n",
              "    </tr>\n",
              "    <tr>\n",
              "      <th>25%</th>\n",
              "      <td>125.750000</td>\n",
              "      <td>308.000000</td>\n",
              "      <td>103.000000</td>\n",
              "      <td>2.000000</td>\n",
              "      <td>2.500000</td>\n",
              "      <td>3.00000</td>\n",
              "      <td>3.251000</td>\n",
              "      <td>8.127500</td>\n",
              "      <td>0.000000</td>\n",
              "      <td>0.63000</td>\n",
              "    </tr>\n",
              "    <tr>\n",
              "      <th>50%</th>\n",
              "      <td>250.500000</td>\n",
              "      <td>317.000000</td>\n",
              "      <td>107.000000</td>\n",
              "      <td>3.000000</td>\n",
              "      <td>3.500000</td>\n",
              "      <td>3.50000</td>\n",
              "      <td>3.424000</td>\n",
              "      <td>8.560000</td>\n",
              "      <td>1.000000</td>\n",
              "      <td>0.72000</td>\n",
              "    </tr>\n",
              "    <tr>\n",
              "      <th>75%</th>\n",
              "      <td>375.250000</td>\n",
              "      <td>325.000000</td>\n",
              "      <td>112.000000</td>\n",
              "      <td>4.000000</td>\n",
              "      <td>4.000000</td>\n",
              "      <td>4.00000</td>\n",
              "      <td>3.616000</td>\n",
              "      <td>9.040000</td>\n",
              "      <td>1.000000</td>\n",
              "      <td>0.82000</td>\n",
              "    </tr>\n",
              "    <tr>\n",
              "      <th>max</th>\n",
              "      <td>500.000000</td>\n",
              "      <td>340.000000</td>\n",
              "      <td>120.000000</td>\n",
              "      <td>5.000000</td>\n",
              "      <td>5.000000</td>\n",
              "      <td>5.00000</td>\n",
              "      <td>3.968000</td>\n",
              "      <td>9.920000</td>\n",
              "      <td>1.000000</td>\n",
              "      <td>0.97000</td>\n",
              "    </tr>\n",
              "  </tbody>\n",
              "</table>\n",
              "</div>"
            ],
            "text/plain": [
              "       Serial No.   GRE Score  ...    Research  Chance of Admit\n",
              "count  500.000000  500.000000  ...  500.000000        500.00000\n",
              "mean   250.500000  316.472000  ...    0.560000          0.72174\n",
              "std    144.481833   11.295148  ...    0.496884          0.14114\n",
              "min      1.000000  290.000000  ...    0.000000          0.34000\n",
              "25%    125.750000  308.000000  ...    0.000000          0.63000\n",
              "50%    250.500000  317.000000  ...    1.000000          0.72000\n",
              "75%    375.250000  325.000000  ...    1.000000          0.82000\n",
              "max    500.000000  340.000000  ...    1.000000          0.97000\n",
              "\n",
              "[8 rows x 10 columns]"
            ]
          },
          "metadata": {
            "tags": []
          },
          "execution_count": 10
        }
      ]
    },
    {
      "cell_type": "markdown",
      "metadata": {
        "id": "bQrg4xlMSkJS"
      },
      "source": [
        "### Exploring the Dataset: Correlations\n",
        "Plotting features against one another can help visualize if there is a \"dependancy\" between the two features, or statistically speaking, if the two features are correlated.  "
      ]
    },
    {
      "cell_type": "code",
      "metadata": {
        "id": "vkG2elJ2SkJU",
        "colab": {
          "base_uri": "https://localhost:8080/",
          "height": 298
        },
        "outputId": "f3e93a4c-7f2b-405b-8cd4-123f910c1283"
      },
      "source": [
        "%matplotlib inline\n",
        "import matplotlib.pyplot as plt\n",
        "df.plot(x='CGPA', y='GPA', \n",
        "        kind='scatter',title='Correlated Features',fontsize=12)\n",
        "plt.show()"
      ],
      "execution_count": null,
      "outputs": [
        {
          "output_type": "display_data",
          "data": {
            "image/png": "[encoded data removed]",
            "text/plain": [
              "<Figure size 432x288 with 1 Axes>"
            ]
          },
          "metadata": {
            "tags": []
          }
        }
      ]
    },
    {
      "cell_type": "markdown",
      "metadata": {
        "id": "wPNqNes7SkJg"
      },
      "source": [
        "#### Less Correlated, but still Correlated\n",
        "The figure above shows two features that are directly correlated, CGPA and GPA.  To put it simply correlation implies that two feature follow similar trends, i.e. as CGPA increases, GPA increases. In all fairness, GPA was calculated using CGPA, so they should be correlated.  However, two features from the dataset whose correlation may not be so obvious is the applicant's GRE score and their GPA. In the plot below the features still show similar trends, but they're less correlated than the previous two features."
      ]
    },
    {
      "cell_type": "code",
      "metadata": {
        "id": "RSOnzjaeSkJj",
        "colab": {
          "base_uri": "https://localhost:8080/",
          "height": 298
        },
        "outputId": "7da28d5b-f339-4b1e-c303-62f115a0f227"
      },
      "source": [
        "df.plot(x='GPA', y='GRE Score', \n",
        "        kind='scatter',title='Correlated Features',fontsize=12)\n",
        "plt.show()"
      ],
      "execution_count": null,
      "outputs": [
        {
          "output_type": "display_data",
          "data": {
            "image/png": "[encoded data removed]",
            "text/plain": [
              "<Figure size 432x288 with 1 Axes>"
            ]
          },
          "metadata": {
            "tags": []
          }
        }
      ]
    },
    {
      "cell_type": "markdown",
      "metadata": {
        "id": "z6Ck2EMWSkJt"
      },
      "source": [
        "#### Uncorrelated Features\n",
        "Uncorrelated features should show no discerning pattern or trends between them. For instance, the quality of the applicant's letters of recommendation should have little to know bearing on how well they performed on the TOEFL. In fact their letters are written by someone completely different from them, hopefully! "
      ]
    },
    {
      "cell_type": "code",
      "metadata": {
        "id": "xtVrKGNISkJw",
        "colab": {
          "base_uri": "https://localhost:8080/",
          "height": 298
        },
        "outputId": "705e8284-132f-47c2-b8b5-af9ad91a6cb5"
      },
      "source": [
        "df.plot(x='TOEFL Score', y='LOR',\n",
        "        kind='scatter',title='Uncorrelated Features',fontsize=12)\n",
        "plt.show()"
      ],
      "execution_count": null,
      "outputs": [
        {
          "output_type": "display_data",
          "data": {
            "image/png": "[encoded data removed]",
            "text/plain": [
              "<Figure size 432x288 with 1 Axes>"
            ]
          },
          "metadata": {
            "tags": []
          }
        }
      ]
    },
    {
      "cell_type": "markdown",
      "metadata": {
        "id": "Nl-v0TkRSkJ5"
      },
      "source": [
        "**(TODO) Plot TOEFL Score (x='TOEFL Score') vs GRE Score(y='GRE Score') and use `plt.show()` to display the plot. Are the two values correlated?**"
      ]
    },
    {
      "cell_type": "code",
      "metadata": {
        "id": "iQdj2yvtSkJ8",
        "colab": {
          "base_uri": "https://localhost:8080/",
          "height": 315
        },
        "outputId": "48ff3011-9e7a-4fde-cfe8-d6fe1b3871ef"
      },
      "source": [
        "# Fill in the missing arguments, and use plt.show() to display the plot\n",
        "df.plot(x='TOEFL Score' ,y='GRE Score', kind='scatter', title= 'test', fontsize=12)"
      ],
      "execution_count": null,
      "outputs": [
        {
          "output_type": "execute_result",
          "data": {
            "text/plain": [
              "<matplotlib.axes._subplots.AxesSubplot at 0x7f592e2ce278>"
            ]
          },
          "metadata": {
            "tags": []
          },
          "execution_count": 14
        },
        {
          "output_type": "display_data",
          "data": {
            "image/png": "[encoded data removed]",
            "text/plain": [
              "<Figure size 432x288 with 1 Axes>"
            ]
          },
          "metadata": {
            "tags": []
          }
        }
      ]
    },
    {
      "cell_type": "markdown",
      "metadata": {
        "id": "UpwmY9WXSkKD"
      },
      "source": [
        "#### More on Correlations\n",
        "<p> Visualizations are a great means of seeing conceptually what something is, as in the case of correlation, but it is good practice to find the correlation mathematically. To find more information on the utility of correlation, visit this awesome <a href=\"https://www.datascience.com/blog/introduction-to-correlation-learn-data-science-tutorials\">\n",
        "post</a> on the different types of correlation and when to use them.</p>\n",
        "\n",
        "Now let's look at an example using the scikit-learn library to build a linear regression model!"
      ]
    },
    {
      "cell_type": "markdown",
      "metadata": {
        "id": "322jMSwJSkKG"
      },
      "source": [
        "### Other Data Preparation Steps\n",
        "It is necessary to change categorical data, such as the Research, which is whether the applicant has research experience or not, into a numeric value. This process is called dummifying, and makes calculations more feasible. In addition to dummifying categorical terms, all missing values should be handled accordingly. Missing entries can be replaced with zeros, the average of the column, or imputed using other techniques. Their is no, one, definitive method to replace missing entries, as the best method depends on the specifics of the application. Fortunately, the curators of the `admissions` dataset have already dummified variables and cleaned the data, so it is ready for analysis after loading:"
      ]
    },
    {
      "cell_type": "markdown",
      "metadata": {
        "id": "I9tFFOEtSkKK"
      },
      "source": [
        "# Checkpoint - Exploratory Analysis\n",
        "In the Exploratory Analysis section the graduate school admissions dataset was load and converted into a `pandas.DataFrame` object. The conversion was made to enhance analysis capabilities. When loaded directly from `sklearn` the data is provided in two list objects; one contains the observations for the 8 features, and the remaining column of the dataset contains the probability of getting admitted. \n",
        "\n",
        "We then **manipulated** the dataset by inserting a new column at a desired location. Afterwards we observed some statistical properties "
      ]
    },
    {
      "cell_type": "markdown",
      "metadata": {
        "id": "KV-3EsIISkKO"
      },
      "source": [
        "# Step 3: Getting the Answers\n",
        "![PA Work Flow4](https://github.com/vrtompki/Linear_Regression_Tutorial/blob/master/images/Predictive_Analysis_Flow4.png?raw=1)"
      ]
    },
    {
      "cell_type": "markdown",
      "metadata": {
        "id": "D8D6OSLUSkKQ"
      },
      "source": [
        "## Applications of Linear Regressions\n",
        "From trend lines to mortality rates, linear regression appears in virtually every field due to its versatility. Linear regressions are a vital tool to any data scientist or data analyst due to their ability to capture accurate relationships using a relatively simple tool.\n",
        "\n",
        "**Simplicity should be the ultimate goal when analyzing data.**"
      ]
    },
    {
      "cell_type": "markdown",
      "metadata": {
        "id": "9YisVjK5SkKR"
      },
      "source": [
        "Remember earlier when the prevelance of similar regression issues where discussed? Here are some visuals that used linear regressions for similar issues."
      ]
    },
    {
      "cell_type": "markdown",
      "metadata": {
        "hide_input": false,
        "id": "gCT06frCSkKV"
      },
      "source": [
        "## Examples in Real-World Situations\n",
        "Here are some examples of linear regressions applied in the real world situations!\n",
        "\n",
        "#### GPA Example\n",
        "<img src=\"https://github.com/vrtompki/Linear_Regression_Tutorial/blob/master/linear_regression_examples/gpa_ex.jpg?raw=1\" alt=\"Drawing\" style=\"width: 300px;\" />\n",
        "\n",
        "#### Finance Example\n",
        "<img src=\"https://github.com/vrtompki/Linear_Regression_Tutorial/blob/master/linear_regression_examples/salary_ex.png?raw=1\" alt=\"Drawing\" style=\"width: 300px;\" />\n",
        "\n",
        "#### Medicine Example\n",
        "<img src=\"https://github.com/vrtompki/Linear_Regression_Tutorial/blob/master/linear_regression_examples/medicine_ex.jpg?raw=1\" alt=\"Drawing\" style=\"width: 300px;\" />"
      ]
    },
    {
      "cell_type": "markdown",
      "metadata": {
        "id": "POlcVS2ESkKW"
      },
      "source": [
        "## Why Use Regressions???\n",
        "Regression refers to fitting some data to a function, thus, realizing a relationship between variables that may not be obvious upon initial inspection.\n",
        "\n",
        "We can describe one or more variables as a mathematical equation of one or more desired variables in the dataset. This allows individuals to be able to *predict* the value of variable, or response variable, using the present values of a model consisting of its terms. In terms of a linear regression, the model is to use a direct one-to-one mapping of terms to a response variable, thus the relationship being described is a *linear* one. \n",
        ">“It is likely that 90% or more of real-world applications of data mining end up with a relatively simple regression as the final model, typically after very careful data preparation, encoding, and creation of variables.” – James Wu and Stephen Coggeshall"
      ]
    },
    {
      "cell_type": "markdown",
      "metadata": {
        "id": "IjGSt5oNSkKZ"
      },
      "source": [
        "##  A Tiny Bit of Math...\n",
        "Consider the basic linear regression model to follow the syntax:\n",
        "\n",
        "$$ Y = \\beta X +\\epsilon$$ \n",
        "\n",
        "Does the equation look familiar? It is simply the equation for a line that possess the slope $\\beta$ and the intercept $\\epsilon$. This ability to describe a response with such simplicity is what makes the linear regression the perfect first tool in any data scientist's repitore.\n",
        "\n",
        "http://www.battaly.com/stat/geogebra/linearregression/"
      ]
    },
    {
      "cell_type": "markdown",
      "metadata": {
        "id": "jxqJcLmKSkKb"
      },
      "source": [
        "![regress in action](../linear_regression_examples/regression_animated.gif)"
      ]
    },
    {
      "cell_type": "markdown",
      "metadata": {
        "id": "nTP1nOSaSkKc"
      },
      "source": [
        "## Model Creation Using Scikit-Learn \n",
        "<p> The beauty of working in Python is the access to packages that have been created to help data scientists and modellers do their analysis more efficiently, spending less time with writing code so they can spend more time analyzing. The scikit-learn library (known as the `sklearn` library) is a collection of machine learning tools for Python. For more information, visit their <a href=\"https://scikit-learn.org/stable/\">webpage</a>! There are plenty of examples, a list of commands, and more.<p>\n",
        "    \n",
        "The dataset used in this example was previously loaded, but to demonstrate the process from start to finish we begin by importing `pandas` so we can load the dataset."
      ]
    },
    {
      "cell_type": "markdown",
      "metadata": {
        "id": "GK2IsYyKSkKe"
      },
      "source": [
        "**(TODO) Import the `pandas` package in python and call it `pd`.**"
      ]
    },
    {
      "cell_type": "code",
      "metadata": {
        "id": "c3oHu5HVSkKe"
      },
      "source": [
        "# IMPORT the pandas module AND call it pd (import pandas as pd)\n"
      ],
      "execution_count": null,
      "outputs": []
    },
    {
      "cell_type": "markdown",
      "metadata": {
        "id": "57FgnKWGSkKj"
      },
      "source": [
        "### Extracting The Response Term\n",
        "The response is the variable we eventually want to be able to predict. It is also referred to as the ***regressand***."
      ]
    },
    {
      "cell_type": "code",
      "metadata": {
        "id": "6LIBPFK_SkKk",
        "colab": {
          "base_uri": "https://localhost:8080/",
          "height": 119
        },
        "outputId": "76a9934f-b4a2-4b30-d52d-c9bef077b7f9"
      },
      "source": [
        "# Extract the regressand, Y, from the data frame\n",
        "sampleData_Y = df.loc[:,'Chance of Admit']\n",
        "sampleData_Y.head()"
      ],
      "execution_count": null,
      "outputs": [
        {
          "output_type": "execute_result",
          "data": {
            "text/plain": [
              "0    0.92\n",
              "1    0.76\n",
              "2    0.72\n",
              "3    0.80\n",
              "4    0.65\n",
              "Name: Chance of Admit, dtype: float64"
            ]
          },
          "metadata": {
            "tags": []
          },
          "execution_count": 15
        }
      ]
    },
    {
      "cell_type": "markdown",
      "metadata": {
        "id": "JVnGxzwuSkKo"
      },
      "source": [
        "### Extracting Our Observation Terms\n",
        "The observations are the feature values we want to use determine their relationship to the response to exploit for predictions. They are also known as the ***regressors***."
      ]
    },
    {
      "cell_type": "code",
      "metadata": {
        "scrolled": true,
        "id": "DVKdehYrSkKp",
        "colab": {
          "base_uri": "https://localhost:8080/",
          "height": 204
        },
        "outputId": "16f74771-870b-43fd-d450-63814211a8fc"
      },
      "source": [
        "# Extract the regressors, X, from the data frame\n",
        "sampleData_X  = df.loc[:,'Serial No.':'Research']\n",
        "sampleData_X.columns\n",
        "sampleData_X.head()"
      ],
      "execution_count": null,
      "outputs": [
        {
          "output_type": "execute_result",
          "data": {
            "text/html": [
              "<div>\n",
              "<style scoped>\n",
              "    .dataframe tbody tr th:only-of-type {\n",
              "        vertical-align: middle;\n",
              "    }\n",
              "\n",
              "    .dataframe tbody tr th {\n",
              "        vertical-align: top;\n",
              "    }\n",
              "\n",
              "    .dataframe thead th {\n",
              "        text-align: right;\n",
              "    }\n",
              "</style>\n",
              "<table border=\"1\" class=\"dataframe\">\n",
              "  <thead>\n",
              "    <tr style=\"text-align: right;\">\n",
              "      <th></th>\n",
              "      <th>Serial No.</th>\n",
              "      <th>GRE Score</th>\n",
              "      <th>TOEFL Score</th>\n",
              "      <th>University Rating</th>\n",
              "      <th>SOP</th>\n",
              "      <th>LOR</th>\n",
              "      <th>GPA</th>\n",
              "      <th>CGPA</th>\n",
              "      <th>Research</th>\n",
              "    </tr>\n",
              "  </thead>\n",
              "  <tbody>\n",
              "    <tr>\n",
              "      <th>0</th>\n",
              "      <td>1</td>\n",
              "      <td>337</td>\n",
              "      <td>118</td>\n",
              "      <td>4</td>\n",
              "      <td>4.5</td>\n",
              "      <td>4.5</td>\n",
              "      <td>3.860</td>\n",
              "      <td>9.65</td>\n",
              "      <td>1</td>\n",
              "    </tr>\n",
              "    <tr>\n",
              "      <th>1</th>\n",
              "      <td>2</td>\n",
              "      <td>324</td>\n",
              "      <td>107</td>\n",
              "      <td>4</td>\n",
              "      <td>4.0</td>\n",
              "      <td>4.5</td>\n",
              "      <td>3.548</td>\n",
              "      <td>8.87</td>\n",
              "      <td>1</td>\n",
              "    </tr>\n",
              "    <tr>\n",
              "      <th>2</th>\n",
              "      <td>3</td>\n",
              "      <td>316</td>\n",
              "      <td>104</td>\n",
              "      <td>3</td>\n",
              "      <td>3.0</td>\n",
              "      <td>3.5</td>\n",
              "      <td>3.200</td>\n",
              "      <td>8.00</td>\n",
              "      <td>1</td>\n",
              "    </tr>\n",
              "    <tr>\n",
              "      <th>3</th>\n",
              "      <td>4</td>\n",
              "      <td>322</td>\n",
              "      <td>110</td>\n",
              "      <td>3</td>\n",
              "      <td>3.5</td>\n",
              "      <td>2.5</td>\n",
              "      <td>3.468</td>\n",
              "      <td>8.67</td>\n",
              "      <td>1</td>\n",
              "    </tr>\n",
              "    <tr>\n",
              "      <th>4</th>\n",
              "      <td>5</td>\n",
              "      <td>314</td>\n",
              "      <td>103</td>\n",
              "      <td>2</td>\n",
              "      <td>2.0</td>\n",
              "      <td>3.0</td>\n",
              "      <td>3.284</td>\n",
              "      <td>8.21</td>\n",
              "      <td>0</td>\n",
              "    </tr>\n",
              "  </tbody>\n",
              "</table>\n",
              "</div>"
            ],
            "text/plain": [
              "   Serial No.  GRE Score  TOEFL Score  ...    GPA  CGPA  Research\n",
              "0           1        337          118  ...  3.860  9.65         1\n",
              "1           2        324          107  ...  3.548  8.87         1\n",
              "2           3        316          104  ...  3.200  8.00         1\n",
              "3           4        322          110  ...  3.468  8.67         1\n",
              "4           5        314          103  ...  3.284  8.21         0\n",
              "\n",
              "[5 rows x 9 columns]"
            ]
          },
          "metadata": {
            "tags": []
          },
          "execution_count": 16
        }
      ]
    },
    {
      "cell_type": "markdown",
      "metadata": {
        "id": "NORDXU2sSkKu"
      },
      "source": [
        "### Some Additional Data Manipulation\n",
        "Often you may be confronted with many features, and not all of them will helpful for making predictions. To find the most informative, or most helpful, features we need to do some feature selection. For this example we want to find the best two features for making a prediction. The F-test is a great way to determine the significance of feature. We can use the `SelectKBest` module to select the `k=2` features for our analysis using the F-test results calculated using `f_regression`. Both modules are apart of the `scikit-learn` package. For more info on F-test and regressions check out this <a href=\"https://blog.minitab.com/blog/adventures-in-statistics-2/what-is-the-f-test-of-overall-significance-in-regression-analysis\">link</a>."
      ]
    },
    {
      "cell_type": "code",
      "metadata": {
        "scrolled": true,
        "id": "cIzPD1naSkKu",
        "colab": {
          "base_uri": "https://localhost:8080/",
          "height": 204
        },
        "outputId": "9ca25d03-23d3-4065-9cad-41bc59c81666"
      },
      "source": [
        "from sklearn.feature_selection import SelectKBest, f_regression\n",
        "k=2\n",
        "selector = SelectKBest(f_regression,k=k)\n",
        "selector.fit(sampleData_X, sampleData_Y)\n",
        "best_feats = selector.get_support(indices=True)\n",
        "xTrain_best = sampleData_X.iloc[:,best_feats]\n",
        "xTrain_best.head()"
      ],
      "execution_count": null,
      "outputs": [
        {
          "output_type": "execute_result",
          "data": {
            "text/html": [
              "<div>\n",
              "<style scoped>\n",
              "    .dataframe tbody tr th:only-of-type {\n",
              "        vertical-align: middle;\n",
              "    }\n",
              "\n",
              "    .dataframe tbody tr th {\n",
              "        vertical-align: top;\n",
              "    }\n",
              "\n",
              "    .dataframe thead th {\n",
              "        text-align: right;\n",
              "    }\n",
              "</style>\n",
              "<table border=\"1\" class=\"dataframe\">\n",
              "  <thead>\n",
              "    <tr style=\"text-align: right;\">\n",
              "      <th></th>\n",
              "      <th>GPA</th>\n",
              "      <th>CGPA</th>\n",
              "    </tr>\n",
              "  </thead>\n",
              "  <tbody>\n",
              "    <tr>\n",
              "      <th>0</th>\n",
              "      <td>3.860</td>\n",
              "      <td>9.65</td>\n",
              "    </tr>\n",
              "    <tr>\n",
              "      <th>1</th>\n",
              "      <td>3.548</td>\n",
              "      <td>8.87</td>\n",
              "    </tr>\n",
              "    <tr>\n",
              "      <th>2</th>\n",
              "      <td>3.200</td>\n",
              "      <td>8.00</td>\n",
              "    </tr>\n",
              "    <tr>\n",
              "      <th>3</th>\n",
              "      <td>3.468</td>\n",
              "      <td>8.67</td>\n",
              "    </tr>\n",
              "    <tr>\n",
              "      <th>4</th>\n",
              "      <td>3.284</td>\n",
              "      <td>8.21</td>\n",
              "    </tr>\n",
              "  </tbody>\n",
              "</table>\n",
              "</div>"
            ],
            "text/plain": [
              "     GPA  CGPA\n",
              "0  3.860  9.65\n",
              "1  3.548  8.87\n",
              "2  3.200  8.00\n",
              "3  3.468  8.67\n",
              "4  3.284  8.21"
            ]
          },
          "metadata": {
            "tags": []
          },
          "execution_count": 17
        }
      ]
    },
    {
      "cell_type": "markdown",
      "metadata": {
        "id": "_Nd5yqEaSkKy"
      },
      "source": [
        "Notice that one of the best features is `GPA`, which is essentially a transformation of `CGPA`. We know that these two features are very correlated, and correlation affects which features provide the most information. It could be concluded that grade is great indicator for probability of acceptance, and thus we should investigate if only one version is needed, and how this changes the top features. For the sake of readibility we can get rid of the `CGPA`, which is a 10 point scale for grading, and then find the top 2 features."
      ]
    },
    {
      "cell_type": "code",
      "metadata": {
        "id": "8A0-Bm9qSkKz",
        "colab": {
          "base_uri": "https://localhost:8080/",
          "height": 204
        },
        "outputId": "7869f34d-cff2-478f-c063-bcd8ec70c64d"
      },
      "source": [
        "# Drop or delete 'CGPA' from the columns\n",
        "newX_train = sampleData_X.drop('CGPA',axis=1)\n",
        "newX_train.head()"
      ],
      "execution_count": null,
      "outputs": [
        {
          "output_type": "execute_result",
          "data": {
            "text/html": [
              "<div>\n",
              "<style scoped>\n",
              "    .dataframe tbody tr th:only-of-type {\n",
              "        vertical-align: middle;\n",
              "    }\n",
              "\n",
              "    .dataframe tbody tr th {\n",
              "        vertical-align: top;\n",
              "    }\n",
              "\n",
              "    .dataframe thead th {\n",
              "        text-align: right;\n",
              "    }\n",
              "</style>\n",
              "<table border=\"1\" class=\"dataframe\">\n",
              "  <thead>\n",
              "    <tr style=\"text-align: right;\">\n",
              "      <th></th>\n",
              "      <th>Serial No.</th>\n",
              "      <th>GRE Score</th>\n",
              "      <th>TOEFL Score</th>\n",
              "      <th>University Rating</th>\n",
              "      <th>SOP</th>\n",
              "      <th>LOR</th>\n",
              "      <th>GPA</th>\n",
              "      <th>Research</th>\n",
              "    </tr>\n",
              "  </thead>\n",
              "  <tbody>\n",
              "    <tr>\n",
              "      <th>0</th>\n",
              "      <td>1</td>\n",
              "      <td>337</td>\n",
              "      <td>118</td>\n",
              "      <td>4</td>\n",
              "      <td>4.5</td>\n",
              "      <td>4.5</td>\n",
              "      <td>3.860</td>\n",
              "      <td>1</td>\n",
              "    </tr>\n",
              "    <tr>\n",
              "      <th>1</th>\n",
              "      <td>2</td>\n",
              "      <td>324</td>\n",
              "      <td>107</td>\n",
              "      <td>4</td>\n",
              "      <td>4.0</td>\n",
              "      <td>4.5</td>\n",
              "      <td>3.548</td>\n",
              "      <td>1</td>\n",
              "    </tr>\n",
              "    <tr>\n",
              "      <th>2</th>\n",
              "      <td>3</td>\n",
              "      <td>316</td>\n",
              "      <td>104</td>\n",
              "      <td>3</td>\n",
              "      <td>3.0</td>\n",
              "      <td>3.5</td>\n",
              "      <td>3.200</td>\n",
              "      <td>1</td>\n",
              "    </tr>\n",
              "    <tr>\n",
              "      <th>3</th>\n",
              "      <td>4</td>\n",
              "      <td>322</td>\n",
              "      <td>110</td>\n",
              "      <td>3</td>\n",
              "      <td>3.5</td>\n",
              "      <td>2.5</td>\n",
              "      <td>3.468</td>\n",
              "      <td>1</td>\n",
              "    </tr>\n",
              "    <tr>\n",
              "      <th>4</th>\n",
              "      <td>5</td>\n",
              "      <td>314</td>\n",
              "      <td>103</td>\n",
              "      <td>2</td>\n",
              "      <td>2.0</td>\n",
              "      <td>3.0</td>\n",
              "      <td>3.284</td>\n",
              "      <td>0</td>\n",
              "    </tr>\n",
              "  </tbody>\n",
              "</table>\n",
              "</div>"
            ],
            "text/plain": [
              "   Serial No.  GRE Score  TOEFL Score  ...  LOR    GPA  Research\n",
              "0           1        337          118  ...  4.5  3.860         1\n",
              "1           2        324          107  ...  4.5  3.548         1\n",
              "2           3        316          104  ...  3.5  3.200         1\n",
              "3           4        322          110  ...  2.5  3.468         1\n",
              "4           5        314          103  ...  3.0  3.284         0\n",
              "\n",
              "[5 rows x 8 columns]"
            ]
          },
          "metadata": {
            "tags": []
          },
          "execution_count": 18
        }
      ]
    },
    {
      "cell_type": "markdown",
      "metadata": {
        "id": "6MEARwAISkK2"
      },
      "source": [
        "Now that the similar column has been drop let's find the new top features!"
      ]
    },
    {
      "cell_type": "code",
      "metadata": {
        "id": "v6Onj618SkK3",
        "colab": {
          "base_uri": "https://localhost:8080/",
          "height": 204
        },
        "outputId": "592feec3-05e2-4fed-8bde-262ecf4cfaa1"
      },
      "source": [
        "from sklearn.feature_selection import SelectKBest, f_regression\n",
        "selector = SelectKBest(f_regression,k=k)\n",
        "newX_feats = selector.fit_transform(newX_train, sampleData_Y)\n",
        "best_feats = selector.get_support(indices=True)\n",
        "xTrain_best = newX_train.iloc[:,best_feats]\n",
        "xTrain_best.head()"
      ],
      "execution_count": null,
      "outputs": [
        {
          "output_type": "execute_result",
          "data": {
            "text/html": [
              "<div>\n",
              "<style scoped>\n",
              "    .dataframe tbody tr th:only-of-type {\n",
              "        vertical-align: middle;\n",
              "    }\n",
              "\n",
              "    .dataframe tbody tr th {\n",
              "        vertical-align: top;\n",
              "    }\n",
              "\n",
              "    .dataframe thead th {\n",
              "        text-align: right;\n",
              "    }\n",
              "</style>\n",
              "<table border=\"1\" class=\"dataframe\">\n",
              "  <thead>\n",
              "    <tr style=\"text-align: right;\">\n",
              "      <th></th>\n",
              "      <th>GRE Score</th>\n",
              "      <th>GPA</th>\n",
              "    </tr>\n",
              "  </thead>\n",
              "  <tbody>\n",
              "    <tr>\n",
              "      <th>0</th>\n",
              "      <td>337</td>\n",
              "      <td>3.860</td>\n",
              "    </tr>\n",
              "    <tr>\n",
              "      <th>1</th>\n",
              "      <td>324</td>\n",
              "      <td>3.548</td>\n",
              "    </tr>\n",
              "    <tr>\n",
              "      <th>2</th>\n",
              "      <td>316</td>\n",
              "      <td>3.200</td>\n",
              "    </tr>\n",
              "    <tr>\n",
              "      <th>3</th>\n",
              "      <td>322</td>\n",
              "      <td>3.468</td>\n",
              "    </tr>\n",
              "    <tr>\n",
              "      <th>4</th>\n",
              "      <td>314</td>\n",
              "      <td>3.284</td>\n",
              "    </tr>\n",
              "  </tbody>\n",
              "</table>\n",
              "</div>"
            ],
            "text/plain": [
              "   GRE Score    GPA\n",
              "0        337  3.860\n",
              "1        324  3.548\n",
              "2        316  3.200\n",
              "3        322  3.468\n",
              "4        314  3.284"
            ]
          },
          "metadata": {
            "tags": []
          },
          "execution_count": 19
        }
      ]
    },
    {
      "cell_type": "markdown",
      "metadata": {
        "id": "O9Z32Yc5SkK8"
      },
      "source": [
        "What are the new top features? This is why exploratory analysis is significant prior to modelling the data! Notice that university rating is not in the top two most informative features. This could be to the subjective nature of the rating metric. One may think that, say an Ivy League school, would be harder to get into, which would be harder to get in. This could be a form of observer bias, where the modeller or research would expect a certain result, and therefore try to see the result manifested in the work. It is important to remain objective, and if there are any doubts, note how the data was collected and proceed with the investigation.\n",
        "\n",
        "We now have the most informative features for calculating the probability of getting accepted to a graduate school program, and the data has been separated into the $X$ and $Y$ sets, it is time to import some modules to help us build, train, and evaluate a linear regression model:"
      ]
    },
    {
      "cell_type": "code",
      "metadata": {
        "id": "rTygk8j9SkK-"
      },
      "source": [
        "from sklearn.model_selection import train_test_split # Function for random splitting of data set\n",
        "from sklearn import linear_model # Function to create linear regression model\n",
        "from sklearn.metrics import mean_squared_error, r2_score # Functions used to evaluate models"
      ],
      "execution_count": null,
      "outputs": []
    },
    {
      "cell_type": "markdown",
      "metadata": {
        "id": "KLXXQXSSSkLB"
      },
      "source": [
        "The purpose of partitioning the dataset into a training and testing set is to be able to tune (or fit the parameters) the model using the training set and evaluate the quality of the model using different samples via the testing set. This provides meaningful insight in the model's performance  with out the need for collecting more data. \n",
        "\n",
        "![](https://github.com/vrtompki/Linear_Regression_Tutorial/blob/master/images/fig-holdout.png?raw=1)\n",
        "\n",
        "The `train_test_split` from `sklearn` separates the data and classes into the two sets by randomly assigning samples to either the training set or the testing set:"
      ]
    },
    {
      "cell_type": "code",
      "metadata": {
        "id": "NsXLSSThSkLD"
      },
      "source": [
        "# Partition the dataset into training and testing subset\n",
        "xTrain, xTest, yTrain, yTest = train_test_split(xTrain_best, # First argument is the observation set\n",
        "                                                sampleData_Y, # Second is the class set\n",
        "                                                test_size=0.33, # Use 33% of the samples for testing\n",
        "                                                random_state=42) # The random state tells the function to use the \n",
        "                                                                 # same random samples whenever its assigned the \n",
        "                                                                 # number 42."
      ],
      "execution_count": null,
      "outputs": []
    },
    {
      "cell_type": "code",
      "metadata": {
        "scrolled": true,
        "id": "tQSnmNGmSkLF",
        "colab": {
          "base_uri": "https://localhost:8080/",
          "height": 204
        },
        "outputId": "685f24ac-ddba-4228-965b-529ebbcd2da5"
      },
      "source": [
        "xTrain.head()"
      ],
      "execution_count": null,
      "outputs": [
        {
          "output_type": "execute_result",
          "data": {
            "text/html": [
              "<div>\n",
              "<style scoped>\n",
              "    .dataframe tbody tr th:only-of-type {\n",
              "        vertical-align: middle;\n",
              "    }\n",
              "\n",
              "    .dataframe tbody tr th {\n",
              "        vertical-align: top;\n",
              "    }\n",
              "\n",
              "    .dataframe thead th {\n",
              "        text-align: right;\n",
              "    }\n",
              "</style>\n",
              "<table border=\"1\" class=\"dataframe\">\n",
              "  <thead>\n",
              "    <tr style=\"text-align: right;\">\n",
              "      <th></th>\n",
              "      <th>GRE Score</th>\n",
              "      <th>GPA</th>\n",
              "    </tr>\n",
              "  </thead>\n",
              "  <tbody>\n",
              "    <tr>\n",
              "      <th>471</th>\n",
              "      <td>311</td>\n",
              "      <td>3.236</td>\n",
              "    </tr>\n",
              "    <tr>\n",
              "      <th>26</th>\n",
              "      <td>322</td>\n",
              "      <td>3.520</td>\n",
              "    </tr>\n",
              "    <tr>\n",
              "      <th>7</th>\n",
              "      <td>308</td>\n",
              "      <td>3.160</td>\n",
              "    </tr>\n",
              "    <tr>\n",
              "      <th>453</th>\n",
              "      <td>319</td>\n",
              "      <td>3.504</td>\n",
              "    </tr>\n",
              "    <tr>\n",
              "      <th>108</th>\n",
              "      <td>331</td>\n",
              "      <td>3.752</td>\n",
              "    </tr>\n",
              "  </tbody>\n",
              "</table>\n",
              "</div>"
            ],
            "text/plain": [
              "     GRE Score    GPA\n",
              "471        311  3.236\n",
              "26         322  3.520\n",
              "7          308  3.160\n",
              "453        319  3.504\n",
              "108        331  3.752"
            ]
          },
          "metadata": {
            "tags": []
          },
          "execution_count": 22
        }
      ]
    },
    {
      "cell_type": "markdown",
      "metadata": {
        "id": "xHlSxf9QSkLI"
      },
      "source": [
        "When tuning and testing a model on the same samples, evalution results could be misleading. Two such cases are over/underfitting. Overfitting is when your model performs really well on a specific dataset, but not so well with others. Underfitting is when the model can perform well using *any* dataset samples. In both cases the model is said to lack ***generalizability***, or the ability to perform adequately on a variety of datasets. This can be deterimental when trying to obtain accurate predictions for newly acquired samples.  \n",
        "\n",
        "Our data is ready for analysis but we still have no model! We can create the linear regression model using a single line of code from `sklearn`:"
      ]
    },
    {
      "cell_type": "code",
      "metadata": {
        "id": "41ZzpYvISkLI"
      },
      "source": [
        "# Import the function to create linear regression model from the sklearn library\n",
        "from sklearn import linear_model \n",
        "# Create linear regression model and assign it to the variable 'linModel'\n",
        "linModel = linear_model.LinearRegression()"
      ],
      "execution_count": null,
      "outputs": []
    },
    {
      "cell_type": "markdown",
      "metadata": {
        "id": "dJeQ03ogSkLM"
      },
      "source": [
        "It is as easy as that. If you are curious about how to use different models, I implore you to visit the `sklearn` webpage previously linked. For more information on the model we just instantiated, such as parameters we could have used to characterize it, methods/functions it uses, etc., Python has a `help()` command. To use `help()`, type the command with function or object in query surrounded by single quotes inside the parentheses, like so:"
      ]
    },
    {
      "cell_type": "code",
      "metadata": {
        "deletable": false,
        "editable": false,
        "tags": [
          "hide_output"
        ],
        "id": "4okixxyKSkLN",
        "colab": {
          "base_uri": "https://localhost:8080/",
          "height": 1000
        },
        "outputId": "fedffc6d-8296-4422-e604-e68d3fc0f3ca"
      },
      "source": [
        "help('sklearn.linear_model.base.LinearRegression')"
      ],
      "execution_count": null,
      "outputs": [
        {
          "output_type": "stream",
          "text": [
            "Help on class LinearRegression in sklearn.linear_model.base:\n",
            "\n",
            "sklearn.linear_model.base.LinearRegression = class LinearRegression(LinearModel, sklearn.base.RegressorMixin, sklearn.base.MultiOutputMixin)\n",
            " |  Ordinary least squares Linear Regression.\n",
            " |  \n",
            " |  Parameters\n",
            " |  ----------\n",
            " |  fit_intercept : boolean, optional, default True\n",
            " |      whether to calculate the intercept for this model. If set\n",
            " |      to False, no intercept will be used in calculations\n",
            " |      (e.g. data is expected to be already centered).\n",
            " |  \n",
            " |  normalize : boolean, optional, default False\n",
            " |      This parameter is ignored when ``fit_intercept`` is set to False.\n",
            " |      If True, the regressors X will be normalized before regression by\n",
            " |      subtracting the mean and dividing by the l2-norm.\n",
            " |      If you wish to standardize, please use\n",
            " |      :class:`sklearn.preprocessing.StandardScaler` before calling ``fit`` on\n",
            " |      an estimator with ``normalize=False``.\n",
            " |  \n",
            " |  copy_X : boolean, optional, default True\n",
            " |      If True, X will be copied; else, it may be overwritten.\n",
            " |  \n",
            " |  n_jobs : int or None, optional (default=None)\n",
            " |      The number of jobs to use for the computation. This will only provide\n",
            " |      speedup for n_targets > 1 and sufficient large problems.\n",
            " |      ``None`` means 1 unless in a :obj:`joblib.parallel_backend` context.\n",
            " |      ``-1`` means using all processors. See :term:`Glossary <n_jobs>`\n",
            " |      for more details.\n",
            " |  \n",
            " |  Attributes\n",
            " |  ----------\n",
            " |  coef_ : array, shape (n_features, ) or (n_targets, n_features)\n",
            " |      Estimated coefficients for the linear regression problem.\n",
            " |      If multiple targets are passed during the fit (y 2D), this\n",
            " |      is a 2D array of shape (n_targets, n_features), while if only\n",
            " |      one target is passed, this is a 1D array of length n_features.\n",
            " |  \n",
            " |  intercept_ : array\n",
            " |      Independent term in the linear model.\n",
            " |  \n",
            " |  Examples\n",
            " |  --------\n",
            " |  >>> import numpy as np\n",
            " |  >>> from sklearn.linear_model import LinearRegression\n",
            " |  >>> X = np.array([[1, 1], [1, 2], [2, 2], [2, 3]])\n",
            " |  >>> # y = 1 * x_0 + 2 * x_1 + 3\n",
            " |  >>> y = np.dot(X, np.array([1, 2])) + 3\n",
            " |  >>> reg = LinearRegression().fit(X, y)\n",
            " |  >>> reg.score(X, y)\n",
            " |  1.0\n",
            " |  >>> reg.coef_\n",
            " |  array([1., 2.])\n",
            " |  >>> reg.intercept_ # doctest: +ELLIPSIS\n",
            " |  3.0000...\n",
            " |  >>> reg.predict(np.array([[3, 5]]))\n",
            " |  array([16.])\n",
            " |  \n",
            " |  Notes\n",
            " |  -----\n",
            " |  From the implementation point of view, this is just plain Ordinary\n",
            " |  Least Squares (scipy.linalg.lstsq) wrapped as a predictor object.\n",
            " |  \n",
            " |  Method resolution order:\n",
            " |      LinearRegression\n",
            " |      LinearModel\n",
            " |      sklearn.base.BaseEstimator\n",
            " |      sklearn.base.RegressorMixin\n",
            " |      sklearn.base.MultiOutputMixin\n",
            " |      builtins.object\n",
            " |  \n",
            " |  Methods defined here:\n",
            " |  \n",
            " |  __init__(self, fit_intercept=True, normalize=False, copy_X=True, n_jobs=None)\n",
            " |      Initialize self.  See help(type(self)) for accurate signature.\n",
            " |  \n",
            " |  fit(self, X, y, sample_weight=None)\n",
            " |      Fit linear model.\n",
            " |      \n",
            " |      Parameters\n",
            " |      ----------\n",
            " |      X : array-like or sparse matrix, shape (n_samples, n_features)\n",
            " |          Training data\n",
            " |      \n",
            " |      y : array_like, shape (n_samples, n_targets)\n",
            " |          Target values. Will be cast to X's dtype if necessary\n",
            " |      \n",
            " |      sample_weight : numpy array of shape [n_samples]\n",
            " |          Individual weights for each sample\n",
            " |      \n",
            " |          .. versionadded:: 0.17\n",
            " |             parameter *sample_weight* support to LinearRegression.\n",
            " |      \n",
            " |      Returns\n",
            " |      -------\n",
            " |      self : returns an instance of self.\n",
            " |  \n",
            " |  ----------------------------------------------------------------------\n",
            " |  Data and other attributes defined here:\n",
            " |  \n",
            " |  __abstractmethods__ = frozenset()\n",
            " |  \n",
            " |  ----------------------------------------------------------------------\n",
            " |  Methods inherited from LinearModel:\n",
            " |  \n",
            " |  predict(self, X)\n",
            " |      Predict using the linear model\n",
            " |      \n",
            " |      Parameters\n",
            " |      ----------\n",
            " |      X : array_like or sparse matrix, shape (n_samples, n_features)\n",
            " |          Samples.\n",
            " |      \n",
            " |      Returns\n",
            " |      -------\n",
            " |      C : array, shape (n_samples,)\n",
            " |          Returns predicted values.\n",
            " |  \n",
            " |  ----------------------------------------------------------------------\n",
            " |  Methods inherited from sklearn.base.BaseEstimator:\n",
            " |  \n",
            " |  __getstate__(self)\n",
            " |  \n",
            " |  __repr__(self, N_CHAR_MAX=700)\n",
            " |      Return repr(self).\n",
            " |  \n",
            " |  __setstate__(self, state)\n",
            " |  \n",
            " |  get_params(self, deep=True)\n",
            " |      Get parameters for this estimator.\n",
            " |      \n",
            " |      Parameters\n",
            " |      ----------\n",
            " |      deep : boolean, optional\n",
            " |          If True, will return the parameters for this estimator and\n",
            " |          contained subobjects that are estimators.\n",
            " |      \n",
            " |      Returns\n",
            " |      -------\n",
            " |      params : mapping of string to any\n",
            " |          Parameter names mapped to their values.\n",
            " |  \n",
            " |  set_params(self, **params)\n",
            " |      Set the parameters of this estimator.\n",
            " |      \n",
            " |      The method works on simple estimators as well as on nested objects\n",
            " |      (such as pipelines). The latter have parameters of the form\n",
            " |      ``<component>__<parameter>`` so that it's possible to update each\n",
            " |      component of a nested object.\n",
            " |      \n",
            " |      Returns\n",
            " |      -------\n",
            " |      self\n",
            " |  \n",
            " |  ----------------------------------------------------------------------\n",
            " |  Data descriptors inherited from sklearn.base.BaseEstimator:\n",
            " |  \n",
            " |  __dict__\n",
            " |      dictionary for instance variables (if defined)\n",
            " |  \n",
            " |  __weakref__\n",
            " |      list of weak references to the object (if defined)\n",
            " |  \n",
            " |  ----------------------------------------------------------------------\n",
            " |  Methods inherited from sklearn.base.RegressorMixin:\n",
            " |  \n",
            " |  score(self, X, y, sample_weight=None)\n",
            " |      Returns the coefficient of determination R^2 of the prediction.\n",
            " |      \n",
            " |      The coefficient R^2 is defined as (1 - u/v), where u is the residual\n",
            " |      sum of squares ((y_true - y_pred) ** 2).sum() and v is the total\n",
            " |      sum of squares ((y_true - y_true.mean()) ** 2).sum().\n",
            " |      The best possible score is 1.0 and it can be negative (because the\n",
            " |      model can be arbitrarily worse). A constant model that always\n",
            " |      predicts the expected value of y, disregarding the input features,\n",
            " |      would get a R^2 score of 0.0.\n",
            " |      \n",
            " |      Parameters\n",
            " |      ----------\n",
            " |      X : array-like, shape = (n_samples, n_features)\n",
            " |          Test samples. For some estimators this may be a\n",
            " |          precomputed kernel matrix instead, shape = (n_samples,\n",
            " |          n_samples_fitted], where n_samples_fitted is the number of\n",
            " |          samples used in the fitting for the estimator.\n",
            " |      \n",
            " |      y : array-like, shape = (n_samples) or (n_samples, n_outputs)\n",
            " |          True values for X.\n",
            " |      \n",
            " |      sample_weight : array-like, shape = [n_samples], optional\n",
            " |          Sample weights.\n",
            " |      \n",
            " |      Returns\n",
            " |      -------\n",
            " |      score : float\n",
            " |          R^2 of self.predict(X) wrt. y.\n",
            " |      \n",
            " |      Notes\n",
            " |      -----\n",
            " |      The R2 score used when calling ``score`` on a regressor will use\n",
            " |      ``multioutput='uniform_average'`` from version 0.23 to keep consistent\n",
            " |      with `metrics.r2_score`. This will influence the ``score`` method of\n",
            " |      all the multioutput regressors (except for\n",
            " |      `multioutput.MultiOutputRegressor`). To specify the default value\n",
            " |      manually and avoid the warning, please either call `metrics.r2_score`\n",
            " |      directly or make a custom scorer with `metrics.make_scorer` (the\n",
            " |      built-in scorer ``'r2'`` uses ``multioutput='uniform_average'``).\n",
            "\n"
          ],
          "name": "stdout"
        }
      ]
    },
    {
      "cell_type": "markdown",
      "metadata": {
        "id": "9RPrfuwVSkLY"
      },
      "source": [
        "# Checkpoint -  Formulating a Solution Starting with Some Data Prep\n",
        "* W separated the data into our response variable (what we want to predict) and observations (what we use to make predictions)\n",
        "* We used F-score regression to select the best features, and observed how correlation affects which features are informative.\n",
        "* We divided our dataset into training and testing samples to improve generalizability.\n",
        "* We created a linear regression instance to be trained and evaluated."
      ]
    },
    {
      "cell_type": "markdown",
      "metadata": {
        "id": "b1dC_4EgSkLZ"
      },
      "source": [
        "## Training Our Regression\n",
        "Now that model is created, we need to train it to find the best parameters for making predictions.  Recall that training the linear regression model is solving eq(4) for $\\beta$ using the training samples in both $X$ and $Y$. To train the `linModel` we need to use it's `fit` method. This method takes the supplied inputs as $X$ and $Y$. Here is how to train the model:"
      ]
    },
    {
      "cell_type": "code",
      "metadata": {
        "id": "doN5Y0TuSkLa",
        "colab": {
          "base_uri": "https://localhost:8080/",
          "height": 34
        },
        "outputId": "f4884cb0-991c-46a8-bd9b-2d1bd1f80143"
      },
      "source": [
        "# Train the model using the randomly selected samples from the train_test_split function\n",
        "linModel.fit(X=xTrain.values, y=yTrain.values)"
      ],
      "execution_count": null,
      "outputs": [
        {
          "output_type": "execute_result",
          "data": {
            "text/plain": [
              "LinearRegression(copy_X=True, fit_intercept=True, n_jobs=None, normalize=False)"
            ]
          },
          "metadata": {
            "tags": []
          },
          "execution_count": 25
        }
      ]
    },
    {
      "cell_type": "markdown",
      "metadata": {
        "id": "vD-ft52bSkLf"
      },
      "source": [
        "## Testing Our Regression\n",
        "During the testing phase we supply the model with samples it has not seen to evaluate its performance on data that was not used to train it. Testing will inform modellers how accurate the model may perform on newly acquired samples. The following line is the command to test the linear regression model that was previously tuned: "
      ]
    },
    {
      "cell_type": "code",
      "metadata": {
        "id": "AYRmqVg4SkLo"
      },
      "source": [
        "# Test the model\n",
        "y_predLin = linModel.predict(xTest.values)"
      ],
      "execution_count": null,
      "outputs": []
    },
    {
      "cell_type": "markdown",
      "metadata": {
        "id": "UQPKNlFxSkLr"
      },
      "source": [
        "**(TODO) View the first ten prediction results to verify the model works**"
      ]
    },
    {
      "cell_type": "code",
      "metadata": {
        "id": "fmlBAZG8SkLt",
        "colab": {
          "base_uri": "https://localhost:8080/",
          "height": 51
        },
        "outputId": "4ba367cb-b3cc-4f22-8f07-166c26726bec"
      },
      "source": [
        "print(y_predLin[0:10])"
      ],
      "execution_count": null,
      "outputs": [
        {
          "output_type": "stream",
          "text": [
            "[0.93331025 0.78708034 0.57524849 0.72599587 0.82990551 0.86810152\n",
            " 0.47531743 0.65408736 0.82871605 0.77984168]\n"
          ],
          "name": "stdout"
        }
      ]
    },
    {
      "cell_type": "markdown",
      "metadata": {
        "id": "ElVCHcc0SkLw"
      },
      "source": [
        "# Step 4: How Did We Do?\n",
        "![Pred Analysis Flow4](https://github.com/vrtompki/Linear_Regression_Tutorial/blob/master/images/Predictive_Analysis_Flow5.png?raw=1)"
      ]
    },
    {
      "cell_type": "markdown",
      "metadata": {
        "id": "xFagh25ySkLx"
      },
      "source": [
        "## The Metrics for Evaluating Performance\n",
        "Now that we have a linear regression model we need to see how accurate it is. We can do this by calculating the difference between our predictions made on the test set, and their actual chance of admittance using the `mean_squared_error` module from the `sckit-learn` package."
      ]
    },
    {
      "cell_type": "code",
      "metadata": {
        "id": "p5iNPjRaSkLy",
        "colab": {
          "base_uri": "https://localhost:8080/",
          "height": 34
        },
        "outputId": "59dd5165-e254-4f20-ee3b-6b3d186f017d"
      },
      "source": [
        "mseLin = mean_squared_error(yTest.values, y_predLin)\n",
        "print('The Mean Squared Error = {0:.3f}'.format(mseLin))"
      ],
      "execution_count": null,
      "outputs": [
        {
          "output_type": "stream",
          "text": [
            "The Mean Squared Error = 0.004\n"
          ],
          "name": "stdout"
        }
      ]
    },
    {
      "cell_type": "markdown",
      "metadata": {
        "id": "hkVMMv7CSkL3"
      },
      "source": [
        "### The MSE\n",
        "The Mean Squared Error (MSE) was 0.045, or 4.5%, which means our accuracy is approximately 96.5%. That means our model is decent. Depending on the application, a \"good\" error result is relative to the task and the dataset provided. For instance, medical diagnosis may wish to have an accuracy closer to 98%. Considering we only want to know what it takes to become a graduate student, our accuracy is good enough."
      ]
    },
    {
      "cell_type": "markdown",
      "metadata": {
        "id": "0yJfzNr3SkL4"
      },
      "source": [
        "### The $R^{2}$\n",
        "Another metric used for model evaluation is $R^{2}$, which tells you how much of the error variance (the spread of error around the average error) that the model is able to cover. How well does the model fit the data? It is the amount of explained variance compared to the total variance. Another way of saying this is, what is the average distances of **ALL** the points from our line. This idea is captured in the image below.  We can use `r2_score` to calculate this value. Once agian, the significance of this value is application specific, so there is no, one, good $R^{2}$ value that works for all cases.\n",
        "\n",
        "![R2Explained](https://github.com/vrtompki/Linear_Regression_Tutorial/blob/master/images/r2_explained.PNG?raw=1)"
      ]
    },
    {
      "cell_type": "code",
      "metadata": {
        "id": "hduqpyHySkL5",
        "colab": {
          "base_uri": "https://localhost:8080/",
          "height": 34
        },
        "outputId": "5a8f4d80-8813-456e-d420-b6785babf93b"
      },
      "source": [
        "# Approximate the variance of error\n",
        "r2_Lin = r2_score(yTest.values, y_predLin)\n",
        "print('Goodness of Fit: {0:.3f}'.format(r2_Lin))"
      ],
      "execution_count": null,
      "outputs": [
        {
          "output_type": "stream",
          "text": [
            "Goodness of Fit: 0.796\n"
          ],
          "name": "stdout"
        }
      ]
    },
    {
      "cell_type": "markdown",
      "metadata": {
        "id": "z4vpG-7PSkMB"
      },
      "source": [
        "It is important to note that a \"good\" $R^{2}$ is field and application specific. There is no single good number, so it is best to combine this with other metrics such as the MSE."
      ]
    },
    {
      "cell_type": "markdown",
      "metadata": {
        "id": "stnsPhDgSkMD"
      },
      "source": [
        "### The Model Coefficients\n",
        "Now that we have an idea of the model's performance we can observe the parameters, or coefficients, of the linear regression. "
      ]
    },
    {
      "cell_type": "code",
      "metadata": {
        "id": "dFQz87_kSkME",
        "colab": {
          "base_uri": "https://localhost:8080/",
          "height": 68
        },
        "outputId": "64abbd77-9f13-4976-f0f9-0bacd7169ff3"
      },
      "source": [
        "# The model's coefficients\n",
        "print('Intercept: {:.3f}'.format(linModel.intercept_))\n",
        "print('Coefficient 1: {:.3f}\\nCoefficient 2: {:.3f} '.format(linModel.coef_[0], linModel.coef_[1]))"
      ],
      "execution_count": null,
      "outputs": [
        {
          "output_type": "stream",
          "text": [
            "Intercept: -1.693\n",
            "Coefficient 1: 0.003\n",
            "Coefficient 2: 0.387 \n"
          ],
          "name": "stdout"
        }
      ]
    },
    {
      "cell_type": "markdown",
      "metadata": {
        "id": "Iw33mlrfSkMJ"
      },
      "source": [
        "## Examining the Effects of Each Variable\n",
        "The linear regression model previously created uses two features to approximate a single line. This can be difficult to visualize, so another means of examining the impact of the features on the regression is by seeing how the regression fits the two features individually."
      ]
    },
    {
      "cell_type": "code",
      "metadata": {
        "id": "74UAZpqaSkML",
        "colab": {
          "base_uri": "https://localhost:8080/",
          "height": 1000
        },
        "outputId": "890efc3e-0427-41d6-a72e-17311833226a"
      },
      "source": [
        "import numpy as np\n",
        "import matplotlib.pyplot as plt\n",
        "linModel_parts = linModel\n",
        "fig, axes = plt.subplots(1,len(xTrain.columns.values),sharey=True,constrained_layout=True,figsize=(15,15))\n",
        "for i,e in enumerate(xTrain.columns):\n",
        "  linModel_parts.fit(xTrain[e].values[:,np.newaxis], yTrain.values)\n",
        "  axes[i].set_title(\"Linear Regression of Feature\", fontsize=14)\n",
        "  axes[i].set_xlabel(str(e), fontsize=14)\n",
        "  axes[i].set_ylabel('Prob. of Admit.', fontsize=14)\n",
        "  axes[i].scatter(xTrain[e].values[:,np.newaxis], yTrain.values,color='b')\n",
        "  axes[i].plot(xTrain[e].values[:,np.newaxis],\n",
        "  linModel_parts.predict(xTrain[e].values[:,np.newaxis]),color='k', linewidth=2)\n",
        "plt.show()"
      ],
      "execution_count": null,
      "outputs": [
        {
          "output_type": "display_data",
          "data": {
            "image/png": "[encoded data removed]",
            "text/plain": [
              "<Figure size 1080x1080 with 2 Axes>"
            ]
          },
          "metadata": {
            "tags": []
          }
        }
      ]
    },
    {
      "cell_type": "markdown",
      "metadata": {
        "id": "nhaKfwRqSkMR"
      },
      "source": [
        "# Checkpoint - Assessing the Results"
      ]
    },
    {
      "cell_type": "markdown",
      "metadata": {
        "id": "dJbS0oaESkMS"
      },
      "source": [
        "## Assessing the Results: Building on The Base Model\n",
        "* Validating the model with an additional subset\n",
        "* Cross-validation\n",
        "* More rigorous feature engineering\n",
        "* Other forms of regression"
      ]
    },
    {
      "cell_type": "markdown",
      "metadata": {
        "id": "gF7yf_vCSkMS"
      },
      "source": [
        "# Try It Out!"
      ]
    },
    {
      "cell_type": "code",
      "metadata": {
        "id": "G4yAWP5pSkMT",
        "colab": {
          "base_uri": "https://localhost:8080/",
          "height": 51
        },
        "outputId": "38ed607f-8d96-406d-d556-7b703ece7725"
      },
      "source": [
        "feat1 = 250\n",
        "feat2 = 3.5\n",
        "\n",
        "#sample = np.array([[feat1], [feat2]]).reshape(1, -1)\n",
        "#man_pred = feat1*linModel.coef_[0]+feat2*linModel.coef_[1]+linModel.intercept_\n",
        "y = linModel.predict([[feat2]])\n",
        "print(y)\n",
        "#print('Manual Calculation: {:.3f}%'.format(man_pred*100))\n",
        "print('Model Prediction: {:.3f}%'.format(np.asscalar(y)*100))"
      ],
      "execution_count": null,
      "outputs": [
        {
          "output_type": "stream",
          "text": [
            "[0.76038807]\n",
            "Model Prediction: 76.039%\n"
          ],
          "name": "stdout"
        }
      ]
    },
    {
      "cell_type": "markdown",
      "metadata": {
        "id": "Uib5weB4SkMW"
      },
      "source": [
        "# Finding Additional Resources\n",
        "Now that you have completed this workshop, you should be able to replicate the this fundamental process for predictive analysis! This workshop was developed to wet your data science palatte! If you want to learn more feel free to check out a few of my favorite resources for learning predictive analysis and other data science topics:\n",
        "\n",
        "## Books\n",
        "* <a href=\"https://www.amazon.com/Linear-Algebra-Step-Kuldeep-Singh/dp/0199654441/ref=sr_1_5?crid=U1E4DNIRTYZ5&keywords=linear+algebra&qid=1553266485&s=books&sprefix=linear+%2Cstripbooks%2C209&sr=1-5\"> Linear Algebra: Step by Step</a>\n",
        "* <a href=\"https://www.amazon.com/Deep-Learning-Adaptive-Computation-Machine/dp/0262035618/ref=sr_1_1?crid=Z1CEM1E8LWHH&keywords=deep+learning+ian+goodfellow&qid=1553265449&s=books&sprefix=deep+learning%2Cstripbooks%2C327&sr=1-1\"> Deep Learning Adaptive Computation Machine</a>\n",
        "* <a href=\"https://www.crcpress.com/Foundations-of-Predictive-Analytics/Wu-Coggeshall/p/book/9781439869468\"> Foundations of Predictive Analysis</a>\n",
        "* <a href=\"https://www.amazon.com/Python-Data-Science-Handbook-Essential/dp/1491912057\"> Python Data Science Handbook</a>\n",
        "\n",
        "## Blogs and Websites\n",
        "* <a href=\"https://towardsdatascience.com/\"> Towards Data Science</a>\n",
        "* <a href=\"https://www.analyticsvidhya.com/\"> Analytics Vidhya</a>\n",
        "* <a href=\"https://datascience.stackexchange.com/\"> Data Science Stack Exchange</a>\n",
        "* <a href=\"https://fivethirtyeight.com/\"> FiveThirtyEight</a>\n",
        "\n",
        "## Workshops and Massive Open Online Courses (MOOCs)\n",
        "* <a href=\"https://www.lib.ncsu.edu/workshops/upcoming\"> NCSU Libraries Data and Viz Workshops</a>\n",
        "* <a href=\"https://www.datacamp.com/home\"> DataCamp</a>\n",
        "* <a href=\"https://www.coursera.org/\"> Coursera</a>\n",
        "* <a href=\"https://www.edx.org/\"> edX</a>\n"
      ]
    },
    {
      "cell_type": "markdown",
      "metadata": {
        "id": "XUzVmkCTSkMj"
      },
      "source": [
        "# Appendix\n",
        "## Some Definitions\n",
        "Here I will define some terminology. It is common to find multiple definitions for terminology in any capacity, but especially in data science. This stems from the interdiscplinary aspect of the field where different fields have their respective definitions. There is nothing inherently wrong with this, so long as discussion leaves all parties with a cohesive understanding.\n",
        "\n",
        "***Model*** - A simulation, or representation meant to provide insight on the nature, characteristics, behaviors, and implications on the object or system it is meant to depict.\n",
        "\n",
        "***Algorithm*** - Although various definitions of algorithms exist, for the purpose of these tutorials we will subscribe to algoritms meaning a set of mathematical steps, or equations, to perform a task. Working under this definition implies that a model is a composition of algorithms. This definition is a personal preference, and used to estabilsh terminology confluence within the context of this tutorial.\n",
        "\n",
        "***Predictive Analysis*** - the creation and use of a model to derive meaning or speculation as to the state or behavior of a an object or system under certain constraints.\n",
        "\n",
        "***Exploratory Analysis*** - the process of determining underlining patterns and attributes of a data using statistical, heuristics, or other means not necessarily using a model.\n",
        "\n",
        "## Intro to the Math behind Linear Regressions\n",
        "Remember the formula in eq(1)? That was the algebraic equation for the response variable, where y is the response variable we want to model, a is the parameter we want to find to best map our term(s) x to the response, and b is noise that is inherent to the data. For the sake of simplicity, we can think of a response variable in relation to a single term so that we can better understand the intuition using algebra, but it is important to note that the aforementioned variables are vectors and matrices when dealing with multiple linear regressions which requires matrix algebra.  \n",
        "\n",
        "$$ \\begin{align}\n",
        "Y - \\epsilon &= \\beta X  \\\\\n",
        "(Y - \\epsilon)/X &= \\beta\n",
        "\\end{align} $$\n",
        "\n",
        "Since data is represented primarily in vectors in matrices the actual formulation would look slightly different. Let's draw some comparisons between the single variable notation and matrix notation and if you are already comfortable with matrix algebra feel free to skip ahead.\n",
        "\n",
        "### Brief Introduction to Matrix Algebra \n",
        "For the purpose of this lesson, matrices will be denoted by a captial letter. Dividing one matrix by another is equivalent to multiplying the matrix that would be the numerator by the inverse of the matrix that would be the denomator.  \n",
        "\n",
        "$$ \\frac{a}{x} \\leftrightarrow {X^{ - 1}}A \\\\ $$\n",
        "\n",
        "Squaring a matrix is equivalent to multiplying a matrix by its inverse.\n",
        "\n",
        "$$ {x^2} \\leftrightarrow {X^T}X $$\n",
        "\n",
        "The identity matrix, $I$, is a square matrix (the number of rows is equal to the number of columns) where the diagonal entries are all 1. So a 2 by 2 identity matrix would look as follows:\n",
        "\n",
        "$$  I \\in {\\mathbb{R}^{2x2}} = \\left[ \n",
        "{\\begin{array}{*{20}{c}}\n",
        "  1&0 \\\\ \n",
        "  0&1 \n",
        "\\end{array}} \\right] \\\\ \n",
        "  Y = X\\beta  + \\varepsilon  \\\\ $$\n",
        "  \n",
        "### Linear Regression via Ordinary Least Squares\n",
        "Now that we know the notation we can explore eq(1) in terms of what the data actually looks like. Rewriting eq(1) using matrix notation yields:\n",
        "\n",
        "$$ Y = X\\beta  + \\varepsilon $$ (2)\n",
        "\n",
        "Here, $\\beta$ are the coefficients of the linear regression model that need to be deterimined, and $\\varepsilon$ is the noise or error apparent in our observations. $X$ is now a matrix of our observations, and $Y$ is our target or response term matrix. We now want to find a $\\beta$ such that average error between what such as that the average error given the observations is zero, or mathematically:\n",
        "\n",
        "$$ E[\\varepsilon |X] = 0 \\\\ $$\n",
        "\n",
        "This suggests that the line taht best describes our response term would be one such that the average distance from all observations is zero. It is possible to find such a line by finding out the relationship between $\\beta$ and $\\varepsilon$. This method is refered to as minmizing the error sum of squares (SSE or RSS or ESS):\n",
        "$$ SSE = {\\varepsilon ^T}\\varepsilon  \\\\ $$ \n",
        "Where $\\varepsilon$ is:\n",
        "$$ \\varepsilon  = Y - X\\beta  \\\\ $$\n",
        "and\n",
        "$$ {\\varepsilon ^T} = {(Y - X\\beta )^T} \\\\ $$\n",
        "Therefore, SSE is equal to:\n",
        "$$ SSE = {(Y - X\\beta )^T}(Y - X\\beta )  (3)\\\\ $$\n",
        "\n",
        "### Error Sum of Squares and Ordinary Least Squares\n",
        "Error sum of squares (ESS or SSE) is exactly what it sounds like. It is the a summation of all the differences between the predicted results and the actual results squared. The term itself describes the variance, or how spread out the error of the model is. If the variance is large, then the model is almost no better than choosing a prediction at random, so we want to minimize the SSE such that it is zero. Since the only term the model can actually change is the fitting parameters, we need to find out how the SSE changes when the parameters being fitted change and set resulting equation equal to zero. The derivation below shows setting the first derivative of SSE with respect of $\\beta$ using eq(3):\n",
        "\n",
        "$$\\begin{align}\n",
        "  \\frac{{\\partial SSE}}{{\\partial \\beta }} &= 2[({X^T}X)\\beta  - {X^T}Y] \\\\ \n",
        "   &= 2{X^T}(X\\beta  - Y) \\\\ \n",
        "   &= 2{X^T}(\\hat Y - Y) \\\\ \n",
        "  0 &= 20[({X^T}X)\\beta  - {X^T}Y] \\\\ \n",
        "  0 &= ({X^T}X)\\beta  - {X^T}Y  \n",
        "\\end{align}$$ \n",
        "\n",
        "Now that we have the correct equation, we can solve for $\\beta$ in terms of $X$ and $Y$:\n",
        "\n",
        "$$ \\begin{align}\n",
        "0 &= ({X^T}X)\\beta  - {X^T}Y \\\\ \n",
        "{X^T}Y &= ({X^T}X)\\beta \\\\\n",
        "\\beta &= ({X^T}X)^{-1}({X^T}Y)\\qquad (4)\\\\\n",
        "\\end{align}$$\n",
        "\n",
        "This method of fitting $\\beta$ is now as finding the ordinary least squares estimator for $\\beta$. It is one way validate the fit of the model. Another method of evaluating the linear regression's ability to fit is by calculating the $R^{2}$ value or as it is known the coefficient of determination. It is used to quantitate how well the predictions can be calculated using the real data."
      ]
    },
    {
      "cell_type": "code",
      "metadata": {
        "id": "bdlmEeRcSkMl"
      },
      "source": [
        ""
      ],
      "execution_count": null,
      "outputs": []
    }
  ]
}