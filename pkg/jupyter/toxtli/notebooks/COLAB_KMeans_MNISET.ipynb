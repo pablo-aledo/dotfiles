{
  "nbformat": 4,
  "nbformat_minor": 0,
  "metadata": {
    "colab": {
      "name": "COLAB - KMeans-MNISET.ipynb",
      "provenance": [],
      "collapsed_sections": []
    },
    "kernelspec": {
      "name": "python3",
      "display_name": "Python 3"
    },
    "accelerator": "GPU"
  },
  "cells": [
    {
      "cell_type": "markdown",
      "metadata": {
        "id": "aviFMthR-NUd"
      },
      "source": [
        "Adapted by Carlos Toxtli http://www.carlostoxtli.com/#colab-kmean-1\n",
        "\n",
        "Source: https://github.com/kareemhossam/KMeans-MNIST/blob/master/KMeans_MNISET.ipynb"
      ]
    },
    {
      "cell_type": "code",
      "metadata": {
        "id": "P1SVCwkFd7sG",
        "colab": {
          "base_uri": "https://localhost:8080/",
          "height": 391
        },
        "outputId": "8b40fcf6-c62b-47db-b0a5-1362f40d40fe"
      },
      "source": [
        "get_ipython().system(\"wget 'http://yann.lecun.com/exdb/mnist/train-images-idx3-ubyte.gz'\")\n",
        "get_ipython().system(\"wget 'http://yann.lecun.com/exdb/mnist/train-labels-idx1-ubyte.gz'\")\n",
        "get_ipython().system('gunzip train-images-idx3-ubyte.gz')\n",
        "get_ipython().system('gunzip train-labels-idx1-ubyte.gz')\n",
        "\n"
      ],
      "execution_count": null,
      "outputs": [
        {
          "output_type": "stream",
          "text": [
            "--2019-09-22 14:41:50--  http://yann.lecun.com/exdb/mnist/train-images-idx3-ubyte.gz\n",
            "Resolving yann.lecun.com (yann.lecun.com)... 216.165.22.6\n",
            "Connecting to yann.lecun.com (yann.lecun.com)|216.165.22.6|:80... connected.\n",
            "HTTP request sent, awaiting response... 200 OK\n",
            "Length: 9912422 (9.5M) [application/x-gzip]\n",
            "Saving to: ‘train-images-idx3-ubyte.gz’\n",
            "\n",
            "train-images-idx3-u 100%[===================>]   9.45M  12.0MB/s    in 0.8s    \n",
            "\n",
            "2019-09-22 14:41:51 (12.0 MB/s) - ‘train-images-idx3-ubyte.gz’ saved [9912422/9912422]\n",
            "\n",
            "--2019-09-22 14:41:53--  http://yann.lecun.com/exdb/mnist/train-labels-idx1-ubyte.gz\n",
            "Resolving yann.lecun.com (yann.lecun.com)... 216.165.22.6\n",
            "Connecting to yann.lecun.com (yann.lecun.com)|216.165.22.6|:80... connected.\n",
            "HTTP request sent, awaiting response... 200 OK\n",
            "Length: 28881 (28K) [application/x-gzip]\n",
            "Saving to: ‘train-labels-idx1-ubyte.gz’\n",
            "\n",
            "train-labels-idx1-u 100%[===================>]  28.20K  --.-KB/s    in 0.08s   \n",
            "\n",
            "2019-09-22 14:41:53 (355 KB/s) - ‘train-labels-idx1-ubyte.gz’ saved [28881/28881]\n",
            "\n"
          ],
          "name": "stdout"
        }
      ]
    },
    {
      "cell_type": "code",
      "metadata": {
        "id": "FRJX03zsf7c3",
        "colab": {
          "base_uri": "https://localhost:8080/",
          "height": 85
        },
        "outputId": "427b094a-d835-46a8-f206-7377ec066893"
      },
      "source": [
        "get_ipython().system('git clone https://github.com/kareemhossam/KMeans-MNIST.git')"
      ],
      "execution_count": null,
      "outputs": [
        {
          "output_type": "stream",
          "text": [
            "Cloning into 'KMeans-MNIST'...\n",
            "remote: Enumerating objects: 16, done.\u001b[K\n",
            "remote: Total 16 (delta 0), reused 0 (delta 0), pack-reused 16\u001b[K\n",
            "Unpacking objects: 100% (16/16), done.\n"
          ],
          "name": "stdout"
        }
      ]
    },
    {
      "cell_type": "code",
      "metadata": {
        "id": "oMs7QLR-f78v"
      },
      "source": [
        "import os\n",
        "os.chdir('KMeans-MNIST')\n",
        "from DataReader import DataReader\n",
        "from KMeans import KMeans\n",
        "import matplotlib.pyplot as plt\n",
        "import numpy as np"
      ],
      "execution_count": null,
      "outputs": []
    },
    {
      "cell_type": "code",
      "metadata": {
        "id": "TADge32ugCcm",
        "colab": {
          "base_uri": "https://localhost:8080/",
          "height": 323
        },
        "outputId": "b5b9429b-2d28-4f7f-fb27-2ea38aa746fe"
      },
      "source": [
        "data_reader = DataReader('../')\n",
        "tr_data, tr_class_labels, tr_subclass_labels = data_reader.get_train_data()\n",
        "data_reader.plot_imgs(tr_data,25,True)"
      ],
      "execution_count": null,
      "outputs": [
        {
          "output_type": "display_data",
          "data": {
            "image/png": "[encoded data removed]",
            "text/plain": [
              "<Figure size 360x360 with 25 Axes>"
            ]
          },
          "metadata": {
            "tags": []
          }
        }
      ]
    },
    {
      "cell_type": "code",
      "metadata": {
        "id": "okOoDV-5gJ25",
        "colab": {
          "base_uri": "https://localhost:8080/",
          "height": 1000
        },
        "outputId": "fb3d9123-80d2-4022-c278-2acf521f584b"
      },
      "source": [
        "kmeans = KMeans(n_clusters=10,max_iter=200)\n",
        "kmeans.fit(tr_data,tr_class_labels)"
      ],
      "execution_count": null,
      "outputs": [
        {
          "output_type": "stream",
          "text": [
            "60000it [00:05, 11774.15it/s]\n",
            "1214it [00:00, 12136.22it/s]"
          ],
          "name": "stderr"
        },
        {
          "output_type": "stream",
          "text": [
            "\n",
            "Iteration: 0 Loss: 99100513.98843625 Difference: 20783.03656831696\n"
          ],
          "name": "stdout"
        },
        {
          "output_type": "stream",
          "text": [
            "60000it [00:04, 12384.49it/s]\n",
            "1186it [00:00, 11854.22it/s]"
          ],
          "name": "stderr"
        },
        {
          "output_type": "stream",
          "text": [
            "\n",
            "Iteration: 1 Loss: 96822843.39020261 Difference: 3969.4026440125194\n"
          ],
          "name": "stdout"
        },
        {
          "output_type": "stream",
          "text": [
            "60000it [00:04, 12272.06it/s]\n",
            "1115it [00:00, 11146.24it/s]"
          ],
          "name": "stderr"
        },
        {
          "output_type": "stream",
          "text": [
            "\n",
            "Iteration: 2 Loss: 96008686.92223641 Difference: 685.8433872273215\n"
          ],
          "name": "stdout"
        },
        {
          "output_type": "stream",
          "text": [
            "60000it [00:04, 12127.01it/s]\n",
            "1193it [00:00, 11924.35it/s]"
          ],
          "name": "stderr"
        },
        {
          "output_type": "stream",
          "text": [
            "\n",
            "Iteration: 3 Loss: 95641091.87569666 Difference: 416.868411954343\n"
          ],
          "name": "stdout"
        },
        {
          "output_type": "stream",
          "text": [
            "60000it [00:04, 12197.88it/s]\n",
            "1248it [00:00, 12477.63it/s]"
          ],
          "name": "stderr"
        },
        {
          "output_type": "stream",
          "text": [
            "\n",
            "Iteration: 4 Loss: 95410961.94340007 Difference: 280.50253761430406\n"
          ],
          "name": "stdout"
        },
        {
          "output_type": "stream",
          "text": [
            "60000it [00:04, 12122.73it/s]\n",
            "1257it [00:00, 12567.91it/s]"
          ],
          "name": "stderr"
        },
        {
          "output_type": "stream",
          "text": [
            "\n",
            "Iteration: 5 Loss: 95205370.17019524 Difference: 247.230844862003\n"
          ],
          "name": "stdout"
        },
        {
          "output_type": "stream",
          "text": [
            "60000it [00:04, 12202.37it/s]\n",
            "1277it [00:00, 12766.27it/s]"
          ],
          "name": "stderr"
        },
        {
          "output_type": "stream",
          "text": [
            "\n",
            "Iteration: 6 Loss: 95028375.37199643 Difference: 243.4045602378663\n"
          ],
          "name": "stdout"
        },
        {
          "output_type": "stream",
          "text": [
            "60000it [00:04, 12284.75it/s]\n",
            "1107it [00:00, 11069.38it/s]"
          ],
          "name": "stderr"
        },
        {
          "output_type": "stream",
          "text": [
            "\n",
            "Iteration: 7 Loss: 94885220.69467929 Difference: 221.43646268790644\n"
          ],
          "name": "stdout"
        },
        {
          "output_type": "stream",
          "text": [
            "60000it [00:04, 12213.14it/s]\n",
            "1230it [00:00, 12294.27it/s]"
          ],
          "name": "stderr"
        },
        {
          "output_type": "stream",
          "text": [
            "\n",
            "Iteration: 8 Loss: 94767301.72893508 Difference: 195.86685714685305\n"
          ],
          "name": "stdout"
        },
        {
          "output_type": "stream",
          "text": [
            "60000it [00:05, 11912.62it/s]\n",
            "1220it [00:00, 12193.27it/s]"
          ],
          "name": "stderr"
        },
        {
          "output_type": "stream",
          "text": [
            "\n",
            "Iteration: 9 Loss: 94674201.2307039 Difference: 182.48134863781567\n"
          ],
          "name": "stdout"
        },
        {
          "output_type": "stream",
          "text": [
            "60000it [00:04, 12114.17it/s]\n",
            "1121it [00:00, 11208.59it/s]"
          ],
          "name": "stderr"
        },
        {
          "output_type": "stream",
          "text": [
            "\n",
            "Iteration: 10 Loss: 94607424.09886959 Difference: 161.13584961987536\n"
          ],
          "name": "stdout"
        },
        {
          "output_type": "stream",
          "text": [
            "60000it [00:04, 12216.41it/s]\n",
            "1279it [00:00, 12786.72it/s]"
          ],
          "name": "stderr"
        },
        {
          "output_type": "stream",
          "text": [
            "\n",
            "Iteration: 11 Loss: 94558030.75297353 Difference: 139.6453113554097\n"
          ],
          "name": "stdout"
        },
        {
          "output_type": "stream",
          "text": [
            "60000it [00:04, 12274.86it/s]\n",
            "1201it [00:00, 12005.92it/s]"
          ],
          "name": "stderr"
        },
        {
          "output_type": "stream",
          "text": [
            "\n",
            "Iteration: 12 Loss: 94516685.8998753 Difference: 123.36719924835647\n"
          ],
          "name": "stdout"
        },
        {
          "output_type": "stream",
          "text": [
            "60000it [00:04, 12322.25it/s]\n",
            "1214it [00:00, 12135.24it/s]"
          ],
          "name": "stderr"
        },
        {
          "output_type": "stream",
          "text": [
            "\n",
            "Iteration: 13 Loss: 94475350.03187048 Difference: 118.00011510182148\n"
          ],
          "name": "stdout"
        },
        {
          "output_type": "stream",
          "text": [
            "60000it [00:04, 12319.38it/s]\n",
            "1246it [00:00, 12451.82it/s]"
          ],
          "name": "stderr"
        },
        {
          "output_type": "stream",
          "text": [
            "\n",
            "Iteration: 14 Loss: 94423746.9080368 Difference: 119.53555468867961\n"
          ],
          "name": "stdout"
        },
        {
          "output_type": "stream",
          "text": [
            "60000it [00:04, 12286.47it/s]\n",
            "1167it [00:00, 11663.67it/s]"
          ],
          "name": "stderr"
        },
        {
          "output_type": "stream",
          "text": [
            "\n",
            "Iteration: 15 Loss: 94363857.70682377 Difference: 130.83478277825176\n"
          ],
          "name": "stdout"
        },
        {
          "output_type": "stream",
          "text": [
            "60000it [00:04, 12338.29it/s]\n",
            "1225it [00:00, 12244.00it/s]"
          ],
          "name": "stderr"
        },
        {
          "output_type": "stream",
          "text": [
            "\n",
            "Iteration: 16 Loss: 94297320.52198473 Difference: 138.43115154260812\n"
          ],
          "name": "stdout"
        },
        {
          "output_type": "stream",
          "text": [
            "60000it [00:04, 12376.42it/s]\n",
            "1062it [00:00, 10614.72it/s]"
          ],
          "name": "stderr"
        },
        {
          "output_type": "stream",
          "text": [
            "\n",
            "Iteration: 17 Loss: 94255945.76991679 Difference: 144.01918283620597\n"
          ],
          "name": "stdout"
        },
        {
          "output_type": "stream",
          "text": [
            "60000it [00:04, 12332.65it/s]\n",
            "1223it [00:00, 12223.40it/s]"
          ],
          "name": "stderr"
        },
        {
          "output_type": "stream",
          "text": [
            "\n",
            "Iteration: 18 Loss: 94232575.6712217 Difference: 102.06908386425957\n"
          ],
          "name": "stdout"
        },
        {
          "output_type": "stream",
          "text": [
            "60000it [00:04, 12172.82it/s]\n",
            "1252it [00:00, 12514.46it/s]"
          ],
          "name": "stderr"
        },
        {
          "output_type": "stream",
          "text": [
            "\n",
            "Iteration: 19 Loss: 94217618.51038837 Difference: 79.80631721407289\n"
          ],
          "name": "stdout"
        },
        {
          "output_type": "stream",
          "text": [
            "60000it [00:04, 12387.97it/s]\n",
            "1223it [00:00, 12224.85it/s]"
          ],
          "name": "stderr"
        },
        {
          "output_type": "stream",
          "text": [
            "\n",
            "Iteration: 20 Loss: 94208685.81147699 Difference: 63.48883199534283\n"
          ],
          "name": "stdout"
        },
        {
          "output_type": "stream",
          "text": [
            "60000it [00:04, 12356.30it/s]\n",
            "1215it [00:00, 12147.09it/s]"
          ],
          "name": "stderr"
        },
        {
          "output_type": "stream",
          "text": [
            "\n",
            "Iteration: 21 Loss: 94203458.99116677 Difference: 49.690925012529284\n"
          ],
          "name": "stdout"
        },
        {
          "output_type": "stream",
          "text": [
            "60000it [00:04, 12240.58it/s]\n",
            "1226it [00:00, 12255.69it/s]"
          ],
          "name": "stderr"
        },
        {
          "output_type": "stream",
          "text": [
            "\n",
            "Iteration: 22 Loss: 94199654.88680762 Difference: 42.51556437671468\n"
          ],
          "name": "stdout"
        },
        {
          "output_type": "stream",
          "text": [
            "60000it [00:04, 12368.65it/s]\n",
            "1163it [00:00, 11625.94it/s]"
          ],
          "name": "stderr"
        },
        {
          "output_type": "stream",
          "text": [
            "\n",
            "Iteration: 23 Loss: 94197356.61346185 Difference: 35.898929293792435\n"
          ],
          "name": "stdout"
        },
        {
          "output_type": "stream",
          "text": [
            "60000it [00:04, 12225.74it/s]\n",
            "1213it [00:00, 12122.15it/s]"
          ],
          "name": "stderr"
        },
        {
          "output_type": "stream",
          "text": [
            "\n",
            "Iteration: 24 Loss: 94195465.9606812 Difference: 32.39121371458453\n"
          ],
          "name": "stdout"
        },
        {
          "output_type": "stream",
          "text": [
            "60000it [00:04, 12391.80it/s]\n",
            "1267it [00:00, 12658.60it/s]"
          ],
          "name": "stderr"
        },
        {
          "output_type": "stream",
          "text": [
            "\n",
            "Iteration: 25 Loss: 94194773.22255448 Difference: 28.667898229539134\n"
          ],
          "name": "stdout"
        },
        {
          "output_type": "stream",
          "text": [
            "60000it [00:04, 12087.66it/s]\n",
            "1224it [00:00, 12237.15it/s]"
          ],
          "name": "stderr"
        },
        {
          "output_type": "stream",
          "text": [
            "\n",
            "Iteration: 26 Loss: 94194579.07921442 Difference: 25.103358732720213\n"
          ],
          "name": "stdout"
        },
        {
          "output_type": "stream",
          "text": [
            "60000it [00:04, 12329.93it/s]\n",
            "1199it [00:00, 11982.67it/s]"
          ],
          "name": "stderr"
        },
        {
          "output_type": "stream",
          "text": [
            "\n",
            "Iteration: 27 Loss: 94194362.28733237 Difference: 20.787235186313126\n"
          ],
          "name": "stdout"
        },
        {
          "output_type": "stream",
          "text": [
            "60000it [00:04, 12297.63it/s]\n",
            "1234it [00:00, 12339.69it/s]"
          ],
          "name": "stderr"
        },
        {
          "output_type": "stream",
          "text": [
            "\n",
            "Iteration: 28 Loss: 94194307.02771384 Difference: 17.478146927439525\n"
          ],
          "name": "stdout"
        },
        {
          "output_type": "stream",
          "text": [
            "60000it [00:04, 12282.44it/s]\n",
            "1116it [00:00, 11157.78it/s]"
          ],
          "name": "stderr"
        },
        {
          "output_type": "stream",
          "text": [
            "\n",
            "Iteration: 29 Loss: 94194538.6725704 Difference: 14.596166016455129\n"
          ],
          "name": "stdout"
        },
        {
          "output_type": "stream",
          "text": [
            "60000it [00:04, 12197.05it/s]\n",
            "1249it [00:00, 12481.08it/s]"
          ],
          "name": "stderr"
        },
        {
          "output_type": "stream",
          "text": [
            "\n",
            "Iteration: 30 Loss: 94194793.26374842 Difference: 12.73936144546232\n"
          ],
          "name": "stdout"
        },
        {
          "output_type": "stream",
          "text": [
            "60000it [00:04, 12249.45it/s]\n",
            "1275it [00:00, 12748.74it/s]"
          ],
          "name": "stderr"
        },
        {
          "output_type": "stream",
          "text": [
            "\n",
            "Iteration: 31 Loss: 94194696.36002699 Difference: 10.937415786804532\n"
          ],
          "name": "stdout"
        },
        {
          "output_type": "stream",
          "text": [
            "60000it [00:04, 12085.54it/s]\n",
            "1258it [00:00, 12571.26it/s]"
          ],
          "name": "stderr"
        },
        {
          "output_type": "stream",
          "text": [
            "\n",
            "Iteration: 32 Loss: 94194668.22239983 Difference: 8.67391280050373\n"
          ],
          "name": "stdout"
        },
        {
          "output_type": "stream",
          "text": [
            "60000it [00:04, 12294.84it/s]\n",
            "1208it [00:00, 12078.83it/s]"
          ],
          "name": "stderr"
        },
        {
          "output_type": "stream",
          "text": [
            "\n",
            "Iteration: 33 Loss: 94194705.99007712 Difference: 7.782910405097618\n"
          ],
          "name": "stdout"
        },
        {
          "output_type": "stream",
          "text": [
            "60000it [00:04, 12372.14it/s]\n",
            "1092it [00:00, 10916.00it/s]"
          ],
          "name": "stderr"
        },
        {
          "output_type": "stream",
          "text": [
            "\n",
            "Iteration: 34 Loss: 94194716.99055143 Difference: 5.796131519388543\n"
          ],
          "name": "stdout"
        },
        {
          "output_type": "stream",
          "text": [
            "60000it [00:04, 12377.55it/s]\n",
            "1203it [00:00, 12029.61it/s]"
          ],
          "name": "stderr"
        },
        {
          "output_type": "stream",
          "text": [
            "\n",
            "Iteration: 35 Loss: 94195028.08720128 Difference: 4.912103321185954\n"
          ],
          "name": "stdout"
        },
        {
          "output_type": "stream",
          "text": [
            "60000it [00:04, 12244.68it/s]\n",
            "1264it [00:00, 12632.42it/s]"
          ],
          "name": "stderr"
        },
        {
          "output_type": "stream",
          "text": [
            "\n",
            "Iteration: 36 Loss: 94195483.61234684 Difference: 5.4460543082783985\n"
          ],
          "name": "stdout"
        },
        {
          "output_type": "stream",
          "text": [
            "60000it [00:04, 12306.82it/s]\n",
            "1172it [00:00, 11715.04it/s]"
          ],
          "name": "stderr"
        },
        {
          "output_type": "stream",
          "text": [
            "\n",
            "Iteration: 37 Loss: 94195714.77623725 Difference: 5.188160684370747\n"
          ],
          "name": "stdout"
        },
        {
          "output_type": "stream",
          "text": [
            "60000it [00:04, 12398.59it/s]\n",
            "1189it [00:00, 11888.51it/s]"
          ],
          "name": "stderr"
        },
        {
          "output_type": "stream",
          "text": [
            "\n",
            "Iteration: 38 Loss: 94195750.87757057 Difference: 4.581749623631683\n"
          ],
          "name": "stdout"
        },
        {
          "output_type": "stream",
          "text": [
            "60000it [00:04, 12348.77it/s]\n",
            "1246it [00:00, 12451.97it/s]"
          ],
          "name": "stderr"
        },
        {
          "output_type": "stream",
          "text": [
            "\n",
            "Iteration: 39 Loss: 94195970.29323067 Difference: 5.5361348265646395\n"
          ],
          "name": "stdout"
        },
        {
          "output_type": "stream",
          "text": [
            "60000it [00:04, 12335.43it/s]\n",
            "1190it [00:00, 11898.28it/s]"
          ],
          "name": "stderr"
        },
        {
          "output_type": "stream",
          "text": [
            "\n",
            "Iteration: 40 Loss: 94196258.54540426 Difference: 6.886932206425813\n"
          ],
          "name": "stdout"
        },
        {
          "output_type": "stream",
          "text": [
            "60000it [00:04, 12058.73it/s]\n",
            "1248it [00:00, 12472.07it/s]"
          ],
          "name": "stderr"
        },
        {
          "output_type": "stream",
          "text": [
            "\n",
            "Iteration: 41 Loss: 94196541.24705482 Difference: 6.233762282699907\n"
          ],
          "name": "stdout"
        },
        {
          "output_type": "stream",
          "text": [
            "60000it [00:04, 12267.16it/s]\n",
            "1224it [00:00, 12234.88it/s]"
          ],
          "name": "stderr"
        },
        {
          "output_type": "stream",
          "text": [
            "\n",
            "Iteration: 42 Loss: 94196811.67801063 Difference: 5.556865795550758\n"
          ],
          "name": "stdout"
        },
        {
          "output_type": "stream",
          "text": [
            "60000it [00:04, 12385.36it/s]\n",
            "1216it [00:00, 12159.29it/s]"
          ],
          "name": "stderr"
        },
        {
          "output_type": "stream",
          "text": [
            "\n",
            "Iteration: 43 Loss: 94196909.74672765 Difference: 5.604671636506269\n"
          ],
          "name": "stdout"
        },
        {
          "output_type": "stream",
          "text": [
            "60000it [00:04, 12292.02it/s]\n",
            "1254it [00:00, 12539.38it/s]"
          ],
          "name": "stderr"
        },
        {
          "output_type": "stream",
          "text": [
            "\n",
            "Iteration: 44 Loss: 94196943.3335759 Difference: 6.146117879559836\n"
          ],
          "name": "stdout"
        },
        {
          "output_type": "stream",
          "text": [
            "60000it [00:04, 12243.05it/s]\n",
            "1221it [00:00, 12209.87it/s]"
          ],
          "name": "stderr"
        },
        {
          "output_type": "stream",
          "text": [
            "\n",
            "Iteration: 45 Loss: 94196912.47085622 Difference: 4.1527590317457\n"
          ],
          "name": "stdout"
        },
        {
          "output_type": "stream",
          "text": [
            "60000it [00:04, 12411.23it/s]\n",
            "1200it [00:00, 11997.15it/s]"
          ],
          "name": "stderr"
        },
        {
          "output_type": "stream",
          "text": [
            "\n",
            "Iteration: 46 Loss: 94196942.62659243 Difference: 4.151856864942575\n"
          ],
          "name": "stdout"
        },
        {
          "output_type": "stream",
          "text": [
            "60000it [00:04, 12115.01it/s]\n",
            "1189it [00:00, 11879.81it/s]"
          ],
          "name": "stderr"
        },
        {
          "output_type": "stream",
          "text": [
            "\n",
            "Iteration: 47 Loss: 94196929.29492125 Difference: 3.8780788748767807\n"
          ],
          "name": "stdout"
        },
        {
          "output_type": "stream",
          "text": [
            "60000it [00:04, 12285.37it/s]\n",
            "1205it [00:00, 12041.40it/s]"
          ],
          "name": "stderr"
        },
        {
          "output_type": "stream",
          "text": [
            "\n",
            "Iteration: 48 Loss: 94196997.61042973 Difference: 3.107527635253273\n"
          ],
          "name": "stdout"
        },
        {
          "output_type": "stream",
          "text": [
            "60000it [00:04, 12443.59it/s]\n",
            "1253it [00:00, 12529.18it/s]"
          ],
          "name": "stderr"
        },
        {
          "output_type": "stream",
          "text": [
            "\n",
            "Iteration: 49 Loss: 94196980.56522383 Difference: 2.6022172052651467\n"
          ],
          "name": "stdout"
        },
        {
          "output_type": "stream",
          "text": [
            "60000it [00:04, 12309.81it/s]\n",
            "1219it [00:00, 12189.05it/s]"
          ],
          "name": "stderr"
        },
        {
          "output_type": "stream",
          "text": [
            "\n",
            "Iteration: 50 Loss: 94196825.58910787 Difference: 2.267241615432173\n"
          ],
          "name": "stdout"
        },
        {
          "output_type": "stream",
          "text": [
            "60000it [00:04, 12511.77it/s]\n",
            "1208it [00:00, 12073.53it/s]"
          ],
          "name": "stderr"
        },
        {
          "output_type": "stream",
          "text": [
            "\n",
            "Iteration: 51 Loss: 94196602.34040423 Difference: 1.772815832319451\n"
          ],
          "name": "stdout"
        },
        {
          "output_type": "stream",
          "text": [
            "60000it [00:04, 12148.76it/s]\n",
            "1255it [00:00, 12544.21it/s]"
          ],
          "name": "stderr"
        },
        {
          "output_type": "stream",
          "text": [
            "\n",
            "Iteration: 52 Loss: 94196479.42717111 Difference: 1.722970088004203\n"
          ],
          "name": "stdout"
        },
        {
          "output_type": "stream",
          "text": [
            "60000it [00:04, 12156.18it/s]\n",
            "1114it [00:00, 11132.53it/s]"
          ],
          "name": "stderr"
        },
        {
          "output_type": "stream",
          "text": [
            "\n",
            "Iteration: 53 Loss: 94196349.09650402 Difference: 1.4363762233206732\n"
          ],
          "name": "stdout"
        },
        {
          "output_type": "stream",
          "text": [
            "60000it [00:04, 12220.14it/s]\n",
            "1183it [00:00, 11822.26it/s]"
          ],
          "name": "stderr"
        },
        {
          "output_type": "stream",
          "text": [
            "\n",
            "Iteration: 54 Loss: 94196354.34631655 Difference: 1.2576966120086304\n"
          ],
          "name": "stdout"
        },
        {
          "output_type": "stream",
          "text": [
            "60000it [00:04, 12157.74it/s]\n",
            "1233it [00:00, 12321.40it/s]"
          ],
          "name": "stderr"
        },
        {
          "output_type": "stream",
          "text": [
            "\n",
            "Iteration: 55 Loss: 94196329.1664083 Difference: 1.4231234628771434\n"
          ],
          "name": "stdout"
        },
        {
          "output_type": "stream",
          "text": [
            "60000it [00:04, 12261.31it/s]\n",
            "1188it [00:00, 11878.45it/s]"
          ],
          "name": "stderr"
        },
        {
          "output_type": "stream",
          "text": [
            "\n",
            "Iteration: 56 Loss: 94196318.68990083 Difference: 1.0314855190436918\n"
          ],
          "name": "stdout"
        },
        {
          "output_type": "stream",
          "text": [
            "60000it [00:04, 12324.21it/s]\n",
            "1220it [00:00, 12197.66it/s]"
          ],
          "name": "stderr"
        },
        {
          "output_type": "stream",
          "text": [
            "\n",
            "Iteration: 57 Loss: 94196330.69557612 Difference: 1.5655877588196545\n"
          ],
          "name": "stdout"
        },
        {
          "output_type": "stream",
          "text": [
            "60000it [00:04, 12158.11it/s]\n",
            "1126it [00:00, 11259.34it/s]"
          ],
          "name": "stderr"
        },
        {
          "output_type": "stream",
          "text": [
            "\n",
            "Iteration: 58 Loss: 94196325.23420559 Difference: 0.990294698568912\n"
          ],
          "name": "stdout"
        },
        {
          "output_type": "stream",
          "text": [
            "60000it [00:04, 12477.54it/s]\n",
            "1236it [00:00, 12353.53it/s]"
          ],
          "name": "stderr"
        },
        {
          "output_type": "stream",
          "text": [
            "\n",
            "Iteration: 59 Loss: 94196328.4187756 Difference: 0.6577965703051891\n"
          ],
          "name": "stdout"
        },
        {
          "output_type": "stream",
          "text": [
            "60000it [00:04, 12546.95it/s]\n",
            "1124it [00:00, 11230.32it/s]"
          ],
          "name": "stderr"
        },
        {
          "output_type": "stream",
          "text": [
            "\n",
            "Iteration: 60 Loss: 94196342.48688728 Difference: 0.9359853843198455\n"
          ],
          "name": "stdout"
        },
        {
          "output_type": "stream",
          "text": [
            "60000it [00:04, 12335.33it/s]\n",
            "1211it [00:00, 12107.36it/s]"
          ],
          "name": "stderr"
        },
        {
          "output_type": "stream",
          "text": [
            "\n",
            "Iteration: 61 Loss: 94196339.50771576 Difference: 1.5309625333771104\n"
          ],
          "name": "stdout"
        },
        {
          "output_type": "stream",
          "text": [
            "60000it [00:04, 12173.13it/s]\n",
            "1262it [00:00, 12612.70it/s]"
          ],
          "name": "stderr"
        },
        {
          "output_type": "stream",
          "text": [
            "\n",
            "Iteration: 62 Loss: 94196355.68001853 Difference: 1.0208050950203322\n"
          ],
          "name": "stdout"
        },
        {
          "output_type": "stream",
          "text": [
            "60000it [00:04, 12116.51it/s]\n",
            "1142it [00:00, 11413.21it/s]"
          ],
          "name": "stderr"
        },
        {
          "output_type": "stream",
          "text": [
            "\n",
            "Iteration: 63 Loss: 94196291.5591935 Difference: 1.483704359378293\n"
          ],
          "name": "stdout"
        },
        {
          "output_type": "stream",
          "text": [
            "60000it [00:04, 12367.41it/s]\n",
            "1232it [00:00, 12309.83it/s]"
          ],
          "name": "stderr"
        },
        {
          "output_type": "stream",
          "text": [
            "\n",
            "Iteration: 64 Loss: 94196196.32857114 Difference: 1.9569453829391992\n"
          ],
          "name": "stdout"
        },
        {
          "output_type": "stream",
          "text": [
            "60000it [00:04, 12408.31it/s]\n",
            "1146it [00:00, 11459.33it/s]"
          ],
          "name": "stderr"
        },
        {
          "output_type": "stream",
          "text": [
            "\n",
            "Iteration: 65 Loss: 94196141.84563002 Difference: 1.8189487298995883\n"
          ],
          "name": "stdout"
        },
        {
          "output_type": "stream",
          "text": [
            "60000it [00:04, 12229.87it/s]\n",
            "1184it [00:00, 11835.16it/s]"
          ],
          "name": "stderr"
        },
        {
          "output_type": "stream",
          "text": [
            "\n",
            "Iteration: 66 Loss: 94196267.67179121 Difference: 1.9534813198194416\n"
          ],
          "name": "stdout"
        },
        {
          "output_type": "stream",
          "text": [
            "60000it [00:04, 12194.55it/s]\n",
            "1221it [00:00, 12208.12it/s]"
          ],
          "name": "stderr"
        },
        {
          "output_type": "stream",
          "text": [
            "\n",
            "Iteration: 67 Loss: 94196277.19546342 Difference: 1.4343192637639408\n"
          ],
          "name": "stdout"
        },
        {
          "output_type": "stream",
          "text": [
            "60000it [00:04, 12046.84it/s]\n",
            "1211it [00:00, 12102.86it/s]"
          ],
          "name": "stderr"
        },
        {
          "output_type": "stream",
          "text": [
            "\n",
            "Iteration: 68 Loss: 94196170.33638273 Difference: 1.5317904820683288\n"
          ],
          "name": "stdout"
        },
        {
          "output_type": "stream",
          "text": [
            "60000it [00:04, 12169.64it/s]\n",
            "1219it [00:00, 12184.00it/s]"
          ],
          "name": "stderr"
        },
        {
          "output_type": "stream",
          "text": [
            "\n",
            "Iteration: 69 Loss: 94196116.99830234 Difference: 1.296135796298421\n"
          ],
          "name": "stdout"
        },
        {
          "output_type": "stream",
          "text": [
            "60000it [00:04, 12232.88it/s]\n",
            "1120it [00:00, 11198.44it/s]"
          ],
          "name": "stderr"
        },
        {
          "output_type": "stream",
          "text": [
            "\n",
            "Iteration: 70 Loss: 94196193.07280838 Difference: 1.1704740641673526\n"
          ],
          "name": "stdout"
        },
        {
          "output_type": "stream",
          "text": [
            "60000it [00:04, 12373.13it/s]\n",
            "1223it [00:00, 12225.35it/s]"
          ],
          "name": "stderr"
        },
        {
          "output_type": "stream",
          "text": [
            "\n",
            "Iteration: 71 Loss: 94196140.73028173 Difference: 0.911079439360514\n"
          ],
          "name": "stdout"
        },
        {
          "output_type": "stream",
          "text": [
            "60000it [00:04, 12427.15it/s]\n",
            "1189it [00:00, 11889.13it/s]"
          ],
          "name": "stderr"
        },
        {
          "output_type": "stream",
          "text": [
            "\n",
            "Iteration: 72 Loss: 94196123.37374838 Difference: 1.4012691291551456\n"
          ],
          "name": "stdout"
        },
        {
          "output_type": "stream",
          "text": [
            "60000it [00:04, 12306.43it/s]\n",
            "1318it [00:00, 13179.60it/s]"
          ],
          "name": "stderr"
        },
        {
          "output_type": "stream",
          "text": [
            "\n",
            "Iteration: 73 Loss: 94196099.80013531 Difference: 1.5778033246910408\n"
          ],
          "name": "stdout"
        },
        {
          "output_type": "stream",
          "text": [
            "60000it [00:04, 12385.21it/s]\n",
            "1333it [00:00, 13321.41it/s]"
          ],
          "name": "stderr"
        },
        {
          "output_type": "stream",
          "text": [
            "\n",
            "Iteration: 74 Loss: 94196092.51112549 Difference: 1.116121935191347\n"
          ],
          "name": "stdout"
        },
        {
          "output_type": "stream",
          "text": [
            "60000it [00:04, 12415.07it/s]\n",
            "1276it [00:00, 12758.13it/s]"
          ],
          "name": "stderr"
        },
        {
          "output_type": "stream",
          "text": [
            "\n",
            "Iteration: 75 Loss: 94196059.38738637 Difference: 1.0951605689039525\n"
          ],
          "name": "stdout"
        },
        {
          "output_type": "stream",
          "text": [
            "60000it [00:04, 12228.43it/s]\n",
            "1260it [00:00, 12591.85it/s]"
          ],
          "name": "stderr"
        },
        {
          "output_type": "stream",
          "text": [
            "\n",
            "Iteration: 76 Loss: 94196053.47478801 Difference: 0.7272006286461238\n"
          ],
          "name": "stdout"
        },
        {
          "output_type": "stream",
          "text": [
            "60000it [00:04, 12464.78it/s]\n",
            "1241it [00:00, 12408.30it/s]"
          ],
          "name": "stderr"
        },
        {
          "output_type": "stream",
          "text": [
            "\n",
            "Iteration: 77 Loss: 94196060.86024363 Difference: 0.9316265815911751\n"
          ],
          "name": "stdout"
        },
        {
          "output_type": "stream",
          "text": [
            "60000it [00:04, 12484.89it/s]\n",
            "1219it [00:00, 12184.23it/s]"
          ],
          "name": "stderr"
        },
        {
          "output_type": "stream",
          "text": [
            "\n",
            "Iteration: 78 Loss: 94196105.4911169 Difference: 0.7078463551884318\n"
          ],
          "name": "stdout"
        },
        {
          "output_type": "stream",
          "text": [
            "60000it [00:04, 12361.20it/s]\n",
            "1221it [00:00, 12202.53it/s]"
          ],
          "name": "stderr"
        },
        {
          "output_type": "stream",
          "text": [
            "\n",
            "Iteration: 79 Loss: 94196167.02125567 Difference: 0.4918478511416828\n"
          ],
          "name": "stdout"
        },
        {
          "output_type": "stream",
          "text": [
            "60000it [00:04, 12181.82it/s]\n",
            "1219it [00:00, 12188.99it/s]"
          ],
          "name": "stderr"
        },
        {
          "output_type": "stream",
          "text": [
            "\n",
            "Iteration: 80 Loss: 94196167.03545159 Difference: 1.019335369392218\n"
          ],
          "name": "stdout"
        },
        {
          "output_type": "stream",
          "text": [
            "60000it [00:04, 12367.28it/s]\n",
            "1156it [00:00, 11558.74it/s]"
          ],
          "name": "stderr"
        },
        {
          "output_type": "stream",
          "text": [
            "\n",
            "Iteration: 81 Loss: 94196167.03545469 Difference: 0.00022216866102610193\n"
          ],
          "name": "stdout"
        },
        {
          "output_type": "stream",
          "text": [
            "60000it [00:04, 12367.74it/s]\n"
          ],
          "name": "stderr"
        },
        {
          "output_type": "stream",
          "text": [
            "\n",
            "Iteration: 82 Loss: 94196167.03545468 Difference: 4.898529266256044e-08\n",
            "Converged! With distance: 1.0864971564771648e-11\n",
            "[cluster_label,no_occurence_of_label,total_samples_in_cluster,cluster_accuracy] [[4, 3200, 8938, 0.35802192884314166], [0, 4280, 4548, 0.9410729991204925], [2, 4153, 4537, 0.9153625743883623], [1, 3046, 4476, 0.6805183199285076], [6, 3934, 4539, 0.8667107292355144], [1, 3646, 5928, 0.615047233468286], [3, 3856, 7278, 0.5298158834844737], [5, 1573, 5365, 0.29319664492078285], [8, 3487, 5854, 0.5956610864366245], [7, 3769, 8537, 0.4414899847721682]]\n",
            "Accuracy: 0.6236897384598353\n"
          ],
          "name": "stdout"
        }
      ]
    },
    {
      "cell_type": "code",
      "metadata": {
        "id": "S1mucwoJgMl7",
        "colab": {
          "base_uri": "https://localhost:8080/",
          "height": 247
        },
        "outputId": "f8c07e68-8e30-4612-d125-e959438b14a5"
      },
      "source": [
        "data_reader.plot_imgs(kmeans.centroids,len(kmeans.centroids))"
      ],
      "execution_count": null,
      "outputs": [
        {
          "output_type": "display_data",
          "data": {
            "image/png": "[encoded data removed]",
            "text/plain": [
              "<Figure size 360x360 with 10 Axes>"
            ]
          },
          "metadata": {
            "tags": []
          }
        }
      ]
    },
    {
      "cell_type": "code",
      "metadata": {
        "id": "tiTMKquTgNwA",
        "colab": {
          "base_uri": "https://localhost:8080/",
          "height": 293
        },
        "outputId": "62f409f3-aa2b-4e49-b572-e5276dbf77fc"
      },
      "source": [
        "print('Loss')\n",
        "plt.plot(range(kmeans.iterations),kmeans.loss_per_iteration)\n",
        "plt.show()"
      ],
      "execution_count": null,
      "outputs": [
        {
          "output_type": "stream",
          "text": [
            "Loss\n"
          ],
          "name": "stdout"
        },
        {
          "output_type": "display_data",
          "data": {
            "image/png": "[encoded data removed]",
            "text/plain": [
              "<Figure size 432x288 with 1 Axes>"
            ]
          },
          "metadata": {
            "tags": []
          }
        }
      ]
    },
    {
      "cell_type": "code",
      "metadata": {
        "id": "HUyFkUtCgUoR",
        "colab": {
          "base_uri": "https://localhost:8080/",
          "height": 1000
        },
        "outputId": "7e18ce0a-151d-483e-9560-aec6b004a68a"
      },
      "source": [
        "for key,data in list(kmeans.clusters['data'].items()):\n",
        "    print('Cluster:',key,'Label:',kmeans.clusters_labels[key])\n",
        "    data_reader.plot_imgs(data[:min(25,data.shape[0])],min(25,data.shape[0]))"
      ],
      "execution_count": null,
      "outputs": [
        {
          "output_type": "stream",
          "text": [
            "Cluster: 0 Label: 4\n"
          ],
          "name": "stdout"
        },
        {
          "output_type": "display_data",
          "data": {
            "image/png": "[encoded data removed]",
            "text/plain": [
              "<Figure size 360x360 with 25 Axes>"
            ]
          },
          "metadata": {
            "tags": []
          }
        },
        {
          "output_type": "stream",
          "text": [
            "Cluster: 1 Label: 0\n"
          ],
          "name": "stdout"
        },
        {
          "output_type": "display_data",
          "data": {
            "image/png": "[encoded data removed]",
            "text/plain": [
              "<Figure size 360x360 with 25 Axes>"
            ]
          },
          "metadata": {
            "tags": []
          }
        },
        {
          "output_type": "stream",
          "text": [
            "Cluster: 2 Label: 2\n"
          ],
          "name": "stdout"
        },
        {
          "output_type": "display_data",
          "data": {
            "image/png": "[encoded data removed]",
            "text/plain": [
              "<Figure size 360x360 with 25 Axes>"
            ]
          },
          "metadata": {
            "tags": []
          }
        },
        {
          "output_type": "stream",
          "text": [
            "Cluster: 3 Label: 1\n"
          ],
          "name": "stdout"
        },
        {
          "output_type": "display_data",
          "data": {
            "image/png": "[encoded data removed]",
            "text/plain": [
              "<Figure size 360x360 with 25 Axes>"
            ]
          },
          "metadata": {
            "tags": []
          }
        },
        {
          "output_type": "stream",
          "text": [
            "Cluster: 4 Label: 6\n"
          ],
          "name": "stdout"
        },
        {
          "output_type": "display_data",
          "data": {
            "image/png": "[encoded data removed]",
            "text/plain": [
              "<Figure size 360x360 with 25 Axes>"
            ]
          },
          "metadata": {
            "tags": []
          }
        },
        {
          "output_type": "stream",
          "text": [
            "Cluster: 5 Label: 1\n"
          ],
          "name": "stdout"
        },
        {
          "output_type": "display_data",
          "data": {
            "image/png": "[encoded data removed]",
            "text/plain": [
              "<Figure size 360x360 with 25 Axes>"
            ]
          },
          "metadata": {
            "tags": []
          }
        },
        {
          "output_type": "stream",
          "text": [
            "Cluster: 6 Label: 3\n"
          ],
          "name": "stdout"
        },
        {
          "output_type": "display_data",
          "data": {
            "image/png": "[encoded data removed]",
            "text/plain": [
              "<Figure size 360x360 with 25 Axes>"
            ]
          },
          "metadata": {
            "tags": []
          }
        },
        {
          "output_type": "stream",
          "text": [
            "Cluster: 7 Label: 5\n"
          ],
          "name": "stdout"
        },
        {
          "output_type": "display_data",
          "data": {
            "image/png": "[encoded data removed]",
            "text/plain": [
              "<Figure size 360x360 with 25 Axes>"
            ]
          },
          "metadata": {
            "tags": []
          }
        },
        {
          "output_type": "stream",
          "text": [
            "Cluster: 8 Label: 8\n"
          ],
          "name": "stdout"
        },
        {
          "output_type": "display_data",
          "data": {
            "image/png": "[encoded data removed]",
            "text/plain": [
              "<Figure size 360x360 with 25 Axes>"
            ]
          },
          "metadata": {
            "tags": []
          }
        },
        {
          "output_type": "stream",
          "text": [
            "Cluster: 9 Label: 7\n"
          ],
          "name": "stdout"
        },
        {
          "output_type": "display_data",
          "data": {
            "image/png": "[encoded data removed]",
            "text/plain": [
              "<Figure size 360x360 with 25 Axes>"
            ]
          },
          "metadata": {
            "tags": []
          }
        }
      ]
    },
    {
      "cell_type": "code",
      "metadata": {
        "id": "A15G-mXTgXva",
        "colab": {
          "base_uri": "https://localhost:8080/",
          "height": 88
        },
        "outputId": "cf2b6dc7-fb56-4255-ad40-883cf037f8ce"
      },
      "source": [
        "print('[cluster_label,no_occurrence_of_label,total_samples_in_cluster,cluster_accuracy]\\n',kmeans.clusters_info)\n",
        "print('Accuracy:',kmeans.accuracy)"
      ],
      "execution_count": null,
      "outputs": [
        {
          "output_type": "stream",
          "text": [
            "[cluster_label,no_occurrence_of_label,total_samples_in_cluster,cluster_accuracy]\n",
            " [[4, 3200, 8938, 0.35802192884314166], [0, 4280, 4548, 0.9410729991204925], [2, 4153, 4537, 0.9153625743883623], [1, 3046, 4476, 0.6805183199285076], [6, 3934, 4539, 0.8667107292355144], [1, 3646, 5928, 0.615047233468286], [3, 3856, 7278, 0.5298158834844737], [5, 1573, 5365, 0.29319664492078285], [8, 3487, 5854, 0.5956610864366245], [7, 3769, 8537, 0.4414899847721682]]\n",
            "Accuracy: 0.6236897384598353\n"
          ],
          "name": "stdout"
        }
      ]
    }
  ]
}