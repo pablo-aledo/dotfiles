{
  "nbformat": 4,
  "nbformat_minor": 0,
  "metadata": {
    "kernelspec": {
      "display_name": "Python 2",
      "language": "python",
      "name": "python2"
    },
    "language_info": {
      "codemirror_mode": {
        "name": "ipython",
        "version": 2
      },
      "file_extension": ".py",
      "mimetype": "text/x-python",
      "name": "python",
      "nbconvert_exporter": "python",
      "pygments_lexer": "ipython2",
      "version": "2.7.11"
    },
    "colab": {
      "name": "COLAB - PYCON 2016_NaiveBayes and LogisticRegression by Kevin Markham.ipynb",
      "provenance": []
    }
  },
  "cells": [
    {
      "cell_type": "markdown",
      "metadata": {
        "id": "gv6X8aTOEHGR"
      },
      "source": [
        "Adapted by Carlos Toxtli http://www.carlostoxtli.com/#colab-bayes-1\n",
        "\n",
        "Source: https://github.com/nirbhay-mehta/PYCON-2016_NaiveBayes-and-LogisticRegression-by-Kevin-Markham/blob/master/PYCON%202016_NaiveBayes%20and%20LogisticRegression%20by%20Kevin%20Markham.ipynb"
      ]
    },
    {
      "cell_type": "markdown",
      "metadata": {
        "id": "BR6JBUdJCGMh"
      },
      "source": [
        "# Tutorial: Machine Learning with Text in scikit-learn"
      ]
    },
    {
      "cell_type": "markdown",
      "metadata": {
        "id": "qYkinqW2CGMj"
      },
      "source": [
        "## Agenda\n",
        "\n",
        "1. Model building in scikit-learn (refresher)\n",
        "2. Representing text as numerical data\n",
        "3. Reading a text-based dataset into pandas\n",
        "4. Vectorizing our dataset\n",
        "5. Building and evaluating a model\n",
        "6. Comparing models\n",
        "7. Examining a model for further insight\n",
        "8. Practicing this workflow on another dataset\n",
        "9. Tuning the vectorizer (discussion)"
      ]
    },
    {
      "cell_type": "code",
      "metadata": {
        "id": "jRoyiQdZCGMk"
      },
      "source": [
        "# for Python 2: use print only as a function\n",
        "from __future__ import print_function"
      ],
      "execution_count": null,
      "outputs": []
    },
    {
      "cell_type": "markdown",
      "metadata": {
        "id": "YTeWMGjsCGMm"
      },
      "source": [
        "## Part 1: Model building in scikit-learn (refresher)"
      ]
    },
    {
      "cell_type": "code",
      "metadata": {
        "id": "u57978OeCGMn"
      },
      "source": [
        "# load the iris dataset as an example\n",
        "from sklearn.datasets import load_iris\n",
        "iris = load_iris()\n",
        "#print(iris)"
      ],
      "execution_count": null,
      "outputs": []
    },
    {
      "cell_type": "code",
      "metadata": {
        "id": "yh8P_IM2CGMp"
      },
      "source": [
        "# store X is the feature matrix also called as predictors,input,attribustes (X) and Y is the response vector,output,label (y)\n",
        "# X is capital because it is two dimensional and y is one dimensional\n",
        "X = iris.data\n",
        "y = iris.target\n",
        "#print(X),(y)"
      ],
      "execution_count": null,
      "outputs": []
    },
    {
      "cell_type": "markdown",
      "metadata": {
        "id": "8OsTJ7g2CGMr"
      },
      "source": [
        "**\"Features\"** are also known as predictors, inputs, or attributes. The **\"response\"** is also known as the target, label, or output."
      ]
    },
    {
      "cell_type": "code",
      "metadata": {
        "id": "NWqQrWWvCGMr",
        "colab": {
          "base_uri": "https://localhost:8080/",
          "height": 52
        },
        "outputId": "e27309e1-a6b2-4a78-ed6d-d504303997c5"
      },
      "source": [
        "# check the shapes of X and y\n",
        "#150 obseravations/rows and 4 feature/columns\n",
        "print(X.shape)\n",
        "print(y.shape)"
      ],
      "execution_count": null,
      "outputs": [
        {
          "output_type": "stream",
          "text": [
            "(150, 4)\n",
            "(150,)\n"
          ],
          "name": "stdout"
        }
      ]
    },
    {
      "cell_type": "markdown",
      "metadata": {
        "id": "HRVczeBtCGMv"
      },
      "source": [
        "**\"Observations\"** are also known as samples, instances, or records."
      ]
    },
    {
      "cell_type": "code",
      "metadata": {
        "id": "6quKtHNUCGMw",
        "colab": {
          "base_uri": "https://localhost:8080/",
          "height": 198
        },
        "outputId": "164e205e-fe06-4d18-95c8-1f54f2c6d7db"
      },
      "source": [
        "# examine the first 5 rows of the feature matrix (including the feature names)\n",
        "import pandas as pd\n",
        "pd.DataFrame(X, columns=iris.feature_names).head()"
      ],
      "execution_count": null,
      "outputs": [
        {
          "output_type": "execute_result",
          "data": {
            "text/html": [
              "<div>\n",
              "<style scoped>\n",
              "    .dataframe tbody tr th:only-of-type {\n",
              "        vertical-align: middle;\n",
              "    }\n",
              "\n",
              "    .dataframe tbody tr th {\n",
              "        vertical-align: top;\n",
              "    }\n",
              "\n",
              "    .dataframe thead th {\n",
              "        text-align: right;\n",
              "    }\n",
              "</style>\n",
              "<table border=\"1\" class=\"dataframe\">\n",
              "  <thead>\n",
              "    <tr style=\"text-align: right;\">\n",
              "      <th></th>\n",
              "      <th>sepal length (cm)</th>\n",
              "      <th>sepal width (cm)</th>\n",
              "      <th>petal length (cm)</th>\n",
              "      <th>petal width (cm)</th>\n",
              "    </tr>\n",
              "  </thead>\n",
              "  <tbody>\n",
              "    <tr>\n",
              "      <th>0</th>\n",
              "      <td>5.1</td>\n",
              "      <td>3.5</td>\n",
              "      <td>1.4</td>\n",
              "      <td>0.2</td>\n",
              "    </tr>\n",
              "    <tr>\n",
              "      <th>1</th>\n",
              "      <td>4.9</td>\n",
              "      <td>3.0</td>\n",
              "      <td>1.4</td>\n",
              "      <td>0.2</td>\n",
              "    </tr>\n",
              "    <tr>\n",
              "      <th>2</th>\n",
              "      <td>4.7</td>\n",
              "      <td>3.2</td>\n",
              "      <td>1.3</td>\n",
              "      <td>0.2</td>\n",
              "    </tr>\n",
              "    <tr>\n",
              "      <th>3</th>\n",
              "      <td>4.6</td>\n",
              "      <td>3.1</td>\n",
              "      <td>1.5</td>\n",
              "      <td>0.2</td>\n",
              "    </tr>\n",
              "    <tr>\n",
              "      <th>4</th>\n",
              "      <td>5.0</td>\n",
              "      <td>3.6</td>\n",
              "      <td>1.4</td>\n",
              "      <td>0.2</td>\n",
              "    </tr>\n",
              "  </tbody>\n",
              "</table>\n",
              "</div>"
            ],
            "text/plain": [
              "   sepal length (cm)  sepal width (cm)  petal length (cm)  petal width (cm)\n",
              "0                5.1               3.5                1.4               0.2\n",
              "1                4.9               3.0                1.4               0.2\n",
              "2                4.7               3.2                1.3               0.2\n",
              "3                4.6               3.1                1.5               0.2\n",
              "4                5.0               3.6                1.4               0.2"
            ]
          },
          "metadata": {
            "tags": []
          },
          "execution_count": 77
        }
      ]
    },
    {
      "cell_type": "code",
      "metadata": {
        "id": "frDEe5AlCGMy",
        "colab": {
          "base_uri": "https://localhost:8080/",
          "height": 104
        },
        "outputId": "a8fb17bc-6fa2-4672-b5a5-06f744af0447"
      },
      "source": [
        "# examine the response vector\n",
        "print(y)"
      ],
      "execution_count": null,
      "outputs": [
        {
          "output_type": "stream",
          "text": [
            "[0 0 0 0 0 0 0 0 0 0 0 0 0 0 0 0 0 0 0 0 0 0 0 0 0 0 0 0 0 0 0 0 0 0 0 0 0\n",
            " 0 0 0 0 0 0 0 0 0 0 0 0 0 1 1 1 1 1 1 1 1 1 1 1 1 1 1 1 1 1 1 1 1 1 1 1 1\n",
            " 1 1 1 1 1 1 1 1 1 1 1 1 1 1 1 1 1 1 1 1 1 1 1 1 1 1 2 2 2 2 2 2 2 2 2 2 2\n",
            " 2 2 2 2 2 2 2 2 2 2 2 2 2 2 2 2 2 2 2 2 2 2 2 2 2 2 2 2 2 2 2 2 2 2 2 2 2\n",
            " 2 2]\n"
          ],
          "name": "stdout"
        }
      ]
    },
    {
      "cell_type": "markdown",
      "metadata": {
        "id": "e8CcrVZ9CGM0"
      },
      "source": [
        "In order to **build a model**, the features must be **numeric**, and every observation must have the **same features in the same order**."
      ]
    },
    {
      "cell_type": "code",
      "metadata": {
        "id": "t9QhrN_oCGM1",
        "colab": {
          "base_uri": "https://localhost:8080/",
          "height": 69
        },
        "outputId": "e019b7c3-7f08-4248-effe-037d261ab55e"
      },
      "source": [
        "# Below are 4 steps to build a model import,instantiate,fit and predict\n",
        "# import the class\n",
        "from sklearn.neighbors import KNeighborsClassifier\n",
        "\n",
        "# instantiate the model (with the default parameters)\n",
        "knn = KNeighborsClassifier()\n",
        "\n",
        "# fit the model with data (occurs in-place)\n",
        "knn.fit(X, y)"
      ],
      "execution_count": null,
      "outputs": [
        {
          "output_type": "execute_result",
          "data": {
            "text/plain": [
              "KNeighborsClassifier(algorithm='auto', leaf_size=30, metric='minkowski',\n",
              "           metric_params=None, n_jobs=None, n_neighbors=5, p=2,\n",
              "           weights='uniform')"
            ]
          },
          "metadata": {
            "tags": []
          },
          "execution_count": 79
        }
      ]
    },
    {
      "cell_type": "markdown",
      "metadata": {
        "id": "qvoMKz97CGM2"
      },
      "source": [
        "In order to **make a prediction**, the new observation must have the **same features as the training observations**, both in number and meaning."
      ]
    },
    {
      "cell_type": "code",
      "metadata": {
        "id": "-NxxGt6VCGM3",
        "colab": {
          "base_uri": "https://localhost:8080/",
          "height": 35
        },
        "outputId": "61197a44-bc30-4ece-a90f-7444d5bc85a4"
      },
      "source": [
        "# predict the response for a new observation\n",
        "knn.predict([[3, 5, 4, 2]])"
      ],
      "execution_count": null,
      "outputs": [
        {
          "output_type": "execute_result",
          "data": {
            "text/plain": [
              "array([1])"
            ]
          },
          "metadata": {
            "tags": []
          },
          "execution_count": 80
        }
      ]
    },
    {
      "cell_type": "markdown",
      "metadata": {
        "id": "FCb2C9I3CGM6"
      },
      "source": [
        "## Part 2: Representing text as numerical data"
      ]
    },
    {
      "cell_type": "code",
      "metadata": {
        "id": "S794ppbOCGM6"
      },
      "source": [
        "# example text for model training (SMS messages)\n",
        "simple_train = ['call you tonight', 'Call me a cab', 'please call me... PLEASE!']"
      ],
      "execution_count": null,
      "outputs": []
    },
    {
      "cell_type": "markdown",
      "metadata": {
        "id": "KxhcW0fZCGM8"
      },
      "source": [
        "From the [scikit-learn documentation](http://scikit-learn.org/stable/modules/feature_extraction.html#text-feature-extraction):\n",
        "\n",
        "> Text Analysis is a major application field for machine learning algorithms. However the raw data, a sequence of symbols cannot be fed directly to the algorithms themselves as most of them expect **numerical feature vectors with a fixed size** rather than the **raw text documents with variable length**.\n",
        "\n",
        "We will use [CountVectorizer](http://scikit-learn.org/stable/modules/generated/sklearn.feature_extraction.text.CountVectorizer.html) to \"convert text into a matrix of token counts\":"
      ]
    },
    {
      "cell_type": "code",
      "metadata": {
        "id": "BhxdfOq2CGM9"
      },
      "source": [
        "# import and instantiate CountVectorizer (with the default parameters)\n",
        "from sklearn.feature_extraction.text import CountVectorizer\n",
        "# instatiate\n",
        "vect = CountVectorizer()"
      ],
      "execution_count": null,
      "outputs": []
    },
    {
      "cell_type": "code",
      "metadata": {
        "id": "7Nul4qgsCGM_",
        "colab": {
          "base_uri": "https://localhost:8080/"
        },
        "outputId": "46e590fe-2c8b-4cd6-d358-da6dd28b3115"
      },
      "source": [
        "# learn the 'vocabulary' of the training data (occurs in-place)\n",
        "vect.fit(simple_train)"
      ],
      "execution_count": null,
      "outputs": [
        {
          "output_type": "execute_result",
          "data": {
            "text/plain": [
              "CountVectorizer(analyzer=u'word', binary=False, decode_error=u'strict',\n",
              "        dtype=<type 'numpy.int64'>, encoding=u'utf-8', input=u'content',\n",
              "        lowercase=True, max_df=1.0, max_features=None, min_df=1,\n",
              "        ngram_range=(1, 1), preprocessor=None, stop_words=None,\n",
              "        strip_accents=None, token_pattern=u'(?u)\\\\b\\\\w\\\\w+\\\\b',\n",
              "        tokenizer=None, vocabulary=None)"
            ]
          },
          "metadata": {
            "tags": []
          },
          "execution_count": 83
        }
      ]
    },
    {
      "cell_type": "code",
      "metadata": {
        "id": "AbSS0juTCGNB",
        "colab": {
          "base_uri": "https://localhost:8080/"
        },
        "outputId": "9a1a853a-2394-494b-c7b0-2f53424d1580"
      },
      "source": [
        "# examine the fitted vocabulary\n",
        "vect.get_feature_names()"
      ],
      "execution_count": null,
      "outputs": [
        {
          "output_type": "execute_result",
          "data": {
            "text/plain": [
              "[u'cab', u'call', u'me', u'please', u'tonight', u'you']"
            ]
          },
          "metadata": {
            "tags": []
          },
          "execution_count": 84
        }
      ]
    },
    {
      "cell_type": "code",
      "metadata": {
        "id": "yFrw4RjmCGND",
        "colab": {
          "base_uri": "https://localhost:8080/"
        },
        "outputId": "e89d9e9e-f83f-4e4c-ae48-3754f7b1ec53"
      },
      "source": [
        "# transform training data into a 'document-term matrix'\n",
        "simple_train_dtm = vect.transform(simple_train)\n",
        "simple_train_dtm"
      ],
      "execution_count": null,
      "outputs": [
        {
          "output_type": "execute_result",
          "data": {
            "text/plain": [
              "<3x6 sparse matrix of type '<type 'numpy.int64'>'\n",
              "\twith 9 stored elements in Compressed Sparse Row format>"
            ]
          },
          "metadata": {
            "tags": []
          },
          "execution_count": 85
        }
      ]
    },
    {
      "cell_type": "code",
      "metadata": {
        "id": "lPxofA31CGNF",
        "colab": {
          "base_uri": "https://localhost:8080/"
        },
        "outputId": "1522d0d0-6f74-430f-f21b-74747677a6c4"
      },
      "source": [
        "# convert sparse matrix to a dense matrix\n",
        "simple_train_dtm.toarray()"
      ],
      "execution_count": null,
      "outputs": [
        {
          "output_type": "execute_result",
          "data": {
            "text/plain": [
              "array([[0, 1, 0, 0, 1, 1],\n",
              "       [1, 1, 1, 0, 0, 0],\n",
              "       [0, 1, 1, 2, 0, 0]])"
            ]
          },
          "metadata": {
            "tags": []
          },
          "execution_count": 86
        }
      ]
    },
    {
      "cell_type": "code",
      "metadata": {
        "id": "mi0dgH1qCGNH",
        "colab": {
          "base_uri": "https://localhost:8080/"
        },
        "outputId": "c3b73362-3ae4-421f-c628-a09eb37dd761"
      },
      "source": [
        "# examine the vocabulary and document-term matrix together\n",
        "pd.DataFrame(simple_train_dtm.toarray(), columns=vect.get_feature_names())"
      ],
      "execution_count": null,
      "outputs": [
        {
          "output_type": "execute_result",
          "data": {
            "text/html": [
              "<div>\n",
              "<style scoped>\n",
              "    .dataframe tbody tr th:only-of-type {\n",
              "        vertical-align: middle;\n",
              "    }\n",
              "\n",
              "    .dataframe tbody tr th {\n",
              "        vertical-align: top;\n",
              "    }\n",
              "\n",
              "    .dataframe thead th {\n",
              "        text-align: right;\n",
              "    }\n",
              "</style>\n",
              "<table border=\"1\" class=\"dataframe\">\n",
              "  <thead>\n",
              "    <tr style=\"text-align: right;\">\n",
              "      <th></th>\n",
              "      <th>cab</th>\n",
              "      <th>call</th>\n",
              "      <th>me</th>\n",
              "      <th>please</th>\n",
              "      <th>tonight</th>\n",
              "      <th>you</th>\n",
              "    </tr>\n",
              "  </thead>\n",
              "  <tbody>\n",
              "    <tr>\n",
              "      <th>0</th>\n",
              "      <td>0</td>\n",
              "      <td>1</td>\n",
              "      <td>0</td>\n",
              "      <td>0</td>\n",
              "      <td>1</td>\n",
              "      <td>1</td>\n",
              "    </tr>\n",
              "    <tr>\n",
              "      <th>1</th>\n",
              "      <td>1</td>\n",
              "      <td>1</td>\n",
              "      <td>1</td>\n",
              "      <td>0</td>\n",
              "      <td>0</td>\n",
              "      <td>0</td>\n",
              "    </tr>\n",
              "    <tr>\n",
              "      <th>2</th>\n",
              "      <td>0</td>\n",
              "      <td>1</td>\n",
              "      <td>1</td>\n",
              "      <td>2</td>\n",
              "      <td>0</td>\n",
              "      <td>0</td>\n",
              "    </tr>\n",
              "  </tbody>\n",
              "</table>\n",
              "</div>"
            ],
            "text/plain": [
              "   cab  call  me  please  tonight  you\n",
              "0    0     1   0       0        1    1\n",
              "1    1     1   1       0        0    0\n",
              "2    0     1   1       2        0    0"
            ]
          },
          "metadata": {
            "tags": []
          },
          "execution_count": 87
        }
      ]
    },
    {
      "cell_type": "markdown",
      "metadata": {
        "id": "wCh2zzm5CGNJ"
      },
      "source": [
        "From the [scikit-learn documentation](http://scikit-learn.org/stable/modules/feature_extraction.html#text-feature-extraction):\n",
        "\n",
        "> In this scheme, features and samples are defined as follows:\n",
        "\n",
        "> - Each individual token occurrence frequency (normalized or not) is treated as a **feature**.\n",
        "> - The vector of all the token frequencies for a given document is considered a multivariate **sample**.\n",
        "\n",
        "> A **corpus of documents** can thus be represented by a matrix with **one row per document** and **one column per token** (e.g. word) occurring in the corpus.\n",
        "\n",
        "> We call **vectorization** the general process of turning a collection of text documents into numerical feature vectors. This specific strategy (tokenization, counting and normalization) is called the **Bag of Words** or \"Bag of n-grams\" representation. Documents are described by word occurrences while completely ignoring the relative position information of the words in the document."
      ]
    },
    {
      "cell_type": "code",
      "metadata": {
        "id": "pAG2XJrvCGNJ",
        "colab": {
          "base_uri": "https://localhost:8080/"
        },
        "outputId": "3174e0cb-cf33-4bec-a48d-5de50c278ce7"
      },
      "source": [
        "# check the type of the document-term matrix\n",
        "type(simple_train_dtm)"
      ],
      "execution_count": null,
      "outputs": [
        {
          "output_type": "execute_result",
          "data": {
            "text/plain": [
              "scipy.sparse.csr.csr_matrix"
            ]
          },
          "metadata": {
            "tags": []
          },
          "execution_count": 88
        }
      ]
    },
    {
      "cell_type": "code",
      "metadata": {
        "scrolled": true,
        "id": "T9E65yWpCGNM",
        "colab": {
          "base_uri": "https://localhost:8080/"
        },
        "outputId": "dc014cf6-4a94-4fca-ac8f-ccc2d317020d"
      },
      "source": [
        "# examine the sparse matrix contents\n",
        "print(simple_train_dtm)"
      ],
      "execution_count": null,
      "outputs": [
        {
          "output_type": "stream",
          "text": [
            "  (0, 1)\t1\n",
            "  (0, 4)\t1\n",
            "  (0, 5)\t1\n",
            "  (1, 0)\t1\n",
            "  (1, 1)\t1\n",
            "  (1, 2)\t1\n",
            "  (2, 1)\t1\n",
            "  (2, 2)\t1\n",
            "  (2, 3)\t2\n"
          ],
          "name": "stdout"
        }
      ]
    },
    {
      "cell_type": "markdown",
      "metadata": {
        "id": "0Q9QR5TbCGNO"
      },
      "source": [
        "From the [scikit-learn documentation](http://scikit-learn.org/stable/modules/feature_extraction.html#text-feature-extraction):\n",
        "\n",
        "> As most documents will typically use a very small subset of the words used in the corpus, the resulting matrix will have **many feature values that are zeros** (typically more than 99% of them).\n",
        "\n",
        "> For instance, a collection of 10,000 short text documents (such as emails) will use a vocabulary with a size in the order of 100,000 unique words in total while each document will use 100 to 1000 unique words individually.\n",
        "\n",
        "> In order to be able to **store such a matrix in memory** but also to **speed up operations**, implementations will typically use a **sparse representation** such as the implementations available in the `scipy.sparse` package."
      ]
    },
    {
      "cell_type": "code",
      "metadata": {
        "id": "T_ZySaPzCGNQ"
      },
      "source": [
        "# example text for model testing\n",
        "simple_test = [\"please don't call me\"]"
      ],
      "execution_count": null,
      "outputs": []
    },
    {
      "cell_type": "markdown",
      "metadata": {
        "id": "ZX5jbILECGNT"
      },
      "source": [
        "In order to **make a prediction**, the new observation must have the **same features as the training observations**, both in number and meaning."
      ]
    },
    {
      "cell_type": "code",
      "metadata": {
        "id": "HfcUZ4UFCGNU",
        "colab": {
          "base_uri": "https://localhost:8080/"
        },
        "outputId": "81aa4f36-84bc-4c0a-b5be-e2507f643b92"
      },
      "source": [
        "# transform testing data into a document-term matrix (using existing vocabulary)\n",
        "simple_test_dtm = vect.transform(simple_test)\n",
        "simple_test_dtm.toarray()"
      ],
      "execution_count": null,
      "outputs": [
        {
          "output_type": "execute_result",
          "data": {
            "text/plain": [
              "array([[0, 1, 1, 1, 0, 0]])"
            ]
          },
          "metadata": {
            "tags": []
          },
          "execution_count": 91
        }
      ]
    },
    {
      "cell_type": "code",
      "metadata": {
        "id": "DJJ1hzoiCGNW",
        "colab": {
          "base_uri": "https://localhost:8080/"
        },
        "outputId": "99eadec2-277c-4922-85f3-ae6373059b5e"
      },
      "source": [
        "# examine the vocabulary and document-term matrix together\n",
        "pd.DataFrame(simple_test_dtm.toarray(), columns=vect.get_feature_names())"
      ],
      "execution_count": null,
      "outputs": [
        {
          "output_type": "execute_result",
          "data": {
            "text/html": [
              "<div>\n",
              "<style scoped>\n",
              "    .dataframe tbody tr th:only-of-type {\n",
              "        vertical-align: middle;\n",
              "    }\n",
              "\n",
              "    .dataframe tbody tr th {\n",
              "        vertical-align: top;\n",
              "    }\n",
              "\n",
              "    .dataframe thead th {\n",
              "        text-align: right;\n",
              "    }\n",
              "</style>\n",
              "<table border=\"1\" class=\"dataframe\">\n",
              "  <thead>\n",
              "    <tr style=\"text-align: right;\">\n",
              "      <th></th>\n",
              "      <th>cab</th>\n",
              "      <th>call</th>\n",
              "      <th>me</th>\n",
              "      <th>please</th>\n",
              "      <th>tonight</th>\n",
              "      <th>you</th>\n",
              "    </tr>\n",
              "  </thead>\n",
              "  <tbody>\n",
              "    <tr>\n",
              "      <th>0</th>\n",
              "      <td>0</td>\n",
              "      <td>1</td>\n",
              "      <td>1</td>\n",
              "      <td>1</td>\n",
              "      <td>0</td>\n",
              "      <td>0</td>\n",
              "    </tr>\n",
              "  </tbody>\n",
              "</table>\n",
              "</div>"
            ],
            "text/plain": [
              "   cab  call  me  please  tonight  you\n",
              "0    0     1   1       1        0    0"
            ]
          },
          "metadata": {
            "tags": []
          },
          "execution_count": 92
        }
      ]
    },
    {
      "cell_type": "markdown",
      "metadata": {
        "id": "xrzCnvJ-CGNX"
      },
      "source": [
        "**Summary:**\n",
        "\n",
        "- `vect.fit(train)` **learns the vocabulary** of the training data\n",
        "- `vect.transform(train)` uses the **fitted vocabulary** to build a document-term matrix from the training data\n",
        "- `vect.transform(test)` uses the **fitted vocabulary** to build a document-term matrix from the testing data (and **ignores tokens** it hasn't seen before)"
      ]
    },
    {
      "cell_type": "markdown",
      "metadata": {
        "id": "xxnGlEGVCGNY"
      },
      "source": [
        "## Part 3: Reading a text-based dataset into pandas"
      ]
    },
    {
      "cell_type": "code",
      "metadata": {
        "id": "v0aeF3h0CGNY",
        "colab": {
          "base_uri": "https://localhost:8080/"
        },
        "outputId": "3c7fac3d-30ee-4b83-a184-51012b3420ed"
      },
      "source": [
        "!wget https://raw.githubusercontent.com/justmarkham/pycon-2016-tutorial/master/data/sms.tsv\n",
        "# read file into pandas using a relative path\n",
        "path = 'sms.tsv'\n",
        "sms = pd.read_table(path, header=None, names=['label', 'message'])"
      ],
      "execution_count": null,
      "outputs": [
        {
          "output_type": "stream",
          "text": [
            "--2019-10-03 23:27:17--  https://raw.githubusercontent.com/justmarkham/pycon-2016-tutorial/master/data/sms.tsv\n",
            "Resolving raw.githubusercontent.com (raw.githubusercontent.com)... 151.101.0.133, 151.101.64.133, 151.101.128.133, ...\n",
            "Connecting to raw.githubusercontent.com (raw.githubusercontent.com)|151.101.0.133|:443... connected.\n",
            "HTTP request sent, awaiting response... 200 OK\n",
            "Length: 477907 (467K) [text/plain]\n",
            "Saving to: ‘sms.tsv.1’\n",
            "\n",
            "\rsms.tsv.1             0%[                    ]       0  --.-KB/s               \rsms.tsv.1           100%[===================>] 466.71K  --.-KB/s    in 0.04s   \n",
            "\n",
            "2019-10-03 23:27:17 (12.9 MB/s) - ‘sms.tsv.1’ saved [477907/477907]\n",
            "\n"
          ],
          "name": "stdout"
        },
        {
          "output_type": "stream",
          "text": [
            "/usr/local/lib/python2.7/dist-packages/ipykernel_launcher.py:4: FutureWarning: read_table is deprecated, use read_csv instead, passing sep='\\t'.\n",
            "  after removing the cwd from sys.path.\n"
          ],
          "name": "stderr"
        }
      ]
    },
    {
      "cell_type": "code",
      "metadata": {
        "id": "M-8rPJPxCGNb"
      },
      "source": [
        "# alternative: read file into pandas from a URL\n",
        "# url = 'https://raw.githubusercontent.com/justmarkham/pycon-2016-tutorial/master/data/sms.tsv'\n",
        "# sms = pd.read_table(url, header=None, names=['label', 'message'])"
      ],
      "execution_count": null,
      "outputs": []
    },
    {
      "cell_type": "code",
      "metadata": {
        "id": "Hp6e5XDFCGNc",
        "colab": {
          "base_uri": "https://localhost:8080/"
        },
        "outputId": "a78ce62d-fb42-4d34-cca9-cb49f57decd7"
      },
      "source": [
        "# examine the shape\n",
        "sms.shape"
      ],
      "execution_count": null,
      "outputs": [
        {
          "output_type": "execute_result",
          "data": {
            "text/plain": [
              "(5572, 2)"
            ]
          },
          "metadata": {
            "tags": []
          },
          "execution_count": 95
        }
      ]
    },
    {
      "cell_type": "code",
      "metadata": {
        "id": "D3JvvV47CGNe",
        "colab": {
          "base_uri": "https://localhost:8080/"
        },
        "outputId": "a7584475-fb83-41d2-9412-c1610b0c7c6b"
      },
      "source": [
        "# examine the first 10 rows\n",
        "sms.head(10)"
      ],
      "execution_count": null,
      "outputs": [
        {
          "output_type": "execute_result",
          "data": {
            "text/html": [
              "<div>\n",
              "<style scoped>\n",
              "    .dataframe tbody tr th:only-of-type {\n",
              "        vertical-align: middle;\n",
              "    }\n",
              "\n",
              "    .dataframe tbody tr th {\n",
              "        vertical-align: top;\n",
              "    }\n",
              "\n",
              "    .dataframe thead th {\n",
              "        text-align: right;\n",
              "    }\n",
              "</style>\n",
              "<table border=\"1\" class=\"dataframe\">\n",
              "  <thead>\n",
              "    <tr style=\"text-align: right;\">\n",
              "      <th></th>\n",
              "      <th>label</th>\n",
              "      <th>message</th>\n",
              "    </tr>\n",
              "  </thead>\n",
              "  <tbody>\n",
              "    <tr>\n",
              "      <th>0</th>\n",
              "      <td>ham</td>\n",
              "      <td>Go until jurong point, crazy.. Available only ...</td>\n",
              "    </tr>\n",
              "    <tr>\n",
              "      <th>1</th>\n",
              "      <td>ham</td>\n",
              "      <td>Ok lar... Joking wif u oni...</td>\n",
              "    </tr>\n",
              "    <tr>\n",
              "      <th>2</th>\n",
              "      <td>spam</td>\n",
              "      <td>Free entry in 2 a wkly comp to win FA Cup fina...</td>\n",
              "    </tr>\n",
              "    <tr>\n",
              "      <th>3</th>\n",
              "      <td>ham</td>\n",
              "      <td>U dun say so early hor... U c already then say...</td>\n",
              "    </tr>\n",
              "    <tr>\n",
              "      <th>4</th>\n",
              "      <td>ham</td>\n",
              "      <td>Nah I don't think he goes to usf, he lives aro...</td>\n",
              "    </tr>\n",
              "    <tr>\n",
              "      <th>5</th>\n",
              "      <td>spam</td>\n",
              "      <td>FreeMsg Hey there darling it's been 3 week's n...</td>\n",
              "    </tr>\n",
              "    <tr>\n",
              "      <th>6</th>\n",
              "      <td>ham</td>\n",
              "      <td>Even my brother is not like to speak with me. ...</td>\n",
              "    </tr>\n",
              "    <tr>\n",
              "      <th>7</th>\n",
              "      <td>ham</td>\n",
              "      <td>As per your request 'Melle Melle (Oru Minnamin...</td>\n",
              "    </tr>\n",
              "    <tr>\n",
              "      <th>8</th>\n",
              "      <td>spam</td>\n",
              "      <td>WINNER!! As a valued network customer you have...</td>\n",
              "    </tr>\n",
              "    <tr>\n",
              "      <th>9</th>\n",
              "      <td>spam</td>\n",
              "      <td>Had your mobile 11 months or more? U R entitle...</td>\n",
              "    </tr>\n",
              "  </tbody>\n",
              "</table>\n",
              "</div>"
            ],
            "text/plain": [
              "  label                                            message\n",
              "0   ham  Go until jurong point, crazy.. Available only ...\n",
              "1   ham                      Ok lar... Joking wif u oni...\n",
              "2  spam  Free entry in 2 a wkly comp to win FA Cup fina...\n",
              "3   ham  U dun say so early hor... U c already then say...\n",
              "4   ham  Nah I don't think he goes to usf, he lives aro...\n",
              "5  spam  FreeMsg Hey there darling it's been 3 week's n...\n",
              "6   ham  Even my brother is not like to speak with me. ...\n",
              "7   ham  As per your request 'Melle Melle (Oru Minnamin...\n",
              "8  spam  WINNER!! As a valued network customer you have...\n",
              "9  spam  Had your mobile 11 months or more? U R entitle..."
            ]
          },
          "metadata": {
            "tags": []
          },
          "execution_count": 96
        }
      ]
    },
    {
      "cell_type": "code",
      "metadata": {
        "id": "USOptyfICGNg",
        "colab": {
          "base_uri": "https://localhost:8080/"
        },
        "outputId": "48431613-78e2-4ffe-de92-c343d619d048"
      },
      "source": [
        "# examine the class distribution\n",
        "sms.label.value_counts()"
      ],
      "execution_count": null,
      "outputs": [
        {
          "output_type": "execute_result",
          "data": {
            "text/plain": [
              "ham     4825\n",
              "spam     747\n",
              "Name: label, dtype: int64"
            ]
          },
          "metadata": {
            "tags": []
          },
          "execution_count": 97
        }
      ]
    },
    {
      "cell_type": "code",
      "metadata": {
        "id": "6TdJe6A9CGNi"
      },
      "source": [
        "# convert label to a numerical variable\n",
        "sms['label_num'] = sms.label.map({'ham':0, 'spam':1})"
      ],
      "execution_count": null,
      "outputs": []
    },
    {
      "cell_type": "code",
      "metadata": {
        "id": "cm7ASjduCGNk",
        "colab": {
          "base_uri": "https://localhost:8080/"
        },
        "outputId": "6ca068cb-4967-4c50-edfd-7b712ef72cce"
      },
      "source": [
        "# check that the conversion worked\n",
        "sms.head(10)"
      ],
      "execution_count": null,
      "outputs": [
        {
          "output_type": "execute_result",
          "data": {
            "text/html": [
              "<div>\n",
              "<style scoped>\n",
              "    .dataframe tbody tr th:only-of-type {\n",
              "        vertical-align: middle;\n",
              "    }\n",
              "\n",
              "    .dataframe tbody tr th {\n",
              "        vertical-align: top;\n",
              "    }\n",
              "\n",
              "    .dataframe thead th {\n",
              "        text-align: right;\n",
              "    }\n",
              "</style>\n",
              "<table border=\"1\" class=\"dataframe\">\n",
              "  <thead>\n",
              "    <tr style=\"text-align: right;\">\n",
              "      <th></th>\n",
              "      <th>label</th>\n",
              "      <th>message</th>\n",
              "      <th>label_num</th>\n",
              "    </tr>\n",
              "  </thead>\n",
              "  <tbody>\n",
              "    <tr>\n",
              "      <th>0</th>\n",
              "      <td>ham</td>\n",
              "      <td>Go until jurong point, crazy.. Available only ...</td>\n",
              "      <td>0</td>\n",
              "    </tr>\n",
              "    <tr>\n",
              "      <th>1</th>\n",
              "      <td>ham</td>\n",
              "      <td>Ok lar... Joking wif u oni...</td>\n",
              "      <td>0</td>\n",
              "    </tr>\n",
              "    <tr>\n",
              "      <th>2</th>\n",
              "      <td>spam</td>\n",
              "      <td>Free entry in 2 a wkly comp to win FA Cup fina...</td>\n",
              "      <td>1</td>\n",
              "    </tr>\n",
              "    <tr>\n",
              "      <th>3</th>\n",
              "      <td>ham</td>\n",
              "      <td>U dun say so early hor... U c already then say...</td>\n",
              "      <td>0</td>\n",
              "    </tr>\n",
              "    <tr>\n",
              "      <th>4</th>\n",
              "      <td>ham</td>\n",
              "      <td>Nah I don't think he goes to usf, he lives aro...</td>\n",
              "      <td>0</td>\n",
              "    </tr>\n",
              "    <tr>\n",
              "      <th>5</th>\n",
              "      <td>spam</td>\n",
              "      <td>FreeMsg Hey there darling it's been 3 week's n...</td>\n",
              "      <td>1</td>\n",
              "    </tr>\n",
              "    <tr>\n",
              "      <th>6</th>\n",
              "      <td>ham</td>\n",
              "      <td>Even my brother is not like to speak with me. ...</td>\n",
              "      <td>0</td>\n",
              "    </tr>\n",
              "    <tr>\n",
              "      <th>7</th>\n",
              "      <td>ham</td>\n",
              "      <td>As per your request 'Melle Melle (Oru Minnamin...</td>\n",
              "      <td>0</td>\n",
              "    </tr>\n",
              "    <tr>\n",
              "      <th>8</th>\n",
              "      <td>spam</td>\n",
              "      <td>WINNER!! As a valued network customer you have...</td>\n",
              "      <td>1</td>\n",
              "    </tr>\n",
              "    <tr>\n",
              "      <th>9</th>\n",
              "      <td>spam</td>\n",
              "      <td>Had your mobile 11 months or more? U R entitle...</td>\n",
              "      <td>1</td>\n",
              "    </tr>\n",
              "  </tbody>\n",
              "</table>\n",
              "</div>"
            ],
            "text/plain": [
              "  label                                            message  label_num\n",
              "0   ham  Go until jurong point, crazy.. Available only ...          0\n",
              "1   ham                      Ok lar... Joking wif u oni...          0\n",
              "2  spam  Free entry in 2 a wkly comp to win FA Cup fina...          1\n",
              "3   ham  U dun say so early hor... U c already then say...          0\n",
              "4   ham  Nah I don't think he goes to usf, he lives aro...          0\n",
              "5  spam  FreeMsg Hey there darling it's been 3 week's n...          1\n",
              "6   ham  Even my brother is not like to speak with me. ...          0\n",
              "7   ham  As per your request 'Melle Melle (Oru Minnamin...          0\n",
              "8  spam  WINNER!! As a valued network customer you have...          1\n",
              "9  spam  Had your mobile 11 months or more? U R entitle...          1"
            ]
          },
          "metadata": {
            "tags": []
          },
          "execution_count": 99
        }
      ]
    },
    {
      "cell_type": "code",
      "metadata": {
        "id": "BiGd1NsdCGNl",
        "colab": {
          "base_uri": "https://localhost:8080/"
        },
        "outputId": "02180bef-3bc2-4c0c-97f7-d5f570feedfd"
      },
      "source": [
        "# how to define X and y (from the iris data) for use with a MODEL\n",
        "X = iris.data\n",
        "y = iris.target\n",
        "print(X.shape)\n",
        "print(y.shape)"
      ],
      "execution_count": null,
      "outputs": [
        {
          "output_type": "stream",
          "text": [
            "(150, 4)\n",
            "(150,)\n"
          ],
          "name": "stdout"
        }
      ]
    },
    {
      "cell_type": "code",
      "metadata": {
        "id": "2BOwpsGvCGNn",
        "colab": {
          "base_uri": "https://localhost:8080/"
        },
        "outputId": "6cff5fa4-a086-4a5b-db6d-f900e05e1f0d"
      },
      "source": [
        "# how to define X and y (from the SMS data) for use with COUNTVECTORIZER\n",
        "X = sms.message\n",
        "y = sms.label_num\n",
        "print(X.shape)\n",
        "print(y.shape)"
      ],
      "execution_count": null,
      "outputs": [
        {
          "output_type": "stream",
          "text": [
            "(5572,)\n",
            "(5572,)\n"
          ],
          "name": "stdout"
        }
      ]
    },
    {
      "cell_type": "code",
      "metadata": {
        "id": "VgkTXi7GCGNp",
        "colab": {
          "base_uri": "https://localhost:8080/"
        },
        "outputId": "3d27001a-e647-432c-f520-247078dd3cc5"
      },
      "source": [
        "# split X and y into training and testing sets\n",
        "# Bydefailt it is splitted in to 75% and 25%.\n",
        "# Also, random_state = 1 which means even own your machine the test and training will have same answer\n",
        "from sklearn.model_selection import train_test_split\n",
        "X_train, X_test, y_train, y_test = train_test_split(X, y, random_state=1)\n",
        "# Count can also be used\n",
        "print(X_train.shape)\n",
        "print(X_test.shape)\n",
        "print(y_train.shape)\n",
        "print(y_test.shape)"
      ],
      "execution_count": null,
      "outputs": [
        {
          "output_type": "stream",
          "text": [
            "(4179,)\n",
            "(1393,)\n",
            "(4179,)\n",
            "(1393,)\n"
          ],
          "name": "stdout"
        }
      ]
    },
    {
      "cell_type": "markdown",
      "metadata": {
        "id": "_q8v1HjxCGNr"
      },
      "source": [
        "## Part 4: Vectorizing our dataset"
      ]
    },
    {
      "cell_type": "code",
      "metadata": {
        "id": "joAdmeVLCGNr"
      },
      "source": [
        "# instantiate the vectorizer\n",
        "vect = CountVectorizer()"
      ],
      "execution_count": null,
      "outputs": []
    },
    {
      "cell_type": "code",
      "metadata": {
        "id": "QGjF9RN9CGNt"
      },
      "source": [
        "# learn training data vocabulary, then use it to create a document-term matrix\n",
        "vect.fit(X_train)\n",
        "X_train_dtm = vect.transform(X_train)"
      ],
      "execution_count": null,
      "outputs": []
    },
    {
      "cell_type": "code",
      "metadata": {
        "id": "LLsxoI3zCGNw"
      },
      "source": [
        "# equivalently: combine fit and transform into a single step\n",
        "X_train_dtm = vect.fit_transform(X_train)"
      ],
      "execution_count": null,
      "outputs": []
    },
    {
      "cell_type": "code",
      "metadata": {
        "id": "PxyoqMARCGNx",
        "colab": {
          "base_uri": "https://localhost:8080/"
        },
        "outputId": "ca5b9d1d-8556-40db-8c50-5b7f38fcdfdb"
      },
      "source": [
        "# examine the document-term matrix\n",
        "X_train_dtm\n",
        "# So basically there are 4179 rows and 7456 columns"
      ],
      "execution_count": null,
      "outputs": [
        {
          "output_type": "execute_result",
          "data": {
            "text/plain": [
              "<4179x7456 sparse matrix of type '<type 'numpy.int64'>'\n",
              "\twith 55209 stored elements in Compressed Sparse Row format>"
            ]
          },
          "metadata": {
            "tags": []
          },
          "execution_count": 106
        }
      ]
    },
    {
      "cell_type": "code",
      "metadata": {
        "id": "mQZ0QQ3_CGNz"
      },
      "source": [
        "# Never perform fit on testdata.\n",
        "# What would happen if I perform a fit and then transform?\n",
        "# Answer is it will be different set of tokens and it can be smaller or larger but when you do fit it has to be equivalent to  columns that is 7456"
      ],
      "execution_count": null,
      "outputs": []
    },
    {
      "cell_type": "code",
      "metadata": {
        "id": "kxl2nTBwCGN1",
        "colab": {
          "base_uri": "https://localhost:8080/"
        },
        "outputId": "c5c873b4-e229-4cb2-e320-0b437f572592"
      },
      "source": [
        "# transform testing data (using fitted vocabulary) into a document-term matrix\n",
        "X_test_dtm = vect.transform(X_test)\n",
        "X_test_dtm"
      ],
      "execution_count": null,
      "outputs": [
        {
          "output_type": "execute_result",
          "data": {
            "text/plain": [
              "<1393x7456 sparse matrix of type '<type 'numpy.int64'>'\n",
              "\twith 17604 stored elements in Compressed Sparse Row format>"
            ]
          },
          "metadata": {
            "tags": []
          },
          "execution_count": 108
        }
      ]
    },
    {
      "cell_type": "markdown",
      "metadata": {
        "id": "tw1SS5GJCGN3"
      },
      "source": [
        "## Part 5: Building and evaluating a model\n",
        "\n",
        "We will use [multinomial Naive Bayes](http://scikit-learn.org/stable/modules/generated/sklearn.naive_bayes.MultinomialNB.html):\n",
        "\n",
        "> The multinomial Naive Bayes classifier is suitable for classification with **discrete features** (e.g., word counts for text classification). The multinomial distribution normally requires integer feature counts. However, in practice, fractional counts such as tf-idf may also work."
      ]
    },
    {
      "cell_type": "code",
      "metadata": {
        "id": "C46UmEgyCGN4"
      },
      "source": [
        "# import and instantiate a Multinomial Naive Bayes model\n",
        "from sklearn.naive_bayes import MultinomialNB\n",
        "nb = MultinomialNB()"
      ],
      "execution_count": null,
      "outputs": []
    },
    {
      "cell_type": "code",
      "metadata": {
        "id": "OvPuP-TpCGN6",
        "colab": {
          "base_uri": "https://localhost:8080/"
        },
        "outputId": "71c05e18-a91e-4597-d43b-513bd4e82da8"
      },
      "source": [
        "# train the model using X_train_dtm (timing it with an IPython \"magic command\")\n",
        "# independent variable,dependent variable\n",
        "%time nb.fit(X_train_dtm, y_train)"
      ],
      "execution_count": null,
      "outputs": [
        {
          "output_type": "stream",
          "text": [
            "CPU times: user 4.12 ms, sys: 0 ns, total: 4.12 ms\n",
            "Wall time: 4.37 ms\n"
          ],
          "name": "stdout"
        },
        {
          "output_type": "execute_result",
          "data": {
            "text/plain": [
              "MultinomialNB(alpha=1.0, class_prior=None, fit_prior=True)"
            ]
          },
          "metadata": {
            "tags": []
          },
          "execution_count": 110
        }
      ]
    },
    {
      "cell_type": "code",
      "metadata": {
        "id": "XnMBgiXiCGN9"
      },
      "source": [
        "# make class predictions for X_test_dtm\n",
        "y_pred_class = nb.predict(X_test_dtm)"
      ],
      "execution_count": null,
      "outputs": []
    },
    {
      "cell_type": "code",
      "metadata": {
        "id": "4PJE25u_CGN_",
        "colab": {
          "base_uri": "https://localhost:8080/"
        },
        "outputId": "235b227c-69f7-490f-b3c2-25c4d5437e93"
      },
      "source": [
        "# calculate accuracy of class predictions\n",
        "from sklearn import metrics\n",
        "metrics.accuracy_score(y_test, y_pred_class)"
      ],
      "execution_count": null,
      "outputs": [
        {
          "output_type": "execute_result",
          "data": {
            "text/plain": [
              "0.9885139985642498"
            ]
          },
          "metadata": {
            "tags": []
          },
          "execution_count": 112
        }
      ]
    },
    {
      "cell_type": "code",
      "metadata": {
        "id": "98eqN5DVCGOC",
        "colab": {
          "base_uri": "https://localhost:8080/"
        },
        "outputId": "29c1381f-c877-4f3a-ec38-8b44b0ce4c40"
      },
      "source": [
        "# print the confusion matrix\n",
        "# up left is true -ve\n",
        "# up right is true +ve\n",
        "# bottom left false +ve ---> which was falsely predicted  as positive and positive class is spam so falsly predicted spam since spam is 1 and ham is 0 \n",
        "#bottom right false -ve\n",
        "metrics.confusion_matrix(y_test, y_pred_class)"
      ],
      "execution_count": null,
      "outputs": [
        {
          "output_type": "execute_result",
          "data": {
            "text/plain": [
              "array([[1203,    5],\n",
              "       [  11,  174]])"
            ]
          },
          "metadata": {
            "tags": []
          },
          "execution_count": 113
        }
      ]
    },
    {
      "cell_type": "code",
      "metadata": {
        "id": "VMx6T4ibCGOD",
        "colab": {
          "base_uri": "https://localhost:8080/"
        },
        "outputId": "6c9fb81e-f268-4ed4-8815-c19ce913f499"
      },
      "source": [
        "# print message text for the false positives (ham incorrectly classified as spam)\n",
        "#X_test[(y_pred_class==1)&(y_test==0)]\n",
        "# OR\n",
        "X_test[y_pred_class > y_test]"
      ],
      "execution_count": null,
      "outputs": [
        {
          "output_type": "execute_result",
          "data": {
            "text/plain": [
              "574               Waiting for your call.\n",
              "3375             Also andros ice etc etc\n",
              "45      No calls..messages..missed calls\n",
              "3415             No pic. Please re-send.\n",
              "1988    No calls..messages..missed calls\n",
              "Name: message, dtype: object"
            ]
          },
          "metadata": {
            "tags": []
          },
          "execution_count": 114
        }
      ]
    },
    {
      "cell_type": "code",
      "metadata": {
        "scrolled": true,
        "id": "9iMJsiznCGOF",
        "colab": {
          "base_uri": "https://localhost:8080/"
        },
        "outputId": "0a893746-5fcc-4280-87e9-0f201135061b"
      },
      "source": [
        "# print message text for the false negatives (spam incorrectly classified as ham)\n",
        "X_test[y_pred_class < y_test]"
      ],
      "execution_count": null,
      "outputs": [
        {
          "output_type": "execute_result",
          "data": {
            "text/plain": [
              "3132    LookAtMe!: Thanks for your purchase of a video...\n",
              "5       FreeMsg Hey there darling it's been 3 week's n...\n",
              "3530    Xmas & New Years Eve tickets are now on sale f...\n",
              "684     Hi I'm sue. I am 20 years old and work as a la...\n",
              "1875    Would you like to see my XXX pics they are so ...\n",
              "1893    CALL 09090900040 & LISTEN TO EXTREME DIRTY LIV...\n",
              "4298    thesmszone.com lets you send free anonymous an...\n",
              "4949    Hi this is Amy, we will be sending you a free ...\n",
              "2821    INTERFLORA - It's not too late to order Inter...\n",
              "2247    Hi ya babe x u 4goten bout me?' scammers getti...\n",
              "4514    Money i have won wining number 946 wot do i do...\n",
              "Name: message, dtype: object"
            ]
          },
          "metadata": {
            "tags": []
          },
          "execution_count": 115
        }
      ]
    },
    {
      "cell_type": "code",
      "metadata": {
        "scrolled": true,
        "id": "O-ME3Y5FCGOI",
        "colab": {
          "base_uri": "https://localhost:8080/"
        },
        "outputId": "bad6e98e-74cd-431a-ec5b-abd68ca151f6"
      },
      "source": [
        "# example false negative\n",
        "X_test[3132]"
      ],
      "execution_count": null,
      "outputs": [
        {
          "output_type": "execute_result",
          "data": {
            "text/plain": [
              "\"LookAtMe!: Thanks for your purchase of a video clip from LookAtMe!, you've been charged 35p. Think you can do better? Why not send a video in a MMSto 32323.\""
            ]
          },
          "metadata": {
            "tags": []
          },
          "execution_count": 116
        }
      ]
    },
    {
      "cell_type": "code",
      "metadata": {
        "id": "aOo8WnCbCGOJ",
        "colab": {
          "base_uri": "https://localhost:8080/"
        },
        "outputId": "81e6815e-5745-4709-8385-c6b8828ad3ac"
      },
      "source": [
        "# calculate predicted probabilities for X_test_dtm (poorly calibrated)\n",
        "#y_pred_prob = nb.predict_proba(X_test_dtm) --> will give you two list of probability that the email is 0 and other column as email is 1\n",
        "y_pred_prob = nb.predict_proba(X_test_dtm)[:, 1]\n",
        "y_pred_prob"
      ],
      "execution_count": null,
      "outputs": [
        {
          "output_type": "execute_result",
          "data": {
            "text/plain": [
              "array([2.87744864e-03, 1.83488846e-05, 2.07301295e-03, ...,\n",
              "       1.09026171e-06, 1.00000000e+00, 3.98279868e-09])"
            ]
          },
          "metadata": {
            "tags": []
          },
          "execution_count": 117
        }
      ]
    },
    {
      "cell_type": "code",
      "metadata": {
        "id": "BytzZEArCGOL",
        "colab": {
          "base_uri": "https://localhost:8080/"
        },
        "outputId": "317b60ad-ace2-48c3-b5ba-8b33231b9155"
      },
      "source": [
        "# calculate AUC\n",
        "metrics.roc_auc_score(y_test, y_pred_prob)"
      ],
      "execution_count": null,
      "outputs": [
        {
          "output_type": "execute_result",
          "data": {
            "text/plain": [
              "0.9866431000536962"
            ]
          },
          "metadata": {
            "tags": []
          },
          "execution_count": 118
        }
      ]
    },
    {
      "cell_type": "markdown",
      "metadata": {
        "id": "pD-NkPC9CGOM"
      },
      "source": [
        "## Part 6: Comparing models\n",
        "\n",
        "We will compare multinomial Naive Bayes with [logistic regression](http://scikit-learn.org/stable/modules/linear_model.html#logistic-regression):\n",
        "\n",
        "> Logistic regression, despite its name, is a **linear model for classification** rather than regression. Logistic regression is also known in the literature as logit regression, maximum-entropy classification (MaxEnt) or the log-linear classifier. In this model, the probabilities describing the possible outcomes of a single trial are modeled using a logistic function."
      ]
    },
    {
      "cell_type": "code",
      "metadata": {
        "id": "2oDW2tmECGON"
      },
      "source": [
        "# import and instantiate a logistic regression model\n",
        "from sklearn.linear_model import LogisticRegression\n",
        "logreg = LogisticRegression()"
      ],
      "execution_count": null,
      "outputs": []
    },
    {
      "cell_type": "code",
      "metadata": {
        "id": "azyFbhl4CGOQ",
        "colab": {
          "base_uri": "https://localhost:8080/"
        },
        "outputId": "c5bbd0a0-6763-4187-dba0-1bd85f511b7f"
      },
      "source": [
        "# train the model using X_train_dtm\n",
        "%time logreg.fit(X_train_dtm, y_train)"
      ],
      "execution_count": null,
      "outputs": [
        {
          "output_type": "stream",
          "text": [
            "CPU times: user 33.4 ms, sys: 0 ns, total: 33.4 ms\n",
            "Wall time: 40.2 ms\n"
          ],
          "name": "stdout"
        },
        {
          "output_type": "execute_result",
          "data": {
            "text/plain": [
              "LogisticRegression(C=1.0, class_weight=None, dual=False, fit_intercept=True,\n",
              "          intercept_scaling=1, max_iter=100, multi_class='warn',\n",
              "          n_jobs=None, penalty='l2', random_state=None, solver='warn',\n",
              "          tol=0.0001, verbose=0, warm_start=False)"
            ]
          },
          "metadata": {
            "tags": []
          },
          "execution_count": 120
        }
      ]
    },
    {
      "cell_type": "code",
      "metadata": {
        "id": "Mb5VkCHuCGOS"
      },
      "source": [
        "# make class predictions for X_test_dtm\n",
        "y_pred_class = logreg.predict(X_test_dtm)"
      ],
      "execution_count": null,
      "outputs": []
    },
    {
      "cell_type": "code",
      "metadata": {
        "id": "4cXpJMhYCGOT",
        "colab": {
          "base_uri": "https://localhost:8080/"
        },
        "outputId": "544a35d6-e271-464f-fb08-3b30b0a744c9"
      },
      "source": [
        "# calculate predicted probabilities for X_test_dtm (well calibrated)\n",
        "y_pred_prob = logreg.predict_proba(X_test_dtm)[:, 1]\n",
        "y_pred_prob"
      ],
      "execution_count": null,
      "outputs": [
        {
          "output_type": "execute_result",
          "data": {
            "text/plain": [
              "array([0.01269556, 0.00347183, 0.00616517, ..., 0.03354907, 0.99725053,\n",
              "       0.00157706])"
            ]
          },
          "metadata": {
            "tags": []
          },
          "execution_count": 122
        }
      ]
    },
    {
      "cell_type": "code",
      "metadata": {
        "id": "aBO1Qh3hCGOW",
        "colab": {
          "base_uri": "https://localhost:8080/"
        },
        "outputId": "8be1e5d2-4389-4373-c703-fffac3f335d9"
      },
      "source": [
        "# calculate accuracy\n",
        "metrics.accuracy_score(y_test, y_pred_class)"
      ],
      "execution_count": null,
      "outputs": [
        {
          "output_type": "execute_result",
          "data": {
            "text/plain": [
              "0.9877961234745154"
            ]
          },
          "metadata": {
            "tags": []
          },
          "execution_count": 123
        }
      ]
    },
    {
      "cell_type": "code",
      "metadata": {
        "id": "eVl6RcLACGOX",
        "colab": {
          "base_uri": "https://localhost:8080/"
        },
        "outputId": "6c9636c7-7f13-4d83-da78-b61dfd192326"
      },
      "source": [
        "# calculate AUC\n",
        "metrics.roc_auc_score(y_test, y_pred_prob)"
      ],
      "execution_count": null,
      "outputs": [
        {
          "output_type": "execute_result",
          "data": {
            "text/plain": [
              "0.9936817612314301"
            ]
          },
          "metadata": {
            "tags": []
          },
          "execution_count": 124
        }
      ]
    },
    {
      "cell_type": "markdown",
      "metadata": {
        "id": "iDuORCVzCGOZ"
      },
      "source": [
        "## Part 7: Examining a model for further insight\n",
        "\n",
        "We will examine the our **trained Naive Bayes model** to calculate the approximate **\"spamminess\" of each token**."
      ]
    },
    {
      "cell_type": "code",
      "metadata": {
        "id": "NvQUrXpYCGOZ",
        "colab": {
          "base_uri": "https://localhost:8080/"
        },
        "outputId": "2e126ed2-fa81-4fde-aa6d-f14aa386f5bc"
      },
      "source": [
        "# store the vocabulary of X_train\n",
        "X_train_tokens = vect.get_feature_names()\n",
        "len(X_train_tokens)"
      ],
      "execution_count": null,
      "outputs": [
        {
          "output_type": "execute_result",
          "data": {
            "text/plain": [
              "7456"
            ]
          },
          "metadata": {
            "tags": []
          },
          "execution_count": 125
        }
      ]
    },
    {
      "cell_type": "code",
      "metadata": {
        "scrolled": true,
        "id": "55mNACtpCGOa",
        "colab": {
          "base_uri": "https://localhost:8080/"
        },
        "outputId": "d106bef2-501e-4e35-baaa-64bb59e71de7"
      },
      "source": [
        "# examine the first 50 tokens\n",
        "print(X_train_tokens[0:50])"
      ],
      "execution_count": null,
      "outputs": [
        {
          "output_type": "stream",
          "text": [
            "[u'00', u'000', u'008704050406', u'0121', u'01223585236', u'01223585334', u'0125698789', u'02', u'0207', u'02072069400', u'02073162414', u'02085076972', u'021', u'03', u'04', u'0430', u'05', u'050703', u'0578', u'06', u'07', u'07008009200', u'07090201529', u'07090298926', u'07123456789', u'07732584351', u'07734396839', u'07742676969', u'0776xxxxxxx', u'07781482378', u'07786200117', u'078', u'07801543489', u'07808', u'07808247860', u'07808726822', u'07815296484', u'07821230901', u'07880867867', u'0789xxxxxxx', u'07946746291', u'0796xxxxxx', u'07973788240', u'07xxxxxxxxx', u'08', u'0800', u'08000407165', u'08000776320', u'08000839402', u'08000930705']\n"
          ],
          "name": "stdout"
        }
      ]
    },
    {
      "cell_type": "code",
      "metadata": {
        "id": "H9c1wQh0CGOb",
        "colab": {
          "base_uri": "https://localhost:8080/"
        },
        "outputId": "60c202b0-005d-4a1c-f009-94258588b59c"
      },
      "source": [
        "# examine the last 50 tokens\n",
        "print(X_train_tokens[-50:])"
      ],
      "execution_count": null,
      "outputs": [
        {
          "output_type": "stream",
          "text": [
            "[u'yer', u'yes', u'yest', u'yesterday', u'yet', u'yetunde', u'yijue', u'ym', u'ymca', u'yo', u'yoga', u'yogasana', u'yor', u'yorge', u'you', u'youdoing', u'youi', u'youphone', u'your', u'youre', u'yourjob', u'yours', u'yourself', u'youwanna', u'yowifes', u'yoyyooo', u'yr', u'yrs', u'ything', u'yummmm', u'yummy', u'yun', u'yunny', u'yuo', u'yuou', u'yup', u'zac', u'zaher', u'zealand', u'zebra', u'zed', u'zeros', u'zhong', u'zindgi', u'zoe', u'zoom', u'zouk', u'zyada', u'\\xe8n', u'\\u3028ud']\n"
          ],
          "name": "stdout"
        }
      ]
    },
    {
      "cell_type": "code",
      "metadata": {
        "id": "ISDcDoemCGOe",
        "colab": {
          "base_uri": "https://localhost:8080/"
        },
        "outputId": "2d920192-7af7-4e96-bf97-f5798a5d7268"
      },
      "source": [
        "# Naive Bayes counts the number of times each token appears in each class\n",
        "nb.feature_count_"
      ],
      "execution_count": null,
      "outputs": [
        {
          "output_type": "execute_result",
          "data": {
            "text/plain": [
              "array([[ 0.,  0.,  0., ...,  1.,  1.,  1.],\n",
              "       [ 5., 23.,  2., ...,  0.,  0.,  0.]])"
            ]
          },
          "metadata": {
            "tags": []
          },
          "execution_count": 128
        }
      ]
    },
    {
      "cell_type": "code",
      "metadata": {
        "id": "Nu-qrebCCGOg",
        "colab": {
          "base_uri": "https://localhost:8080/"
        },
        "outputId": "ab05766b-59af-49ea-dfb2-4e601798051a"
      },
      "source": [
        "# rows represent classes, columns represent tokens\n",
        "nb.feature_count_.shape"
      ],
      "execution_count": null,
      "outputs": [
        {
          "output_type": "execute_result",
          "data": {
            "text/plain": [
              "(2, 7456)"
            ]
          },
          "metadata": {
            "tags": []
          },
          "execution_count": 129
        }
      ]
    },
    {
      "cell_type": "code",
      "metadata": {
        "id": "yIv3W-x2CGOi",
        "colab": {
          "base_uri": "https://localhost:8080/"
        },
        "outputId": "22241dac-3ddb-46ba-cb89-cd85c2469fdc"
      },
      "source": [
        "# number of times each token appears across all HAM messages\n",
        "ham_token_count = nb.feature_count_[0, :]\n",
        "ham_token_count"
      ],
      "execution_count": null,
      "outputs": [
        {
          "output_type": "execute_result",
          "data": {
            "text/plain": [
              "array([0., 0., 0., ..., 1., 1., 1.])"
            ]
          },
          "metadata": {
            "tags": []
          },
          "execution_count": 130
        }
      ]
    },
    {
      "cell_type": "code",
      "metadata": {
        "id": "7OMFhS40CGOk",
        "colab": {
          "base_uri": "https://localhost:8080/"
        },
        "outputId": "1a15e718-2d84-47ed-b0c5-704e8352303b"
      },
      "source": [
        "# number of times each token appears across all SPAM messages\n",
        "spam_token_count = nb.feature_count_[1, :]\n",
        "spam_token_count"
      ],
      "execution_count": null,
      "outputs": [
        {
          "output_type": "execute_result",
          "data": {
            "text/plain": [
              "array([ 5., 23.,  2., ...,  0.,  0.,  0.])"
            ]
          },
          "metadata": {
            "tags": []
          },
          "execution_count": 131
        }
      ]
    },
    {
      "cell_type": "code",
      "metadata": {
        "id": "lVS5319TCGOm",
        "colab": {
          "base_uri": "https://localhost:8080/"
        },
        "outputId": "abd54d6b-5757-424f-993b-d1a0668dd8dd"
      },
      "source": [
        "# create a DataFrame of tokens with their separate ham and spam counts\n",
        "tokens = pd.DataFrame({'token':X_train_tokens, 'ham':ham_token_count, 'spam':spam_token_count}).set_index('token')\n",
        "tokens.head()"
      ],
      "execution_count": null,
      "outputs": [
        {
          "output_type": "execute_result",
          "data": {
            "text/html": [
              "<div>\n",
              "<style scoped>\n",
              "    .dataframe tbody tr th:only-of-type {\n",
              "        vertical-align: middle;\n",
              "    }\n",
              "\n",
              "    .dataframe tbody tr th {\n",
              "        vertical-align: top;\n",
              "    }\n",
              "\n",
              "    .dataframe thead th {\n",
              "        text-align: right;\n",
              "    }\n",
              "</style>\n",
              "<table border=\"1\" class=\"dataframe\">\n",
              "  <thead>\n",
              "    <tr style=\"text-align: right;\">\n",
              "      <th></th>\n",
              "      <th>ham</th>\n",
              "      <th>spam</th>\n",
              "    </tr>\n",
              "    <tr>\n",
              "      <th>token</th>\n",
              "      <th></th>\n",
              "      <th></th>\n",
              "    </tr>\n",
              "  </thead>\n",
              "  <tbody>\n",
              "    <tr>\n",
              "      <th>00</th>\n",
              "      <td>0.0</td>\n",
              "      <td>5.0</td>\n",
              "    </tr>\n",
              "    <tr>\n",
              "      <th>000</th>\n",
              "      <td>0.0</td>\n",
              "      <td>23.0</td>\n",
              "    </tr>\n",
              "    <tr>\n",
              "      <th>008704050406</th>\n",
              "      <td>0.0</td>\n",
              "      <td>2.0</td>\n",
              "    </tr>\n",
              "    <tr>\n",
              "      <th>0121</th>\n",
              "      <td>0.0</td>\n",
              "      <td>1.0</td>\n",
              "    </tr>\n",
              "    <tr>\n",
              "      <th>01223585236</th>\n",
              "      <td>0.0</td>\n",
              "      <td>1.0</td>\n",
              "    </tr>\n",
              "  </tbody>\n",
              "</table>\n",
              "</div>"
            ],
            "text/plain": [
              "              ham  spam\n",
              "token                  \n",
              "00            0.0   5.0\n",
              "000           0.0  23.0\n",
              "008704050406  0.0   2.0\n",
              "0121          0.0   1.0\n",
              "01223585236   0.0   1.0"
            ]
          },
          "metadata": {
            "tags": []
          },
          "execution_count": 132
        }
      ]
    },
    {
      "cell_type": "code",
      "metadata": {
        "id": "HCdsuUc4CGOo",
        "colab": {
          "base_uri": "https://localhost:8080/"
        },
        "outputId": "9ef6a256-8cb4-4ca7-a2b4-64c07ecb157c"
      },
      "source": [
        "# examine 5 random DataFrame rows\n",
        "tokens.sample(5, random_state=6)"
      ],
      "execution_count": null,
      "outputs": [
        {
          "output_type": "execute_result",
          "data": {
            "text/html": [
              "<div>\n",
              "<style scoped>\n",
              "    .dataframe tbody tr th:only-of-type {\n",
              "        vertical-align: middle;\n",
              "    }\n",
              "\n",
              "    .dataframe tbody tr th {\n",
              "        vertical-align: top;\n",
              "    }\n",
              "\n",
              "    .dataframe thead th {\n",
              "        text-align: right;\n",
              "    }\n",
              "</style>\n",
              "<table border=\"1\" class=\"dataframe\">\n",
              "  <thead>\n",
              "    <tr style=\"text-align: right;\">\n",
              "      <th></th>\n",
              "      <th>ham</th>\n",
              "      <th>spam</th>\n",
              "    </tr>\n",
              "    <tr>\n",
              "      <th>token</th>\n",
              "      <th></th>\n",
              "      <th></th>\n",
              "    </tr>\n",
              "  </thead>\n",
              "  <tbody>\n",
              "    <tr>\n",
              "      <th>very</th>\n",
              "      <td>64.0</td>\n",
              "      <td>2.0</td>\n",
              "    </tr>\n",
              "    <tr>\n",
              "      <th>nasty</th>\n",
              "      <td>1.0</td>\n",
              "      <td>1.0</td>\n",
              "    </tr>\n",
              "    <tr>\n",
              "      <th>villa</th>\n",
              "      <td>0.0</td>\n",
              "      <td>1.0</td>\n",
              "    </tr>\n",
              "    <tr>\n",
              "      <th>beloved</th>\n",
              "      <td>1.0</td>\n",
              "      <td>0.0</td>\n",
              "    </tr>\n",
              "    <tr>\n",
              "      <th>textoperator</th>\n",
              "      <td>0.0</td>\n",
              "      <td>2.0</td>\n",
              "    </tr>\n",
              "  </tbody>\n",
              "</table>\n",
              "</div>"
            ],
            "text/plain": [
              "               ham  spam\n",
              "token                   \n",
              "very          64.0   2.0\n",
              "nasty          1.0   1.0\n",
              "villa          0.0   1.0\n",
              "beloved        1.0   0.0\n",
              "textoperator   0.0   2.0"
            ]
          },
          "metadata": {
            "tags": []
          },
          "execution_count": 133
        }
      ]
    },
    {
      "cell_type": "code",
      "metadata": {
        "id": "Dq-BWALmCGOp",
        "colab": {
          "base_uri": "https://localhost:8080/"
        },
        "outputId": "90b2a282-2adb-4abb-df78-7bdb6acacfcb"
      },
      "source": [
        "# Naive Bayes counts the number of observations in each class\n",
        "nb.class_count_"
      ],
      "execution_count": null,
      "outputs": [
        {
          "output_type": "execute_result",
          "data": {
            "text/plain": [
              "array([3617.,  562.])"
            ]
          },
          "metadata": {
            "tags": []
          },
          "execution_count": 134
        }
      ]
    },
    {
      "cell_type": "markdown",
      "metadata": {
        "id": "-gHD8ItrCGOr"
      },
      "source": [
        "Before we can calculate the \"spamminess\" of each token, we need to avoid **dividing by zero** and account for the **class imbalance**."
      ]
    },
    {
      "cell_type": "code",
      "metadata": {
        "id": "xnNGKl5eCGOr",
        "colab": {
          "base_uri": "https://localhost:8080/"
        },
        "outputId": "365ae982-fb64-431e-ae2d-66557048b3a4"
      },
      "source": [
        "# add 1 to ham and spam counts to avoid dividing by 0\n",
        "tokens['ham'] = tokens.ham + 1\n",
        "tokens['spam'] = tokens.spam + 1\n",
        "tokens.sample(5, random_state=6)"
      ],
      "execution_count": null,
      "outputs": [
        {
          "output_type": "execute_result",
          "data": {
            "text/html": [
              "<div>\n",
              "<style scoped>\n",
              "    .dataframe tbody tr th:only-of-type {\n",
              "        vertical-align: middle;\n",
              "    }\n",
              "\n",
              "    .dataframe tbody tr th {\n",
              "        vertical-align: top;\n",
              "    }\n",
              "\n",
              "    .dataframe thead th {\n",
              "        text-align: right;\n",
              "    }\n",
              "</style>\n",
              "<table border=\"1\" class=\"dataframe\">\n",
              "  <thead>\n",
              "    <tr style=\"text-align: right;\">\n",
              "      <th></th>\n",
              "      <th>ham</th>\n",
              "      <th>spam</th>\n",
              "    </tr>\n",
              "    <tr>\n",
              "      <th>token</th>\n",
              "      <th></th>\n",
              "      <th></th>\n",
              "    </tr>\n",
              "  </thead>\n",
              "  <tbody>\n",
              "    <tr>\n",
              "      <th>very</th>\n",
              "      <td>65.0</td>\n",
              "      <td>3.0</td>\n",
              "    </tr>\n",
              "    <tr>\n",
              "      <th>nasty</th>\n",
              "      <td>2.0</td>\n",
              "      <td>2.0</td>\n",
              "    </tr>\n",
              "    <tr>\n",
              "      <th>villa</th>\n",
              "      <td>1.0</td>\n",
              "      <td>2.0</td>\n",
              "    </tr>\n",
              "    <tr>\n",
              "      <th>beloved</th>\n",
              "      <td>2.0</td>\n",
              "      <td>1.0</td>\n",
              "    </tr>\n",
              "    <tr>\n",
              "      <th>textoperator</th>\n",
              "      <td>1.0</td>\n",
              "      <td>3.0</td>\n",
              "    </tr>\n",
              "  </tbody>\n",
              "</table>\n",
              "</div>"
            ],
            "text/plain": [
              "               ham  spam\n",
              "token                   \n",
              "very          65.0   3.0\n",
              "nasty          2.0   2.0\n",
              "villa          1.0   2.0\n",
              "beloved        2.0   1.0\n",
              "textoperator   1.0   3.0"
            ]
          },
          "metadata": {
            "tags": []
          },
          "execution_count": 135
        }
      ]
    },
    {
      "cell_type": "code",
      "metadata": {
        "id": "OwtJGcINCGOs",
        "colab": {
          "base_uri": "https://localhost:8080/"
        },
        "outputId": "2ba06b16-7ca6-4fc1-fc1a-acb47a7a65d2"
      },
      "source": [
        "# convert the ham and spam counts into frequencies\n",
        "tokens['ham'] = tokens.ham / nb.class_count_[0]\n",
        "tokens['spam'] = tokens.spam / nb.class_count_[1]\n",
        "tokens.sample(5, random_state=6)"
      ],
      "execution_count": null,
      "outputs": [
        {
          "output_type": "execute_result",
          "data": {
            "text/html": [
              "<div>\n",
              "<style scoped>\n",
              "    .dataframe tbody tr th:only-of-type {\n",
              "        vertical-align: middle;\n",
              "    }\n",
              "\n",
              "    .dataframe tbody tr th {\n",
              "        vertical-align: top;\n",
              "    }\n",
              "\n",
              "    .dataframe thead th {\n",
              "        text-align: right;\n",
              "    }\n",
              "</style>\n",
              "<table border=\"1\" class=\"dataframe\">\n",
              "  <thead>\n",
              "    <tr style=\"text-align: right;\">\n",
              "      <th></th>\n",
              "      <th>ham</th>\n",
              "      <th>spam</th>\n",
              "    </tr>\n",
              "    <tr>\n",
              "      <th>token</th>\n",
              "      <th></th>\n",
              "      <th></th>\n",
              "    </tr>\n",
              "  </thead>\n",
              "  <tbody>\n",
              "    <tr>\n",
              "      <th>very</th>\n",
              "      <td>0.017971</td>\n",
              "      <td>0.005338</td>\n",
              "    </tr>\n",
              "    <tr>\n",
              "      <th>nasty</th>\n",
              "      <td>0.000553</td>\n",
              "      <td>0.003559</td>\n",
              "    </tr>\n",
              "    <tr>\n",
              "      <th>villa</th>\n",
              "      <td>0.000276</td>\n",
              "      <td>0.003559</td>\n",
              "    </tr>\n",
              "    <tr>\n",
              "      <th>beloved</th>\n",
              "      <td>0.000553</td>\n",
              "      <td>0.001779</td>\n",
              "    </tr>\n",
              "    <tr>\n",
              "      <th>textoperator</th>\n",
              "      <td>0.000276</td>\n",
              "      <td>0.005338</td>\n",
              "    </tr>\n",
              "  </tbody>\n",
              "</table>\n",
              "</div>"
            ],
            "text/plain": [
              "                   ham      spam\n",
              "token                           \n",
              "very          0.017971  0.005338\n",
              "nasty         0.000553  0.003559\n",
              "villa         0.000276  0.003559\n",
              "beloved       0.000553  0.001779\n",
              "textoperator  0.000276  0.005338"
            ]
          },
          "metadata": {
            "tags": []
          },
          "execution_count": 136
        }
      ]
    },
    {
      "cell_type": "code",
      "metadata": {
        "id": "bF7mkfObCGOt",
        "colab": {
          "base_uri": "https://localhost:8080/"
        },
        "outputId": "cbc25b67-8ffb-4646-e540-d3b3e79ab65e"
      },
      "source": [
        "# calculate the ratio of spam-to-ham for each token\n",
        "tokens['spam_ratio'] = tokens.spam / tokens.ham\n",
        "tokens.sample(5, random_state=6)"
      ],
      "execution_count": null,
      "outputs": [
        {
          "output_type": "execute_result",
          "data": {
            "text/html": [
              "<div>\n",
              "<style scoped>\n",
              "    .dataframe tbody tr th:only-of-type {\n",
              "        vertical-align: middle;\n",
              "    }\n",
              "\n",
              "    .dataframe tbody tr th {\n",
              "        vertical-align: top;\n",
              "    }\n",
              "\n",
              "    .dataframe thead th {\n",
              "        text-align: right;\n",
              "    }\n",
              "</style>\n",
              "<table border=\"1\" class=\"dataframe\">\n",
              "  <thead>\n",
              "    <tr style=\"text-align: right;\">\n",
              "      <th></th>\n",
              "      <th>ham</th>\n",
              "      <th>spam</th>\n",
              "      <th>spam_ratio</th>\n",
              "    </tr>\n",
              "    <tr>\n",
              "      <th>token</th>\n",
              "      <th></th>\n",
              "      <th></th>\n",
              "      <th></th>\n",
              "    </tr>\n",
              "  </thead>\n",
              "  <tbody>\n",
              "    <tr>\n",
              "      <th>very</th>\n",
              "      <td>0.017971</td>\n",
              "      <td>0.005338</td>\n",
              "      <td>0.297044</td>\n",
              "    </tr>\n",
              "    <tr>\n",
              "      <th>nasty</th>\n",
              "      <td>0.000553</td>\n",
              "      <td>0.003559</td>\n",
              "      <td>6.435943</td>\n",
              "    </tr>\n",
              "    <tr>\n",
              "      <th>villa</th>\n",
              "      <td>0.000276</td>\n",
              "      <td>0.003559</td>\n",
              "      <td>12.871886</td>\n",
              "    </tr>\n",
              "    <tr>\n",
              "      <th>beloved</th>\n",
              "      <td>0.000553</td>\n",
              "      <td>0.001779</td>\n",
              "      <td>3.217972</td>\n",
              "    </tr>\n",
              "    <tr>\n",
              "      <th>textoperator</th>\n",
              "      <td>0.000276</td>\n",
              "      <td>0.005338</td>\n",
              "      <td>19.307829</td>\n",
              "    </tr>\n",
              "  </tbody>\n",
              "</table>\n",
              "</div>"
            ],
            "text/plain": [
              "                   ham      spam  spam_ratio\n",
              "token                                       \n",
              "very          0.017971  0.005338    0.297044\n",
              "nasty         0.000553  0.003559    6.435943\n",
              "villa         0.000276  0.003559   12.871886\n",
              "beloved       0.000553  0.001779    3.217972\n",
              "textoperator  0.000276  0.005338   19.307829"
            ]
          },
          "metadata": {
            "tags": []
          },
          "execution_count": 137
        }
      ]
    },
    {
      "cell_type": "code",
      "metadata": {
        "id": "M24rasvhCGOu",
        "colab": {
          "base_uri": "https://localhost:8080/"
        },
        "outputId": "be801769-0d61-408d-c250-543334e7789b"
      },
      "source": [
        "# examine the DataFrame sorted by spam_ratio\n",
        "# note: use sort() instead of sort_values() for pandas 0.16.2 and earlier\n",
        "tokens.sort_values('spam_ratio', ascending=False)"
      ],
      "execution_count": null,
      "outputs": [
        {
          "output_type": "execute_result",
          "data": {
            "text/html": [
              "<div>\n",
              "<style scoped>\n",
              "    .dataframe tbody tr th:only-of-type {\n",
              "        vertical-align: middle;\n",
              "    }\n",
              "\n",
              "    .dataframe tbody tr th {\n",
              "        vertical-align: top;\n",
              "    }\n",
              "\n",
              "    .dataframe thead th {\n",
              "        text-align: right;\n",
              "    }\n",
              "</style>\n",
              "<table border=\"1\" class=\"dataframe\">\n",
              "  <thead>\n",
              "    <tr style=\"text-align: right;\">\n",
              "      <th></th>\n",
              "      <th>ham</th>\n",
              "      <th>spam</th>\n",
              "      <th>spam_ratio</th>\n",
              "    </tr>\n",
              "    <tr>\n",
              "      <th>token</th>\n",
              "      <th></th>\n",
              "      <th></th>\n",
              "      <th></th>\n",
              "    </tr>\n",
              "  </thead>\n",
              "  <tbody>\n",
              "    <tr>\n",
              "      <th>claim</th>\n",
              "      <td>0.000276</td>\n",
              "      <td>0.158363</td>\n",
              "      <td>572.798932</td>\n",
              "    </tr>\n",
              "    <tr>\n",
              "      <th>prize</th>\n",
              "      <td>0.000276</td>\n",
              "      <td>0.135231</td>\n",
              "      <td>489.131673</td>\n",
              "    </tr>\n",
              "    <tr>\n",
              "      <th>150p</th>\n",
              "      <td>0.000276</td>\n",
              "      <td>0.087189</td>\n",
              "      <td>315.361210</td>\n",
              "    </tr>\n",
              "    <tr>\n",
              "      <th>tone</th>\n",
              "      <td>0.000276</td>\n",
              "      <td>0.085409</td>\n",
              "      <td>308.925267</td>\n",
              "    </tr>\n",
              "    <tr>\n",
              "      <th>guaranteed</th>\n",
              "      <td>0.000276</td>\n",
              "      <td>0.076512</td>\n",
              "      <td>276.745552</td>\n",
              "    </tr>\n",
              "    <tr>\n",
              "      <th>18</th>\n",
              "      <td>0.000276</td>\n",
              "      <td>0.069395</td>\n",
              "      <td>251.001779</td>\n",
              "    </tr>\n",
              "    <tr>\n",
              "      <th>cs</th>\n",
              "      <td>0.000276</td>\n",
              "      <td>0.065836</td>\n",
              "      <td>238.129893</td>\n",
              "    </tr>\n",
              "    <tr>\n",
              "      <th>www</th>\n",
              "      <td>0.000553</td>\n",
              "      <td>0.129893</td>\n",
              "      <td>234.911922</td>\n",
              "    </tr>\n",
              "    <tr>\n",
              "      <th>1000</th>\n",
              "      <td>0.000276</td>\n",
              "      <td>0.056940</td>\n",
              "      <td>205.950178</td>\n",
              "    </tr>\n",
              "    <tr>\n",
              "      <th>awarded</th>\n",
              "      <td>0.000276</td>\n",
              "      <td>0.053381</td>\n",
              "      <td>193.078292</td>\n",
              "    </tr>\n",
              "    <tr>\n",
              "      <th>150ppm</th>\n",
              "      <td>0.000276</td>\n",
              "      <td>0.051601</td>\n",
              "      <td>186.642349</td>\n",
              "    </tr>\n",
              "    <tr>\n",
              "      <th>uk</th>\n",
              "      <td>0.000553</td>\n",
              "      <td>0.099644</td>\n",
              "      <td>180.206406</td>\n",
              "    </tr>\n",
              "    <tr>\n",
              "      <th>500</th>\n",
              "      <td>0.000276</td>\n",
              "      <td>0.048043</td>\n",
              "      <td>173.770463</td>\n",
              "    </tr>\n",
              "    <tr>\n",
              "      <th>ringtone</th>\n",
              "      <td>0.000276</td>\n",
              "      <td>0.044484</td>\n",
              "      <td>160.898577</td>\n",
              "    </tr>\n",
              "    <tr>\n",
              "      <th>000</th>\n",
              "      <td>0.000276</td>\n",
              "      <td>0.042705</td>\n",
              "      <td>154.462633</td>\n",
              "    </tr>\n",
              "    <tr>\n",
              "      <th>mob</th>\n",
              "      <td>0.000276</td>\n",
              "      <td>0.042705</td>\n",
              "      <td>154.462633</td>\n",
              "    </tr>\n",
              "    <tr>\n",
              "      <th>co</th>\n",
              "      <td>0.000553</td>\n",
              "      <td>0.078292</td>\n",
              "      <td>141.590747</td>\n",
              "    </tr>\n",
              "    <tr>\n",
              "      <th>collection</th>\n",
              "      <td>0.000276</td>\n",
              "      <td>0.039146</td>\n",
              "      <td>141.590747</td>\n",
              "    </tr>\n",
              "    <tr>\n",
              "      <th>valid</th>\n",
              "      <td>0.000276</td>\n",
              "      <td>0.037367</td>\n",
              "      <td>135.154804</td>\n",
              "    </tr>\n",
              "    <tr>\n",
              "      <th>2000</th>\n",
              "      <td>0.000276</td>\n",
              "      <td>0.037367</td>\n",
              "      <td>135.154804</td>\n",
              "    </tr>\n",
              "    <tr>\n",
              "      <th>800</th>\n",
              "      <td>0.000276</td>\n",
              "      <td>0.037367</td>\n",
              "      <td>135.154804</td>\n",
              "    </tr>\n",
              "    <tr>\n",
              "      <th>10p</th>\n",
              "      <td>0.000276</td>\n",
              "      <td>0.037367</td>\n",
              "      <td>135.154804</td>\n",
              "    </tr>\n",
              "    <tr>\n",
              "      <th>8007</th>\n",
              "      <td>0.000276</td>\n",
              "      <td>0.035587</td>\n",
              "      <td>128.718861</td>\n",
              "    </tr>\n",
              "    <tr>\n",
              "      <th>16</th>\n",
              "      <td>0.000553</td>\n",
              "      <td>0.067616</td>\n",
              "      <td>122.282918</td>\n",
              "    </tr>\n",
              "    <tr>\n",
              "      <th>weekly</th>\n",
              "      <td>0.000276</td>\n",
              "      <td>0.033808</td>\n",
              "      <td>122.282918</td>\n",
              "    </tr>\n",
              "    <tr>\n",
              "      <th>tones</th>\n",
              "      <td>0.000276</td>\n",
              "      <td>0.032028</td>\n",
              "      <td>115.846975</td>\n",
              "    </tr>\n",
              "    <tr>\n",
              "      <th>land</th>\n",
              "      <td>0.000276</td>\n",
              "      <td>0.032028</td>\n",
              "      <td>115.846975</td>\n",
              "    </tr>\n",
              "    <tr>\n",
              "      <th>http</th>\n",
              "      <td>0.000276</td>\n",
              "      <td>0.032028</td>\n",
              "      <td>115.846975</td>\n",
              "    </tr>\n",
              "    <tr>\n",
              "      <th>national</th>\n",
              "      <td>0.000276</td>\n",
              "      <td>0.030249</td>\n",
              "      <td>109.411032</td>\n",
              "    </tr>\n",
              "    <tr>\n",
              "      <th>5000</th>\n",
              "      <td>0.000276</td>\n",
              "      <td>0.030249</td>\n",
              "      <td>109.411032</td>\n",
              "    </tr>\n",
              "    <tr>\n",
              "      <th>...</th>\n",
              "      <td>...</td>\n",
              "      <td>...</td>\n",
              "      <td>...</td>\n",
              "    </tr>\n",
              "    <tr>\n",
              "      <th>went</th>\n",
              "      <td>0.012718</td>\n",
              "      <td>0.001779</td>\n",
              "      <td>0.139912</td>\n",
              "    </tr>\n",
              "    <tr>\n",
              "      <th>ll</th>\n",
              "      <td>0.052530</td>\n",
              "      <td>0.007117</td>\n",
              "      <td>0.135494</td>\n",
              "    </tr>\n",
              "    <tr>\n",
              "      <th>told</th>\n",
              "      <td>0.013824</td>\n",
              "      <td>0.001779</td>\n",
              "      <td>0.128719</td>\n",
              "    </tr>\n",
              "    <tr>\n",
              "      <th>feel</th>\n",
              "      <td>0.013824</td>\n",
              "      <td>0.001779</td>\n",
              "      <td>0.128719</td>\n",
              "    </tr>\n",
              "    <tr>\n",
              "      <th>gud</th>\n",
              "      <td>0.014100</td>\n",
              "      <td>0.001779</td>\n",
              "      <td>0.126195</td>\n",
              "    </tr>\n",
              "    <tr>\n",
              "      <th>cos</th>\n",
              "      <td>0.014929</td>\n",
              "      <td>0.001779</td>\n",
              "      <td>0.119184</td>\n",
              "    </tr>\n",
              "    <tr>\n",
              "      <th>but</th>\n",
              "      <td>0.090683</td>\n",
              "      <td>0.010676</td>\n",
              "      <td>0.117731</td>\n",
              "    </tr>\n",
              "    <tr>\n",
              "      <th>amp</th>\n",
              "      <td>0.015206</td>\n",
              "      <td>0.001779</td>\n",
              "      <td>0.117017</td>\n",
              "    </tr>\n",
              "    <tr>\n",
              "      <th>something</th>\n",
              "      <td>0.015206</td>\n",
              "      <td>0.001779</td>\n",
              "      <td>0.117017</td>\n",
              "    </tr>\n",
              "    <tr>\n",
              "      <th>sure</th>\n",
              "      <td>0.015206</td>\n",
              "      <td>0.001779</td>\n",
              "      <td>0.117017</td>\n",
              "    </tr>\n",
              "    <tr>\n",
              "      <th>ok</th>\n",
              "      <td>0.061100</td>\n",
              "      <td>0.007117</td>\n",
              "      <td>0.116488</td>\n",
              "    </tr>\n",
              "    <tr>\n",
              "      <th>said</th>\n",
              "      <td>0.016312</td>\n",
              "      <td>0.001779</td>\n",
              "      <td>0.109084</td>\n",
              "    </tr>\n",
              "    <tr>\n",
              "      <th>morning</th>\n",
              "      <td>0.016865</td>\n",
              "      <td>0.001779</td>\n",
              "      <td>0.105507</td>\n",
              "    </tr>\n",
              "    <tr>\n",
              "      <th>yeah</th>\n",
              "      <td>0.017694</td>\n",
              "      <td>0.001779</td>\n",
              "      <td>0.100562</td>\n",
              "    </tr>\n",
              "    <tr>\n",
              "      <th>lol</th>\n",
              "      <td>0.017694</td>\n",
              "      <td>0.001779</td>\n",
              "      <td>0.100562</td>\n",
              "    </tr>\n",
              "    <tr>\n",
              "      <th>anything</th>\n",
              "      <td>0.017971</td>\n",
              "      <td>0.001779</td>\n",
              "      <td>0.099015</td>\n",
              "    </tr>\n",
              "    <tr>\n",
              "      <th>my</th>\n",
              "      <td>0.150401</td>\n",
              "      <td>0.014235</td>\n",
              "      <td>0.094646</td>\n",
              "    </tr>\n",
              "    <tr>\n",
              "      <th>doing</th>\n",
              "      <td>0.019077</td>\n",
              "      <td>0.001779</td>\n",
              "      <td>0.093275</td>\n",
              "    </tr>\n",
              "    <tr>\n",
              "      <th>way</th>\n",
              "      <td>0.019630</td>\n",
              "      <td>0.001779</td>\n",
              "      <td>0.090647</td>\n",
              "    </tr>\n",
              "    <tr>\n",
              "      <th>ask</th>\n",
              "      <td>0.019630</td>\n",
              "      <td>0.001779</td>\n",
              "      <td>0.090647</td>\n",
              "    </tr>\n",
              "    <tr>\n",
              "      <th>already</th>\n",
              "      <td>0.019630</td>\n",
              "      <td>0.001779</td>\n",
              "      <td>0.090647</td>\n",
              "    </tr>\n",
              "    <tr>\n",
              "      <th>too</th>\n",
              "      <td>0.021841</td>\n",
              "      <td>0.001779</td>\n",
              "      <td>0.081468</td>\n",
              "    </tr>\n",
              "    <tr>\n",
              "      <th>come</th>\n",
              "      <td>0.048936</td>\n",
              "      <td>0.003559</td>\n",
              "      <td>0.072723</td>\n",
              "    </tr>\n",
              "    <tr>\n",
              "      <th>later</th>\n",
              "      <td>0.030688</td>\n",
              "      <td>0.001779</td>\n",
              "      <td>0.057981</td>\n",
              "    </tr>\n",
              "    <tr>\n",
              "      <th>lor</th>\n",
              "      <td>0.032900</td>\n",
              "      <td>0.001779</td>\n",
              "      <td>0.054084</td>\n",
              "    </tr>\n",
              "    <tr>\n",
              "      <th>da</th>\n",
              "      <td>0.032900</td>\n",
              "      <td>0.001779</td>\n",
              "      <td>0.054084</td>\n",
              "    </tr>\n",
              "    <tr>\n",
              "      <th>she</th>\n",
              "      <td>0.035665</td>\n",
              "      <td>0.001779</td>\n",
              "      <td>0.049891</td>\n",
              "    </tr>\n",
              "    <tr>\n",
              "      <th>he</th>\n",
              "      <td>0.047000</td>\n",
              "      <td>0.001779</td>\n",
              "      <td>0.037858</td>\n",
              "    </tr>\n",
              "    <tr>\n",
              "      <th>lt</th>\n",
              "      <td>0.064142</td>\n",
              "      <td>0.001779</td>\n",
              "      <td>0.027741</td>\n",
              "    </tr>\n",
              "    <tr>\n",
              "      <th>gt</th>\n",
              "      <td>0.064971</td>\n",
              "      <td>0.001779</td>\n",
              "      <td>0.027387</td>\n",
              "    </tr>\n",
              "  </tbody>\n",
              "</table>\n",
              "<p>7456 rows × 3 columns</p>\n",
              "</div>"
            ],
            "text/plain": [
              "                 ham      spam  spam_ratio\n",
              "token                                     \n",
              "claim       0.000276  0.158363  572.798932\n",
              "prize       0.000276  0.135231  489.131673\n",
              "150p        0.000276  0.087189  315.361210\n",
              "tone        0.000276  0.085409  308.925267\n",
              "guaranteed  0.000276  0.076512  276.745552\n",
              "18          0.000276  0.069395  251.001779\n",
              "cs          0.000276  0.065836  238.129893\n",
              "www         0.000553  0.129893  234.911922\n",
              "1000        0.000276  0.056940  205.950178\n",
              "awarded     0.000276  0.053381  193.078292\n",
              "150ppm      0.000276  0.051601  186.642349\n",
              "uk          0.000553  0.099644  180.206406\n",
              "500         0.000276  0.048043  173.770463\n",
              "ringtone    0.000276  0.044484  160.898577\n",
              "000         0.000276  0.042705  154.462633\n",
              "mob         0.000276  0.042705  154.462633\n",
              "co          0.000553  0.078292  141.590747\n",
              "collection  0.000276  0.039146  141.590747\n",
              "valid       0.000276  0.037367  135.154804\n",
              "2000        0.000276  0.037367  135.154804\n",
              "800         0.000276  0.037367  135.154804\n",
              "10p         0.000276  0.037367  135.154804\n",
              "8007        0.000276  0.035587  128.718861\n",
              "16          0.000553  0.067616  122.282918\n",
              "weekly      0.000276  0.033808  122.282918\n",
              "tones       0.000276  0.032028  115.846975\n",
              "land        0.000276  0.032028  115.846975\n",
              "http        0.000276  0.032028  115.846975\n",
              "national    0.000276  0.030249  109.411032\n",
              "5000        0.000276  0.030249  109.411032\n",
              "...              ...       ...         ...\n",
              "went        0.012718  0.001779    0.139912\n",
              "ll          0.052530  0.007117    0.135494\n",
              "told        0.013824  0.001779    0.128719\n",
              "feel        0.013824  0.001779    0.128719\n",
              "gud         0.014100  0.001779    0.126195\n",
              "cos         0.014929  0.001779    0.119184\n",
              "but         0.090683  0.010676    0.117731\n",
              "amp         0.015206  0.001779    0.117017\n",
              "something   0.015206  0.001779    0.117017\n",
              "sure        0.015206  0.001779    0.117017\n",
              "ok          0.061100  0.007117    0.116488\n",
              "said        0.016312  0.001779    0.109084\n",
              "morning     0.016865  0.001779    0.105507\n",
              "yeah        0.017694  0.001779    0.100562\n",
              "lol         0.017694  0.001779    0.100562\n",
              "anything    0.017971  0.001779    0.099015\n",
              "my          0.150401  0.014235    0.094646\n",
              "doing       0.019077  0.001779    0.093275\n",
              "way         0.019630  0.001779    0.090647\n",
              "ask         0.019630  0.001779    0.090647\n",
              "already     0.019630  0.001779    0.090647\n",
              "too         0.021841  0.001779    0.081468\n",
              "come        0.048936  0.003559    0.072723\n",
              "later       0.030688  0.001779    0.057981\n",
              "lor         0.032900  0.001779    0.054084\n",
              "da          0.032900  0.001779    0.054084\n",
              "she         0.035665  0.001779    0.049891\n",
              "he          0.047000  0.001779    0.037858\n",
              "lt          0.064142  0.001779    0.027741\n",
              "gt          0.064971  0.001779    0.027387\n",
              "\n",
              "[7456 rows x 3 columns]"
            ]
          },
          "metadata": {
            "tags": []
          },
          "execution_count": 138
        }
      ]
    },
    {
      "cell_type": "code",
      "metadata": {
        "id": "7A0XXQfBCGOv",
        "colab": {
          "base_uri": "https://localhost:8080/"
        },
        "outputId": "3a7fdf91-a651-4bd5-efdd-0be4b02cfa54"
      },
      "source": [
        "# look up the spam_ratio for a given token\n",
        "tokens.loc['dating', 'spam_ratio']"
      ],
      "execution_count": null,
      "outputs": [
        {
          "output_type": "execute_result",
          "data": {
            "text/plain": [
              "83.66725978647686"
            ]
          },
          "metadata": {
            "tags": []
          },
          "execution_count": 139
        }
      ]
    },
    {
      "cell_type": "markdown",
      "metadata": {
        "id": "T7mbgfw6CGOw"
      },
      "source": [
        "## Part 8: Practicing this workflow on another dataset\n",
        "\n",
        "Please open the **`exercise.ipynb`** notebook (or the **`exercise.py`** script)."
      ]
    },
    {
      "cell_type": "markdown",
      "metadata": {
        "id": "QtSC0mLvCGOx"
      },
      "source": [
        "## Part 9: Tuning the vectorizer (discussion)\n",
        "\n",
        "Thus far, we have been using the default parameters of [CountVectorizer](http://scikit-learn.org/stable/modules/generated/sklearn.feature_extraction.text.CountVectorizer.html):"
      ]
    },
    {
      "cell_type": "code",
      "metadata": {
        "id": "lYsJ0h3SCGOx",
        "colab": {
          "base_uri": "https://localhost:8080/"
        },
        "outputId": "df7a89aa-ca5e-4aff-fd90-2c2fa861ca12"
      },
      "source": [
        "# show default parameters for CountVectorizer\n",
        "vect"
      ],
      "execution_count": null,
      "outputs": [
        {
          "output_type": "execute_result",
          "data": {
            "text/plain": [
              "CountVectorizer(analyzer=u'word', binary=False, decode_error=u'strict',\n",
              "        dtype=<type 'numpy.int64'>, encoding=u'utf-8', input=u'content',\n",
              "        lowercase=True, max_df=1.0, max_features=None, min_df=1,\n",
              "        ngram_range=(1, 1), preprocessor=None, stop_words=None,\n",
              "        strip_accents=None, token_pattern=u'(?u)\\\\b\\\\w\\\\w+\\\\b',\n",
              "        tokenizer=None, vocabulary=None)"
            ]
          },
          "metadata": {
            "tags": []
          },
          "execution_count": 140
        }
      ]
    },
    {
      "cell_type": "markdown",
      "metadata": {
        "id": "bvFxNKy4CGO2"
      },
      "source": [
        "However, the vectorizer is worth tuning, just like a model is worth tuning! Here are a few parameters that you might want to tune:\n",
        "\n",
        "- **stop_words:** string {'english'}, list, or None (default)\n",
        "    - If 'english', a built-in stop word list for English is used.\n",
        "    - If a list, that list is assumed to contain stop words, all of which will be removed from the resulting tokens.\n",
        "    - If None, no stop words will be used."
      ]
    },
    {
      "cell_type": "code",
      "metadata": {
        "id": "NoU7pbA1CGO2"
      },
      "source": [
        "# remove English stop words\n",
        "vect = CountVectorizer(stop_words='english')"
      ],
      "execution_count": null,
      "outputs": []
    },
    {
      "cell_type": "markdown",
      "metadata": {
        "id": "mRmLZ4RUCGO4"
      },
      "source": [
        "- **ngram_range:** tuple (min_n, max_n), default=(1, 1)\n",
        "    - The lower and upper boundary of the range of n-values for different n-grams to be extracted.\n",
        "    - All values of n such that min_n <= n <= max_n will be used."
      ]
    },
    {
      "cell_type": "code",
      "metadata": {
        "id": "GZqi4FpoCGO4"
      },
      "source": [
        "# include 1-grams and 2-grams\n",
        "vect = CountVectorizer(ngram_range=(1, 2))"
      ],
      "execution_count": null,
      "outputs": []
    },
    {
      "cell_type": "markdown",
      "metadata": {
        "id": "aB6SHZAYCGO6"
      },
      "source": [
        "- **max_df:** float in range [0.0, 1.0] or int, default=1.0\n",
        "    - When building the vocabulary, ignore terms that have a document frequency strictly higher than the given threshold (corpus-specific stop words).\n",
        "    - If float, the parameter represents a proportion of documents.\n",
        "    - If integer, the parameter represents an absolute count."
      ]
    },
    {
      "cell_type": "code",
      "metadata": {
        "id": "GqBSwC3NCGO6"
      },
      "source": [
        "# ignore terms that appear in more than 50% of the documents\n",
        "vect = CountVectorizer(max_df=0.5)"
      ],
      "execution_count": null,
      "outputs": []
    },
    {
      "cell_type": "markdown",
      "metadata": {
        "id": "ricpF0h6CGO7"
      },
      "source": [
        "- **min_df:** float in range [0.0, 1.0] or int, default=1\n",
        "    - When building the vocabulary, ignore terms that have a document frequency strictly lower than the given threshold. (This value is also called \"cut-off\" in the literature.)\n",
        "    - If float, the parameter represents a proportion of documents.\n",
        "    - If integer, the parameter represents an absolute count."
      ]
    },
    {
      "cell_type": "code",
      "metadata": {
        "id": "MIt8vJO3CGO8"
      },
      "source": [
        "# only keep terms that appear in at least 2 documents\n",
        "vect = CountVectorizer(min_df=2)"
      ],
      "execution_count": null,
      "outputs": []
    },
    {
      "cell_type": "markdown",
      "metadata": {
        "id": "QoXogeRQCGO9"
      },
      "source": [
        "**Guidelines for tuning CountVectorizer:**\n",
        "\n",
        "- Use your knowledge of the **problem** and the **text**, and your understanding of the **tuning parameters**, to help you decide what parameters to tune and how to tune them.\n",
        "- **Experiment**, and let the data tell you the best approach!"
      ]
    }
  ]
}