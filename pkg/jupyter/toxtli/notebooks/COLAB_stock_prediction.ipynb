{
  "nbformat": 4,
  "nbformat_minor": 0,
  "metadata": {
    "kernelspec": {
      "name": "python3",
      "display_name": "Python 3"
    },
    "language_info": {
      "codemirror_mode": {
        "name": "ipython",
        "version": 3
      },
      "file_extension": ".py",
      "mimetype": "text/x-python",
      "name": "python",
      "nbconvert_exporter": "python",
      "pygments_lexer": "ipython3",
      "version": "3.6.1"
    },
    "colab": {
      "name": "COLAB - stock-prediction.ipynb",
      "provenance": [],
      "toc_visible": true
    },
    "accelerator": "GPU"
  },
  "cells": [
    {
      "cell_type": "markdown",
      "metadata": {
        "id": "_C1o_GkUBYfJ"
      },
      "source": [
        "Adapted by Carlos Toxtli http://www.carlostoxtli.com/#colab-stock-1\n",
        "\n",
        "Credits: https://github.com/Kulbear/stock-prediction"
      ]
    },
    {
      "cell_type": "code",
      "metadata": {
        "id": "Ps7rLFaH5TRI",
        "colab": {
          "base_uri": "https://localhost:8080/",
          "height": 102
        },
        "outputId": "929fef89-5168-4639-fc87-74278f93ddea"
      },
      "source": [
        "!git clone https://github.com/Kulbear/stock-prediction\n",
        "%cd stock-prediction"
      ],
      "execution_count": null,
      "outputs": [
        {
          "output_type": "stream",
          "text": [
            "Cloning into 'stock-prediction'...\n",
            "remote: Enumerating objects: 34, done.\u001b[K\n",
            "remote: Total 34 (delta 0), reused 0 (delta 0), pack-reused 34\u001b[K\n",
            "Unpacking objects: 100% (34/34), done.\n",
            "/content/stock-prediction\n"
          ],
          "name": "stdout"
        }
      ]
    },
    {
      "cell_type": "markdown",
      "metadata": {
        "id": "fuIY308aBUdK"
      },
      "source": [
        "# Stock Prediction with Recurrent Neural Network\n",
        "\n",
        "Deep learning is involved a lot in the modern quantitive financial field. There are many different neural networks can be applied to stock price prediction problems. The recurrent neural network, to be specific, the Long Short Term Memory(LSTM) network outperforms others architecture since it can take advantage of predicting time series (or sequentially) involved result with a specific configuration.\n",
        "\n",
        "We will make a really simple LSTM with Keras to predict the stock price in the Chinese stock."
      ]
    },
    {
      "cell_type": "code",
      "metadata": {
        "id": "OpV1YvtYBUdL",
        "colab": {
          "base_uri": "https://localhost:8080/",
          "height": 34
        },
        "outputId": "435a9a55-7d3b-4ad1-d91a-e98615411112"
      },
      "source": [
        "import time\n",
        "import math\n",
        "from keras.models import Sequential\n",
        "from keras.layers.core import Dense, Dropout, Activation\n",
        "from keras.layers.recurrent import LSTM\n",
        "import numpy as np\n",
        "import pandas as pd\n",
        "import sklearn.preprocessing as prep"
      ],
      "execution_count": null,
      "outputs": [
        {
          "output_type": "stream",
          "text": [
            "Using TensorFlow backend.\n"
          ],
          "name": "stderr"
        }
      ]
    },
    {
      "cell_type": "markdown",
      "metadata": {
        "id": "nR4Dzh4fBUdP"
      },
      "source": [
        "## Import Data\n",
        "\n",
        "I have introduced how we get this dataset both in README.md and in another notebook."
      ]
    },
    {
      "cell_type": "code",
      "metadata": {
        "id": "VZHc3wx6BUdQ",
        "colab": {
          "base_uri": "https://localhost:8080/",
          "height": 204
        },
        "outputId": "92510e90-2c09-436f-be48-83cd040f29b4"
      },
      "source": [
        "df = pd.read_csv('000002-from-1995-01-01.csv')\n",
        "df.head()"
      ],
      "execution_count": null,
      "outputs": [
        {
          "output_type": "execute_result",
          "data": {
            "text/html": [
              "<div>\n",
              "<style scoped>\n",
              "    .dataframe tbody tr th:only-of-type {\n",
              "        vertical-align: middle;\n",
              "    }\n",
              "\n",
              "    .dataframe tbody tr th {\n",
              "        vertical-align: top;\n",
              "    }\n",
              "\n",
              "    .dataframe thead th {\n",
              "        text-align: right;\n",
              "    }\n",
              "</style>\n",
              "<table border=\"1\" class=\"dataframe\">\n",
              "  <thead>\n",
              "    <tr style=\"text-align: right;\">\n",
              "      <th></th>\n",
              "      <th>open</th>\n",
              "      <th>high</th>\n",
              "      <th>low</th>\n",
              "      <th>volume</th>\n",
              "      <th>amount</th>\n",
              "      <th>close</th>\n",
              "    </tr>\n",
              "  </thead>\n",
              "  <tbody>\n",
              "    <tr>\n",
              "      <th>0</th>\n",
              "      <td>20.64</td>\n",
              "      <td>20.64</td>\n",
              "      <td>20.37</td>\n",
              "      <td>16362363.0</td>\n",
              "      <td>3.350027e+08</td>\n",
              "      <td>20.56</td>\n",
              "    </tr>\n",
              "    <tr>\n",
              "      <th>1</th>\n",
              "      <td>20.92</td>\n",
              "      <td>20.92</td>\n",
              "      <td>20.60</td>\n",
              "      <td>21850597.0</td>\n",
              "      <td>4.520071e+08</td>\n",
              "      <td>20.64</td>\n",
              "    </tr>\n",
              "    <tr>\n",
              "      <th>2</th>\n",
              "      <td>21.00</td>\n",
              "      <td>21.15</td>\n",
              "      <td>20.72</td>\n",
              "      <td>26910139.0</td>\n",
              "      <td>5.628396e+08</td>\n",
              "      <td>20.94</td>\n",
              "    </tr>\n",
              "    <tr>\n",
              "      <th>3</th>\n",
              "      <td>20.70</td>\n",
              "      <td>21.57</td>\n",
              "      <td>20.70</td>\n",
              "      <td>64585536.0</td>\n",
              "      <td>1.363421e+09</td>\n",
              "      <td>21.02</td>\n",
              "    </tr>\n",
              "    <tr>\n",
              "      <th>4</th>\n",
              "      <td>20.60</td>\n",
              "      <td>20.70</td>\n",
              "      <td>20.20</td>\n",
              "      <td>45886018.0</td>\n",
              "      <td>9.382043e+08</td>\n",
              "      <td>20.70</td>\n",
              "    </tr>\n",
              "  </tbody>\n",
              "</table>\n",
              "</div>"
            ],
            "text/plain": [
              "    open   high    low      volume        amount  close\n",
              "0  20.64  20.64  20.37  16362363.0  3.350027e+08  20.56\n",
              "1  20.92  20.92  20.60  21850597.0  4.520071e+08  20.64\n",
              "2  21.00  21.15  20.72  26910139.0  5.628396e+08  20.94\n",
              "3  20.70  21.57  20.70  64585536.0  1.363421e+09  21.02\n",
              "4  20.60  20.70  20.20  45886018.0  9.382043e+08  20.70"
            ]
          },
          "metadata": {
            "tags": []
          },
          "execution_count": 3
        }
      ]
    },
    {
      "cell_type": "markdown",
      "metadata": {
        "id": "rzVasIq0BUdU"
      },
      "source": [
        "## Preprocess Data\n",
        "\n",
        "We can see from the table above that the scales of our features vary a lot. It will be beneficial to normalize your training data before you feed data into your model. \"Having different features with widely different scales fed to your model will cause the network to weight the features not equally. This can cause a falsely prioritisation of some features over the others in the representation.\" Read [here](http://stackoverflow.com/a/43526354/6670143) for more detailed explanation."
      ]
    },
    {
      "cell_type": "code",
      "metadata": {
        "id": "XaxyI3UaBUdb"
      },
      "source": [
        "def standard_scaler(X_train, X_test):\n",
        "    train_samples, train_nx, train_ny = X_train.shape\n",
        "    test_samples, test_nx, test_ny = X_test.shape\n",
        "    \n",
        "    X_train = X_train.reshape((train_samples, train_nx * train_ny))\n",
        "    X_test = X_test.reshape((test_samples, test_nx * test_ny))\n",
        "    \n",
        "    preprocessor = prep.StandardScaler().fit(X_train)\n",
        "    X_train = preprocessor.transform(X_train)\n",
        "    X_test = preprocessor.transform(X_test)\n",
        "    \n",
        "    X_train = X_train.reshape((train_samples, train_nx, train_ny))\n",
        "    X_test = X_test.reshape((test_samples, test_nx, test_ny))\n",
        "    \n",
        "    return X_train, X_test"
      ],
      "execution_count": null,
      "outputs": []
    },
    {
      "cell_type": "markdown",
      "metadata": {
        "id": "J49KcuxkBUdg"
      },
      "source": [
        "Split the data to X_train, y_train, X_test, y_test"
      ]
    },
    {
      "cell_type": "code",
      "metadata": {
        "id": "WLM8-3-aBUdg"
      },
      "source": [
        "def preprocess_data(stock, seq_len):\n",
        "    amount_of_features = len(stock.columns)\n",
        "    data = stock.values\n",
        "    \n",
        "    sequence_length = seq_len + 1\n",
        "    result = []\n",
        "    for index in range(len(data) - sequence_length):\n",
        "        result.append(data[index : index + sequence_length])\n",
        "        \n",
        "    result = np.array(result)\n",
        "    row = round(0.9 * result.shape[0])\n",
        "    train = result[: int(row), :]\n",
        "    \n",
        "    train, result = standard_scaler(train, result)\n",
        "    \n",
        "    X_train = train[:, : -1]\n",
        "    y_train = train[:, -1][: ,-1]\n",
        "    X_test = result[int(row) :, : -1]\n",
        "    y_test = result[int(row) :, -1][ : ,-1]\n",
        "\n",
        "    X_train = np.reshape(X_train, (X_train.shape[0], X_train.shape[1], amount_of_features))\n",
        "    X_test = np.reshape(X_test, (X_test.shape[0], X_test.shape[1], amount_of_features))  \n",
        "\n",
        "    return [X_train, y_train, X_test, y_test]"
      ],
      "execution_count": null,
      "outputs": []
    },
    {
      "cell_type": "markdown",
      "metadata": {
        "id": "-Ig_EdoKBUdj"
      },
      "source": [
        "## Build the LSTM Network\n",
        "\n",
        "Here we will build a simple RNN with 2 LSTM layers.\n",
        "The architecture is:\n",
        "    \n",
        "    LSTM --> Dropout --> LSTM --> Dropout --> Fully-Conneted(Dense)"
      ]
    },
    {
      "cell_type": "code",
      "metadata": {
        "id": "r3iZMtQ1BUdk"
      },
      "source": [
        "def build_model(layers):\n",
        "    model = Sequential()\n",
        "\n",
        "    # By setting return_sequences to True we are able to stack another LSTM layer\n",
        "    model.add(LSTM(\n",
        "        input_dim=layers[0],\n",
        "        output_dim=layers[1],\n",
        "        return_sequences=True))\n",
        "    model.add(Dropout(0.4))\n",
        "\n",
        "    model.add(LSTM(\n",
        "        layers[2],\n",
        "        return_sequences=False))\n",
        "    model.add(Dropout(0.3))\n",
        "\n",
        "    model.add(Dense(\n",
        "        output_dim=layers[3]))\n",
        "    model.add(Activation(\"linear\"))\n",
        "\n",
        "    start = time.time()\n",
        "    model.compile(loss=\"mse\", optimizer=\"rmsprop\", metrics=['accuracy'])\n",
        "    print(\"Compilation Time : \", time.time() - start)\n",
        "    return model"
      ],
      "execution_count": null,
      "outputs": []
    },
    {
      "cell_type": "code",
      "metadata": {
        "id": "LBMidPNzBUdm",
        "colab": {
          "base_uri": "https://localhost:8080/",
          "height": 85
        },
        "outputId": "44fe15b0-813f-497d-d67b-eb88aae8690f"
      },
      "source": [
        "window = 20\n",
        "X_train, y_train, X_test, y_test = preprocess_data(df[:: -1], window)\n",
        "print(\"X_train\", X_train.shape)\n",
        "print(\"y_train\", y_train.shape)\n",
        "print(\"X_test\", X_test.shape)\n",
        "print(\"y_test\", y_test.shape)"
      ],
      "execution_count": null,
      "outputs": [
        {
          "output_type": "stream",
          "text": [
            "X_train (4648, 20, 6)\n",
            "y_train (4648,)\n",
            "X_test (516, 20, 6)\n",
            "y_test (516,)\n"
          ],
          "name": "stdout"
        }
      ]
    },
    {
      "cell_type": "code",
      "metadata": {
        "id": "FIIi_bzbBUdp",
        "colab": {
          "base_uri": "https://localhost:8080/",
          "height": 360
        },
        "outputId": "69d20803-cb48-4dbe-e907-c5c7358f9a9c"
      },
      "source": [
        "model = build_model([X_train.shape[2], window, 100, 1])"
      ],
      "execution_count": null,
      "outputs": [
        {
          "output_type": "stream",
          "text": [
            "WARNING:tensorflow:From /usr/local/lib/python3.6/dist-packages/keras/backend/tensorflow_backend.py:66: The name tf.get_default_graph is deprecated. Please use tf.compat.v1.get_default_graph instead.\n",
            "\n",
            "WARNING:tensorflow:From /usr/local/lib/python3.6/dist-packages/keras/backend/tensorflow_backend.py:541: The name tf.placeholder is deprecated. Please use tf.compat.v1.placeholder instead.\n",
            "\n",
            "WARNING:tensorflow:From /usr/local/lib/python3.6/dist-packages/keras/backend/tensorflow_backend.py:4432: The name tf.random_uniform is deprecated. Please use tf.random.uniform instead.\n",
            "\n"
          ],
          "name": "stdout"
        },
        {
          "output_type": "stream",
          "text": [
            "/usr/local/lib/python3.6/dist-packages/ipykernel_launcher.py:8: UserWarning: The `input_dim` and `input_length` arguments in recurrent layers are deprecated. Use `input_shape` instead.\n",
            "  \n",
            "/usr/local/lib/python3.6/dist-packages/ipykernel_launcher.py:8: UserWarning: Update your `LSTM` call to the Keras 2 API: `LSTM(return_sequences=True, input_shape=(None, 6), units=20)`\n",
            "  \n"
          ],
          "name": "stderr"
        },
        {
          "output_type": "stream",
          "text": [
            "WARNING:tensorflow:From /usr/local/lib/python3.6/dist-packages/keras/backend/tensorflow_backend.py:148: The name tf.placeholder_with_default is deprecated. Please use tf.compat.v1.placeholder_with_default instead.\n",
            "\n",
            "WARNING:tensorflow:From /usr/local/lib/python3.6/dist-packages/keras/backend/tensorflow_backend.py:3733: calling dropout (from tensorflow.python.ops.nn_ops) with keep_prob is deprecated and will be removed in a future version.\n",
            "Instructions for updating:\n",
            "Please use `rate` instead of `keep_prob`. Rate should be set to `rate = 1 - keep_prob`.\n",
            "WARNING:tensorflow:From /usr/local/lib/python3.6/dist-packages/keras/optimizers.py:793: The name tf.train.Optimizer is deprecated. Please use tf.compat.v1.train.Optimizer instead.\n",
            "\n",
            "Compilation Time :  0.034731388092041016\n"
          ],
          "name": "stdout"
        },
        {
          "output_type": "stream",
          "text": [
            "/usr/local/lib/python3.6/dist-packages/ipykernel_launcher.py:17: UserWarning: Update your `Dense` call to the Keras 2 API: `Dense(units=1)`\n"
          ],
          "name": "stderr"
        }
      ]
    },
    {
      "cell_type": "markdown",
      "metadata": {
        "id": "CDvJll2VBUdr"
      },
      "source": [
        "## Training the Network\n",
        "\n",
        "You can play with the hyperparameters here. The training process can take a significant time if you are using a average GPU or CPU(worse!)."
      ]
    },
    {
      "cell_type": "code",
      "metadata": {
        "id": "PfB-fgI_BUds",
        "colab": {
          "base_uri": "https://localhost:8080/",
          "height": 139
        },
        "outputId": "0ab47492-3824-466c-c331-f8c5bb4656cf"
      },
      "source": [
        "model.fit(\n",
        "    X_train,\n",
        "    y_train,\n",
        "    batch_size=768,\n",
        "    epochs=5,\n",
        "    validation_split=0.1,\n",
        "    verbose=0)"
      ],
      "execution_count": null,
      "outputs": [
        {
          "output_type": "stream",
          "text": [
            "WARNING:tensorflow:From /usr/local/lib/python3.6/dist-packages/tensorflow/python/ops/math_grad.py:1250: add_dispatch_support.<locals>.wrapper (from tensorflow.python.ops.array_ops) is deprecated and will be removed in a future version.\n",
            "Instructions for updating:\n",
            "Use tf.where in 2.0, which has the same broadcast rule as np.where\n",
            "WARNING:tensorflow:From /usr/local/lib/python3.6/dist-packages/keras/backend/tensorflow_backend.py:1033: The name tf.assign_add is deprecated. Please use tf.compat.v1.assign_add instead.\n",
            "\n"
          ],
          "name": "stdout"
        },
        {
          "output_type": "execute_result",
          "data": {
            "text/plain": [
              "<keras.callbacks.History at 0x7f46c2633278>"
            ]
          },
          "metadata": {
            "tags": []
          },
          "execution_count": 9
        }
      ]
    },
    {
      "cell_type": "code",
      "metadata": {
        "id": "1j73jgmmBUdv",
        "colab": {
          "base_uri": "https://localhost:8080/",
          "height": 51
        },
        "outputId": "9e3e829f-5c36-49f0-841a-e943c25d9c86"
      },
      "source": [
        "trainScore = model.evaluate(X_train, y_train, verbose=0)\n",
        "print('Train Score: %.2f MSE (%.2f RMSE)' % (trainScore[0], math.sqrt(trainScore[0])))\n",
        "\n",
        "testScore = model.evaluate(X_test, y_test, verbose=0)\n",
        "print('Test Score: %.2f MSE (%.2f RMSE)' % (testScore[0], math.sqrt(testScore[0])))"
      ],
      "execution_count": null,
      "outputs": [
        {
          "output_type": "stream",
          "text": [
            "Train Score: 0.14 MSE (0.37 RMSE)\n",
            "Test Score: 0.36 MSE (0.60 RMSE)\n"
          ],
          "name": "stdout"
        }
      ]
    },
    {
      "cell_type": "markdown",
      "metadata": {
        "id": "j-awbWzPBUdx"
      },
      "source": [
        "## Visualize the Prediction"
      ]
    },
    {
      "cell_type": "code",
      "metadata": {
        "id": "dZfWoXLJBUdy"
      },
      "source": [
        "diff = []\n",
        "ratio = []\n",
        "pred = model.predict(X_test)\n",
        "for u in range(len(y_test)):\n",
        "    pr = pred[u][0]\n",
        "    ratio.append((y_test[u] / pr) - 1)\n",
        "    diff.append(abs(y_test[u] - pr))"
      ],
      "execution_count": null,
      "outputs": []
    },
    {
      "cell_type": "code",
      "metadata": {
        "id": "mZhqCOJrBUd0"
      },
      "source": [
        "# TODO: Scale it back"
      ],
      "execution_count": null,
      "outputs": []
    },
    {
      "cell_type": "code",
      "metadata": {
        "id": "5FPS2nypBUd3",
        "colab": {
          "base_uri": "https://localhost:8080/",
          "height": 269
        },
        "outputId": "610ae2ae-62c9-45d6-c2f8-50c38f472ba0"
      },
      "source": [
        "# if using within a jupyter notebook\n",
        "%matplotlib inline \n",
        "\n",
        "import matplotlib\n",
        "import matplotlib.pyplot as plt2\n",
        "\n",
        "plt2.plot(pred, color='red', label='Prediction')\n",
        "plt2.plot(y_test, color='blue', label='Ground Truth')\n",
        "plt2.legend(loc='upper left')\n",
        "plt2.show()"
      ],
      "execution_count": null,
      "outputs": [
        {
          "output_type": "display_data",
          "data": {
            "image/png": "[encoded data removed]",
            "text/plain": [
              "<Figure size 432x288 with 1 Axes>"
            ]
          },
          "metadata": {
            "tags": []
          }
        }
      ]
    }
  ]
}