{
  "nbformat": 4,
  "nbformat_minor": 0,
  "metadata": {
    "kernelspec": {
      "display_name": "Python 3",
      "language": "python",
      "name": "python3"
    },
    "language_info": {
      "codemirror_mode": {
        "name": "ipython",
        "version": 3
      },
      "file_extension": ".py",
      "mimetype": "text/x-python",
      "name": "python",
      "nbconvert_exporter": "python",
      "pygments_lexer": "ipython3",
      "version": "3.6.6"
    },
    "colab": {
      "name": "COLAB - index.ipynb",
      "provenance": []
    }
  },
  "cells": [
    {
      "cell_type": "markdown",
      "metadata": {
        "id": "Ula4lmhOmw3r"
      },
      "source": [
        "Adapted by Carlos Toxtli http://www.carlostoxtli.com/#colab-cross-1\n",
        "\n",
        "Source: https://github.com/learn-co-students/dsc-cross-validation-nyc-ds-career-031119/blob/master/index.ipynb"
      ]
    },
    {
      "cell_type": "code",
      "metadata": {
        "id": "s05w9ros6WEf",
        "colab": {
          "base_uri": "https://localhost:8080/",
          "height": 136
        },
        "outputId": "58995dae-bf9c-49b0-b271-25d34fc1d2a6"
      },
      "source": [
        "!git clone https://github.com/learn-co-students/dsc-cross-validation-nyc-ds-career-031119.git\n",
        "%cd dsc-cross-validation-nyc-ds-career-031119"
      ],
      "execution_count": null,
      "outputs": [
        {
          "output_type": "stream",
          "text": [
            "Cloning into 'dsc-cross-validation-nyc-ds-career-031119'...\n",
            "remote: Enumerating objects: 18, done.\u001b[K\n",
            "remote: Counting objects:   5% (1/18)\u001b[K\rremote: Counting objects:  11% (2/18)\u001b[K\rremote: Counting objects:  16% (3/18)\u001b[K\rremote: Counting objects:  22% (4/18)\u001b[K\rremote: Counting objects:  27% (5/18)\u001b[K\rremote: Counting objects:  33% (6/18)\u001b[K\rremote: Counting objects:  38% (7/18)\u001b[K\rremote: Counting objects:  44% (8/18)\u001b[K\rremote: Counting objects:  50% (9/18)\u001b[K\rremote: Counting objects:  55% (10/18)\u001b[K\rremote: Counting objects:  61% (11/18)\u001b[K\rremote: Counting objects:  66% (12/18)\u001b[K\rremote: Counting objects:  72% (13/18)\u001b[K\rremote: Counting objects:  77% (14/18)\u001b[K\rremote: Counting objects:  83% (15/18)\u001b[K\rremote: Counting objects:  88% (16/18)\u001b[K\rremote: Counting objects:  94% (17/18)\u001b[K\rremote: Counting objects: 100% (18/18)\u001b[K\rremote: Counting objects: 100% (18/18), done.\u001b[K\n",
            "remote: Compressing objects:   8% (1/12)\u001b[K\rremote: Compressing objects:  16% (2/12)\u001b[K\rremote: Compressing objects:  25% (3/12)\u001b[K\rremote: Compressing objects:  33% (4/12)\u001b[K\rremote: Compressing objects:  41% (5/12)\u001b[K\rremote: Compressing objects:  50% (6/12)\u001b[K\rremote: Compressing objects:  58% (7/12)\u001b[K\rremote: Compressing objects:  66% (8/12)\u001b[K\rremote: Compressing objects:  75% (9/12)\u001b[K\rremote: Compressing objects:  83% (10/12)\u001b[K\rremote: Compressing objects:  91% (11/12)\u001b[K\rremote: Compressing objects: 100% (12/12)\u001b[K\rremote: Compressing objects: 100% (12/12), done.\u001b[K\n",
            "Unpacking objects:   2% (1/40)   \rUnpacking objects:   5% (2/40)   \rUnpacking objects:   7% (3/40)   \rUnpacking objects:  10% (4/40)   \rUnpacking objects:  12% (5/40)   \rUnpacking objects:  15% (6/40)   \rUnpacking objects:  17% (7/40)   \rUnpacking objects:  20% (8/40)   \rUnpacking objects:  22% (9/40)   \rUnpacking objects:  25% (10/40)   \rUnpacking objects:  27% (11/40)   \rUnpacking objects:  30% (12/40)   \rUnpacking objects:  32% (13/40)   \rUnpacking objects:  35% (14/40)   \rUnpacking objects:  37% (15/40)   \rUnpacking objects:  40% (16/40)   \rUnpacking objects:  42% (17/40)   \rUnpacking objects:  45% (18/40)   \rUnpacking objects:  47% (19/40)   \rUnpacking objects:  50% (20/40)   \rUnpacking objects:  52% (21/40)   \rUnpacking objects:  55% (22/40)   \rUnpacking objects:  57% (23/40)   \rUnpacking objects:  60% (24/40)   \rUnpacking objects:  62% (25/40)   \rUnpacking objects:  65% (26/40)   \rUnpacking objects:  67% (27/40)   \rUnpacking objects:  70% (28/40)   \rUnpacking objects:  72% (29/40)   \rUnpacking objects:  75% (30/40)   \rUnpacking objects:  77% (31/40)   \rUnpacking objects:  80% (32/40)   \rremote: Total 40 (delta 7), reused 16 (delta 5), pack-reused 22\u001b[K\n",
            "Unpacking objects:  82% (33/40)   \rUnpacking objects:  85% (34/40)   \rUnpacking objects:  87% (35/40)   \rUnpacking objects:  90% (36/40)   \rUnpacking objects:  92% (37/40)   \rUnpacking objects:  95% (38/40)   \rUnpacking objects:  97% (39/40)   \rUnpacking objects: 100% (40/40)   \rUnpacking objects: 100% (40/40), done.\n",
            "/content/dsc-cross-validation-nyc-ds-career-031119/dsc-cross-validation-nyc-ds-career-031119\n"
          ],
          "name": "stdout"
        }
      ]
    },
    {
      "cell_type": "markdown",
      "metadata": {
        "id": "GiRIvbN4mt5e"
      },
      "source": [
        "# Introduction to Cross-Validation"
      ]
    },
    {
      "cell_type": "markdown",
      "metadata": {
        "id": "emkjbzOFmt5l"
      },
      "source": [
        "## Introduction"
      ]
    },
    {
      "cell_type": "markdown",
      "metadata": {
        "id": "x-PzWqxfmt5m"
      },
      "source": [
        "You learned about train-test-split before, but also noticed that running the model with a different split for train and test can lead to significantly different results. This is one of the many reasons why you'll want to consider cross-validation!"
      ]
    },
    {
      "cell_type": "markdown",
      "metadata": {
        "id": "0Zgxe3G7mt5m"
      },
      "source": [
        "## The problem with train-test-split"
      ]
    },
    {
      "cell_type": "markdown",
      "metadata": {
        "id": "D1AuAc92mt5n"
      },
      "source": [
        "When using train-test-split, random samples of the data are created for the training and the test set. The problem with this is that the training and test MSE strongly depend on how the training and test sets were created. Let's see how this happens in practice using the auto-mpg data."
      ]
    },
    {
      "cell_type": "markdown",
      "metadata": {
        "id": "NrlM8XDemt5o"
      },
      "source": [
        "Let's copy our pre-processed auto-mpg data again"
      ]
    },
    {
      "cell_type": "code",
      "metadata": {
        "id": "gmg4yXITmt5p"
      },
      "source": [
        "import pandas as pd\n",
        "import numpy as np\n",
        "data = pd.read_csv(\"auto-mpg.csv\") \n",
        "data['horsepower'].astype(str).astype(int)\n",
        "\n",
        "acc = data[\"acceleration\"]\n",
        "logdisp = np.log(data[\"displacement\"])\n",
        "loghorse = np.log(data[\"horsepower\"])\n",
        "logweight= np.log(data[\"weight\"])\n",
        "\n",
        "scaled_acc = (acc-min(acc))/(max(acc)-min(acc))\t\n",
        "scaled_disp = (logdisp-np.mean(logdisp))/np.sqrt(np.var(logdisp))\n",
        "scaled_horse = (loghorse-np.mean(loghorse))/(max(loghorse)-min(loghorse))\n",
        "scaled_weight= (logweight-np.mean(logweight))/np.sqrt(np.var(logweight))\n",
        "\n",
        "data_fin = pd.DataFrame([])\n",
        "data_fin[\"acc\"]= scaled_acc\n",
        "data_fin[\"disp\"]= scaled_disp\n",
        "data_fin[\"horse\"] = scaled_horse\n",
        "data_fin[\"weight\"] = scaled_weight\n",
        "cyl_dummies = pd.get_dummies(data[\"cylinders\"], prefix=\"cyl\", drop_first=True)\n",
        "yr_dummies = pd.get_dummies(data[\"model year\"], prefix=\"yr\", drop_first=True)\n",
        "orig_dummies = pd.get_dummies(data[\"origin\"], prefix=\"orig\", drop_first=True)\n",
        "mpg = data[\"mpg\"]\n",
        "data_fin = pd.concat([mpg, data_fin, cyl_dummies, yr_dummies, orig_dummies], axis=1)"
      ],
      "execution_count": null,
      "outputs": []
    },
    {
      "cell_type": "code",
      "metadata": {
        "id": "VtuSmsqQmt5r"
      },
      "source": [
        "data = pd.concat([mpg, scaled_acc, scaled_weight, orig_dummies], axis= 1)\n",
        "y = data[[\"mpg\"]]\n",
        "X = data.drop([\"mpg\"], axis=1)"
      ],
      "execution_count": null,
      "outputs": []
    },
    {
      "cell_type": "markdown",
      "metadata": {
        "id": "aWbjSM6Ymt5t"
      },
      "source": [
        "The code below repeats a train-test-split creation 20 times, using a test_size of 0.33. So what happens is, each time a new (random) train-test-split is created. See how training and testing MSEs swing around by just taking another sample!"
      ]
    },
    {
      "cell_type": "code",
      "metadata": {
        "id": "y8hnc30smt5u",
        "colab": {
          "base_uri": "https://localhost:8080/",
          "height": 269
        },
        "outputId": "6073fe04-1436-47e8-f168-23a26f9a7121"
      },
      "source": [
        "from sklearn.model_selection import train_test_split\n",
        "from sklearn.metrics import mean_squared_error\n",
        "from sklearn.linear_model import LinearRegression\n",
        "linreg = LinearRegression()\n",
        "import matplotlib.pyplot as plt\n",
        "%matplotlib inline\n",
        "\n",
        "num = 20\n",
        "train_err = []\n",
        "test_err = []\n",
        "for i in range(num):\n",
        "    X_train, X_test, y_train, y_test = train_test_split(X, y, test_size=0.33)\n",
        "    linreg.fit(X_train, y_train)\n",
        "    y_hat_train = linreg.predict(X_train)\n",
        "    y_hat_test = linreg.predict(X_test)\n",
        "    train_err.append(mean_squared_error(y_train, y_hat_train))\n",
        "    test_err.append(mean_squared_error(y_test, y_hat_test))\n",
        "plt.scatter(list(range(num)), train_err, label='Training Error')\n",
        "plt.scatter(list(range(num)), test_err, label='Testing Error')\n",
        "plt.legend();"
      ],
      "execution_count": null,
      "outputs": [
        {
          "output_type": "display_data",
          "data": {
            "image/png": "[encoded data removed]",
            "text/plain": [
              "<Figure size 432x288 with 1 Axes>"
            ]
          },
          "metadata": {
            "tags": []
          }
        }
      ]
    },
    {
      "cell_type": "markdown",
      "metadata": {
        "id": "i4Y9jGbpmt5w"
      },
      "source": [
        "In order to deal with the issues that random sampling can introduce into interpreting the quality of our models, we'll use a more advanced technique called **K-Fold Cross Validation**."
      ]
    },
    {
      "cell_type": "markdown",
      "metadata": {
        "id": "XJPnQF9imt5x"
      },
      "source": [
        "## K-Fold Cross Validation"
      ]
    },
    {
      "cell_type": "markdown",
      "metadata": {
        "id": "_eJBDd6Omt5y"
      },
      "source": [
        "K-Fold Cross Validation expands on the idea of training and testing splits by splitting the entire dataset into {K} equal sections of data. We'll then iteratively train {K} linear regression models on the data, with each linear model using a different section of data as the testing set, and all other sections combined as the training set.\n",
        "\n",
        "We can then average the individual results frome each of these linear models to get a Cross-Validation MSE. This will be closer to the model's actual MSE, since \"noisy\" results that are higher than average will cancel out the \"noisy\" results that are lower than average."
      ]
    },
    {
      "cell_type": "markdown",
      "metadata": {
        "id": "kzczQU9smt5y"
      },
      "source": [
        "<img src='https://github.com/learn-co-students/dsc-cross-validation-nyc-ds-career-031119/blob/master/images/new_cross-val-graphic.png?raw=1' width=\"800\">"
      ]
    },
    {
      "cell_type": "markdown",
      "metadata": {
        "id": "vojJQezsmt5z"
      },
      "source": [
        "You can easily do this in scikit-learn using `cross_val_score`. If you want the mean squared error as an output, you need to specify `scoring` and pass \"neg_mean_squared_error\". Note that this negates your mean squared error, so larger means better!"
      ]
    },
    {
      "cell_type": "code",
      "metadata": {
        "id": "JIJJB0hKmt50"
      },
      "source": [
        "from sklearn.metrics import mean_squared_error\n",
        "from sklearn.model_selection import cross_val_score\n",
        "\n",
        "cv_5_results = np.mean(cross_val_score(linreg, X, y, cv=5, scoring=\"neg_mean_squared_error\"))\n",
        "cv_10_results = np.mean(cross_val_score(linreg, X, y, cv=10, scoring=\"neg_mean_squared_error\"))\n",
        "cv_20_results = np.mean(cross_val_score(linreg, X, y, cv=20, scoring=\"neg_mean_squared_error\"))"
      ],
      "execution_count": null,
      "outputs": []
    },
    {
      "cell_type": "markdown",
      "metadata": {
        "id": "2IuGI3ulmt52"
      },
      "source": [
        "There are many ways to perform Cross-validations, and we strongly recommend you have a look at the [Cross-validation documentation in Scikit-Learn](http://scikit-learn.org/stable/modules/cross_validation.html)"
      ]
    },
    {
      "cell_type": "markdown",
      "metadata": {
        "id": "1TpjsqfAmt52"
      },
      "source": [
        "## Summary \n",
        "\n",
        "Great! Now let's put this into practice on our Boston Housing Data!"
      ]
    }
  ]
}