{
  "nbformat": 4,
  "nbformat_minor": 0,
  "metadata": {
    "colab": {
      "name": "COLAB - MDPII.ipynb",
      "provenance": [],
      "collapsed_sections": []
    },
    "kernelspec": {
      "display_name": "Python 3",
      "language": "python",
      "name": "python3"
    },
    "language_info": {
      "codemirror_mode": {
        "name": "ipython",
        "version": 3
      },
      "file_extension": ".py",
      "mimetype": "text/x-python",
      "name": "python",
      "nbconvert_exporter": "python",
      "pygments_lexer": "ipython3",
      "version": "3.7.2"
    }
  },
  "cells": [
    {
      "cell_type": "markdown",
      "metadata": {
        "id": "csQBiKTahLlX"
      },
      "source": [
        "Adapted by Carlos Toxtli http://www.carlostoxtli.com/#colab-reinf-1\n",
        "\n",
        "Source: https://github.com/PacktPublishing/Artificial-Intelligence-By-Example-Second-Edition/blob/master/CH01/MDP02.ipynb"
      ]
    },
    {
      "cell_type": "markdown",
      "metadata": {
        "id": "HraR3RUThMww"
      },
      "source": [
        "# The Bellman Equation, Q-Learning,  based on the Markov Decision Process(MDP) "
      ]
    },
    {
      "cell_type": "markdown",
      "metadata": {
        "id": "jkulAKbyicZ9"
      },
      "source": [
        "![alt text](https://www.carlostoxtli.com/files/map2.png)"
      ]
    },
    {
      "cell_type": "markdown",
      "metadata": {
        "id": "ML80d0e7ifNE"
      },
      "source": [
        "![alt text](https://www.carlostoxtli.com/files/map1.png)"
      ]
    },
    {
      "cell_type": "markdown",
      "metadata": {
        "id": "QYQ6UxAuhhVh"
      },
      "source": [
        "## The Reward Matrix"
      ]
    },
    {
      "cell_type": "code",
      "metadata": {
        "id": "_uTqqXAChK-z"
      },
      "source": [
        "# Markov Decision Process (MDP) - The Bellman equations adapted to\n",
        "# Q Learning.Reinforcement Learning with the Q action-value(reward) function.\n",
        "# Copyright 2019 Denis Rothman MIT License. See LICENSE.\n",
        "import numpy as ql\n",
        "# R is The Reward Matrix for each state\n",
        "R = ql.matrix([ [0,0,0,0,1,0],\n",
        "\t\t            [0,0,0,1,0,1],\n",
        "\t\t            [0,0,100,1,0,0],\n",
        "\t             \t[0,1,1,0,1,0],\n",
        "\t\t            [1,0,0,1,0,0],\n",
        "\t\t            [0,1,0,0,0,0] ])\n",
        "\n",
        "# Q is the Learning Matrix in which rewards will be learned/stored\n",
        "Q = ql.matrix(ql.zeros([6,6]))"
      ],
      "execution_count": null,
      "outputs": []
    },
    {
      "cell_type": "markdown",
      "metadata": {
        "id": "UvdGSy26hr8p"
      },
      "source": [
        "##  The Learning rate or training penalty"
      ]
    },
    {
      "cell_type": "code",
      "metadata": {
        "id": "DjM41MSZh4gB"
      },
      "source": [
        "# Gamma : It's a form of penalty or uncertainty for learning\n",
        "# If the value is 1 , the rewards would be too high.\n",
        "# This way the system knows it is learning.\n",
        "gamma = 0.8"
      ],
      "execution_count": null,
      "outputs": []
    },
    {
      "cell_type": "markdown",
      "metadata": {
        "id": "JE_o-xsJiL4g"
      },
      "source": [
        "## Initial State"
      ]
    },
    {
      "cell_type": "code",
      "metadata": {
        "id": "KefpjG8DiKdR"
      },
      "source": [
        "# agent_s_state. The agent the name of the system calculating\n",
        "# s is the state the agent is going from and s' the state it's going to\n",
        "# this state can be random or it can be chosen as long as the rest of the choices\n",
        "# are not determined. Randomness is part of this stochastic process\n",
        "agent_s_state = 5"
      ],
      "execution_count": null,
      "outputs": []
    },
    {
      "cell_type": "markdown",
      "metadata": {
        "id": "stMsPTIfiUKZ"
      },
      "source": [
        "## The random choice of the next state"
      ]
    },
    {
      "cell_type": "code",
      "metadata": {
        "id": "FzXY43JZieZA"
      },
      "source": [
        "# The possible \"a\" actions when the agent is in a given state\n",
        "def possible_actions(state):\n",
        "    current_state_row = R[state,]\n",
        "    possible_act = ql.where(current_state_row >0)[1]\n",
        "    return possible_act\n",
        "\n",
        "# Get available actions in the current state\n",
        "PossibleAction = possible_actions(agent_s_state)\n",
        "\n",
        "# This function chooses at random which action to be performed within the range \n",
        "# of all the available actions.\n",
        "def ActionChoice(available_actions_range):\n",
        "    if(sum(PossibleAction)>0):\n",
        "        next_action = int(ql.random.choice(PossibleAction,1))\n",
        "    if(sum(PossibleAction)<=0):\n",
        "        next_action = int(ql.random.choice(5,1))\n",
        "    return next_action\n",
        "\n",
        "# Sample next action to be performed\n",
        "action = ActionChoice(PossibleAction)"
      ],
      "execution_count": null,
      "outputs": []
    },
    {
      "cell_type": "markdown",
      "metadata": {
        "id": "0wvY6Yh5ikcI"
      },
      "source": [
        "## The Bellman Equation"
      ]
    },
    {
      "cell_type": "code",
      "metadata": {
        "id": "XR1k5KQQivXA"
      },
      "source": [
        "# A version of the Bellman equation for reinforcement learning using the Q function\n",
        "# This reinforcement algorithm is a memoryless process\n",
        "# The transition function T from one state to another\n",
        "# is not in the equation below.  T is done by the random choice above\n",
        "\n",
        "def reward(current_state, action, gamma):\n",
        "    Max_State = ql.where(Q[action,] == ql.max(Q[action,]))[1]\n",
        "\n",
        "    if Max_State.shape[0] > 1:\n",
        "        Max_State = int(ql.random.choice(Max_State, size = 1))\n",
        "    else:\n",
        "        Max_State = int(Max_State)\n",
        "    MaxValue = Q[action, Max_State]\n",
        "    \n",
        "    # The Bellman MDP based Q function\n",
        "    Q[current_state, action] = R[current_state, action] + gamma * MaxValue\n",
        "\n",
        "# Rewarding Q matrix\n",
        "reward(agent_s_state,action,gamma)"
      ],
      "execution_count": null,
      "outputs": []
    },
    {
      "cell_type": "markdown",
      "metadata": {
        "id": "zafEE-asi0k4"
      },
      "source": [
        "## Running the training episodes randomly"
      ]
    },
    {
      "cell_type": "code",
      "metadata": {
        "id": "_e0SAAo_i9Jw",
        "colab": {
          "base_uri": "https://localhost:8080/",
          "height": 259
        },
        "outputId": "d44e8552-1854-4db2-832e-a97f85a2c52e"
      },
      "source": [
        "# Learning over n iterations depending on the convergence of the system\n",
        "# A convergence function can replace the systematic repeating of the process\n",
        "# by comparing the sum of the Q matrix to that of Q matrix n-1 in the\n",
        "# previous episode\n",
        "for i in range(50000):\n",
        "    current_state = ql.random.randint(0, int(Q.shape[0]))\n",
        "    PossibleAction = possible_actions(current_state)\n",
        "    action = ActionChoice(PossibleAction)\n",
        "    reward(current_state,action,gamma)\n",
        "    \n",
        "# Displaying Q before the norm of Q phase\n",
        "print(\"Q  :\")\n",
        "print(Q)\n",
        "\n",
        "# Norm of Q\n",
        "print(\"Normed Q :\")\n",
        "print(Q/ql.max(Q)*100)"
      ],
      "execution_count": null,
      "outputs": [
        {
          "output_type": "stream",
          "text": [
            "Q  :\n",
            "[[  0.      0.      0.      0.    258.44    0.   ]\n",
            " [  0.      0.      0.    321.8     0.    207.752]\n",
            " [  0.      0.    500.    321.8     0.      0.   ]\n",
            " [  0.    258.44  401.      0.    258.44    0.   ]\n",
            " [207.752   0.      0.    321.8     0.      0.   ]\n",
            " [  0.    258.44    0.      0.      0.      0.   ]]\n",
            "Normed Q :\n",
            "[[  0.       0.       0.       0.      51.688    0.    ]\n",
            " [  0.       0.       0.      64.36     0.      41.5504]\n",
            " [  0.       0.     100.      64.36     0.       0.    ]\n",
            " [  0.      51.688   80.2      0.      51.688    0.    ]\n",
            " [ 41.5504   0.       0.      64.36     0.       0.    ]\n",
            " [  0.      51.688    0.       0.       0.       0.    ]]\n"
          ],
          "name": "stdout"
        }
      ]
    },
    {
      "cell_type": "markdown",
      "metadata": {
        "id": "XLFxoRFJjAvY"
      },
      "source": [
        "# Improving the program by introducing a decision-making process"
      ]
    },
    {
      "cell_type": "code",
      "metadata": {
        "id": "_ErR5LjAge-K",
        "colab": {
          "base_uri": "https://localhost:8080/",
          "height": 121
        },
        "outputId": "c342a53d-7cde-4315-8a2a-84c1feffa6a4"
      },
      "source": [
        "nextc=-1\n",
        "nextci=-1\n",
        "conceptcode=[\"A\",\"B\",\"C\",\"D\",\"E\",\"F\"]\n",
        "\n",
        "origin=int(input(\"index number origin(A=0,B=1,C=2,D=3,E=4,F=5): \"))\n",
        "print(\"Concept Path\")\n",
        "print(\"->\",conceptcode[int(origin)])\n",
        "for se in range(0,6):\n",
        "    if(se==0):\n",
        "        po=origin\n",
        "    if(se>0):\n",
        "        po=nextci\n",
        "        #print(\"se:\",se,\"po:\",po)\n",
        "    for ci in range(0,6):\n",
        "        maxc=Q[po,ci]\n",
        "        #print(maxc,nextc)\n",
        "        if(maxc>=nextc):\n",
        "            nextc=maxc\n",
        "            nextci=ci\n",
        "            #print(\"next c\",nextc)\n",
        "    if(nextci==po):\n",
        "        break;\n",
        "    #print(\"present origin\",po,\"next c\",nextci,\" \",nextc,\" \",conceptcode[int(nextci)])\n",
        "    print(\"->\",conceptcode[int(nextci)])\n",
        "        \n",
        "        \n",
        "\n"
      ],
      "execution_count": null,
      "outputs": [
        {
          "output_type": "stream",
          "text": [
            "index number origin(A=0,B=1,C=2,D=3,E=4,F=5): 0\n",
            "Concept Path\n",
            "-> A\n",
            "-> E\n",
            "-> D\n",
            "-> C\n"
          ],
          "name": "stdout"
        }
      ]
    }
  ]
}